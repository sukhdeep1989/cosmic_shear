{
 "cells": [
  {
   "cell_type": "code",
   "execution_count": 1,
   "metadata": {},
   "outputs": [],
   "source": [
    "import cov_3X2\n",
    "import lsst_utils\n",
    "from cov_3X2 import *\n",
    "from lsst_utils import *\n",
    "from scipy.stats import norm,mode,skew,kurtosis,percentileofscore\n",
    "import seaborn as sns\n",
    "colors=sns.color_palette()\n",
    "import importlib\n",
    "import matplotlib.pyplot as plt\n",
    "import window_utils\n",
    "importlib.reload(window_utils)\n",
    "from window_utils import *\n",
    "import tracer_utils\n",
    "from tracer_utils import *\n",
    "import treecorr\n",
    "from wigner_transform import *\n",
    "\n",
    "import logging\n",
    "logger = logging.getLogger()\n",
    "logger.setLevel(logging.WARNING)\n",
    "\n",
    "%matplotlib inline\n",
    "%config InlineBackend.figure_formats = ['svg']"
   ]
  },
  {
   "cell_type": "code",
   "execution_count": 2,
   "metadata": {},
   "outputs": [
    {
     "name": "stderr",
     "output_type": "stream",
     "text": [
      "/home/chienhal/anaconda3/lib/python3.6/site-packages/distributed/dashboard/core.py:74: UserWarning: \n",
      "Port 8787 is already in use. \n",
      "Perhaps you already have a cluster running?\n",
      "Hosting the diagnostics dashboard on a random port instead.\n",
      "  warnings.warn(\"\\n\" + msg)\n"
     ]
    }
   ],
   "source": [
    "from distributed import LocalCluster\n",
    "from dask.distributed import Client  # we already had this above\n",
    "#http://distributed.readthedocs.io/en/latest/_modules/distributed/worker.html\n",
    "LC=LocalCluster(n_workers=4,processes=False,memory_limit='100gb',threads_per_worker=1,\n",
    "                local_dir='/home/chienhal/jh/tmp/NGL-worker',\n",
    "               )#memory_spill_fraction=.99,\n",
    "#                memory_monitor_interval='2000ms')\n",
    "client=Client(LC,diagnostics_port=8787)"
   ]
  },
  {
   "cell_type": "code",
   "execution_count": 3,
   "metadata": {},
   "outputs": [
    {
     "data": {
      "text/html": [
       "<table style=\"border: 2px solid white;\">\n",
       "<tr>\n",
       "<td style=\"vertical-align: top; border: 0px solid white\">\n",
       "<h3>Client</h3>\n",
       "<ul>\n",
       "  <li><b>Scheduler: </b>inproc://10.1.2.211/122665/1\n",
       "  <li><b>Dashboard: </b><a href='http://localhost:40621/status' target='_blank'>http://localhost:40621/status</a>\n",
       "</ul>\n",
       "</td>\n",
       "<td style=\"vertical-align: top; border: 0px solid white\">\n",
       "<h3>Cluster</h3>\n",
       "<ul>\n",
       "  <li><b>Workers: </b>4</li>\n",
       "  <li><b>Cores: </b>4</li>\n",
       "  <li><b>Memory: </b>209.72 GB</li>\n",
       "</ul>\n",
       "</td>\n",
       "</tr>\n",
       "</table>"
      ],
      "text/plain": [
       "<Client: scheduler='inproc://10.1.2.211/122665/1' processes=4 cores=4>"
      ]
     },
     "execution_count": 3,
     "metadata": {},
     "output_type": "execute_result"
    }
   ],
   "source": [
    "client"
   ]
  },
  {
   "cell_type": "code",
   "execution_count": 4,
   "metadata": {},
   "outputs": [],
   "source": [
    "#setup parameters\n",
    "lmax_cl=1000\n",
    "lmin_cl=0\n",
    "l0=np.arange(lmin_cl,lmax_cl)\n",
    "lmin_cl_Bins=lmin_cl+10\n",
    "lmax_cl_Bins=lmax_cl-10\n",
    "Nl_bins=40\n",
    "l_bins=np.int64(np.logspace(np.log10(lmin_cl_Bins),np.log10(lmax_cl_Bins),Nl_bins))\n",
    "# l_bins=np.int64(np.linspace(lmin_cl_Bins,lmax_cl_Bins,Nl_bins))\n",
    "lb=(l_bins[1:]+l_bins[:-1])*.5  ##bin centers\n",
    "l=l0 #np.unique(np.int64(np.logspace(np.log10(lmin_cl),np.log10(lmax_cl),Nl_bins*20))) #if we want to use fewer ell\n",
    "\n",
    "do_cov=False\n",
    "bin_cl=True\n",
    "SSV_cov=True\n",
    "tidal_SSV_cov=False\n",
    "do_xi=False\n",
    "\n",
    "use_window=True\n",
    "store_win=True\n",
    "f_sky=0.3\n",
    "n_source_bins=1 ## 1 z-bins\n",
    "sigma_gamma=0.3944/np.sqrt(2.)  #*2**0.25\n",
    "nside=1024\n",
    "\n",
    "corr_ggl=('galaxy','kappa')\n",
    "corr_gg=('galaxy','galaxy')\n",
    "corr_kk=('kappa','kappa') #or kappa \n",
    "corrs = [corr_kk, corr_ggl, corr_gg]"
   ]
  },
  {
   "cell_type": "code",
   "execution_count": 5,
   "metadata": {
    "scrolled": false
   },
   "outputs": [
    {
     "name": "stdout",
     "output_type": "stream",
     "text": [
      "ns0:  27.0\n"
     ]
    },
    {
     "name": "stderr",
     "output_type": "stream",
     "text": [
      "./cov_utils.py:60: RuntimeWarning: invalid value encountered in true_divide\n",
      "  Win0=2*jn(1,l_th)/l_th\n",
      "./angular_power_spectra.py:23: RuntimeWarning: divide by zero encountered in true_divide\n",
      "  self.cl_f=(l+0.5)**2/(l*(l+1.)) # cl correction from Kilbinger+ 2017\n",
      "/home/chienhal/anaconda3/lib/python3.6/site-packages/astropy/units/quantity.py:466: RuntimeWarning: divide by zero encountered in true_divide\n",
      "  result = super().__array_ufunc__(function, method, *arrays, **kwargs)\n"
     ]
    },
    {
     "name": "stdout",
     "output_type": "stream",
     "text": [
      "cl dict done\n",
      "ns0:  27.0\n",
      "cl dict done\n"
     ]
    }
   ],
   "source": [
    "zl_bin=lsst_source_tomo_bins(ns=10,use_window=use_window,nbins=n_source_bins,\n",
    "                         f_sky=f_sky,nside=nside,unit_win=True)\n",
    "\n",
    "zs_bin=lsst_source_tomo_bins(ns=30,use_window=use_window,\n",
    "                              f_sky=f_sky,nbins=n_source_bins,nside=nside,unit_win=True)\n"
   ]
  },
  {
   "cell_type": "code",
   "execution_count": 6,
   "metadata": {},
   "outputs": [
    {
     "data": {
      "text/plain": [
       "dict_keys(['z', 'dz', 'nz', 'ns', 'W', 'pz', 'pzdz', 'Norm', 'b1', 'AI', 'AI_z', 'mag_fact', 'lm', 'Gkernel', 'Gkernel_int', 'gkernel', 'gkernel_int', 'kernel_int', 'window', 'window_alm', 'window_cl'])"
      ]
     },
     "execution_count": 6,
     "metadata": {},
     "output_type": "execute_result"
    }
   ],
   "source": [
    "# zs_bin[0].SN['shear']\n",
    "zs_bin[0].keys()"
   ]
  },
  {
   "cell_type": "code",
   "execution_count": 7,
   "metadata": {},
   "outputs": [
    {
     "name": "stderr",
     "output_type": "stream",
     "text": [
      "./wigner_functions.py:38: RuntimeWarning: invalid value encountered in true_divide\n",
      "  d_mat/=np.sqrt(binom(k+b,b))\n",
      "./wigner_functions.py:38: RuntimeWarning: divide by zero encountered in true_divide\n",
      "  d_mat/=np.sqrt(binom(k+b,b))\n",
      "./wigner_functions.py:38: RuntimeWarning: divide by zero encountered in true_divide\n",
      "  d_mat/=np.sqrt(binom(k+b,b))\n"
     ]
    },
    {
     "name": "stdout",
     "output_type": "stream",
     "text": [
      "CPU times: user 2.13 s, sys: 1.16 s, total: 3.29 s\n",
      "Wall time: 41.8 s\n"
     ]
    }
   ],
   "source": [
    "th_min=1./60\n",
    "th_max=600./60\n",
    "n_th_bins=20\n",
    "th_bins=np.logspace(np.log10(th_min),np.log10(th_max),n_th_bins+1)\n",
    "th=np.logspace(np.log10(th_min*0.98),np.log10(1),n_th_bins*30)\n",
    "th2=np.linspace(1,th_max*1.02,n_th_bins*30)\n",
    "th=np.unique(np.sort(np.append(th,th2)))\n",
    "thb=np.sqrt(th_bins[1:]*th_bins[:-1])\n",
    "\n",
    "l0_win=np.arange(lmax_cl)\n",
    "WT_L_kwargs={'l': l0_win,'theta': th*d2r,'m1_m2':[(2,2),(2,-2),(0,2),(2,0),(0,0)]}\n",
    "%time WT_L=wigner_transform(**WT_L_kwargs)\n",
    "\n",
    "bin_xi=True"
   ]
  },
  {
   "cell_type": "code",
   "execution_count": null,
   "metadata": {},
   "outputs": [],
   "source": [
    "## \n",
    "# wigner_files = {0: '/home/chienhal/jh/sklens_wig3j/skylens_wig3j/dask_wig3j_l5000_w500_0_asym50.zarr',\n",
    "#                 2: '/home/chienhal/jh/sklens_wig3j/skylens_wig3j/dask_wig3j_l5000_w500_2_asym50.zarr'}\n",
    "kappa_win=cov_3X2(zk_bins=zs_bin,do_cov=do_cov,bin_cl=bin_cl,l_bins=l_bins,l=l0, zg_bins=zl_bin,\n",
    "            use_window=True,store_win=store_win,window_lmax=400,corrs=corrs,\n",
    "            SSV_cov=SSV_cov,tidal_SSV_cov=tidal_SSV_cov,f_sky=f_sky,\n",
    "            HT=WT_L,bin_xi=bin_xi,theta_bins=th_bins,do_xi=do_xi)"
   ]
  },
  {
   "cell_type": "code",
   "execution_count": null,
   "metadata": {},
   "outputs": [],
   "source": [
    "# %time clG_win=kappa_win.cl_tomo(corrs=corrs) \n",
    "# %time cl0_win=clG_win['stack'].compute() #stack?\n",
    "\n",
    "# if do_xi:\n",
    "#     %time xiWG_L=kappa_win.xi_tomo()\n",
    "#     %time xiW_L=xiWG_L['stack'].compute()"
   ]
  },
  {
   "cell_type": "code",
   "execution_count": null,
   "metadata": {},
   "outputs": [],
   "source": [
    "# clG0=kappa_win.cl_tomo() \n",
    "# cl0 = (clG0['cl'][corr_kk][(0,0)].compute(), clG0['cl'][corr_kk][(0,1)].compute(), clG0['cl'][corr_kk][(1,1)].compute())\n",
    "\n",
    "# np.random.seed(12345)\n",
    "# cl_map = hp.synfast(cl0,nside=nside,new=False,pol=False)"
   ]
  },
  {
   "cell_type": "code",
   "execution_count": null,
   "metadata": {},
   "outputs": [],
   "source": [
    "clG0=kappa_win.cl_tomo() \n",
    "cl0 = (clG0['cl'][corr_kk][(0,0)].compute(), clG0['cl'][corr_ggl][(0,0)].compute(), clG0['cl'][corr_gg][(0,0)].compute())"
   ]
  },
  {
   "cell_type": "code",
   "execution_count": 19,
   "metadata": {
    "scrolled": true
   },
   "outputs": [
    {
     "data": {
      "text/plain": [
       "(1000,)"
      ]
     },
     "execution_count": 19,
     "metadata": {},
     "output_type": "execute_result"
    }
   ],
   "source": [
    "# kappa_win\n",
    "# print(kappa_win.z_bins.keys())\n",
    "# kappa_win.z_bins['kappa'][1]['window']\n",
    "# kappa_win.Win.Win['cl']\n",
    "# kappa_win.l\n",
    "cl0[0].shape"
   ]
  },
  {
   "cell_type": "code",
   "execution_count": null,
   "metadata": {
    "scrolled": false
   },
   "outputs": [],
   "source": [
    "def kappa_map_gen(kappa, nside=nside):\n",
    "    l = kappa.l\n",
    "    l_bins = kappa.l_bins\n",
    "    nu=2.*l+1.\n",
    "    windows = {}\n",
    "    masks = {}\n",
    "    seen_indices = {}\n",
    "    windows_one_indices = {}\n",
    "\n",
    "    windows[0] = kappa.z_bins['kappa'][0]['window']\n",
    "    masks[0] = windows[0]==hp.UNSEEN\n",
    "    seen_indices[0] = np.where( windows[0]!=hp.UNSEEN )[0]\n",
    "    windows_one_indices[0] = np.where( windows[0]==1.0 )[0]\n",
    "    \n",
    "    windows[1] = kappa.z_bins['galaxy'][0]['window']\n",
    "    masks[1] = windows[1]==hp.UNSEEN\n",
    "    seen_indices[1] = np.where( windows[1]!=hp.UNSEEN )[0]\n",
    "    windows_one_indices[1] = np.where( windows[0]==1.0 )[0]\n",
    "        \n",
    "    \n",
    "    cl_map = hp.synfast(cl0,nside=nside,new=False,pol=False)\n",
    "    \n",
    "    for i in range(2):\n",
    "        cl_map[i]*=windows[i]\n",
    "        cl_map[i][masks[i]] = hp.UNSEEN\n",
    "    \n",
    "    \n",
    "    clp=hp.anafast(cl_map[0], lmax=max(l))\n",
    "    \n",
    "#     plt.plot(l, clp, '--', label='pseudo Cl from map')\n",
    "#     plt.plot(lb, cl0_p[0], label='cl0_p')\n",
    "#     plt.plot(l, cl0[0], label='cl0')\n",
    "#     plt.loglog()\n",
    "#     plt.legend()\n",
    "#     plt.show()\n",
    "    \n",
    "    \n",
    "#     hp.mollview(cl_map[0], title='kappa map (0th bin)')\n",
    "#     plt.show()\n",
    "\n",
    "    \n",
    "    cl_sn = kappa_win.SN[corr_kk]\n",
    "#     kappa_alm = hp.synalm(cl0,new=False) ## generate correlated kappa alm's\n",
    "    kappa_alm = hp.map2alm(cl_map,pol=False, lmax=max(l)) ## generate correlated kappa alm's, with window/mask\n",
    "    \n",
    "#     for i in range(n_source_bins):\n",
    "#         kappa_alm[i] += hp.synalm(cl_sn[:,i,i]) ## add the noise map\n",
    "        \n",
    "        \n",
    "    trans_factor = [-np.sqrt( (li+2)*(li-1)/(li*(li+1))) for li in l   ] \n",
    "    trans_factor[0] = 0.\n",
    "    trans_factor[1] = 0.\n",
    "    \n",
    "    gamma_alm = []\n",
    "    for i in range(n_source_bins):\n",
    "        gamma_alm.append(hp.sphtfunc.almxfl(kappa_alm[i], trans_factor))\n",
    "    \n",
    "    corr_config = {'min_sep':3., 'max_sep':600, 'nbins':10, 'sep_units':'arcmin'}\n",
    "    \n",
    "    k_map, g1_map, g2_map = hp.sphtfunc.alm2map( (kappa_alm[0],gamma_alm[0],kappa_alm[0]*0 ), nside=nside,pol=True  )\n",
    "    g1_map[masks[0]] = hp.UNSEEN\n",
    "    g2_map[masks[0]] = hp.UNSEEN\n",
    "    \n",
    "#     hp.mollview(g1_map, title='gamma 1 map (0th bin)')\n",
    "#     plt.show()\n",
    "\n",
    "#     hp.mollview(g2_map, title='gamma 2 map (0th bin)')\n",
    "#     plt.show()\n",
    "    \n",
    "    \n",
    "    ###################################\n",
    "    ##   GG correlation\n",
    "    ###################################\n",
    "    theta, phi = hp.pix2ang(nside, seen_indices[0])\n",
    "    ra = np.degrees(np.pi*2.-phi)\n",
    "    dec = -np.degrees(theta-np.pi/2.)\n",
    "    g1 = g1_map[seen_indices[0]]\n",
    "    g2 = g2_map[seen_indices[0]]\n",
    "    \n",
    "    cat = treecorr.Catalog(ra=ra, dec=dec, g1=g1, g2=g2, ra_units='deg', dec_units='deg')\n",
    "    gg = treecorr.GGCorrelation(**corr_config)\n",
    "    gg.process(cat)\n",
    "    \n",
    "    \n",
    "    ####################################\n",
    "    ##  NN correlation (unit windows)\n",
    "    ####################################\n",
    "    theta_w, phi_w = hp.pix2ang(nside, windows_one_indices[0])\n",
    "    ra_w = np.degrees(np.pi*2.-phi_w)\n",
    "    dec_w = -np.degrees(theta_w-np.pi/2.)\n",
    "    cat_win = treecorr.Catalog(ra=ra_w, dec=dec_w, ra_units='deg', dec_units='deg')\n",
    "    cat_random = treecorr.Catalog(ra=ra, dec=dec, ra_units='deg', dec_units='deg')\n",
    "\n",
    "    dd = treecorr.NNCorrelation(**corr_config)\n",
    "    rr = treecorr.NNCorrelation(**corr_config)\n",
    "    dr = treecorr.NNCorrelation(**corr_config)\n",
    "    \n",
    "    dd.process(cat_win)\n",
    "    rr.process(cat_random)\n",
    "    dr.process(cat_win, cat_random)\n",
    "    \n",
    "    xi,varxi = dd.calculateXi(rr,dr)\n",
    "    \n",
    "    \n",
    "    #######################################\n",
    "    ##  KK correlation\n",
    "    #######################################\n",
    "    k = cl_map[0][seen_indices[0]]\n",
    "    cat_kk = cat = treecorr.Catalog(ra=ra, dec=dec, k=k, ra_units='deg', dec_units='deg')\n",
    "    kk = treecorr.KKCorrelation(**corr_config)\n",
    "    kk.process(cat_kk)\n",
    "    \n",
    "    \n",
    "    return (gg.rnom, gg.xip, gg.xim), (dd.rnom, xi), (kk.rnom, kk.xi), clp\n",
    "    \n",
    "    \n",
    "\n",
    "\n",
    "res = kappa_map_gen(kappa_win, nside=nside)"
   ]
  },
  {
   "cell_type": "code",
   "execution_count": null,
   "metadata": {},
   "outputs": [],
   "source": [
    "print(res)\n",
    "gg_res = res[0]\n",
    "nn_res = res[1]\n",
    "kk_res = res[2]\n",
    "\n",
    "print(kappa_win.z_bins['kappa'][0]['window'])"
   ]
  },
  {
   "cell_type": "code",
   "execution_count": null,
   "metadata": {},
   "outputs": [],
   "source": [
    "clp = res[3]"
   ]
  },
  {
   "cell_type": "code",
   "execution_count": null,
   "metadata": {
    "scrolled": false
   },
   "outputs": [],
   "source": [
    "th, w = WT_L.projected_correlation(l_cl=l, cl=cl0[0], m1_m2=(2,2))\n",
    "th, wm = WT_L.projected_correlation(l_cl=l, cl=cl0[0], m1_m2=(2,-2))\n",
    "\n",
    "\n",
    "\n",
    "th_p, w_p =  WT_L.projected_correlation(l_cl=lb, cl=cl0_p[0], m1_m2=(2,2))\n",
    "th_p, w_p_sim = WT_L.projected_correlation(l_cl=l, cl=clp, m1_m2=(2,2))\n",
    "\n",
    "plt.plot(th/d2r*60, w, label='cl')\n",
    "plt.plot(th_p/d2r*60, w_p, label='cl_p')\n",
    "plt.yscale('log')\n",
    "plt.xscale('log')\n",
    "plt.legend()\n",
    "plt.xlabel('arcmin')\n",
    "plt.ylabel('xi+')\n",
    "plt.show()"
   ]
  },
  {
   "cell_type": "code",
   "execution_count": null,
   "metadata": {
    "scrolled": false
   },
   "outputs": [],
   "source": [
    "print(\"Healpix resolution with nside={} :  {} arcmin\".format(nside, hp.nside2resol(nside, arcmin = True)))\n",
    "\n",
    "plt.plot(gg_res[0], gg_res[1], label='sim')\n",
    "plt.plot(th/d2r*60., w, '-', label='wigner (cl)')\n",
    "plt.plot(th_p/d2r*60., w_p_sim/w_win, '-', label='wigner (cl_p)')\n",
    "\n",
    "plt.title('xi+ (0,0)')\n",
    "plt.xlabel('arcmin')\n",
    "plt.xscale('log')\n",
    "plt.yscale('log')\n",
    "plt.legend()\n",
    "plt.show()\n",
    "\n",
    "plt.plot(gg_res[0], gg_res[2])\n",
    "plt.plot(th/d2r*60., wm, '-', label='wigner (cl)')\n",
    "plt.title('xi- (0,0)')\n",
    "plt.xlabel('arcmin')\n",
    "plt.xscale('log')\n",
    "plt.yscale('log')\n",
    "plt.show()\n",
    "\n",
    "plt.plot(kk_res[0], kk_res[1])\n",
    "plt.title('<KK> (0,0)')\n",
    "plt.xlabel('arcmin')\n",
    "plt.xscale('log')\n",
    "plt.yscale('log')\n",
    "plt.show()\n",
    "\n",
    "plt.plot(nn_res[0],nn_res[1])\n",
    "plt.title('xi of window : (DD-2DR+RR)/RR')\n",
    "plt.xlabel('arcmin')\n",
    "plt.xscale('log')\n",
    "plt.show()"
   ]
  },
  {
   "cell_type": "code",
   "execution_count": null,
   "metadata": {},
   "outputs": [],
   "source": [
    "cl_win = hp.anafast(kappa_win.z_bins['kappa'][0]['window'], lmax=max(l))\n",
    "th, w_win = WT_L.projected_correlation(l_cl=l, cl=cl_win,  m1_m2=(0,0))\n",
    "\n",
    "plt.plot(th, w_win)\n",
    "plt.loglog()\n",
    "plt.show()"
   ]
  },
  {
   "cell_type": "code",
   "execution_count": null,
   "metadata": {},
   "outputs": [],
   "source": [
    "n_sims = 100\n",
    "\n",
    "results = [kappa_map_gen(kappa_win, nside=nside) for i in range(n_sims)]"
   ]
  },
  {
   "cell_type": "code",
   "execution_count": null,
   "metadata": {},
   "outputs": [],
   "source": [
    "xip_samples = np.zeros( (10, n_sims) )\n",
    "for i in range(n_sims):\n",
    "    xip_samples[:,i] = results[i][0][1]\n",
    "    \n",
    "xip_cov = np.cov(xip_samples)\n",
    "\n",
    "sep = results[0][0][0]\n",
    "plt.plot(sep, np.diag(xip_cov))\n",
    "plt.title('Cov of xip')\n",
    "plt.xlabel('arcmin')\n",
    "plt.xscale('log')\n",
    "plt.yscale('log')\n",
    "plt.show()"
   ]
  }
 ],
 "metadata": {
  "kernelspec": {
   "display_name": "Python 3",
   "language": "python",
   "name": "python3"
  },
  "language_info": {
   "codemirror_mode": {
    "name": "ipython",
    "version": 3
   },
   "file_extension": ".py",
   "mimetype": "text/x-python",
   "name": "python",
   "nbconvert_exporter": "python",
   "pygments_lexer": "ipython3",
   "version": "3.6.8"
  },
  "toc": {
   "base_numbering": 1,
   "nav_menu": {},
   "number_sections": true,
   "sideBar": true,
   "skip_h1_title": false,
   "title_cell": "Table of Contents",
   "title_sidebar": "Contents",
   "toc_cell": false,
   "toc_position": {},
   "toc_section_display": true,
   "toc_window_display": false
  },
  "varInspector": {
   "cols": {
    "lenName": 16,
    "lenType": 16,
    "lenVar": 40
   },
   "kernels_config": {
    "python": {
     "delete_cmd_postfix": "",
     "delete_cmd_prefix": "del ",
     "library": "var_list.py",
     "varRefreshCmd": "print(var_dic_list())"
    },
    "r": {
     "delete_cmd_postfix": ") ",
     "delete_cmd_prefix": "rm(",
     "library": "var_list.r",
     "varRefreshCmd": "cat(var_dic_list()) "
    }
   },
   "types_to_exclude": [
    "module",
    "function",
    "builtin_function_or_method",
    "instance",
    "_Feature"
   ],
   "window_display": false
  }
 },
 "nbformat": 4,
 "nbformat_minor": 2
}
