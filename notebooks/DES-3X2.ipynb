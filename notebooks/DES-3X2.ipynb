{
 "cells": [
  {
   "cell_type": "code",
   "execution_count": 1,
   "metadata": {},
   "outputs": [],
   "source": [
    "import sys\n",
    "import pickle\n",
    "sys.path.insert(0,'./')\n",
    "# from importlib import reload"
   ]
  },
  {
   "cell_type": "code",
   "execution_count": 2,
   "metadata": {},
   "outputs": [
    {
     "data": {
      "text/plain": [
       "2"
      ]
     },
     "execution_count": 2,
     "metadata": {},
     "output_type": "execute_result"
    }
   ],
   "source": [
    "x={1:1,0:0}\n",
    "1+ (x.get(1) or 0)"
   ]
  },
  {
   "cell_type": "code",
   "execution_count": 3,
   "metadata": {},
   "outputs": [],
   "source": [
    "from skylens import *\n",
    "# from fisher import *"
   ]
  },
  {
   "cell_type": "code",
   "execution_count": 4,
   "metadata": {},
   "outputs": [],
   "source": [
    "#only for python3\n",
    "import importlib\n",
    "reload=importlib.reload"
   ]
  },
  {
   "cell_type": "markdown",
   "metadata": {},
   "source": [
    "# Lensing X Lensing Correlation function covariance"
   ]
  },
  {
   "cell_type": "markdown",
   "metadata": {},
   "source": [
    "## Multiple redshift bins (Tomography)"
   ]
  },
  {
   "cell_type": "code",
   "execution_count": 5,
   "metadata": {},
   "outputs": [],
   "source": [
    "import cov_utils\n",
    "reload(cov_utils)\n",
    "from cov_utils import *"
   ]
  },
  {
   "cell_type": "code",
   "execution_count": 6,
   "metadata": {},
   "outputs": [],
   "source": [
    "import skylens\n",
    "reload(skylens)\n",
    "from skylens import *\n",
    "from wigner_transform import *"
   ]
  },
  {
   "cell_type": "code",
   "execution_count": 7,
   "metadata": {},
   "outputs": [],
   "source": [
    "import skylens.hankel_transform\n",
    "from astropy.io import fits\n",
    "# reload(hankel_transform)\n",
    "from skylens.hankel_transform import *\n"
   ]
  },
  {
   "cell_type": "code",
   "execution_count": 8,
   "metadata": {},
   "outputs": [],
   "source": [
    "def readclxipm(filename):\n",
    "    nz_bins=4\n",
    "    na=20\n",
    "    nz=np.int(nz_bins*(nz_bins+1.)/2.)\n",
    "    print(nz)\n",
    "    n_theta=ndesa=20\n",
    "    tp_fits = fits.open(filename)[1].data #fitsio.FITS(filename)\n",
    "    #xip = tp_fits['xip']\n",
    "    #theta = xip['ang'][:ndesa]\n",
    "    #thc = np.delete(theta,range(ndesa-na))\n",
    "\n",
    "    ccl = tp_fits#[1]\n",
    "    ccl_xip=ccl[:2*ndesa*nz,:2*ndesa*nz] #factor of 2 for xi_-\n",
    "    #print ccl_xip[399,390:399]\n",
    "    cov=np.zeros((2*nz*na,2*nz*na))\n",
    "    for z1 in range(2*nz):\n",
    "        for a1 in range(na):\n",
    "            i1 = a1+z1*na\n",
    "        ## The index in the original matrix is skewed because that matrix contains\n",
    "        ## angles that have been cut. So \n",
    "            i1ccl = (a1+ndesa-na) + z1*ndesa\n",
    "            for z2 in range(2*nz):\n",
    "                for a2 in range(na):\n",
    "                    i2 = a2 + z2*na\n",
    "                ## The index in the original matrix is skewed because that matrix contains\n",
    "                ## angles that have been cut. So \n",
    "                    i2ccl = (a2+ndesa-na) + z2*ndesa\n",
    "                    cov[i1,i2]=ccl_xip[i1ccl,i2ccl]\n",
    "    return cov"
   ]
  },
  {
   "cell_type": "code",
   "execution_count": 9,
   "metadata": {},
   "outputs": [],
   "source": [
    "fname='../data/2pt_NG_mcal_1110.fits'\n",
    "DES_dat=fits.open(fname)"
   ]
  },
  {
   "cell_type": "code",
   "execution_count": 10,
   "metadata": {},
   "outputs": [
    {
     "data": {
      "text/plain": [
       "XTENSION= 'BINTABLE'           / binary table extension                         \n",
       "BITPIX  =                    8 / array data type                                \n",
       "NAXIS   =                    2 / number of array dimensions                     \n",
       "NAXIS1  =                   48 / length of dimension 1                          \n",
       "NAXIS2  =                  200 / length of dimension 2                          \n",
       "PCOUNT  =                    0 / number of group parameters                     \n",
       "GCOUNT  =                    1 / number of groups                               \n",
       "TFIELDS =                    6 / number of table fields                         \n",
       "2PTDATA =                    T                                                  \n",
       "EXTNAME = 'xip     '                                                            \n",
       "QUANT1  = 'G+R     '                                                            \n",
       "QUANT2  = 'G+R     '                                                            \n",
       "KERNEL_1= 'nz_source'                                                           \n",
       "KERNEL_2= 'nz_source'                                                           \n",
       "WINDOWS = 'SAMPLE  '                                                            \n",
       "N_ZBIN_1=                    4                                                  \n",
       "N_ZBIN_2=                    4                                                  \n",
       "N_ANG   =                   20                                                  \n",
       "TTYPE1  = 'BIN1    '                                                            \n",
       "TFORM1  = 'K       '                                                            \n",
       "TTYPE2  = 'BIN2    '                                                            \n",
       "TFORM2  = 'K       '                                                            \n",
       "TTYPE3  = 'ANGBIN  '                                                            \n",
       "TFORM3  = 'K       '                                                            \n",
       "TTYPE4  = 'VALUE   '                                                            \n",
       "TFORM4  = 'D       '                                                            \n",
       "TTYPE5  = 'ANG     '                                                            \n",
       "TFORM5  = 'D       '                                                            \n",
       "TUNIT5  = 'arcmin  '                                                            \n",
       "TTYPE6  = 'NPAIRS  '                                                            \n",
       "TFORM6  = 'D       '                                                            "
      ]
     },
     "execution_count": 10,
     "metadata": {},
     "output_type": "execute_result"
    }
   ],
   "source": [
    "DES_dat[2].header"
   ]
  },
  {
   "cell_type": "code",
   "execution_count": 11,
   "metadata": {},
   "outputs": [
    {
     "name": "stdout",
     "output_type": "stream",
     "text": [
      "10\n"
     ]
    }
   ],
   "source": [
    "cov_des=readclxipm(filename=fname)\n",
    "# corr_des=cc.corr_matrix(cov_des)"
   ]
  },
  {
   "cell_type": "code",
   "execution_count": 12,
   "metadata": {},
   "outputs": [],
   "source": [
    "pz=Table.read(fname,format='fits',hdu=6)"
   ]
  },
  {
   "cell_type": "code",
   "execution_count": 13,
   "metadata": {},
   "outputs": [],
   "source": [
    "f_sky=1321./(4*np.pi/d2r**2)\n",
    "# f_sky=4182./(4*np.pi/d2r**2)"
   ]
  },
  {
   "cell_type": "code",
   "execution_count": 14,
   "metadata": {},
   "outputs": [
    {
     "data": {
      "text/plain": [
       "[<matplotlib.lines.Line2D at 0x7fdf5a3b04f0>]"
      ]
     },
     "execution_count": 14,
     "metadata": {},
     "output_type": "execute_result"
    },
    {
     "data": {
      "image/png": "[encoded data removed]",
      "text/plain": [
       "<Figure size 1500x1125 with 1 Axes>"
      ]
     },
     "metadata": {},
     "output_type": "display_data"
    }
   ],
   "source": [
    "t=DES_dat[6].data\n",
    "plot(t['Z_MID'],t['BIN1'])\n",
    "plot(t['Z_MID'],t['BIN2'])"
   ]
  },
  {
   "cell_type": "code",
   "execution_count": null,
   "metadata": {},
   "outputs": [],
   "source": []
  },
  {
   "cell_type": "code",
   "execution_count": 15,
   "metadata": {},
   "outputs": [],
   "source": [
    "do_xi=True\n",
    "bin_xi=True\n",
    "do_cov=True\n",
    "bin_cl=False\n",
    "th_min=2.5/60\n",
    "th_max=250./60\n",
    "n_th_bins=20\n",
    "th_bins=np.logspace(np.log10(th_min),np.log10(th_max),n_th_bins+1)\n",
    "th=np.logspace(np.log10(th_min),np.log10(th_max),n_th_bins*40)\n",
    "thb=np.sqrt(th_bins[1:]*th_bins[:-1])"
   ]
  },
  {
   "cell_type": "code",
   "execution_count": 16,
   "metadata": {},
   "outputs": [
    {
     "name": "stdout",
     "output_type": "stream",
     "text": [
      "cross covariance not implemented with Hankel Transform. s1_s2s: %s [(2, 2), (2, -2)]\n",
      "pruning theta, log_space:%s n_f:%s True 1\n",
      "changed l_max to cover theta_min. j_nu= 11594.133199922566 4\n",
      "pruning theta, log_space:%s n_f:%s True 1\n",
      "CPU times: user 5.31 s, sys: 0 ns, total: 5.31 s\n",
      "Wall time: 5.31 s\n"
     ]
    }
   ],
   "source": [
    "#Hankel Transform setup\n",
    "l_max=1e4\n",
    "l_min=2\n",
    "l0=np.arange(l_min,l_max)\n",
    "prune_theta=1\n",
    "HT_kwargs={'l_min':l_min,  'l_max':l_max,\n",
    "                        'theta_min':th_min*d2r*.9, 'theta_max':th_max*d2r,\n",
    "                        'n_zeros':40000, 'prune_theta':prune_theta, 's1_s2':[(2,2),(2,-2)]}\n",
    "%time HT=hankel_transform(**HT_kwargs)\n",
    "# HT_kwargs2={'l_min':l_min,  'l_max':l_max,\n",
    "#                         'theta_min':th_min*d2r*.9, 'theta_max':th_max*d2r,\n",
    "#                         'n_zeros':40000, 'prune_theta':2, 'm1_m2':[(2,-2)]}#,(2,-2)]}"
   ]
  },
  {
   "cell_type": "code",
   "execution_count": 17,
   "metadata": {},
   "outputs": [
    {
     "data": {
      "text/plain": [
       "(9998,)"
      ]
     },
     "execution_count": 17,
     "metadata": {},
     "output_type": "execute_result"
    }
   ],
   "source": [
    "l0.shape"
   ]
  },
  {
   "cell_type": "code",
   "execution_count": 18,
   "metadata": {},
   "outputs": [],
   "source": [
    "#Setup redshift bins\n",
    "zmin=0\n",
    "zmax=3\n",
    "\n",
    "nbins=4  # Number of tomographic bins\n",
    "zs_bins=DES_bins(fname=fname,l=l0,use_window=False)\n",
    "\n",
    "ns0=np.sum(zs_bins['nz'])"
   ]
  },
  {
   "cell_type": "code",
   "execution_count": 19,
   "metadata": {},
   "outputs": [],
   "source": [
    "bin_xi=True\n",
    "l_bins=None\n"
   ]
  },
  {
   "cell_type": "code",
   "execution_count": 20,
   "metadata": {},
   "outputs": [],
   "source": [
    "use_window=True\n",
    "do_sample_variance=True\n",
    "SSV_cov=False\n",
    "tidal_SSV=False\n",
    "sigma_gamma=0.39/np.sqrt(2)"
   ]
  },
  {
   "cell_type": "code",
   "execution_count": 21,
   "metadata": {},
   "outputs": [],
   "source": [
    "use_window=False"
   ]
  },
  {
   "cell_type": "code",
   "execution_count": 23,
   "metadata": {},
   "outputs": [
    {
     "name": "stderr",
     "output_type": "stream",
     "text": [
      "/verafs/scratch/phy200040p/sukhdeep/miniconda3/lib/python3.8/site-packages/skylens-0.1-py3.8.egg/skylens/cov_utils.py:74: RuntimeWarning: invalid value encountered in true_divide\n"
     ]
    },
    {
     "name": "stdout",
     "output_type": "stream",
     "text": [
      "Win gen: step size 129 True False 9998 31.0\n",
      "Window done. Size: 1.6e-05\n"
     ]
    }
   ],
   "source": [
    "#use redshift bins from power spectrum part\n",
    "XI_H =Skylens(zs_bins=zs_bins,l=l0,do_cov=do_cov,bin_cl=bin_cl,zg_bins=None,l_bins=l_bins,do_sample_variance=do_sample_variance,use_window=use_window,\n",
    "               SSV_cov=SSV_cov,tidal_SSV_cov=tidal_SSV,do_xi=True,WT=HT,f_sky=f_sky,\n",
    "               bin_xi=bin_xi,theta_bins=th_bins)#ns=np.inf)\n",
    "# XI_H2 = lensing_lensing(zs_bins=zs_bins,l=l0,do_cov=do_cov,bin_cl=bin_cl,l_bins=l_bins,\n",
    "#                SSV_cov=SSV_cov,tidal_SSV_cov=tidal_SSV,do_xi=True,HT_kwargs=HT_kwargs2,\n",
    "#                bin_xi=bin_xi,theta_bins=th_bins)#ns=np.inf)"
   ]
  },
  {
   "cell_type": "code",
   "execution_count": 24,
   "metadata": {},
   "outputs": [],
   "source": [
    "l_bins=np.logspace(1,3,40)"
   ]
  },
  {
   "cell_type": "code",
   "execution_count": 25,
   "metadata": {},
   "outputs": [
    {
     "name": "stdout",
     "output_type": "stream",
     "text": [
      "Wigner ell max too low for theta_min. Recommendation based on first few zeros of bessel  (2, 2)  : [ 3306.87251811  7590.65227925 11899.73007514 16214.52377613\n",
      " 20531.48565488]\n"
     ]
    },
    {
     "name": "stderr",
     "output_type": "stream",
     "text": [
      "/verafs/scratch/phy200040p/sukhdeep/project/skylens/skylens/wigner_transform.py:51: RuntimeWarning: divide by zero encountered in true_divide\n",
      "  taper_f=np.cos((self.l[None,:]-l_max_low[:,None])/(l_max_high[:,None]-l_max_low[:,None])*np.pi/2.)\n",
      "/verafs/scratch/phy200040p/sukhdeep/project/skylens/skylens/wigner_transform.py:51: RuntimeWarning: invalid value encountered in true_divide\n",
      "  taper_f=np.cos((self.l[None,:]-l_max_low[:,None])/(l_max_high[:,None]-l_max_low[:,None])*np.pi/2.)\n",
      "/verafs/scratch/phy200040p/sukhdeep/project/skylens/skylens/wigner_transform.py:51: RuntimeWarning: invalid value encountered in cos\n",
      "  taper_f=np.cos((self.l[None,:]-l_max_low[:,None])/(l_max_high[:,None]-l_max_low[:,None])*np.pi/2.)\n"
     ]
    },
    {
     "name": "stdout",
     "output_type": "stream",
     "text": [
      "Wigner ell max too low for theta_min. Recommendation based on first few zeros of bessel  (2, -2)  : [10434.71987993 15215.06772551 19763.65661234 24223.69216079\n",
      " 28639.08860726]\n",
      "CPU times: user 977 ms, sys: 2.37 s, total: 3.35 s\n",
      "Wall time: 23.8 s\n",
      "Win gen: step size 129 True False 9998 31.0\n",
      "Window done. Size: 1.6e-05\n"
     ]
    }
   ],
   "source": [
    "# Wigner Transform setup... Using high ell to test convergence\n",
    "WT_L_kwargs={'l': np.arange(2,l_max,dtype='int'),'theta': th*d2r,'s1_s2':[(2,2),(2,-2)]}\n",
    "%time WT_L=wigner_transform(**WT_L_kwargs)\n",
    "\n",
    "XI_W_L= Skylens(zs_bins=zs_bins,l=l0,do_cov=do_cov,bin_cl=bin_cl,l_bins=l_bins,zg_bins=None,do_sample_variance=do_sample_variance,use_window=use_window,\n",
    "               SSV_cov=SSV_cov,tidal_SSV_cov=tidal_SSV,do_xi=True,WT=WT_L,f_sky=f_sky,\n",
    "               bin_xi=bin_xi,theta_bins=th_bins)#ns=np.inf)"
   ]
  },
  {
   "cell_type": "code",
   "execution_count": 26,
   "metadata": {},
   "outputs": [],
   "source": [
    "corr=('shear','shear')"
   ]
  },
  {
   "cell_type": "code",
   "execution_count": 27,
   "metadata": {},
   "outputs": [],
   "source": [
    "%time xiHG=XI_H.xi_tomo()\n",
    "%time xiWG_L=XI_W_L.xi_tomo()"
   ]
  },
  {
   "cell_type": "code",
   "execution_count": 28,
   "metadata": {},
   "outputs": [
    {
     "name": "stderr",
     "output_type": "stream",
     "text": [
      "/verafs/scratch/phy200040p/sukhdeep/miniconda3/lib/python3.8/site-packages/skylens-0.1-py3.8.egg/skylens/binning.py:58: RuntimeWarning: invalid value encountered in true_divide\n",
      "/verafs/scratch/phy200040p/sukhdeep/miniconda3/lib/python3.8/site-packages/skylens-0.1-py3.8.egg/skylens/binning.py:66: RuntimeWarning: invalid value encountered in true_divide\n"
     ]
    }
   ],
   "source": [
    "%time xiH=xiHG['stack'].compute()\n",
    "# %time xiH2=xiHG2['stack'].compute()"
   ]
  },
  {
   "cell_type": "code",
   "execution_count": null,
   "metadata": {},
   "outputs": [],
   "source": [
    "%time xiW_L=xiWG_L['stack'].compute()"
   ]
  },
  {
   "cell_type": "raw",
   "metadata": {},
   "source": [
    "xiHG['stack'].visualize() #compute graph"
   ]
  },
  {
   "cell_type": "raw",
   "metadata": {},
   "source": [
    "xiWG['stack'].visualize() #compute graph"
   ]
  },
  {
   "cell_type": "raw",
   "metadata": {},
   "source": [
    "Scaling:\n",
    "\n",
    "~ns_bins^4\n",
    "~n_ell^1\n",
    "\n",
    "10 tomo-bins, 10^4 ell points, 156 theta points, 100 z-> 3 mins on macbook"
   ]
  },
  {
   "cell_type": "raw",
   "metadata": {},
   "source": [
    "with open('../cov_LL.pkl', 'rb') as f:\n",
    "     cov_LL=pickle.load(f) # use `pickle.loads` to do the reverse"
   ]
  },
  {
   "cell_type": "code",
   "execution_count": null,
   "metadata": {},
   "outputs": [],
   "source": [
    "f=1\n",
    "cov_xiH_inv=np.linalg.inv(xiH['cov']*f)\n",
    "print (np.sqrt(np.dot(xiH['xi'],np.dot(cov_xiH_inv,xiH['xi']))))\n",
    "\n",
    "cov_xiWL_inv=np.linalg.inv(xiW_L['cov']*f)\n",
    "print (np.sqrt(np.dot(xiW_L['xi'],np.dot(cov_xiWL_inv,xiW_L['xi']))))"
   ]
  },
  {
   "cell_type": "code",
   "execution_count": null,
   "metadata": {
    "scrolled": false
   },
   "outputs": [],
   "source": [
    "cc=XI_H.cov_utils\n",
    "corrH=cc.corr_matrix(xiH['cov'])\n",
    "pcolor(corrH,vmin=-1,vmax=1,cmap='seismic')\n",
    "# xlabel(r'$\\theta$ (degrees)')\n",
    "# ylabel(r'$\\theta$ (degrees)')\n",
    "title('Hankel')\n",
    "hlines(60,0,120)\n",
    "vlines(60,0,120)\n",
    "xticks([])\n",
    "yticks([])\n",
    "\n",
    "\n",
    "colorbar()\n",
    "show()\n",
    "# corrL=cc.corr_matrix(clL['cov'])\n",
    "# pcolor(corrL,vmin=-1,vmax=1,cmap='seismic')"
   ]
  },
  {
   "cell_type": "raw",
   "metadata": {},
   "source": [
    "corrH2=cc.corr_matrix(xiH2['cov'])\n",
    "pcolor(corrH2,vmin=-1,vmax=1,cmap='seismic')\n",
    "# xlabel(r'$\\theta$ (degrees)')\n",
    "# ylabel(r'$\\theta$ (degrees)')\n",
    "title('Hankel')\n",
    "colorbar()\n",
    "show()\n",
    "# corrL=cc.corr_matrix(clL['cov'])\n",
    "# pcolor(corrL,vmin=-1,vmax=1,cmap='seismic')"
   ]
  },
  {
   "cell_type": "code",
   "execution_count": 22,
   "metadata": {},
   "outputs": [
    {
     "data": {
      "image/png": "[encoded data removed]",
      "text/plain": [
       "<Figure size 1500x1125 with 1 Axes>"
      ]
     },
     "metadata": {},
     "output_type": "display_data"
    }
   ],
   "source": [
    "corr_des=cc.corr_matrix(cov_des)\n",
    "pcolor(corr_des,vmin=-1,vmax=1,cmap='seismic')\n",
    "# xlabel(r'$\\theta$ (degrees)')\n",
    "# ylabel(r'$\\theta$ (degrees)')\n",
    "hlines(n_th_bins*nbins*(nbins+1.)/2.,0,n_th_bins*nbins*(nbins+1.))\n",
    "vlines(n_th_bins*nbins*(nbins+1.)/2.,0,n_th_bins*nbins*(nbins+1.))\n",
    "xticks([])\n",
    "yticks([])\n",
    "title('DES')\n",
    "show()\n",
    "# corrL=cc.corr_matrix(clL['cov'])\n",
    "# pcolor(corrL,vmin=-1,vmax=1,cmap='seismic')"
   ]
  },
  {
   "cell_type": "code",
   "execution_count": null,
   "metadata": {},
   "outputs": [],
   "source": [
    "cc=XI_W_L.cov_utils\n",
    "corrWL=cc.corr_matrix(xiW_L['cov'])\n",
    "pcolor(corrWL,vmin=-1,vmax=1,cmap='seismic')\n",
    "title('Wigner')\n",
    "show()"
   ]
  },
  {
   "cell_type": "raw",
   "metadata": {},
   "source": [
    "m1m2=(2, 2, 2, -2)\n",
    "i=0\n",
    "j=0\n",
    "cov_t=xiWG['cov'][corr+corr][m1m2][(i,j,i,j)].compute()\n",
    "pcolor(cov_t['final'])\n",
    "colorbar()\n",
    "# print (cov_t)"
   ]
  },
  {
   "cell_type": "code",
   "execution_count": null,
   "metadata": {},
   "outputs": [],
   "source": [
    "import pyccl as ccl\n",
    "cosmo_params={'h': 0.6774,\n",
    " 'Omb': 0.0486,\n",
    " 'Omd': 0.2589,\n",
    " 's8': 0.817,\n",
    " 'Om': 0.3075,\n",
    " 'As': 2.12e-09,\n",
    " 'mnu': 0.0,\n",
    " 'Omk': 0.0,\n",
    " 'tau': 0.06,\n",
    " 'ns': 0.965,\n",
    " 'w': -1,\n",
    " 'wa': 0,\n",
    " 'Oml': 0.6925}\n",
    "\n",
    "ccl_cosmo = ccl.Cosmology(Omega_c=cosmo_params['Omd'], Omega_b=cosmo_params['Omb'], \n",
    "                      h=cosmo_params['h'], A_s=cosmo_params['As'], n_s=cosmo_params['ns'],)#m_nu=[0,0,0.06])"
   ]
  },
  {
   "cell_type": "code",
   "execution_count": null,
   "metadata": {},
   "outputs": [],
   "source": [
    "zs_bins[1]['pzdz'].sum(),zs_bins[1]['Norm']"
   ]
  },
  {
   "cell_type": "code",
   "execution_count": null,
   "metadata": {},
   "outputs": [],
   "source": [
    "for i in np.arange(nbins):\n",
    "    for j in np.arange(i,nbins):\n",
    "#         errorbar(thb,xiHG['xi'][corr][m1m2][(i,j)].compute(),np.sqrt(np.diag(xiHG['cov'][corr+corr][m1m2+m1m2][(i,j,i,j)].compute()['final'])),fmt='o',label=(i,j))\n",
    "#         plot(XI_W_L.l,xiWG_L['cl'][corr][(i,j)].compute(),marker='o',label=(i,j))\n",
    "#         plot(XI_W_L.l,clWG_L['cl'][corr][(i,j)].compute(),marker='o',label=(i,j))\n",
    "        lens1 = ccl.ClTracerLensing(ccl_cosmo, False, z=zs_bins[i]['z'], n=zs_bins[i]['pz'])\n",
    "        lens2 = ccl.ClTracerLensing(ccl_cosmo, False, z=zs_bins[j]['z'], n=zs_bins[j]['pz'])\n",
    "        cls = ccl.angular_cl(ccl_cosmo, lens1, lens2, XI_W_L.l)\n",
    "#         xi_plus = ccl.correlation(ccl_cosmo, ell, cls, th,corr_type='L+', method='FFTLog')\n",
    "#         plot(XI_W_L.l,cls)\n",
    "        plot(XI_W_L.l,xiWG_L['cl'][corr][(i,j)].compute()/cls,label=(i,j))\n",
    "        xscale('log')\n",
    "#         yscale('log')\n",
    "        xlabel(r'$\\ell$')\n",
    "        ylabel(r'$C_\\ell$')\n",
    "#         hlines(1,2,1000)\n",
    "        legend()\n",
    "#         ylim(0.9,1.1)\n",
    "    show()"
   ]
  },
  {
   "cell_type": "code",
   "execution_count": null,
   "metadata": {},
   "outputs": [],
   "source": [
    "m1m2=(2,2)\n",
    "cp=['r','b','g','y']#sns.color_pallete()\n",
    "for i in np.arange(nbins):\n",
    "    for j in np.arange(i,nbins):\n",
    "        errorbar(thb*60,thb*60*xiHG['xi'][corr][m1m2][(i,j)].compute(),\n",
    "                 thb*60*np.sqrt(np.diag(xiHG['cov'][corr+corr][m1m2+m1m2][(i,j,i,j)].compute()['final'])),fmt='o',label=(i,j),color=cp[j])\n",
    "        x=DES_dat[2].data['BIN1']==i+1\n",
    "        x*=DES_dat[2].data['BIN2']==j+1\n",
    "        th_t=DES_dat[2].data['ANG'][x]\n",
    "        plot(th_t,th_t*DES_dat[2].data['VALUE'][x],color=cp[j])\n",
    "    xscale('log')\n",
    "    # yscale('log')\n",
    "    xlabel(r'$\\theta$ (arc min)')\n",
    "    ylabel(r'$\\xi_+$')\n",
    "    legend(ncol=3)\n",
    "    show()"
   ]
  },
  {
   "cell_type": "raw",
   "metadata": {},
   "source": [
    "m1m2=(2,-2)\n",
    "for i in np.arange(nbins):\n",
    "    for j in np.arange(i,nbins):\n",
    "        errorbar(thb/d2r,thb/d2r*xiHG['xi'][corr][m1m2][(i,j)].compute(),thb/d2r*np.sqrt(np.diag(xiHG['cov'][corr+corr][m1m2+m1m2][(i,j,i,j)].compute()['final'])),fmt='o',label=(i,j))\n",
    "xscale('log')\n",
    "# yscale('log')\n",
    "xlabel(r'$\\theta$ (arc min)')\n",
    "ylabel(r'$\\xi_-$')\n",
    "legend(ncol=3)"
   ]
  },
  {
   "cell_type": "code",
   "execution_count": null,
   "metadata": {},
   "outputs": [],
   "source": [
    "m1m2=(2,2)\n",
    "nth=20\n",
    "i2=0\n",
    "cs=['r','b','c','g','y']\n",
    "for i in np.arange(nbins):\n",
    "    j2=0\n",
    "    for j in np.arange(i,nbins):\n",
    "        plot(thb/d2r,np.sqrt(np.diag(xiWG_L['cov'][corr+corr][m1m2+m1m2][(i,j,i,j)].compute()['final'])),label=(i,j),\n",
    "            c=cs[(i2+j2)%len(cs)])\n",
    "        indx0=(i2+j2)*nth\n",
    "        plot(thb/d2r,np.sqrt(np.diag(cov_des[indx0:indx0+nth,indx0:indx0+nth])),c=cs[(i2+j2)%len(cs)],ls='--')\n",
    "        j2+=1\n",
    "    i2+=1\n",
    "xscale('log')\n",
    "yscale('log')\n",
    "xlabel(r'$\\theta$ (arc min)')\n",
    "ylabel(r'$\\xi_+$')\n",
    "legend(ncol=3)"
   ]
  },
  {
   "cell_type": "code",
   "execution_count": null,
   "metadata": {},
   "outputs": [],
   "source": [
    "th,Win2=XI_W_L.HT.projected_correlation(l_cl=XI_W_L.l,m1_m2=(2,2),cl=XI_W_L.cov_utils.Win)"
   ]
  },
  {
   "cell_type": "code",
   "execution_count": null,
   "metadata": {},
   "outputs": [],
   "source": [
    "plot(th/d2r,Win2)\n",
    "xscale('log')"
   ]
  },
  {
   "cell_type": "code",
   "execution_count": null,
   "metadata": {},
   "outputs": [],
   "source": [
    "plot(XI_W_L.l,XI_W_L.cov_utils.Win)\n",
    "xscale('log')\n",
    "yscale('log')"
   ]
  },
  {
   "cell_type": "raw",
   "metadata": {},
   "source": [
    "m1m2=(2,2)\n",
    "nth=20\n",
    "i2=0\n",
    "cs=['r','b','c','g','y']\n",
    "for i in np.arange(nbins):\n",
    "    j2=0\n",
    "    for j in np.arange(i,nbins):\n",
    "        indx0=(i2+j2)*nth\n",
    "        plot(thb/d2r,np.sqrt(np.diag(xiWG_L['cov'][corr+corr][m1m2+m1m2][(i,j,i,j)].compute()['final']))/np.sqrt(np.diag(cov_des[indx0:indx0+nth,indx0:indx0+nth])),\n",
    "             label=(i,j),c=cs[(i2+j2)%len(cs)])\n",
    "        \n",
    "        j2+=1\n",
    "    i2+=1\n",
    "    \n",
    "    xscale('log')\n",
    "    # yscale('log')\n",
    "    xlabel(r'$\\theta$ (arc min)')\n",
    "    ylabel(r'$\\xi_+$')\n",
    "    legend(ncol=3)\n",
    "    show()"
   ]
  },
  {
   "cell_type": "code",
   "execution_count": null,
   "metadata": {},
   "outputs": [],
   "source": [
    "m1m2=(2,2)\n",
    "nth=20\n",
    "i2=0\n",
    "cs=['r','b','c','g','y']\n",
    "for i in np.arange(nbins):\n",
    "    j2=0\n",
    "    for j in np.arange(i,nbins):\n",
    "        indx0=(i2+j2)*nth\n",
    "        plot(thb/d2r,np.diag(xiHG['cov'][corr+corr][m1m2+m1m2][(i,j,i,j)].compute()['final'])*2/np.diag(cov_des[indx0:indx0+nth,indx0:indx0+nth]),\n",
    "             label=(i,j),c=cs[(i2+j2)%len(cs)])\n",
    "        \n",
    "        j2+=1\n",
    "    i2+=1\n",
    "    \n",
    "    xscale('log')\n",
    "    # yscale('log')\n",
    "    xlabel(r'$\\theta$ (arc min)')\n",
    "    ylabel(r'$\\xi_+$')\n",
    "    legend(ncol=3)\n",
    "    show()"
   ]
  },
  {
   "cell_type": "code",
   "execution_count": null,
   "metadata": {},
   "outputs": [],
   "source": [
    "m1m2=(2,2)\n",
    "nth=20\n",
    "i2=0\n",
    "cs=['r','b','c','g','y']\n",
    "for i in np.arange(nbins):\n",
    "    j2=0\n",
    "    for j in np.arange(i,nbins):\n",
    "        indx0=(i2+j2)*nth\n",
    "        plot(thb/d2r,np.sqrt(np.diag(xiWG_L['cov'][corr+corr][m1m2+m1m2][(i,j,i,j)].compute()['final']))/np.sqrt(np.diag(xiHG['cov'][corr+corr][m1m2+m1m2][(i,j,i,j)].compute()['final'])),\n",
    "             label=(i,j),c=cs[(i2+j2)%len(cs)])\n",
    "        \n",
    "        j2+=1\n",
    "    i2+=1\n",
    "    \n",
    "    xscale('log')\n",
    "    # yscale('log')\n",
    "    xlabel(r'$\\theta$ (arc min)')\n",
    "    ylabel(r'$\\xi_+$')\n",
    "    legend(ncol=3)\n",
    "    show()"
   ]
  },
  {
   "cell_type": "code",
   "execution_count": null,
   "metadata": {},
   "outputs": [],
   "source": []
  },
  {
   "cell_type": "code",
   "execution_count": null,
   "metadata": {},
   "outputs": [],
   "source": []
  },
  {
   "cell_type": "code",
   "execution_count": null,
   "metadata": {},
   "outputs": [],
   "source": [
    "crash"
   ]
  },
  {
   "cell_type": "raw",
   "metadata": {},
   "source": []
  },
  {
   "cell_type": "markdown",
   "metadata": {},
   "source": [
    "# Galaxy X Lensing Correlation function covariance"
   ]
  },
  {
   "cell_type": "code",
   "execution_count": null,
   "metadata": {},
   "outputs": [],
   "source": [
    "import galaxy_utils\n",
    "reload(galaxy_utils)\n",
    "from galaxy_utils import *"
   ]
  },
  {
   "cell_type": "code",
   "execution_count": null,
   "metadata": {},
   "outputs": [],
   "source": [
    "import cov_utils\n",
    "reload(cov_utils)\n",
    "from cov_utils import *"
   ]
  },
  {
   "cell_type": "code",
   "execution_count": null,
   "metadata": {},
   "outputs": [],
   "source": [
    "import cov_3X2\n",
    "reload(cov_3X2)\n",
    "from cov_3X2 import *\n",
    "from wigner_transform import *"
   ]
  },
  {
   "cell_type": "code",
   "execution_count": null,
   "metadata": {},
   "outputs": [],
   "source": [
    "#Setup redshift bins\n",
    "zmin=0.3\n",
    "zmax=2\n",
    "\n",
    "z=np.linspace(0,5,200)\n",
    "pzs=lsst_pz_source(z=z)\n",
    "x=z<zmax\n",
    "x*=z>zmin\n",
    "z=z[x]\n",
    "pzs=pzs[x]\n",
    "\n",
    "ns0=26 #26+np.inf #ns=inf means shape noise is zero\n",
    "nbins=5  # Number of tomographic bins\n",
    "z_sigma=0.01\n",
    "zs_bins=source_tomo_bins(zp=z,p_zp=pzs,ns=ns0,nz_bins=nbins,\n",
    "                         ztrue_func=ztrue_given_pz_Gaussian,zp_bias=np.zeros_like(z),\n",
    "                        zp_sigma=z_sigma*np.ones_like(z))\n",
    "\n",
    "ng0=10 #26+np.inf #ns=inf means shape noise is zero\n",
    "# nbins=3  # Number of tomographic bins\n",
    "z_sigma=0.1\n",
    "zg_bins=source_tomo_bins(zp=z,p_zp=pzs,ns=ns0,nz_bins=nbins,\n",
    "                         ztrue_func=ztrue_given_pz_Gaussian,zp_bias=np.zeros_like(z),\n",
    "                        zp_sigma=z_sigma*np.ones_like(z))\n",
    "\n",
    "\n",
    "# nbins=np.int(nbins*(nbins+1.)/2.)\n",
    "# zl_bins=lens_wt_tomo_bins(zp=z,p_zp=pzs,ns=ns0,nz_bins=nbins,z_bins=np.linspace(zmin,1.5,nbins),\n",
    "#                           ztrue_func=ztrue_given_pz_Gaussian,zp_bias=np.zeros_like(z),\n",
    "#                         zp_sigma=z_sigma*np.ones_like(z))\n",
    "\n",
    "SSV_cov=True\n",
    "tidal_SSV=False"
   ]
  },
  {
   "cell_type": "code",
   "execution_count": null,
   "metadata": {},
   "outputs": [],
   "source": [
    "do_xi=True\n",
    "bin_xi=True\n",
    "bin_cl=True\n",
    "th_min=1./60\n",
    "th_max=10\n",
    "n_th_bins=20\n",
    "n_th=160\n",
    "th=np.logspace(np.log10(th_min*2),np.log10(th_max),n_th)\n",
    "th_bins=np.logspace(np.log10(th_min*2),np.log10(th_max),n_th_bins+1)\n",
    "thb=np.sqrt(th_bins[1:]*th_bins[:-1])"
   ]
  },
  {
   "cell_type": "code",
   "execution_count": null,
   "metadata": {},
   "outputs": [],
   "source": [
    "corr_ggl=('galaxy','shear')\n",
    "corr_gg=('galaxy','galaxy')\n",
    "corr_ll=('shear','shear')\n",
    "m1m2=(0,2)\n",
    "m1m2_gg=(0,0)"
   ]
  },
  {
   "cell_type": "raw",
   "metadata": {},
   "source": [
    "#Hankel Transform setup\n",
    "# l_max=1e4\n",
    "# l_min=2\n",
    "HT_kwargs={'l_min':l_min,  'l_max':l_max,\n",
    "                        'theta_min':th_min*d2r*.9, 'theta_max':th_max*d2r,\n",
    "                        'n_zeros':40000, 'prune_theta':2, 'm1_m2':[m1m2]}\n",
    "HT=hankel_transform(**HT_kwargs,logger=XI_W.logger)"
   ]
  },
  {
   "cell_type": "code",
   "execution_count": null,
   "metadata": {},
   "outputs": [],
   "source": [
    "# Wigner Transform setup\n",
    "l_W=np.arange(2,l_max,dtype='int')\n",
    "WT_kwargs={'l':l_W ,'theta':th*d2r ,'m1_m2':[(0,0),(0,2),(2,2),(2,-2)]}\n",
    "# %time WTggl=wigner_transform(**WT_kwargs)\n",
    "\n",
    "XI_W= cov_3X2(zs_bins=zs_bins,l=l0,do_cov=do_cov,bin_cl=bin_cl,l_bins=l_bins,zg_bins=zg_bins,\n",
    "               SSV_cov=SSV_cov,tidal_SSV_cov=tidal_SSV,do_xi=do_xi,HT=WTggl,\n",
    "#               HT_kwargs=HT_kwargs,\n",
    "               bin_xi=bin_xi,theta_bins=th_bins)#ns=np.inf)"
   ]
  },
  {
   "cell_type": "code",
   "execution_count": null,
   "metadata": {},
   "outputs": [],
   "source": [
    "%time cl_Wggl=XI_W.cl_tomo(corrs=[corr_ll,corr_ggl,corr_gg])"
   ]
  },
  {
   "cell_type": "code",
   "execution_count": null,
   "metadata": {},
   "outputs": [],
   "source": [
    "%time xiWggl=XI_W.xi_tomo(corrs=[corr_ll,corr_ggl,corr_gg])\n",
    "%time xiW_ggl=xiWggl['stack'].compute()"
   ]
  },
  {
   "cell_type": "code",
   "execution_count": null,
   "metadata": {},
   "outputs": [],
   "source": [
    "cl_Wggl['cl'][corr_ggl][(0,0)].compute().min()"
   ]
  },
  {
   "cell_type": "code",
   "execution_count": null,
   "metadata": {},
   "outputs": [],
   "source": [
    "cl_Wggl['cl'].keys()"
   ]
  },
  {
   "cell_type": "code",
   "execution_count": null,
   "metadata": {},
   "outputs": [],
   "source": [
    "cl_Wggl['cov'][corr_ggl+corr_ggl][(0,0,0,1)]['G1423'].compute().min()"
   ]
  },
  {
   "cell_type": "raw",
   "metadata": {},
   "source": [
    "for i in np.arange(nbins):\n",
    "    for j in np.arange(i,nbins):\n",
    "        plot(l0,cl_Wggl['cl_b'][corr_ggl][(i,j)].compute(),label=(i,j))\n",
    "        xscale('log')\n",
    "        yscale('log')\n",
    "        xlabel(r'$\\ell$')\n",
    "        ylabel(r'$C_\\ell$')\n",
    "        legend()\n",
    "#         show()"
   ]
  },
  {
   "cell_type": "raw",
   "metadata": {},
   "source": [
    "ij=(0,0)\n",
    "covv=cl_Wggl['cov'][corr_ggl+corr_ggl][ij+ij].compute()#['final']\n",
    "corr=cc.corr_matrix(covv['final'])\n",
    "pcolor(corr,vmin=-1,vmax=1,cmap='seismic')"
   ]
  },
  {
   "cell_type": "code",
   "execution_count": null,
   "metadata": {
    "scrolled": false
   },
   "outputs": [],
   "source": [
    "for i in np.arange(nbins):\n",
    "    for j in np.arange(i,nbins):\n",
    "        plot(thb,xiWggl['xi'][corr_ggl][m1m2][(i,j)].compute(),label=(i,j))\n",
    "        plot(thb,xiWggl['xi'][corr_gg][m1m2_gg][(i,j)].compute(),ls='--')\n",
    "        xscale('log')\n",
    "        yscale('log')\n",
    "        xlabel(r'$\\theta$ (degrees)')\n",
    "        ylabel(r'$\\xi$')\n",
    "        legend()\n",
    "show()"
   ]
  },
  {
   "cell_type": "code",
   "execution_count": null,
   "metadata": {},
   "outputs": [],
   "source": [
    "for i in np.arange(nbins):\n",
    "    for j in np.arange(0,nbins):\n",
    "        errorbar(thb,xiWggl['xi'][corr_ggl][m1m2][(i,j)].compute(),np.sqrt(np.diag(xiWggl['cov'][corr_ggl+corr_ggl][m1m2+m1m2][(i,j,i,j)].compute()['final'])),fmt='o',label=(i,j))\n",
    "xscale('log')\n",
    "yscale('log')\n",
    "xlabel(r'$\\theta$ (degrees)')\n",
    "ylabel(r'$\\xi$')\n",
    "legend()"
   ]
  },
  {
   "cell_type": "code",
   "execution_count": null,
   "metadata": {},
   "outputs": [],
   "source": [
    "for i in np.arange(nbins):\n",
    "    for j in np.arange(i,nbins):\n",
    "        errorbar(thb,xiWggl['xi'][corr_gg][m1m2_gg][(i,j)].compute(),np.sqrt(np.diag(xiWggl['cov'][corr_ggl+corr_ggl][m1m2+m1m2][(i,j,i,j)].compute()['final'])),fmt='o',label=(i,j))\n",
    "xscale('log')\n",
    "yscale('log')\n",
    "xlabel(r'$\\theta$ (degrees)')\n",
    "ylabel(r'$\\xi$')\n",
    "legend()"
   ]
  },
  {
   "cell_type": "code",
   "execution_count": null,
   "metadata": {},
   "outputs": [],
   "source": [
    "nbins=5"
   ]
  },
  {
   "cell_type": "code",
   "execution_count": null,
   "metadata": {},
   "outputs": [],
   "source": [
    "cc=XI_W.cov_utils\n",
    "corrW=cc.corr_matrix(xiW_ggl['cov'])\n",
    "pcolor(corrW,vmin=-1,vmax=1,cmap='seismic')\n",
    "# xlabel(r'$\\theta$ (degrees)')\n",
    "# ylabel(r'$\\theta$ (degrees)')\n",
    "x1=20.*nbins*(nbins+1)/2.\n",
    "x2=20.*nbins*nbins\n",
    "hlines(x1,0,len(corrW),lw=2)\n",
    "vlines(x1,0,len(corrW),lw=2)\n",
    "hlines(x1*2,0,len(corrW),lw=2)\n",
    "vlines(x1*2,0,len(corrW),lw=2)\n",
    "hlines(x1*2+x2,0,len(corrW),lw=2)\n",
    "vlines(x1*2+x2,0,len(corrW),lw=2)\n",
    "title('Wigner')\n",
    "xticks([])\n",
    "yticks([])\n",
    "show()\n",
    "# corrL=cc.corr_matrix(clL['cov'])\n",
    "# pcolor(corrL,vmin=-1,vmax=1,cmap='seismic')"
   ]
  },
  {
   "cell_type": "raw",
   "metadata": {},
   "source": [
    "pcolor(corrW.T,vmin=-1,vmax=1,cmap='seismic')"
   ]
  },
  {
   "cell_type": "code",
   "execution_count": null,
   "metadata": {},
   "outputs": [],
   "source": []
  },
  {
   "cell_type": "code",
   "execution_count": null,
   "metadata": {},
   "outputs": [],
   "source": []
  },
  {
   "cell_type": "code",
   "execution_count": null,
   "metadata": {},
   "outputs": [],
   "source": [
    "import healpy as hp\n",
    "hp.nside2npix(1024)"
   ]
  },
  {
   "cell_type": "code",
   "execution_count": null,
   "metadata": {},
   "outputs": [],
   "source": []
  }
 ],
 "metadata": {
  "hide_input": false,
  "kernelspec": {
   "display_name": "Python 3",
   "language": "python",
   "name": "python3"
  },
  "language_info": {
   "codemirror_mode": {
    "name": "ipython",
    "version": 3
   },
   "file_extension": ".py",
   "mimetype": "text/x-python",
   "name": "python",
   "nbconvert_exporter": "python",
   "pygments_lexer": "ipython3",
   "version": "3.8.2"
  }
 },
 "nbformat": 4,
 "nbformat_minor": 2
}
