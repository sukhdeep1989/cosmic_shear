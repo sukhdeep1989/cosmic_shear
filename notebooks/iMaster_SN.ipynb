{
 "cells": [
  {
   "cell_type": "code",
   "execution_count": null,
   "metadata": {},
   "outputs": [],
   "source": [
    "import sys\n",
    "# import pyccl as ccl\n",
    "import pickle\n",
    "import camb\n",
    "from skylens import *\n",
    "from survey_utils import *\n",
    "import seaborn as sns\n",
    "colors=sns.color_palette()\n",
    "markers=['o','s','^','>','v']"
   ]
  },
  {
   "cell_type": "code",
   "execution_count": null,
   "metadata": {},
   "outputs": [],
   "source": [
    "ncpu=2\n",
    "LC,scheduler_info=start_client(Scheduler_file=None,local_directory=None,ncpu=None,n_workers=ncpu,threads_per_worker=1,\n",
    "                              memory_limit='120gb',dashboard_address=8811,processes=True)\n",
    "client=client_get(scheduler_info=scheduler_info)"
   ]
  },
  {
   "cell_type": "code",
   "execution_count": null,
   "metadata": {},
   "outputs": [],
   "source": [
    "s1_s2s={}\n",
    "s1_s2s[corr_gg]=(0,0)\n",
    "s1_s2s[corr_ll]=[(2,2),(2,-2)]\n",
    "s1_s2s[corr_ggl]=(0,2)"
   ]
  },
  {
   "cell_type": "code",
   "execution_count": null,
   "metadata": {},
   "outputs": [],
   "source": [
    "wigner_files={}\n",
    "home='/verafs/scratch/phy200040p/sukhdeep/physics2/skylens/'\n",
    "wig_home=home+'temp/'\n",
    "wigner_files[0]= wig_home+'/dask_wig3j_l2200_w4400_0_reorder.zarr'\n",
    "# wigner_files[0]= wig_home+'/dask_wig3j_l3500_w2100_0_reorder.zarr'\n",
    "wigner_files[2]= wig_home+'/dask_wig3j_l2200_w4400_2_reorder.zarr'\n",
    "\n",
    "wigner_step=100"
   ]
  },
  {
   "cell_type": "code",
   "execution_count": null,
   "metadata": {},
   "outputs": [],
   "source": [
    "test=False"
   ]
  },
  {
   "cell_type": "code",
   "execution_count": null,
   "metadata": {},
   "outputs": [],
   "source": [
    "nside=1024\n",
    "if test:\n",
    "    nside=128\n",
    "window_lmax=nside*2\n",
    "use_window=True\n",
    "unit_window=True\n",
    "f_sky=0.3\n",
    "\n",
    "do_pseudo_cl=True\n",
    "do_xi=True\n",
    "\n",
    "bin_cl=True\n",
    "bin_xi=True\n",
    "\n",
    "use_binned_l=True\n",
    "use_binned_theta=True\n",
    "\n",
    "store_win=True\n",
    "\n",
    "nz_PS=50\n",
    "\n",
    "do_cov=True\n",
    "SSV_cov=False\n",
    "tidal_SSV_cov=False\n",
    "Tri_cov=False"
   ]
  },
  {
   "cell_type": "code",
   "execution_count": null,
   "metadata": {},
   "outputs": [],
   "source": [
    "z0=1 #1087\n",
    "# zs_bin1=source_tomo_bins(zp=[z0],p_zp=np.array([1]),ns=30,use_window=use_window,nside=nside)\n",
    "shear_zbins=lsst_source_tomo_bins(nbins=1,use_window=use_window,nside=nside,f_sky=f_sky,unit_window=unit_window)\n",
    "galaxy_zbins=shear_zbins"
   ]
  },
  {
   "cell_type": "code",
   "execution_count": null,
   "metadata": {},
   "outputs": [],
   "source": [
    "corrs=[corr_gg]#corr_ll,corr_gg,corr_ggl]"
   ]
  },
  {
   "cell_type": "code",
   "execution_count": null,
   "metadata": {},
   "outputs": [],
   "source": [
    "bi=(0,0)\n",
    "corr=corrs[0]\n",
    "s=s1_s2s[corr]\n",
    "if corr==corr_ll:\n",
    "    s=(2,2)"
   ]
  },
  {
   "cell_type": "code",
   "execution_count": null,
   "metadata": {},
   "outputs": [],
   "source": [
    "#setup parameters\n",
    "lmax_cl=nside #2000\n",
    "lmin_cl=0\n",
    "l0=np.arange(lmin_cl,lmax_cl)\n",
    "\n",
    "lmin_cl_Bins=lmin_cl+2\n",
    "lmax_cl_Bins=lmax_cl-10\n",
    "Nl_bins=50\n",
    "if test:\n",
    "    Nl_bins=10\n",
    "l_bins=get_l_bins(l_min=lmin_cl_Bins,l_max=lmax_cl_Bins,N_bins=Nl_bins,binning_scheme='log',min_modes=50)#,binning_mode='decreasing')\n",
    "l_bins=l_bins[l_bins<=lmax_cl_Bins]\n",
    "# l_bins=np.unique(np.int64(np.logspace(np.log10(lmin_cl_Bins),np.log10(lmax_cl_Bins),Nl_bins+1)))\n",
    "lb=.5*(l_bins[1:]+l_bins[:-1])\n",
    "l_bins_center=lb*1\n",
    "Nl_bins=len(lb)\n",
    "\n",
    "# l=np.unique(np.int64(np.logspace(np.log10(lmin_cl),np.log10(lmax_cl),Nl_bins*20))) #if we want to use fewer ell\n",
    "l=l0"
   ]
  },
  {
   "cell_type": "code",
   "execution_count": null,
   "metadata": {},
   "outputs": [],
   "source": [
    "theta_min=0.01/60\n",
    "# theta_min=hp.nside2resol(512, arcmin = True)/60 #100/nside #1./60\n",
    "theta_max=600./60\n",
    "n_theta_bins=151\n",
    "# theta_bins,th=get_theta_bins(theta_min=theta_min,theta_max=theta_max,N_bins=n_theta_bins,binning_scheme='log',n_theta_samples=40)#,max_modes=1)\n",
    "theta_bins=np.logspace(np.log10(theta_min),np.log10(theta_max),n_theta_bins+1)\n",
    "th=np.logspace(np.log10(theta_min),np.log10(theta_max),n_theta_bins*40)\n",
    "theta_bins_center=0.5*(theta_bins[1:]+theta_bins[:-1])\n",
    "thb=theta_bins_center*1\n",
    "n_theta_bins=len(thb)\n",
    "\n",
    "#Hankel Transform setup\n",
    "WT_kwargs={'l':l0,'l_cut_weights':np.ones_like(l0),'theta':th*d2r,'s1_s2':[(2,2),(2,-2),(0,0)],\n",
    "           'wig_d_taper_order_low':16,'wig_d_taper_order_high':20}\n",
    "# if globals().get('WT') is None:\n",
    "WT=wigner_transform(**WT_kwargs )\n",
    "# WT_b=wigner_transform(**WT_kwargs)\n",
    "WT_b=WT\n",
    "WT.gather_data()"
   ]
  },
  {
   "cell_type": "code",
   "execution_count": null,
   "metadata": {},
   "outputs": [],
   "source": [
    "client"
   ]
  },
  {
   "cell_type": "code",
   "execution_count": null,
   "metadata": {
    "scrolled": false
   },
   "outputs": [],
   "source": [
    "Skylens_kwargs=parse_dict(locals())\n",
    "kappa_xi0=Skylens(**Skylens_kwargs)\n",
    "\n",
    "Skylens_kwargs_nW=copy.deepcopy(Skylens_kwargs)\n",
    "Skylens_kwargs_nW['use_window']=False\n",
    "kappa_xi0_nW=Skylens(**Skylens_kwargs_nW)"
   ]
  },
  {
   "cell_type": "code",
   "execution_count": null,
   "metadata": {},
   "outputs": [],
   "source": [
    "cl_bu=client.gather(kappa_xi0.cl_bin_utils)\n",
    "xi_bu=client.gather(kappa_xi0.xi_bin_utils)"
   ]
  },
  {
   "cell_type": "code",
   "execution_count": null,
   "metadata": {},
   "outputs": [],
   "source": [
    "%time xiHG0=kappa_xi0.xi_tomo()\n",
    "%time xiH0=xiHG0['stack'].compute()\n",
    "%time xi0=client.compute(xiHG0['xi']).result()"
   ]
  },
  {
   "cell_type": "code",
   "execution_count": null,
   "metadata": {},
   "outputs": [],
   "source": [
    "%time xiHG0_nW=kappa_xi0_nW.xi_tomo()\n",
    "%time xiH0_nW=xiHG0_nW['stack'].compute()\n",
    "%time xi0_nW=client.compute(xiHG0_nW['xi']).result()"
   ]
  },
  {
   "cell_type": "code",
   "execution_count": null,
   "metadata": {},
   "outputs": [],
   "source": [
    "%time clG0_nW=kappa_xi0_nW.cl_tomo()\n",
    "%time cl0_nW=client.compute(clG0_nW['cl_b']).result()\n",
    "%time pcl0_nW=client.compute(clG0_nW['stack']).result()"
   ]
  },
  {
   "cell_type": "code",
   "execution_count": null,
   "metadata": {},
   "outputs": [],
   "source": [
    "%time clG0=kappa_xi0.cl_tomo()\n",
    "%time cl0=client.compute(clG0['cl_b']).result()\n",
    "%time pcl0=client.compute(clG0['stack']).result()\n",
    "# %time pcl0_cov=client.compute(clG0['cov']).result()\n",
    "\n",
    "# %time cl0_0=client.compute(clG0['cl']).result()"
   ]
  },
  {
   "cell_type": "code",
   "execution_count": null,
   "metadata": {},
   "outputs": [],
   "source": [
    "win=kappa_xi0.Win"
   ]
  },
  {
   "cell_type": "code",
   "execution_count": null,
   "metadata": {},
   "outputs": [],
   "source": [
    "M=win['cl'][corr][bi]['M']\n",
    "Mi=np.linalg.pinv(M)\n",
    "Wi=kappa_xi0.inv_WT_binned[corr][s][bi].result()"
   ]
  },
  {
   "cell_type": "code",
   "execution_count": null,
   "metadata": {},
   "outputs": [],
   "source": [
    "def matrix_cut(mat=[],x=[]):\n",
    "    m=mat[x]\n",
    "    N=sum(x)\n",
    "    m2=np.zeros((N,N))\n",
    "    j=0\n",
    "    for i in m:\n",
    "        m2[j]=i[x]\n",
    "        j=j+1\n",
    "    return m2\n",
    "\n",
    "def SN_cum(cov=[],lb=[],cl=[],diag=False,lmin=2,lmax=1e4,use_hartlap=False,nsim=1000):\n",
    "    sni=np.zeros_like(lb)\n",
    "    for i in np.arange(len(lb)):\n",
    "        if lb[i]<lmin or lb[i]>lmax:\n",
    "            continue\n",
    "        x=lb<=lb[i]\n",
    "        x*=lb>lmin\n",
    "        cov2_cut=matrix_cut(mat=cov,x=x)\n",
    "        if diag:\n",
    "            cov2_cut=np.diag(np.diag(cov2_cut))\n",
    "        cov2_cut_inv=np.linalg.inv(cov2_cut)\n",
    "        \n",
    "        cl_i=cl[x]\n",
    "        SN2=cl_i@cov2_cut_inv@cl_i\n",
    "        if use_hartlap:\n",
    "            SN2*=(nsim-2-x.sum())/(nsim-1)\n",
    "        sni[i]=SN2\n",
    "    return sni"
   ]
  },
  {
   "cell_type": "code",
   "execution_count": null,
   "metadata": {},
   "outputs": [],
   "source": [
    "cl_pcl=Mi@pcl0['pcl_b']\n",
    "cl_pcl_cov=Mi@pcl0['cov']@Mi.T\n",
    "cl_xi=Wi@xiH0['xi']\n",
    "cl_xi_cov=Wi@xiH0['cov']@Wi.T"
   ]
  },
  {
   "cell_type": "code",
   "execution_count": null,
   "metadata": {},
   "outputs": [],
   "source": [
    "cl=pcl0_nW['pcl_b']\n",
    "cl_cov=pcl0_nW['cov']"
   ]
  },
  {
   "cell_type": "code",
   "execution_count": null,
   "metadata": {},
   "outputs": [],
   "source": [
    "cl_pcl_SN=SN_cum(cov=cl_pcl_cov,lb=lb,cl=cl_pcl,lmin=10)\n",
    "cl_xi_SN=SN_cum(cov=cl_xi_cov,lb=lb,cl=cl_xi,lmin=10)\n",
    "\n",
    "cl_SN=SN_cum(cov=cl_cov,lb=lb,cl=cl,lmin=10)"
   ]
  },
  {
   "cell_type": "code",
   "execution_count": null,
   "metadata": {},
   "outputs": [],
   "source": [
    "plot(lb,cl_xi_SN)\n",
    "plot(lb,cl_pcl_SN,'--')\n",
    "plot(lb,cl_SN,':')\n",
    "loglog()"
   ]
  },
  {
   "cell_type": "code",
   "execution_count": null,
   "metadata": {},
   "outputs": [],
   "source": [
    "plot(lb,cl0[corr][bi])\n",
    "plot(lb,cl,':')\n",
    "plot(lb,Mi@pcl0['pcl_b'])\n",
    "plot(lb,Wi@xiH0['xi'])\n",
    "loglog()"
   ]
  },
  {
   "cell_type": "code",
   "execution_count": null,
   "metadata": {},
   "outputs": [],
   "source": [
    "lb"
   ]
  },
  {
   "cell_type": "code",
   "execution_count": null,
   "metadata": {},
   "outputs": [],
   "source": []
  }
 ],
 "metadata": {
  "hide_input": false,
  "kernelspec": {
   "display_name": "conda",
   "language": "python",
   "name": "conda"
  },
  "language_info": {
   "codemirror_mode": {
    "name": "ipython",
    "version": 3
   },
   "file_extension": ".py",
   "mimetype": "text/x-python",
   "name": "python",
   "nbconvert_exporter": "python",
   "pygments_lexer": "ipython3",
   "version": "3.8.2"
  }
 },
 "nbformat": 4,
 "nbformat_minor": 2
}
