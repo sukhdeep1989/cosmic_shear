{
 "cells": [
  {
   "cell_type": "code",
   "execution_count": 1,
   "metadata": {},
   "outputs": [],
   "source": [
    "import spherical_functions as sf\n",
    "# import quaternion\n",
    "# from scipy.special import lpmn as pl\n",
    "from scipy.special import eval_legendre as pl\n",
    "from multiprocessing import Pool,cpu_count\n",
    "from functools import partial\n",
    "import mpmath\n",
    "\n",
    "from scipy.special import poch,hyp2f1,gamma,loggamma\n",
    "\n",
    "from scipy.special import binom,jn,loggamma\n",
    "#from scipy.special import hyp2f1 as h21\n",
    "from scipy.special import eval_jacobi as jacobi\n",
    "\n",
    "from sympy.physics.wigner import wigner_3j\n",
    "import sparse\n",
    "\n",
    "from sympy import Integer\n",
    "from sympy import sqrt as sy_sqrt\n",
    "from sympy import exp as sy_exp\n",
    "from sympy import log as sy_log\n",
    "\n",
    "from mpmath import exp as mp_exp\n",
    "from mpmath import log as mp_log"
   ]
  },
  {
   "cell_type": "code",
   "execution_count": 2,
   "metadata": {},
   "outputs": [],
   "source": [
    "from sympy import log as sy_log\n",
    "from sympy import exp as sy_exp"
   ]
  },
  {
   "cell_type": "code",
   "execution_count": 3,
   "metadata": {},
   "outputs": [
    {
     "name": "stdout",
     "output_type": "stream",
     "text": [
      "CPU times: user 130 ms, sys: 5 µs, total: 130 ms\n",
      "Wall time: 130 ms\n"
     ]
    }
   ],
   "source": [
    "%time x=wigner_3j(1000,1000,100,0,0,0)"
   ]
  },
  {
   "cell_type": "code",
   "execution_count": 122,
   "metadata": {},
   "outputs": [],
   "source": [
    "def hyper2f1(a,b,c,z):\n",
    "    h=loggamma(c)-loggamma(b)-loggamma(c-b)\n",
    "    \n",
    "    t=np.linspace(0,1,1000)\n",
    "    dt=np.gradient(t)\n",
    "    \n",
    "    i_log=t*(b-1.)\n",
    "    i_log+=(1.-t)*(c-b-1)\n",
    "    i_log-=(1.-t*z)*a\n",
    "    i=np.exp(i_log)\n",
    "    h+=np.log(np.sum(i*dt))\n",
    "    print(h)\n",
    "    return np.exp(h)"
   ]
  },
  {
   "cell_type": "code",
   "execution_count": 123,
   "metadata": {},
   "outputs": [
    {
     "name": "stdout",
     "output_type": "stream",
     "text": [
      "1.3910528844853505\n",
      "1.5996295880322284\n",
      "4.951198101656879\n"
     ]
    }
   ],
   "source": [
    "n=1\n",
    "# n=np.arange(1.e4,1.001e4)\n",
    "a=1\n",
    "b=4\n",
    "z=0.9\n",
    "print(hyp2f1(n,a,b,z))\n",
    "print(hyper2f1(n,a,b,z))\n",
    "\n",
    "# %time print (hyp2f1(-n,1.+a+b+n, 1+a, z))\n",
    "# %time print (hyp2f1(1+a+n,b+n, 1+a, z))\n",
    "# %time print (hyp2f1(-n,1.+a+b+n, 1+a, 1-z))\n",
    "# %time print (hyp2f1(-n,1.+a+b+n, 1+a, z/(z-1)))\n",
    "# %time print (mpmath.hyp2f1(-n,1.+a+b+n, 1+a, z,maxprec=10**30))\n",
    "# %time print (hyper2f1(-n,1.+a+b+n, 1+a, z))"
   ]
  },
  {
   "cell_type": "raw",
   "metadata": {},
   "source": [
    "indices = np.int32(np.array([[ell,mp,m] for ell in l\n",
    "... for mp in range(-ell, ell+1) for m in range(-ell, ell+1)]))"
   ]
  },
  {
   "cell_type": "raw",
   "metadata": {},
   "source": [
    "alpha, beta, gamma = 0., np.pi/2./100, 0.\n",
    "Re = quaternion.from_euler_angles(alpha, beta, gamma)\n",
    "m1=0\n",
    "m2=0\n",
    "l=np.arange(100)+3\n",
    "indices = np.array([[ell,0,0] for ell in l])\n",
    "el=np.zeros_like(l,dtype='complex')\n",
    "# %time sf._Wigner_D_element(Re.a,Re.b, indices,el)\n",
    "#el=sf.Wigner_D_element(Re, indices)\n",
    "%time el=sf.Wigner3j(1000,200,300,0,0,0)\n",
    "%time pl0=pl(l,np.cos(beta))"
   ]
  },
  {
   "cell_type": "code",
   "execution_count": 124,
   "metadata": {},
   "outputs": [],
   "source": [
    "def jacobi2(a,b,cos_theta,l):\n",
    "    j=jacobi(l,a,b,cos_theta)\n",
    "    print (j.shape,l,a,cos_theta.shape)\n",
    "    return \n",
    "\n",
    "\n",
    "def log_factorial(n):\n",
    "    return loggamma(n+1)\n",
    "\n",
    "def log_binom(n,k):\n",
    "    if k>n:\n",
    "        return 0\n",
    "    return log_factorial(n)-log_factorial(k)-log_factorial(n-k)\n",
    "\n",
    "def wigner_d(m1,m2,theta,l,l_use_bessel=1.e4):\n",
    "    l0=np.copy(l)\n",
    "    if l_use_bessel is not None:\n",
    "        l=np.atleast_1d(l)\n",
    "        x=l<l_use_bessel\n",
    "        l=np.atleast_1d(l[x])\n",
    "    k=np.amin([l-m1,l-m2,l+m1,l+m2],axis=0)\n",
    "    a=np.absolute(m1-m2)\n",
    "    lamb=0 #lambda\n",
    "    if m2>m1:\n",
    "        lamb=m2-m1\n",
    "    b=2*l-2*k-a\n",
    "    d_mat=(-1)**lamb\n",
    "    d_mat*=np.sqrt(binom(2*l-k,k+a)) #this gives array of shape l with elements choose(2l[i]-k[i], k[i]+a)\n",
    "#     print(binom(2*l-k,k+a),binom(k+b,b))\n",
    "    d_mat/=np.sqrt(binom(k+b,b))\n",
    "#     bt=log_binom(2*l-k,k+a)-log_binom(k+b,b)\n",
    "#     bt*=0.5\n",
    "#     d_mat=np.exp(bt)\n",
    "#     print(d_mat,bt)\n",
    "\n",
    "    d_mat=np.atleast_1d(d_mat)\n",
    "    x=k<0\n",
    "    d_mat[x]=0\n",
    "    d_mat=d_mat.reshape(1,len(d_mat))\n",
    "    theta=theta.reshape(len(theta),1)\n",
    "    d_mat=d_mat*((np.sin(theta/2.0)**a)*(np.cos(theta/2.0)**b))\n",
    "    d_mat*=jacobi(l,a,b,np.cos(theta))\n",
    "#     print(jacobi(l,a,b,np.cos(theta)))\n",
    "    if l_use_bessel is not None:\n",
    "        l=np.atleast_1d(l0)\n",
    "        x=l>=l_use_bessel\n",
    "        l=np.atleast_1d(l[x])\n",
    "#         print(d_mat.shape,jn(m1-m2,l*theta).shape)\n",
    "        d_mat=np.append(d_mat,jn(m1-m2,l*theta),axis=1)\n",
    "#         crash\n",
    "#     x2=np.isnan(d_mat)\n",
    "#     x=np.where(x2)\n",
    "#     l=np.atleast_1d(l)\n",
    "#     d_mat[x2]=jn(m1-m2,l[x[1]]*theta[x[0],0])\n",
    "    \n",
    "    return d_mat        "
   ]
  },
  {
   "cell_type": "code",
   "execution_count": 125,
   "metadata": {},
   "outputs": [
    {
     "ename": "NameError",
     "evalue": "name 'j1' is not defined",
     "output_type": "error",
     "traceback": [
      "\u001b[0;31m---------------------------------------------------------------------------\u001b[0m",
      "\u001b[0;31mNameError\u001b[0m                                 Traceback (most recent call last)",
      "\u001b[0;32m<ipython-input-125-b9cdb2b75f6f>\u001b[0m in \u001b[0;36m<module>\u001b[0;34m()\u001b[0m\n\u001b[0;32m----> 1\u001b[0;31m \u001b[0mwigner_d\u001b[0m\u001b[0;34m(\u001b[0m\u001b[0mj1\u001b[0m\u001b[0;34m-\u001b[0m\u001b[0mj3\u001b[0m\u001b[0;34m,\u001b[0m\u001b[0mm1\u001b[0m\u001b[0;34m,\u001b[0m\u001b[0mnp\u001b[0m\u001b[0;34m.\u001b[0m\u001b[0matleast_1d\u001b[0m\u001b[0;34m(\u001b[0m\u001b[0mnp\u001b[0m\u001b[0;34m.\u001b[0m\u001b[0mpi\u001b[0m\u001b[0;34m/\u001b[0m\u001b[0;36m2\u001b[0m\u001b[0;34m)\u001b[0m\u001b[0;34m,\u001b[0m\u001b[0mj2\u001b[0m\u001b[0;34m,\u001b[0m\u001b[0;34m)\u001b[0m\u001b[0;31m#l_use_bessel=100)\u001b[0m\u001b[0;34m\u001b[0m\u001b[0m\n\u001b[0m",
      "\u001b[0;31mNameError\u001b[0m: name 'j1' is not defined"
     ]
    }
   ],
   "source": [
    "wigner_d(j1-j3,m1,np.atleast_1d(np.pi/2),j2,)#l_use_bessel=100)"
   ]
  },
  {
   "cell_type": "code",
   "execution_count": 126,
   "metadata": {},
   "outputs": [],
   "source": [
    "l=np.arange(1e4,1.1e4)#+1000\n",
    "m1=2\n",
    "m2=2\n",
    "d2r=np.pi/180.\n",
    "theta=np.linspace(0.1,5,20)*d2r"
   ]
  },
  {
   "cell_type": "code",
   "execution_count": 127,
   "metadata": {},
   "outputs": [
    {
     "data": {
      "text/plain": [
       "0.0017453292519943296"
      ]
     },
     "execution_count": 127,
     "metadata": {},
     "output_type": "execute_result"
    }
   ],
   "source": [
    "theta[0]"
   ]
  },
  {
   "cell_type": "code",
   "execution_count": 128,
   "metadata": {},
   "outputs": [],
   "source": [
    "j0=jn(4,l*theta[1])\n",
    "j2=jn(2,l*theta[2])"
   ]
  },
  {
   "cell_type": "code",
   "execution_count": 129,
   "metadata": {},
   "outputs": [
    {
     "data": {
      "text/plain": [
       "[<matplotlib.lines.Line2D at 0x7f6ece2170f0>]"
      ]
     },
     "execution_count": 129,
     "metadata": {},
     "output_type": "execute_result"
    },
    {
     "name": "stderr",
     "output_type": "stream",
     "text": [
      "/usr/lib/python3.7/site-packages/matplotlib/font_manager.py:1331: UserWarning: findfont: Font family ['serif'] not found. Falling back to DejaVu Sans\n",
      "  (prop.get_family(), self.defaultFamily[fontext]))\n"
     ]
    },
    {
     "data": {
      "image/png": "[encoded data removed]",
      "text/plain": [
       "<Figure size 1500x1125 with 1 Axes>"
      ]
     },
     "metadata": {},
     "output_type": "display_data"
    }
   ],
   "source": [
    "plot(l,j0*j2)"
   ]
  },
  {
   "cell_type": "code",
   "execution_count": 209,
   "metadata": {},
   "outputs": [
    {
     "name": "stderr",
     "output_type": "stream",
     "text": [
      "/usr/lib/python3.7/site-packages/ipykernel_launcher.py:30: RuntimeWarning: invalid value encountered in true_divide\n",
      "/usr/lib/python3.7/site-packages/ipykernel_launcher.py:30: RuntimeWarning: divide by zero encountered in true_divide\n"
     ]
    },
    {
     "data": {
      "text/plain": [
       "-749.241686792393"
      ]
     },
     "execution_count": 209,
     "metadata": {},
     "output_type": "execute_result"
    }
   ],
   "source": [
    "l=np.arange(1e4)\n",
    "dm=wigner_d(2,2,np.atleast_1d(theta[1]),l)\n",
    "dm2=wigner_d(0,2,np.atleast_1d(theta[1]),l)\n",
    "(dm[0]*sqrt(2*l+1)).sum()"
   ]
  },
  {
   "cell_type": "code",
   "execution_count": 210,
   "metadata": {},
   "outputs": [
    {
     "name": "stderr",
     "output_type": "stream",
     "text": [
      "/usr/lib/python3.7/site-packages/matplotlib/font_manager.py:1331: UserWarning: findfont: Font family ['serif'] not found. Falling back to DejaVu Sans\n",
      "  (prop.get_family(), self.defaultFamily[fontext]))\n"
     ]
    },
    {
     "data": {
      "image/png": "[encoded data removed]",
      "text/plain": [
       "<Figure size 1500x1125 with 1 Axes>"
      ]
     },
     "metadata": {},
     "output_type": "display_data"
    }
   ],
   "source": [
    "y=dm[0]*sqrt(2*l+1)\n",
    "y02=np.cumsum(y)\n",
    "\n",
    "y2=dm2[0]*sqrt(2*l+1)\n",
    "y22=np.cumsum(y2)\n",
    "\n",
    "\n",
    "plot(l,y02,'b.')\n",
    "plot(l,y22,'r.')\n",
    "xscale('log')\n",
    "yscale('log')"
   ]
  },
  {
   "cell_type": "code",
   "execution_count": 137,
   "metadata": {},
   "outputs": [
    {
     "data": {
      "text/plain": [
       "[<matplotlib.lines.Line2D at 0x7f6ec7fc50b8>]"
      ]
     },
     "execution_count": 137,
     "metadata": {},
     "output_type": "execute_result"
    },
    {
     "name": "stderr",
     "output_type": "stream",
     "text": [
      "/usr/lib/python3.7/site-packages/matplotlib/font_manager.py:1331: UserWarning: findfont: Font family ['serif'] not found. Falling back to DejaVu Sans\n",
      "  (prop.get_family(), self.defaultFamily[fontext]))\n"
     ]
    },
    {
     "data": {
      "image/png": "[encoded data removed]",
      "text/plain": [
       "<Figure size 1500x1125 with 1 Axes>"
      ]
     },
     "metadata": {},
     "output_type": "display_data"
    }
   ],
   "source": [
    "plot(l,dm[0])"
   ]
  },
  {
   "cell_type": "code",
   "execution_count": 46,
   "metadata": {},
   "outputs": [],
   "source": [
    "dm=wigner_d(m1,m2,theta,np.arange(1.e3,1.001e4))"
   ]
  },
  {
   "cell_type": "code",
   "execution_count": 22,
   "metadata": {},
   "outputs": [
    {
     "name": "stdout",
     "output_type": "stream",
     "text": [
      "[] []\n",
      "[]\n"
     ]
    }
   ],
   "source": [
    "dm=wigner_d(m1,m2,theta,np.arange(1.e4,1.001e4))"
   ]
  },
  {
   "cell_type": "code",
   "execution_count": 9,
   "metadata": {},
   "outputs": [
    {
     "name": "stdout",
     "output_type": "stream",
     "text": [
      "[] []\n",
      "[]\n",
      "CPU times: user 16.5 ms, sys: 3.23 ms, total: 19.7 ms\n",
      "Wall time: 17.1 ms\n"
     ]
    },
    {
     "name": "stderr",
     "output_type": "stream",
     "text": [
      "/usr/lib/python3.7/site-packages/ipykernel_launcher.py:11: DeprecationWarning: The truth value of an empty array is ambiguous. Returning False, but in future this will result in an error. Use `array.size > 0` to check that an array is not empty.\n",
      "  # This is added back by InteractiveShellApp.init_path()\n"
     ]
    }
   ],
   "source": [
    "%time dm=wigner_d(m1,m2,theta,l)"
   ]
  },
  {
   "cell_type": "code",
   "execution_count": 10,
   "metadata": {},
   "outputs": [
    {
     "data": {
      "text/plain": [
       "(20, 1000)"
      ]
     },
     "execution_count": 10,
     "metadata": {},
     "output_type": "execute_result"
    }
   ],
   "source": [
    "dm.shape"
   ]
  },
  {
   "cell_type": "code",
   "execution_count": 11,
   "metadata": {},
   "outputs": [
    {
     "name": "stderr",
     "output_type": "stream",
     "text": [
      "/usr/lib/python3.7/site-packages/ipykernel_launcher.py:11: DeprecationWarning: The truth value of an empty array is ambiguous. Returning False, but in future this will result in an error. Use `array.size > 0` to check that an array is not empty.\n",
      "  # This is added back by InteractiveShellApp.init_path()\n",
      "/usr/lib/python3.7/site-packages/ipykernel_launcher.py:11: DeprecationWarning: The truth value of an empty array is ambiguous. Returning False, but in future this will result in an error. Use `array.size > 0` to check that an array is not empty.\n",
      "  # This is added back by InteractiveShellApp.init_path()\n",
      "/usr/lib/python3.7/site-packages/ipykernel_launcher.py:11: DeprecationWarning: The truth value of an empty array is ambiguous. Returning False, but in future this will result in an error. Use `array.size > 0` to check that an array is not empty.\n",
      "  # This is added back by InteractiveShellApp.init_path()\n",
      "/usr/lib/python3.7/site-packages/ipykernel_launcher.py:11: DeprecationWarning: The truth value of an empty array is ambiguous. Returning False, but in future this will result in an error. Use `array.size > 0` to check that an array is not empty.\n",
      "  # This is added back by InteractiveShellApp.init_path()\n",
      "/usr/lib/python3.7/site-packages/ipykernel_launcher.py:11: DeprecationWarning: The truth value of an empty array is ambiguous. Returning False, but in future this will result in an error. Use `array.size > 0` to check that an array is not empty.\n",
      "  # This is added back by InteractiveShellApp.init_path()\n"
     ]
    },
    {
     "name": "stdout",
     "output_type": "stream",
     "text": [
      "[] []\n",
      "[] []\n",
      "[] []\n",
      "[] []\n",
      "[] []\n",
      "[]\n",
      "[]\n",
      "[]\n",
      "[]\n",
      "[]\n",
      "[] []\n",
      "[] []\n",
      "[] []\n",
      "[] []\n",
      "[] []\n",
      "[]\n",
      "[]\n",
      "[]\n",
      "[]\n",
      "[] []\n",
      "[] []\n",
      "[]\n",
      "[] []\n",
      "[]\n",
      "[]\n",
      "[] []\n",
      "[] []\n",
      "[]\n",
      "[] []\n",
      "[] []\n",
      "[]\n",
      "[]\n",
      "[] []\n",
      "[]\n",
      "[]\n",
      "[] []\n",
      "[]\n",
      "[] []\n",
      "[] []\n",
      "[] []\n",
      "[] []\n",
      "[]\n",
      "[]\n",
      "[]\n",
      "[]\n",
      "[]\n",
      "[] []\n",
      "[] []\n",
      "[] []\n",
      "[]\n",
      "[] []\n",
      "[] []\n",
      "[]\n",
      "[]\n",
      "[]\n",
      "[]\n",
      "[] []\n",
      "[] []\n",
      "[] []\n",
      "[]\n",
      "[] []\n",
      "[] []\n",
      "[]\n",
      "[]\n",
      "[] []\n",
      "[]\n",
      "[] []\n",
      "[]\n",
      "[] []\n",
      "[] []\n",
      "[]\n",
      "[]\n",
      "[]\n",
      "[] []\n",
      "[]\n",
      "[] []\n",
      "[] []\n",
      "[] []\n",
      "[]\n",
      "[] []\n",
      "[]\n",
      "[]\n",
      "[]\n",
      "[] []\n",
      "[] []\n",
      "[] []\n",
      "[]\n",
      "[]\n",
      "[]\n",
      "[] []\n",
      "[]\n",
      "[] []\n",
      "[]\n",
      "[] []\n",
      "[] []\n",
      "[] []\n",
      "[] []\n",
      "[]\n",
      "[]\n",
      "[]\n",
      "[]\n",
      "[]\n",
      "[] []\n",
      "[] []\n",
      "[] []\n",
      "[] []\n",
      "[] []\n",
      "[]\n",
      "[]\n",
      "[]\n",
      "[]\n",
      "[]\n",
      "[] []\n",
      "[] []\n",
      "[] []\n",
      "[] []\n",
      "[]\n",
      "[] []\n",
      "[]\n",
      "[]\n",
      "[]\n",
      "[]\n",
      "[] []\n",
      "[] []\n",
      "[]\n",
      "[] []\n",
      "[] []\n",
      "[] []\n",
      "[]\n",
      "[]\n",
      "[]\n",
      "[]\n",
      "[] []\n",
      "[] []\n",
      "[] []\n",
      "[] []\n",
      "[]\n",
      "[] []\n",
      "[]\n",
      "[] []\n",
      "[]\n",
      "[]\n",
      "[] []\n",
      "[] []\n",
      "[]\n",
      "[] []\n",
      "[]\n",
      "[]\n",
      "[] []\n",
      "[] []\n",
      "[]\n",
      "[] []\n",
      "[]\n",
      "[]\n",
      "[] []\n",
      "[] []\n",
      "[]\n",
      "[] []\n",
      "[]\n",
      "[]\n",
      "[]\n",
      "[] []\n",
      "[] []\n",
      "[] []\n",
      "[]\n",
      "[] []\n",
      "[]\n",
      "[]\n",
      "[]\n",
      "[]\n",
      "[] []\n",
      "[] []\n",
      "[] []\n",
      "[] []\n",
      "[]\n",
      "[]\n",
      "[] []\n",
      "[]\n",
      "[]\n",
      "[]\n",
      "[] []\n",
      "[] []\n",
      "[] []\n",
      "[] []\n",
      "[]\n",
      "[] []\n",
      "[]\n",
      "[]\n",
      "[]\n",
      "[] []\n",
      "[]\n",
      "[] []\n",
      "[] []\n",
      "[] []\n",
      "[]\n",
      "[] []\n",
      "[]\n",
      "[]\n",
      "[]\n",
      "[]\n",
      "[] []\n",
      "[] []\n",
      "[] []\n",
      "[]\n",
      "[] []\n",
      "[]\n",
      "[] []\n",
      "[]\n",
      "[] []\n",
      "[]\n",
      "[]\n",
      "[] []\n",
      "[] []\n",
      "[]\n",
      "[] []\n",
      "[]\n",
      "[]\n",
      "[] []\n",
      "[] []\n",
      "[]\n",
      "[] []\n",
      "[]\n",
      "[] []\n",
      "[]\n",
      "[] []\n",
      "[]\n",
      "[] []\n",
      "[]\n",
      "[] []\n",
      "[]\n",
      "[]\n",
      "[] []\n",
      "[] []\n",
      "[]\n",
      "[] []\n",
      "[]\n",
      "[]\n",
      "[] []\n",
      "[]\n",
      "[] []\n",
      "[] []\n",
      "[] []\n",
      "[]\n",
      "[]\n",
      "[]\n",
      "[] []\n",
      "[]\n",
      "[] []\n",
      "[]\n",
      "[] []\n",
      "[] []\n",
      "[] []\n",
      "[]\n",
      "[]\n",
      "[]\n",
      "[] []\n",
      "[]\n",
      "[] []\n",
      "[] []\n",
      "[]\n",
      "[]\n",
      "[]\n",
      "[] []\n",
      "[] []\n",
      "[] []\n",
      "[]\n",
      "[] []\n",
      "[]\n",
      "[] []\n",
      "[]\n",
      "[] []\n",
      "[] []\n",
      "[]\n",
      "[]\n",
      "[] []\n",
      "[]\n",
      "[]\n",
      "[] []\n",
      "[] []\n",
      "[]\n",
      "[]\n",
      "[] []\n",
      "[] []\n",
      "[]\n",
      "[] []\n",
      "[] []\n",
      "[]\n",
      "[]\n",
      "[]\n",
      "[] []\n",
      "[] []\n",
      "[]\n",
      "[]\n",
      "[] []\n",
      "[] []\n",
      "[]\n",
      "[] []\n",
      "[]\n",
      "[] []\n",
      "[]\n",
      "[] []\n",
      "[]\n",
      "[] []\n",
      "[]\n",
      "[] []\n",
      "[] []\n",
      "[]\n",
      "[] []\n",
      "[]\n",
      "[]\n",
      "[] []\n",
      "[]\n",
      "[]\n",
      "[] []\n",
      "[] []\n",
      "[]\n",
      "[]\n",
      "[] []\n",
      "[] []\n",
      "[]\n",
      "[]\n",
      "[] []\n",
      "[]\n",
      "[] []\n",
      "[] []\n",
      "[]\n",
      "[]\n",
      "[] []\n",
      "[] []\n",
      "[]\n",
      "[] []\n",
      "[] []\n",
      "[]\n",
      "[]\n",
      "[]\n",
      "[]\n",
      "[] []\n",
      "[] []\n",
      "[] []\n",
      "[] []\n",
      "[] []\n",
      "[]\n",
      "[]\n",
      "[]\n",
      "[]\n",
      "[]\n",
      "[] []\n",
      "[] []\n",
      "[] []\n",
      "[] []\n",
      "[]\n",
      "[] []\n",
      "[]\n",
      "[]\n",
      "[]\n",
      "[]\n",
      "[] []\n",
      "[] []\n",
      "[]\n",
      "[] []\n",
      "[] []\n",
      "[] []\n",
      "[]\n",
      "[] []\n",
      "[]\n",
      "[]\n",
      "[]\n",
      "[]\n",
      "[] []\n",
      "[] []\n",
      "[] []\n",
      "[] []\n",
      "[]\n",
      "[] []\n",
      "[]\n",
      "[]\n",
      "[]\n",
      "[]\n",
      "[] []\n",
      "[] []\n",
      "[] []\n",
      "[] []\n",
      "[] []\n",
      "[]\n",
      "[]\n",
      "[]\n",
      "[]\n",
      "[] []\n",
      "[] []\n",
      "[]\n",
      "[] []\n",
      "[] []\n",
      "[]\n",
      "[] []\n",
      "[]\n",
      "[] []\n",
      "[]\n",
      "[]\n",
      "[]\n",
      "[]\n",
      "[] []\n",
      "[] []\n",
      "[] []\n",
      "[] []\n",
      "[]\n",
      "[]\n",
      "[] []\n",
      "[]\n",
      "[] []\n",
      "[]\n",
      "[] []\n",
      "[]\n",
      "[] []\n",
      "[]\n",
      "[] []\n",
      "[]\n",
      "[] []\n",
      "[]\n",
      "[]\n",
      "[] []\n",
      "[] []\n",
      "[]\n",
      "[] []\n",
      "[]\n",
      "[] []\n",
      "[]\n",
      "[] []\n",
      "[]\n",
      "[] []\n",
      "[] []\n",
      "[] []\n",
      "[]\n",
      "[]\n",
      "[]\n",
      "[]\n",
      "[]\n",
      "[] []\n",
      "[] []\n",
      "[] []\n",
      "[] []\n",
      "[]\n",
      "[] []\n",
      "[]\n",
      "[]\n",
      "[]\n",
      "[] []\n",
      "[] []\n",
      "[] []\n",
      "[]\n",
      "[]\n",
      "[] []\n",
      "[]\n",
      "[]\n",
      "[]\n",
      "[] []\n",
      "[] []\n",
      "[] []\n",
      "[]\n",
      "[] []\n",
      "[]\n",
      "[] []\n",
      "[] []\n",
      "[]\n",
      "[]\n",
      "[] []\n",
      "[]\n",
      "[]\n",
      "[] []\n",
      "[] []\n",
      "[]\n",
      "[] []\n",
      "[] []\n",
      "[]\n",
      "[] []\n",
      "[]\n",
      "[]\n",
      "[]\n",
      "[] []\n",
      "[]\n",
      "[] []\n",
      "[] []\n",
      "[]\n",
      "[] []\n",
      "[] []\n",
      "[]\n",
      "[]\n",
      "[]\n",
      "[]\n",
      "[] []\n",
      "[] []\n",
      "[] []\n",
      "[] []\n",
      "[]\n",
      "[] []\n",
      "[]\n",
      "[]\n",
      "[] []\n",
      "[]\n",
      "[]\n",
      "[] []\n",
      "[] []\n",
      "[]\n",
      "[] []\n",
      "[]\n",
      "[]\n",
      "[] []\n",
      "[] []\n",
      "[] []\n",
      "[]\n",
      "[]\n",
      "[]\n",
      "[]\n",
      "[] []\n",
      "[] []\n",
      "[] []\n",
      "[]\n",
      "[] []\n",
      "[] []\n",
      "[]\n",
      "[]\n",
      "[] []\n",
      "[]\n",
      "[] []\n",
      "[]\n",
      "[] []\n",
      "[]\n",
      "[]\n",
      "[]\n",
      "[] []\n",
      "[] []\n",
      "[]\n",
      "[] []\n",
      "[] []\n",
      "[]\n",
      "[] []\n",
      "[]\n",
      "[] []\n",
      "[] []\n",
      "[]\n",
      "[] []\n",
      "[]\n",
      "[]\n",
      "[]\n",
      "[] []\n",
      "[] []\n",
      "[] []\n",
      "[]\n",
      "[] []\n",
      "[]\n",
      "[]\n",
      "[] []\n",
      "[]\n",
      "[]\n",
      "[] []\n",
      "[] []\n",
      "[]\n",
      "[]\n",
      "[] []\n",
      "[]\n",
      "[] []\n",
      "[] []\n",
      "[] []\n",
      "[]\n",
      "[]\n",
      "[]\n",
      "[] []\n",
      "[]\n",
      "[]\n",
      "[] []\n",
      "[] []\n",
      "[] []\n",
      "[] []\n",
      "[] []\n",
      "[]\n",
      "[]\n",
      "[]\n",
      "[]\n",
      "[]\n",
      "[] []\n",
      "[] []\n",
      "[] []\n",
      "[]\n",
      "[] []\n",
      "[] []\n",
      "[]\n",
      "[]\n",
      "[] []\n",
      "[] []\n",
      "[]\n",
      "[]\n",
      "[] []\n",
      "[]\n",
      "[]\n",
      "[] []\n",
      "[] []\n",
      "[] []\n",
      "[]\n",
      "[] []\n",
      "[]\n",
      "[]\n",
      "[]\n",
      "[] []\n",
      "[]\n",
      "[] []\n",
      "[]\n",
      "[]\n",
      "[] []\n",
      "[] []\n",
      "[] []\n",
      "[] []\n",
      "[]\n",
      "[] []\n",
      "[]\n",
      "[]\n",
      "[]\n",
      "[] []\n",
      "[]\n",
      "[] []\n",
      "[] []\n",
      "[] []\n",
      "[]\n",
      "[]\n",
      "[]\n",
      "[]\n",
      "[] []\n",
      "[] []\n",
      "[] []\n",
      "[] []\n",
      "[]\n",
      "[] []\n",
      "[]\n",
      "[]\n",
      "[]\n",
      "[] []\n",
      "[] []\n",
      "[]\n",
      "[] []\n",
      "[] []\n",
      "[]\n",
      "[]\n",
      "[]\n",
      "[] []\n",
      "[] []\n",
      "[]\n",
      "[] []\n",
      "[]\n",
      "[] []\n",
      "[]\n",
      "[] []\n",
      "[]\n",
      "[] []\n",
      "[]\n",
      "[]\n",
      "[] []\n",
      "[] []\n",
      "[] []\n",
      "[]\n",
      "[] []\n",
      "[]\n",
      "[]\n",
      "[]\n",
      "[] []\n",
      "[] []\n",
      "[] []\n",
      "[] []\n",
      "[]\n",
      "[]\n",
      "[]\n",
      "[]\n",
      "[]\n",
      "[] []\n",
      "[] []\n",
      "[] []\n",
      "[]\n",
      "[] []\n",
      "[]\n",
      "[] []\n",
      "[]\n",
      "[] []\n",
      "[]\n",
      "[]\n",
      "[]\n",
      "[] []\n",
      "[] []\n",
      "[] []\n",
      "[]\n",
      "[] []\n",
      "[]\n",
      "[] []\n",
      "[]\n",
      "[] []\n",
      "[] []\n",
      "[]\n",
      "[] []\n",
      "[]\n",
      "[]\n",
      "[]\n",
      "[] []\n",
      "[]\n",
      "[] []\n",
      "[] []\n",
      "[]\n",
      "[] []\n",
      "[]\n",
      "[] []\n",
      "[]\n",
      "[] []\n",
      "[]\n",
      "[]\n",
      "[] []\n",
      "[] []\n",
      "[] []\n",
      "[] []\n",
      "[]\n",
      "[]\n",
      "[]\n",
      "[]\n",
      "[] []\n",
      "[] []\n",
      "[] []\n",
      "[] []\n",
      "[]\n",
      "[]\n",
      "[]\n",
      "[]\n",
      "[]\n",
      "[] []\n",
      "[] []\n",
      "[] []\n",
      "[] []\n",
      "[] []\n",
      "[]\n",
      "[]\n",
      "[]\n",
      "[]\n",
      "[]\n",
      "[] []\n",
      "[] []\n",
      "[] []\n",
      "[]\n",
      "[]\n",
      "[] []\n",
      "[] []\n",
      "[]\n",
      "[] []\n",
      "[] []\n",
      "[]\n",
      "[]\n",
      "[]\n",
      "[] []\n",
      "[]\n",
      "[]\n",
      "[] []\n",
      "[] []\n",
      "[] []\n",
      "[] []\n",
      "[]\n",
      "[]\n",
      "[] []\n",
      "[]\n",
      "[] []\n",
      "[]\n",
      "[]\n",
      "[] []\n",
      "[]\n",
      "[] []\n",
      "[] []\n",
      "[] []\n",
      "[]\n",
      "[]\n",
      "[] []\n",
      "[] []\n",
      "[] []\n",
      "[]\n",
      "[]\n",
      "[]\n",
      "[] []\n",
      "[] []\n",
      "[] []\n",
      "[]\n",
      "[]\n",
      "[]\n",
      "[] []\n",
      "[] []\n",
      "[]\n",
      "[]\n",
      "[] []\n",
      "[]\n",
      "[]\n",
      "[] []\n",
      "[] []\n",
      "[] []\n",
      "[]\n",
      "[]\n",
      "[] []\n",
      "[]\n",
      "[] []\n",
      "[]\n",
      "[]\n",
      "[] []\n",
      "[]\n",
      "[] []\n",
      "[]\n",
      "[] []\n",
      "[] []\n",
      "[] []\n",
      "[]\n",
      "[]\n",
      "[] []\n",
      "[]\n",
      "[]\n",
      "[]\n",
      "[] []\n",
      "[] []\n",
      "[] []\n",
      "[] []\n",
      "[]\n",
      "[]\n",
      "[]\n",
      "[] []\n",
      "[]\n",
      "[]\n",
      "[] []\n",
      "[] []\n",
      "[] []\n",
      "[]\n",
      "[] []\n",
      "[]\n",
      "[] []\n",
      "[]\n",
      "[] []\n",
      "[]\n",
      "[]\n",
      "[]\n",
      "[] []\n",
      "[] []\n",
      "[] []\n",
      "[] []\n",
      "[]\n",
      "[] []\n",
      "[]\n",
      "[]\n",
      "[]\n",
      "[] []\n",
      "[] []\n",
      "[]\n",
      "[] []\n",
      "[]\n",
      "[] []\n",
      "[]\n",
      "[]\n",
      "[] []\n",
      "[] []\n",
      "[] []\n",
      "[]\n",
      "[] []\n",
      "[]\n",
      "[]\n",
      "[]\n",
      "[] []\n",
      "[]\n",
      "[]\n",
      "[] []\n",
      "[] []\n",
      "[] []\n",
      "[]\n",
      "[] []\n",
      "[]\n",
      "[]\n",
      "[] []\n",
      "[] []\n",
      "[] []\n",
      "[]\n",
      "[] []\n",
      "[]\n",
      "[]\n",
      "[]\n",
      "[] []\n",
      "[]\n",
      "[] []\n",
      "[] []\n",
      "[] []\n",
      "[]\n",
      "[] []\n",
      "[]\n",
      "[]\n",
      "[]\n",
      "[] []\n",
      "[] []\n",
      "[] []\n",
      "[]\n",
      "[] []\n",
      "[]\n",
      "[]\n",
      "[]\n",
      "[]\n",
      "[] []\n",
      "[] []\n",
      "[]\n",
      "[] []\n",
      "[] []\n",
      "[] []\n",
      "[] []\n",
      "[]\n",
      "[]\n",
      "[]\n",
      "[]\n",
      "[]\n",
      "[] []\n",
      "[] []\n",
      "[] []\n",
      "[] []\n",
      "[]\n",
      "[] []\n",
      "[]\n",
      "[]\n",
      "[]\n",
      "[] []\n",
      "[]\n",
      "[] []\n",
      "[] []\n",
      "[] []\n",
      "[]\n",
      "[]\n",
      "[] []\n",
      "[]\n",
      "[]\n",
      "[] []\n",
      "[] []\n",
      "[]\n",
      "[]\n",
      "[] []\n",
      "[] []\n",
      "[] []\n",
      "[]\n",
      "[]\n",
      "[] []\n",
      "[]\n",
      "[]\n",
      "[] []\n",
      "[] []\n",
      "[]\n",
      "[] []\n",
      "[] []\n",
      "[]\n",
      "[]\n",
      "[] []\n",
      "[]\n",
      "[] []\n",
      "[]\n",
      "[] []\n",
      "[]\n",
      "[]\n",
      "[] []\n",
      "[] []\n",
      "[]\n",
      "[] []\n",
      "[]\n",
      "[]\n",
      "[] []\n",
      "[] []\n",
      "[] []\n",
      "[]\n",
      "[]\n",
      "[] []\n",
      "[] []\n",
      "[]\n",
      "[] []\n",
      "[]\n",
      "[]\n",
      "[]\n",
      "[]\n",
      "[] []\n",
      "[] []\n",
      "[] []\n",
      "[] []\n",
      "[]\n",
      "[]\n",
      "[]\n",
      "[]\n",
      "[] []\n",
      "[] []\n",
      "[] []\n",
      "[] []\n",
      "[]\n",
      "[]\n",
      "[] []\n",
      "[]\n",
      "[]\n",
      "[] []\n",
      "[] []\n",
      "[] []\n",
      "[] []\n",
      "[]\n",
      "[]\n",
      "[]\n",
      "[]\n",
      "[]\n",
      "[] []\n",
      "[] []\n",
      "[] []\n",
      "[] []\n",
      "[] []\n",
      "[]\n",
      "[]\n",
      "[]\n",
      "[]\n",
      "[]\n",
      "[] []\n",
      "[] []\n",
      "[] []\n",
      "[]\n",
      "[] []\n",
      "[]\n",
      "[] []\n",
      "[] []\n",
      "[]\n",
      "[]\n",
      "[] []\n",
      "[]\n",
      "[]\n",
      "[]\n",
      "[] []\n",
      "[] []\n",
      "[] []\n",
      "[] []\n",
      "[]\n",
      "[] []\n",
      "[]\n",
      "[]\n",
      "[]\n",
      "[]\n",
      "[] []\n",
      "[] []\n",
      "[] []\n",
      "[]\n",
      "[] []\n",
      "[] []\n",
      "[]\n",
      "[]\n",
      "[]\n",
      "[]\n",
      "[] []\n",
      "[] []\n",
      "[]\n",
      "[] []\n",
      "[]\n",
      "[] []\n",
      "[] []\n",
      "[] []\n",
      "[]\n",
      "[]\n",
      "[]\n",
      "[]\n",
      "[] []\n",
      "[] []\n",
      "[] []\n",
      "[] []\n",
      "[]\n",
      "[]\n",
      "[]\n",
      "[] []\n",
      "[]\n",
      "[]\n",
      "[] []\n",
      "[] []\n",
      "[] []\n",
      "[] []\n",
      "[]\n",
      "[] []\n",
      "[]\n",
      "[]\n",
      "[]\n",
      "[] []\n",
      "[]\n",
      "[] []\n",
      "[] []\n",
      "[] []\n",
      "[]\n",
      "[] []\n",
      "[]\n",
      "[]\n",
      "[]\n",
      "[] []\n",
      "[]\n",
      "[] []\n",
      "[]\n",
      "[] []\n",
      "[]\n",
      "[] []\n",
      "[] []\n",
      "[] []\n",
      "[]\n",
      "[] []\n",
      "[]\n",
      "[]\n",
      "[]\n",
      "[] []\n",
      "[] []\n",
      "[] []\n",
      "[] []\n",
      "[]\n",
      "[]\n",
      "[]\n",
      "[]\n",
      "[]\n",
      "[] []\n",
      "[] []\n",
      "[] []\n",
      "[] []\n",
      "[]\n",
      "[] []\n",
      "[]\n",
      "[]\n",
      "[]\n",
      "[]\n",
      "[] []\n",
      "[] []\n",
      "[]\n",
      "[] []\n",
      "[] []\n",
      "[] []\n",
      "[]\n",
      "[] []\n",
      "[]\n",
      "[]\n",
      "[]\n",
      "[]\n",
      "[] []\n",
      "[] []\n",
      "[] []\n",
      "[] []\n",
      "[]\n",
      "[]\n",
      "[] []\n",
      "[]\n",
      "[]\n",
      "[] []\n",
      "[] []\n",
      "[]\n",
      "[]\n",
      "[] []\n",
      "[] []\n",
      "[]\n",
      "[] []\n",
      "[] []\n",
      "[]\n",
      "[]\n",
      "[]\n",
      "[] []\n",
      "[]\n",
      "[] []\n",
      "[] []\n",
      "[] []\n",
      "[]\n",
      "[]\n",
      "[] []\n",
      "[]\n",
      "[]\n",
      "[] []\n",
      "[] []\n",
      "[] []\n",
      "[]\n",
      "[] []\n",
      "[]\n",
      "[]\n",
      "[]\n",
      "[] []\n",
      "[]\n",
      "[] []\n",
      "[] []\n",
      "[]\n",
      "[] []\n",
      "[]\n",
      "[] []\n",
      "[] []\n",
      "[]\n",
      "[]\n",
      "[]\n",
      "[]\n",
      "[] []\n",
      "[] []\n",
      "[] []\n",
      "[]\n",
      "[] []\n",
      "[]\n",
      "[] []\n",
      "[] []\n",
      "[]\n",
      "[]\n",
      "[]\n",
      "[]\n",
      "[] []\n",
      "[] []\n",
      "[] []\n",
      "[]\n",
      "[] []\n",
      "[] []\n",
      "[]\n",
      "[]\n",
      "[]\n",
      "[] []\n",
      "[]\n",
      "[]\n",
      "[] []\n",
      "[] []\n",
      "[] []\n",
      "[] []\n",
      "[] []\n",
      "[]\n",
      "[]\n",
      "[]\n",
      "[] []\n",
      "[] []\n",
      "[]\n",
      "[] []\n",
      "[]\n",
      "[]\n",
      "[]\n",
      "[] []\n",
      "[] []\n",
      "[] []\n",
      "[]\n",
      "[] []\n",
      "[]\n",
      "[]\n",
      "[] []\n",
      "[]\n",
      "[] []\n",
      "[]\n",
      "[] []\n",
      "[] []\n",
      "[]\n",
      "[]\n",
      "[] []\n",
      "[]\n",
      "[]\n",
      "[] []\n",
      "[] []\n",
      "[] []\n",
      "[]\n",
      "[]\n",
      "[] []\n",
      "[]\n",
      "[]\n",
      "[] []\n",
      "[] []\n",
      "[]\n",
      "[] []\n",
      "[] []\n",
      "[]\n",
      "[]\n",
      "[]\n",
      "[]\n",
      "[] []\n",
      "[] []\n",
      "[] []\n",
      "[]\n",
      "[] []\n",
      "[]\n",
      "[]\n",
      "[] []\n",
      "[] []\n",
      "[]\n",
      "[] []\n",
      "[]\n",
      "[] []\n",
      "[]\n",
      "[]\n",
      "[] []\n",
      "[] []\n",
      "[] []\n",
      "[]\n",
      "[]\n",
      "[] []\n",
      "[]\n",
      "[]\n",
      "[] []\n",
      "[] []\n",
      "[]\n",
      "[] []\n",
      "[]\n",
      "[] []\n",
      "[]\n",
      "[] []\n",
      "[]\n",
      "[]\n",
      "[] []\n",
      "[]\n",
      "[] []\n",
      "[] []\n",
      "[] []\n",
      "[]\n",
      "[] []\n",
      "[]\n",
      "[]\n",
      "[] []\n",
      "[]\n",
      "[] []\n",
      "[]\n",
      "[]\n",
      "[] []\n",
      "[]\n",
      "[] []\n",
      "[] []\n",
      "[] []\n",
      "[]\n",
      "[]\n",
      "[]\n",
      "[] []\n",
      "[]\n",
      "[] []\n",
      "[]\n",
      "[] []\n",
      "[] []\n",
      "[]\n",
      "[] []\n",
      "[] []\n",
      "[]\n",
      "[]\n",
      "[] []\n",
      "[]\n",
      "[]\n",
      "[] []\n",
      "[] []\n",
      "[]\n",
      "[] []\n",
      "[]\n",
      "[]\n",
      "[]\n",
      "[] []\n",
      "[] []\n",
      "[] []\n",
      "[] []\n",
      "[]\n",
      "[]\n",
      "[]\n",
      "[] []\n",
      "[]\n",
      "[] []\n",
      "[] []\n",
      "[]\n",
      "[]\n",
      "[] []\n",
      "[] []\n",
      "[]\n",
      "[]\n",
      "[] []\n",
      "[] []\n",
      "[]\n",
      "[] []\n",
      "[]\n",
      "[] []\n",
      "[]\n",
      "[] []\n",
      "[]\n",
      "[] []\n",
      "[]\n",
      "[]\n",
      "[] []\n",
      "[]\n",
      "[] []\n",
      "[]\n",
      "[] []\n",
      "[] []\n",
      "[]\n",
      "[] []\n",
      "[] []\n",
      "[]\n",
      "[]\n",
      "[]\n",
      "[]\n",
      "[] []\n",
      "[] []\n",
      "[] []\n",
      "[] []\n",
      "[]\n",
      "[] []\n",
      "[]\n",
      "[]\n",
      "[]\n",
      "[]\n",
      "[] []\n",
      "[] []\n",
      "[] []\n",
      "[] []\n",
      "[] []\n",
      "[]\n",
      "[]\n",
      "[]\n",
      "[]\n",
      "[] []\n",
      "[] []\n",
      "[]\n",
      "[] []\n",
      "[] []\n",
      "[]\n",
      "[]\n",
      "[] []\n",
      "[]\n",
      "[]\n",
      "[] []\n",
      "[] []\n",
      "[] []\n",
      "[] []\n",
      "[]\n",
      "[]\n",
      "[]\n",
      "[] []\n",
      "[]\n",
      "[]\n",
      "[] []\n",
      "[] []\n",
      "[]\n",
      "[] []\n",
      "[] []\n",
      "[] []\n",
      "[]\n",
      "[]\n",
      "[]\n",
      "[]\n",
      "[] []\n",
      "[] []\n",
      "[]\n",
      "[] []\n",
      "[] []\n",
      "[]\n",
      "[]\n",
      "[]\n",
      "[]\n",
      "[] []\n",
      "[] []\n",
      "[]\n",
      "[] []\n",
      "[]\n",
      "[] []\n",
      "[] []\n",
      "[] []\n",
      "[]\n",
      "[]\n",
      "[]\n",
      "[]\n",
      "[] []\n",
      "[] []\n",
      "[] []\n",
      "[]\n",
      "[] []\n",
      "[]\n",
      "[] []\n",
      "[]\n",
      "[] []\n",
      "[]\n",
      "[]\n",
      "[]\n",
      "[] []\n",
      "[] []\n",
      "[] []\n",
      "[] []\n",
      "[]\n",
      "[] []\n",
      "[]\n",
      "[]\n",
      "[]\n",
      "[] []\n",
      "[]\n",
      "[] []\n",
      "[]\n",
      "[] []\n",
      "[] []\n",
      "[] []\n",
      "[]\n",
      "[]\n",
      "[] []\n",
      "[]\n",
      "[]\n",
      "[] []\n",
      "[] []\n",
      "[]\n",
      "[] []\n",
      "[] []\n",
      "[]\n",
      "[]\n",
      "[]\n",
      "[] []\n",
      "[]\n",
      "[] []\n",
      "[] []\n",
      "[] []\n",
      "[]\n",
      "[] []\n",
      "[]\n",
      "[]\n",
      "[]\n",
      "[]\n",
      "[] []\n",
      "[] []\n",
      "[] []\n",
      "[] []\n",
      "[]\n",
      "[] []\n",
      "[]\n",
      "[]\n",
      "[]\n",
      "[]\n",
      "[] []\n",
      "[] []\n",
      "[] []\n",
      "[]\n",
      "[] []\n",
      "[] []\n",
      "[]\n",
      "[] []\n",
      "[]\n",
      "[]\n",
      "[]\n",
      "[] []\n",
      "[] []\n",
      "[] []\n",
      "[] []\n",
      "[]\n",
      "[]\n",
      "[]\n",
      "[]\n",
      "[] []\n",
      "[] []\n",
      "[]\n",
      "[]\n",
      "[] []\n",
      "[] []\n",
      "[]\n",
      "[] []\n",
      "[]\n",
      "[] []\n",
      "[]\n",
      "[]\n",
      "[] []\n",
      "[]\n",
      "[] []\n",
      "[] []\n",
      "[] []\n",
      "[]\n",
      "[]\n",
      "[]\n",
      "[]\n",
      "[] []\n",
      "[] []\n",
      "[] []\n",
      "[] []\n",
      "[]\n",
      "[] []\n",
      "[]\n",
      "[]\n",
      "[] []\n",
      "[] []\n",
      "[] []\n",
      "[]\n",
      "[]\n",
      "[]\n",
      "[]\n",
      "[] []\n",
      "[] []\n",
      "[] []\n",
      "[] []\n",
      "[]\n",
      "[]\n",
      "[]\n",
      "[] []\n",
      "[]\n",
      "[]\n",
      "[]\n",
      "[] []\n",
      "[] []\n",
      "[] []\n",
      "[] []\n",
      "[] []\n",
      "[]\n",
      "[]\n",
      "[]\n",
      "[]\n",
      "[]\n",
      "[] []\n",
      "[] []\n",
      "[] []\n",
      "[] []\n",
      "[]\n",
      "[]\n",
      "[]\n",
      "[] []\n",
      "[]\n",
      "[] []\n",
      "[]\n",
      "[] []\n",
      "[] []\n",
      "[]\n",
      "[] []\n",
      "[] []\n",
      "[]\n",
      "[]\n",
      "[]\n",
      "[] []\n",
      "[]\n",
      "[] []\n",
      "[] []\n",
      "[] []\n",
      "[]\n",
      "[]\n",
      "[]\n",
      "[] []\n",
      "[]\n",
      "[] []\n",
      "[] []\n",
      "[]\n",
      "[] []\n",
      "[]\n",
      "[] []\n",
      "[]\n",
      "[] []\n",
      "[] []\n",
      "[]\n",
      "[]\n",
      "[] []\n",
      "[]\n",
      "[]\n",
      "[] []\n",
      "[]\n",
      "[] []\n",
      "[] []\n",
      "[]\n",
      "[]\n",
      "[] []\n",
      "[]\n",
      "[] []\n",
      "[] []\n",
      "[]\n",
      "[] []\n",
      "[] []\n",
      "[]\n",
      "[]\n",
      "[]\n",
      "[] []\n",
      "[]\n",
      "[] []\n",
      "[]\n",
      "[] []\n",
      "[] []\n",
      "[]\n",
      "[] []\n",
      "[]\n",
      "[] []\n",
      "[]\n",
      "[]\n",
      "[] []\n",
      "[] []\n",
      "[]\n",
      "[]\n",
      "[] []\n",
      "[] []\n",
      "[]\n",
      "[]\n",
      "[] []\n",
      "[] []\n",
      "[]\n",
      "[] []\n",
      "[]\n",
      "[] []\n",
      "[]\n",
      "[] []\n",
      "[]\n",
      "[]\n",
      "[] []\n",
      "[]\n",
      "[]\n",
      "[] []\n",
      "[] []\n",
      "[] []\n",
      "[] []\n",
      "[]\n",
      "[]\n",
      "[]\n",
      "[] []\n",
      "[]\n",
      "[] []\n",
      "[]\n",
      "[] []\n",
      "[] []\n",
      "[]\n",
      "[] []\n",
      "[]\n",
      "[]\n",
      "[] []\n",
      "[] []\n",
      "[] []\n",
      "[]\n",
      "[]\n",
      "[] []\n",
      "[]\n",
      "[]\n",
      "[] []\n",
      "[] []\n",
      "[] []\n",
      "[]\n",
      "[]\n",
      "[]\n",
      "[] []\n",
      "[]\n",
      "[] []\n",
      "[] []\n",
      "[]\n",
      "[]\n",
      "[] []\n",
      "[]\n",
      "[] []\n",
      "[] []\n",
      "[] []\n",
      "[]\n",
      "[]\n",
      "[] []\n",
      "[]\n",
      "[]\n",
      "[]\n",
      "[] []\n",
      "[] []\n",
      "[] []\n",
      "[] []\n",
      "[]\n",
      "[] []\n",
      "[]\n",
      "[]\n",
      "[] []\n",
      "[]\n",
      "[] []\n",
      "[]\n",
      "[]\n",
      "[] []\n",
      "[]\n",
      "[] []\n",
      "[] []\n",
      "[] []\n",
      "[]\n",
      "[]\n",
      "[] []\n",
      "[] []\n",
      "[]\n",
      "[]\n",
      "[]\n",
      "[] []\n",
      "[]\n",
      "[] []\n",
      "[]\n",
      "[] []\n",
      "[] []\n",
      "[]\n",
      "[] []\n",
      "[]\n",
      "[]\n",
      "[]\n",
      "[] []\n",
      "[] []\n",
      "[] []\n",
      "[] []\n",
      "[]\n",
      "[] []\n",
      "[]\n",
      "[]\n",
      "[] []\n",
      "[]\n",
      "[]\n",
      "[] []\n",
      "[] []\n",
      "[]\n",
      "[]\n",
      "[] []\n",
      "[] []\n",
      "[] []\n",
      "[]\n",
      "[]\n",
      "[]\n",
      "[] []\n",
      "[] []\n",
      "[]\n",
      "[] []\n",
      "[] []\n",
      "[]\n",
      "[]\n",
      "[] []\n",
      "[]\n",
      "[] []\n",
      "[]\n",
      "[]\n",
      "[]\n",
      "[] []\n",
      "[] []\n",
      "[] []\n",
      "[] []\n",
      "[] []\n",
      "[]\n",
      "[]\n",
      "[]\n",
      "[]\n",
      "[]\n",
      "[] []\n",
      "[] []\n",
      "[] []\n",
      "[] []\n",
      "[] []\n",
      "[]\n",
      "[]\n",
      "[]\n",
      "[]\n",
      "[] []\n",
      "[]\n",
      "[] []\n",
      "[]\n",
      "[] []\n",
      "[] []\n",
      "[] []\n",
      "[]\n",
      "[] []\n",
      "[]\n",
      "[]\n",
      "[]\n",
      "[]\n",
      "[] []\n",
      "[] []\n",
      "[] []\n",
      "[] []\n",
      "[]\n",
      "[] []\n",
      "[]\n",
      "[] []\n",
      "[]\n",
      "[]\n",
      "[]\n",
      "[] []\n",
      "[] []\n",
      "[]\n",
      "[] []\n",
      "[]\n",
      "[] []\n",
      "[]\n",
      "[]\n",
      "[] []\n",
      "[]\n",
      "[] []\n",
      "[] []\n",
      "[]\n",
      "[]\n",
      "[] []\n",
      "[]\n",
      "[] []\n",
      "[] []\n",
      "[] []\n",
      "[]\n",
      "[]\n",
      "[]\n",
      "[] []\n",
      "[]\n",
      "[] []\n",
      "[] []\n",
      "[]\n",
      "[] []\n",
      "[]\n",
      "[] []\n",
      "[]\n",
      "[]\n",
      "[] []\n",
      "[]\n",
      "[] []\n",
      "[] []\n",
      "[]\n",
      "[] []\n",
      "[] []\n",
      "[]\n",
      "[] []\n",
      "[]\n",
      "[]\n",
      "[]\n",
      "[]\n",
      "[] []\n",
      "[] []\n",
      "[] []\n",
      "[] []\n",
      "[]\n",
      "[]\n",
      "[]\n",
      "[]\n",
      "[] []\n",
      "[] []\n",
      "[] []\n",
      "[] []\n",
      "[]\n",
      "[]\n",
      "[]\n",
      "[]\n",
      "[] []\n",
      "[] []\n",
      "[]\n",
      "[] []\n",
      "[] []\n",
      "[]\n",
      "[] []\n",
      "[] []\n",
      "[]\n",
      "[]\n",
      "[]\n",
      "[]\n",
      "[] []\n",
      "[] []\n",
      "[] []\n",
      "[] []\n",
      "[]\n",
      "[]\n",
      "[]\n",
      "[] []\n",
      "[]\n",
      "[] []\n",
      "[]\n",
      "[]\n",
      "[] []\n",
      "[] []\n",
      "[]\n",
      "[] []\n",
      "[] []\n",
      "[]\n",
      "[]\n",
      "[]\n",
      "[] []\n",
      "[] []\n",
      "[] []\n",
      "[]\n",
      "[]\n",
      "[]\n",
      "[] []\n",
      "[] []\n",
      "[]\n",
      "[] []\n",
      "[] []\n",
      "[]\n",
      "[]\n",
      "[]\n",
      "[] []\n",
      "[] []\n",
      "[]\n",
      "[]\n",
      "[] []\n",
      "[] []\n",
      "[] []\n",
      "[]\n",
      "[]\n",
      "[]\n",
      "[] []\n",
      "[]\n",
      "[] []\n",
      "[] []\n",
      "[] []\n",
      "[]\n",
      "[]\n",
      "[]\n",
      "[] []\n",
      "[] []\n",
      "[]\n",
      "[] []\n",
      "[] []\n",
      "[]\n",
      "[]\n",
      "[]\n",
      "[] []\n",
      "[] []\n",
      "[] []\n",
      "[]\n",
      "[]\n",
      "[]\n",
      "[] []\n",
      "[] []\n",
      "[] []\n",
      "[]\n",
      "[]\n",
      "[] []\n",
      "[]\n",
      "[] []\n",
      "[]\n",
      "[]\n",
      "[] []\n",
      "[]\n",
      "[] []\n",
      "[] []\n",
      "[]\n",
      "[]\n",
      "[] []\n",
      "[]\n",
      "[] []\n",
      "[]\n",
      "[] []\n",
      "[]\n",
      "[] []\n",
      "[]\n",
      "[] []\n",
      "[]\n",
      "[] []\n",
      "[]\n",
      "CPU times: user 505 ms, sys: 269 ms, total: 775 ms\n",
      "Wall time: 475 ms\n"
     ]
    }
   ],
   "source": [
    "p=Pool(5)\n",
    "%time dm2=array(p.map(partial(wigner_d,m1,m2,theta,l_use_bessel=1.e4),l))\n",
    "dm2=dm2[:,:,0].T"
   ]
  },
  {
   "cell_type": "code",
   "execution_count": 12,
   "metadata": {},
   "outputs": [
    {
     "data": {
      "text/plain": [
       "(20, 1000)"
      ]
     },
     "execution_count": 12,
     "metadata": {},
     "output_type": "execute_result"
    }
   ],
   "source": [
    "dm2.shape"
   ]
  },
  {
   "cell_type": "code",
   "execution_count": 13,
   "metadata": {},
   "outputs": [
    {
     "data": {
      "text/plain": [
       "False"
      ]
     },
     "execution_count": 13,
     "metadata": {},
     "output_type": "execute_result"
    }
   ],
   "source": [
    "np.any(np.isnan(dm2))"
   ]
  },
  {
   "cell_type": "raw",
   "metadata": {},
   "source": [
    "%time dm2=wigner_d(m1,m2,theta,l)"
   ]
  },
  {
   "cell_type": "code",
   "execution_count": 14,
   "metadata": {},
   "outputs": [
    {
     "name": "stdout",
     "output_type": "stream",
     "text": [
      "CPU times: user 4.55 ms, sys: 2.53 ms, total: 7.08 ms\n",
      "Wall time: 5.09 ms\n"
     ]
    }
   ],
   "source": [
    "%time pl0=pl(l,np.cos(theta).reshape(len(theta),1))"
   ]
  },
  {
   "cell_type": "code",
   "execution_count": 15,
   "metadata": {},
   "outputs": [
    {
     "data": {
      "text/plain": [
       "<matplotlib.legend.Legend at 0x7f6ede62d940>"
      ]
     },
     "execution_count": 15,
     "metadata": {},
     "output_type": "execute_result"
    },
    {
     "name": "stderr",
     "output_type": "stream",
     "text": [
      "/usr/lib/python3.7/site-packages/matplotlib/font_manager.py:1331: UserWarning: findfont: Font family ['serif'] not found. Falling back to DejaVu Sans\n",
      "  (prop.get_family(), self.defaultFamily[fontext]))\n"
     ]
    },
    {
     "data": {
      "image/png": "[encoded data removed]",
      "text/plain": [
       "<Figure size 1500x1125 with 1 Axes>"
      ]
     },
     "metadata": {},
     "output_type": "display_data"
    }
   ],
   "source": [
    "i=-1\n",
    "plot(l,dm[i],label='W-d')\n",
    "plot(l,jn(m1-m2,l*theta[i]),label='Jn')\n",
    "plot(l,pl0[i],label='Pl')\n",
    "xscale('log')\n",
    "yscale('log')\n",
    "legend()\n",
    "# xlim(655,700)"
   ]
  },
  {
   "cell_type": "code",
   "execution_count": 16,
   "metadata": {},
   "outputs": [
    {
     "name": "stderr",
     "output_type": "stream",
     "text": [
      "/usr/lib/python3.7/site-packages/matplotlib/ticker.py:2207: UserWarning: Data has no positive values, and therefore cannot be log-scaled.\n",
      "  \"Data has no positive values, and therefore cannot be \"\n",
      "/usr/lib/python3.7/site-packages/matplotlib/font_manager.py:1331: UserWarning: findfont: Font family ['serif'] not found. Falling back to DejaVu Sans\n",
      "  (prop.get_family(), self.defaultFamily[fontext]))\n"
     ]
    },
    {
     "data": {
      "image/png": "[encoded data removed]",
      "text/plain": [
       "<Figure size 1500x1125 with 1 Axes>"
      ]
     },
     "metadata": {},
     "output_type": "display_data"
    }
   ],
   "source": [
    "plot(l,dm[i]-jn(m1-m2,l*theta[i]))\n",
    "# xscale('log')\n",
    "yscale('log')"
   ]
  },
  {
   "cell_type": "code",
   "execution_count": 23,
   "metadata": {},
   "outputs": [],
   "source": [
    "from sympy.physics.wigner import wigner_3j\n",
    "from wigner_functions import *"
   ]
  },
  {
   "cell_type": "code",
   "execution_count": 36,
   "metadata": {},
   "outputs": [],
   "source": [
    "from sympy.functions.special.gamma_functions import loggamma as sy_loggamma"
   ]
  },
  {
   "cell_type": "code",
   "execution_count": 82,
   "metadata": {},
   "outputs": [],
   "source": [
    "# def log_factorial(n):\n",
    "#     return sy_loggamma(n+1)\n",
    "\n",
    "def log_factorial(n):\n",
    "    return np.float64(loggamma(n+1))\n",
    "# #     return np.sum(np.log(np.arange(n)+1))\n",
    "\n",
    "# log_factorial=np.vectorize(log_factorial2)\n"
   ]
  },
  {
   "cell_type": "code",
   "execution_count": 71,
   "metadata": {},
   "outputs": [
    {
     "name": "stdout",
     "output_type": "stream",
     "text": [
      "sqrt 1.49030605043838e+6987\n",
      "4.06599788147480e-6991\n",
      "CPU times: user 1.07 s, sys: 6 µs, total: 1.07 s\n",
      "Wall time: 1.06 s\n"
     ]
    }
   ],
   "source": [
    "j1=1000\n",
    "j2=1000\n",
    "j3=1000#999\n",
    "m1=0\n",
    "m2=0\n",
    "m3=0\n",
    "%time xx2=wigner_3j_2(j1,j2,j3,m1,m2,m3).evalf()\n",
    "\n"
   ]
  },
  {
   "cell_type": "code",
   "execution_count": 83,
   "metadata": {},
   "outputs": [
    {
     "name": "stdout",
     "output_type": "stream",
     "text": [
      "doing full calc\n",
      "0 1000\n",
      "1.30015893298462e-6816 1.49030605044502e+6987\n",
      "CPU times: user 160 ms, sys: 3.33 ms, total: 163 ms\n",
      "Wall time: 160 ms\n",
      "CPU times: user 1.08 s, sys: 4 µs, total: 1.08 s\n",
      "Wall time: 1.08 s\n"
     ]
    },
    {
     "data": {
      "text/plain": [
       "(1.93763472436712e+171, 0.000605958124383152, 0.000605958124383152)"
      ]
     },
     "execution_count": 83,
     "metadata": {},
     "output_type": "execute_result"
    }
   ],
   "source": [
    "%time XX=Wigner3j_log(j1,j2,j3,m1,m2,m3)\n",
    "%time xx=wigner_3j(j1,j2,j3,m1,m2,m3).evalf()\n",
    "# %time xx2=wigner_3j_2(j1,j2,j3,m1,m2,m3).evalf()\n",
    "XX,xx,xx2"
   ]
  },
  {
   "cell_type": "code",
   "execution_count": 80,
   "metadata": {},
   "outputs": [],
   "source": [
    "def Wigner3j_log(j_1, j_2, j_3, m_1, m_2, m_3):\n",
    "    \"\"\"Calculate the Wigner 3j symbol `Wigner3j(j_1,j_2,j_3,m_1,m_2,m_3)`\n",
    "\n",
    "    This function is copied with minor modification from\n",
    "    sympy.physics.Wigner, as written by Jens Rasch.\n",
    "\n",
    "    The inputs must be integers.  (Half integer arguments are\n",
    "    sacrificed so that we can use numba.)  Nonzero return quantities\n",
    "    only occur when the `j`s obey the triangle inequality (any two\n",
    "    must add up to be as big as or bigger than the third).\n",
    "\n",
    "    Examples\n",
    "    ========\n",
    "\n",
    "    >>> from spherical_functions import Wigner3j\n",
    "    >>> Wigner3j(2, 6, 4, 0, 0, 0)\n",
    "    0.186989398002\n",
    "    >>> Wigner3j(2, 6, 4, 0, 0, 1)\n",
    "    0\n",
    "\n",
    "    \"\"\"\n",
    "    if int(j_1 * 2) != j_1 * 2 or int(j_2 * 2) != j_2 * 2 or \\\n",
    "            int(j_3 * 2) != j_3 * 2:\n",
    "        raise ValueError(\"j values must be integer or half integer\")\n",
    "    if int(m_1 * 2) != m_1 * 2 or int(m_2 * 2) != m_2 * 2 or \\\n",
    "            int(m_3 * 2) != m_3 * 2:\n",
    "        raise ValueError(\"m values must be integer or half integer\")\n",
    "    if m_1 + m_2 + m_3 != 0:\n",
    "        return 0\n",
    "    prefid = Integer((-1) ** int(j_1 - j_2 - m_3))\n",
    "    m_3 = -m_3\n",
    "    a1 = j_1 + j_2 - j_3\n",
    "    if a1 < 0:\n",
    "        return 0\n",
    "    a2 = j_1 - j_2 + j_3\n",
    "    if a2 < 0:\n",
    "        return 0\n",
    "    a3 = -j_1 + j_2 + j_3\n",
    "    if a3 < 0:\n",
    "        return 0\n",
    "    if (abs(m_1) > j_1) or (abs(m_2) > j_2) or (abs(m_3) > j_3):\n",
    "        return 0\n",
    "\n",
    "    print('doing full calc')\n",
    "    maxfact = max(j_1 + j_2 + j_3 + 1, j_1 + abs(m_1), j_2 + abs(m_2),\n",
    "                  j_3 + abs(m_3))\n",
    "\n",
    "    log_argsqrt = ( log_factorial(j_1 + j_2 - j_3) +\n",
    "                log_factorial(j_1 - j_2 + j_3) +\n",
    "                log_factorial(-j_1 + j_2 + j_3) +\n",
    "                log_factorial(j_1 - m_1) +\n",
    "                log_factorial(j_1 + m_1) +\n",
    "                log_factorial(j_2 - m_2) +\n",
    "                log_factorial(j_2 + m_2) +\n",
    "                log_factorial(j_3 - m_3) +\n",
    "                log_factorial(j_3 + m_3) ) - log_factorial(j_1 + j_2 + j_3 + 1)\n",
    "    \n",
    "    log_ressqrt=0.5*log_argsqrt\n",
    "\n",
    "    imin = max(-j_3 + j_1 + m_2, -j_3 + j_2 - m_1, 0)\n",
    "    imax = min(j_2 + m_2, j_1 - m_1, j_1 + j_2 - j_3)\n",
    "    sumres = 0\n",
    "    print(imin,imax)\n",
    "    for ii in range(int(imin), int(imax) + 1):\n",
    "        log_den = ( log_factorial(ii) +\n",
    "                log_factorial(ii + j_3 - j_1 - m_2) +\n",
    "                log_factorial(j_2 + m_2 - ii) +\n",
    "                log_factorial(j_1 - ii - m_1) +\n",
    "                log_factorial(ii + j_3 - j_2 + m_1) +\n",
    "                log_factorial(j_1 + j_2 - j_3 - ii) )\n",
    "\n",
    "#         log_den = _logFactlist[ii] + \\\n",
    "#             _logFactlist[int(ii + j_3 - j_1 - m_2)] + \\\n",
    "#             _logFactlist[int(j_2 + m_2 - ii)] + \\\n",
    "#             _logFactlist[int(j_1 - ii - m_1)] + \\\n",
    "#             _logFactlist[int(ii + j_3 - j_2 + m_1)] + \\\n",
    "#             _logFactlist[int(j_1 + j_2 - j_3 - ii)]   # doesnt help\n",
    "        sumres = sumres + Integer((-1) ** ii)/ sy_exp(log_den) #still has numerical errors...works if we use sympy loggamma. But then no speed advantage\n",
    "#         print(ii,sumres.evalf(),log_den)\n",
    "    print(sumres.evalf(),sy_exp(log_ressqrt).evalf())\n",
    "    res = sy_exp(log_ressqrt) * sumres * prefid\n",
    "    return res #ressqrt taken inside sumres calc"
   ]
  },
  {
   "cell_type": "code",
   "execution_count": 74,
   "metadata": {},
   "outputs": [],
   "source": [
    "_logFactlist=[1,1]\n",
    "\n",
    "def _calc_logfactlist(nn):\n",
    "    r\"\"\"\n",
    "    Function calculates a list of precomputed factorials in order to\n",
    "    massively accelerate future calculations of the various\n",
    "    coefficients.\n",
    "\n",
    "    INPUT:\n",
    "\n",
    "    -  ``nn`` -  integer, highest factorial to be computed\n",
    "\n",
    "    OUTPUT:\n",
    "\n",
    "    list of integers -- the list of precomputed factorials\n",
    "\n",
    "    EXAMPLES:\n",
    "\n",
    "    Calculate list of factorials::\n",
    "\n",
    "        sage: from sage.functions.wigner import _calc_factlist\n",
    "        sage: _calc_factlist(10)\n",
    "        [1, 1, 2, 6, 24, 120, 720, 5040, 40320, 362880, 3628800]\n",
    "    \"\"\"\n",
    "    global _logFactlist\n",
    "    if nn >= len(_logFactlist):\n",
    "        for ii in range(len(_logFactlist), int(nn + 1)):\n",
    "            _logFactlist.append(log_factorial(nn))\n",
    "#     return _Factlist[:int(nn) + 1]\n",
    "_calc_logfactlist(2000)"
   ]
  },
  {
   "cell_type": "code",
   "execution_count": 16,
   "metadata": {},
   "outputs": [],
   "source": [
    "_Factlist=[1,1]"
   ]
  },
  {
   "cell_type": "code",
   "execution_count": 22,
   "metadata": {},
   "outputs": [],
   "source": [
    "def _calc_factlist(nn):\n",
    "    r\"\"\"\n",
    "    Function calculates a list of precomputed factorials in order to\n",
    "    massively accelerate future calculations of the various\n",
    "    coefficients.\n",
    "\n",
    "    INPUT:\n",
    "\n",
    "    -  ``nn`` -  integer, highest factorial to be computed\n",
    "\n",
    "    OUTPUT:\n",
    "\n",
    "    list of integers -- the list of precomputed factorials\n",
    "\n",
    "    EXAMPLES:\n",
    "\n",
    "    Calculate list of factorials::\n",
    "\n",
    "        sage: from sage.functions.wigner import _calc_factlist\n",
    "        sage: _calc_factlist(10)\n",
    "        [1, 1, 2, 6, 24, 120, 720, 5040, 40320, 362880, 3628800]\n",
    "    \"\"\"\n",
    "    global _Factlist\n",
    "    if nn >= len(_Factlist):\n",
    "        for ii in range(len(_Factlist), int(nn + 1)):\n",
    "            _Factlist.append(_Factlist[ii - 1] * ii)\n",
    "#     return _Factlist[:int(nn) + 1]\n",
    "_calc_factlist(2000)"
   ]
  },
  {
   "cell_type": "code",
   "execution_count": 19,
   "metadata": {},
   "outputs": [],
   "source": [
    "def Wigner3j_log_vec(j_1, j_2, j_3, m_1, m_2, m_3):\n",
    "    \"\"\"Calculate the Wigner 3j symbol `Wigner3j(j_1,j_2,j_3,m_1,m_2,m_3)`\n",
    "\n",
    "    This function is copied with minor modification from\n",
    "    sympy.physics.Wigner, as written by Jens Rasch.\n",
    "\n",
    "    The inputs must be integers.  (Half integer arguments are\n",
    "    sacrificed so that we can use numba.)  Nonzero return quantities\n",
    "    only occur when the `j`s obey the triangle inequality (any two\n",
    "    must add up to be as big as or bigger than the third).\n",
    "\n",
    "    Examples\n",
    "    ========\n",
    "\n",
    "    >>> from spherical_functions import Wigner3j\n",
    "    >>> Wigner3j(2, 6, 4, 0, 0, 0)\n",
    "    0.186989398002\n",
    "    >>> Wigner3j(2, 6, 4, 0, 0, 1)\n",
    "    0\n",
    "\n",
    "    \"\"\"\n",
    "    if (m_1 + m_2 + m_3 != 0):\n",
    "        return np.zeros_like(j_1)\n",
    "    if ( (abs(m_2) > j_2) or (abs(m_3) > j_3) ):\n",
    "        return np.zeros_like(j_1)\n",
    "\n",
    "    a1 = j_1 + j_2 - j_3\n",
    "    a2 = j_1 - j_2 + j_3\n",
    "    a3 = -j_1 + j_2 + j_3\n",
    "\n",
    "    prefid = np.ones_like(a1) # (1 if (j_1 - j_2 - m_3) % 2 == 0 else -1)\n",
    "    prefid[(j_1 - j_2 - m_3+j_3*0) % 2 == 1]=-1\n",
    "    \n",
    "    sumres = np.zeros_like(a1,dtype='float64')\n",
    "    x0=np.logical_not(np.any([a1<0 ,a2<0 , a3<0, abs(m_1) > j_1+j_2*0+j_3*0],axis=0))\n",
    "    j_1=j_1[x0]\n",
    "    \n",
    "    m_3 = -m_3\n",
    "\n",
    "    log_argsqrt = ( log_factorial(j_1 + j_2 - j_3) +\n",
    "                log_factorial(j_1 - j_2 + j_3) +\n",
    "                log_factorial(-j_1 + j_2 + j_3) +\n",
    "                log_factorial(j_1 - m_1) +\n",
    "                log_factorial(j_1 + m_1) +\n",
    "                log_factorial(j_2 - m_2) +\n",
    "                log_factorial(j_2 + m_2) +\n",
    "                log_factorial(j_3 - m_3) +\n",
    "                log_factorial(j_3 + m_3) ) - log_factorial(j_1 + j_2 + j_3 + 1)\n",
    "    \n",
    "    log_ressqrt=0.5*log_argsqrt\n",
    "\n",
    "    imin_t=max(-j_3 + j_2 - m_1, 0)\n",
    "    imin = -j_3 + j_1 + m_2\n",
    "    imin[imin<imin_t]=imin_t\n",
    "    \n",
    "    imax_t=j_1 - m_1\n",
    "    imax =j_1 + j_2 - j_3\n",
    "    imax[imax>imax_t]=imax_t[imax>imax_t]\n",
    "    imax[imax>j_2 + m_2]=j_2 + m_2\n",
    "    \n",
    "    \n",
    "    for ii in np.arange(min(imin), max(imax) + 1):\n",
    "        log_den = ( log_factorial(ii) +\n",
    "                log_factorial(ii + j_3 - j_1 - m_2) +\n",
    "                log_factorial(j_2 + m_2 - ii) +\n",
    "                log_factorial(j_1 - ii - m_1) +\n",
    "                log_factorial(ii + j_3 - j_2 + m_1) +\n",
    "                log_factorial(j_1 + j_2 - j_3 - ii) )\n",
    "        sgn=-1\n",
    "        if (ii % 2 == 0):\n",
    "            sgn=1\n",
    "        sumres_ii=np.exp(log_ressqrt-log_den)*sgn\n",
    "        x=np.logical_or(ii<imin,ii>imax)\n",
    "\n",
    "        sumres_ii[x]=0\n",
    "        sumres[x0]+=sumres_ii\n",
    "    \n",
    "    return sumres * prefid #ressqrt taken inside sumres calc"
   ]
  },
  {
   "cell_type": "code",
   "execution_count": 12,
   "metadata": {},
   "outputs": [],
   "source": [
    "def wigner_3j_3(m1,m2,m3,js):\n",
    "    return wigner_3j_2(js[0],js[1],js[2],m1,m2,m3)#.evalf()\n",
    "\n",
    "def Wigner3j_parallel33( m_1, m_2, m_3,j_1, j_2, j_3,ncpu=None):\n",
    "    if ncpu is None:\n",
    "        ncpu=cpu_count()-2\n",
    "    p=Pool(ncpu)\n",
    "    \n",
    "    n1=len(j_1)\n",
    "    n2=len(j_2)\n",
    "    n3=len(j_3)\n",
    "    c=np.array(list(Comb(j_1,j_2,j_3)))\n",
    "#     print(c.shape,c.reshape(n1,n2,n3,3))\n",
    "    j_max=np.amax(j_1.max()+j_2.max()+j_3.max()+1)\n",
    "    _calc_factlist(j_max)\n",
    "    \n",
    "    d_mat=np.array(p.map(partial(wigner_3j_3, m1, m2, m3),c,chunksize=10))\n",
    "    p.close()\n",
    "    d_mat=d_mat.reshape(n1,n2,n3)\n",
    "    return d_mat"
   ]
  },
  {
   "cell_type": "code",
   "execution_count": 13,
   "metadata": {},
   "outputs": [
    {
     "ename": "TypeError",
     "evalue": "object of type 'int' has no len()",
     "output_type": "error",
     "traceback": [
      "\u001b[0;31m---------------------------------------------------------------------------\u001b[0m",
      "\u001b[0;31mTypeError\u001b[0m                                 Traceback (most recent call last)",
      "\u001b[0;32m<timed eval>\u001b[0m in \u001b[0;36m<module>\u001b[0;34m\u001b[0m\n",
      "\u001b[0;32m<ipython-input-12-5e497cd055f1>\u001b[0m in \u001b[0;36mWigner3j_parallel33\u001b[0;34m(m_1, m_2, m_3, j_1, j_2, j_3, ncpu)\u001b[0m\n\u001b[1;32m      7\u001b[0m     \u001b[0mp\u001b[0m\u001b[0;34m=\u001b[0m\u001b[0mPool\u001b[0m\u001b[0;34m(\u001b[0m\u001b[0mncpu\u001b[0m\u001b[0;34m)\u001b[0m\u001b[0;34m\u001b[0m\u001b[0;34m\u001b[0m\u001b[0m\n\u001b[1;32m      8\u001b[0m \u001b[0;34m\u001b[0m\u001b[0m\n\u001b[0;32m----> 9\u001b[0;31m     \u001b[0mn1\u001b[0m\u001b[0;34m=\u001b[0m\u001b[0mlen\u001b[0m\u001b[0;34m(\u001b[0m\u001b[0mj_1\u001b[0m\u001b[0;34m)\u001b[0m\u001b[0;34m\u001b[0m\u001b[0;34m\u001b[0m\u001b[0m\n\u001b[0m\u001b[1;32m     10\u001b[0m     \u001b[0mn2\u001b[0m\u001b[0;34m=\u001b[0m\u001b[0mlen\u001b[0m\u001b[0;34m(\u001b[0m\u001b[0mj_2\u001b[0m\u001b[0;34m)\u001b[0m\u001b[0;34m\u001b[0m\u001b[0;34m\u001b[0m\u001b[0m\n\u001b[1;32m     11\u001b[0m     \u001b[0mn3\u001b[0m\u001b[0;34m=\u001b[0m\u001b[0mlen\u001b[0m\u001b[0;34m(\u001b[0m\u001b[0mj_3\u001b[0m\u001b[0;34m)\u001b[0m\u001b[0;34m\u001b[0m\u001b[0;34m\u001b[0m\u001b[0m\n",
      "\u001b[0;31mTypeError\u001b[0m: object of type 'int' has no len()"
     ]
    }
   ],
   "source": [
    "dm=%time Wigner3j_parallel33( m1, m2, m3,j1, j2, j3,ncpu=4)"
   ]
  },
  {
   "cell_type": "code",
   "execution_count": 15,
   "metadata": {},
   "outputs": [
    {
     "ename": "AttributeError",
     "evalue": "'NoneType' object has no attribute 'shape'",
     "output_type": "error",
     "traceback": [
      "\u001b[0;31m---------------------------------------------------------------------------\u001b[0m",
      "\u001b[0;31mAttributeError\u001b[0m                            Traceback (most recent call last)",
      "\u001b[0;32m<ipython-input-15-9703636732ec>\u001b[0m in \u001b[0;36m<module>\u001b[0;34m\u001b[0m\n\u001b[0;32m----> 1\u001b[0;31m \u001b[0mdm\u001b[0m\u001b[0;34m.\u001b[0m\u001b[0mshape\u001b[0m\u001b[0;34m\u001b[0m\u001b[0;34m\u001b[0m\u001b[0m\n\u001b[0m",
      "\u001b[0;31mAttributeError\u001b[0m: 'NoneType' object has no attribute 'shape'"
     ]
    }
   ],
   "source": [
    "dm.shape"
   ]
  },
  {
   "cell_type": "code",
   "execution_count": 16,
   "metadata": {},
   "outputs": [],
   "source": [
    "def wigner_3j_2(j_1, j_2, j_3, m_1, m_2, m_3):\n",
    "    r\"\"\"\n",
    "    Calculate the Wigner 3j symbol `\\operatorname{Wigner3j}(j_1,j_2,j_3,m_1,m_2,m_3)`.\n",
    "\n",
    "    INPUT:\n",
    "\n",
    "    -  ``j_1``, ``j_2``, ``j_3``, ``m_1``, ``m_2``, ``m_3`` - integer or half integer\n",
    "\n",
    "    OUTPUT:\n",
    "\n",
    "    Rational number times the square root of a rational number.\n",
    "\n",
    "    Examples\n",
    "    ========\n",
    "\n",
    "    >>> from sympy.physics.wigner import wigner_3j\n",
    "    >>> wigner_3j(2, 6, 4, 0, 0, 0)\n",
    "    sqrt(715)/143\n",
    "    >>> wigner_3j(2, 6, 4, 0, 0, 1)\n",
    "    0\n",
    "\n",
    "    It is an error to have arguments that are not integer or half\n",
    "    integer values::\n",
    "\n",
    "        sage: wigner_3j(2.1, 6, 4, 0, 0, 0)\n",
    "        Traceback (most recent call last):\n",
    "        ...\n",
    "        ValueError: j values must be integer or half integer\n",
    "        sage: wigner_3j(2, 6, 4, 1, 0, -1.1)\n",
    "        Traceback (most recent call last):\n",
    "        ...\n",
    "        ValueError: m values must be integer or half integer\n",
    "\n",
    "    NOTES:\n",
    "\n",
    "    The Wigner 3j symbol obeys the following symmetry rules:\n",
    "\n",
    "    - invariant under any permutation of the columns (with the\n",
    "      exception of a sign change where `J:=j_1+j_2+j_3`):\n",
    "\n",
    "      .. math::\n",
    "\n",
    "         \\begin{aligned}\n",
    "         \\operatorname{Wigner3j}(j_1,j_2,j_3,m_1,m_2,m_3)\n",
    "          &=\\operatorname{Wigner3j}(j_3,j_1,j_2,m_3,m_1,m_2) \\\\\n",
    "          &=\\operatorname{Wigner3j}(j_2,j_3,j_1,m_2,m_3,m_1) \\\\\n",
    "          &=(-1)^J \\operatorname{Wigner3j}(j_3,j_2,j_1,m_3,m_2,m_1) \\\\\n",
    "          &=(-1)^J \\operatorname{Wigner3j}(j_1,j_3,j_2,m_1,m_3,m_2) \\\\\n",
    "          &=(-1)^J \\operatorname{Wigner3j}(j_2,j_1,j_3,m_2,m_1,m_3)\n",
    "         \\end{aligned}\n",
    "\n",
    "    - invariant under space inflection, i.e.\n",
    "\n",
    "      .. math::\n",
    "\n",
    "         \\operatorname{Wigner3j}(j_1,j_2,j_3,m_1,m_2,m_3)\n",
    "         =(-1)^J \\operatorname{Wigner3j}(j_1,j_2,j_3,-m_1,-m_2,-m_3)\n",
    "\n",
    "    - symmetric with respect to the 72 additional symmetries based on\n",
    "      the work by [Regge58]_\n",
    "\n",
    "    - zero for `j_1`, `j_2`, `j_3` not fulfilling triangle relation\n",
    "\n",
    "    - zero for `m_1 + m_2 + m_3 \\neq 0`\n",
    "\n",
    "    - zero for violating any one of the conditions\n",
    "      `j_1 \\ge |m_1|`,  `j_2 \\ge |m_2|`,  `j_3 \\ge |m_3|`\n",
    "\n",
    "    ALGORITHM:\n",
    "\n",
    "    This function uses the algorithm of [Edmonds74]_ to calculate the\n",
    "    value of the 3j symbol exactly. Note that the formula contains\n",
    "    alternating sums over large factorials and is therefore unsuitable\n",
    "    for finite precision arithmetic and only useful for a computer\n",
    "    algebra system [Rasch03]_.\n",
    "\n",
    "    REFERENCES:\n",
    "\n",
    "    .. [Regge58] 'Symmetry Properties of Clebsch-Gordan Coefficients',\n",
    "      T. Regge, Nuovo Cimento, Volume 10, pp. 544 (1958)\n",
    "\n",
    "    .. [Edmonds74] 'Angular Momentum in Quantum Mechanics',\n",
    "      A. R. Edmonds, Princeton University Press (1974)\n",
    "\n",
    "    AUTHORS:\n",
    "\n",
    "    - Jens Rasch (2009-03-24): initial version\n",
    "    \"\"\"\n",
    "    if int(j_1 * 2) != j_1 * 2 or int(j_2 * 2) != j_2 * 2 or \\\n",
    "            int(j_3 * 2) != j_3 * 2:\n",
    "        raise ValueError(\"j values must be integer or half integer\")\n",
    "    if int(m_1 * 2) != m_1 * 2 or int(m_2 * 2) != m_2 * 2 or \\\n",
    "            int(m_3 * 2) != m_3 * 2:\n",
    "        raise ValueError(\"m values must be integer or half integer\")\n",
    "    if m_1 + m_2 + m_3 != 0:\n",
    "        return 0\n",
    "    prefid = Integer((-1) ** int(j_1 - j_2 - m_3))\n",
    "    m_3 = -m_3\n",
    "    a1 = j_1 + j_2 - j_3\n",
    "    if a1 < 0:\n",
    "        return 0\n",
    "    a2 = j_1 - j_2 + j_3\n",
    "    if a2 < 0:\n",
    "        return 0\n",
    "    a3 = -j_1 + j_2 + j_3\n",
    "    if a3 < 0:\n",
    "        return 0\n",
    "    if (abs(m_1) > j_1) or (abs(m_2) > j_2) or (abs(m_3) > j_3):\n",
    "        return 0\n",
    "\n",
    "    maxfact = max(j_1 + j_2 + j_3 + 1, j_1 + abs(m_1), j_2 + abs(m_2),\n",
    "                  j_3 + abs(m_3))\n",
    "    _calc_factlist(int(maxfact))\n",
    "\n",
    "    argsqrt = Integer(_Factlist[int(j_1 + j_2 - j_3)] *\n",
    "                     _Factlist[int(j_1 - j_2 + j_3)] *\n",
    "                     _Factlist[int(-j_1 + j_2 + j_3)] *\n",
    "                     _Factlist[int(j_1 - m_1)] *\n",
    "                     _Factlist[int(j_1 + m_1)] *\n",
    "                     _Factlist[int(j_2 - m_2)] *\n",
    "                     _Factlist[int(j_2 + m_2)] *\n",
    "                     _Factlist[int(j_3 - m_3)] *\n",
    "                     _Factlist[int(j_3 + m_3)]) / \\\n",
    "        _Factlist[int(j_1 + j_2 + j_3 + 1)]\n",
    "    ressqrt = sy_sqrt(argsqrt)\n",
    "    if ressqrt.is_complex:\n",
    "        ressqrt = ressqrt.as_real_imag()[0]\n",
    "\n",
    "    imin = max(-j_3 + j_1 + m_2, -j_3 + j_2 - m_1, 0)\n",
    "    imax = min(j_2 + m_2, j_1 - m_1, j_1 + j_2 - j_3)\n",
    "    sumres = 0\n",
    "    for ii in range(int(imin), int(imax) + 1):\n",
    "        den = _Factlist[ii] * \\\n",
    "            _Factlist[int(ii + j_3 - j_1 - m_2)] * \\\n",
    "            _Factlist[int(j_2 + m_2 - ii)] * \\\n",
    "            _Factlist[int(j_1 - ii - m_1)] * \\\n",
    "            _Factlist[int(ii + j_3 - j_2 + m_1)] * \\\n",
    "            _Factlist[int(j_1 + j_2 - j_3 - ii)]\n",
    "        sumres = sumres + Integer((-1) ** ii) / den\n",
    "    res = ressqrt * sumres * prefid\n",
    "    return res"
   ]
  },
  {
   "cell_type": "code",
   "execution_count": 17,
   "metadata": {},
   "outputs": [],
   "source": [
    "def Wigner3j_log(j_1, j_2, j_3, m_1, m_2, m_3):\n",
    "    \"\"\"Calculate the Wigner 3j symbol `Wigner3j(j_1,j_2,j_3,m_1,m_2,m_3)`\n",
    "\n",
    "    This function is copied with minor modification from\n",
    "    sympy.physics.Wigner, as written by Jens Rasch.\n",
    "\n",
    "    The inputs must be integers.  (Half integer arguments are\n",
    "    sacrificed so that we can use numba.)  Nonzero return quantities\n",
    "    only occur when the `j`s obey the triangle inequality (any two\n",
    "    must add up to be as big as or bigger than the third).\n",
    "\n",
    "    Examples\n",
    "    ========\n",
    "\n",
    "    >>> from spherical_functions import Wigner3j\n",
    "    >>> Wigner3j(2, 6, 4, 0, 0, 0)\n",
    "    0.186989398002\n",
    "    >>> Wigner3j(2, 6, 4, 0, 0, 1)\n",
    "    0\n",
    "\n",
    "    \"\"\"\n",
    "    \n",
    "#     log_factorial=lambda n: loggamma(n+1)\n",
    "    \n",
    "    if (m_1 + m_2 + m_3 != 0):\n",
    "        return 0\n",
    "    if ( (abs(m_1) > j_1) or (abs(m_2) > j_2) or (abs(m_3) > j_3) ):\n",
    "        return 0\n",
    "    prefid = (1 if (j_1 - j_2 - m_3) % 2 == 0 else -1)\n",
    "    m_3 = -m_3\n",
    "    a1 = j_1 + j_2 - j_3\n",
    "    a2 = j_1 - j_2 + j_3\n",
    "    a3 = -j_1 + j_2 + j_3\n",
    "    if (a1 < 0) or a2<0 or a3<0:\n",
    "        return 0\n",
    "\n",
    "    log_argsqrt = ( log_factorial(j_1 + j_2 - j_3) +\n",
    "                log_factorial(j_1 - j_2 + j_3) +\n",
    "                log_factorial(-j_1 + j_2 + j_3) +\n",
    "                log_factorial(j_1 - m_1) +\n",
    "                log_factorial(j_1 + m_1) +\n",
    "                log_factorial(j_2 - m_2) +\n",
    "                log_factorial(j_2 + m_2) +\n",
    "                log_factorial(j_3 - m_3) +\n",
    "                log_factorial(j_3 + m_3) ) - log_factorial(j_1 + j_2 + j_3 + 1)\n",
    "    \n",
    "    log_ressqrt=0.5*log_argsqrt\n",
    "\n",
    "    imin = max(-j_3 + j_1 + m_2, -j_3 + j_2 - m_1, 0) \n",
    "    imax = min(j_2 + m_2, j_1 - m_1, j_1 + j_2 - j_3)\n",
    "    sumres = 0\n",
    "    ii=np.arange(imin, imax + 1)\n",
    "    \n",
    "    log_den = ( log_factorial(ii) +\n",
    "                log_factorial(ii + j_3 - j_1 - m_2) +\n",
    "                log_factorial(j_2 + m_2 - ii) +\n",
    "                log_factorial(j_1 - ii - m_1) +\n",
    "                log_factorial(ii + j_3 - j_2 + m_1) +\n",
    "                log_factorial(j_1 + j_2 - j_3 - ii) )\n",
    "    sgn=np.ones_like(ii) #-1\n",
    "    sgn[ii % 2 == 1]=-1\n",
    "    sumres=np.sum(np.exp(log_ressqrt-log_den)*sgn)  #1.0 / den\n",
    "#     sumres=np.exp(np.log(np.absolute(sumres))+log_ressqrt)*np.sign(sumres)\n",
    "#     ii=0\n",
    "#     for i in log_den:\n",
    "#         sumres=sumres+sy_exp(log_ressqrt-i)*sgn[ii]#1.0 / den\n",
    "#         ii+=1\n",
    "#     print(log_ressqrt,sumres)\n",
    "    return sumres * prefid #ressqrt taken inside sumres calc"
   ]
  },
  {
   "cell_type": "raw",
   "metadata": {},
   "source": [
    "j1_nd=np.ones((100,1,1))+np.arange(100).reshape(100,1,1)\n",
    "j2_nd=np.ones((1,100,1))+np.arange(100).reshape(1,100,1)\n",
    "j3_nd=np.ones((1,1,100))+np.arange(100).reshape(1,1,100)"
   ]
  },
  {
   "cell_type": "code",
   "execution_count": 18,
   "metadata": {},
   "outputs": [
    {
     "name": "stdout",
     "output_type": "stream",
     "text": [
      "CPU times: user 1.5 ms, sys: 528 µs, total: 2.02 ms\n",
      "Wall time: 3.57 ms\n"
     ]
    },
    {
     "data": {
      "text/plain": [
       "16.78515625"
      ]
     },
     "execution_count": 18,
     "metadata": {},
     "output_type": "execute_result"
    }
   ],
   "source": [
    "j1=79#np.arange(10)\n",
    "j2=109\n",
    "j3=98\n",
    "m1=0\n",
    "m2=0\n",
    "m3=0\n",
    "\n",
    "%time el2=Wigner3j_log(j1,j2,j3,m1,m2,m3)\n",
    "\n",
    "j1_nd=np.arange(1000)#np.array([j1,1001,1002])#np.arange(5,7)\n",
    "# %time el_nd=Wigner3j_log_vec(j1_nd,j2,j3,m1,m2,m3)\n",
    "#%time el_nd=Wigner3j_log_vec(np.array(j1),j2,j3,m1,m2,m3)\n",
    "\n",
    "# el_nd[j1]\n",
    "el2"
   ]
  },
  {
   "cell_type": "code",
   "execution_count": 19,
   "metadata": {},
   "outputs": [
    {
     "ename": "IndexError",
     "evalue": "list index out of range",
     "output_type": "error",
     "traceback": [
      "\u001b[0;31m---------------------------------------------------------------------------\u001b[0m",
      "\u001b[0;31mIndexError\u001b[0m                                Traceback (most recent call last)",
      "\u001b[0;32m<ipython-input-19-0d16ba8602d6>\u001b[0m in \u001b[0;36m<module>\u001b[0;34m\u001b[0m\n\u001b[0;32m----> 1\u001b[0;31m \u001b[0msy_log\u001b[0m\u001b[0;34m(\u001b[0m\u001b[0m_Factlist\u001b[0m\u001b[0;34m[\u001b[0m\u001b[0;36m109\u001b[0m\u001b[0;34m]\u001b[0m\u001b[0;34m)\u001b[0m\u001b[0;34m.\u001b[0m\u001b[0mevalf\u001b[0m\u001b[0;34m(\u001b[0m\u001b[0;34m)\u001b[0m\u001b[0;34m/\u001b[0m\u001b[0mlog_factorial\u001b[0m\u001b[0;34m(\u001b[0m\u001b[0;36m109\u001b[0m\u001b[0;34m)\u001b[0m\u001b[0;34m\u001b[0m\u001b[0;34m\u001b[0m\u001b[0m\n\u001b[0m",
      "\u001b[0;31mIndexError\u001b[0m: list index out of range"
     ]
    }
   ],
   "source": [
    "sy_log(_Factlist[109]).evalf()/log_factorial(109)"
   ]
  },
  {
   "cell_type": "code",
   "execution_count": 22,
   "metadata": {},
   "outputs": [
    {
     "data": {
      "text/plain": [
       "-0.00648581407194974"
      ]
     },
     "execution_count": 22,
     "metadata": {},
     "output_type": "execute_result"
    }
   ],
   "source": [
    "el3.evalf()"
   ]
  },
  {
   "cell_type": "code",
   "execution_count": 21,
   "metadata": {},
   "outputs": [
    {
     "name": "stdout",
     "output_type": "stream",
     "text": [
      "CPU times: user 12.2 ms, sys: 0 ns, total: 12.2 ms\n",
      "Wall time: 11.7 ms\n"
     ]
    }
   ],
   "source": [
    "%time el3=wigner_3j_2(j1,j2,j3,m1,m2,m3)"
   ]
  },
  {
   "cell_type": "code",
   "execution_count": 293,
   "metadata": {},
   "outputs": [],
   "source": []
  },
  {
   "cell_type": "code",
   "execution_count": 262,
   "metadata": {},
   "outputs": [
    {
     "data": {
      "text/plain": [
       "148.135182962646"
      ]
     },
     "execution_count": 262,
     "metadata": {},
     "output_type": "execute_result"
    }
   ],
   "source": [
    "sy_log(21591983337577782090880719844438520694889875780192417731423645023).evalf()"
   ]
  },
  {
   "cell_type": "code",
   "execution_count": 263,
   "metadata": {},
   "outputs": [
    {
     "data": {
      "text/plain": [
       "-0.00648581407194974"
      ]
     },
     "execution_count": 263,
     "metadata": {},
     "output_type": "execute_result"
    }
   ],
   "source": [
    "el3.evalf()"
   ]
  },
  {
   "cell_type": "code",
   "execution_count": 177,
   "metadata": {},
   "outputs": [
    {
     "data": {
      "text/plain": [
       "504.1049918683727"
      ]
     },
     "execution_count": 177,
     "metadata": {},
     "output_type": "execute_result"
    }
   ],
   "source": [
    "r"
   ]
  },
  {
   "cell_type": "code",
   "execution_count": 178,
   "metadata": {},
   "outputs": [
    {
     "data": {
      "text/plain": [
       "6.222784563575506"
      ]
     },
     "execution_count": 178,
     "metadata": {},
     "output_type": "execute_result"
    }
   ],
   "source": [
    "r=np.float(np.absolute(el2/el3.evalf()))\n",
    "np.log(r)"
   ]
  },
  {
   "cell_type": "code",
   "execution_count": 95,
   "metadata": {},
   "outputs": [
    {
     "data": {
      "text/plain": [
       "\u001b[0;31mSignature:\u001b[0m \u001b[0mlog_factorial2\u001b[0m\u001b[0;34m(\u001b[0m\u001b[0mn\u001b[0m\u001b[0;34m)\u001b[0m\u001b[0;34m\u001b[0m\u001b[0m\n",
       "\u001b[0;31mDocstring:\u001b[0m <no docstring>\n",
       "\u001b[0;31mSource:\u001b[0m   \n",
       "\u001b[0;32mdef\u001b[0m \u001b[0mlog_factorial2\u001b[0m\u001b[0;34m(\u001b[0m\u001b[0mn\u001b[0m\u001b[0;34m)\u001b[0m\u001b[0;34m:\u001b[0m\u001b[0;34m\u001b[0m\n",
       "\u001b[0;34m\u001b[0m    \u001b[0;31m#return loggamma(n+1)\u001b[0m\u001b[0;34m\u001b[0m\n",
       "\u001b[0;34m\u001b[0m    \u001b[0;32mreturn\u001b[0m \u001b[0mnp\u001b[0m\u001b[0;34m.\u001b[0m\u001b[0msum\u001b[0m\u001b[0;34m(\u001b[0m\u001b[0mnp\u001b[0m\u001b[0;34m.\u001b[0m\u001b[0mlog\u001b[0m\u001b[0;34m(\u001b[0m\u001b[0mnp\u001b[0m\u001b[0;34m.\u001b[0m\u001b[0marange\u001b[0m\u001b[0;34m(\u001b[0m\u001b[0mn\u001b[0m\u001b[0;34m)\u001b[0m\u001b[0;34m+\u001b[0m\u001b[0;36m1\u001b[0m\u001b[0;34m)\u001b[0m\u001b[0;34m)\u001b[0m\u001b[0;34m\u001b[0m\u001b[0m\n",
       "\u001b[0;31mFile:\u001b[0m      ~/repos/cosmic_shear/<ipython-input-9-a7d9d0fceaf5>\n",
       "\u001b[0;31mType:\u001b[0m      function\n"
      ]
     },
     "metadata": {},
     "output_type": "display_data"
    }
   ],
   "source": [
    "??log_factorial2"
   ]
  },
  {
   "cell_type": "raw",
   "metadata": {},
   "source": [
    "##### import tracemalloc"
   ]
  },
  {
   "cell_type": "raw",
   "metadata": {},
   "source": [
    "j1_t=np.arange(500)\n",
    "j2_t=np.arange(500)\n",
    "j3_t=np.arange(100)\n",
    "# tracemalloc.start()\n",
    "%time el_nd3=Wigner3j_log_vec3(m1,m2,m3,j1_t,j2_t,j3_t)\n",
    "# snapshot = tracemalloc.take_snapshot()"
   ]
  },
  {
   "cell_type": "raw",
   "metadata": {},
   "source": [
    "%time el_nd3p=wigner3j_parallel(m1,m2,m3,j1_t,j2_t,j3_t)\n",
    "np.all(np.isclose(el_nd3,el_nd3p,rtol=1.e-5,atol=0))"
   ]
  },
  {
   "cell_type": "raw",
   "metadata": {},
   "source": [
    "np.dot(el_nd3**2,j3_t).shape"
   ]
  },
  {
   "cell_type": "raw",
   "metadata": {},
   "source": [
    "el_nd3p"
   ]
  },
  {
   "cell_type": "raw",
   "metadata": {},
   "source": [
    "np.all(np.isfinite(w))"
   ]
  },
  {
   "cell_type": "code",
   "execution_count": 13,
   "metadata": {},
   "outputs": [
    {
     "ename": "NameError",
     "evalue": "name 'el_nd3' is not defined",
     "output_type": "error",
     "traceback": [
      "\u001b[0;31m---------------------------------------------------------------------------\u001b[0m",
      "\u001b[0;31mNameError\u001b[0m                                 Traceback (most recent call last)",
      "\u001b[0;32m<ipython-input-13-0e64b39b81ea>\u001b[0m in \u001b[0;36m<module>\u001b[0;34m()\u001b[0m\n\u001b[1;32m      1\u001b[0m \u001b[0mwrong\u001b[0m\u001b[0;34m=\u001b[0m\u001b[0;36m0\u001b[0m\u001b[0;34m\u001b[0m\u001b[0m\n\u001b[1;32m      2\u001b[0m \u001b[0mfail\u001b[0m\u001b[0;34m=\u001b[0m\u001b[0;36m0\u001b[0m\u001b[0;34m\u001b[0m\u001b[0m\n\u001b[0;32m----> 3\u001b[0;31m \u001b[0mw\u001b[0m\u001b[0;34m=\u001b[0m\u001b[0mnp\u001b[0m\u001b[0;34m.\u001b[0m\u001b[0mzeros_like\u001b[0m\u001b[0;34m(\u001b[0m\u001b[0mel_nd3\u001b[0m\u001b[0;34m)\u001b[0m\u001b[0;34m\u001b[0m\u001b[0m\n\u001b[0m\u001b[1;32m      4\u001b[0m \u001b[0;32mfor\u001b[0m \u001b[0mi1\u001b[0m \u001b[0;32min\u001b[0m \u001b[0mj1_t\u001b[0m\u001b[0;34m:\u001b[0m\u001b[0;34m\u001b[0m\u001b[0m\n\u001b[1;32m      5\u001b[0m     \u001b[0;32mfor\u001b[0m \u001b[0mi2\u001b[0m \u001b[0;32min\u001b[0m \u001b[0mj2_t\u001b[0m\u001b[0;34m:\u001b[0m\u001b[0;34m\u001b[0m\u001b[0m\n",
      "\u001b[0;31mNameError\u001b[0m: name 'el_nd3' is not defined"
     ]
    }
   ],
   "source": [
    "wrong=0\n",
    "fail=0\n",
    "w=np.zeros_like(el_nd3)\n",
    "for i1 in j1_t:\n",
    "    for i2 in j2_t:\n",
    "        for i3 in j3_t:\n",
    "#             w=Wigner3j_log_vec(j1_t,i2,i3,m1,m2,m3)\n",
    "            w[i1,i2,i3]=np.float(wigner_3j(i1,i2,i3,m1,m2,m3))\n",
    "            x=np.isclose(w[i1,i2,i3],el_nd3[i1,i2,i3],atol=1.e-10,rtol=1.e-5)\n",
    "            if not x:\n",
    "                print(el_nd3[i1,i2,i3],w[i1,i2,i3],el_nd3[i1,i2,i3]-w[i1,i2,i3],[i1,i2,i3])\n",
    "                wrong+=np.sum(~x)"
   ]
  },
  {
   "cell_type": "code",
   "execution_count": 14,
   "metadata": {},
   "outputs": [
    {
     "data": {
      "text/plain": [
       "(0, 0)"
      ]
     },
     "execution_count": 14,
     "metadata": {},
     "output_type": "execute_result"
    }
   ],
   "source": [
    "fail,wrong#/(100.**3)"
   ]
  },
  {
   "cell_type": "code",
   "execution_count": 487,
   "metadata": {},
   "outputs": [
    {
     "data": {
      "text/plain": [
       "array([6, 7, 8, 9])"
      ]
     },
     "execution_count": 487,
     "metadata": {},
     "output_type": "execute_result"
    }
   ],
   "source": [
    "np.where(x)[0]"
   ]
  },
  {
   "cell_type": "code",
   "execution_count": 521,
   "metadata": {},
   "outputs": [
    {
     "data": {
      "text/plain": [
       "array([6, 7, 8, 9])"
      ]
     },
     "execution_count": 521,
     "metadata": {},
     "output_type": "execute_result"
    }
   ],
   "source": [
    "np.where(x)[0]"
   ]
  },
  {
   "cell_type": "code",
   "execution_count": 560,
   "metadata": {},
   "outputs": [
    {
     "ename": "ValueError",
     "evalue": "Wrong number of array axes",
     "output_type": "error",
     "traceback": [
      "\u001b[0;31m---------------------------------------------------------------------------\u001b[0m",
      "\u001b[0;31mValueError\u001b[0m                                Traceback (most recent call last)",
      "\u001b[0;32m<ipython-input-560-27b408c7e5f5>\u001b[0m in \u001b[0;36m<module>\u001b[0;34m()\u001b[0m\n\u001b[1;32m      1\u001b[0m \u001b[0mx\u001b[0m\u001b[0;34m=\u001b[0m\u001b[0msy_array\u001b[0m\u001b[0;34m(\u001b[0m\u001b[0mnp\u001b[0m\u001b[0;34m.\u001b[0m\u001b[0marange\u001b[0m\u001b[0;34m(\u001b[0m\u001b[0;36m10\u001b[0m\u001b[0;34m)\u001b[0m\u001b[0;34m>\u001b[0m\u001b[0;36m5\u001b[0m\u001b[0;34m)\u001b[0m\u001b[0;34m\u001b[0m\u001b[0m\n\u001b[0;32m----> 2\u001b[0;31m \u001b[0msy_array\u001b[0m\u001b[0;34m(\u001b[0m\u001b[0mnp\u001b[0m\u001b[0;34m.\u001b[0m\u001b[0mzeros\u001b[0m\u001b[0;34m(\u001b[0m\u001b[0;36m10\u001b[0m\u001b[0;34m)\u001b[0m\u001b[0;34m)\u001b[0m\u001b[0;34m[\u001b[0m\u001b[0;36m1\u001b[0m\u001b[0;34m,\u001b[0m\u001b[0;36m2\u001b[0m\u001b[0;34m]\u001b[0m\u001b[0;34m\u001b[0m\u001b[0m\n\u001b[0m",
      "\u001b[0;32m/usr/lib/python3.7/site-packages/sympy/tensor/array/dense_ndim_array.py\u001b[0m in \u001b[0;36m__getitem__\u001b[0;34m(self, index)\u001b[0m\n\u001b[1;32m     65\u001b[0m                 \u001b[0;32mreturn\u001b[0m \u001b[0mself\u001b[0m\u001b[0;34m.\u001b[0m\u001b[0m_array\u001b[0m\u001b[0;34m[\u001b[0m\u001b[0mindex\u001b[0m\u001b[0;34m]\u001b[0m\u001b[0;34m\u001b[0m\u001b[0m\n\u001b[1;32m     66\u001b[0m             \u001b[0;32melse\u001b[0m\u001b[0;34m:\u001b[0m\u001b[0;34m\u001b[0m\u001b[0m\n\u001b[0;32m---> 67\u001b[0;31m                 \u001b[0mindex\u001b[0m \u001b[0;34m=\u001b[0m \u001b[0mself\u001b[0m\u001b[0;34m.\u001b[0m\u001b[0m_parse_index\u001b[0m\u001b[0;34m(\u001b[0m\u001b[0mindex\u001b[0m\u001b[0;34m)\u001b[0m\u001b[0;34m\u001b[0m\u001b[0m\n\u001b[0m\u001b[1;32m     68\u001b[0m                 \u001b[0;32mreturn\u001b[0m \u001b[0mself\u001b[0m\u001b[0;34m.\u001b[0m\u001b[0m_array\u001b[0m\u001b[0;34m[\u001b[0m\u001b[0mindex\u001b[0m\u001b[0;34m]\u001b[0m\u001b[0;34m\u001b[0m\u001b[0m\n\u001b[1;32m     69\u001b[0m \u001b[0;34m\u001b[0m\u001b[0m\n",
      "\u001b[0;32m/usr/lib/python3.7/site-packages/sympy/tensor/array/ndim_array.py\u001b[0m in \u001b[0;36m_parse_index\u001b[0;34m(self, index)\u001b[0m\n\u001b[1;32m     72\u001b[0m \u001b[0;34m\u001b[0m\u001b[0m\n\u001b[1;32m     73\u001b[0m         \u001b[0;32mif\u001b[0m \u001b[0mlen\u001b[0m\u001b[0;34m(\u001b[0m\u001b[0mindex\u001b[0m\u001b[0;34m)\u001b[0m \u001b[0;34m!=\u001b[0m \u001b[0mself\u001b[0m\u001b[0;34m.\u001b[0m\u001b[0m_rank\u001b[0m\u001b[0;34m:\u001b[0m\u001b[0;34m\u001b[0m\u001b[0m\n\u001b[0;32m---> 74\u001b[0;31m             \u001b[0;32mraise\u001b[0m \u001b[0mValueError\u001b[0m\u001b[0;34m(\u001b[0m\u001b[0;34m'Wrong number of array axes'\u001b[0m\u001b[0;34m)\u001b[0m\u001b[0;34m\u001b[0m\u001b[0m\n\u001b[0m\u001b[1;32m     75\u001b[0m \u001b[0;34m\u001b[0m\u001b[0m\n\u001b[1;32m     76\u001b[0m         \u001b[0mreal_index\u001b[0m \u001b[0;34m=\u001b[0m \u001b[0;36m0\u001b[0m\u001b[0;34m\u001b[0m\u001b[0m\n",
      "\u001b[0;31mValueError\u001b[0m: Wrong number of array axes"
     ]
    }
   ],
   "source": [
    "x=sy_array(np.arange(10)>5)\n",
    "sy_array(np.zeros(10))[1,2]"
   ]
  },
  {
   "cell_type": "code",
   "execution_count": 58,
   "metadata": {},
   "outputs": [],
   "source": [
    "def Wigner3j_log_vec3(m_1, m_2, m_3,j_1, j_2, j_3):\n",
    "    \"\"\"Calculate the Wigner 3j symbol `Wigner3j(j_1,j_2,j_3,m_1,m_2,m_3)`\n",
    "\n",
    "    This function is copied with minor modification from\n",
    "    sympy.physics.Wigner, as written by Jens Rasch.\n",
    "\n",
    "    The inputs must be integers.  (Half integer arguments are\n",
    "    sacrificed so that we can use numba.)  Nonzero return quantities\n",
    "    only occur when the `j`s obey the triangle inequality (any two\n",
    "    must add up to be as big as or bigger than the third).\n",
    "\n",
    "    Examples\n",
    "    ========\n",
    "\n",
    "    >>> from spherical_functions import Wigner3j\n",
    "    >>> Wigner3j(2, 6, 4, 0, 0, 0)\n",
    "    0.186989398002\n",
    "    >>> Wigner3j(2, 6, 4, 0, 0, 1)\n",
    "    0\n",
    "\n",
    "    \"\"\"\n",
    "    j_1=j_1.reshape(len(np.atleast_1d(j_1)),1,1)\n",
    "    j_2=j_2.reshape(1,len(np.atleast_1d(j_2)),1)\n",
    "    j_3=j_3.reshape(1,1,len(np.atleast_1d(j_3)))\n",
    "    \n",
    "    x0=np.logical_not(np.any([ j_1 + j_2 - j_3<0, \n",
    "                               j_1 - j_2 + j_3<0, \n",
    "                              -j_1 + j_2 + j_3<0, \n",
    "                            abs(m_1) > j_1+j_2*0+j_3*0,\n",
    "                            abs(m_2) > j_2+j_1*0+j_3*0,\n",
    "                            abs(m_3) > j_3+j_2*0+j_1*0\n",
    "                             ],axis=0))\n",
    "    \n",
    "    if (m_1 + m_2 + m_3 != 0 or x0.sum()==0):\n",
    "        return np.zeros_like(j_1+j_2+j_3,dtype='float64')\n",
    "    a={}\n",
    "    a[1]=(j_1 + j_2 - j_3)[x0]\n",
    "    \n",
    "    m_3 = -m_3\n",
    "    \n",
    "    log_argsqrt =(log_factorial(j_1 - m_1) +\n",
    "                log_factorial(j_1 + m_1) +\n",
    "                log_factorial(j_2 - m_2) +\n",
    "                log_factorial(j_2 + m_2) +\n",
    "                log_factorial(j_3 - m_3) +\n",
    "                log_factorial(j_3 + m_3))[x0]\n",
    "    \n",
    "    log_argsqrt+=(log_factorial(a[1]) +\n",
    "                log_factorial((j_1 - j_2 + j_3)[x0]) +\n",
    "                log_factorial((-j_1 + j_2 + j_3)[x0]) - log_factorial((j_1+j_2+j_3)[x0]+ 1))\n",
    "    \n",
    "    log_ressqrt=0.5*log_argsqrt\n",
    "    log_argsqrt=None\n",
    "#     imin = max(-j_3 + j_1 + m_2, max(-j_3 + j_2 - m_1, 0)) \n",
    "    imin_t=(-j_3 + j_2 - m_1 +j_1*0 ).clip(min=0)[x0]\n",
    "    imin = (-j_3 + j_1 + m_2 +j_2*0)[x0]\n",
    "    imin[imin<imin_t]=imin_t[imin<imin_t]\n",
    "    imin_t=None\n",
    "    \n",
    "#     imax = min(j_2 + m_2, min(j_1 - m_1, j_1 + j_2 - j_3))    \n",
    "    imax_t=(j_1 - m_1 + j_2*0+j_3*0)[x0]\n",
    "    imax =(j_1 + j_2 - j_3)[x0]\n",
    "    imax[imax>imax_t]=imax_t[imax>imax_t]\n",
    "    imax_t=(j_2 + m_2 + j_1*0+j_3*0)[x0]\n",
    "    imax[imax>imax_t]=imax_t[imax>imax_t]\n",
    "    imax_t=None\n",
    "\n",
    "    \n",
    "    iis=np.arange(np.amin(imin), np.amax(imax) + 1) #no need to use x0 here. Can also lead to somewhat wrong answers\n",
    "    sgns=np.ones_like(iis,dtype='int')*-1\n",
    "    sgns[iis%2==0]=1\n",
    "    \n",
    "    b1=(j_3 - j_1 - m_2 +j_2*0)[x0]\n",
    "    b2=(j_2 + m_2 +j_1*0+j_3*0)[x0]\n",
    "    b3=(j_1-m1 +j_2*0+j_3*0)[x0]\n",
    "    b4=(j_3 - j_2 + m_1 +j_1*0)[x0]\n",
    "    sumres_t=np.zeros_like(b1,dtype='float')\n",
    "    log_f=40\n",
    "    for i in np.arange(len(iis)):\n",
    "        ii=iis[i]\n",
    "        x=np.logical_not(np.logical_or(ii<imin,ii>imax))\n",
    "        log_den =( log_factorial(ii) +\n",
    "                    log_factorial( b1[x] + ii ) +\n",
    "                    log_factorial( b2[x] - ii) +\n",
    "                    log_factorial( b3[x] - ii) +\n",
    "                    log_factorial( b4[x] + ii ) +\n",
    "                    log_factorial(a[1][x] - ii) )\n",
    "        sumres_ii=np.exp(log_ressqrt[x]-log_den-log_f)*sgns[i]\n",
    "        sumres_t+=sumres_ii\n",
    "        print(sumres_t[x],sumres_ii)\n",
    "    sumres_t*=np.exp(log_f)\n",
    "#     sumres_t=np.exp(log_ressqrt+np.log(np.absolute(sumres_t)))*np.sign(sumres_t)\n",
    "    prefid = np.ones_like(x0,dtype='int8') # (1 if (j_1 - j_2 - m_3) % 2 == 0 else -1)\n",
    "    prefid[(j_1 - j_2 - m_3+j_3*0) % 2 == 1]=-1\n",
    "    return sparse.COO(np.where(x0),data=sumres_t*prefid[x0])    #ressqrt taken inside sumres calc\n",
    "\n",
    "def wigner3j_parallel( m_1, m_2, m_3,j_1, j_2, j_3,ncpu=None):\n",
    "    if ncpu is None:\n",
    "        ncpu=cpu_count()-2\n",
    "    p=Pool(ncpu)\n",
    "    d_mat=sparse.stack(p.map(partial(Wigner3j_log_vec3, m_1, m_2, m_3,j_1, j_2),j_3,chunksize=max(1,np.int(len(j_3)/ncpu/10))))\n",
    "    p.close()\n",
    "    return d_mat[:,:,:,0].transpose((1,2,0))"
   ]
  },
  {
   "cell_type": "code",
   "execution_count": 59,
   "metadata": {},
   "outputs": [],
   "source": [
    "from sympy import zeros as sy_zeros\n",
    "from sympy import MutableDenseNDimArray as sy_array"
   ]
  },
  {
   "cell_type": "code",
   "execution_count": 60,
   "metadata": {},
   "outputs": [
    {
     "name": "stdout",
     "output_type": "stream",
     "text": [
      "CPU times: user 1.12 ms, sys: 95 µs, total: 1.21 ms\n",
      "Wall time: 1.22 ms\n",
      "[8.33010638e-20] [8.33010638e-20]\n",
      "CPU times: user 1.48 ms, sys: 3.1 ms, total: 4.58 ms\n",
      "Wall time: 3.56 ms\n",
      "CPU times: user 1.21 ms, sys: 6.58 ms, total: 7.79 ms\n",
      "Wall time: 7.31 ms\n"
     ]
    },
    {
     "data": {
      "text/plain": [
       "(0.0196078431372549, 0.019607843137257122, array([[[0.01960784]]]))"
      ]
     },
     "execution_count": 60,
     "metadata": {},
     "output_type": "execute_result"
    }
   ],
   "source": [
    "j1=1300#np.arange(10)\n",
    "j2=1300\n",
    "j3=0\n",
    "m1=0\n",
    "m2=0\n",
    "m3=0\n",
    "\n",
    "%time el2=Wigner3j_log(j1,j2,j3,m1,m2,m3)\n",
    "\n",
    "%time el_nd3=Wigner3j_log_vec3(m1,m2,m3,np.atleast_1d(j1),np.atleast_1d(j2),np.atleast_1d(j3))\n",
    "\n",
    "%time el0=wigner_3j(j1,j2,j3,m1,m2,m3).evalf()\n",
    "el0,el2,el_nd3.todense()"
   ]
  },
  {
   "cell_type": "code",
   "execution_count": 145,
   "metadata": {},
   "outputs": [
    {
     "name": "stdout",
     "output_type": "stream",
     "text": [
      "[4.24835426e-18] [4.24835426e-18]\n",
      "[1.79556578e-18] [-2.45278847e-18]\n",
      "[3.69548756e-18] [1.89992178e-18]\n",
      "[2.08976059e-18] [-1.60572698e-18]\n",
      "[3.50587867e-18] [1.41611809e-18]\n",
      "[2.22495167e-18] [-1.280927e-18]\n",
      "[3.40323314e-18] [1.17828147e-18]\n",
      "[2.30631279e-18] [-1.09692035e-18]\n",
      "[3.33669004e-18] [1.03037725e-18]\n",
      "[2.36205073e-18] [-9.74639309e-19]\n"
     ]
    },
    {
     "ename": "ValueError",
     "evalue": "operands could not be broadcast together with shapes (27,) (3,) (27,) ",
     "output_type": "error",
     "traceback": [
      "\u001b[0;31m---------------------------------------------------------------------------\u001b[0m",
      "\u001b[0;31mRemoteTraceback\u001b[0m                           Traceback (most recent call last)",
      "\u001b[0;31mRemoteTraceback\u001b[0m: \n\"\"\"\nTraceback (most recent call last):\n  File \"/usr/lib/python3.7/multiprocessing/pool.py\", line 121, in worker\n    result = (True, func(*args, **kwds))\n  File \"/usr/lib/python3.7/multiprocessing/pool.py\", line 44, in mapstar\n    return list(map(*args))\n  File \"<ipython-input-58-1f2355bc059f>\", line 89, in Wigner3j_log_vec3\n    sumres_t+=sumres_ii\nValueError: operands could not be broadcast together with shapes (27,) (3,) (27,) \n\"\"\"",
      "\nThe above exception was the direct cause of the following exception:\n",
      "\u001b[0;31mValueError\u001b[0m                                Traceback (most recent call last)",
      "\u001b[0;32m<ipython-input-145-f9ce70e82bf7>\u001b[0m in \u001b[0;36m<module>\u001b[0;34m()\u001b[0m\n\u001b[0;32m----> 1\u001b[0;31m \u001b[0mwigner3j_parallel\u001b[0m\u001b[0;34m(\u001b[0m \u001b[0mm1\u001b[0m\u001b[0;34m,\u001b[0m \u001b[0mm2\u001b[0m\u001b[0;34m,\u001b[0m \u001b[0mm3\u001b[0m\u001b[0;34m,\u001b[0m\u001b[0mj1\u001b[0m\u001b[0;34m,\u001b[0m \u001b[0mj2\u001b[0m\u001b[0;34m,\u001b[0m \u001b[0mj3\u001b[0m\u001b[0;34m,\u001b[0m\u001b[0mncpu\u001b[0m\u001b[0;34m=\u001b[0m\u001b[0mncpu\u001b[0m\u001b[0;34m)\u001b[0m\u001b[0;34m\u001b[0m\u001b[0m\n\u001b[0m",
      "\u001b[0;32m<ipython-input-58-1f2355bc059f>\u001b[0m in \u001b[0;36mwigner3j_parallel\u001b[0;34m(m_1, m_2, m_3, j_1, j_2, j_3, ncpu)\u001b[0m\n\u001b[1;32m     99\u001b[0m         \u001b[0mncpu\u001b[0m\u001b[0;34m=\u001b[0m\u001b[0mcpu_count\u001b[0m\u001b[0;34m(\u001b[0m\u001b[0;34m)\u001b[0m\u001b[0;34m-\u001b[0m\u001b[0;36m2\u001b[0m\u001b[0;34m\u001b[0m\u001b[0m\n\u001b[1;32m    100\u001b[0m     \u001b[0mp\u001b[0m\u001b[0;34m=\u001b[0m\u001b[0mPool\u001b[0m\u001b[0;34m(\u001b[0m\u001b[0mncpu\u001b[0m\u001b[0;34m)\u001b[0m\u001b[0;34m\u001b[0m\u001b[0m\n\u001b[0;32m--> 101\u001b[0;31m     \u001b[0md_mat\u001b[0m\u001b[0;34m=\u001b[0m\u001b[0msparse\u001b[0m\u001b[0;34m.\u001b[0m\u001b[0mstack\u001b[0m\u001b[0;34m(\u001b[0m\u001b[0mp\u001b[0m\u001b[0;34m.\u001b[0m\u001b[0mmap\u001b[0m\u001b[0;34m(\u001b[0m\u001b[0mpartial\u001b[0m\u001b[0;34m(\u001b[0m\u001b[0mWigner3j_log_vec3\u001b[0m\u001b[0;34m,\u001b[0m \u001b[0mm_1\u001b[0m\u001b[0;34m,\u001b[0m \u001b[0mm_2\u001b[0m\u001b[0;34m,\u001b[0m \u001b[0mm_3\u001b[0m\u001b[0;34m,\u001b[0m\u001b[0mj_1\u001b[0m\u001b[0;34m,\u001b[0m \u001b[0mj_2\u001b[0m\u001b[0;34m)\u001b[0m\u001b[0;34m,\u001b[0m\u001b[0mj_3\u001b[0m\u001b[0;34m,\u001b[0m\u001b[0mchunksize\u001b[0m\u001b[0;34m=\u001b[0m\u001b[0mmax\u001b[0m\u001b[0;34m(\u001b[0m\u001b[0;36m1\u001b[0m\u001b[0;34m,\u001b[0m\u001b[0mnp\u001b[0m\u001b[0;34m.\u001b[0m\u001b[0mint\u001b[0m\u001b[0;34m(\u001b[0m\u001b[0mlen\u001b[0m\u001b[0;34m(\u001b[0m\u001b[0mj_3\u001b[0m\u001b[0;34m)\u001b[0m\u001b[0;34m/\u001b[0m\u001b[0mncpu\u001b[0m\u001b[0;34m/\u001b[0m\u001b[0;36m10\u001b[0m\u001b[0;34m)\u001b[0m\u001b[0;34m)\u001b[0m\u001b[0;34m)\u001b[0m\u001b[0;34m)\u001b[0m\u001b[0;34m\u001b[0m\u001b[0m\n\u001b[0m\u001b[1;32m    102\u001b[0m     \u001b[0mp\u001b[0m\u001b[0;34m.\u001b[0m\u001b[0mclose\u001b[0m\u001b[0;34m(\u001b[0m\u001b[0;34m)\u001b[0m\u001b[0;34m\u001b[0m\u001b[0m\n\u001b[1;32m    103\u001b[0m     \u001b[0;32mreturn\u001b[0m \u001b[0md_mat\u001b[0m\u001b[0;34m[\u001b[0m\u001b[0;34m:\u001b[0m\u001b[0;34m,\u001b[0m\u001b[0;34m:\u001b[0m\u001b[0;34m,\u001b[0m\u001b[0;34m:\u001b[0m\u001b[0;34m,\u001b[0m\u001b[0;36m0\u001b[0m\u001b[0;34m]\u001b[0m\u001b[0;34m.\u001b[0m\u001b[0mtranspose\u001b[0m\u001b[0;34m(\u001b[0m\u001b[0;34m(\u001b[0m\u001b[0;36m1\u001b[0m\u001b[0;34m,\u001b[0m\u001b[0;36m2\u001b[0m\u001b[0;34m,\u001b[0m\u001b[0;36m0\u001b[0m\u001b[0;34m)\u001b[0m\u001b[0;34m)\u001b[0m\u001b[0;34m\u001b[0m\u001b[0m\n",
      "\u001b[0;32m/usr/lib/python3.7/multiprocessing/pool.py\u001b[0m in \u001b[0;36mmap\u001b[0;34m(self, func, iterable, chunksize)\u001b[0m\n\u001b[1;32m    266\u001b[0m         \u001b[0;32min\u001b[0m \u001b[0ma\u001b[0m \u001b[0mlist\u001b[0m \u001b[0mthat\u001b[0m \u001b[0;32mis\u001b[0m \u001b[0mreturned\u001b[0m\u001b[0;34m.\u001b[0m\u001b[0;34m\u001b[0m\u001b[0m\n\u001b[1;32m    267\u001b[0m         '''\n\u001b[0;32m--> 268\u001b[0;31m         \u001b[0;32mreturn\u001b[0m \u001b[0mself\u001b[0m\u001b[0;34m.\u001b[0m\u001b[0m_map_async\u001b[0m\u001b[0;34m(\u001b[0m\u001b[0mfunc\u001b[0m\u001b[0;34m,\u001b[0m \u001b[0miterable\u001b[0m\u001b[0;34m,\u001b[0m \u001b[0mmapstar\u001b[0m\u001b[0;34m,\u001b[0m \u001b[0mchunksize\u001b[0m\u001b[0;34m)\u001b[0m\u001b[0;34m.\u001b[0m\u001b[0mget\u001b[0m\u001b[0;34m(\u001b[0m\u001b[0;34m)\u001b[0m\u001b[0;34m\u001b[0m\u001b[0m\n\u001b[0m\u001b[1;32m    269\u001b[0m \u001b[0;34m\u001b[0m\u001b[0m\n\u001b[1;32m    270\u001b[0m     \u001b[0;32mdef\u001b[0m \u001b[0mstarmap\u001b[0m\u001b[0;34m(\u001b[0m\u001b[0mself\u001b[0m\u001b[0;34m,\u001b[0m \u001b[0mfunc\u001b[0m\u001b[0;34m,\u001b[0m \u001b[0miterable\u001b[0m\u001b[0;34m,\u001b[0m \u001b[0mchunksize\u001b[0m\u001b[0;34m=\u001b[0m\u001b[0;32mNone\u001b[0m\u001b[0;34m)\u001b[0m\u001b[0;34m:\u001b[0m\u001b[0;34m\u001b[0m\u001b[0m\n",
      "\u001b[0;32m/usr/lib/python3.7/multiprocessing/pool.py\u001b[0m in \u001b[0;36mget\u001b[0;34m(self, timeout)\u001b[0m\n\u001b[1;32m    655\u001b[0m             \u001b[0;32mreturn\u001b[0m \u001b[0mself\u001b[0m\u001b[0;34m.\u001b[0m\u001b[0m_value\u001b[0m\u001b[0;34m\u001b[0m\u001b[0m\n\u001b[1;32m    656\u001b[0m         \u001b[0;32melse\u001b[0m\u001b[0;34m:\u001b[0m\u001b[0;34m\u001b[0m\u001b[0m\n\u001b[0;32m--> 657\u001b[0;31m             \u001b[0;32mraise\u001b[0m \u001b[0mself\u001b[0m\u001b[0;34m.\u001b[0m\u001b[0m_value\u001b[0m\u001b[0;34m\u001b[0m\u001b[0m\n\u001b[0m\u001b[1;32m    658\u001b[0m \u001b[0;34m\u001b[0m\u001b[0m\n\u001b[1;32m    659\u001b[0m     \u001b[0;32mdef\u001b[0m \u001b[0m_set\u001b[0m\u001b[0;34m(\u001b[0m\u001b[0mself\u001b[0m\u001b[0;34m,\u001b[0m \u001b[0mi\u001b[0m\u001b[0;34m,\u001b[0m \u001b[0mobj\u001b[0m\u001b[0;34m)\u001b[0m\u001b[0;34m:\u001b[0m\u001b[0;34m\u001b[0m\u001b[0m\n",
      "\u001b[0;31mValueError\u001b[0m: operands could not be broadcast together with shapes (27,) (3,) (27,) "
     ]
    }
   ],
   "source": [
    "wigner3j_parallel( m1, m2, m3,j1, j2, j3,ncpu=ncpu)"
   ]
  },
  {
   "cell_type": "code",
   "execution_count": 34,
   "metadata": {},
   "outputs": [
    {
     "data": {
      "text/plain": [
       "(400,)"
      ]
     },
     "execution_count": 34,
     "metadata": {},
     "output_type": "execute_result"
    }
   ],
   "source": [
    "d_mat.shape"
   ]
  },
  {
   "cell_type": "code",
   "execution_count": 837,
   "metadata": {},
   "outputs": [
    {
     "name": "stdout",
     "output_type": "stream",
     "text": [
      "CPU times: user 2.52 ms, sys: 0 ns, total: 2.52 ms\n",
      "Wall time: 2.46 ms\n",
      "[1.82008274e-47] [1.82008274e-47]\n",
      "[-6.26088002e-44] [-6.2627001e-44]\n",
      "[7.89869309e-41] [7.90495397e-41]\n",
      "[-5.19660676e-38] [-5.20450545e-38]\n",
      "[2.08886291e-35] [2.09405952e-35]\n",
      "[-5.62711466e-33] [-5.64800329e-33]\n",
      "[1.08000461e-30] [1.08563173e-30]\n",
      "[-1.54274992e-28] [-1.55354997e-28]\n",
      "[1.69486456e-26] [1.71029206e-26]\n",
      "[-1.46904522e-24] [-1.48599386e-24]\n",
      "[1.02536702e-22] [1.04005747e-22]\n",
      "[-5.86057346e-21] [-5.96311016e-21]\n",
      "[2.78148922e-19] [2.84009495e-19]\n",
      "[-1.10921152e-17] [-1.13702641e-17]\n",
      "[3.75435357e-16] [3.86527472e-16]\n",
      "[-1.08800257e-14] [-1.12554611e-14]\n",
      "[2.72021994e-13] [2.8290202e-13]\n",
      "[-5.9069295e-12] [-6.1789515e-12]\n",
      "[1.1206545e-10] [1.1797238e-10]\n",
      "[-1.86731766e-09] [-1.97938311e-09]\n",
      "[2.74563434e-08] [2.93236611e-08]\n",
      "[-3.57748224e-07] [-3.85204568e-07]\n",
      "[4.14641796e-06] [4.50416619e-06]\n",
      "[-4.28964109e-05] [-4.70428288e-05]\n",
      "[0.00039735] [0.00044025]\n",
      "[-0.00330488] [-0.00370223]\n",
      "[0.02474489] [0.02804976]\n",
      "[-0.16717873] [-0.19192362]\n",
      "[1.02133908] [1.18851781]\n",
      "[-5.65326863] [-6.67460771]\n",
      "[28.40166687] [34.0549355]\n",
      "[-129.72067061] [-158.12233748]\n",
      "[539.43691191] [669.15758252]\n",
      "[-2045.15592802] [-2584.59283993]\n",
      "[7077.86207912] [9123.01800714]\n",
      "[-22384.86410487] [-29462.72618399]\n",
      "[64762.67386798] [87147.53797285]\n",
      "[-171558.25148223] [-236320.92535021]\n",
      "[416460.15194316] [588018.40342539]\n",
      "[-927109.18239534] [-1343569.3343385]\n",
      "[1893950.19590694] [2821059.37830227]\n",
      "[-3552523.01743746] [-5446473.2133444]\n",
      "[6121440.13199595] [9673963.14943341]\n",
      "[-9694041.64327627] [-15815481.77527222]\n",
      "[14113883.54486302] [23807925.18813929]\n",
      "[-18897521.3755285] [-33011404.92039153]\n",
      "[23274337.34016469] [42171858.71569319]\n",
      "[-26371402.05542261] [-49645739.3955873]\n",
      "[27492480.60959208] [53863882.66501469]\n",
      "[-26371402.05542261] [-53863882.66501469]\n",
      "[23274337.34016469] [49645739.3955873]\n",
      "[-18897521.3755285] [-42171858.71569319]\n",
      "[14113883.54486302] [33011404.92039153]\n",
      "[-9694041.64327627] [-23807925.18813929]\n",
      "[6121440.13193841] [15815481.77521468]\n",
      "[-3552523.017495] [-9673963.14943341]\n",
      "[1893950.1958494] [5446473.2133444]\n",
      "[-927109.18245287] [-2821059.37830227]\n",
      "[416460.15188562] [1343569.3343385]\n",
      "[-171558.25153977] [-588018.40342539]\n",
      "[64762.67381045] [236320.92535021]\n",
      "[-22384.86416241] [-87147.53797285]\n",
      "[7077.86202158] [29462.72618399]\n",
      "[-2045.15598556] [-9123.01800714]\n",
      "[539.43685437] [2584.59283993]\n",
      "[-129.72072815] [-669.15758252]\n",
      "[28.40160933] [158.12233748]\n",
      "[-5.65332616] [-34.0549355]\n",
      "[1.02128155] [6.67460771]\n",
      "[-0.16723627] [-1.18851781]\n",
      "[0.02468735] [0.19192362]\n",
      "[-0.00336241] [-0.02804976]\n",
      "[0.00033981] [0.00370223]\n",
      "[-0.00010043] [-0.00044025]\n",
      "[-5.33904474e-05] [4.70428288e-05]\n",
      "[-5.78946136e-05] [-4.50416619e-06]\n",
      "[-5.7509409e-05] [3.85204568e-07]\n",
      "[-5.75387327e-05] [-2.93236611e-08]\n",
      "[-5.75367533e-05] [1.97938311e-09]\n",
      "[-5.75368713e-05] [-1.1797238e-10]\n",
      "[-5.75368651e-05] [6.1789515e-12]\n",
      "[-5.75368654e-05] [-2.8290202e-13]\n",
      "[-5.75368654e-05] [1.12554611e-14]\n",
      "[-5.75368654e-05] [-3.86527472e-16]\n",
      "[-5.75368654e-05] [1.13702641e-17]\n",
      "[-5.75368654e-05] [-2.84009495e-19]\n",
      "[-5.75368654e-05] [5.96311016e-21]\n",
      "[-5.75368654e-05] [-1.04005747e-22]\n",
      "[-5.75368654e-05] [1.48599386e-24]\n",
      "[-5.75368654e-05] [-1.71029206e-26]\n",
      "[-5.75368654e-05] [1.55354997e-28]\n",
      "[-5.75368654e-05] [-1.08563173e-30]\n",
      "[-5.75368654e-05] [5.64800329e-33]\n",
      "[-5.75368654e-05] [-2.09405952e-35]\n",
      "[-5.75368654e-05] [5.20450545e-38]\n",
      "[-5.75368654e-05] [-7.90495397e-41]\n",
      "[-5.75368654e-05] [6.2627001e-44]\n",
      "[-5.75368654e-05] [-1.82008274e-47]\n",
      "CPU times: user 46.7 ms, sys: 12.1 ms, total: 58.7 ms\n",
      "Wall time: 47.5 ms\n",
      "CPU times: user 51.2 ms, sys: 0 ns, total: 51.2 ms\n",
      "Wall time: 48.8 ms\n"
     ]
    },
    {
     "data": {
      "text/plain": [
       "(0, -13539884400640.0, array([[[-1.35433304e+13]]]))"
      ]
     },
     "execution_count": 837,
     "metadata": {},
     "output_type": "execute_result"
    }
   ],
   "source": [
    "j1=1379#np.arange(10)\n",
    "j2=1377\n",
    "j3=99\n",
    "m1=0\n",
    "m2=0\n",
    "m3=0\n",
    "\n",
    "%time el2=Wigner3j_log(j1,j2,j3,m1,m2,m3)\n",
    "\n",
    "%time el_nd3=Wigner3j_log_vec3(m1,m2,m3,np.atleast_1d(j1),np.atleast_1d(j2),np.atleast_1d(j3))\n",
    "\n",
    "%time el0=wigner_3j(j1,j2,j3,m1,m2,m3).evalf()\n",
    "el0,el2,el_nd3.todense()"
   ]
  },
  {
   "cell_type": "raw",
   "metadata": {},
   "source": [
    "j1=np.arange(10)\n",
    "j2=j1\n",
    "j3=j1\n",
    "m1=0\n",
    "m2=0\n",
    "m3=0\n",
    "\n",
    "%time el_nd3=Wigner3j_log_vec3(m1,m2,m3,np.atleast_1d(j1),np.atleast_1d(j2),np.atleast_1d(j3))"
   ]
  },
  {
   "cell_type": "code",
   "execution_count": 784,
   "metadata": {},
   "outputs": [
    {
     "name": "stdout",
     "output_type": "stream",
     "text": [
      "[1.02030509] [0.02010169]\n",
      "[[-4.92769887e-15]]\n"
     ]
    },
    {
     "data": {
      "text/plain": [
       "array([[-2.39384396e-17]])"
      ]
     },
     "execution_count": 784,
     "metadata": {},
     "output_type": "execute_result"
    }
   ],
   "source": [
    "wigner_d(m3,j2-j1,np.atleast_1d(np.pi/2),j3)/np.sqrt(j1+j2+1)"
   ]
  },
  {
   "cell_type": "code",
   "execution_count": null,
   "metadata": {},
   "outputs": [],
   "source": []
  },
  {
   "cell_type": "code",
   "execution_count": 39,
   "metadata": {},
   "outputs": [],
   "source": [
    "from scipy.sparse import csr_matrix\n"
   ]
  },
  {
   "cell_type": "code",
   "execution_count": 40,
   "metadata": {},
   "outputs": [
    {
     "data": {
      "text/plain": [
       "array([[0., 0., 0., 0.],\n",
       "       [0., 0., 0., 0.],\n",
       "       [0., 0., 0., 0.]])"
      ]
     },
     "execution_count": 40,
     "metadata": {},
     "output_type": "execute_result"
    }
   ],
   "source": [
    "csr_matrix((3, 4), dtype=np.float64).toarray()"
   ]
  },
  {
   "cell_type": "code",
   "execution_count": 41,
   "metadata": {},
   "outputs": [
    {
     "data": {
      "text/plain": [
       "100.0"
      ]
     },
     "execution_count": 41,
     "metadata": {},
     "output_type": "execute_result"
    }
   ],
   "source": [
    "x=np.ones((10,10))\n",
    "x.sum((1,0))"
   ]
  },
  {
   "cell_type": "code",
   "execution_count": 42,
   "metadata": {},
   "outputs": [],
   "source": [
    "x[1,1]=1\n",
    "y=sparse.COO(x)\n",
    "# y=csr_matrix(x)"
   ]
  },
  {
   "cell_type": "code",
   "execution_count": 43,
   "metadata": {},
   "outputs": [
    {
     "ename": "ValueError",
     "evalue": "Performing this operation would produce a dense result: <ufunc 'multiply'>",
     "output_type": "error",
     "traceback": [
      "\u001b[0;31m---------------------------------------------------------------------------\u001b[0m",
      "\u001b[0;31mValueError\u001b[0m                                Traceback (most recent call last)",
      "\u001b[0;32m<ipython-input-43-4e3731eceea8>\u001b[0m in \u001b[0;36m<module>\u001b[0;34m()\u001b[0m\n\u001b[0;32m----> 1\u001b[0;31m \u001b[0my\u001b[0m\u001b[0;34m=\u001b[0m\u001b[0my\u001b[0m\u001b[0;34m*\u001b[0m\u001b[0mnp\u001b[0m\u001b[0;34m.\u001b[0m\u001b[0mones_like\u001b[0m\u001b[0;34m(\u001b[0m\u001b[0mx\u001b[0m\u001b[0;34m)\u001b[0m\u001b[0;34m\u001b[0m\u001b[0m\n\u001b[0m",
      "\u001b[0;32m/usr/lib/python3.7/site-packages/numpy/lib/mixins.py\u001b[0m in \u001b[0;36mfunc\u001b[0;34m(self, other)\u001b[0m\n\u001b[1;32m     23\u001b[0m         \u001b[0;32mif\u001b[0m \u001b[0m_disables_array_ufunc\u001b[0m\u001b[0;34m(\u001b[0m\u001b[0mother\u001b[0m\u001b[0;34m)\u001b[0m\u001b[0;34m:\u001b[0m\u001b[0;34m\u001b[0m\u001b[0m\n\u001b[1;32m     24\u001b[0m             \u001b[0;32mreturn\u001b[0m \u001b[0mNotImplemented\u001b[0m\u001b[0;34m\u001b[0m\u001b[0m\n\u001b[0;32m---> 25\u001b[0;31m         \u001b[0;32mreturn\u001b[0m \u001b[0mufunc\u001b[0m\u001b[0;34m(\u001b[0m\u001b[0mself\u001b[0m\u001b[0;34m,\u001b[0m \u001b[0mother\u001b[0m\u001b[0;34m)\u001b[0m\u001b[0;34m\u001b[0m\u001b[0m\n\u001b[0m\u001b[1;32m     26\u001b[0m     \u001b[0mfunc\u001b[0m\u001b[0;34m.\u001b[0m\u001b[0m__name__\u001b[0m \u001b[0;34m=\u001b[0m \u001b[0;34m'__{}__'\u001b[0m\u001b[0;34m.\u001b[0m\u001b[0mformat\u001b[0m\u001b[0;34m(\u001b[0m\u001b[0mname\u001b[0m\u001b[0;34m)\u001b[0m\u001b[0;34m\u001b[0m\u001b[0m\n\u001b[1;32m     27\u001b[0m     \u001b[0;32mreturn\u001b[0m \u001b[0mfunc\u001b[0m\u001b[0;34m\u001b[0m\u001b[0m\n",
      "\u001b[0;32m/usr/lib/python3.7/site-packages/sparse/coo.py\u001b[0m in \u001b[0;36m__array_ufunc__\u001b[0;34m(self, ufunc, method, *inputs, **kwargs)\u001b[0m\n\u001b[1;32m   1183\u001b[0m \u001b[0;34m\u001b[0m\u001b[0m\n\u001b[1;32m   1184\u001b[0m         \u001b[0;32mif\u001b[0m \u001b[0mmethod\u001b[0m \u001b[0;34m==\u001b[0m \u001b[0;34m'__call__'\u001b[0m\u001b[0;34m:\u001b[0m\u001b[0;34m\u001b[0m\u001b[0m\n\u001b[0;32m-> 1185\u001b[0;31m             \u001b[0;32mreturn\u001b[0m \u001b[0melemwise\u001b[0m\u001b[0;34m(\u001b[0m\u001b[0mufunc\u001b[0m\u001b[0;34m,\u001b[0m \u001b[0;34m*\u001b[0m\u001b[0minputs\u001b[0m\u001b[0;34m,\u001b[0m \u001b[0;34m**\u001b[0m\u001b[0mkwargs\u001b[0m\u001b[0;34m)\u001b[0m\u001b[0;34m\u001b[0m\u001b[0m\n\u001b[0m\u001b[1;32m   1186\u001b[0m         \u001b[0;32melif\u001b[0m \u001b[0mmethod\u001b[0m \u001b[0;34m==\u001b[0m \u001b[0;34m'reduce'\u001b[0m\u001b[0;34m:\u001b[0m\u001b[0;34m\u001b[0m\u001b[0m\n\u001b[1;32m   1187\u001b[0m             \u001b[0;32mreturn\u001b[0m \u001b[0mCOO\u001b[0m\u001b[0;34m.\u001b[0m\u001b[0m_reduce\u001b[0m\u001b[0;34m(\u001b[0m\u001b[0mufunc\u001b[0m\u001b[0;34m,\u001b[0m \u001b[0;34m*\u001b[0m\u001b[0minputs\u001b[0m\u001b[0;34m,\u001b[0m \u001b[0;34m**\u001b[0m\u001b[0mkwargs\u001b[0m\u001b[0;34m)\u001b[0m\u001b[0;34m\u001b[0m\u001b[0m\n",
      "\u001b[0;32m/usr/lib/python3.7/site-packages/sparse/coo.py\u001b[0m in \u001b[0;36melemwise\u001b[0;34m(func, *args, **kwargs)\u001b[0m\n\u001b[1;32m   2098\u001b[0m         \u001b[0;32melif\u001b[0m \u001b[0;32mnot\u001b[0m \u001b[0misinstance\u001b[0m\u001b[0;34m(\u001b[0m\u001b[0marg\u001b[0m\u001b[0;34m,\u001b[0m \u001b[0mCOO\u001b[0m\u001b[0;34m)\u001b[0m\u001b[0;34m:\u001b[0m\u001b[0;34m\u001b[0m\u001b[0m\n\u001b[1;32m   2099\u001b[0m             raise ValueError(\"Performing this operation would produce \"\n\u001b[0;32m-> 2100\u001b[0;31m                              \"a dense result: %s\" % str(func))\n\u001b[0m\u001b[1;32m   2101\u001b[0m \u001b[0;34m\u001b[0m\u001b[0m\n\u001b[1;32m   2102\u001b[0m     \u001b[0;31m# Filter out scalars as they are 'baked' into the function.\u001b[0m\u001b[0;34m\u001b[0m\u001b[0;34m\u001b[0m\u001b[0m\n",
      "\u001b[0;31mValueError\u001b[0m: Performing this operation would produce a dense result: <ufunc 'multiply'>"
     ]
    }
   ],
   "source": [
    "y=y*np.ones_like(x)"
   ]
  },
  {
   "cell_type": "code",
   "execution_count": 44,
   "metadata": {},
   "outputs": [
    {
     "data": {
      "text/plain": [
       "<COO: shape=(3, 10, 10), dtype=float64, nnz=300, sorted=True, duplicates=False>"
      ]
     },
     "execution_count": 44,
     "metadata": {},
     "output_type": "execute_result"
    }
   ],
   "source": [
    "sparse.stack([y,y,y])"
   ]
  },
  {
   "cell_type": "code",
   "execution_count": 45,
   "metadata": {},
   "outputs": [
    {
     "name": "stderr",
     "output_type": "stream",
     "text": [
      "/usr/lib/python3.7/site-packages/sparse/slicing.py:168: FutureWarning: Conversion of the second argument of issubdtype from `float` to `np.floating` is deprecated. In future, it will be treated as `np.float64 == np.dtype(float).type`.\n",
      "  elif np.issubdtype(index_array.dtype, float):\n"
     ]
    },
    {
     "data": {
      "text/plain": [
       "<COO: shape=(10, 10), dtype=float64, nnz=10, sorted=True, duplicates=False>"
      ]
     },
     "execution_count": 45,
     "metadata": {},
     "output_type": "execute_result"
    }
   ],
   "source": [
    "y[x]"
   ]
  },
  {
   "cell_type": "code",
   "execution_count": 46,
   "metadata": {},
   "outputs": [
    {
     "ename": "ValueError",
     "evalue": "Performing this operation would produce a dense result: <ufunc 'add'>",
     "output_type": "error",
     "traceback": [
      "\u001b[0;31m---------------------------------------------------------------------------\u001b[0m",
      "\u001b[0;31mValueError\u001b[0m                                Traceback (most recent call last)",
      "\u001b[0;32m<ipython-input-46-dd9c32aebf0b>\u001b[0m in \u001b[0;36m<module>\u001b[0;34m()\u001b[0m\n\u001b[0;32m----> 1\u001b[0;31m \u001b[0mlog_factorial\u001b[0m\u001b[0;34m(\u001b[0m\u001b[0my\u001b[0m\u001b[0;34m)\u001b[0m\u001b[0;34m\u001b[0m\u001b[0m\n\u001b[0m",
      "\u001b[0;32m<ipython-input-3-6f0c7a3fbe07>\u001b[0m in \u001b[0;36mlog_factorial\u001b[0;34m(n)\u001b[0m\n\u001b[1;32m      1\u001b[0m \u001b[0;32mdef\u001b[0m \u001b[0mlog_factorial\u001b[0m\u001b[0;34m(\u001b[0m\u001b[0mn\u001b[0m\u001b[0;34m)\u001b[0m\u001b[0;34m:\u001b[0m\u001b[0;34m\u001b[0m\u001b[0m\n\u001b[0;32m----> 2\u001b[0;31m     \u001b[0;32mreturn\u001b[0m \u001b[0mloggamma\u001b[0m\u001b[0;34m(\u001b[0m\u001b[0mn\u001b[0m\u001b[0;34m+\u001b[0m\u001b[0;36m1\u001b[0m\u001b[0;34m)\u001b[0m\u001b[0;34m\u001b[0m\u001b[0m\n\u001b[0m\u001b[1;32m      3\u001b[0m \u001b[0;31m#     if n==0:\u001b[0m\u001b[0;34m\u001b[0m\u001b[0;34m\u001b[0m\u001b[0m\n\u001b[1;32m      4\u001b[0m \u001b[0;31m#         return 0\u001b[0m\u001b[0;34m\u001b[0m\u001b[0;34m\u001b[0m\u001b[0m\n\u001b[1;32m      5\u001b[0m \u001b[0;31m#     if n<0:\u001b[0m\u001b[0;34m\u001b[0m\u001b[0;34m\u001b[0m\u001b[0m\n",
      "\u001b[0;32m/usr/lib/python3.7/site-packages/numpy/lib/mixins.py\u001b[0m in \u001b[0;36mfunc\u001b[0;34m(self, other)\u001b[0m\n\u001b[1;32m     23\u001b[0m         \u001b[0;32mif\u001b[0m \u001b[0m_disables_array_ufunc\u001b[0m\u001b[0;34m(\u001b[0m\u001b[0mother\u001b[0m\u001b[0;34m)\u001b[0m\u001b[0;34m:\u001b[0m\u001b[0;34m\u001b[0m\u001b[0m\n\u001b[1;32m     24\u001b[0m             \u001b[0;32mreturn\u001b[0m \u001b[0mNotImplemented\u001b[0m\u001b[0;34m\u001b[0m\u001b[0m\n\u001b[0;32m---> 25\u001b[0;31m         \u001b[0;32mreturn\u001b[0m \u001b[0mufunc\u001b[0m\u001b[0;34m(\u001b[0m\u001b[0mself\u001b[0m\u001b[0;34m,\u001b[0m \u001b[0mother\u001b[0m\u001b[0;34m)\u001b[0m\u001b[0;34m\u001b[0m\u001b[0m\n\u001b[0m\u001b[1;32m     26\u001b[0m     \u001b[0mfunc\u001b[0m\u001b[0;34m.\u001b[0m\u001b[0m__name__\u001b[0m \u001b[0;34m=\u001b[0m \u001b[0;34m'__{}__'\u001b[0m\u001b[0;34m.\u001b[0m\u001b[0mformat\u001b[0m\u001b[0;34m(\u001b[0m\u001b[0mname\u001b[0m\u001b[0;34m)\u001b[0m\u001b[0;34m\u001b[0m\u001b[0m\n\u001b[1;32m     27\u001b[0m     \u001b[0;32mreturn\u001b[0m \u001b[0mfunc\u001b[0m\u001b[0;34m\u001b[0m\u001b[0m\n",
      "\u001b[0;32m/usr/lib/python3.7/site-packages/sparse/coo.py\u001b[0m in \u001b[0;36m__array_ufunc__\u001b[0;34m(self, ufunc, method, *inputs, **kwargs)\u001b[0m\n\u001b[1;32m   1183\u001b[0m \u001b[0;34m\u001b[0m\u001b[0m\n\u001b[1;32m   1184\u001b[0m         \u001b[0;32mif\u001b[0m \u001b[0mmethod\u001b[0m \u001b[0;34m==\u001b[0m \u001b[0;34m'__call__'\u001b[0m\u001b[0;34m:\u001b[0m\u001b[0;34m\u001b[0m\u001b[0m\n\u001b[0;32m-> 1185\u001b[0;31m             \u001b[0;32mreturn\u001b[0m \u001b[0melemwise\u001b[0m\u001b[0;34m(\u001b[0m\u001b[0mufunc\u001b[0m\u001b[0;34m,\u001b[0m \u001b[0;34m*\u001b[0m\u001b[0minputs\u001b[0m\u001b[0;34m,\u001b[0m \u001b[0;34m**\u001b[0m\u001b[0mkwargs\u001b[0m\u001b[0;34m)\u001b[0m\u001b[0;34m\u001b[0m\u001b[0m\n\u001b[0m\u001b[1;32m   1186\u001b[0m         \u001b[0;32melif\u001b[0m \u001b[0mmethod\u001b[0m \u001b[0;34m==\u001b[0m \u001b[0;34m'reduce'\u001b[0m\u001b[0;34m:\u001b[0m\u001b[0;34m\u001b[0m\u001b[0m\n\u001b[1;32m   1187\u001b[0m             \u001b[0;32mreturn\u001b[0m \u001b[0mCOO\u001b[0m\u001b[0;34m.\u001b[0m\u001b[0m_reduce\u001b[0m\u001b[0;34m(\u001b[0m\u001b[0mufunc\u001b[0m\u001b[0;34m,\u001b[0m \u001b[0;34m*\u001b[0m\u001b[0minputs\u001b[0m\u001b[0;34m,\u001b[0m \u001b[0;34m**\u001b[0m\u001b[0mkwargs\u001b[0m\u001b[0;34m)\u001b[0m\u001b[0;34m\u001b[0m\u001b[0m\n",
      "\u001b[0;32m/usr/lib/python3.7/site-packages/sparse/coo.py\u001b[0m in \u001b[0;36melemwise\u001b[0;34m(func, *args, **kwargs)\u001b[0m\n\u001b[1;32m   2108\u001b[0m \u001b[0;34m\u001b[0m\u001b[0m\n\u001b[1;32m   2109\u001b[0m     \u001b[0;32mif\u001b[0m \u001b[0mlen\u001b[0m\u001b[0;34m(\u001b[0m\u001b[0margs\u001b[0m\u001b[0;34m)\u001b[0m \u001b[0;34m==\u001b[0m \u001b[0;36m1\u001b[0m\u001b[0;34m:\u001b[0m\u001b[0;34m\u001b[0m\u001b[0m\n\u001b[0;32m-> 2110\u001b[0;31m         \u001b[0;32mreturn\u001b[0m \u001b[0m_elemwise_unary\u001b[0m\u001b[0;34m(\u001b[0m\u001b[0mfunc\u001b[0m\u001b[0;34m,\u001b[0m \u001b[0margs\u001b[0m\u001b[0;34m[\u001b[0m\u001b[0;36m0\u001b[0m\u001b[0;34m]\u001b[0m\u001b[0;34m,\u001b[0m \u001b[0;34m**\u001b[0m\u001b[0mkwargs\u001b[0m\u001b[0;34m)\u001b[0m\u001b[0;34m\u001b[0m\u001b[0m\n\u001b[0m\u001b[1;32m   2111\u001b[0m \u001b[0;34m\u001b[0m\u001b[0m\n\u001b[1;32m   2112\u001b[0m     \u001b[0;32mreturn\u001b[0m \u001b[0m_elemwise_n_ary\u001b[0m\u001b[0;34m(\u001b[0m\u001b[0mfunc\u001b[0m\u001b[0;34m,\u001b[0m \u001b[0;34m*\u001b[0m\u001b[0margs\u001b[0m\u001b[0;34m,\u001b[0m \u001b[0;34m**\u001b[0m\u001b[0mkwargs\u001b[0m\u001b[0;34m)\u001b[0m\u001b[0;34m\u001b[0m\u001b[0m\n",
      "\u001b[0;32m/usr/lib/python3.7/site-packages/sparse/coo.py\u001b[0m in \u001b[0;36m_elemwise_unary\u001b[0;34m(func, self, *args, **kwargs)\u001b[0m\n\u001b[1;32m   2535\u001b[0m     \u001b[0;32mif\u001b[0m \u001b[0mcheck\u001b[0m \u001b[0;32mand\u001b[0m \u001b[0mzero_func\u001b[0m \u001b[0;34m!=\u001b[0m \u001b[0mfunc_zero\u001b[0m\u001b[0;34m:\u001b[0m\u001b[0;34m\u001b[0m\u001b[0m\n\u001b[1;32m   2536\u001b[0m         raise ValueError(\"Performing this operation would produce \"\n\u001b[0;32m-> 2537\u001b[0;31m                          \"a dense result: %s\" % str(func))\n\u001b[0m\u001b[1;32m   2538\u001b[0m \u001b[0;34m\u001b[0m\u001b[0m\n\u001b[1;32m   2539\u001b[0m     \u001b[0mdata_func\u001b[0m \u001b[0;34m=\u001b[0m \u001b[0mfunc\u001b[0m\u001b[0;34m(\u001b[0m\u001b[0mself\u001b[0m\u001b[0;34m.\u001b[0m\u001b[0mdata\u001b[0m\u001b[0;34m,\u001b[0m \u001b[0;34m*\u001b[0m\u001b[0margs\u001b[0m\u001b[0;34m,\u001b[0m \u001b[0;34m**\u001b[0m\u001b[0mkwargs\u001b[0m\u001b[0;34m)\u001b[0m\u001b[0;34m\u001b[0m\u001b[0m\n",
      "\u001b[0;31mValueError\u001b[0m: Performing this operation would produce a dense result: <ufunc 'add'>"
     ]
    }
   ],
   "source": [
    "log_factorial(y)"
   ]
  },
  {
   "cell_type": "raw",
   "metadata": {},
   "source": [
    "y.todense()"
   ]
  },
  {
   "cell_type": "code",
   "execution_count": null,
   "metadata": {},
   "outputs": [],
   "source": []
  },
  {
   "cell_type": "code",
   "execution_count": 47,
   "metadata": {},
   "outputs": [
    {
     "name": "stdout",
     "output_type": "stream",
     "text": [
      "<COO: shape=(10, 10), dtype=float64, nnz=100, sorted=True, duplicates=False>\n"
     ]
    }
   ],
   "source": [
    "print(y)"
   ]
  },
  {
   "cell_type": "code",
   "execution_count": 48,
   "metadata": {},
   "outputs": [],
   "source": [
    "x1=np.zeros((10,1),dtype='bool')"
   ]
  },
  {
   "cell_type": "code",
   "execution_count": 49,
   "metadata": {},
   "outputs": [
    {
     "data": {
      "text/plain": [
       "(10, 10)"
      ]
     },
     "execution_count": 49,
     "metadata": {},
     "output_type": "execute_result"
    }
   ],
   "source": [
    "np.logical_or(x1,x1.T).shape"
   ]
  },
  {
   "cell_type": "code",
   "execution_count": 50,
   "metadata": {},
   "outputs": [
    {
     "data": {
      "text/plain": [
       "0.3567779055981813"
      ]
     },
     "execution_count": 50,
     "metadata": {},
     "output_type": "execute_result"
    }
   ],
   "source": [
    "log_factorial(10)/log_factorial(20)"
   ]
  },
  {
   "cell_type": "code",
   "execution_count": 51,
   "metadata": {},
   "outputs": [
    {
     "data": {
      "text/plain": [
       "0.3837506433085914"
      ]
     },
     "execution_count": 51,
     "metadata": {},
     "output_type": "execute_result"
    }
   ],
   "source": [
    "log_factorial(20)/log_factorial(40)"
   ]
  },
  {
   "cell_type": "code",
   "execution_count": 119,
   "metadata": {},
   "outputs": [],
   "source": [
    "from hankel_transform import *"
   ]
  },
  {
   "cell_type": "code",
   "execution_count": 120,
   "metadata": {},
   "outputs": [
    {
     "ename": "AttributeError",
     "evalue": "'NoneType' object has no attribute 'info'",
     "output_type": "error",
     "traceback": [
      "\u001b[0;31m---------------------------------------------------------------------------\u001b[0m",
      "\u001b[0;31mAttributeError\u001b[0m                            Traceback (most recent call last)",
      "\u001b[0;32m<ipython-input-120-c2105b6c4690>\u001b[0m in \u001b[0;36m<module>\u001b[0;34m()\u001b[0m\n\u001b[0;32m----> 1\u001b[0;31m \u001b[0mHT\u001b[0m\u001b[0;34m=\u001b[0m\u001b[0mhankel_transform\u001b[0m\u001b[0;34m(\u001b[0m\u001b[0;34m)\u001b[0m\u001b[0;34m\u001b[0m\u001b[0m\n\u001b[0m",
      "\u001b[0;32m~/repos/cosmic_shear/hankel_transform.py\u001b[0m in \u001b[0;36m__init__\u001b[0;34m(self, theta_min, theta_max, l_max, l_min, n_zeros, n_zeros_step, m1_m2, prune_theta, prune_log_space, logger)\u001b[0m\n\u001b[1;32m     31\u001b[0m                                                    \u001b[0ml_max\u001b[0m\u001b[0;34m=\u001b[0m\u001b[0ml_max\u001b[0m\u001b[0;34m,\u001b[0m\u001b[0ml_min\u001b[0m\u001b[0;34m=\u001b[0m\u001b[0ml_min\u001b[0m\u001b[0;34m,\u001b[0m\u001b[0mn_zeros_step\u001b[0m\u001b[0;34m=\u001b[0m\u001b[0mn_zeros_step\u001b[0m\u001b[0;34m,\u001b[0m\u001b[0;34m\u001b[0m\u001b[0m\n\u001b[1;32m     32\u001b[0m                                                    \u001b[0mprune_theta\u001b[0m\u001b[0;34m=\u001b[0m\u001b[0mprune_theta\u001b[0m\u001b[0;34m,\u001b[0m\u001b[0;34m\u001b[0m\u001b[0m\n\u001b[0;32m---> 33\u001b[0;31m                                                    prune_log_space=prune_log_space)\n\u001b[0m\u001b[1;32m     34\u001b[0m \u001b[0;34m\u001b[0m\u001b[0m\n\u001b[1;32m     35\u001b[0m     def get_k_r_j(self,j_nu=0,n_zeros=1000,theta_min=0.1,theta_max=100,l_max=10,l_min=1.e-4,\n",
      "\u001b[0;32m~/repos/cosmic_shear/hankel_transform.py\u001b[0m in \u001b[0;36mget_k_r_j\u001b[0;34m(self, j_nu, n_zeros, theta_min, theta_max, l_max, l_min, n_zeros_step, prune_theta, prune_log_space)\u001b[0m\n\u001b[1;32m     42\u001b[0m             \u001b[0;32mif\u001b[0m \u001b[0mmin\u001b[0m\u001b[0;34m(\u001b[0m\u001b[0mtheta\u001b[0m\u001b[0;34m)\u001b[0m\u001b[0;34m>\u001b[0m\u001b[0mtheta_min\u001b[0m\u001b[0;34m:\u001b[0m\u001b[0;34m\u001b[0m\u001b[0m\n\u001b[1;32m     43\u001b[0m                 \u001b[0ml_max\u001b[0m\u001b[0;34m=\u001b[0m\u001b[0mmin\u001b[0m\u001b[0;34m(\u001b[0m\u001b[0mzeros\u001b[0m\u001b[0;34m)\u001b[0m\u001b[0;34m/\u001b[0m\u001b[0mtheta_min\u001b[0m\u001b[0;34m\u001b[0m\u001b[0m\n\u001b[0;32m---> 44\u001b[0;31m                 \u001b[0mself\u001b[0m\u001b[0;34m.\u001b[0m\u001b[0mlogger\u001b[0m\u001b[0;34m.\u001b[0m\u001b[0minfo\u001b[0m \u001b[0;34m(\u001b[0m\u001b[0;34m'changed l_max to %s to cover theta_min. j_nu=%s'\u001b[0m\u001b[0;34m,\u001b[0m\u001b[0ml_max\u001b[0m\u001b[0;34m,\u001b[0m\u001b[0mj_nu\u001b[0m\u001b[0;34m)\u001b[0m\u001b[0;34m\u001b[0m\u001b[0m\n\u001b[0m\u001b[1;32m     45\u001b[0m                 \u001b[0;32mcontinue\u001b[0m\u001b[0;34m\u001b[0m\u001b[0m\n\u001b[1;32m     46\u001b[0m             \u001b[0;32melif\u001b[0m \u001b[0mmax\u001b[0m\u001b[0;34m(\u001b[0m\u001b[0mtheta\u001b[0m\u001b[0;34m)\u001b[0m\u001b[0;34m<\u001b[0m\u001b[0mtheta_max\u001b[0m\u001b[0;34m:\u001b[0m\u001b[0;34m\u001b[0m\u001b[0m\n",
      "\u001b[0;31mAttributeError\u001b[0m: 'NoneType' object has no attribute 'info'"
     ]
    }
   ],
   "source": [
    "HT=hankel_transform()"
   ]
  },
  {
   "cell_type": "code",
   "execution_count": 14,
   "metadata": {},
   "outputs": [],
   "source": [
    "import sparse,zarr"
   ]
  },
  {
   "cell_type": "code",
   "execution_count": 2,
   "metadata": {},
   "outputs": [],
   "source": [
    "lmax=100\n",
    "wlmax=10"
   ]
  },
  {
   "cell_type": "code",
   "execution_count": 10,
   "metadata": {},
   "outputs": [],
   "source": [
    "wig3j=sparse.zeros((lmax,lmax,wlmax))"
   ]
  },
  {
   "cell_type": "code",
   "execution_count": 13,
   "metadata": {},
   "outputs": [
    {
     "data": {
      "text/plain": [
       "<COO: shape=(100, 100, 10), dtype=float64, nnz=0, fill_value=0.0>"
      ]
     },
     "execution_count": 13,
     "metadata": {},
     "output_type": "execute_result"
    }
   ],
   "source": [
    "wig3j"
   ]
  },
  {
   "cell_type": "code",
   "execution_count": 15,
   "metadata": {},
   "outputs": [],
   "source": [
    "z = zarr.zeros((10000, 10000), chunks=(1000, 1000), dtype='float32')"
   ]
  },
  {
   "cell_type": "code",
   "execution_count": 20,
   "metadata": {},
   "outputs": [],
   "source": [
    "z[0,0]=10"
   ]
  },
  {
   "cell_type": "code",
   "execution_count": 23,
   "metadata": {},
   "outputs": [
    {
     "data": {
      "text/plain": [
       "0.0"
      ]
     },
     "execution_count": 23,
     "metadata": {},
     "output_type": "execute_result"
    }
   ],
   "source": [
    "z[1,1]"
   ]
  },
  {
   "cell_type": "code",
   "execution_count": 34,
   "metadata": {},
   "outputs": [],
   "source": [
    "x=np.empty((1000,1000))\n",
    "x[0,0]=1.53904504395"
   ]
  },
  {
   "cell_type": "code",
   "execution_count": 35,
   "metadata": {},
   "outputs": [
    {
     "data": {
      "text/plain": [
       "8000000"
      ]
     },
     "execution_count": 35,
     "metadata": {},
     "output_type": "execute_result"
    }
   ],
   "source": [
    "x.nbytes"
   ]
  },
  {
   "cell_type": "code",
   "execution_count": 37,
   "metadata": {},
   "outputs": [
    {
     "data": {
      "text/plain": [
       "array([[1.53904504e+000, 6.91088699e-310, 4.64121200e-310, ...,\n",
       "        0.00000000e+000, 0.00000000e+000, 0.00000000e+000],\n",
       "       [0.00000000e+000, 0.00000000e+000, 0.00000000e+000, ...,\n",
       "        0.00000000e+000, 0.00000000e+000, 0.00000000e+000],\n",
       "       [0.00000000e+000, 0.00000000e+000, 0.00000000e+000, ...,\n",
       "        0.00000000e+000, 0.00000000e+000, 0.00000000e+000],\n",
       "       ...,\n",
       "       [0.00000000e+000, 0.00000000e+000, 0.00000000e+000, ...,\n",
       "        0.00000000e+000, 0.00000000e+000, 0.00000000e+000],\n",
       "       [0.00000000e+000, 0.00000000e+000, 0.00000000e+000, ...,\n",
       "        0.00000000e+000, 0.00000000e+000, 0.00000000e+000],\n",
       "       [0.00000000e+000, 0.00000000e+000, 0.00000000e+000, ...,\n",
       "        0.00000000e+000, 0.00000000e+000, 0.00000000e+000]])"
      ]
     },
     "execution_count": 37,
     "metadata": {},
     "output_type": "execute_result"
    }
   ],
   "source": [
    "x"
   ]
  },
  {
   "cell_type": "code",
   "execution_count": 593,
   "metadata": {},
   "outputs": [],
   "source": [
    "from sympy.physics.wigner import wigner_3j"
   ]
  },
  {
   "cell_type": "code",
   "execution_count": 596,
   "metadata": {},
   "outputs": [
    {
     "name": "stdout",
     "output_type": "stream",
     "text": [
      "278079353713.8113\n"
     ]
    }
   ],
   "source": [
    "j=np.arange(1000,9000)\n",
    "aa=A_J(j,5000,4000,2,-2)"
   ]
  },
  {
   "cell_type": "code",
   "execution_count": 552,
   "metadata": {},
   "outputs": [
    {
     "data": {
      "text/plain": [
       "array([80018001, 80016000, 80013997, ...,    71992,    53997,    36000])"
      ]
     },
     "execution_count": 552,
     "metadata": {},
     "output_type": "execute_result"
    }
   ],
   "source": [
    "(4000+5000+1)**2-j**2"
   ]
  },
  {
   "cell_type": "code",
   "execution_count": 540,
   "metadata": {},
   "outputs": [
    {
     "data": {
      "text/plain": [
       "array([0.        , 0.40054014, 0.56714974, ..., 2.17116878,        nan,\n",
       "              nan])"
      ]
     },
     "execution_count": 540,
     "metadata": {},
     "output_type": "execute_result"
    }
   ],
   "source": [
    "aa/1.e9"
   ]
  },
  {
   "cell_type": "code",
   "execution_count": 541,
   "metadata": {},
   "outputs": [
    {
     "data": {
      "text/plain": [
       "[<matplotlib.lines.Line2D at 0x7fd8a14bb5f8>]"
      ]
     },
     "execution_count": 541,
     "metadata": {},
     "output_type": "execute_result"
    },
    {
     "data": {
      "image/png": "[encoded data removed]",
      "text/plain": [
       "<Figure size 1500x1125 with 1 Axes>"
      ]
     },
     "metadata": {},
     "output_type": "display_data"
    }
   ],
   "source": [
    "plot(j,aa)"
   ]
  },
  {
   "cell_type": "code",
   "execution_count": 597,
   "metadata": {},
   "outputs": [],
   "source": [
    "def A_J(j,j2,j3,m2,m3):\n",
    "    out=np.float64(j**2-(j2-j3)**2)**.5\n",
    "    out*=((j2+j3+1)**2-j**2)**.5\n",
    "    out*=(j**2-(m2+m3)**2)**.5\n",
    "#     print(j,out)\n",
    "#     x=out<0\n",
    "#     out[x]=0\n",
    "    return out\n",
    "\n",
    "def B_J(j,j2,j3,m2,m3):\n",
    "    out=np.float64((m2+m3)*(j2*(j2+1)-j3*(j3+1)))\n",
    "    out-=(m2-m3)*j*(j+1)\n",
    "    out*=2*j+1\n",
    "    return out\n",
    "\n",
    "def X_Np1(j,j2,j3,m2,m3): #X_n+1\n",
    "    return j*A_J(j+1,j2,j3,m2,m3)\n",
    "\n",
    "def X_N(j,j2,j3,m2,m3): #X_n+1\n",
    "    return B_J(j,j2,j3,m2,m3)\n",
    "\n",
    "def X_Nm1(j,j2,j3,m2,m3): #X_n+1\n",
    "    return (j+1)*A_J(j,j2,j3,m2,m3)"
   ]
  },
  {
   "cell_type": "code",
   "execution_count": 611,
   "metadata": {},
   "outputs": [],
   "source": [
    "def wig3j_recur(j1,j2,m1,m2,m3,j3_outmax=None):\n",
    "    assert m3==-m1-m2\n",
    "    \n",
    "    j3_min=np.absolute(j1-j2)\n",
    "    j3_max=j1+j2+1 #j3_max is j1+j2, +1 for 0 indexing\n",
    "    j3=np.arange(j3_max)\n",
    "    if j3_outmax is None:\n",
    "        j3_outmax=j3_max\n",
    "    else:\n",
    "        j3_max=j3_outmax\n",
    "    j3=j3[j3<=j3_outmax]#this can dangerious if we need to normalize. See below.\n",
    "    \n",
    "    wig_out=np.zeros_like(j3,dtype='float32')\n",
    "#     wig_out2=np.zeros(j3_max)\n",
    "    \n",
    "    \n",
    "    wig_out[j3_min]=1#wigner_3j(j1,j2,j3_min,m1,m2,m3)\n",
    "    if j3_min==0:\n",
    "        wig_out[j3_min]=wigner_3j(j1,j2,j3_min,m1,m2,m3)\n",
    "        wig_out[j3_min+1]=wigner_3j(j1,j2,j3_min+1,m1,m2,m3) #not strictly needed when j3_min>0\n",
    "    \n",
    "#     wig_out2[j3_min]=wig_out[j3_min]\n",
    "#     wig_out2[j3_min+1]=wig_out[j3_min+1]\n",
    "    \n",
    "    x_Np1=X_Np1(j3,j2,j1,m1,m2)*-1 #j==j3\n",
    "    x_N=X_N(j3,j2,j1,m1,m2) #j==j3\n",
    "    x_Nm1=X_Nm1(j3,j2,j1,m1,m2) #j==j3\n",
    "\n",
    "    for i in np.arange(j3_min,j3_max):       \n",
    "        if x_Np1[i]==0:\n",
    "            if j3[i]==j3_min:\n",
    "                print(i,wig_out[j3_min+1],wig_out[j3_min],x_N[i],x_Np1[i])\n",
    "            continue\n",
    "        wig_out[j3[i+1]]=x_Nm1[i]*wig_out[j3[i-1]]+x_N[i]*wig_out[j3[i]]\n",
    "        wig_out[j3[i+1]]/=x_Np1[i]    \n",
    "        if j3[i+1]==j3_min+1:\n",
    "            print(i,j3_min,x_Np1[i],wig_out[j3[i+1]])\n",
    "    \n",
    "    N=np.sum((2*j3+1)*(wig_out**2))\n",
    "    wig_out/=N**.5\n",
    "    print('j3m',j3_min+1,wigner_3j(j1,j2,j3_min+1,m1,m2,m3).evalf()/wig_out[j3_min+1],N)\n",
    "    \n",
    "    \n",
    "#     xxi=np.random.randint(j3_min+1,j3_max-1)\n",
    "# #     print(xxi,j3_min+1,j3_max-1)    \n",
    "#     wig_out2=wigner_3j(j1,j2,j3[xxi],m1,m2,m3).evalf()\n",
    "#     print('test',xxi,wig_out[xxi],wig_out2,wig_out[xxi]/wig_out2)\n",
    "\n",
    "#     print(np.all(np.isclose(wig_out,wig_out2)))\n",
    "    return wig_out[:j3_outmax+1]"
   ]
  },
  {
   "cell_type": "raw",
   "metadata": {},
   "source": [
    "ww*ww*(2*np.arange(1001)+1)"
   ]
  },
  {
   "cell_type": "raw",
   "metadata": {},
   "source": [
    "np.sum(ww*ww*(2*np.arange(1001)+1))"
   ]
  },
  {
   "cell_type": "code",
   "execution_count": 612,
   "metadata": {},
   "outputs": [
    {
     "name": "stdout",
     "output_type": "stream",
     "text": [
      "0 -0.008000256 -0.12598816 0.0 -0.0\n",
      "j3m 1 0.999999823415489 0.9999996502734518\n",
      "CPU times: user 0 ns, sys: 5.08 ms, total: 5.08 ms\n",
      "Wall time: 4.43 ms\n"
     ]
    }
   ],
   "source": [
    "j1=31\n",
    "j2=31\n",
    "m1=2\n",
    "m2=-2\n",
    "m3=0\n",
    "%time ww=wig3j_recur(j1,j2,m1,m2,m3,j3_outmax=None)"
   ]
  },
  {
   "cell_type": "code",
   "execution_count": 607,
   "metadata": {},
   "outputs": [
    {
     "data": {
      "text/plain": [
       "[<matplotlib.lines.Line2D at 0x7fd8a1358780>]"
      ]
     },
     "execution_count": 607,
     "metadata": {},
     "output_type": "execute_result"
    },
    {
     "data": {
      "image/png": "[encoded data removed]",
      "text/plain": [
       "<Figure size 1500x1125 with 1 Axes>"
      ]
     },
     "metadata": {},
     "output_type": "display_data"
    }
   ],
   "source": [
    "plot(np.arange(len(ww)),ww)\n",
    "# xscale('log')\n",
    "# xlim(1000,2000)"
   ]
  },
  {
   "cell_type": "code",
   "execution_count": 522,
   "metadata": {},
   "outputs": [
    {
     "data": {
      "text/plain": [
       "-0.0"
      ]
     },
     "execution_count": 522,
     "metadata": {},
     "output_type": "execute_result"
    }
   ],
   "source": [
    "ww[2001]"
   ]
  },
  {
   "cell_type": "code",
   "execution_count": 513,
   "metadata": {},
   "outputs": [
    {
     "data": {
      "text/plain": [
       "47.06903053589171"
      ]
     },
     "execution_count": 513,
     "metadata": {},
     "output_type": "execute_result"
    }
   ],
   "source": [
    "jj=2*np.arange(len(ww))+1\n",
    "np.sum((jj*ww)**2)"
   ]
  },
  {
   "cell_type": "code",
   "execution_count": 508,
   "metadata": {},
   "outputs": [
    {
     "data": {
      "text/plain": [
       "0.0001857039"
      ]
     },
     "execution_count": 508,
     "metadata": {},
     "output_type": "execute_result"
    }
   ],
   "source": [
    "0.0001857039"
   ]
  },
  {
   "cell_type": "code",
   "execution_count": 1,
   "metadata": {},
   "outputs": [],
   "source": [
    "from wigner_functions import *"
   ]
  },
  {
   "cell_type": "code",
   "execution_count": 2,
   "metadata": {},
   "outputs": [],
   "source": [
    "??wigner_3j_000"
   ]
  },
  {
   "cell_type": "code",
   "execution_count": 613,
   "metadata": {},
   "outputs": [
    {
     "name": "stdout",
     "output_type": "stream",
     "text": [
      "CPU times: user 47 µs, sys: 0 ns, total: 47 µs\n",
      "Wall time: 49.8 µs\n"
     ]
    }
   ],
   "source": [
    "l1=500\n",
    "l2=500\n",
    "l3=500\n",
    "m1=0\n",
    "m2=0\n",
    "m3=0\n",
    "%time dd=wigner_3j_000(l1,l2,l3,m1,m2,m3)"
   ]
  },
  {
   "cell_type": "code",
   "execution_count": 4,
   "metadata": {},
   "outputs": [],
   "source": [
    "def C_m(j1,j2,j3,m1,m):\n",
    "    out=(j2-m+1)*(j2+m)*(j3-m-m1+1)*(j3+m+m1)\n",
    "    return out**0.5\n",
    "\n",
    "def D_m(j1,j2,j3,m1,m):\n",
    "    out=j2*(j2+1)+j3*(j3+1)-j1*(j1+1)-2*m*(m+m1)\n",
    "    return out\n",
    "\n",
    "def mj(j1,j2,j3): #X_n+1\n",
    "    return (-1.)**(j1+j2+j3)\n"
   ]
  },
  {
   "cell_type": "code",
   "execution_count": 5,
   "metadata": {},
   "outputs": [
    {
     "data": {
      "text/plain": [
       "2500500"
      ]
     },
     "execution_count": 5,
     "metadata": {},
     "output_type": "execute_result"
    }
   ],
   "source": [
    "500*5001"
   ]
  },
  {
   "cell_type": "raw",
   "metadata": {},
   "source": [
    "def wig3j_recur_m(j1,j2,j3,m1,m2,m3):  #m1==m, m2==-m, m3==0\n",
    "    assert m3==-m1-m2\n",
    "        \n",
    "    wig0=wigner_3j_000(j1,j2,j3,0,0,0)\n",
    "    \n",
    "    m2_t=0\n",
    "    wig_mt={0:wig0}\n",
    "    while m2_t<m1:\n",
    "        x_Np1=C_m(j1,j2,j3,m3,m2_t+1) #j==j3\n",
    "        x_N=D_m(j1,j2,j3,m3,m2_t) #j==j3\n",
    "        x_Nm1=C_m(j1,j2,j3,m3,m2_t) #j==j3\n",
    "        print(m2_t,x_N,x_Np1,x_Nm1)\n",
    "        if m2_t==0:\n",
    "            mj_t=mj(j1,j2,j3)\n",
    "            wig_m1=x_N*wig_mt[0]/(x_Np1+mj_t*x_Nm1)\n",
    "        else:\n",
    "            wig_m1=x_N*wig_mt[m2_t]+x_Nm1*wig_mt[m2_t-1]\n",
    "            wig_m1/=x_Np1\n",
    "        wig_m1*=-1\n",
    "        wig_mt[m2_t+1]=wig_m1\n",
    "        print\n",
    "        m2_t+=1\n",
    "#     del wig_mt[1]\n",
    "    return wig_mt"
   ]
  },
  {
   "cell_type": "code",
   "execution_count": 209,
   "metadata": {},
   "outputs": [],
   "source": [
    "def wig3j_recur_m(j1,j2,j3,m1,m2,m3):  #m1==0, m2==m, m3==-m1-m2\n",
    "    assert m3==-m1-m2\n",
    "        \n",
    "    wig0=wigner_3j_000(j1,j2,j3,0,0,0)\n",
    "    \n",
    "    m2_t=0\n",
    "    wig_mt={0:wig0}\n",
    "    while m2_t<m2:\n",
    "        X=C_m(j1,j2,j3,m1,m2_t+1) #j==j3\n",
    "        Y=D_m(j1,j2,j3,m1,m2_t) #j==j3\n",
    "        Z=C_m(j1,j2,j3,m1,m2_t) #j==j3\n",
    "        if m2_t==0:\n",
    "            mj_t=1#mj(j1,j2,j3)\n",
    "#             if mj_t==-1:\n",
    "#                 wig_m1=0\n",
    "#             else:\n",
    "            wig_m1=Y*wig_mt[0]/(X+mj_t*Z)\n",
    "        else:\n",
    "            wig_m1=Y*wig_mt[m2_t]+Z*wig_mt[m2_t-1]\n",
    "            wig_m1/=X\n",
    "        wig_m1*=-1\n",
    "        wig_mt[m2_t+1]=wig_m1\n",
    "        print\n",
    "        m2_t+=1\n",
    "    return wig_mt"
   ]
  },
  {
   "cell_type": "code",
   "execution_count": 322,
   "metadata": {},
   "outputs": [],
   "source": [
    "def wig3j_recur_m_all(j1,j2,j3,m1,m2,m3):  #m1==0, m2==m, m3==-m1-m2\n",
    "    assert m3==-m1-m2\n",
    "        \n",
    "    m_min=np.amax([-j2,-j3-m1])\n",
    "    m_max=np.amin([j2,j3-m1])\n",
    "    ms=np.arange(m_min,m_max+1)\n",
    "    wig_mt=np.zeros_like(ms,dtype='float64')\n",
    "\n",
    "    i=0\n",
    "    Z=C_m(j1,j2,j3,m1,ms+1) #j==j3\n",
    "    Y=D_m(j1,j2,j3,m1,ms) #j==j3\n",
    "    X=C_m(j1,j2,j3,m1,ms) #j==j3\n",
    "    \n",
    "    R=np.zeros_like(ms,dtype='float64')\n",
    "    S=np.zeros_like(ms,dtype='float64')\n",
    "    S[0]=-X[0]/Y[0]\n",
    "    R[-1]=-Z[-1]/Y[-1]\n",
    "    nm=len(ms)\n",
    "    mid_i=int(nm/2)\n",
    "    for i in np.arange(len(ms)-1)+1:\n",
    "        S[i]=-X[i]/(Y[i]+Z[i]*S[i-1])\n",
    "        R[-1-i]=-Z[-1-i]/(Y[-1-i]+X[-1-i]*R[-i])\n",
    "    print(mid_i,ms[mid_i],np.where(np.absolute(R)>10))\n",
    "    wig_mt[mid_i]=1\n",
    "    for i in np.arange(mid_i):\n",
    "        wig_mt[mid_i+i+1]=wig_mt[mid_i+i]*R[mid_i+i+1]\n",
    "        wig_mt[mid_i-i-1]=wig_mt[mid_i-i]*S[mid_i-i-1]\n",
    "        \n",
    "#     mid_i=int(nm/2)\n",
    "#     print(S[mid_i],R[mid_i],ms[mid_i:],ms[:nm-mid_i])\n",
    "#     R_sgn=np.sign(R) \n",
    "#     S_sgn=np.sign(S) \n",
    "#     R_prod=np.cumsum(R_sgn)*np.exp(np.cumsum(np.log(np.absolute(R))))\n",
    "#     S_prod=np.cumsum(S_sgn)*np.exp(np.cumsum(np.log(np.absolute(S))))\n",
    "    \n",
    "#     wig_mt[mid_i:]=R_prod[mid_i:]\n",
    "#     wig_mt[:nm-mid_i]=S_prod[mid_i:]\n",
    "\n",
    "    N=(2*j1+1.)*np.sum(wig_mt**2)\n",
    "    wig_mt/=N**.5\n",
    "\n",
    "    if np.sign(wig_mt[-1])!=np.sign((-1)**(j2-j3-m1)):\n",
    "        wig_mt*=1\n",
    "    x=ms==0\n",
    "    x+=ms==1\n",
    "    x+=ms==2\n",
    "    return wig_mt,wig_mt[x]"
   ]
  },
  {
   "cell_type": "code",
   "execution_count": 323,
   "metadata": {},
   "outputs": [
    {
     "data": {
      "text/plain": [
       "array([1, 2, 4])"
      ]
     },
     "execution_count": 323,
     "metadata": {},
     "output_type": "execute_result"
    }
   ],
   "source": [
    "np.cumsum([1,1,2])"
   ]
  },
  {
   "cell_type": "code",
   "execution_count": 324,
   "metadata": {},
   "outputs": [
    {
     "name": "stdout",
     "output_type": "stream",
     "text": [
      "500 0 (array([ 86, 106, 111, 118, 127, 169, 198, 205, 212, 229, 234, 239, 244,\n",
      "       249, 275, 283, 291, 310, 335, 352, 375, 410, 413, 416, 419, 586,\n",
      "       589, 592, 627, 650, 667, 681, 692, 711, 719, 727, 753, 758, 763,\n",
      "       768, 773, 790, 797, 804, 811, 820, 833, 875, 884, 891, 896, 916]),)\n",
      "CPU times: user 11.7 ms, sys: 0 ns, total: 11.7 ms\n",
      "Wall time: 10.9 ms\n"
     ]
    }
   ],
   "source": [
    "%time oo2a,oo2=wig3j_recur_m_all(l1,l2,l3,0,2,-2)"
   ]
  },
  {
   "cell_type": "code",
   "execution_count": 614,
   "metadata": {},
   "outputs": [
    {
     "name": "stdout",
     "output_type": "stream",
     "text": [
      "CPU times: user 61 µs, sys: 0 ns, total: 61 µs\n",
      "Wall time: 64.6 µs\n"
     ]
    }
   ],
   "source": [
    "l1=500\n",
    "l2=500\n",
    "l3=500\n",
    "# l1=np.atleast_1d([500,400]).reshape(2,1,1)\n",
    "# l2=np.atleast_1d([500,400]).reshape(1,2,1)\n",
    "# l3=np.atleast_1d([500,400]).reshape(1,1,2)\n",
    "\n",
    "%time oo=wig3j_recur_m(l1,l2,l3,0,2,-2)"
   ]
  },
  {
   "cell_type": "code",
   "execution_count": 615,
   "metadata": {},
   "outputs": [
    {
     "data": {
      "text/plain": [
       "array([1, 1, 1])"
      ]
     },
     "execution_count": 615,
     "metadata": {},
     "output_type": "execute_result"
    }
   ],
   "source": [
    "np.sign([1,2,3])"
   ]
  },
  {
   "cell_type": "code",
   "execution_count": 616,
   "metadata": {},
   "outputs": [
    {
     "data": {
      "text/plain": [
       "array([ 0.00178415, -0.00089692, -0.00088722])"
      ]
     },
     "execution_count": 616,
     "metadata": {},
     "output_type": "execute_result"
    }
   ],
   "source": [
    "oo2"
   ]
  },
  {
   "cell_type": "code",
   "execution_count": 617,
   "metadata": {},
   "outputs": [
    {
     "data": {
      "text/plain": [
       "{0: 0.0012113105435186422,\n",
       " 1: -0.0006056552717593211,\n",
       " 2: -0.0006056649429786004}"
      ]
     },
     "execution_count": 617,
     "metadata": {},
     "output_type": "execute_result"
    }
   ],
   "source": [
    "oo"
   ]
  },
  {
   "cell_type": "code",
   "execution_count": 295,
   "metadata": {},
   "outputs": [
    {
     "data": {
      "text/plain": [
       "(0.00121131054351984,\n",
       " -0.000605655271759919,\n",
       " -0.000605664942979199,\n",
       " -0.000605664942979199)"
      ]
     },
     "execution_count": 295,
     "metadata": {},
     "output_type": "execute_result"
    }
   ],
   "source": [
    "wigner_3j(l1,l2,l3,0,0,0).evalf(),wigner_3j(l1,l2,l3,0,1,-1).evalf(),wigner_3j(l1,l2,l3,2,-2,0).evalf(),wigner_3j(l1,l2,l3,-2,2,0).evalf()"
   ]
  },
  {
   "cell_type": "code",
   "execution_count": 296,
   "metadata": {},
   "outputs": [
    {
     "data": {
      "text/plain": [
       "(1.00000000000099, 1.00000000000099, 1.00000000000099)"
      ]
     },
     "execution_count": 296,
     "metadata": {},
     "output_type": "execute_result"
    }
   ],
   "source": [
    "wigner_3j(l1,l2,l3,0,0,0).evalf()/oo[0],wigner_3j(l1,l2,l3,0,1,-1).evalf()/oo[1],wigner_3j(l1,l2,l3,2,-2,0).evalf()/oo[2]"
   ]
  },
  {
   "cell_type": "code",
   "execution_count": 297,
   "metadata": {},
   "outputs": [
    {
     "data": {
      "text/plain": [
       "(0.711014179734234, 2.75783382942201, 0.367400579555754)"
      ]
     },
     "execution_count": 297,
     "metadata": {},
     "output_type": "execute_result"
    }
   ],
   "source": [
    "wigner_3j(l1,l2,l3,0,0,0).evalf()/oo2[0],wigner_3j(l1,l2,l3,0,1,-1).evalf()/oo2[1],wigner_3j(l1,l2,l3,2,-2,0).evalf()/oo2[2]"
   ]
  },
  {
   "cell_type": "code",
   "execution_count": 232,
   "metadata": {},
   "outputs": [
    {
     "name": "stdout",
     "output_type": "stream",
     "text": [
      "CPU times: user 112 ms, sys: 0 ns, total: 112 ms\n",
      "Wall time: 111 ms\n",
      "CPU times: user 110 ms, sys: 2.2 ms, total: 112 ms\n",
      "Wall time: 112 ms\n",
      "CPU times: user 114 ms, sys: 0 ns, total: 114 ms\n",
      "Wall time: 114 ms\n"
     ]
    },
    {
     "data": {
      "text/plain": [
       "-0.00122533824224421"
      ]
     },
     "execution_count": 232,
     "metadata": {},
     "output_type": "execute_result"
    }
   ],
   "source": [
    "%time wigner_3j(l1,l2,l3,0,0,0).evalf()\n",
    "%time wigner_3j(l1,l2,l3,0,1,-1).evalf()\n",
    "%time wigner_3j(l1,l2,l3,0,2,-2).evalf()"
   ]
  },
  {
   "cell_type": "code",
   "execution_count": 621,
   "metadata": {},
   "outputs": [
    {
     "name": "stdout",
     "output_type": "stream",
     "text": [
      "CPU times: user 98 µs, sys: 1e+03 ns, total: 99 µs\n",
      "Wall time: 105 µs\n",
      "CPU times: user 1min 13s, sys: 50.1 ms, total: 1min 13s\n",
      "Wall time: 1min 13s\n"
     ]
    },
    {
     "data": {
      "text/plain": [
       "1.00000000000409"
      ]
     },
     "execution_count": 621,
     "metadata": {},
     "output_type": "execute_result"
    }
   ],
   "source": [
    "l1=5000\n",
    "l2=4000\n",
    "l3=3000\n",
    "m1=0\n",
    "m2=0\n",
    "m3=0\n",
    "%time dd=wigner_3j_000(l1,l2,l3,m1,m2,m3)\n",
    "%time dd2=wigner_3j(l1,l2,l3,0,0,0).evalf()\n",
    "dd/dd2"
   ]
  },
  {
   "cell_type": "code",
   "execution_count": 622,
   "metadata": {},
   "outputs": [
    {
     "data": {
      "text/plain": [
       "1.00000000000409"
      ]
     },
     "execution_count": 622,
     "metadata": {},
     "output_type": "execute_result"
    }
   ],
   "source": [
    "dd/dd2\n"
   ]
  },
  {
   "cell_type": "code",
   "execution_count": null,
   "metadata": {},
   "outputs": [],
   "source": []
  }
 ],
 "metadata": {
  "kernelspec": {
   "display_name": "Python 3",
   "language": "python",
   "name": "python3"
  },
  "language_info": {
   "codemirror_mode": {
    "name": "ipython",
    "version": 3
   },
   "file_extension": ".py",
   "mimetype": "text/x-python",
   "name": "python",
   "nbconvert_exporter": "python",
   "pygments_lexer": "ipython3",
   "version": "3.7.2"
  }
 },
 "nbformat": 4,
 "nbformat_minor": 2
}
