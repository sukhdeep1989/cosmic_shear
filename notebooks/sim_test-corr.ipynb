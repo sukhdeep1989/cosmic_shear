{
 "cells": [
  {
   "cell_type": "code",
   "execution_count": 1,
   "metadata": {},
   "outputs": [],
   "source": [
    "import sys\n",
    "sys.path.insert(0,'../skylens')\n",
    "\n",
    "import tracemalloc\n",
    "import pickle\n",
    "from skylens import *\n",
    "from survey_utils import *\n",
    "from scipy.stats import norm,mode,skew,kurtosis,percentileofscore\n",
    "import seaborn as sns\n",
    "import importlib\n",
    "reload=importlib.reload\n",
    "import treecorr\n",
    "d2r=np.pi/180\n",
    "colors=sns.color_palette()\n",
    "markers=['o','s','^','>','v']"
   ]
  },
  {
   "cell_type": "code",
   "execution_count": 42,
   "metadata": {},
   "outputs": [
    {
     "data": {
      "text/plain": [
       "[(1, 1), (1, 2)]"
      ]
     },
     "execution_count": 42,
     "metadata": {},
     "output_type": "execute_result"
    }
   ],
   "source": [
    "[[(i,j) for j in np.arange(i,3)] for i in np.arange(3)][1]"
   ]
  },
  {
   "cell_type": "code",
   "execution_count": 47,
   "metadata": {},
   "outputs": [
    {
     "data": {
      "text/plain": [
       "array([[0, 0],\n",
       "       [0, 1],\n",
       "       [0, 2],\n",
       "       [1, 1],\n",
       "       [1, 2],\n",
       "       [2, 2]])"
      ]
     },
     "execution_count": 47,
     "metadata": {},
     "output_type": "execute_result"
    }
   ],
   "source": [
    "x=np.array([ k for l in [[(i,j) for j in np.arange(i,\n",
    "                                     3)] for i in np.arange(3)] for k in l])\n",
    "x"
   ]
  },
  {
   "cell_type": "code",
   "execution_count": 2,
   "metadata": {},
   "outputs": [],
   "source": [
    "logging.getLogger('matplotlib.font_manager').disabled = True"
   ]
  },
  {
   "cell_type": "code",
   "execution_count": 3,
   "metadata": {},
   "outputs": [],
   "source": [
    "logging.getLogger('matplotlib').setLevel(logging.ERROR)"
   ]
  },
  {
   "cell_type": "raw",
   "metadata": {},
   "source": [
    "import lsst_utils\n",
    "import cov_3X2\n",
    "import tracer_utils\n",
    "import window_utils\n",
    "import cov_utils\n",
    "reload(lsst_utils)\n",
    "reload(window_utils)\n",
    "reload(cov_utils)\n",
    "reload(tracer_utils)\n",
    "reload(cov_3X2)\n",
    "from lsst_utils import *\n",
    "from cov_utils import *\n",
    "from cov_3X2 import *"
   ]
  },
  {
   "cell_type": "code",
   "execution_count": 4,
   "metadata": {},
   "outputs": [],
   "source": [
    "def corr_matrix(cov_mat=[]): #correlation matrix\n",
    "    diag=np.diag(cov_mat)\n",
    "    return cov_mat/np.sqrt(np.outer(diag,diag))"
   ]
  },
  {
   "cell_type": "code",
   "execution_count": 5,
   "metadata": {},
   "outputs": [],
   "source": [
    "corr_ggl=('galaxy','shear')\n",
    "corr_gg=('galaxy','galaxy')\n",
    "corr_ll=('shear','shear')"
   ]
  },
  {
   "cell_type": "code",
   "execution_count": 6,
   "metadata": {},
   "outputs": [],
   "source": [
    "from matplotlib import rc\n",
    "# rc('font',**{'family':'sans-serif','sans-serif':['Helvetica']})\n",
    "## for Palatino and other serif fonts use:\n",
    "rc('font',**{'family':'serif','serif':['Palatino']})\n",
    "rc('text', usetex=True)"
   ]
  },
  {
   "cell_type": "code",
   "execution_count": 7,
   "metadata": {},
   "outputs": [],
   "source": [
    "fig_home='./figures/'"
   ]
  },
  {
   "cell_type": "code",
   "execution_count": 8,
   "metadata": {},
   "outputs": [
    {
     "name": "stderr",
     "output_type": "stream",
     "text": [
      "/verafs/scratch/phy200040p/sukhdeep/miniconda3/lib/python3.8/site-packages/distributed/node.py:151: UserWarning: Port 8787 is already in use.\n",
      "Perhaps you already have a cluster running?\n",
      "Hosting the HTTP server on port 43495 instead\n",
      "  warnings.warn(\n",
      "/verafs/scratch/phy200040p/sukhdeep/miniconda3/lib/python3.8/site-packages/distributed/worker.py:482: UserWarning: The local_dir keyword has moved to local_directory\n",
      "  warnings.warn(\"The local_dir keyword has moved to local_directory\")\n"
     ]
    }
   ],
   "source": [
    "from distributed import LocalCluster\n",
    "from dask.distributed import Client  # we already had this above\n",
    "#http://distributed.readthedocs.io/en/latest/_modules/distributed/worker.html\n",
    "worker_kwargs={'memory_spill_fraction':.75,'memory_target_fraction':.99,'memory_pause_fraction':1}\n",
    "LC=LocalCluster(n_workers=1,processes=False,memory_limit='60gb',threads_per_worker=2,\n",
    "                local_dir='/verafs/scratch/phy200040p/sukhdeep/physics2/skylens/NGL-worker/',\n",
    "               **worker_kwargs,\n",
    "                #scheduler_port=12234,\n",
    "#                 dashboard_address=8801\n",
    "#                 diagnostics_port=8801,\n",
    "#                memory_monitor_interval='2000ms')\n",
    "               )\n",
    "client=Client(LC,)#diagnostics_port=8801,)\n",
    "\n",
    "#LC.close()\n",
    "#client.close()"
   ]
  },
  {
   "cell_type": "raw",
   "metadata": {
    "scrolled": true
   },
   "source": [
    "client"
   ]
  },
  {
   "cell_type": "code",
   "execution_count": 9,
   "metadata": {},
   "outputs": [],
   "source": [
    "outp={}\n",
    "xi_sim_W={}\n",
    "zs_bin={}\n",
    "zl_bin={}\n",
    "cl0={}\n",
    "cl0_win={}\n",
    "xi0={}\n",
    "xi0_win={}\n",
    "# l_bins={}\n",
    "use_shot_noise={}"
   ]
  },
  {
   "cell_type": "code",
   "execution_count": 10,
   "metadata": {
    "scrolled": false
   },
   "outputs": [],
   "source": [
    "# fnames={0:'../tests/sims_xi_newN100_ns512_lmax1535_wlmax1535_fsky1_noSN.pkl'}\n",
    "# fnames={1:'../tests/sims_xi_newN100_ns512_lmax1535_wlmax1535_fsky1_noSN_unit_window.pkl'}\n",
    "# fnames={0:'../tests/sims_xi_newN100_ns512_lmax1535_wlmax1535_fsky0.3_noSN.pkl'}\n",
    "# fnames[1]='../tests/sims_xi_newN100_ns512_lmax1535_wlmax1535_fsky0.3_noSN_unit_window.pkl'\n",
    "\n",
    "home='/verafs/scratch/phy200040p/sukhdeep/physics2/skylens/'\n",
    "fnames={0:home+'/tests/sims_xi_newN10_ns1024_lmax3071_wlmax3071_fsky0.3_noSN.pkl'}\n",
    "fnames[1]=home+'/tests/sims_xi_newN100_ns1024_lmax3071_wlmax3071_fsky0.3_noSN_unit_window.pkl'\n",
    "\n",
    "\n",
    "\n",
    "# if lognormal:\n",
    "#     fname+='_lognormal'+str(lognormal_scale)\n",
    "# if not use_shot_noise:\n",
    "#     fname+='_noSN'\n",
    "# if unit_window:\n",
    "#     fname+='_unit_window'\n",
    "# if smooth_window:\n",
    "#     fname+='_smooth_window'\n",
    "# fname+='.pkl'\n",
    "\n",
    "for i in fnames.keys():\n",
    "    with open(fnames[i],'rb') as f:\n",
    "        outp[i]=pickle.load(f)\n",
    "\n",
    "    xi_sim_W[i]=outp[i]['simW']\n",
    "    zs_bin[i]=outp[i]['zs_bin1']\n",
    "    zl_bin[i]=outp[i]['zl_bin1']\n",
    "    cl0[i]=outp[i]['cl0']\n",
    "    cl0_win[i]=outp[i]['cl0_win']\n",
    "    xi0[i]=xi_sim_W[i]['xi0']\n",
    "    xi0_win[i]=xi_sim_W[i]['xiW0']\n",
    "#     l_bins[i]=xi_sim_W[i]['l_bins']\n",
    "    use_shot_noise[i]=xi_sim_W[i]['use_shot_noise']"
   ]
  },
  {
   "cell_type": "code",
   "execution_count": 11,
   "metadata": {},
   "outputs": [],
   "source": [
    "nsim=100\n",
    "corrs=[corr_ll,corr_ggl,corr_gg]"
   ]
  },
  {
   "cell_type": "code",
   "execution_count": 12,
   "metadata": {},
   "outputs": [],
   "source": [
    "th_min=10./60\n",
    "th_max=600./60\n",
    "n_th_bins=20\n",
    "th_bins=np.logspace(np.log10(th_min),np.log10(th_max),n_th_bins+1)\n",
    "th=np.logspace(np.log10(th_min*0.98),np.log10(1),n_th_bins*30)\n",
    "th2=np.linspace(1,th_max*1.02,n_th_bins*30)\n",
    "# th2=np.logspace(np.log10(1),np.log10(th_max),60*6)\n",
    "th=np.unique(np.sort(np.append(th,th2)))\n",
    "thb=0.5*(th_bins[1:]+th_bins[:-1])"
   ]
  },
  {
   "cell_type": "code",
   "execution_count": 13,
   "metadata": {},
   "outputs": [],
   "source": [
    "labels={}\n",
    "labels[corr_gg]=r'$gg$'\n",
    "labels[corr_ll]=r'$\\xi$'\n",
    "labels[corr_ggl]=r'$g \\gamma$'\n",
    "\n",
    "corr_labels={}\n",
    "corr_labels[corr_ll]=r'$\\xi_+$'\n",
    "corr_labels[corr_gg]=r'$gg$'\n",
    "corr_labels[corr_ggl]=r'$g\\gamma_t$'\n",
    "\n",
    "corr_fnames={}\n",
    "corr_fnames[corr_ll]='ll'\n",
    "corr_fnames[corr_gg]='gg'\n",
    "corr_fnames[corr_ggl]='ggl'\n",
    "\n",
    "\n"
   ]
  },
  {
   "cell_type": "code",
   "execution_count": 14,
   "metadata": {},
   "outputs": [],
   "source": [
    "f_sky=0.3"
   ]
  },
  {
   "cell_type": "code",
   "execution_count": 15,
   "metadata": {},
   "outputs": [],
   "source": [
    "%matplotlib inline\n",
    "import matplotlib\n",
    "matplotlib.use('SVG')   # generate postscript output by default\n",
    "\n",
    "from matplotlib import rc\n",
    "rc('text', usetex=False) "
   ]
  },
  {
   "cell_type": "raw",
   "metadata": {},
   "source": [
    "reload(pylab)\n",
    "from pylab import *"
   ]
  },
  {
   "cell_type": "raw",
   "metadata": {},
   "source": [
    "%matplotlib inline"
   ]
  },
  {
   "cell_type": "code",
   "execution_count": 16,
   "metadata": {
    "scrolled": false
   },
   "outputs": [
    {
     "name": "stdout",
     "output_type": "stream",
     "text": [
      "('shear', 'shear') 0 0\n",
      "0 [ 0.96473047  0.95693165  0.95688367  0.95598464  0.96446265  0.96720741\n",
      "  0.96746621  0.96869122  0.97089191  0.97291931  0.97750912  0.97065736\n",
      "  0.96033294  0.95480935  0.94351477  0.9198444   0.94947624  1.17666777\n",
      "  1.41814633 -0.55436472]\n",
      "20 [0.96452081 0.96017271 0.94682091 0.9499719  0.95683153 0.95471839\n",
      " 0.9509613  0.95141802 0.9517532  0.95086154 0.95103558 0.95069133\n",
      " 0.95801822 0.96461042 0.96678574 0.9672791  0.97566735 0.97696435\n",
      " 0.95610778 0.96144247]\n",
      "('galaxy', 'shear') 1 0\n",
      "40 [0.97338618 0.9682241  0.97114597 0.98070515 0.973342   0.97160774\n",
      " 0.97610429 0.97660745 0.9748788  0.97386685 0.97550679 0.98453509\n",
      " 0.98087246 0.97393734 1.00174873 1.02772786 1.04123285 0.98236654\n",
      " 0.94803358 0.90149405]\n",
      "('galaxy', 'galaxy') 2 0\n",
      "60 [1.00219889 0.99433088 0.9926535  0.98978482 0.99669707 0.99572834\n",
      " 0.99290297 0.99120624 0.99202466 0.99004794 0.99570277 1.00263125\n",
      " 1.02471323 1.04624631 0.98756553 0.67444097 2.51323939 1.38794954\n",
      " 1.09579008 0.64490828]\n",
      "('shear', 'shear') 0 1\n",
      "0 [1.00750718 0.99869401 0.99830322 0.99811463 1.0044287  1.00530762\n",
      " 1.00429256 1.00568112 1.0042469  1.00395506 1.00781782 1.00928\n",
      " 1.00668405 1.00389801 0.99718399 0.99065254 1.00447364 0.86682127\n",
      " 0.25959001 1.84337335]\n",
      "20 [1.00908441 1.00530706 0.98990598 0.99317039 0.99966957 0.99796911\n",
      " 0.99657387 0.99698875 0.99637005 0.9957047  0.99847641 0.99984589\n",
      " 1.0003576  1.00213326 1.00147937 1.00401051 1.00560643 1.00036901\n",
      " 1.00717448 1.01681201]\n",
      "('galaxy', 'shear') 1 1\n",
      "40 [0.99619619 0.98977272 0.99427874 1.002734   0.99746149 0.99846165\n",
      " 1.00038519 0.99857337 0.99929366 1.00147665 1.00480443 1.00677363\n",
      " 1.00638236 1.0073816  1.00125342 0.99568934 0.9869314  1.00572887\n",
      " 1.03285501 1.03408165]\n",
      "('galaxy', 'galaxy') 2 1\n",
      "60 [1.00492497 0.99605465 0.99460211 0.99293477 0.99975278 0.99955558\n",
      " 0.99758561 0.99797388 0.99614946 0.99386214 0.99609925 0.99967902\n",
      " 0.99347399 0.98791028 0.98152878 1.00961303 1.00016864 1.04793835\n",
      " 1.07738266 1.04451406]\n"
     ]
    }
   ],
   "source": [
    "f=1\n",
    "corr_i=0\n",
    "fig, ax =subplots(2,2,figsize=(20,15),sharex='col',sharey='row')\n",
    "# ax=ax.reshape(2,1)\n",
    "i_n=len(thb)\n",
    "for simj in np.arange(2):\n",
    "    corr_i=0\n",
    "    i_s=0\n",
    "    for corr in corrs:\n",
    "        color=colors[corr_i]\n",
    "        marker=markers[corr_i]\n",
    "        print(corr,corr_i,simj)\n",
    "#     if corr==corr_gg:\n",
    "#         i_s+=i_n\n",
    "#         continue\n",
    "        xi_simi=xi_sim_W[simj]\n",
    "#         else:\n",
    "#             xi_simi=xi_sim_Ww\n",
    "        pS=ax[0,simj]\n",
    "        pR=ax[1,simj]\n",
    "#         f=np.array([thb]*4).flatten()\n",
    "        f=thb\n",
    "        f2=f/sqrt(nsim)\n",
    "        i=0\n",
    "        pS.errorbar(thb,f*xi_simi['xi_b_stats']['mean'][i_s:i_s+i_n],f*xi_simi['xi_b_stats']['std'][i_s:i_s+i_n],\n",
    "                    fmt=marker,c=color,label=corr_labels[corr])\n",
    "        pS.plot(thb,f*xi_simi['xi0']['xi'][i_s:i_s+i_n],c=color)\n",
    "\n",
    "#         f=1./xi_simi['xiW0']['xi'][i_s:i_s+i_n]/f_sky\n",
    "        f=1./xi_simi['xi0']['xi'][i_s:i_s+i_n]\n",
    "        f2=f/sqrt(nsim)\n",
    "        pR.errorbar(thb,f*xi_simi['xi_b_stats']['mean'][i_s:i_s+i_n],f2*xi_simi['xi_b_stats']['std'][i_s:i_s+i_n],\n",
    "                    fmt=marker+'-',c=color,mfc=None,mew=3,zorder=10)\n",
    "        print(i_s,xi_simi['xi_b_stats']['mean'][i_s:i_s+i_n]/xi_simi['xi0']['xi'][i_s:i_s+i_n])\n",
    "        i_s+=i_n\n",
    "        if corr==corr_ll:\n",
    "            f=thb\n",
    "            pS.errorbar(thb*1.0,f*xi_simi['xi_b_stats']['mean'][i_s:i_s+i_n],f*xi_simi['xi_b_stats']['std'][i_s:i_s+i_n],\n",
    "                        fmt=marker,mfc='white',mew=3,c=colors[5],label=labels[corr]+'$^{BB}$')\n",
    "            pS.plot(thb,f*xi_simi['xi0']['xi'][i_s:i_s+i_n],c=colors[5])\n",
    "#             f=1./xi_simi['xiW0']['xi'][i_s:i_s+i_n]/f_sky\n",
    "            f=1./xi_simi['xi0']['xi'][i_s:i_s+i_n]\n",
    "            f2=f/sqrt(nsim)\n",
    "            pR.errorbar(thb,f*xi_simi['xi_b_stats']['mean'][i_s:i_s+i_n],f2*xi_simi['xi_b_stats']['std'][i_s:i_s+i_n],\n",
    "                    fmt=marker+'-',mfc='white',mew=3,c=colors[5],zorder=10)\n",
    "            print(i_s,xi_simi['xi_b_stats']['mean'][i_s:i_s+i_n]/xi_simi['xi0']['xi'][i_s:i_s+i_n])\n",
    "            i_s+=i_n\n",
    "\n",
    "\n",
    "        pR.set_xscale('log')\n",
    "        # yscale('log')\n",
    "#         pR.set_ylim(.95,1.08)\n",
    "#         pR.hlines(1,10,3000)\n",
    "#         pR.hlines(1.01,10,3000,ls='--',alpha=0.5,zorder=-1)\n",
    "#         pR.hlines(.99,10,3000,ls='--',alpha=0.5,zorder=-1)\n",
    "        \n",
    "        pS.set_yscale('log')\n",
    "#         pS.set_ylim(1.e-10,8.e-4)\n",
    "#         tf=.9\n",
    "#         if corr==corr_ll:\n",
    "#             pS.set_ylim(3.e-7,1.e-6)\n",
    "#             pR.set_ylim(.9,1.11)\n",
    "#             tf=1\n",
    "        pR.set_ylim(.965,1.0351)\n",
    "        pR.set_xlabel(r'$\\ell$')\n",
    "        pR.hlines(1,thb.min(),thb.max(),'k')\n",
    "        pR.hlines(.99,thb.min(),thb.max(),'k',ls='--')\n",
    "        pR.hlines(1.01,thb.min(),thb.max(),'k',ls='--')\n",
    "        if simj==0:\n",
    "            pR.set_ylabel(r'$\\widehat D_\\ell/D_\\ell$')\n",
    "            pS.set_ylabel(r'$\\widehat D_\\ell$ ')\n",
    "        if corr==corr_ll:\n",
    "            if simj==0:\n",
    "                pS.text(x=2,y=1.e-5,s=r'$W_'+str(simj+1)+'$',fontsize=50)\n",
    "            if simj==1:\n",
    "                pS.text(x=2,y=1.e-5,s=r'$W_'+str(simj+1)+'$',fontsize=50)\n",
    "        corr_i+=1\n",
    "# ax[0,1].legend(ncol=4,loc='lower left',bbox_to_anchor=(-.07,0))\n",
    "# ax[0,0].set_yticks(np.logspace(-10,-4,7))\n",
    "ax[0,0].set_xlim(1,10)\n",
    "ax[0,1].set_xlim(1,10)\n",
    "# # fname=fig_home+'/'+corr_fnames[corr]+'_pseudo_cl_comp_sims'+str(nsim)+'_ns'+str(nside)+'_lmax'+str(lmax_cl)+'_wlmax'+str(window_lmax)+'_fsky'+str(int(f_sky*10))\n",
    "# if not use_shot_noise:\n",
    "#     fname+='_noSN'\n",
    "# if unit_window:\n",
    "#     fname+='_unit_window'\n",
    "# if smooth_window:\n",
    "#     fname+='_smooth_window'\n",
    "\n",
    "\n",
    "# fname+='.pdf'\n",
    "# fig.savefig(fname,bbox_inches='tight',format='pdf')\n",
    "# print('saved to ',fname)    \n",
    "show()"
   ]
  },
  {
   "cell_type": "code",
   "execution_count": 17,
   "metadata": {},
   "outputs": [
    {
     "data": {
      "text/plain": [
       "{'full': {('shear',\n",
       "   'shear'): array([0.82365846, 0.81562198, 0.82096172, 0.81514377, 0.8159397 ,\n",
       "         0.8149905 , 0.81386065, 0.81328483, 0.81284683, 0.81241098,\n",
       "         0.81228116, 0.81210189, 0.81201781, 0.81197155, 0.81188973,\n",
       "         0.81190907, 0.81195453, 0.81193096, 0.81183018, 0.81178362]),\n",
       "  ('galaxy',\n",
       "   'shear'): array([0.85307825, 0.85282165, 0.85282289, 0.85285147, 0.8528587 ,\n",
       "         0.85281036, 0.852933  , 0.85284195, 0.85298324, 0.85297062,\n",
       "         0.85294196, 0.85294206, 0.8529297 , 0.8528912 , 0.85286464,\n",
       "         0.85289486, 0.85295652, 0.85298403, 0.85285644, 0.85278658]),\n",
       "  ('galaxy',\n",
       "   'galaxy'): array([0.92017335, 0.90590369, 0.91637619, 0.90513233, 0.90677937,\n",
       "         0.90453363, 0.90222921, 0.90092556, 0.89967833, 0.89861046,\n",
       "         0.89780509, 0.89703183, 0.89649794, 0.89613469, 0.8959822 ,\n",
       "         0.89594615, 0.89581891, 0.89582753, 0.89588666, 0.8958157 ])}}"
      ]
     },
     "execution_count": 17,
     "metadata": {},
     "output_type": "execute_result"
    }
   ],
   "source": [
    "xi_sim_W[0]['xi_window_norm']"
   ]
  },
  {
   "cell_type": "code",
   "execution_count": 18,
   "metadata": {},
   "outputs": [
    {
     "data": {
      "text/plain": [
       "array([ 0.95754206,  0.95818305,  0.95851004,  0.95779043,  0.96021014,\n",
       "        0.9621009 ,  0.96333104,  0.96321905,  0.9667861 ,  0.9690865 ,\n",
       "        0.9699264 ,  0.9617325 ,  0.95395666,  0.95110196,  0.9461792 ,\n",
       "        0.9285237 ,  0.94524753,  1.3574514 ,  5.4630237 , -0.30073383,\n",
       "        0.9558376 ,  0.95510393,  0.9564756 ,  0.95650446,  0.9571478 ,\n",
       "        0.9566613 ,  0.9542306 ,  0.95429164,  0.9552206 ,  0.9549634 ,\n",
       "        0.95248675,  0.95083785,  0.95767576,  0.962557  ,  0.9653576 ,\n",
       "        0.9634153 ,  0.97022784,  0.976604  ,  0.9492971 ,  0.945546  ,\n",
       "        0.9771029 ,  0.9782287 ,  0.9767341 ,  0.9780312 ,  0.9758191 ,\n",
       "        0.9731047 ,  0.97572845,  0.9780027 ,  0.9755679 ,  0.9724309 ,\n",
       "        0.9708424 ,  0.97791106,  0.9746519 ,  0.9668008 ,  1.0004947 ,\n",
       "        1.0321772 ,  1.0550205 ,  0.97677076,  0.9178767 ,  0.87178224,\n",
       "        0.9972873 ,  0.9982694 ,  0.9980408 ,  0.99682766,  0.99694353,\n",
       "        0.99617106,  0.995306  ,  0.9932186 ,  0.99585927,  0.99616224,\n",
       "        0.99960196,  1.0029532 ,  1.0314444 ,  1.05905   ,  1.0061504 ,\n",
       "        0.6680193 ,  2.5128157 ,  1.3244573 ,  1.0170853 ,  0.61742425],\n",
       "      dtype=float32)"
      ]
     },
     "execution_count": 18,
     "metadata": {},
     "output_type": "execute_result"
    }
   ],
   "source": [
    "xi_sim_W[0]['xi_b_stats']['mean']/xi_sim_W[1]['xi_b_stats']['mean']"
   ]
  },
  {
   "cell_type": "code",
   "execution_count": 19,
   "metadata": {},
   "outputs": [
    {
     "data": {
      "text/plain": [
       "array([0.99949329, 1.00001078, 0.99993406, 0.99998015, 0.99977146,\n",
       "       0.99992578, 0.9999452 , 0.99995621, 0.99995663, 0.99997329,\n",
       "       0.99998745, 0.99999401, 0.999996  , 0.99998817, 0.99999707,\n",
       "       0.99999921, 0.99999931, 0.99998722, 0.99997192, 1.00002241,\n",
       "       0.99927246, 0.99992773, 0.9998877 , 0.99994449, 0.99970575,\n",
       "       0.99990085, 0.99993077, 0.99995613, 0.99996389, 0.99997978,\n",
       "       0.99999063, 0.99999545, 0.99999738, 0.99999512, 0.99999899,\n",
       "       1.00000002, 1.00000015, 0.99999774, 0.99999775, 0.9999977 ,\n",
       "       1.00000146, 1.00000028, 1.00000021, 0.99999906, 0.99999948,\n",
       "       1.00000013, 1.00000092, 1.00000036, 1.00000181, 0.99999904,\n",
       "       0.99999989, 0.99999904, 0.99999973, 0.99999899, 0.99999924,\n",
       "       1.00000293, 1.00000143, 0.999997  , 0.99999329, 0.99999778,\n",
       "       0.99905027, 1.00000418, 0.99987315, 0.99995237, 0.99951012,\n",
       "       0.99983437, 0.99986859, 0.99988811, 0.99988948, 0.99991608,\n",
       "       0.99994315, 0.99996167, 0.99996458, 0.99995293, 0.99997725,\n",
       "       0.99997875, 1.00008433, 1.00000675, 1.00000488, 0.99999933])"
      ]
     },
     "execution_count": 19,
     "metadata": {},
     "output_type": "execute_result"
    }
   ],
   "source": [
    "xi_sim_W[1]['xiW0']['xi']/xi_sim_W[0]['xiW0']['xi']"
   ]
  },
  {
   "cell_type": "code",
   "execution_count": 20,
   "metadata": {},
   "outputs": [],
   "source": [
    "nside=1024\n",
    "lmax_cl=3*nside-1\n",
    "window_lmax=3*nside-1\n",
    "Nl_bins=37 #40\n",
    "l0w=np.arange(3*nside-1)"
   ]
  },
  {
   "cell_type": "code",
   "execution_count": 21,
   "metadata": {},
   "outputs": [],
   "source": [
    "#setup parameters\n",
    "lmin_cl=0\n",
    "l0=np.arange(lmin_cl,lmax_cl)\n",
    "\n",
    "lmin_cl_Bins=lmin_cl+10\n",
    "lmax_cl_Bins=lmax_cl-10\n",
    "l_bins=np.int64(np.logspace(np.log10(lmin_cl_Bins),np.log10(lmax_cl_Bins),Nl_bins))\n",
    "# l_bins=np.int64(np.linspace(lmin_cl_Bins,lmax_cl_Bins,Nl_bins))\n",
    "lb=(l_bins[1:]+l_bins[:-1])*.5\n",
    "\n",
    "l=np.int32(l0) #np.unique(np.int64(np.logspace(np.log10(lmin_cl),np.log10(lmax_cl),Nl_bins*20))) #if we want to use fewer ell\n",
    "\n",
    "do_cov=True\n",
    "bin_cl=True\n",
    "\n",
    "SSV_cov=False\n",
    "tidal_SSV_cov=False\n",
    "\n",
    "do_xi=True"
   ]
  },
  {
   "cell_type": "code",
   "execution_count": 22,
   "metadata": {},
   "outputs": [],
   "source": [
    "use_window=True\n",
    "f_sky=0.3\n",
    "n_source_bins=1\n",
    "sigma_gamma=0.3944/sqrt(2.)  #*2**0.25"
   ]
  },
  {
   "cell_type": "code",
   "execution_count": 23,
   "metadata": {},
   "outputs": [],
   "source": [
    "store_win=True\n",
    "unit_window=False\n",
    "smooth_window=False"
   ]
  },
  {
   "cell_type": "code",
   "execution_count": 24,
   "metadata": {},
   "outputs": [],
   "source": [
    "w_smooth_lmax=1.e7 #some large number\n",
    "if smooth_window:\n",
    "    w_smooth_lmax=1000\n",
    "window_cl_fact=np.cos(np.pi/2*(l0w/w_smooth_lmax)**10)\n",
    "x=window_cl_fact<0\n",
    "x+=l0w>w_smooth_lmax\n",
    "window_cl_fact[x]=0\n",
    "if unit_window:\n",
    "    window_cl_fact=0"
   ]
  },
  {
   "cell_type": "code",
   "execution_count": null,
   "metadata": {},
   "outputs": [],
   "source": []
  },
  {
   "cell_type": "code",
   "execution_count": 25,
   "metadata": {},
   "outputs": [],
   "source": [
    "do_cov=True\n",
    "store_win=True"
   ]
  },
  {
   "cell_type": "code",
   "execution_count": 26,
   "metadata": {},
   "outputs": [],
   "source": [
    "wigner_files={}\n",
    "wigner_files[0]= '/home/deep/data/repos/SkyLens/temp/dask_wig3j_l6500_w2100_0_reorder.zarr'\n",
    "wigner_files[2]= '/home/deep/data/repos/SkyLens/temp/dask_wig3j_l3500_w2100_2_reorder.zarr'\n"
   ]
  },
  {
   "cell_type": "code",
   "execution_count": 27,
   "metadata": {},
   "outputs": [],
   "source": [
    "corrs=[corr_ll,corr_ggl,corr_gg]"
   ]
  },
  {
   "cell_type": "code",
   "execution_count": 28,
   "metadata": {},
   "outputs": [
    {
     "name": "stderr",
     "output_type": "stream",
     "text": [
      "../skylens/wigner_functions.py:46: RuntimeWarning: invalid value encountered in true_divide\n",
      "  d_mat/=np.sqrt(binom(k+b,b))\n",
      "../skylens/wigner_functions.py:46: RuntimeWarning: divide by zero encountered in true_divide\n",
      "  d_mat/=np.sqrt(binom(k+b,b))\n",
      "../skylens/wigner_functions.py:46: RuntimeWarning: divide by zero encountered in true_divide\n",
      "  d_mat/=np.sqrt(binom(k+b,b))\n"
     ]
    },
    {
     "name": "stdout",
     "output_type": "stream",
     "text": [
      "CPU times: user 1.36 s, sys: 6.08 s, total: 7.44 s\n",
      "Wall time: 14.2 s\n"
     ]
    }
   ],
   "source": [
    "bin_xi=True\n",
    "\n",
    "# HT_kwargs={'l_min':l_min,  'l_max':l_max,\n",
    "#                         'theta_min':th_min*d2r*.9, 'theta_max':th_max*d2r,\n",
    "#                         'n_zeros':40000, 'prune_theta':prune_theta, 'm1_m2':[(2,2),(2,-2),(0,2),(0,0)]}\n",
    "l0_win=np.arange(lmax_cl)\n",
    "WT_L_kwargs={'l': l0_win,'theta': th*d2r,'s1_s2':[(2,2),(2,-2),(0,2),(2,0),(0,0)]}\n",
    "WT_L=None\n",
    "if do_xi:\n",
    "    %time WT_L=wigner_transform(**WT_L_kwargs)"
   ]
  },
  {
   "cell_type": "code",
   "execution_count": 29,
   "metadata": {
    "scrolled": false
   },
   "outputs": [
    {
     "data": {
      "text/plain": [
       "(0.001, 1000.0)"
      ]
     },
     "execution_count": 29,
     "metadata": {},
     "output_type": "execute_result"
    }
   ],
   "source": [
    "# l0w=np.arange(512)+1\n",
    "mean=150\n",
    "sigma=50\n",
    "ww=1000*np.exp(-(l0w-mean)**2/sigma**2)\n",
    "x=ww<1\n",
    "ww[x]=1\n",
    "# x=l0w>mean+3*sigma\n",
    "# ww[x]=ww[l0w==mean+3*sigma]\n",
    "loglog(l0w,ww*window_cl_fact)\n",
    "ylim(1.e-3,1e3)"
   ]
  },
  {
   "cell_type": "code",
   "execution_count": 30,
   "metadata": {},
   "outputs": [],
   "source": [
    "bi=(0,0)\n",
    "use_binned_l=False"
   ]
  },
  {
   "cell_type": "code",
   "execution_count": null,
   "metadata": {},
   "outputs": [],
   "source": []
  },
  {
   "cell_type": "code",
   "execution_count": 31,
   "metadata": {},
   "outputs": [
    {
     "name": "stdout",
     "output_type": "stream",
     "text": [
      "indxs:  None None\n"
     ]
    },
    {
     "name": "stderr",
     "output_type": "stream",
     "text": [
      "../skylens/cov_utils.py:58: RuntimeWarning: invalid value encountered in true_divide\n",
      "  Win0=2*jn(1,l_th)/l_th\n",
      "../skylens/angular_power_spectra.py:26: RuntimeWarning: divide by zero encountered in true_divide\n",
      "  self.cl_f=(l+0.5)**2/(l*(l+1.)) # cl correction from Kilbinger+ 2017\n"
     ]
    },
    {
     "name": "stdout",
     "output_type": "stream",
     "text": [
      "Win gen: step size 13 False True\n",
      "setting windows <Client: 'inproc://128.182.108.220/39395/1' processes=1 threads=2, memory=60.00 GB>\n",
      "Got xi win graph\n"
     ]
    },
    {
     "name": "stderr",
     "output_type": "stream",
     "text": [
      "distributed.worker - WARNING -  Compute Failed\n",
      "Function:  execute_task\n",
      "args:      ((<bound method window_utils.get_window_power_cl of <skylens.window_utils.window_utils object at 0x7f84d4136be0>>, (<class 'tuple'>, ['galaxy', 'shear']), (<class 'tuple'>, [0, 0])))\n",
      "kwargs:    {}\n",
      "Exception: TypeError(\"unsupported operand type(s) for +: 'int' and 'tuple'\")\n",
      "\n",
      "distributed.worker - WARNING -  Compute Failed\n",
      "Function:  execute_task\n",
      "args:      ((<bound method window_utils.get_window_power_cl of <skylens.window_utils.window_utils object at 0x7f84d4136be0>>, (<class 'tuple'>, ['shear', 'shear']), (<class 'tuple'>, [0, 0])))\n",
      "kwargs:    {}\n",
      "Exception: TypeError(\"unsupported operand type(s) for +: 'int' and 'tuple'\")\n",
      "\n"
     ]
    },
    {
     "ename": "TypeError",
     "evalue": "unsupported operand type(s) for +: 'int' and 'tuple'",
     "output_type": "error",
     "traceback": [
      "\u001b[0;31m---------------------------------------------------------------------------\u001b[0m",
      "\u001b[0;31mTypeError\u001b[0m                                 Traceback (most recent call last)",
      "\u001b[0;32m<ipython-input-31-df492cc4eed9>\u001b[0m in \u001b[0;36m<module>\u001b[0;34m\u001b[0m\n\u001b[1;32m      5\u001b[0m \u001b[0mt1\u001b[0m\u001b[0;34m=\u001b[0m\u001b[0mtime\u001b[0m\u001b[0;34m.\u001b[0m\u001b[0mtime\u001b[0m\u001b[0;34m(\u001b[0m\u001b[0;34m)\u001b[0m\u001b[0;34m\u001b[0m\u001b[0;34m\u001b[0m\u001b[0m\n\u001b[1;32m      6\u001b[0m \u001b[0;32mfor\u001b[0m \u001b[0mi\u001b[0m \u001b[0;32min\u001b[0m \u001b[0mzs_bin\u001b[0m\u001b[0;34m.\u001b[0m\u001b[0mkeys\u001b[0m\u001b[0;34m(\u001b[0m\u001b[0;34m)\u001b[0m\u001b[0;34m:\u001b[0m\u001b[0;34m\u001b[0m\u001b[0;34m\u001b[0m\u001b[0m\n\u001b[0;32m----> 7\u001b[0;31m     kappa_win[i]=Skylens(zs_bins=zs_bin[i],do_cov=do_cov,bin_cl=bin_cl,l_bins=l_bins,l=l0, zg_bins=zl_bin[i],\n\u001b[0m\u001b[1;32m      8\u001b[0m             \u001b[0muse_window\u001b[0m\u001b[0;34m=\u001b[0m\u001b[0muse_window\u001b[0m\u001b[0;34m,\u001b[0m\u001b[0mstore_win\u001b[0m\u001b[0;34m=\u001b[0m\u001b[0mstore_win\u001b[0m\u001b[0;34m,\u001b[0m\u001b[0mwindow_lmax\u001b[0m\u001b[0;34m=\u001b[0m\u001b[0mwindow_lmax\u001b[0m\u001b[0;34m,\u001b[0m\u001b[0mcorrs\u001b[0m\u001b[0;34m=\u001b[0m\u001b[0mcorrs\u001b[0m\u001b[0;34m,\u001b[0m\u001b[0;34m\u001b[0m\u001b[0;34m\u001b[0m\u001b[0m\n\u001b[1;32m      9\u001b[0m             \u001b[0mSSV_cov\u001b[0m\u001b[0;34m=\u001b[0m\u001b[0mSSV_cov\u001b[0m\u001b[0;34m,\u001b[0m\u001b[0mtidal_SSV_cov\u001b[0m\u001b[0;34m=\u001b[0m\u001b[0mtidal_SSV_cov\u001b[0m\u001b[0;34m,\u001b[0m\u001b[0mf_sky\u001b[0m\u001b[0;34m=\u001b[0m\u001b[0mf_sky\u001b[0m\u001b[0;34m,\u001b[0m\u001b[0;34m\u001b[0m\u001b[0;34m\u001b[0m\u001b[0m\n",
      "\u001b[0;32m/verafs/scratch/phy200040p/sukhdeep/miniconda3/lib/python3.8/skylens/cl_cov.py\u001b[0m in \u001b[0;36m__init__\u001b[0;34m(self, l, WT, Ang_PS, cov_utils, logger, tracer_utils, zs_bins, zk_bins, zg_bins, galaxy_bias_func, power_spectra_kwargs, WT_kwargs, z_PS, nz_PS, log_z_PS, do_cov, SSV_cov, tidal_SSV_cov, do_sample_variance, Tri_cov, sparse_cov, use_window, window_lmax, window_l, store_win, Win, f_sky, l_bins, bin_cl, use_binned_l, do_pseudo_cl, stack_data, bin_xi, do_xi, theta_bins, use_binned_theta, xi_win_approx, corrs, corr_indxs, wigner_files, name)\u001b[0m\n\u001b[1;32m     95\u001b[0m \u001b[0;34m\u001b[0m\u001b[0m\n\u001b[1;32m     96\u001b[0m \u001b[0;34m\u001b[0m\u001b[0m\n\u001b[0;32m---> 97\u001b[0;31m         self.Win=window_utils(window_l=self.window_l,l=self.l0,l_bins=self.l_bins,corrs=self.corrs,s1_s2s=self.s1_s2s,\\\n\u001b[0m\u001b[1;32m     98\u001b[0m                         \u001b[0muse_window\u001b[0m\u001b[0;34m=\u001b[0m\u001b[0muse_window\u001b[0m\u001b[0;34m,\u001b[0m\u001b[0mdo_cov\u001b[0m\u001b[0;34m=\u001b[0m\u001b[0mdo_cov\u001b[0m\u001b[0;34m,\u001b[0m\u001b[0mcov_utils\u001b[0m\u001b[0;34m=\u001b[0m\u001b[0mself\u001b[0m\u001b[0;34m.\u001b[0m\u001b[0mcov_utils\u001b[0m\u001b[0;34m,\u001b[0m\u001b[0;34m\u001b[0m\u001b[0;34m\u001b[0m\u001b[0m\n\u001b[1;32m     99\u001b[0m                         \u001b[0mf_sky\u001b[0m\u001b[0;34m=\u001b[0m\u001b[0mf_sky\u001b[0m\u001b[0;34m,\u001b[0m\u001b[0mcorr_indxs\u001b[0m\u001b[0;34m=\u001b[0m\u001b[0mself\u001b[0m\u001b[0;34m.\u001b[0m\u001b[0mcorr_indxs\u001b[0m\u001b[0;34m,\u001b[0m\u001b[0mz_bins\u001b[0m\u001b[0;34m=\u001b[0m\u001b[0mself\u001b[0m\u001b[0;34m.\u001b[0m\u001b[0mz_bins\u001b[0m\u001b[0;34m,\u001b[0m\u001b[0;34m\u001b[0m\u001b[0;34m\u001b[0m\u001b[0m\n",
      "\u001b[0;32m/verafs/scratch/phy200040p/sukhdeep/miniconda3/lib/python3.8/skylens/window_utils.py\u001b[0m in \u001b[0;36m__init__\u001b[0;34m(self, window_l, window_lmax, l, l_bins, corrs, s1_s2s, use_window, f_sky, do_cov, cov_utils, corr_indxs, z_bins, WT, xi_bin_utils, do_xi, store_win, Win, wigner_files, step, xi_win_approx, kappa_class0, kappa_class_b, bin_window, do_pseudo_cl)\u001b[0m\n\u001b[1;32m     58\u001b[0m             \u001b[0;32mif\u001b[0m \u001b[0mself\u001b[0m\u001b[0;34m.\u001b[0m\u001b[0mstore_win\u001b[0m\u001b[0;34m:\u001b[0m\u001b[0;34m\u001b[0m\u001b[0;34m\u001b[0m\u001b[0m\n\u001b[1;32m     59\u001b[0m                 \u001b[0mclient\u001b[0m\u001b[0;34m=\u001b[0m\u001b[0mget_client\u001b[0m\u001b[0;34m(\u001b[0m\u001b[0;34m)\u001b[0m\u001b[0;34m\u001b[0m\u001b[0;34m\u001b[0m\u001b[0m\n\u001b[0;32m---> 60\u001b[0;31m                 \u001b[0mself\u001b[0m\u001b[0;34m.\u001b[0m\u001b[0mWin\u001b[0m\u001b[0;34m=\u001b[0m\u001b[0mclient\u001b[0m\u001b[0;34m.\u001b[0m\u001b[0mcompute\u001b[0m\u001b[0;34m(\u001b[0m\u001b[0mself\u001b[0m\u001b[0;34m.\u001b[0m\u001b[0mWin\u001b[0m\u001b[0;34m)\u001b[0m\u001b[0;34m.\u001b[0m\u001b[0mresult\u001b[0m\u001b[0;34m(\u001b[0m\u001b[0;34m)\u001b[0m\u001b[0;34m\u001b[0m\u001b[0;34m\u001b[0m\u001b[0m\n\u001b[0m\u001b[1;32m     61\u001b[0m \u001b[0;31m#             self.cleanup()\u001b[0m\u001b[0;34m\u001b[0m\u001b[0;34m\u001b[0m\u001b[0;34m\u001b[0m\u001b[0m\n\u001b[1;32m     62\u001b[0m \u001b[0;31m#             self.Win={'cl':{corr:{} for corr in self.corrs},\u001b[0m\u001b[0;34m\u001b[0m\u001b[0;34m\u001b[0m\u001b[0;34m\u001b[0m\u001b[0m\n",
      "\u001b[0;32m/verafs/scratch/phy200040p/sukhdeep/miniconda3/lib/python3.8/site-packages/distributed/client.py\u001b[0m in \u001b[0;36mresult\u001b[0;34m(self, timeout)\u001b[0m\n\u001b[1;32m    223\u001b[0m         \u001b[0;32mif\u001b[0m \u001b[0mself\u001b[0m\u001b[0;34m.\u001b[0m\u001b[0mstatus\u001b[0m \u001b[0;34m==\u001b[0m \u001b[0;34m\"error\"\u001b[0m\u001b[0;34m:\u001b[0m\u001b[0;34m\u001b[0m\u001b[0;34m\u001b[0m\u001b[0m\n\u001b[1;32m    224\u001b[0m             \u001b[0mtyp\u001b[0m\u001b[0;34m,\u001b[0m \u001b[0mexc\u001b[0m\u001b[0;34m,\u001b[0m \u001b[0mtb\u001b[0m \u001b[0;34m=\u001b[0m \u001b[0mresult\u001b[0m\u001b[0;34m\u001b[0m\u001b[0;34m\u001b[0m\u001b[0m\n\u001b[0;32m--> 225\u001b[0;31m             \u001b[0;32mraise\u001b[0m \u001b[0mexc\u001b[0m\u001b[0;34m.\u001b[0m\u001b[0mwith_traceback\u001b[0m\u001b[0;34m(\u001b[0m\u001b[0mtb\u001b[0m\u001b[0;34m)\u001b[0m\u001b[0;34m\u001b[0m\u001b[0;34m\u001b[0m\u001b[0m\n\u001b[0m\u001b[1;32m    226\u001b[0m         \u001b[0;32melif\u001b[0m \u001b[0mself\u001b[0m\u001b[0;34m.\u001b[0m\u001b[0mstatus\u001b[0m \u001b[0;34m==\u001b[0m \u001b[0;34m\"cancelled\"\u001b[0m\u001b[0;34m:\u001b[0m\u001b[0;34m\u001b[0m\u001b[0;34m\u001b[0m\u001b[0m\n\u001b[1;32m    227\u001b[0m             \u001b[0;32mraise\u001b[0m \u001b[0mresult\u001b[0m\u001b[0;34m\u001b[0m\u001b[0;34m\u001b[0m\u001b[0m\n",
      "\u001b[0;32m/verafs/scratch/phy200040p/sukhdeep/miniconda3/lib/python3.8/skylens/window_utils.py\u001b[0m in \u001b[0;36mget_window_power_cl\u001b[0;34m(self, corr, indxs)\u001b[0m\n\u001b[1;32m    268\u001b[0m         \u001b[0mwin\u001b[0m\u001b[0;34m[\u001b[0m\u001b[0;34m's1s2'\u001b[0m\u001b[0;34m]\u001b[0m\u001b[0;34m=\u001b[0m\u001b[0ms1s2\u001b[0m\u001b[0;34m\u001b[0m\u001b[0;34m\u001b[0m\u001b[0m\n\u001b[1;32m    269\u001b[0m         \u001b[0;32mif\u001b[0m \u001b[0mself\u001b[0m\u001b[0;34m.\u001b[0m\u001b[0mdo_xi\u001b[0m\u001b[0;34m:\u001b[0m\u001b[0;34m\u001b[0m\u001b[0;34m\u001b[0m\u001b[0m\n\u001b[0;32m--> 270\u001b[0;31m             \u001b[0mth\u001b[0m\u001b[0;34m,\u001b[0m\u001b[0mwin\u001b[0m\u001b[0;34m[\u001b[0m\u001b[0;34m'xi'\u001b[0m\u001b[0;34m]\u001b[0m\u001b[0;34m=\u001b[0m\u001b[0;36m1\u001b[0m\u001b[0;34m+\u001b[0m\u001b[0mself\u001b[0m\u001b[0;34m.\u001b[0m\u001b[0mWT\u001b[0m\u001b[0;34m.\u001b[0m\u001b[0mprojected_correlation\u001b[0m\u001b[0;34m(\u001b[0m\u001b[0ml_cl\u001b[0m\u001b[0;34m=\u001b[0m\u001b[0mself\u001b[0m\u001b[0;34m.\u001b[0m\u001b[0mwindow_l\u001b[0m\u001b[0;34m,\u001b[0m\u001b[0ms1_s2\u001b[0m\u001b[0;34m=\u001b[0m\u001b[0;34m(\u001b[0m\u001b[0;36m0\u001b[0m\u001b[0;34m,\u001b[0m\u001b[0;36m0\u001b[0m\u001b[0;34m)\u001b[0m\u001b[0;34m,\u001b[0m\u001b[0mcl\u001b[0m\u001b[0;34m=\u001b[0m\u001b[0mwin\u001b[0m\u001b[0;34m[\u001b[0m\u001b[0;36m12\u001b[0m\u001b[0;34m]\u001b[0m\u001b[0;34m[\u001b[0m\u001b[0;34m'cl'\u001b[0m\u001b[0;34m]\u001b[0m\u001b[0;34m)\u001b[0m\u001b[0;34m\u001b[0m\u001b[0;34m\u001b[0m\u001b[0m\n\u001b[0m\u001b[1;32m    271\u001b[0m             \u001b[0mwin\u001b[0m\u001b[0;34m[\u001b[0m\u001b[0;34m'xi_b'\u001b[0m\u001b[0;34m]\u001b[0m\u001b[0;34m=\u001b[0m\u001b[0mself\u001b[0m\u001b[0;34m.\u001b[0m\u001b[0mbinning\u001b[0m\u001b[0;34m.\u001b[0m\u001b[0mbin_1d\u001b[0m\u001b[0;34m(\u001b[0m\u001b[0mxi\u001b[0m\u001b[0;34m=\u001b[0m\u001b[0mwin\u001b[0m\u001b[0;34m[\u001b[0m\u001b[0;34m'xi'\u001b[0m\u001b[0;34m]\u001b[0m\u001b[0;34m,\u001b[0m\u001b[0mbin_utils\u001b[0m\u001b[0;34m=\u001b[0m\u001b[0mself\u001b[0m\u001b[0;34m.\u001b[0m\u001b[0mxi_bin_utils\u001b[0m\u001b[0;34m[\u001b[0m\u001b[0;34m(\u001b[0m\u001b[0;36m0\u001b[0m\u001b[0;34m,\u001b[0m\u001b[0;36m0\u001b[0m\u001b[0;34m)\u001b[0m\u001b[0;34m]\u001b[0m\u001b[0;34m)\u001b[0m\u001b[0;34m\u001b[0m\u001b[0;34m\u001b[0m\u001b[0m\n\u001b[1;32m    272\u001b[0m \u001b[0;34m\u001b[0m\u001b[0m\n",
      "\u001b[0;31mTypeError\u001b[0m: unsupported operand type(s) for +: 'int' and 'tuple'"
     ]
    }
   ],
   "source": [
    "tracemalloc.clear_traces()\n",
    "tracemalloc.start()\n",
    "\n",
    "kappa_win={}\n",
    "t1=time.time()\n",
    "for i in zs_bin.keys():\n",
    "    kappa_win[i]=Skylens(zs_bins=zs_bin[i],do_cov=do_cov,bin_cl=bin_cl,l_bins=l_bins,l=l0, zg_bins=zl_bin[i],\n",
    "            use_window=use_window,store_win=store_win,window_lmax=window_lmax,corrs=corrs,\n",
    "            SSV_cov=SSV_cov,tidal_SSV_cov=tidal_SSV_cov,f_sky=f_sky,\n",
    "            WT=WT_L,bin_xi=bin_xi,theta_bins=th_bins,do_xi=do_xi,do_pseudo_cl=False,\n",
    "                  wigner_files=wigner_files,use_binned_l=False,xi_win_approx=True\n",
    "#                  Win=kappa_win.Win.Win\n",
    "                 )\n",
    "    client.restart()\n",
    "    t2=time.time()\n",
    "    print('W done',t2-t1)\n",
    "\n",
    "# kappa_win_binned=Skylens(zs_bins=zs_bin1,do_cov=do_cov,bin_cl=bin_cl,l_bins=l_bins,l=l0, zg_bins=zl_bin1,\n",
    "#             use_window=use_window,store_win=store_win,window_lmax=window_lmax,corrs=corrs,\n",
    "#             SSV_cov=SSV_cov,tidal_SSV_cov=tidal_SSV_cov,f_sky=f_sky,\n",
    "#             WT=WT_L,bin_xi=bin_xi,theta_bins=th_bins,do_xi=do_xi,\n",
    "#                   wigner_files=wigner_files,use_binned_l=True,\n",
    "# #                  Win=kappa_win.Win.Win\n",
    "#                  )\n",
    "\n"
   ]
  },
  {
   "cell_type": "raw",
   "metadata": {},
   "source": [
    "crash"
   ]
  },
  {
   "cell_type": "code",
   "execution_count": null,
   "metadata": {},
   "outputs": [],
   "source": [
    "# clG_win={}\n",
    "# cl0_win={}\n",
    "# for i in zs_bin.keys():\n",
    "#     %time clG_win[i]=kappa_win[i].cl_tomo(corrs=corrs) \n",
    "#     %time cl0_win[i]=clG_win[i]['stack'].compute()\n",
    "\n",
    "xiG_win={}\n",
    "xi_win={}\n",
    "\n",
    "if do_xi:\n",
    "    for i in zs_bin.keys():\n",
    "        %time xiG_win[i]=kappa_win[i].xi_tomo()\n",
    "        %time xi_win[i]=xiG_win[i]['stack'].compute()"
   ]
  },
  {
   "cell_type": "code",
   "execution_count": null,
   "metadata": {},
   "outputs": [],
   "source": [
    "do_xi"
   ]
  },
  {
   "cell_type": "raw",
   "metadata": {},
   "source": [
    "clG_win[i]['pseudo_cl_b'][corr_ll][bi].compute()"
   ]
  },
  {
   "cell_type": "raw",
   "metadata": {},
   "source": [
    "%time clG_win_binned=kappa_win.cl_tomo(corrs=corrs) \n",
    "%time cl0_win_binned=clG_win_binned['stack'].compute()\n",
    "\n",
    "if do_xi:\n",
    "    %time xiWG_L_binned=kappa_win_binned.xi_tomo()\n",
    "    %time xiW_L_binned=xiWG_L_binned['stack'].compute()"
   ]
  },
  {
   "cell_type": "raw",
   "metadata": {},
   "source": [
    "bi=(0,0)"
   ]
  },
  {
   "cell_type": "raw",
   "metadata": {},
   "source": [
    "dask.visualize(kappa_win.Win.Win_cl)"
   ]
  },
  {
   "cell_type": "raw",
   "metadata": {},
   "source": [
    "dask.visualize(kappa_win.Win.Win_cov)"
   ]
  },
  {
   "cell_type": "code",
   "execution_count": null,
   "metadata": {},
   "outputs": [],
   "source": [
    "kappa0=Skylens(zs_bins=zs_bin[0],do_cov=do_cov,bin_cl=bin_cl,l_bins=l_bins,l=l0, zg_bins=zl_bin[0],\n",
    "            use_window=False,store_win=store_win,corrs=corrs,window_lmax=window_lmax,\n",
    "            SSV_cov=True,tidal_SSV_cov=True,f_sky=f_sky,use_binned_l=False,do_pseudo_cl=False,\n",
    "            WT=WT_L,bin_xi=bin_xi,theta_bins=th_bins,do_xi=do_xi,xi_win_approx=True)\n",
    "\n",
    "%time clG0=kappa0.cl_tomo(corrs=corrs) \n",
    "%time cl0=clG0['stack'].compute()\n",
    "\n",
    "if do_xi:\n",
    "    %time xiG_L0=kappa0.xi_tomo()\n",
    "    %time xi_L0=xiG_L0['stack'].compute()"
   ]
  },
  {
   "cell_type": "raw",
   "metadata": {},
   "source": [
    "bi=(0,0)\n",
    "cl0={'cl_b':{},'cov':{},'cl':{}}\n",
    "\n",
    "for corr in corrs:\n",
    "    cl0['cl_b'][corr]=clG0['cl_b'][corr][bi].compute()\n",
    "    cl0['cl'][corr]=clG0['cl'][corr][bi].compute()\n",
    "    cl0['cov'][corr]=clG0['cov'][corr+corr][bi+bi].compute()\n",
    "    \n",
    "   \n",
    "    \n",
    "#     cl0_win_w['cl_b'][corr]=clG_win_w['pseudo_cl_b'][corr][bi].compute()\n",
    "#     cl0_win_w['cov'][corr]=clG_win_w['cov'][corr+corr][bi+bi].compute()['final_b']"
   ]
  },
  {
   "cell_type": "raw",
   "metadata": {},
   "source": [
    "cl0_win={}\n",
    "for i in zs_bin.keys():\n",
    "    cl0_win[i]={'cl_b':{},'cov':{}}\n",
    "    for corr in corrs:\n",
    "        cl0_win[i]['cl_b'][corr]=clG_win[i]['pseudo_cl_b'][corr][bi].compute()\n",
    "        cl0_win[i]['cov'][corr]=clG_win[i]['cov'][corr+corr][bi+bi].compute()['final_b']"
   ]
  },
  {
   "cell_type": "raw",
   "metadata": {},
   "source": [
    "def corr_matrix(cov_mat=[]): #correlation matrix\n",
    "    diag=np.diag(cov_mat)\n",
    "    return cov_mat/np.sqrt(np.outer(diag,diag))"
   ]
  },
  {
   "cell_type": "code",
   "execution_count": null,
   "metadata": {},
   "outputs": [],
   "source": [
    "nsim=1000\n",
    "# if test_run:\n",
    "#     nsim=10\n",
    "lognormal=False\n",
    "lognormal_scale=2"
   ]
  },
  {
   "cell_type": "code",
   "execution_count": null,
   "metadata": {},
   "outputs": [],
   "source": [
    "corrs=[corr_ll,corr_ggl,corr_gg]"
   ]
  },
  {
   "cell_type": "code",
   "execution_count": null,
   "metadata": {},
   "outputs": [],
   "source": [
    "xi_simi.keys()"
   ]
  },
  {
   "cell_type": "code",
   "execution_count": null,
   "metadata": {
    "scrolled": false
   },
   "outputs": [],
   "source": [
    "f=1\n",
    "corr_i=0\n",
    "fig, ax =subplots(2,1,figsize=(20,15),sharex='col',sharey='row')\n",
    "ax=ax.reshape(2,1)\n",
    "i_s=0\n",
    "i_n=len(thb)\n",
    "th_key='xiW0'\n",
    "for corr in corrs:\n",
    "    color=colors[corr_i]\n",
    "    marker=markers[corr_i]\n",
    "    print(corr,corr_i)\n",
    "#     if corr==corr_gg:\n",
    "#         i_s+=i_n\n",
    "#         continue\n",
    "    for simj in np.arange(1):\n",
    "        xi_simi=xi_sim_W[simj]\n",
    "#         else:\n",
    "#             xi_simi=xi_sim_Ww\n",
    "        pS=ax[0,simj]\n",
    "        pR=ax[1,simj]\n",
    "#         f=np.array([thb]*4).flatten()\n",
    "        f=thb\n",
    "        f2=f/sqrt(nsim)\n",
    "        i=0\n",
    "        pS.errorbar(thb,f*xi_simi['xi_b_stats']['mean'][i_s:i_s+i_n],f*xi_simi['xi_b_stats']['std'][i_s:i_s+i_n],\n",
    "                    fmt=marker,c=color,label=corr_labels[corr])\n",
    "        pS.plot(thb,f*xi_simi[th_key]['xi'][i_s:i_s+i_n],c=color)\n",
    "\n",
    "        f=1./xi_simi[th_key]['xi'][i_s:i_s+i_n]#/0.3\n",
    "        f2=f/sqrt(nsim)\n",
    "        pR.errorbar(thb,f*xi_simi['xi_b_stats']['mean'][i_s:i_s+i_n],f2*xi_simi['xi_b_stats']['std'][i_s:i_s+i_n],\n",
    "                    fmt=marker+'-',c=color,mfc=None,mew=3,zorder=10)\n",
    "        print(i_s,xi_simi['xi_b_stats']['mean'][i_s:i_s+i_n]/xi_simi['xi0']['xi'][i_s:i_s+i_n])\n",
    "        print(i_s,xi_simi['xiW0']['xi'][i_s:i_s+i_n]/xi_simi['xi0']['xi'][i_s:i_s+i_n])\n",
    "        i_s+=i_n\n",
    "        if corr==corr_ll:\n",
    "            f=thb\n",
    "            pS.errorbar(thb*1.0,f*xi_simi['xi_b_stats']['mean'][i_s:i_s+i_n],f*xi_simi['xi_b_stats']['std'][i_s:i_s+i_n],\n",
    "                        fmt=marker,mfc='white',mew=3,c=colors[5],label=labels[corr]+'$^{BB}$')\n",
    "            pS.plot(thb,f*xi_simi[th_key]['xi'][i_s:i_s+i_n],c=colors[5])\n",
    "            f=1./xi_simi[th_key]['xi'][i_s:i_s+i_n]#/0.3\n",
    "            f2=f/sqrt(nsim)\n",
    "            pR.errorbar(thb,f*xi_simi['xi_b_stats']['mean'][i_s:i_s+i_n],f2*xi_simi['xi_b_stats']['std'][i_s:i_s+i_n],\n",
    "                    fmt=marker+'-',mfc='white',mew=3,c=colors[5],zorder=10)\n",
    "            print(i_s,xi_simi['xi_b_stats']['mean'][i_s:i_s+i_n]/xi_simi['xi0']['xi'][i_s:i_s+i_n])\n",
    "            print(i_s,xi_simi['xiW0']['xi'][i_s:i_s+i_n]/xi_simi['xi0']['xi'][i_s:i_s+i_n])\n",
    "            i_s+=i_n\n",
    "\n",
    "\n",
    "        pR.set_xscale('log')\n",
    "        # yscale('log')\n",
    "#         pR.set_ylim(.95,1.08)\n",
    "#         pR.hlines(1,10,3000)\n",
    "#         pR.hlines(1.01,10,3000,ls='--',alpha=0.5,zorder=-1)\n",
    "#         pR.hlines(.99,10,3000,ls='--',alpha=0.5,zorder=-1)\n",
    "        \n",
    "        pS.set_yscale('log')\n",
    "#         pS.set_ylim(1.e-10,8.e-4)\n",
    "#         tf=.9\n",
    "#         if corr==corr_ll:\n",
    "#             pS.set_ylim(3.e-7,1.e-6)\n",
    "#             pR.set_ylim(.9,1.11)\n",
    "#             tf=1\n",
    "        pR.set_ylim(.95,1.051)\n",
    "        pR.set_xlabel(r'$\\ell$')\n",
    "        pR.hlines(1,thb.min(),thb.max(),'k')\n",
    "        if simj==0:\n",
    "            pR.set_ylabel(r'$\\widehat D_\\ell/D_\\ell$')\n",
    "            pS.set_ylabel(r'$\\widehat D_\\ell$ ')\n",
    "        if corr==corr_ll:\n",
    "            if simj==0:\n",
    "                pS.text(x=2,y=1.e-5,s=r'$W_'+str(simj+1)+'$',fontsize=50)\n",
    "            if simj==1:\n",
    "                pS.text(x=2,y=1.e-5,s=r'$W_'+str(simj+1)+'$',fontsize=50)\n",
    "    corr_i+=1\n",
    "# ax[0,1].legend(ncol=4,loc='lower left',bbox_to_anchor=(-.07,0))\n",
    "# ax[0,0].set_yticks(np.logspace(-10,-4,7))\n",
    "# # fname=fig_home+'/'+corr_fnames[corr]+'_pseudo_cl_comp_sims'+str(nsim)+'_ns'+str(nside)+'_lmax'+str(lmax_cl)+'_wlmax'+str(window_lmax)+'_fsky'+str(int(f_sky*10))\n",
    "# if not use_shot_noise:\n",
    "#     fname+='_noSN'\n",
    "# if unit_window:\n",
    "#     fname+='_unit_window'\n",
    "# if smooth_window:\n",
    "#     fname+='_smooth_window'\n",
    "\n",
    "\n",
    "# fname+='.pdf'\n",
    "# fig.savefig(fname,bbox_inches='tight',format='pdf')\n",
    "# print('saved to ',fname)    \n",
    "show()"
   ]
  },
  {
   "cell_type": "code",
   "execution_count": null,
   "metadata": {},
   "outputs": [],
   "source": [
    "xi_simi.keys()"
   ]
  },
  {
   "cell_type": "code",
   "execution_count": null,
   "metadata": {},
   "outputs": [],
   "source": [
    "zs_bin[1].keys()"
   ]
  },
  {
   "cell_type": "code",
   "execution_count": null,
   "metadata": {},
   "outputs": [],
   "source": [
    "x=zs_bin[0][0]['window']>-1.e15\n",
    "zs_bin[0][0]['window'][x].mean()"
   ]
  },
  {
   "cell_type": "code",
   "execution_count": null,
   "metadata": {},
   "outputs": [],
   "source": [
    "x=zl_bin[0][0]['window']>-1.e15\n",
    "zl_bin[0][0]['window'][x].mean()"
   ]
  },
  {
   "cell_type": "code",
   "execution_count": null,
   "metadata": {},
   "outputs": [],
   "source": [
    "hp.mollview(zs_bin[0][0]['window'])"
   ]
  },
  {
   "cell_type": "code",
   "execution_count": null,
   "metadata": {},
   "outputs": [],
   "source": [
    "cls=hp.anafast(zs_bin[0][0]['window'])\n",
    "cll=hp.anafast(zl_bin[0][0]['window'])"
   ]
  },
  {
   "cell_type": "code",
   "execution_count": null,
   "metadata": {},
   "outputs": [],
   "source": [
    "plot(cls)\n",
    "loglog()"
   ]
  },
  {
   "cell_type": "code",
   "execution_count": null,
   "metadata": {},
   "outputs": [],
   "source": [
    "xi_simi['xi_window_norm']['full']"
   ]
  },
  {
   "cell_type": "code",
   "execution_count": null,
   "metadata": {},
   "outputs": [],
   "source": [
    "f=1\n",
    "corr_i=0\n",
    "fig, ax =subplots(2,1,figsize=(20,15),sharex='col',sharey='row')\n",
    "ax=ax.reshape(2,1)\n",
    "i_s=0\n",
    "i_n=len(thb)\n",
    "th_key='xiW0'\n",
    "for corr in corrs:\n",
    "    color=colors[corr_i]\n",
    "    marker=markers[corr_i]\n",
    "    print(corr,corr_i)\n",
    "#     if corr==corr_gg:\n",
    "#         i_s+=i_n\n",
    "#         continue\n",
    "    for simj in np.arange(1):\n",
    "        xi_simi=xi_sim_W[simj]\n",
    "#         else:\n",
    "#             xi_simi=xi_sim_Ww\n",
    "        pS=ax[0,simj]\n",
    "        pR=ax[1,simj]\n",
    "#         f=np.array([thb]*4).flatten()\n",
    "        f=thb\n",
    "        f2=f/sqrt(nsim)\n",
    "        i=0\n",
    "        pS.errorbar(thb,f*xi_simi['xi_b_stats']['std'][i_s:i_s+i_n],f*xi_simi['xi_b_stats']['std'][i_s:i_s+i_n]*0,\n",
    "                    fmt=marker,c=color,label=corr_labels[corr])\n",
    "        pS.plot(thb,f*np.sqrt(np.diag(xi_simi[th_key]['cov']))[i_s:i_s+i_n],c=color)\n",
    "\n",
    "        f=1./np.sqrt(np.diag(xi_simi[th_key]['cov']))[i_s:i_s+i_n]#/0.3\n",
    "        f2=f/sqrt(nsim)\n",
    "        pR.errorbar(thb,f*xi_simi['xi_b_stats']['std'][i_s:i_s+i_n],f2*xi_simi['xi_b_stats']['std'][i_s:i_s+i_n]*0,\n",
    "                    fmt=marker+'-',c=color,mfc=None,mew=3,zorder=10)\n",
    "        print(i_s,xi_simi['xi_b_stats']['mean'][i_s:i_s+i_n]/xi_simi['xi0']['xi'][i_s:i_s+i_n])\n",
    "        i_s+=i_n\n",
    "        if corr==corr_ll:\n",
    "            f=thb\n",
    "            pS.errorbar(thb*1.0,f*xi_simi['xi_b_stats']['std'][i_s:i_s+i_n],f*xi_simi['xi_b_stats']['std'][i_s:i_s+i_n]*0,\n",
    "                        fmt=marker,mfc='white',mew=3,c=colors[5],label=labels[corr]+'$^{BB}$')\n",
    "            pS.plot(thb,f*np.sqrt(np.diag(xi_simi[th_key]['cov']))[i_s:i_s+i_n],c=colors[5])\n",
    "            f=1./np.sqrt(np.diag(xi_simi[th_key]['cov']))[i_s:i_s+i_n]#/0.3\n",
    "            f2=f/sqrt(nsim)\n",
    "            pR.errorbar(thb,f*xi_simi['xi_b_stats']['std'][i_s:i_s+i_n],f2*xi_simi['xi_b_stats']['std'][i_s:i_s+i_n]*0,\n",
    "                    fmt=marker+'-',mfc='white',mew=3,c=colors[5],zorder=10)\n",
    "            print(i_s,xi_simi['xi_b_stats']['mean'][i_s:i_s+i_n]/xi_simi['xi0']['xi'][i_s:i_s+i_n])\n",
    "            i_s+=i_n\n",
    "\n",
    "\n",
    "        pR.set_xscale('log')\n",
    "        # yscale('log')\n",
    "#         pR.set_ylim(.95,1.08)\n",
    "#         pR.hlines(1,10,3000)\n",
    "#         pR.hlines(1.01,10,3000,ls='--',alpha=0.5,zorder=-1)\n",
    "#         pR.hlines(.99,10,3000,ls='--',alpha=0.5,zorder=-1)\n",
    "        \n",
    "        pS.set_yscale('log')\n",
    "#         pS.set_ylim(1.e-10,8.e-4)\n",
    "#         tf=.9\n",
    "#         if corr==corr_ll:\n",
    "#             pS.set_ylim(3.e-7,1.e-6)\n",
    "#             pR.set_ylim(.9,1.11)\n",
    "#             tf=1\n",
    "        pR.set_ylim(.9,1.1)\n",
    "        pR.set_xlabel(r'$\\theta$(degrees)')\n",
    "        pR.hlines(1,thb.min(),thb.max(),'k',zorder=-10)\n",
    "        pR.hlines(1.01,thb.min(),thb.max(),'k',ls='--',zorder=-10)\n",
    "        pR.hlines(.99,thb.min(),thb.max(),'k',ls='--',zorder=-10)\n",
    "        if simj==0:\n",
    "            pR.set_ylabel(r'$\\widehat{\\delta \\xi}/\\delta\\xi$')\n",
    "            pS.set_ylabel(r'$\\widehat{\\delta\\xi}$ ')\n",
    "        if corr==corr_ll:\n",
    "            if simj==0:\n",
    "                pS.text(x=2,y=1.e-5,s=r'$W_'+str(simj+1)+'$',fontsize=50)\n",
    "            if simj==1:\n",
    "                pS.text(x=2,y=1.e-5,s=r'$W_'+str(simj+1)+'$',fontsize=50)\n",
    "    corr_i+=1\n",
    "# ax[0,1].legend(ncol=4,loc='lower left',bbox_to_anchor=(-.07,0))\n",
    "# ax[0,0].set_yticks(np.logspace(-10,-4,7))\n",
    "# # fname=fig_home+'/'+corr_fnames[corr]+'_pseudo_cl_comp_sims'+str(nsim)+'_ns'+str(nside)+'_lmax'+str(lmax_cl)+'_wlmax'+str(window_lmax)+'_fsky'+str(int(f_sky*10))\n",
    "# if not use_shot_noise:\n",
    "#     fname+='_noSN'\n",
    "# if unit_window:\n",
    "#     fname+='_unit_window'\n",
    "# if smooth_window:\n",
    "#     fname+='_smooth_window'\n",
    "\n",
    "\n",
    "# fname+='.pdf'\n",
    "# fig.savefig(fname,bbox_inches='tight',format='pdf')\n",
    "# print('saved to ',fname)    \n",
    "# show()"
   ]
  },
  {
   "cell_type": "code",
   "execution_count": null,
   "metadata": {},
   "outputs": [],
   "source": [
    "f=1\n",
    "corr_i=0\n",
    "fig, ax =subplots(2,1,figsize=(20,15),sharex='col',sharey='row')\n",
    "ax=ax.reshape(2,1)\n",
    "i_s=0\n",
    "i_n=len(thb)\n",
    "th_key='xi0'\n",
    "for corr in corrs:\n",
    "    color=colors[corr_i]\n",
    "    marker=markers[corr_i]\n",
    "    print(corr,corr_i)\n",
    "#     if corr==corr_gg:\n",
    "#         i_s+=i_n\n",
    "#         continue\n",
    "    for simj in np.arange(1):\n",
    "        xi_simi=xi_sim_W[simj+1]\n",
    "#         else:\n",
    "#             xi_simi=xi_sim_Ww\n",
    "        pS=ax[0,simj]\n",
    "        pR=ax[1,simj]\n",
    "#         f=np.array([thb]*4).flatten()\n",
    "        f=thb\n",
    "        f2=f/sqrt(nsim)\n",
    "        i=0\n",
    "        pS.errorbar(thb,f*xi_simi['xi_b_stats']['mean'][i_s:i_s+i_n],f*xi_simi['xi_b_stats']['std'][i_s:i_s+i_n],\n",
    "                    fmt=marker,c=color,label=corr_labels[corr])\n",
    "        pS.plot(thb,f*xi_simi[th_key]['xi'][i_s:i_s+i_n],c=color)\n",
    "\n",
    "        f=1./xi_simi[th_key]['xi'][i_s:i_s+i_n]#/0.3\n",
    "        f2=f/sqrt(nsim)\n",
    "        pR.errorbar(thb,f*xi_simi['xi_b_stats']['mean'][i_s:i_s+i_n],f2*xi_simi['xi_b_stats']['std'][i_s:i_s+i_n],\n",
    "                    fmt=marker+'-',c=color,mfc=None,mew=3,zorder=10)\n",
    "        print(i_s,xi_simi['xi_b_stats']['mean'][i_s:i_s+i_n]/xi_simi['xi0']['xi'][i_s:i_s+i_n])\n",
    "        i_s+=i_n\n",
    "        if corr==corr_ll:\n",
    "            f=thb\n",
    "            pS.errorbar(thb*1.0,f*xi_simi['xi_b_stats']['mean'][i_s:i_s+i_n],f*xi_simi['xi_b_stats']['std'][i_s:i_s+i_n],\n",
    "                        fmt=marker,mfc='white',mew=3,c=colors[5],label=labels[corr]+'$_-$')\n",
    "            pS.plot(thb,f*xi_simi[th_key]['xi'][i_s:i_s+i_n],c=colors[5])\n",
    "            f=1./xi_simi[th_key]['xi'][i_s:i_s+i_n]#/0.3\n",
    "            f2=f/sqrt(nsim)\n",
    "            pR.errorbar(thb,f*xi_simi['xi_b_stats']['mean'][i_s:i_s+i_n],f2*xi_simi['xi_b_stats']['std'][i_s:i_s+i_n],\n",
    "                    fmt=marker+'-',mfc='white',mew=3,c=colors[5],zorder=10)\n",
    "            print(i_s,xi_simi['xi_b_stats']['mean'][i_s:i_s+i_n]/xi_simi['xi0']['xi'][i_s:i_s+i_n])\n",
    "            i_s+=i_n\n",
    "\n",
    "\n",
    "        pR.set_xscale('log')\n",
    "        # yscale('log')\n",
    "#         pR.set_ylim(.95,1.08)\n",
    "#         pR.hlines(1,10,3000)\n",
    "#         pR.hlines(1.01,10,3000,ls='--',alpha=0.5,zorder=-1)\n",
    "#         pR.hlines(.99,10,3000,ls='--',alpha=0.5,zorder=-1)\n",
    "        \n",
    "        pS.set_yscale('log')\n",
    "#         pS.set_ylim(1.e-10,8.e-4)\n",
    "#         tf=.9\n",
    "#         if corr==corr_ll:\n",
    "#             pS.set_ylim(3.e-7,1.e-6)\n",
    "#             pR.set_ylim(.9,1.11)\n",
    "#             tf=1\n",
    "        pR.set_ylim(.95,1.051)\n",
    "        pR.set_xlabel(r'$\\theta$ (degrees)')\n",
    "        pR.hlines(1,thb.min(),thb.max(),'k',zorder=-10)\n",
    "        pR.hlines(1.01,thb.min(),thb.max(),'k',ls='--',zorder=-10)\n",
    "        pR.hlines(.99,thb.min(),thb.max(),'k',ls='--',zorder=-10)\n",
    "        if simj==0:\n",
    "            pR.set_ylabel(r'$\\widehat{\\xi}/\\xi$')\n",
    "            pS.set_ylabel(r'$\\widehat{\\xi}$ ')\n",
    "        if corr==corr_ll:\n",
    "            if simj==0:\n",
    "                pS.text(x=2,y=1.e-5,s=r'$W_'+str(simj+1)+'$',fontsize=50)\n",
    "            if simj==1:\n",
    "                pS.text(x=2,y=1.e-5,s=r'$W_'+str(simj+1)+'$',fontsize=50)\n",
    "    corr_i+=1\n",
    "pS.legend(ncol=4,loc='lower left',bbox_to_anchor=(-.07,0))\n",
    "# ax[0,0].set_yticks(np.logspace(-10,-4,7))\n",
    "# # fname=fig_home+'/'+corr_fnames[corr]+'_pseudo_cl_comp_sims'+str(nsim)+'_ns'+str(nside)+'_lmax'+str(lmax_cl)+'_wlmax'+str(window_lmax)+'_fsky'+str(int(f_sky*10))\n",
    "# if not use_shot_noise:\n",
    "#     fname+='_noSN'\n",
    "# if unit_window:\n",
    "#     fname+='_unit_window'\n",
    "# if smooth_window:\n",
    "#     fname+='_smooth_window'\n",
    "\n",
    "\n",
    "# fname+='.pdf'\n",
    "# fig.savefig(fname,bbox_inches='tight',format='pdf')\n",
    "# print('saved to ',fname)    \n",
    "show()"
   ]
  },
  {
   "cell_type": "code",
   "execution_count": null,
   "metadata": {},
   "outputs": [],
   "source": [
    "xi_simi['xiW0']['xi']/xi_simi['xi0']['xi']"
   ]
  },
  {
   "cell_type": "code",
   "execution_count": null,
   "metadata": {},
   "outputs": [],
   "source": [
    "f=1\n",
    "corr_i=0\n",
    "fig, ax =subplots(2,1,figsize=(20,15),sharex='col',sharey='row')\n",
    "ax=ax.reshape(2,1)\n",
    "i_s=0\n",
    "i_n=len(thb)\n",
    "th_key='xiW0'\n",
    "for corr in corrs:\n",
    "    color=colors[corr_i]\n",
    "    marker=markers[corr_i]\n",
    "    print(corr,corr_i)\n",
    "#     if corr==corr_gg:\n",
    "#         i_s+=i_n\n",
    "#         continue\n",
    "    for simj in np.arange(1):\n",
    "        xi_simi=xi_sim_W[simj+1]\n",
    "#         else:\n",
    "#             xi_simi=xi_sim_Ww\n",
    "        pS=ax[0,simj]\n",
    "        pR=ax[1,simj]\n",
    "#         f=np.array([thb]*4).flatten()\n",
    "        f=thb\n",
    "        f2=f/sqrt(nsim)\n",
    "        i=0\n",
    "        pS.errorbar(thb,f*xi_simi['xi_b_stats']['std'][i_s:i_s+i_n],f*xi_simi['xi_b_stats']['std'][i_s:i_s+i_n]*0,\n",
    "                    fmt=marker,c=color,label=corr_labels[corr])\n",
    "        pS.plot(thb,f*np.sqrt(np.diag(xi_simi[th_key]['cov']))[i_s:i_s+i_n],c=color)\n",
    "\n",
    "        f=1./np.sqrt(np.diag(xi_simi[th_key]['cov']))[i_s:i_s+i_n]#/0.3\n",
    "        f2=f/sqrt(nsim)\n",
    "        pR.errorbar(thb,f*xi_simi['xi_b_stats']['std'][i_s:i_s+i_n],f2*xi_simi['xi_b_stats']['std'][i_s:i_s+i_n]*0,\n",
    "                    fmt=marker+'-',c=color,mfc=None,mew=3,zorder=10)\n",
    "        print(i_s,xi_simi['xi_b_stats']['mean'][i_s:i_s+i_n]/xi_simi['xi0']['xi'][i_s:i_s+i_n])\n",
    "        i_s+=i_n\n",
    "        if corr==corr_ll:\n",
    "            f=thb\n",
    "            pS.errorbar(thb*1.0,f*xi_simi['xi_b_stats']['std'][i_s:i_s+i_n],f*xi_simi['xi_b_stats']['std'][i_s:i_s+i_n]*0,\n",
    "                        fmt=marker,mfc='white',mew=3,c=colors[5],label=labels[corr]+'$^{BB}$')\n",
    "            pS.plot(thb,f*np.sqrt(np.diag(xi_simi[th_key]['cov']))[i_s:i_s+i_n],c=colors[5])\n",
    "            f=1./np.sqrt(np.diag(xi_simi[th_key]['cov']))[i_s:i_s+i_n]#/0.3\n",
    "            f2=f/sqrt(nsim)\n",
    "            pR.errorbar(thb,f*xi_simi['xi_b_stats']['std'][i_s:i_s+i_n],f2*xi_simi['xi_b_stats']['std'][i_s:i_s+i_n]*0,\n",
    "                    fmt=marker+'-',mfc='white',mew=3,c=colors[5],zorder=10)\n",
    "            print(i_s,xi_simi['xi_b_stats']['mean'][i_s:i_s+i_n]/xi_simi['xi0']['xi'][i_s:i_s+i_n])\n",
    "            i_s+=i_n\n",
    "\n",
    "\n",
    "        pR.set_xscale('log')\n",
    "        # yscale('log')\n",
    "#         pR.set_ylim(.95,1.08)\n",
    "#         pR.hlines(1,10,3000)\n",
    "#         pR.hlines(1.01,10,3000,ls='--',alpha=0.5,zorder=-1)\n",
    "#         pR.hlines(.99,10,3000,ls='--',alpha=0.5,zorder=-1)\n",
    "        \n",
    "        pS.set_yscale('log')\n",
    "#         pS.set_ylim(1.e-10,8.e-4)\n",
    "#         tf=.9\n",
    "#         if corr==corr_ll:\n",
    "#             pS.set_ylim(3.e-7,1.e-6)\n",
    "#             pR.set_ylim(.9,1.11)\n",
    "#             tf=1\n",
    "        pR.set_ylim(.9,1.1)\n",
    "        pR.set_xlabel(r'$\\theta$(degrees)')\n",
    "        pR.hlines(1,thb.min(),thb.max(),'k',zorder=-10)\n",
    "        pR.hlines(1.01,thb.min(),thb.max(),'k',ls='--',zorder=-10)\n",
    "        pR.hlines(.99,thb.min(),thb.max(),'k',ls='--',zorder=-10)\n",
    "        if simj==0:\n",
    "            pR.set_ylabel(r'$\\widehat{\\delta \\xi}/\\delta\\xi$')\n",
    "            pS.set_ylabel(r'$\\widehat{\\delta\\xi}$ ')\n",
    "        if corr==corr_ll:\n",
    "            if simj==0:\n",
    "                pS.text(x=2,y=1.e-5,s=r'$W_'+str(simj+1)+'$',fontsize=50)\n",
    "            if simj==1:\n",
    "                pS.text(x=2,y=1.e-5,s=r'$W_'+str(simj+1)+'$',fontsize=50)\n",
    "    corr_i+=1\n",
    "# ax[0,1].legend(ncol=4,loc='lower left',bbox_to_anchor=(-.07,0))\n",
    "# ax[0,0].set_yticks(np.logspace(-10,-4,7))\n",
    "# # fname=fig_home+'/'+corr_fnames[corr]+'_pseudo_cl_comp_sims'+str(nsim)+'_ns'+str(nside)+'_lmax'+str(lmax_cl)+'_wlmax'+str(window_lmax)+'_fsky'+str(int(f_sky*10))\n",
    "# if not use_shot_noise:\n",
    "#     fname+='_noSN'\n",
    "# if unit_window:\n",
    "#     fname+='_unit_window'\n",
    "# if smooth_window:\n",
    "#     fname+='_smooth_window'\n",
    "\n",
    "\n",
    "# fname+='.pdf'\n",
    "# fig.savefig(fname,bbox_inches='tight',format='pdf')\n",
    "# print('saved to ',fname)    \n",
    "show()"
   ]
  },
  {
   "cell_type": "raw",
   "metadata": {},
   "source": [
    "nside=1024\n",
    "l00=np.arange(nside*3-1)"
   ]
  },
  {
   "cell_type": "raw",
   "metadata": {},
   "source": [
    "kappa0=Skylens(zs_bins=zs_bin[0],do_cov=do_cov,bin_cl=bin_cl,l_bins=l_bins,l=l00, zg_bins=zl_bin[0],\n",
    "            use_window=False,store_win=store_win,corrs=corrs,window_lmax=window_lmax,\n",
    "            SSV_cov=True,tidal_SSV_cov=True,f_sky=f_sky,use_binned_l=False,do_pseudo_cl=False,\n",
    "            WT=WT_L,bin_xi=bin_xi,theta_bins=th_bins,do_xi=do_xi,xi_win_approx=True)\n",
    "\n",
    "%time clG0=kappa0.cl_tomo(corrs=corrs) \n",
    "# %time cl0=clG0['stack'].compute()\n",
    "\n",
    "if do_xi:\n",
    "    %time xiG_L0=kappa0.xi_tomo()\n",
    "    %time xi_L0=xiG_L0['stack'].compute()"
   ]
  },
  {
   "cell_type": "raw",
   "metadata": {},
   "source": [
    "cl00={}\n",
    "window_norm={}\n",
    "for corr in corrs:\n",
    "    cl00[corr]=clG0['cl'][corr][bi].compute()\n",
    "    window_norm[corr]=1\n",
    "cl00['shear_B']=cl00[corr_ll]*0"
   ]
  },
  {
   "cell_type": "raw",
   "metadata": {},
   "source": [
    "cl00=(cl00[corr_gg],cl00[corr_ll],cl00['shear_B'],cl00[corr_ggl])"
   ]
  },
  {
   "cell_type": "raw",
   "metadata": {},
   "source": [
    "cl_map=hp.synfast(cl00,nside=nside,new=True,pol=True,verbose=False)"
   ]
  },
  {
   "cell_type": "code",
   "execution_count": null,
   "metadata": {},
   "outputs": [],
   "source": [
    "corr_config = {'min_sep':th_min*60, 'max_sep':th_max*60, 'nbins':n_th_bins, 'sep_units':'arcmin','metric':'Arc','bin_slop':False}\n",
    "def get_treecorr_cat_args(maps,masks=None):\n",
    "    tree_cat_args={}\n",
    "    if masks is None:\n",
    "        masks={}\n",
    "        for tracer in maps.keys():\n",
    "            masks[tracer]=maps[tracer]==hp.UNSEEN\n",
    "    for tracer in maps.keys():\n",
    "        seen_indices = np.where( ~masks[tracer] )[0]\n",
    "        theta, phi = hp.pix2ang(nside, seen_indices)\n",
    "        ra = np.degrees(np.pi*2.-phi)\n",
    "        dec = -np.degrees(theta-np.pi/2.)\n",
    "        tree_cat_args[tracer] = {'ra':ra, 'dec':dec, 'ra_units':'degrees', 'dec_units':'degrees'}\n",
    "    return tree_cat_args\n",
    "def get_xi(map,window_norm,mask=None):\n",
    "    \n",
    "    maps={'galaxy':map[0]}\n",
    "    maps['shear']={0:map[1],1:map[2]}\n",
    "    if mask is None:\n",
    "        mask={}\n",
    "        mask['galaxy']=maps['galaxy']==hp.UNSEEN\n",
    "        mask['shear']=maps['shear'][0]==hp.UNSEEN\n",
    "    tree_cat_args=get_treecorr_cat_args(maps,masks=mask)\n",
    "    tree_cat={}\n",
    "    tree_cat['galaxy']=treecorr.Catalog(w=maps['galaxy'][~mask['galaxy']], **tree_cat_args['galaxy']) \n",
    "    tree_cat['shear']=treecorr.Catalog(g1=maps['shear'][0][~mask['shear']],g2=maps['shear'][1][~mask['shear']], **tree_cat_args['shear'])\n",
    "    del mask\n",
    "    ndim=3 #FIXME\n",
    "    xi={} #np.zeros(n_th_bins*(ndim+1))\n",
    "    th_i=0\n",
    "    tree_corrs={}\n",
    "    for corr in corrs:\n",
    "        if corr==corr_ggl:\n",
    "            tree_corrs[corr]=treecorr.NGCorrelation(**corr_config)\n",
    "            tree_corrs[corr].process(tree_cat['galaxy'],tree_cat['shear'])\n",
    "            xi[corr]=tree_corrs[corr].xi*tree_corrs[corr].weight/tree_corrs[corr].npairs/window_norm[corr]*-1 #sign convention \n",
    "                #\n",
    "            th_i+=n_th_bins\n",
    "        if corr==corr_ll:\n",
    "            tree_corrs[corr]=treecorr.GGCorrelation(**corr_config)\n",
    "            tree_corrs[corr].process(tree_cat['shear'])\n",
    "            xi[corr]={}\n",
    "            xi[corr]['p']=tree_corrs[corr].xip/window_norm[corr] #*(tree_corrs[corr].weight\n",
    "            th_i+=n_th_bins\n",
    "            xi[corr]['m']=tree_corrs[corr].xim/window_norm[corr]\n",
    "            th_i+=n_th_bins\n",
    "        if corr==corr_gg:\n",
    "            tree_corrs[corr]=treecorr.NNCorrelation(**corr_config)\n",
    "            tree_corrs[corr].process(tree_cat['galaxy'])\n",
    "            xi[corr]=tree_corrs[corr].weight/tree_corrs[corr].npairs/window_norm[corr]  #\n",
    "#             xi[th_i:th_i+n_th_bins]=tree_corrs[corr].weight/window_norm[corr]\n",
    "            th_i+=n_th_bins\n",
    "    del tree_cat,tree_corrs\n",
    "    gc.collect()\n",
    "    return xi"
   ]
  },
  {
   "cell_type": "raw",
   "metadata": {},
   "source": [
    "xi_sim0=get_xi(cl_map,window_norm,mask=None)"
   ]
  },
  {
   "cell_type": "raw",
   "metadata": {},
   "source": [
    "xiG_L0['xi'][corr_gg][bi][bi].keys()"
   ]
  },
  {
   "cell_type": "raw",
   "metadata": {},
   "source": [
    "corr=corr_gg\n",
    "plot(thb,xi_sim0[corr]/xiG_L0['xi'][corr][(0,0)][bi].compute())\n",
    "xscale('log')\n",
    "hlines(1,0.2,10,'k')\n",
    "ylim(0.9,1.1)"
   ]
  },
  {
   "cell_type": "raw",
   "metadata": {},
   "source": [
    "corr=corr_ll\n",
    "\n",
    "plot(thb,xi_sim0[corr]['m']/xiG_L0['xi'][corr][(2,-2)][bi].compute())\n",
    "xscale('log')\n",
    "hlines(1,0.2,10,'k')\n",
    "ylim(0.9,1.1)"
   ]
  },
  {
   "cell_type": "raw",
   "metadata": {},
   "source": [
    "xi_win[1]['xi']/xi_L0['xi']"
   ]
  },
  {
   "cell_type": "code",
   "execution_count": null,
   "metadata": {},
   "outputs": [],
   "source": [
    "xi_simi=xi_sim_W[0]"
   ]
  },
  {
   "cell_type": "code",
   "execution_count": null,
   "metadata": {},
   "outputs": [],
   "source": [
    "xi_simi['xi_window_norm']['full'][corr_gg]#/xi_simi['xi_window_norm']['full'][corr_ll][0]"
   ]
  },
  {
   "cell_type": "code",
   "execution_count": null,
   "metadata": {},
   "outputs": [],
   "source": [
    "bi=(0,0)"
   ]
  },
  {
   "cell_type": "code",
   "execution_count": null,
   "metadata": {},
   "outputs": [],
   "source": [
    "kappa_win[0].f_sky[corr_ll][bi]"
   ]
  },
  {
   "cell_type": "code",
   "execution_count": null,
   "metadata": {},
   "outputs": [],
   "source": [
    "plot(kappa_win[0].Win.Win['cl'][corr_ll][bi]['xi_b'])\n",
    "plot(xi_simi['xi_window_norm']['full'][corr_ll],'--')"
   ]
  },
  {
   "cell_type": "code",
   "execution_count": null,
   "metadata": {},
   "outputs": [],
   "source": [
    "zs_bin[0].keys()"
   ]
  },
  {
   "cell_type": "code",
   "execution_count": null,
   "metadata": {},
   "outputs": [],
   "source": [
    "ww=zs_bin[0][0]['window']\n",
    "mask=ww>-1.e15\n",
    "hp.mollview(ww)"
   ]
  },
  {
   "cell_type": "code",
   "execution_count": null,
   "metadata": {},
   "outputs": [],
   "source": [
    "ww[mask].mean()"
   ]
  },
  {
   "cell_type": "code",
   "execution_count": null,
   "metadata": {},
   "outputs": [],
   "source": [
    "cl=hp.anafast(ww)\n",
    "ww2=ww/np.sqrt(cl[0])\n",
    "ww2[~mask]=hp.UNSEEN\n",
    "\n",
    "cl2=hp.anafast(ww2)\n",
    "l=np.arange(len(cl))\n",
    "plot(l,cl)\n",
    "plot(l,cl2)\n",
    "loglog()"
   ]
  },
  {
   "cell_type": "code",
   "execution_count": null,
   "metadata": {},
   "outputs": [],
   "source": [
    "cl[0],cl2[0],ww[mask].mean()"
   ]
  },
  {
   "cell_type": "code",
   "execution_count": null,
   "metadata": {},
   "outputs": [],
   "source": [
    "tht,xi_ww_th=WT_L.projected_correlation(l_cl=l,cl=cl,s1_s2=(0,0))\n",
    "tht,xi_ww_th2=WT_L.projected_correlation(l_cl=l,cl=cl2,s1_s2=(0,0))"
   ]
  },
  {
   "cell_type": "code",
   "execution_count": null,
   "metadata": {},
   "outputs": [],
   "source": [
    "ttq=get_treecorr_cat_args(maps={'galaxy':ww})"
   ]
  },
  {
   "cell_type": "code",
   "execution_count": null,
   "metadata": {},
   "outputs": [],
   "source": [
    "tree_catw=treecorr.Catalog(w=ww[mask], **ttq['galaxy'])\n",
    "tree_corrw=treecorr.NNCorrelation(**corr_config)\n",
    "tree_corrw.process(tree_catw)"
   ]
  },
  {
   "cell_type": "code",
   "execution_count": null,
   "metadata": {},
   "outputs": [],
   "source": [
    "tree_catw2=treecorr.Catalog(w=ww2[mask], **ttq['galaxy'])\n",
    "tree_corrw2=treecorr.NNCorrelation(**corr_config)\n",
    "tree_corrw2.process(tree_catw2)"
   ]
  },
  {
   "cell_type": "code",
   "execution_count": null,
   "metadata": {},
   "outputs": [],
   "source": []
  },
  {
   "cell_type": "code",
   "execution_count": null,
   "metadata": {},
   "outputs": [],
   "source": [
    "npix=hp.nside2npix(nside)\n",
    "na=hp.nside2pixarea(nside=nside,degrees=True)\n",
    "ar=np.pi*(th_bins[1:]**2-th_bins[:-1]**2)\n",
    "npairs2=npix*ar/na*f_sky"
   ]
  },
  {
   "cell_type": "code",
   "execution_count": null,
   "metadata": {},
   "outputs": [],
   "source": [
    "nside_t=128\n",
    "npix=hp.nside2npix(nside_t)\n",
    "na=hp.nside2pixarea(nside=nside_t,degrees=True)\n",
    "npairs2=npix*ar/na\n",
    "\n",
    "wt=np.ones(npix)\n",
    "ttqt=get_treecorr_cat_args(maps={'galaxy':wt})\n",
    "tree_catwt=treecorr.Catalog(w=wt, **ttqt['galaxy'])\n",
    "tree_corrwt=treecorr.NNCorrelation(**corr_config)\n",
    "tree_corrwt.process(tree_catwt)\n",
    "\n",
    "wt2=wt*1.\n",
    "wt2[int(npix/3):]=hp.UNSEEN\n",
    "maskt=wt2==hp.UNSEEN\n",
    "ttqt2=get_treecorr_cat_args(maps={'galaxy':wt2},masks={'galaxy':maskt})\n",
    "tree_catwt2=treecorr.Catalog(w=wt2[~maskt], **ttqt2['galaxy'])\n",
    "tree_corrwt2=treecorr.NNCorrelation(**corr_config)\n",
    "tree_corrwt2.process(tree_catwt2)"
   ]
  },
  {
   "cell_type": "code",
   "execution_count": null,
   "metadata": {},
   "outputs": [],
   "source": [
    "tree_corrwt2.npairs/tree_corrwt.npairs"
   ]
  },
  {
   "cell_type": "code",
   "execution_count": null,
   "metadata": {},
   "outputs": [],
   "source": [
    "hp.mollview(wt)"
   ]
  },
  {
   "cell_type": "code",
   "execution_count": null,
   "metadata": {},
   "outputs": [],
   "source": [
    "tree_corrwt.npairs/npairs2"
   ]
  },
  {
   "cell_type": "code",
   "execution_count": null,
   "metadata": {},
   "outputs": [],
   "source": [
    "tree_corrw.weight/npairs2*2"
   ]
  },
  {
   "cell_type": "code",
   "execution_count": null,
   "metadata": {},
   "outputs": [],
   "source": [
    "tree_corrw.npairs/npairs2*2"
   ]
  },
  {
   "cell_type": "code",
   "execution_count": null,
   "metadata": {},
   "outputs": [],
   "source": [
    "tree_corrw.weight/tree_corrw.npairs"
   ]
  },
  {
   "cell_type": "code",
   "execution_count": null,
   "metadata": {},
   "outputs": [],
   "source": [
    "tree_corrw2.weight/tree_corrw2.npairs"
   ]
  },
  {
   "cell_type": "code",
   "execution_count": null,
   "metadata": {},
   "outputs": [],
   "source": [
    "tree_corrw2.weight,tree_corrw2.npairs"
   ]
  },
  {
   "cell_type": "code",
   "execution_count": null,
   "metadata": {},
   "outputs": [],
   "source": [
    "# plot(thb,kappa_win[0].Win.Win['cl'][corr_ll][bi]['xi_b'])\n",
    "plot(th,1+xi_ww_th)\n",
    "# plot(th,xi_ww_th2)\n",
    "plot(thb,xi_simi['xi_window_norm']['full'][corr_ll]*1.5,'--')\n",
    "plot(thb,tree_corrw.weight/npairs2*2*1.6,':')\n",
    "xscale('log')"
   ]
  },
  {
   "cell_type": "code",
   "execution_count": null,
   "metadata": {},
   "outputs": [],
   "source": [
    "th_bins"
   ]
  },
  {
   "cell_type": "code",
   "execution_count": null,
   "metadata": {},
   "outputs": [],
   "source": []
  },
  {
   "cell_type": "code",
   "execution_count": null,
   "metadata": {},
   "outputs": [],
   "source": []
  },
  {
   "cell_type": "code",
   "execution_count": null,
   "metadata": {},
   "outputs": [],
   "source": [
    "th,xi_spin=WT_L.projected_correlation(l_cl=kappa_win[0].Win.window_l,cl=kappa_win[0].Win.Win['cl'][corr_ll][bi][12]['cl'],\n",
    "                                   s1_s2=(2,-2))"
   ]
  },
  {
   "cell_type": "code",
   "execution_count": null,
   "metadata": {},
   "outputs": [],
   "source": [
    "xi_spin"
   ]
  },
  {
   "cell_type": "code",
   "execution_count": null,
   "metadata": {},
   "outputs": [],
   "source": [
    "xi_simi['xi_b_stats']['mean']/xi_simi['xi0']['xi']"
   ]
  },
  {
   "cell_type": "raw",
   "metadata": {},
   "source": [
    "plot(lb,cl0_win[0]['cl_b'][corr])\n",
    "plot(lb,cl_simi['clp0'][corr],'--')\n",
    "loglog()"
   ]
  },
  {
   "cell_type": "code",
   "execution_count": null,
   "metadata": {},
   "outputs": [],
   "source": []
  },
  {
   "cell_type": "raw",
   "metadata": {
    "scrolled": false
   },
   "source": [
    "corr=corr_ll\n",
    "f=lb\n",
    "color=colors[0]\n",
    "f2=f/np.sqrt(10)\n",
    "for simj in np.arange(2):\n",
    "    cl_simi=xi_sim_W[simj]\n",
    "    cl0_wini=cl0_win[simj]\n",
    "    cl0i=cl0#[simj]\n",
    "    errorbar(lb,f*cl_simi['clp_b_stats'][corr]['mean'],f2*cl_simi['clp_b_stats'][corr]['std'],fmt='o',c=color)\n",
    "    #     plot(lb,f*xi_sim_W['clp0'][corr],label=labels[corr])\n",
    "    plot(lb,f*cl0_wini['cl_b'][corr],label=labels[corr],c=color)\n",
    "    # plot(lb,f*xi_sim_W['clp0'][corr],c=color)\n",
    "    if corr==corr_ll:\n",
    "        errorbar(lb*1.03,f*cl_simi['clpB_b_stats'][corr_gg]['mean'],f2*cl_simi['clpB_b_stats'][corr_gg]['std'],fmt='^',c=color)\n",
    "        plot(lb*1.03,f*cl_simi['clp_shear_B_b'],label=labels[corr]+'-BB',c=color)\n",
    "\n",
    "\n",
    "    xscale('log')\n",
    "    yscale('log')\n",
    "    # ylim(5.e-10,1.e-7)\n",
    "    xlim(10,1000)\n",
    "    show()\n",
    "    corr=corr_ll\n",
    "    f=lb\n",
    "    errorbar(lb,f*cl_simi['clg_b_stats']['iMaster'][corr]['mean'],f2*cl_simi['clg_b_stats']['iMaster'][corr]['std'],fmt='o',c=color)\n",
    "    #     plot(lb,f*xi_sim_W['clp0'][corr],label=labels[corr])\n",
    "    plot(lb,f*cl0i['cl_b'][corr],label=labels[corr],c=color)\n",
    "    if corr==corr_ll:\n",
    "    #     f=0\n",
    "        errorbar(lb*1.03,f*cl_simi['clgB_b_stats']['iMaster'][corr_ll]['mean'],f2*cl_simi['clgB_b_stats']['iMaster'][corr_ll]['std'],fmt='^',c=color)\n",
    "    #     plot(lb,f*xi_sim_Ww_test['clp_shear_B_b'],label=labels[corr]+'-BB',c=color)\n",
    "\n",
    "    xscale('log')\n",
    "    # yscale('log')\n",
    "    xlim(10,1000)\n",
    "\n",
    "    show()"
   ]
  },
  {
   "cell_type": "raw",
   "metadata": {},
   "source": [
    "for simj in np.arange(2):\n",
    "    cl_simi=xi_sim_W[simj]\n",
    "    corr_m=corr_matrix(cl_simi['clp_b_stats'][corr_ll]['cov'])\n",
    "    pcolor(lb,lb,corr_m,vmin=-1,vmax=1,cmap='seismic')\n",
    "    loglog()\n",
    "    show()"
   ]
  },
  {
   "cell_type": "code",
   "execution_count": null,
   "metadata": {},
   "outputs": [],
   "source": [
    "corr=corr_ll\n",
    "bi=(0,0)"
   ]
  },
  {
   "cell_type": "raw",
   "metadata": {},
   "source": [
    "# errorbar(l,xi_sim_W['clp_stats']['mean'],xi_sim_W['clp_stats']['std'],fmt='ro')\n",
    "f=lb\n",
    "i=0\n",
    "for corr in corrs:\n",
    "    color=colors[i%len(colors)]\n",
    "    errorbar(lb,f*xi_sim_W['clp_b_stats'][corr]['mean'],f*xi_sim_W['clp_b_stats'][corr]['std'],fmt='o',c=color)\n",
    "#     plot(lb,f*xi_sim_W['clp0'][corr],label=labels[corr])\n",
    "    plot(lb,f*cl0_win['cl_b'][corr],label=labels[corr])\n",
    "    if corr==corr_ll:\n",
    "        errorbar(lb,f*xi_sim_W['clpB_b_stats'][corr_gg]['mean'],f*xi_sim_W['clpB_b_stats'][corr_gg]['std'],fmt='^',mfc='white',mew=3,c=color)\n",
    "        plot(lb,f*xi_sim_W['clp_shear_B_b'],label=labels[corr]+'$^{BB}$',c=color)\n",
    "    \n",
    "    i+=1\n",
    "# plot(l,cl_sim_N['clg_stats']['mean'],'g--')\n",
    "xscale('log')\n",
    "yscale('log')\n",
    "xlabel(r'$\\ell$')\n",
    "ylabel(r'$D_\\ell$ (W1)')\n",
    "legend(ncol=4)\n",
    "ylim(1.e-8,1.e-3)\n",
    "xlim(10,nside)"
   ]
  },
  {
   "cell_type": "raw",
   "metadata": {},
   "source": [
    "for simj in np.arange(2):\n",
    "    cl_simi=xi_sim_W[simj]\n",
    "    cov_t=cl_simi['clpB_b_stats'][corr_gg]['cov']\n",
    "    SN2B=cl_simi['clpB_b_stats'][corr_gg]['mean']@np.linalg.inv(cov_t)@cl_simi['clpB_b_stats'][corr_gg]['mean']\n",
    "    cov_t=cl_simi['clp_b_stats'][corr_ll]['cov']\n",
    "    SN2=cl_simi['clp_b_stats'][corr_ll]['mean']@np.linalg.inv(cov_t)@cl_simi['clp_b_stats'][corr_ll]['mean']\n",
    "    print(np.sqrt(SN2),np.sqrt(SN2B))"
   ]
  },
  {
   "cell_type": "raw",
   "metadata": {
    "scrolled": false
   },
   "source": [
    "# errorbar(l,xi_sim_W['clp_stats']['mean'],xi_sim_W['clp_stats']['std'],fmt='ro')\n",
    "f=lb\n",
    "i=0\n",
    "for simj in np.arange(2):\n",
    "    cl_simi=xi_sim_W[simj]\n",
    "    cl0_wini=cl0_win[simj]\n",
    "    for corr in corrs:\n",
    "        color=colors[i%len(colors)]\n",
    "        errorbar(lb,f*cl_simi['clp_b_stats'][corr]['mean'],f*cl_simi['clp_b_stats'][corr]['std'],fmt='o',c=color)\n",
    "    #     plot(lb,f*xi_sim_W['clp0'][corr],label=labels[corr])\n",
    "        plot(lb,f*cl0_wini['cl_b'][corr],label=labels[corr],c=color)\n",
    "        if corr==corr_ll:\n",
    "            errorbar(lb,f*cl_simi['clpB_b_stats'][corr_gg]['mean'],f*cl_simi['clpB_b_stats'][corr_gg]['std'],fmt='^',c=color)\n",
    "            plot(lb,f*cl_simi['clp_shear_B_b'],label=labels[corr]+'-BB',c=color)\n",
    "\n",
    "        i+=1\n",
    "        # plot(l,cl_sim_N['clg_stats']['mean'],'g--')\n",
    "        xscale('log')\n",
    "    #     yscale('log')\n",
    "        xlabel(r'$\\ell$')\n",
    "        ylabel(r'$D_\\ell$ (W1)')\n",
    "        legend()\n",
    "        if corr==corr_ll:\n",
    "            ylim(.8e-9,1.e-6)\n",
    "            yscale('log')\n",
    "        xlim(10,nside)\n",
    "        show()"
   ]
  },
  {
   "cell_type": "raw",
   "metadata": {},
   "source": [
    "cl_shear_B=kappa_win.SN[corr_ll][:,0,0]@xi_sim_W['coupling_M'][corr_ll]\n",
    "cl_shear_B_b=M_binnings[corr_ll].bin_1d(xi=cl_shear_B,bin_utils=M_binning_utils[corr_ll])"
   ]
  },
  {
   "cell_type": "raw",
   "metadata": {},
   "source": [
    "corr=corr_ll\n",
    "xi_sim_W['coupling_M_binned']['iMaster']['shear_B']=M_binnings[corr].bin_2d_coupling(cov=xi_sim_W['coupling_M']['shear_B'].T,bin_utils=M_binning_utils[corr])\n",
    "xi_sim_W['coupling_M_binned']['iMaster']['shear_B']=xi_sim_W['coupling_M_binned']['iMaster']['shear_B'].T  #t\n",
    "\n",
    "xi_sim_W['coupling_M_binned_inv']['iMaster']['shear_B']=np.linalg.inv(xi_sim_W['coupling_M_binned']['iMaster']['shear_B'])\n",
    "\n",
    "xi_sim_Ww['coupling_M_binned']['iMaster']['shear_B']=M_binnings[corr].bin_2d_coupling(cov=xi_sim_Ww['coupling_M']['shear_B'].T,bin_utils=M_binning_utils[corr])\n",
    "xi_sim_Ww['coupling_M_binned']['iMaster']['shear_B']=xi_sim_Ww['coupling_M_binned']['iMaster']['shear_B'].T\n",
    "xi_sim_Ww['coupling_M_binned_inv']['iMaster']['shear_B']=np.linalg.inv(xi_sim_Ww['coupling_M_binned']['iMaster']['shear_B'])\n",
    "\n"
   ]
  },
  {
   "cell_type": "raw",
   "metadata": {},
   "source": [
    "cl_shear_B_b@xi_sim_W['coupling_M_binned_inv']['iMaster']['shear_B']"
   ]
  },
  {
   "cell_type": "code",
   "execution_count": null,
   "metadata": {},
   "outputs": [],
   "source": [
    "outp[0]['simW'].keys()"
   ]
  },
  {
   "cell_type": "code",
   "execution_count": null,
   "metadata": {},
   "outputs": [],
   "source": [
    "outp[simj]['zs_bin1']['SN'].keys()"
   ]
  },
  {
   "cell_type": "raw",
   "metadata": {},
   "source": [
    "for simj in np.arange(2):\n",
    "    cl_simi=xi_sim_W[simj]\n",
    "    cl0_wini=cl0_win[simj]\n",
    "    cl0_wini=cl0_win[simj]#\n",
    "    clt=cl0i['cl'][corr_ll]+outp[simj]['zs_bin1']['SN']['shear'][0,0]#kappa_win[simj].SN[corr_ll][0,0,0]\n",
    "    corr=corr_gg\n",
    "    # cl_shear_B=kappa_win.SN[corr_ll][:,0,0]@xi_sim_W['coupling_M'][corr_ll]+clt@xi_sim_W['coupling_M']['shear_B']\n",
    "    # cl_shear_B_b=M_binnings[corr_ll].bin_1d(xi=cl_shear_B,bin_utils=M_binning_utils[corr_ll])\n",
    "    errorbar(lb,cl_simi['clpB_b_stats'][corr]['mean']/cl_simi['clp_shear_B_b'],cl_simi['clpB_b_stats'][corr]['std']/cl_simi['clp_shear_B_b']/sqrt(nsim))\n",
    "    # errorbar(lb,xi_sim_Ww['clpB_b_stats'][corr]['mean']/xi_sim_Ww['clp_shear_B_b'],xi_sim_Ww['clpB_b_stats'][corr]['std']/xi_sim_Ww['clp_shear_B_b']/sqrt(nsim))\n",
    "    # plot(lb,cl_shear_B_b/xi_sim_W['clp_shear_B_b'])\n",
    "    xscale('log')\n",
    "    # yscale('log')\n",
    "    # ylim(0.99,1.05)\n",
    "    xlim(10,1000)\n",
    "    hlines(1,10,2000)\n",
    "    show()"
   ]
  },
  {
   "cell_type": "raw",
   "metadata": {},
   "source": [
    "for simj in np.arange(2):\n",
    "    cl_simi=xi_sim_W[simj]\n",
    "    corr_m=corr_matrix(cl_simi['clpB_b_stats'][corr_ll]['cov'])\n",
    "    pcolor(lb,lb,corr_m,vmin=-1,vmax=1,cmap='seismic')\n",
    "    loglog()\n",
    "    show()"
   ]
  },
  {
   "cell_type": "raw",
   "metadata": {},
   "source": [
    "# errorbar(l,xi_sim_W['clp_stats']['mean'],xi_sim_W['clp_stats']['std'],fmt='ro')\n",
    "f=1#lb\n",
    "for simj in np.arange(2):\n",
    "    cl_simi=xi_sim_W[simj]\n",
    "    cl0_wini=cl0_win[simj]\n",
    "    i=0\n",
    "    for corr in corrs:\n",
    "        color=colors[i%len(colors)]\n",
    "    #     errorbar(lb*(1+i*0.03),xi_sim_W['clp_b_stats'][corr]['mean']/xi_sim_W['clp0'][corr],xi_sim_W['clp_b_stats'][corr]['std']/xi_sim_W['clp0'][corr]/30,\n",
    "    #              fmt='o-',c=color,label=labels[corr])\n",
    "        errorbar(lb*(1+i*0.03),cl_simi['clp_b_stats'][corr]['mean']/cl0_wini['cl_b'][corr],\n",
    "                 cl_simi['clp_b_stats'][corr]['std']/cl0_wini['cl_b'][corr]/sqrt(nsim),\n",
    "                 fmt='o-',c=color,label=labels[corr])\n",
    "        i+=1\n",
    "    # plot(l,cl_sim_N['clg_stats']['mean'],'g--')\n",
    "    xscale('log')\n",
    "    # yscale('log')\n",
    "    xlabel(r'$\\ell$')\n",
    "    ylabel(r'$D_\\ell$ (W1)')\n",
    "    hlines(1,10,3000)\n",
    "    hlines(1.01,10,3000,ls=':')\n",
    "    hlines(.99,10,3000,ls=':')\n",
    "    legend(ncol=3)\n",
    "    ylim(0.95,1.05)\n",
    "    xlim(10,nside*1)\n",
    "    show()"
   ]
  },
  {
   "cell_type": "raw",
   "metadata": {
    "scrolled": false
   },
   "source": [
    "# errorbar(l,xi_sim_W['clp_stats']['mean'],xi_sim_W['clp_stats']['std'],fmt='ro')\n",
    "f=lb\n",
    "i=0\n",
    "for corr in corrs:\n",
    "    color=colors[i%len(colors)]\n",
    "    errorbar(lb,f*xi_sim_Ww['clp_b_stats'][corr]['mean'],f*xi_sim_Ww['clp_b_stats'][corr]['std'],fmt='o',c=color)\n",
    "    errorbar(lb,f*xi_sim_Ww['clp0'][corr],c=color,label=labels[corr])\n",
    "    i+=1\n",
    "    # plot(lb,f*cl0_win_w['cl_b'][:39])\n",
    "    # plot(lb,f*cl0_win['cl_b'])\n",
    "    # plot(lb,f*coupling_Mw_binned@cl0['cl_b'])\n",
    "    # plot(l,cl_sim_N['clg_stats']['mean'],'g--')\n",
    "    xscale('log')\n",
    "#     yscale('log')\n",
    "    xlabel(r'$\\ell$')\n",
    "    ylabel(r'p-$C_\\ell$ (W2)')\n",
    "    xlim(10,2000)\n",
    "    if corr==corr_ll:\n",
    "        ylim(0,4.e-7)\n",
    "    legend()\n",
    "    show()"
   ]
  },
  {
   "cell_type": "raw",
   "metadata": {},
   "source": [
    "# errorbar(l,xi_sim_W['clp_stats']['mean'],xi_sim_W['clp_stats']['std'],fmt='ro')\n",
    "f=1#lb\n",
    "i=0\n",
    "for corr in corrs:\n",
    "    color=colors[i%len(colors)]\n",
    "    errorbar(lb*(1+i*0.03),xi_sim_Ww['clp_b_stats'][corr]['mean']/xi_sim_Ww['clp0'][corr],xi_sim_Ww['clp_b_stats'][corr]['std']/xi_sim_Ww['clp0'][corr]/sqrt(1000),\n",
    "             fmt='o-',c=color,label=labels[corr])\n",
    "    i+=1\n",
    "# plot(l,cl_sim_N['clg_stats']['mean'],'g--')\n",
    "xscale('log')\n",
    "# yscale('log')\n",
    "xlabel(r'$\\ell$')\n",
    "ylabel(r'$D_\\ell$ (W2)')\n",
    "legend()\n",
    "ylim(0.95,1.061)\n",
    "xlim(10,1000)"
   ]
  },
  {
   "cell_type": "raw",
   "metadata": {},
   "source": [
    "# errorbar(l,xi_sim_W['clp_stats']['mean'],xi_sim_W['clp_stats']['std'],fmt='ro')\n",
    "f=1\n",
    "i=0\n",
    "for corr in corrs:\n",
    "    color=colors[i%len(colors)]\n",
    "    errorbar(lb*(1+i*0.03),f*xi_sim_Ww['clg_b_stats']['Master'][corr]['mean'],f*xi_sim_Ww['clg_b_stats']['Master'][corr]['std'],fmt='o',c=color)\n",
    "    plot(lb*(1+i*0.03),f*cl0['cl_b'][corr],c=color,label=labels[corr])\n",
    "    i+=1\n",
    "# plot(lb,f*cl0_win_w['cl_b'][:39])\n",
    "# plot(lb,f*cl0_win['cl_b'])\n",
    "# plot(lb,f*coupling_Mw_binned@cl0['cl_b'])\n",
    "# plot(l,cl_sim_N['clg_stats']['mean'],'g--')\n",
    "xscale('log')\n",
    "yscale('log')\n",
    "xlabel(r'$\\ell$')\n",
    "ylabel(r'$C_\\ell$ (W2)')\n",
    "# xlim(10,1000)\n",
    "legend()"
   ]
  },
  {
   "cell_type": "raw",
   "metadata": {
    "scrolled": false
   },
   "source": [
    "# errorbar(l,xi_sim_W['clp_stats']['mean'],xi_sim_W['clp_stats']['std'],fmt='ro')\n",
    "f=1\n",
    "for simj in np.arange(2):\n",
    "    cl_simi=xi_sim_W[simj]\n",
    "    cl0_wini=cl0_win[simj]\n",
    "    cl0i=cl0[simj]\n",
    "    i=0\n",
    "    for corr in corrs:\n",
    "        color=colors[i%len(colors)]\n",
    "        errorbar(lb*(1+i*0.03),f*cl_simi['clg_b_stats']['Master'][corr]['mean'],\n",
    "                 f*cl_simi['clg_b_stats']['Master'][corr]['std'],fmt='o',c=color)\n",
    "        plot(lb*(1+i*0.03),f*cl0i['cl_b'][corr],c=color,label=labels[corr])\n",
    "        i+=1\n",
    "    # plot(lb,f*cl0_win_w['cl_b'][:39])\n",
    "    # plot(lb,f*cl0_win['cl_b'])\n",
    "    # plot(lb,f*coupling_Mw_binned@cl0['cl_b'])\n",
    "    # plot(l,cl_sim_N['clg_stats']['mean'],'g--')\n",
    "    xscale('log')\n",
    "    yscale('log')\n",
    "    xlabel(r'$\\ell$')\n",
    "    ylabel(r'$C_\\ell$ (W1)')\n",
    "    # xlim(10,1000)\n",
    "    legend()\n",
    "    ylim(1.e-10,1.e-4)\n",
    "    show()"
   ]
  },
  {
   "cell_type": "code",
   "execution_count": null,
   "metadata": {},
   "outputs": [],
   "source": [
    "# errorbar(l,xi_sim_W['clp_stats']['mean'],xi_sim_W['clp_stats']['std'],fmt='ro')\n",
    "f=1\n",
    "for simj in np.arange(2):\n",
    "    cl_simi=xi_sim_W[simj]\n",
    "    cl0_wini=cl0_win[simj]\n",
    "    cl0i=cl0[simj]\n",
    "    i=0\n",
    "    for corr in corrs:\n",
    "        color=colors[i%len(colors)]\n",
    "        errorbar(lb*(1+i*0.03),f*cl_simi['clg_b_stats']['iMaster'][corr]['mean'],\n",
    "                 f*cl_simi['clg_b_stats']['Master'][corr]['std'],fmt='o',c=color)\n",
    "        plot(lb*(1+i*0.03),f*cl0i['cl_b'][corr],c=color,label=labels[corr])\n",
    "        i+=1\n",
    "    # plot(lb,f*cl0_win_w['cl_b'][:39])\n",
    "    # plot(lb,f*cl0_win['cl_b'])\n",
    "    # plot(lb,f*coupling_Mw_binned@cl0['cl_b'])\n",
    "    # plot(l,cl_sim_N['clg_stats']['mean'],'g--')\n",
    "    xscale('log')\n",
    "    yscale('log')\n",
    "    xlabel(r'$\\ell$')\n",
    "    ylabel(r'$C_\\ell$ (W1)')\n",
    "    # xlim(10,1000)\n",
    "    legend()\n",
    "    ylim(1.e-10,1.e-4)\n",
    "    show()"
   ]
  },
  {
   "cell_type": "code",
   "execution_count": null,
   "metadata": {},
   "outputs": [],
   "source": [
    "f=lb\n",
    "corr=corr_ll\n",
    "for simj in np.arange(2):\n",
    "    cl_simi=xi_sim_W[simj]\n",
    "    cl0_wini=cl0_win[simj]\n",
    "    cl0i=cl0[simj]\n",
    "    i=0\n",
    "    plot(lb,f*cl0i['cl_b'][corr],c=colors[0])\n",
    "    plot(lb,f*(cl0_wini['cl_b'][corr]@cl_simi['coupling_M_binned_inv']['iMaster'][corr]),ls='--',c=colors[1])\n",
    "\n"
   ]
  },
  {
   "cell_type": "raw",
   "metadata": {
    "scrolled": false
   },
   "source": [
    "f=lb\n",
    "for corr in corrs:\n",
    "    plot(lb,f*cl0['cl_b'][corr],c=colors[0])\n",
    "#     plot(lb,f*(cl0_win['cl_b'][corr]@xi_sim_W['coupling_M_binned2_inv'][corr]),label=corr,c=colors[1])\n",
    "    plot(lb,f*(cl0_win['cl_b'][corr]@xi_sim_W['coupling_M_binned_inv']['Master'][corr]),ls='--',c=colors[1])\n",
    "    \n",
    "    coupling_M_binned2wt=M_binnings[corr].bin_2d_coupling(cov=xi_sim_W['coupling_M'][corr].T,bin_utils=M_binning_utils[corr])\n",
    "#     coupling_M_binned2wt*=dl\n",
    "    coupling_M_binned2wt_inv=np.linalg.inv(coupling_M_binned2wt)\n",
    "#     coupling_M_binned2wt_inv=M_binnings[corr].bin_2d(cov=xi_sim_W['coupling_M_inv'][corr],bin_utils=M_binning_utils[corr])*dl\n",
    "    plot(lb,f*(coupling_M_binned2wt_inv@cl0_win['cl_b'][corr]),ls=':',c=colors[1])\n",
    "\n",
    "    \n",
    "#     plot(lb,f*(cl0_win_w['cl_b'][corr]@xi_sim_Ww['coupling_M_binned2_inv'][corr]),c=colors[2])\n",
    "#     plot(lb,f*(cl0_win_w['cl_b'][corr]@xi_sim_Ww['coupling_M_binned_inv'][corr]),ls='--',c=colors[2])\n",
    "#     coupling_M_binned2wt=M_binnings[corr].bin_2d(cov=xi_sim_Ww['coupling_M'][corr],bin_utils=M_binning_utils[corr])\n",
    "    wt=cl0['cl'][corr]\n",
    "#     wt[:2]=0\n",
    "    coupling_M_binned2wt=M_binnings[corr].bin_2d_coupling(cov=xi_sim_Ww['coupling_M'][corr].T,bin_utils=M_binning_utils[corr])\n",
    "#     coupling_M_binned2wt*=dl\n",
    "    coupling_M_binned2wt_inv=np.linalg.inv(coupling_M_binned2wt)\n",
    "    print(coupling_M_binned2wt_inv)\n",
    "#     plot(lb,f*(coupling_M_binned2wt_inv@cl0_win_w['cl_b'][corr]),ls=':',c=colors[2],zorder=10)\n",
    "    plot(lb,f*(cl0_win_w['cl_b'][corr]@coupling_M_binned2wt_inv.T),ls=':',c=colors[2],zorder=10)\n",
    "    xscale('log')\n",
    "    legend()\n",
    "    show()"
   ]
  },
  {
   "cell_type": "raw",
   "metadata": {},
   "source": [
    "import copy\n",
    "\n",
    "corr=corr_ll\n",
    "\n",
    "shear_lcut=kappa_win.l>=2\n",
    "cut=kappa_win.l>0\n",
    "s=0\n",
    "if 'shear' in corr:\n",
    "    cut=shear_lcut\n",
    "    s=2\n",
    "dl=l_bins[1:]-l_bins[:-1]\n",
    "coupling_Mw=kappa_win_w.Win.Win['cl'][corr][(0,0)]['M']\n",
    "coupling_M4w=kappa_win_w.Win.Win['cov'][corr+corr][(0,0,0,0)]['M'][1324]['clcl'][s] #*2\n",
    "# coupling_Mw_inv=np.linalg.inv(coupling_Mw)\n",
    "coupling_Mw_inv=np.zeros_like(coupling_Mw)\n",
    "coupling_Mw_inv[:,cut][cut,:]=np.linalg.inv(coupling_Mw[cut,:][:,cut]) #otherwise we get singular matrix since for shear l<2 is not defined.\n",
    "\n",
    "coupling_Mw_binned2=kappa_win_w.binning.bin_2d(cov=coupling_Mw,bin_utils=kappa_win_w.cl_bin_utils) #this doesnot work... difference of bin size\n",
    "coupling_Mw_binned2*=dl\n",
    "\n",
    "coupling_Mw_binned2wt=M_binnings[corr].bin_2d(cov=coupling_Mw,bin_utils=Mw_binning_utils[corr])\n",
    "coupling_Mw_binned2wt*=dl\n",
    "coupling_Mw_binned2wt2=M_binnings[corr].bin_2d_coupling(cov=coupling_Mw,bin_utils=Mw_binning_utils[corr])\n",
    "\n",
    "#loglog(lb,np.diag(coupling_M_binned2)/np.diag(coupling_M_binned)*np.gradient(lb))\n",
    "coupling_Mw_binned=bin_coupling_M(kappa_win_w,coupling_Mw)\n",
    "coupling_Mw_binned_inv=np.linalg.inv(coupling_Mw_binned)\n",
    "coupling_Mw_binned2_inv=np.linalg.inv(coupling_Mw_binned2)\n",
    "coupling_Mw_binned2wt_inv=np.linalg.inv(coupling_Mw_binned2wt)\n",
    "coupling_Mw_binned2wt2_inv=np.linalg.inv(coupling_Mw_binned2wt2)\n",
    "\n",
    "\n",
    "coupling_M4w_binned=bin_coupling_M(kappa_win_w,coupling_M4w)\n",
    "coupling_M4w_binned2=kappa_win.binning.bin_2d(cov=coupling_M4w,bin_utils=kappa_win.cl_bin_utils) \n",
    "coupling_M4w_binned_inv=np.linalg.inv(coupling_M4w_binned)\n",
    "\n",
    "coupling_Mw_binned_inv2=kappa_win.binning.bin_2d(cov=coupling_Mw_inv,bin_utils=kappa_win.cl_bin_utils)"
   ]
  },
  {
   "cell_type": "raw",
   "metadata": {
    "scrolled": false
   },
   "source": [
    "pcolor(coupling_M_binned2_inv,norm=LogNorm())\n",
    "show()\n",
    "pcolor(coupling_M_binned2wt_inv,norm=LogNorm())\n",
    "show()\n",
    "pcolor(coupling_M_binned2wt2_inv,norm=LogNorm())"
   ]
  },
  {
   "cell_type": "raw",
   "metadata": {
    "scrolled": false
   },
   "source": [
    "ct=copy.deepcopy(kappa_win_w.Win.Win['cl'][corrs[0]][(0,0)]['M'])\n",
    "pcolor(ct[700:820,700:820],norm=LogNorm())\n",
    "colorbar()\n",
    "show()\n",
    "ct=copy.deepcopy(kappa_win_w.Win.Win['cl'][corrs[1]][(0,0)]['M'])\n",
    "pcolor(ct[700:820,700:820],norm=LogNorm())\n",
    "colorbar()\n",
    "show()\n",
    "ct=copy.deepcopy(kappa_win_w.Win.Win['cl'][corrs[2]][(0,0)]['M'])\n",
    "pcolor(ct[700:820,700:820],norm=LogNorm())\n",
    "colorbar()"
   ]
  },
  {
   "cell_type": "raw",
   "metadata": {},
   "source": [
    "pcolor(coupling_Mw_binned2*np.gradient(lb),norm=LogNorm())"
   ]
  },
  {
   "cell_type": "code",
   "execution_count": null,
   "metadata": {
    "scrolled": false
   },
   "outputs": [],
   "source": [
    "f=1\n",
    "for corr in corrs:\n",
    "    fig, ax =subplots(2,2,figsize=(20,15),sharex='col',sharey='row')\n",
    "    for simj in np.arange(2):\n",
    "        cl_simi=xi_sim_W[simj]\n",
    "        cl0i=cl0[simj]\n",
    "        pS=ax[0,simj]\n",
    "        pR=ax[1,simj]\n",
    "        f=lb\n",
    "        f2=f/sqrt(nsim)\n",
    "        i=0\n",
    "        pS.plot(lb,f*cl0i['cl_b'][corr],c=colors[i],label='Theory')\n",
    "        pS.errorbar(lb,f*cl_simi['clg_b_stats']['iMaster'][corr]['mean'],f2*cl_simi['clg_b_stats']['iMaster'][corr]['std'],fmt='o',c=colors[3],mfc='white',mew=3,label=r'$\\it i$MASTER',zorder=10)    \n",
    "        pS.errorbar(lb*1.0,f*cl_simi['clg_b_stats']['Master'][corr]['mean'],f2*cl_simi['clg_b_stats']['Master'][corr]['std'],fmt='s',c=colors[2],mfc='white',mew=3,label=r'MASTER')\n",
    "        pS.errorbar(lb,f*cl_simi['clg_b_stats']['nMaster'][corr]['mean'],f2*cl_simi['clg_b_stats']['nMaster'][corr]['std'],fmt='^',c=colors[1],mfc='white',mew=3,label=r'$\\it n$MASTER')\n",
    "\n",
    "        f=1./cl0i['cl_b'][corr]\n",
    "        f2=f/sqrt(nsim)\n",
    "        pR.errorbar(lb*1.03,f*cl_simi['clg_b_stats']['iMaster'][corr]['mean'],f2*cl_simi['clg_b_stats']['iMaster'][corr]['std'],fmt='o-',c=colors[3],mfc=None,mew=3,label=r'$\\it i$MASTER',zorder=10)\n",
    "        pR.errorbar(lb*1.06,f*cl_simi['clg_b_stats']['Master'][corr]['mean'],f2*cl_simi['clg_b_stats']['Master'][corr]['std'],fmt='s--',c=colors[2],mfc='white',mew=3,label=r'MASTER')\n",
    "        pR.errorbar(lb,f*cl_simi['clg_b_stats']['nMaster'][corr]['mean'],f2*cl_simi['clg_b_stats']['nMaster'][corr]['std'],fmt='^--',c=colors[1],mfc='white',mew=3,label=r'$\\it n$MASTER')\n",
    "\n",
    "        # plot(lb,f*(coupling_M_binned_inv@xi_sim_W['clp_b'][0,:]))\n",
    "        # plot(l,cl_sim_N['clg_stats']['mean'],'g--')\n",
    "        pR.set_xscale('log')\n",
    "        # yscale('log')\n",
    "        pR.set_ylim(.95,1.05)\n",
    "        pR.hlines(1,10,3000)\n",
    "        pR.hlines(1.01,10,3000,ls='--',alpha=0.5,zorder=-1)\n",
    "        pR.hlines(.99,10,3000,ls='--',alpha=0.5,zorder=-1)\n",
    "        \n",
    "        pS.set_ylim((lb*cl0i['cl_b'][corr]).min()*.9,(lb*cl0i['cl_b'][corr]).max()*1.1)\n",
    "        tf=.9\n",
    "        if corr==corr_ll:\n",
    "            pS.set_ylim(3.e-7,1.e-6)\n",
    "            pR.set_ylim(.9,1.11)\n",
    "            tf=1\n",
    "        pR.set_xlim(20,1000)\n",
    "        pR.set_xlabel(r'$\\ell$')\n",
    "        if simj==0:\n",
    "            pR.set_ylabel(r'$\\widehat C_\\ell/C_\\ell$')\n",
    "            pS.set_ylabel(r'$\\widehat C_\\ell$ ')#+corr_labels[corr])\n",
    "        pS.text(x=500,y=(lb*cl0i['cl_b'][corr]).max()*tf,s=r'$W_'+str(simj+1)+'$',fontsize=50)\n",
    "    ax[0,0].legend(ncol=2)\n",
    "    ax[1,0].text(x=200,y=1.03,s=corr_labels[corr],fontsize=50)\n",
    "    \n",
    "    fname=fig_home+'/'+corr_fnames[corr]+'_master_cl_comp_sims'+str(nsim)+'_ns'+str(nside)+'_lmax'+str(lmax_cl)+'_wlmax'+str(window_lmax)+'_fsky'+str(int(f_sky*10))\n",
    "    if not use_shot_noise:\n",
    "        fname+='_noSN'\n",
    "    if unit_window:\n",
    "        fname+='_unit_window'\n",
    "    if smooth_window:\n",
    "        fname+='_smooth_window'\n",
    "\n",
    "\n",
    "    fname+='.pdf'\n",
    "#     fig.savefig(fname,bbox_inches='tight',format='pdf')\n",
    "    print('saved to ',fname)\n",
    "    show()"
   ]
  },
  {
   "cell_type": "code",
   "execution_count": null,
   "metadata": {
    "scrolled": false
   },
   "outputs": [],
   "source": [
    "f=1\n",
    "fig, ax =subplots(3,1,figsize=(20./1.5,20./1.5),sharex='col',sharey=False)\n",
    "corr_i=0\n",
    "for corr in corrs:\n",
    "    for simj in np.arange(2):\n",
    "        cl_simi=xi_sim_W[simj]\n",
    "        cl0i=cl0[simj]\n",
    "        pS=ax[corr_i]\n",
    "#         if corr==corr_ll:\n",
    "#             pS=ax[0,1]\n",
    "#         if corr==corr_gg:\n",
    "#             pS=ax[1,1]\n",
    "#         if corr==corr_ggl:\n",
    "#             pS=ax[0,0]\n",
    "        f=lb\n",
    "        f2=f/sqrt(nsim)\n",
    "        i=0\n",
    "        pS.plot(lb,f*cl0i['cl_b'][corr],c=colors[i],label='Theory')\n",
    "        pS.errorbar(lb,f*cl_simi['clg_b_stats']['iMaster'][corr]['mean'],f2*cl_simi['clg_b_stats']['iMaster'][corr]['std'],fmt='o',c=colors[3],mfc='white',mew=3,\n",
    "                    label=r'$\\it i$MASTER',zorder=10)    \n",
    "#         pS.errorbar(lb*1.0,f*cl_simi['clg_b_stats']['Master'][corr]['mean'],f2*cl_simi['clg_b_stats']['Master'][corr]['std'],fmt='s:',c=colors[2],mfc='white',mew=3,\n",
    "#                     label=r'MASTER')\n",
    "        pS.errorbar(lb,f*cl_simi['clg_b_stats']['nMaster'][corr]['mean'],f2*cl_simi['clg_b_stats']['nMaster'][corr]['std'],fmt='^:',c=colors[1],mfc='white',mew=3,\n",
    "                    label=r'$\\it $MASTER')\n",
    "\n",
    "        pS.set_ylim((lb*cl0i['cl_b'][corr]).min()*.9,(lb*cl0i['cl_b'][corr]).max()*1.1)\n",
    "        tf=.9\n",
    "        tx=1\n",
    "        if corr==corr_ll:\n",
    "            pS.set_ylim(1.e-7,1.1e-6)\n",
    "            tf=1\n",
    "        if corr==corr_gg:\n",
    "            pS.set_ylim(1.e-5,1.1e-3)\n",
    "            tx=1\n",
    "        pS.set_xlim(20,1000)\n",
    "        pS.set_xlabel(r'$\\ell$')\n",
    "        pS.set_xscale('log')\n",
    "        if simj==0:\n",
    "            pR.set_ylabel(r'$\\widehat C_\\ell/C_\\ell$')\n",
    "            pS.set_ylabel(r'$\\widehat C_\\ell$ ')#+corr_labels[corr])\n",
    "#         pS.text(x=500,y=(lb*cl0['cl_b'][corr]).max()*tf,s=r'$W_'+str(simj+1)+'$',fontsize=50)\n",
    "            pS.text(x=400*tx,y=(lb*cl0i['cl_b'][corr]).max()*tf,s=corr_labels[corr],fontsize=50)\n",
    "    corr_i+=1\n",
    "ax[corr_i-2].legend(ncol=3,bbox_to_anchor=(.55,0.27))\n",
    "\n",
    "\n",
    "fname=fig_home+'/'+corr_fnames[corr]+'_W2_master_cl_comp_sims'+str(nsim)+'_ns'+str(nside)+'_lmax'+str(lmax_cl)+'_wlmax'+str(window_lmax)+'_fsky'+str(int(f_sky*10))\n",
    "if not use_shot_noise:\n",
    "    fname+='_noSN'\n",
    "if unit_window:\n",
    "    fname+='_unit_window'\n",
    "if smooth_window:\n",
    "    fname+='_smooth_window'\n",
    "\n",
    "\n",
    "fname+='.pdf'\n",
    "#     fig.savefig(fname,bbox_inches='tight',format='pdf')z\n",
    "print('saved to ',fname)\n",
    "show()"
   ]
  },
  {
   "cell_type": "code",
   "execution_count": null,
   "metadata": {
    "scrolled": false
   },
   "outputs": [],
   "source": [
    "f=1\n",
    "corr_i=0\n",
    "fig, ax =subplots(2,2,figsize=(20,15),sharex='col',sharey='row')\n",
    "for corr in corrs:\n",
    "    color=colors[corr_i]\n",
    "    marker=markers[corr_i]\n",
    "    print(corr,corr_i)\n",
    "    for simj in np.arange(2):\n",
    "        cl_simi=xi_sim_W[simj]\n",
    "        cl0i=cl0[simj]\n",
    "        pS=ax[0,simj]\n",
    "        pR=ax[1,simj]\n",
    "        f=lb\n",
    "        f2=f/sqrt(nsim)\n",
    "        i=0\n",
    "        pS.errorbar(lb,f*cl_simi['clp_b_stats'][corr]['mean'],f*cl_simi['clp_b_stats'][corr]['std'],fmt=marker,c=color,label=corr_labels[corr])\n",
    "        pS.plot(lb,f*cl_simi['clp0'][corr],c=color)\n",
    "\n",
    "        f=1./cl_simi['clp0'][corr]\n",
    "        f2=f/sqrt(nsim)\n",
    "        pR.errorbar(lb*1.0,f*cl_simi['clp_b_stats'][corr]['mean'],f2*cl_simi['clp_b_stats'][corr]['std'],fmt=marker+'-',c=color,mfc=None,mew=3,zorder=10)\n",
    "        if corr==corr_ll:\n",
    "            f=lb\n",
    "            pS.errorbar(lb*1.0,f*cl_simi['clpB_b_stats'][corr_gg]['mean'],f*cl_simi['clpB_b_stats'][corr_gg]['std'],fmt=marker,mfc='white',mew=3,c=colors[5],label=labels[corr]+'$^{BB}$')\n",
    "            pS.plot(lb,f*cl_simi['clp_shear_B_b'],c=colors[5])\n",
    "\n",
    "        pR.set_xscale('log')\n",
    "        # yscale('log')\n",
    "        pR.set_ylim(.95,1.05)\n",
    "        pR.hlines(1,10,3000)\n",
    "        pR.hlines(1.01,10,3000,ls='--',alpha=0.5,zorder=-1)\n",
    "        pR.hlines(.99,10,3000,ls='--',alpha=0.5,zorder=-1)\n",
    "        \n",
    "        pS.set_yscale('log')\n",
    "        pS.set_ylim(1.e-10,8.e-4)\n",
    "#         tf=.9\n",
    "#         if corr==corr_ll:\n",
    "#             pS.set_ylim(3.e-7,1.e-6)\n",
    "#             pR.set_ylim(.9,1.11)\n",
    "#             tf=1\n",
    "        pR.set_xlim(20,1050)\n",
    "        pR.set_xlabel(r'$\\ell$')\n",
    "        if simj==0:\n",
    "            pR.set_ylabel(r'$\\widehat D_\\ell/D_\\ell$')\n",
    "            pS.set_ylabel(r'$\\widehat D_\\ell$ ')\n",
    "        if corr==corr_ll:\n",
    "            if simj==0:\n",
    "                pS.text(x=200,y=1.e-5,s=r'$W_'+str(simj+1)+'$',fontsize=50)\n",
    "            if simj==1:\n",
    "                pS.text(x=200,y=1.e-5,s=r'$W_'+str(simj+1)+'$',fontsize=50)\n",
    "    corr_i+=1\n",
    "ax[0,1].legend(ncol=4,loc='lower left',bbox_to_anchor=(-.07,0))\n",
    "ax[0,0].set_yticks(np.logspace(-10,-4,7))\n",
    "fname=fig_home+'/'+corr_fnames[corr]+'_pseudo_cl_comp_sims'+str(nsim)+'_ns'+str(nside)+'_lmax'+str(lmax_cl)+'_wlmax'+str(window_lmax)+'_fsky'+str(int(f_sky*10))\n",
    "if not use_shot_noise:\n",
    "    fname+='_noSN'\n",
    "if unit_window:\n",
    "    fname+='_unit_window'\n",
    "if smooth_window:\n",
    "    fname+='_smooth_window'\n",
    "\n",
    "\n",
    "fname+='.pdf'\n",
    "# fig.savefig(fname,bbox_inches='tight',format='pdf')\n",
    "print('saved to ',fname)    \n",
    "show()"
   ]
  },
  {
   "cell_type": "code",
   "execution_count": null,
   "metadata": {},
   "outputs": [],
   "source": [
    "from scipy.stats import gaussian_kde\n",
    "from scipy.interpolate import interp1d\n",
    "from scipy import ndimage\n",
    "from scipy.optimize import curve_fit\n"
   ]
  },
  {
   "cell_type": "code",
   "execution_count": null,
   "metadata": {},
   "outputs": [],
   "source": [
    "def funct(lb,A,B=None,Bmax=1000):\n",
    "    if B is None:\n",
    "        B=100\n",
    "    if B<0:\n",
    "        return lb+np.inf\n",
    "    if B>Bmax:\n",
    "        return lb+np.inf\n",
    "    return A+(1.-A)/(1+np.exp(-lb/B))\n",
    "# xx=curve_fit(funct,xdata=lb,ydata=yy,p0=[0.8,100])\n",
    "\n"
   ]
  },
  {
   "cell_type": "code",
   "execution_count": null,
   "metadata": {
    "scrolled": false
   },
   "outputs": [],
   "source": [
    "for simj in np.arange(2):\n",
    "    cl_simi=xi_sim_W[simj]\n",
    "    cl0_wini=cl0_win[simj]\n",
    "    cl0i=cl0[simj]\n",
    "    for corr in corrs:\n",
    "        cov2=cl_simi['coupling_M_binned_inv']['Master'][corr].T@cl0_wini['cov'][corr]@cl_simi['coupling_M_binned_inv']['Master'][corr]\n",
    "        cm=corr_matrix(cov_mat=cov2[:500,:500])\n",
    "        pcolor(lb,lb,cm,vmin=-1,vmax=1,cmap='seismic')\n",
    "        xscale('log')\n",
    "        yscale('log')\n",
    "        title(str(corr)+', MASTER')\n",
    "        show()\n",
    "\n",
    "        cov2wt=cl_simi['coupling_M_binned_inv']['iMaster'][corr].T@cl0_wini['cov'][corr]@cl_simi['coupling_M_binned_inv']['iMaster'][corr]\n",
    "        cm2wt=corr_matrix(cov_mat=cov2[:500,:500])\n",
    "        pcolor(lb,lb,cm,vmin=-1,vmax=1,cmap='seismic')\n",
    "        xscale('log')\n",
    "        yscale('log')\n",
    "        title(str(corr)+r', $i$MASTER')\n",
    "        show()\n",
    "        pcolor(lb,lb,cm-cm2wt,vmin=-1,vmax=1,cmap='seismic')\n",
    "        xscale('log')\n",
    "        yscale('log')\n",
    "        title(str(corr)+r', MASTER-$i$MASTER')\n",
    "        show()\n",
    "        plot(lb,np.diag(cov2/cov2wt),label='MASTER/$i$MASTER')\n",
    "        xscale('log')\n",
    "        hlines(1,10,1000)\n",
    "        legend()\n",
    "        show()\n",
    "        cm2=corr_matrix(cov_mat=np.real(cl_simi['clg_b_stats']['Master'][corr]['cov']))\n",
    "        pcolor(lb,lb,cm2,vmin=-1,vmax=1,cmap='seismic')\n",
    "        xscale('log')\n",
    "        yscale('log')\n",
    "        title(str(corr)+', Sim-MASTER')\n",
    "        show()\n",
    "        pcolor(lb,lb,cm-cm2,vmin=-1,vmax=1,cmap='seismic')\n",
    "        xscale('log')\n",
    "        yscale('log')\n",
    "        title(str(corr)+', MASTER-Sim-Master')\n",
    "        show()\n",
    "        cm2wtS=corr_matrix(cov_mat=np.real(cl_simi['clg_b_stats']['iMaster'][corr]['cov']))\n",
    "        pcolor(lb,lb,cm2wtS,vmin=-1,vmax=1,cmap='seismic')\n",
    "        xscale('log')\n",
    "        yscale('log')\n",
    "        title(str(corr)+', Sim-$i$MASTER')\n",
    "        show()\n",
    "        pcolor(lb,lb,cm2wt-cm2wtS,vmin=-1,vmax=1,cmap='seismic')\n",
    "        xscale('log')\n",
    "        yscale('log')\n",
    "        title(str(corr)+', $i$MASTER-Sim-$i$MASTER')\n",
    "        show()\n",
    "        plot(lb,np.diag(cl_simi['clg_b_stats']['Master'][corr]['cov']/cov2),label='MASTER-sim/MASTER')\n",
    "        xscale('log')\n",
    "        hlines(1,10,1000)\n",
    "        legend()\n",
    "    #     show()\n",
    "        plot(lb,np.diag(cl_simi['clg_b_stats']['iMaster'][corr]['cov']/cov2wt),label='iMASTER-sim/iMASTER',ls='--')\n",
    "    #     plot(lb,np.diag(xi_sim_W['clg_bM2wt_stats'][corr]['cov']/cl0['cov'][corr]['final_b']),label='iMASTER-sim/mode count',ls=':')\n",
    "        plot(lb,np.diag(cl_simi['clp_b_stats'][corr]['cov']/cl0_wini['cov'][corr]),label='pcl-sim/pcl',ls=':')\n",
    "\n",
    "        xscale('log')\n",
    "        hlines(1,10,1000)\n",
    "        ylim(0.7,1.5)\n",
    "        legend()\n",
    "        show()"
   ]
  },
  {
   "cell_type": "code",
   "execution_count": null,
   "metadata": {},
   "outputs": [],
   "source": [
    "def matrix_cut(mat=[],x=[]):\n",
    "    m=mat[x]\n",
    "    N=sum(x)\n",
    "    m2=np.zeros((N,N))\n",
    "    j=0\n",
    "    for i in m:\n",
    "        m2[j]=i[x]\n",
    "        j=j+1\n",
    "    return m2\n",
    "\n",
    "def SN_cum(cov=[],lb=[],cl=[],diag=False,lmin=2,use_hartlap=False,nsim=1000):\n",
    "    sni=np.zeros_like(lb)\n",
    "    for i in np.arange(len(lb)):\n",
    "        if lb[i]<lmin:\n",
    "            continue\n",
    "        x=lb<=lb[i]\n",
    "        x*=lb>lmin\n",
    "        cov2_cut=matrix_cut(mat=cov,x=x)\n",
    "        if diag:\n",
    "            cov2_cut=np.diag(np.diag(cov2_cut))\n",
    "        cov2_cut_inv=np.linalg.inv(cov2_cut)\n",
    "        \n",
    "        cl_i=cl[x]\n",
    "        SN2=cl_i@cov2_cut_inv@cl_i\n",
    "        if use_hartlap:\n",
    "            SN2*=(nsim-2-x.sum())/(nsim-1)\n",
    "        sni[i]=SN2\n",
    "    return sni"
   ]
  },
  {
   "cell_type": "code",
   "execution_count": null,
   "metadata": {},
   "outputs": [],
   "source": [
    "def funct(lb,A,B=None,Bmax=500):\n",
    "    if B is None:\n",
    "        B=100\n",
    "    if B<0:\n",
    "        return lb+np.inf\n",
    "    if B>Bmax:\n",
    "        return lb+np.inf\n",
    "    return A+(1.-A)/(1+np.exp(-lb/B))"
   ]
  },
  {
   "cell_type": "code",
   "execution_count": null,
   "metadata": {},
   "outputs": [],
   "source": [
    "def cov_correct_sim(sim_cov=[],th_cov=[],smooth_scale=4,R_cut=None):\n",
    "    cov_R=sim_cov/th_cov\n",
    "    R_diag=np.diag(cov_R)\n",
    "    xx=curve_fit(funct,xdata=lb,ydata=R_diag,p0=[0.8,100])\n",
    "    R_smooth=funct(lb,*xx[0])\n",
    "#     R_smooth=ndimage.gaussian_filter1d(R_diag, smooth_scale)\n",
    "    \n",
    "#     x=R_smooth>1.05\n",
    "#     x[:2]=False\n",
    "#     if R_cut is None:\n",
    "#         if x.sum()==0:\n",
    "#             R_cut=-1\n",
    "#             print(R_cut)\n",
    "#         else:\n",
    "#             R_cut=np.min(np.where(x))\n",
    "#     R_smooth[R_cut:]=1\n",
    "    if R_cut is not None:\n",
    "        R_smooth[R_cut:]=1\n",
    "    correctG=np.outer(np.sqrt(R_smooth),np.sqrt(R_smooth))\n",
    "    th_cov2=th_cov*correctG\n",
    "    return th_cov2"
   ]
  },
  {
   "cell_type": "code",
   "execution_count": null,
   "metadata": {},
   "outputs": [],
   "source": [
    "def cov_correct_sim_eig(sim_cov=[],th_cov=[],smooth_scale=4,R_cut=None): #this works well, but very sensitive to noise of sim matrix.\n",
    "    ev,evec=np.linalg.eig(th_cov)\n",
    "#     ev2,evec2=np.linalg.eig(sim_cov)\n",
    "    \n",
    "    \n",
    "    vv=evec\n",
    "    D=np.linalg.inv(vv)@sim_cov@vv\n",
    "    ev2=np.diag(D)\n",
    "    \n",
    "    ev2R=ev2/ev\n",
    "    print(ev2R)\n",
    "#     ev2R=ndimage.gaussian_filter1d(ev2/ev, smooth_scale)\n",
    "#     x=ev2R>1.02\n",
    "#     x[:2]=False\n",
    "#     if R_cut is None:\n",
    "#         if x.sum()==0:\n",
    "#             R_cut=-1\n",
    "#             print(R_cut,ev2R)\n",
    "#         else:\n",
    "#             R_cut=np.min(np.where(x))\n",
    "#     print(R_cut)\n",
    "    if R_cut is not None:\n",
    "        ev2R[R_cut:]=1\n",
    "    ev2=ev*ev2R\n",
    "    D=np.diag(ev2)\n",
    "\n",
    "#     n=smooth_scale\n",
    "#     ev[:n]=ev2[:n]\n",
    "#     D=np.diag(ev)\n",
    "    \n",
    "    vv2=vv@D@np.linalg.inv(vv)\n",
    "    return vv2,ev2R,ev"
   ]
  },
  {
   "cell_type": "code",
   "execution_count": null,
   "metadata": {},
   "outputs": [],
   "source": [
    "def cov_correct_sim_eig_diff(sim_cov=[],th_cov=[],smooth_scale=0,R_cut=1): #this works well, but very sensitive to noise of sim matrix.\n",
    "    cm_th=th_cov*1.0\n",
    "    cm_sim=sim_cov*1.0\n",
    "    cm_D=cm_th-cm_sim\n",
    "    ev,evec=np.linalg.eig(cm_D)\n",
    "    \n",
    "    if smooth_scale!=0:\n",
    "        if 'complex' in str(ev.dtype):\n",
    "            ev=np.real(ev)\n",
    "            print('complex ev, using real only')\n",
    "        ev=ndimage.gaussian_filter1d(ev, smooth_scale)\n",
    "    print('cov_correct_sim_eig_diff r-cut',R_cut)\n",
    "    if R_cut is not None:\n",
    "        ev[R_cut:]=0\n",
    "    cm_th2=cm_th-evec@np.diag(ev)@np.linalg.inv(evec)\n",
    "    return cm_th2"
   ]
  },
  {
   "cell_type": "code",
   "execution_count": null,
   "metadata": {},
   "outputs": [],
   "source": [
    "def cov_correct_sim_eig_diff(sim_cov=[],th_cov=[],smooth_scale=0,R_cut=1): #this works well, but very sensitive to noise of sim matrix.\n",
    "    cm_th=corr_matrix(cov_mat=th_cov)\n",
    "    cm_sim=corr_matrix(cov_mat=sim_cov)\n",
    "    cm_D=cm_th-cm_sim\n",
    "    ev,evec=np.linalg.eig(cm_D)\n",
    "    \n",
    "    if smooth_scale!=0:\n",
    "        if 'complex' in str(ev.dtype):\n",
    "            ev=np.real(ev)\n",
    "            print('complex ev, using real only')\n",
    "        ev=ndimage.gaussian_filter1d(ev, smooth_scale)\n",
    "    if R_cut is not None:\n",
    "        ev[R_cut:]=0\n",
    "    cm_th2=cm_th-evec@np.diag(ev)@np.linalg.inv(evec)\n",
    "    \n",
    "#     cov_R=sim_cov/th_cov\n",
    "#     R_diag=np.diag(cov_R)\n",
    "#     xx=curve_fit(funct,xdata=lb,ydata=R_diag,p0=[0.8,100])\n",
    "#     R_smooth=funct(lb,*xx[0])\n",
    "    \n",
    "#     R_smooth*=np.diag(th_cov)\n",
    "    R_smooth=np.diag(sim_cov)\n",
    "\n",
    "    return cm_th2*np.outer(np.sqrt(R_smooth),np.sqrt(R_smooth))\n",
    "    \n",
    "#     D=th_cov-sim_cov\n",
    "#     ev,evec=np.linalg.eig(D)\n",
    "#     ev=ndimage.gaussian_filter1d(ev, smooth_scale)\n",
    "#     vv=evec\n",
    "#     D2=np.linalg.inv(vv)@D@vv\n",
    "#     ev=np.array(np.diag(D2))\n",
    "    \n",
    "#     if R_cut is not None:\n",
    "#         ev[R_cut:]=0\n",
    "#     D2=vv@np.diag(ev)@np.linalg.inv(vv)\n",
    "#     return th_cov-D2"
   ]
  },
  {
   "cell_type": "code",
   "execution_count": null,
   "metadata": {},
   "outputs": [],
   "source": [
    "def sim_mean(sims={}):\n",
    "    vv=np.array(list(sims.values()))\n",
    "    sims['mean']=np.mean(vv,axis=0)\n",
    "    sims['std']=np.std(vv,axis=0)\n",
    "    sims['cov']=np.cov(vv,rowvar=0)\n",
    "    return  sims"
   ]
  },
  {
   "cell_type": "code",
   "execution_count": null,
   "metadata": {},
   "outputs": [],
   "source": [
    "corr=corr_ggl\n",
    "cl_th=cl0_win[0]['cl_b'][corr]\n",
    "cl_sim=xi_sim_W[0]['clp_b_stats'][corr]['mean']\n",
    "plot(lb,cl_th/cl_sim)\n",
    "corr=corr_gg\n",
    "cl_th=cl0_win[0]['cl_b'][corr]\n",
    "# cl_sim=xi_sim_W['clp_b_stats'][corr]['mean']\n",
    "plot(lb,cl_th/cl_sim)\n",
    "loglog()"
   ]
  },
  {
   "cell_type": "raw",
   "metadata": {},
   "source": [
    "corr=corr_ggl\n",
    "M_t=kappa_win[i].Win.Win['cov'][corr+corr][bi+bi]['M'][1423]['clcl'][2]\n",
    "print(kappa_win[i].Win.Win['cov'][corr+corr][bi+bi]['W_pm'])\n",
    "corr=corr_ll\n",
    "M_t2=kappa_win[i].Win.Win['cov'][corr+corr][bi+bi]['M'][1324]['Ncl'][2]"
   ]
  },
  {
   "cell_type": "code",
   "execution_count": null,
   "metadata": {},
   "outputs": [],
   "source": [
    "plot(kappa_win[i].l,np.diag(M_t))\n",
    "plot(kappa_win[i].l,np.diag(M_t2))\n",
    "loglog()"
   ]
  },
  {
   "cell_type": "code",
   "execution_count": null,
   "metadata": {},
   "outputs": [],
   "source": [
    "outp[0]['cl0']['cov'].keys()"
   ]
  },
  {
   "cell_type": "code",
   "execution_count": null,
   "metadata": {},
   "outputs": [],
   "source": [
    "corr=corr_ggl\n",
    "cov_th=cl0_win[i]['cov'][corr]\n",
    "cov_sim=xi_sim_W[i]['clp_b_stats'][corr]['cov']\n",
    "plot(lb,np.diag(cov_th)/np.diag(cov_sim))\n",
    "corr=corr_gg\n",
    "cov_th=cl0_win[i]['cov'][corr]\n",
    "cov_sim=xi_sim_W[i]['clp_b_stats'][corr]['cov']\n",
    "plot(lb,np.diag(cov_th)/np.diag(cov_sim))\n",
    "loglog()"
   ]
  },
  {
   "cell_type": "code",
   "execution_count": null,
   "metadata": {},
   "outputs": [],
   "source": [
    "nsim=1000"
   ]
  },
  {
   "cell_type": "code",
   "execution_count": null,
   "metadata": {},
   "outputs": [],
   "source": [
    "corr_t=[corr_gg,corr_ll,corr_ggl] #order in which sim corrs are output.\n",
    "sn_W={}\n",
    "sn_Ww={}\n",
    "use_hartlap=True\n",
    "smooth_scale=0\n",
    "R_cut=2\n",
    "for simj in np.arange(2):\n",
    "    cl_simi=xi_sim_W[simj]\n",
    "    cl0_wini=cl0_win[simj]\n",
    "    cl0i=cl0[simj]\n",
    "    sn_W[simj]={}\n",
    "    corr_i=0\n",
    "\n",
    "    for corr in corr_t: #corrs:\n",
    "        sn_W[simj][corr]={}\n",
    "\n",
    "        for k in ['iMaster','Master','nMaster']:\n",
    "            cov2=cl_simi['coupling_M_binned_inv'][k][corr].T@cl0_wini['cov'][corr]@cl_simi['coupling_M_binned_inv'][k][corr]\n",
    "            sn_W[simj][corr][k]=SN_cum(cov=cov2,lb=lb,cl=cl_simi['clg_b_stats'][k][corr]['mean'])\n",
    "\n",
    "            sim_cov=cl_simi['clg_b_stats'][k][corr]['cov']\n",
    "            cov2_cG=cov_correct_sim_eig_diff(sim_cov=sim_cov,th_cov=cov2,smooth_scale=smooth_scale,R_cut=R_cut)\n",
    "            sn_W[simj][corr][k+'_c']=SN_cum(cov=cov2_cG,lb=lb,cl=cl_simi['clg_b_stats'][k][corr]['mean'])\n",
    "            \n",
    "            cov2_cG=cov_correct_sim_eig_diff(sim_cov=sim_cov,th_cov=np.diag(np.diag(sim_cov)),smooth_scale=smooth_scale,R_cut=R_cut)\n",
    "            sn_W[simj][corr][k+'_sim_smooth']=SN_cum(cov=cov2_cG,lb=lb,cl=cl_simi['clg_b_stats'][k][corr]['mean'])\n",
    "\n",
    "            cov2=cl_simi['clg_b_stats'][k][corr]['cov']\n",
    "            sn_W[simj][corr][k+'_sim']=SN_cum(cov=cov2,lb=lb,cl=cl_simi['clg_b_stats'][k][corr]['mean'],use_hartlap=use_hartlap,nsim=nsim)\n",
    "\n",
    "        cov2=cl0_wini['cov'][corr]\n",
    "        sn_W[simj][corr]['clp']=SN_cum(cov=cov2,lb=lb,cl=cl_simi['clp_b_stats'][corr]['mean'])\n",
    "\n",
    "        sim_cov=cl_simi['clp_b_stats'][corr]['cov']\n",
    "        cov2_cG=cov_correct_sim_eig_diff(sim_cov=sim_cov,th_cov=cl0_wini['cov'][corr],smooth_scale=smooth_scale,R_cut=R_cut)\n",
    "        sn_W[simj][corr]['clp_c']=SN_cum(cov=cov2_cG,lb=lb,cl=cl_simi['clp_b_stats'][corr]['mean'],use_hartlap=use_hartlap,nsim=nsim)\n",
    "\n",
    "        cov2_cG=cov_correct_sim_eig_diff(sim_cov=sim_cov,th_cov=np.diag(np.diag(sim_cov)),smooth_scale=smooth_scale,R_cut=R_cut)\n",
    "        sn_W[simj][corr]['clp_sim_smooth']=SN_cum(cov=cov2_cG,lb=lb,cl=cl_simi['clp_b_stats'][corr]['mean'],use_hartlap=use_hartlap,nsim=nsim)\n",
    "        \n",
    "        cov2=cl_simi['clp_b_stats'][corr]['cov']\n",
    "        sn_W[simj][corr]['clp_sim']=SN_cum(cov=cov2,lb=lb,cl=cl_simi['clp_b_stats'][corr]['mean'],use_hartlap=use_hartlap,nsim=nsim)\n",
    "\n",
    "        if corr==corr_ll:\n",
    "            cov2=cl_simi['clpB_b_stats'][corr_gg]['cov']\n",
    "            sn_W[simj][corr]['clpB_sim']=SN_cum(cov=cov2,lb=lb,cl=cl_simi['clpB_b_stats'][corr_gg]['mean'],use_hartlap=use_hartlap,nsim=nsim)\n",
    "\n",
    "        cov2=cl0i['cov'][corr]['final_b']\n",
    "        sn_W[simj][corr]['cl0']=SN_cum(cov=cov2,lb=lb,cl=cl0i['cl_b'][corr])\n",
    "\n",
    "        corr_i+=1"
   ]
  },
  {
   "cell_type": "code",
   "execution_count": null,
   "metadata": {},
   "outputs": [],
   "source": [
    "sn_W[simj][corr_ll]['clp_sim']/sn_W[simj][corr_ll]['clp_sim_smooth']"
   ]
  },
  {
   "cell_type": "code",
   "execution_count": null,
   "metadata": {},
   "outputs": [],
   "source": [
    "nsim_sub=100\n",
    "use_hartlap=True\n",
    "for simj in np.arange(2):\n",
    "    cl_simi=xi_sim_W[simj]\n",
    "    cl0_wini=cl0_win[simj]\n",
    "    cl0i=cl0[simj]\n",
    "    corr_i=0\n",
    "\n",
    "    for corr in corr_t: #corrs:\n",
    "        for k in ['iMaster','Master','nMaster']:\n",
    "            sn_W[simj][corr][k+'_sim100']={}\n",
    "        sn_W[simj][corr]['clp_sim100']={}\n",
    "        sn_W[simj][corr]['clp_sim100_smooth']={}\n",
    "        sn_W[simj][corr]['clp_c100']={}\n",
    "\n",
    "        for i in np.arange(nsim/nsim_sub,dtype='int'):\n",
    "            start_i=i*nsim_sub\n",
    "            end_i=start_i+nsim_sub\n",
    "\n",
    "            for k in ['iMaster','Master','nMaster']:\n",
    "                clp_simW_100=cl_simi['clg_b'][k][start_i:end_i,:,:]\n",
    "                cov2=np.cov(clp_simW_100[:, : ,corr_i],rowvar=0)\n",
    "                sn_W[simj][corr][k+'_sim100'][i]=SN_cum(cov=cov2,lb=lb,cl=cl_simi['clg_b_stats'][k][corr]['mean'],\n",
    "                                                  use_hartlap=use_hartlap,nsim=nsim_sub)\n",
    "\n",
    "            clp_simW_100=cl_simi['clp_b'][start_i:end_i,:,:]\n",
    "            cov2=np.cov(clp_simW_100[:, : ,corr_i],rowvar=0)\n",
    "            sn_W[simj][corr]['clp_sim100'][i]=SN_cum(cov=cov2,lb=lb,cl=cl_simi['clp_b_stats'][corr]['mean'],\n",
    "                                               use_hartlap=use_hartlap,nsim=nsim_sub)\n",
    "\n",
    "\n",
    "            clp_simW_100=cl_simi['clp_b'][start_i:end_i,:,:]\n",
    "            cov2=np.cov(clp_simW_100[:, : ,corr_i],rowvar=0)\n",
    "            #     xi_sim_Ww['clp_b_stats'][corr]['cov']\n",
    "            cov2_cG=cov_correct_sim_eig_diff(sim_cov=cov2,th_cov=cl0_wini['cov'][corr],smooth_scale=smooth_scale,R_cut=R_cut)\n",
    "            sn_W[simj][corr]['clp_c100'][i]=SN_cum(cov=cov2_cG,lb=lb,cl=cl_simi['clp_b_stats'][corr]['mean'],\n",
    "                                             use_hartlap=use_hartlap,nsim=nsim_sub)\n",
    "\n",
    "            cov2_cG=cov_correct_sim_eig_diff(sim_cov=cov2,th_cov=np.diag(np.diag(cov2)),smooth_scale=smooth_scale,R_cut=R_cut)\n",
    "            sn_W[simj][corr]['clp_sim100_smooth'][i]=SN_cum(cov=cov2_cG,lb=lb,cl=cl_simi['clp_b_stats'][corr]['mean'],\n",
    "#                                                         use_hartlap=use_hartlap,\n",
    "                                                            nsim=nsim_sub\n",
    "                                                        )\n",
    "            \n",
    "            \n",
    "        for k in ['iMaster','Master','nMaster']:\n",
    "            sn_W[simj][corr][k+'_sim100']=sim_mean(sn_W[simj][corr][k+'_sim100'])\n",
    "\n",
    "        sn_W[simj][corr]['clp_sim100']=sim_mean(sn_W[simj][corr]['clp_sim100'])\n",
    "        sn_W[simj][corr]['clp_sim100_smooth']=sim_mean(sn_W[simj][corr]['clp_sim100_smooth'])\n",
    "        sn_W[simj][corr]['clp_c100']=sim_mean(sn_W[simj][corr]['clp_c100'])\n",
    "\n",
    "        print(corr,corr_i)\n",
    "        corr_i+=1\n"
   ]
  },
  {
   "cell_type": "raw",
   "metadata": {},
   "source": [
    "xi_sim_Ww['clp_b'].shape"
   ]
  },
  {
   "cell_type": "code",
   "execution_count": null,
   "metadata": {
    "scrolled": false
   },
   "outputs": [],
   "source": [
    "f=1\n",
    "for corr in kappa0.corrs:\n",
    "    fig, ax =subplots(2,2,figsize=(20,15),sharex='col',sharey='row')\n",
    "    for simj in np.arange(2):\n",
    "        sn=sn_W[simj]\n",
    "        pS=ax[0,simj]\n",
    "        pR=ax[1,simj]\n",
    "        f=lb\n",
    "        f2=f/sqrt(nsim)\n",
    "        i=0\n",
    "        ci=0\n",
    "        for k in ['clp']:#,'iMaster','Master','nMaster']:\n",
    "            pS.plot(lb,sn[corr][k+'_sim'],':',c=colors[ci])\n",
    "            pS.plot(lb*1.03,sn[corr][k+'_c'],'-',c=colors[ci])\n",
    "            pS.plot(lb*1.03,sn[corr][k],'--',c=colors[ci])\n",
    "            pS.errorbar(lb,sn[corr][k+'_sim100']['mean'],sn[corr][k+'_sim100']['std'],fmt=markers[ci],c=colors[ci],mfc='white',mew=3,)#label=k)\n",
    "            pS.errorbar(lb*1.03,sn[corr][k+'_sim100']['mean'],sn[corr][k+'_sim100']['std'],fmt=markers[ci],c=colors[ci],mfc=None,mew=3)\n",
    "\n",
    "\n",
    "            pR.plot(lb,sn[corr][k+'_sim']/sn[corr][k],'--',c=colors[ci])\n",
    "            pR.plot(lb*1.03,sn[corr][k+'_sim']/sn[corr][k+'_c'],'-',c=colors[ci])\n",
    "            pR.errorbar(lb,sn[corr][k+'_sim100']['mean']/sn[corr][k],sn[corr][k+'_sim100']['std']/sn[corr][k],fmt=markers[ci],c=colors[ci],mfc='white',mew=3)#,label=k)\n",
    "            pR.errorbar(lb*1.03,sn[corr][k+'_sim100']['mean']/sn[corr][k+'_c'],sn[corr][k+'_sim100']['std']/sn[corr][k+'_c'],fmt=markers[ci],c=colors[ci],mfc=None,mew=3)\n",
    "#             ci+=1\n",
    "        pR.plot(lb,sn[corr]['clp_sim']/sn[corr]['clp'],'--',c=colors[ci])\n",
    "\n",
    "        pR.plot(lb*1.03,sn[corr]['clp_sim']/sn[corr]['clp_c'],'-',c=colors[ci])\n",
    "\n",
    "        pR.errorbar(lb,sn[corr]['clp_sim100']['mean']/sn[corr]['clp'],sn[corr]['clp_sim100']['std']/sn[corr]['clp'],fmt=markers[ci],c=colors[ci],mfc='white',mew=3,label='$D_\\ell$')\n",
    "\n",
    "        pR.errorbar(lb*1.03,sn[corr]['clp_sim100']['mean']/sn[corr]['clp_c'],sn[corr]['clp_sim100']['std']/sn[corr]['clp_c'],fmt=markers[ci],\n",
    "                 mfc=None,mew=3,c=colors[ci])#,label='p-cl, corrected')\n",
    "\n",
    "        pR.errorbar(lb*1.03,sn[corr]['clp_sim100']['mean']/sn[corr]['clp_c'],sn[corr]['clp_sim100']['std']/sn[corr]['clp_c'],fmt=markers[ci],c=colors[ci],mfc=None,mew=3)\n",
    "\n",
    "#     text(x=500,y=2,s=labels[corr])\n",
    "        pR.set_xlim(10,1000)\n",
    "        pR.set_xscale('log')\n",
    "        pR.set_yscale('log')\n",
    "        pS.set_yscale('log')\n",
    "        pS.text(x=200,y=10,s=r'$W_'+str(simj+1)+'$',fontsize=50)\n",
    "        pR.hlines(1,10,1000)\n",
    "        pR.hlines(1-0.05,10,1000,ls=':',zorder=-10,alpha=0.5)\n",
    "        pR.hlines(1+0.05,10,1000,ls=':',zorder=-10,alpha=0.5)\n",
    "        pR.hlines(1-0.1,10,1000,ls=':',zorder=-10,alpha=0.5)\n",
    "        pR.hlines(1+0.1,10,1000,ls=':',zorder=-10,alpha=0.5)\n",
    "    ax[1,0].set_ylabel('Sim/theory')\n",
    "    ax[0,0].set_ylabel(r'cumulative $(\\frac{S}{N})^2$')\n",
    "    ax[1,0].set_xlabel(r'$\\ell_{max}$')\n",
    "    ax[1,0].legend()\n",
    "    yscale('log')\n",
    "#     ylim(0.8,1.1)\n",
    "\n",
    "        \n",
    "    \n",
    "#     ax[0,0].legend(ncol=2)\n",
    "    ax[0,0].text(x=20,y=5.e2,s=corr_labels[corr],fontsize=50)\n",
    "    \n",
    "    fname=fig_home+'/'+corr_fnames[corr]+'_master_SN_comp_sims'+str(nsim)+'_ns'+str(nside)+'_lmax'+str(lmax_cl)+'_wlmax'+str(window_lmax)+'_fsky'+str(int(f_sky*10))\n",
    "    if not use_shot_noise:\n",
    "        fname+='_noSN'\n",
    "    if unit_window:\n",
    "        fname+='_unit_window'\n",
    "    if smooth_window:\n",
    "        fname+='_smooth_window'\n",
    "\n",
    "\n",
    "    fname+='.pdf'\n",
    "#     fig.savefig(fname,bbox_inches='tight',format='pdf')\n",
    "    print('saved to ',fname)\n",
    "    show()"
   ]
  },
  {
   "cell_type": "code",
   "execution_count": null,
   "metadata": {},
   "outputs": [],
   "source": [
    "f=1\n",
    "for corr in kappa0.corrs:\n",
    "    fig, ax =subplots(2,2,figsize=(20,15),sharex='col',sharey='row')\n",
    "    for simj in np.arange(2):\n",
    "        sn=sn_W[simj]\n",
    "        pS=ax[0,simj]\n",
    "        pR=ax[1,simj]\n",
    "        f=lb\n",
    "        f2=f/sqrt(nsim)\n",
    "        i=0\n",
    "        ci=0\n",
    "        for k in ['clp']:#,'iMaster','Master','nMaster']:\n",
    "            pS.plot(lb,sn[corr][k+'_sim'],':',c=colors[ci])\n",
    "            pS.errorbar(lb,sn[corr][k+'_sim100']['mean'],sn[corr][k+'_sim100']['std'],fmt=markers[ci],c=colors[ci],mfc='white',mew=3,)#label=k)\n",
    "            pS.errorbar(lb*1.03,sn[corr][k+'_sim100_smooth']['mean'],sn[corr][k+'_sim100_smooth']['std'],fmt=markers[ci],\n",
    "                        c=colors[ci],mfc=None,mew=3)\n",
    "\n",
    "#             ci+=1\n",
    "        pR.errorbar(lb,sn[corr]['clp_sim100']['mean']/sn[corr]['clp_sim'],sn[corr]['clp_sim100']['std']/sn[corr]['clp_sim'],\n",
    "                    fmt=markers[ci],c=colors[ci],mfc='white',mew=3,label='$D_\\ell$')\n",
    "\n",
    "        pR.errorbar(lb*1.03,sn[corr]['clp_sim100_smooth']['mean']/sn[corr]['clp_sim'],sn[corr]['clp_sim100_smooth']['std']/sn[corr]['clp_sim'],\n",
    "                    fmt=markers[ci],mfc=None,mew=3,c=colors[ci])#,label='p-cl, corrected')\n",
    "        pR.set_xlim(10,1000)\n",
    "        pR.set_xscale('log')\n",
    "        pR.set_yscale('log')\n",
    "        pS.set_yscale('log')\n",
    "        pS.text(x=200,y=1,s=r'$W_'+str(simj+1)+'$',fontsize=50)\n",
    "        pR.hlines(1,10,1000)\n",
    "        pR.hlines(1-0.05,10,1000,ls=':',zorder=-10,alpha=0.5)\n",
    "        pR.hlines(1+0.05,10,1000,ls=':',zorder=-10,alpha=0.5)\n",
    "        pR.hlines(1-0.1,10,1000,ls=':',zorder=-10,alpha=0.5)\n",
    "        pR.hlines(1+0.1,10,1000,ls=':',zorder=-10,alpha=0.5)\n",
    "    ax[1,0].set_ylabel('Sim/theory')\n",
    "    ax[0,0].set_ylabel(r'$(\\frac{S}{N})^2$')\n",
    "    ax[1,0].legend()\n",
    "    yscale('log')\n",
    "#     ylim(0.8,1.1)\n",
    "\n",
    "        \n",
    "    \n",
    "#     ax[0,0].legend(ncol=2)\n",
    "    ax[0,0].text(x=20,y=5.e2,s=corr_labels[corr],fontsize=50)\n",
    "    \n",
    "    fname=fig_home+'/'+corr_fnames[corr]+'_master_SN_comp_sims'+str(nsim)+'_ns'+str(nside)+'_lmax'+str(lmax_cl)+'_wlmax'+str(window_lmax)+'_fsky'+str(int(f_sky*10))\n",
    "    if not use_shot_noise:\n",
    "        fname+='_noSN'\n",
    "    if unit_window:\n",
    "        fname+='_unit_window'\n",
    "    if smooth_window:\n",
    "        fname+='_smooth_window'\n",
    "\n",
    "\n",
    "    fname+='.pdf'\n",
    "#     fig.savefig(fname,bbox_inches='tight',format='pdf')\n",
    "    print('saved to ',fname)\n",
    "    show()"
   ]
  },
  {
   "cell_type": "code",
   "execution_count": null,
   "metadata": {},
   "outputs": [],
   "source": [
    "f=1\n",
    "fig, ax =subplots(3,1,figsize=(20./1.5,20./1.5),sharex='col',sharey=False)\n",
    "corr_i=0\n",
    "for corr in kappa0.corrs:\n",
    "    i=0\n",
    "    ci=0\n",
    "    for simj in np.arange(2):\n",
    "        cl_simi=xi_sim_W[simj]\n",
    "        pS=ax[corr_i]\n",
    "        sn=sn_W\n",
    "        \n",
    "        f=lb\n",
    "        f2=f/sqrt(nsim)\n",
    "\n",
    "#         for k in ['iMaster','Master','nMaster']:\n",
    "#             pS.plot(lb,sn[corr][k+'_sim'],':',c=colors[ci])\n",
    "#             pS.plot(lb*1.03,sn[corr][k+'_c'],'-',c=colors[ci])\n",
    "#             pS.plot(lb*1.03,sn[corr][k],'--',c=colors[ci])\n",
    "#             pS.errorbar(lb,sn[corr][k+'_sim100']['mean'],sn[corr][k+'_sim100']['std'],fmt=markers[ci],c=colors[ci],mfc='white',mew=3,label=k)\n",
    "#             pS.errorbar(lb*1.03,sn[corr][k+'_sim100']['mean'],sn[corr][k+'_sim100']['std'],fmt=markers[ci],c=colors[ci],mfc=None,mew=3)\n",
    "#             ci+=1\n",
    "        k='clp'\n",
    "        print(corr,sn[simj][corr].keys())\n",
    "        pS.plot(lb,sn[simj][corr][k+'_sim'],'-',c=colors[ci],label='1000 Gaussian Simulations')\n",
    "        ci+=1\n",
    "#         pS.plot(lb*1.03,sn[corr][k+'_c'],'-',c=colors[ci],label='Hybrid')\n",
    "#         ci+=1\n",
    "        pS.plot(lb*1.03,sn[simj][corr][k],'--',c=colors[ci],label='Analytical')\n",
    "        ci+=1\n",
    "        pS.errorbar(lb,sn[simj][corr][k+'_sim100']['mean'],sn[simj][corr][k+'_sim100']['std'],\n",
    "                    fmt=markers[ci],c=colors[ci],mfc='white',mew=3,label='Hybrid (100 Simulations)')\n",
    "        pS.set_xscale('log')\n",
    "        pS.set_yscale('log')\n",
    "        pS.text(x=15,y=300,s=corr_labels[corr],fontsize=50)\n",
    "        pS.set_xlim(10,1000)\n",
    "        \n",
    "    corr_i+=1 \n",
    "\n",
    "ax[0].legend()\n",
    "ax[1].set_ylabel(r'Cumulative $(\\frac{S}{N})^2$')\n",
    "ax[2].set_xlabel(r'$\\ell_{max}$')\n",
    "fname=fig_home+'/'+corr_fnames[corr]+'_W2_SN_comp_sims'+str(nsim)+'_ns'+str(nside)+'_lmax'+str(lmax_cl)+'_wlmax'+str(window_lmax)+'_fsky'+str(int(f_sky*10))\n",
    "if not use_shot_noise:\n",
    "    fname+='_noSN'\n",
    "if unit_window:\n",
    "    fname+='_unit_window'\n",
    "if smooth_window:\n",
    "    fname+='_smooth_window'\n",
    "\n",
    "\n",
    "fname+='.pdf'\n",
    "#     fig.savefig(fname,bbox_inches='tight',format='pdf')z\n",
    "print('saved to ',fname)\n",
    "show()"
   ]
  },
  {
   "cell_type": "code",
   "execution_count": null,
   "metadata": {
    "scrolled": false
   },
   "outputs": [],
   "source": [
    "f=1\n",
    "for corr in kappa0.corrs:\n",
    "    fig, ax =subplots(2,2,figsize=(20,15),sharex='col',sharey='row')\n",
    "    for simj in np.arange(2):\n",
    "        sn=sn_W[simj]\n",
    "        pS=ax[0,simj]\n",
    "        pR=ax[1,simj]\n",
    "        f=lb\n",
    "        f2=f/sqrt(nsim)\n",
    "        i=0\n",
    "        ci=0\n",
    "        for k in ['iMaster','Master','nMaster']:\n",
    "            pS.plot(lb,sn[corr][k+'_sim'],':',c=colors[ci])\n",
    "            pS.plot(lb*1.03,sn[corr][k+'_c'],'-',c=colors[ci])\n",
    "            pS.plot(lb*1.03,sn[corr][k],'--',c=colors[ci])\n",
    "            pS.errorbar(lb,sn[corr][k+'_sim100']['mean'],sn[corr][k+'_sim100']['std'],fmt=markers[ci],c=colors[ci],mfc='white',mew=3,label=k)\n",
    "#             pS.errorbar(lb*1.03,sn[corr][k+'_sim100']['mean'],sn[corr][k+'_sim100']['std'],fmt=markers[ci],c=colors[ci],mfc=None,mew=3)\n",
    "\n",
    "            fR=sn[corr]['clp_c']\n",
    "            pR.plot(lb,sn[corr][k+'_sim']/fR,'--',c=colors[ci])\n",
    "            pR.plot(lb*1.03,sn[corr][k+'_sim']/fR,'-',c=colors[ci])\n",
    "            pR.errorbar(lb,sn[corr][k+'_sim100']['mean']/fR,sn[corr][k+'_sim100']['std']/fR,fmt=markers[ci],c=colors[ci],mfc='white',mew=3,label=k)\n",
    "#             pR.errorbar(lb*1.03,sn[corr][k+'_sim100']['mean']/fR,sn[corr][k+'_sim100']['std']/fR,fmt=markers[ci],c=colors[ci],mfc=None,mew=3)\n",
    "            ci+=1\n",
    "        \n",
    "        pR.plot(lb*1.03,sn[corr]['clp_sim']/sn[corr]['clp_c'],'-',c=colors[ci])\n",
    "\n",
    "        pR.errorbar(lb*1.03,sn[corr]['clp_sim100']['mean']/sn[corr]['clp_c'],sn[corr]['clp_sim100']['std']/sn[corr]['clp_c'],fmt=markers[ci],\n",
    "                 mfc=None,mew=3,c=colors[ci])#,label='p-cl, corrected')\n",
    "\n",
    "        pR.errorbar(lb*1.03,sn[corr]['clp_sim100']['mean']/sn[corr]['clp_c'],sn[corr]['clp_sim100']['std']/sn[corr]['clp_c'],fmt=markers[ci],c=colors[ci],mfc=None,mew=3)\n",
    "\n",
    "#     text(x=500,y=2,s=labels[corr])\n",
    "        pR.set_xlim(10,1000)\n",
    "        pR.set_xscale('log')\n",
    "        pR.set_yscale('log')\n",
    "        pS.set_yscale('log')\n",
    "        pS.text(x=200,y=1,s=r'$W_'+str(simj+1)+'$',fontsize=50)\n",
    "        pR.hlines(1,10,1000)\n",
    "        pR.hlines(1-0.05,10,1000,ls=':',zorder=-10,alpha=0.5)\n",
    "        pR.hlines(1+0.05,10,1000,ls=':',zorder=-10,alpha=0.5)\n",
    "        pR.hlines(1-0.1,10,1000,ls=':',zorder=-10,alpha=0.5)\n",
    "        pR.hlines(1+0.1,10,1000,ls=':',zorder=-10,alpha=0.5)\n",
    "    ax[1,0].set_ylabel('Sim/theory')\n",
    "    ax[0,0].set_ylabel(r'$(\\frac{S}{N})^2$')\n",
    "    ax[1,0].legend()\n",
    "    yscale('log')\n",
    "#     ylim(0.8,1.1)\n",
    "\n",
    "        \n",
    "    \n",
    "#     ax[0,0].legend(ncol=2)\n",
    "    ax[0,0].text(x=20,y=5.e2,s=corr_labels[corr],fontsize=50)\n",
    "    \n",
    "    fname=fig_home+'/'+corr_fnames[corr]+'_master_Dl_SN_comp_sims'+str(nsim)+'_ns'+str(nside)+'_lmax'+str(lmax_cl)+'_wlmax'+str(window_lmax)+'_fsky'+str(int(f_sky*10))\n",
    "    if not use_shot_noise:\n",
    "        fname+='_noSN'\n",
    "    if unit_window:\n",
    "        fname+='_unit_window'\n",
    "    if smooth_window:\n",
    "        fname+='_smooth_window'\n",
    "\n",
    "\n",
    "    fname+='.pdf'\n",
    "#     fig.savefig(fname,bbox_inches='tight',format='pdf')\n",
    "    print('saved to ',fname)\n",
    "    show()"
   ]
  },
  {
   "cell_type": "raw",
   "metadata": {
    "scrolled": false
   },
   "source": [
    "for corr in corrs:\n",
    "    ci=0\n",
    "    for k in ['iMaster','Master','nMaster']:\n",
    "        plot(lb,sn_Ww[corr][k+'_sim']/sn_Ww[corr][k],'--',c=colors[ci])\n",
    "        plot(lb*1.03,sn_Ww[corr][k+'_sim']/sn_Ww[corr][k+'_c'],'-',c=colors[ci])\n",
    "        errorbar(lb,sn_Ww[corr][k+'_sim100']['mean']/sn_Ww[corr][k],sn_Ww[corr][k+'_sim100']['std']/sn_Ww[corr][k],fmt=markers[ci],c=colors[ci],mfc='white',mew=3,label=k)\n",
    "        errorbar(lb*1.03,sn_Ww[corr][k+'_sim100']['mean']/sn_Ww[corr][k+'_c'],sn_Ww[corr][k+'_sim100']['std']/sn_Ww[corr][k+'_c'],fmt=markers[ci],c=colors[ci],mfc=None,mew=3)\n",
    "        ci+=1\n",
    "    plot(lb,sn_Ww[corr]['clp_sim']/sn_Ww[corr]['clp'],'--',c=colors[ci])\n",
    "    \n",
    "    plot(lb*1.03,sn_Ww[corr]['clp_sim']/sn_Ww[corr]['clp_c'],'-',c=colors[ci])\n",
    "    \n",
    "    errorbar(lb,sn_Ww[corr]['clp_sim100']['mean']/sn_Ww[corr]['clp'],sn_Ww[corr]['clp_sim100']['std']/sn_Ww[corr]['clp'],fmt=markers[ci],c=colors[ci],mfc='white',mew=3,label='p-cl')\n",
    "    \n",
    "    errorbar(lb*1.03,sn_Ww[corr]['clp_sim100']['mean']/sn_Ww[corr]['clp_c'],sn_Ww[corr]['clp_sim100']['std']/sn_Ww[corr]['clp_c'],fmt=markers[ci],\n",
    "             mfc=None,mew=3,c=colors[ci])#,label='p-cl, corrected')\n",
    "    \n",
    "    errorbar(lb*1.03,sn_Ww[corr]['clp_sim100']['mean']/sn_Ww[corr]['clp_c'],sn_Ww[corr]['clp_sim100']['std']/sn_Ww[corr]['clp_c'],fmt=markers[ci],c=colors[ci],mfc=None,mew=3)\n",
    "\n",
    "    text(x=500,y=2,s=labels[corr])\n",
    "    xlim(10,1000)\n",
    "    xscale('log')\n",
    "    hlines(1,10,1000)\n",
    "    hlines(1-0.05,10,1000,ls=':',zorder=-10,alpha=0.5)\n",
    "    hlines(1+0.05,10,1000,ls=':',zorder=-10,alpha=0.5)\n",
    "    hlines(1-0.1,10,1000,ls=':',zorder=-10,alpha=0.5)\n",
    "    hlines(1+0.1,10,1000,ls=':',zorder=-10,alpha=0.5)\n",
    "    ylabel('Sim/theory (W2)')\n",
    "    legend()\n",
    "    yscale('log')\n",
    "#     ylim(0.8,1.1)\n",
    "    show()"
   ]
  },
  {
   "cell_type": "code",
   "execution_count": null,
   "metadata": {
    "scrolled": false
   },
   "outputs": [],
   "source": [
    "for corr in corrs:\n",
    "    ci=0\n",
    "    for k in ['iMaster','Master','nMaster']:\n",
    "        plot(lb,sn_W[corr][k+'_sim']/sn_W[corr][k],'--',c=colors[ci])\n",
    "        plot(lb*1.03,sn_W[corr][k+'_sim']/sn_W[corr][k+'_c'],'-',c=colors[ci])\n",
    "        errorbar(lb,sn_W[corr][k+'_sim100']['mean']/sn_W[corr][k],sn_W[corr][k+'_sim100']['std']/sn_W[corr][k],fmt=markers[ci],c=colors[ci],mfc='white',mew=3,label=k)\n",
    "        errorbar(lb*1.03,sn_W[corr][k+'_sim100']['mean']/sn_W[corr][k+'_c'],sn_W[corr][k+'_sim100']['std']/sn_W[corr][k+'_c'],fmt=markers[ci],c=colors[ci],mfc=None,mew=3)\n",
    "        ci+=1\n",
    "    plot(lb,sn_W[corr]['clp_sim']/sn_W[corr]['clp'],'--',c=colors[ci])\n",
    "    \n",
    "    plot(lb*1.03,sn_W[corr]['clp_sim']/sn_W[corr]['clp_c'],'-',c=colors[ci])\n",
    "    \n",
    "    errorbar(lb,sn_W[corr]['clp_sim100']['mean']/sn_W[corr]['clp'],sn_W[corr]['clp_sim100']['std']/sn_W[corr]['clp'],fmt=markers[ci],c=colors[ci],mfc='white',mew=3,label='p-cl')\n",
    "    \n",
    "    errorbar(lb*1.03,sn_W[corr]['clp_sim100']['mean']/sn_W[corr]['clp_c'],sn_W[corr]['clp_sim100']['std']/sn_W[corr]['clp_c'],fmt=markers[ci],\n",
    "             mfc=None,mew=3,c=colors[ci])#,label='p-cl, corrected')\n",
    "    \n",
    "    errorbar(lb*1.03,sn_W[corr]['clp_sim100']['mean']/sn_W[corr]['clp_c'],sn_W[corr]['clp_sim100']['std']/sn_W[corr]['clp_c'],fmt=markers[3],c=colors[3],mfc=None,mew=3)\n",
    "\n",
    "    text(x=500,y=2,s=labels[corr])\n",
    "    xlim(10,1000)\n",
    "    xscale('log')\n",
    "    hlines(1,10,1000)\n",
    "    hlines(1-0.05,10,1000,ls=':',zorder=-10,alpha=0.5)\n",
    "    hlines(1+0.05,10,1000,ls=':',zorder=-10,alpha=0.5)\n",
    "    hlines(1-0.1,10,1000,ls=':',zorder=-10,alpha=0.5)\n",
    "    hlines(1+0.1,10,1000,ls=':',zorder=-10,alpha=0.5)\n",
    "    ylabel('Sim/theory (W2)')\n",
    "    legend()\n",
    "#     yscale('log')\n",
    "#     ylim(0.8,1.1)\n",
    "    show()"
   ]
  },
  {
   "cell_type": "code",
   "execution_count": null,
   "metadata": {
    "scrolled": false
   },
   "outputs": [],
   "source": [
    "for corr in corrs:\n",
    "    ci=0\n",
    "    for k in ['iMaster','Master','nMaster']:\n",
    "        plot(lb,sn_W[corr][k],c=colors[ci])\n",
    "        plot(lb,sn_W[corr][k+'_sim'],'o',c=colors[ci])\n",
    "        \n",
    "#         plot(lb,sn_Ww[corr][k],'--',c=colors[ci])\n",
    "#         plot(lb,sn_Ww[corr][k+'_sim'],'^',c=colors[ci])\n",
    "        ci+=1\n",
    "        \n",
    "    plot(lb,sn_W[corr]['clp'],c=colors[ci])\n",
    "    plot(lb,sn_W[corr]['clp_c'],'--',c='k')\n",
    "    \n",
    "    plot(lb,sn_W[corr]['clp_sim'],'o',c=colors[ci])\n",
    "    if corr==corr_ll:\n",
    "        plot(lb,sn_W[corr]['clpB_sim'],'o',c=colors[4])\n",
    "    \n",
    "#     plot(lb,sn_Ww[corr]['clp'],'--',c=colors[3])\n",
    "#     plot(lb,sn_Ww[corr]['clp_c'],'--',c='k')\n",
    "#     plot(lb,sn_Ww[corr]['clp_M'],'--',c=colors[3])\n",
    "    \n",
    "    plot(lb,sn_W[corr]['cl0'],':',c=colors[4])\n",
    "    xlim(10,1000)\n",
    "    xscale('log')\n",
    "    yscale('log')\n",
    "    show()"
   ]
  },
  {
   "cell_type": "code",
   "execution_count": null,
   "metadata": {},
   "outputs": [],
   "source": [
    "cm=corr_matrix(cov_mat=sn_W[corr]['Master_sim100']['cov'])\n",
    "pcolor(lb,lb,cm,vmin=-1,vmax=1,cmap='seismic')\n",
    "xscale('log')\n",
    "yscale('log')\n",
    "title(corr)"
   ]
  },
  {
   "cell_type": "code",
   "execution_count": null,
   "metadata": {
    "scrolled": false
   },
   "outputs": [],
   "source": [
    "for corr in corrs:\n",
    "    ci=0\n",
    "    for k in ['iMaster','Master','nMaster']:\n",
    "        plot(lb,sn_W[corr][k]/sn_W[corr]['cl0'],'-',c=colors[ci])\n",
    "        plot(lb,sn_W[corr][k+'_sim']/sn_W[corr]['cl0'],'o',c=colors[ci])\n",
    "        plot(lb,sn_W[corr][k]/sn_W[corr]['cl0'],'--',c=colors[ci])\n",
    "        plot(lb,sn_W[corr][k+'_sim']/sn_W[corr]['cl0'],'^',c=colors[ci])\n",
    "        ci+=1\n",
    "    plot(lb,sn_W[corr]['clp']/sn_W[corr]['cl0'],':',c=colors[ci])\n",
    "    \n",
    "    plot(lb,sn_W[corr]['clp_sim']/sn_W[corr]['cl0'],'o',c=colors[ci])\n",
    "    \n",
    "#     plot(lb,sn_Ww[corr]['clp']/sn_W[corr]['cl0'],':',c=colors[3])\n",
    "    \n",
    "#     plot(lb,sn_Ww[corr]['clp_sim']/sn_W[corr]['cl0'],'o',c=colors[3])\n",
    "    \n",
    "    xlim(10,1000)\n",
    "    xscale('log')\n",
    "#     yscale('log')\n",
    "#     ylim(0.8,1.1)\n",
    "    show()"
   ]
  },
  {
   "cell_type": "raw",
   "metadata": {
    "scrolled": false
   },
   "source": [
    "for corr in corrs:\n",
    "    cov2=xi_sim_Ww['coupling_M_binned_inv']['Master'][corr].T@cl0_win_w['cov'][corr]@xi_sim_Ww['coupling_M_binned_inv']['Master'][corr]\n",
    "    cm=corr_matrix(cov_mat=cov2[:500,:500])\n",
    "    pcolor(lb,lb,cm,vmin=-1,vmax=1,cmap='seismic')\n",
    "    xscale('log')\n",
    "    yscale('log')\n",
    "    title(labels[corr]+' theory Master')\n",
    "    xlabel(r'$\\ell$')\n",
    "    ylabel(r'$\\ell$')\n",
    "    show()\n",
    "\n",
    "    cov2wt=xi_sim_Ww['coupling_M_binned_inv']['iMaster'][corr].T@cl0_win_w['cov'][corr]@xi_sim_Ww['coupling_M_binned_inv']['iMaster'][corr]\n",
    "    cm2wt=corr_matrix(cov_mat=cov2[:500,:500])\n",
    "    pcolor(lb,lb,cm,vmin=-1,vmax=1,cmap='seismic')\n",
    "    xscale('log')\n",
    "    yscale('log')\n",
    "    title(labels[corr]+' theory iMaster')\n",
    "    xlabel(r'$\\ell$')\n",
    "    ylabel(r'$\\ell$')\n",
    "    show()\n",
    "    pcolor(lb,lb,cm-cm2wt,vmin=-1,vmax=1,cmap='seismic')\n",
    "    xscale('log')\n",
    "    yscale('log')\n",
    "    title(labels[corr]+'theory, Master-iMaster')\n",
    "    xlabel(r'$\\ell$')\n",
    "    ylabel(r'$\\ell$')\n",
    "    show()\n",
    "    plot(lb,np.diag(cov2/cov2wt),label='M/Mwt')\n",
    "    xscale('log')\n",
    "    hlines(1,10,1000)\n",
    "    legend()\n",
    "    xlabel(r'$\\ell$')\n",
    "    ylabel(r'$\\delta C_\\ell^2 ratio$')\n",
    "    show()\n",
    "    cm2=corr_matrix(cov_mat=np.real(xi_sim_Ww['clg_b_stats']['Master'][corr]['cov']))\n",
    "    pcolor(lb,lb,cm2,vmin=-1,vmax=1,cmap='seismic')\n",
    "    xscale('log')\n",
    "    yscale('log')\n",
    "    title(labels[corr]+' Master')\n",
    "    xlabel(r'$\\ell$')\n",
    "    ylabel(r'$\\ell$')\n",
    "    show()\n",
    "    pcolor(lb,lb,cm-cm2,vmin=-1,vmax=1,cmap='seismic')\n",
    "    xscale('log')\n",
    "    yscale('log')\n",
    "    title(labels[corr])\n",
    "    xlabel(r'$\\ell$')\n",
    "    ylabel(r'$\\ell$')\n",
    "    show()\n",
    "    cm2wtS=corr_matrix(cov_mat=np.real(xi_sim_Ww['clg_b_stats']['iMaster'][corr]['cov']))\n",
    "    pcolor(lb,lb,cm2wtS,vmin=-1,vmax=1,cmap='seismic')\n",
    "    xscale('log')\n",
    "    yscale('log')\n",
    "    title(labels[corr]+' Sim iMaster')\n",
    "    xlabel(r'$\\ell$')\n",
    "    ylabel(r'$\\ell$')\n",
    "    show()\n",
    "    pcolor(lb,lb,cm2wt-cm2wtS,vmin=-1,vmax=1,cmap='seismic')\n",
    "    xscale('log')\n",
    "    yscale('log')\n",
    "    title(labels[corr]+'iMaster, theory-sim')\n",
    "    xlabel(r'$\\ell$')\n",
    "    ylabel(r'$\\ell$')\n",
    "    show()\n",
    "    plot(lb,np.diag(xi_sim_Ww['clg_b_stats']['Master'][corr]['cov']/cov2),label='MASTER-sim/MASTER')\n",
    "    xscale('log')\n",
    "    ylabel(labels[corr])\n",
    "    hlines(1,10,1000)\n",
    "    xlabel(r'$\\ell$')\n",
    "    ylabel(r'$\\delta C_\\ell^2 ratio$')\n",
    "    legend()\n",
    "    xlabel(r'$\\ell$')\n",
    "    ylabel(r'$\\delta C_\\ell^2 ratio$')\n",
    "#     show()\n",
    "    plot(lb,np.diag(xi_sim_Ww['clg_b_stats']['iMaster'][corr]['cov']/cov2wt),label='iMASTER-sim/iMASTER',ls='--')\n",
    "    fs=1\n",
    "    if corr==corr_ll:\n",
    "        fs=.3/.13\n",
    "#     plot(lb,np.diag(xi_sim_Ww['clg_bM2wt_stats'][corr]['cov']/cl0['cov'][corr]['final_b'])/fs,label='iMASTER-sim/mode count',ls=':')\n",
    "    plot(lb,np.diag(xi_sim_Ww['clp_b_stats'][corr]['cov']/cl0_win_w['cov'][corr]),label='pcl-sim/pcl',ls=':')\n",
    "    \n",
    "    xscale('log')\n",
    "    hlines(1,10,1000)\n",
    "    ylim(0.7,1.5)\n",
    "    legend()\n",
    "    xlabel(r'$\\ell$')\n",
    "    ylabel(r'$\\delta C_\\ell^2 ratio$')\n",
    "    show()"
   ]
  },
  {
   "cell_type": "code",
   "execution_count": null,
   "metadata": {
    "scrolled": false
   },
   "outputs": [],
   "source": [
    "cm=corr_matrix(cov_mat=np.real(xi_sim_W['clp_b_stats'][corr]['cov']))\n",
    "pcolor(lb,lb,cm,vmin=-1,vmax=1,cmap='seismic')\n",
    "xscale('log')\n",
    "yscale('log')\n",
    "title('p-$C_\\ell$ correlation- sims')\n",
    "show()\n",
    "cm2=corr_matrix(cov_mat=cl0_win['cov'][corr])\n",
    "pcolor(lb,lb,cm2,vmin=-1,vmax=1,cmap='seismic')\n",
    "xscale('log')\n",
    "yscale('log')\n",
    "title('p-$C_\\ell$ correlation- theory')\n",
    "show()\n",
    "pcolor(lb,lb,cm-cm2,vmin=-1,vmax=1,cmap='seismic')\n",
    "xscale('log')\n",
    "yscale('log')\n",
    "\n"
   ]
  },
  {
   "cell_type": "code",
   "execution_count": null,
   "metadata": {
    "scrolled": false
   },
   "outputs": [],
   "source": [
    "corr=corr_gg\n",
    "cm=corr_matrix(cov_mat=np.real(xi_sim_W['clp_b_stats'][corr]['cov']))\n",
    "pcolor(lb,lb,cm,vmin=-1,vmax=1,cmap='seismic')\n",
    "xscale('log')\n",
    "yscale('log')\n",
    "title('$gg$ p-$C_\\ell$ correlation, sims, W1')\n",
    "show()\n",
    "cm2=corr_matrix(cov_mat=cl0_win['cov'][corr])\n",
    "pcolor(lb,lb,cm2,vmin=-1,vmax=1,cmap='seismic')\n",
    "xscale('log')\n",
    "yscale('log')\n",
    "title('$gg$ p-$C_\\ell$ correlation, theory, W1')\n",
    "show()\n",
    "cov_t=xi_sim_W['coupling_M_binned']['iMaster'][corr].T@cl0['cov'][corr]['final_b']@xi_sim_W['coupling_M_binned']['iMaster'][corr]\n",
    "cm22=corr_matrix(cov_mat=cov_t)\n",
    "pcolor(lb,lb,cm22,vmin=-1,vmax=1,cmap='seismic')\n",
    "xscale('log')\n",
    "yscale('log')\n",
    "title('$gg$ p-$C_\\ell$ correlation, theory-2, W1')\n",
    "show()\n",
    "pcolor(lb,lb,cm-cm2,vmin=-1,vmax=1,cmap='seismic')\n",
    "xscale('log')\n",
    "yscale('log')\n",
    "title('$gg$ p-$C_\\ell$ Sims-theory, W1')\n",
    "show()\n",
    "pcolor(lb,lb,cm-cm22,vmin=-1,vmax=1,cmap='seismic')\n",
    "xscale('log')\n",
    "yscale('log')\n",
    "title('$gg$ p-$C_\\ell$ Sims-theory2, W1')"
   ]
  },
  {
   "cell_type": "raw",
   "metadata": {
    "scrolled": false
   },
   "source": [
    "corr=corr_gg\n",
    "cm=corr_matrix(cov_mat=np.real(xi_sim_Ww['clp_b_stats'][corr]['cov']))\n",
    "pcolor(lb,lb,cm,vmin=-1,vmax=1,cmap='seismic')\n",
    "xscale('log')\n",
    "yscale('log')\n",
    "title('$gg$ p-$C_\\ell$ correlation, sims, W2')\n",
    "show()\n",
    "cm2=corr_matrix(cov_mat=cl0_win_w['cov'][corr])\n",
    "pcolor(lb,lb,cm2,vmin=-1,vmax=1,cmap='seismic')\n",
    "xscale('log')\n",
    "yscale('log')\n",
    "title('$gg$ p-$C_\\ell$ correlation, theory, W2')\n",
    "show()\n",
    "cov_t=xi_sim_Ww['coupling_M_binned']['iMaster'][corr].T@cl0['cov'][corr]['final_b']@xi_sim_Ww['coupling_M_binned']['iMaster'][corr]\n",
    "cm22=corr_matrix(cov_mat=cov_t)\n",
    "pcolor(lb,lb,cm22,vmin=-1,vmax=1,cmap='seismic')\n",
    "xscale('log')\n",
    "yscale('log')\n",
    "title('$gg$ p-$C_\\ell$ correlation, theory-2, W2')\n",
    "show()\n",
    "pcolor(lb,lb,cm-cm2,vmin=-1,vmax=1,cmap='seismic')\n",
    "xscale('log')\n",
    "yscale('log')\n",
    "title('$gg$ p-$C_\\ell$ Sims-theory, W2')\n",
    "show()\n",
    "pcolor(lb,lb,cm-cm22,vmin=-1,vmax=1,cmap='seismic')\n",
    "xscale('log')\n",
    "yscale('log')\n",
    "title('$gg$ p-$C_\\ell$ Sims-theory2, W2')"
   ]
  },
  {
   "cell_type": "raw",
   "metadata": {},
   "source": [
    "coupling_M4w=kappa_win_w.Win.Win['cov'][corr+corr][(0,0,0,0)]['M'][1324]['clcl'][0] #*2\n",
    "coupling_M4w_binned={}\n",
    "coupling_M4w_binned_inv={}\n",
    "coupling_M4w_binned['iMaster']=M_binnings[corr].bin_2d_coupling(cov=coupling_M4w,bin_utils=M_binning_utils[corr])\n",
    "coupling_M4w_binned_inv['iMaster']=np.linalg.inv(coupling_M4w_binned['iMaster'])\n",
    "cov4wt=coupling_M4w_binned_inv['iMaster']*cl0_win_w['cov'][corr]\n",
    "cm4=corr_matrix(cov_mat=cov4wt)\n",
    "pcolor(lb,lb,cm4,vmin=-1,vmax=1,cmap='seismic')\n",
    "xscale('log')\n",
    "yscale('log')\n",
    "title('$gg$ $C_\\ell$ correlation, theory 4, W2, '+k)\n",
    "\n"
   ]
  },
  {
   "cell_type": "raw",
   "metadata": {
    "scrolled": false
   },
   "source": [
    "corr=corr_ll\n",
    "k='iMaster'\n",
    "cm=corr_matrix(cov_mat=np.real(xi_sim_Ww['clg_b_stats'][k][corr]['cov']))\n",
    "pcolor(lb,lb,cm,vmin=-1,vmax=1,cmap='seismic')\n",
    "xscale('log')\n",
    "yscale('log')\n",
    "title('$gg$ $C_\\ell$ correlation, sims, W2, '+k)\n",
    "show()\n",
    "cov2wt=xi_sim_Ww['coupling_M_binned_inv']['iMaster'][corr].T@cl0_win_w['cov'][corr]@xi_sim_Ww['coupling_M_binned_inv']['iMaster'][corr]\n",
    "\n",
    "cm2=corr_matrix(cov_mat=cov2wt)\n",
    "pcolor(lb,lb,cm2,vmin=-1,vmax=1,cmap='seismic')\n",
    "xscale('log')\n",
    "yscale('log')\n",
    "title('$gg$ $C_\\ell$ correlation, theory, W2, '+k)\n",
    "show()\n",
    "s=2\n",
    "if corr==corr_gg:\n",
    "    s=0\n",
    "coupling_M4w=kappa_win_w.Win.Win['cov'][corr+corr][(0,0,0,0)]['M'][1324]['clcl'][s] #*2\n",
    "coupling_M4w_binned={}\n",
    "coupling_M4w_binned_inv={}\n",
    "coupling_M4w_binned['iMaster']=M_binnings[corr].bin_2d_coupling(cov=coupling_M4w,bin_utils=M_binning_utils[corr])\n",
    "coupling_M4w_binned_inv['iMaster']=np.linalg.inv(coupling_M4w_binned['iMaster'])\n",
    "cov4wt=coupling_M4w_binned_inv['iMaster']*cl0_win_w['cov'][corr]\n",
    "cm4=corr_matrix(cov_mat=cov4wt)\n",
    "pcolor(lb,lb,cm4,vmin=-1,vmax=1,cmap='seismic')\n",
    "xscale('log')\n",
    "yscale('log')\n",
    "title('$gg$ $C_\\ell$ correlation, theory 4, W2, '+k)\n",
    "show()\n",
    "pcolor(lb,lb,cm-cm2,vmin=-1,vmax=1,cmap='seismic')\n",
    "xscale('log')\n",
    "yscale('log')\n",
    "title('$gg$ $C_\\ell$ Sims-theory, W2, '+k)\n",
    "show()\n",
    "pcolor(lb,lb,cm-cm4,vmin=-1,vmax=1,cmap='seismic')\n",
    "xscale('log')\n",
    "yscale('log')\n",
    "title('$gg$ $C_\\ell$ Sims-theory, W4, '+k)"
   ]
  },
  {
   "cell_type": "raw",
   "metadata": {},
   "source": [
    "cm=corr_matrix(cov_mat=np.real(xi_sim_W['clp_stats'][corr]['cov'])[:500,:500])\n",
    "pcolor(cm,vmin=-1,vmax=1,cmap='seismic')\n",
    "show()"
   ]
  },
  {
   "cell_type": "code",
   "execution_count": null,
   "metadata": {
    "scrolled": false
   },
   "outputs": [],
   "source": [
    "i=0\n",
    "for corr in corrs:\n",
    "    lbl=''\n",
    "    color=colors[i]\n",
    "    lbl=labels[corr]+' theory'\n",
    "    plot(lb,np.diag(cl0_win['cov'][corr]),'--',label=lbl,color=color)\n",
    "    lbl=labels[corr]+' sim'\n",
    "    plot(lb,np.diag(np.real(xi_sim_W['clp_b_stats'][corr]['cov'])),label=lbl,color=color)\n",
    "    i+=1\n",
    "legend()\n",
    "xscale('log')\n",
    "yscale('log')\n",
    "xlabel(r'$\\ell$')\n",
    "ylabel(r'$\\delta p-C_\\ell^2$')\n",
    "show()\n",
    "i=0\n",
    "for corr in corrs:\n",
    "    lbl=''\n",
    "    color=colors[i]\n",
    "    lbl=labels[corr]+'theory'\n",
    "    plot(lb,np.diag(cl0['cov'][corr]['final_b']),'--',label=lbl,color=color)\n",
    "    \n",
    "    lbl=labels[corr]+'sim'+' Master'\n",
    "    plot(lb,np.diag(np.real(xi_sim_W['clg_b_stats']['Master'][corr]['cov'])),label=lbl,color=color)\n",
    "    lbl=labels[corr]+'sim'+ ' iMaster'\n",
    "    plot(lb,np.diag(np.real(xi_sim_W['clg_b_stats']['iMaster'][corr]['cov'])),':',label=lbl,color=color)\n",
    "    i+=1\n",
    "xscale('log')\n",
    "yscale('log')\n",
    "legend()\n",
    "xlabel(r'$\\ell$')\n",
    "ylabel(r'$\\delta C_\\ell^2$')"
   ]
  },
  {
   "cell_type": "code",
   "execution_count": null,
   "metadata": {
    "scrolled": false
   },
   "outputs": [],
   "source": [
    "i=0\n",
    "for corr in corrs:\n",
    "    lbl=''\n",
    "    color=colors[i]\n",
    "    lbl=labels[corr]+' theory'\n",
    "    plot(lb,np.diag(np.real(xi_sim_W['clp_b_stats'][corr]['cov']))/np.diag(cl0_win['cov'][corr]),label=lbl,color=color)\n",
    "    i+=1\n",
    "legend()\n",
    "xscale('log')\n",
    "hlines(1,10,2000)\n",
    "# yscale('log')\n",
    "xlabel(r'$\\ell$')\n",
    "ylabel(r'$\\delta p-C_\\ell^2$')\n",
    "show()\n",
    "\n",
    "\n",
    "i=0\n",
    "for corr in corrs:\n",
    "    lbl=''\n",
    "    color=colors[i]\n",
    "    lbl=labels[corr]\n",
    "    plot(lb,np.diag(np.real(xi_sim_W['clg_b_stats']['Master'][corr]['cov']))/np.diag(cl0_win['cov'][corr]),label=lbl,color=color)\n",
    "    plot(lb,np.diag(np.real(xi_sim_W['clg_b_stats']['iMaster'][corr]['cov']))/np.diag(cl0_win['cov'][corr]),label=lbl,color=color,ls='--')\n",
    "    i+=1\n",
    "xscale('log')\n",
    "hlines(1,10,2000)\n",
    "ylim(0.5,1.5)\n",
    "# yscale('log')\n",
    "legend()\n",
    "xlabel(r'$\\ell$')\n",
    "ylabel(r'$\\delta C_\\ell^2$')\n",
    "show()\n",
    "\n",
    "\n",
    "i=0\n",
    "for corr in corrs:\n",
    "    lbl=''\n",
    "    color=colors[i]\n",
    "    lbl=labels[corr]\n",
    "    plot(lb,np.diag(np.real(xi_sim_W['clg_b_stats']['Master'][corr]['cov']))/np.diag(cl0['cov'][corr]['final_b']),label=lbl,color=color)\n",
    "    plot(lb,np.diag(np.real(xi_sim_W['clg_b_stats']['iMaster'][corr]['cov']))/np.diag(cl0['cov'][corr]['final_b']),label=lbl,color=color,ls='--')\n",
    "    i+=1\n",
    "xscale('log')\n",
    "hlines(1,10,2000)\n",
    "ylim(0.5,1.5)\n",
    "# yscale('log')\n",
    "legend()\n",
    "xlabel(r'$\\ell$')\n",
    "ylabel(r'$\\delta C_\\ell^2$')"
   ]
  },
  {
   "cell_type": "raw",
   "metadata": {
    "scrolled": false
   },
   "source": [
    "plot(lb,np.diag(cl0_win_w['cov'][corr]),'--',label='p-cl, th')\n",
    "plot(lb,np.diag(np.real(xi_sim_Ww['clp_b_stats'][corr]['cov'])),'-',label='p-cl, sim')\n",
    "xscale('log')\n",
    "yscale('log')\n",
    "legend()\n",
    "show()\n",
    "plot(lb,np.diag(cl0['cov'][corr]['final_b']),'--',label='cl, th-diag')\n",
    "plot(lb,np.diag(np.real(xi_sim_Ww['clg_b_stats']['iMaster'][corr]['cov'])),label='cl, sim, iMaster')\n",
    "plot(lb,np.diag(np.real(xi_sim_Ww['clg_b_stats']['Master'][corr]['cov'])),label='cl, sim, Master')\n",
    "xscale('log')\n",
    "yscale('log')\n",
    "legend()\n",
    "show()\n",
    "\n",
    "plot(lb,np.diag(np.real(xi_sim_Ww['clp_b_stats'][corr]['cov']))/np.diag(cl0_win_w['cov'][corr]),'--',label='p-cl, sim/th')\n",
    "xscale('log')\n",
    "# yscale('log')\n",
    "hlines(1,10,1000)\n",
    "show()\n",
    "plot(lb,np.diag(np.real(xi_sim_Ww['clg_b_stats']['iMaster'][corr]['cov']))/np.diag(cl0['cov'][corr]['final_b']))\n",
    "plot(lb,np.diag(np.real(xi_sim_Ww['clg_b_stats']['Master'][corr]['cov']))/np.diag(cl0['cov'][corr]['final_b']))\n",
    "xscale('log')\n",
    "hlines(1,10,1000)\n",
    "# yscale('log')"
   ]
  },
  {
   "cell_type": "code",
   "execution_count": null,
   "metadata": {
    "scrolled": false
   },
   "outputs": [],
   "source": [
    "for corr in corrs:\n",
    "    plot(lb,xi_sim_W['clg_b_stats']['nMaster'][corr]['percetile_score'],':',label='nMaster')\n",
    "    plot(lb,xi_sim_W['clg_b_stats']['Master'][corr]['percetile_score'],'--',label='Master')\n",
    "    plot(lb,xi_sim_W['clg_b_stats']['iMaster'][corr]['percetile_score'],label='iMaster')\n",
    "    legend()\n",
    "    xscale('log')\n",
    "    hlines(50,10,2000)\n",
    "    xlabel('$\\ell$')\n",
    "    ylabel(labels[corr]+', $C_\\ell$ th percentile score (W1)')\n",
    "    xlim(10,1000)\n",
    "    show()"
   ]
  },
  {
   "cell_type": "raw",
   "metadata": {
    "scrolled": false
   },
   "source": [
    "for corr in corrs:\n",
    "    plot(lb,xi_sim_Ww['clg_b_stats']['nMaster'][corr]['percetile_score'],':',label='nMaster')\n",
    "    plot(lb,xi_sim_Ww['clg_b_stats']['Master'][corr]['percetile_score'],'--',label='Master')\n",
    "    plot(lb,xi_sim_Ww['clg_b_stats']['iMaster'][corr]['percetile_score'],label='iMaster')\n",
    "    legend()\n",
    "    xscale('log')\n",
    "    hlines(50,10,2000)\n",
    "    xlabel('$\\ell$')\n",
    "    xlabel(labels[corr]+', $C_\\ell$ th percentile score (W1)')\n",
    "    xlim(10,1000)\n",
    "    show()"
   ]
  },
  {
   "cell_type": "code",
   "execution_count": null,
   "metadata": {},
   "outputs": [],
   "source": [
    "from scipy.stats import wishart,norm,multivariate_normal\n",
    "from scipy.optimize import minimize\n",
    "from scipy.stats import entropy,chi2\n",
    "from scipy.optimize import minimize\n",
    "def wishart_entropy(df,d):\n",
    "    if df<1 or not np.isfinite(df):\n",
    "        return np.inf\n",
    "    df=df[0]\n",
    "    m=d.mean()\n",
    "    \n",
    "    d=d\n",
    "    lim=(d.min()*0.9,d.max()*1.1)\n",
    "    count,edges=np.histogram(d,bins=100,range=lim,normed=1)\n",
    "    edges_m=0.5*(edges[1:]+edges[:-1])\n",
    "    x=edges_m>0\n",
    "    pW=np.zeros_like(edges_m)\n",
    "    pW[x]=wishart.pdf(edges_m[x],scale=m/df,df=df)\n",
    "    pW*=count.max()/pW.max()\n",
    "#     print(entropy(count,pW),df)\n",
    "#     crash\n",
    "    return entropy(count,pW)"
   ]
  },
  {
   "cell_type": "code",
   "execution_count": null,
   "metadata": {},
   "outputs": [],
   "source": [
    "corr=corr_gg\n",
    "corr_indx=0"
   ]
  },
  {
   "cell_type": "code",
   "execution_count": null,
   "metadata": {},
   "outputs": [],
   "source": [
    "shear_lcut=kappa_win.l>=2\n",
    "cut=kappa_win.l>0\n",
    "s=0\n",
    "if 'shear' in corr:\n",
    "    cut=shear_lcut\n",
    "    s=2\n",
    "coupling_M=kappa_win.Win.Win['cl'][corr][(0,0)]['M']\n",
    "coupling_M4=kappa_win.Win.Win['cov'][corr+corr][(0,0,0,0)]['M'][1324]['clcl'][s] #*2\n",
    "# coupling_M_inv=np.linalg.inv(coupling_M)\n",
    "coupling_M_inv=np.zeros_like(coupling_M)\n",
    "coupling_M_inv[:,cut][cut,:]=np.linalg.inv(coupling_M[cut,:][:,cut]) #otherwise we get singular matrix since for shear l<2 is not defined.\n",
    "coupling_M_binned2=kappa_win.binning.bin_2d(cov=coupling_M,bin_utils=kappa_win.cl_bin_utils) #this doesnot work... difference of bin size\n",
    "#loglog(lb,np.diag(coupling_M_binned2)/np.diag(coupling_M_binned)*np.gradient(lb))\n",
    "coupling_M_binned2*=dl\n",
    "coupling_M_binned=bin_coupling_M(kappa_win,coupling_M)\n",
    "coupling_M_binned_inv=np.linalg.inv(coupling_M_binned)\n",
    "coupling_M_binned2_inv=np.linalg.inv(coupling_M_binned2)\n",
    "coupling_M4_binned=bin_coupling_M(kappa_win,coupling_M4)\n",
    "coupling_M4_binned2=kappa_win.binning.bin_2d(cov=coupling_M4,bin_utils=kappa_win.cl_bin_utils) \n",
    "coupling_M4_binned_inv=np.linalg.inv(coupling_M4_binned)\n",
    "\n",
    "coupling_M_binned_inv2=kappa_win.binning.bin_2d(cov=coupling_M_inv,bin_utils=kappa_win.cl_bin_utils)\n",
    "\n",
    "coupling_Mw=kappa_win_w.Win.Win['cl'][corr][(0,0)]['M']\n",
    "coupling_M4w=kappa_win_w.Win.Win['cov'][corr+corr][(0,0,0,0)]['M'][1324]['clcl'][s] #*2\n",
    "# coupling_Mw_inv=np.linalg.inv(coupling_Mw)\n",
    "coupling_Mw_inv=np.zeros_like(coupling_Mw)\n",
    "coupling_Mw_inv[:,cut][cut,:]=np.linalg.inv(coupling_Mw[cut,:][:,cut]) #otherwise we get singular matrix since for shear l<2 is not defined.\n",
    "\n",
    "coupling_Mw_binned2=kappa_win_w.binning.bin_2d(cov=coupling_Mw,bin_utils=kappa_win_w.cl_bin_utils) #this doesnot work... difference of bin size\n",
    "coupling_Mw_binned2*=dl\n",
    "#loglog(lb,np.diag(coupling_M_binned2)/np.diag(coupling_M_binned)*np.gradient(lb))\n",
    "coupling_Mw_binned=bin_coupling_M(kappa_win_w,coupling_Mw)\n",
    "coupling_Mw_binned_inv=np.linalg.inv(coupling_Mw_binned)\n",
    "coupling_Mw_binned2_inv=np.linalg.inv(coupling_Mw_binned2)\n",
    "coupling_M4w_binned=bin_coupling_M(kappa_win_w,coupling_M4w)\n",
    "coupling_M4w_binned2=kappa_win.binning.bin_2d(cov=coupling_M4w,bin_utils=kappa_win.cl_bin_utils) \n",
    "coupling_M4w_binned_inv=np.linalg.inv(coupling_M4w_binned)\n",
    "\n",
    "coupling_Mw_binned_inv2=kappa_win.binning.bin_2d(cov=coupling_Mw_inv,bin_utils=kappa_win.cl_bin_utils)"
   ]
  },
  {
   "cell_type": "code",
   "execution_count": null,
   "metadata": {},
   "outputs": [],
   "source": [
    "kappa_win.SN[corr].shape"
   ]
  },
  {
   "cell_type": "code",
   "execution_count": null,
   "metadata": {
    "scrolled": false
   },
   "outputs": [],
   "source": [
    "df_fit=np.zeros_like(lb)\n",
    "coupling_M_binned=xi_sim_W['coupling_M_binned']['iMaster'][corr]\n",
    "# coupling_M4_binned2=xi_sim_W['coupling_M4_binned2'][corr]\n",
    "for l_i in np.arange(len(lb)):\n",
    "#     l_i=1\n",
    "    shot_noise=kappa_win.SN[corr][0,0,0]\n",
    "#     noise_f=(cl0_win['cl_b'][corr][l_i]+shot_noise)/cl0_win['cl_b'][corr][l_i]\n",
    "    noise_f=1#(cl0['cl_b'][corr][l_i]+shot_noise)/cl0['cl_b'][corr][l_i] #this should be cl, not p-cl\n",
    "    df=xi_sim_W['nu_b'][l_i]/noise_f**2\n",
    "    df2=df*np.diag(coupling_M_binned)[l_i]/f_sky\n",
    "    df3=np.diag(coupling_M_binned)**2/np.diag(coupling_M4_binned2) #* np.gradient(lb)\n",
    "    df3/=noise_f**2\n",
    "    df3=df3[l_i]\n",
    "    df=max(1,df)\n",
    "    df2=max(1,df2)\n",
    "    df3=max(1,df3)\n",
    "    \n",
    "    print(df)\n",
    "\n",
    "    d=xi_sim_W['clg_b']['iMaster'][:,l_i,corr_indx]\n",
    "#     m=xi_sim_W['clg_b'][:,l_i].mean()\n",
    "    m=d.mean()#cl0['cl_b'][l_i]\n",
    "    s=1\n",
    "    if m<0:\n",
    "        s=-1 \n",
    "    d=d*s\n",
    "    m=d.mean()\n",
    "\n",
    "    xx=minimize(wishart_entropy,x0=df3,args=(d),method='Powell',options={'maxiter':1000})\n",
    "    print(xx.success)\n",
    "    df_xx=np.float32(xx.x)\n",
    "    df_fit[l_i]=df_xx\n",
    "    lim=(d.min()*0.9,d.max()*1.1)\n",
    "    count,edges=np.histogram(d,bins=100,range=lim,normed=1)\n",
    "    edges_m=0.5*(edges[1:]+edges[:-1])\n",
    "    x=edges_m>0\n",
    "    pW=np.zeros_like(edges_m)\n",
    "    pW2=np.zeros_like(edges_m)\n",
    "    pW3=np.zeros_like(edges_m)\n",
    "    pWF=np.zeros_like(edges_m)\n",
    "#     edges_m=np.absolute(edges_m)\n",
    "    pW[x]=wishart.pdf(edges_m[x],scale=m/df,df=df)\n",
    "    pW2[x]=wishart.pdf(edges_m[x],scale=m/df2,df=df2)\n",
    "    pW3[x]=wishart.pdf(edges_m[x],scale=m/df3,df=df3)\n",
    "#     pW=chi2.pdf(edges_m,df,scale=m*s/df)\n",
    "    print(df_xx)\n",
    "    pWF[x]=wishart.pdf(edges_m[x],scale=m/df_xx,df=df_xx)\n",
    "    \n",
    "    plot(edges_m,count,label=r'$\\ell$'+str(np.around(lb[l_i],decimals=2)))\n",
    "    plot(edges_m,pW,':',label='no Win, df='+str(np.around(df,decimals=2)))\n",
    "    plot(edges_m,pW2,'--',label='Win, df='+str(np.around(df2,decimals=2)))\n",
    "    plot(edges_m,pW3,'-.',label='Win +cov, df='+str(np.around(df3,decimals=2)))\n",
    "    plot(edges_m,pWF,label='fit, df='+str(np.around(df_xx,decimals=2)))\n",
    "    vlines(m,0,pW.max())\n",
    "    vlines(cl0['cl_b'][corr][l_i],0,pW.max(),linestyles='--')\n",
    "    \n",
    "    legend()\n",
    "    show()\n",
    "    i+=1\n",
    "#     crash\n"
   ]
  },
  {
   "cell_type": "code",
   "execution_count": null,
   "metadata": {},
   "outputs": [],
   "source": [
    "noise_f=(cl0['cl_b'][corr]+shot_noise)/cl0['cl_b'][corr]\n",
    "df=xi_sim_W['nu_b']/noise_f**2\n",
    "df2=df*np.diag(coupling_M_binned)/f_sky\n",
    "df3=np.diag(coupling_M_binned)**2/np.diag(coupling_M4_binned2)# * np.gradient(lb)\n",
    "# df3*=2\n",
    "df3/=noise_f**2\n",
    "f=1./lb**2\n",
    "plot(lb,df_fit*f,label='fit')\n",
    "plot(lb,df*f,label='fsky')\n",
    "plot(lb,df2*f,label='F2')\n",
    "plot(lb,df3*f,label='F4')\n",
    "xscale('log')\n",
    "# yscale('log')\n",
    "ylim(0.,0.1)\n",
    "legend()"
   ]
  },
  {
   "cell_type": "code",
   "execution_count": null,
   "metadata": {
    "scrolled": false
   },
   "outputs": [],
   "source": [
    "df_fitw=np.zeros_like(lb)\n",
    "coupling_Mw_binned=xi_sim_Ww['coupling_M_binned']['iMaster'][corr]\n",
    "for l_i in np.arange(len(lb)):\n",
    "    shot_noise=kappa_win.SN[corr][0,0,0]\n",
    "#     noise_f=(cl0_win['cl_b'][corr][l_i]+shot_noise)/cl0_win['cl_b'][corr][l_i]\n",
    "    noise_f=1#(cl0['cl_b'][corr][l_i]+shot_noise)/cl0['cl_b'][corr][l_i] #this should be cl, not p-cl\n",
    "    df=xi_sim_W['nu_b'][l_i]/noise_f**2\n",
    "    df2=df*np.diag(coupling_Mw_binned)[l_i]/f_sky\n",
    "    df3=np.diag(coupling_Mw_binned)**2/np.diag(coupling_M4w_binned2) #* np.gradient(lb)\n",
    "    df3/=noise_f**2\n",
    "    df3=df3[l_i]\n",
    "    if df3<1:\n",
    "        print(df3,df)\n",
    "        df3=1\n",
    "#     df=df3[l_i]\n",
    "    d=xi_sim_Ww['clg_b']['iMaster'][:,l_i]\n",
    "#     m=xi_sim_W['clg_b'][:,l_i].mean()\n",
    "    m=d.mean()#cl0['cl_b'][l_i]\n",
    "    s=1\n",
    "    if m<0:\n",
    "        s=-1 \n",
    "    d=d*s\n",
    "    m=d.mean()\n",
    "\n",
    "    xx=minimize(wishart_entropy,x0=df3,args=(d),method='Powell')\n",
    "    df_xx=np.float32(xx.x)\n",
    "    df_fitw[l_i]=df_xx\n",
    "    lim=(d.min()*0.9,d.max()*1.1)\n",
    "    count,edges=np.histogram(d,bins=100,range=lim,normed=1)\n",
    "    edges_m=0.5*(edges[1:]+edges[:-1])\n",
    "    x=edges_m>0\n",
    "    pW=np.zeros_like(edges_m)\n",
    "    pW2=np.zeros_like(edges_m)\n",
    "    pW3=np.zeros_like(edges_m)\n",
    "    pWF=np.zeros_like(edges_m)\n",
    "#     edges_m=np.absolute(edges_m)\n",
    "    pW[x]=wishart.pdf(edges_m[x],scale=m/df,df=df)\n",
    "    pW2[x]=wishart.pdf(edges_m[x],scale=m/df2,df=df2)\n",
    "    pW3[x]=wishart.pdf(edges_m[x],scale=m/df3,df=df3)\n",
    "#     pW=chi2.pdf(edges_m,df,scale=m*s/df)\n",
    "    pWF[x]=wishart.pdf(edges_m[x],scale=m/df_xx,df=df_xx)\n",
    "    \n",
    "    plot(edges_m,count,label=r'$\\ell=$'+str(np.around(lb[l_i],decimals=2)))\n",
    "    plot(edges_m,pW,':',label=r'$\\nu_{(2\\ell+1)f_{sky}}=$'+str(np.around(df,decimals=2)))\n",
    "#     plot(edges_m,pW2,'--',label=np.around(df2,decimals=2))\n",
    "    plot(edges_m,pW3,'-.',label=r'$\\nu_{win}=$'+str(np.around(df3,decimals=2)))\n",
    "    plot(edges_m,pWF,label=r'$\\nu_{fit}=$'+str(np.around(df_xx,decimals=2)))\n",
    "#     vlines(m,0,pW.max())\n",
    "#     vlines(cl0['cl_b'][l_i],0,pW.max(),linestyles='--')\n",
    "    xlabel(r'$C_{\\ell}$')\n",
    "    legend()\n",
    "    show()\n",
    "#     crash"
   ]
  },
  {
   "cell_type": "code",
   "execution_count": null,
   "metadata": {},
   "outputs": [],
   "source": [
    "noise_f=(cl0['cl_b']+shot_noise)/cl0['cl_b']\n",
    "df=xi_sim_Ww['nu_b']/noise_f**2\n",
    "df2=df*np.diag(coupling_Mw_binned)/f_sky\n",
    "df3=np.diag(coupling_Mw_binned)**2/np.diag(coupling_M4w_binned2)# * np.gradient(lb)\n",
    "# df3*=2\n",
    "df3/=noise_f**2\n",
    "f=1./lb**2\n",
    "plot(lb,df_fitw*f,label='fit')\n",
    "plot(lb,df*f,label='fsky')\n",
    "plot(lb,df2*f,label='F2')\n",
    "plot(lb,df3*f,label='F4')\n",
    "xscale('log')\n",
    "# yscale('log')\n",
    "ylim(0.,0.1)\n",
    "legend()"
   ]
  },
  {
   "cell_type": "code",
   "execution_count": null,
   "metadata": {
    "scrolled": false
   },
   "outputs": [],
   "source": [
    "for l_i in np.arange(len(lb)):\n",
    "#     l_i=1\n",
    "    df=xi_sim_W['nu_b'][l_i]/f_sky\n",
    "    df2=df/np.diag(coupling_M_binned_inv)[l_i]#/f_sky\n",
    "    d=xi_sim_W['clp_b'][:,l_i]\n",
    "#     m=xi_sim_W['clg_b'][:,l_i].mean()\n",
    "    m=d.mean()#cl0['cl_b'][l_i]\n",
    "    s=1\n",
    "    if m<0:\n",
    "        s=-1 \n",
    "    d=d*s\n",
    "    m=d.mean()\n",
    "\n",
    "    xx=minimize(wishart_entropy,x0=1,args=(d),method='Powell')\n",
    "    df_xx=np.float32(xx.x)\n",
    "    lim=(d.min()*0.9,d.max()*1.1)\n",
    "    count,edges=np.histogram(d,bins=100,range=lim,normed=1)\n",
    "    edges_m=0.5*(edges[1:]+edges[:-1])\n",
    "    x=edges_m>0\n",
    "    pW=np.zeros_like(edges_m)\n",
    "    pW2=np.zeros_like(edges_m)\n",
    "    pWF=np.zeros_like(edges_m)\n",
    "#     edges_m=np.absolute(edges_m)\n",
    "    pW[x]=wishart.pdf(edges_m[x],scale=m/df,df=df)\n",
    "    pW2[x]=wishart.pdf(edges_m[x],scale=m/df2,df=df2)\n",
    "#     pW=chi2.pdf(edges_m,df,scale=m*s/df)\n",
    "    pWF[x]=wishart.pdf(edges_m[x],scale=m/df_xx,df=df_xx)\n",
    "    \n",
    "    plot(edges_m,count,label=r'$\\ell$'+str(np.around(lb[l_i],decimals=2)))\n",
    "    plot(edges_m,pW,':',label=np.around(df,decimals=2))\n",
    "    plot(edges_m,pW2,'--',label=np.around(df2,decimals=2))\n",
    "    plot(edges_m,pWF,label=np.around(df_xx,decimals=2))\n",
    "    vlines(m,0,pW.max())\n",
    "    vlines(cl0_win['cl_b'][l_i],0,pW.max(),linestyles='--')\n",
    "    \n",
    "    legend()\n",
    "    show()\n",
    "#     crash"
   ]
  },
  {
   "cell_type": "raw",
   "metadata": {
    "scrolled": false
   },
   "source": [
    "for l_i in np.arange(19):\n",
    "#     l_i=1\n",
    "    df=xi_sim_W['nu_b'][l_i]\n",
    "    d=xi_sim_W['clp_b'][:,l_i]\n",
    "#     m=xi_sim_W['clg_b'][:,l_i].mean()\n",
    "    m=cl0_win['cl_b'][l_i]\n",
    "    s=1\n",
    "    if m<0:\n",
    "        s=-1 \n",
    "    d=d*s\n",
    "\n",
    "#     xx=minimize(wishart_entropy,x0=df,args=(d))\n",
    "    lim=(d.min()*0.9,d.max()*1.1)\n",
    "    count,edges=np.histogram(d,bins=100,range=lim,normed=1)\n",
    "    edges_m=0.5*(edges[1:]+edges[:-1])\n",
    "#     edges_m=np.absolute(edges_m)\n",
    "#     pW=wishart.pdf(edges_m,scale=m*s/df,df=df)\n",
    "    pW=chi2.pdf(edges_m,df,scale=m*s/df)\n",
    "#     pW2=wishart.pdf(edges_m,scale=m*s/xx.x[0],df=xx.x[0])\n",
    "    \n",
    "    plot(edges_m,count)\n",
    "    plot(edges_m,pW,label=np.around(df,decimals=2))\n",
    "    vlines(m,0,pW.max())\n",
    "#     plot(edges_m,pW2,'--',label=np.around(xx.x[0],decimals=2))\n",
    "    legend()\n",
    "    show()"
   ]
  },
  {
   "cell_type": "code",
   "execution_count": null,
   "metadata": {},
   "outputs": [],
   "source": [
    "import jk_utils\n",
    "reload(jk_utils)\n",
    "from jk_utils import *"
   ]
  },
  {
   "cell_type": "code",
   "execution_count": null,
   "metadata": {},
   "outputs": [],
   "source": [
    "def get_cljk(cl_map,N_map,jk_win):\n",
    "    x=jk_win>-1000\n",
    "    print(x.mean())\n",
    "    cl_map_jk=cl_map*jk_win\n",
    "    N_map_jk=N_map*np.sqrt(jk_win)\n",
    "    jk_map=cl_map_jk+N_map_jk\n",
    "    \n",
    "    jk_map[~x]=hp.UNSEEN\n",
    "    \n",
    "    clp=hp.anafast(jk_map,lmax=np.int(l0.max()))\n",
    "    return clp"
   ]
  },
  {
   "cell_type": "code",
   "execution_count": null,
   "metadata": {},
   "outputs": [],
   "source": [
    "def jk_mean(p={},njk=100,subsample=False):\n",
    "#     if check_empty(p):\n",
    "#         print ('jk-mean: got empty dict')\n",
    "#         return p\n",
    "    p2={}\n",
    "    nn=np.arange(njk)\n",
    "    for i in nn: #p.keys():\n",
    "        #if i in nn:\n",
    "        p2[i]=p[i]\n",
    "    jk_vals=np.array(list(p2.values()))\n",
    "    mean=np.mean(jk_vals,axis=0)\n",
    "    #print mean\n",
    "    var=np.var(jk_vals,axis=0,ddof=0)\n",
    "    cov=np.cov(jk_vals,rowvar=0)\n",
    "    if subsample:\n",
    "        var/=njk\n",
    "        cov/=njk\n",
    "    else:\n",
    "        cov*=(njk-1)\n",
    "    p['mean']=mean\n",
    "    p['err']=np.sqrt(var) \n",
    "    p['cov']=cov\n",
    "    p['corr']=corr_matrix(cov_mat=cov)\n",
    "    return p\n",
    "\n",
    "def sample_mean(p={},nsamp=100):\n",
    "#     if check_empty(p):\n",
    "#         print ('sample-mean: got empty dict')\n",
    "#         return p\n",
    "    p2={}\n",
    "    nn=np.arange(nsamp)\n",
    "    for i in nn: #p.keys():\n",
    "        #if i in nn:\n",
    "        p2[i]=p[i]\n",
    "    jk_vals=np.array(list(p2.values()))\n",
    "    mean=np.mean(jk_vals,axis=0)\n",
    "    #print mean\n",
    "    var=np.var(jk_vals,axis=0,ddof=0)\n",
    "    p['mean']=mean\n",
    "    p['err']=np.sqrt(var)\n",
    "    try:\n",
    "        cov=np.cov(jk_vals,rowvar=0)\n",
    "        p['cov']=cov\n",
    "        p['corr']=corr_matrix(cov_mat=cov)\n",
    "    except Exception as err:\n",
    "        p['cov']=err\n",
    "        p['corr']=err\n",
    "    return p"
   ]
  },
  {
   "cell_type": "raw",
   "metadata": {},
   "source": [
    "crash"
   ]
  },
  {
   "cell_type": "code",
   "execution_count": null,
   "metadata": {},
   "outputs": [],
   "source": []
  },
  {
   "cell_type": "code",
   "execution_count": null,
   "metadata": {},
   "outputs": [],
   "source": [
    "njk1=10\n",
    "njk2=njk1\n",
    "njk=njk1*njk2"
   ]
  },
  {
   "cell_type": "code",
   "execution_count": null,
   "metadata": {},
   "outputs": [],
   "source": [
    "mask=zs_bin1[0]['window']>-1000\n",
    "mask=mask.astype('bool')\n",
    "jkmap=jk_map(mask=mask,nside=nside,njk1=njk1,njk2=njk2)"
   ]
  },
  {
   "cell_type": "code",
   "execution_count": null,
   "metadata": {},
   "outputs": [],
   "source": [
    "hp.mollview(jkmap)"
   ]
  },
  {
   "cell_type": "code",
   "execution_count": null,
   "metadata": {},
   "outputs": [],
   "source": [
    "corr=corr_gg"
   ]
  },
  {
   "cell_type": "code",
   "execution_count": null,
   "metadata": {},
   "outputs": [],
   "source": [
    "njk_sims=10"
   ]
  },
  {
   "cell_type": "code",
   "execution_count": null,
   "metadata": {},
   "outputs": [],
   "source": [
    "kappa0.SN[corr][bi]"
   ]
  },
  {
   "cell_type": "code",
   "execution_count": null,
   "metadata": {},
   "outputs": [],
   "source": [
    "local_state = np.random.RandomState(12312)\n",
    "clg0=cl0['cl'][corr]\n",
    "clN0=kappa0.SN[corr][bi]*np.ones_like(clg0)#[:256]\n",
    "cl_map={}\n",
    "N_map={}\n",
    "for i in np.arange(njk_sims):\n",
    "    cl_map[i]=hp.synfast(clg0,nside=nside,RNG=local_state)#new=True,pol=False)\n",
    "    N_map[i]=hp.synfast(clN0,nside=nside,RNG=local_state)#new=True,pol=False)"
   ]
  },
  {
   "cell_type": "code",
   "execution_count": null,
   "metadata": {},
   "outputs": [],
   "source": [
    "# zs_bins=zs_bin1\n",
    "zs_bins=zl_bin1"
   ]
  },
  {
   "cell_type": "raw",
   "metadata": {},
   "source": [
    "njk1=8\n",
    "njk2=8"
   ]
  },
  {
   "cell_type": "code",
   "execution_count": null,
   "metadata": {},
   "outputs": [],
   "source": [
    "jk_corr_indxs={}\n",
    "jk_corr_indxs[corr]=[(i,i) for i in np.arange(njk2)]"
   ]
  },
  {
   "cell_type": "code",
   "execution_count": null,
   "metadata": {},
   "outputs": [],
   "source": [
    "client.restart()"
   ]
  },
  {
   "cell_type": "code",
   "execution_count": null,
   "metadata": {},
   "outputs": [],
   "source": [
    "subsample=True\n",
    "fsky_f=njk*1./(njk-1.)\n",
    "if subsample:\n",
    "    fsky_f=njk"
   ]
  },
  {
   "cell_type": "code",
   "execution_count": null,
   "metadata": {},
   "outputs": [],
   "source": [
    "# clp_jk={}\n",
    "# clg_jk={}\n",
    "# Mcl_jk={}\n",
    "# MN_jk={}\n",
    "\n",
    "\n",
    "# for isim in np.arange(njk_sims):\n",
    "#     clp_jk[isim]={}\n",
    "#     clg_jk[isim]={}\n",
    "#     Mcl_jk[isim]={}\n",
    "#     MN_jk[isim]={}\n",
    "for i1 in np.arange(njk1):\n",
    "    zs_binjk={}\n",
    "\n",
    "    for k in zs_bins.keys():\n",
    "        if k==0:\n",
    "            continue\n",
    "        zs_binjk[k]=zs_bins[k]\n",
    "\n",
    "    for i2 in np.arange(njk2):\n",
    "        ijk=i1*njk2+i2\n",
    "        zs_binjk[i2]=copy.deepcopy(zs_bins[0])\n",
    "        x=jkmap==ijk\n",
    "        if subsample:\n",
    "            zs_binjk[i2]['window'][~x]=hp.UNSEEN\n",
    "        else:\n",
    "            zs_binjk[i2]['window'][x]=hp.UNSEEN\n",
    "#         zs_binjk[i2]['window']=hp.ud_grade(zs_binjk[i2]['window'],nside_out=512,pess=True,power=-2)\n",
    "        zs_binjk[i2]['window_alm']=hp.map2alm(zs_binjk[i2]['window'])\n",
    "#         zs_binjk[ijk]['window']=None\n",
    "        zs_binjk[i2]['window_cl']=None\n",
    "\n",
    "    kappa_win_jk= cov_3X2(zs_bins=None,do_cov=False,bin_cl=bin_cl,l_bins=l_bins,l=l0, zg_bins=zs_binjk,\n",
    "                    use_window=use_window,store_win=store_win,window_lmax=window_lmax,corrs=[corr],\n",
    "                    SSV_cov=SSV_cov,tidal_SSV_cov=tidal_SSV_cov,f_sky=f_sky,\n",
    "                    HT=WT_L,bin_xi=bin_xi,theta_bins=th_bins,do_xi=do_xi,\n",
    "                    wigner_files=wigner_files,corr_indxs=jk_corr_indxs\n",
    "                         )\n",
    "    for i2 in np.arange(njk2):\n",
    "        ijk=i1*njk2+i2\n",
    "        Mcl_jk[ijk]=kappa_win_jk.Win.Win['cl'][corr][bi]['M']\n",
    "        MN_jk[ijk]=kappa_win_jk.Win.Win['cl'][corr][bi]['M_noise']\n",
    "        Mcl_jk[ijk]=M_binnings[corr].bin_2d_coupling(cov=Mcl_jk[ijk].T,bin_utils=M_binning_utils[corr])\n",
    "        Mcl_jk[ijk]=Mcl_jk[ijk].T  #to keep the same order in dot product later. Remeber that the coupling matrix is not symmetric.\n",
    "        for isim in np.arange(njk_sims):\n",
    "            clp_jk[isim][ijk]=get_cljk(cl_map[isim],N_map[isim],zs_binjk[i2]['window'])\n",
    "            clp_jk[isim][ijk]-=clN0@MN_jk[ijk]\n",
    "            clp_jk[isim][ijk]=M_binnings[corr].bin_1d(xi=clp_jk[isim][ijk],bin_utils=kappa0.cl_bin_utils)\n",
    "            clg_jk[isim][ijk]=clp_jk[isim][ijk]@np.linalg.inv(Mcl_jk[ijk])\n",
    "            clp_jk[isim][ijk]*=fsky_f\n",
    "    del kappa_win_jk\n",
    "    del zs_binjk"
   ]
  },
  {
   "cell_type": "code",
   "execution_count": null,
   "metadata": {},
   "outputs": [],
   "source": [
    "fsky_f"
   ]
  },
  {
   "cell_type": "code",
   "execution_count": null,
   "metadata": {},
   "outputs": [],
   "source": [
    "clp_jk_th={}\n",
    "clp_jk_m0={}\n",
    "clp_jk_diff={i:{} for i in np.arange(njk_sims)}\n",
    "clg0_b=M_binnings[corr].bin_1d(xi=clg0,bin_utils=kappa0.cl_bin_utils)\n",
    "clg0_b2=M_binnings[corr].bin_1d(xi=hp.anafast(cl_map[0],lmax=np.int(l0.max())),bin_utils=kappa0.cl_bin_utils)\n",
    "for i in np.arange(njk):\n",
    "    clp_jk_th[i]=clg0_b@Mcl_jk[i]*fsky_f\n",
    "    clp_jk_m0[i]=clg0_b2@Mcl_jk[i]*fsky_f\n",
    "    for isim in np.arange(njk_sims):\n",
    "        clp_jk_diff[isim][i]=clp_jk[isim][i]-clp_jk_th[i]\n",
    "#     plot(lb,clp_jk[0][i]/clp_jk_th[i])\n",
    "    plot(lb,clp_jk[0][i]/clp_jk_m0[i])\n",
    "#     plot(lb,clp_jk[0][i])\n",
    "xscale('log')\n",
    "hlines(1,10,1000)"
   ]
  },
  {
   "cell_type": "code",
   "execution_count": null,
   "metadata": {},
   "outputs": [],
   "source": [
    "clp_jk_th=jk_mean(clp_jk_th,njk=njk)\n",
    "# vv=np.array(list(clp_jk_th.values()))\n",
    "# clp_th_jk_mean=np.mean(vv,axis=0)\n",
    "# clp_th_jk_cov=np.cov(vv,rowvar=0)*(njk-1)\n",
    "# clp_th_jk_std=np.sqrt(np.diag(clp_th_jk_cov))"
   ]
  },
  {
   "cell_type": "code",
   "execution_count": null,
   "metadata": {},
   "outputs": [],
   "source": [
    "cl_map_win=cl_map[0]*zl_bin1[0]['window']\n",
    "x=zs_bins[0]['window']==hp.UNSEEN\n",
    "cl_map_win[x]=hp.UNSEEN\n",
    "clp_b2=M_binnings[corr].bin_1d(xi=hp.anafast(cl_map_win,lmax=np.int(l0.max())),bin_utils=kappa0.cl_bin_utils)\n",
    "hp.mollview(cl_map_win)\n",
    "\n"
   ]
  },
  {
   "cell_type": "code",
   "execution_count": null,
   "metadata": {},
   "outputs": [],
   "source": [
    "xi_sim_W.keys()"
   ]
  },
  {
   "cell_type": "code",
   "execution_count": null,
   "metadata": {},
   "outputs": [],
   "source": [
    "clp_sim_mean=xi_sim_W['clp_b_stats'][corr]['mean']\n",
    "clp_sim_th=xi_sim_W['clp0'][corr]"
   ]
  },
  {
   "cell_type": "code",
   "execution_count": null,
   "metadata": {},
   "outputs": [],
   "source": [
    "if subsample:\n",
    "    f=1\n",
    "else:\n",
    "    f=1.01\n",
    "for i in np.arange(njk):\n",
    "#     plot(lb,clp_jk_th[i]/clp_jk_th['mean']*1.)\n",
    "    plot(lb,clp_jk_th[i]/clp_sim_mean*f,':')\n",
    "#     plot(lb,clp_jk_th[i]/clp_b2*1.01,'--')\n",
    "plot(lb,clp_jk_th['mean']/clp_sim_mean*f,'-')\n",
    "plot(lb,clp_jk_th['mean']/clp_sim_th*f,'-')\n",
    "xscale('log')\n",
    "hlines(1,10,1000)\n",
    "# ylim(.98,1.021)"
   ]
  },
  {
   "cell_type": "code",
   "execution_count": null,
   "metadata": {},
   "outputs": [],
   "source": [
    "clp_jk_th['err']"
   ]
  },
  {
   "cell_type": "code",
   "execution_count": null,
   "metadata": {},
   "outputs": [],
   "source": [
    "errorbar(lb,clp_jk_th['mean']/clp_sim_mean,clp_jk_th['err']/clp_sim_mean)\n",
    "xscale('log')\n",
    "# yscale('log')\n",
    "# hlines(1,10,1000)"
   ]
  },
  {
   "cell_type": "code",
   "execution_count": null,
   "metadata": {},
   "outputs": [],
   "source": [
    "clp_diff_jk_mean={}\n",
    "clp_diff_jk_cov={}\n",
    "clp_diff_jk_std={}\n",
    "for isim in np.arange(njk_sims):\n",
    "    clp_jk_diff[isim]=jk_mean(clp_jk_diff[isim],subsample=subsample)\n",
    "    clp_diff_jk_mean[isim]=clp_jk_diff[isim]['mean']\n",
    "    clp_diff_jk_cov[isim]=clp_jk_diff[isim]['cov']\n",
    "    clp_diff_jk_std[isim]=clp_jk_diff[isim]['err']\n",
    "#     vv=np.array(list(clp_jk_diff[isim].values()))\n",
    "#     clp_diff_jk_mean[isim]=np.mean(vv,axis=0)\n",
    "#     clp_diff_jk_cov[isim]=np.cov(vv,rowvar=0)*(njk-1)\n",
    "#     clp_diff_jk_std[isim]=np.sqrt(np.diag(clp_diff_jk_cov[isim]))\n",
    "clp_diff_jk_mean=sample_mean(clp_diff_jk_mean,nsamp=njk_sims)\n",
    "clp_diff_jk_std=sample_mean(clp_diff_jk_std,nsamp=njk_sims)\n",
    "clp_diff_jk_cov=sample_mean(clp_diff_jk_cov,nsamp=njk_sims)"
   ]
  },
  {
   "cell_type": "code",
   "execution_count": null,
   "metadata": {},
   "outputs": [],
   "source": [
    "for isim in np.arange(njk_sims):\n",
    "    plot(lb,clp_jk_diff[isim]['mean']/clp_jk_th['mean'])\n",
    "xscale('log')\n",
    "hlines(0,10,1000)"
   ]
  },
  {
   "cell_type": "code",
   "execution_count": null,
   "metadata": {},
   "outputs": [],
   "source": [
    "clp_jk_mean={}\n",
    "clp_jk_cov={}\n",
    "clp_jk_std={}\n",
    "for isim in np.arange(njk_sims):\n",
    "    clp_jk[isim]=jk_mean(clp_jk[isim],subsample=subsample)\n",
    "    clp_jk_mean[isim]=clp_jk[isim]['mean']\n",
    "    clp_jk_cov[isim]=clp_jk[isim]['cov']\n",
    "    clp_jk_std[isim]=clp_jk[isim]['err']\n",
    "#     vv=np.array(list(clp_jk[0].values()))\n",
    "#     clp_jk_mean[isim]=np.mean(vv,axis=0)\n",
    "#     clp_jk_cov[isim]=np.cov(vv,rowvar=0)*(njk-1)\n",
    "#     clp_jk_std[isim]=np.sqrt(np.diag(clp_jk_cov[isim]))\n",
    "clp_jk_mean=sample_mean(clp_jk_mean,nsamp=njk_sims)\n",
    "clp_jk_std=sample_mean(clp_jk_std,nsamp=njk_sims)\n",
    "clp_jk_cov=sample_mean(clp_jk_cov,nsamp=njk_sims)"
   ]
  },
  {
   "cell_type": "code",
   "execution_count": null,
   "metadata": {},
   "outputs": [],
   "source": [
    "clg_jk_mean={}\n",
    "clg_jk_cov={}\n",
    "clg_jk_std={}\n",
    "for isim in np.arange(njk_sims):\n",
    "    clg_jk[isim]=jk_mean(clg_jk[isim],subsample=subsample)\n",
    "    clg_jk_mean[isim]=clg_jk[isim]['mean']\n",
    "    clg_jk_cov[isim]=clg_jk[isim]['cov']\n",
    "    clg_jk_std[isim]=clg_jk[isim]['err']\n",
    "clg_jk_mean=sample_mean(clg_jk_mean,nsamp=njk_sims)\n",
    "clg_jk_std=sample_mean(clg_jk_std,nsamp=njk_sims)\n",
    "clg_jk_cov=sample_mean(clg_jk_cov,nsamp=njk_sims)"
   ]
  },
  {
   "cell_type": "raw",
   "metadata": {},
   "source": [
    "vv=np.array(list(clg_jk[0].values()))\n",
    "clg_jk_mean=np.mean(vv,axis=0)\n",
    "clg_jk_cov=np.cov(vv,rowvar=0)*(njk-1)\n",
    "clg_jk_std=np.sqrt(np.diag(clg_jk_cov))"
   ]
  },
  {
   "cell_type": "code",
   "execution_count": null,
   "metadata": {},
   "outputs": [],
   "source": [
    "vv=np.array(list(Mcl_jk.values()))\n",
    "Mcl_jk_mean=np.mean(vv,axis=0)\n",
    "\n",
    "Mcl_jk_mean_inv=np.linalg.inv(Mcl_jk_mean)\n",
    "\n",
    "Mcl_jk_inv={}\n",
    "for i in Mcl_jk.keys():\n",
    "    Mcl_jk_inv[i]=np.linalg.inv(Mcl_jk[i])\n",
    "vv=np.array(list(Mcl_jk_inv.values()))\n",
    "Mcl_jk_mean_inv=np.mean(vv,axis=0)"
   ]
  },
  {
   "cell_type": "code",
   "execution_count": null,
   "metadata": {},
   "outputs": [],
   "source": [
    "clg_jk_cov['mean'].shape"
   ]
  },
  {
   "cell_type": "code",
   "execution_count": null,
   "metadata": {},
   "outputs": [],
   "source": [
    "k='iMaster'\n",
    "use_hartlap=True\n",
    "smooth_scale=0\n",
    "R_cut=1\n",
    "clg_th_cov2=xi_sim_W['coupling_M_binned_inv'][k][corr].T@cl0_win['cov'][corr]@xi_sim_W['coupling_M_binned_inv'][k][corr] #this is not strictly correct. We need covariance window for jk also.\n",
    "clg_th_cov=Mcl_jk_mean_inv.T@cl0_win['cov'][corr]@Mcl_jk_mean_inv\n",
    "clg_th_cov_cjk=cov_correct_sim_eig_diff(sim_cov=clg_jk_cov['mean'],th_cov=clg_th_cov,smooth_scale=smooth_scale,R_cut=R_cut)\n",
    "\n",
    "clp_th_cov=cl0_win['cov'][corr]\n",
    "clp_th_cov_cjk=cov_correct_sim_eig_diff(sim_cov=clp_jk_cov['mean'],th_cov=clp_th_cov,smooth_scale=smooth_scale,R_cut=R_cut)"
   ]
  },
  {
   "cell_type": "code",
   "execution_count": null,
   "metadata": {},
   "outputs": [],
   "source": [
    "clg_sim_cov=xi_sim_W['clg_b_stats']['iMaster'][corr]['cov']\n",
    "clp_sim_cov=xi_sim_W['clp_b_stats'][corr]['cov']\n",
    "clg_sim_mean=xi_sim_W['clg_b_stats']['iMaster'][corr]['mean']\n",
    "clp_sim_mean=xi_sim_W['clp_b_stats'][corr]['mean']\n",
    "clg_sim_std=np.sqrt(np.diag(xi_sim_W['clg_b_stats']['iMaster'][corr]['cov']))\n",
    "clp_sim_std=np.sqrt(np.diag(xi_sim_W['clp_b_stats'][corr]['cov']))\n",
    "\n",
    "clg_th_cov_csim=cov_correct_sim_eig_diff(sim_cov=clg_sim_cov,th_cov=clg_th_cov,smooth_scale=smooth_scale,R_cut=R_cut)\n",
    "clp_th_cov_csim=cov_correct_sim_eig_diff(sim_cov=clp_sim_cov,th_cov=clp_th_cov,smooth_scale=smooth_scale,R_cut=R_cut)"
   ]
  },
  {
   "cell_type": "code",
   "execution_count": null,
   "metadata": {},
   "outputs": [],
   "source": [
    "fig, ax =subplots(2,1,figsize=(20,15),sharex='col',sharey='row')\n",
    "pS=ax[0]\n",
    "pR=ax[1]\n",
    "pS.plot(lb,clg_jk_mean['mean'],c=colors[0],label='Jk')\n",
    "pS.plot(lb,clg_sim_mean,c=colors[1],label='sim')\n",
    "pS.plot(lb,cl0['cl_b'][corr],c=colors[2],label='Theory')\n",
    "\n",
    "pS.plot(lb,clp_jk_mean['mean'],'--',c=colors[0])\n",
    "pS.plot(lb,clp_sim_mean,'--',c=colors[1])\n",
    "pS.plot(lb,cl0_win['cl_b'][corr],'--',c=colors[2])\n",
    "\n",
    "pR.plot(lb,clg_jk_mean['mean']/cl0['cl_b'][corr],c=colors[0],label='Jk')\n",
    "pR.plot(lb,clg_sim_mean/cl0['cl_b'][corr],c=colors[1],label='sim')\n",
    "pR.plot(lb,cl0['cl_b'][corr]/cl0['cl_b'][corr],c=colors[2],label='sim')\n",
    "\n",
    "pR.plot(lb,clp_jk_mean['mean']/cl0_win['cl_b'][corr],'--',c=colors[0])\n",
    "pR.plot(lb,clp_sim_mean/cl0_win['cl_b'][corr],'--',c=colors[1])\n",
    "pR.plot(lb,cl0_win['cl_b'][corr]/cl0_win['cl_b'][corr],'--',c=colors[2])\n",
    "\n",
    "pR.set_ylim(.8,1.5)\n",
    "\n",
    "pR.set_xscale('log')\n",
    "pS.set_xscale('log')\n",
    "pS.set_yscale('log')\n",
    "pR.set_xlim(10,1000)\n",
    "pR.set_xlabel('$\\ell$',fontsize=40)\n",
    "pR.set_ylabel(r'Ratio $\\langle C_{\\ell}\\rangle$/theory',fontsize=40)\n",
    "pS.set_ylabel(r'$\\langle C_{\\ell}\\rangle$',fontsize=40)\n",
    "pS.text(x=20,y=1.e-6,s=r'Solid lines: $C_\\ell$, iMaster',fontsize=40)\n",
    "pS.text(x=20,y=.2e-6,s=r'dashed lines: $D_\\ell$',fontsize=40)\n",
    "pS.legend(fontsize=40)\n",
    "fname=fig_home+'/'+corr_fnames[corr]+'_jk_cl_pcl_comp_sims'+str(nsim)+'_ns'+str(nside)+'_lmax'+str(lmax_cl)+'_wlmax'+str(window_lmax)+'_fsky'+str(int(f_sky*10))+'_njk'+str(njk)\n",
    "if not use_shot_noise:\n",
    "    fname+='_noSN'\n",
    "if unit_window:\n",
    "    fname+='_unit_window'\n",
    "if smooth_window:\n",
    "    fname+='_smooth_window'\n",
    "fname+='.pdf'\n",
    "fig.savefig(fname,bbox_inches='tight',format='pdf')\n",
    "print('saved to ',fname)\n",
    "show()\n",
    "# ylim(.8,1.5)"
   ]
  },
  {
   "cell_type": "code",
   "execution_count": null,
   "metadata": {},
   "outputs": [],
   "source": [
    "import matplotlib\n",
    "matplotlib.matplotlib_fname()"
   ]
  },
  {
   "cell_type": "code",
   "execution_count": null,
   "metadata": {},
   "outputs": [],
   "source": [
    "plot(lb,clg_jk_std['mean'])\n",
    "plot(lb,clg_sim_std,'--')\n",
    "loglog()\n",
    "ylabel('$\\delta C_\\ell$')\n",
    "xlabel('$\\ell$')"
   ]
  },
  {
   "cell_type": "code",
   "execution_count": null,
   "metadata": {},
   "outputs": [],
   "source": [
    "plot(lb,clp_jk_std['mean'])\n",
    "plot(lb,clp_diff_jk_std['mean'],':')\n",
    "plot(lb,clp_sim_std,'--')\n",
    "loglog()\n",
    "ylabel('$\\delta C_\\ell$')\n",
    "xlabel('$\\ell$')"
   ]
  },
  {
   "cell_type": "code",
   "execution_count": null,
   "metadata": {},
   "outputs": [],
   "source": [
    "clp_sim_cov"
   ]
  },
  {
   "cell_type": "code",
   "execution_count": null,
   "metadata": {},
   "outputs": [],
   "source": [
    "ccp_jk=corr_matrix(clp_jk_cov['mean'])\n",
    "ccp_diff_jk=corr_matrix(clp_diff_jk_cov['mean'])\n",
    "ccp_sim=corr_matrix(clp_sim_cov)\n",
    "ccp_th=corr_matrix(clp_th_cov)\n",
    "ccp_th_cjk=corr_matrix(clp_th_cov_cjk)\n",
    "ccp_th_csim=corr_matrix(clp_th_cov_csim)"
   ]
  },
  {
   "cell_type": "code",
   "execution_count": null,
   "metadata": {},
   "outputs": [],
   "source": [
    "cc_th2=corr_matrix(clg_th_cov2)"
   ]
  },
  {
   "cell_type": "code",
   "execution_count": null,
   "metadata": {},
   "outputs": [],
   "source": [
    "cc_jk=corr_matrix(clg_jk_cov['mean'])\n",
    "cc_sim=corr_matrix(clg_sim_cov)\n",
    "cc_th=corr_matrix(clg_th_cov)\n",
    "cc_th_cjk=corr_matrix(clg_th_cov_cjk)\n",
    "cc_th_csim=corr_matrix(clg_th_cov_csim)"
   ]
  },
  {
   "cell_type": "code",
   "execution_count": null,
   "metadata": {},
   "outputs": [],
   "source": [
    "pcolor(lb,lb,ccp_jk-ccp_sim,vmin=-.1,vmax=.1,cmap='seismic')\n",
    "colorbar()\n",
    "xscale('log')\n",
    "yscale('log')\n",
    "xlim(10,1000)\n",
    "ylim(10,1000)\n",
    "xlabel('$\\ell$')\n",
    "ylabel('$\\ell$')"
   ]
  },
  {
   "cell_type": "code",
   "execution_count": null,
   "metadata": {},
   "outputs": [],
   "source": [
    "pcolor(lb,lb,cc_th-cc_th2,vmin=-.01,vmax=.01,cmap='seismic')\n",
    "colorbar()\n",
    "xscale('log')\n",
    "yscale('log')\n",
    "xlim(10,1000)\n",
    "ylim(10,1000)\n",
    "xlabel('$\\ell$')\n",
    "ylabel('$\\ell$')"
   ]
  },
  {
   "cell_type": "code",
   "execution_count": null,
   "metadata": {},
   "outputs": [],
   "source": [
    "pcolor(lb,lb,ccp_jk-ccp_diff_jk,vmin=-.01,vmax=.01,cmap='seismic')\n",
    "colorbar()\n",
    "xscale('log')\n",
    "yscale('log')\n",
    "xlim(10,1000)\n",
    "ylim(10,1000)\n",
    "xlabel('$\\ell$')\n",
    "ylabel('$\\ell$')"
   ]
  },
  {
   "cell_type": "code",
   "execution_count": null,
   "metadata": {},
   "outputs": [],
   "source": [
    "pcolor(lb,lb,cc_th/cc_th2-1,vmin=-1,vmax=1,cmap='seismic')\n",
    "colorbar()\n",
    "xscale('log')\n",
    "yscale('log')\n",
    "xlim(10,1000)\n",
    "ylim(10,1000)\n",
    "xlabel('$\\ell$')\n",
    "ylabel('$\\ell$')"
   ]
  },
  {
   "cell_type": "code",
   "execution_count": null,
   "metadata": {},
   "outputs": [],
   "source": [
    "pcolor(lb,lb,cc_jk-cc_sim,vmin=-1,vmax=1,cmap='seismic')\n",
    "xscale('log')\n",
    "yscale('log')\n",
    "xlim(10,1000)\n",
    "ylim(10,1000)\n",
    "xlabel('$\\ell$')\n",
    "ylabel('$\\ell$')"
   ]
  },
  {
   "cell_type": "code",
   "execution_count": null,
   "metadata": {},
   "outputs": [],
   "source": [
    "pcolor(lb,lb,cc_jk-cc_th,vmin=-1,vmax=1,cmap='seismic')\n",
    "xscale('log')\n",
    "yscale('log')\n",
    "xlim(10,1000)\n",
    "ylim(10,1000)\n",
    "xlabel('$\\ell$')\n",
    "ylabel('$\\ell$')"
   ]
  },
  {
   "cell_type": "code",
   "execution_count": null,
   "metadata": {},
   "outputs": [],
   "source": [
    "pcolor(lb,lb,cc_th_cjk-cc_th_csim,vmin=-1,vmax=1,cmap='seismic')\n",
    "xscale('log')\n",
    "yscale('log')\n",
    "xlim(10,1000)\n",
    "ylim(10,1000)"
   ]
  },
  {
   "cell_type": "code",
   "execution_count": null,
   "metadata": {},
   "outputs": [],
   "source": [
    "pcolor(lb,lb,ccp_th_cjk-ccp_th_csim,vmin=-1,vmax=1,cmap='seismic')\n",
    "xscale('log')\n",
    "yscale('log')\n",
    "xlim(10,1000)\n",
    "ylim(10,1000)"
   ]
  },
  {
   "cell_type": "code",
   "execution_count": null,
   "metadata": {},
   "outputs": [],
   "source": [
    "pcolor(lb,lb,cc_th_csim-cc_th,vmin=-1,vmax=1,cmap='seismic')\n",
    "xscale('log')\n",
    "yscale('log')\n",
    "xlim(10,1000)\n",
    "ylim(10,1000)"
   ]
  },
  {
   "cell_type": "code",
   "execution_count": null,
   "metadata": {},
   "outputs": [],
   "source": [
    "use_hartlap=True\n",
    "sn_jk={corr:{}}\n",
    "lmin=50\n",
    "sn_jk[corr]['jk']=SN_cum(cov=clg_jk_cov['mean'],lb=lb,cl=clg_jk_mean['mean'],use_hartlap=use_hartlap,nsim=njk,lmin=lmin)\n",
    "sn_jk[corr]['sim']=SN_cum(cov=clg_sim_cov,lb=lb,cl=clg_sim_mean,use_hartlap=use_hartlap,nsim=nsim,lmin=lmin)\n",
    "sn_jk[corr]['th_c']=SN_cum(cov=clg_th_cov_cjk,lb=lb,cl=clg_sim_mean,use_hartlap=False,lmin=lmin)\n",
    "sn_jk[corr]['th']=SN_cum(cov=clg_th_cov,lb=lb,cl=clg_sim_mean,use_hartlap=False,nsim=njk,lmin=lmin)\n",
    "sn_jk[corr]['th_c_sim']=SN_cum(cov=clg_th_cov_csim,lb=lb,cl=clg_sim_mean,use_hartlap=False,nsim=njk,lmin=lmin)\n",
    "\n",
    "sn_jk[corr]['jk0']=SN_cum(cov=clg_jk_cov['mean'],lb=lb,cl=cl0['cl_b'][corr],use_hartlap=use_hartlap,nsim=njk,lmin=lmin)\n",
    "sn_jk[corr]['sim0']=SN_cum(cov=clg_sim_cov,lb=lb,cl=cl0['cl_b'][corr],use_hartlap=use_hartlap,nsim=nsim,lmin=lmin)\n",
    "sn_jk[corr]['th_c0']=SN_cum(cov=clg_th_cov_cjk,lb=lb,cl=cl0['cl_b'][corr],use_hartlap=False,nsim=njk,lmin=lmin)\n",
    "sn_jk[corr]['th0']=SN_cum(cov=clg_th_cov,lb=lb,cl=cl0['cl_b'][corr],use_hartlap=False,nsim=njk,lmin=lmin)\n",
    "sn_jk[corr]['th_c_sim0']=SN_cum(cov=clg_th_cov_csim,lb=lb,cl=cl0['cl_b'][corr],use_hartlap=False,nsim=njk,lmin=lmin)\n",
    "\n",
    "sn_jk[corr]['jk_p']=SN_cum(cov=clp_jk_cov['mean'],lb=lb,cl=clp_jk_mean['mean'],use_hartlap=use_hartlap,nsim=njk,lmin=lmin)\n",
    "sn_jk[corr]['jk_p_diff']=SN_cum(cov=clp_diff_jk_cov['mean'],lb=lb,cl=clp_jk_mean['mean'],use_hartlap=use_hartlap,nsim=njk,lmin=lmin)\n",
    "sn_jk[corr]['sim_p']=SN_cum(cov=clp_sim_cov,lb=lb,cl=clp_sim_mean,use_hartlap=use_hartlap,nsim=nsim,lmin=lmin)\n",
    "\n",
    "sn_jk[corr]['jk_p0']=SN_cum(cov=clp_jk_cov['mean'],lb=lb,cl=cl0_win['cl_b'][corr],use_hartlap=use_hartlap,nsim=njk,lmin=lmin)\n",
    "sn_jk[corr]['jk_p0_diff']=SN_cum(cov=clp_diff_jk_cov['mean'],lb=lb,cl=cl0_win['cl_b'][corr],use_hartlap=use_hartlap,nsim=njk,lmin=lmin)\n",
    "sn_jk[corr]['sim_p0']=SN_cum(cov=clp_sim_cov,lb=lb,cl=cl0_win['cl_b'][corr],use_hartlap=use_hartlap,nsim=nsim,lmin=lmin)"
   ]
  },
  {
   "cell_type": "code",
   "execution_count": null,
   "metadata": {},
   "outputs": [],
   "source": [
    "plot(lb,sn_jk[corr]['jk'])\n",
    "plot(lb,sn_jk[corr]['sim'],'--')\n",
    "# plot(lb,sn_jk[corr]['th_c_sim'],'-.')\n",
    "# plot(lb,sn_jk[corr]['th_c'],'-.')\n",
    "plot(lb,sn_jk[corr]['th'],':')\n",
    "# plot(lb,sn_jk[corr]['jk_p'],'-.')\n",
    "# plot(lb,sn_jk[corr]['sim_p'],':')\n",
    "loglog()\n",
    "xlim(10,1000)\n",
    "show()\n",
    "plot(lb,sn_jk[corr]['jk0'])\n",
    "plot(lb,sn_jk[corr]['sim0'],'--')\n",
    "plot(lb,sn_jk[corr]['th_c_sim0'],'-.')\n",
    "plot(lb,sn_jk[corr]['th_c0'],'-.')\n",
    "plot(lb,sn_jk[corr]['th0'],':')\n",
    "# plot(lb,sn_jk[corr]['jk_p0'])\n",
    "# plot(lb,sn_jk[corr]['sim_p0'],'--')\n",
    "loglog()\n",
    "xlim(10,1000)"
   ]
  },
  {
   "cell_type": "code",
   "execution_count": null,
   "metadata": {},
   "outputs": [],
   "source": [
    "plot(lb,sn_jk[corr]['th_c_sim0']/sn_jk[corr]['th_c0'],'-.')\n",
    "xscale('log')\n",
    "yscale('log')"
   ]
  },
  {
   "cell_type": "code",
   "execution_count": null,
   "metadata": {},
   "outputs": [],
   "source": [
    "plot(lb,sn_jk[corr]['sim0']/sn_jk[corr]['jk0'],'-.')\n",
    "xscale('log')\n",
    "yscale('log')"
   ]
  },
  {
   "cell_type": "code",
   "execution_count": null,
   "metadata": {},
   "outputs": [],
   "source": [
    "plot(lb,sn_jk[corr]['jk'],label='$C_\\ell$, jk')\n",
    "plot(lb,sn_jk[corr]['jk_p_diff'],'--',label='$p-C_\\ell$, jk')\n",
    "plot(lb,sn_jk[corr]['sim'],'.-',label='$C_\\ell$, sim')\n",
    "plot(lb,sn_jk[corr]['sim_p'],':',label='$p-C_\\ell$, sim')\n",
    "loglog()\n",
    "xlim(10,1000)\n",
    "legend(loc='upper left')\n",
    "xlabel('$\\ell$')\n",
    "ylabel(r'$(\\frac{S}{N})^2$')\n",
    "show()\n",
    "\n",
    "\n",
    "fig, ax =subplots(2,1,figsize=(20,15),sharex='col',sharey='row')\n",
    "pS=ax[0]\n",
    "pR=ax[1]\n",
    "pS.plot(lb,sn_jk[corr]['jk0'],label='$C_\\ell$, jk')\n",
    "pS.plot(lb,sn_jk[corr]['jk_p0_diff'],'--',label='$D_\\ell$, jk')\n",
    "pS.plot(lb,sn_jk[corr]['sim0'],'.-',label='$C_\\ell$, sim')\n",
    "pS.plot(lb,sn_jk[corr]['sim_p0'],':',label='$D_\\ell$, sim')\n",
    "\n",
    "pR.plot(lb,sn_jk[corr]['jk0']/sn_jk[corr]['sim0'],label='$C_\\ell$')\n",
    "pR.plot(lb,sn_jk[corr]['jk_p0_diff']/sn_jk[corr]['sim_p0'],'--',label='$D_\\ell$')\n",
    "\n",
    "pS.legend(loc='upper left',fontsize=40,ncol=2)\n",
    "pR.legend(loc='upper right',fontsize=40,ncol=2)\n",
    "pR.set_xscale('log')\n",
    "pS.set_xscale('log')\n",
    "pS.set_yscale('log')\n",
    "pR.set_xlim(10,1000)\n",
    "pR.set_ylim(.5,1.5)\n",
    "pR.hlines(1,1,2000)\n",
    "pR.set_xlabel('$\\ell$',fontsize=50)\n",
    "pS.set_ylabel(r'$(\\frac{S}{N})^2$',fontsize=50)\n",
    "pR.set_ylabel(r'Ratio, sim/jk',fontsize=50,)\n",
    "fname=fig_home+'/'+corr_fnames[corr]+'_jk_cl_pcl_SN_comp_sims'+str(nsim)+'_ns'+str(nside)+'_lmax'+str(lmax_cl)+'_wlmax'+str(window_lmax)+'_fsky'+str(int(f_sky*10))+'_njk'+str(njk)\n",
    "if not use_shot_noise:\n",
    "    fname+='_noSN'\n",
    "if unit_window:\n",
    "    fname+='_unit_window'\n",
    "if smooth_window:\n",
    "    fname+='_smooth_window'\n",
    "\n",
    "\n",
    "fname+='.pdf'\n",
    "fig.savefig(fname,bbox_inches='tight',format='pdf')\n",
    "print('saved to ',fname)\n",
    "show()\n",
    "\n",
    "\n"
   ]
  },
  {
   "cell_type": "code",
   "execution_count": null,
   "metadata": {},
   "outputs": [],
   "source": [
    "plot(lb,sn_jk[corr]['jk']/sn_jk[corr]['sim'])\n",
    "plot(lb,sn_jk[corr]['jk_p_diff']/sn_jk[corr]['sim_p'],'--')\n",
    "# loglog()\n",
    "xlim(10,1000)\n",
    "xscale('log')\n",
    "hlines(1,10,1000)\n",
    "show()\n",
    "\n"
   ]
  },
  {
   "cell_type": "code",
   "execution_count": null,
   "metadata": {},
   "outputs": [],
   "source": [
    "import cov_3X2\n",
    "reload(cov_3X2)\n",
    "from cov_3X2 import *"
   ]
  },
  {
   "cell_type": "code",
   "execution_count": null,
   "metadata": {},
   "outputs": [],
   "source": []
  },
  {
   "cell_type": "code",
   "execution_count": null,
   "metadata": {},
   "outputs": [],
   "source": []
  },
  {
   "cell_type": "code",
   "execution_count": null,
   "metadata": {},
   "outputs": [],
   "source": []
  }
 ],
 "metadata": {
  "kernelspec": {
   "display_name": "Python 3",
   "language": "python",
   "name": "python3"
  },
  "language_info": {
   "codemirror_mode": {
    "name": "ipython",
    "version": 3
   },
   "file_extension": ".py",
   "mimetype": "text/x-python",
   "name": "python",
   "nbconvert_exporter": "python",
   "pygments_lexer": "ipython3",
   "version": "3.8.2"
  }
 },
 "nbformat": 4,
 "nbformat_minor": 2
}
