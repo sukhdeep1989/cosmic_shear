{
 "cells": [
  {
   "cell_type": "code",
   "execution_count": 1,
   "metadata": {},
   "outputs": [],
   "source": [
    "import tracemalloc,sys\n",
    "sys.path.insert(0,'../skylens/')\n",
    "import pickle\n",
    "from skylens import *\n",
    "from survey_utils import *\n",
    "from scipy.stats import norm,mode,skew,kurtosis,percentileofscore\n",
    "import seaborn as sns\n",
    "import copy\n",
    "import importlib\n",
    "reload=importlib.reload\n",
    "colors=sns.color_palette()\n",
    "markers=['o','s','^','>','v']"
   ]
  },
  {
   "cell_type": "raw",
   "metadata": {},
   "source": [
    "import tracer_utils\n",
    "import window_utils\n",
    "import cov_utils\n",
    "\n",
    "reload(window_utils)\n",
    "reload(cov_utils)\n",
    "reload(tracer_utils)\n",
    "reload(cov_3X2)\n",
    "from lsst_utils import *\n",
    "from cov_utils import *\n",
    "from cov_3X2 import *"
   ]
  },
  {
   "cell_type": "code",
   "execution_count": 2,
   "metadata": {},
   "outputs": [],
   "source": [
    "from matplotlib import rc\n",
    "# rc('font',**{'family':'sans-serif','sans-serif':['Helvetica']})\n",
    "## for Palatino and other serif fonts use:\n",
    "rc('font',**{'family':'serif','serif':['Palatino']})\n",
    "rc('text', usetex=True)"
   ]
  },
  {
   "cell_type": "code",
   "execution_count": 3,
   "metadata": {},
   "outputs": [],
   "source": [
    "fig_home='./figures/'"
   ]
  },
  {
   "cell_type": "code",
   "execution_count": 6,
   "metadata": {},
   "outputs": [
    {
     "name": "stderr",
     "output_type": "stream",
     "text": [
      "/usr/local/lib/python3.8/dist-packages/distributed/node.py:151: UserWarning: Port 8787 is already in use.\n",
      "Perhaps you already have a cluster running?\n",
      "Hosting the HTTP server on port 35897 instead\n",
      "  warnings.warn(\n"
     ]
    }
   ],
   "source": [
    "from distributed import LocalCluster\n",
    "from dask.distributed import Client  # we already had this above\n",
    "#http://distributed.readthedocs.io/en/latest/_modules/distributed/worker.html\n",
    "worker_kwargs={'memory_spill_fraction':.75,'memory_target_fraction':.99,'memory_pause_fraction':1}\n",
    "LC=LocalCluster(n_workers=1,processes=False,memory_limit='60gb',threads_per_worker=10,\n",
    "                local_dir='/home/deep/repos/cosmic_shear/temp/NGL-worker/',\n",
    "               **worker_kwargs,\n",
    "                #scheduler_port=12234,\n",
    "#                 dashboard_address=8801\n",
    "#                 diagnostics_port=8801,\n",
    "#                memory_monitor_interval='2000ms')\n",
    "               )\n",
    "client=Client(LC)\n",
    "\n",
    "#LC.close()\n",
    "#client.close()"
   ]
  },
  {
   "cell_type": "code",
   "execution_count": 7,
   "metadata": {
    "scrolled": true
   },
   "outputs": [
    {
     "data": {
      "text/html": [
       "<table style=\"border: 2px solid white;\">\n",
       "<tr>\n",
       "<td style=\"vertical-align: top; border: 0px solid white\">\n",
       "<h3 style=\"text-align: left;\">Client</h3>\n",
       "<ul style=\"text-align: left; list-style: none; margin: 0; padding: 0;\">\n",
       "  <li><b>Scheduler: </b>inproc://192.168.86.138/103420/11</li>\n",
       "  <li><b>Dashboard: </b><a href='http://192.168.86.138:35897/status' target='_blank'>http://192.168.86.138:35897/status</a></li>\n",
       "</ul>\n",
       "</td>\n",
       "<td style=\"vertical-align: top; border: 0px solid white\">\n",
       "<h3 style=\"text-align: left;\">Cluster</h3>\n",
       "<ul style=\"text-align: left; list-style:none; margin: 0; padding: 0;\">\n",
       "  <li><b>Workers: </b>1</li>\n",
       "  <li><b>Cores: </b>10</li>\n",
       "  <li><b>Memory: </b>60.00 GB</li>\n",
       "</ul>\n",
       "</td>\n",
       "</tr>\n",
       "</table>"
      ],
      "text/plain": [
       "<Client: 'inproc://192.168.86.138/103420/11' processes=1 threads=10, memory=60.00 GB>"
      ]
     },
     "execution_count": 7,
     "metadata": {},
     "output_type": "execute_result"
    }
   ],
   "source": [
    "client"
   ]
  },
  {
   "cell_type": "code",
   "execution_count": 8,
   "metadata": {},
   "outputs": [],
   "source": [
    "nside=1024\n",
    "l0w=np.arange(3*nside-1)"
   ]
  },
  {
   "cell_type": "code",
   "execution_count": 9,
   "metadata": {},
   "outputs": [
    {
     "name": "stderr",
     "output_type": "stream",
     "text": [
      "<ipython-input-9-042903f9612d>:14: RuntimeWarning: divide by zero encountered in log10\n",
      "  l=np.unique(np.int64(np.logspace(np.log10(lmin_cl),np.log10(lmax_cl),Nl_bins*20))) #if we want to use fewer ell\n",
      "/usr/local/lib/python3.8/dist-packages/numpy/core/function_base.py:144: RuntimeWarning: invalid value encountered in multiply\n",
      "  y *= step\n",
      "/usr/local/lib/python3.8/dist-packages/numpy/core/function_base.py:154: RuntimeWarning: invalid value encountered in add\n",
      "  y += start\n"
     ]
    }
   ],
   "source": [
    "#setup parameters\n",
    "# lmax_cl=1000\n",
    "lmax_cl=1920#int(nside*2.9)\n",
    "lmin_cl=0\n",
    "l0=np.arange(lmin_cl,lmax_cl)\n",
    "\n",
    "lmin_cl_Bins=lmin_cl+10\n",
    "lmax_cl_Bins=lmax_cl-10\n",
    "Nl_bins=37 #40\n",
    "l_bins=np.int64(np.logspace(np.log10(lmin_cl_Bins),np.log10(lmax_cl_Bins),Nl_bins))\n",
    "# l_bins=np.int64(np.linspace(lmin_cl_Bins,lmax_cl_Bins,Nl_bins))\n",
    "lb=(l_bins[1:]+l_bins[:-1])*.5\n",
    "\n",
    "l=np.unique(np.int64(np.logspace(np.log10(lmin_cl),np.log10(lmax_cl),Nl_bins*20))) #if we want to use fewer ell\n",
    "\n",
    "do_cov=True\n",
    "bin_cl=True\n",
    "\n",
    "SSV_cov=False\n",
    "tidal_SSV_cov=False\n",
    "\n",
    "do_xi=True\n",
    "do_pseudo_cl=False"
   ]
  },
  {
   "cell_type": "code",
   "execution_count": 10,
   "metadata": {},
   "outputs": [],
   "source": [
    "use_shot_noise=False"
   ]
  },
  {
   "cell_type": "code",
   "execution_count": 11,
   "metadata": {},
   "outputs": [],
   "source": [
    "use_window=True\n",
    "f_sky=0.3\n",
    "n_source_bins=1\n",
    "sigma_gamma=0.3944/sqrt(2.)  #*2**0.25"
   ]
  },
  {
   "cell_type": "code",
   "execution_count": 12,
   "metadata": {},
   "outputs": [],
   "source": [
    "store_win=True\n",
    "unit_window=True\n",
    "smooth_window=False"
   ]
  },
  {
   "cell_type": "code",
   "execution_count": 13,
   "metadata": {},
   "outputs": [],
   "source": [
    "w_smooth_lmax=1.e7 #some large number\n",
    "if smooth_window:\n",
    "    w_smooth_lmax=1000\n",
    "window_cl_fact=np.cos(np.pi/2*(l0w/w_smooth_lmax)**10)\n",
    "x=window_cl_fact<0\n",
    "x+=l0w>w_smooth_lmax\n",
    "window_cl_fact[x]=0\n",
    "if unit_window:\n",
    "    window_cl_fact=0"
   ]
  },
  {
   "cell_type": "code",
   "execution_count": 14,
   "metadata": {},
   "outputs": [],
   "source": [
    "corr_ggl=('galaxy','shear')\n",
    "corr_gg=('galaxy','galaxy')\n",
    "corr_ll=('shear','shear')\n",
    "corr_kk=('kappa','kappa')\n",
    "corr_gk=('galaxy','kappa')"
   ]
  },
  {
   "cell_type": "code",
   "execution_count": 15,
   "metadata": {},
   "outputs": [],
   "source": [
    "do_cov=True\n",
    "store_win=True"
   ]
  },
  {
   "cell_type": "code",
   "execution_count": 16,
   "metadata": {},
   "outputs": [],
   "source": [
    "wigner_files={}\n",
    "wigner_files[0]= 'temp/dask_wig3j_l6500_w2100_0_reorder.zarr'\n",
    "wigner_files[2]= 'temp/dask_wig3j_l3500_w2100_2_reorder.zarr'\n",
    "\n"
   ]
  },
  {
   "cell_type": "code",
   "execution_count": 17,
   "metadata": {},
   "outputs": [],
   "source": [
    "corrs=[corr_ll,corr_ggl,corr_gg]\n",
    "window_lmax=2000"
   ]
  },
  {
   "cell_type": "code",
   "execution_count": 18,
   "metadata": {},
   "outputs": [
    {
     "name": "stderr",
     "output_type": "stream",
     "text": [
      "../skylens/wigner_functions.py:46: RuntimeWarning: invalid value encountered in true_divide\n",
      "  d_mat/=np.sqrt(binom(k+b,b))\n",
      "../skylens/wigner_functions.py:46: RuntimeWarning: divide by zero encountered in true_divide\n",
      "  d_mat/=np.sqrt(binom(k+b,b))\n",
      "../skylens/wigner_functions.py:46: RuntimeWarning: divide by zero encountered in true_divide\n",
      "  d_mat/=np.sqrt(binom(k+b,b))\n"
     ]
    },
    {
     "name": "stdout",
     "output_type": "stream",
     "text": [
      "CPU times: user 796 ms, sys: 1.55 s, total: 2.35 s\n",
      "Wall time: 7.86 s\n"
     ]
    }
   ],
   "source": [
    "th_min=3./60\n",
    "th_max=400./60\n",
    "n_th_bins=20\n",
    "th_bins=np.logspace(np.log10(th_min),np.log10(th_max),n_th_bins+1)\n",
    "th=np.logspace(np.log10(th_min*0.98),np.log10(1),n_th_bins*30)\n",
    "th2=np.linspace(1,th_max*1.02,n_th_bins*30)\n",
    "# th2=np.logspace(np.log10(1),np.log10(th_max),60*6)\n",
    "th=np.unique(np.sort(np.append(th,th2)))\n",
    "thb=0.5*(th_bins[1:]+th_bins[:-1])\n",
    "\n",
    "bin_xi=True\n",
    "\n",
    "# HT_kwargs={'l_min':l_min,  'l_max':l_max,\n",
    "#                         'theta_min':th_min*d2r*.9, 'theta_max':th_max*d2r,\n",
    "#                         'n_zeros':40000, 'prune_theta':prune_theta, 'm1_m2':[(2,2),(2,-2),(0,2),(0,0)]}\n",
    "l0_win=np.arange(lmax_cl)\n",
    "WT_L_kwargs={'l': l0_win,'theta': th*d2r,'s1_s2':[(2,2),(2,-2),(0,2),(2,0),(0,0)]}\n",
    "WT_L=None\n",
    "if do_xi:\n",
    "    %time WT_L=wigner_transform(**WT_L_kwargs)"
   ]
  },
  {
   "cell_type": "code",
   "execution_count": 19,
   "metadata": {},
   "outputs": [
    {
     "data": {
      "text/plain": [
       "dict_keys([(2, 2), (2, -2), (0, 2), (2, 0), (0, 0)])"
      ]
     },
     "execution_count": 19,
     "metadata": {},
     "output_type": "execute_result"
    }
   ],
   "source": [
    "WT_L.wig_d.keys()"
   ]
  },
  {
   "cell_type": "raw",
   "metadata": {
    "scrolled": false
   },
   "source": [
    "# l0w=np.arange(512)+1\n",
    "mean=150\n",
    "sigma=50\n",
    "ww=1000*np.exp(-(l0w-mean)**2/sigma**2)\n",
    "x=ww<1\n",
    "ww[x]=1\n",
    "# x=l0w>mean+3*sigma\n",
    "# ww[x]=ww[l0w==mean+3*sigma]\n",
    "loglog(l0w,ww*window_cl_fact)\n",
    "ylim(1.e-3,1e3)"
   ]
  },
  {
   "cell_type": "code",
   "execution_count": 20,
   "metadata": {},
   "outputs": [
    {
     "ename": "FileNotFoundError",
     "evalue": "[Errno 2] No such file or directory: '../tests/xi_noiseless_chien_hao.pkl'",
     "output_type": "error",
     "traceback": [
      "\u001b[0;31m---------------------------------------------------------------------------\u001b[0m",
      "\u001b[0;31mFileNotFoundError\u001b[0m                         Traceback (most recent call last)",
      "\u001b[0;32m<ipython-input-20-cb5d209df5a8>\u001b[0m in \u001b[0;36m<module>\u001b[0;34m\u001b[0m\n\u001b[0;32m----> 1\u001b[0;31m \u001b[0;32mwith\u001b[0m \u001b[0mopen\u001b[0m\u001b[0;34m(\u001b[0m\u001b[0;34m'../tests/xi_noiseless_chien_hao.pkl'\u001b[0m\u001b[0;34m,\u001b[0m \u001b[0;34m'rb'\u001b[0m\u001b[0;34m)\u001b[0m \u001b[0;32mas\u001b[0m \u001b[0mf\u001b[0m\u001b[0;34m:\u001b[0m\u001b[0;34m\u001b[0m\u001b[0;34m\u001b[0m\u001b[0m\n\u001b[0m\u001b[1;32m      2\u001b[0m     \u001b[0mdict_load\u001b[0m \u001b[0;34m=\u001b[0m \u001b[0mpickle\u001b[0m\u001b[0;34m.\u001b[0m\u001b[0mload\u001b[0m\u001b[0;34m(\u001b[0m\u001b[0mf\u001b[0m\u001b[0;34m)\u001b[0m\u001b[0;34m\u001b[0m\u001b[0;34m\u001b[0m\u001b[0m\n\u001b[1;32m      3\u001b[0m     \u001b[0mprint\u001b[0m\u001b[0;34m(\u001b[0m\u001b[0mdict_load\u001b[0m\u001b[0;34m.\u001b[0m\u001b[0mkeys\u001b[0m\u001b[0;34m(\u001b[0m\u001b[0;34m)\u001b[0m\u001b[0;34m)\u001b[0m\u001b[0;34m\u001b[0m\u001b[0;34m\u001b[0m\u001b[0m\n",
      "\u001b[0;31mFileNotFoundError\u001b[0m: [Errno 2] No such file or directory: '../tests/xi_noiseless_chien_hao.pkl'"
     ]
    }
   ],
   "source": [
    "with open('../tests/xi_noiseless_chien_hao.pkl', 'rb') as f:\n",
    "    dict_load = pickle.load(f)\n",
    "    print(dict_load.keys())"
   ]
  },
  {
   "cell_type": "code",
   "execution_count": null,
   "metadata": {},
   "outputs": [],
   "source": [
    "zs_bin1=dict_load['zs_bin']\n",
    "zl_bin1=dict_load['zl_bin']\n",
    "xi_sim=dict_load['data_vectors']"
   ]
  },
  {
   "cell_type": "code",
   "execution_count": null,
   "metadata": {},
   "outputs": [],
   "source": [
    "import treecorr"
   ]
  },
  {
   "cell_type": "raw",
   "metadata": {},
   "source": [
    "z0=0.5\n",
    "zl_bin1=lsst_source_tomo_bins(zp=np.array([z0]),p_zp=np.array([1]),ns=10,use_window=use_window,nbins=1,window_cl_fact=window_cl_fact,\n",
    "                         f_sky=f_sky,nside=nside,unit_win=False,use_shot_noise=True)\n",
    "zl_bin1w=lsst_source_tomo_bins(zp=np.array([z0]),p_zp=np.array([1]),ns=30,use_window=use_window,window_cl_fact=window_cl_fact*(1+ww),\n",
    "                              f_sky=f_sky,nbins=n_source_bins,nside=nside,use_shot_noise=True)"
   ]
  },
  {
   "cell_type": "raw",
   "metadata": {},
   "source": [
    "z0=1 #1087\n",
    "zs_bin1=lsst_source_tomo_bins(zp=np.array([z0]),p_zp=np.array([1]),ns=30,use_window=use_window,window_cl_fact=window_cl_fact,\n",
    "                              f_sky=f_sky,nbins=n_source_bins,nside=nside,unit_win=False,use_shot_noise=True)\n",
    "\n",
    "zs_bin1w=lsst_source_tomo_bins(zp=np.array([z0]),p_zp=np.array([1]),ns=30,use_window=use_window,window_cl_fact=(1+ww)*window_cl_fact,\n",
    "                              f_sky=f_sky,nbins=n_source_bins,nside=nside,use_shot_noise=True)"
   ]
  },
  {
   "cell_type": "raw",
   "metadata": {},
   "source": [
    "cl_t=hp.anafast(zs_bin1w[0]['window'])\n",
    "cl_t2=hp.anafast(zs_bin1[0]['window'])\n",
    "cl_t3=hp.anafast(zs_bin1[0]['window']-1)\n",
    "cl_t4=hp.anafast(zl_bin1[0]['window'])"
   ]
  },
  {
   "cell_type": "raw",
   "metadata": {},
   "source": [
    "# loglog(hp.alm2cl(zs_bin1[0]['window_alm'],lmax=512))\n",
    "# loglog(hp.alm2cl(zs_bin1w[0]['window_alm'],lmax=512))\n",
    "loglog(cl_t)\n",
    "loglog(cl_tt)\n",
    "loglog(cl_tt2)\n",
    "# loglog(cl_t2,'--')\n",
    "# loglog(cl_t3,':')\n",
    "loglog(cl_t4)\n",
    "# loglog(zs_bin1[0]['window_cl'])\n",
    "# xlim(500,2000)\n",
    "ylim(1.e-13,1.e-2)"
   ]
  },
  {
   "cell_type": "raw",
   "metadata": {},
   "source": [
    "np.sqrt(hp.nside2pixarea(nside,degrees=True))"
   ]
  },
  {
   "cell_type": "raw",
   "metadata": {},
   "source": [
    "win2=hp.sphtfunc.smoothing(zs_bin1w[0]['window'], fwhm=1*np.pi/180., sigma=None)\n",
    "hp.mollview(win2,title='window')\n",
    "cl_t_s=hp.anafast(win2)\n"
   ]
  },
  {
   "cell_type": "raw",
   "metadata": {},
   "source": [
    "lt=np.arange(len(cl_tt2))\n",
    "f=lt**3\n",
    "plot(lt,f*cl_tt2)\n",
    "plot(lt,f*cl_t)\n",
    "plot(lt,f*cl_t_s)\n",
    "\n",
    "plot(lt,f*cl_t2,'--')\n",
    "plot(lt,f*cl_t4,':')\n",
    "xscale('log')"
   ]
  },
  {
   "cell_type": "raw",
   "metadata": {},
   "source": [
    "win_tt.min()"
   ]
  },
  {
   "cell_type": "code",
   "execution_count": null,
   "metadata": {},
   "outputs": [],
   "source": [
    "zs_bin1[0].keys()"
   ]
  },
  {
   "cell_type": "code",
   "execution_count": null,
   "metadata": {
    "scrolled": false
   },
   "outputs": [],
   "source": [
    "hp.mollview(zs_bin1[0]['window'],title='W1')\n",
    "hp.mollview(zl_bin1[0]['window'],title='W1')\n",
    "# hp.mollview(zs_bin1w[0]['window'],title='W2')\n",
    "# hp.mollview(zl_bin1w[0]['window'],title='W2')\n",
    "# hp.mollview(win_tt,title='window')"
   ]
  },
  {
   "cell_type": "code",
   "execution_count": null,
   "metadata": {},
   "outputs": [],
   "source": [
    "import window_utils\n",
    "reload(window_utils)\n",
    "from window_utils import *\n",
    "\n",
    "import tracer_utils\n",
    "reload(tracer_utils)\n",
    "from tracer_utils import *\n",
    "\n",
    "\n",
    "import skylens\n",
    "reload(skylens)\n",
    "from skylens import *"
   ]
  },
  {
   "cell_type": "code",
   "execution_count": null,
   "metadata": {
    "scrolled": true
   },
   "outputs": [],
   "source": [
    "client"
   ]
  },
  {
   "cell_type": "raw",
   "metadata": {
    "scrolled": false
   },
   "source": [
    "client.restart()"
   ]
  },
  {
   "cell_type": "code",
   "execution_count": null,
   "metadata": {},
   "outputs": [],
   "source": [
    "zs_bin1['SN']['galaxy']"
   ]
  },
  {
   "cell_type": "code",
   "execution_count": null,
   "metadata": {},
   "outputs": [],
   "source": [
    "if not use_shot_noise:\n",
    "    for t in zs_bin1['SN'].keys():\n",
    "        zs_bin1['SN'][t]*=0\n",
    "#         zs_bin1w['SN'][t]*=0\n",
    "#         zl_bin1w['SN'][t]*=0\n",
    "        zl_bin1['SN'][t]*=0"
   ]
  },
  {
   "cell_type": "raw",
   "metadata": {
    "scrolled": false
   },
   "source": [
    "tracemalloc.clear_traces()\n",
    "tracemalloc.start()\n",
    "\n",
    "\n",
    "t1=time.time()\n",
    "kappa_win=Skylens(zs_bins=zs_bin1,do_cov=do_cov,bin_cl=bin_cl,l_bins=l_bins,l=l0, zg_bins=zl_bin1,\n",
    "            use_window=use_window,store_win=store_win,window_lmax=window_lmax,corrs=corrs,\n",
    "            SSV_cov=SSV_cov,tidal_SSV_cov=tidal_SSV_cov,f_sky=f_sky,\n",
    "            WT=WT_L,bin_xi=bin_xi,theta_bins=th_bins,do_xi=do_xi,\n",
    "            wigner_files=wigner_files,do_pseudo_cl=do_pseudo_cl\n",
    "#                  Win=kappa_win.Win.Win\n",
    "                 )\n",
    "\n",
    "t2=time.time()\n",
    "print('W done',t2-t1)\n",
    "\n",
    "if do_xi:\n",
    "    %time xiWG_L=kappa_win.xi_tomo()\n",
    "    %time xiW_L=xiWG_L['stack'].compute()\n",
    "else:\n",
    "    %time clG_win=kappa_win.cl_tomo(corrs=corrs) \n",
    "    %time cl0_win=clG_win['stack'].compute()\n",
    "\n"
   ]
  },
  {
   "cell_type": "code",
   "execution_count": null,
   "metadata": {},
   "outputs": [],
   "source": [
    "WT_L.wig_d.keys()"
   ]
  },
  {
   "cell_type": "code",
   "execution_count": null,
   "metadata": {},
   "outputs": [],
   "source": [
    "do_pseudo_cl"
   ]
  },
  {
   "cell_type": "code",
   "execution_count": null,
   "metadata": {
    "scrolled": false
   },
   "outputs": [],
   "source": [
    "tracemalloc.clear_traces()\n",
    "tracemalloc.start()\n",
    "\n",
    "t1=time.time()\n",
    "if do_xi:\n",
    "    kappa_win_approx=Skylens(zs_bins=zs_bin1,do_cov=do_cov,bin_cl=bin_cl,l_bins=l_bins,l=l0, zg_bins=zl_bin1,\n",
    "            use_window=True,store_win=store_win,window_lmax=window_lmax,corrs=corrs,\n",
    "            SSV_cov=SSV_cov,tidal_SSV_cov=tidal_SSV_cov,f_sky=f_sky,\n",
    "            WT=WT_L,bin_xi=bin_xi,theta_bins=th_bins,do_xi=do_xi,\n",
    "            wigner_files=wigner_files,\n",
    "                             Win=None,\n",
    "#             Win=kappa_win.Win.Win,\n",
    "            do_pseudo_cl=do_pseudo_cl,\n",
    "            xi_win_approx=True\n",
    "            )\n",
    "\n",
    "    t2=time.time()\n",
    "    print('W done',t2-t1)\n",
    "\n",
    "    %time xiWG_L_approx=kappa_win_approx.xi_tomo()\n",
    "    %time xiW_L_approx=xiWG_L_approx['stack'].compute()"
   ]
  },
  {
   "cell_type": "code",
   "execution_count": null,
   "metadata": {},
   "outputs": [],
   "source": [
    "kappa_win_approx.Win.Win['cov'][corr_ll+corr_ll][(0,0,0,0)].keys()"
   ]
  },
  {
   "cell_type": "raw",
   "metadata": {},
   "source": [
    "kappa_win.Win.Win['cl'][corr_ll][(0,0)]['xi'],kappa_win.Win.Win['cl'][corr_ll][(0,0)]['xi_b']"
   ]
  },
  {
   "cell_type": "code",
   "execution_count": null,
   "metadata": {},
   "outputs": [],
   "source": [
    "snapshot1 = tracemalloc.take_snapshot()"
   ]
  },
  {
   "cell_type": "code",
   "execution_count": null,
   "metadata": {},
   "outputs": [],
   "source": [
    "top_stats = snapshot1.statistics('lineno')\n",
    "# top_stats"
   ]
  },
  {
   "cell_type": "code",
   "execution_count": null,
   "metadata": {},
   "outputs": [],
   "source": [
    "stat = top_stats[3]\n",
    "print(\"%s memory blocks: %.1f MiB\" % (stat.count, stat.size / 1024**2))\n",
    "for line in stat.traceback.format():\n",
    "    print(line)"
   ]
  },
  {
   "cell_type": "raw",
   "metadata": {},
   "source": [
    "dask.visualize(kappa_win.Win.Win_cl)"
   ]
  },
  {
   "cell_type": "raw",
   "metadata": {},
   "source": [
    "from pympler import tracker\n",
    "from operator import itemgetter\n",
    "\n",
    "mem = tracker.SummaryTracker()\n",
    "outp_t=np.array(sorted(mem.create_summary(), reverse=True, key=itemgetter(2))[:10])\n",
    "outp_t[:,2]/=1024*1024*1024\n",
    "print(outp_t)"
   ]
  },
  {
   "cell_type": "raw",
   "metadata": {},
   "source": [
    "import gc\n",
    "gc.collect()\n",
    "import sys\n",
    "bi=(0,0)\n",
    "# from memory_profiler import profile\n",
    "sys.getsizeof(kappa_win.Win.Win['cl'][corr_ll][bi]['M'])/1e6,sys.getsizeof(cl0_win['cov'])/1e6"
   ]
  },
  {
   "cell_type": "raw",
   "metadata": {},
   "source": [
    "crash"
   ]
  },
  {
   "cell_type": "code",
   "execution_count": null,
   "metadata": {},
   "outputs": [],
   "source": [
    "l=kappa_win_approx.window_l\n",
    "Om_W=np.pi*4*f_sky\n",
    "theta_win=np.sqrt(Om_W/np.pi)\n",
    "l_th=l*theta_win\n",
    "Win0=2*jn(1,l_th)/l_th\n",
    "Win0=np.nan_to_num(Win0)"
   ]
  },
  {
   "cell_type": "raw",
   "metadata": {},
   "source": [
    "plot(cl_t3,'--')\n",
    "plot(cl_t)\n",
    "plot(kappa_win.cov_utils.Win0)\n",
    "# plot(Win0)\n",
    "# loglog()\n",
    "yscale('log')\n",
    "xlim(0,10)"
   ]
  },
  {
   "cell_type": "code",
   "execution_count": null,
   "metadata": {},
   "outputs": [],
   "source": [
    "kappa_win.z_bins.keys()"
   ]
  },
  {
   "cell_type": "code",
   "execution_count": null,
   "metadata": {},
   "outputs": [],
   "source": [
    "bi=(0,0)"
   ]
  },
  {
   "cell_type": "raw",
   "metadata": {},
   "source": [
    "dask.visualize(kappa_win.Win.Win_cl)"
   ]
  },
  {
   "cell_type": "raw",
   "metadata": {},
   "source": [
    "dask.visualize(kappa_win.Win.Win_cov)"
   ]
  },
  {
   "cell_type": "code",
   "execution_count": null,
   "metadata": {},
   "outputs": [],
   "source": [
    "R=kappa_win.Win.Win['cl'][corr_gg][bi]['M']/kappa_win.Win.Win['cl'][corr_ll][bi]['M']\n",
    "R=np.nan_to_num(R)\n",
    "x=R>0\n",
    "R[x].max()"
   ]
  },
  {
   "cell_type": "raw",
   "metadata": {},
   "source": [
    "kappa_win_w=cov_3X2(zs_bins=zs_bin1w,do_cov=do_cov,bin_cl=bin_cl,l_bins=l_bins,l=l0, zg_bins=zl_bin1w,\n",
    "            use_window=use_window,store_win=store_win,window_lmax=window_lmax,corrs=corrs,\n",
    "            SSV_cov=SSV_cov,tidal_SSV_cov=tidal_SSV_cov,f_sky=f_sky,\n",
    "            HT=WT_L,bin_xi=bin_xi,theta_bins=th_bins,do_xi=do_xi,\n",
    "                    wigner_files=wigner_files,\n",
    "#                    Win=kappa_win_w.Win.Win\n",
    "                   )\n",
    "\n",
    "%time clG_win_w=kappa_win_w.cl_tomo(corrs=corrs) \n",
    "%time cl0_win_w=clG_win_w['stack'].compute()\n",
    "\n",
    "if do_xi:\n",
    "    %time xiWG_L_w=kappa_win_w.xi_tomo()\n",
    "    %time xiW_L_w=xiWG_L_w['stack'].compute()"
   ]
  },
  {
   "cell_type": "code",
   "execution_count": null,
   "metadata": {},
   "outputs": [],
   "source": [
    "corrs"
   ]
  },
  {
   "cell_type": "raw",
   "metadata": {},
   "source": [
    "import tracer_utils\n",
    "reload(tracer_utils)\n",
    "from tracer_utils import *\n",
    "import cov_3X2\n",
    "reload(cov_3X2)\n",
    "from cov_3X2 import *"
   ]
  },
  {
   "cell_type": "code",
   "execution_count": null,
   "metadata": {
    "scrolled": true
   },
   "outputs": [],
   "source": [
    "kappa0=Skylens(zs_bins=copy.deepcopy(zs_bin1),do_cov=do_cov,bin_cl=bin_cl,l_bins=l_bins,l=l0, zg_bins=zl_bin1,\n",
    "            use_window=False,store_win=store_win,corrs=corrs,\n",
    "            SSV_cov=SSV_cov,tidal_SSV_cov=tidal_SSV_cov,f_sky=f_sky,\n",
    "            WT=WT_L,bin_xi=bin_xi,theta_bins=th_bins,do_xi=do_xi)\n",
    "\n",
    "%time clG0=kappa0.cl_tomo(corrs=corrs) \n",
    "if do_xi:\n",
    "    %time xiG_L0=kappa0.xi_tomo()\n",
    "    %time xi_L0=xiG_L0['stack'].compute()\n",
    "else:\n",
    "    %time cl0=clG0['stack'].compute()"
   ]
  },
  {
   "cell_type": "code",
   "execution_count": null,
   "metadata": {},
   "outputs": [],
   "source": [
    "fname='../tests/corr_sims_newN5_ns1024_lmax3071_wlmax3071_fsky0.3_noSN.pkl'\n",
    "# fname='../tests/corr_sims_newN100_ns128_lmax383_wlmax383_fsky0.3.pkl'\n",
    "with open(fname,'rb') as f:\n",
    "    outp=pickle.load(f)"
   ]
  },
  {
   "cell_type": "code",
   "execution_count": null,
   "metadata": {},
   "outputs": [],
   "source": [
    "window=outp['zs_bin1'][0]['window']\n",
    "mask=np.array(window==hp.UNSEEN) #np.zeros_like(window, dtype='bool')\n",
    "nside=int(np.sqrt(len(window)/12))\n",
    "seen_indices = np.where( ~mask )[0]\n",
    "theta, phi = hp.pix2ang(nside, seen_indices)"
   ]
  },
  {
   "cell_type": "code",
   "execution_count": null,
   "metadata": {},
   "outputs": [],
   "source": [
    "clg0_t={}\n",
    "for corr in corrs:\n",
    "    clg0_t[corr]=clG0['cl'][corr][(0,0)].compute()\n",
    "clg0=(clg0_t[corr_gg],clg0_t[corr_ll],clg0_t[corr_ll]*0,clg0_t[corr_ggl])"
   ]
  },
  {
   "cell_type": "code",
   "execution_count": null,
   "metadata": {},
   "outputs": [],
   "source": [
    "#test\n",
    "cl_map=hp.synfast(clg0,nside=nside,new=True,pol=True,verbose=False)"
   ]
  },
  {
   "cell_type": "code",
   "execution_count": null,
   "metadata": {},
   "outputs": [],
   "source": [
    "ra = np.degrees(np.pi*2.-phi)\n",
    "dec = -np.degrees(theta-np.pi/2.)\n",
    "g1 = window[~mask]\n",
    "g2 = g1*0\n",
    "print(ra.shape,g1.shape)\n",
    "tree_cat_args = {'ra':ra, 'dec':dec, 'ra_units':'degrees', 'dec_units':'degrees'}\n",
    "# %time tree_cat= treecorr.Catalog(ra=ra, dec=dec, g1=g1, g2=g2, w=window[~mask], ra_units='deg', dec_units='deg')\n",
    "corr_config = {'min_sep':th_min*60, 'max_sep':th_max*60, 'nbins':n_th_bins, 'sep_units':'arcmin', 'metric':'Arc'}\n",
    "tree_corrs=treecorr.NGCorrelation(**corr_config)"
   ]
  },
  {
   "cell_type": "code",
   "execution_count": null,
   "metadata": {},
   "outputs": [],
   "source": [
    "tree_cat={}\n",
    "tree_cat['galaxy'] = treecorr.Catalog(w=window[~mask], **tree_cat_args)\n",
    "tree_cat['shear'] = treecorr.Catalog(w=window[~mask], **tree_cat_args)"
   ]
  },
  {
   "cell_type": "code",
   "execution_count": null,
   "metadata": {},
   "outputs": [],
   "source": [
    "corr_config = {'min_sep':th_min*60, 'max_sep':th_max*60, 'nbins':n_th_bins, 'sep_units':'arcmin'}\n",
    "tree_corrs={}\n",
    "window_norm={}\n",
    "for corr in [corr_ll,corr_ggl,corr_gg]:\n",
    "    if corr==corr_gg:\n",
    "        tree_corrs[corr]=treecorr.NNCorrelation(**corr_config)\n",
    "        _=tree_corrs[corr].process(tree_cat['galaxy'])\n",
    "    if corr==corr_ll:\n",
    "        tree_corrs[corr]=treecorr.NNCorrelation(**corr_config)\n",
    "        _=tree_corrs[corr].process(tree_cat['shear'])\n",
    "        print(tree_corrs[corr],tree_cat['shear'])\n",
    "    if corr==corr_ggl:\n",
    "        tree_corrs[corr]=treecorr.NNCorrelation(**corr_config)\n",
    "        _=tree_corrs[corr].process(tree_cat['galaxy'],tree_cat['shear'],metric='Arc')\n",
    "    window_norm[corr]=tree_corrs[corr].weight*1."
   ]
  },
  {
   "cell_type": "code",
   "execution_count": null,
   "metadata": {},
   "outputs": [],
   "source": [
    "tree_cat={}\n",
    "tree_cat['galaxy'] = treecorr.Catalog(w=cl_map[0][~mask]*window[~mask], **tree_cat_args)\n",
    "tree_cat['shear'] = treecorr.Catalog(g1=cl_map[1][~mask]*window[~mask],g2=cl_map[2][~mask]*window[~mask], **tree_cat_args)"
   ]
  },
  {
   "cell_type": "code",
   "execution_count": null,
   "metadata": {},
   "outputs": [],
   "source": [
    "xi={}\n",
    "th_i=0\n",
    "for corr in [corr_ll,corr_ggl,corr_gg]:\n",
    "    if corr==corr_ggl:\n",
    "        tree_corrs[corr]=treecorr.NGCorrelation(**corr_config)\n",
    "        tree_corrs[corr_ggl].process(tree_cat['galaxy'],tree_cat['shear'])\n",
    "        xi['ggl']=tree_corrs[corr_ggl].xi*(tree_corrs[corr_ggl].weight/window_norm[corr_ggl])\n",
    "        th_i+=n_th_bins\n",
    "    if corr==corr_ll:\n",
    "        tree_corrs[corr]=treecorr.GGCorrelation(**corr_config)\n",
    "        tree_corrs[corr_ll].process(tree_cat['shear'])\n",
    "        xi['llp']=tree_corrs[corr_ll].xip*(tree_corrs[corr_ll].weight/window_norm[corr_ll])\n",
    "        th_i+=n_th_bins\n",
    "        xi['llm']=tree_corrs[corr_ll].xim*(tree_corrs[corr_ll].weight/window_norm[corr_ll])\n",
    "        th_i+=n_th_bins\n",
    "    if corr==corr_gg:\n",
    "        tree_corrs[corr]=treecorr.NNCorrelation(**corr_config)\n",
    "        tree_corrs[corr_gg].process(tree_cat['galaxy'])\n",
    "        xi['gg']=tree_corrs[corr_gg].weight/window_norm[corr_gg]\n",
    "        th_i+=n_th_bins"
   ]
  },
  {
   "cell_type": "code",
   "execution_count": null,
   "metadata": {},
   "outputs": [],
   "source": [
    "xi['ggl']"
   ]
  },
  {
   "cell_type": "code",
   "execution_count": null,
   "metadata": {},
   "outputs": [],
   "source": [
    "bi=(0,0)\n",
    "i=len(thb)*3\n",
    "# _=plot(thb,xi['ggl']*-1,'--')\n",
    "# _=plot(thb,xiG_L0['xi'][corr_gg][(0,0)][bi].compute(),':')\n",
    "# _=plot(thb,xiG_L0['xi'][corr_ggl][(0,2)][bi].compute(),':')\n",
    "\n",
    "# _=plot(thb,xiG_L0['xi'][corr_ll][(2,2)][bi].compute(),':')\n",
    "# _=plot(thb,xiG_L0['xi'][corr_ll][(2,-2)][bi].compute(),':')\n",
    "for j in np.arange(4):\n",
    "    i=len(thb)*j\n",
    "    c=colors[j]\n",
    "    _=plot(thb,outp['simW']['xi'].mean(axis=0)[i:i+len(thb)]/0.3,'--',label='i',c=c)\n",
    "#     _=plot(thb,xi[0,i:i+len(thb)]/0.3,'--',label='i',c=c)\n",
    "    _=plot(thb,outp['xi_win']['xi'][i:i+len(thb)],c=c)\n",
    "loglog()\n",
    "outp['simW']['xi'].mean(axis=0)[i:i+len(thb)]"
   ]
  },
  {
   "cell_type": "code",
   "execution_count": null,
   "metadata": {},
   "outputs": [],
   "source": [
    "outp['simW']['window_norm'][corr_ll]/window_norm[corr_ll]"
   ]
  },
  {
   "cell_type": "code",
   "execution_count": null,
   "metadata": {},
   "outputs": [],
   "source": [
    "nside=128\n",
    "l_t=np.arange(nside*3-1+1)\n",
    "gamma_trans_factor = np.array([np.sqrt( (li+2)*(li-1)/(li*(li+1))) for li in l_t   ] )\n",
    "gamma_trans_factor[0] = 0.\n",
    "gamma_trans_factor[1] = 0.\n",
    "l_alm,m_alm=hp.sphtfunc.Alm.getlm(l_t.max())\n",
    "l_alm=np.int32(l_alm)\n",
    "m_alm=0\n",
    "gamma_trans_factor=gamma_trans_factor[l_alm]\n",
    "l_alm=0\n",
    "\n",
    "def kappa_to_shear_map(kappa_map=[]):\n",
    "    kappa_alm = hp.map2alm(kappa_map,pol=False)        \n",
    "    gamma_alm = []\n",
    "    gamma_alm=kappa_alm*gamma_trans_factor#[l_alm]\n",
    "    k_map, g1_map, g2_map = hp.sphtfunc.alm2map( [kappa_alm,gamma_alm,kappa_alm*0 ], nside=nside,pol=True  )\n",
    "    return g1_map,g2_map"
   ]
  },
  {
   "cell_type": "code",
   "execution_count": null,
   "metadata": {},
   "outputs": [],
   "source": [
    "cl_map=hp.synfast(clg0,nside=nside,new=True,pol=False)\n",
    "cl_map_min=np.absolute(cl_map.min(axis=1))\n",
    "scale_f=1\n",
    "v0=np.std(cl_map.T/cl_map_min*scale_f,axis=0)\n",
    "cl_map_l=np.exp(cl_map.T/cl_map_min*scale_f)*np.exp(-0.5*v0**2)-1\n",
    "cl_map_l*=cl_map_min/scale_f\n",
    "cl_map_l=cl_map_l.T\n",
    "cl_map_l2=np.copy(cl_map_l)\n",
    "# cl_tt=hp.anafast(cl_map_l[0],cl_map_l[1],lmax=lmax)\n",
    "cl_map_l[1,:],cl_map_l[2,:]=kappa_to_shear_map(kappa_map=cl_map_l[1])\n",
    "cl_map_mean=cl_map_l.mean(axis=1)\n",
    "for i in np.arange(3):\n",
    "    cl_map_l[i]-=cl_map_l[i].mean()"
   ]
  },
  {
   "cell_type": "code",
   "execution_count": null,
   "metadata": {},
   "outputs": [],
   "source": [
    "cl_map_l[2,:]=0"
   ]
  },
  {
   "cell_type": "code",
   "execution_count": null,
   "metadata": {},
   "outputs": [],
   "source": [
    "cl_map[2]"
   ]
  },
  {
   "cell_type": "code",
   "execution_count": null,
   "metadata": {
    "scrolled": false
   },
   "outputs": [],
   "source": [
    "for i in np.arange(3):\n",
    "    _=hist(cl_map[i],1000,histtype='step')\n",
    "    _=hist(cl_map_l[i],1000,ls='--',histtype='step')\n",
    "    _=hist(cl_map_l2[i],1000,ls=':',histtype='step')\n",
    "#     _=hist(np.exp(1+cl_map[i]),1000,histtype='step',ls=':')\n",
    "    yscale('log')\n",
    "    show()"
   ]
  },
  {
   "cell_type": "code",
   "execution_count": null,
   "metadata": {},
   "outputs": [],
   "source": [
    "i=0"
   ]
  },
  {
   "cell_type": "code",
   "execution_count": null,
   "metadata": {},
   "outputs": [],
   "source": [
    "hp.mollview(cl_map[i])\n",
    "hp.mollview(cl_map_l[i])"
   ]
  },
  {
   "cell_type": "code",
   "execution_count": null,
   "metadata": {},
   "outputs": [],
   "source": [
    "cl_t=hp.anafast(cl_map,pol=False)\n",
    "cl_t_l=hp.anafast(cl_map_l,pol=True)\n",
    "cl_t_l2=hp.anafast(cl_map_l2,pol=False)"
   ]
  },
  {
   "cell_type": "code",
   "execution_count": null,
   "metadata": {
    "scrolled": false
   },
   "outputs": [],
   "source": [
    "for i in np.arange(6):\n",
    "    plot(cl_t[i])\n",
    "    plot(cl_t_l[i])\n",
    "    plot(cl_t_l2[i])\n",
    "    # plot(cl_t2)\n",
    "    xscale('log')\n",
    "    # ylim(0.9,1.0512)\n",
    "    show()"
   ]
  },
  {
   "cell_type": "code",
   "execution_count": null,
   "metadata": {},
   "outputs": [],
   "source": [
    "plot(cl_t[i]/cl_t_l[i])\n",
    "# plot(cl_t2)\n",
    "xscale('log')\n",
    "# ylim(0.9,1.0512)"
   ]
  },
  {
   "cell_type": "code",
   "execution_count": null,
   "metadata": {},
   "outputs": [],
   "source": []
  },
  {
   "cell_type": "code",
   "execution_count": null,
   "metadata": {},
   "outputs": [],
   "source": []
  },
  {
   "cell_type": "code",
   "execution_count": null,
   "metadata": {},
   "outputs": [],
   "source": []
  },
  {
   "cell_type": "code",
   "execution_count": null,
   "metadata": {},
   "outputs": [],
   "source": []
  },
  {
   "cell_type": "code",
   "execution_count": null,
   "metadata": {
    "scrolled": false
   },
   "outputs": [],
   "source": [
    "kappa0_kk=cov_3X2(zk_bins=copy.deepcopy(zs_bin1),do_cov=do_cov,bin_cl=bin_cl,l_bins=l_bins,l=l0, zg_bins=zl_bin1,\n",
    "            use_window=False,store_win=store_win,corrs=[corr_kk,corr_gk,corr_gg],\n",
    "            SSV_cov=SSV_cov,tidal_SSV_cov=tidal_SSV_cov,f_sky=f_sky,\n",
    "            HT=WT_L,bin_xi=bin_xi,theta_bins=th_bins,do_xi=do_xi)\n",
    "\n",
    "%time clG0kk=kappa0_kk.cl_tomo(corrs=[corr_kk,corr_gk,corr_gg]) \n",
    "if do_xi:\n",
    "    %time xiG_kkL0=kappa0_kk.xi_tomo(corrs=[corr_kk,corr_gk,corr_gg])\n",
    "    %time xi_kkL0=xiG_kkL0['stack'].compute()\n",
    "else:\n",
    "    %time cl0_kk=clG0kk['stack'].compute()"
   ]
  },
  {
   "cell_type": "code",
   "execution_count": null,
   "metadata": {},
   "outputs": [],
   "source": [
    "bi=(0,0)\n",
    "corr=corr_ll\n",
    "cl_s=clG0['cl'][corr][bi].compute()\n",
    "corr=corr_kk\n",
    "cl_k=clG0kk['cl'][corr][bi].compute()\n",
    "\n",
    "# plot(cl_s/cl_k)\n",
    "# plot(cl_k)\n",
    "# loglog()"
   ]
  },
  {
   "cell_type": "code",
   "execution_count": null,
   "metadata": {},
   "outputs": [],
   "source": [
    "plot(l0,cl_s)"
   ]
  },
  {
   "cell_type": "code",
   "execution_count": null,
   "metadata": {},
   "outputs": [],
   "source": [
    "tht,xi_sk=kappa0.HT.projected_correlation(l_cl=l0,cl=cl_k,m1_m2=(2,2))\n",
    "xi_sk=kappa0.binning.bin_1d(xi=xi_sk,bin_utils=kappa0.xi_bin_utils[(2,2)])\n",
    "\n",
    "tht,xi_ks=kappa0_kk.HT.projected_correlation(l_cl=l0,cl=cl_s,m1_m2=(0,0))\n",
    "xi_ks=kappa0.binning.bin_1d(xi=xi_ks,bin_utils=kappa0_kk.xi_bin_utils[(0,0)])"
   ]
  },
  {
   "cell_type": "code",
   "execution_count": null,
   "metadata": {},
   "outputs": [],
   "source": [
    "cl_sim=np.genfromtxt('./temp/cl_sim.dat',names=True)\n",
    "tht,xiS_s=kappa0.HT.projected_correlation(l_cl=cl_sim['l'],cl=cl_sim['cls'],m1_m2=(2,2))\n",
    "xiS_s=kappa0.binning.bin_1d(xi=xiS_s,bin_utils=kappa0.xi_bin_utils[(2,2)])\n",
    "\n",
    "tht,xiS_m=kappa0.HT.projected_correlation(l_cl=cl_sim['l'],cl=cl_sim['cls'],m1_m2=(2,-2))\n",
    "xiS_m=kappa0.binning.bin_1d(xi=xiS_m,bin_utils=kappa0.xi_bin_utils[(2,-2)])\n",
    "\n",
    "tht,xiS_k=kappa0.HT.projected_correlation(l_cl=cl_sim['l'],cl=cl_sim['clk'],m1_m2=(0,0))\n",
    "xiS_k=kappa0.binning.bin_1d(xi=xiS_k,bin_utils=kappa0.xi_bin_utils[(0,0)])\n",
    "# xi_sk=kappa0.binning.bin_1d(xi=xi_sk,bin_utils=kappa0.xi_bin_utils[(2,2)])\n",
    "\n",
    "# tht,xi_ks=kappa0_kk.HT.projected_correlation(l_cl=l0,cl=cl_s,m1_m2=(0,0))\n",
    "# xi_ks=kappa0.binning.bin_1d(xi=xi_ks,bin_utils=kappa0_kk.xi_bin_utils[(0,0)])\n",
    "\n",
    "np.savetxt('./temp/corr_sim_predict_xipm_kappa.dat',np.column_stack((thb*60,xiS_s,xiS_m,xiS_k)),header='th xis xim xik')"
   ]
  },
  {
   "cell_type": "code",
   "execution_count": null,
   "metadata": {},
   "outputs": [],
   "source": [
    "corr=corr_ll\n",
    "m1_m2=(2,2)\n",
    "bi=(0,0)\n",
    "xi_s=xiG_L0['xi'][corr][m1_m2][bi].compute()\n",
    "m1_m2=(2,-2)\n",
    "xi_m=xiG_L0['xi'][corr][m1_m2][bi].compute()\n",
    "corr=corr_kk\n",
    "m1_m2=(0,0)\n",
    "xi_k=xiG_kkL0['xi'][corr][m1_m2][bi].compute()"
   ]
  },
  {
   "cell_type": "code",
   "execution_count": null,
   "metadata": {},
   "outputs": [],
   "source": [
    "np.savetxt('./temp/corr_theory_xip_kappa.dat',np.column_stack((thb*60,xi_s,xi_sk,xi_ks,xi_k,xi_m)),header='th xis xisk xiks xik xim')\n",
    "np.savetxt('./temp/cl_theory.dat',np.column_stack((l0,cl_s,cl_k)),header='l cls clk')"
   ]
  },
  {
   "cell_type": "code",
   "execution_count": null,
   "metadata": {},
   "outputs": [],
   "source": [
    "plot(thb*60,xi_s/xi_k)\n",
    "plot(thb*60,xi_sk/xi_k,'--')\n",
    "plot(thb*60,xi_ks/xi_k,':')\n",
    "# plot(thb/d2r,xi_k)\n",
    "xscale('log')\n",
    "# ylim(0.8,1.01)\n",
    "vlines(100,0.8,1)\n",
    "hlines(.9,10,100)"
   ]
  },
  {
   "cell_type": "code",
   "execution_count": null,
   "metadata": {},
   "outputs": [],
   "source": [
    "thi=1190\n",
    "plot(l0,WT_L.wig_d[(2,2)][thi,:])\n",
    "plot(l0,WT_L.wig_d[(0,0)][thi,:])\n",
    "xscale('log')\n",
    "# yscale('log')"
   ]
  },
  {
   "cell_type": "code",
   "execution_count": null,
   "metadata": {},
   "outputs": [],
   "source": [
    "m1_m2s=kappa0.m1_m2s"
   ]
  },
  {
   "cell_type": "code",
   "execution_count": null,
   "metadata": {},
   "outputs": [],
   "source": [
    "m1_m2s"
   ]
  },
  {
   "cell_type": "raw",
   "metadata": {},
   "source": [
    "xiG_L0['xi'][corr]#[m1_m2]#[bi]#.compute()"
   ]
  },
  {
   "cell_type": "raw",
   "metadata": {},
   "source": [
    "m1_m2"
   ]
  },
  {
   "cell_type": "code",
   "execution_count": null,
   "metadata": {},
   "outputs": [],
   "source": [
    "bi=(0,0)\n",
    "xi0p={'xi':{},'cov':{},'cl':{}}\n",
    "xi0m={'xi':{},'cov':{},'cl':{}}\n",
    "xi0m_win={'xi':{},'cov':{}}\n",
    "xi0p_win={'xi':{},'cov':{}}\n",
    "xi0m_win_approx={'xi':{},'cov':{}}\n",
    "xi0p_win_approx={'xi':{},'cov':{}}\n",
    "\n",
    "\n",
    "for corr in corrs:\n",
    "    if corr==corr_ll:\n",
    "        m1_m2=m1_m2s[corr][1]\n",
    "        xi0m['xi'][corr]=xiG_L0['xi'][corr][m1_m2][bi].compute()\n",
    "        xi0m['cov'][corr]=xiG_L0['cov'][corr+corr][m1_m2+m1_m2][bi+bi].compute()\n",
    "\n",
    "        xi0m_win['xi'][corr]=xiWG_L['xi'][corr][m1_m2][bi].compute()\n",
    "        xi0m_win['cov'][corr]=xiWG_L['cov'][corr+corr][m1_m2+m1_m2][bi+bi].compute()['final']\n",
    "        \n",
    "        xi0m_win_approx['xi'][corr]=xiWG_L_approx['xi'][corr][m1_m2][bi].compute()\n",
    "        xi0m_win_approx['cov'][corr]=xiWG_L_approx['cov'][corr+corr][m1_m2+m1_m2][bi+bi].compute()['final']\n",
    "        \n",
    "    m1_m2=m1_m2s[corr][0]\n",
    "    xi0p['xi'][corr]=xiG_L0['xi'][corr][m1_m2][bi].compute()\n",
    "    xi0p['cov'][corr]=xiG_L0['cov'][corr+corr][m1_m2+m1_m2][bi+bi].compute()\n",
    "    \n",
    "    xi0p_win['xi'][corr]=xiWG_L['xi'][corr][m1_m2][bi].compute()\n",
    "    xi0p_win['cov'][corr]=xiWG_L['cov'][corr+corr][m1_m2+m1_m2][bi+bi].compute()['final']\n",
    "    \n",
    "    xi0p_win_approx['xi'][corr]=xiWG_L_approx['xi'][corr][m1_m2][bi].compute()\n",
    "    xi0p_win_approx['cov'][corr]=xiWG_L_approx['cov'][corr+corr][m1_m2+m1_m2][bi+bi].compute()['final']"
   ]
  },
  {
   "cell_type": "code",
   "execution_count": null,
   "metadata": {},
   "outputs": [],
   "source": [
    "def corr_matrix(cov_mat=[]): #correlation matrix\n",
    "    diag=np.diag(cov_mat)\n",
    "    return cov_mat/np.sqrt(np.outer(diag,diag))"
   ]
  },
  {
   "cell_type": "code",
   "execution_count": null,
   "metadata": {},
   "outputs": [],
   "source": [
    "def bin_coupling_M(kappa_class,coupling_M): #following https://arxiv.org/pdf/astro-ph/0105302.pdf \n",
    "#construct coupling matrix for the binned c_ell. This assumes that the C_ell within a bin follows powerlaw. \n",
    "#Without this assumption we cannot undo the effects of binning\n",
    "    l=kappa_class.l\n",
    "    bin_M=kappa_win.cl_bin_utils['binning_mat']\n",
    "    l2=l*(l+1)\n",
    "    x=l==0\n",
    "    l2[x]=1\n",
    "    Q=bin_M.T*np.pi*2/(l2)\n",
    "    P=bin_M.T*(l2)/(np.pi*2)\n",
    "    P=P.T/(kappa_class.l_bins[1:]-kappa_class.l_bins[:-1])\n",
    "    return P.T@coupling_M@Q.T"
   ]
  },
  {
   "cell_type": "code",
   "execution_count": null,
   "metadata": {},
   "outputs": [],
   "source": [
    "def bin_coupling_M2(kappa_class,coupling_M): #following https://arxiv.org/pdf/astro-ph/0105302.pdf \n",
    "#construct coupling matrix for the binned c_ell. This assumes that the C_ell within a bin follows powerlaw. \n",
    "#Without this assumption we cannot undo the effects of binning\n",
    "    l=kappa_class.l\n",
    "    bin_M=kappa_win.cl_bin_utils['binning_mat']\n",
    "    \n",
    "    l2=l*(l+1)\n",
    "    x=l==0\n",
    "    l2[x]=1\n",
    "    \n",
    "    Q=bin_M.T*np.pi*2/(l2)**2\n",
    "    P=bin_M.T*(l2)**2/(np.pi*2)\n",
    "    P=P.T/(kappa_class.l_bins[1:]-kappa_class.l_bins[:-1])\n",
    "    return P.T@coupling_M@Q.T"
   ]
  },
  {
   "cell_type": "code",
   "execution_count": null,
   "metadata": {},
   "outputs": [],
   "source": [
    "seed=12334\n",
    "def get_clsim2(clg0,window,mask,kappa_class,coupling_M,coupling_M_inv,ndim,i):\n",
    "    print(i)\n",
    "    local_state = np.random.RandomState(seed+i)\n",
    "    cl_map=hp.synfast(clg0,nside=nside,RNG=local_state,new=True,pol=True)\n",
    "\n",
    "    if ndim>1:\n",
    "        cl_map[0]*=window['galaxy']\n",
    "        cl_map[0][mask['galaxy']]=hp.UNSEEN\n",
    "        cl_map[1]*=window['shear'] #shear_1\n",
    "        cl_map[2]*=window['shear']#shear_2\n",
    "        cl_map[1][mask['shear']]=hp.UNSEEN\n",
    "        cl_map[2][mask['shear']]=hp.UNSEEN\n",
    "        clpi=hp.anafast(cl_map, lmax=max(l),pol=True) #TT, EE, BB, TE, EB, TB for polarized input map\n",
    "        clpi=clpi[:,l]\n",
    "        clpi=clpi[[0,1,3],:]\n",
    "#             for i in np.arange(6):\n",
    "\n",
    "    else:\n",
    "        cl_map*=window\n",
    "        cl_map[mask]=hp.UNSEEN\n",
    "        clpi=hp.anafast(cl_map, lmax=max(l),pol=True)[l]\n",
    "        \n",
    "    del cl_map\n",
    "\n",
    "    if ndim>1:\n",
    "        clpi[0]-=(np.ones_like(clpi[0])*kappa_class.SN[corr_gg][:,0,0])@coupling_M[corr_gg]*use_shot_noise\n",
    "        clpi[1]-=(np.ones_like(clpi[1])*kappa_class.SN[corr_ll][:,0,0])@coupling_M[corr_ll]*use_shot_noise\n",
    "        clpi[1]-=(np.ones_like(clpi[1])*kappa_class.SN[corr_ll][:,0,0])@coupling_M['shear_B']*use_shot_noise #remove B-mode leakage\n",
    "\n",
    "        clgi=[clpi[0]@coupling_M_inv[corr_gg],\n",
    "              clpi[1]@coupling_M_inv[corr_ll],\n",
    "              clpi[2]@coupling_M_inv[corr_ggl]]\n",
    "    else:\n",
    "        clpi-=(np.ones_like(clpi)*shot_noise)@coupling_M\n",
    "        clgi=clpi@coupling_M_inv\n",
    "    clgi=np.array(clgi)\n",
    "    return [clpi.T,clgi.T]"
   ]
  },
  {
   "cell_type": "code",
   "execution_count": null,
   "metadata": {},
   "outputs": [],
   "source": [
    "def calc_sim_stats(sim=[],sim_truth=[],PC=False):\n",
    "    sim_stats={}\n",
    "    sim_stats['std']=np.std(sim,axis=0)    \n",
    "    sim_stats['mean']=np.mean(sim,axis=0)\n",
    "    sim_stats['median']=np.median(sim,axis=0)\n",
    "    sim_stats['percentile']=np.percentile(sim,[16,84],axis=0)\n",
    "#     sim_stats['skew']=skew(sim,axis=0)\n",
    "#     sim_stats['kurt']=kurtosis(sim,axis=0)\n",
    "    sim_stats['cov']=np.cov(sim,rowvar=0)\n",
    "    \n",
    "#     if not PC:\n",
    "#         try:\n",
    "#             sim_stats['cov_ev'],sim_stats['cov_evec']=np.linalg.eig(sim_stats['cov'])\n",
    "#             sim_stats['PC']={}\n",
    "#             sim_stats['PC']['data']=(sim_stats['cov_evec'].T@sim.T).T\n",
    "#             sim_stats['PC']['stats']=calc_sim_stats(sim=sim_stats['PC']['data'],PC=True)\n",
    "#         except Exception as err:\n",
    "#             print(err)\n",
    "#             sim_stats['PC']=err\n",
    "#     else:\n",
    "#         sim_truth=sim_stats['mean']\n",
    "    \n",
    "    sim_stats['percetile_score']=np.zeros_like(sim_stats['std'])\n",
    "    if len(sim_stats['std'].shape)==1:\n",
    "        for i in np.arange(len(sim_stats['std'])):\n",
    "            sim_stats['percetile_score'][i]=percentileofscore(sim[:,i],sim_truth[i])\n",
    "    elif len(sim_stats['std'].shape)==2:\n",
    "        for i in np.arange(len(sim_stats['std'])):\n",
    "            for i_dim in np.arange(2):\n",
    "                for j_dim in np.arange(2):\n",
    "                    sim_stats['percetile_score'][i][i_dim,j_dim]=percentileofscore(sim[:,i,i_dim,j_dim],\n",
    "                                                                                   sim_truth[i,i_dim,j_dim])\n",
    "    else:\n",
    "        sim_stats['percetile_score']='not implemented for ndim>2'\n",
    "    return sim_stats\n",
    "    \n",
    "def sim_cl_xi(Rsize=150,do_norm=False,cl0=None,kappa_class=None,fsky=f_sky,zbins=None,use_shot_noise=True,\n",
    "             convolve_win=False,nside=nside,use_cosmo_power=True):\n",
    "    l=kappa_class.l\n",
    "    shear_lcut=l>=2\n",
    "    \n",
    "    l_bins=kappa_class.l_bins\n",
    "    dl=l_bins[1:]-l_bins[:-1]\n",
    "    nu=(2.*l+1.)*fsky\n",
    "    \n",
    "    coupling_M={}\n",
    "    coupling_M_N={}\n",
    "    coupling_M_binned={'Master':{},'nMaster':{},'iMaster':{}}    \n",
    "    coupling_M_inv={}\n",
    "    coupling_M_binned_inv={'Master':{},'nMaster':{},'iMaster':{}}\n",
    "    \n",
    "    coupling_M4={}\n",
    "    coupling_M4_binned={}\n",
    "    coupling_M4_binned2={}\n",
    "\n",
    "    mask={}\n",
    "    window={}\n",
    "    if convolve_win:\n",
    "        nu=2.*l+1.\n",
    "        for tracer in kappa_class.z_bins.keys():\n",
    "            window[tracer]=kappa_class.z_bins[tracer][0]['window']\n",
    "            mask[tracer]=window[tracer]==hp.UNSEEN\n",
    "        for corr in corrs:\n",
    "            coupling_M[corr]=kappa_class.Win.Win['cl'][corr][(0,0)]['M']\n",
    "            coupling_M_N[corr]=kappa_class.Win.Win['cl'][corr][(0,0)]['M_noise']\n",
    "            if corr==corr_ll:\n",
    "                coupling_M['shear_B']=kappa_class.Win.Win['cl'][corr][(0,0)]['M_B']\n",
    "                coupling_M_N['shear_B']=kappa_class.Win.Win['cl'][corr][(0,0)]['M_B_noise']\n",
    "            coupling_M_binned['Master'][corr]=bin_coupling_M(kappa_class,coupling_M[corr])\n",
    "            coupling_M_binned['nMaster'][corr]=kappa_class.binning.bin_2d(cov=coupling_M[corr],bin_utils=kappa_class.cl_bin_utils) \n",
    "            coupling_M_binned['nMaster'][corr]*=dl\n",
    "            \n",
    "            coupling_M_binned['iMaster'][corr]=M_binnings[corr].bin_2d_coupling(cov=coupling_M[corr].T,bin_utils=M_binning_utils[corr])\n",
    "            coupling_M_binned['iMaster'][corr]=coupling_M_binned['iMaster'][corr].T  #to keep the same order in dot product later. Remeber that the coupling matrix is not symmetric.\n",
    "            \n",
    "            if corr==corr_ll:\n",
    "                coupling_M_binned['iMaster']['shear_B']=M_binnings[corr].bin_2d_coupling(cov=coupling_M['shear_B'].T,bin_utils=M_binning_utils[corr])\n",
    "                coupling_M_binned['iMaster']['shear_B']=coupling_M_binned['iMaster']['shear_B'].T  #to keep the same order in dot product later. Remeber that the coupling matrix is not symmetric.\n",
    "                \n",
    "                \n",
    "#             coupling_M4=kappa_win.Win.Win['cov'][corr+corr][(0,0,0,0)]['M1324'][s] #*2\n",
    "#             coupling_M4_binned[corr]=bin_coupling_M(kappa_class,coupling_M4[corr])\n",
    "#             coupling_M4_binned2[corr]=kappa_class.binning.bin_2d(cov=coupling_M4[corr],bin_utils=kappa_class.cl_bin_utils) \n",
    "#             coupling_M4_binned2[corr]*=dl\n",
    "#         kappa_class.binning.bin_2d(cov=coupling_M,bin_utils=kappa_win.cl_bin_utils)\n",
    "#             print(corr,coupling_M[corr])\n",
    "            \n",
    "            cut=l>=0\n",
    "            if 'shear' in corr:\n",
    "                cut=shear_lcut \n",
    "            coupling_M_inv[corr]=np.zeros_like(coupling_M[corr])\n",
    "#             coupling_M_inv[corr][:,cut][cut,:]+=np.linalg.inv(coupling_M[corr][cut,:][:,cut]) #otherwise we get singular matrix since for shear l<2 is not defined.\n",
    "            MT=np.linalg.inv(coupling_M[corr][cut,:][:,cut]) #otherwise we get singular matrix since for shear l<2 is not defined.\n",
    "            coupling_M_inv[corr]=np.pad(MT,((~cut).sum(),0),mode='constant',constant_values=0)\n",
    "            \n",
    "            for k in coupling_M_binned.keys():\n",
    "                coupling_M_binned_inv[k][corr]=np.linalg.inv(coupling_M_binned[k][corr])\n",
    "            if corr==corr_ll:\n",
    "                coupling_M_inv['shear_B']=np.zeros_like(coupling_M['shear_B'])\n",
    "                coupling_M_inv['shear_B'][:,cut][cut,:]=np.linalg.inv(coupling_M['shear_B'][cut,:][:,cut]) #otherwise we get singular matrix since for shear l<2 is not defined.\n",
    "                coupling_M_binned_inv['iMaster']['shear_B']=np.linalg.inv(coupling_M_binned['iMaster']['shear_B'])\n",
    "#             print(coupling_M_inv.keys())\n",
    "    outp={}\n",
    "    win=0\n",
    "    clp_shear_B=None\n",
    "    if cl0 is None:\n",
    "        cl0={}\n",
    "        clp0={}\n",
    "        clG0=kappa_class.cl_tomo() \n",
    "        for corr in kappa_class.corrs:\n",
    "            cl0[corr]=clG0['cl'][corr][(0,0)].compute()\n",
    "            clp0[corr]=clG0['cl_b'][corr][(0,0)].compute()\n",
    "    clg0={}\n",
    "    clN0={}\n",
    "    for corr in kappa_class.corrs: #ordering: TT, EE, BB, TE if 4 cl as input.. use newbool=True\n",
    "        shot_noise=kappa_class.SN[corr_gg][:,0,0]*0\n",
    "        if corr[0]==corr[1]:\n",
    "            shot_noise=kappa_class.SN[corr][:,0,0]\n",
    "        shot_noise=shot_noise*use_shot_noise\n",
    "        clN0[corr]=shot_noise\n",
    "        clg0[corr]=cl0[corr]*use_cosmo_power#+shot_noise\n",
    "        if corr==corr_ll:\n",
    "            clg0['shear_B']=cl0[corr]*0\n",
    "            clN0['shear_B']=shot_noise\n",
    "            #clp_shear_B=shot_noise@coupling_M[corr_ll]+(cl0[corr_ll]+shot_noise)@coupling_M['shear_B']\n",
    "            clp_shear_B=cl0[corr_ll]@coupling_M['shear_B']\n",
    "    ndim=len(kappa_class.corrs)\n",
    "    print('ndim:',ndim)\n",
    "    outp['clg0_0']=clg0.copy()\n",
    "    outp['clN0_0']=clN0.copy()\n",
    "    outp['ndim']=ndim\n",
    "    if ndim>1:\n",
    "        clg0=(clg0[corr_gg],clg0[corr_ll],clg0['shear_B'],clg0[corr_ggl])#ordering: TT, EE, BB, TE if 4 cl as input.. use newbool=True\n",
    "        clN0=(clN0[corr_gg],clN0[corr_ll],clN0['shear_B'],clN0[corr_ggl])#ordering: TT, EE, BB, TE if 4 cl as input.. use newbool=True\n",
    "    else:\n",
    "        clg0=clg0[corr_gg]\n",
    "        clN0=clN0[corr_gg]\n",
    "    \n",
    "    SN=kappa_class.SN\n",
    "    sim_cl_shape=(Rsize,len(kappa_class.l),ndim)\n",
    "    \n",
    "    clp=np.zeros(sim_cl_shape,dtype='float32')\n",
    "    clg=np.zeros(sim_cl_shape,dtype='float32')\n",
    "    clpB=np.zeros(sim_cl_shape,dtype='float32')\n",
    "    clgB=np.zeros(sim_cl_shape,dtype='float32')\n",
    "    lmax=max(l)\n",
    "    lmin=min(l)\n",
    "    \n",
    "    \n",
    "    clg_b=None\n",
    "    clp_b=None\n",
    "    clpB_b=None\n",
    "    nu_b=None\n",
    "    if l_bins is not None:\n",
    "        clg0_b={corr: kappa_class.binning.bin_1d(xi=cl0[corr],bin_utils=kappa_class.cl_bin_utils) for corr in kappa_class.corrs} \n",
    "        ll=kappa_class.cl_bin_utils['bin_center']\n",
    "        sim_clb_shape=(Rsize,len(ll),ndim)\n",
    "        nu_b=(2.*ll+1.)*fsky*(l_bins[1:]-l_bins[:-1])\n",
    "        clg_b={'unbinned':np.zeros(sim_clb_shape,dtype='float32'),\n",
    "                'Master':np.zeros(sim_clb_shape,dtype='float32'),\n",
    "               'nMaster':np.zeros(sim_clb_shape,dtype='float32'),\n",
    "               'iMaster':np.zeros(sim_clb_shape,dtype='float32')}    \n",
    "        clgB_b={'iMaster':np.zeros(sim_clb_shape,dtype='float32')}\n",
    "#                'nMaster':np.zeros(sim_clb_shape,dtype='float32'),\n",
    "#                'Master':np.zeros(sim_clb_shape,dtype='float32')}    \n",
    "        clp_b=np.zeros(sim_clb_shape,dtype='float32')\n",
    "        \n",
    "        clpB_b=np.zeros(sim_clb_shape,dtype='float32')\n",
    "        \n",
    "        binning_func=kappa_class.binning.bin_1d\n",
    "        binning_utils=kappa_class.cl_bin_utils\n",
    "        \n",
    "        clp_shear_B_b=binning_func(xi=clp_shear_B,bin_utils=binning_utils)\n",
    "        \n",
    "    corr_t=[corr_gg,corr_ll,corr_ggl] #order in which sim corrs are output.\n",
    "    seed=12334\n",
    "    def get_clsim(i):\n",
    "        print('doing map: ',i)\n",
    "        local_state = np.random.RandomState(seed+i)\n",
    "        cl_map=hp.synfast(clg0,nside=nside,RNG=local_state,new=True,pol=True)\n",
    "        N_map=0\n",
    "        if use_shot_noise:\n",
    "            N_map=hp.synfast(clN0,nside=nside,RNG=local_state,new=True,pol=True)\n",
    "        \n",
    "        tracers=['galaxy','shear','shear']\n",
    "        if ndim>1:\n",
    "            for i in np.arange(3):\n",
    "                tracer=tracers[i]\n",
    "                cl_map[i]*=window[tracer]\n",
    "                if use_shot_noise:\n",
    "                    N_map[i]*=np.sqrt(window[tracer])\n",
    "                    cl_map[i]+=N_map[i]\n",
    "                    N_map[i][mask[tracer]]=hp.UNSEEN\n",
    "                cl_map[i][mask[tracer]]=hp.UNSEEN\n",
    "                \n",
    "            \n",
    "            clpi=hp.anafast(cl_map, lmax=max(l),pol=True) #TT, EE, BB, TE, EB, TB for polarized input map\n",
    "            clpi=clpi[:,l]\n",
    "            clpi_B=clpi[[2,4,5],:]\n",
    "            clpi=clpi[[0,1,3],:]\n",
    "            \n",
    "#             for i in np.arange(6):\n",
    "            \n",
    "            \n",
    "        else:\n",
    "            cl_map*=window\n",
    "            cl_map[mask]=hp.UNSEEN\n",
    "            clpi=hp.anafast(cl_map, lmax=max(l),pol=True)[l]\n",
    "\n",
    "        if ndim>1:\n",
    "            if use_shot_noise:\n",
    "                clpi[0]-=(np.ones_like(clpi[0])*SN[corr_gg][:,0,0])@coupling_M_N[corr_gg]*use_shot_noise\n",
    "                clpi[1]-=(np.ones_like(clpi[1])*SN[corr_ll][:,0,0])@coupling_M_N[corr_ll]*use_shot_noise\n",
    "                clpi[1]-= (np.ones_like(clpi[1])*SN[corr_ll][:,0,0])@coupling_M_N['shear_B']*use_shot_noise #remove B-mode \n",
    "                clpi_B[0]-=(np.ones_like(clpi[1])*SN[corr_ll][:,0,0])@coupling_M_N['shear_B']*use_shot_noise #remove B-mode \n",
    "                clpi_B[0]-=(np.ones_like(clpi[1])*SN[corr_ll][:,0,0])@coupling_M_N[corr_ll]*use_shot_noise\n",
    "            \n",
    "            clgi=[clpi[0]@coupling_M_inv[corr_gg],\n",
    "                  clpi[1]@coupling_M_inv[corr_ll],\n",
    "                  clpi[2]@coupling_M_inv[corr_ggl]]\n",
    "            clgBi=[clpi_B[0]@coupling_M_inv['shear_B'],\n",
    "                  clpi[1]*0,\n",
    "                  clpi[2]*0]\n",
    "            \n",
    "        else:\n",
    "            clpi-=(np.ones_like(clpi)*shot_noise)@coupling_M\n",
    "            clgi=clpi@coupling_M_inv\n",
    "        \n",
    "        clgi=np.array(clgi)\n",
    "\n",
    "        if l_bins is not None:\n",
    "            corr_t=[corr_gg,corr_ll,corr_ggl]\n",
    "            sim_clb_shape=(len(ll),ndim)\n",
    "            \n",
    "            clg_b=np.zeros(sim_clb_shape,dtype='float32')\n",
    "            \n",
    "            clg_b={'unbinned':np.zeros(sim_clb_shape,dtype='float32'),\n",
    "                    'Master':np.zeros(sim_clb_shape,dtype='float32'),\n",
    "                   'nMaster':np.zeros(sim_clb_shape,dtype='float32'),\n",
    "                   'iMaster':np.zeros(sim_clb_shape,dtype='float32')}    \n",
    "            clgB_b={'iMaster':np.zeros(sim_clb_shape,dtype='float32')}                \n",
    "            \n",
    "            clp_b=np.zeros(sim_clb_shape,dtype='float32')\n",
    "            clpB_b=np.zeros(sim_clb_shape,dtype='float32')\n",
    "            for ii in np.arange(ndim):\n",
    "                clg_b['unbinned'][:,ii]=binning_func(xi=clgi[ii],bin_utils=binning_utils)\n",
    "                clp_b[:,ii]=binning_func(xi=clpi[ii],bin_utils=binning_utils)\n",
    "                clpB_b[:,ii]=binning_func(xi=clpi_B[ii],bin_utils=binning_utils)\n",
    "                for k in coupling_M_binned_inv.keys():\n",
    "                    clg_b[k][:,ii]=clp_b[:,ii]@coupling_M_binned_inv[k][corr_t[ii]] #be careful with ordering as coupling matrix is not symmetric\n",
    "                if corr_t[ii]==corr_ll:\n",
    "                    clgB_b['iMaster'][:,ii]=clpB_b[:,ii]@coupling_M_binned_inv['iMaster']['shear_B']\n",
    "                \n",
    "            return clpi.T,clgi.T,clp_b,clpi_B.T,clg_b,clpB_b,clgB_b\n",
    "        else:\n",
    "            return clpi.T,clgi.T\n",
    "    \n",
    "    def comb_maps(futures):\n",
    "        for i in np.arange(Rsize):\n",
    "            x=futures[i]#.compute()\n",
    "            clp[i,:,:]+=x[0]\n",
    "            clg[i,:,:]+=x[1]\n",
    "        return clp,clg \n",
    "    \n",
    "    print('generating maps')\n",
    "    if convolve_win:\n",
    "        futures={}\n",
    "#         for i in np.arange(Rsize):\n",
    "#             futures[i]=dask.delayed(get_clsim)(i)  \n",
    "#         print(futures)\n",
    "#         clpg=dask.delayed(comb_maps)(futures)\n",
    "#         clpg.compute()\n",
    "        i=0\n",
    "        j=0\n",
    "        step=min(5,Rsize)\n",
    "        funct=partial(get_clsim2,clg0,window,mask,SN,coupling_M,coupling_M_inv,ndim)\n",
    "        while j<Rsize:\n",
    "            futures={}\n",
    "            for ii in np.arange(step):\n",
    "                futures[ii]=delayed(get_clsim)(i+ii)  \n",
    "            futures=client.compute(futures)\n",
    "            for ii in np.arange(step):\n",
    "                if l_bins is None:\n",
    "                    clp[i,:],clg[i,:]=futures.result()[ii]\n",
    "                else:\n",
    "                    clp[i,:],clg[i,:],clp_b[i,:],clpB[i,:],clg_b_i,clpB_b[i,:],clgB_b_i=futures.result()[ii]\n",
    "                    for k in clg_b_i.keys():\n",
    "                        clg_b[k][i,:]=clg_b_i[k]\n",
    "                    clgB_b['iMaster'][i,:]=clgB_b_i['iMaster']\n",
    "                        \n",
    "                i+=1\n",
    "            print('done map ',i)\n",
    "            del futures\n",
    "            client.restart()\n",
    "            j+=step\n",
    "        \n",
    "    print('done generating maps')\n",
    "    \n",
    "    outp['clg_b_stats']={}\n",
    "    outp['clgB_b_stats']={}\n",
    "    for k in clg_b.keys():\n",
    "        outp['clg_b_stats'][k]=client.compute({corr_t[ii]: delayed(calc_sim_stats)(sim=clg_b[k][:,:,ii],sim_truth=clg0_b[corr_t[ii]]) for ii in np.arange(ndim)})\n",
    "    k='iMaster'\n",
    "    outp['clgB_b_stats'][k]=client.compute({corr_t[ii]: delayed(calc_sim_stats)(sim=clgB_b[k][:,:,ii],sim_truth=clg0_b[corr_t[ii]]) for ii in np.arange(ndim)})\n",
    "    outp['clp_b_stats']=client.compute({corr_t[ii]: delayed(calc_sim_stats)(sim=clp_b[:,:,ii],sim_truth=clp_b[:,:,ii].mean(axis=0)) for ii in np.arange(ndim)})\n",
    "    outp['clpB_b_stats']=client.compute({corr_t[ii]: delayed(calc_sim_stats)(sim=clpB_b[:,:,ii],sim_truth=clpB_b[:,:,ii].mean(axis=0)) for ii in np.arange(ndim)})\n",
    "    \n",
    "    for k in clg_b.keys():\n",
    "        outp['clg_b_stats'][k]=outp['clg_b_stats'][k].result()\n",
    "    k='iMaster'\n",
    "    outp['clgB_b_stats'][k]=outp['clgB_b_stats'][k].result()\n",
    "    outp['clp_b_stats']=outp['clp_b_stats'].result()\n",
    "    outp['clpB_b_stats']=outp['clpB_b_stats'].result()\n",
    "        \n",
    "#         outp['clp_b_stats']=calc_sim_stats(sim=clp_b,sim_truth=clp_b.mean(axis=0))\n",
    "#     xiN=np.zeros((Rsize,len(xi)))\n",
    "#     xig=np.zeros((Rsize,len(xi)))\n",
    "#     xigB=np.zeros((Rsize,len(r_bins)-1))\n",
    "#     xiNB=np.zeros((Rsize,len(r_bins)-1))\n",
    "#     for i in np.arange(Rsize):\n",
    "#         r,xig[i,:]=HT.projected_correlation(k_pk=l,pk=clg[i,:],j_nu=0,taper=True,**taper_kw)\n",
    "#         rb,xigB[i,:]=HT.bin_mat(r=r,mat=xig[i,:],r_bins=r_bins)\n",
    "#         if do_clN:\n",
    "#             r,xiN[i,:]=HT.projected_correlation(k_pk=l,pk=clN[i,:],j_nu=0,taper=True,**taper_kw)\n",
    "#             rb,xiNB[i,:]=HT.bin_mat(r=r,mat=xiN[i,:],r_bins=r_bins)\n",
    "#     outp['xi_truth']=xi_truth\n",
    "#    outp['rb']=rb\n",
    "\n",
    "    outp['clpB']=clpB\n",
    "    outp['clg_b']=clg_b\n",
    "    outp['clgB_b']=clg_b\n",
    "    outp['clp_b']=clp_b\n",
    "    outp['clpB_b']=clpB_b\n",
    "    outp['clg0']=clg0\n",
    "    outp['clN0']=clN0\n",
    "    outp['cl0']=cl0\n",
    "    outp['clp0']=clp0\n",
    "    outp['clp_shear_B_b']=clp_shear_B_b\n",
    "    outp['clp_shear_B']=clp_shear_B\n",
    "#     outp['clN']=clN\n",
    "#     outp['xig']=xig\n",
    "#     outp['xigB']=xigB\n",
    "#     outp['xiNB']=xiNB\n",
    "#     outp['xiN']=xiN\n",
    "\n",
    "#     outp['clg']=clg\n",
    "    outp['clp']=clp\n",
    "#     clg0_2=np.array(clg0)[[0,1,3],:]\n",
    "#     outp['clg_stats']={corr_t[ii]: calc_sim_stats(sim=clg[:,:,ii],sim_truth=clg0_2[ii]) for ii in np.arange(ndim)}#calc_sim_stats(sim=clg,sim_truth=clg0)\n",
    "#     outp['clp_stats']={corr_t[ii]: calc_sim_stats(sim=clp[:,:,ii],sim_truth=clp[:,:,ii].mean(axis=0)) for ii in np.arange(ndim)}#     calc_sim_stats(sim=clp,sim_truth=clp.mean(axis=0))\n",
    "\n",
    "#     outp['xig_stats']=calc_sim_stats(sim=xig,sim_truth=xi)\n",
    "#     if convolve_win:\n",
    "#         outp['xig_stats0']=calc_sim_stats(sim=xig,sim_truth=xi0)\n",
    "#     rb,xiB=HT.bin_mat(r=r,mat=xi_truth,r_bins=r_bins)\n",
    "#     outp['xigB_stats']=calc_sim_stats(sim=xigB,sim_truth=xiB)\n",
    "#     if do_clN:\n",
    "#         outp['xiN_stats']=calc_sim_stats(sim=xiN,sim_truth=xi_truth)\n",
    "#         outp['xiNB_stats']=calc_sim_stats(sim=xiNB,sim_truth=xiB)\n",
    "\n",
    "    outp['size']=Rsize\n",
    "    outp['fsky']=fsky\n",
    "    outp['nu']=nu\n",
    "    outp['nu_b']=nu_b\n",
    "    outp['l_bins']=l_bins\n",
    "    \n",
    "    outp['coupling_M']=coupling_M\n",
    "    outp['coupling_M_binned']=coupling_M_binned\n",
    "#     outp['coupling_M_binned2']=coupling_M_binned2\n",
    "#     outp['coupling_M_binned2wt']=coupling_M_binned2wt\n",
    "    \n",
    "    outp['coupling_M_inv']=coupling_M_inv\n",
    "    outp['coupling_M_binned_inv']=coupling_M_binned_inv\n",
    "#     outp['coupling_M_binned2_inv']=coupling_M_binned2_inv\n",
    "#     outp['coupling_M_binned2wt_inv']=coupling_M_binned2wt_inv\n",
    "    outp['use_shot_noise']=use_shot_noise\n",
    "    \n",
    "    \n",
    "    return outp\n",
    "\n",
    "#cov=np.diag(cl**2/nu)"
   ]
  },
  {
   "cell_type": "code",
   "execution_count": null,
   "metadata": {},
   "outputs": [],
   "source": [
    "clg0=clG0['cl'][corrs[0]][(0,0)].compute()"
   ]
  },
  {
   "cell_type": "code",
   "execution_count": null,
   "metadata": {},
   "outputs": [],
   "source": [
    "labels={}\n",
    "labels[corr_gg]=r'$gg$'\n",
    "labels[corr_ll]=r'$\\gamma\\gamma$'\n",
    "labels[corr_ggl]=r'$g \\gamma$'"
   ]
  },
  {
   "cell_type": "code",
   "execution_count": null,
   "metadata": {},
   "outputs": [],
   "source": [
    "xi_sim={}\n",
    "xi_sim['m']=dict_load['data_vectors'].mean(axis=0)\n",
    "xi_sim['std']=dict_load['data_vectors'].std(axis=0)\n",
    "xi_sim['th']=dict_load['theta_bin_centers']"
   ]
  },
  {
   "cell_type": "code",
   "execution_count": null,
   "metadata": {},
   "outputs": [],
   "source": [
    "corr=corr_ll\n",
    "plot(thb/d2r,xi0p_win['xi'][corr],'b')\n",
    "plot(thb/d2r,xi0p_win_approx['xi'][corr],'r')\n",
    "plot(thb/d2r,xi0p['xi'][corr],'c')\n",
    "loglog()\n",
    "show()\n",
    "plot(thb/d2r,xi0p_win['xi'][corr]/xi0p_win_approx['xi'][corr],'b')\n",
    "plot(thb/d2r,xi0p['xi'][corr]/xi0p_win_approx['xi'][corr],'c')\n",
    "xscale('log')"
   ]
  },
  {
   "cell_type": "code",
   "execution_count": null,
   "metadata": {},
   "outputs": [],
   "source": [
    "errorbar(xi_sim['th'],xi_sim['m'][:20],xi_sim['std'][:20],fmt='bo')\n",
    "plot(thb/d2r,xi0p_win['xi'][corr_ll],'b')\n",
    "errorbar(xi_sim['th'],xi_sim['m'][20:40],xi_sim['std'][20:40],fmt='yo')\n",
    "plot(thb/d2r,xi0m_win['xi'][corr_ll],'y')\n",
    "errorbar(xi_sim['th'],xi_sim['m'][40:60],xi_sim['std'][40:60],fmt='ro')\n",
    "plot(thb/d2r,xi0p_win['xi'][corr_ggl],'r')\n",
    "errorbar(xi_sim['th'],xi_sim['m'][60:80],xi_sim['std'][60:80],fmt='co')\n",
    "plot(thb/d2r,xi0p_win['xi'][corr_gg],c='c')\n",
    "loglog()\n",
    "xlim(10,400)"
   ]
  },
  {
   "cell_type": "code",
   "execution_count": null,
   "metadata": {},
   "outputs": [],
   "source": [
    "errorbar(xi_sim['th'],xi_sim['m'][:20]/xi0p['xi'][corr_ll],xi_sim['std'][:20]/xi0p['xi'][corr_ll],fmt='bo')\n",
    "errorbar(xi_sim['th']*1.03,xi_sim['m'][20:40]/xi0m['xi'][corr_ll],xi_sim['std'][20:40]/xi0m['xi'][corr_ll],fmt='yo')\n",
    "errorbar(xi_sim['th']*1.05,xi_sim['m'][40:60]/xi0p['xi'][corr_ggl],xi_sim['std'][40:60]/xi0p['xi'][corr_ggl],fmt='ro')\n",
    "\n",
    "errorbar(xi_sim['th']*1.08,xi_sim['m'][60:80]/xi0p['xi'][corr_gg],xi_sim['std'][60:80]/xi0p['xi'][corr_gg],fmt='co')\n",
    "\n",
    "xscale('log')\n",
    "xlim(10,400)\n",
    "ylim(0.5,1.5)\n",
    "hlines(1,10,400)"
   ]
  },
  {
   "cell_type": "code",
   "execution_count": null,
   "metadata": {},
   "outputs": [],
   "source": [
    "errorbar(xi_sim['th'],xi_sim['m'][:20]/xi0p_win['xi'][corr_ll],xi_sim['std'][:20]/xi0p_win['xi'][corr_ll]/10,fmt='bo')\n",
    "errorbar(xi_sim['th']*1.03,xi_sim['m'][20:40]/xi0m_win['xi'][corr_ll],xi_sim['std'][20:40]/xi0m_win['xi'][corr_ll]/10,fmt='yo')\n",
    "errorbar(xi_sim['th']*1.05,xi_sim['m'][40:60]/xi0p_win['xi'][corr_ggl],xi_sim['std'][40:60]/xi0p_win['xi'][corr_ggl]/10,fmt='ro')\n",
    "\n",
    "errorbar(xi_sim['th']*1.08,xi_sim['m'][60:80]/xi0p_win['xi'][corr_gg],xi_sim['std'][60:80]/xi0p_win['xi'][corr_gg]/10,fmt='co')\n",
    "\n",
    "xscale('log')\n",
    "xlim(10,400)\n",
    "ylim(0.8,1.2)\n",
    "hlines(1,10,400)"
   ]
  },
  {
   "cell_type": "code",
   "execution_count": null,
   "metadata": {},
   "outputs": [],
   "source": [
    "errorbar(xi_sim['th'],xi_sim['m'][:20]/xi0p_win_approx['xi'][corr_ll],xi_sim['std'][:20]/xi0p_win_approx['xi'][corr_ll],fmt='bo')\n",
    "errorbar(xi_sim['th']*1.03,xi_sim['m'][20:40]/xi0m_win_approx['xi'][corr_ll],xi_sim['std'][20:40]/xi0m_win_approx['xi'][corr_ll],fmt='yo')\n",
    "errorbar(xi_sim['th']*1.05,xi_sim['m'][40:60]/xi0p_win_approx['xi'][corr_ggl],xi_sim['std'][40:60]/xi0p_win_approx['xi'][corr_ggl],fmt='ro')\n",
    "\n",
    "errorbar(xi_sim['th']*1.08,xi_sim['m'][60:80]/xi0p_win_approx['xi'][corr_gg],xi_sim['std'][60:80]/xi0p_win_approx['xi'][corr_gg],fmt='co')\n",
    "\n",
    "xscale('log')\n",
    "xlim(10,400)\n",
    "ylim(0.5,1.5)\n",
    "hlines(1,10,400)"
   ]
  },
  {
   "cell_type": "code",
   "execution_count": null,
   "metadata": {},
   "outputs": [],
   "source": [
    "kappa_win.Win.Win['cov'][corr_gg+corr_gg][bi+bi]['M'][1324].keys()"
   ]
  },
  {
   "cell_type": "code",
   "execution_count": null,
   "metadata": {},
   "outputs": [],
   "source": [
    "dict_load['data_vectors'].shape"
   ]
  },
  {
   "cell_type": "code",
   "execution_count": null,
   "metadata": {},
   "outputs": [],
   "source": [
    "errorbar(xi_sim['th'],np.mean(dict_load['data_vectors'][:,0:20],axis=0)/xi0p['xi'][corr_ll],xi_sim['std'][:20]/xi0p['xi'][corr_ll],fmt='bo')\n"
   ]
  },
  {
   "cell_type": "code",
   "execution_count": null,
   "metadata": {
    "scrolled": false
   },
   "outputs": [],
   "source": [
    "cov_sim=np.cov(dict_load['data_vectors'][:,0:20],rowvar=0)\n",
    "cov_th=xi0p_win_approx['cov'][corr_ll]#['final']\n",
    "corr_sim=corr_matrix(cov_sim)\n",
    "corr_th=corr_matrix(cov_th)\n",
    "err_sim=xi_sim['std'][:20]**2 #np.diag(cov_sim)\n",
    "err_th=np.diag(cov_th)\n",
    "\n",
    "plot(thb/d2r,err_sim)\n",
    "plot(thb/d2r,err_th,'--')\n",
    "loglog()\n",
    "show()\n",
    "\n",
    "pcolor(thb/d2r,thb/d2r,corr_sim,vmin=-1,vmax=1,cmap='seismic')\n",
    "loglog()\n",
    "show()\n",
    "pcolor(thb/d2r,thb/d2r,corr_th,vmin=-1,vmax=1,cmap='seismic')\n",
    "loglog()\n",
    "show()\n",
    "pcolor(thb/d2r,thb/d2r,corr_th-corr_sim,vmin=-1,vmax=1,cmap='seismic')\n",
    "loglog()\n",
    "show()"
   ]
  },
  {
   "cell_type": "code",
   "execution_count": null,
   "metadata": {
    "scrolled": false
   },
   "outputs": [],
   "source": [
    "cov_sim=np.cov(dict_load['data_vectors'][:,20:40],rowvar=0)\n",
    "cov_th=xi0m_win_approx['cov'][corr_ll]\n",
    "corr_sim=corr_matrix(cov_sim)\n",
    "corr_th=corr_matrix(cov_th)\n",
    "err_sim=np.diag(cov_sim)\n",
    "err_th=np.diag(cov_th)\n",
    "\n",
    "plot(thb/d2r,err_sim)\n",
    "plot(thb/d2r,err_th/1.4,'--')\n",
    "loglog()\n",
    "show()\n",
    "\n",
    "pcolor(thb/d2r,thb/d2r,corr_sim,vmin=-1,vmax=1,cmap='seismic')\n",
    "loglog()\n",
    "show()\n",
    "pcolor(thb/d2r,thb/d2r,corr_th,vmin=-1,vmax=1,cmap='seismic')\n",
    "loglog()\n",
    "show()\n",
    "pcolor(thb/d2r,thb/d2r,corr_th-corr_sim,vmin=-1,vmax=1,cmap='seismic')\n",
    "loglog()\n",
    "show()"
   ]
  },
  {
   "cell_type": "code",
   "execution_count": null,
   "metadata": {
    "scrolled": false
   },
   "outputs": [],
   "source": [
    "cov_sim=np.cov(dict_load['data_vectors'][:,40:60],rowvar=0)\n",
    "cov_th=xi0p_win_approx['cov'][corr_ggl]#['final']\n",
    "corr_sim=corr_matrix(cov_sim)\n",
    "corr_th=corr_matrix(cov_th)\n",
    "err_sim=np.diag(cov_sim)\n",
    "err_th=np.diag(cov_th)\n",
    "\n",
    "plot(thb/d2r,err_sim)\n",
    "plot(thb/d2r,err_th/1.4,'--')\n",
    "loglog()\n",
    "show()\n",
    "\n",
    "pcolor(thb/d2r,thb/d2r,corr_sim,vmin=-1,vmax=1,cmap='seismic')\n",
    "loglog()\n",
    "show()\n",
    "pcolor(thb/d2r,thb/d2r,corr_th,vmin=-1,vmax=1,cmap='seismic')\n",
    "loglog()\n",
    "show()\n",
    "pcolor(thb/d2r,thb/d2r,corr_th-corr_sim,vmin=-1,vmax=1,cmap='seismic')\n",
    "loglog()\n",
    "show()"
   ]
  },
  {
   "cell_type": "code",
   "execution_count": null,
   "metadata": {
    "scrolled": false
   },
   "outputs": [],
   "source": [
    "cov_sim=np.cov(dict_load['data_vectors'][:,60:80],rowvar=0)\n",
    "cov_th=xi0p_win_approx['cov'][corr_gg]#['final']\n",
    "corr_sim=corr_matrix(cov_sim)\n",
    "corr_th=corr_matrix(cov_th)\n",
    "err_sim=np.diag(cov_sim)\n",
    "err_th=np.diag(cov_th)\n",
    "\n",
    "plot(thb/d2r,err_sim)\n",
    "plot(thb/d2r,err_th/1.4,'--')\n",
    "loglog()\n",
    "show()\n",
    "\n",
    "pcolor(thb/d2r,thb/d2r,corr_sim,vmin=-1,vmax=1,cmap='seismic')\n",
    "loglog()\n",
    "show()\n",
    "pcolor(thb/d2r,thb/d2r,corr_th,vmin=-1,vmax=1,cmap='seismic')\n",
    "loglog()\n",
    "show()\n",
    "pcolor(thb/d2r,thb/d2r,corr_th-corr_sim,vmin=-1,vmax=1,cmap='seismic')\n",
    "loglog()\n",
    "show()"
   ]
  },
  {
   "cell_type": "code",
   "execution_count": null,
   "metadata": {},
   "outputs": [],
   "source": [
    "def wigner_d(m1,m2,theta,l,l_use_bessel=1.e4):\n",
    "    l0=np.copy(l)\n",
    "    if l_use_bessel is not None:\n",
    "    #FIXME: This is not great. Due to a issues with the scipy hypergeometric function,\n",
    "    #jacobi can output nan for large ell, l>1.e4\n",
    "    # As a temporary fix, for ell>1.e4, we are replacing the wigner function with the\n",
    "    # bessel function. Fingers and toes crossed!!!\n",
    "    # mpmath is slower and also has convergence issues at large ell.\n",
    "    #https://github.com/scipy/scipy/issues/4446\n",
    "    \n",
    "    #FIX: Can use recursion reltion from Kilbinger+ 2017\n",
    "        l=np.atleast_1d(l)\n",
    "        x=l<l_use_bessel\n",
    "        l=np.atleast_1d(l[x])\n",
    "    k=np.amin([l-m1,l-m2,l+m1,l+m2],axis=0)\n",
    "    a=np.absolute(m1-m2)\n",
    "    lamb=0 #lambda\n",
    "    if m2>m1:\n",
    "        lamb=m2-m1\n",
    "    b=2*l-2*k-a\n",
    "    d_mat=(-1)**lamb\n",
    "    d_mat*=np.sqrt(binom(2*l-k,k+a)) #this gives array of shape l with elements choose(2l[i]-k[i], k[i]+a)\n",
    "    d_mat/=np.sqrt(binom(k+b,b))\n",
    "    d_mat=np.atleast_1d(d_mat)\n",
    "    x=k<0\n",
    "    d_mat[x]=0\n",
    "\n",
    "    d_mat=d_mat.reshape(1,len(d_mat))\n",
    "    theta=theta.reshape(len(theta),1)\n",
    "    d_mat=d_mat*((np.sin(theta/2.0)**a)*(np.cos(theta/2.0)**b))\n",
    "    d_mat*=jacobi(l,a,b,np.cos(theta))\n",
    "\n",
    "    if l_use_bessel is not None:\n",
    "        l=np.atleast_1d(l0)\n",
    "        x=l>=l_use_bessel\n",
    "        l=np.atleast_1d(l[x])\n",
    "#         d_mat[:,x]=jn(m1-m2,l[x]*theta)\n",
    "        d_mat=np.append(d_mat,jn(m1-m2,l*theta),axis=1)\n",
    "    return d_mat"
   ]
  },
  {
   "cell_type": "code",
   "execution_count": null,
   "metadata": {},
   "outputs": [],
   "source": [
    "def wigner_d_recur(m1,m2,theta,l,l_use_bessel=1.e4):\n",
    "    dmat=np.zeros((len(theta),len(l)))\n",
    "    theta=theta.reshape(len(theta),1)\n",
    "    l=l.reshape(1,len(l))\n",
    "    d100=np.cos(theta)\n",
    "    \n",
    "    A0=l*(2.*l-1.)\n",
    "    A0/=np.sqrt((l**2-m1**2)*(l**2-m2**2))\n",
    "    \n",
    "    A1=d100-m1*m2*1.0/l/(l-1.)\n",
    "    \n",
    "    A2=np.sqrt(((l-1)**2-m1**2)*((l-1)**2-m2**2))\n",
    "    A2/=(l-1)*(2*l-1)\n",
    "    il=0\n",
    "    for i in np.arange(len(l[0,:])):\n",
    "        if l[0,i]<np.absolute(m1) or l[0,i]<np.absolute(m2):\n",
    "            continue\n",
    "        if il<=2:\n",
    "            dmat[:,i]=wigner_d(m1,m2,theta,np.atleast_1d(l[0,i]),l_use_bessel=l_use_bessel)[:,0]\n",
    "            il+=1\n",
    "        else:\n",
    "            dmat[:,i]=A1[:,i]*dmat[:,i-1]-A2[0,i]*dmat[:,i-2]\n",
    "            dmat[:,i]*=A0[0,i]\n",
    "    return dmat"
   ]
  },
  {
   "cell_type": "code",
   "execution_count": null,
   "metadata": {},
   "outputs": [],
   "source": [
    "from scipy.special import lpmv\n",
    "def wigner_d_recur_legendre(m1,m2,theta,l,l_use_bessel=1.e4):\n",
    "    if m1!=0 and m2!=0:\n",
    "        return 0\n",
    "    dmat=np.zeros((len(theta),len(l)))\n",
    "    theta=theta.reshape(len(theta),1)\n",
    "    \n",
    "\n",
    "    m=max(np.absolute(m1),np.absolute(m2))\n",
    "    logA=log_factorial(l-m)-log_factorial(l+m)\n",
    "    A=np.exp(.5*logA)\n",
    "    print(l,m,A)\n",
    "    x=l<m\n",
    "    A[x]=0\n",
    "    \n",
    "    l=l.reshape(1,len(l))\n",
    "    \n",
    "    A0=l-m*1.0\n",
    "    A1=(2.*l-1.)*np.cos(theta)\n",
    "    A2=l-1.+m\n",
    "    il=0\n",
    "    for i in np.arange(len(l[0,:])):\n",
    "        if l[0,i]<m:\n",
    "            continue\n",
    "        if il<=200:\n",
    "            dmat[:,i]=lpmv(m,l[0,i],np.cos(theta[:,0]))\n",
    "            print(m,l[0,i],dmat[:,i])\n",
    "#             dmat[:,i]=lpmv(l[0,i],m,np.cos(theta[:,0]))\n",
    "            il+=1\n",
    "\n",
    "        else:\n",
    "            dmat[:,i]=A1[:,i]*dmat[:,i-1]-A2[0,i]*dmat[:,i-2]\n",
    "            dmat[:,i]/=A0[0,i]\n",
    "    dmat*=A\n",
    "    return dmat"
   ]
  },
  {
   "cell_type": "code",
   "execution_count": null,
   "metadata": {},
   "outputs": [],
   "source": [
    "m1m2=(2,0)\n",
    "%time wigd=wigner_d_parallel(m1m2[0],m1m2[1],WT_L.theta[m1m2][:20],l0)"
   ]
  },
  {
   "cell_type": "code",
   "execution_count": null,
   "metadata": {},
   "outputs": [],
   "source": [
    "%time wigdr=wigner_d_recur_legendre(m1m2[0],m1m2[1],WT_L.theta[m1m2][:20],l0)"
   ]
  },
  {
   "cell_type": "code",
   "execution_count": null,
   "metadata": {},
   "outputs": [],
   "source": [
    "wigner_d_recur_legendre(m1m2[0],m1m2[1],np.atleast_1d(WT_L.theta[m1m2][0]),l0[2:3])"
   ]
  },
  {
   "cell_type": "code",
   "execution_count": null,
   "metadata": {},
   "outputs": [],
   "source": [
    "wigner_d_parallel(m1m2[0],m1m2[1],np.atleast_1d(WT_L.theta[m1m2][0]),l0[2:3])"
   ]
  },
  {
   "cell_type": "code",
   "execution_count": null,
   "metadata": {},
   "outputs": [],
   "source": [
    "lpmv(2,3,np.cos(WT_L.theta[m1m2][:20]))"
   ]
  },
  {
   "cell_type": "code",
   "execution_count": null,
   "metadata": {},
   "outputs": [],
   "source": [
    "np.all(np.isclose(wigdr,wigd,rtol=1.e-4,atol=0))"
   ]
  },
  {
   "cell_type": "code",
   "execution_count": null,
   "metadata": {},
   "outputs": [],
   "source": [
    "thi=0"
   ]
  },
  {
   "cell_type": "code",
   "execution_count": null,
   "metadata": {},
   "outputs": [],
   "source": [
    "wigd[thi,:],wigdr[thi,:]"
   ]
  },
  {
   "cell_type": "code",
   "execution_count": null,
   "metadata": {},
   "outputs": [],
   "source": [
    "lpmv(2,3,.1)"
   ]
  },
  {
   "cell_type": "code",
   "execution_count": null,
   "metadata": {},
   "outputs": [],
   "source": [
    "wigdr[thi,:][:10]"
   ]
  },
  {
   "cell_type": "code",
   "execution_count": null,
   "metadata": {},
   "outputs": [],
   "source": [
    "plot(l0,wigd[thi,:])\n",
    "plot(l0,wigdr[thi,:],'--')\n",
    "xscale('log')\n",
    "loglog()"
   ]
  },
  {
   "cell_type": "code",
   "execution_count": null,
   "metadata": {},
   "outputs": [],
   "source": [
    "thi=11\n",
    "plot(l0,wigd[thi,:]/wigdr[thi,:])\n",
    "# plot(l0,)\n",
    "xscale('log')"
   ]
  },
  {
   "cell_type": "code",
   "execution_count": null,
   "metadata": {},
   "outputs": [],
   "source": [
    "thi=11\n",
    "plot(l0,wigd[thi,:]-wigdr[thi,:])\n",
    "# plot(l0,wigdr[thi,:],'--')\n",
    "# loglog()\n",
    "xscale('log')"
   ]
  },
  {
   "cell_type": "code",
   "execution_count": null,
   "metadata": {},
   "outputs": [],
   "source": []
  },
  {
   "cell_type": "code",
   "execution_count": null,
   "metadata": {},
   "outputs": [],
   "source": []
  }
 ],
 "metadata": {
  "kernelspec": {
   "display_name": "Python 3",
   "language": "python",
   "name": "python3"
  },
  "language_info": {
   "codemirror_mode": {
    "name": "ipython",
    "version": 3
   },
   "file_extension": ".py",
   "mimetype": "text/x-python",
   "name": "python",
   "nbconvert_exporter": "python",
   "pygments_lexer": "ipython3",
   "version": "3.8.2"
  }
 },
 "nbformat": 4,
 "nbformat_minor": 2
}
