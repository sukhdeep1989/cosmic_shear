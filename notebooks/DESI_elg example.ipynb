{
 "cells": [
  {
   "cell_type": "code",
   "execution_count": 1,
   "metadata": {},
   "outputs": [],
   "source": [
    "import sys\n",
    "# import pyccl as ccl#\n",
    "import pickle\n",
    "import camb\n",
    "# from importlib import reload\n",
    "\n",
    "sys.path.insert(0,'/home/tkarim/SkyLens/') #path to skylens\n",
    "sys.path.insert(0,'/home/tkarim/SkyLens/skylens/') #path to skylens\n",
    "from skylens import *\n",
    "from survey_utils import *"
   ]
  },
  {
   "cell_type": "code",
   "execution_count": 2,
   "metadata": {},
   "outputs": [
    {
     "name": "stdout",
     "output_type": "stream",
     "text": [
      "Start_client: No scheduler file, will start local cluster at  ./temp_skylens/pid54787/\n"
     ]
    }
   ],
   "source": [
    "ncpu=4\n",
    "LC,scheduler_info=start_client(Scheduler_file=None,local_directory=None,ncpu=None,n_workers=ncpu,threads_per_worker=1,\n",
    "                              memory_limit='120gb',dashboard_address=8811,processes=True)\n",
    "client=client_get(scheduler_info=scheduler_info)"
   ]
  },
  {
   "cell_type": "code",
   "execution_count": 3,
   "metadata": {},
   "outputs": [],
   "source": [
    "wigner_files={} #FIXME: run Gen_wig_m0.py to generate these files and then pass their path here. These are large files, make sure they are not included in git.\n",
    "# In file names l3500 refers to ell_max for which wigner function was calculated. It should be same or larger than ell_max in your measurements. \n",
    "# |w2100 is the max ell for window. This should be atleast 2 X ell_max in the measurements.\n",
    "wigner_files[0]= '../temp/dask_wig3j_l2048_w4096_0_reorder.zarr/'\n",
    "# wigner_files[2]= '/Users/Deep/dask_temp/dask_wig3j_l3500_w2100_2_reorder.zarr' #everything is spin 0, should not require this. if needed, compute using Gen_wig_m2.py\n",
    "\n"
   ]
  },
  {
   "cell_type": "markdown",
   "metadata": {},
   "source": [
    "# Power Spectrum covariance"
   ]
  },
  {
   "cell_type": "code",
   "execution_count": 4,
   "metadata": {},
   "outputs": [],
   "source": [
    "#setup parameters\n",
    "#FIXME: Check all the values below.\n",
    "lmax_cl=1024 #min and max for ell\n",
    "lmin_cl=100\n",
    "l0=np.arange(lmin_cl,lmax_cl)\n",
    "\n",
    "#following defines the ell bins. Using log bins in example, feel free to change.\n",
    "lmin_cl_Bins=lmin_cl+10\n",
    "lmax_cl_Bins=lmax_cl-10\n",
    "Nl_bins=20\n",
    "l_bins=np.int64(np.logspace(np.log10(lmin_cl_Bins),np.log10(lmax_cl_Bins),Nl_bins))\n",
    "lb=np.sqrt(l_bins[1:]*l_bins[:-1])\n",
    "\n",
    "l=l0\n",
    "# l=np.unique(np.int64(np.logspace(np.log10(lmin_cl),np.log10(lmax_cl),Nl_bins*20))) #if computation is too heavy and we want to use fewer ell\n",
    "\n",
    "do_cov=True # if you want to get covariance. Covariance is slow and this should be false if you are calling skylens inside mcmc.\n",
    "bin_cl=True #bin the theory and covaraince. \n",
    "\n",
    "use_window=True #if you want to include the window effect. Code will return pseudo-cl and pseudo-cl covariance\n",
    "store_win=True # to store window, for some internal reasons. leave it to true.\n",
    "window_lmax=200 #smaller value for testing. This should be 2X ell_max in the measurements.\n",
    "\n",
    "use_binned_l=False  #FIXME: to speed up computation if using pseudo-cl inside mcmc. Needs to be tested. Leave it false for now.\n",
    "\n",
    "SSV_cov=False # we donot have good model for super sample and tri-spectrum. We can chat about implementing some approximate analytical forms.\n",
    "tidal_SSV_cov=False\n",
    "Tri_cov=False \n",
    "\n",
    "bin_xi=True\n",
    "theta_bins=np.logspace(np.log10(1./60),1,20)"
   ]
  },
  {
   "cell_type": "code",
   "execution_count": 19,
   "metadata": {},
   "outputs": [],
   "source": [
    "def cmb_bins_here(zs=1090,l=None,use_window=use_window,unit_win=False,nside=1024,zmax=2.4):\n",
    "    \"\"\"\n",
    "    This function prepares the cmb lensing data into format required for input into skylens for theory predictions.\n",
    "    \"\"\"\n",
    "    zs_bins={}\n",
    "    zs_bins[0]={}\n",
    "\n",
    "    zs_bins=zbin_pz_norm(zs_bins=zs_bins,bin_indx=0,zs=np.atleast_1d(zs),p_zs=np.atleast_1d(1),\n",
    "                         ns=0,bg1=1)\n",
    "    zs_bins['n_bins']=1 #easy to remember the counts\n",
    "    zs_bins['zmax']=np.atleast_1d([zmax])\n",
    "    zs_bins['zp_sigma']=0\n",
    "    zs_bins['zp_bias']=0\n",
    "    zs_bins['nz']=0\n",
    "\n",
    "    SN_read=np.genfromtxt('/mnt/store1/tkarim/cmb_lensing/data/MV/nlkk.dat',names=('l','nl','nl2')) \n",
    "#     SN_intp=interp1d(SN_read['l'],SN_read['nl'],bounds_error=False, fill_value=0)      #FIXME: make sure using the correct noise power spectra.\n",
    "#     SN=SN_intp(l)\n",
    "    SN=np.ones_like(l) #change... this is for testing. use above lines to read in actual noise\n",
    "    zs_bins['SN']={}\n",
    "    zs_bins['SN']['kappa']=SN.reshape(len(SN),1,1)\n",
    "    if use_window:\n",
    "        zs_bins=set_window(zs_bins=zs_bins,nside=nside, unit_win=unit_win,cmb=True)\n",
    "    return zs_bins"
   ]
  },
  {
   "cell_type": "code",
   "execution_count": 6,
   "metadata": {},
   "outputs": [],
   "source": [
    "def set_window(zs_bins={},nside=1024,mask=None,window_cl_fact=None,unit_win=False,cmb=False):\n",
    "    \"\"\"\n",
    "        This function sets the window functions for the datasets. These windows are necessary for converting cl to pseudo-cl.\n",
    "    \"\"\"\n",
    "    #FIXME: make sure nside, etc. are properly matched. if possible, use same nside for cmb and galaxy maps. Use ud_grade where necessary.\n",
    "    for i in np.arange(zs_bins['n_bins']):\n",
    "        if unit_win:\n",
    "            cl_map=hp.ma(np.ones(12*nside*nside))\n",
    "            cl_i=1\n",
    "            mask=np.ones_like(cl_map,dtype='bool')\n",
    "            mask[nside*nside:]=0\n",
    "        elif cmb:\n",
    "            #cl_map=np.load('../desi-lensing-cc/data/elg_ran1024.npy') #FIXME: add the CMB lensing window here.\n",
    "            cl_map=np.load('/mnt/store1/boryanah/AbacusSummit_base_c000_ph006/light_cones/mask_ring_2048.npy')\n",
    "        else:\n",
    "            #cl_map=np.load('../desi-lensing-cc/data/elg_ran1024.npy') #randoms are the window function.\n",
    "            cl_map=np.load('/mnt/store1/boryanah/AbacusSummit_base_c000_ph006/light_cones/mask_ring_2048.npy')\n",
    "        cl_map=hp.ma(cl_map)\n",
    "#             cl_map=hp.alm2map(alms_i,nside=nside)\n",
    "        if mask is None:\n",
    "            mask=cl_map>0 #FIXME: input proper mask if possible\n",
    "        cl_map.mask=~mask\n",
    "        cl_map[cl_map<0]=0\n",
    "        cl_map/=cl_map[mask].mean()\n",
    "        cl_map_noise=np.sqrt(cl_map)\n",
    "        cl_map[~mask]=hp.UNSEEN\n",
    "        cl_map_noise[~mask]=hp.UNSEEN\n",
    "        # cl_map.mask=mask\n",
    "        zs_bins[i]['window']=cl_map\n",
    "        zs_bins[i]['window_alm']=hp.map2alm(cl_map)\n",
    "        zs_bins[i]['window_alm_noise']=hp.map2alm(cl_map_noise)\n",
    "#         zs_bins[i]['window_cl']=cl_i\n",
    "\n",
    "    return zs_bins"
   ]
  },
  {
   "cell_type": "code",
   "execution_count": 7,
   "metadata": {},
   "outputs": [],
   "source": [
    "def zbin_pz_norm(zs_bins={},bin_indx=None,zs=None,p_zs=None,ns=0,bg1=1,AI=0,\n",
    "                 AI_z=0,mag_fact=0,k_max=0.3):\n",
    "    \"\"\"\n",
    "        This function does few pre-calculations and sets some parameters for datasets that will be input into skylens\n",
    "    \"\"\"\n",
    "\n",
    "\n",
    "    dzs=np.gradient(zs) if len(zs)>1 else 1\n",
    "\n",
    "    if np.sum(p_zs*dzs)!=0:\n",
    "        p_zs=p_zs/np.sum(p_zs*dzs)\n",
    "    else:\n",
    "        p_zs*=0\n",
    "    nz=dzs*p_zs*ns\n",
    "\n",
    "    i=bin_indx\n",
    "    x= p_zs>-1 #1.e-10\n",
    "\n",
    "    zs_bins[i]['z']=zs[x]\n",
    "    zs_bins[i]['dz']=np.gradient(zs_bins[i]['z']) if len(zs_bins[i]['z'])>1 else 1\n",
    "    zs_bins[i]['nz']=nz[x]\n",
    "    zs_bins[i]['ns']=ns\n",
    "    zs_bins[i]['W']=1.\n",
    "    zs_bins[i]['pz']=p_zs[x]*zs_bins[i]['W']\n",
    "    zs_bins[i]['pzdz']=zs_bins[i]['pz']*zs_bins[i]['dz']\n",
    "    zs_bins[i]['Norm']=np.sum(zs_bins[i]['pzdz'])\n",
    "    zs_bins[i]['b1']=bg1 # FIXME: this is the linear galaxy bias. Input proper values. We can also talk about adding other bias models if needed.\n",
    "    zs_bins[i]['AI']=AI # this will be zero\n",
    "    zs_bins[i]['AI_z']=AI_z\n",
    "    zs_bins[i]['mag_fact']=mag_fact  #FIXME: You need to figure out the magnification bias prefactor. For example, see appendix B of https://arxiv.org/pdf/1803.08915.pdf\n",
    "    zm=np.sum(zs_bins[i]['z']*zs_bins[i]['pzdz'])/zs_bins[i]['Norm']\n",
    "    zs_bins[i]['lm']=k_max*cosmo_h.comoving_transverse_distance(zm).value\n",
    "    return zs_bins"
   ]
  },
  {
   "cell_type": "code",
   "execution_count": 8,
   "metadata": {},
   "outputs": [],
   "source": [
    "def source_tomo_bins(zp=None,p_zp=None,nz_bins=None,ns=26,ztrue_func=None,zp_bias=None,\n",
    "                    zp_sigma=None,zs=None,n_zs=100,z_bins=None,f_sky=0.3,nside=256,use_window=False,\n",
    "                    mask_start_pix=0,window_cl_fact=None,bg1=1,AI=0,AI_z=0,l=None,mag_fact=0,\n",
    "                     sigma_gamma=0.26,k_max=0.3,unit_win=False,use_shot_noise=True,**kwargs):\n",
    "    \"\"\"\n",
    "        Setting galaxy redshift bins in the format used in skylens code.\n",
    "        Need\n",
    "        zs (array): redshift bins for every source bin. if z_bins is none, then dictionary with\n",
    "                    with values for each bin\n",
    "        p_zs: redshift distribution. same format as zs\n",
    "        z_bins: if zs and p_zs are for whole survey, then bins to divide the sample. If\n",
    "                tomography is based on lens redshift, then this arrays contains those redshifts.\n",
    "        ns: The number density for each bin to compute shape noise.\n",
    "    \"\"\"\n",
    "    zs_bins={}\n",
    "\n",
    "    if nz_bins is None:\n",
    "        nz_bins=1\n",
    "\n",
    "    if z_bins is None:\n",
    "        z_bins=np.linspace(min(zp)-0.0001,max(zp)+0.0001,nz_bins+1)\n",
    "    if zs is None:\n",
    "        zs=np.linspace(0,max(z_bins)+1,n_zs)\n",
    "    dzs=np.gradient(zs)\n",
    "    dzp=np.gradient(zp) if len(zp)>1 else [1]\n",
    "    zp=np.array(zp)\n",
    "\n",
    "    zl_kernel=np.linspace(0,max(zs),50)\n",
    "    lu=Tracer_utils() #Change\n",
    "    cosmo_h=cosmo_h_PL\n",
    "\n",
    "    zmax=max(z_bins)\n",
    "\n",
    "    l=[1] if l is None else l\n",
    "    zs_bins['SN']={}\n",
    "    zs_bins['SN']['galaxy']=np.zeros((len(l),nz_bins,nz_bins))\n",
    "    zs_bins['SN']['shear']=np.zeros((len(l),nz_bins,nz_bins))\n",
    "    zs_bins['SN']['kappa']=np.zeros((len(l),nz_bins,nz_bins))\n",
    "\n",
    "    for i in np.arange(nz_bins):\n",
    "        zs_bins[i]={}\n",
    "        indx=zp.searchsorted(z_bins[i:i+2])\n",
    "\n",
    "        if indx[0]==indx[1]:\n",
    "            indx[1]=-1\n",
    "        zs=zp[indx[0]:indx[1]]\n",
    "        p_zs=p_zp[indx[0]:indx[1]]\n",
    "        nz=ns*p_zs*dzp[indx[0]:indx[1]]\n",
    "        ns_i=nz.sum()\n",
    "\n",
    "        zs_bins=zbin_pz_norm(zs_bins=zs_bins,bin_indx=i,zs=zs,p_zs=p_zs,ns=ns_i,bg1=bg1,\n",
    "                             AI=AI,AI_z=AI_z,mag_fact=mag_fact,k_max=k_max)\n",
    "        \n",
    "        zmax=max([zmax,max(zs_bins[i]['z'])])\n",
    "        if use_shot_noise:\n",
    "            zs_bins['SN']['galaxy'][:,i,i]=galaxy_shot_noise_calc(zg1=zs_bins[i],zg2=zs_bins[i])\n",
    "            zs_bins['SN']['shear'][:,i,i]=shear_shape_noise_calc(zs1=zs_bins[i],zs2=zs_bins[i],\n",
    "                                                                 sigma_gamma=sigma_gamma)\n",
    "            zs_bins['SN']['kappa'][:,i,i]=shear_shape_noise_calc(zs1=zs_bins[i],zs2=zs_bins[i],\n",
    "                                                                 sigma_gamma=sigma_gamma) #FIXME: This is almost certainly not correct\n",
    "\n",
    "    zs_bins['n_bins']=nz_bins #easy to remember the counts\n",
    "    zs_bins['z_lens_kernel']=zl_kernel\n",
    "    zs_bins['zmax']=zmax\n",
    "    zs_bins['zp']=zp\n",
    "    zs_bins['pz']=p_zp\n",
    "    zs_bins['z_bins']=z_bins\n",
    "    zs_bins['zp_sigma']=zp_sigma\n",
    "    zs_bins['zp_bias']=zp_bias\n",
    "    if use_window:\n",
    "        zs_bins=set_window(zs_bins=zs_bins,nside=nside, unit_win=unit_win)\n",
    "    return zs_bins"
   ]
  },
  {
   "cell_type": "code",
   "execution_count": 9,
   "metadata": {},
   "outputs": [],
   "source": [
    "def DESI_elg_bins(nz_bins=1, f_sky=0.3,nside=256,use_window=use_window,mask_start_pix=0,bg1=1,\n",
    "                       l=None,sigma_gamma=0,mag_fact=0,z_bins=None,**kwargs):\n",
    "\n",
    "    home='../desi-lensing-cc/data/'\n",
    "    fname='dNdz'\n",
    "    t=np.genfromtxt(home+fname,names=True)\n",
    "    dz=t['z'][1]-t['z'][0]\n",
    "    zmax=max(t['z'])+dz/2\n",
    "    zmin=min(t['z'])-dz/2\n",
    "\n",
    "    z=t['z']\n",
    "    \n",
    "    pz=t['dNdzddeg2']\n",
    "    \n",
    "    ns=np.sum(pz)\n",
    "    ns/=d2r**2 #convert from deg**2 to rd**2\n",
    "\n",
    "    if z_bins is None: #this defines the bin edges if splitting the sample into bins. Preferably pass it as an argument whenusing multiple bins.\n",
    "        z_bins=np.linspace(zmin, min(2,zmax), nz_bins+1)\n",
    "    print(zmin,zmax,z_bins,ns)\n",
    "    return source_tomo_bins(zp=z,p_zp=pz,ns=ns,nz_bins=nz_bins,mag_fact=mag_fact,\n",
    "                            ztrue_func=None,zp_bias=0,\n",
    "                            zp_sigma=0,z_bins=z_bins,f_sky=f_sky,nside=nside,\n",
    "                            use_window=use_window,mask_start_pix=mask_start_pix,bg1=bg1,\n",
    "                            l=l,sigma_gamma=sigma_gamma,**kwargs)\n",
    "\n",
    "#Change... following function is defined for testing\n",
    "import scipy\n",
    "def DESI_elg_bins_test(nz_bins=1, f_sky=0.3,nside=256,use_window=use_window,mask_start_pix=0,bg1=1,\n",
    "                       l=None,sigma_gamma=0,mag_fact=0,z_bins=None,**kwargs):\n",
    "    \n",
    "    z=np.linspace(0.5,1,6)\n",
    "#     home='../desi-lensing-cc/data/'\n",
    "#     fname='dNdz'\n",
    "#     t=np.genfromtxt(home+fname,names=True)\n",
    "    t={}\n",
    "    t['z']=0.5*(z[1:]+z[:-1])\n",
    "    t['dNdzddeg2']=scipy.stats.norm.pdf(z,loc=.7,scale=0.1)\n",
    "    dz=t['z'][1]-t['z'][0]\n",
    "    zmax=max(t['z'])+dz/2\n",
    "    zmin=min(t['z'])-dz/2\n",
    "\n",
    "    z=t['z']\n",
    "    \n",
    "    pz=t['dNdzddeg2']\n",
    "    \n",
    "    ns=np.sum(pz)\n",
    "    ns/=d2r**2 #convert from deg**2 to rd**2\n",
    "\n",
    "    if z_bins is None: #this defines the bin edges if splitting the sample into bins. Preferably pass it as an argument whenusing multiple bins.\n",
    "        z_bins=np.linspace(zmin, min(2,zmax), nz_bins+1)\n",
    "    print(zmin,zmax,z_bins,ns)\n",
    "    return source_tomo_bins(zp=z,p_zp=pz,ns=ns,nz_bins=nz_bins,mag_fact=mag_fact,\n",
    "                            ztrue_func=None,zp_bias=0,unit_win=True,\n",
    "                            zp_sigma=0,z_bins=z_bins,f_sky=f_sky,nside=nside,\n",
    "                            use_window=use_window,mask_start_pix=mask_start_pix,bg1=bg1,\n",
    "                            l=l,sigma_gamma=sigma_gamma,**kwargs)"
   ]
  },
  {
   "cell_type": "code",
   "execution_count": 10,
   "metadata": {},
   "outputs": [
    {
     "name": "stdout",
     "output_type": "stream",
     "text": [
      "0.5000000000000001 0.9999999999999999 [0.5 1. ] 32673.689888612906\n",
      "Tracer utils has no tracers\n"
     ]
    }
   ],
   "source": [
    "zl_bin=DESI_elg_bins_test()"
   ]
  },
  {
   "cell_type": "code",
   "execution_count": 11,
   "metadata": {},
   "outputs": [
    {
     "data": {
      "text/plain": [
       "dict_keys(['SN', 0, 'n_bins', 'z_lens_kernel', 'zmax', 'zp', 'pz', 'z_bins', 'zp_sigma', 'zp_bias'])"
      ]
     },
     "execution_count": 11,
     "metadata": {},
     "output_type": "execute_result"
    }
   ],
   "source": [
    "zl_bin.keys()"
   ]
  },
  {
   "cell_type": "code",
   "execution_count": 12,
   "metadata": {},
   "outputs": [
    {
     "data": {
      "text/plain": [
       "dict_keys(['z', 'dz', 'nz', 'ns', 'W', 'pz', 'pzdz', 'Norm', 'b1', 'AI', 'AI_z', 'mag_fact', 'lm', 'window', 'window_alm', 'window_alm_noise'])"
      ]
     },
     "execution_count": 12,
     "metadata": {},
     "output_type": "execute_result"
    }
   ],
   "source": [
    "zl_bin[0].keys()"
   ]
  },
  {
   "cell_type": "code",
   "execution_count": 13,
   "metadata": {},
   "outputs": [
    {
     "data": {
      "image/png": "[encoded data removed]",
      "text/plain": [
       "<Figure size 612x388.8 with 2 Axes>"
      ]
     },
     "metadata": {
      "needs_background": "light"
     },
     "output_type": "display_data"
    }
   ],
   "source": [
    "if use_window:\n",
    "    hp.mollview(zl_bin[0]['window'])"
   ]
  },
  {
   "cell_type": "code",
   "execution_count": 14,
   "metadata": {},
   "outputs": [
    {
     "data": {
      "text/plain": [
       "masked_array(data=[1.0, 1.0, 1.0, ..., -1.6375e+30, -1.6375e+30,\n",
       "                   -1.6375e+30],\n",
       "             mask=[False, False, False, ..., False, False, False],\n",
       "       fill_value=-1.6375e+30)"
      ]
     },
     "execution_count": 14,
     "metadata": {},
     "output_type": "execute_result"
    }
   ],
   "source": [
    "zl_bin[0]['window']"
   ]
  },
  {
   "cell_type": "code",
   "execution_count": 17,
   "metadata": {},
   "outputs": [
    {
     "data": {
      "text/plain": [
       "[]"
      ]
     },
     "execution_count": 17,
     "metadata": {},
     "output_type": "execute_result"
    },
    {
     "data": {
      "image/png": "[encoded data removed]",
      "text/plain": [
       "<Figure size 432x288 with 1 Axes>"
      ]
     },
     "metadata": {
      "needs_background": "light"
     },
     "output_type": "display_data"
    }
   ],
   "source": [
    "import matplotlib.pyplot as plt\n",
    "window_cl=hp.anafast(zl_bin[0]['window'])\n",
    "plt.plot(window_cl)\n",
    "plt.loglog()"
   ]
  },
  {
   "cell_type": "code",
   "execution_count": 20,
   "metadata": {},
   "outputs": [],
   "source": [
    "zs_bin=cmb_bins_here(l=l,unit_win=True)# lensing source bin\n",
    "#Change: set unit_win=False to use the right window."
   ]
  },
  {
   "cell_type": "raw",
   "metadata": {},
   "source": [
    "import skylens\n",
    "reload(skylens)\n",
    "from skylens import *"
   ]
  },
  {
   "cell_type": "code",
   "execution_count": 21,
   "metadata": {},
   "outputs": [],
   "source": [
    "store_win=True"
   ]
  },
  {
   "cell_type": "code",
   "execution_count": 22,
   "metadata": {},
   "outputs": [],
   "source": [
    "f_sky=0.35 #FIXME: use the correct value. If you are using window, then this is not very important."
   ]
  },
  {
   "cell_type": "code",
   "execution_count": 23,
   "metadata": {},
   "outputs": [],
   "source": [
    "corr_ll=('kappa','kappa')\n",
    "corr_gg=('galaxy','galaxy')\n",
    "corr_gl=('galaxy','kappa')\n",
    "corrs=[corr_ll,corr_gg,corr_gl]"
   ]
  },
  {
   "cell_type": "code",
   "execution_count": 24,
   "metadata": {},
   "outputs": [
    {
     "name": "stdout",
     "output_type": "stream",
     "text": [
      "Tracer utils has tracers:  ['galaxy', 'kappa']\n",
      "pk_params dict was none, intialized with default\n",
      "cosmo_params dict was none, intialized with default\n",
      "cosmology interpolation range 0.0 2.415\n",
      "power spectra camb_pk_too_many_z\n",
      "Win gen: step size 92 924 201.0 10\n",
      "wigner_files: {0: '../temp/dask_wig3j_l2048_w4096_0_reorder.zarr/'}\n",
      "wigner done dict_keys([])\n",
      "set window_cl: cl0,cl_b done 7.104873657226562e-05\n",
      "set window_cl: cl done 13.029669284820557 561.737 0.0\n",
      "Win_cli ('kappa', 'kappa', 0, 0) ('kappa', 'kappa') (0, 0)\n",
      "Win_cli ('galaxy', 'galaxy', 0, 0) ('galaxy', 'galaxy') (0, 0)\n",
      "Win_cli ('galaxy', 'kappa', 0, 0) ('galaxy', 'kappa') (0, 0)\n",
      "set window_cl: cl done 13.849996566772461 561.737 0.0\n",
      "cl+cov bags done 3 6 14.63149094581604\n"
     ]
    },
    {
     "ename": "KeyboardInterrupt",
     "evalue": "",
     "output_type": "error",
     "traceback": [
      "\u001b[0;31m---------------------------------------------------------------------------\u001b[0m",
      "\u001b[0;31mKeyboardInterrupt\u001b[0m                         Traceback (most recent call last)",
      "\u001b[0;32m<ipython-input-24-66b229d9f0a8>\u001b[0m in \u001b[0;36m<module>\u001b[0;34m\u001b[0m\n\u001b[1;32m      1\u001b[0m \u001b[0;31m#use all ell\u001b[0m\u001b[0;34m\u001b[0m\u001b[0;34m\u001b[0m\u001b[0;34m\u001b[0m\u001b[0m\n\u001b[1;32m      2\u001b[0m \u001b[0;31m#Change: name changes: zk_bins->kappa_zbins, zl_bins->galaxy_zbins\u001b[0m\u001b[0;34m\u001b[0m\u001b[0;34m\u001b[0m\u001b[0;34m\u001b[0m\u001b[0m\n\u001b[0;32m----> 3\u001b[0;31m kappa0=Skylens(kappa_zbins=zs_bin,do_cov=do_cov,bin_cl=bin_cl,l_bins=l_bins,l=l0, galaxy_zbins=zl_bin,\n\u001b[0m\u001b[1;32m      4\u001b[0m                                        \u001b[0muse_window\u001b[0m\u001b[0;34m=\u001b[0m\u001b[0muse_window\u001b[0m\u001b[0;34m,\u001b[0m\u001b[0mTri_cov\u001b[0m\u001b[0;34m=\u001b[0m\u001b[0mTri_cov\u001b[0m\u001b[0;34m,\u001b[0m\u001b[0;34m\u001b[0m\u001b[0;34m\u001b[0m\u001b[0m\n\u001b[1;32m      5\u001b[0m                                        \u001b[0muse_binned_l\u001b[0m\u001b[0;34m=\u001b[0m\u001b[0muse_binned_l\u001b[0m\u001b[0;34m,\u001b[0m\u001b[0mwigner_files\u001b[0m\u001b[0;34m=\u001b[0m\u001b[0mwigner_files\u001b[0m\u001b[0;34m,\u001b[0m\u001b[0;34m\u001b[0m\u001b[0;34m\u001b[0m\u001b[0m\n",
      "\u001b[0;32m~/SkyLens/skylens/skylens_main.py\u001b[0m in \u001b[0;36m__init__\u001b[0;34m(self, yaml_inp_file, python_inp_file, l, Ang_PS, cov_utils, logger, tracer_utils, shear_zbins, kappa_zbins, galaxy_zbins, pk_params, cosmo_params, WT_kwargs, WT, z_PS, nz_PS, log_z_PS, do_cov, SSV_cov, tidal_SSV_cov, do_sample_variance, Tri_cov, sparse_cov, use_window, window_lmax, window_l, store_win, Win, f_sky, wigner_step, cl_func_names, zkernel_func_names, l_bins, l_bins_center, bin_cl, use_binned_l, do_pseudo_cl, stack_data, bin_xi, do_xi, theta_bins, theta_bins_center, use_binned_theta, xi_SN_analytical, corrs, corr_indxs, stack_indxs, wigner_files, name, clean_tracer_window, scheduler_info)\u001b[0m\n\u001b[1;32m    110\u001b[0m                         \u001b[0mxi_bin_utils\u001b[0m\u001b[0;34m=\u001b[0m\u001b[0mself\u001b[0m\u001b[0;34m.\u001b[0m\u001b[0mxi_bin_utils\u001b[0m\u001b[0;34m,\u001b[0m\u001b[0mstore_win\u001b[0m\u001b[0;34m=\u001b[0m\u001b[0mself\u001b[0m\u001b[0;34m.\u001b[0m\u001b[0mstore_win\u001b[0m\u001b[0;34m,\u001b[0m\u001b[0mwigner_files\u001b[0m\u001b[0;34m=\u001b[0m\u001b[0mself\u001b[0m\u001b[0;34m.\u001b[0m\u001b[0mwigner_files\u001b[0m\u001b[0;34m,\u001b[0m\u001b[0;34m\u001b[0m\u001b[0;34m\u001b[0m\u001b[0m\n\u001b[1;32m    111\u001b[0m                         bin_window=self.use_binned_l,bin_theta_window=self.use_binned_theta)\n\u001b[0;32m--> 112\u001b[0;31m         \u001b[0mself\u001b[0m\u001b[0;34m.\u001b[0m\u001b[0mWin0\u001b[0m\u001b[0;34m.\u001b[0m\u001b[0mget_Win\u001b[0m\u001b[0;34m(\u001b[0m\u001b[0;34m)\u001b[0m\u001b[0;34m\u001b[0m\u001b[0;34m\u001b[0m\u001b[0m\n\u001b[0m\u001b[1;32m    113\u001b[0m         \u001b[0mself\u001b[0m\u001b[0;34m.\u001b[0m\u001b[0mbin_window\u001b[0m\u001b[0;34m=\u001b[0m\u001b[0mself\u001b[0m\u001b[0;34m.\u001b[0m\u001b[0mWin0\u001b[0m\u001b[0;34m.\u001b[0m\u001b[0mbin_window\u001b[0m\u001b[0;34m\u001b[0m\u001b[0;34m\u001b[0m\u001b[0m\n\u001b[1;32m    114\u001b[0m         \u001b[0mwin\u001b[0m\u001b[0;34m=\u001b[0m\u001b[0mself\u001b[0m\u001b[0;34m.\u001b[0m\u001b[0mWin0\u001b[0m\u001b[0;34m.\u001b[0m\u001b[0mWin\u001b[0m\u001b[0;34m\u001b[0m\u001b[0;34m\u001b[0m\u001b[0m\n",
      "\u001b[0;32m~/SkyLens/skylens/window_utils.py\u001b[0m in \u001b[0;36mget_Win\u001b[0;34m(self)\u001b[0m\n\u001b[1;32m     74\u001b[0m             \u001b[0;32mif\u001b[0m \u001b[0mself\u001b[0m\u001b[0;34m.\u001b[0m\u001b[0mdo_xi\u001b[0m\u001b[0;34m:\u001b[0m\u001b[0;34m\u001b[0m\u001b[0;34m\u001b[0m\u001b[0m\n\u001b[1;32m     75\u001b[0m                 \u001b[0mprint\u001b[0m\u001b[0;34m(\u001b[0m\u001b[0;34m'Warning: window for xi is different from cl.'\u001b[0m\u001b[0;34m)\u001b[0m\u001b[0;34m\u001b[0m\u001b[0;34m\u001b[0m\u001b[0m\n\u001b[0;32m---> 76\u001b[0;31m             \u001b[0mself\u001b[0m\u001b[0;34m.\u001b[0m\u001b[0mget_cl_win\u001b[0m\u001b[0;34m(\u001b[0m\u001b[0;34m)\u001b[0m\u001b[0;34m\u001b[0m\u001b[0;34m\u001b[0m\u001b[0m\n\u001b[0m\u001b[1;32m     77\u001b[0m         \u001b[0mself\u001b[0m\u001b[0;34m.\u001b[0m\u001b[0mcleanup\u001b[0m\u001b[0;34m(\u001b[0m\u001b[0;34m)\u001b[0m\u001b[0;34m\u001b[0m\u001b[0;34m\u001b[0m\u001b[0m\n\u001b[1;32m     78\u001b[0m \u001b[0;34m\u001b[0m\u001b[0m\n",
      "\u001b[0;32m~/SkyLens/skylens/window_utils.py\u001b[0m in \u001b[0;36mget_cl_win\u001b[0;34m(self)\u001b[0m\n\u001b[1;32m     87\u001b[0m         \u001b[0mself\u001b[0m\u001b[0;34m.\u001b[0m\u001b[0mset_wig3j\u001b[0m\u001b[0;34m(\u001b[0m\u001b[0;34m)\u001b[0m\u001b[0;34m\u001b[0m\u001b[0;34m\u001b[0m\u001b[0m\n\u001b[1;32m     88\u001b[0m         \u001b[0;32mif\u001b[0m \u001b[0;32mnot\u001b[0m \u001b[0mself\u001b[0m\u001b[0;34m.\u001b[0m\u001b[0mdo_xi\u001b[0m\u001b[0;34m:\u001b[0m \u001b[0;31m#FIXME: bad design\u001b[0m\u001b[0;34m\u001b[0m\u001b[0;34m\u001b[0m\u001b[0m\n\u001b[0;32m---> 89\u001b[0;31m             \u001b[0mself\u001b[0m\u001b[0;34m.\u001b[0m\u001b[0mset_window_cl\u001b[0m\u001b[0;34m(\u001b[0m\u001b[0;34m)\u001b[0m\u001b[0;34m\u001b[0m\u001b[0;34m\u001b[0m\u001b[0m\n\u001b[0m\u001b[1;32m     90\u001b[0m         \u001b[0;32mif\u001b[0m \u001b[0mself\u001b[0m\u001b[0;34m.\u001b[0m\u001b[0mstore_win\u001b[0m\u001b[0;34m:\u001b[0m\u001b[0;34m\u001b[0m\u001b[0;34m\u001b[0m\u001b[0m\n\u001b[1;32m     91\u001b[0m             self.set_store_window(corrs=self.corrs,corr_indxs=self.corr_indxs,client=None,\n",
      "\u001b[0;32m~/SkyLens/skylens/window_utils.py\u001b[0m in \u001b[0;36mset_window_cl\u001b[0;34m(self, corrs, corr_indxs, npartitions, use_bag, z_bins, WT_kwargs, xi_bin_utils)\u001b[0m\n\u001b[1;32m    871\u001b[0m         \u001b[0mnjobs\u001b[0m\u001b[0;34m=\u001b[0m\u001b[0mself\u001b[0m\u001b[0;34m.\u001b[0m\u001b[0mnjobs_submit\u001b[0m\u001b[0;34m\u001b[0m\u001b[0;34m\u001b[0m\u001b[0m\n\u001b[1;32m    872\u001b[0m         \u001b[0;32mif\u001b[0m \u001b[0mself\u001b[0m\u001b[0;34m.\u001b[0m\u001b[0mstore_win\u001b[0m\u001b[0;34m:\u001b[0m\u001b[0;34m\u001b[0m\u001b[0;34m\u001b[0m\u001b[0m\n\u001b[0;32m--> 873\u001b[0;31m             \u001b[0mwait_futures\u001b[0m\u001b[0;34m(\u001b[0m\u001b[0mWin_cl\u001b[0m\u001b[0;34m)\u001b[0m\u001b[0;34m\u001b[0m\u001b[0;34m\u001b[0m\u001b[0m\n\u001b[0m\u001b[1;32m    874\u001b[0m             \u001b[0;32mif\u001b[0m \u001b[0;32mnot\u001b[0m \u001b[0muse_bag\u001b[0m\u001b[0;34m:\u001b[0m\u001b[0;34m\u001b[0m\u001b[0;34m\u001b[0m\u001b[0m\n\u001b[1;32m    875\u001b[0m                 \u001b[0mWin_cl\u001b[0m\u001b[0;34m=\u001b[0m\u001b[0mclient\u001b[0m\u001b[0;34m.\u001b[0m\u001b[0mgather\u001b[0m\u001b[0;34m(\u001b[0m\u001b[0mWin_cl\u001b[0m\u001b[0;34m)\u001b[0m\u001b[0;34m\u001b[0m\u001b[0;34m\u001b[0m\u001b[0m\n",
      "\u001b[0;32m~/SkyLens/skylens/utils.py\u001b[0m in \u001b[0;36mwait_futures\u001b[0;34m(futures, sleep_time, threshold)\u001b[0m\n\u001b[1;32m    138\u001b[0m     \u001b[0mall_done\u001b[0m\u001b[0;34m=\u001b[0m\u001b[0;32mFalse\u001b[0m\u001b[0;34m\u001b[0m\u001b[0;34m\u001b[0m\u001b[0m\n\u001b[1;32m    139\u001b[0m     \u001b[0;32mwhile\u001b[0m \u001b[0;32mnot\u001b[0m \u001b[0mall_done\u001b[0m\u001b[0;34m:\u001b[0m\u001b[0;34m\u001b[0m\u001b[0;34m\u001b[0m\u001b[0m\n\u001b[0;32m--> 140\u001b[0;31m         \u001b[0mtime\u001b[0m\u001b[0;34m.\u001b[0m\u001b[0msleep\u001b[0m\u001b[0;34m(\u001b[0m\u001b[0msleep_time\u001b[0m\u001b[0;34m)\u001b[0m\u001b[0;34m\u001b[0m\u001b[0;34m\u001b[0m\u001b[0m\n\u001b[0m\u001b[1;32m    141\u001b[0m         \u001b[0mall_done\u001b[0m\u001b[0;34m=\u001b[0m\u001b[0mnp\u001b[0m\u001b[0;34m.\u001b[0m\u001b[0mmean\u001b[0m\u001b[0;34m(\u001b[0m\u001b[0;34m[\u001b[0m\u001b[0mfuture\u001b[0m\u001b[0;34m.\u001b[0m\u001b[0mstatus\u001b[0m\u001b[0;34m==\u001b[0m\u001b[0;34m'finished'\u001b[0m \u001b[0;32mfor\u001b[0m \u001b[0mfuture\u001b[0m \u001b[0;32min\u001b[0m \u001b[0mfutures\u001b[0m\u001b[0;34m]\u001b[0m\u001b[0;34m)\u001b[0m\u001b[0;34m>\u001b[0m\u001b[0mthreshold\u001b[0m\u001b[0;34m\u001b[0m\u001b[0;34m\u001b[0m\u001b[0m\n\u001b[1;32m    142\u001b[0m \u001b[0;31m#         all_done=np.all([future.status=='finished' for future in futures])\u001b[0m\u001b[0;34m\u001b[0m\u001b[0;34m\u001b[0m\u001b[0;34m\u001b[0m\u001b[0m\n",
      "\u001b[0;31mKeyboardInterrupt\u001b[0m: "
     ]
    }
   ],
   "source": [
    "#use all ell\n",
    "#Change: name changes: zk_bins->kappa_zbins, zl_bins->galaxy_zbins\n",
    "kappa0=Skylens(kappa_zbins=zs_bin,do_cov=do_cov,bin_cl=bin_cl,l_bins=l_bins,l=l0, galaxy_zbins=zl_bin,\n",
    "                                       use_window=use_window,Tri_cov=Tri_cov,\n",
    "                                       use_binned_l=use_binned_l,wigner_files=wigner_files,\n",
    "                                       SSV_cov=SSV_cov,tidal_SSV_cov=tidal_SSV_cov,f_sky=f_sky,\n",
    "                                       store_win=store_win,window_lmax=window_lmax,\n",
    "                                       corrs=corrs,stack_indxs=None,corr_indxs=None)"
   ]
  },
  {
   "cell_type": "raw",
   "metadata": {},
   "source": [
    "dask.visualize(kappa0.Win.Win) #cool compute graph is you set store_win=False"
   ]
  },
  {
   "cell_type": "code",
   "execution_count": null,
   "metadata": {},
   "outputs": [],
   "source": [
    "%time cl0G=kappa0.cl_tomo() "
   ]
  },
  {
   "cell_type": "code",
   "execution_count": null,
   "metadata": {},
   "outputs": [],
   "source": [
    "cl0G.keys()"
   ]
  },
  {
   "cell_type": "code",
   "execution_count": null,
   "metadata": {},
   "outputs": [],
   "source": [
    "dask.visualize(cl0G['stack'])"
   ]
  },
  {
   "cell_type": "code",
   "execution_count": null,
   "metadata": {},
   "outputs": [],
   "source": [
    "bi=(0,0) #z_bin indexes\n",
    "plot(cl0G['cl_b'][corr_ll][bi].compute())"
   ]
  },
  {
   "cell_type": "code",
   "execution_count": null,
   "metadata": {},
   "outputs": [],
   "source": [
    "%time cl0=cl0G['stack'].compute()"
   ]
  },
  {
   "cell_type": "code",
   "execution_count": null,
   "metadata": {},
   "outputs": [],
   "source": [
    "cl0"
   ]
  },
  {
   "cell_type": "code",
   "execution_count": null,
   "metadata": {},
   "outputs": [],
   "source": []
  }
 ],
 "metadata": {
  "hide_input": false,
  "kernelspec": {
   "display_name": "Python 3",
   "language": "python",
   "name": "python3"
  },
  "language_info": {
   "codemirror_mode": {
    "name": "ipython",
    "version": 3
   },
   "file_extension": ".py",
   "mimetype": "text/x-python",
   "name": "python",
   "nbconvert_exporter": "python",
   "pygments_lexer": "ipython3",
   "version": "3.8.3"
  }
 },
 "nbformat": 4,
 "nbformat_minor": 2
}
