{
 "cells": [
  {
   "cell_type": "code",
   "execution_count": null,
   "metadata": {},
   "outputs": [],
   "source": [
    "import sys\n",
    "# import pyccl as ccl#\n",
    "import pickle\n",
    "import camb\n",
    "sys.path.insert(0,'../Skylens/skylens/') #path to skylens\n",
    "# from importlib import reload"
   ]
  },
  {
   "cell_type": "code",
   "execution_count": null,
   "metadata": {},
   "outputs": [],
   "source": [
    "#setting up virtual dask cluster for calculations. Adjust memory and threads according to your system.\n",
    "from distributed import LocalCluster\n",
    "from dask.distributed import Client \n",
    "#http://distributed.readthedocs.io/en/latest/_modules/distributed/worker.html\n",
    "c=LocalCluster(n_workers=1,processes=False,memory_limit='25gb',threads_per_worker=4,memory_spill_fraction=.99,\n",
    "               memory_monitor_interval='2000ms')\n",
    "client=Client(c)"
   ]
  },
  {
   "cell_type": "code",
   "execution_count": null,
   "metadata": {},
   "outputs": [],
   "source": [
    "from skylens import *\n",
    "from survey_utils import *"
   ]
  },
  {
   "cell_type": "code",
   "execution_count": null,
   "metadata": {},
   "outputs": [],
   "source": [
    "#only for python3\n",
    "import importlib\n",
    "reload=importlib.reload"
   ]
  },
  {
   "cell_type": "code",
   "execution_count": null,
   "metadata": {},
   "outputs": [],
   "source": [
    "wigner_files={} #FIXME: run Gen_wig_m0.py to generate these files and then pass their path here. These are large files, make sure they are not included in git.\n",
    "# In file names l3500 refers to ell_max for which wigner function was calculated. It should be same or larger than ell_max in your measurements. \n",
    "# |w2100 is the max ell for window. This should be atleast 2 X ell_max in the measurements.\n",
    "wigner_files[0]= '/Users/Deep/dask_temp/dask_wig3j_l3500_w2100_0_reorder.zarr'\n",
    "\n",
    "# wigner_files[2]= '/Users/Deep/dask_temp/dask_wig3j_l3500_w2100_2_reorder.zarr' #everything is spin 0, should not require this. if needed, compute using Gen_wig_m2.py\n",
    "\n"
   ]
  },
  {
   "cell_type": "markdown",
   "metadata": {},
   "source": [
    "# Power Spectrum covariance"
   ]
  },
  {
   "cell_type": "code",
   "execution_count": null,
   "metadata": {},
   "outputs": [],
   "source": [
    "#setup parameters\n",
    "#FIXME: Check all the values below.\n",
    "lmax_cl=200 #min and max for ell\n",
    "lmin_cl=2\n",
    "l0=np.arange(lmin_cl,lmax_cl)\n",
    "\n",
    "#following defines the ell bins. Using log bins in example, feel free to change.\n",
    "lmin_cl_Bins=lmin_cl+10\n",
    "lmax_cl_Bins=lmax_cl-10\n",
    "Nl_bins=20\n",
    "l_bins=np.int64(np.logspace(np.log10(lmin_cl_Bins),np.log10(lmax_cl_Bins),Nl_bins))\n",
    "lb=np.sqrt(l_bins[1:]*l_bins[:-1])\n",
    "\n",
    "l=l0\n",
    "# l=np.unique(np.int64(np.logspace(np.log10(lmin_cl),np.log10(lmax_cl),Nl_bins*20))) #if computation is too heavy and we want to use fewer ell\n",
    "\n",
    "do_cov=True # if you want to get covariance. Covariance is slow and this should be false if you are calling skylens inside mcmc.\n",
    "bin_cl=True #bin the theory and covaraince. \n",
    "\n",
    "use_window=False #if you want to include the window effect. Code will return pseudo-cl and pseudo-cl covariance\n",
    "store_win=True # to store window, for some internal reasons. leave it to true.\n",
    "window_lmax=200 #smaller value for testing. This should be 2X ell_max in the measurements.\n",
    "\n",
    "use_binned_l=False  #FIXME: to speed up computation if using pseudo-cl inside mcmc. Needs to be tested. Leave it false for now.\n",
    "\n",
    "SSV_cov=False # we donot have good model for super sample and tri-spectrum. We can chat about implementing some approximate analytical forms.\n",
    "tidal_SSV_cov=False\n",
    "Tri_cov=False \n",
    "\n",
    "bin_xi=True\n",
    "theta_bins=np.logspace(np.log10(1./60),1,20)"
   ]
  },
  {
   "cell_type": "code",
   "execution_count": null,
   "metadata": {},
   "outputs": [],
   "source": [
    "def cmb_bins_here(zs=1090,l=None,use_window=use_window,unit_win=False,nside=1024,zmax=2.4):\n",
    "    \"\"\"\n",
    "    This function prepares the cmb lensing data into format required for input into skylens for theory predictions.\n",
    "    \"\"\"\n",
    "    zs_bins={}\n",
    "    zs_bins[0]={}\n",
    "\n",
    "    zs_bins=zbin_pz_norm(zs_bins=zs_bins,bin_indx=0,zs=np.atleast_1d(zs),p_zs=np.atleast_1d(1),\n",
    "                         ns=0,bg1=1)\n",
    "    zs_bins['n_bins']=1 #easy to remember the counts\n",
    "    zs_bins['zmax']=np.atleast_1d([zmax])\n",
    "    zs_bins['zp_sigma']=0\n",
    "    zs_bins['zp_bias']=0\n",
    "    zs_bins['nz']=0\n",
    "\n",
    "    SN_read=np.genfromtxt('../desi-lensing-cc/data/MV/nlkk.dat',names=('l','nl','nl2')) \n",
    "    SN_intp=interp1d(SN_read['l'],SN_read['nl'],bounds_error=False, fill_value=0)      #FIXME: make sure using the correct noise power spectra.\n",
    "    SN=SN_intp(l)\n",
    "#     SN=np.ones_like(l)\n",
    "    zs_bins['SN']={}\n",
    "    zs_bins['SN']['kappa']=SN.reshape(len(SN),1,1)\n",
    "    if use_window:\n",
    "        zs_bins=set_window(zs_bins=zs_bins,nside=nside, unit_win=unit_win,cmb=True)\n",
    "    return zs_bins"
   ]
  },
  {
   "cell_type": "code",
   "execution_count": null,
   "metadata": {},
   "outputs": [],
   "source": [
    "def set_window(zs_bins={},nside=1024,mask=None,window_cl_fact=None,unit_win=False,cmb=False):\n",
    "    \"\"\"\n",
    "        This function sets the window functions for the datasets. These windows are necessary for converting cl to pseudo-cl.\n",
    "    \"\"\"\n",
    "    #FIXME: make sure nside, etc. are properly matched. if possible, use same nside for cmb and galaxy maps. Use ud_grade where necessary.\n",
    "    for i in np.arange(zs_bins['n_bins']):\n",
    "        if unit_win:\n",
    "            cl_map=hp.ma(np.ones(12*nside*nside))\n",
    "            cl_i=1\n",
    "        elif cmb:\n",
    "            cl_map=np.load('../desi-lensing-cc/data/elg_ran1024.npy') #FIXME: add the CMB lensing window here.\n",
    "        else:\n",
    "            cl_map=np.load('../desi-lensing-cc/data/elg_ran1024.npy') #randoms are the window function.\n",
    "        cl_map=hp.ma(cl_map)\n",
    "#             cl_map=hp.alm2map(alms_i,nside=nside)\n",
    "        if mask is None:\n",
    "            mask=cl_map>0 #FIXME: input proper mask if possible\n",
    "        cl_map.mask=~mask\n",
    "        cl_map[cl_map<0]=0\n",
    "        cl_map/=cl_map[mask].mean()\n",
    "        cl_map_noise=np.sqrt(cl_map)\n",
    "        cl_map[~mask]=hp.UNSEEN\n",
    "        cl_map_noise[~mask]=hp.UNSEEN\n",
    "        # cl_map.mask=mask\n",
    "        zs_bins[i]['window']=cl_map\n",
    "        zs_bins[i]['window_alm']=hp.map2alm(cl_map)\n",
    "        zs_bins[i]['window_alm_noise']=hp.map2alm(cl_map_noise)\n",
    "#         zs_bins[i]['window_cl']=cl_i\n",
    "\n",
    "    return zs_bins"
   ]
  },
  {
   "cell_type": "code",
   "execution_count": null,
   "metadata": {},
   "outputs": [],
   "source": [
    "def zbin_pz_norm(zs_bins={},bin_indx=None,zs=None,p_zs=None,ns=0,bg1=1,AI=0,\n",
    "                 AI_z=0,mag_fact=0,k_max=0.3):\n",
    "    \"\"\"\n",
    "        This function does few pre-calculations and sets some parameters for datasets that will be input into skylens\n",
    "    \"\"\"\n",
    "\n",
    "\n",
    "    dzs=np.gradient(zs) if len(zs)>1 else 1\n",
    "\n",
    "    if np.sum(p_zs*dzs)!=0:\n",
    "        p_zs=p_zs/np.sum(p_zs*dzs)\n",
    "    else:\n",
    "        p_zs*=0\n",
    "    nz=dzs*p_zs*ns\n",
    "\n",
    "    i=bin_indx\n",
    "    x= p_zs>-1 #1.e-10\n",
    "\n",
    "    zs_bins[i]['z']=zs[x]\n",
    "    zs_bins[i]['dz']=np.gradient(zs_bins[i]['z']) if len(zs_bins[i]['z'])>1 else 1\n",
    "    zs_bins[i]['nz']=nz[x]\n",
    "    zs_bins[i]['ns']=ns\n",
    "    zs_bins[i]['W']=1.\n",
    "    zs_bins[i]['pz']=p_zs[x]*zs_bins[i]['W']\n",
    "    zs_bins[i]['pzdz']=zs_bins[i]['pz']*zs_bins[i]['dz']\n",
    "    zs_bins[i]['Norm']=np.sum(zs_bins[i]['pzdz'])\n",
    "    zs_bins[i]['b1']=bg1 # FIXME: this is the linear galaxy bias. Input proper values. We can also talk about adding other bias models if needed.\n",
    "    zs_bins[i]['AI']=AI # this will be zero\n",
    "    zs_bins[i]['AI_z']=AI_z\n",
    "    zs_bins[i]['mag_fact']=mag_fact  #FIXME: You need to figure out the magnification bias prefactor. For example, see appendix B of https://arxiv.org/pdf/1803.08915.pdf\n",
    "    zm=np.sum(zs_bins[i]['z']*zs_bins[i]['pzdz'])/zs_bins[i]['Norm']\n",
    "    zs_bins[i]['lm']=k_max*cosmo_h.comoving_transverse_distance(zm).value\n",
    "    return zs_bins"
   ]
  },
  {
   "cell_type": "code",
   "execution_count": null,
   "metadata": {},
   "outputs": [],
   "source": [
    "def source_tomo_bins(zp=None,p_zp=None,nz_bins=None,ns=26,ztrue_func=None,zp_bias=None,\n",
    "                    zp_sigma=None,zs=None,n_zs=100,z_bins=None,f_sky=0.3,nside=256,use_window=False,\n",
    "                    mask_start_pix=0,window_cl_fact=None,bg1=1,AI=0,AI_z=0,l=None,mag_fact=0,\n",
    "                     sigma_gamma=0.26,k_max=0.3,unit_win=False,use_shot_noise=True,**kwargs):\n",
    "    \"\"\"\n",
    "        Setting galaxy redshift bins in the format used in skylens code.\n",
    "        Need\n",
    "        zs (array): redshift bins for every source bin. if z_bins is none, then dictionary with\n",
    "                    with values for each bin\n",
    "        p_zs: redshift distribution. same format as zs\n",
    "        z_bins: if zs and p_zs are for whole survey, then bins to divide the sample. If\n",
    "                tomography is based on lens redshift, then this arrays contains those redshifts.\n",
    "        ns: The number density for each bin to compute shape noise.\n",
    "    \"\"\"\n",
    "    zs_bins={}\n",
    "\n",
    "    if nz_bins is None:\n",
    "        nz_bins=1\n",
    "\n",
    "    if z_bins is None:\n",
    "        z_bins=np.linspace(min(zp)-0.0001,max(zp)+0.0001,nz_bins+1)\n",
    "    if zs is None:\n",
    "        zs=np.linspace(0,max(z_bins)+1,n_zs)\n",
    "    dzs=np.gradient(zs)\n",
    "    dzp=np.gradient(zp) if len(zp)>1 else [1]\n",
    "    zp=np.array(zp)\n",
    "\n",
    "    zl_kernel=np.linspace(0,max(zs),50)\n",
    "    lu=Lensing_utils()\n",
    "    cosmo_h=cosmo_h_PL\n",
    "\n",
    "    zmax=max(z_bins)\n",
    "\n",
    "    l=[1] if l is None else l\n",
    "    zs_bins['SN']={}\n",
    "    zs_bins['SN']['galaxy']=np.zeros((len(l),nz_bins,nz_bins))\n",
    "    zs_bins['SN']['shear']=np.zeros((len(l),nz_bins,nz_bins))\n",
    "    zs_bins['SN']['kappa']=np.zeros((len(l),nz_bins,nz_bins))\n",
    "\n",
    "    for i in np.arange(nz_bins):\n",
    "        zs_bins[i]={}\n",
    "        indx=zp.searchsorted(z_bins[i:i+2])\n",
    "\n",
    "        if indx[0]==indx[1]:\n",
    "            indx[1]=-1\n",
    "        zs=zp[indx[0]:indx[1]]\n",
    "        p_zs=p_zp[indx[0]:indx[1]]\n",
    "        nz=ns*p_zs*dzp[indx[0]:indx[1]]\n",
    "        ns_i=nz.sum()\n",
    "\n",
    "        zs_bins=zbin_pz_norm(zs_bins=zs_bins,bin_indx=i,zs=zs,p_zs=p_zs,ns=ns_i,bg1=bg1,\n",
    "                             AI=AI,AI_z=AI_z,mag_fact=mag_fact,k_max=k_max)\n",
    "        \n",
    "        zmax=max([zmax,max(zs_bins[i]['z'])])\n",
    "        if use_shot_noise:\n",
    "            zs_bins['SN']['galaxy'][:,i,i]=galaxy_shot_noise_calc(zg1=zs_bins[i],zg2=zs_bins[i])\n",
    "            zs_bins['SN']['shear'][:,i,i]=shear_shape_noise_calc(zs1=zs_bins[i],zs2=zs_bins[i],\n",
    "                                                                 sigma_gamma=sigma_gamma)\n",
    "            zs_bins['SN']['kappa'][:,i,i]=shear_shape_noise_calc(zs1=zs_bins[i],zs2=zs_bins[i],\n",
    "                                                                 sigma_gamma=sigma_gamma) #FIXME: This is almost certainly not correct\n",
    "\n",
    "    zs_bins['n_bins']=nz_bins #easy to remember the counts\n",
    "    zs_bins['z_lens_kernel']=zl_kernel\n",
    "    zs_bins['zmax']=zmax\n",
    "    zs_bins['zp']=zp\n",
    "    zs_bins['pz']=p_zp\n",
    "    zs_bins['z_bins']=z_bins\n",
    "    zs_bins['zp_sigma']=zp_sigma\n",
    "    zs_bins['zp_bias']=zp_bias\n",
    "    if use_window:\n",
    "        zs_bins=set_window(zs_bins=zs_bins,nside=nside, unit_win=unit_win)\n",
    "    return zs_bins"
   ]
  },
  {
   "cell_type": "code",
   "execution_count": null,
   "metadata": {},
   "outputs": [],
   "source": [
    "def DESI_elg_bins(nz_bins=1, f_sky=0.3,nside=256,use_window=use_window,mask_start_pix=0,bg1=1,\n",
    "                       l=None,sigma_gamma=0,mag_fact=0,z_bins=None,**kwargs):\n",
    "\n",
    "    home='../desi-lensing-cc/data/'\n",
    "    fname='dNdz'\n",
    "#     t=np.genfromtxt(home+fname,names=True,skip_header=3)\n",
    "    t=np.genfromtxt(home+fname,names=True)\n",
    "    dz=t['z'][1]-t['z'][0]\n",
    "    zmax=max(t['z'])+dz/2\n",
    "    zmin=min(t['z'])-dz/2\n",
    "\n",
    "    z=t['z']\n",
    "    \n",
    "    pz=t['dNdzddeg2']\n",
    "    \n",
    "    ns=np.sum(pz)\n",
    "    ns/=d2r**2 #convert from deg**2 to rd**2\n",
    "\n",
    "    if z_bins is None: #this defines the bin edges if splitting the sample into bins. Preferably pass it as an argument whenusing multiple bins.\n",
    "        z_bins=np.linspace(zmin, min(2,zmax), nz_bins+1)\n",
    "    print(zmin,zmax,z_bins,ns)\n",
    "    return source_tomo_bins(zp=z,p_zp=pz,ns=ns,nz_bins=nz_bins,mag_fact=mag_fact,\n",
    "                            ztrue_func=None,zp_bias=0,\n",
    "                            zp_sigma=0,z_bins=z_bins,f_sky=f_sky,nside=nside,\n",
    "                            use_window=use_window,mask_start_pix=mask_start_pix,bg1=bg1,\n",
    "                            l=l,sigma_gamma=sigma_gamma,**kwargs)"
   ]
  },
  {
   "cell_type": "code",
   "execution_count": null,
   "metadata": {},
   "outputs": [],
   "source": [
    "zl_bin=DESI_elg_bins()"
   ]
  },
  {
   "cell_type": "code",
   "execution_count": null,
   "metadata": {},
   "outputs": [],
   "source": [
    "zl_bin.keys()"
   ]
  },
  {
   "cell_type": "code",
   "execution_count": null,
   "metadata": {},
   "outputs": [],
   "source": [
    "zl_bin[0].keys()"
   ]
  },
  {
   "cell_type": "code",
   "execution_count": null,
   "metadata": {},
   "outputs": [],
   "source": [
    "if use_window:\n",
    "    hp.mollview(zl_bin[0]['window'])"
   ]
  },
  {
   "cell_type": "code",
   "execution_count": null,
   "metadata": {},
   "outputs": [],
   "source": [
    "zl_bin[0]['window']"
   ]
  },
  {
   "cell_type": "code",
   "execution_count": null,
   "metadata": {},
   "outputs": [],
   "source": [
    "window_cl=hp.anafast(zl_bin[0]['window'])\n",
    "plot(window_cl)\n",
    "loglog()"
   ]
  },
  {
   "cell_type": "code",
   "execution_count": null,
   "metadata": {},
   "outputs": [],
   "source": [
    "zs_bin=cmb_bins_here(l=l)# lensing source bin"
   ]
  },
  {
   "cell_type": "raw",
   "metadata": {},
   "source": [
    "import skylens\n",
    "reload(skylens)\n",
    "from skylens import *"
   ]
  },
  {
   "cell_type": "code",
   "execution_count": null,
   "metadata": {},
   "outputs": [],
   "source": [
    "store_win=True"
   ]
  },
  {
   "cell_type": "code",
   "execution_count": null,
   "metadata": {},
   "outputs": [],
   "source": [
    "f_sky=0.35 #FIXME: use the correct value. If you are using window, then this is not very important."
   ]
  },
  {
   "cell_type": "raw",
   "metadata": {},
   "source": [
    "??skylens"
   ]
  },
  {
   "cell_type": "code",
   "execution_count": null,
   "metadata": {},
   "outputs": [],
   "source": [
    "corr_ll=('kappa','kappa')\n",
    "corr_gg=('galaxy','galaxy')\n",
    "corr_gl=('galaxy','kappa')\n",
    "corrs=[corr_ll]#,corr_gg,corr_gl]\n",
    "zl_bin=None"
   ]
  },
  {
   "cell_type": "raw",
   "metadata": {},
   "source": [
    "??Skylens"
   ]
  },
  {
   "cell_type": "code",
   "execution_count": null,
   "metadata": {},
   "outputs": [],
   "source": [
    "client"
   ]
  },
  {
   "cell_type": "code",
   "execution_count": null,
   "metadata": {},
   "outputs": [],
   "source": [
    "#use all ell\n",
    "kappa0=Skylens(zk_bins=zs_bin,do_cov=do_cov,bin_cl=bin_cl,l_bins=l_bins,l=l0, zg_bins=zl_bin,\n",
    "                                       use_window=use_window,Tri_cov=Tri_cov,\n",
    "                                       use_binned_l=use_binned_l,wigner_files=wigner_files,\n",
    "                                       SSV_cov=SSV_cov,tidal_SSV_cov=tidal_SSV_cov,f_sky=f_sky,\n",
    "                                       store_win=store_win,window_lmax=window_lmax,\n",
    "                                       corrs=corrs)"
   ]
  },
  {
   "cell_type": "raw",
   "metadata": {},
   "source": [
    "dask.visualize(kappa0.Win.Win) #cool compute graph is you set store_win=False"
   ]
  },
  {
   "cell_type": "code",
   "execution_count": null,
   "metadata": {},
   "outputs": [],
   "source": [
    "%time cl0G=kappa0.cl_tomo() "
   ]
  },
  {
   "cell_type": "code",
   "execution_count": null,
   "metadata": {},
   "outputs": [],
   "source": [
    "cl0G.keys()"
   ]
  },
  {
   "cell_type": "code",
   "execution_count": null,
   "metadata": {},
   "outputs": [],
   "source": [
    "dask.visualize(cl0G['stack'])"
   ]
  },
  {
   "cell_type": "code",
   "execution_count": null,
   "metadata": {},
   "outputs": [],
   "source": [
    "bi=(0,0) #z_bin indexes\n",
    "plot(cl0G['cl_b'][corr_ll][bi].compute())"
   ]
  },
  {
   "cell_type": "code",
   "execution_count": null,
   "metadata": {},
   "outputs": [],
   "source": [
    "%time cl0=cl0G['stack'].compute()"
   ]
  },
  {
   "cell_type": "code",
   "execution_count": null,
   "metadata": {},
   "outputs": [],
   "source": [
    "cl0"
   ]
  },
  {
   "cell_type": "code",
   "execution_count": null,
   "metadata": {},
   "outputs": [],
   "source": []
  }
 ],
 "metadata": {
  "hide_input": false,
  "kernelspec": {
   "display_name": "Python 3",
   "language": "python",
   "name": "python3"
  }
 },
 "nbformat": 4,
 "nbformat_minor": 2
}
