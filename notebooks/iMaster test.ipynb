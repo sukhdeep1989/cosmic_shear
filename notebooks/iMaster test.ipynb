{
 "cells": [
  {
   "cell_type": "code",
   "execution_count": 1,
   "metadata": {},
   "outputs": [],
   "source": [
    "import sys\n",
    "# import pyccl as ccl\n",
    "import pickle\n",
    "import camb\n",
    "sys.path.insert(0,'../skylens/')\n",
    "# from importlib import reload"
   ]
  },
  {
   "cell_type": "code",
   "execution_count": 2,
   "metadata": {},
   "outputs": [
    {
     "name": "stderr",
     "output_type": "stream",
     "text": [
      "/verafs/scratch/phy200040p/sukhdeep/miniconda3/lib/python3.8/site-packages/distributed/node.py:151: UserWarning: Port 8787 is already in use.\n",
      "Perhaps you already have a cluster running?\n",
      "Hosting the HTTP server on port 38643 instead\n",
      "  warnings.warn(\n"
     ]
    }
   ],
   "source": [
    "from distributed import LocalCluster\n",
    "from dask.distributed import Client  # we already had this above\n",
    "#http://distributed.readthedocs.io/en/latest/_modules/distributed/worker.html\n",
    "c=LocalCluster(n_workers=2,processes=False,memory_limit='25gb',threads_per_worker=4,memory_spill_fraction=.99,\n",
    "               memory_monitor_interval='2000ms')\n",
    "client=Client(c)\n",
    "scheduler_info=client.scheduler_info()"
   ]
  },
  {
   "cell_type": "code",
   "execution_count": 3,
   "metadata": {},
   "outputs": [
    {
     "data": {
      "text/plain": [
       "2"
      ]
     },
     "execution_count": 3,
     "metadata": {},
     "output_type": "execute_result"
    }
   ],
   "source": [
    "len(client.scheduler_info()['workers'])"
   ]
  },
  {
   "cell_type": "code",
   "execution_count": 4,
   "metadata": {},
   "outputs": [],
   "source": [
    "from skylens import *\n",
    "from survey_utils import *"
   ]
  },
  {
   "cell_type": "code",
   "execution_count": 5,
   "metadata": {},
   "outputs": [],
   "source": [
    "#only for python3\n",
    "import importlib\n",
    "reload=importlib.reload"
   ]
  },
  {
   "cell_type": "code",
   "execution_count": 6,
   "metadata": {},
   "outputs": [
    {
     "name": "stdout",
     "output_type": "stream",
     "text": [
      "ns0:  27.0\n"
     ]
    }
   ],
   "source": [
    "zs=lsst_source_tomo_bins()\n",
    "corr_ll=('shear', 'shear')"
   ]
  },
  {
   "cell_type": "code",
   "execution_count": 7,
   "metadata": {},
   "outputs": [],
   "source": [
    "wigner_files={}\n",
    "# wigner_files[0]= '/Users/Deep/dask_temp/dask_wig3j_l3500_w2100_0_reorder.zarr'\n",
    "# wigner_files[2]= '/Users/Deep/dask_temp/dask_wig3j_l3500_w2100_2_reorder.zarr'\n",
    "wig_home='/verafs/scratch/phy200040p/sukhdeep/physics2/skylens/temp/'\n",
    "wigner_files[0]= wig_home+'dask_wig3j_l3500_w2100_0_reorder.zarr'\n",
    "wigner_files[2]= wig_home+'/dask_wig3j_l3500_w2100_2_reorder.zarr'\n"
   ]
  },
  {
   "cell_type": "markdown",
   "metadata": {},
   "source": [
    "# Power Spectrum covariance"
   ]
  },
  {
   "cell_type": "code",
   "execution_count": 8,
   "metadata": {},
   "outputs": [],
   "source": [
    "#setup parameters\n",
    "lmax_cl=2000\n",
    "lmin_cl=0\n",
    "l0=np.arange(lmin_cl,lmax_cl)\n",
    "\n",
    "lmin_cl_Bins=lmin_cl+10\n",
    "lmax_cl_Bins=lmax_cl-1\n",
    "Nl_bins=20\n",
    "l_bins=np.unique(np.int64(np.logspace(np.log10(lmin_cl_Bins),np.log10(lmax_cl_Bins),Nl_bins)))\n",
    "l_bins=np.append(0,l_bins)\n",
    "lb=np.sqrt(l_bins[1:]*l_bins[:-1])\n",
    "\n",
    "l=np.unique(np.int64(np.logspace(np.log10(lmin_cl+0.01),np.log10(lmax_cl),Nl_bins*20))) #if we want to use fewer ell\n",
    "\n",
    "do_cov=True\n",
    "bin_cl=True\n",
    "\n",
    "SSV_cov=False\n",
    "tidal_SSV_cov=False\n",
    "Tri_cov=False"
   ]
  },
  {
   "cell_type": "code",
   "execution_count": 9,
   "metadata": {},
   "outputs": [
    {
     "data": {
      "text/plain": [
       "(array([   0,   10,   13,   17,   23,   30,   40,   53,   70,   93,  122,\n",
       "         162,  214,  283,  375,  495,  655,  866, 1144, 1512, 1998]),\n",
       " (21,))"
      ]
     },
     "execution_count": 9,
     "metadata": {},
     "output_type": "execute_result"
    }
   ],
   "source": [
    "l_bins,l_bins.shape"
   ]
  },
  {
   "cell_type": "code",
   "execution_count": 103,
   "metadata": {},
   "outputs": [],
   "source": [
    "??hankel_transform"
   ]
  },
  {
   "cell_type": "code",
   "execution_count": 10,
   "metadata": {},
   "outputs": [
    {
     "name": "stderr",
     "output_type": "stream",
     "text": [
      "/verafs/scratch/phy200040p/sukhdeep/miniconda3/lib/python3.8/site-packages/skylens-0.1-py3.8.egg/skylens/wigner_functions.py:46: RuntimeWarning: invalid value encountered in true_divide\n",
      "/verafs/scratch/phy200040p/sukhdeep/miniconda3/lib/python3.8/site-packages/skylens-0.1-py3.8.egg/skylens/wigner_functions.py:46: RuntimeWarning: divide by zero encountered in true_divide\n"
     ]
    }
   ],
   "source": [
    "xi_win_approx=True\n",
    "do_xi=True\n",
    "bin_xi=True\n",
    "bin_cl=True\n",
    "th_min=25/60\n",
    "th_max=250./60\n",
    "n_th_bins=20\n",
    "th_bins=np.logspace(np.log10(th_min),np.log10(th_max),n_th_bins+1)\n",
    "th=np.logspace(np.log10(th_min),np.log10(th_max),n_th_bins*40)\n",
    "thb=np.sqrt(th_bins[1:]*th_bins[:-1])\n",
    "\n",
    "#Hankel Transform setup\n",
    "WT_kwargs={'l':l0,'theta':th*d2r,'s1_s2':[(2,2),(2,-2),(0,0),(0,2)]}\n",
    "WT=wigner_transform(**WT_kwargs)"
   ]
  },
  {
   "cell_type": "code",
   "execution_count": 11,
   "metadata": {},
   "outputs": [],
   "source": [
    "nside=64\n",
    "window_lmax=nside*3-1"
   ]
  },
  {
   "cell_type": "code",
   "execution_count": 12,
   "metadata": {},
   "outputs": [],
   "source": [
    "use_window=True\n",
    "do_cov=True"
   ]
  },
  {
   "cell_type": "code",
   "execution_count": 13,
   "metadata": {},
   "outputs": [],
   "source": [
    "f_sky=0.3"
   ]
  },
  {
   "cell_type": "code",
   "execution_count": 14,
   "metadata": {},
   "outputs": [],
   "source": [
    "unit_window=True"
   ]
  },
  {
   "cell_type": "code",
   "execution_count": 15,
   "metadata": {
    "scrolled": true
   },
   "outputs": [
    {
     "name": "stderr",
     "output_type": "stream",
     "text": [
      "/verafs/scratch/phy200040p/sukhdeep/miniconda3/lib/python3.8/site-packages/skylens-0.1-py3.8.egg/skylens/cov_utils.py:74: RuntimeWarning: invalid value encountered in true_divide\n",
      "/verafs/scratch/phy200040p/sukhdeep/miniconda3/lib/python3.8/site-packages/skylens-0.1-py3.8.egg/skylens/angular_power_spectra.py:26: RuntimeWarning: divide by zero encountered in true_divide\n"
     ]
    },
    {
     "name": "stdout",
     "output_type": "stream",
     "text": [
      "Win gen: step size 192 True False 191 31.0\n",
      "Window done. Size: 1.6e-05\n"
     ]
    },
    {
     "name": "stderr",
     "output_type": "stream",
     "text": [
      "../skylens/survey_utils.py:126: RuntimeWarning: invalid value encountered in sqrt\n",
      "  cl_map_noise=np.sqrt(cl_map)\n"
     ]
    }
   ],
   "source": [
    "z0=1 #1087\n",
    "zs_bin1=source_tomo_bins(zp=[z0],p_zp=np.array([1]),ns=30,use_window=use_window,nside=nside,unit_win=unit_window,f_sky=f_sky,use_shot_noise=False)"
   ]
  },
  {
   "cell_type": "code",
   "execution_count": 16,
   "metadata": {},
   "outputs": [
    {
     "name": "stderr",
     "output_type": "stream",
     "text": [
      "/verafs/scratch/phy200040p/sukhdeep/miniconda3/lib/python3.8/site-packages/healpy/projaxes.py:920: MatplotlibDeprecationWarning: You are modifying the state of a globally registered colormap. In future versions, you will not be able to modify a registered colormap in-place. To remove this warning, you can make a copy of the colormap first. cmap = copy.copy(mpl.cm.get_cmap(\"viridis\"))\n",
      "  newcm.set_over(newcm(1.0))\n",
      "/verafs/scratch/phy200040p/sukhdeep/miniconda3/lib/python3.8/site-packages/healpy/projaxes.py:921: MatplotlibDeprecationWarning: You are modifying the state of a globally registered colormap. In future versions, you will not be able to modify a registered colormap in-place. To remove this warning, you can make a copy of the colormap first. cmap = copy.copy(mpl.cm.get_cmap(\"viridis\"))\n",
      "  newcm.set_under(bgcolor)\n",
      "/verafs/scratch/phy200040p/sukhdeep/miniconda3/lib/python3.8/site-packages/healpy/projaxes.py:922: MatplotlibDeprecationWarning: You are modifying the state of a globally registered colormap. In future versions, you will not be able to modify a registered colormap in-place. To remove this warning, you can make a copy of the colormap first. cmap = copy.copy(mpl.cm.get_cmap(\"viridis\"))\n",
      "  newcm.set_bad(badcolor)\n",
      "/verafs/scratch/phy200040p/sukhdeep/miniconda3/lib/python3.8/site-packages/healpy/projaxes.py:202: MatplotlibDeprecationWarning: Passing parameters norm and vmin/vmax simultaneously is deprecated since 3.3 and will become an error two minor releases later. Please pass vmin/vmax directly to the norm when creating it.\n",
      "  aximg = self.imshow(\n"
     ]
    },
    {
     "data": {
      "image/png": "[encoded data removed]",
      "text/plain": [
       "<Figure size 850x540 with 2 Axes>"
      ]
     },
     "metadata": {},
     "output_type": "display_data"
    }
   ],
   "source": [
    "hp.mollview(zs_bin1[0]['window'])"
   ]
  },
  {
   "cell_type": "code",
   "execution_count": 17,
   "metadata": {},
   "outputs": [],
   "source": [
    "store_win=True"
   ]
  },
  {
   "cell_type": "code",
   "execution_count": 18,
   "metadata": {},
   "outputs": [],
   "source": [
    "do_pseudo_cl=True"
   ]
  },
  {
   "cell_type": "code",
   "execution_count": 19,
   "metadata": {},
   "outputs": [],
   "source": [
    "import skylens\n",
    "reload(skylens)\n",
    "from skylens import *"
   ]
  },
  {
   "cell_type": "code",
   "execution_count": 20,
   "metadata": {},
   "outputs": [],
   "source": [
    "#use all ell\n",
    "\n",
    "#no window, c_ell\n",
    "use_binned_l=False\n",
    "kappa00=Skylens(zs_bins=zs_bin1,do_cov=do_cov,bin_cl=bin_cl,l_bins=l_bins,l=l0, zg_bins=None,\n",
    "                                       use_window=False,Tri_cov=Tri_cov,\n",
    "                                       use_binned_l=use_binned_l,wigner_files=wigner_files,\n",
    "                                       SSV_cov=SSV_cov,tidal_SSV_cov=tidal_SSV_cov,f_sky=f_sky,\n",
    "                                       store_win=store_win,window_lmax=window_lmax,\n",
    "                                       sparse_cov=False,scheduler_info=scheduler_info,\n",
    "                                        do_xi=do_xi,bin_xi=bin_xi,theta_bins=th_bins,WT=WT,\n",
    "                                        xi_win_approx=xi_win_approx\n",
    "                                       )"
   ]
  },
  {
   "cell_type": "code",
   "execution_count": 21,
   "metadata": {},
   "outputs": [
    {
     "name": "stderr",
     "output_type": "stream",
     "text": [
      "/verafs/scratch/phy200040p/sukhdeep/miniconda3/lib/python3.8/site-packages/skylens-0.1-py3.8.egg/skylens/window_utils.py:267: RuntimeWarning: invalid value encountered in sqrt\n",
      "  map1=np.sqrt(z_bin1['window'])\n"
     ]
    }
   ],
   "source": [
    "#use all ell\n",
    "use_binned_l=False\n",
    "\n",
    "#with windows, full binnning\n",
    "kappa0=Skylens(zs_bins=zs_bin1,do_cov=do_cov,bin_cl=bin_cl,l_bins=l_bins,l=l0, zg_bins=None,\n",
    "                                       use_window=use_window,Tri_cov=Tri_cov,\n",
    "                                       use_binned_l=use_binned_l,wigner_files=wigner_files,\n",
    "                                       SSV_cov=SSV_cov,tidal_SSV_cov=tidal_SSV_cov,f_sky=f_sky,\n",
    "                                       store_win=store_win,window_lmax=window_lmax,\n",
    "                                       scheduler_info=scheduler_info,\n",
    "                                       sparse_cov=False,\n",
    "                                        do_xi=do_xi,bin_xi=bin_xi,theta_bins=th_bins,WT=WT,\n",
    "                                        xi_win_approx=xi_win_approx\n",
    "\n",
    "                                       )"
   ]
  },
  {
   "cell_type": "code",
   "execution_count": 22,
   "metadata": {},
   "outputs": [
    {
     "name": "stderr",
     "output_type": "stream",
     "text": [
      "/verafs/scratch/phy200040p/sukhdeep/miniconda3/lib/python3.8/site-packages/skylens-0.1-py3.8.egg/skylens/wigner_functions.py:46: RuntimeWarning: invalid value encountered in true_divide\n",
      "/verafs/scratch/phy200040p/sukhdeep/miniconda3/lib/python3.8/site-packages/skylens-0.1-py3.8.egg/skylens/wigner_functions.py:46: RuntimeWarning: divide by zero encountered in true_divide\n",
      "/verafs/scratch/phy200040p/sukhdeep/miniconda3/lib/python3.8/site-packages/skylens-0.1-py3.8.egg/skylens/window_utils.py:655: RuntimeWarning: invalid value encountered in sqrt\n",
      "  bin_wt_xi1324['wt_b']=1./np.sqrt(bin_wt_xi['xi_b12']*bin_wt_xi['xi_b34'])\n"
     ]
    }
   ],
   "source": [
    "use_binned_l=True\n",
    "use_binned_theta=True\n",
    "#with window, iMaster.\n",
    "kappa_b=Skylens(zs_bins=zs_bin1,do_cov=do_cov,bin_cl=bin_cl,l_bins=l_bins,l=l0, zg_bins=None,\n",
    "                use_window=use_window,Tri_cov=Tri_cov,\n",
    "                use_binned_l=use_binned_l,wigner_files=wigner_files,\n",
    "                SSV_cov=SSV_cov,tidal_SSV_cov=tidal_SSV_cov,f_sky=f_sky,\n",
    "                store_win=store_win,window_lmax=window_lmax,\n",
    "                scheduler_info=scheduler_info,\n",
    "                sparse_cov=False,use_binned_theta=use_binned_theta,\n",
    "                do_xi=do_xi,bin_xi=bin_xi,theta_bins=th_bins,WT=WT,\n",
    "                xi_win_approx=xi_win_approx\n",
    "            )\n",
    "use_binned_l=False\n",
    "use_binned_theta=False\n"
   ]
  },
  {
   "cell_type": "code",
   "execution_count": 23,
   "metadata": {},
   "outputs": [],
   "source": [
    "bi=(0,0)"
   ]
  },
  {
   "cell_type": "code",
   "execution_count": 24,
   "metadata": {},
   "outputs": [],
   "source": [
    "dl=l_bins[1:]-l_bins[:-1]"
   ]
  },
  {
   "cell_type": "code",
   "execution_count": 25,
   "metadata": {},
   "outputs": [
    {
     "data": {
      "text/plain": [
       "array([   0,   10,   13,   17,   23,   30,   40,   53,   70,   93,  122,\n",
       "        162,  214,  283,  375,  495,  655,  866, 1144, 1512, 1998])"
      ]
     },
     "execution_count": 25,
     "metadata": {},
     "output_type": "execute_result"
    }
   ],
   "source": [
    "kappa0.l_bins"
   ]
  },
  {
   "cell_type": "code",
   "execution_count": 26,
   "metadata": {},
   "outputs": [],
   "source": [
    "logging.getLogger('matplotlib').setLevel(logging.ERROR)"
   ]
  },
  {
   "cell_type": "raw",
   "metadata": {},
   "source": [
    "import matplotlib\n",
    "from matplotlib import rc\n",
    "rc('text', usetex=False) \n",
    "logging.getLogger('matplotlib').setLevel(logging.ERROR)"
   ]
  },
  {
   "cell_type": "raw",
   "metadata": {},
   "source": [
    "%matplotlib inline\n",
    "matplotlib.use('SVG')   # generate postscript output by default\n",
    "# %matplotlib inline"
   ]
  },
  {
   "cell_type": "code",
   "execution_count": 27,
   "metadata": {},
   "outputs": [],
   "source": [
    "%time cl00G=kappa00.cl_tomo() \n",
    "%time cl0G=kappa0.cl_tomo() \n",
    "%time clbG=kappa_b.cl_tomo() "
   ]
  },
  {
   "cell_type": "code",
   "execution_count": 28,
   "metadata": {},
   "outputs": [],
   "source": [
    "cl00=client.compute(cl00G['stack']).result()\n",
    "cl0=client.compute(cl0G['stack']).result()\n",
    "clb=client.compute(clbG['stack']).result()"
   ]
  },
  {
   "cell_type": "code",
   "execution_count": 29,
   "metadata": {},
   "outputs": [
    {
     "data": {
      "image/png": "[encoded data removed]",
      "text/plain": [
       "<Figure size 1500x1125 with 1 Axes>"
      ]
     },
     "metadata": {},
     "output_type": "display_data"
    }
   ],
   "source": [
    "plot(cl0['pcl_b'])\n",
    "plot(clb['pcl_b'])\n",
    "plot(cl00['pcl_b'])\n",
    "loglog()\n",
    "show()"
   ]
  },
  {
   "cell_type": "code",
   "execution_count": 30,
   "metadata": {},
   "outputs": [
    {
     "data": {
      "text/plain": [
       "array([1.0603468 , 0.8656048 , 0.9911963 , 1.0507231 , 1.01452127,\n",
       "       1.05362722, 1.04622695, 1.04924424, 1.05700621, 1.05453181,\n",
       "       1.07205961, 1.062249  , 1.01815772, 1.01068429, 1.00676183,\n",
       "       1.00512409, 1.00365744, 1.00281429, 1.00228239, 1.00214585])"
      ]
     },
     "execution_count": 30,
     "metadata": {},
     "output_type": "execute_result"
    }
   ],
   "source": [
    "clb['pcl_b']/cl0['pcl_b']"
   ]
  },
  {
   "cell_type": "code",
   "execution_count": 31,
   "metadata": {},
   "outputs": [
    {
     "data": {
      "text/plain": [
       "array([3.71944038, 4.43805617, 3.8433682 , 3.6006983 , 3.70981948,\n",
       "       3.55833678, 3.57382294, 3.55839084, 3.52993936, 3.53611735,\n",
       "       3.47630416, 3.5189048 , 3.69401676, 3.72883378, 3.74658387,\n",
       "       3.75424755, 3.76051845, 3.76407591, 3.76627785, 3.7706988 ])"
      ]
     },
     "execution_count": 31,
     "metadata": {},
     "output_type": "execute_result"
    }
   ],
   "source": [
    "cl00['pcl_b']/clb['pcl_b'] #~4pi fsky."
   ]
  },
  {
   "cell_type": "code",
   "execution_count": 32,
   "metadata": {},
   "outputs": [
    {
     "name": "stderr",
     "output_type": "stream",
     "text": [
      "<ipython-input-32-156bccaf4f69>:1: RuntimeWarning: invalid value encountered in true_divide\n",
      "  np.diag(clb['cov']/cl0['cov'])\n"
     ]
    },
    {
     "data": {
      "text/plain": [
       "array([1.27697979, 0.60203561, 0.88350314, 1.08361712, 0.93708133,\n",
       "       0.99180803, 1.00206752, 0.97224901, 1.00013707, 0.94968873,\n",
       "       0.97901822, 0.97358038, 0.97450727, 0.97782371, 0.97065012,\n",
       "       0.98088093, 0.97944729, 0.97667745, 0.97892001, 1.13423284])"
      ]
     },
     "execution_count": 32,
     "metadata": {},
     "output_type": "execute_result"
    }
   ],
   "source": [
    "np.diag(clb['cov']/cl0['cov'])"
   ]
  },
  {
   "cell_type": "code",
   "execution_count": 33,
   "metadata": {},
   "outputs": [],
   "source": [
    "def corr_matrix(cov=[]):\n",
    "    err=np.sqrt(np.diag(cov))\n",
    "    corr=cov/np.outer(err,err)\n",
    "    return corr"
   ]
  },
  {
   "cell_type": "code",
   "execution_count": 34,
   "metadata": {},
   "outputs": [
    {
     "data": {
      "image/png": "[encoded data removed]",
      "text/plain": [
       "<Figure size 1500x1125 with 1 Axes>"
      ]
     },
     "metadata": {},
     "output_type": "display_data"
    }
   ],
   "source": [
    "pcolor(corr_matrix(clb['cov']))\n",
    "plt.show()"
   ]
  },
  {
   "cell_type": "code",
   "execution_count": 35,
   "metadata": {},
   "outputs": [
    {
     "data": {
      "text/plain": [
       "<matplotlib.collections.PolyCollection at 0x7f0b041829a0>"
      ]
     },
     "execution_count": 35,
     "metadata": {},
     "output_type": "execute_result"
    },
    {
     "data": {
      "image/png": "[encoded data removed]",
      "text/plain": [
       "<Figure size 1500x1125 with 1 Axes>"
      ]
     },
     "metadata": {},
     "output_type": "display_data"
    }
   ],
   "source": [
    "pcolor(corr_matrix(cl0['cov']))"
   ]
  },
  {
   "cell_type": "code",
   "execution_count": 36,
   "metadata": {},
   "outputs": [
    {
     "name": "stderr",
     "output_type": "stream",
     "text": [
      "<ipython-input-36-57a6f7b9c0bb>:1: RuntimeWarning: invalid value encountered in true_divide\n",
      "  np.diag(cl00['cov']/cl0['cov'])\n"
     ]
    },
    {
     "data": {
      "text/plain": [
       "array([  19.95979562,   38.47940157,   46.32147999,   56.39761354,\n",
       "         72.69789774,   91.1242227 ,  117.52659231,  151.7084688 ,\n",
       "        196.59332251,  255.81568341,  332.52633799,  436.44870517,\n",
       "        572.20440596,  753.0846382 ,  991.95032339, 1306.60125445,\n",
       "       1723.63625739, 2272.3313138 , 2995.09723461, 3948.24445638])"
      ]
     },
     "execution_count": 36,
     "metadata": {},
     "output_type": "execute_result"
    }
   ],
   "source": [
    "np.diag(cl00['cov']/cl0['cov'])"
   ]
  },
  {
   "cell_type": "code",
   "execution_count": 37,
   "metadata": {},
   "outputs": [
    {
     "data": {
      "text/plain": [
       "array([2.37807715e+00, 1.57708443e-01, 1.22294993e-01, 9.27705819e-02,\n",
       "       7.03672388e-02, 5.36272459e-02, 4.04981987e-02, 3.06942984e-02,\n",
       "       2.32152436e-02, 1.76060254e-02, 1.33494371e-02, 1.00890514e-02,\n",
       "       7.63792232e-03, 5.77384377e-03, 4.36819685e-03, 3.30661912e-03,\n",
       "       2.50063358e-03, 1.89240545e-03, 1.43212037e-03, 1.08337860e-03])"
      ]
     },
     "execution_count": 37,
     "metadata": {},
     "output_type": "execute_result"
    }
   ],
   "source": [
    "2*cl00['pcl_b']**2/np.diag(cl00['cov'])/(2*lb+1)/dl"
   ]
  },
  {
   "cell_type": "code",
   "execution_count": 38,
   "metadata": {},
   "outputs": [],
   "source": [
    "%time xi00G=kappa00.xi_tomo() \n",
    "%time xi0G=kappa0.xi_tomo()  "
   ]
  },
  {
   "cell_type": "code",
   "execution_count": 39,
   "metadata": {},
   "outputs": [],
   "source": [
    "%time xibG=kappa_b.xi_tomo()"
   ]
  },
  {
   "cell_type": "code",
   "execution_count": 40,
   "metadata": {},
   "outputs": [],
   "source": [
    "xi00=client.compute(xi00G['stack']).result()\n",
    "xi0=client.compute(xi0G['stack']).result()\n",
    "xib=client.compute(xibG['stack']).result()"
   ]
  },
  {
   "cell_type": "code",
   "execution_count": 41,
   "metadata": {},
   "outputs": [
    {
     "data": {
      "text/plain": [
       "(20, 20)"
      ]
     },
     "execution_count": 41,
     "metadata": {},
     "output_type": "execute_result"
    }
   ],
   "source": [
    "kappa_b.WT_binned[corr_ll][(2,2)][bi].shape"
   ]
  },
  {
   "cell_type": "code",
   "execution_count": 42,
   "metadata": {},
   "outputs": [
    {
     "data": {
      "text/plain": [
       "[]"
      ]
     },
     "execution_count": 42,
     "metadata": {},
     "output_type": "execute_result"
    },
    {
     "data": {
      "image/png": "[encoded data removed]",
      "text/plain": [
       "<Figure size 1500x1125 with 1 Axes>"
      ]
     },
     "metadata": {},
     "output_type": "display_data"
    }
   ],
   "source": [
    "plot(thb,xi00['xi'][0:20])\n",
    "plot(thb,xi0['xi'][0:20])\n",
    "plot(thb,xib['xi'][0:20],'--')\n",
    "loglog()"
   ]
  },
  {
   "cell_type": "code",
   "execution_count": 43,
   "metadata": {},
   "outputs": [
    {
     "data": {
      "text/plain": [
       "[<matplotlib.lines.Line2D at 0x7f0b042daa90>]"
      ]
     },
     "execution_count": 43,
     "metadata": {},
     "output_type": "execute_result"
    },
    {
     "data": {
      "image/png": "[encoded data removed]",
      "text/plain": [
       "<Figure size 1500x1125 with 1 Axes>"
      ]
     },
     "metadata": {},
     "output_type": "display_data"
    }
   ],
   "source": [
    "plot(thb,xi00['xi'][20:])\n",
    "plot(thb,xi0['xi'][20:])\n",
    "plot(thb,xib['xi'][20:],'--')"
   ]
  },
  {
   "cell_type": "code",
   "execution_count": 44,
   "metadata": {},
   "outputs": [
    {
     "data": {
      "text/plain": [
       "array([1.83757557e-05, 1.46391749e-05, 1.34611849e-05, 1.27521325e-05,\n",
       "       1.01793066e-05, 9.79887263e-06, 7.87145484e-06, 7.22250101e-06,\n",
       "       6.08149249e-06, 5.06485485e-06, 4.30683027e-06, 3.61304238e-06,\n",
       "       2.99719600e-06, 2.45626137e-06, 1.93572015e-06, 1.58700246e-06,\n",
       "       1.23005749e-06, 9.66682591e-07, 7.43302299e-07, 5.41469048e-07,\n",
       "       1.10742515e-05, 8.28518853e-06, 8.66983278e-06, 8.31234786e-06,\n",
       "       6.72219996e-06, 7.09940092e-06, 5.89384206e-06, 5.85947485e-06,\n",
       "       5.37401260e-06, 4.85717125e-06, 4.54694814e-06, 4.24142401e-06,\n",
       "       3.94180446e-06, 3.64479896e-06, 3.30826289e-06, 3.08393625e-06,\n",
       "       2.79254218e-06, 2.54411907e-06, 2.29825598e-06, 2.04951888e-06])"
      ]
     },
     "execution_count": 44,
     "metadata": {},
     "output_type": "execute_result"
    }
   ],
   "source": [
    "xi0['xi']"
   ]
  },
  {
   "cell_type": "code",
   "execution_count": 45,
   "metadata": {},
   "outputs": [
    {
     "data": {
      "text/plain": [
       "array([1.0005164 , 1.00088904, 0.99877379, 1.00064548, 0.99987394,\n",
       "       0.99993361, 0.99981958, 1.00071432, 0.99914192, 0.99978529,\n",
       "       1.00023531, 1.00001488, 0.99975248, 1.00042746, 1.00048968,\n",
       "       0.99951735, 0.99933982, 0.99995914, 1.00074369, 0.99999155,\n",
       "       1.00160288, 1.00069208, 0.99804318, 1.00149726, 0.99917695,\n",
       "       1.00037473, 0.99935446, 1.00108071, 0.99909228, 0.99964762,\n",
       "       1.00017561, 1.0000134 , 0.99984494, 1.00033806, 1.00022085,\n",
       "       0.99980586, 0.99968439, 0.9999812 , 1.00025345, 0.9999689 ])"
      ]
     },
     "execution_count": 45,
     "metadata": {},
     "output_type": "execute_result"
    }
   ],
   "source": [
    "xib['xi']/xi0['xi']"
   ]
  },
  {
   "cell_type": "code",
   "execution_count": 46,
   "metadata": {},
   "outputs": [
    {
     "data": {
      "text/plain": [
       "array([1.00052106, 1.00089656, 0.99877233, 1.00065546, 0.99988084,\n",
       "       0.99994207, 0.99982947, 1.00073866, 0.99914163, 0.99979981,\n",
       "       1.00026906, 1.00005345, 0.99978786, 1.00045472, 1.00052665,\n",
       "       0.99956059, 0.99938358, 1.00002434, 1.00081334, 1.00009018,\n",
       "       1.00161079, 1.00069804, 0.9980367 , 1.00151077, 0.99917549,\n",
       "       1.00038361, 0.9993533 , 1.00110373, 0.99908234, 0.99964776,\n",
       "       1.00019397, 1.00003443, 0.99986093, 1.00034693, 1.00023465,\n",
       "       0.99982241, 0.99969998, 1.00000593, 1.00028033, 1.00000355])"
      ]
     },
     "execution_count": 46,
     "metadata": {},
     "output_type": "execute_result"
    }
   ],
   "source": [
    "xib['xi']/xi00['xi']"
   ]
  },
  {
   "cell_type": "code",
   "execution_count": 47,
   "metadata": {},
   "outputs": [
    {
     "data": {
      "text/plain": [
       "array([1.00000466, 1.0000075 , 0.99999854, 1.00000997, 1.0000069 ,\n",
       "       1.00000845, 1.00000989, 1.00002433, 0.9999997 , 1.00001452,\n",
       "       1.00003374, 1.00003858, 1.00003539, 1.00002725, 1.00003695,\n",
       "       1.00004326, 1.00004379, 1.0000652 , 1.0000696 , 1.00009862,\n",
       "       1.0000079 , 1.00000595, 0.9999935 , 1.00001349, 0.99999853,\n",
       "       1.00000887, 0.99999884, 1.000023  , 0.99999005, 1.00000015,\n",
       "       1.00001836, 1.00002103, 1.00001599, 1.00000887, 1.0000138 ,\n",
       "       1.00001655, 1.0000156 , 1.00002474, 1.00002687, 1.00003465])"
      ]
     },
     "execution_count": 47,
     "metadata": {},
     "output_type": "execute_result"
    }
   ],
   "source": [
    "xi0['xi']/xi00['xi']"
   ]
  },
  {
   "cell_type": "code",
   "execution_count": 48,
   "metadata": {},
   "outputs": [
    {
     "data": {
      "text/plain": [
       "array([1.00175525, 1.00189977, 1.00211116, 1.00241567, 1.00284359,\n",
       "       1.00342655, 1.00419063, 1.00514542, 1.00627179, 1.00751516,\n",
       "       1.00879555, 1.01004134, 1.01123416, 1.01242996, 1.01373822,\n",
       "       1.01530076, 1.01727088, 1.01966072, 1.02223612, 1.02487133,\n",
       "       1.00175274, 1.00189713, 1.0021075 , 1.00241148, 1.0028388 ,\n",
       "       1.00342097, 1.00418413, 1.00513785, 1.00626301, 1.00750486,\n",
       "       1.00878334, 1.01002701, 1.01121767, 1.01241123, 1.01371687,\n",
       "       1.01527655, 1.01724406, 1.01963115, 1.02220335, 1.0248364 ])"
      ]
     },
     "execution_count": 48,
     "metadata": {},
     "output_type": "execute_result"
    }
   ],
   "source": [
    "np.diag(xi0['cov']/xi00['cov'])"
   ]
  },
  {
   "cell_type": "code",
   "execution_count": 49,
   "metadata": {},
   "outputs": [
    {
     "data": {
      "text/plain": [
       "array([6.08212621e+07, 3.62647906e+07, 5.03309308e+07, 4.39950075e+07,\n",
       "       3.25386119e+07, 7.11227104e+07, 2.76114281e+07, 3.46527459e+07,\n",
       "       1.36238396e+08, 5.07033524e+07, 2.18774901e+07, 4.12844238e+07,\n",
       "       4.05111654e+07, 4.34130730e+07, 6.36530242e+06, 2.93858844e+06,\n",
       "       1.15423018e+06, 3.97359424e+05, 6.39433576e+05, 1.99343928e+05,\n",
       "       1.10506690e+08, 5.52588895e+07, 7.23857710e+07, 8.05754529e+07,\n",
       "       5.06516180e+07, 6.94669377e+07, 5.11587058e+07, 6.12875676e+07,\n",
       "       5.35298704e+07, 5.06024573e+07, 5.48179932e+07, 4.83985795e+07,\n",
       "       4.90346587e+07, 4.90452102e+07, 4.08709419e+07, 3.66387983e+07,\n",
       "       6.52080472e+07, 1.26670674e+07, 1.62214083e+07, 1.22383437e+07])"
      ]
     },
     "execution_count": 49,
     "metadata": {},
     "output_type": "execute_result"
    }
   ],
   "source": [
    "np.diag(xib['cov']/xi00['cov'])"
   ]
  },
  {
   "cell_type": "code",
   "execution_count": 50,
   "metadata": {},
   "outputs": [
    {
     "data": {
      "text/plain": [
       "array([0.26448361, 0.26438438, 0.26426367, 0.26411719, 0.26394107,\n",
       "       0.26373168, 0.26348612, 0.26320283, 0.26288219, 0.26252684,\n",
       "       0.26214133, 0.26173033, 0.26129517, 0.26082906, 0.26031359,\n",
       "       0.25972134, 0.25902853, 0.25823258, 0.25735323, 0.25640507])"
      ]
     },
     "execution_count": 50,
     "metadata": {},
     "output_type": "execute_result"
    }
   ],
   "source": [
    "kappa0.Win.Win['cl'][corr_ll][bi]['xi_b']"
   ]
  },
  {
   "cell_type": "code",
   "execution_count": 51,
   "metadata": {},
   "outputs": [
    {
     "data": {
      "text/plain": [
       "array([0.26448361, 0.26438438, 0.26426367, 0.26411719, 0.26394107,\n",
       "       0.26373168, 0.26348612, 0.26320283, 0.26288219, 0.26252684,\n",
       "       0.26214133, 0.26173033, 0.26129517, 0.26082906, 0.26031359,\n",
       "       0.25972134, 0.25902853, 0.25823258, 0.25735323, 0.25640507])"
      ]
     },
     "execution_count": 51,
     "metadata": {},
     "output_type": "execute_result"
    }
   ],
   "source": [
    "kappa_b.Win.Win['cl'][corr_ll][bi]['xi_b']"
   ]
  },
  {
   "cell_type": "code",
   "execution_count": 52,
   "metadata": {},
   "outputs": [
    {
     "data": {
      "text/plain": [
       "array([1.24515718e-05, 1.24107123e-05, 1.23671631e-05, 1.23209548e-05,\n",
       "       1.22721229e-05, 1.22207074e-05, 1.21667532e-05, 1.21103094e-05,\n",
       "       1.20514301e-05, 1.19901739e-05, 1.19266037e-05, 1.18607872e-05,\n",
       "       1.17927963e-05, 1.17227071e-05, 1.16506004e-05, 1.15765607e-05,\n",
       "       1.15006768e-05, 1.14230414e-05, 1.13437511e-05, 1.12629060e-05,\n",
       "       1.11806100e-05, 1.10969702e-05, 1.10120971e-05, 1.09261043e-05,\n",
       "       1.08391080e-05, 1.07512276e-05, 1.06625847e-05, 1.05733032e-05,\n",
       "       1.04835094e-05, 1.03933311e-05, 1.03028980e-05, 1.02123412e-05,\n",
       "       1.01217930e-05, 1.00313865e-05, 9.94125551e-06, 9.85153439e-06,\n",
       "       9.76235749e-06, 9.67385907e-06, 9.58617297e-06, 9.49943232e-06,\n",
       "       9.41376930e-06, 9.32931477e-06, 9.24619806e-06, 9.16454660e-06,\n",
       "       9.08448569e-06, 9.00613815e-06, 8.92962406e-06, 8.85506045e-06,\n",
       "       8.78256100e-06, 8.71223576e-06, 8.64419084e-06, 8.57852815e-06,\n",
       "       8.51534511e-06, 8.45473436e-06, 8.39678351e-06, 8.34157488e-06,\n",
       "       8.28918520e-06, 8.23968544e-06, 8.19314050e-06, 8.14960902e-06,\n",
       "       8.10914317e-06, 8.07178843e-06, 8.03758341e-06, 8.00655965e-06,\n",
       "       7.97874148e-06, 7.95414589e-06, 7.93278234e-06, 7.91465270e-06,\n",
       "       7.89975112e-06, 7.88806397e-06, 7.87956976e-06, 7.87423911e-06,\n",
       "       7.87203472e-06, 7.87291138e-06, 7.87681596e-06, 7.88368750e-06,\n",
       "       7.89345721e-06, 7.90604862e-06, 7.92137761e-06, 7.93935263e-06,\n",
       "       7.95987476e-06, 7.98283795e-06, 8.00812918e-06, 8.03562870e-06,\n",
       "       8.06521029e-06, 8.09674146e-06, 8.13008382e-06, 8.16509334e-06,\n",
       "       8.20162069e-06, 8.23951160e-06, 8.27860725e-06, 8.31874462e-06,\n",
       "       8.35975697e-06, 8.40147420e-06, 8.44372335e-06, 8.48632905e-06,\n",
       "       8.52911402e-06, 8.57189952e-06, 8.61450592e-06, 8.65675320e-06,\n",
       "       8.69846145e-06, 8.73945148e-06, 8.77954531e-06, 8.81856675e-06,\n",
       "       8.85634198e-06, 8.89270007e-06, 8.92747358e-06, 8.96049914e-06,\n",
       "       8.99161794e-06, 9.02067636e-06, 9.04752651e-06, 9.07202670e-06,\n",
       "       9.09404208e-06, 9.11344507e-06, 9.13011591e-06, 9.14394311e-06,\n",
       "       9.15482395e-06, 9.16266492e-06, 9.16738212e-06, 9.16890168e-06,\n",
       "       9.16716011e-06, 9.16210465e-06, 9.15369360e-06, 9.14189655e-06,\n",
       "       9.12669465e-06, 9.10808083e-06, 9.08605991e-06, 9.06064879e-06,\n",
       "       9.03187649e-06, 8.99978421e-06, 8.96442535e-06, 8.92586540e-06,\n",
       "       8.88418192e-06, 8.83946436e-06, 8.79181388e-06, 8.74134313e-06,\n",
       "       8.68817596e-06, 8.63244709e-06, 8.57430176e-06, 8.51389525e-06,\n",
       "       8.45139248e-06, 8.38696745e-06, 8.32080269e-06, 8.25308867e-06,\n",
       "       8.18402313e-06, 8.11381042e-06, 8.04266075e-06, 7.97078944e-06,\n",
       "       7.89841614e-06, 7.82576397e-06, 7.75305869e-06, 7.68052778e-06,\n",
       "       7.60839959e-06, 7.53690237e-06, 7.46626332e-06, 7.39670767e-06,\n",
       "       7.32845770e-06, 7.26173177e-06, 7.19674333e-06, 7.13370000e-06,\n",
       "       7.07280257e-06, 7.01424408e-06, 6.95820889e-06, 6.90487175e-06,\n",
       "       6.85439694e-06, 6.80693745e-06, 6.76263409e-06, 6.72161481e-06,\n",
       "       6.68399388e-06, 6.64987128e-06, 6.61933207e-06, 6.59244578e-06,\n",
       "       6.56926594e-06, 6.54982963e-06, 6.53415713e-06, 6.52225157e-06,\n",
       "       6.51409880e-06, 6.50966715e-06, 6.50890745e-06, 6.51175301e-06,\n",
       "       6.51811976e-06, 6.52790641e-06, 6.54099478e-06, 6.55725014e-06,\n",
       "       6.57652172e-06, 6.59864321e-06, 6.62343344e-06, 6.65069709e-06,\n",
       "       6.68022552e-06, 6.71179766e-06, 6.74518099e-06, 6.78013259e-06,\n",
       "       6.81640028e-06, 6.85372380e-06, 6.89183610e-06, 6.93046461e-06,\n",
       "       6.96933268e-06, 7.00816095e-06, 7.04666881e-06, 7.08457593e-06,\n",
       "       7.12160374e-06, 7.15747700e-06, 7.19192528e-06, 7.22468460e-06,\n",
       "       7.25549888e-06, 7.28412151e-06, 7.31031682e-06, 7.33386153e-06,\n",
       "       7.35454619e-06, 7.37217652e-06, 7.38657470e-06, 7.39758058e-06,\n",
       "       7.40505285e-06, 7.40887005e-06, 7.40893154e-06, 7.40515835e-06,\n",
       "       7.39749385e-06, 7.38590444e-06, 7.37037995e-06, 7.35093398e-06,\n",
       "       7.32760417e-06, 7.30045217e-06, 7.26956358e-06, 7.23504772e-06,\n",
       "       7.19703720e-06, 7.15568737e-06, 7.11117563e-06, 7.06370053e-06,\n",
       "       7.01348081e-06, 6.96075417e-06, 6.90577601e-06, 6.84881797e-06,\n",
       "       6.79016633e-06, 6.73012033e-06, 6.66899034e-06, 6.60709593e-06,\n",
       "       6.54476383e-06, 6.48232585e-06, 6.42011666e-06, 6.35847158e-06,\n",
       "       6.29772430e-06, 6.23820450e-06, 6.18023564e-06, 6.12413251e-06,\n",
       "       6.07019901e-06, 6.01872584e-06, 5.96998833e-06, 5.92424423e-06,\n",
       "       5.88173171e-06, 5.84266739e-06, 5.80724453e-06, 5.77563133e-06,\n",
       "       5.74796939e-06, 5.72437238e-06, 5.70492487e-06, 5.68968131e-06,\n",
       "       5.67866531e-06, 5.67186907e-06, 5.66925308e-06, 5.67074606e-06,\n",
       "       5.67624510e-06, 5.68561610e-06, 5.69869447e-06, 5.71528598e-06,\n",
       "       5.73516804e-06, 5.75809102e-06, 5.78378002e-06, 5.81193669e-06,\n",
       "       5.84224138e-06, 5.87435548e-06, 5.90792398e-06, 5.94257813e-06,\n",
       "       5.97793835e-06, 6.01361724e-06, 6.04922271e-06, 6.08436123e-06,\n",
       "       6.11864111e-06, 6.15167584e-06, 6.18308748e-06, 6.21250996e-06,\n",
       "       6.23959243e-06, 6.26400241e-06, 6.28542900e-06, 6.30358578e-06,\n",
       "       6.31821370e-06, 6.32908363e-06, 6.33599883e-06, 6.33879704e-06,\n",
       "       6.33735239e-06, 6.33157695e-06, 6.32142201e-06, 6.30687894e-06,\n",
       "       6.28797976e-06, 6.26479735e-06, 6.23744521e-06, 6.20607686e-06,\n",
       "       6.17088488e-06, 6.13209952e-06, 6.08998695e-06, 6.04484708e-06,\n",
       "       5.99701106e-06, 5.94683845e-06, 5.89471395e-06, 5.84104398e-06,\n",
       "       5.78625284e-06, 5.73077870e-06, 5.67506936e-06, 5.61957785e-06,\n",
       "       5.56475787e-06, 5.51105915e-06, 5.45892282e-06, 5.40877670e-06,\n",
       "       5.36103073e-06, 5.31607243e-06, 5.27426261e-06, 5.23593118e-06,\n",
       "       5.20137333e-06, 5.17084592e-06, 5.14456429e-06, 5.12269940e-06,\n",
       "       5.10537551e-06, 5.09266821e-06, 5.08460304e-06, 5.08115463e-06,\n",
       "       5.08224637e-06, 5.08775067e-06, 5.09748980e-06, 5.11123733e-06,\n",
       "       5.12872014e-06, 5.14962099e-06, 5.17358169e-06, 5.20020677e-06,\n",
       "       5.22906767e-06, 5.25970737e-06, 5.29164548e-06, 5.32438366e-06,\n",
       "       5.35741137e-06, 5.39021189e-06, 5.42226846e-06, 5.45307060e-06,\n",
       "       5.48212041e-06, 5.50893885e-06, 5.53307191e-06, 5.55409650e-06,\n",
       "       5.57162619e-06, 5.58531646e-06, 5.59486953e-06, 5.60003877e-06,\n",
       "       5.60063240e-06, 5.59651663e-06, 5.58761805e-06, 5.57392534e-06,\n",
       "       5.55549009e-06, 5.53242687e-06, 5.50491245e-06, 5.47318418e-06,\n",
       "       5.43753747e-06, 5.39832249e-06, 5.35594009e-06, 5.31083685e-06,\n",
       "       5.26349952e-06, 5.21444873e-06, 5.16423216e-06, 5.11341719e-06,\n",
       "       5.06258315e-06, 5.01231325e-06, 4.96318632e-06, 4.91576851e-06,\n",
       "       4.87060492e-06, 4.82821152e-06, 4.78906728e-06, 4.75360668e-06,\n",
       "       4.72221283e-06, 4.69521119e-06, 4.67286400e-06, 4.65536566e-06,\n",
       "       4.64283898e-06, 4.63533249e-06, 4.63281882e-06, 4.63519423e-06,\n",
       "       4.64227935e-06, 4.65382107e-06, 4.66949558e-06, 4.68891272e-06,\n",
       "       4.71162131e-06, 4.73711561e-06, 4.76484280e-06, 4.79421126e-06,\n",
       "       4.82459975e-06, 4.85536712e-06, 4.88586258e-06, 4.91543630e-06,\n",
       "       4.94345015e-06, 4.96928848e-06, 4.99236869e-06, 5.01215141e-06,\n",
       "       5.02815012e-06, 5.03994011e-06, 5.04716640e-06, 5.04955074e-06,\n",
       "       5.04689728e-06, 5.03909694e-06, 5.02613038e-06, 5.00806931e-06,\n",
       "       4.98507635e-06, 4.95740315e-06, 4.92538690e-06, 4.88944526e-06,\n",
       "       4.85006969e-06, 4.80781737e-06, 4.76330168e-06, 4.71718157e-06,\n",
       "       4.67014981e-06, 4.62292046e-06, 4.57621568e-06, 4.53075217e-06,\n",
       "       4.48722748e-06, 4.44630645e-06, 4.40860803e-06, 4.37469278e-06,\n",
       "       4.34505128e-06, 4.32009367e-06, 4.30014073e-06, 4.28541639e-06,\n",
       "       4.27604221e-06, 4.27203371e-06, 4.27329886e-06, 4.27963867e-06,\n",
       "       4.29075000e-06, 4.30623059e-06, 4.32558616e-06, 4.34823962e-06,\n",
       "       4.37354214e-06, 4.40078592e-06, 4.42921845e-06, 4.45805795e-06,\n",
       "       4.48650972e-06, 4.51378307e-06, 4.53910841e-06, 4.56175423e-06,\n",
       "       4.58104353e-06, 4.59636931e-06, 4.60720881e-06, 4.61313609e-06,\n",
       "       4.61383271e-06, 4.60909611e-06, 4.59884554e-06, 4.58312531e-06,\n",
       "       4.56210523e-06, 4.53607818e-06, 4.50545471e-06, 4.47075489e-06,\n",
       "       4.43259736e-06, 4.39168596e-06, 4.34879398e-06, 4.30474660e-06,\n",
       "       4.26040166e-06, 4.21662941e-06, 4.17429152e-06, 4.13421999e-06,\n",
       "       4.09719640e-06, 4.06393202e-06, 4.03504939e-06, 4.01106570e-06,\n",
       "       3.99237866e-06, 3.97925499e-06, 3.97182220e-06, 3.97006366e-06,\n",
       "       3.97381741e-06, 3.98277860e-06, 3.99650581e-06, 4.01443096e-06,\n",
       "       4.03587279e-06, 4.06005354e-06, 4.08611855e-06, 4.11315816e-06,\n",
       "       4.14023162e-06, 4.16639210e-06, 4.19071244e-06, 4.21231073e-06,\n",
       "       4.23037510e-06, 4.24418704e-06, 4.25314244e-06, 4.25676990e-06,\n",
       "       4.25474545e-06, 4.24690356e-06, 4.23324356e-06, 4.21393169e-06,\n",
       "       4.18929813e-06, 4.15982941e-06, 4.12615597e-06, 4.08903539e-06,\n",
       "       4.04933146e-06, 4.00798979e-06, 3.96601058e-06, 3.92441915e-06,\n",
       "       3.88423536e-06, 3.84644252e-06, 3.81195694e-06, 3.78159903e-06,\n",
       "       3.75606685e-06, 3.73591296e-06, 3.72152550e-06, 3.71311408e-06,\n",
       "       3.71070107e-06, 3.71411874e-06, 3.72301243e-06, 3.73684976e-06,\n",
       "       3.75493584e-06, 3.77643396e-06, 3.80039138e-06, 3.82576929e-06,\n",
       "       3.85147629e-06, 3.87640402e-06, 3.89946418e-06, 3.91962536e-06,\n",
       "       3.93594868e-06, 3.94762083e-06, 3.95398338e-06, 3.95455733e-06,\n",
       "       3.94906172e-06, 3.93742575e-06, 3.91979370e-06, 3.89652229e-06,\n",
       "       3.86817052e-06, 3.83548201e-06, 3.79936050e-06, 3.76083903e-06,\n",
       "       3.72104394e-06, 3.68115481e-06, 3.64236177e-06, 3.60582164e-06,\n",
       "       3.57261457e-06, 3.54370276e-06, 3.51989300e-06, 3.50180431e-06,\n",
       "       3.48984227e-06, 3.48418103e-06, 3.48475396e-06, 3.49125342e-06,\n",
       "       3.50313997e-06, 3.51966078e-06, 3.53987682e-06, 3.56269786e-06,\n",
       "       3.58692416e-06, 3.61129320e-06, 3.63452984e-06, 3.65539782e-06,\n",
       "       3.67275058e-06, 3.68557925e-06, 3.69305583e-06, 3.69456962e-06,\n",
       "       3.68975515e-06, 3.67851036e-06, 3.66100393e-06, 3.63767123e-06,\n",
       "       3.60919885e-06, 3.57649803e-06, 3.54066792e-06, 3.50295001e-06,\n",
       "       3.46467561e-06, 3.42720844e-06, 3.39188472e-06, 3.35995356e-06,\n",
       "       3.33252014e-06, 3.31049439e-06, 3.29454761e-06, 3.28507923e-06,\n",
       "       3.28219542e-06, 3.28570082e-06, 3.29510409e-06, 3.30963740e-06,\n",
       "       3.32828911e-06, 3.34984857e-06, 3.37296114e-06, 3.39619098e-06,\n",
       "       3.41808887e-06, 3.43726176e-06, 3.45244097e-06, 3.46254530e-06,\n",
       "       3.46673623e-06, 3.46446197e-06, 3.45548811e-06, 3.43991297e-06,\n",
       "       3.41816648e-06, 3.39099232e-06, 3.35941385e-06, 3.32468512e-06,\n",
       "       3.28822920e-06, 3.25156674e-06, 3.21623820e-06, 3.18372367e-06,\n",
       "       3.15536454e-06, 3.13229106e-06, 3.11535996e-06, 3.10510553e-06,\n",
       "       3.10170723e-06, 3.10497593e-06, 3.11435996e-06, 3.12897106e-06,\n",
       "       3.14762935e-06, 3.16892515e-06, 3.19129478e-06, 3.21310612e-06,\n",
       "       3.23274967e-06, 3.24872979e-06, 3.25975108e-06, 3.26479481e-06,\n",
       "       3.26318068e-06, 3.25461008e-06, 3.23918787e-06, 3.21742084e-06,\n",
       "       3.19019247e-06, 3.15871499e-06, 3.12446091e-06, 3.08907780e-06,\n",
       "       3.05429107e-06, 3.02180028e-06, 2.99317530e-06, 2.96975858e-06,\n",
       "       2.95257978e-06, 2.94228838e-06, 2.93910877e-06, 2.94282134e-06,\n",
       "       2.95277120e-06, 2.96790477e-06, 2.98683243e-06, 3.00791382e-06,\n",
       "       3.02936084e-06, 3.04935205e-06, 3.06615117e-06, 3.07822209e-06,\n",
       "       3.08433260e-06, 3.08363971e-06, 3.07575041e-06, 3.06075323e-06,\n",
       "       3.03921778e-06, 3.01216153e-06, 2.98098536e-06, 2.94738164e-06,\n",
       "       2.91322057e-06, 2.88042210e-06, 2.85082221e-06, 2.82604281e-06,\n",
       "       2.80737448e-06, 2.79568088e-06, 2.79133200e-06, 2.79417189e-06,\n",
       "       2.80352392e-06, 2.81823406e-06, 2.83674994e-06, 2.85723058e-06,\n",
       "       2.87767949e-06, 2.89609161e-06, 2.91060340e-06, 2.91963494e-06,\n",
       "       2.92201290e-06, 2.91706458e-06, 2.90467528e-06, 2.88530345e-06,\n",
       "       2.85995171e-06, 2.83009487e-06, 2.79756961e-06, 2.76443373e-06,\n",
       "       2.73280533e-06, 2.70469454e-06, 2.68184085e-06, 2.66556964e-06,\n",
       "       2.65667983e-06, 2.65537260e-06, 2.66122804e-06, 2.67323277e-06,\n",
       "       2.68985727e-06, 2.70917784e-06, 2.72903368e-06, 2.74720686e-06,\n",
       "       2.76161009e-06, 2.77046673e-06, 2.77246700e-06, 2.76688663e-06,\n",
       "       2.75365646e-06, 2.73337597e-06, 2.70726821e-06, 2.67707862e-06,\n",
       "       2.64492573e-06, 2.61311577e-06, 2.58393729e-06, 2.55945369e-06,\n",
       "       2.54131289e-06, 2.53059164e-06, 2.52768991e-06, 2.53228608e-06,\n",
       "       2.54335872e-06, 2.55927435e-06, 2.57793434e-06, 2.59696857e-06,\n",
       "       2.61395820e-06, 2.62666700e-06, 2.63325905e-06, 2.63248129e-06,\n",
       "       2.62379236e-06, 2.60742383e-06, 2.58436607e-06, 2.55627871e-06,\n",
       "       2.52533261e-06, 2.49399785e-06, 2.46479783e-06, 2.44005373e-06,\n",
       "       2.42164527e-06, 2.41081270e-06, 2.40802146e-06, 2.41290504e-06,\n",
       "       2.42429383e-06, 2.44032888e-06, 2.45865047e-06, 2.47664316e-06,\n",
       "       2.49171241e-06, 2.50156372e-06, 2.50445400e-06, 2.49938741e-06,\n",
       "       2.48623271e-06, 2.46574752e-06, 2.43950461e-06, 2.40972627e-06,\n",
       "       2.37904305e-06, 2.35020248e-06, 2.32575951e-06, 2.30778361e-06,\n",
       "       2.29761638e-06, 2.29570896e-06, 2.30155967e-06, 2.31376164e-06,\n",
       "       2.33015737e-06, 2.34808423e-06, 2.36468422e-06, 2.37724212e-06,\n",
       "       2.38351249e-06, 2.38199547e-06, 2.37212704e-06, 2.35435833e-06,\n",
       "       2.33011179e-06, 2.30161691e-06, 2.27164289e-06, 2.24315948e-06,\n",
       "       2.21896687e-06, 2.20134062e-06, 2.19173713e-06, 2.19059857e-06,\n",
       "       2.19728475e-06, 2.21014350e-06, 2.22671364e-06, 2.24403709e-06,\n",
       "       2.25904157e-06, 2.26894484e-06, 2.27162741e-06, 2.26592303e-06,\n",
       "       2.25178608e-06, 2.23031038e-06, 2.20359350e-06, 2.17446156e-06,\n",
       "       2.14608921e-06, 2.12156492e-06, 2.10346086e-06, 2.09346764e-06,\n",
       "       2.09214677e-06, 2.09883855e-06, 2.11174214e-06, 2.12816019e-06,\n",
       "       2.14487660e-06, 2.15861577e-06, 2.16651837e-06, 2.16656423e-06,\n",
       "       2.15787899e-06, 2.14087634e-06, 2.11721097e-06, 2.08954492e-06,\n",
       "       2.06115829e-06, 2.03545973e-06, 2.01546908e-06, 2.00335065e-06,\n",
       "       2.00007048e-06, 2.00523324e-06, 2.01712858e-06, 2.03298422e-06,\n",
       "       2.04939068e-06, 2.06283425e-06, 2.07025559e-06, 2.06954497e-06,\n",
       "       2.05989291e-06, 2.04193593e-06, 2.01766902e-06, 1.99013393e-06,\n",
       "       1.96292947e-06, 1.93962117e-06, 1.92314648e-06, 1.91531519e-06,\n",
       "       1.91649164e-06, 1.92551675e-06, 1.93988871e-06, 1.95617705e-06])"
      ]
     },
     "execution_count": 52,
     "metadata": {},
     "output_type": "execute_result"
    }
   ],
   "source": [
    "kappa_b.Win.Win['cov'][corr_ll+corr_ll][bi+bi]['xi_b_th'][1324]['bin_wt_xi1324']['wt0']"
   ]
  },
  {
   "cell_type": "code",
   "execution_count": 53,
   "metadata": {},
   "outputs": [
    {
     "data": {
      "text/plain": [
       "array([7.00294373e+06, 8.93706624e+06, 1.09786637e+07, 1.44654545e+07,\n",
       "       1.84882380e+07, 2.28727484e+07, 3.15774246e+07, 4.09689190e+07,\n",
       "       5.03513492e+07, 6.90527005e+07, 9.78345143e+07, 1.14661350e+08,\n",
       "       1.56002570e+08, 2.12404658e+08, 2.54018990e+08, 3.00239223e+08,\n",
       "       7.62591434e+08, 2.05590078e+08, 3.72046351e+08, 4.19859695e+08])"
      ]
     },
     "execution_count": 53,
     "metadata": {},
     "output_type": "execute_result"
    }
   ],
   "source": [
    "kappa_b.Win.Win['cov'][corr_ll+corr_ll][bi+bi]['xi_b_th'][1324]['bin_wt_xi1324']['wt_b']"
   ]
  },
  {
   "cell_type": "code",
   "execution_count": 54,
   "metadata": {},
   "outputs": [
    {
     "data": {
      "text/plain": [
       "array([[ 10779.64873311,   9711.88290763,  15303.15061799,\n",
       "         14134.88518184,  15567.23327827,  34609.38653944,\n",
       "         19527.31892977,  27093.65281057, 139713.3201161 ,\n",
       "         69008.52860259,  37702.81899548,  92142.86824192,\n",
       "        119049.89416715, 170719.89737821,  36032.28944535,\n",
       "         22023.58256781,  12709.79962466,   6205.76664527,\n",
       "         14715.13159415,   7534.45171301],\n",
       "       [ 10776.29438738,   9709.00478648,  15298.89491118,\n",
       "         14131.24682791,  15563.60914513,  34602.28842478,\n",
       "         19523.90680372,  27089.77537916, 139697.84370313,\n",
       "         69002.84485723,  37700.56452173,  92138.65362399,\n",
       "        119044.9122959 , 170711.95662684,  36030.34234844,\n",
       "         22022.33955814,  12709.18434269,   6205.55733173,\n",
       "         14714.77360966,   7534.2486185 ],\n",
       "       [ 10772.19456857,   9705.4823659 ,  15293.6772183 ,\n",
       "         14126.77594298,  15559.14194039,  34593.50255133,\n",
       "         19519.65915513,  27084.91038641, 139678.20442782,\n",
       "         68995.52569429,  37697.61307139,  92133.08747019,\n",
       "        119038.42442862, 170701.91328125,  36027.93238349,\n",
       "         22020.81185975,  12708.42261616,   6205.29238158,\n",
       "         14714.31254879,   7533.99360491],\n",
       "       [ 10767.18967321,   9701.17517863,  15287.28280779,\n",
       "         14121.28130526,  15553.63073722,  34582.60765592,\n",
       "         19514.35507413,  27078.77774364, 139653.11506656,\n",
       "         68986.01626247,  37693.70692441,  92125.6481026 ,\n",
       "        119029.88030221, 170689.11603802,  36024.94062109,\n",
       "         22018.93240767,  12707.47740579,   6204.95488413,\n",
       "         14713.71340052,   7533.67162305],\n",
       "       [ 10761.1260192 ,   9695.94590502,  15279.49773881,\n",
       "         14114.56816259,  15546.86532308,  34569.14893209,\n",
       "         19507.74729205,  27071.05116224, 139621.00857202,\n",
       "         68973.61208286,  37688.50703222,  92115.63625407,\n",
       "        119018.55289586, 170672.75649837,  36021.23306656,\n",
       "         22016.63016961,  12706.30797595,   6204.52440306,\n",
       "         14712.93167211,   7533.26472788],\n",
       "       [ 10753.84730435,   9689.65227446,  15270.09534099,\n",
       "         14106.4249821 ,  15538.61066615,  34552.60133643,\n",
       "         19499.54031672,  27061.32650068, 139579.87092849,\n",
       "         68957.37700948,  37681.55025721,  92102.08089324,\n",
       "        119003.43667074, 170651.75734896,  36016.64375261,\n",
       "         22013.82245587,  12704.86580234,   6203.97478547,\n",
       "         14711.90815664,   7532.7499346 ],\n",
       "       [ 10745.20708269,   9682.15686022,  15258.84886368,\n",
       "         14096.63224751,  15528.61287576,  34532.37367921,\n",
       "         19489.38723654,  27049.10970981, 139527.14165891,\n",
       "         68936.0800341 ,  37672.21057184,  92083.64525367,\n",
       "        118983.14359224, 170624.66682765,  36010.96256186,\n",
       "         22010.41174638,  12703.09310282,   6203.27283216,\n",
       "         14710.56479744,   7532.09767744],\n",
       "       [ 10735.08554193,   9673.34059609,  15245.549675  ,\n",
       "         14084.97603037,  15516.6099209 ,  34507.82191005,\n",
       "         19476.8907474 ,  27033.80902348, 139459.6260011 ,\n",
       "         68908.13226946,  37659.65708479,  92058.51728997,\n",
       "        118955.77095356, 170589.50736267,  36003.91413867,\n",
       "         22006.27872007,  12700.92044484,   6202.37693257,\n",
       "         14708.80034463,   7531.26976559],\n",
       "       [ 10723.40819058,   9663.11832613,  15230.02922966,\n",
       "         14071.26557753,  15502.34737467,  34478.27475694,\n",
       "         19461.61159719,  27014.73751822, 139373.45642761,\n",
       "         68871.54337543,  37642.81814213,  92024.29948605,\n",
       "        118918.74552857, 170543.56209626,  35995.12117111,\n",
       "         22001.26737973,  12698.26228874,   6201.23585102,\n",
       "         14706.4867109 ,   7530.21671965],\n",
       "       [ 10710.16011195,   9651.45160182,  15212.17902873,\n",
       "         14055.3513732 ,  15485.59754212,  34443.07341084,\n",
       "         19443.08843607,  26991.13540823, 139264.16751692,\n",
       "         68823.93265681,  37620.3697686 ,  91977.93164034,\n",
       "        118868.6632107 , 170483.08584125,  35984.04250325,\n",
       "         21995.15555459,  12695.00827781,   6199.78783026,\n",
       "         14703.4675399 ,   7528.87444426],\n",
       "       [ 10695.38393995,   9638.34951797,  15191.95685516,\n",
       "         14037.13571639,  15466.17684457,  34401.62259719,\n",
       "         19420.87264719,  26962.2236914 , 139126.97356762,\n",
       "         68762.64771676,  37590.77782164,  91915.70645559,\n",
       "        118801.16924639, 170402.94495139,  35969.87577644,\n",
       "         21987.60160408,  12691.00651697,   6197.95981463,\n",
       "         14699.56076059,   7527.16041124],\n",
       "       [ 10679.14490986,   9623.84427444,  15169.36155444,\n",
       "         14016.56280248,  15443.9514774 ,  34353.44151456,\n",
       "         19394.57806155,  26927.29784387, 138957.33664847,\n",
       "         68685.04967248,  37552.43035696,  91833.46299527,\n",
       "        118710.96211314, 170296.24116169,  35951.42120212,\n",
       "         21978.05863667,  12686.03328665,   6195.66539427,\n",
       "         14694.56558794,   7524.96996288],\n",
       "       [ 10661.44858352,   9607.92919879,  15144.35847757,\n",
       "         13993.57339121,  15418.81715779,  34298.18922858,\n",
       "         19363.93540722,  26885.85430831, 138751.82937056,\n",
       "         68588.98864393,  37503.88477062,  91727.04157756,\n",
       "        118592.04393518, 170154.08025233,  35926.92778975,\n",
       "         21965.65710503,  12679.74296174,   6192.79737268,\n",
       "         14688.26916614,   7522.17388073],\n",
       "       [ 10642.11739636,   9590.46197362,  15116.75475291,\n",
       "         13968.01825432,  15390.64059408,  34235.62415041,\n",
       "         19328.82252529,  26837.70416923, 138509.05641142,\n",
       "         68473.37147235,  37444.19828469,  91593.0054462 ,\n",
       "        118438.34718503, 169965.81279812,  35893.99724505,\n",
       "         21949.08451532,  12671.59586064,   6189.20655776,\n",
       "         14680.43587324,   7518.61819383],\n",
       "       [ 10620.68089041,   9571.07304104,  15086.06955938,\n",
       "         13939.55421564,  15359.16672626,  34165.45537511,\n",
       "         19289.21856315,  26782.96923818, 138229.98101932,\n",
       "         68338.49145247,  37373.19069566,  91429.42180241,\n",
       "        118244.76759329, 169720.22403906,  35849.69906891,\n",
       "         21926.54281447,  12660.77686977,   6184.65515768,\n",
       "         14670.7435688 ,   7514.12394659],\n",
       "       [ 10596.3967989 ,   9549.16886507,  15051.5105044 ,\n",
       "         13907.59461849,  15323.93200689,  34087.08313005,\n",
       "         19245.02793094,  26721.8182587 , 137916.64355458,\n",
       "         68185.55230121,  37291.34325385,  91236.16411914,\n",
       "        118008.33024502, 169408.01046904,  35791.09126614,\n",
       "         21895.92012738,  12646.15097232,   6178.74042908,\n",
       "         14658.61990124,   7508.47415515],\n",
       "       [ 10568.51865181,   9524.12411394,  15012.1844468 ,\n",
       "         13871.41173717,  15284.2632526 ,  33999.33437204,\n",
       "         19195.78948556,  26653.89982357, 137568.70578389,\n",
       "         68014.96278602,  37199.04843636,  91014.01047061,\n",
       "        117728.7068194 , 169024.9539157 ,  35716.18213678,\n",
       "         21855.29374454,  12626.34747513,   6170.81899936,\n",
       "         14642.97050691,   7501.35621635],\n",
       "       [ 10536.72509314,   9495.61065568,  14967.50548479,\n",
       "         13830.40046971,  15239.42425701,  33900.44377136,\n",
       "         19140.46619431,  26577.7910808 , 137179.4879604 ,\n",
       "         67824.07999702,  37095.4051655 ,  90762.3722712 ,\n",
       "        117406.95655326, 168573.2680694 ,  35624.82695415,\n",
       "         21803.64683341,  12600.07391105,   6160.03035192,\n",
       "         14621.93995546,   7492.21971085],\n",
       "       [ 10501.23207408,   9463.70840867,  14917.38488587,\n",
       "         13784.26481157,  15188.82729651,  33788.51205155,\n",
       "         19077.67415196,  26491.23034083, 136736.40846535,\n",
       "         67606.90632749,  36977.70611471,  90477.19533939,\n",
       "        117042.1533718 , 168057.27200418,  35518.36380442,\n",
       "         21741.21255378,  12566.61991022,   6145.55458425,\n",
       "         14593.07923925,   7480.07616945],\n",
       "       [ 10462.3592503 ,   9428.6479371 ,  14862.07456909,\n",
       "         13733.12112583,  15132.44910473,  33663.11288986,\n",
       "         19006.9471907 ,  26393.26141035, 136233.08811734,\n",
       "         67359.83348639,  36843.95553641,  90154.37387199,\n",
       "        116631.33429531, 167477.8260108 ,  35398.13515765,\n",
       "         21669.20933965,  12526.4549752 ,   6127.20660135,\n",
       "         14554.59092996,   7463.61486906]])"
      ]
     },
     "execution_count": 54,
     "metadata": {},
     "output_type": "execute_result"
    }
   ],
   "source": [
    "kappa_b.Win.Win['cov'][corr_ll+corr_ll][bi+bi]['xi_b_th'][1324]['clcl'][(2,2,2,2)]"
   ]
  },
  {
   "cell_type": "code",
   "execution_count": 55,
   "metadata": {},
   "outputs": [
    {
     "data": {
      "text/plain": [
       "array([[0.23364505, 0.23364356, 0.23364206, ..., 0.22631971, 0.2262962 ,\n",
       "        0.22627263],\n",
       "       [0.23364356, 0.23364207, 0.23364057, ..., 0.22631957, 0.22629607,\n",
       "        0.22627249],\n",
       "       [0.23364206, 0.23364057, 0.23363908, ..., 0.22631943, 0.22629593,\n",
       "        0.22627235],\n",
       "       ...,\n",
       "       [0.22631971, 0.22631957, 0.22631943, ..., 0.22409477, 0.22407959,\n",
       "        0.22406429],\n",
       "       [0.2262962 , 0.22629607, 0.22629593, ..., 0.22407959, 0.22406448,\n",
       "        0.22404926],\n",
       "       [0.22627263, 0.22627249, 0.22627235, ..., 0.22406429, 0.22404926,\n",
       "        0.2240341 ]])"
      ]
     },
     "execution_count": 55,
     "metadata": {},
     "output_type": "execute_result"
    }
   ],
   "source": [
    "kappa_b.Win.Win['cov'][corr_ll+corr_ll][bi+bi]['xi'][1324]['clcl']"
   ]
  },
  {
   "cell_type": "code",
   "execution_count": 75,
   "metadata": {},
   "outputs": [
    {
     "name": "stderr",
     "output_type": "stream",
     "text": [
      "/verafs/scratch/phy200040p/sukhdeep/miniconda3/lib/python3.8/site-packages/skylens-0.1-py3.8.egg/skylens/survey_utils.py:126: RuntimeWarning: invalid value encountered in sqrt\n"
     ]
    }
   ],
   "source": [
    "z0=1 #1087\n",
    "zs_bin1=source_tomo_bins(zp=[z0],p_zp=np.array([1]),ns=30,use_window=use_window,nside=nside,unit_win=unit_window,f_sky=f_sky,use_shot_noise=True)"
   ]
  },
  {
   "cell_type": "code",
   "execution_count": 76,
   "metadata": {},
   "outputs": [],
   "source": [
    "use_binned_l=False\n",
    "use_binned_theta=False\n",
    "do_cov=True,\n",
    "kappa00=Skylens(zs_bins=zs_bin1,do_cov=do_cov,bin_cl=bin_cl,l_bins=l_bins,l=l0, zg_bins=None,\n",
    "                                       use_window=False,Tri_cov=Tri_cov,\n",
    "                                       use_binned_l=use_binned_l,wigner_files=wigner_files,\n",
    "                                       SSV_cov=SSV_cov,tidal_SSV_cov=tidal_SSV_cov,f_sky=f_sky,\n",
    "                                       store_win=store_win,window_lmax=window_lmax,\n",
    "                                       sparse_cov=False,scheduler_info=scheduler_info,\n",
    "                                        do_xi=do_xi,bin_xi=bin_xi,theta_bins=th_bins,WT=WT,\n",
    "                                        xi_win_approx=xi_win_approx,do_sample_variance=False\n",
    "                                       )"
   ]
  },
  {
   "cell_type": "code",
   "execution_count": 78,
   "metadata": {},
   "outputs": [],
   "source": [
    "%time xi00G=kappa00.xi_tomo() \n",
    "%time cl00G=kappa00.cl_tomo() "
   ]
  },
  {
   "cell_type": "code",
   "execution_count": 79,
   "metadata": {},
   "outputs": [],
   "source": [
    "cov=client.compute(xi00G['cov']).result()\n",
    "cov_cl=client.compute(cl00G['cov']).result()"
   ]
  },
  {
   "cell_type": "code",
   "execution_count": 90,
   "metadata": {},
   "outputs": [
    {
     "data": {
      "text/plain": [
       "array([3.85730716e-20, 3.85730716e-20, 3.85730716e-20, ...,\n",
       "       3.85730716e-20, 3.85730716e-20, 3.85730716e-20])"
      ]
     },
     "execution_count": 90,
     "metadata": {},
     "output_type": "execute_result"
    }
   ],
   "source": [
    "np.diag(cov_cl[corr_ll+corr_ll][bi+bi]['G'])"
   ]
  },
  {
   "cell_type": "code",
   "execution_count": 99,
   "metadata": {},
   "outputs": [
    {
     "data": {
      "text/plain": [
       "array([[9.04793008e-18, 9.03481077e-18, 9.02014207e-18, ...,\n",
       "        5.32614083e-19, 5.31970152e-19, 5.31573427e-19],\n",
       "       [9.03481077e-18, 9.02313477e-18, 9.00991438e-18, ...,\n",
       "        5.32803513e-19, 5.32048208e-19, 5.31528734e-19],\n",
       "       [9.02014207e-18, 9.00991438e-18, 8.99814870e-18, ...,\n",
       "        5.32996786e-19, 5.32128683e-19, 5.31484638e-19],\n",
       "       ...,\n",
       "       [5.32614083e-19, 5.32803513e-19, 5.32996786e-19, ...,\n",
       "        1.29619481e-18, 1.28733275e-18, 1.26447348e-18],\n",
       "       [5.31970152e-19, 5.32048208e-19, 5.32128683e-19, ...,\n",
       "        1.28733275e-18, 1.29322897e-18, 1.28448429e-18],\n",
       "       [5.31573427e-19, 5.31528734e-19, 5.31484638e-19, ...,\n",
       "        1.26447348e-18, 1.28448429e-18, 1.29046947e-18]])"
      ]
     },
     "execution_count": 99,
     "metadata": {},
     "output_type": "execute_result"
    }
   ],
   "source": [
    "kappa00.WT.wig_d[(0,0)]@cov_cl[corr_ll+corr_ll][bi+bi]['G']@kappa00.WT.wig_d[(0,0)].T"
   ]
  },
  {
   "cell_type": "code",
   "execution_count": 101,
   "metadata": {},
   "outputs": [
    {
     "data": {
      "text/plain": [
       "array([[234.56597299, 234.22585711, 233.84557372, ...,  13.80792508,\n",
       "         13.79123128,  13.78094626],\n",
       "       [234.22585711, 233.92315898, 233.5804227 , ...,  13.81283601,\n",
       "         13.79325486,  13.77978758],\n",
       "       [233.84557372, 233.5804227 , 233.27539952, ...,  13.81784658,\n",
       "         13.79534118,  13.7786444 ],\n",
       "       ...,\n",
       "       [ 13.80792508,  13.81283601,  13.81784658, ...,  33.60361914,\n",
       "         33.37387181,  32.78124943],\n",
       "       [ 13.79123128,  13.79325486,  13.79534118, ...,  33.37387181,\n",
       "         33.52673023,  33.30002595],\n",
       "       [ 13.78094626,  13.77978758,  13.7786444 , ...,  32.78124943,\n",
       "         33.30002595,  33.45519069]])"
      ]
     },
     "execution_count": 101,
     "metadata": {},
     "output_type": "execute_result"
    }
   ],
   "source": [
    "kappa00.WT.wig_d[(0,0)]@kappa00.WT.wig_d[(0,0)].T"
   ]
  },
  {
   "cell_type": "code",
   "execution_count": 82,
   "metadata": {},
   "outputs": [
    {
     "data": {
      "text/plain": [
       "{'G': array([[ 4.55442007e-16,  2.30199335e-16, -4.29987758e-17,\n",
       "         -8.31388721e-18,  1.65527217e-17, -1.26126930e-17,\n",
       "          6.96736235e-18, -1.23895131e-18, -2.78820646e-18,\n",
       "          1.48581536e-18,  8.28522103e-19,  2.76947376e-20,\n",
       "         -3.77678074e-19, -2.89208023e-19,  5.76461440e-19,\n",
       "         -4.37015034e-19,  1.14649472e-19,  2.29658871e-20,\n",
       "         -4.20772535e-20,  1.30292604e-19],\n",
       "        [ 2.30199335e-16,  4.16156529e-16,  1.68654116e-16,\n",
       "         -5.55966497e-17,  2.45067327e-17, -1.38540314e-17,\n",
       "          1.05952484e-17, -7.35415762e-18,  1.18245833e-18,\n",
       "          2.32367065e-18,  3.38749263e-19, -8.67614195e-20,\n",
       "         -3.67528593e-19, -7.09097415e-19,  6.08772774e-19,\n",
       "         -4.66629431e-19,  2.44015148e-19,  1.94313109e-20,\n",
       "         -1.05774366e-19,  1.79385213e-19],\n",
       "        [-4.29987758e-17,  1.68654116e-16,  3.50168496e-16,\n",
       "          1.26044177e-16, -4.67442410e-17,  2.58084690e-17,\n",
       "         -1.54527507e-17,  6.84736668e-18,  1.58690859e-18,\n",
       "         -2.99908818e-18, -9.42605000e-19,  4.82121167e-20,\n",
       "          5.77487267e-19,  7.30047744e-19, -8.97895693e-19,\n",
       "          6.80999712e-19, -2.61602487e-19, -3.21932878e-20,\n",
       "          1.06289004e-19, -2.28470014e-19],\n",
       "        [-8.31388721e-18, -5.55966497e-17,  1.26044177e-16,\n",
       "          3.00217057e-16,  8.11025285e-17, -2.43907014e-17,\n",
       "          1.02869162e-17, -1.67014802e-18, -3.12672690e-18,\n",
       "          1.58014675e-18,  8.42196614e-19,  1.96014537e-20,\n",
       "         -3.63545255e-19, -2.50366694e-19,  5.32634264e-19,\n",
       "         -3.99394951e-19,  9.92180600e-20,  2.11258435e-20,\n",
       "         -3.47830652e-20,  1.14635345e-19],\n",
       "        [ 1.65527217e-17,  2.45067327e-17, -4.67442410e-17,\n",
       "          8.11025285e-17,  2.60138866e-16,  4.71330310e-17,\n",
       "         -5.74078799e-18, -2.50497992e-18,  3.64508335e-18,\n",
       "         -2.99546919e-19, -5.99463601e-19, -6.52995058e-20,\n",
       "          1.38450858e-19, -1.06320414e-19, -1.78121006e-19,\n",
       "          1.29896025e-19,  2.29949002e-20, -9.26521719e-21,\n",
       "         -1.64039340e-20, -1.81812901e-20],\n",
       "        [-1.26126930e-17, -1.38540314e-17,  2.58084690e-17,\n",
       "         -2.43907014e-17,  4.71330310e-17,  2.21487057e-16,\n",
       "          2.56691760e-17,  3.59422357e-18, -4.17271548e-18,\n",
       "         -1.75478285e-20,  5.45740857e-19,  8.16631554e-20,\n",
       "         -6.76286563e-20,  2.01870470e-19,  7.15235912e-20,\n",
       "         -4.93116424e-20, -5.47194516e-20,  5.58503366e-21,\n",
       "          2.91113303e-20, -8.87124219e-21],\n",
       "        [ 6.96736235e-18,  1.05952484e-17, -1.54527507e-17,\n",
       "          1.02869162e-17, -5.74078799e-18,  2.56691760e-17,\n",
       "          1.85355700e-16,  1.36228636e-17,  4.82382685e-18,\n",
       "         -8.16361271e-19, -7.08617768e-19, -5.81702025e-20,\n",
       "          1.52961168e-19, -8.45518952e-20, -1.89451979e-19,\n",
       "          1.35983047e-19,  1.46546756e-20, -9.33684706e-21,\n",
       "         -1.27407880e-20, -2.07625435e-20],\n",
       "        [-1.23895131e-18, -7.35415762e-18,  6.84736668e-18,\n",
       "         -1.67014802e-18, -2.50497992e-18,  3.59422357e-18,\n",
       "          1.36228636e-17,  1.53381878e-16,  7.11493925e-18,\n",
       "          2.72917336e-18,  7.27442472e-19, -5.33743846e-20,\n",
       "         -3.13418792e-19, -1.93772903e-19,  3.91255017e-19,\n",
       "         -2.82387906e-19,  7.05834769e-20,  1.46242434e-20,\n",
       "         -2.27502056e-20,  7.52418092e-20],\n",
       "        [-2.78820646e-18,  1.18245833e-18,  1.58690859e-18,\n",
       "         -3.12672690e-18,  3.64508335e-18, -4.17271548e-18,\n",
       "          4.82382685e-18,  7.11493925e-18,  1.26437859e-16,\n",
       "          4.59606468e-18,  3.69222154e-19,  2.12289271e-19,\n",
       "          2.67048466e-19,  3.81415378e-19, -3.12390458e-19,\n",
       "          2.24977666e-19, -1.11378994e-19, -8.77549742e-21,\n",
       "          4.42545034e-20, -7.67717102e-20],\n",
       "        [ 1.48581536e-18,  2.32367065e-18, -2.99908818e-18,\n",
       "          1.58014675e-18, -2.99546919e-19, -1.75478285e-20,\n",
       "         -8.16361271e-19,  2.72917336e-18,  4.59606468e-18,\n",
       "          1.02090695e-16,  4.11901591e-18,  2.07722148e-19,\n",
       "          1.92145925e-19, -8.67965493e-21, -1.60099516e-19,\n",
       "          1.06550694e-19, -3.50236954e-21, -6.50282989e-21,\n",
       "         -3.61202405e-21, -1.74699810e-20],\n",
       "        [ 8.28522103e-19,  3.38749263e-19, -9.42605000e-19,\n",
       "          8.42196614e-19, -5.99463601e-19,  5.45740857e-19,\n",
       "         -7.08617768e-19,  7.27442472e-19,  3.69222154e-19,\n",
       "          4.11901591e-18,  8.18172091e-17,  3.43255138e-18,\n",
       "          5.81184818e-20, -1.52416040e-19,  1.53429727e-20,\n",
       "         -1.66988904e-20,  3.22315451e-20, -6.66836376e-22,\n",
       "         -1.46822354e-20,  1.47489128e-20],\n",
       "        [ 2.76947376e-20, -8.67614195e-20,  4.82121167e-20,\n",
       "          1.96014537e-20, -6.52995058e-20,  8.16631554e-20,\n",
       "         -5.81702025e-20, -5.33743846e-20,  2.12289271e-19,\n",
       "          2.07722148e-19,  3.43255138e-18,  6.50529501e-17,\n",
       "          2.69379442e-18, -4.58827703e-20, -5.00059376e-20,\n",
       "          2.13641562e-20,  2.41748329e-21, -1.37743051e-21,\n",
       "         -2.45361961e-21,  6.92817877e-23],\n",
       "        [-3.77678074e-19, -3.67528593e-19,  5.77487267e-19,\n",
       "         -3.63545255e-19,  1.38450858e-19, -6.76286563e-20,\n",
       "          1.52961168e-19, -3.13418792e-19,  2.67048466e-19,\n",
       "          1.92145925e-19,  5.81184818e-20,  2.69379442e-18,\n",
       "          5.17214011e-17,  2.18463528e-18, -1.68345419e-19,\n",
       "          6.11904542e-20, -3.74171040e-20, -6.61286889e-22,\n",
       "          1.17757707e-20, -1.38954848e-20],\n",
       "        [-2.89208023e-19, -7.09097415e-19,  7.30047744e-19,\n",
       "         -2.50366694e-19, -1.06320414e-19,  2.01870470e-19,\n",
       "         -8.45518952e-20, -1.93772903e-19,  3.81415378e-19,\n",
       "         -8.67965493e-21, -1.52416040e-19, -4.58827703e-20,\n",
       "          2.18463528e-18,  4.13029383e-17,  1.67981622e-18,\n",
       "         -2.00902055e-19,  5.24263371e-21,  1.10360609e-20,\n",
       "          5.35101791e-21,  1.82087360e-20],\n",
       "        [ 5.76461440e-19,  6.08772774e-19, -8.97895693e-19,\n",
       "          5.32634264e-19, -1.78121006e-19,  7.15235912e-20,\n",
       "         -1.89451979e-19,  3.91255017e-19, -3.12390458e-19,\n",
       "         -1.60099516e-19,  1.53429727e-20, -5.00059376e-20,\n",
       "         -1.68345419e-19,  1.67981622e-18,  3.32942431e-17,\n",
       "          9.35160639e-19,  1.00653547e-19, -1.16596528e-20,\n",
       "         -3.20985110e-20,  1.94820817e-20],\n",
       "        [-4.37015034e-19, -4.66629431e-19,  6.80999712e-19,\n",
       "         -3.99394951e-19,  1.29896025e-19, -4.93116424e-20,\n",
       "          1.35983047e-19, -2.82387906e-19,  2.24977666e-19,\n",
       "          1.06550694e-19, -1.66988904e-20,  2.13641562e-20,\n",
       "          6.11904542e-20, -2.00902055e-19,  9.35160639e-19,\n",
       "          2.68785429e-17,  5.03830858e-19,  3.23364999e-20,\n",
       "          3.75447847e-20, -1.64335812e-20],\n",
       "        [ 1.14649472e-19,  2.44015148e-19, -2.61602487e-19,\n",
       "          9.92180600e-20,  2.29949002e-20, -5.47194516e-20,\n",
       "          1.46546756e-20,  7.05834769e-20, -1.11378994e-19,\n",
       "         -3.50236954e-21,  3.22315451e-20,  2.41748329e-21,\n",
       "         -3.74171040e-20,  5.24263371e-21,  1.00653547e-19,\n",
       "          5.03830858e-19,  2.15698128e-17,  4.02322522e-19,\n",
       "          2.86838284e-21, -2.66691990e-20],\n",
       "        [ 2.29658871e-20,  1.94313109e-20, -3.21932878e-20,\n",
       "          2.11258435e-20, -9.26521719e-21,  5.58503366e-21,\n",
       "         -9.33684706e-21,  1.46242434e-20, -8.77549742e-21,\n",
       "         -6.50282989e-21, -6.66836376e-22, -1.37743051e-21,\n",
       "         -6.61286889e-22,  1.10360609e-20, -1.16596528e-20,\n",
       "          3.23364999e-20,  4.02322522e-19,  1.71819600e-17,\n",
       "          3.05989555e-19, -1.50871902e-20],\n",
       "        [-4.20772535e-20, -1.05774366e-19,  1.06289004e-19,\n",
       "         -3.47830652e-20, -1.64039340e-20,  2.91113303e-20,\n",
       "         -1.27407880e-20, -2.27502056e-20,  4.42545034e-20,\n",
       "         -3.61202405e-21, -1.46822354e-20, -2.45361961e-21,\n",
       "          1.17757707e-20,  5.35101791e-21, -3.20985110e-20,\n",
       "          3.75447847e-20,  2.86838284e-21,  3.05989555e-19,\n",
       "          1.36657941e-17,  2.37983587e-19],\n",
       "        [ 1.30292604e-19,  1.79385213e-19, -2.28470014e-19,\n",
       "          1.14635345e-19, -1.81812901e-20, -8.87124219e-21,\n",
       "         -2.07625435e-20,  7.52418092e-20, -7.67717102e-20,\n",
       "         -1.74699810e-20,  1.47489128e-20,  6.92817877e-23,\n",
       "         -1.38954848e-20,  1.82087360e-20,  1.94820817e-20,\n",
       "         -1.64335812e-20, -2.66691990e-20, -1.50871902e-20,\n",
       "          2.37983587e-19,  1.10970171e-17]]),\n",
       " 'SSC': 0,\n",
       " 'Tri': 0,\n",
       " 'final': array([[ 4.55442007e-16,  2.30199335e-16, -4.29987758e-17,\n",
       "         -8.31388721e-18,  1.65527217e-17, -1.26126930e-17,\n",
       "          6.96736235e-18, -1.23895131e-18, -2.78820646e-18,\n",
       "          1.48581536e-18,  8.28522103e-19,  2.76947376e-20,\n",
       "         -3.77678074e-19, -2.89208023e-19,  5.76461440e-19,\n",
       "         -4.37015034e-19,  1.14649472e-19,  2.29658871e-20,\n",
       "         -4.20772535e-20,  1.30292604e-19],\n",
       "        [ 2.30199335e-16,  4.16156529e-16,  1.68654116e-16,\n",
       "         -5.55966497e-17,  2.45067327e-17, -1.38540314e-17,\n",
       "          1.05952484e-17, -7.35415762e-18,  1.18245833e-18,\n",
       "          2.32367065e-18,  3.38749263e-19, -8.67614195e-20,\n",
       "         -3.67528593e-19, -7.09097415e-19,  6.08772774e-19,\n",
       "         -4.66629431e-19,  2.44015148e-19,  1.94313109e-20,\n",
       "         -1.05774366e-19,  1.79385213e-19],\n",
       "        [-4.29987758e-17,  1.68654116e-16,  3.50168496e-16,\n",
       "          1.26044177e-16, -4.67442410e-17,  2.58084690e-17,\n",
       "         -1.54527507e-17,  6.84736668e-18,  1.58690859e-18,\n",
       "         -2.99908818e-18, -9.42605000e-19,  4.82121167e-20,\n",
       "          5.77487267e-19,  7.30047744e-19, -8.97895693e-19,\n",
       "          6.80999712e-19, -2.61602487e-19, -3.21932878e-20,\n",
       "          1.06289004e-19, -2.28470014e-19],\n",
       "        [-8.31388721e-18, -5.55966497e-17,  1.26044177e-16,\n",
       "          3.00217057e-16,  8.11025285e-17, -2.43907014e-17,\n",
       "          1.02869162e-17, -1.67014802e-18, -3.12672690e-18,\n",
       "          1.58014675e-18,  8.42196614e-19,  1.96014537e-20,\n",
       "         -3.63545255e-19, -2.50366694e-19,  5.32634264e-19,\n",
       "         -3.99394951e-19,  9.92180600e-20,  2.11258435e-20,\n",
       "         -3.47830652e-20,  1.14635345e-19],\n",
       "        [ 1.65527217e-17,  2.45067327e-17, -4.67442410e-17,\n",
       "          8.11025285e-17,  2.60138866e-16,  4.71330310e-17,\n",
       "         -5.74078799e-18, -2.50497992e-18,  3.64508335e-18,\n",
       "         -2.99546919e-19, -5.99463601e-19, -6.52995058e-20,\n",
       "          1.38450858e-19, -1.06320414e-19, -1.78121006e-19,\n",
       "          1.29896025e-19,  2.29949002e-20, -9.26521719e-21,\n",
       "         -1.64039340e-20, -1.81812901e-20],\n",
       "        [-1.26126930e-17, -1.38540314e-17,  2.58084690e-17,\n",
       "         -2.43907014e-17,  4.71330310e-17,  2.21487057e-16,\n",
       "          2.56691760e-17,  3.59422357e-18, -4.17271548e-18,\n",
       "         -1.75478285e-20,  5.45740857e-19,  8.16631554e-20,\n",
       "         -6.76286563e-20,  2.01870470e-19,  7.15235912e-20,\n",
       "         -4.93116424e-20, -5.47194516e-20,  5.58503366e-21,\n",
       "          2.91113303e-20, -8.87124219e-21],\n",
       "        [ 6.96736235e-18,  1.05952484e-17, -1.54527507e-17,\n",
       "          1.02869162e-17, -5.74078799e-18,  2.56691760e-17,\n",
       "          1.85355700e-16,  1.36228636e-17,  4.82382685e-18,\n",
       "         -8.16361271e-19, -7.08617768e-19, -5.81702025e-20,\n",
       "          1.52961168e-19, -8.45518952e-20, -1.89451979e-19,\n",
       "          1.35983047e-19,  1.46546756e-20, -9.33684706e-21,\n",
       "         -1.27407880e-20, -2.07625435e-20],\n",
       "        [-1.23895131e-18, -7.35415762e-18,  6.84736668e-18,\n",
       "         -1.67014802e-18, -2.50497992e-18,  3.59422357e-18,\n",
       "          1.36228636e-17,  1.53381878e-16,  7.11493925e-18,\n",
       "          2.72917336e-18,  7.27442472e-19, -5.33743846e-20,\n",
       "         -3.13418792e-19, -1.93772903e-19,  3.91255017e-19,\n",
       "         -2.82387906e-19,  7.05834769e-20,  1.46242434e-20,\n",
       "         -2.27502056e-20,  7.52418092e-20],\n",
       "        [-2.78820646e-18,  1.18245833e-18,  1.58690859e-18,\n",
       "         -3.12672690e-18,  3.64508335e-18, -4.17271548e-18,\n",
       "          4.82382685e-18,  7.11493925e-18,  1.26437859e-16,\n",
       "          4.59606468e-18,  3.69222154e-19,  2.12289271e-19,\n",
       "          2.67048466e-19,  3.81415378e-19, -3.12390458e-19,\n",
       "          2.24977666e-19, -1.11378994e-19, -8.77549742e-21,\n",
       "          4.42545034e-20, -7.67717102e-20],\n",
       "        [ 1.48581536e-18,  2.32367065e-18, -2.99908818e-18,\n",
       "          1.58014675e-18, -2.99546919e-19, -1.75478285e-20,\n",
       "         -8.16361271e-19,  2.72917336e-18,  4.59606468e-18,\n",
       "          1.02090695e-16,  4.11901591e-18,  2.07722148e-19,\n",
       "          1.92145925e-19, -8.67965493e-21, -1.60099516e-19,\n",
       "          1.06550694e-19, -3.50236954e-21, -6.50282989e-21,\n",
       "         -3.61202405e-21, -1.74699810e-20],\n",
       "        [ 8.28522103e-19,  3.38749263e-19, -9.42605000e-19,\n",
       "          8.42196614e-19, -5.99463601e-19,  5.45740857e-19,\n",
       "         -7.08617768e-19,  7.27442472e-19,  3.69222154e-19,\n",
       "          4.11901591e-18,  8.18172091e-17,  3.43255138e-18,\n",
       "          5.81184818e-20, -1.52416040e-19,  1.53429727e-20,\n",
       "         -1.66988904e-20,  3.22315451e-20, -6.66836376e-22,\n",
       "         -1.46822354e-20,  1.47489128e-20],\n",
       "        [ 2.76947376e-20, -8.67614195e-20,  4.82121167e-20,\n",
       "          1.96014537e-20, -6.52995058e-20,  8.16631554e-20,\n",
       "         -5.81702025e-20, -5.33743846e-20,  2.12289271e-19,\n",
       "          2.07722148e-19,  3.43255138e-18,  6.50529501e-17,\n",
       "          2.69379442e-18, -4.58827703e-20, -5.00059376e-20,\n",
       "          2.13641562e-20,  2.41748329e-21, -1.37743051e-21,\n",
       "         -2.45361961e-21,  6.92817877e-23],\n",
       "        [-3.77678074e-19, -3.67528593e-19,  5.77487267e-19,\n",
       "         -3.63545255e-19,  1.38450858e-19, -6.76286563e-20,\n",
       "          1.52961168e-19, -3.13418792e-19,  2.67048466e-19,\n",
       "          1.92145925e-19,  5.81184818e-20,  2.69379442e-18,\n",
       "          5.17214011e-17,  2.18463528e-18, -1.68345419e-19,\n",
       "          6.11904542e-20, -3.74171040e-20, -6.61286889e-22,\n",
       "          1.17757707e-20, -1.38954848e-20],\n",
       "        [-2.89208023e-19, -7.09097415e-19,  7.30047744e-19,\n",
       "         -2.50366694e-19, -1.06320414e-19,  2.01870470e-19,\n",
       "         -8.45518952e-20, -1.93772903e-19,  3.81415378e-19,\n",
       "         -8.67965493e-21, -1.52416040e-19, -4.58827703e-20,\n",
       "          2.18463528e-18,  4.13029383e-17,  1.67981622e-18,\n",
       "         -2.00902055e-19,  5.24263371e-21,  1.10360609e-20,\n",
       "          5.35101791e-21,  1.82087360e-20],\n",
       "        [ 5.76461440e-19,  6.08772774e-19, -8.97895693e-19,\n",
       "          5.32634264e-19, -1.78121006e-19,  7.15235912e-20,\n",
       "         -1.89451979e-19,  3.91255017e-19, -3.12390458e-19,\n",
       "         -1.60099516e-19,  1.53429727e-20, -5.00059376e-20,\n",
       "         -1.68345419e-19,  1.67981622e-18,  3.32942431e-17,\n",
       "          9.35160639e-19,  1.00653547e-19, -1.16596528e-20,\n",
       "         -3.20985110e-20,  1.94820817e-20],\n",
       "        [-4.37015034e-19, -4.66629431e-19,  6.80999712e-19,\n",
       "         -3.99394951e-19,  1.29896025e-19, -4.93116424e-20,\n",
       "          1.35983047e-19, -2.82387906e-19,  2.24977666e-19,\n",
       "          1.06550694e-19, -1.66988904e-20,  2.13641562e-20,\n",
       "          6.11904542e-20, -2.00902055e-19,  9.35160639e-19,\n",
       "          2.68785429e-17,  5.03830858e-19,  3.23364999e-20,\n",
       "          3.75447847e-20, -1.64335812e-20],\n",
       "        [ 1.14649472e-19,  2.44015148e-19, -2.61602487e-19,\n",
       "          9.92180600e-20,  2.29949002e-20, -5.47194516e-20,\n",
       "          1.46546756e-20,  7.05834769e-20, -1.11378994e-19,\n",
       "         -3.50236954e-21,  3.22315451e-20,  2.41748329e-21,\n",
       "         -3.74171040e-20,  5.24263371e-21,  1.00653547e-19,\n",
       "          5.03830858e-19,  2.15698128e-17,  4.02322522e-19,\n",
       "          2.86838284e-21, -2.66691990e-20],\n",
       "        [ 2.29658871e-20,  1.94313109e-20, -3.21932878e-20,\n",
       "          2.11258435e-20, -9.26521719e-21,  5.58503366e-21,\n",
       "         -9.33684706e-21,  1.46242434e-20, -8.77549742e-21,\n",
       "         -6.50282989e-21, -6.66836376e-22, -1.37743051e-21,\n",
       "         -6.61286889e-22,  1.10360609e-20, -1.16596528e-20,\n",
       "          3.23364999e-20,  4.02322522e-19,  1.71819600e-17,\n",
       "          3.05989555e-19, -1.50871902e-20],\n",
       "        [-4.20772535e-20, -1.05774366e-19,  1.06289004e-19,\n",
       "         -3.47830652e-20, -1.64039340e-20,  2.91113303e-20,\n",
       "         -1.27407880e-20, -2.27502056e-20,  4.42545034e-20,\n",
       "         -3.61202405e-21, -1.46822354e-20, -2.45361961e-21,\n",
       "          1.17757707e-20,  5.35101791e-21, -3.20985110e-20,\n",
       "          3.75447847e-20,  2.86838284e-21,  3.05989555e-19,\n",
       "          1.36657941e-17,  2.37983587e-19],\n",
       "        [ 1.30292604e-19,  1.79385213e-19, -2.28470014e-19,\n",
       "          1.14635345e-19, -1.81812901e-20, -8.87124219e-21,\n",
       "         -2.07625435e-20,  7.52418092e-20, -7.67717102e-20,\n",
       "         -1.74699810e-20,  1.47489128e-20,  6.92817877e-23,\n",
       "         -1.38954848e-20,  1.82087360e-20,  1.94820817e-20,\n",
       "         -1.64335812e-20, -2.66691990e-20, -1.50871902e-20,\n",
       "          2.37983587e-19,  1.10970171e-17]])}"
      ]
     },
     "execution_count": 82,
     "metadata": {},
     "output_type": "execute_result"
    }
   ],
   "source": [
    "cov[corr_ll+corr_ll][(2,2,2,2)][bi+bi]"
   ]
  },
  {
   "cell_type": "code",
   "execution_count": 116,
   "metadata": {},
   "outputs": [
    {
     "name": "stderr",
     "output_type": "stream",
     "text": [
      "04:26:35 INFO:j-nu=0 not enough zeros to cover l_min, increasing by 1000 to 2000\n",
      "04:26:35 INFO:j-nu=0 not enough zeros to cover l_min, increasing by 1000 to 3000\n",
      "04:26:35 INFO:j-nu=0 not enough zeros to cover l_min, increasing by 1000 to 4000\n",
      "04:26:35 INFO:j-nu=0 not enough zeros to cover l_min, increasing by 1000 to 5000\n",
      "04:26:35 INFO:j-nu=0 not enough zeros to cover l_min, increasing by 1000 to 6000\n",
      "04:26:35 INFO:j-nu=0 not enough zeros to cover l_min, increasing by 1000 to 7000\n",
      "04:26:35 INFO:j-nu=0 not enough zeros to cover l_min, increasing by 1000 to 8000\n",
      "04:26:35 INFO:j-nu=0 not enough zeros to cover l_min, increasing by 1000 to 9000\n",
      "04:26:35 INFO:j-nu=0 not enough zeros to cover l_min, increasing by 1000 to 10000\n",
      "04:26:35 INFO:j-nu=0 not enough zeros to cover l_min, increasing by 1000 to 11000\n",
      "04:26:35 INFO:j-nu=0 not enough zeros to cover l_min, increasing by 1000 to 12000\n",
      "04:26:35 INFO:j-nu=0 not enough zeros to cover l_min, increasing by 1000 to 13000\n",
      "04:26:35 INFO:j-nu=0 not enough zeros to cover l_min, increasing by 1000 to 14000\n",
      "04:26:35 INFO:j-nu=0 not enough zeros to cover l_min, increasing by 1000 to 15000\n",
      "04:26:35 INFO:j-nu=0 not enough zeros to cover l_min, increasing by 1000 to 16000\n",
      "04:26:35 INFO:j-nu=0 not enough zeros to cover l_min, increasing by 1000 to 17000\n",
      "04:26:35 INFO:j-nu=0 not enough zeros to cover l_min, increasing by 1000 to 18000\n",
      "04:26:35 INFO:j-nu=0 not enough zeros to cover l_min, increasing by 1000 to 19000\n",
      "04:26:35 INFO:j-nu=0 not enough zeros to cover l_min, increasing by 1000 to 20000\n",
      "04:26:35 INFO:j-nu=0 not enough zeros to cover l_min, increasing by 1000 to 21000\n",
      "04:26:35 INFO:j-nu=0 not enough zeros to cover l_min, increasing by 1000 to 22000\n",
      "04:26:35 INFO:j-nu=0 not enough zeros to cover l_min, increasing by 1000 to 23000\n",
      "04:26:35 INFO:j-nu=0 not enough zeros to cover l_min, increasing by 1000 to 24000\n",
      "04:26:35 INFO:j-nu=0 not enough zeros to cover l_min, increasing by 1000 to 25000\n",
      "04:26:35 INFO:j-nu=0 not enough zeros to cover l_min, increasing by 1000 to 26000\n",
      "04:26:35 INFO:j-nu=0 not enough zeros to cover l_min, increasing by 1000 to 27000\n",
      "04:26:35 INFO:j-nu=0 not enough zeros to cover l_min, increasing by 1000 to 28000\n",
      "04:26:35 INFO:j-nu=0 not enough zeros to cover l_min, increasing by 1000 to 29000\n",
      "04:26:35 INFO:j-nu=0 not enough zeros to cover l_min, increasing by 1000 to 30000\n",
      "04:26:35 INFO:j-nu=0 not enough zeros to cover l_min, increasing by 1000 to 31000\n",
      "04:26:35 INFO:j-nu=0 not enough zeros to cover l_min, increasing by 1000 to 32000\n",
      "04:26:35 INFO:j-nu=0 not enough zeros to cover l_min, increasing by 1000 to 33000\n",
      "04:26:35 INFO:j-nu=0 not enough zeros to cover l_min, increasing by 1000 to 34000\n",
      "04:26:35 INFO:j-nu=0 not enough zeros to cover l_min, increasing by 1000 to 35000\n",
      "04:26:36 INFO:j-nu=0 not enough zeros to cover l_min, increasing by 1000 to 36000\n",
      "04:26:36 INFO:j-nu=0 not enough zeros to cover l_min, increasing by 1000 to 37000\n",
      "04:26:36 INFO:j-nu=0 not enough zeros to cover l_min, increasing by 1000 to 38000\n",
      "04:26:36 INFO:j-nu=0 not enough zeros to cover l_min, increasing by 1000 to 39000\n",
      "04:26:36 INFO:j-nu=0 not enough zeros to cover l_min, increasing by 1000 to 40000\n",
      "04:26:36 INFO:j-nu=0 not enough zeros to cover l_min, increasing by 1000 to 41000\n",
      "04:26:36 INFO:j-nu=0 not enough zeros to cover l_min, increasing by 1000 to 42000\n",
      "04:26:36 INFO:j-nu=0 not enough zeros to cover l_min, increasing by 1000 to 43000\n",
      "04:26:36 INFO:j-nu=0 not enough zeros to cover l_min, increasing by 1000 to 44000\n",
      "04:26:36 INFO:j-nu=0 not enough zeros to cover l_min, increasing by 1000 to 45000\n",
      "04:26:36 INFO:j-nu=0 not enough zeros to cover l_min, increasing by 1000 to 46000\n",
      "04:26:36 INFO:j-nu=0 not enough zeros to cover l_min, increasing by 1000 to 47000\n",
      "04:26:36 INFO:j-nu=0 not enough zeros to cover l_min, increasing by 1000 to 48000\n",
      "04:26:36 INFO:j-nu=0 not enough zeros to cover l_min, increasing by 1000 to 49000\n",
      "04:26:36 INFO:j-nu=0 not enough zeros to cover l_min, increasing by 1000 to 50000\n",
      "04:26:36 INFO:j-nu=0 not enough zeros to cover l_min, increasing by 1000 to 51000\n",
      "04:26:37 INFO:j-nu=0 not enough zeros to cover l_min, increasing by 1000 to 52000\n",
      "04:26:37 INFO:j-nu=0 not enough zeros to cover l_min, increasing by 1000 to 53000\n",
      "04:26:37 INFO:j-nu=0 not enough zeros to cover l_min, increasing by 1000 to 54000\n",
      "04:26:37 INFO:j-nu=0 not enough zeros to cover l_min, increasing by 1000 to 55000\n",
      "04:26:37 INFO:j-nu=0 not enough zeros to cover l_min, increasing by 1000 to 56000\n",
      "04:26:37 INFO:j-nu=0 not enough zeros to cover l_min, increasing by 1000 to 57000\n",
      "04:26:37 INFO:j-nu=0 not enough zeros to cover l_min, increasing by 1000 to 58000\n",
      "04:26:37 INFO:j-nu=0 not enough zeros to cover l_min, increasing by 1000 to 59000\n",
      "04:26:37 INFO:j-nu=0 not enough zeros to cover l_min, increasing by 1000 to 60000\n",
      "04:26:37 INFO:j-nu=0 not enough zeros to cover l_min, increasing by 1000 to 61000\n",
      "04:26:37 INFO:j-nu=0 not enough zeros to cover l_min, increasing by 1000 to 62000\n",
      "04:26:37 INFO:j-nu=0 not enough zeros to cover l_min, increasing by 1000 to 63000\n",
      "04:26:37 INFO:j-nu=0 not enough zeros to cover l_min, increasing by 1000 to 64000\n",
      "04:26:38 INFO:j-nu=0 not enough zeros to cover l_min, increasing by 1000 to 65000\n",
      "04:26:38 INFO:j-nu=0 not enough zeros to cover l_min, increasing by 1000 to 66000\n",
      "04:26:38 INFO:j-nu=0 not enough zeros to cover l_min, increasing by 1000 to 67000\n",
      "04:26:38 INFO:j-nu=0 not enough zeros to cover l_min, increasing by 1000 to 68000\n",
      "04:26:38 INFO:j-nu=0 not enough zeros to cover l_min, increasing by 1000 to 69000\n",
      "04:26:38 INFO:j-nu=0 not enough zeros to cover l_min, increasing by 1000 to 70000\n",
      "04:26:38 INFO:j-nu=0 not enough zeros to cover l_min, increasing by 1000 to 71000\n",
      "04:26:38 INFO:j-nu=0 not enough zeros to cover l_min, increasing by 1000 to 72000\n",
      "04:26:38 INFO:j-nu=0 not enough zeros to cover l_min, increasing by 1000 to 73000\n",
      "04:26:38 INFO:j-nu=0 not enough zeros to cover l_min, increasing by 1000 to 74000\n",
      "04:26:39 INFO:j-nu=0 not enough zeros to cover l_min, increasing by 1000 to 75000\n",
      "04:26:39 INFO:j-nu=0 not enough zeros to cover l_min, increasing by 1000 to 76000\n",
      "04:26:39 INFO:j-nu=0 not enough zeros to cover l_min, increasing by 1000 to 77000\n",
      "04:26:39 INFO:j-nu=0 not enough zeros to cover l_min, increasing by 1000 to 78000\n",
      "04:26:39 INFO:j-nu=0 not enough zeros to cover l_min, increasing by 1000 to 79000\n",
      "04:26:39 INFO:j-nu=0 not enough zeros to cover l_min, increasing by 1000 to 80000\n",
      "04:26:39 INFO:j-nu=0 not enough zeros to cover l_min, increasing by 1000 to 81000\n",
      "04:26:39 INFO:j-nu=0 not enough zeros to cover l_min, increasing by 1000 to 82000\n",
      "04:26:39 INFO:j-nu=0 not enough zeros to cover l_min, increasing by 1000 to 83000\n",
      "04:26:39 INFO:j-nu=0 not enough zeros to cover l_min, increasing by 1000 to 84000\n",
      "04:26:40 INFO:j-nu=0 not enough zeros to cover l_min, increasing by 1000 to 85000\n",
      "04:26:40 INFO:j-nu=0 not enough zeros to cover l_min, increasing by 1000 to 86000\n",
      "04:26:40 INFO:j-nu=0 not enough zeros to cover l_min, increasing by 1000 to 87000\n",
      "04:26:40 INFO:j-nu=0 not enough zeros to cover l_min, increasing by 1000 to 88000\n",
      "04:26:40 INFO:j-nu=0 not enough zeros to cover l_min, increasing by 1000 to 89000\n",
      "04:26:40 INFO:j-nu=0 not enough zeros to cover l_min, increasing by 1000 to 90000\n",
      "04:26:40 INFO:j-nu=0 not enough zeros to cover l_min, increasing by 1000 to 91000\n",
      "04:26:40 INFO:j-nu=0 not enough zeros to cover l_min, increasing by 1000 to 92000\n",
      "04:26:41 INFO:j-nu=0 not enough zeros to cover l_min, increasing by 1000 to 93000\n",
      "04:26:41 INFO:j-nu=0 not enough zeros to cover l_min, increasing by 1000 to 94000\n",
      "04:26:41 INFO:j-nu=0 not enough zeros to cover l_min, increasing by 1000 to 95000\n",
      "04:26:41 INFO:j-nu=0 not enough zeros to cover l_min, increasing by 1000 to 96000\n",
      "04:26:41 INFO:j-nu=0 not enough zeros to cover l_min, increasing by 1000 to 97000\n",
      "04:26:41 INFO:j-nu=0 not enough zeros to cover l_min, increasing by 1000 to 98000\n",
      "04:26:41 INFO:j-nu=0 not enough zeros to cover l_min, increasing by 1000 to 99000\n",
      "04:26:41 INFO:j-nu=0 not enough zeros to cover l_min, increasing by 1000 to 100000\n",
      "04:26:42 INFO:j-nu=0 not enough zeros to cover l_min, increasing by 1000 to 101000\n"
     ]
    },
    {
     "name": "stderr",
     "output_type": "stream",
     "text": [
      "04:26:42 INFO:j-nu=0 not enough zeros to cover l_min, increasing by 1000 to 102000\n",
      "04:26:42 INFO:j-nu=0 not enough zeros to cover l_min, increasing by 1000 to 103000\n",
      "04:26:42 INFO:j-nu=0 not enough zeros to cover l_min, increasing by 1000 to 104000\n",
      "04:26:42 INFO:j-nu=0 not enough zeros to cover l_min, increasing by 1000 to 105000\n",
      "04:26:42 INFO:j-nu=0 not enough zeros to cover l_min, increasing by 1000 to 106000\n",
      "04:26:42 INFO:j-nu=0 not enough zeros to cover l_min, increasing by 1000 to 107000\n",
      "04:26:43 INFO:j-nu=0 not enough zeros to cover l_min, increasing by 1000 to 108000\n",
      "04:26:43 INFO:j-nu=0 not enough zeros to cover l_min, increasing by 1000 to 109000\n",
      "04:26:43 INFO:j-nu=0 not enough zeros to cover l_min, increasing by 1000 to 110000\n",
      "04:26:43 INFO:j-nu=0 not enough zeros to cover l_min, increasing by 1000 to 111000\n",
      "04:26:43 INFO:j-nu=0 not enough zeros to cover l_min, increasing by 1000 to 112000\n",
      "04:26:43 INFO:j-nu=0 not enough zeros to cover l_min, increasing by 1000 to 113000\n",
      "04:26:43 INFO:j-nu=0 not enough zeros to cover l_min, increasing by 1000 to 114000\n",
      "04:26:44 INFO:j-nu=0 not enough zeros to cover l_min, increasing by 1000 to 115000\n",
      "04:26:44 INFO:j-nu=0 not enough zeros to cover l_min, increasing by 1000 to 116000\n",
      "04:26:44 INFO:j-nu=0 not enough zeros to cover l_min, increasing by 1000 to 117000\n",
      "04:26:44 INFO:j-nu=0 not enough zeros to cover l_min, increasing by 1000 to 118000\n",
      "04:26:44 INFO:j-nu=0 not enough zeros to cover l_min, increasing by 1000 to 119000\n",
      "04:26:44 INFO:j-nu=0 not enough zeros to cover l_min, increasing by 1000 to 120000\n",
      "04:26:45 INFO:j-nu=0 not enough zeros to cover l_min, increasing by 1000 to 121000\n",
      "04:26:45 INFO:j-nu=0 not enough zeros to cover l_min, increasing by 1000 to 122000\n",
      "04:26:45 INFO:j-nu=0 not enough zeros to cover l_min, increasing by 1000 to 123000\n",
      "04:26:45 INFO:j-nu=0 not enough zeros to cover l_min, increasing by 1000 to 124000\n",
      "04:26:45 INFO:j-nu=0 not enough zeros to cover l_min, increasing by 1000 to 125000\n",
      "04:26:45 INFO:j-nu=0 not enough zeros to cover l_min, increasing by 1000 to 126000\n",
      "04:26:46 INFO:j-nu=0 not enough zeros to cover l_min, increasing by 1000 to 127000\n",
      "04:26:46 INFO:j-nu=0 not enough zeros to cover l_min, increasing by 1000 to 128000\n",
      "04:26:46 INFO:j-nu=0 not enough zeros to cover l_min, increasing by 1000 to 129000\n",
      "04:26:46 INFO:j-nu=0 not enough zeros to cover l_min, increasing by 1000 to 130000\n",
      "04:26:46 INFO:j-nu=0 not enough zeros to cover l_min, increasing by 1000 to 131000\n",
      "04:26:46 INFO:j-nu=0 not enough zeros to cover l_min, increasing by 1000 to 132000\n",
      "04:26:47 INFO:j-nu=0 not enough zeros to cover l_min, increasing by 1000 to 133000\n",
      "04:26:47 INFO:j-nu=0 not enough zeros to cover l_min, increasing by 1000 to 134000\n",
      "04:26:47 INFO:j-nu=0 not enough zeros to cover l_min, increasing by 1000 to 135000\n",
      "04:26:47 INFO:j-nu=0 not enough zeros to cover l_min, increasing by 1000 to 136000\n",
      "04:26:47 INFO:j-nu=0 not enough zeros to cover l_min, increasing by 1000 to 137000\n",
      "04:26:47 INFO:j-nu=0 not enough zeros to cover l_min, increasing by 1000 to 138000\n",
      "04:26:48 INFO:j-nu=0 not enough zeros to cover l_min, increasing by 1000 to 139000\n",
      "04:26:48 INFO:j-nu=0 not enough zeros to cover l_min, increasing by 1000 to 140000\n",
      "04:26:48 INFO:j-nu=0 not enough zeros to cover l_min, increasing by 1000 to 141000\n",
      "04:26:48 INFO:j-nu=0 not enough zeros to cover l_min, increasing by 1000 to 142000\n",
      "04:26:48 INFO:j-nu=0 not enough zeros to cover l_min, increasing by 1000 to 143000\n",
      "04:26:49 INFO:j-nu=0 not enough zeros to cover l_min, increasing by 1000 to 144000\n",
      "04:26:49 INFO:j-nu=0 not enough zeros to cover l_min, increasing by 1000 to 145000\n",
      "04:26:49 INFO:j-nu=0 not enough zeros to cover l_min, increasing by 1000 to 146000\n",
      "04:26:49 INFO:j-nu=0 not enough zeros to cover l_min, increasing by 1000 to 147000\n",
      "04:26:49 INFO:j-nu=0 not enough zeros to cover l_min, increasing by 1000 to 148000\n",
      "04:26:50 INFO:j-nu=0 not enough zeros to cover l_min, increasing by 1000 to 149000\n",
      "04:26:50 INFO:j-nu=0 not enough zeros to cover l_min, increasing by 1000 to 150000\n",
      "04:26:50 INFO:j-nu=0 not enough zeros to cover l_min, increasing by 1000 to 151000\n",
      "04:26:50 INFO:j-nu=0 not enough zeros to cover l_min, increasing by 1000 to 152000\n",
      "04:26:50 INFO:j-nu=0 not enough zeros to cover l_min, increasing by 1000 to 153000\n",
      "04:26:51 INFO:j-nu=0 not enough zeros to cover l_min, increasing by 1000 to 154000\n",
      "04:26:51 INFO:nr:44\n"
     ]
    }
   ],
   "source": [
    "HT_kwargs={'theta_min':th_min*d2r,'theta_max':th_max*d2r,'l_min':1.e-2,'l_max':lmax_cl,'logger':kappa00.logger}\n",
    "HT=hankel_transform(**HT_kwargs)"
   ]
  },
  {
   "cell_type": "code",
   "execution_count": 117,
   "metadata": {},
   "outputs": [
    {
     "data": {
      "text/plain": [
       "(array([0.00589577, 0.00746546, 0.00903553, 0.01060582, 0.01217624,\n",
       "        0.01374674, 0.0153173 , 0.01688791, 0.01845855, 0.02002921,\n",
       "        0.0215999 , 0.02317059, 0.0247413 , 0.02631203, 0.02788276,\n",
       "        0.02945349, 0.03102423, 0.03259498, 0.03416573, 0.03573649,\n",
       "        0.03730725, 0.03887801, 0.04044878, 0.04201955, 0.04359031,\n",
       "        0.04516109, 0.04673186, 0.04830263, 0.04987341, 0.05144419,\n",
       "        0.05301497, 0.05458574, 0.05615653, 0.05772731, 0.05929809,\n",
       "        0.06086887, 0.06243965, 0.06401044, 0.06558122, 0.06715201,\n",
       "        0.06872279, 0.07029358, 0.07186437, 0.07343515]),\n",
       " array([[ 6.63483586e-16,  8.48139612e-24, -9.32989309e-24, ...,\n",
       "          2.60056671e-23, -2.62940411e-23,  2.65792487e-23],\n",
       "        [ 8.48139614e-24,  5.23805123e-16,  1.04969163e-23, ...,\n",
       "         -2.92585675e-23,  2.95830125e-23, -2.99038951e-23],\n",
       "        [-9.32989309e-24,  1.04969163e-23,  4.32709233e-16, ...,\n",
       "          3.21856572e-23, -3.25425604e-23,  3.28955447e-23],\n",
       "        ...,\n",
       "        [ 2.60056671e-23, -2.92585675e-23,  3.21856572e-23, ...,\n",
       "          5.55994968e-17,  9.07074711e-23, -9.16913619e-23],\n",
       "        [-2.62940411e-23,  2.95830125e-23, -3.25425604e-23, ...,\n",
       "          9.07074711e-23,  5.43842033e-17,  9.27081176e-23],\n",
       "        [ 2.65792487e-23, -2.99038951e-23,  3.28955447e-23, ...,\n",
       "         -9.16913619e-23,  9.27081176e-23,  5.32209008e-17]]))"
      ]
     },
     "execution_count": 117,
     "metadata": {},
     "output_type": "execute_result"
    }
   ],
   "source": [
    "HT.projected_covariance(cl_cov=np.diag(cov_cl[corr_ll+corr_ll][bi+bi]['G']),l_cl=kappa00.l,m1_m2=(0,0),taper=False)"
   ]
  },
  {
   "cell_type": "code",
   "execution_count": 120,
   "metadata": {},
   "outputs": [],
   "source": [
    "th,c=WT.projected_covariance(cl_cov=np.diag(cov_cl[corr_ll+corr_ll][bi+bi]['G']),l_cl=kappa00.l,s1_s2=(0,0),taper=False)"
   ]
  },
  {
   "cell_type": "code",
   "execution_count": 128,
   "metadata": {},
   "outputs": [
    {
     "data": {
      "text/plain": [
       "((2000,), (2000,))"
      ]
     },
     "execution_count": 128,
     "metadata": {},
     "output_type": "execute_result"
    }
   ],
   "source": [
    "WT.norm.shape,np.diag(cov_cl[corr_ll+corr_ll][bi+bi]['G']).shape"
   ]
  },
  {
   "cell_type": "code",
   "execution_count": 129,
   "metadata": {},
   "outputs": [
    {
     "ename": "ValueError",
     "evalue": "operands could not be broadcast together with shapes (800,) (2000,) ",
     "output_type": "error",
     "traceback": [
      "\u001b[0;31m---------------------------------------------------------------------------\u001b[0m",
      "\u001b[0;31mValueError\u001b[0m                                Traceback (most recent call last)",
      "\u001b[0;32m<ipython-input-129-9a99d3def279>\u001b[0m in \u001b[0;36m<module>\u001b[0;34m\u001b[0m\n\u001b[0;32m----> 1\u001b[0;31m \u001b[0mWT\u001b[0m\u001b[0;34m.\u001b[0m\u001b[0mwig_d\u001b[0m\u001b[0;34m[\u001b[0m\u001b[0;34m(\u001b[0m\u001b[0;36m0\u001b[0m\u001b[0;34m,\u001b[0m\u001b[0;36m0\u001b[0m\u001b[0;34m)\u001b[0m\u001b[0;34m]\u001b[0m\u001b[0;34m@\u001b[0m\u001b[0mnp\u001b[0m\u001b[0;34m.\u001b[0m\u001b[0mdiag\u001b[0m\u001b[0;34m(\u001b[0m\u001b[0mcov_cl\u001b[0m\u001b[0;34m[\u001b[0m\u001b[0mcorr_ll\u001b[0m\u001b[0;34m+\u001b[0m\u001b[0mcorr_ll\u001b[0m\u001b[0;34m]\u001b[0m\u001b[0;34m[\u001b[0m\u001b[0mbi\u001b[0m\u001b[0;34m+\u001b[0m\u001b[0mbi\u001b[0m\u001b[0;34m]\u001b[0m\u001b[0;34m[\u001b[0m\u001b[0;34m'G'\u001b[0m\u001b[0;34m]\u001b[0m\u001b[0;34m)\u001b[0m\u001b[0;34m*\u001b[0m\u001b[0mWT\u001b[0m\u001b[0;34m.\u001b[0m\u001b[0mnorm\u001b[0m \u001b[0;31m#@WT.wig_d[(0,0)]\u001b[0m\u001b[0;34m\u001b[0m\u001b[0;34m\u001b[0m\u001b[0m\n\u001b[0m",
      "\u001b[0;31mValueError\u001b[0m: operands could not be broadcast together with shapes (800,) (2000,) "
     ]
    }
   ],
   "source": [
    "WT.wig_d[(0,0)]@np.diag(cov_cl[corr_ll+corr_ll][bi+bi]['G'])*WT.norm #@WT.wig_d[(0,0)]"
   ]
  },
  {
   "cell_type": "code",
   "execution_count": 137,
   "metadata": {},
   "outputs": [],
   "source": [
    "s1_s2=(0,0)\n",
    "s1_s2_cross=(0,0)\n",
    "cov=np.einsum('rk,k,sk->rs',WT.wig_d[s1_s2]*WT.norm,np.diag(cov_cl[corr_ll+corr_ll][bi+bi]['G']),\n",
    "                    WT.wig_d[s1_s2_cross]*WT.norm)"
   ]
  },
  {
   "cell_type": "code",
   "execution_count": 138,
   "metadata": {},
   "outputs": [
    {
     "data": {
      "text/plain": [
       "array([[ 8.92068065e-14,  8.88505551e-14,  8.84129093e-14, ...,\n",
       "        -2.38479029e-16, -1.45513020e-16, -2.85447388e-17],\n",
       "       [ 8.88505551e-14,  8.85643041e-14,  8.81970940e-14, ...,\n",
       "        -2.20434452e-16, -1.38812795e-16, -3.42698170e-17],\n",
       "       [ 8.84129093e-14,  8.81970940e-14,  8.79008524e-14, ...,\n",
       "        -2.02007958e-16, -1.31877260e-16, -3.99457439e-17],\n",
       "       ...,\n",
       "       [-2.38479029e-16, -2.20434452e-16, -2.02007958e-16, ...,\n",
       "         8.55130326e-15,  8.17791571e-15,  7.11195490e-15],\n",
       "       [-1.45513020e-16, -1.38812795e-16, -1.31877260e-16, ...,\n",
       "         8.17791571e-15,  8.55438508e-15,  8.19348938e-15],\n",
       "       [-2.85447388e-17, -3.42698170e-17, -3.99457439e-17, ...,\n",
       "         7.11195490e-15,  8.19348938e-15,  8.57740988e-15]])"
      ]
     },
     "execution_count": 138,
     "metadata": {},
     "output_type": "execute_result"
    }
   ],
   "source": [
    "cov"
   ]
  },
  {
   "cell_type": "code",
   "execution_count": null,
   "metadata": {},
   "outputs": [],
   "source": []
  }
 ],
 "metadata": {
  "hide_input": false,
  "kernelspec": {
   "display_name": "Python 3",
   "language": "python",
   "name": "python3"
  },
  "language_info": {
   "codemirror_mode": {
    "name": "ipython",
    "version": 3
   },
   "file_extension": ".py",
   "mimetype": "text/x-python",
   "name": "python",
   "nbconvert_exporter": "python",
   "pygments_lexer": "ipython3",
   "version": "3.8.2"
  }
 },
 "nbformat": 4,
 "nbformat_minor": 2
}
