{
 "cells": [
  {
   "cell_type": "code",
   "execution_count": 1,
   "metadata": {},
   "outputs": [],
   "source": [
    "%run ../PCA_shear.py"
   ]
  },
  {
   "cell_type": "code",
   "execution_count": 2,
   "metadata": {},
   "outputs": [
    {
     "name": "stderr",
     "output_type": "stream",
     "text": [
      "/home/hungjinh/anaconda2/envs/py36/lib/python3.6/site-packages/astropy/units/quantity.py:968: RuntimeWarning: divide by zero encountered in true_divide\n",
      "  return super(Quantity, self).__rtruediv__(other)\n"
     ]
    }
   ],
   "source": [
    "PCA_simName = [\"owls_AGN\",\"owls_DBLIMFV1618\",\"owls_NOSN\",\"owls_NOSN_NOZCOOL\",\"owls_NOZCOOL\",\"owls_REF\",\"owls_WDENS\",\"owls_WML1V848\",\"owls_WML4\"]\n",
    "PCA = PCA_shear(PCA_simName=PCA_simName,NmarQ=1)"
   ]
  },
  {
   "cell_type": "code",
   "execution_count": 3,
   "metadata": {},
   "outputs": [
    {
     "data": {
      "text/plain": [
       "(240,)"
      ]
     },
     "execution_count": 3,
     "metadata": {},
     "output_type": "execute_result"
    }
   ],
   "source": [
    "PCA.datav.shape"
   ]
  },
  {
   "cell_type": "code",
   "execution_count": 4,
   "metadata": {},
   "outputs": [
    {
     "name": "stderr",
     "output_type": "stream",
     "text": [
      "/home/hungjinh/anaconda2/envs/py36/lib/python3.6/site-packages/astropy/units/quantity.py:968: RuntimeWarning: divide by zero encountered in true_divide\n",
      "  return super(Quantity, self).__rtruediv__(other)\n"
     ]
    },
    {
     "data": {
      "text/plain": [
       "array([ 3.27977211,  0.72223976, -0.11146902,  0.06182951,  0.21938997,\n",
       "        0.03494494,  0.02069862, -0.02773548,  0.02039337])"
      ]
     },
     "execution_count": 4,
     "metadata": {},
     "output_type": "execute_result"
    }
   ],
   "source": [
    "PCA.cal_Qexp(scenario=\"eagle\")"
   ]
  },
  {
   "cell_type": "code",
   "execution_count": 5,
   "metadata": {},
   "outputs": [
    {
     "name": "stderr",
     "output_type": "stream",
     "text": [
      "/home/hungjinh/anaconda2/envs/py36/lib/python3.6/site-packages/astropy/units/quantity.py:968: RuntimeWarning: divide by zero encountered in true_divide\n",
      "  return super(Quantity, self).__rtruediv__(other)\n"
     ]
    },
    {
     "data": {
      "text/plain": [
       "array([50.99516458, -2.87661065,  3.07355873, -1.47673463,  0.31920659,\n",
       "       -0.27404216, -0.27499995, -0.15393662,  0.09418818])"
      ]
     },
     "execution_count": 5,
     "metadata": {},
     "output_type": "execute_result"
    }
   ],
   "source": [
    "PCA.cal_Qexp(scenario=\"illustris\")"
   ]
  },
  {
   "cell_type": "code",
   "execution_count": 6,
   "metadata": {},
   "outputs": [
    {
     "name": "stderr",
     "output_type": "stream",
     "text": [
      "/home/hungjinh/anaconda2/envs/py36/lib/python3.6/site-packages/astropy/units/quantity.py:968: RuntimeWarning: divide by zero encountered in true_divide\n",
      "  return super(Quantity, self).__rtruediv__(other)\n"
     ]
    },
    {
     "data": {
      "text/plain": [
       "array([-0.16204197, -1.23673744, -0.23070974, -0.2073604 ,  0.26371949,\n",
       "        0.01087604,  0.00769706, -0.05711032,  0.00518562])"
      ]
     },
     "execution_count": 6,
     "metadata": {},
     "output_type": "execute_result"
    }
   ],
   "source": [
    "PCA.cal_Qexp(scenario=\"mb2\")"
   ]
  },
  {
   "cell_type": "code",
   "execution_count": 7,
   "metadata": {},
   "outputs": [
    {
     "name": "stderr",
     "output_type": "stream",
     "text": [
      "/home/hungjinh/anaconda2/envs/py36/lib/python3.6/site-packages/astropy/units/quantity.py:968: RuntimeWarning: divide by zero encountered in true_divide\n",
      "  return super(Quantity, self).__rtruediv__(other)\n"
     ]
    },
    {
     "data": {
      "text/plain": [
       "array([2.00637081e-08, 1.88711336e-08, 1.73925894e-08, 1.57135191e-08,\n",
       "       1.42508399e-08, 1.29642244e-08, 1.14402381e-08, 1.00229552e-08,\n",
       "       8.87201833e-09, 7.71352325e-09, 6.70513877e-09, 5.82931653e-09,\n",
       "       4.96900920e-09, 4.25472730e-09, 3.62958462e-09, 3.07067867e-09,\n",
       "       2.59002036e-09, 2.18774850e-09, 1.85672654e-09, 1.57159982e-09,\n",
       "       1.33170326e-09, 1.13292042e-09, 9.66908614e-10, 8.27829463e-10,\n",
       "       7.10811261e-10, 6.11899047e-10, 5.27996110e-10, 4.55875919e-10,\n",
       "       3.93337996e-10, 3.39588810e-10, 2.92655694e-10, 2.51343720e-10,\n",
       "       2.15234228e-10, 1.83428496e-10, 1.55395236e-10, 1.30860649e-10,\n",
       "       1.09436283e-10, 9.08495816e-11, 7.48718402e-11, 6.12509884e-11,\n",
       "       2.80748905e-08, 2.67854470e-08, 2.51046042e-08, 2.30886960e-08,\n",
       "       2.12538925e-08, 1.95727467e-08, 1.75077277e-08, 1.55189160e-08,\n",
       "       1.38576886e-08, 1.21495552e-08, 1.06424077e-08, 9.32207079e-09,\n",
       "       8.01721015e-09, 6.92433230e-09, 5.95348813e-09, 5.06703069e-09,\n",
       "       4.28551181e-09, 3.61728503e-09, 3.06048092e-09, 2.58008335e-09,\n",
       "       2.17735704e-09, 1.84364360e-09, 1.56373440e-09, 1.32921279e-09,\n",
       "       1.13359938e-09, 9.70057242e-10, 8.32644342e-10, 7.16022175e-10,\n",
       "       6.16291516e-10, 5.31658440e-10, 4.58635189e-10, 3.94972399e-10,\n",
       "       3.39718035e-10, 2.91246952e-10, 2.48565649e-10, 2.11134669e-10,\n",
       "       1.78290558e-10, 1.49588077e-10, 1.24677676e-10, 1.03201406e-10,\n",
       "       3.07546993e-08, 2.94449533e-08, 2.77112054e-08, 2.55987212e-08,\n",
       "       2.36525386e-08, 2.18496120e-08, 1.96133368e-08, 1.74391129e-08,\n",
       "       1.56085996e-08, 1.37142407e-08, 1.20351709e-08, 1.05596677e-08,\n",
       "       9.09903270e-09, 7.87410188e-09, 6.78373831e-09, 5.78449722e-09,\n",
       "       4.89856856e-09, 4.13625599e-09, 3.49781852e-09, 2.94593510e-09,\n",
       "       2.48379621e-09, 2.10134234e-09, 1.78019620e-09, 1.51065744e-09,\n",
       "       1.28609061e-09, 1.09889828e-09, 9.41896396e-10, 8.08969506e-10,\n",
       "       6.95688378e-10, 5.99842107e-10, 5.17401952e-10, 4.45720173e-10,\n",
       "       3.83641568e-10, 3.29266650e-10, 2.81424788e-10, 2.39470961e-10,\n",
       "       2.02635111e-10, 1.70403578e-10, 1.42378763e-10, 1.18161770e-10,\n",
       "       4.58816983e-08, 4.48125466e-08, 4.32068096e-08, 4.10066445e-08,\n",
       "       3.88001370e-08, 3.65960295e-08, 3.36714552e-08, 3.06298905e-08,\n",
       "       2.79122684e-08, 2.49460976e-08, 2.22028255e-08, 1.97079459e-08,\n",
       "       1.71841731e-08, 1.50409557e-08, 1.31193884e-08, 1.13422846e-08,\n",
       "       9.73665923e-09, 8.31049674e-09, 7.06572473e-09, 5.94701754e-09,\n",
       "       4.98951245e-09, 4.19757871e-09, 3.53857764e-09, 2.98357031e-09,\n",
       "       2.51480951e-09, 2.12388691e-09, 1.80088778e-09, 1.53070742e-09,\n",
       "       1.30348421e-09, 1.11500472e-09, 9.56100317e-10, 8.20735000e-10,\n",
       "       7.05755132e-10, 6.06742094e-10, 5.20799323e-10, 4.46146817e-10,\n",
       "       3.80934737e-10, 3.23910402e-10, 2.74144494e-10, 2.30813642e-10,\n",
       "       5.33606708e-08, 5.24816355e-08, 5.10336452e-08, 4.89059568e-08,\n",
       "       4.66774252e-08, 4.43722047e-08, 4.12223828e-08, 3.78524715e-08,\n",
       "       3.47652614e-08, 3.13156609e-08, 2.80593555e-08, 2.50408581e-08,\n",
       "       2.19414204e-08, 1.92805449e-08, 1.68811171e-08, 1.46584158e-08,\n",
       "       1.26491521e-08, 1.08581741e-08, 9.27934307e-09, 7.83659026e-09,\n",
       "       6.57828177e-09, 5.52433057e-09, 4.64696241e-09, 3.91274291e-09,\n",
       "       3.29264519e-09, 2.77123914e-09, 2.33899805e-09, 1.97960360e-09,\n",
       "       1.67868128e-09, 1.42982032e-09, 1.22149166e-09, 1.04533469e-09,\n",
       "       8.96836970e-10, 7.69966894e-10, 6.60633519e-10, 5.66258093e-10,\n",
       "       4.84225577e-10, 4.12738496e-10, 3.50463241e-10, 2.96251295e-10,\n",
       "       6.48926841e-08, 6.44559413e-08, 6.34472668e-08, 6.16703159e-08,\n",
       "       5.96282411e-08, 5.73702024e-08, 5.41195612e-08, 5.04702071e-08,\n",
       "       4.69846285e-08, 4.29324793e-08, 3.89682328e-08, 3.51600733e-08,\n",
       "       3.11248724e-08, 2.75645725e-08, 2.42894333e-08, 2.12222049e-08,\n",
       "       1.84415027e-08, 1.59663263e-08, 1.37799022e-08, 1.17548246e-08,\n",
       "       9.93856253e-09, 8.36202862e-09, 7.01501659e-09, 5.88503088e-09,\n",
       "       4.94321308e-09, 4.15269200e-09, 3.48647526e-09, 2.92757428e-09,\n",
       "       2.46406621e-09, 2.08357846e-09, 1.76597757e-09, 1.50043294e-09,\n",
       "       1.27924021e-09, 1.09261090e-09, 9.33939551e-10, 7.98731408e-10,\n",
       "       6.82585294e-10, 5.82375996e-10, 4.95753142e-10, 4.20740298e-10])"
      ]
     },
     "execution_count": 7,
     "metadata": {},
     "output_type": "execute_result"
    }
   ],
   "source": [
    "PCA.compute_modelv_bary(cosmo_params=cosmo_fid,Q=[3])"
   ]
  },
  {
   "cell_type": "code",
   "execution_count": null,
   "metadata": {},
   "outputs": [],
   "source": []
  },
  {
   "cell_type": "code",
   "execution_count": null,
   "metadata": {},
   "outputs": [],
   "source": []
  },
  {
   "cell_type": "code",
   "execution_count": null,
   "metadata": {},
   "outputs": [],
   "source": []
  },
  {
   "cell_type": "code",
   "execution_count": null,
   "metadata": {},
   "outputs": [],
   "source": []
  }
 ],
 "metadata": {
  "kernelspec": {
   "display_name": "Python 3",
   "language": "python",
   "name": "python3"
  },
  "language_info": {
   "codemirror_mode": {
    "name": "ipython",
    "version": 3
   },
   "file_extension": ".py",
   "mimetype": "text/x-python",
   "name": "python",
   "nbconvert_exporter": "python",
   "pygments_lexer": "ipython3",
   "version": "3.7.0"
  }
 },
 "nbformat": 4,
 "nbformat_minor": 2
}
