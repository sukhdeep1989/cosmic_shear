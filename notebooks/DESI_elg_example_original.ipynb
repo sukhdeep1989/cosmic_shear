{
 "cells": [
  {
   "cell_type": "code",
   "execution_count": 1,
   "metadata": {},
   "outputs": [],
   "source": [
    "import sys\n",
    "# import pyccl as ccl#\n",
    "import pickle\n",
    "import camb\n",
    "import matplotlib.pyplot as plt\n",
    "sys.path.insert(0,'/home/tkarim/SkyLens/') #path to skylens\n",
    "sys.path.insert(0,'/home/tkarim/SkyLens/skylens/') #path to skylens\n",
    "# from importlib import reload"
   ]
  },
  {
   "cell_type": "code",
   "execution_count": 2,
   "metadata": {},
   "outputs": [],
   "source": [
    "#setting up virtual dask cluster for calculations. Adjust memory and threads according to your system.\n",
    "from distributed import LocalCluster\n",
    "from dask.distributed import Client \n",
    "#http://distributed.readthedocs.io/en/latest/_modules/distributed/worker.html\n",
    "c=LocalCluster(n_workers=1,processes=False,memory_limit='150gb',threads_per_worker=4,memory_spill_fraction=.99,\n",
    "               memory_monitor_interval='2000ms')\n",
    "client=Client(c)"
   ]
  },
  {
   "cell_type": "code",
   "execution_count": 3,
   "metadata": {},
   "outputs": [],
   "source": [
    "from skylens import *\n",
    "from survey_utils import *"
   ]
  },
  {
   "cell_type": "code",
   "execution_count": 4,
   "metadata": {},
   "outputs": [],
   "source": [
    "#only for python3\n",
    "import importlib\n",
    "reload=importlib.reload"
   ]
  },
  {
   "cell_type": "code",
   "execution_count": 5,
   "metadata": {},
   "outputs": [],
   "source": [
    "wigner_files={} #FIXME: run Gen_wig_m0.py to generate these files and then pass their path here. These are large files, make sure they are not included in git.\n",
    "# In file names l3500 refers to ell_max for which wigner function was calculated. It should be same or larger than ell_max in your measurements. \n",
    "# |w2100 is the max ell for window. This should be atleast 2 X ell_max in the measurements.\n",
    "wigner_files[0]= '../temp/dask_wig3j_l2048_w4096_0_reorder.zarr/'\n",
    "\n",
    "# wigner_files[2]= '/Users/Deep/dask_temp/dask_wig3j_l3500_w2100_2_reorder.zarr' #everything is spin 0, should not require this. if needed, compute using Gen_wig_m2.py\n",
    "\n"
   ]
  },
  {
   "cell_type": "markdown",
   "metadata": {},
   "source": [
    "# Power Spectrum covariance"
   ]
  },
  {
   "cell_type": "code",
   "execution_count": 6,
   "metadata": {},
   "outputs": [],
   "source": [
    "#set cosmology\n",
    "cosmo_params = {'h': 0.6736,\n",
    " 'Omb': 0.04930,\n",
    " 'Omd': 0.26447,\n",
    " 's8': 0.817,\n",
    " 'Om': 0.31377,\n",
    " 'Ase9': 2.083,\n",
    " 'mnu': 0.06,\n",
    " 'Omk': 0.0,\n",
    " 'tau': 0.06,\n",
    " 'ns': 0.9649,\n",
    " 'w': -1,\n",
    " 'wa': 0,\n",
    " 'Oml': 0.68623}"
   ]
  },
  {
   "cell_type": "code",
   "execution_count": 81,
   "metadata": {},
   "outputs": [],
   "source": [
    "test = False\n",
    "\n",
    "if test:\n",
    "    NSIDE = 256\n",
    "    lmax_cl = 256\n",
    "    binsize = 10\n",
    "else:\n",
    "    NSIDE = 1024\n",
    "    lmax_cl = 1024\n",
    "    binsize = 100"
   ]
  },
  {
   "cell_type": "code",
   "execution_count": 82,
   "metadata": {},
   "outputs": [],
   "source": [
    "#setup parameters\n",
    "#FIXME: Check all the values below.\n",
    "#lmax_cl=1024 #min and max for ell\n",
    "lmin_cl=100\n",
    "l0=np.arange(lmin_cl,lmax_cl)\n",
    "\n",
    "#following defines the ell bins. Using log bins in example, feel free to change.\n",
    "lmin_cl_Bins=lmin_cl+10\n",
    "lmax_cl_Bins=lmax_cl-10\n",
    "Nl_bins=20\n",
    "#l_bins=np.int64(np.logspace(np.log10(lmin_cl_Bins),np.log10(lmax_cl_Bins),Nl_bins))\n",
    "l_bins = np.arange(lmin_cl, lmax_cl, binsize)\n",
    "#lb=np.sqrt(l_bins[1:]*l_bins[:-1])\n",
    "lb=0.5*(l_bins[1:]+l_bins[:-1])\n",
    "\n",
    "l=l0\n",
    "# l=np.unique(np.int64(np.logspace(np.log10(lmin_cl),np.log10(lmax_cl),Nl_bins*20))) #if computation is too heavy and we want to use fewer ell\n",
    "\n",
    "do_cov=False # if you want to get covariance. Covariance is slow and this should be false if you are calling skylens inside mcmc.\n",
    "bin_cl=True #bin the theory and covaraince. \n",
    "\n",
    "use_window=True #if you want to include the window effect. Code will return pseudo-cl and pseudo-cl covariance\n",
    "store_win=True # to store window, for some internal reasons. leave it to true.\n",
    "window_lmax=2*lmax_cl #smaller value for testing. This should be 2X ell_max in the measurements.\n",
    "\n",
    "use_binned_l=False  #FIXME: to speed up computation if using pseudo-cl inside mcmc. Needs to be tested. Leave it false for now.\n",
    "\n",
    "SSV_cov=False # we donot have good model for super sample and tri-spectrum. We can chat about implementing some approximate analytical forms.\n",
    "tidal_SSV_cov=False\n",
    "Tri_cov=False \n",
    "\n",
    "bin_xi=True\n",
    "theta_bins=np.logspace(np.log10(1./60),1,20)"
   ]
  },
  {
   "cell_type": "code",
   "execution_count": 83,
   "metadata": {},
   "outputs": [],
   "source": [
    "def cmb_bins_here(zs=1090,l=None,use_window=use_window,unit_win=False,nside=1024,zmax=2.45):\n",
    "    \"\"\"\n",
    "    unit_win = boolean mask \n",
    "    nside = 2048; same as sims\n",
    "    This function prepares the cmb lensing data into format required for input into skylens for theory predictions.\n",
    "    \"\"\"\n",
    "    zs_bins={}\n",
    "    zs_bins[0]={}\n",
    "\n",
    "    zs_bins=zbin_pz_norm(zs_bins=zs_bins,bin_indx=0,zs=np.atleast_1d(zs),p_zs=np.atleast_1d(1),\n",
    "                         ns=0,bg1=1)\n",
    "    zs_bins['n_bins']=1 #easy to remember the counts\n",
    "    zs_bins['zmax']=np.atleast_1d([zmax])\n",
    "    zs_bins['zp_sigma']=0\n",
    "    zs_bins['zp_bias']=0\n",
    "    zs_bins['nz']=1\n",
    "\n",
    "    SN_read=np.genfromtxt('/mnt/store1/tkarim/cmb_lensing/data/MV/nlkk.dat',\n",
    "                          names=('l','nl','nl2')) \n",
    "    SN_intp=interp1d(SN_read['l'],SN_read['nl'],bounds_error=False, fill_value=0)      #FIXME: make sure using the correct noise power spectra.\n",
    "    SN=SN_intp(l)\n",
    "    SN *= 0 #DON'T DO THIS WHEN USING REAL DATA\n",
    "#     SN=np.ones_like(l)\n",
    "    zs_bins['SN']={}\n",
    "    zs_bins['SN']['kappa']=SN.reshape(len(SN),1,1)\n",
    "    if use_window:\n",
    "        zs_bins=set_window(zs_bins=zs_bins,nside=nside, unit_win=unit_win,cmb=True)\n",
    "    return zs_bins"
   ]
  },
  {
   "cell_type": "code",
   "execution_count": 10,
   "metadata": {},
   "outputs": [],
   "source": [
    "def set_window(zs_bins={},nside=1024,mask=None,window_cl_fact=None,unit_win=False,cmb=False):\n",
    "    \"\"\"\n",
    "        This function sets the window functions for the datasets. These windows are necessary for converting cl to pseudo-cl.\n",
    "    \"\"\"\n",
    "    #FIXME: make sure nside, etc. are properly matched. if possible, use same nside for cmb and galaxy maps. Use ud_grade where necessary.\n",
    "    for i in np.arange(zs_bins['n_bins']):\n",
    "        if unit_win:\n",
    "            cl_map=hp.ma(np.ones(12*nside*nside))\n",
    "            cl_i=1\n",
    "        elif cmb:\n",
    "            #cl_map=np.load('/mnt/store1/tkarim/mask_2048.fits') #FIXME: add the CMB lensing window here.\n",
    "            cl_map=np.load('/mnt/store1/boryanah/AbacusSummit_base_c000_ph006/light_cones/mask_ring_2048.npy')\n",
    "            noise_map = cl_map\n",
    "            #mask = cl_map\n",
    "        else:\n",
    "            #cl_map=np.load('/mnt/store1/tkarim/cmb_lensing/data/dr8/elg_ran1024.npy') #randoms are the window function.\n",
    "            cl_map=np.load('/mnt/store1/boryanah/AbacusSummit_base_c000_ph006/light_cones/mask_ring_2048.npy') #randoms are the window function.\n",
    "            noise_map = np.sqrt(cl_map)\n",
    "        cl_map = cl_map.astype(np.float64)\n",
    "        cl_map=hp.ma(cl_map)\n",
    "        noise_map = hp.ma(noise_map)\n",
    "#             cl_map=hp.alm2map(alms_i,nside=nside)\n",
    "        if mask is None:\n",
    "            mask=cl_map>0 #FIXME: input proper mask if possible\n",
    "        cl_map.mask=~mask\n",
    "        #cl_map.mask=np.logical_not(mask) #same as previous line but for fits files via healpy\n",
    "        noise_map.mask=~mask\n",
    "        cl_map[cl_map<0]=0\n",
    "        cl_map/=cl_map[mask].mean()\n",
    "        cl_map_noise=np.sqrt(cl_map)\n",
    "        cl_map[~mask]=hp.UNSEEN\n",
    "        cl_map_noise[~mask]=hp.UNSEEN\n",
    "        # cl_map.mask=mask\n",
    "        zs_bins[i]['window']=cl_map\n",
    "        zs_bins[i]['window_N']=noise_map #window of noise \n",
    "        zs_bins[i]['window_alm']=hp.map2alm(cl_map)\n",
    "        zs_bins[i]['window_alm_noise']=hp.map2alm(cl_map_noise)\n",
    "#         zs_bins[i]['window_cl']=cl_i\n",
    "\n",
    "    return zs_bins"
   ]
  },
  {
   "cell_type": "code",
   "execution_count": 39,
   "metadata": {},
   "outputs": [],
   "source": [
    "def zbin_pz_norm(zs_bins={},bin_indx=None,zs=None,p_zs=None,ns=0,bg1=1,AI=0,\n",
    "                 AI_z=0,mag_fact=0,k_max=0.3):\n",
    "    \"\"\"\n",
    "        This function does few pre-calculations and sets some parameters for datasets that will be input into skylens\n",
    "    \"\"\"\n",
    "\n",
    "\n",
    "    dzs=np.gradient(zs) if len(zs)>1 else 1\n",
    "\n",
    "    if np.sum(p_zs*dzs)!=0:\n",
    "        p_zs=p_zs/np.sum(p_zs*dzs)\n",
    "    else:\n",
    "        p_zs*=0\n",
    "    nz=dzs*p_zs*ns\n",
    "\n",
    "    i=bin_indx\n",
    "    x= p_zs>-1 #1.e-10\n",
    "\n",
    "    zs_bins[i]['z']=zs[x]\n",
    "    zs_bins[i]['dz']=np.gradient(zs_bins[i]['z']) if len(zs_bins[i]['z'])>1 else 1\n",
    "    zs_bins[i]['nz']=nz[x]\n",
    "    zs_bins[i]['ns']=ns\n",
    "    zs_bins[i]['W']=1.\n",
    "    zs_bins[i]['pz']=p_zs[x]*zs_bins[i]['W']\n",
    "    zs_bins[i]['pzdz']=zs_bins[i]['pz']*zs_bins[i]['dz']\n",
    "    zs_bins[i]['Norm']=np.sum(zs_bins[i]['pzdz'])\n",
    "    zs_bins[i]['b1']=bg1 # FIXME: this is the linear galaxy bias. Input proper values. We can also talk about adding other bias models if needed.\n",
    "    zs_bins[i]['bz1'] = None\n",
    "    zs_bins[i]['AI']=AI # this will be zero\n",
    "    zs_bins[i]['AI_z']=AI_z\n",
    "    zs_bins[i]['mag_fact']=mag_fact  #FIXME: You need to figure out the magnification bias prefactor. For example, see appendix B of https://arxiv.org/pdf/1803.08915.pdf\n",
    "    zs_bins[i]['shear_m_bias']=1\n",
    "    zm=np.sum(zs_bins[i]['z']*zs_bins[i]['pzdz'])/zs_bins[i]['Norm']\n",
    "    zs_bins[i]['lm']=k_max*cosmo_h.comoving_transverse_distance(zm).value\n",
    "    return zs_bins"
   ]
  },
  {
   "cell_type": "code",
   "execution_count": 12,
   "metadata": {},
   "outputs": [],
   "source": [
    "def source_tomo_bins(zp=None,p_zp=None,nz_bins=None,ns=26,ztrue_func=None,zp_bias=None,\n",
    "                    zp_sigma=None,zs=None,n_zs=100,z_bins=None,f_sky=0.3,nside=256,use_window=False,\n",
    "                    mask_start_pix=0,window_cl_fact=None,bg1=1,AI=0,AI_z=0,l=None,mag_fact=0,\n",
    "                     sigma_gamma=0.26,k_max=0.3,unit_win=False,use_shot_noise=True,**kwargs):\n",
    "    \"\"\"\n",
    "        Setting galaxy redshift bins in the format used in skylens code.\n",
    "        Need\n",
    "        zs (array): redshift bins for every source bin. if z_bins is none, then dictionary with\n",
    "                    with values for each bin\n",
    "        p_zs: redshift distribution. same format as zs\n",
    "        z_bins: if zs and p_zs are for whole survey, then bins to divide the sample. If\n",
    "                tomography is based on lens redshift, then this arrays contains those redshifts.\n",
    "        ns: The number density for each bin to compute shape noise.\n",
    "    \"\"\"\n",
    "    zs_bins={}\n",
    "\n",
    "    if nz_bins is None:\n",
    "        nz_bins=1\n",
    "\n",
    "    if z_bins is None:\n",
    "        z_bins=np.linspace(min(zp)-0.0001,max(zp)+0.0001,nz_bins+1)\n",
    "    if zs is None:\n",
    "        zs=np.linspace(0,max(z_bins)+1,n_zs)\n",
    "    dzs=np.gradient(zs)\n",
    "    dzp=np.gradient(zp) if len(zp)>1 else [1]\n",
    "    zp=np.array(zp)\n",
    "\n",
    "    zl_kernel=np.linspace(0,max(zs),50)\n",
    "    lu=Tracer_utils()\n",
    "    cosmo_h=cosmo_h_PL\n",
    "\n",
    "    zmax=max(z_bins)\n",
    "\n",
    "    l=[1] if l is None else l\n",
    "    zs_bins['SN']={}\n",
    "    zs_bins['SN']['galaxy']=np.zeros((len(l),nz_bins,nz_bins))\n",
    "    zs_bins['SN']['shear']=np.zeros((len(l),nz_bins,nz_bins))\n",
    "    zs_bins['SN']['kappa']=np.zeros((len(l),nz_bins,nz_bins))\n",
    "\n",
    "    for i in np.arange(nz_bins):\n",
    "        zs_bins[i]={}\n",
    "        indx=zp.searchsorted(z_bins[i:i+2])\n",
    "\n",
    "        if indx[0]==indx[1]:\n",
    "            indx[1]=-1\n",
    "        zs=zp[indx[0]:indx[1]]\n",
    "        p_zs=p_zp[indx[0]:indx[1]]\n",
    "        nz=ns*p_zs*dzp[indx[0]:indx[1]]\n",
    "        ns_i=nz.sum()\n",
    "\n",
    "        zs_bins=zbin_pz_norm(zs_bins=zs_bins,bin_indx=i,zs=zs,p_zs=p_zs,ns=ns_i,bg1=bg1,\n",
    "                             AI=AI,AI_z=AI_z,mag_fact=mag_fact,k_max=k_max)\n",
    "        \n",
    "        zmax=max([zmax,max(zs_bins[i]['z'])])\n",
    "        if use_shot_noise:\n",
    "            zs_bins['SN']['galaxy'][:,i,i]=galaxy_shot_noise_calc(zg1=zs_bins[i],zg2=zs_bins[i])\n",
    "            zs_bins['SN']['shear'][:,i,i]=shear_shape_noise_calc(zs1=zs_bins[i],zs2=zs_bins[i],\n",
    "                                                                 sigma_gamma=sigma_gamma)\n",
    "            zs_bins['SN']['kappa'][:,i,i]=shear_shape_noise_calc(zs1=zs_bins[i],zs2=zs_bins[i],\n",
    "                                                                 sigma_gamma=sigma_gamma) #FIXME: This is almost certainly not correct\n",
    "\n",
    "    zs_bins['n_bins']=nz_bins #easy to remember the counts\n",
    "    zs_bins['z_lens_kernel']=zl_kernel\n",
    "    zs_bins['zmax']=zmax\n",
    "    zs_bins['zp']=zp\n",
    "    zs_bins['pz']=p_zp\n",
    "    zs_bins['z_bins']=z_bins\n",
    "    zs_bins['zp_sigma']=zp_sigma\n",
    "    zs_bins['zp_bias']=zp_bias\n",
    "    if use_window:\n",
    "        zs_bins=set_window(zs_bins=zs_bins,nside=nside, unit_win=unit_win)\n",
    "    return zs_bins"
   ]
  },
  {
   "cell_type": "code",
   "execution_count": 13,
   "metadata": {},
   "outputs": [],
   "source": [
    "def DESI_elg_bins(nz_bins=1, f_sky=0.3,nside=256,use_window=use_window,mask_start_pix=0,bg1=1,\n",
    "                       l=None,sigma_gamma=0,mag_fact=0,z_bins=None,**kwargs):\n",
    "\n",
    "    home='../../'\n",
    "    fname='nz_blanc+abacus.txt'\n",
    "#     t=np.genfromtxt(home+fname,names=True,skip_header=3)\n",
    "    #t=np.genfromtxt(home+fname,names=True)\n",
    "    t = pd.read_csv(home + fname)\n",
    "    dz=t['Redshift_mid'][2]-t['Redshift_mid'][1]\n",
    "    zmax=max(t['Redshift_mid'])+dz/2\n",
    "    zmin=min(t['Redshift_mid'])-dz/2\n",
    "\n",
    "    z=t['Redshift_mid']\n",
    "    \n",
    "    pz=t['dndz/deg^2']\n",
    "    \n",
    "    ns=np.sum(pz)\n",
    "    ns/=d2r**2 #convert from deg**2 to rd**2\n",
    "\n",
    "    if z_bins is None: #this defines the bin edges if splitting the sample into bins. Preferably pass it as an argument whenusing multiple bins.\n",
    "        z_bins=np.linspace(zmin, min(2,zmax), nz_bins+1)\n",
    "    print(zmin,zmax,z_bins,ns)\n",
    "    return source_tomo_bins(zp=z,p_zp=pz,ns=ns,nz_bins=nz_bins,mag_fact=mag_fact,\n",
    "                            ztrue_func=None,zp_bias=0,\n",
    "                            zp_sigma=0,z_bins=z_bins,f_sky=f_sky,nside=nside,\n",
    "                            use_window=use_window,mask_start_pix=mask_start_pix,bg1=bg1,\n",
    "                            l=l,sigma_gamma=sigma_gamma,**kwargs)"
   ]
  },
  {
   "cell_type": "code",
   "execution_count": 84,
   "metadata": {},
   "outputs": [
    {
     "name": "stdout",
     "output_type": "stream",
     "text": [
      "0.41250000000000003 1.4374999999999996 [0.4125 1.4375] 49254768.398856655\n",
      "Tracer utils has no tracers\n"
     ]
    }
   ],
   "source": [
    "zl_bin=DESI_elg_bins(f_sky = 0.04404143492380778,\n",
    "                    nside = NSIDE)"
   ]
  },
  {
   "cell_type": "code",
   "execution_count": 42,
   "metadata": {},
   "outputs": [
    {
     "data": {
      "text/plain": [
       "dict_keys(['SN', 0, 'n_bins', 'z_lens_kernel', 'zmax', 'zp', 'pz', 'z_bins', 'zp_sigma', 'zp_bias'])"
      ]
     },
     "execution_count": 42,
     "metadata": {},
     "output_type": "execute_result"
    }
   ],
   "source": [
    "zl_bin.keys()"
   ]
  },
  {
   "cell_type": "code",
   "execution_count": 43,
   "metadata": {},
   "outputs": [
    {
     "data": {
      "text/plain": [
       "dict_keys(['z', 'dz', 'nz', 'ns', 'W', 'pz', 'pzdz', 'Norm', 'b1', 'bz1', 'AI', 'AI_z', 'mag_fact', 'shear_m_bias', 'lm', 'window', 'window_N', 'window_alm', 'window_alm_noise'])"
      ]
     },
     "execution_count": 43,
     "metadata": {},
     "output_type": "execute_result"
    }
   ],
   "source": [
    "zl_bin[0].keys()"
   ]
  },
  {
   "cell_type": "code",
   "execution_count": 17,
   "metadata": {},
   "outputs": [
    {
     "data": {
      "image/png": "[encoded data removed]",
      "text/plain": [
       "<Figure size 612x388.8 with 2 Axes>"
      ]
     },
     "metadata": {
      "needs_background": "light"
     },
     "output_type": "display_data"
    }
   ],
   "source": [
    "if use_window:\n",
    "    hp.mollview(zl_bin[0]['window'])"
   ]
  },
  {
   "cell_type": "code",
   "execution_count": 18,
   "metadata": {},
   "outputs": [
    {
     "data": {
      "text/plain": [
       "masked_array(data=[1.0, 1.0, 1.0, ..., -1.6375e+30, -1.6375e+30,\n",
       "                   -1.6375e+30],\n",
       "             mask=[False, False, False, ..., False, False, False],\n",
       "       fill_value=-1.6375e+30)"
      ]
     },
     "execution_count": 18,
     "metadata": {},
     "output_type": "execute_result"
    }
   ],
   "source": [
    "zl_bin[0]['window']"
   ]
  },
  {
   "cell_type": "code",
   "execution_count": 19,
   "metadata": {},
   "outputs": [
    {
     "data": {
      "text/plain": [
       "[]"
      ]
     },
     "execution_count": 19,
     "metadata": {},
     "output_type": "execute_result"
    },
    {
     "data": {
      "image/png": "[encoded data removed]",
      "text/plain": [
       "<Figure size 432x288 with 1 Axes>"
      ]
     },
     "metadata": {
      "needs_background": "light"
     },
     "output_type": "display_data"
    }
   ],
   "source": [
    "window_cl=hp.anafast(zl_bin[0]['window'])\n",
    "plt.plot(window_cl)\n",
    "plt.loglog()"
   ]
  },
  {
   "cell_type": "code",
   "execution_count": 85,
   "metadata": {},
   "outputs": [],
   "source": [
    "zs_bin=cmb_bins_here(l=l, nside = NSIDE)# lensing source bin"
   ]
  },
  {
   "cell_type": "code",
   "execution_count": 86,
   "metadata": {},
   "outputs": [],
   "source": [
    "store_win=True"
   ]
  },
  {
   "cell_type": "code",
   "execution_count": 87,
   "metadata": {},
   "outputs": [],
   "source": [
    "f_sky=0.04404143492380778 #FIXME: use the correct value. If you are using window, then this is not very important."
   ]
  },
  {
   "cell_type": "code",
   "execution_count": 88,
   "metadata": {},
   "outputs": [],
   "source": [
    "corr_ll=('kappa','kappa')\n",
    "corr_gg=('galaxy','galaxy')\n",
    "corr_gl=('galaxy','kappa')\n",
    "corrs=[corr_ll, corr_gg, corr_gl]"
   ]
  },
  {
   "cell_type": "raw",
   "metadata": {},
   "source": [
    "??Skylens"
   ]
  },
  {
   "cell_type": "code",
   "execution_count": 66,
   "metadata": {},
   "outputs": [
    {
     "data": {
      "text/html": [
       "<table style=\"border: 2px solid white;\">\n",
       "<tr>\n",
       "<td style=\"vertical-align: top; border: 0px solid white\">\n",
       "<h3 style=\"text-align: left;\">Client</h3>\n",
       "<ul style=\"text-align: left; list-style: none; margin: 0; padding: 0;\">\n",
       "  <li><b>Scheduler: </b>inproc://10.0.0.147/46973/1</li>\n",
       "  <li><b>Dashboard: </b><a href='http://10.0.0.147:8787/status' target='_blank'>http://10.0.0.147:8787/status</a></li>\n",
       "</ul>\n",
       "</td>\n",
       "<td style=\"vertical-align: top; border: 0px solid white\">\n",
       "<h3 style=\"text-align: left;\">Cluster</h3>\n",
       "<ul style=\"text-align: left; list-style:none; margin: 0; padding: 0;\">\n",
       "  <li><b>Workers: </b>1</li>\n",
       "  <li><b>Cores: </b>4</li>\n",
       "  <li><b>Memory: </b>150.00 GB</li>\n",
       "</ul>\n",
       "</td>\n",
       "</tr>\n",
       "</table>"
      ],
      "text/plain": [
       "<Client: 'inproc://10.0.0.147/46973/1' processes=1 threads=4, memory=150.00 GB>"
      ]
     },
     "execution_count": 66,
     "metadata": {},
     "output_type": "execute_result"
    }
   ],
   "source": [
    "client"
   ]
  },
  {
   "cell_type": "code",
   "execution_count": 89,
   "metadata": {
    "scrolled": false
   },
   "outputs": [
    {
     "name": "stdout",
     "output_type": "stream",
     "text": [
      "Tracer utils has tracers:  ['galaxy', 'kappa']\n",
      "pk_params dict was none, intialized with default\n",
      "cosmo_params dict was none, intialized with default\n",
      "cosmology interpolation range 0.0 2.465\n",
      "power spectra camb_pk_too_many_z\n",
      "Win gen: step size 45 924 2049.0 1\n",
      "wigner_files: {0: '../temp/dask_wig3j_l2048_w4096_0_reorder.zarr/'}\n",
      "wigner done dict_keys([])\n",
      "set window_cl: cl0,cl_b done 5.936622619628906e-05\n",
      "set window_cl: cl done 0.001249551773071289 2365.902 0.0\n",
      "Win_cli ('kappa', 'kappa', 0, 0) ('kappa', 'kappa') (0, 0)\n",
      "Win_cli ('galaxy', 'galaxy', 0, 0) ('galaxy', 'galaxy') (0, 0)\n",
      "Win_cli ('galaxy', 'kappa', 0, 0) ('galaxy', 'kappa') (0, 0)\n",
      "set window_cl: cl done 3.2968287467956543 2365.902 0.0\n",
      "cl+cov bags done 3 0 7.027912139892578\n",
      "set_window_cl done 50.46301293373108\n",
      "setting windows, coupling matrices  <Client: 'inproc://10.0.0.147/46973/1' processes=1 threads=4, memory=150.00 GB>\n",
      "doing lm 0\n",
      "done lm cl+cov graph 0 0.0010082721710205078 3221.589 inproc://10.0.0.147/46973/3\n",
      "done lm 0 6.799914121627808\n",
      "doing lm 45\n",
      "done lm cl+cov graph 45 0.001867055892944336 3221.589 inproc://10.0.0.147/46973/3\n",
      "done lm 45 4.492926597595215\n",
      "doing lm 90\n",
      "done lm cl+cov graph 90 0.0019183158874511719 3221.589 inproc://10.0.0.147/46973/3\n",
      "done lm 90 4.539639234542847\n",
      "doing lm 135\n",
      "done lm cl+cov graph 135 0.0013577938079833984 3221.589 inproc://10.0.0.147/46973/3\n",
      "done lm 135 4.717602014541626\n",
      "doing lm 180\n",
      "done lm cl+cov graph 180 0.0008170604705810547 3221.589 inproc://10.0.0.147/46973/3\n",
      "done lm 180 6.312714338302612\n",
      "doing lm 225\n",
      "done lm cl+cov graph 225 0.0042154788970947266 3221.589 inproc://10.0.0.147/46973/3\n",
      "done lm 225 4.387390851974487\n",
      "doing lm 270\n",
      "done lm cl+cov graph 270 0.00164031982421875 3221.589 inproc://10.0.0.147/46973/3\n",
      "done lm 270 4.5603697299957275\n",
      "doing lm 315\n",
      "done lm cl+cov graph 315 0.001674652099609375 3221.589 inproc://10.0.0.147/46973/3\n",
      "done lm 315 4.522871732711792\n",
      "doing lm 360\n",
      "done lm cl+cov graph 360 0.0011823177337646484 3221.589 inproc://10.0.0.147/46973/3\n",
      "done lm 360 4.63360333442688\n",
      "doing lm 405\n",
      "done lm cl+cov graph 405 0.0022280216217041016 3221.589 inproc://10.0.0.147/46973/3\n"
     ]
    },
    {
     "name": "stderr",
     "output_type": "stream",
     "text": [
      "distributed.semaphore - WARNING - Tried to release semaphore but it was already released: name=database, lease_id=6708f34ae8d842568cae0844d5d64de0. This can happen if the semaphore timed out before.\n",
      "distributed.semaphore - WARNING - Tried to release semaphore but it was already released: name=database, lease_id=1d7368f5f6564fdb9a17b2d6181c47b8. This can happen if the semaphore timed out before.\n"
     ]
    },
    {
     "name": "stdout",
     "output_type": "stream",
     "text": [
      "got wig3j 0 681.58 (338, 11) 7\n",
      "got wig3j 45 681.58 (338, 11) 7\n"
     ]
    },
    {
     "name": "stderr",
     "output_type": "stream",
     "text": [
      "distributed.semaphore - WARNING - Tried to release semaphore but it was already released: name=database, lease_id=d002f9fc20cb436fbc1a8ae1a05f88ab. This can happen if the semaphore timed out before.\n"
     ]
    },
    {
     "name": "stdout",
     "output_type": "stream",
     "text": [
      "got wig3j 135 681.58 (338, 11) 7\n"
     ]
    },
    {
     "name": "stderr",
     "output_type": "stream",
     "text": [
      "distributed.semaphore - WARNING - Tried to release semaphore but it was already released: name=database, lease_id=fa69ef1a0ee84efa957b14dd7b179734. This can happen if the semaphore timed out before.\n"
     ]
    },
    {
     "name": "stdout",
     "output_type": "stream",
     "text": [
      "got wig3j 90 681.58 (338, 11) 7\n",
      "got wig3j 405 681.58 (338, 11) 7\n",
      "got wig3j 360 681.58 (338, 11) 8\n",
      "got wig3j 315 681.58 (338, 11) 7\n",
      "got wig3j 225 681.58 (338, 11) 7\n",
      "got wig3j 270 681.58 (338, 11) 7\n",
      "got wig3j 180 681.58 (338, 11) 7\n",
      "done lm 405 40.83596158027649\n",
      "doing lm 450\n",
      "done lm cl+cov graph 450 0.0011608600616455078 3221.585 inproc://10.0.0.147/46973/3\n",
      "done lm 450 4.510888576507568\n",
      "doing lm 495\n",
      "done lm cl+cov graph 495 0.0008921623229980469 3221.585 inproc://10.0.0.147/46973/3\n",
      "done lm 495 4.376277685165405\n",
      "doing lm 540\n",
      "done lm cl+cov graph 540 0.001554250717163086 3221.585 inproc://10.0.0.147/46973/3\n",
      "done lm 540 4.385271787643433\n",
      "doing lm 585\n",
      "done lm cl+cov graph 585 0.001203775405883789 3221.585 inproc://10.0.0.147/46973/3\n",
      "done lm 585 4.376974582672119\n",
      "doing lm 630\n",
      "done lm cl+cov graph 630 0.0021657943725585938 3221.585 inproc://10.0.0.147/46973/3\n",
      "done lm 630 4.4838268756866455\n",
      "doing lm 675\n",
      "done lm cl+cov graph 675 0.0010311603546142578 3221.585 inproc://10.0.0.147/46973/3\n",
      "done lm 675 4.5220723152160645\n",
      "doing lm 720\n",
      "done lm cl+cov graph 720 0.002279996871948242 3221.585 inproc://10.0.0.147/46973/3\n",
      "done lm 720 4.522459983825684\n",
      "doing lm 765\n",
      "done lm cl+cov graph 765 0.0008194446563720703 3221.585 inproc://10.0.0.147/46973/3\n",
      "done lm 765 4.546104907989502\n",
      "doing lm 810\n",
      "done lm cl+cov graph 810 0.0012369155883789062 3221.585 inproc://10.0.0.147/46973/3\n",
      "done lm 810 4.475967168807983\n",
      "doing lm 855\n",
      "done lm cl+cov graph 855 0.0014209747314453125 3221.585 inproc://10.0.0.147/46973/3\n"
     ]
    },
    {
     "name": "stderr",
     "output_type": "stream",
     "text": [
      "distributed.semaphore - WARNING - Tried to release semaphore but it was already released: name=database, lease_id=d432532efb9e4088b810a5a6228ab529. This can happen if the semaphore timed out before.\n"
     ]
    },
    {
     "name": "stdout",
     "output_type": "stream",
     "text": [
      "got wig3j 450 681.58 (338, 11) 8\n",
      "got wig3j 540 681.58 (338, 11) 7\n",
      "got wig3j 585 681.58 (338, 11) 7\n",
      "got wig3j 495 681.58 (338, 11) 7\n",
      "got wig3j 855 681.58 (338, 11) 7\n",
      "got wig3j 810 681.58 (338, 11) 7\n",
      "got wig3j 765 681.58 (338, 11) 7\n",
      "got wig3j 720 681.58 (338, 11) 8\n",
      "got wig3j 630 681.58 (338, 11) 7\n",
      "got wig3j 675 681.58 (338, 11) 7\n",
      "done lm 855 43.37220549583435\n",
      "doing lm 900\n",
      "done lm cl+cov graph 900 0.001226186752319336 3221.581 inproc://10.0.0.147/46973/3\n",
      "got wig3j 900 363.509 (338, 11) 7\n",
      "done lm 900 12.575403451919556\n",
      "Done all lm 12.575613737106323\n",
      "done combine lm 12.978036165237427\n",
      "Window done. Size: 34.234\n"
     ]
    }
   ],
   "source": [
    "#use all ell\n",
    "kappa0=Skylens(kappa_zbins=zs_bin,do_cov=do_cov,bin_cl=bin_cl,l_bins=l_bins,l=l0, galaxy_zbins=zl_bin,\n",
    "                                       use_window=use_window,Tri_cov=Tri_cov, #Win = win,\n",
    "                                       use_binned_l=use_binned_l,wigner_files=wigner_files,\n",
    "                                       SSV_cov=SSV_cov,tidal_SSV_cov=tidal_SSV_cov,f_sky=f_sky,\n",
    "                                       store_win=store_win,window_lmax=window_lmax,\n",
    "                                       corrs=corrs, scheduler_info=client.scheduler_info(), log_z_PS=1)#,\n",
    "                                       #power_spectra_kwargs={'cosmo_params':cosmo_params})"
   ]
  },
  {
   "cell_type": "raw",
   "metadata": {},
   "source": [
    "dask.visualize(kappa0.Win.Win) #cool compute graph is you set store_win=False"
   ]
  },
  {
   "cell_type": "code",
   "execution_count": 90,
   "metadata": {},
   "outputs": [
    {
     "name": "stdout",
     "output_type": "stream",
     "text": [
      "scatter_dict got empty dictionary\n",
      "cl graph done\n",
      "gather_dict got empty dictionary\n",
      "CPU times: user 22.1 s, sys: 23.7 s, total: 45.7 s\n",
      "Wall time: 1.97 s\n"
     ]
    }
   ],
   "source": [
    "%time cl0G=kappa0.cl_tomo() "
   ]
  },
  {
   "cell_type": "code",
   "execution_count": 69,
   "metadata": {},
   "outputs": [
    {
     "data": {
      "text/plain": [
       "dict_keys(['stack', 'cl_b', 'cov', 'cl', 'pseudo_cl', 'pseudo_cl_b', 'zkernel'])"
      ]
     },
     "execution_count": 69,
     "metadata": {},
     "output_type": "execute_result"
    }
   ],
   "source": [
    "cl0G.keys()"
   ]
  },
  {
   "cell_type": "code",
   "execution_count": 70,
   "metadata": {},
   "outputs": [],
   "source": [
    "#dask.visualize(cl0G['stack'])"
   ]
  },
  {
   "cell_type": "code",
   "execution_count": 91,
   "metadata": {},
   "outputs": [
    {
     "data": {
      "text/plain": [
       "array([150., 250., 350., 450., 550., 650., 750., 850., 950.])"
      ]
     },
     "execution_count": 91,
     "metadata": {},
     "output_type": "execute_result"
    }
   ],
   "source": [
    "lb"
   ]
  },
  {
   "cell_type": "code",
   "execution_count": 72,
   "metadata": {},
   "outputs": [
    {
     "data": {
      "text/plain": [
       "{('kappa',\n",
       "  'kappa'): {(0,\n",
       "   0): Delayed('bin_cl_func-39101ed5-c4fd-4b12-b990-711d399c0078')},\n",
       " ('galaxy',\n",
       "  'galaxy'): {(0,\n",
       "   0): Delayed('bin_cl_func-9d97ed0c-c1c8-448b-bbb5-a3c6fe255445')},\n",
       " ('galaxy',\n",
       "  'kappa'): {(0,\n",
       "   0): Delayed('bin_cl_func-ddc2e242-b4c3-448d-a0d0-d86f08e3b89f')},\n",
       " ('kappa',\n",
       "  'galaxy'): {(0,\n",
       "   0): Delayed('bin_cl_func-ddc2e242-b4c3-448d-a0d0-d86f08e3b89f')}}"
      ]
     },
     "execution_count": 72,
     "metadata": {},
     "output_type": "execute_result"
    }
   ],
   "source": [
    "cl0G['pseudo_cl_b']"
   ]
  },
  {
   "cell_type": "code",
   "execution_count": 93,
   "metadata": {},
   "outputs": [
    {
     "data": {
      "text/plain": [
       "array([nan, nan, nan, nan, nan, nan, nan, nan, nan, nan, nan, nan, nan,\n",
       "       nan, nan, nan, nan, nan, nan, nan, nan, nan, nan, nan, nan, nan,\n",
       "       nan, nan, nan, nan, nan, nan, nan, nan, nan, nan, nan, nan, nan,\n",
       "       nan, nan, nan, nan, nan, nan, nan, nan, nan, nan, nan, nan, nan,\n",
       "       nan, nan, nan, nan, nan, nan, nan, nan, nan, nan, nan, nan, nan,\n",
       "       nan, nan, nan, nan, nan, nan, nan, nan, nan, nan, nan, nan, nan,\n",
       "       nan, nan, nan, nan, nan, nan, nan, nan, nan, nan, nan, nan, nan,\n",
       "       nan, nan, nan, nan, nan, nan, nan, nan, nan, nan, nan, nan, nan,\n",
       "       nan, nan, nan, nan, nan, nan, nan, nan, nan, nan, nan, nan, nan,\n",
       "       nan, nan, nan, nan, nan, nan, nan, nan, nan, nan, nan, nan, nan,\n",
       "       nan, nan, nan, nan, nan, nan, nan, nan, nan, nan, nan, nan, nan,\n",
       "       nan, nan, nan, nan, nan, nan, nan, nan, nan, nan, nan, nan, nan,\n",
       "       nan, nan, nan, nan, nan, nan, nan, nan, nan, nan, nan, nan, nan,\n",
       "       nan, nan, nan, nan, nan, nan, nan, nan, nan, nan, nan, nan, nan,\n",
       "       nan, nan, nan, nan, nan, nan, nan, nan, nan, nan, nan, nan, nan,\n",
       "       nan, nan, nan, nan, nan, nan, nan, nan, nan, nan, nan, nan, nan,\n",
       "       nan, nan, nan, nan, nan, nan, nan, nan, nan, nan, nan, nan, nan,\n",
       "       nan, nan, nan, nan, nan, nan, nan, nan, nan, nan, nan, nan, nan,\n",
       "       nan, nan, nan, nan, nan, nan, nan, nan, nan, nan, nan, nan, nan,\n",
       "       nan, nan, nan, nan, nan, nan, nan, nan, nan, nan, nan, nan, nan,\n",
       "       nan, nan, nan, nan, nan, nan, nan, nan, nan, nan, nan, nan, nan,\n",
       "       nan, nan, nan, nan, nan, nan, nan, nan, nan, nan, nan, nan, nan,\n",
       "       nan, nan, nan, nan, nan, nan, nan, nan, nan, nan, nan, nan, nan,\n",
       "       nan, nan, nan, nan, nan, nan, nan, nan, nan, nan, nan, nan, nan,\n",
       "       nan, nan, nan, nan, nan, nan, nan, nan, nan, nan, nan, nan, nan,\n",
       "       nan, nan, nan, nan, nan, nan, nan, nan, nan, nan, nan, nan, nan,\n",
       "       nan, nan, nan, nan, nan, nan, nan, nan, nan, nan, nan, nan, nan,\n",
       "       nan, nan, nan, nan, nan, nan, nan, nan, nan, nan, nan, nan, nan,\n",
       "       nan, nan, nan, nan, nan, nan, nan, nan, nan, nan, nan, nan, nan,\n",
       "       nan, nan, nan, nan, nan, nan, nan, nan, nan, nan, nan, nan, nan,\n",
       "       nan, nan, nan, nan, nan, nan, nan, nan, nan, nan, nan, nan, nan,\n",
       "       nan, nan, nan, nan, nan, nan, nan, nan, nan, nan, nan, nan, nan,\n",
       "       nan, nan, nan, nan, nan, nan, nan, nan, nan, nan, nan, nan, nan,\n",
       "       nan, nan, nan, nan, nan, nan, nan, nan, nan, nan, nan, nan, nan,\n",
       "       nan, nan, nan, nan, nan, nan, nan, nan, nan, nan, nan, nan, nan,\n",
       "       nan, nan, nan, nan, nan, nan, nan, nan, nan, nan, nan, nan, nan,\n",
       "       nan, nan, nan, nan, nan, nan, nan, nan, nan, nan, nan, nan, nan,\n",
       "       nan, nan, nan, nan, nan, nan, nan, nan, nan, nan, nan, nan, nan,\n",
       "       nan, nan, nan, nan, nan, nan, nan, nan, nan, nan, nan, nan, nan,\n",
       "       nan, nan, nan, nan, nan, nan, nan, nan, nan, nan, nan, nan, nan,\n",
       "       nan, nan, nan, nan, nan, nan, nan, nan, nan, nan, nan, nan, nan,\n",
       "       nan, nan, nan, nan, nan, nan, nan, nan, nan, nan, nan, nan, nan,\n",
       "       nan, nan, nan, nan, nan, nan, nan, nan, nan, nan, nan, nan, nan,\n",
       "       nan, nan, nan, nan, nan, nan, nan, nan, nan, nan, nan, nan, nan,\n",
       "       nan, nan, nan, nan, nan, nan, nan, nan, nan, nan, nan, nan, nan,\n",
       "       nan, nan, nan, nan, nan, nan, nan, nan, nan, nan, nan, nan, nan,\n",
       "       nan, nan, nan, nan, nan, nan, nan, nan, nan, nan, nan, nan, nan,\n",
       "       nan, nan, nan, nan, nan, nan, nan, nan, nan, nan, nan, nan, nan,\n",
       "       nan, nan, nan, nan, nan, nan, nan, nan, nan, nan, nan, nan, nan,\n",
       "       nan, nan, nan, nan, nan, nan, nan, nan, nan, nan, nan, nan, nan,\n",
       "       nan, nan, nan, nan, nan, nan, nan, nan, nan, nan, nan, nan, nan,\n",
       "       nan, nan, nan, nan, nan, nan, nan, nan, nan, nan, nan, nan, nan,\n",
       "       nan, nan, nan, nan, nan, nan, nan, nan, nan, nan, nan, nan, nan,\n",
       "       nan, nan, nan, nan, nan, nan, nan, nan, nan, nan, nan, nan, nan,\n",
       "       nan, nan, nan, nan, nan, nan, nan, nan, nan, nan, nan, nan, nan,\n",
       "       nan, nan, nan, nan, nan, nan, nan, nan, nan, nan, nan, nan, nan,\n",
       "       nan, nan, nan, nan, nan, nan, nan, nan, nan, nan, nan, nan, nan,\n",
       "       nan, nan, nan, nan, nan, nan, nan, nan, nan, nan, nan, nan, nan,\n",
       "       nan, nan, nan, nan, nan, nan, nan, nan, nan, nan, nan, nan, nan,\n",
       "       nan, nan, nan, nan, nan, nan, nan, nan, nan, nan, nan, nan, nan,\n",
       "       nan, nan, nan, nan, nan, nan, nan, nan, nan, nan, nan, nan, nan,\n",
       "       nan, nan, nan, nan, nan, nan, nan, nan, nan, nan, nan, nan, nan,\n",
       "       nan, nan, nan, nan, nan, nan, nan, nan, nan, nan, nan, nan, nan,\n",
       "       nan, nan, nan, nan, nan, nan, nan, nan, nan, nan, nan, nan, nan,\n",
       "       nan, nan, nan, nan, nan, nan, nan, nan, nan, nan, nan, nan, nan,\n",
       "       nan, nan, nan, nan, nan, nan, nan, nan, nan, nan, nan, nan, nan,\n",
       "       nan, nan, nan, nan, nan, nan, nan, nan, nan, nan, nan, nan, nan,\n",
       "       nan, nan, nan, nan, nan, nan, nan, nan, nan, nan, nan, nan, nan,\n",
       "       nan, nan, nan, nan, nan, nan, nan, nan, nan, nan, nan, nan, nan,\n",
       "       nan, nan, nan, nan, nan, nan, nan, nan, nan, nan, nan, nan, nan,\n",
       "       nan, nan, nan, nan, nan, nan, nan, nan, nan, nan, nan, nan, nan,\n",
       "       nan])"
      ]
     },
     "execution_count": 93,
     "metadata": {},
     "output_type": "execute_result"
    }
   ],
   "source": [
    "cl0G['cl'][corr_ll][bi].compute()"
   ]
  },
  {
   "cell_type": "code",
   "execution_count": 94,
   "metadata": {},
   "outputs": [
    {
     "data": {
      "text/plain": [
       "array([1.00000000e-04, 1.10752332e-04, 1.22660791e-04, 1.35849686e-04,\n",
       "       1.50456696e-04, 1.66634299e-04, 1.84551372e-04, 2.04394949e-04,\n",
       "       2.26372173e-04, 2.50712460e-04, 2.77669897e-04, 3.07525886e-04,\n",
       "       3.40592091e-04, 3.77213683e-04, 4.17772951e-04, 4.62693286e-04,\n",
       "       5.12443605e-04, 5.67543243e-04, 6.28567378e-04, 6.96153030e-04,\n",
       "       7.71005715e-04, 8.53906810e-04, 9.45721706e-04, 1.04740884e-03,\n",
       "       1.16002972e-03, 1.28475997e-03, 1.42290163e-03, 1.57589674e-03,\n",
       "       1.74534239e-03, 1.93300740e-03, 2.14085077e-03, 2.37104216e-03,\n",
       "       2.62598448e-03, 2.90833906e-03, 3.22105333e-03, 3.56739168e-03,\n",
       "       3.95096948e-03, 4.37579084e-03, 4.84629041e-03, 5.36737965e-03,\n",
       "       5.94449813e-03, 6.58367031e-03, 7.29156841e-03, 8.07558206e-03,\n",
       "       8.94389546e-03, 9.90557280e-03, 1.09706529e-02, 1.21502539e-02,\n",
       "       1.34566896e-02, 1.49035975e-02, 1.65060818e-02, 1.82808706e-02,\n",
       "       2.02464905e-02, 2.24234604e-02, 2.48345053e-02, 2.75047938e-02,\n",
       "       3.04622005e-02, 3.37375975e-02, 3.73651760e-02, 4.13828038e-02,\n",
       "       4.58324203e-02, 5.07604744e-02, 5.62184092e-02, 6.22631992e-02,\n",
       "       6.89579452e-02, 7.63725324e-02, 8.45843607e-02, 9.36791521e-02,\n",
       "       1.03751846e-01, 1.14907589e-01, 1.27262834e-01, 1.40946557e-01,\n",
       "       1.56101599e-01, 1.72886161e-01, 1.91475455e-01, 2.12063532e-01,\n",
       "       2.34865307e-01, 2.60118805e-01, 2.88087643e-01, 3.19063783e-01,\n",
       "       3.53370580e-01, 3.91366159e-01, 4.33447148e-01, 4.80052824e-01,\n",
       "       5.31669698e-01, 5.88836590e-01, 6.52150256e-01, 7.22271617e-01,\n",
       "       7.99932660e-01, 8.85944076e-01, 9.81203725e-01, 1.08670601e+00,\n",
       "       1.20355225e+00, 1.33296218e+00, 1.47628670e+00, 1.63502195e+00,\n",
       "       1.81082494e+00, 2.00553085e+00, 2.22117219e+00, 2.46000000e+00])"
      ]
     },
     "execution_count": 94,
     "metadata": {},
     "output_type": "execute_result"
    }
   ],
   "source": [
    "kappa0.Ang_PS.z "
   ]
  },
  {
   "cell_type": "code",
   "execution_count": 52,
   "metadata": {},
   "outputs": [
    {
     "name": "stderr",
     "output_type": "stream",
     "text": [
      "/home/tkarim/SkyLens/skylens/tracer_utils.py:200: RuntimeWarning: divide by zero encountered in true_divide\n",
      "  sigma_c=1./(ddls*w)\n"
     ]
    },
    {
     "data": {
      "text/plain": [
       "array([3.14595270e-08, 3.52021607e-08, 3.38360188e-08, 3.21574431e-08,\n",
       "       3.03689056e-08, 2.84736330e-08, 2.64997619e-08, 2.45152352e-08,\n",
       "       2.26028145e-08, 2.08350493e-08, 1.92585078e-08, 1.78850795e-08,\n",
       "       1.66871623e-08, 1.55792869e-08, 1.42576839e-08])"
      ]
     },
     "execution_count": 52,
     "metadata": {},
     "output_type": "execute_result"
    }
   ],
   "source": [
    "cl0G['pseudo_cl_b'][corr_gg][bi].compute()"
   ]
  },
  {
   "cell_type": "code",
   "execution_count": 58,
   "metadata": {
    "scrolled": false
   },
   "outputs": [
    {
     "data": {
      "text/plain": [
       "array([[4.28430275e-03, 3.83654127e-03, 2.90716593e-03, ...,\n",
       "        8.76065139e-07, 8.50038892e-07, 8.45710650e-07],\n",
       "       [3.87471581e-03, 4.28417361e-03, 3.83661471e-03, ...,\n",
       "        9.52345046e-07, 8.76782366e-07, 8.41595871e-07],\n",
       "       [2.96501998e-03, 3.87441387e-03, 4.28408916e-03, ...,\n",
       "        1.05298170e-06, 9.44060552e-07, 8.65209760e-07],\n",
       "       ...,\n",
       "       [2.20977625e-06, 2.37851694e-06, 2.60420353e-06, ...,\n",
       "        4.28268318e-03, 3.84647031e-03, 2.92301929e-03],\n",
       "       [2.15258605e-06, 2.19843460e-06, 2.34403327e-06, ...,\n",
       "        3.86164376e-03, 4.28269022e-03, 3.84650564e-03],\n",
       "       [2.15004051e-06, 2.11849995e-06, 2.15669360e-06, ...,\n",
       "        2.94608058e-03, 3.86161962e-03, 4.28269085e-03]])"
      ]
     },
     "execution_count": 58,
     "metadata": {},
     "output_type": "execute_result"
    }
   ],
   "source": [
    "kappa0.Win['cl'][corr_ll][bi]['M']"
   ]
  },
  {
   "cell_type": "code",
   "execution_count": 50,
   "metadata": {
    "scrolled": false
   },
   "outputs": [
    {
     "name": "stderr",
     "output_type": "stream",
     "text": [
      "/home/tkarim/SkyLens/skylens/tracer_utils.py:201: RuntimeWarning: invalid value encountered in less_equal\n",
      "  x=ddls<=0 #zs<zl\n",
      "/home/tkarim/SkyLens/skylens/tracer_utils.py:351: RuntimeWarning: invalid value encountered in true_divide\n",
      "  kernel['gkernel_int']/=np.sum(pz_zl*dzl)\n",
      "/home/tkarim/SkyLens/skylens/tracer_utils.py:200: RuntimeWarning: divide by zero encountered in true_divide\n",
      "  sigma_c=1./(ddls*w)\n",
      "/home/tkarim/SkyLens/skylens/tracer_utils.py:200: RuntimeWarning: divide by zero encountered in true_divide\n",
      "  sigma_c=1./(ddls*w)\n",
      "/home/tkarim/SkyLens/skylens/tracer_utils.py:201: RuntimeWarning: invalid value encountered in less_equal\n",
      "  x=ddls<=0 #zs<zl\n",
      "/home/tkarim/SkyLens/skylens/tracer_utils.py:351: RuntimeWarning: invalid value encountered in true_divide\n",
      "  kernel['gkernel_int']/=np.sum(pz_zl*dzl)\n"
     ]
    },
    {
     "data": {
      "text/plain": [
       "[<matplotlib.lines.Line2D at 0x7f73de4115b0>]"
      ]
     },
     "execution_count": 50,
     "metadata": {},
     "output_type": "execute_result"
    },
    {
     "data": {
      "image/png": "[encoded data removed]",
      "text/plain": [
       "<Figure size 432x288 with 1 Axes>"
      ]
     },
     "metadata": {
      "needs_background": "light"
     },
     "output_type": "display_data"
    }
   ],
   "source": [
    "bi=(0,0) #z_bin indexes\n",
    "plt.plot(cl0G['pseudo_cl_b'][corr_ll][bi].compute())\n",
    "plt.plot(cl0G['pseudo_cl_b'][corr_gg][bi].compute())\n",
    "plt.plot(cl0G['pseudo_cl_b'][corr_gl][bi].compute())"
   ]
  },
  {
   "cell_type": "code",
   "execution_count": 37,
   "metadata": {
    "scrolled": true
   },
   "outputs": [
    {
     "data": {
      "text/plain": [
       "array([2.82598722e-09, 1.68567360e-09, 1.06196023e-09, 7.44372666e-10,\n",
       "       5.54079317e-10, 4.28528471e-10, 3.47058241e-10, 2.86486526e-10,\n",
       "       2.40970358e-10])"
      ]
     },
     "execution_count": 37,
     "metadata": {},
     "output_type": "execute_result"
    }
   ],
   "source": [
    "cl0G['pseudo_cl_b'][corr_ll][bi].compute()"
   ]
  },
  {
   "cell_type": "markdown",
   "metadata": {},
   "source": [
    "Compare with Abacus"
   ]
  },
  {
   "cell_type": "code",
   "execution_count": 22,
   "metadata": {},
   "outputs": [
    {
     "ename": "NameError",
     "evalue": "name 'cl0G' is not defined",
     "output_type": "error",
     "traceback": [
      "\u001b[0;31m---------------------------------------------------------------------------\u001b[0m",
      "\u001b[0;31mNameError\u001b[0m                                 Traceback (most recent call last)",
      "\u001b[0;32m<ipython-input-22-d1bac2692212>\u001b[0m in \u001b[0;36m<module>\u001b[0;34m\u001b[0m\n\u001b[1;32m      4\u001b[0m \u001b[0;34m\u001b[0m\u001b[0m\n\u001b[1;32m      5\u001b[0m \u001b[0mbi\u001b[0m\u001b[0;34m=\u001b[0m\u001b[0;34m(\u001b[0m\u001b[0;36m0\u001b[0m\u001b[0;34m,\u001b[0m\u001b[0;36m0\u001b[0m\u001b[0;34m)\u001b[0m\u001b[0;34m\u001b[0m\u001b[0;34m\u001b[0m\u001b[0m\n\u001b[0;32m----> 6\u001b[0;31m \u001b[0mcL_skylens\u001b[0m \u001b[0;34m=\u001b[0m \u001b[0mcl0G\u001b[0m\u001b[0;34m[\u001b[0m\u001b[0;34m'pseudo_cl_b'\u001b[0m\u001b[0;34m]\u001b[0m\u001b[0;34m[\u001b[0m\u001b[0mcorr_ll\u001b[0m\u001b[0;34m]\u001b[0m\u001b[0;34m[\u001b[0m\u001b[0mbi\u001b[0m\u001b[0;34m]\u001b[0m\u001b[0;34m.\u001b[0m\u001b[0mcompute\u001b[0m\u001b[0;34m(\u001b[0m\u001b[0;34m)\u001b[0m\u001b[0;34m\u001b[0m\u001b[0;34m\u001b[0m\u001b[0m\n\u001b[0m\u001b[1;32m      7\u001b[0m \u001b[0;31m#cov from skylens\u001b[0m\u001b[0;34m\u001b[0m\u001b[0;34m\u001b[0m\u001b[0;34m\u001b[0m\u001b[0m\n\u001b[1;32m      8\u001b[0m \u001b[0mcov_skylens\u001b[0m \u001b[0;34m=\u001b[0m \u001b[0mcl0G\u001b[0m\u001b[0;34m[\u001b[0m\u001b[0;34m'cov'\u001b[0m\u001b[0;34m]\u001b[0m\u001b[0;34m[\u001b[0m\u001b[0mcorr_ll\u001b[0m\u001b[0;34m+\u001b[0m\u001b[0mcorr_ll\u001b[0m\u001b[0;34m]\u001b[0m\u001b[0;34m[\u001b[0m\u001b[0mbi\u001b[0m\u001b[0;34m+\u001b[0m\u001b[0mbi\u001b[0m\u001b[0;34m]\u001b[0m\u001b[0;34m.\u001b[0m\u001b[0mcompute\u001b[0m\u001b[0;34m(\u001b[0m\u001b[0;34m)\u001b[0m\u001b[0;34m[\u001b[0m\u001b[0;34m'final_b'\u001b[0m\u001b[0;34m]\u001b[0m\u001b[0;34m\u001b[0m\u001b[0;34m\u001b[0m\u001b[0m\n",
      "\u001b[0;31mNameError\u001b[0m: name 'cl0G' is not defined"
     ]
    }
   ],
   "source": [
    "cL_abacus = np.array([2.98436168e-09, 1.59208922e-09, 1.02584562e-09, 6.76985059e-10,\n",
    "       5.34959849e-10, 4.01468676e-10, 3.29359846e-10, 2.69317428e-10,\n",
    "       2.32066641e-10])\n",
    "\n",
    "bi=(0,0)\n",
    "cL_skylens = cl0G['pseudo_cl_b'][corr_ll][bi].compute()\n",
    "#cov from skylens\n",
    "cov_skylens = cl0G['cov'][corr_ll+corr_ll][bi+bi].compute()['final_b']"
   ]
  },
  {
   "cell_type": "code",
   "execution_count": 21,
   "metadata": {
    "scrolled": false
   },
   "outputs": [
    {
     "ename": "NameError",
     "evalue": "name 'cL_skylens' is not defined",
     "output_type": "error",
     "traceback": [
      "\u001b[0;31m---------------------------------------------------------------------------\u001b[0m",
      "\u001b[0;31mNameError\u001b[0m                                 Traceback (most recent call last)",
      "\u001b[0;32m<ipython-input-21-656f7fa421bf>\u001b[0m in \u001b[0;36m<module>\u001b[0;34m\u001b[0m\n\u001b[1;32m      2\u001b[0m \u001b[0;31m#err = np.sqrt(np.diag(cov_skylens))\u001b[0m\u001b[0;34m\u001b[0m\u001b[0;34m\u001b[0m\u001b[0;34m\u001b[0m\u001b[0m\n\u001b[1;32m      3\u001b[0m \u001b[0;31m#plt.errorbar(lb, cL_abacus, yerr = err, label = 'abacus')\u001b[0m\u001b[0;34m\u001b[0m\u001b[0;34m\u001b[0m\u001b[0;34m\u001b[0m\u001b[0m\n\u001b[0;32m----> 4\u001b[0;31m \u001b[0mplt\u001b[0m\u001b[0;34m.\u001b[0m\u001b[0mplot\u001b[0m\u001b[0;34m(\u001b[0m\u001b[0mlb\u001b[0m\u001b[0;34m,\u001b[0m \u001b[0mcL_skylens\u001b[0m\u001b[0;34m,\u001b[0m \u001b[0mlabel\u001b[0m \u001b[0;34m=\u001b[0m \u001b[0;34m'skylens'\u001b[0m\u001b[0;34m)\u001b[0m\u001b[0;34m\u001b[0m\u001b[0;34m\u001b[0m\u001b[0m\n\u001b[0m\u001b[1;32m      5\u001b[0m \u001b[0mplt\u001b[0m\u001b[0;34m.\u001b[0m\u001b[0mxscale\u001b[0m\u001b[0;34m(\u001b[0m\u001b[0;34m'log'\u001b[0m\u001b[0;34m)\u001b[0m\u001b[0;34m\u001b[0m\u001b[0;34m\u001b[0m\u001b[0m\n\u001b[1;32m      6\u001b[0m \u001b[0mplt\u001b[0m\u001b[0;34m.\u001b[0m\u001b[0myscale\u001b[0m\u001b[0;34m(\u001b[0m\u001b[0;34m'log'\u001b[0m\u001b[0;34m)\u001b[0m\u001b[0;34m\u001b[0m\u001b[0;34m\u001b[0m\u001b[0m\n",
      "\u001b[0;31mNameError\u001b[0m: name 'cL_skylens' is not defined"
     ]
    },
    {
     "data": {
      "text/plain": [
       "<Figure size 720x576 with 0 Axes>"
      ]
     },
     "metadata": {},
     "output_type": "display_data"
    }
   ],
   "source": [
    "plt.figure(figsize = (10,8))\n",
    "#err = np.sqrt(np.diag(cov_skylens))\n",
    "#plt.errorbar(lb, cL_abacus, yerr = err, label = 'abacus')\n",
    "plt.plot(lb, cL_skylens, label = 'skylens')\n",
    "plt.xscale('log')\n",
    "plt.yscale('log')\n",
    "plt.legend(loc= 'best')"
   ]
  },
  {
   "cell_type": "code",
   "execution_count": 29,
   "metadata": {},
   "outputs": [
    {
     "data": {
      "text/plain": [
       "<matplotlib.lines.Line2D at 0x7f52b00a7d60>"
      ]
     },
     "execution_count": 29,
     "metadata": {},
     "output_type": "execute_result"
    },
    {
     "data": {
      "image/png": "[encoded data removed]",
      "text/plain": [
       "<Figure size 432x288 with 1 Axes>"
      ]
     },
     "metadata": {
      "needs_background": "light"
     },
     "output_type": "display_data"
    }
   ],
   "source": [
    "plt.errorbar(lb, cL_abacus/cL_skylens, yerr = err/cL_skylens)\n",
    "plt.axhline(1, c = 'red')"
   ]
  },
  {
   "cell_type": "code",
   "execution_count": 30,
   "metadata": {},
   "outputs": [],
   "source": [
    "loss = (cL_abacus - cL_skylens)\n",
    "inv = np.linalg.inv(cov_skylens)\n",
    "chi2 = loss @ inv @ loss"
   ]
  },
  {
   "cell_type": "code",
   "execution_count": 31,
   "metadata": {},
   "outputs": [
    {
     "data": {
      "text/plain": [
       "17.679574745241027"
      ]
     },
     "execution_count": 31,
     "metadata": {},
     "output_type": "execute_result"
    }
   ],
   "source": [
    "chi2"
   ]
  },
  {
   "cell_type": "code",
   "execution_count": 32,
   "metadata": {},
   "outputs": [],
   "source": [
    "corrmat = cov_skylens/np.outer(err, err)"
   ]
  },
  {
   "cell_type": "code",
   "execution_count": 33,
   "metadata": {
    "scrolled": false
   },
   "outputs": [
    {
     "name": "stderr",
     "output_type": "stream",
     "text": [
      "07:10:54 DEBUG:locator: <matplotlib.colorbar._ColorbarAutoLocator object at 0x7f52abf9b970>\n",
      "07:10:54 DEBUG:Using auto colorbar locator on colorbar\n",
      "07:10:54 DEBUG:locator: <matplotlib.colorbar._ColorbarAutoLocator object at 0x7f52abf9b970>\n",
      "07:10:54 DEBUG:Setting pcolormesh\n"
     ]
    },
    {
     "data": {
      "text/plain": [
       "<matplotlib.colorbar.Colorbar at 0x7f52abf9b370>"
      ]
     },
     "execution_count": 33,
     "metadata": {},
     "output_type": "execute_result"
    },
    {
     "data": {
      "image/png": "[encoded data removed]",
      "text/plain": [
       "<Figure size 432x288 with 2 Axes>"
      ]
     },
     "metadata": {
      "needs_background": "light"
     },
     "output_type": "display_data"
    }
   ],
   "source": [
    "plt.pcolor(lb, lb, corrmat, vmin = -1, vmax = 1, cmap = 'seismic')\n",
    "plt.colorbar()\n",
    "#plt.xscale('log')\n",
    "#plt.yscale('log')"
   ]
  },
  {
   "cell_type": "code",
   "execution_count": null,
   "metadata": {},
   "outputs": [],
   "source": []
  }
 ],
 "metadata": {
  "hide_input": false,
  "kernelspec": {
   "display_name": "Python 3",
   "language": "python",
   "name": "python3"
  },
  "language_info": {
   "codemirror_mode": {
    "name": "ipython",
    "version": 3
   },
   "file_extension": ".py",
   "mimetype": "text/x-python",
   "name": "python",
   "nbconvert_exporter": "python",
   "pygments_lexer": "ipython3",
   "version": "3.8.3"
  }
 },
 "nbformat": 4,
 "nbformat_minor": 2
}
