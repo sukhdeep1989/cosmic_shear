{
 "cells": [
  {
   "cell_type": "code",
   "execution_count": 2,
   "metadata": {},
   "outputs": [],
   "source": [
    "import sys\n",
    "# import pyccl as ccl\n",
    "import pickle\n",
    "import camb\n",
    "sys.path.insert(0,'../skylens/')\n",
    "# from importlib import reload"
   ]
  },
  {
   "cell_type": "code",
   "execution_count": 5,
   "metadata": {},
   "outputs": [],
   "source": [
    "from distributed import LocalCluster\n",
    "from dask.distributed import Client  # we already had this above\n",
    "#http://distributed.readthedocs.io/en/latest/_modules/distributed/worker.html\n",
    "c=LocalCluster(n_workers=1,processes=False,memory_limit='25gb',threads_per_worker=14,memory_spill_fraction=.99,\n",
    "               memory_monitor_interval='2000ms')\n",
    "client=Client(c)"
   ]
  },
  {
   "cell_type": "code",
   "execution_count": 6,
   "metadata": {},
   "outputs": [],
   "source": [
    "from skylens import *\n",
    "from survey_utils import *"
   ]
  },
  {
   "cell_type": "code",
   "execution_count": 7,
   "metadata": {},
   "outputs": [],
   "source": [
    "#only for python3\n",
    "import importlib\n",
    "reload=importlib.reload"
   ]
  },
  {
   "cell_type": "code",
   "execution_count": 8,
   "metadata": {},
   "outputs": [
    {
     "name": "stdout",
     "output_type": "stream",
     "text": [
      "ns0:  27.0\n"
     ]
    }
   ],
   "source": [
    "zs=lsst_source_tomo_bins()\n",
    "corr_ll=('shear', 'shear')"
   ]
  },
  {
   "cell_type": "code",
   "execution_count": 9,
   "metadata": {},
   "outputs": [],
   "source": [
    "wigner_files={}\n",
    "wigner_files[0]= '/Users/Deep/dask_temp/dask_wig3j_l3500_w2100_0_reorder.zarr'\n",
    "wigner_files[2]= '/Users/Deep/dask_temp/dask_wig3j_l3500_w2100_2_reorder.zarr'\n",
    "\n"
   ]
  },
  {
   "cell_type": "markdown",
   "metadata": {},
   "source": [
    "# Power Spectrum covariance"
   ]
  },
  {
   "cell_type": "code",
   "execution_count": 10,
   "metadata": {},
   "outputs": [],
   "source": [
    "#setup parameters\n",
    "lmax_cl=200\n",
    "lmin_cl=2\n",
    "l0=np.arange(lmin_cl,lmax_cl)\n",
    "\n",
    "lmin_cl_Bins=lmin_cl+10\n",
    "lmax_cl_Bins=lmax_cl-10\n",
    "Nl_bins=20\n",
    "l_bins=np.int64(np.logspace(np.log10(lmin_cl_Bins),np.log10(lmax_cl_Bins),Nl_bins))\n",
    "lb=np.sqrt(l_bins[1:]*l_bins[:-1])\n",
    "\n",
    "l=np.unique(np.int64(np.logspace(np.log10(lmin_cl),np.log10(lmax_cl),Nl_bins*20))) #if we want to use fewer ell\n",
    "\n",
    "do_cov=True\n",
    "bin_cl=True\n",
    "\n",
    "SSV_cov=True\n",
    "tidal_SSV_cov=False\n",
    "Tri_cov=True\n",
    "\n",
    "bin_xi=True\n",
    "theta_bins=np.logspace(np.log10(1./60),1,20)"
   ]
  },
  {
   "cell_type": "markdown",
   "metadata": {},
   "source": [
    "##  Test with 1 redshift bin"
   ]
  },
  {
   "cell_type": "code",
   "execution_count": 11,
   "metadata": {},
   "outputs": [],
   "source": [
    "store_win=True\n",
    "window_lmax=200"
   ]
  },
  {
   "cell_type": "code",
   "execution_count": 12,
   "metadata": {},
   "outputs": [],
   "source": [
    "use_window=False\n",
    "do_cov=True"
   ]
  },
  {
   "cell_type": "code",
   "execution_count": 13,
   "metadata": {
    "scrolled": true
   },
   "outputs": [
    {
     "name": "stdout",
     "output_type": "stream",
     "text": [
      "indxs:  None None\n",
      "Win gen: step size 2137\n",
      "Window done\n"
     ]
    },
    {
     "name": "stderr",
     "output_type": "stream",
     "text": [
      "../skylens/cov_utils.py:58: RuntimeWarning: invalid value encountered in true_divide\n",
      "  Win0=2*jn(1,l_th)/l_th\n",
      "../skylens/angular_power_spectra.py:26: RuntimeWarning: divide by zero encountered in true_divide\n",
      "  self.cl_f=(l+0.5)**2/(l*(l+1.)) # cl correction from Kilbinger+ 2017\n"
     ]
    },
    {
     "name": "stdout",
     "output_type": "stream",
     "text": [
      "cl dict done dict_keys([('galaxy', 'galaxy')])\n"
     ]
    },
    {
     "name": "stderr",
     "output_type": "stream",
     "text": [
      "/Users/Deep/anaconda/envs/py36/lib/python3.6/site-packages/healpy/sphtfunc.py:401: FutureChangeWarning: The order of the input cl's will change in a future release.\n",
      "Use new=True keyword to start using the new order.\n",
      "See documentation of healpy.synalm.\n",
      "  category=FutureChangeWarning,\n"
     ]
    },
    {
     "name": "stdout",
     "output_type": "stream",
     "text": [
      "Sigma is 0.000000 arcmin (0.000000 rad) \n",
      "-> fwhm is 0.000000 arcmin\n"
     ]
    }
   ],
   "source": [
    "z0=1 #1087\n",
    "zs_bin1=source_tomo_bins(zp=[z0],p_zp=np.array([1]),ns=30,use_window=use_window,nside=1024)"
   ]
  },
  {
   "cell_type": "code",
   "execution_count": 14,
   "metadata": {},
   "outputs": [],
   "source": [
    "use_binned_l=False"
   ]
  },
  {
   "cell_type": "code",
   "execution_count": 15,
   "metadata": {},
   "outputs": [],
   "source": [
    "a={'a':1,'b':2}"
   ]
  },
  {
   "cell_type": "code",
   "execution_count": 16,
   "metadata": {},
   "outputs": [],
   "source": [
    "kk=list(a.keys())\n",
    "ii=len(kk)"
   ]
  },
  {
   "cell_type": "code",
   "execution_count": 17,
   "metadata": {},
   "outputs": [
    {
     "data": {
      "text/plain": [
       "[('a', 'a'), ('a', 'b'), ('b', 'b')]"
      ]
     },
     "execution_count": 17,
     "metadata": {},
     "output_type": "execute_result"
    }
   ],
   "source": [
    "[(kk[i],kk[j]) for i in np.arange(ii) for j in np.arange(i,ii)]"
   ]
  },
  {
   "cell_type": "code",
   "execution_count": 18,
   "metadata": {},
   "outputs": [],
   "source": [
    "import skylens\n",
    "reload(skylens)\n",
    "from skylens import *"
   ]
  },
  {
   "cell_type": "code",
   "execution_count": 19,
   "metadata": {},
   "outputs": [],
   "source": [
    "store_win=True"
   ]
  },
  {
   "cell_type": "code",
   "execution_count": 20,
   "metadata": {},
   "outputs": [
    {
     "name": "stdout",
     "output_type": "stream",
     "text": [
      "indxs:  None None\n",
      "Win gen: step size 199\n",
      "wigner_files: {0: '/Users/Deep/dask_temp/dask_wig3j_l3500_w2100_0_reorder.zarr', 2: '/Users/Deep/dask_temp/dask_wig3j_l3500_w2100_2_reorder.zarr'}\n",
      "wigner done dict_keys([0, 2])\n",
      "setting windows <Client: 'inproc://192.168.86.85/35345/1' processes=1 threads=14, memory=25.00 GB>\n",
      "got window cls, now to coupling matrices.\n",
      "done coupling submatrix  0 time total, graph, compute 3.666943073272705 0.002190113067626953 3.6647450923919678\n",
      "Window done\n"
     ]
    }
   ],
   "source": [
    "#use all ell\n",
    "kappa0=Skylens(zs_bins=zs_bin1,do_cov=do_cov,bin_cl=bin_cl,l_bins=l_bins,l=l0, zg_bins=None,\n",
    "                                       use_window=use_window,Tri_cov=Tri_cov,\n",
    "                                       use_binned_l=use_binned_l,wigner_files=wigner_files,\n",
    "                                       SSV_cov=SSV_cov,tidal_SSV_cov=tidal_SSV_cov,f_sky=0.35,\n",
    "                                       store_win=store_win,window_lmax=window_lmax\n",
    "                                       )"
   ]
  },
  {
   "cell_type": "code",
   "execution_count": 21,
   "metadata": {},
   "outputs": [
    {
     "data": {
      "image/png": "[encoded data removed]",
      "text/plain": [
       "<IPython.core.display.Image object>"
      ]
     },
     "execution_count": 21,
     "metadata": {},
     "output_type": "execute_result"
    }
   ],
   "source": [
    "dask.visualize(kappa0.Win.Win)"
   ]
  },
  {
   "cell_type": "code",
   "execution_count": 22,
   "metadata": {},
   "outputs": [
    {
     "name": "stdout",
     "output_type": "stream",
     "text": [
      "cl dict done dict_keys([('shear', 'shear')])\n",
      "CPU times: user 13.3 s, sys: 434 ms, total: 13.8 s\n",
      "Wall time: 13.3 s\n"
     ]
    }
   ],
   "source": [
    "%time cl0G=kappa0.cl_tomo() "
   ]
  },
  {
   "cell_type": "code",
   "execution_count": 23,
   "metadata": {},
   "outputs": [
    {
     "data": {
      "text/plain": [
       "(198,)"
      ]
     },
     "execution_count": 23,
     "metadata": {},
     "output_type": "execute_result"
    }
   ],
   "source": [
    "kappa0.l.shape"
   ]
  },
  {
   "cell_type": "code",
   "execution_count": 24,
   "metadata": {},
   "outputs": [
    {
     "name": "stdout",
     "output_type": "stream",
     "text": [
      "CPU times: user 141 ms, sys: 39.2 ms, total: 181 ms\n",
      "Wall time: 28.8 ms\n"
     ]
    }
   ],
   "source": [
    "%time cl0=cl0G['stack'].compute()"
   ]
  },
  {
   "cell_type": "code",
   "execution_count": 25,
   "metadata": {},
   "outputs": [
    {
     "data": {
      "text/plain": [
       "{'cov': array([[1.86122199e-17, 4.46381672e-18, 3.80089110e-19, 8.96280067e-20,\n",
       "         4.07966065e-20, 2.54994878e-20, 1.29374060e-20, 9.39009708e-21,\n",
       "         6.85586579e-21, 5.29049345e-21, 4.23217459e-21, 3.38420610e-21,\n",
       "         2.77941283e-21, 2.26039025e-21, 1.85574011e-21, 1.54281277e-21,\n",
       "         1.28647490e-21, 1.07210493e-21, 8.91525014e-22],\n",
       "        [4.46381672e-18, 9.91775735e-18, 2.26567695e-18, 2.00213082e-19,\n",
       "         6.16945781e-20, 2.73056193e-20, 1.44873128e-20, 9.21180997e-21,\n",
       "         6.54304246e-21, 4.95745116e-21, 3.91787863e-21, 3.13193778e-21,\n",
       "         2.55539634e-21, 2.07708309e-21, 1.69861230e-21, 1.40994783e-21,\n",
       "         1.17277537e-21, 9.75684222e-22, 8.09247468e-22],\n",
       "        [3.80089110e-19, 2.26567695e-18, 9.67588541e-18, 1.75370157e-18,\n",
       "         1.39284901e-19, 3.97475570e-20, 1.65301810e-20, 8.95467266e-21,\n",
       "         6.37036436e-21, 4.54993166e-21, 3.60881251e-21, 2.85582906e-21,\n",
       "         2.32017289e-21, 1.87407956e-21, 1.53348771e-21, 1.26779905e-21,\n",
       "         1.05223205e-21, 8.73476140e-22, 7.22373984e-22],\n",
       "        [8.96280067e-20, 2.00213082e-19, 1.75370157e-18, 6.00301266e-18,\n",
       "         9.61371439e-19, 7.91350863e-20, 2.03301138e-20, 9.96255168e-21,\n",
       "         6.27779267e-21, 4.28193722e-21, 3.32980844e-21, 2.61769503e-21,\n",
       "         2.11571093e-21, 1.69934709e-21, 1.39232684e-21, 1.14558060e-21,\n",
       "         9.49602164e-22, 7.87021199e-22, 6.48614892e-22],\n",
       "        [4.07966065e-20, 6.16945781e-20, 1.39284901e-19, 9.61371439e-19,\n",
       "         4.51424242e-18, 5.67811269e-19, 3.51397570e-20, 1.20311798e-20,\n",
       "         6.28548230e-21, 4.17333505e-21, 3.04900278e-21, 2.37083979e-21,\n",
       "         1.89599853e-21, 1.52921937e-21, 1.25052087e-21, 1.02211794e-21,\n",
       "         8.45885222e-22, 7.00055658e-22, 5.74702080e-22],\n",
       "        [2.54994878e-20, 2.73056193e-20, 3.97475570e-20, 7.91350863e-20,\n",
       "         5.67811269e-19, 2.67585163e-18, 2.66830781e-19, 1.85106251e-20,\n",
       "         7.18562057e-21, 4.12986456e-21, 2.78386621e-21, 2.14690715e-21,\n",
       "         1.68770514e-21, 1.36382340e-21, 1.10952717e-21, 9.04652981e-22,\n",
       "         7.45767127e-22, 6.16236774e-22, 5.03743315e-22],\n",
       "        [1.29374060e-20, 1.44873128e-20, 1.65301810e-20, 2.03301138e-20,\n",
       "         3.51397570e-20, 2.66830781e-19, 1.54302807e-18, 1.51007297e-19,\n",
       "         1.14190476e-20, 4.50580691e-21, 2.66725687e-21, 1.92413821e-21,\n",
       "         1.48613520e-21, 1.19086223e-21, 9.61596236e-22, 7.84919469e-22,\n",
       "         6.44246000e-22, 5.31075689e-22, 4.31699523e-22],\n",
       "        [9.39009708e-21, 9.21180997e-21, 8.95467266e-21, 9.96255168e-21,\n",
       "         1.20311798e-20, 1.85106251e-20, 1.51007297e-19, 1.04406456e-18,\n",
       "         8.83025612e-20, 6.45039680e-21, 2.75998796e-21, 1.76149153e-21,\n",
       "         1.32107393e-21, 1.03910132e-21, 8.35820488e-22, 6.81525905e-22,\n",
       "         5.56693289e-22, 4.58053299e-22, 3.69568297e-22],\n",
       "        [6.85586579e-21, 6.54304246e-21, 6.37036436e-21, 6.27779267e-21,\n",
       "         6.28548230e-21, 7.18562057e-21, 1.14190476e-20, 8.83025612e-20,\n",
       "         6.08600703e-19, 4.46608164e-20, 3.56614882e-21, 1.74575193e-21,\n",
       "         1.18738854e-21, 9.13498420e-22, 7.29439039e-22, 5.93017751e-22,\n",
       "         4.81606676e-22, 3.94347999e-22, 3.17782023e-22],\n",
       "        [5.29049345e-21, 4.95745116e-21, 4.54993166e-21, 4.28193722e-21,\n",
       "         4.17333505e-21, 4.12986456e-21, 4.50580691e-21, 6.45039680e-21,\n",
       "         4.46608164e-20, 3.51189221e-19, 2.31212796e-20, 2.11610748e-21,\n",
       "         1.12585389e-21, 8.08596379e-22, 6.35215993e-22, 5.10883183e-22,\n",
       "         4.14399987e-22, 3.35785937e-22, 2.71779460e-22],\n",
       "        [4.23217459e-21, 3.91787863e-21, 3.60881251e-21, 3.32980844e-21,\n",
       "         3.04900278e-21, 2.78386621e-21, 2.66725687e-21, 2.75998796e-21,\n",
       "         3.56614882e-21, 2.31212796e-20, 2.02852450e-19, 1.22600712e-20,\n",
       "         1.26099437e-21, 7.38350987e-22, 5.54239990e-22, 4.41130290e-22,\n",
       "         3.56487248e-22, 2.85293036e-22, 2.31894170e-22],\n",
       "        [3.38420610e-21, 3.13193778e-21, 2.85582906e-21, 2.61769503e-21,\n",
       "         2.37083979e-21, 2.14690715e-21, 1.92413821e-21, 1.76149153e-21,\n",
       "         1.74575193e-21, 2.11610748e-21, 1.22600712e-20, 1.18087538e-19,\n",
       "         6.15252823e-21, 7.68221878e-22, 4.94771985e-22, 3.82810818e-22,\n",
       "         3.05878275e-22, 2.43064708e-22, 1.97974762e-22],\n",
       "        [2.77941283e-21, 2.55539634e-21, 2.32017289e-21, 2.11571093e-21,\n",
       "         1.89599853e-21, 1.68770514e-21, 1.48613520e-21, 1.32107393e-21,\n",
       "         1.18738854e-21, 1.12585389e-21, 1.26099437e-21, 6.15252823e-21,\n",
       "         6.26369926e-20, 3.14593043e-21, 4.84048175e-22, 3.35170968e-22,\n",
       "         2.60433388e-22, 2.07909300e-22, 1.68098221e-22],\n",
       "        [2.26039025e-21, 2.07708309e-21, 1.87407956e-21, 1.69934709e-21,\n",
       "         1.52921937e-21, 1.36382340e-21, 1.19086223e-21, 1.03910132e-21,\n",
       "         9.13498420e-22, 8.08596379e-22, 7.38350987e-22, 7.68221878e-22,\n",
       "         3.14593043e-21, 3.62778760e-20, 1.59424595e-21, 3.08960234e-22,\n",
       "         2.24080519e-22, 1.77823941e-22, 1.42632739e-22],\n",
       "        [1.85574011e-21, 1.69861230e-21, 1.53348771e-21, 1.39232684e-21,\n",
       "         1.25052087e-21, 1.10952717e-21, 9.61596236e-22, 8.35820488e-22,\n",
       "         7.29439039e-22, 6.35215993e-22, 5.54239990e-22, 4.94771985e-22,\n",
       "         4.84048175e-22, 1.59424595e-21, 1.81780449e-20, 8.15673052e-22,\n",
       "         2.01729510e-22, 1.52112499e-22, 1.21169968e-22],\n",
       "        [1.54281277e-21, 1.40994783e-21, 1.26779905e-21, 1.14558060e-21,\n",
       "         1.02211794e-21, 9.04652981e-22, 7.84919469e-22, 6.81525905e-22,\n",
       "         5.93017751e-22, 5.10883183e-22, 4.41130290e-22, 3.82810818e-22,\n",
       "         3.35170968e-22, 3.08960234e-22, 8.15673052e-22, 1.03450784e-20,\n",
       "         4.29622398e-22, 1.33191038e-22, 1.03585829e-22],\n",
       "        [1.28647490e-21, 1.17277537e-21, 1.05223205e-21, 9.49602164e-22,\n",
       "         8.45885222e-22, 7.45767127e-22, 6.44246000e-22, 5.56693289e-22,\n",
       "         4.81606676e-22, 4.14399987e-22, 3.56487248e-22, 3.05878275e-22,\n",
       "         2.60433388e-22, 2.24080519e-22, 2.01729510e-22, 4.29622398e-22,\n",
       "         5.02170507e-21, 2.26835942e-22, 8.99774134e-23],\n",
       "        [1.07210493e-21, 9.75684222e-22, 8.73476140e-22, 7.87021199e-22,\n",
       "         7.00055658e-22, 6.16236774e-22, 5.31075689e-22, 4.58053299e-22,\n",
       "         3.94347999e-22, 3.35785937e-22, 2.85293036e-22, 2.43064708e-22,\n",
       "         2.07909300e-22, 1.77823941e-22, 1.52112499e-22, 1.33191038e-22,\n",
       "         2.26835942e-22, 2.71166962e-21, 1.32038932e-22],\n",
       "        [8.91525014e-22, 8.09247468e-22, 7.22373984e-22, 6.48614892e-22,\n",
       "         5.74702080e-22, 5.03743315e-22, 4.31699523e-22, 3.69568297e-22,\n",
       "         3.17782023e-22, 2.71779460e-22, 2.31894170e-22, 1.97974762e-22,\n",
       "         1.68098221e-22, 1.42632739e-22, 1.21169968e-22, 1.03585829e-22,\n",
       "         8.99774134e-23, 1.32038932e-22, 1.45489033e-21]]),\n",
       " 'pcl_b': array([1.13995568e-08, 1.11491865e-08, 1.07272896e-08, 1.02149399e-08,\n",
       "        9.57534912e-09, 8.83406230e-09, 7.94982293e-09, 7.08477577e-09,\n",
       "        6.27139390e-09, 5.47897642e-09, 4.74819151e-09, 4.09821358e-09,\n",
       "        3.50527821e-09, 2.97936437e-09, 2.50379583e-09, 2.08610704e-09,\n",
       "        1.72147711e-09, 1.41131646e-09, 1.16135199e-09])}"
      ]
     },
     "execution_count": 25,
     "metadata": {},
     "output_type": "execute_result"
    }
   ],
   "source": [
    "cl0"
   ]
  },
  {
   "cell_type": "code",
   "execution_count": 26,
   "metadata": {},
   "outputs": [],
   "source": [
    "do_xi=True\n",
    "bin_xi=True\n",
    "do_cov=False\n",
    "bin_cl=True\n",
    "th_min=2.5/60\n",
    "th_max=250./60\n",
    "n_th_bins=20\n",
    "th_bins=np.logspace(np.log10(th_min),np.log10(th_max),n_th_bins+1)\n",
    "th=np.logspace(np.log10(th_min),np.log10(th_max),n_th_bins*40)\n",
    "thb=np.sqrt(th_bins[1:]*th_bins[:-1])"
   ]
  },
  {
   "cell_type": "code",
   "execution_count": 27,
   "metadata": {},
   "outputs": [],
   "source": [
    "# import wigner_transform \n",
    "# reload(wigner_transform)\n",
    "# from wigner_transform import *\n",
    "\n",
    "import binning\n",
    "reload(binning)\n",
    "from binning import *"
   ]
  },
  {
   "cell_type": "code",
   "execution_count": 28,
   "metadata": {},
   "outputs": [
    {
     "data": {
      "text/plain": [
       "array([0.04166667, 0.04190751, 0.04214975, 0.04239339, 0.04263844,\n",
       "       0.0428849 , 0.04313279, 0.04338211, 0.04363287, 0.04388508,\n",
       "       0.04413875, 0.04439389, 0.0446505 , 0.04490859, 0.04516818,\n",
       "       0.04542926, 0.04569186, 0.04595597, 0.04622161, 0.04648879,\n",
       "       0.04675751, 0.04702778, 0.04729961, 0.04757302, 0.04784801,\n",
       "       0.04812458, 0.04840276, 0.04868254, 0.04896394, 0.04924697,\n",
       "       0.04953163, 0.04981794, 0.0501059 , 0.05039553, 0.05068683,\n",
       "       0.05097982, 0.0512745 , 0.05157088, 0.05186897, 0.05216879,\n",
       "       0.05247034, 0.05277364, 0.05307869, 0.0533855 , 0.05369408,\n",
       "       0.05400445, 0.05431661, 0.05463058, 0.05494636, 0.05526397,\n",
       "       0.05558341, 0.0559047 , 0.05622785, 0.05655286, 0.05687976,\n",
       "       0.05720854, 0.05753922, 0.05787182, 0.05820633, 0.05854278,\n",
       "       0.05888118, 0.05922153, 0.05956385, 0.05990815, 0.06025443,\n",
       "       0.06060272, 0.06095303, 0.06130535, 0.06165972, 0.06201613,\n",
       "       0.0623746 , 0.06273515, 0.06309777, 0.0634625 , 0.06382933,\n",
       "       0.06419829, 0.06456937, 0.0649426 , 0.06531799, 0.06569555,\n",
       "       0.06607529, 0.06645722, 0.06684137, 0.06722773, 0.06761633,\n",
       "       0.06800717, 0.06840027, 0.06879565, 0.06919331, 0.06959327,\n",
       "       0.06999554, 0.07040013, 0.07080707, 0.07121636, 0.07162801,\n",
       "       0.07204204, 0.07245847, 0.0728773 , 0.07329855, 0.07372224,\n",
       "       0.07414838, 0.07457698, 0.07500806, 0.07544163, 0.0758777 ,\n",
       "       0.0763163 , 0.07675743, 0.07720111, 0.07764736, 0.07809618,\n",
       "       0.0785476 , 0.07900163, 0.07945829, 0.07991758, 0.08037953,\n",
       "       0.08084415, 0.08131145, 0.08178146, 0.08225418, 0.08272963,\n",
       "       0.08320784, 0.0836888 , 0.08417255, 0.08465909, 0.08514845,\n",
       "       0.08564063, 0.08613566, 0.08663355, 0.08713432, 0.08763799,\n",
       "       0.08814456, 0.08865406, 0.08916651, 0.08968192, 0.09020031,\n",
       "       0.0907217 , 0.0912461 , 0.09177353, 0.09230401, 0.09283755,\n",
       "       0.09337418, 0.09391391, 0.09445676, 0.09500275, 0.0955519 ,\n",
       "       0.09610422, 0.09665973, 0.09721845, 0.09778041, 0.09834561,\n",
       "       0.09891408, 0.09948583, 0.10006089, 0.10063927, 0.101221  ,\n",
       "       0.10180609, 0.10239456, 0.10298643, 0.10358172, 0.10418046,\n",
       "       0.10478265, 0.10538833, 0.1059975 , 0.1066102 , 0.10722644,\n",
       "       0.10784625, 0.10846963, 0.10909662, 0.10972723, 0.11036149,\n",
       "       0.11099941, 0.11164102, 0.11228634, 0.11293539, 0.11358819,\n",
       "       0.11424477, 0.11490514, 0.11556932, 0.11623735, 0.11690924,\n",
       "       0.11758501, 0.11826469, 0.11894829, 0.11963585, 0.12032738,\n",
       "       0.12102291, 0.12172246, 0.12242606, 0.12313372, 0.12384547,\n",
       "       0.12456133, 0.12528134, 0.1260055 , 0.12673385, 0.12746641,\n",
       "       0.12820321, 0.12894426, 0.1296896 , 0.13043925, 0.13119323,\n",
       "       0.13195156, 0.13271428, 0.13348141, 0.13425298, 0.135029  ,\n",
       "       0.13580951, 0.13659453, 0.13738409, 0.13817821, 0.13897693,\n",
       "       0.13978026, 0.14058823, 0.14140087, 0.14221821, 0.14304028,\n",
       "       0.14386709, 0.14469869, 0.14553509, 0.14637633, 0.14722243,\n",
       "       0.14807342, 0.14892933, 0.14979019, 0.15065603, 0.15152686,\n",
       "       0.15240274, 0.15328367, 0.1541697 , 0.15506085, 0.15595715,\n",
       "       0.15685863, 0.15776532, 0.15867725, 0.15959445, 0.16051696,\n",
       "       0.1614448 , 0.162378  , 0.16331659, 0.16426061, 0.16521009,\n",
       "       0.16616506, 0.16712554, 0.16809158, 0.1690632 , 0.17004044,\n",
       "       0.17102332, 0.17201189, 0.17300617, 0.1740062 , 0.17501201,\n",
       "       0.17602364, 0.17704111, 0.17806446, 0.17909373, 0.18012894,\n",
       "       0.18117014, 0.18221736, 0.18327064, 0.18433   , 0.18539548,\n",
       "       0.18646713, 0.18754496, 0.18862903, 0.18971936, 0.190816  ,\n",
       "       0.19191898, 0.19302833, 0.19414409, 0.1952663 , 0.196395  ,\n",
       "       0.19753023, 0.19867201, 0.1998204 , 0.20097542, 0.20213712,\n",
       "       0.20330554, 0.20448071, 0.20566267, 0.20685146, 0.20804713,\n",
       "       0.2092497 , 0.21045923, 0.21167575, 0.2128993 , 0.21412993,\n",
       "       0.21536766, 0.21661256, 0.21786464, 0.21912397, 0.22039057,\n",
       "       0.2216645 , 0.22294579, 0.22423448, 0.22553063, 0.22683426,\n",
       "       0.22814544, 0.22946419, 0.23079056, 0.2321246 , 0.23346635,\n",
       "       0.23481586, 0.23617317, 0.23753832, 0.23891137, 0.24029235,\n",
       "       0.24168132, 0.24307831, 0.24448338, 0.24589657, 0.24731792,\n",
       "       0.2487475 , 0.25018534, 0.25163148, 0.25308599, 0.25454891,\n",
       "       0.25602028, 0.25750015, 0.25898859, 0.26048562, 0.26199131,\n",
       "       0.2635057 , 0.26502884, 0.26656079, 0.26810159, 0.2696513 ,\n",
       "       0.27120997, 0.27277765, 0.27435439, 0.27594024, 0.27753526,\n",
       "       0.2791395 , 0.28075301, 0.28237585, 0.28400807, 0.28564973,\n",
       "       0.28730087, 0.28896156, 0.29063185, 0.29231179, 0.29400144,\n",
       "       0.29570086, 0.2974101 , 0.29912923, 0.30085828, 0.30259734,\n",
       "       0.30434644, 0.30610566, 0.30787505, 0.30965466, 0.31144456,\n",
       "       0.31324481, 0.31505546, 0.31687657, 0.31870822, 0.32055045,\n",
       "       0.32240333, 0.32426692, 0.32614129, 0.32802648, 0.32992258,\n",
       "       0.33182963, 0.33374771, 0.33567688, 0.33761719, 0.33956872,\n",
       "       0.34153154, 0.34350569, 0.34549126, 0.34748831, 0.3494969 ,\n",
       "       0.3515171 , 0.35354898, 0.3555926 , 0.35764803, 0.35971535,\n",
       "       0.36179462, 0.3638859 , 0.36598927, 0.36810481, 0.37023256,\n",
       "       0.37237262, 0.37452505, 0.37668992, 0.37886731, 0.38105728,\n",
       "       0.38325991, 0.38547527, 0.38770343, 0.38994448, 0.39219848,\n",
       "       0.39446551, 0.39674564, 0.39903895, 0.40134552, 0.40366542,\n",
       "       0.40599873, 0.40834553, 0.41070589, 0.4130799 , 0.41546763,\n",
       "       0.41786916, 0.42028458, 0.42271395, 0.42515737, 0.42761491,\n",
       "       0.43008666, 0.43257269, 0.43507309, 0.43758795, 0.44011734,\n",
       "       0.44266136, 0.44522008, 0.44779359, 0.45038197, 0.45298532,\n",
       "       0.45560371, 0.45823725, 0.460886  , 0.46355006, 0.46622952,\n",
       "       0.46892448, 0.471635  , 0.4743612 , 0.47710315, 0.47986096,\n",
       "       0.4826347 , 0.48542448, 0.48823038, 0.49105251, 0.49389094,\n",
       "       0.49674578, 0.49961713, 0.50250507, 0.5054097 , 0.50833113,\n",
       "       0.51126944, 0.51422474, 0.51719711, 0.52018667, 0.52319351,\n",
       "       0.52621773, 0.52925943, 0.53231872, 0.53539568, 0.53849044,\n",
       "       0.54160308, 0.54473371, 0.54788244, 0.55104937, 0.55423461,\n",
       "       0.55743825, 0.56066042, 0.56390121, 0.56716073, 0.5704391 ,\n",
       "       0.57373641, 0.57705279, 0.58038833, 0.58374315, 0.58711737,\n",
       "       0.59051109, 0.59392443, 0.59735749, 0.6008104 , 0.60428327,\n",
       "       0.60777622, 0.61128935, 0.61482279, 0.61837666, 0.62195107,\n",
       "       0.62554614, 0.62916199, 0.63279874, 0.63645651, 0.64013543,\n",
       "       0.64383561, 0.64755718, 0.65130026, 0.65506497, 0.65885145,\n",
       "       0.66265982, 0.66649019, 0.67034271, 0.6742175 , 0.67811469,\n",
       "       0.6820344 , 0.68597677, 0.68994193, 0.69393001, 0.69794114,\n",
       "       0.70197545, 0.70603309, 0.71011418, 0.71421886, 0.71834726,\n",
       "       0.72249953, 0.7266758 , 0.73087621, 0.7351009 , 0.73935001,\n",
       "       0.74362368, 0.74792206, 0.75224528, 0.75659349, 0.76096684,\n",
       "       0.76536546, 0.76978951, 0.77423913, 0.77871447, 0.78321568,\n",
       "       0.78774291, 0.79229631, 0.79687603, 0.80148221, 0.80611503,\n",
       "       0.81077462, 0.81546115, 0.82017477, 0.82491563, 0.8296839 ,\n",
       "       0.83447973, 0.83930328, 0.84415471, 0.84903419, 0.85394187,\n",
       "       0.85887792, 0.8638425 , 0.86883577, 0.87385791, 0.87890908,\n",
       "       0.88398945, 0.88909918, 0.89423845, 0.89940742, 0.90460628,\n",
       "       0.90983518, 0.91509431, 0.92038384, 0.92570394, 0.9310548 ,\n",
       "       0.93643658, 0.94184947, 0.94729365, 0.9527693 , 0.95827661,\n",
       "       0.96381574, 0.96938689, 0.97499025, 0.980626  , 0.98629432,\n",
       "       0.9919954 , 0.99772944, 1.00349663, 1.00929715, 1.0151312 ,\n",
       "       1.02099897, 1.02690066, 1.03283646, 1.03880658, 1.0448112 ,\n",
       "       1.05085053, 1.05692477, 1.06303413, 1.06917879, 1.07535898,\n",
       "       1.08157488, 1.08782672, 1.09411469, 1.10043902, 1.10679989,\n",
       "       1.11319754, 1.11963217, 1.12610399, 1.13261321, 1.13916007,\n",
       "       1.14574477, 1.15236753, 1.15902857, 1.16572811, 1.17246638,\n",
       "       1.1792436 , 1.18605999, 1.19291578, 1.1998112 , 1.20674648,\n",
       "       1.21372185, 1.22073754, 1.22779378, 1.23489081, 1.24202886,\n",
       "       1.24920817, 1.25642898, 1.26369153, 1.27099606, 1.27834281,\n",
       "       1.28573202, 1.29316395, 1.30063884, 1.30815693, 1.31571848,\n",
       "       1.32332374, 1.33097296, 1.3386664 , 1.34640431, 1.35418694,\n",
       "       1.36201456, 1.36988742, 1.3778058 , 1.38576994, 1.39378012,\n",
       "       1.4018366 , 1.40993965, 1.41808953, 1.42628653, 1.43453091,\n",
       "       1.44282294, 1.4511629 , 1.45955107, 1.46798773, 1.47647315,\n",
       "       1.48500762, 1.49359143, 1.50222485, 1.51090817, 1.51964169,\n",
       "       1.52842569, 1.53726046, 1.5461463 , 1.5550835 , 1.56407237,\n",
       "       1.57311319, 1.58220627, 1.59135191, 1.60055042, 1.60980209,\n",
       "       1.61910725, 1.62846619, 1.63787923, 1.64734667, 1.65686885,\n",
       "       1.66644606, 1.67607864, 1.68576689, 1.69551114, 1.70531172,\n",
       "       1.71516895, 1.72508316, 1.73505467, 1.74508382, 1.75517095,\n",
       "       1.76531638, 1.77552045, 1.78578351, 1.79610589, 1.80648794,\n",
       "       1.81693   , 1.82743241, 1.83799554, 1.84861972, 1.85930531,\n",
       "       1.87005267, 1.88086216, 1.89173412, 1.90266893, 1.91366694,\n",
       "       1.92472853, 1.93585406, 1.94704389, 1.95829841, 1.96961798,\n",
       "       1.98100298, 1.99245379, 2.00397079, 2.01555436, 2.02720489,\n",
       "       2.03892276, 2.05070836, 2.06256209, 2.07448434, 2.0864755 ,\n",
       "       2.09853597, 2.11066616, 2.12286646, 2.13513729, 2.14747904,\n",
       "       2.15989213, 2.17237698, 2.18493399, 2.19756358, 2.21026618,\n",
       "       2.2230422 , 2.23589207, 2.24881622, 2.26181507, 2.27488906,\n",
       "       2.28803862, 2.3012642 , 2.31456621, 2.32794512, 2.34140136,\n",
       "       2.35493539, 2.36854764, 2.38223858, 2.39600866, 2.40985833,\n",
       "       2.42378805, 2.4377983 , 2.45188953, 2.46606221, 2.48031681,\n",
       "       2.49465381, 2.50907368, 2.5235769 , 2.53816395, 2.55283533,\n",
       "       2.5675915 , 2.58243298, 2.59736024, 2.61237378, 2.62747411,\n",
       "       2.64266172, 2.65793712, 2.67330082, 2.68875333, 2.70429515,\n",
       "       2.71992682, 2.73564883, 2.75146173, 2.76736603, 2.78336226,\n",
       "       2.79945096, 2.81563265, 2.83190788, 2.84827718, 2.8647411 ,\n",
       "       2.88130019, 2.897955  , 2.91470607, 2.93155397, 2.94849926,\n",
       "       2.9655425 , 2.98268425, 2.99992509, 3.01726559, 3.03470631,\n",
       "       3.05224785, 3.06989079, 3.08763571, 3.1054832 , 3.12343385,\n",
       "       3.14148826, 3.15964704, 3.17791077, 3.19628008, 3.21475557,\n",
       "       3.23333785, 3.25202754, 3.27082527, 3.28973165, 3.30874731,\n",
       "       3.3278729 , 3.34710903, 3.36645636, 3.38591552, 3.40548715,\n",
       "       3.42517192, 3.44497048, 3.46488347, 3.48491157, 3.50505543,\n",
       "       3.52531574, 3.54569315, 3.56618836, 3.58680203, 3.60753485,\n",
       "       3.62838752, 3.64936072, 3.67045515, 3.69167152, 3.71301052,\n",
       "       3.73447287, 3.75605928, 3.77777046, 3.79960715, 3.82157005,\n",
       "       3.84365991, 3.86587745, 3.88822342, 3.91069855, 3.9333036 ,\n",
       "       3.95603931, 3.97890644, 4.00190575, 4.025038  , 4.04830396,\n",
       "       4.07170441, 4.09524012, 4.11891188, 4.14272046, 4.16666667])"
      ]
     },
     "execution_count": 28,
     "metadata": {},
     "output_type": "execute_result"
    }
   ],
   "source": [
    "th"
   ]
  },
  {
   "cell_type": "code",
   "execution_count": 29,
   "metadata": {},
   "outputs": [],
   "source": [
    "#Hankel Transform setup\n",
    "WT_kwargs={'l':l0,'theta':th,'s1_s2':[(2,2),(2,-2),(0,0)]}\n",
    "WT=wigner_transform(**WT_kwargs)"
   ]
  },
  {
   "cell_type": "code",
   "execution_count": 30,
   "metadata": {},
   "outputs": [
    {
     "data": {
      "text/plain": [
       "dict_keys([(2, 2), (2, -2), (0, 0)])"
      ]
     },
     "execution_count": 30,
     "metadata": {},
     "output_type": "execute_result"
    }
   ],
   "source": [
    "WT.wig_d.keys()"
   ]
  },
  {
   "cell_type": "code",
   "execution_count": 31,
   "metadata": {},
   "outputs": [],
   "source": [
    "import skylens\n",
    "reload(skylens)\n",
    "from skylens import *"
   ]
  },
  {
   "cell_type": "code",
   "execution_count": 32,
   "metadata": {},
   "outputs": [],
   "source": [
    "use_binned_theta=True"
   ]
  },
  {
   "cell_type": "code",
   "execution_count": 33,
   "metadata": {},
   "outputs": [
    {
     "name": "stdout",
     "output_type": "stream",
     "text": [
      "indxs:  None None\n",
      "Win gen: step size 199\n",
      "Warning: window for xi is different from cl. Only one of xi or cl is supported. Hence cl window will be wrong.\n",
      "wigner_files: {0: '/Users/Deep/dask_temp/dask_wig3j_l3500_w2100_0_reorder.zarr', 2: '/Users/Deep/dask_temp/dask_wig3j_l3500_w2100_2_reorder.zarr'}\n",
      "wigner done dict_keys([0, 2])\n",
      "setting windows <Client: 'inproc://192.168.86.85/35345/1' processes=1 threads=14, memory=25.00 GB>\n",
      "got window cls, now to coupling matrices.\n"
     ]
    },
    {
     "name": "stderr",
     "output_type": "stream",
     "text": [
      "../skylens/cov_utils.py:58: RuntimeWarning: invalid value encountered in true_divide\n",
      "  Win0=2*jn(1,l_th)/l_th\n"
     ]
    },
    {
     "name": "stdout",
     "output_type": "stream",
     "text": [
      "done coupling submatrix  0 time total, graph, compute 3.6632142066955566 0.0008111000061035156 3.6624021530151367\n",
      "Window done\n"
     ]
    }
   ],
   "source": [
    "kappa_xi0=Skylens(zs_bins=zs_bin1,do_cov=do_cov,bin_cl=bin_cl,l_bins=l_bins,l=l0, zg_bins=None,\n",
    "                                       use_window=use_window,Tri_cov=Tri_cov,\n",
    "                                       wigner_files=wigner_files,\n",
    "                                       SSV_cov=SSV_cov,tidal_SSV_cov=tidal_SSV_cov,f_sky=0.35,\n",
    "                                       store_win=store_win,window_lmax=window_lmax,\n",
    "                                      do_xi=do_xi,bin_xi=bin_xi,theta_bins=th_bins,WT=WT,\n",
    "                                      use_binned_l=False,use_binned_theta=False,\n",
    "                                      nz_PS=10\n",
    "                                       )"
   ]
  },
  {
   "cell_type": "code",
   "execution_count": 34,
   "metadata": {},
   "outputs": [
    {
     "name": "stdout",
     "output_type": "stream",
     "text": [
      "cl dict done dict_keys([('shear', 'shear')])\n",
      "CPU times: user 11.3 s, sys: 394 ms, total: 11.7 s\n",
      "Wall time: 11.3 s\n",
      "CPU times: user 82.1 ms, sys: 20.3 ms, total: 102 ms\n",
      "Wall time: 21.3 ms\n"
     ]
    },
    {
     "name": "stderr",
     "output_type": "stream",
     "text": [
      "../skylens/skylens.py:621: RuntimeWarning: invalid value encountered in true_divide\n",
      "  xi_b/=(Win['cl'][corr][indxs]['xi_b'])\n"
     ]
    }
   ],
   "source": [
    "%time xiHG0=kappa_xi0.xi_tomo()\n",
    "%time xiH0=xiHG0['stack'].compute()"
   ]
  },
  {
   "cell_type": "code",
   "execution_count": 35,
   "metadata": {
    "scrolled": false
   },
   "outputs": [
    {
     "name": "stdout",
     "output_type": "stream",
     "text": [
      "indxs:  None None\n",
      "Win gen: step size 199\n",
      "Window done\n",
      "indxs:  None None\n",
      "Win gen: step size 20\n",
      "Window done\n",
      "indxs:  None None\n",
      "Win gen: step size 199\n",
      "Window done\n",
      "cl dict done dict_keys([('shear', 'shear')])\n",
      "cl dict done dict_keys([('shear', 'shear')])\n",
      "cl dict done dict_keys([('shear', 'shear')])\n",
      "cl dict done dict_keys([('shear', 'shear')])\n",
      "indxs:  None None\n",
      "Win gen: step size 199\n",
      "Warning: window for xi is different from cl. Only one of xi or cl is supported. Hence cl window will be wrong.\n",
      "wigner_files: {0: '/Users/Deep/dask_temp/dask_wig3j_l3500_w2100_0_reorder.zarr', 2: '/Users/Deep/dask_temp/dask_wig3j_l3500_w2100_2_reorder.zarr'}\n",
      "wigner done dict_keys([0, 2])\n",
      "setting windows <Client: 'inproc://192.168.86.85/35345/1' processes=1 threads=14, memory=25.00 GB>\n",
      "got window cls, now to coupling matrices.\n",
      "done coupling submatrix  0 time total, graph, compute 7.636945009231567 0.0007879734039306641 7.636157035827637\n",
      "Window done\n"
     ]
    }
   ],
   "source": [
    "kappa_xib=Skylens(zs_bins=zs_bin1,do_cov=do_cov,bin_cl=bin_cl,l_bins=l_bins,l=l0, zg_bins=None,\n",
    "                                       use_window=use_window,Tri_cov=Tri_cov,\n",
    "                                       wigner_files=wigner_files,\n",
    "                                       SSV_cov=SSV_cov,tidal_SSV_cov=tidal_SSV_cov,f_sky=0.35,\n",
    "                                       store_win=store_win,window_lmax=window_lmax,\n",
    "                                      do_xi=do_xi,bin_xi=bin_xi,theta_bins=th_bins,WT=WT,\n",
    "                                      use_binned_l=use_binned_l,use_binned_theta=use_binned_theta\n",
    "                                       )"
   ]
  },
  {
   "cell_type": "code",
   "execution_count": 36,
   "metadata": {},
   "outputs": [
    {
     "name": "stdout",
     "output_type": "stream",
     "text": [
      "cl dict done dict_keys([('shear', 'shear')])\n",
      "CPU times: user 13 s, sys: 439 ms, total: 13.4 s\n",
      "Wall time: 13 s\n"
     ]
    }
   ],
   "source": [
    "%time xiHG_b=kappa_xib.xi_tomo()"
   ]
  },
  {
   "cell_type": "code",
   "execution_count": 37,
   "metadata": {},
   "outputs": [
    {
     "name": "stderr",
     "output_type": "stream",
     "text": [
      "distributed.worker - WARNING -  Compute Failed\n",
      "Function:  execute_task\n",
      "args:      ((<function apply at 0x7f848859ad90>, <bound method Skylens.calc_pseudo_cl of <skylens.Skylens object at 0x7f8478dc2208>>, [array([4.16571116e-08, 4.02722563e-08, 3.78223544e-08, 3.61041904e-08,\n",
      "       3.35508906e-08, 3.03437932e-08, 2.74516411e-08, 2.43063361e-08,\n",
      "       2.11671603e-08, 1.86123157e-08, 1.59143275e-08, 1.38162382e-08,\n",
      "       1.17812394e-08, 9.91836746e-09, 8.37076461e-09, 6.91742334e-09,\n",
      "       5.69940218e-09, 4.67065839e-09, 3.87162206e-09])], (<class 'dict'>, [['Win', (<class 'dict'>, [['cl', (<class 'dict'>, [[(<class 'tuple'>, ['shear', 'shear']), (<class 'dict'>, [[(<class 'tuple'>, [0, 0]), (<class 'dict'>, [['corr', (<class 'tuple'>, ['shear', 'shear'])], ['indxs', (<class 'tuple'>, [0, 0])], [12, (<class 'dict'>, [['cl', array([1.13097306e+00, 5.54500811e-01, 8.89432526e-02, 1.34781633e-03,\n",
      "       1.94783073e-02, 4.24510473e-03, 1.52860431e-03, 4.41650703e-03,\n",
      "       3.49838065e-04, 1.11852138e-03, 1.31420507e-03, 1.75760178e-06,\n",
      "       7.90217102e-04, 4.020698\n",
      "kwargs:    {}\n",
      "Exception: ValueError('matmul: Input operand 1 has a mismatch in its core dimension 0, with gufunc signature (n?,k),(k,m?)->(n?,m?) (size 198 is different from 19)',)\n",
      "\n"
     ]
    },
    {
     "ename": "ValueError",
     "evalue": "matmul: Input operand 1 has a mismatch in its core dimension 0, with gufunc signature (n?,k),(k,m?)->(n?,m?) (size 198 is different from 19)",
     "output_type": "error",
     "traceback": [
      "\u001b[0;31m---------------------------------------------------------------------------\u001b[0m",
      "\u001b[0;31mValueError\u001b[0m                                Traceback (most recent call last)",
      "\u001b[0;32m<timed exec>\u001b[0m in \u001b[0;36m<module>\u001b[0;34m\u001b[0m\n",
      "\u001b[0;32m~/anaconda/envs/py36/lib/python3.6/site-packages/dask/base.py\u001b[0m in \u001b[0;36mcompute\u001b[0;34m(self, **kwargs)\u001b[0m\n\u001b[1;32m    164\u001b[0m         \u001b[0mdask\u001b[0m\u001b[0;34m.\u001b[0m\u001b[0mbase\u001b[0m\u001b[0;34m.\u001b[0m\u001b[0mcompute\u001b[0m\u001b[0;34m\u001b[0m\u001b[0;34m\u001b[0m\u001b[0m\n\u001b[1;32m    165\u001b[0m         \"\"\"\n\u001b[0;32m--> 166\u001b[0;31m         \u001b[0;34m(\u001b[0m\u001b[0mresult\u001b[0m\u001b[0;34m,\u001b[0m\u001b[0;34m)\u001b[0m \u001b[0;34m=\u001b[0m \u001b[0mcompute\u001b[0m\u001b[0;34m(\u001b[0m\u001b[0mself\u001b[0m\u001b[0;34m,\u001b[0m \u001b[0mtraverse\u001b[0m\u001b[0;34m=\u001b[0m\u001b[0;32mFalse\u001b[0m\u001b[0;34m,\u001b[0m \u001b[0;34m**\u001b[0m\u001b[0mkwargs\u001b[0m\u001b[0;34m)\u001b[0m\u001b[0;34m\u001b[0m\u001b[0;34m\u001b[0m\u001b[0m\n\u001b[0m\u001b[1;32m    167\u001b[0m         \u001b[0;32mreturn\u001b[0m \u001b[0mresult\u001b[0m\u001b[0;34m\u001b[0m\u001b[0;34m\u001b[0m\u001b[0m\n\u001b[1;32m    168\u001b[0m \u001b[0;34m\u001b[0m\u001b[0m\n",
      "\u001b[0;32m~/anaconda/envs/py36/lib/python3.6/site-packages/dask/base.py\u001b[0m in \u001b[0;36mcompute\u001b[0;34m(*args, **kwargs)\u001b[0m\n\u001b[1;32m    442\u001b[0m         \u001b[0mpostcomputes\u001b[0m\u001b[0;34m.\u001b[0m\u001b[0mappend\u001b[0m\u001b[0;34m(\u001b[0m\u001b[0mx\u001b[0m\u001b[0;34m.\u001b[0m\u001b[0m__dask_postcompute__\u001b[0m\u001b[0;34m(\u001b[0m\u001b[0;34m)\u001b[0m\u001b[0;34m)\u001b[0m\u001b[0;34m\u001b[0m\u001b[0;34m\u001b[0m\u001b[0m\n\u001b[1;32m    443\u001b[0m \u001b[0;34m\u001b[0m\u001b[0m\n\u001b[0;32m--> 444\u001b[0;31m     \u001b[0mresults\u001b[0m \u001b[0;34m=\u001b[0m \u001b[0mschedule\u001b[0m\u001b[0;34m(\u001b[0m\u001b[0mdsk\u001b[0m\u001b[0;34m,\u001b[0m \u001b[0mkeys\u001b[0m\u001b[0;34m,\u001b[0m \u001b[0;34m**\u001b[0m\u001b[0mkwargs\u001b[0m\u001b[0;34m)\u001b[0m\u001b[0;34m\u001b[0m\u001b[0;34m\u001b[0m\u001b[0m\n\u001b[0m\u001b[1;32m    445\u001b[0m     \u001b[0;32mreturn\u001b[0m \u001b[0mrepack\u001b[0m\u001b[0;34m(\u001b[0m\u001b[0;34m[\u001b[0m\u001b[0mf\u001b[0m\u001b[0;34m(\u001b[0m\u001b[0mr\u001b[0m\u001b[0;34m,\u001b[0m \u001b[0;34m*\u001b[0m\u001b[0ma\u001b[0m\u001b[0;34m)\u001b[0m \u001b[0;32mfor\u001b[0m \u001b[0mr\u001b[0m\u001b[0;34m,\u001b[0m \u001b[0;34m(\u001b[0m\u001b[0mf\u001b[0m\u001b[0;34m,\u001b[0m \u001b[0ma\u001b[0m\u001b[0;34m)\u001b[0m \u001b[0;32min\u001b[0m \u001b[0mzip\u001b[0m\u001b[0;34m(\u001b[0m\u001b[0mresults\u001b[0m\u001b[0;34m,\u001b[0m \u001b[0mpostcomputes\u001b[0m\u001b[0;34m)\u001b[0m\u001b[0;34m]\u001b[0m\u001b[0;34m)\u001b[0m\u001b[0;34m\u001b[0m\u001b[0;34m\u001b[0m\u001b[0m\n\u001b[1;32m    446\u001b[0m \u001b[0;34m\u001b[0m\u001b[0m\n",
      "\u001b[0;32m~/anaconda/envs/py36/lib/python3.6/site-packages/distributed/client.py\u001b[0m in \u001b[0;36mget\u001b[0;34m(self, dsk, keys, restrictions, loose_restrictions, resources, sync, asynchronous, direct, retries, priority, fifo_timeout, actors, **kwargs)\u001b[0m\n\u001b[1;32m   2680\u001b[0m                     \u001b[0mshould_rejoin\u001b[0m \u001b[0;34m=\u001b[0m \u001b[0;32mFalse\u001b[0m\u001b[0;34m\u001b[0m\u001b[0;34m\u001b[0m\u001b[0m\n\u001b[1;32m   2681\u001b[0m             \u001b[0;32mtry\u001b[0m\u001b[0;34m:\u001b[0m\u001b[0;34m\u001b[0m\u001b[0;34m\u001b[0m\u001b[0m\n\u001b[0;32m-> 2682\u001b[0;31m                 \u001b[0mresults\u001b[0m \u001b[0;34m=\u001b[0m \u001b[0mself\u001b[0m\u001b[0;34m.\u001b[0m\u001b[0mgather\u001b[0m\u001b[0;34m(\u001b[0m\u001b[0mpacked\u001b[0m\u001b[0;34m,\u001b[0m \u001b[0masynchronous\u001b[0m\u001b[0;34m=\u001b[0m\u001b[0masynchronous\u001b[0m\u001b[0;34m,\u001b[0m \u001b[0mdirect\u001b[0m\u001b[0;34m=\u001b[0m\u001b[0mdirect\u001b[0m\u001b[0;34m)\u001b[0m\u001b[0;34m\u001b[0m\u001b[0;34m\u001b[0m\u001b[0m\n\u001b[0m\u001b[1;32m   2683\u001b[0m             \u001b[0;32mfinally\u001b[0m\u001b[0;34m:\u001b[0m\u001b[0;34m\u001b[0m\u001b[0;34m\u001b[0m\u001b[0m\n\u001b[1;32m   2684\u001b[0m                 \u001b[0;32mfor\u001b[0m \u001b[0mf\u001b[0m \u001b[0;32min\u001b[0m \u001b[0mfutures\u001b[0m\u001b[0;34m.\u001b[0m\u001b[0mvalues\u001b[0m\u001b[0;34m(\u001b[0m\u001b[0;34m)\u001b[0m\u001b[0;34m:\u001b[0m\u001b[0;34m\u001b[0m\u001b[0;34m\u001b[0m\u001b[0m\n",
      "\u001b[0;32m~/anaconda/envs/py36/lib/python3.6/site-packages/distributed/client.py\u001b[0m in \u001b[0;36mgather\u001b[0;34m(self, futures, errors, direct, asynchronous)\u001b[0m\n\u001b[1;32m   1980\u001b[0m                 \u001b[0mdirect\u001b[0m\u001b[0;34m=\u001b[0m\u001b[0mdirect\u001b[0m\u001b[0;34m,\u001b[0m\u001b[0;34m\u001b[0m\u001b[0;34m\u001b[0m\u001b[0m\n\u001b[1;32m   1981\u001b[0m                 \u001b[0mlocal_worker\u001b[0m\u001b[0;34m=\u001b[0m\u001b[0mlocal_worker\u001b[0m\u001b[0;34m,\u001b[0m\u001b[0;34m\u001b[0m\u001b[0;34m\u001b[0m\u001b[0m\n\u001b[0;32m-> 1982\u001b[0;31m                 \u001b[0masynchronous\u001b[0m\u001b[0;34m=\u001b[0m\u001b[0masynchronous\u001b[0m\u001b[0;34m,\u001b[0m\u001b[0;34m\u001b[0m\u001b[0;34m\u001b[0m\u001b[0m\n\u001b[0m\u001b[1;32m   1983\u001b[0m             )\n\u001b[1;32m   1984\u001b[0m \u001b[0;34m\u001b[0m\u001b[0m\n",
      "\u001b[0;32m~/anaconda/envs/py36/lib/python3.6/site-packages/distributed/client.py\u001b[0m in \u001b[0;36msync\u001b[0;34m(self, func, asynchronous, callback_timeout, *args, **kwargs)\u001b[0m\n\u001b[1;32m    830\u001b[0m         \u001b[0;32melse\u001b[0m\u001b[0;34m:\u001b[0m\u001b[0;34m\u001b[0m\u001b[0;34m\u001b[0m\u001b[0m\n\u001b[1;32m    831\u001b[0m             return sync(\n\u001b[0;32m--> 832\u001b[0;31m                 \u001b[0mself\u001b[0m\u001b[0;34m.\u001b[0m\u001b[0mloop\u001b[0m\u001b[0;34m,\u001b[0m \u001b[0mfunc\u001b[0m\u001b[0;34m,\u001b[0m \u001b[0;34m*\u001b[0m\u001b[0margs\u001b[0m\u001b[0;34m,\u001b[0m \u001b[0mcallback_timeout\u001b[0m\u001b[0;34m=\u001b[0m\u001b[0mcallback_timeout\u001b[0m\u001b[0;34m,\u001b[0m \u001b[0;34m**\u001b[0m\u001b[0mkwargs\u001b[0m\u001b[0;34m\u001b[0m\u001b[0;34m\u001b[0m\u001b[0m\n\u001b[0m\u001b[1;32m    833\u001b[0m             )\n\u001b[1;32m    834\u001b[0m \u001b[0;34m\u001b[0m\u001b[0m\n",
      "\u001b[0;32m~/anaconda/envs/py36/lib/python3.6/site-packages/distributed/utils.py\u001b[0m in \u001b[0;36msync\u001b[0;34m(loop, func, callback_timeout, *args, **kwargs)\u001b[0m\n\u001b[1;32m    337\u001b[0m     \u001b[0;32mif\u001b[0m \u001b[0merror\u001b[0m\u001b[0;34m[\u001b[0m\u001b[0;36m0\u001b[0m\u001b[0;34m]\u001b[0m\u001b[0;34m:\u001b[0m\u001b[0;34m\u001b[0m\u001b[0;34m\u001b[0m\u001b[0m\n\u001b[1;32m    338\u001b[0m         \u001b[0mtyp\u001b[0m\u001b[0;34m,\u001b[0m \u001b[0mexc\u001b[0m\u001b[0;34m,\u001b[0m \u001b[0mtb\u001b[0m \u001b[0;34m=\u001b[0m \u001b[0merror\u001b[0m\u001b[0;34m[\u001b[0m\u001b[0;36m0\u001b[0m\u001b[0;34m]\u001b[0m\u001b[0;34m\u001b[0m\u001b[0;34m\u001b[0m\u001b[0m\n\u001b[0;32m--> 339\u001b[0;31m         \u001b[0;32mraise\u001b[0m \u001b[0mexc\u001b[0m\u001b[0;34m.\u001b[0m\u001b[0mwith_traceback\u001b[0m\u001b[0;34m(\u001b[0m\u001b[0mtb\u001b[0m\u001b[0;34m)\u001b[0m\u001b[0;34m\u001b[0m\u001b[0;34m\u001b[0m\u001b[0m\n\u001b[0m\u001b[1;32m    340\u001b[0m     \u001b[0;32melse\u001b[0m\u001b[0;34m:\u001b[0m\u001b[0;34m\u001b[0m\u001b[0;34m\u001b[0m\u001b[0m\n\u001b[1;32m    341\u001b[0m         \u001b[0;32mreturn\u001b[0m \u001b[0mresult\u001b[0m\u001b[0;34m[\u001b[0m\u001b[0;36m0\u001b[0m\u001b[0;34m]\u001b[0m\u001b[0;34m\u001b[0m\u001b[0;34m\u001b[0m\u001b[0m\n",
      "\u001b[0;32m~/anaconda/envs/py36/lib/python3.6/site-packages/distributed/utils.py\u001b[0m in \u001b[0;36mf\u001b[0;34m()\u001b[0m\n\u001b[1;32m    321\u001b[0m             \u001b[0;32mif\u001b[0m \u001b[0mcallback_timeout\u001b[0m \u001b[0;32mis\u001b[0m \u001b[0;32mnot\u001b[0m \u001b[0;32mNone\u001b[0m\u001b[0;34m:\u001b[0m\u001b[0;34m\u001b[0m\u001b[0;34m\u001b[0m\u001b[0m\n\u001b[1;32m    322\u001b[0m                 \u001b[0mfuture\u001b[0m \u001b[0;34m=\u001b[0m \u001b[0masyncio\u001b[0m\u001b[0;34m.\u001b[0m\u001b[0mwait_for\u001b[0m\u001b[0;34m(\u001b[0m\u001b[0mfuture\u001b[0m\u001b[0;34m,\u001b[0m \u001b[0mcallback_timeout\u001b[0m\u001b[0;34m)\u001b[0m\u001b[0;34m\u001b[0m\u001b[0;34m\u001b[0m\u001b[0m\n\u001b[0;32m--> 323\u001b[0;31m             \u001b[0mresult\u001b[0m\u001b[0;34m[\u001b[0m\u001b[0;36m0\u001b[0m\u001b[0;34m]\u001b[0m \u001b[0;34m=\u001b[0m \u001b[0;32myield\u001b[0m \u001b[0mfuture\u001b[0m\u001b[0;34m\u001b[0m\u001b[0;34m\u001b[0m\u001b[0m\n\u001b[0m\u001b[1;32m    324\u001b[0m         \u001b[0;32mexcept\u001b[0m \u001b[0mException\u001b[0m \u001b[0;32mas\u001b[0m \u001b[0mexc\u001b[0m\u001b[0;34m:\u001b[0m\u001b[0;34m\u001b[0m\u001b[0;34m\u001b[0m\u001b[0m\n\u001b[1;32m    325\u001b[0m             \u001b[0merror\u001b[0m\u001b[0;34m[\u001b[0m\u001b[0;36m0\u001b[0m\u001b[0;34m]\u001b[0m \u001b[0;34m=\u001b[0m \u001b[0msys\u001b[0m\u001b[0;34m.\u001b[0m\u001b[0mexc_info\u001b[0m\u001b[0;34m(\u001b[0m\u001b[0;34m)\u001b[0m\u001b[0;34m\u001b[0m\u001b[0;34m\u001b[0m\u001b[0m\n",
      "\u001b[0;32m~/anaconda/envs/py36/lib/python3.6/site-packages/tornado/gen.py\u001b[0m in \u001b[0;36mrun\u001b[0;34m(self)\u001b[0m\n\u001b[1;32m    733\u001b[0m \u001b[0;34m\u001b[0m\u001b[0m\n\u001b[1;32m    734\u001b[0m                     \u001b[0;32mtry\u001b[0m\u001b[0;34m:\u001b[0m\u001b[0;34m\u001b[0m\u001b[0;34m\u001b[0m\u001b[0m\n\u001b[0;32m--> 735\u001b[0;31m                         \u001b[0mvalue\u001b[0m \u001b[0;34m=\u001b[0m \u001b[0mfuture\u001b[0m\u001b[0;34m.\u001b[0m\u001b[0mresult\u001b[0m\u001b[0;34m(\u001b[0m\u001b[0;34m)\u001b[0m\u001b[0;34m\u001b[0m\u001b[0;34m\u001b[0m\u001b[0m\n\u001b[0m\u001b[1;32m    736\u001b[0m                     \u001b[0;32mexcept\u001b[0m \u001b[0mException\u001b[0m\u001b[0;34m:\u001b[0m\u001b[0;34m\u001b[0m\u001b[0;34m\u001b[0m\u001b[0m\n\u001b[1;32m    737\u001b[0m                         \u001b[0mexc_info\u001b[0m \u001b[0;34m=\u001b[0m \u001b[0msys\u001b[0m\u001b[0;34m.\u001b[0m\u001b[0mexc_info\u001b[0m\u001b[0;34m(\u001b[0m\u001b[0;34m)\u001b[0m\u001b[0;34m\u001b[0m\u001b[0;34m\u001b[0m\u001b[0m\n",
      "\u001b[0;32m~/anaconda/envs/py36/lib/python3.6/site-packages/distributed/client.py\u001b[0m in \u001b[0;36m_gather\u001b[0;34m(self, futures, errors, direct, local_worker)\u001b[0m\n\u001b[1;32m   1839\u001b[0m                             \u001b[0mexc\u001b[0m \u001b[0;34m=\u001b[0m \u001b[0mCancelledError\u001b[0m\u001b[0;34m(\u001b[0m\u001b[0mkey\u001b[0m\u001b[0;34m)\u001b[0m\u001b[0;34m\u001b[0m\u001b[0;34m\u001b[0m\u001b[0m\n\u001b[1;32m   1840\u001b[0m                         \u001b[0;32melse\u001b[0m\u001b[0;34m:\u001b[0m\u001b[0;34m\u001b[0m\u001b[0;34m\u001b[0m\u001b[0m\n\u001b[0;32m-> 1841\u001b[0;31m                             \u001b[0;32mraise\u001b[0m \u001b[0mexception\u001b[0m\u001b[0;34m.\u001b[0m\u001b[0mwith_traceback\u001b[0m\u001b[0;34m(\u001b[0m\u001b[0mtraceback\u001b[0m\u001b[0;34m)\u001b[0m\u001b[0;34m\u001b[0m\u001b[0;34m\u001b[0m\u001b[0m\n\u001b[0m\u001b[1;32m   1842\u001b[0m                         \u001b[0;32mraise\u001b[0m \u001b[0mexc\u001b[0m\u001b[0;34m\u001b[0m\u001b[0;34m\u001b[0m\u001b[0m\n\u001b[1;32m   1843\u001b[0m                     \u001b[0;32mif\u001b[0m \u001b[0merrors\u001b[0m \u001b[0;34m==\u001b[0m \u001b[0;34m\"skip\"\u001b[0m\u001b[0;34m:\u001b[0m\u001b[0;34m\u001b[0m\u001b[0;34m\u001b[0m\u001b[0m\n",
      "\u001b[0;32m~/anaconda/envs/py36/lib/python3.6/site-packages/dask/utils.py\u001b[0m in \u001b[0;36mapply\u001b[0;34m(func, args, kwargs)\u001b[0m\n\u001b[1;32m     29\u001b[0m \u001b[0;32mdef\u001b[0m \u001b[0mapply\u001b[0m\u001b[0;34m(\u001b[0m\u001b[0mfunc\u001b[0m\u001b[0;34m,\u001b[0m \u001b[0margs\u001b[0m\u001b[0;34m,\u001b[0m \u001b[0mkwargs\u001b[0m\u001b[0;34m=\u001b[0m\u001b[0;32mNone\u001b[0m\u001b[0;34m)\u001b[0m\u001b[0;34m:\u001b[0m\u001b[0;34m\u001b[0m\u001b[0;34m\u001b[0m\u001b[0m\n\u001b[1;32m     30\u001b[0m     \u001b[0;32mif\u001b[0m \u001b[0mkwargs\u001b[0m\u001b[0;34m:\u001b[0m\u001b[0;34m\u001b[0m\u001b[0;34m\u001b[0m\u001b[0m\n\u001b[0;32m---> 31\u001b[0;31m         \u001b[0;32mreturn\u001b[0m \u001b[0mfunc\u001b[0m\u001b[0;34m(\u001b[0m\u001b[0;34m*\u001b[0m\u001b[0margs\u001b[0m\u001b[0;34m,\u001b[0m \u001b[0;34m**\u001b[0m\u001b[0mkwargs\u001b[0m\u001b[0;34m)\u001b[0m\u001b[0;34m\u001b[0m\u001b[0;34m\u001b[0m\u001b[0m\n\u001b[0m\u001b[1;32m     32\u001b[0m     \u001b[0;32melse\u001b[0m\u001b[0;34m:\u001b[0m\u001b[0;34m\u001b[0m\u001b[0;34m\u001b[0m\u001b[0m\n\u001b[1;32m     33\u001b[0m         \u001b[0;32mreturn\u001b[0m \u001b[0mfunc\u001b[0m\u001b[0;34m(\u001b[0m\u001b[0;34m*\u001b[0m\u001b[0margs\u001b[0m\u001b[0;34m)\u001b[0m\u001b[0;34m\u001b[0m\u001b[0;34m\u001b[0m\u001b[0m\n",
      "\u001b[0;32m~/BOX/Box Sync/repos/cosmic_shear/skylens/skylens.py\u001b[0m in \u001b[0;36mcalc_pseudo_cl\u001b[0;34m(self, cl, Win, zs1_indx, zs2_indx, corr)\u001b[0m\n\u001b[1;32m    405\u001b[0m \u001b[0;34m\u001b[0m\u001b[0m\n\u001b[1;32m    406\u001b[0m     \u001b[0;32mdef\u001b[0m \u001b[0mcalc_pseudo_cl\u001b[0m\u001b[0;34m(\u001b[0m\u001b[0mself\u001b[0m\u001b[0;34m,\u001b[0m\u001b[0mcl\u001b[0m\u001b[0;34m,\u001b[0m\u001b[0mWin\u001b[0m\u001b[0;34m,\u001b[0m\u001b[0mzs1_indx\u001b[0m\u001b[0;34m=\u001b[0m\u001b[0;34m-\u001b[0m\u001b[0;36m1\u001b[0m\u001b[0;34m,\u001b[0m \u001b[0mzs2_indx\u001b[0m\u001b[0;34m=\u001b[0m\u001b[0;34m-\u001b[0m\u001b[0;36m1\u001b[0m\u001b[0;34m,\u001b[0m\u001b[0mcorr\u001b[0m\u001b[0;34m=\u001b[0m\u001b[0;34m(\u001b[0m\u001b[0;34m'shear'\u001b[0m\u001b[0;34m,\u001b[0m\u001b[0;34m'shear'\u001b[0m\u001b[0;34m)\u001b[0m\u001b[0;34m)\u001b[0m\u001b[0;34m:\u001b[0m\u001b[0;34m\u001b[0m\u001b[0;34m\u001b[0m\u001b[0m\n\u001b[0;32m--> 407\u001b[0;31m         \u001b[0;32mreturn\u001b[0m \u001b[0mcl\u001b[0m\u001b[0;34m@\u001b[0m\u001b[0mWin\u001b[0m\u001b[0;34m[\u001b[0m\u001b[0;34m'cl'\u001b[0m\u001b[0;34m]\u001b[0m\u001b[0;34m[\u001b[0m\u001b[0mcorr\u001b[0m\u001b[0;34m]\u001b[0m\u001b[0;34m[\u001b[0m\u001b[0;34m(\u001b[0m\u001b[0mzs1_indx\u001b[0m\u001b[0;34m,\u001b[0m\u001b[0mzs2_indx\u001b[0m\u001b[0;34m)\u001b[0m\u001b[0;34m]\u001b[0m\u001b[0;34m[\u001b[0m\u001b[0;34m'M'\u001b[0m\u001b[0;34m]\u001b[0m\u001b[0;34m\u001b[0m\u001b[0;34m\u001b[0m\u001b[0m\n\u001b[0m\u001b[1;32m    408\u001b[0m \u001b[0;34m\u001b[0m\u001b[0m\n\u001b[1;32m    409\u001b[0m     def cl_tomo(self,cosmo_h=None,cosmo_params=None,pk_params=None,pk_func=None,\n",
      "\u001b[0;31mValueError\u001b[0m: matmul: Input operand 1 has a mismatch in its core dimension 0, with gufunc signature (n?,k),(k,m?)->(n?,m?) (size 198 is different from 19)"
     ]
    }
   ],
   "source": [
    "%time xiH_b=xiHG_b['stack'].compute()"
   ]
  },
  {
   "cell_type": "code",
   "execution_count": 38,
   "metadata": {},
   "outputs": [
    {
     "data": {
      "text/plain": [
       "(dict_keys([(2, 2), (2, -2), (0, 0)]), dict_keys([(2, 2), (2, -2), (0, 0)]))"
      ]
     },
     "execution_count": 38,
     "metadata": {},
     "output_type": "execute_result"
    }
   ],
   "source": [
    "kappa_xi0.WT.wig_d.keys(),WT.wig_d.keys()"
   ]
  },
  {
   "cell_type": "code",
   "execution_count": 39,
   "metadata": {},
   "outputs": [
    {
     "name": "stdout",
     "output_type": "stream",
     "text": [
      "cl dict done dict_keys([('shear', 'shear')])\n",
      "CPU times: user 11.2 s, sys: 374 ms, total: 11.6 s\n",
      "Wall time: 11.1 s\n",
      "CPU times: user 99 ms, sys: 21.9 ms, total: 121 ms\n",
      "Wall time: 24.1 ms\n"
     ]
    }
   ],
   "source": [
    "%time xiHG0=kappa_xi0.xi_tomo()\n",
    "%time xiH0=xiHG0['stack'].compute()"
   ]
  },
  {
   "cell_type": "code",
   "execution_count": 40,
   "metadata": {},
   "outputs": [
    {
     "data": {
      "text/plain": [
       "array([           nan,            nan,            nan,            nan,\n",
       "                  nan,            nan,            nan,            nan,\n",
       "                  nan,            nan,            nan,            nan,\n",
       "                  nan,            nan,            nan,            nan,\n",
       "                  nan, 1.05475555e-05, 5.44049035e-06, 2.75137113e-06,\n",
       "                  nan,            nan,            nan,            nan,\n",
       "                  nan,            nan,            nan,            nan,\n",
       "                  nan,            nan,            nan,            nan,\n",
       "                  nan,            nan,            nan,            nan,\n",
       "                  nan, 1.61627073e-05, 1.08458952e-05, 1.05497374e-05])"
      ]
     },
     "execution_count": 40,
     "metadata": {},
     "output_type": "execute_result"
    }
   ],
   "source": [
    "xiH0['xi']"
   ]
  },
  {
   "cell_type": "code",
   "execution_count": 41,
   "metadata": {},
   "outputs": [
    {
     "ename": "NameError",
     "evalue": "name 'xiH_b' is not defined",
     "output_type": "error",
     "traceback": [
      "\u001b[0;31m---------------------------------------------------------------------------\u001b[0m",
      "\u001b[0;31mNameError\u001b[0m                                 Traceback (most recent call last)",
      "\u001b[0;32m<ipython-input-41-6e327eaa4882>\u001b[0m in \u001b[0;36m<module>\u001b[0;34m\u001b[0m\n\u001b[0;32m----> 1\u001b[0;31m \u001b[0mxiH_b\u001b[0m\u001b[0;34m[\u001b[0m\u001b[0;34m'xi'\u001b[0m\u001b[0;34m]\u001b[0m\u001b[0;34m\u001b[0m\u001b[0;34m\u001b[0m\u001b[0m\n\u001b[0m",
      "\u001b[0;31mNameError\u001b[0m: name 'xiH_b' is not defined"
     ]
    }
   ],
   "source": [
    "xiH_b['xi']"
   ]
  },
  {
   "cell_type": "code",
   "execution_count": null,
   "metadata": {},
   "outputs": [],
   "source": []
  },
  {
   "cell_type": "code",
   "execution_count": null,
   "metadata": {},
   "outputs": [],
   "source": []
  }
 ],
 "metadata": {
  "hide_input": false,
  "kernelspec": {
   "display_name": "Python 3",
   "language": "python",
   "name": "python3"
  },
  "language_info": {
   "codemirror_mode": {
    "name": "ipython",
    "version": 3
   },
   "file_extension": ".py",
   "mimetype": "text/x-python",
   "name": "python",
   "nbconvert_exporter": "python",
   "pygments_lexer": "ipython3",
   "version": "3.6.10"
  }
 },
 "nbformat": 4,
 "nbformat_minor": 2
}
