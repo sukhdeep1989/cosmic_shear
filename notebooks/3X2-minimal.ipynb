{
 "cells": [
  {
   "cell_type": "code",
   "execution_count": 1,
   "metadata": {},
   "outputs": [],
   "source": [
    "import sys\n",
    "# import pyccl as ccl\n",
    "import pickle\n",
    "import camb\n",
    "sys.path.insert(0,'../skylens/')\n",
    "# from importlib import reload"
   ]
  },
  {
   "cell_type": "code",
   "execution_count": 2,
   "metadata": {},
   "outputs": [
    {
     "name": "stderr",
     "output_type": "stream",
     "text": [
      "/verafs/scratch/phy200040p/sukhdeep/miniconda3/lib/python3.8/site-packages/distributed/node.py:151: UserWarning: Port 8787 is already in use.\n",
      "Perhaps you already have a cluster running?\n",
      "Hosting the HTTP server on port 41747 instead\n",
      "  warnings.warn(\n"
     ]
    }
   ],
   "source": [
    "from distributed import LocalCluster\n",
    "from dask.distributed import Client  # we already had this above\n",
    "#http://distributed.readthedocs.io/en/latest/_modules/distributed/worker.html\n",
    "c=LocalCluster(n_workers=2,processes=False,memory_limit='25gb',threads_per_worker=4,memory_spill_fraction=.99,\n",
    "               memory_monitor_interval='2000ms')\n",
    "client=Client(c)"
   ]
  },
  {
   "cell_type": "code",
   "execution_count": 3,
   "metadata": {},
   "outputs": [
    {
     "data": {
      "text/plain": [
       "2"
      ]
     },
     "execution_count": 3,
     "metadata": {},
     "output_type": "execute_result"
    }
   ],
   "source": [
    "len(client.scheduler_info()['workers'])"
   ]
  },
  {
   "cell_type": "code",
   "execution_count": 4,
   "metadata": {},
   "outputs": [],
   "source": [
    "from skylens import *\n",
    "from survey_utils import *"
   ]
  },
  {
   "cell_type": "code",
   "execution_count": 5,
   "metadata": {},
   "outputs": [],
   "source": [
    "#only for python3\n",
    "import importlib\n",
    "reload=importlib.reload"
   ]
  },
  {
   "cell_type": "code",
   "execution_count": 6,
   "metadata": {},
   "outputs": [
    {
     "name": "stdout",
     "output_type": "stream",
     "text": [
      "ns0:  27.0\n"
     ]
    }
   ],
   "source": [
    "zs=lsst_source_tomo_bins()\n",
    "corr_ll=('shear', 'shear')"
   ]
  },
  {
   "cell_type": "code",
   "execution_count": 7,
   "metadata": {},
   "outputs": [],
   "source": [
    "wigner_files={}\n",
    "# wigner_files[0]= '/Users/Deep/dask_temp/dask_wig3j_l3500_w2100_0_reorder.zarr'\n",
    "# wigner_files[2]= '/Users/Deep/dask_temp/dask_wig3j_l3500_w2100_2_reorder.zarr'\n",
    "wig_home='/verafs/scratch/phy200040p/sukhdeep/physics2/skylens/temp/'\n",
    "wigner_files[0]= wig_home+'dask_wig3j_l3500_w2100_0_reorder.zarr'\n",
    "wigner_files[2]= wig_home+'/dask_wig3j_l3500_w2100_2_reorder.zarr'\n"
   ]
  },
  {
   "cell_type": "markdown",
   "metadata": {},
   "source": [
    "# Power Spectrum covariance"
   ]
  },
  {
   "cell_type": "code",
   "execution_count": 8,
   "metadata": {},
   "outputs": [],
   "source": [
    "#setup parameters\n",
    "lmax_cl=200\n",
    "lmin_cl=2\n",
    "l0=np.arange(lmin_cl,lmax_cl)\n",
    "\n",
    "lmin_cl_Bins=lmin_cl+10\n",
    "lmax_cl_Bins=lmax_cl-10\n",
    "Nl_bins=20\n",
    "l_bins=np.int64(np.logspace(np.log10(lmin_cl_Bins),np.log10(lmax_cl_Bins),Nl_bins))\n",
    "lb=np.sqrt(l_bins[1:]*l_bins[:-1])\n",
    "\n",
    "l=np.unique(np.int64(np.logspace(np.log10(lmin_cl),np.log10(lmax_cl),Nl_bins*20))) #if we want to use fewer ell\n",
    "\n",
    "do_cov=True\n",
    "bin_cl=True\n",
    "\n",
    "SSV_cov=True\n",
    "tidal_SSV_cov=False\n",
    "Tri_cov=True\n",
    "\n",
    "bin_xi=True\n",
    "theta_bins=np.logspace(np.log10(1./60),1,20)"
   ]
  },
  {
   "cell_type": "markdown",
   "metadata": {},
   "source": [
    "##  Test with 1 redshift bin"
   ]
  },
  {
   "cell_type": "code",
   "execution_count": 9,
   "metadata": {},
   "outputs": [],
   "source": [
    "window_lmax=200"
   ]
  },
  {
   "cell_type": "code",
   "execution_count": 10,
   "metadata": {},
   "outputs": [],
   "source": [
    "use_window=True\n",
    "do_cov=True"
   ]
  },
  {
   "cell_type": "code",
   "execution_count": 11,
   "metadata": {},
   "outputs": [],
   "source": [
    "nside=128"
   ]
  },
  {
   "cell_type": "code",
   "execution_count": 12,
   "metadata": {
    "scrolled": true
   },
   "outputs": [
    {
     "name": "stdout",
     "output_type": "stream",
     "text": [
      "indxs:  None None\n"
     ]
    },
    {
     "name": "stderr",
     "output_type": "stream",
     "text": [
      "../skylens/cov_utils.py:58: RuntimeWarning: invalid value encountered in true_divide\n",
      "  Win0=2*jn(1,l_th)/l_th\n",
      "../skylens/angular_power_spectra.py:26: RuntimeWarning: divide by zero encountered in true_divide\n",
      "  self.cl_f=(l+0.5)**2/(l*(l+1.)) # cl correction from Kilbinger+ 2017\n"
     ]
    },
    {
     "name": "stdout",
     "output_type": "stream",
     "text": [
      "Win gen: step size 384 True False\n",
      "Window done\n"
     ]
    },
    {
     "name": "stderr",
     "output_type": "stream",
     "text": [
      "/verafs/scratch/phy200040p/sukhdeep/miniconda3/lib/python3.8/site-packages/healpy/sphtfunc.py:396: FutureChangeWarning: The order of the input cl's will change in a future release.\n",
      "Use new=True keyword to start using the new order.\n",
      "See documentation of healpy.synalm.\n",
      "  warnings.warn(\n",
      "../skylens/survey_utils.py:119: RuntimeWarning: invalid value encountered in sqrt\n",
      "  cl_map_noise=np.sqrt(cl_map)\n"
     ]
    }
   ],
   "source": [
    "z0=1 #1087\n",
    "zs_bin1=source_tomo_bins(zp=[z0],p_zp=np.array([1]),ns=30,use_window=use_window,nside=nside)"
   ]
  },
  {
   "cell_type": "code",
   "execution_count": 13,
   "metadata": {},
   "outputs": [],
   "source": [
    "use_binned_l=False"
   ]
  },
  {
   "cell_type": "code",
   "execution_count": 14,
   "metadata": {},
   "outputs": [],
   "source": [
    "a={'a':1,'b':2}"
   ]
  },
  {
   "cell_type": "code",
   "execution_count": 15,
   "metadata": {},
   "outputs": [],
   "source": [
    "kk=list(a.keys())\n",
    "ii=len(kk)"
   ]
  },
  {
   "cell_type": "code",
   "execution_count": 16,
   "metadata": {},
   "outputs": [
    {
     "data": {
      "text/plain": [
       "[('a', 'a'), ('a', 'b'), ('b', 'b')]"
      ]
     },
     "execution_count": 16,
     "metadata": {},
     "output_type": "execute_result"
    }
   ],
   "source": [
    "[(kk[i],kk[j]) for i in np.arange(ii) for j in np.arange(i,ii)]"
   ]
  },
  {
   "cell_type": "code",
   "execution_count": 17,
   "metadata": {},
   "outputs": [],
   "source": [
    "store_win=True"
   ]
  },
  {
   "cell_type": "code",
   "execution_count": 18,
   "metadata": {},
   "outputs": [],
   "source": [
    "SSV_cov=False\n",
    "bin_cl=True\n",
    "do_cov=True\n",
    "Tri_cov=False"
   ]
  },
  {
   "cell_type": "code",
   "execution_count": 19,
   "metadata": {},
   "outputs": [],
   "source": [
    "do_pseudo_cl=False\n",
    "do_xi=True"
   ]
  },
  {
   "cell_type": "code",
   "execution_count": 20,
   "metadata": {},
   "outputs": [],
   "source": [
    "#use all ell\n",
    "kappa0=Skylens(zs_bins=zs_bin1,do_cov=do_cov,bin_cl=bin_cl,l_bins=l_bins,l=l0, zg_bins=None,\n",
    "                                       use_window=use_window,Tri_cov=Tri_cov,\n",
    "                                       use_binned_l=use_binned_l,wigner_files=wigner_files,\n",
    "                                       SSV_cov=SSV_cov,tidal_SSV_cov=tidal_SSV_cov,f_sky=0.35,\n",
    "                                       store_win=store_win,window_lmax=window_lmax,\n",
    "                                       sparse_cov=True\n",
    "                                       )"
   ]
  },
  {
   "cell_type": "code",
   "execution_count": 21,
   "metadata": {},
   "outputs": [
    {
     "data": {
      "text/plain": [
       "array([ 12,  13,  16,  18,  21,  24,  28,  33,  38,  44,  51,  59,  68,\n",
       "        79,  91, 106, 122, 142, 164, 189])"
      ]
     },
     "execution_count": 21,
     "metadata": {},
     "output_type": "execute_result"
    }
   ],
   "source": [
    "kappa0.l_bins"
   ]
  },
  {
   "cell_type": "code",
   "execution_count": 22,
   "metadata": {},
   "outputs": [
    {
     "name": "stderr",
     "output_type": "stream",
     "text": [
      "01:17:18 DEBUG:run ['dot', '-Tpng']\n"
     ]
    },
    {
     "data": {
      "image/png": "[encoded data removed]",
      "text/plain": [
       "<IPython.core.display.Image object>"
      ]
     },
     "execution_count": 22,
     "metadata": {},
     "output_type": "execute_result"
    }
   ],
   "source": [
    "dask.visualize(kappa0.Win.Win)"
   ]
  },
  {
   "cell_type": "code",
   "execution_count": 23,
   "metadata": {},
   "outputs": [],
   "source": [
    "%time cl0G=kappa0.cl_tomo() "
   ]
  },
  {
   "cell_type": "code",
   "execution_count": 24,
   "metadata": {},
   "outputs": [
    {
     "name": "stderr",
     "output_type": "stream",
     "text": [
      "01:17:25 DEBUG:run ['dot', '-Tpng']\n"
     ]
    },
    {
     "data": {
      "image/png": "[encoded data removed]",
      "text/plain": [
       "<IPython.core.display.Image object>"
      ]
     },
     "execution_count": 24,
     "metadata": {},
     "output_type": "execute_result"
    }
   ],
   "source": [
    "dask.visualize(cl0G['stack'])"
   ]
  },
  {
   "cell_type": "code",
   "execution_count": 25,
   "metadata": {},
   "outputs": [
    {
     "ename": "NameError",
     "evalue": "name 'crash' is not defined",
     "output_type": "error",
     "traceback": [
      "\u001b[0;31m---------------------------------------------------------------------------\u001b[0m",
      "\u001b[0;31mNameError\u001b[0m                                 Traceback (most recent call last)",
      "\u001b[0;32m<ipython-input-25-2a418ad8f387>\u001b[0m in \u001b[0;36m<module>\u001b[0;34m\u001b[0m\n\u001b[0;32m----> 1\u001b[0;31m \u001b[0mcrash\u001b[0m\u001b[0;34m\u001b[0m\u001b[0;34m\u001b[0m\u001b[0m\n\u001b[0m",
      "\u001b[0;31mNameError\u001b[0m: name 'crash' is not defined"
     ]
    }
   ],
   "source": [
    "crash"
   ]
  },
  {
   "cell_type": "code",
   "execution_count": null,
   "metadata": {},
   "outputs": [],
   "source": [
    "do_xi=True\n",
    "bin_xi=True\n",
    "bin_cl=True\n",
    "th_min=2.5/60\n",
    "th_max=250./60\n",
    "n_th_bins=20\n",
    "th_bins=np.logspace(np.log10(th_min),np.log10(th_max),n_th_bins+1)\n",
    "th=np.logspace(np.log10(th_min),np.log10(th_max),n_th_bins*40)\n",
    "thb=np.sqrt(th_bins[1:]*th_bins[:-1])\n",
    "\n",
    "#Hankel Transform setup\n",
    "WT_kwargs={'l':l0,'theta':th,'s1_s2':[(2,2),(2,-2),(0,0)]}\n",
    "WT=wigner_transform(**WT_kwargs)"
   ]
  },
  {
   "cell_type": "code",
   "execution_count": null,
   "metadata": {},
   "outputs": [],
   "source": [
    "kappa_xi0=Skylens(zs_bins=zs_bin1,do_cov=do_cov,bin_cl=bin_cl,l_bins=l_bins,l=l0, zg_bins=None,\n",
    "                       use_window=use_window,Tri_cov=Tri_cov,\n",
    "                       wigner_files=wigner_files,\n",
    "                       SSV_cov=SSV_cov,tidal_SSV_cov=tidal_SSV_cov,f_sky=0.35,\n",
    "                       store_win=store_win,window_lmax=window_lmax,\n",
    "                      do_xi=do_xi,bin_xi=bin_xi,theta_bins=th_bins,WT=WT,\n",
    "                      use_binned_l=False,use_binned_theta=False,\n",
    "                      nz_PS=10,do_pseudo_cl=False,xi_win_approx=True)"
   ]
  },
  {
   "cell_type": "code",
   "execution_count": null,
   "metadata": {},
   "outputs": [],
   "source": [
    "dask.visualize(kappa_xi0.Win.Win_cov)"
   ]
  },
  {
   "cell_type": "code",
   "execution_count": null,
   "metadata": {},
   "outputs": [],
   "source": [
    "%time cl0G=kappa0.cl_tomo() "
   ]
  },
  {
   "cell_type": "code",
   "execution_count": null,
   "metadata": {},
   "outputs": [],
   "source": [
    "do_cov"
   ]
  },
  {
   "cell_type": "code",
   "execution_count": null,
   "metadata": {},
   "outputs": [],
   "source": [
    "bi=(0,0)\n",
    "xx=cl0G['cov'][corr_ll+corr_ll][bi+bi].compute()"
   ]
  },
  {
   "cell_type": "code",
   "execution_count": null,
   "metadata": {},
   "outputs": [],
   "source": [
    "xx"
   ]
  },
  {
   "cell_type": "code",
   "execution_count": null,
   "metadata": {},
   "outputs": [],
   "source": [
    "kappa0.l.shape"
   ]
  },
  {
   "cell_type": "code",
   "execution_count": null,
   "metadata": {
    "scrolled": false
   },
   "outputs": [],
   "source": [
    "%time cl0=cl0G['stack'].compute()"
   ]
  },
  {
   "cell_type": "code",
   "execution_count": null,
   "metadata": {},
   "outputs": [],
   "source": [
    "cl0['cov']#.todense()"
   ]
  },
  {
   "cell_type": "code",
   "execution_count": null,
   "metadata": {},
   "outputs": [],
   "source": []
  },
  {
   "cell_type": "code",
   "execution_count": null,
   "metadata": {},
   "outputs": [],
   "source": [
    "# import wigner_transform \n",
    "# reload(wigner_transform)\n",
    "# from wigner_transform import *\n",
    "\n",
    "import binning\n",
    "reload(binning)\n",
    "from binning import *"
   ]
  },
  {
   "cell_type": "code",
   "execution_count": null,
   "metadata": {},
   "outputs": [],
   "source": [
    "th"
   ]
  },
  {
   "cell_type": "code",
   "execution_count": null,
   "metadata": {},
   "outputs": [],
   "source": []
  },
  {
   "cell_type": "code",
   "execution_count": null,
   "metadata": {},
   "outputs": [],
   "source": [
    "WT.wig_d.keys()"
   ]
  },
  {
   "cell_type": "code",
   "execution_count": null,
   "metadata": {},
   "outputs": [],
   "source": [
    "import skylens\n",
    "reload(skylens)\n",
    "from skylens import *"
   ]
  },
  {
   "cell_type": "code",
   "execution_count": null,
   "metadata": {},
   "outputs": [],
   "source": [
    "use_binned_theta=True"
   ]
  },
  {
   "cell_type": "code",
   "execution_count": null,
   "metadata": {},
   "outputs": [],
   "source": [
    "kappa_xi0=Skylens(zs_bins=zs_bin1,do_cov=do_cov,bin_cl=bin_cl,l_bins=l_bins,l=l0, zg_bins=None,\n",
    "                                       use_window=use_window,Tri_cov=Tri_cov,\n",
    "                                       wigner_files=wigner_files,\n",
    "                                       SSV_cov=SSV_cov,tidal_SSV_cov=tidal_SSV_cov,f_sky=0.35,\n",
    "                                       store_win=store_win,window_lmax=window_lmax,\n",
    "                                      do_xi=do_xi,bin_xi=bin_xi,theta_bins=th_bins,WT=WT,\n",
    "                                      use_binned_l=False,use_binned_theta=False,\n",
    "                                      nz_PS=10\n",
    "                                       )"
   ]
  },
  {
   "cell_type": "code",
   "execution_count": null,
   "metadata": {},
   "outputs": [],
   "source": [
    "%time xiHG0=kappa_xi0.xi_tomo()\n",
    "%time xiH0=xiHG0['stack'].compute()"
   ]
  },
  {
   "cell_type": "code",
   "execution_count": null,
   "metadata": {
    "scrolled": false
   },
   "outputs": [],
   "source": [
    "kappa_xib=Skylens(zs_bins=zs_bin1,do_cov=do_cov,bin_cl=bin_cl,l_bins=l_bins,l=l0, zg_bins=None,\n",
    "                                       use_window=use_window,Tri_cov=Tri_cov,\n",
    "                                       wigner_files=wigner_files,\n",
    "                                       SSV_cov=SSV_cov,tidal_SSV_cov=tidal_SSV_cov,f_sky=0.35,\n",
    "                                       store_win=store_win,window_lmax=window_lmax,\n",
    "                                      do_xi=do_xi,bin_xi=bin_xi,theta_bins=th_bins,WT=WT,\n",
    "                                      use_binned_l=use_binned_l,use_binned_theta=use_binned_theta\n",
    "                                       )"
   ]
  },
  {
   "cell_type": "code",
   "execution_count": null,
   "metadata": {},
   "outputs": [],
   "source": [
    "%time xiHG_b=kappa_xib.xi_tomo()"
   ]
  },
  {
   "cell_type": "code",
   "execution_count": null,
   "metadata": {},
   "outputs": [],
   "source": [
    "%time xiH_b=xiHG_b['stack'].compute()"
   ]
  },
  {
   "cell_type": "code",
   "execution_count": null,
   "metadata": {},
   "outputs": [],
   "source": [
    "kappa_xi0.WT.wig_d.keys(),WT.wig_d.keys()"
   ]
  },
  {
   "cell_type": "code",
   "execution_count": null,
   "metadata": {},
   "outputs": [],
   "source": [
    "%time xiHG0=kappa_xi0.xi_tomo()\n",
    "%time xiH0=xiHG0['stack'].compute()"
   ]
  },
  {
   "cell_type": "code",
   "execution_count": null,
   "metadata": {},
   "outputs": [],
   "source": [
    "xiH0['xi']"
   ]
  },
  {
   "cell_type": "code",
   "execution_count": null,
   "metadata": {},
   "outputs": [],
   "source": [
    "xiH_b['xi']"
   ]
  },
  {
   "cell_type": "code",
   "execution_count": null,
   "metadata": {},
   "outputs": [],
   "source": []
  },
  {
   "cell_type": "code",
   "execution_count": null,
   "metadata": {},
   "outputs": [],
   "source": []
  }
 ],
 "metadata": {
  "hide_input": false,
  "kernelspec": {
   "display_name": "Python 3",
   "language": "python",
   "name": "python3"
  }
 },
 "nbformat": 4,
 "nbformat_minor": 2
}
