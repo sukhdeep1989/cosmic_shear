{
 "cells": [
  {
   "cell_type": "code",
   "execution_count": 1,
   "metadata": {},
   "outputs": [],
   "source": [
    "import sys\n",
    "# import pyccl as ccl\n",
    "import pickle\n",
    "import camb\n",
    "sys.path.insert(0,'../skylens/')\n",
    "# from importlib import reload"
   ]
  },
  {
   "cell_type": "code",
   "execution_count": 2,
   "metadata": {},
   "outputs": [],
   "source": [
    "from distributed import LocalCluster\n",
    "from dask.distributed import Client  # we already had this above\n",
    "#http://distributed.readthedocs.io/en/latest/_modules/distributed/worker.html\n",
    "c=LocalCluster(n_workers=1,processes=False,memory_limit='25gb',threads_per_worker=4,memory_spill_fraction=.99,\n",
    "               memory_monitor_interval='2000ms')\n",
    "client=Client(c)"
   ]
  },
  {
   "cell_type": "code",
   "execution_count": 3,
   "metadata": {},
   "outputs": [],
   "source": [
    "from skylens import *\n",
    "from survey_utils import *"
   ]
  },
  {
   "cell_type": "code",
   "execution_count": 4,
   "metadata": {},
   "outputs": [],
   "source": [
    "#only for python3\n",
    "import importlib\n",
    "reload=importlib.reload"
   ]
  },
  {
   "cell_type": "code",
   "execution_count": 5,
   "metadata": {},
   "outputs": [
    {
     "name": "stdout",
     "output_type": "stream",
     "text": [
      "ns0:  27.0\n",
      "[0.10002    0.10082016 0.10162032 ... 2.99819964 2.9989998  2.99979996] 100 5\n",
      "source_tomo_bins, zmax 5.0 2.999799959991998 0.5999699939987997\n",
      "Tracer utils has no tracers\n"
     ]
    }
   ],
   "source": [
    "zs=lsst_source_tomo_bins()\n",
    "corr_ll=('shear', 'shear')"
   ]
  },
  {
   "cell_type": "code",
   "execution_count": 6,
   "metadata": {},
   "outputs": [],
   "source": [
    "wigner_files={}\n",
    "# wigner_files[0]= '/Users/Deep/dask_temp/dask_wig3j_l3500_w2100_0_reorder.zarr'\n",
    "# wigner_files[2]= '/Users/Deep/dask_temp/dask_wig3j_l3500_w2100_2_reorder.zarr'\n",
    "wig_home='/verafs/scratch/phy200040p/sukhdeep/physics2/skylens/temp/'\n",
    "wigner_files[0]= wig_home+'dask_wig3j_l3500_w2100_0_reorder.zarr'\n",
    "wigner_files[2]= wig_home+'/dask_wig3j_l3500_w2100_2_reorder.zarr'\n"
   ]
  },
  {
   "cell_type": "markdown",
   "metadata": {},
   "source": [
    "# Power Spectrum covariance"
   ]
  },
  {
   "cell_type": "code",
   "execution_count": 91,
   "metadata": {},
   "outputs": [
    {
     "name": "stderr",
     "output_type": "stream",
     "text": [
      "<ipython-input-91-e0ed0c04b46a>:12: RuntimeWarning: divide by zero encountered in log10\n",
      "  l=np.unique(np.int64(np.logspace(np.log10(lmin_cl),np.log10(lmax_cl),Nl_bins*20))) #if we want to use fewer ell\n",
      "/verafs/scratch/phy200040p/sukhdeep/miniconda3/lib/python3.8/site-packages/numpy/core/function_base.py:144: RuntimeWarning: invalid value encountered in multiply\n",
      "  y *= step\n",
      "/verafs/scratch/phy200040p/sukhdeep/miniconda3/lib/python3.8/site-packages/numpy/core/function_base.py:154: RuntimeWarning: invalid value encountered in add\n",
      "  y += start\n"
     ]
    }
   ],
   "source": [
    "#setup parameters\n",
    "lmax_cl=1000\n",
    "lmin_cl=0\n",
    "l0=np.arange(lmin_cl,lmax_cl)\n",
    "\n",
    "lmin_cl_Bins=lmin_cl+10\n",
    "lmax_cl_Bins=lmax_cl-10\n",
    "Nl_bins=20\n",
    "l_bins=np.int64(np.logspace(np.log10(lmin_cl_Bins),np.log10(lmax_cl_Bins),Nl_bins))\n",
    "lb=np.sqrt(l_bins[1:]*l_bins[:-1])\n",
    "\n",
    "l=np.unique(np.int64(np.logspace(np.log10(lmin_cl),np.log10(lmax_cl),Nl_bins*20))) #if we want to use fewer ell\n",
    "\n",
    "do_cov=True\n",
    "bin_cl=True\n",
    "\n",
    "SSV_cov=True\n",
    "tidal_SSV_cov=False\n",
    "Tri_cov=True\n",
    "\n",
    "bin_xi=True\n",
    "theta_bins=np.logspace(np.log10(1./60),1,20)"
   ]
  },
  {
   "cell_type": "markdown",
   "metadata": {},
   "source": [
    "##  Test with 1 redshift bin"
   ]
  },
  {
   "cell_type": "code",
   "execution_count": 92,
   "metadata": {},
   "outputs": [],
   "source": [
    "nside=32\n",
    "window_lmax=nside"
   ]
  },
  {
   "cell_type": "code",
   "execution_count": 93,
   "metadata": {},
   "outputs": [],
   "source": [
    "use_window=True\n",
    "do_cov=True"
   ]
  },
  {
   "cell_type": "code",
   "execution_count": 94,
   "metadata": {
    "scrolled": true
   },
   "outputs": [
    {
     "name": "stdout",
     "output_type": "stream",
     "text": [
      "ns0:  27.0\n",
      "[0.10002    0.10082016 0.10162032 ... 2.99819964 2.9989998  2.99979996] 100 5\n",
      "source_tomo_bins, zmax 5.0 2.999799959991998 0.5999699939987997\n",
      "Tracer utils has no tracers\n",
      "pk_params dict was none, intialized with default\n",
      "cosmo_params dict was none, intialized with default\n",
      "cosmology interpolation range 0.0 5.015\n",
      "power spectra camb_pk_too_many_z\n",
      "Win gen: step size 9 95 31.0 10\n",
      "Window done. Size: 0.0\n"
     ]
    },
    {
     "name": "stderr",
     "output_type": "stream",
     "text": [
      "/verafs/scratch/phy200040p/sukhdeep/miniconda3/lib/python3.8/site-packages/skylens-0.1-py3.8.egg/skylens/cov_utils.py:91: RuntimeWarning: invalid value encountered in true_divide\n",
      "/verafs/scratch/phy200040p/sukhdeep/miniconda3/lib/python3.8/site-packages/skylens-0.1-py3.8.egg/skylens/angular_power_spectra.py:23: RuntimeWarning: divide by zero encountered in true_divide\n",
      "/verafs/scratch/phy200040p/sukhdeep/miniconda3/lib/python3.8/site-packages/skylens-0.1-py3.8.egg/skylens/angular_power_spectra.py:115: RuntimeWarning: divide by zero encountered in true_divide\n",
      "/verafs/scratch/phy200040p/sukhdeep/miniconda3/lib/python3.8/site-packages/skylens-0.1-py3.8.egg/skylens/tracer_utils.py:199: RuntimeWarning: divide by zero encountered in true_divide\n",
      "  sigma_c=1./(ddls*w)\n",
      "/verafs/home/sukhdeep/.local/lib/python3.8/site-packages/healpy-1.14.0-py3.8-linux-x86_64.egg/healpy/sphtfunc.py:433: FutureChangeWarning: The order of the input cl's will change in a future release.\n",
      "Use new=True keyword to start using the new order.\n",
      "See documentation of healpy.synalm.\n",
      "  warnings.warn(\n",
      "/verafs/home/sukhdeep/.local/lib/python3.8/site-packages/healpy-1.14.0-py3.8-linux-x86_64.egg/healpy/sphtfunc.py:822: UserWarning: Sigma is 0.000000 arcmin (0.000000 rad) \n",
      "  warnings.warn(\n",
      "/verafs/home/sukhdeep/.local/lib/python3.8/site-packages/healpy-1.14.0-py3.8-linux-x86_64.egg/healpy/sphtfunc.py:827: UserWarning: -> fwhm is 0.000000 arcmin\n",
      "  warnings.warn(\n",
      "../skylens/survey_utils.py:132: RuntimeWarning: invalid value encountered in sqrt\n",
      "  cl_map_noise=np.sqrt(cl_map)\n"
     ]
    },
    {
     "name": "stdout",
     "output_type": "stream",
     "text": [
      "scatter_dict got empty dictionary\n",
      "cl graph done\n",
      "gather_dict got empty dictionary\n"
     ]
    }
   ],
   "source": [
    "z0=1 #1087\n",
    "# zs_bin1=source_tomo_bins(zp=[z0],p_zp=np.array([1]),ns=30,use_window=use_window,nside=nside)\n",
    "zs_bin1=lsst_source_tomo_bins(nbins=2,use_window=use_window,nside=nside)"
   ]
  },
  {
   "cell_type": "code",
   "execution_count": 95,
   "metadata": {},
   "outputs": [],
   "source": [
    "use_binned_l=False"
   ]
  },
  {
   "cell_type": "code",
   "execution_count": 96,
   "metadata": {},
   "outputs": [],
   "source": [
    "store_win=False"
   ]
  },
  {
   "cell_type": "code",
   "execution_count": 97,
   "metadata": {},
   "outputs": [],
   "source": [
    "SSV_cov=False\n",
    "bin_cl=True\n",
    "do_cov=True\n",
    "Tri_cov=False"
   ]
  },
  {
   "cell_type": "code",
   "execution_count": 98,
   "metadata": {},
   "outputs": [],
   "source": [
    "do_pseudo_cl=True\n",
    "do_xi=False"
   ]
  },
  {
   "cell_type": "code",
   "execution_count": 99,
   "metadata": {
    "scrolled": false
   },
   "outputs": [
    {
     "name": "stdout",
     "output_type": "stream",
     "text": [
      "pk_params dict was none, intialized with default\n",
      "cosmo_params dict was none, intialized with default\n",
      "cosmology interpolation range 0.0 5.015\n",
      "power spectra camb_pk_too_many_z\n",
      "Win gen: step size 100 1000 33.0 10\n",
      "wigner_files: {0: '/verafs/scratch/phy200040p/sukhdeep/physics2/skylens/temp/dask_wig3j_l3500_w2100_0_reorder.zarr', 2: '/verafs/scratch/phy200040p/sukhdeep/physics2/skylens/temp//dask_wig3j_l3500_w2100_2_reorder.zarr'}\n",
      "wigner done dict_keys([])\n",
      "set window_cl: cl0,cl_b done 0.00012612342834472656\n",
      "set window_cl: cl done 0.03351283073425293 0.469 0.0\n",
      "cl+cov bags done 3 6 0.0430142879486084\n",
      "set_window_cl done 0.043602943420410156\n",
      "setting windows graph only, coupling matrices  None\n",
      "got window cls, now to coupling matrices. 3 6\n",
      "done cl graph\n",
      "done cl+cov graph\n",
      "Window done. Size: 0.504\n"
     ]
    }
   ],
   "source": [
    "#use all ell\n",
    "kappa0=Skylens(shear_zbins=zs_bin1,do_cov=do_cov,bin_cl=bin_cl,l_bins=l_bins,l=l0, galaxy_zbins=zs_bin1,\n",
    "                                       use_window=use_window,Tri_cov=Tri_cov,\n",
    "                                       use_binned_l=use_binned_l,wigner_files=wigner_files,\n",
    "                                       SSV_cov=SSV_cov,tidal_SSV_cov=tidal_SSV_cov,f_sky=0.35,\n",
    "                                       store_win=store_win,window_lmax=window_lmax,\n",
    "                                       sparse_cov=True,do_pseudo_cl=do_pseudo_cl,\n",
    "                                       corrs=[corr_gg]\n",
    "                                       )"
   ]
  },
  {
   "cell_type": "code",
   "execution_count": 100,
   "metadata": {},
   "outputs": [
    {
     "name": "stdout",
     "output_type": "stream",
     "text": [
      "scatter_dict got empty dictionary\n",
      "cl graph done\n",
      "gather_dict got empty dictionary\n",
      "cl cov graph done\n",
      "CPU times: user 20 s, sys: 7.16 s, total: 27.2 s\n",
      "Wall time: 1.8 s\n"
     ]
    }
   ],
   "source": [
    "%time cl0G=kappa0.cl_tomo() "
   ]
  },
  {
   "cell_type": "code",
   "execution_count": 101,
   "metadata": {},
   "outputs": [],
   "source": [
    "win_Cl=client.compute(cl0G['cl'][corr_gg][(0,0)]).result()"
   ]
  },
  {
   "cell_type": "code",
   "execution_count": 102,
   "metadata": {},
   "outputs": [
    {
     "name": "stdout",
     "output_type": "stream",
     "text": [
      "Win gen: step size 1000 1000 1000.0 10\n",
      "wigner_files: {0: '/verafs/scratch/phy200040p/sukhdeep/physics2/skylens/temp/dask_wig3j_l3500_w2100_0_reorder.zarr', 2: '/verafs/scratch/phy200040p/sukhdeep/physics2/skylens/temp//dask_wig3j_l3500_w2100_2_reorder.zarr'}\n",
      "wigner done dict_keys([])\n",
      "got wig3j 0 8000.0 (75, 12) 5\n"
     ]
    }
   ],
   "source": [
    "wu=window_utils(l=l0,window_l=l0,use_window=True,s1_s2s={corr_gg:(0,0)},\n",
    "                corrs=[corr_gg],wigner_step=l0.max()+1,wigner_files=wigner_files)\n",
    "wu.set_wig3j()\n",
    "wj2=client.compute(wu.wig_3j_2).result()\n",
    "wj2=wj2[0]['00']"
   ]
  },
  {
   "cell_type": "code",
   "execution_count": 103,
   "metadata": {},
   "outputs": [],
   "source": [
    "M=wj2@(win_Cl*(2*l0+1))\n",
    "M/=4.*np.pi\n",
    "M*=wu.MF\n",
    "\n"
   ]
  },
  {
   "cell_type": "code",
   "execution_count": 108,
   "metadata": {},
   "outputs": [
    {
     "data": {
      "text/plain": [
       "<matplotlib.colorbar.Colorbar at 0x150f7b674490>"
      ]
     },
     "execution_count": 108,
     "metadata": {},
     "output_type": "execute_result"
    },
    {
     "data": {
      "image/png": "[encoded data removed]",
      "text/plain": [
       "<Figure size 1500x1125 with 2 Axes>"
      ]
     },
     "metadata": {},
     "output_type": "display_data"
    }
   ],
   "source": [
    "pcolor(M/np.sqrt(np.outer(win_Cl,win_Cl)),cmap='Reds',norm=LogNorm())\n",
    "loglog()\n",
    "xlim(1,1200)\n",
    "ylim(1,1200)\n",
    "colorbar()"
   ]
  },
  {
   "cell_type": "code",
   "execution_count": 105,
   "metadata": {},
   "outputs": [
    {
     "data": {
      "text/plain": [
       "array([4.15304163e-08, 4.02341164e-07, 9.93238916e-07, 1.71470133e-06,\n",
       "       2.50222144e-06, 3.31383220e-06, 4.12316047e-06, 4.91444152e-06,\n",
       "       5.67866140e-06, 6.41117430e-06, 7.10972928e-06, 7.77368957e-06,\n",
       "       8.40305587e-06, 8.99873795e-06, 9.56204815e-06, 1.00944840e-05,\n",
       "       1.05978462e-05, 1.10739442e-05, 1.15243776e-05, 1.19509519e-05,\n",
       "       1.23551991e-05, 1.27384659e-05, 1.31021176e-05, 1.34475357e-05,\n",
       "       1.37760366e-05, 1.40888919e-05, 1.43872741e-05, 1.46724149e-05,\n",
       "       1.49453941e-05, 1.52069696e-05, 1.54580048e-05, 1.56990696e-05,\n",
       "       1.59309018e-05, 1.61540960e-05, 1.63692304e-05, 1.65767733e-05,\n",
       "       1.67771264e-05, 1.69705414e-05, 1.71573292e-05, 1.73377264e-05,\n",
       "       1.75119360e-05, 1.76802065e-05, 1.78428250e-05, 1.80001114e-05,\n",
       "       1.81523989e-05, 1.83000343e-05, 1.84433568e-05, 1.85826913e-05,\n",
       "       1.87183141e-05, 1.88504513e-05, 1.89792916e-05, 1.91048891e-05,\n",
       "       1.92273134e-05, 1.93465895e-05, 1.94626907e-05, 1.95756795e-05,\n",
       "       1.96855195e-05, 1.97922538e-05, 1.98958764e-05, 1.99965889e-05,\n",
       "       2.00944357e-05, 2.01895523e-05, 2.02820146e-05, 2.03719875e-05,\n",
       "       2.04595556e-05, 2.05447809e-05, 2.06277979e-05, 2.07086939e-05,\n",
       "       2.07875406e-05, 2.08644472e-05, 2.09395004e-05, 2.10127746e-05,\n",
       "       2.10843766e-05, 2.11544222e-05, 2.12228611e-05, 2.12898406e-05,\n",
       "       2.13554016e-05, 2.14194784e-05, 2.14822662e-05, 2.15435549e-05,\n",
       "       2.16035952e-05, 2.16621655e-05, 2.17194429e-05, 2.17753535e-05,\n",
       "       2.18299404e-05, 2.18832920e-05, 2.19353823e-05, 2.19863844e-05,\n",
       "       2.20362551e-05, 2.20852066e-05, 2.21331721e-05, 2.21803919e-05,\n",
       "       2.22267310e-05, 2.22724877e-05, 2.23174302e-05, 2.23619002e-05,\n",
       "       2.24056264e-05, 2.24489030e-05, 2.24915477e-05, 2.25336717e-05,\n",
       "       2.25752587e-05, 2.26162625e-05, 2.26567318e-05, 2.26966525e-05,\n",
       "       2.27359968e-05, 2.27748151e-05, 2.28130787e-05, 2.28507269e-05,\n",
       "       2.28879474e-05, 2.29245436e-05, 2.29606829e-05, 2.29963348e-05,\n",
       "       2.30314230e-05, 2.30661666e-05, 2.31003850e-05, 2.31342117e-05,\n",
       "       2.31676657e-05, 2.32006790e-05, 2.32333577e-05, 2.32656485e-05,\n",
       "       2.32976184e-05, 2.33292411e-05, 2.33604929e-05, 2.33914965e-05,\n",
       "       2.34221183e-05, 2.34524119e-05, 2.34824610e-05, 2.35121068e-05,\n",
       "       2.35414614e-05, 2.35705498e-05, 2.35992353e-05, 2.36276417e-05,\n",
       "       2.36557686e-05, 2.36835166e-05, 2.37109811e-05, 2.37381629e-05,\n",
       "       2.37650090e-05, 2.37915617e-05, 2.38178341e-05, 2.38438174e-05,\n",
       "       2.38695225e-05, 2.38949232e-05, 2.39200690e-05, 2.39449759e-05,\n",
       "       2.39695766e-05, 2.39939063e-05, 2.40180319e-05, 2.40418736e-05,\n",
       "       2.40654297e-05, 2.40887750e-05, 2.41118802e-05, 2.41346941e-05,\n",
       "       2.41572655e-05, 2.41796358e-05, 2.42017332e-05, 2.42235952e-05,\n",
       "       2.42452436e-05, 2.42666759e-05, 2.42878935e-05, 2.43089101e-05,\n",
       "       2.43297337e-05, 2.43503575e-05, 2.43708333e-05, 2.43911362e-05,\n",
       "       2.44112654e-05, 2.44312339e-05, 2.44511061e-05, 2.44708191e-05,\n",
       "       2.44903812e-05, 2.45098272e-05, 2.45291917e-05, 2.45484080e-05,\n",
       "       2.45674894e-05, 2.45864771e-05, 2.46053901e-05, 2.46241662e-05,\n",
       "       2.46428179e-05, 2.46613741e-05, 2.46798539e-05, 2.46982089e-05,\n",
       "       2.47164433e-05, 2.47345696e-05, 2.47526065e-05, 2.47705302e-05,\n",
       "       2.47883298e-05, 2.48060047e-05, 2.48235859e-05, 2.48410516e-05,\n",
       "       2.48584034e-05, 2.48756248e-05, 2.48927448e-05, 2.49097461e-05,\n",
       "       2.49266479e-05, 2.49434345e-05, 2.49601094e-05, 2.49766664e-05,\n",
       "       2.49931308e-05, 2.50095097e-05, 2.50257770e-05, 2.50419446e-05,\n",
       "       2.50580106e-05, 2.50740007e-05, 2.50899052e-05, 2.51057153e-05,\n",
       "       2.51214364e-05, 2.51370765e-05, 2.51526458e-05, 2.51681367e-05,\n",
       "       2.51835406e-05, 2.51988681e-05, 2.52141143e-05, 2.52292914e-05,\n",
       "       2.52443934e-05, 2.52594098e-05, 2.52743536e-05, 2.52892096e-05,\n",
       "       2.53039873e-05, 2.53186857e-05, 2.53332993e-05, 2.53478412e-05,\n",
       "       2.53622882e-05, 2.53766484e-05, 2.53909202e-05, 2.54051072e-05,\n",
       "       2.54192263e-05, 2.54332559e-05, 2.54471929e-05, 2.54610382e-05,\n",
       "       2.54747994e-05, 2.54884998e-05, 2.55021253e-05, 2.55156629e-05,\n",
       "       2.55291199e-05, 2.55424925e-05, 2.55558134e-05, 2.55690695e-05,\n",
       "       2.55822558e-05, 2.55953731e-05, 2.56084151e-05, 2.56214052e-05,\n",
       "       2.56343433e-05, 2.56472294e-05, 2.56600553e-05, 2.56728237e-05,\n",
       "       2.56855329e-05, 2.56982087e-05, 2.57108350e-05, 2.57234143e-05,\n",
       "       2.57359475e-05, 2.57484298e-05, 2.57608675e-05, 2.57732710e-05,\n",
       "       2.57856288e-05, 2.57979418e-05, 2.58102130e-05, 2.58224375e-05,\n",
       "       2.58346212e-05, 2.58467653e-05, 2.58588638e-05, 2.58709189e-05,\n",
       "       2.58829308e-05, 2.58948961e-05, 2.59068191e-05, 2.59187002e-05,\n",
       "       2.59305358e-05, 2.59423286e-05, 2.59540769e-05, 2.59657773e-05,\n",
       "       2.59774304e-05, 2.59890421e-05, 2.60006081e-05, 2.60121296e-05,\n",
       "       2.60236070e-05, 2.60350351e-05, 2.60464136e-05, 2.60577492e-05,\n",
       "       2.60690372e-05, 2.60802833e-05, 2.60914833e-05, 2.61026363e-05,\n",
       "       2.61137407e-05, 2.61247986e-05, 2.61358138e-05, 2.61467884e-05,\n",
       "       2.61577173e-05, 2.61686015e-05, 2.61794389e-05, 2.61902292e-05,\n",
       "       2.62009848e-05, 2.62116995e-05, 2.62223758e-05, 2.62330065e-05,\n",
       "       2.62435960e-05, 2.62541426e-05, 2.62646475e-05, 2.62751240e-05,\n",
       "       2.62855635e-05, 2.62959628e-05, 2.63063234e-05, 2.63166458e-05,\n",
       "       2.63269281e-05, 2.63371771e-05, 2.63473983e-05, 2.63575850e-05,\n",
       "       2.63677330e-05, 2.63778479e-05, 2.63879284e-05, 2.63979707e-05,\n",
       "       2.64079855e-05, 2.64179733e-05, 2.64279287e-05, 2.64378483e-05,\n",
       "       2.64477386e-05, 2.64575974e-05, 2.64674208e-05, 2.64772173e-05,\n",
       "       2.64869888e-05, 2.64967295e-05, 2.65064388e-05, 2.65161193e-05,\n",
       "       2.65257712e-05, 2.65353904e-05, 2.65449800e-05, 2.65545474e-05,\n",
       "       2.65640841e-05, 2.65735928e-05, 2.65830724e-05, 2.65925244e-05,\n",
       "       2.66019460e-05, 2.66113359e-05, 2.66207009e-05, 2.66300395e-05,\n",
       "       2.66393491e-05, 2.66486324e-05, 2.66578870e-05, 2.66671125e-05,\n",
       "       2.66763068e-05, 2.66854702e-05, 2.66946092e-05, 2.67037220e-05,\n",
       "       2.67128075e-05, 2.67218666e-05, 2.67308962e-05, 2.67398970e-05,\n",
       "       2.67488671e-05, 2.67578062e-05, 2.67667216e-05, 2.67756109e-05,\n",
       "       2.67844742e-05, 2.67933104e-05, 2.68021178e-05, 2.68108982e-05,\n",
       "       2.68196493e-05, 2.68283706e-05, 2.68370678e-05, 2.68457406e-05,\n",
       "       2.68543881e-05, 2.68630097e-05, 2.68716040e-05, 2.68801739e-05,\n",
       "       2.68887170e-05, 2.68972321e-05, 2.69057231e-05, 2.69141930e-05,\n",
       "       2.69226381e-05, 2.69310596e-05, 2.69394555e-05, 2.69478298e-05,\n",
       "       2.69561798e-05, 2.69645049e-05, 2.69728059e-05, 2.69810889e-05,\n",
       "       2.69893491e-05, 2.69975876e-05, 2.70058017e-05, 2.70139948e-05,\n",
       "       2.70221673e-05, 2.70303171e-05, 2.70384429e-05, 2.70465503e-05,\n",
       "       2.70546395e-05, 2.70627067e-05, 2.70707526e-05, 2.70787760e-05,\n",
       "       2.70867794e-05, 2.70947613e-05, 2.71027208e-05, 2.71106577e-05,\n",
       "       2.71185778e-05, 2.71264795e-05, 2.71343599e-05, 2.71422203e-05,\n",
       "       2.71500586e-05, 2.71578765e-05, 2.71656727e-05, 2.71734467e-05,\n",
       "       2.71811980e-05, 2.71889319e-05, 2.71966480e-05, 2.72043433e-05,\n",
       "       2.72120192e-05, 2.72196736e-05, 2.72273073e-05, 2.72349209e-05,\n",
       "       2.72425119e-05, 2.72500804e-05, 2.72576290e-05, 2.72651616e-05,\n",
       "       2.72726739e-05, 2.72801675e-05, 2.72876415e-05, 2.72950947e-05,\n",
       "       2.73025289e-05, 2.73099420e-05, 2.73173336e-05, 2.73247040e-05,\n",
       "       2.73320580e-05, 2.73393943e-05, 2.73467110e-05, 2.73540106e-05,\n",
       "       2.73612905e-05, 2.73685518e-05, 2.73757952e-05, 2.73830194e-05,\n",
       "       2.73902232e-05, 2.73974079e-05, 2.74045778e-05, 2.74117299e-05,\n",
       "       2.74188643e-05, 2.74259818e-05, 2.74330809e-05, 2.74401633e-05,\n",
       "       2.74472289e-05, 2.74542761e-05, 2.74613050e-05, 2.74683162e-05,\n",
       "       2.74753137e-05, 2.74822940e-05, 2.74892579e-05, 2.74962052e-05,\n",
       "       2.75031347e-05, 2.75100485e-05, 2.75169464e-05, 2.75238275e-05,\n",
       "       2.75306901e-05, 2.75375363e-05, 2.75443692e-05, 2.75511861e-05,\n",
       "       2.75579866e-05, 2.75647716e-05, 2.75715390e-05, 2.75782908e-05,\n",
       "       2.75850271e-05, 2.75917466e-05, 2.75984485e-05, 2.76051339e-05,\n",
       "       2.76118053e-05, 2.76184631e-05, 2.76251044e-05, 2.76317303e-05,\n",
       "       2.76383408e-05, 2.76449344e-05, 2.76515127e-05, 2.76580748e-05,\n",
       "       2.76646201e-05, 2.76711489e-05, 2.76776615e-05, 2.76841621e-05,\n",
       "       2.76906477e-05, 2.76971181e-05, 2.77035742e-05, 2.77100142e-05,\n",
       "       2.77164389e-05, 2.77228486e-05, 2.77292423e-05, 2.77356199e-05,\n",
       "       2.77419818e-05, 2.77483282e-05, 2.77546626e-05, 2.77609829e-05,\n",
       "       2.77672888e-05, 2.77735804e-05, 2.77798573e-05, 2.77861194e-05,\n",
       "       2.77923675e-05, 2.77986006e-05, 2.78048195e-05, 2.78110220e-05,\n",
       "       2.78172104e-05, 2.78233865e-05, 2.78295494e-05, 2.78356983e-05,\n",
       "       2.78418338e-05, 2.78479553e-05, 2.78540629e-05, 2.78601571e-05,\n",
       "       2.78662381e-05, 2.78723049e-05, 2.78783569e-05, 2.78843942e-05,\n",
       "       2.76948538e-05, 2.76031950e-05, 2.75360241e-05, 2.74811043e-05,\n",
       "       2.74338455e-05, 2.73919504e-05, 2.73540805e-05, 2.73193726e-05,\n",
       "       2.72872353e-05, 2.72572392e-05, 2.72290638e-05, 2.72024609e-05,\n",
       "       2.71772331e-05, 2.71532224e-05, 2.71302974e-05, 2.71083495e-05,\n",
       "       2.70872870e-05, 2.70670315e-05, 2.70475152e-05, 2.70286800e-05,\n",
       "       2.70104740e-05, 2.69928518e-05, 2.69757738e-05, 2.69592041e-05,\n",
       "       2.69431105e-05, 2.69274643e-05, 2.69122392e-05, 2.68974118e-05,\n",
       "       2.68829603e-05, 2.68688652e-05, 2.68551083e-05, 2.68416729e-05,\n",
       "       2.68285436e-05, 2.68157067e-05, 2.68031483e-05, 2.67908569e-05,\n",
       "       2.67788211e-05, 2.67670298e-05, 2.67554737e-05, 2.67441432e-05,\n",
       "       2.67330293e-05, 2.67221243e-05, 2.67114208e-05, 2.67009110e-05,\n",
       "       2.66905887e-05, 2.66804464e-05, 2.66704791e-05, 2.66606806e-05,\n",
       "       2.66510453e-05, 2.66415683e-05, 2.66322445e-05, 2.66230695e-05,\n",
       "       2.66140381e-05, 2.66051467e-05, 2.65963913e-05, 2.65877677e-05,\n",
       "       2.65792723e-05, 2.65709015e-05, 2.65626522e-05, 2.65545207e-05,\n",
       "       2.65465041e-05, 2.65385995e-05, 2.65308043e-05, 2.65231151e-05,\n",
       "       2.65155300e-05, 2.65080456e-05, 2.65006604e-05, 2.64933714e-05,\n",
       "       2.64861766e-05, 2.64790740e-05, 2.64720607e-05, 2.64651357e-05,\n",
       "       2.64582963e-05, 2.64515409e-05, 2.64448675e-05, 2.64382748e-05,\n",
       "       2.64317607e-05, 2.64253237e-05, 2.64189619e-05, 2.64126743e-05,\n",
       "       2.64064588e-05, 2.64003144e-05, 2.63942395e-05, 2.63882327e-05,\n",
       "       2.63822928e-05, 2.63764187e-05, 2.63706085e-05, 2.63648615e-05,\n",
       "       2.63591767e-05, 2.63535524e-05, 2.63479881e-05, 2.63424819e-05,\n",
       "       2.63370332e-05, 2.63316414e-05, 2.63263048e-05, 2.63210233e-05,\n",
       "       2.63157948e-05, 2.63106194e-05, 2.63054958e-05, 2.63004226e-05,\n",
       "       2.62954000e-05, 2.62904266e-05, 2.62855013e-05, 2.62806241e-05,\n",
       "       2.62757933e-05, 2.62710090e-05, 2.62662701e-05, 2.62615758e-05,\n",
       "       2.62569256e-05, 2.62523185e-05, 2.62477542e-05, 2.62432315e-05,\n",
       "       2.62387508e-05, 2.62343104e-05, 2.62299103e-05, 2.62255496e-05,\n",
       "       2.62212279e-05, 2.62169445e-05, 2.62126992e-05, 2.62084910e-05,\n",
       "       2.62043194e-05, 2.62001844e-05, 2.61960847e-05, 2.61920204e-05,\n",
       "       2.61879910e-05, 2.61839954e-05, 2.61800341e-05, 2.61761059e-05,\n",
       "       2.61722105e-05, 2.61683474e-05, 2.61645166e-05, 2.61607173e-05,\n",
       "       2.61569490e-05, 2.61532114e-05, 2.61495043e-05, 2.61458272e-05,\n",
       "       2.61421793e-05, 2.61385611e-05, 2.61349714e-05, 2.61314103e-05,\n",
       "       2.61278772e-05, 2.61243718e-05, 2.61208938e-05, 2.61174429e-05,\n",
       "       2.61140188e-05, 2.61106208e-05, 2.61072492e-05, 2.61039031e-05,\n",
       "       2.61005827e-05, 2.60972874e-05, 2.60940166e-05, 2.60907707e-05,\n",
       "       2.60875490e-05, 2.60843514e-05, 2.60811772e-05, 2.60780269e-05,\n",
       "       2.60748992e-05, 2.60717947e-05, 2.60687128e-05, 2.60656534e-05,\n",
       "       2.60626158e-05, 2.60596001e-05, 2.60566061e-05, 2.60536336e-05,\n",
       "       2.60506823e-05, 2.60477518e-05, 2.60448419e-05, 2.60419527e-05,\n",
       "       2.60390837e-05, 2.60362345e-05, 2.60334050e-05, 2.60305955e-05,\n",
       "       2.60278054e-05, 2.60250341e-05, 2.60222820e-05, 2.60195488e-05,\n",
       "       2.60168338e-05, 2.60141374e-05, 2.60114593e-05, 2.60087993e-05,\n",
       "       2.60061568e-05, 2.60035320e-05, 2.60009246e-05, 2.59983349e-05,\n",
       "       2.59957620e-05, 2.59932058e-05, 2.59906666e-05, 2.59881443e-05,\n",
       "       2.59856382e-05, 2.59831482e-05, 2.59806745e-05, 2.59782167e-05,\n",
       "       2.59757746e-05, 2.59733483e-05, 2.59709376e-05, 2.59685417e-05,\n",
       "       2.59661614e-05, 2.59637962e-05, 2.59614458e-05, 2.59591104e-05,\n",
       "       2.59567894e-05, 2.59544830e-05, 2.59521908e-05, 2.59499126e-05,\n",
       "       2.59476487e-05, 2.59453988e-05, 2.59431627e-05, 2.59409404e-05,\n",
       "       2.59387316e-05, 2.59365363e-05, 2.59343543e-05, 2.59321852e-05,\n",
       "       2.59300297e-05, 2.59278866e-05, 2.59257568e-05, 2.59236396e-05,\n",
       "       2.59215350e-05, 2.59194428e-05, 2.59173632e-05, 2.59152958e-05,\n",
       "       2.59132405e-05, 2.59111974e-05, 2.59091663e-05, 2.59071471e-05,\n",
       "       2.59051393e-05, 2.59031432e-05, 2.59011588e-05, 2.58991858e-05,\n",
       "       2.58972245e-05, 2.58952739e-05, 2.58933349e-05, 2.58914068e-05,\n",
       "       2.58894897e-05, 2.58875837e-05, 2.58856883e-05, 2.58838035e-05,\n",
       "       2.58819296e-05, 2.58800657e-05, 2.58782126e-05, 2.58763700e-05,\n",
       "       2.58745374e-05, 2.58727150e-05, 2.58709029e-05, 2.58691006e-05,\n",
       "       2.58673083e-05, 2.58655259e-05, 2.58637532e-05, 2.58619906e-05,\n",
       "       2.58602368e-05, 2.58584931e-05, 2.58567590e-05, 2.58550341e-05,\n",
       "       2.58533183e-05, 2.58516119e-05, 2.58499147e-05, 2.58482265e-05,\n",
       "       2.58465474e-05, 2.58448774e-05, 2.58432159e-05, 2.58415638e-05,\n",
       "       2.58399200e-05, 2.58382848e-05, 2.58366585e-05, 2.58350405e-05,\n",
       "       2.58334314e-05, 2.58318304e-05, 2.58302379e-05, 2.58286536e-05,\n",
       "       2.58270773e-05, 2.58255092e-05, 2.58239496e-05, 2.58223976e-05,\n",
       "       2.58208538e-05, 2.58193182e-05, 2.58177897e-05, 2.58162697e-05,\n",
       "       2.58147572e-05, 2.58132523e-05, 2.58117551e-05, 2.58102656e-05,\n",
       "       2.58087837e-05, 2.58073088e-05, 2.58058416e-05, 2.58043819e-05,\n",
       "       2.58029293e-05, 2.58014838e-05, 2.58000459e-05, 2.57986151e-05,\n",
       "       2.57971911e-05, 2.57957742e-05, 2.57943642e-05, 2.57929615e-05,\n",
       "       2.57915655e-05, 2.57901763e-05, 2.57887940e-05, 2.57874184e-05,\n",
       "       2.57860495e-05, 2.57846872e-05, 2.57833317e-05, 2.57819824e-05,\n",
       "       2.57806399e-05, 2.57793038e-05, 2.57779742e-05, 2.57766507e-05,\n",
       "       2.57753338e-05, 2.57740230e-05, 2.57727186e-05, 2.57714205e-05,\n",
       "       2.57701285e-05, 2.57688426e-05, 2.57675628e-05, 2.57662891e-05,\n",
       "       2.57650209e-05, 2.57637591e-05, 2.57625031e-05, 2.57612533e-05,\n",
       "       2.57600089e-05, 2.57587706e-05, 2.57575379e-05, 2.57563108e-05,\n",
       "       2.57550896e-05, 2.57538739e-05, 2.57526639e-05, 2.57514597e-05,\n",
       "       2.57502607e-05, 2.57490672e-05, 2.57478791e-05, 2.57466966e-05,\n",
       "       2.57455198e-05, 2.57443476e-05, 2.57431813e-05, 2.57420200e-05,\n",
       "       2.57408642e-05, 2.57397135e-05, 2.57385678e-05, 2.57374274e-05,\n",
       "       2.57362925e-05, 2.57351622e-05, 2.57340373e-05, 2.57329171e-05,\n",
       "       2.57318018e-05, 2.57306916e-05, 2.57295866e-05, 2.57284864e-05,\n",
       "       2.57273908e-05, 2.57263001e-05, 2.57252143e-05, 2.57241331e-05,\n",
       "       2.57230568e-05, 2.57219853e-05, 2.57209183e-05, 2.57198561e-05,\n",
       "       2.57187985e-05, 2.57177454e-05, 2.57166972e-05, 2.57156532e-05,\n",
       "       2.57146138e-05, 2.57135789e-05, 2.57125484e-05, 2.57115223e-05,\n",
       "       2.57105006e-05, 2.57094834e-05, 2.57084705e-05, 2.57074620e-05,\n",
       "       2.57064577e-05, 2.57054578e-05, 2.57044617e-05, 2.57034704e-05,\n",
       "       2.57024832e-05, 2.57014998e-05, 2.57005206e-05, 2.56995460e-05,\n",
       "       2.56985751e-05, 2.56976082e-05, 2.56966454e-05, 2.56956869e-05,\n",
       "       2.56947324e-05, 2.56937815e-05, 2.56928349e-05, 2.56918919e-05,\n",
       "       2.56909530e-05, 2.56900180e-05, 2.56890869e-05, 2.56881594e-05,\n",
       "       2.56872360e-05, 2.56863161e-05, 2.56854002e-05, 2.56844880e-05,\n",
       "       2.56835797e-05, 2.56826748e-05, 2.56817738e-05, 2.56808761e-05,\n",
       "       2.56799827e-05, 2.56790924e-05, 2.56782058e-05, 2.56773229e-05,\n",
       "       2.56764433e-05, 2.56755676e-05, 2.56746953e-05, 2.56738264e-05,\n",
       "       2.56729609e-05, 2.56720990e-05, 2.56712407e-05, 2.56703853e-05,\n",
       "       2.56695340e-05, 2.56686857e-05, 2.56678407e-05, 2.56669993e-05,\n",
       "       2.56661611e-05, 2.56653263e-05, 2.56644947e-05, 2.56636664e-05,\n",
       "       2.56628410e-05, 2.56620193e-05, 2.56612007e-05, 2.56603853e-05,\n",
       "       2.56595729e-05, 2.56587638e-05, 2.56579580e-05, 2.56571551e-05,\n",
       "       2.56563554e-05, 2.56555586e-05, 2.56547653e-05, 2.56539751e-05,\n",
       "       2.56531874e-05, 2.56524031e-05, 2.56516217e-05, 2.56508435e-05,\n",
       "       2.56500678e-05, 2.56492956e-05, 2.56485262e-05, 2.56477597e-05,\n",
       "       2.56469961e-05, 2.56462354e-05, 2.56454776e-05, 2.56447226e-05,\n",
       "       2.56439706e-05, 2.56432213e-05, 2.56424748e-05, 2.56417311e-05,\n",
       "       2.56409904e-05, 2.56402523e-05, 2.56395173e-05, 2.56387847e-05,\n",
       "       2.56380550e-05, 2.56373278e-05, 2.56366037e-05, 2.56358821e-05,\n",
       "       2.56351631e-05, 2.56344465e-05, 2.56337331e-05, 2.56330222e-05,\n",
       "       2.56323140e-05, 2.56316081e-05, 2.56309049e-05, 2.56302043e-05,\n",
       "       2.56295063e-05, 2.56288109e-05, 2.56281181e-05, 2.56274275e-05,\n",
       "       2.56267399e-05, 2.56260547e-05, 2.56253718e-05, 2.56246912e-05,\n",
       "       2.56240136e-05, 2.56233382e-05, 2.56226652e-05, 2.56219947e-05,\n",
       "       2.56213267e-05, 2.56206613e-05, 2.56199977e-05, 2.56193367e-05,\n",
       "       2.56186785e-05, 2.56180221e-05, 2.56173681e-05, 2.56167168e-05,\n",
       "       2.56160675e-05, 2.56154208e-05, 2.56147763e-05, 2.56141339e-05,\n",
       "       2.56134940e-05, 2.56128564e-05, 2.56122207e-05, 2.56115877e-05,\n",
       "       2.56109568e-05, 2.56103279e-05, 2.56097015e-05, 2.56090770e-05,\n",
       "       2.56084550e-05, 2.56078352e-05, 2.56072172e-05, 2.56066015e-05,\n",
       "       2.56059883e-05, 2.56053768e-05, 2.56047676e-05, 2.56041605e-05,\n",
       "       2.56035556e-05, 2.56029529e-05, 2.56023517e-05, 2.56017533e-05])"
      ]
     },
     "execution_count": 105,
     "metadata": {},
     "output_type": "execute_result"
    }
   ],
   "source": [
    "np.diag(M)"
   ]
  },
  {
   "cell_type": "raw",
   "metadata": {},
   "source": [
    "%time cl0Gs=kappa0.cl_tomo_short(corrs=kappa0.corrs) "
   ]
  },
  {
   "cell_type": "raw",
   "metadata": {},
   "source": [
    "%time client.compute(cl0G['pseudo_cl_b']).result()"
   ]
  },
  {
   "cell_type": "code",
   "execution_count": 21,
   "metadata": {},
   "outputs": [
    {
     "data": {
      "text/plain": [
       "array([ 12,  13,  16,  18,  21,  24,  28,  33,  38,  44,  51,  59,  68,\n",
       "        79,  91, 106, 122, 142, 164, 189])"
      ]
     },
     "execution_count": 21,
     "metadata": {},
     "output_type": "execute_result"
    }
   ],
   "source": [
    "kappa0.l_bins"
   ]
  },
  {
   "cell_type": "raw",
   "metadata": {},
   "source": [
    "client.compute(kappa0.Win.Win['cl'])"
   ]
  },
  {
   "cell_type": "raw",
   "metadata": {},
   "source": [
    "kappa0.Win.Win_cl.to_delayed()[1][2]"
   ]
  },
  {
   "cell_type": "raw",
   "metadata": {},
   "source": [
    "cc=kappa0.Win.Win_cl\n",
    "client.compute(cc).result()"
   ]
  },
  {
   "cell_type": "raw",
   "metadata": {},
   "source": [
    "\n",
    "x=np.arange(10)\n",
    "\n",
    "for i in kappa0.Win.cl_bag:\n",
    "    for j in i:\n",
    "        print(j,i,kappa0.Win.Win_cl[i])"
   ]
  },
  {
   "cell_type": "code",
   "execution_count": 21,
   "metadata": {},
   "outputs": [
    {
     "ename": "KeyboardInterrupt",
     "evalue": "",
     "output_type": "error",
     "traceback": [
      "\u001b[0;31m---------------------------------------------------------------------------\u001b[0m",
      "\u001b[0;31mKeyboardInterrupt\u001b[0m                         Traceback (most recent call last)",
      "\u001b[0;32m/verafs/scratch/phy200040p/sukhdeep/miniconda3/lib/python3.8/site-packages/IPython/core/async_helpers.py\u001b[0m in \u001b[0;36m_pseudo_sync_runner\u001b[0;34m(coro)\u001b[0m\n\u001b[1;32m     66\u001b[0m     \"\"\"\n\u001b[1;32m     67\u001b[0m     \u001b[0;32mtry\u001b[0m\u001b[0;34m:\u001b[0m\u001b[0;34m\u001b[0m\u001b[0;34m\u001b[0m\u001b[0m\n\u001b[0;32m---> 68\u001b[0;31m         \u001b[0mcoro\u001b[0m\u001b[0;34m.\u001b[0m\u001b[0msend\u001b[0m\u001b[0;34m(\u001b[0m\u001b[0;32mNone\u001b[0m\u001b[0;34m)\u001b[0m\u001b[0;34m\u001b[0m\u001b[0;34m\u001b[0m\u001b[0m\n\u001b[0m\u001b[1;32m     69\u001b[0m     \u001b[0;32mexcept\u001b[0m \u001b[0mStopIteration\u001b[0m \u001b[0;32mas\u001b[0m \u001b[0mexc\u001b[0m\u001b[0;34m:\u001b[0m\u001b[0;34m\u001b[0m\u001b[0;34m\u001b[0m\u001b[0m\n\u001b[1;32m     70\u001b[0m         \u001b[0;32mreturn\u001b[0m \u001b[0mexc\u001b[0m\u001b[0;34m.\u001b[0m\u001b[0mvalue\u001b[0m\u001b[0;34m\u001b[0m\u001b[0;34m\u001b[0m\u001b[0m\n",
      "\u001b[0;32m/verafs/scratch/phy200040p/sukhdeep/miniconda3/lib/python3.8/site-packages/IPython/core/interactiveshell.py\u001b[0m in \u001b[0;36mrun_cell_async\u001b[0;34m(self, raw_cell, store_history, silent, shell_futures, transformed_cell, preprocessing_exc_tuple)\u001b[0m\n\u001b[1;32m   3068\u001b[0m         \u001b[0;31m# Store raw and processed history\u001b[0m\u001b[0;34m\u001b[0m\u001b[0;34m\u001b[0m\u001b[0;34m\u001b[0m\u001b[0m\n\u001b[1;32m   3069\u001b[0m         \u001b[0;32mif\u001b[0m \u001b[0mstore_history\u001b[0m\u001b[0;34m:\u001b[0m\u001b[0;34m\u001b[0m\u001b[0;34m\u001b[0m\u001b[0m\n\u001b[0;32m-> 3070\u001b[0;31m             self.history_manager.store_inputs(self.execution_count,\n\u001b[0m\u001b[1;32m   3071\u001b[0m                                               cell, raw_cell)\n\u001b[1;32m   3072\u001b[0m         \u001b[0;32mif\u001b[0m \u001b[0;32mnot\u001b[0m \u001b[0msilent\u001b[0m\u001b[0;34m:\u001b[0m\u001b[0;34m\u001b[0m\u001b[0;34m\u001b[0m\u001b[0m\n",
      "\u001b[0;32m/verafs/scratch/phy200040p/sukhdeep/miniconda3/lib/python3.8/site-packages/IPython/core/history.py\u001b[0m in \u001b[0;36mstore_inputs\u001b[0;34m(self, line_num, source, source_raw)\u001b[0m\n\u001b[1;32m    717\u001b[0m         \u001b[0mself\u001b[0m\u001b[0;34m.\u001b[0m\u001b[0minput_hist_raw\u001b[0m\u001b[0;34m.\u001b[0m\u001b[0mappend\u001b[0m\u001b[0;34m(\u001b[0m\u001b[0msource_raw\u001b[0m\u001b[0;34m)\u001b[0m\u001b[0;34m\u001b[0m\u001b[0;34m\u001b[0m\u001b[0m\n\u001b[1;32m    718\u001b[0m \u001b[0;34m\u001b[0m\u001b[0m\n\u001b[0;32m--> 719\u001b[0;31m         \u001b[0;32mwith\u001b[0m \u001b[0mself\u001b[0m\u001b[0;34m.\u001b[0m\u001b[0mdb_input_cache_lock\u001b[0m\u001b[0;34m:\u001b[0m\u001b[0;34m\u001b[0m\u001b[0;34m\u001b[0m\u001b[0m\n\u001b[0m\u001b[1;32m    720\u001b[0m             \u001b[0mself\u001b[0m\u001b[0;34m.\u001b[0m\u001b[0mdb_input_cache\u001b[0m\u001b[0;34m.\u001b[0m\u001b[0mappend\u001b[0m\u001b[0;34m(\u001b[0m\u001b[0;34m(\u001b[0m\u001b[0mline_num\u001b[0m\u001b[0;34m,\u001b[0m \u001b[0msource\u001b[0m\u001b[0;34m,\u001b[0m \u001b[0msource_raw\u001b[0m\u001b[0;34m)\u001b[0m\u001b[0;34m)\u001b[0m\u001b[0;34m\u001b[0m\u001b[0;34m\u001b[0m\u001b[0m\n\u001b[1;32m    721\u001b[0m             \u001b[0;31m# Trigger to flush cache and write to DB.\u001b[0m\u001b[0;34m\u001b[0m\u001b[0;34m\u001b[0m\u001b[0;34m\u001b[0m\u001b[0m\n",
      "\u001b[0;31mKeyboardInterrupt\u001b[0m: "
     ]
    }
   ],
   "source": [
    "dask.visualize(kappa0.Win['cl'][corr_ll][(1,1)])"
   ]
  },
  {
   "cell_type": "code",
   "execution_count": null,
   "metadata": {},
   "outputs": [],
   "source": [
    "%time cl0G=kappa0.cl_tomo() "
   ]
  },
  {
   "cell_type": "code",
   "execution_count": null,
   "metadata": {},
   "outputs": [],
   "source": [
    "cl0G['cov'].keys()"
   ]
  },
  {
   "cell_type": "code",
   "execution_count": null,
   "metadata": {},
   "outputs": [],
   "source": []
  },
  {
   "cell_type": "code",
   "execution_count": null,
   "metadata": {},
   "outputs": [],
   "source": [
    "cl0G['cov']"
   ]
  },
  {
   "cell_type": "code",
   "execution_count": null,
   "metadata": {},
   "outputs": [],
   "source": [
    "dask.visualize(cl0G['stack'])"
   ]
  },
  {
   "cell_type": "code",
   "execution_count": null,
   "metadata": {},
   "outputs": [],
   "source": [
    "dask.visualize(cl0G['cov'][corr_ll+corr_ll][(0,0,0,0)])"
   ]
  },
  {
   "cell_type": "raw",
   "metadata": {},
   "source": [
    "client.compute(kappa0.Win.Win_cl)"
   ]
  },
  {
   "cell_type": "code",
   "execution_count": null,
   "metadata": {},
   "outputs": [],
   "source": [
    "cl0G['stack'].compute()"
   ]
  },
  {
   "cell_type": "code",
   "execution_count": null,
   "metadata": {},
   "outputs": [],
   "source": [
    "crash"
   ]
  },
  {
   "cell_type": "code",
   "execution_count": null,
   "metadata": {},
   "outputs": [],
   "source": [
    "do_xi=True\n",
    "bin_xi=True\n",
    "bin_cl=True\n",
    "th_min=2.5/60\n",
    "th_max=250./60\n",
    "n_th_bins=20\n",
    "th_bins=np.logspace(np.log10(th_min),np.log10(th_max),n_th_bins+1)\n",
    "th=np.logspace(np.log10(th_min),np.log10(th_max),n_th_bins*40)\n",
    "thb=np.sqrt(th_bins[1:]*th_bins[:-1])\n",
    "\n",
    "#Hankel Transform setup\n",
    "WT_kwargs={'l':l0,'theta':th,'s1_s2':[(2,2),(2,-2),(0,0)]}\n",
    "WT=wigner_transform(**WT_kwargs)"
   ]
  },
  {
   "cell_type": "code",
   "execution_count": null,
   "metadata": {},
   "outputs": [],
   "source": [
    "kappa_xi0=Skylens(zs_bins=zs_bin1,do_cov=do_cov,bin_cl=bin_cl,l_bins=l_bins,l=l0, zg_bins=None,\n",
    "                       use_window=use_window,Tri_cov=Tri_cov,\n",
    "                       wigner_files=wigner_files,\n",
    "                       SSV_cov=SSV_cov,tidal_SSV_cov=tidal_SSV_cov,f_sky=0.35,\n",
    "                       store_win=store_win,window_lmax=window_lmax,\n",
    "                      do_xi=do_xi,bin_xi=bin_xi,theta_bins=th_bins,WT=WT,\n",
    "                      use_binned_l=False,use_binned_theta=False,\n",
    "                      nz_PS=10,do_pseudo_cl=False,xi_win_approx=True)"
   ]
  },
  {
   "cell_type": "code",
   "execution_count": null,
   "metadata": {},
   "outputs": [],
   "source": [
    "dask.visualize(kappa_xi0.Win.Win_cov)"
   ]
  },
  {
   "cell_type": "code",
   "execution_count": null,
   "metadata": {},
   "outputs": [],
   "source": [
    "%time cl0G=kappa0.cl_tomo() "
   ]
  },
  {
   "cell_type": "code",
   "execution_count": null,
   "metadata": {},
   "outputs": [],
   "source": [
    "do_cov"
   ]
  },
  {
   "cell_type": "code",
   "execution_count": null,
   "metadata": {},
   "outputs": [],
   "source": [
    "bi=(0,0)\n",
    "xx=cl0G['cov'][corr_ll+corr_ll][bi+bi].compute()"
   ]
  },
  {
   "cell_type": "code",
   "execution_count": null,
   "metadata": {},
   "outputs": [],
   "source": [
    "xx"
   ]
  },
  {
   "cell_type": "code",
   "execution_count": null,
   "metadata": {},
   "outputs": [],
   "source": [
    "kappa0.l.shape"
   ]
  },
  {
   "cell_type": "code",
   "execution_count": null,
   "metadata": {
    "scrolled": false
   },
   "outputs": [],
   "source": [
    "%time cl0=cl0G['stack'].compute()"
   ]
  },
  {
   "cell_type": "code",
   "execution_count": null,
   "metadata": {},
   "outputs": [],
   "source": [
    "cl0['cov']#.todense()"
   ]
  },
  {
   "cell_type": "code",
   "execution_count": null,
   "metadata": {},
   "outputs": [],
   "source": []
  },
  {
   "cell_type": "code",
   "execution_count": null,
   "metadata": {},
   "outputs": [],
   "source": [
    "# import wigner_transform \n",
    "# reload(wigner_transform)\n",
    "# from wigner_transform import *\n",
    "\n",
    "import binning\n",
    "reload(binning)\n",
    "from binning import *"
   ]
  },
  {
   "cell_type": "code",
   "execution_count": null,
   "metadata": {},
   "outputs": [],
   "source": [
    "th"
   ]
  },
  {
   "cell_type": "code",
   "execution_count": null,
   "metadata": {},
   "outputs": [],
   "source": []
  },
  {
   "cell_type": "code",
   "execution_count": null,
   "metadata": {},
   "outputs": [],
   "source": [
    "WT.wig_d.keys()"
   ]
  },
  {
   "cell_type": "code",
   "execution_count": null,
   "metadata": {},
   "outputs": [],
   "source": [
    "import skylens\n",
    "reload(skylens)\n",
    "from skylens import *"
   ]
  },
  {
   "cell_type": "code",
   "execution_count": null,
   "metadata": {},
   "outputs": [],
   "source": [
    "use_binned_theta=True"
   ]
  },
  {
   "cell_type": "code",
   "execution_count": null,
   "metadata": {},
   "outputs": [],
   "source": [
    "kappa_xi0=Skylens(zs_bins=zs_bin1,do_cov=do_cov,bin_cl=bin_cl,l_bins=l_bins,l=l0, zg_bins=None,\n",
    "                                       use_window=use_window,Tri_cov=Tri_cov,\n",
    "                                       wigner_files=wigner_files,\n",
    "                                       SSV_cov=SSV_cov,tidal_SSV_cov=tidal_SSV_cov,f_sky=0.35,\n",
    "                                       store_win=store_win,window_lmax=window_lmax,\n",
    "                                      do_xi=do_xi,bin_xi=bin_xi,theta_bins=th_bins,WT=WT,\n",
    "                                      use_binned_l=False,use_binned_theta=False,\n",
    "                                      nz_PS=10\n",
    "                                       )"
   ]
  },
  {
   "cell_type": "code",
   "execution_count": null,
   "metadata": {},
   "outputs": [],
   "source": [
    "%time xiHG0=kappa_xi0.xi_tomo()\n",
    "%time xiH0=xiHG0['stack'].compute()"
   ]
  },
  {
   "cell_type": "code",
   "execution_count": null,
   "metadata": {
    "scrolled": false
   },
   "outputs": [],
   "source": [
    "kappa_xib=Skylens(zs_bins=zs_bin1,do_cov=do_cov,bin_cl=bin_cl,l_bins=l_bins,l=l0, zg_bins=None,\n",
    "                                       use_window=use_window,Tri_cov=Tri_cov,\n",
    "                                       wigner_files=wigner_files,\n",
    "                                       SSV_cov=SSV_cov,tidal_SSV_cov=tidal_SSV_cov,f_sky=0.35,\n",
    "                                       store_win=store_win,window_lmax=window_lmax,\n",
    "                                      do_xi=do_xi,bin_xi=bin_xi,theta_bins=th_bins,WT=WT,\n",
    "                                      use_binned_l=use_binned_l,use_binned_theta=use_binned_theta\n",
    "                                       )"
   ]
  },
  {
   "cell_type": "code",
   "execution_count": null,
   "metadata": {},
   "outputs": [],
   "source": [
    "%time xiHG_b=kappa_xib.xi_tomo()"
   ]
  },
  {
   "cell_type": "code",
   "execution_count": null,
   "metadata": {},
   "outputs": [],
   "source": [
    "%time xiH_b=xiHG_b['stack'].compute()"
   ]
  },
  {
   "cell_type": "code",
   "execution_count": null,
   "metadata": {},
   "outputs": [],
   "source": [
    "kappa_xi0.WT.wig_d.keys(),WT.wig_d.keys()"
   ]
  },
  {
   "cell_type": "code",
   "execution_count": null,
   "metadata": {},
   "outputs": [],
   "source": [
    "%time xiHG0=kappa_xi0.xi_tomo()\n",
    "%time xiH0=xiHG0['stack'].compute()"
   ]
  },
  {
   "cell_type": "code",
   "execution_count": null,
   "metadata": {},
   "outputs": [],
   "source": [
    "xiH0['xi']"
   ]
  },
  {
   "cell_type": "code",
   "execution_count": null,
   "metadata": {},
   "outputs": [],
   "source": [
    "xiH_b['xi']"
   ]
  },
  {
   "cell_type": "code",
   "execution_count": null,
   "metadata": {},
   "outputs": [],
   "source": []
  },
  {
   "cell_type": "code",
   "execution_count": null,
   "metadata": {},
   "outputs": [],
   "source": [
    "\n",
    "\n"
   ]
  }
 ],
 "metadata": {
  "hide_input": false,
  "kernelspec": {
   "display_name": "conda",
   "language": "python",
   "name": "conda"
  },
  "language_info": {
   "codemirror_mode": {
    "name": "ipython",
    "version": 3
   },
   "file_extension": ".py",
   "mimetype": "text/x-python",
   "name": "python",
   "nbconvert_exporter": "python",
   "pygments_lexer": "ipython3",
   "version": "3.8.2"
  }
 },
 "nbformat": 4,
 "nbformat_minor": 2
}
