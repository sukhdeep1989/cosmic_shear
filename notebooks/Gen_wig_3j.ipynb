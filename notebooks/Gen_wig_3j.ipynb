{
 "cells": [
  {
   "cell_type": "code",
   "execution_count": 56,
   "metadata": {},
   "outputs": [],
   "source": [
    "from wigner_functions import *\n",
    "import h5py\n",
    "from scipy.sparse import *\n",
    "import zarr"
   ]
  },
  {
   "cell_type": "code",
   "execution_count": 57,
   "metadata": {},
   "outputs": [],
   "source": [
    "import time"
   ]
  },
  {
   "cell_type": "code",
   "execution_count": 58,
   "metadata": {},
   "outputs": [],
   "source": [
    "lmax=3000 #1e4\n",
    "wlmax=5e2\n",
    "lmax=np.int(lmax+1)\n",
    "wlmax=np.int(wlmax+1)"
   ]
  },
  {
   "cell_type": "code",
   "execution_count": 59,
   "metadata": {},
   "outputs": [],
   "source": [
    "ncpu=8\n",
    "l_step=10 #not used with dask\n",
    "w_l=np.arange(wlmax+1)\n",
    "l=np.arange(lmax+1)"
   ]
  },
  {
   "cell_type": "code",
   "execution_count": 60,
   "metadata": {},
   "outputs": [
    {
     "name": "stdout",
     "output_type": "stream",
     "text": [
      "Object `LocalCluster` not found.\n"
     ]
    }
   ],
   "source": [
    "??LocalCluster"
   ]
  },
  {
   "cell_type": "code",
   "execution_count": 72,
   "metadata": {},
   "outputs": [],
   "source": [
    "import dask\n",
    "import dask.array as da\n",
    "from dask import delayed\n",
    "\n",
    "from distributed import LocalCluster\n",
    "from dask.distributed import Client  # we already had this above\n",
    "#http://distributed.readthedocs.io/en/latest/_modules/distributed/worker.html\n",
    "LC=LocalCluster(n_workers=1,processes=False,memory_limit='10gb',threads_per_worker=8,memory_spill_fraction=.99,\n",
    "               memory_monitor_interval='2000ms',scheduler_port=12234,diagnostics_port=8800)#dashboard_address='localhost:8787')\n",
    "client=Client(LC,asynchronous=False)"
   ]
  },
  {
   "cell_type": "raw",
   "metadata": {},
   "source": [
    "client"
   ]
  },
  {
   "cell_type": "raw",
   "metadata": {},
   "source": [
    "dask.config.set(scheduler='synchronous')  # overwrite default with single-threaded scheduler\n"
   ]
  },
  {
   "cell_type": "code",
   "execution_count": 61,
   "metadata": {},
   "outputs": [],
   "source": [
    "def wigner_3j_asym(j_1,j_2,j_3,m_1,m_2,m_3): #assume j1,j2>>j3.... wiki\n",
    "    sj=(j_1+j_2+1)\n",
    "    th=np.arccos((m_1-m_2)/sj)\n",
    "    wd=wigner_d(m_3,j_2-j_1,np.atleast_1d(th),j_3)[0,0]\n",
    "    print(wd)\n",
    "    return ((-1)**(j_2+m_2))*wd/np.sqrt(sj)"
   ]
  },
  {
   "cell_type": "code",
   "execution_count": 62,
   "metadata": {},
   "outputs": [],
   "source": [
    "def wigner_3j_asym_H(j_1,j_2,j_3,m_1,m_2,m_3): #j1+j2+j3>>1, m1=m2=m3=0.. Hivon\n",
    "    wj=2*(j1*j2)**2\n",
    "    wj+=2*(j2*j3)**2\n",
    "    wj+=2*(j1*j3)**2\n",
    "    wj-=j1**4+j2**4+j3**4\n",
    "    wj=wj**(-0.5)\n",
    "    wj*=2./np.pi\n",
    "    return np.sqrt(wj)*(-1)**((j_1+j_2+j_3)/2)\n",
    "\n",
    "def wigner_3j_asym_H2(j_1,j_2,j_3,m_1,m_2,m_3): #j1+j2+j3>>1, m1=m2=m3=0.. Hivon\n",
    "    J=j_1+j_2+j_3\n",
    "    logwj=log_factorial(J/2)\n",
    "    logwj-=log_factorial(J/2-j_1)\n",
    "    logwj-=log_factorial(J/2-j_2)\n",
    "    logwj-=log_factorial(J/2-j_3)\n",
    "    logwj-=0.5*log_factorial(J+1)\n",
    "    logwj+=0.5*log_factorial(J-2*j_1)\n",
    "    logwj+=0.5*log_factorial(J-2*j_2)\n",
    "    logwj+=0.5*log_factorial(J-2*j_3)\n",
    "    return (-1)**(J/2)*np.exp(logwj)"
   ]
  },
  {
   "cell_type": "code",
   "execution_count": 63,
   "metadata": {},
   "outputs": [],
   "source": [
    "def wig3j_map(m1,m2,m3,j1,j2,j3,asym_fact=np.inf):\n",
    "#     n1=len(l)\n",
    "#     n2=len(l)\n",
    "#     n3=len(j3)\n",
    "\n",
    "#     c=np.array(list(Comb(l,l,j3)))\n",
    "# #     print(c.shape)\n",
    "#     j_max=np.amax(l.max()+l.max()+l.max()+1)\n",
    "#     _calc_factlist(j_max)\n",
    "#     d_mat=client.gather(client.map(partial(wigner_3j_3, m_1, m_2, m_3),c))\n",
    "#     d_mat=np.array(d_mat).reshape(n1,n2,n3)\n",
    "    print('w3j_map doing ',np.atleast_1d(j3)[0])\n",
    "    xx=Wigner3j_parallel( m1, m2, m3,np.atleast_1d(j1), np.atleast_1d(j2) ,np.atleast_1d(j3),ncpu=1,\n",
    "                             asym_fact=asym_fact)\n",
    "\n",
    "    return xx\n",
    "\n",
    "\n",
    "# dst=client.map(wig3j_map,w_l)"
   ]
  },
  {
   "cell_type": "code",
   "execution_count": 64,
   "metadata": {},
   "outputs": [],
   "source": [
    "def Wigner3j_parallel2( m_1, m_2, m_3,j_1, j_2, j_3,ncpu=None,asym_fact=np.inf):\n",
    "    if ncpu is None:\n",
    "        ncpu=cpu_count()-2\n",
    "    p=Pool(ncpu)\n",
    "\n",
    "    j_max=np.amax(j_1.max()+j_2.max()+j_3.max()+1)\n",
    "#     _calc_factlist(j_max)\n",
    "\n",
    "    n1=len(j_1)\n",
    "    n2=len(j_2)\n",
    "    n3=len(j_3)\n",
    "\n",
    "    c=np.array(np.meshgrid(j_1,j_2,j_3,indexing='ij')).T.reshape(-1,3) #only needed to put cuts below. Otherwise Comb is better\n",
    "\n",
    "    x=c[:,0]+c[:,1]-c[:,2]>=0\n",
    "    x*=c[:,0]-c[:,1]+c[:,2]>=0\n",
    "    x*=-c[:,0]+c[:,1]+c[:,2]>=0\n",
    "    \n",
    "    x*=abs(m_1) <= c[:,0]\n",
    "    x*=abs(m_2) <= c[:,1]\n",
    "    x*=abs(m_3) <= c[:,2]\n",
    "    \n",
    "    if m_1==0 and m_2==0 and m_3==0:\n",
    "        x*=(c[:,0]+c[:,1]+c[:,2])%2==0\n",
    "\n",
    "    c=c[x]\n",
    "    \n",
    "    \n",
    "    d_mat=p.map(partial(wigner_3j_3,asym_fact, m_1, m_2, m_3),c,chunksize=100)\n",
    "    p.close()\n",
    "    \n",
    "    dd=np.zeros((n1,n2,n3))\n",
    "    indx1=np.searchsorted(j_1,c[:,0])\n",
    "    indx2=np.searchsorted(j_2,c[:,1])\n",
    "    indx3=np.searchsorted(j_3,c[:,2])\n",
    "    dd[indx1,indx2,indx3]=d_mat\n",
    "    \n",
    "    return dd"
   ]
  },
  {
   "cell_type": "raw",
   "metadata": {},
   "source": [
    "j1=25\n",
    "j2=25\n",
    "j3=2\n",
    "m1=0\n",
    "m2=0\n",
    "m3=0\n",
    "%time x=np.float32(wigner_3j(j1,j2,j3,m1,m2,m3))#.evalf()\n",
    "%time x2=wigner_3j_000(j1,j2,j3,m1,m2,m3)\n",
    "# %time x3=wigner_3j_asym(j1,j2,j3,m1,m2,m3)\n",
    "%time x4=wigner_3j_3(np.inf,m1,m2,m3,[j1,j2,j3])\n",
    "\n",
    "x,np.real(x2),x4,x/x2,np.isclose(x,x2)"
   ]
  },
  {
   "cell_type": "raw",
   "metadata": {},
   "source": [
    "c=np.array(list(Comb(l,l,w_l)))\n",
    "x=c[:,0]<=c[:,1]+c[:,2]\n",
    "x*=c[:,1]<=c[:,0]+c[:,2]\n",
    "x*=c[:,2]<=c[:,1]+c[:,0]\n",
    "x.mean()"
   ]
  },
  {
   "cell_type": "raw",
   "metadata": {},
   "source": [
    "%time c=np.array(np.meshgrid(l,l,w_l,indexing='ij')).T.reshape(-1,3)\n",
    "# x=c[:,0]<=c[:,1]+c[:,2]\n",
    "# x*=c[:,1]<=c[:,0]+c[:,2]\n",
    "# x*=c[:,2]<=c[:,1]+c[:,0]\n",
    "# p=Pool(ncpu)\n",
    "# dd=np.zeros((100,100,30))\n",
    "# %time d_mat=p.map(partial(wigner_3j_3, m1, m2, m3),c[x],chunksize=100) #reshape(100,100,30)\n",
    "\n",
    "# indx1=np.searchsorted(l,c[x][:,0])\n",
    "# indx2=np.searchsorted(l,c[x][:,1])\n",
    "# indx3=np.searchsorted(w_l,c[x][:,2])\n",
    "# dd[indx1,indx2,indx3]=d_mat\n",
    "\n",
    "%time c=Comb(l,l,w_l)\n",
    "%time d_mat0=np.array(p.map(partial(wigner_3j_3, m1, m2, m3),c,chunksize=10)) #reshape(100,100,30)\n",
    "d_mat0=d_mat0.reshape(100,100,30)\n",
    "\n",
    "x=np.isclose(dd,d_mat0)\n",
    "x.mean()"
   ]
  },
  {
   "cell_type": "raw",
   "metadata": {},
   "source": [
    "yy=Wigner3j_parallel( m1, m2, m3,l, l, np.atleast_1d(w_l[1]),)"
   ]
  },
  {
   "cell_type": "code",
   "execution_count": 65,
   "metadata": {},
   "outputs": [],
   "source": [
    "asym_fact=100"
   ]
  },
  {
   "cell_type": "code",
   "execution_count": 66,
   "metadata": {},
   "outputs": [],
   "source": [
    "# if lmax>500:\n",
    "#     fname='temp/dask_wig3j_big_{i}.zarr'\n",
    "# else:\n",
    "#     fname='temp/dask_wig3j_test_{i}.zarr'\n",
    "fname='temp/dask_wig3j_l{lmax}_w{wlmax}_{i}.zarr'\n",
    "if asym_fact is not np.inf:\n",
    "    fname='temp/dask_wig3j_l{lmax}_w{wlmax}_{i}_asym'+str(asym_fact)+'.zarr'"
   ]
  },
  {
   "cell_type": "code",
   "execution_count": 67,
   "metadata": {},
   "outputs": [
    {
     "data": {
      "text/plain": [
       "('temp/dask_wig3j_l{lmax}_w{wlmax}_{i}_asym100.zarr', 3001, 501)"
      ]
     },
     "execution_count": 67,
     "metadata": {},
     "output_type": "execute_result"
    }
   ],
   "source": [
    "fname,lmax,wlmax"
   ]
  },
  {
   "cell_type": "raw",
   "metadata": {},
   "source": [
    "%time d=np.array(wig3j_map(m1,m2,m3,l,l,10))\n",
    "%time d2=Wigner3j_parallel2( m1, m2, m3,np.atleast_1d(l), np.atleast_1d(l) ,np.atleast_1d(10),ncpu=2)[:,:,0]\n",
    "x=np.isclose(d,d2)\n",
    "x.mean()"
   ]
  },
  {
   "cell_type": "raw",
   "metadata": {},
   "source": [
    "d2[~x],np.where(~x)"
   ]
  },
  {
   "cell_type": "code",
   "execution_count": 75,
   "metadata": {},
   "outputs": [
    {
     "data": {
      "text/plain": [
       "(array([   0,  100,  200,  300,  400,  500,  600,  700,  800,  900, 1000,\n",
       "        1100, 1200, 1300, 1400, 1500, 1600, 1700, 1800, 1900, 2000, 2100,\n",
       "        2200, 2300, 2400, 2500, 2600, 2700, 2800, 2900, 3001]), (31,))"
      ]
     },
     "execution_count": 75,
     "metadata": {},
     "output_type": "execute_result"
    }
   ],
   "source": [
    "step=100#np.int(min(5e3,lmax/10))\n",
    "lb=np.arange(lmax+1,step=step)\n",
    "lb[-1]=lmax\n",
    "# lb=np.sort(np.unique(np.append([0,100,lmax],np.arange(100,lmax,step))))\n",
    "lb,lb.shape"
   ]
  },
  {
   "cell_type": "code",
   "execution_count": 68,
   "metadata": {},
   "outputs": [
    {
     "data": {
      "text/plain": [
       "array([ 0, 10, 20, 30, 40, 50])"
      ]
     },
     "execution_count": 68,
     "metadata": {},
     "output_type": "execute_result"
    }
   ],
   "source": [
    "j3_b=np.arange(0,50+1,step=10)\n",
    "j3_b[-1]=50\n",
    "j3_b"
   ]
  },
  {
   "cell_type": "code",
   "execution_count": 76,
   "metadata": {},
   "outputs": [
    {
     "data": {
      "text/plain": [
       "array([  0,   1,   2,   3,   4,   5,   6,   7,   8,   9,  10,  11,  12,\n",
       "        13,  14,  15,  16,  17,  18,  19,  20,  21,  22,  23,  24,  25,\n",
       "        26,  27,  28,  29,  30,  31,  32,  33,  34,  35,  36,  37,  38,\n",
       "        39,  40,  41,  42,  43,  44,  45,  46,  47,  48,  49,  50,  51,\n",
       "        52,  53,  54,  55,  56,  57,  58,  59,  60,  61,  62,  63,  64,\n",
       "        65,  66,  67,  68,  69,  70,  71,  72,  73,  74,  75,  76,  77,\n",
       "        78,  79,  80,  81,  82,  83,  84,  85,  86,  87,  88,  89,  90,\n",
       "        91,  92,  93,  94,  95,  96,  97,  98,  99, 100, 101, 102, 103,\n",
       "       104, 105, 106, 107, 108, 109, 110, 111, 112, 113, 114, 115, 116,\n",
       "       117, 118, 119, 120, 121, 122, 123, 124, 125, 126, 127, 128, 129,\n",
       "       130, 131, 132, 133, 134, 135, 136, 137, 138, 139, 140, 141, 142,\n",
       "       143, 144, 145, 146, 147, 148, 149, 150, 151, 152, 153, 154, 155,\n",
       "       156, 157, 158, 159, 160, 161, 162, 163, 164, 165, 166, 167, 168,\n",
       "       169, 170, 171, 172, 173, 174, 175, 176, 177, 178, 179, 180, 181,\n",
       "       182, 183, 184, 185, 186, 187, 188, 189, 190, 191, 192, 193, 194,\n",
       "       195, 196, 197, 198, 199, 200, 201, 202, 203, 204, 205, 206, 207,\n",
       "       208, 209, 210, 211, 212, 213, 214, 215, 216, 217, 218, 219, 220,\n",
       "       221, 222, 223, 224, 225, 226, 227, 228, 229, 230, 231, 232, 233,\n",
       "       234, 235, 236, 237, 238, 239, 240, 241, 242, 243, 244, 245, 246,\n",
       "       247, 248, 249, 250, 251, 252, 253, 254, 255, 256, 257, 258, 259,\n",
       "       260, 261, 262, 263, 264, 265, 266, 267, 268, 269, 270, 271, 272,\n",
       "       273, 274, 275, 276, 277, 278, 279, 280, 281, 282, 283, 284, 285,\n",
       "       286, 287, 288, 289, 290, 291, 292, 293, 294, 295, 296, 297, 298,\n",
       "       299, 300, 301, 302, 303, 304, 305, 306, 307, 308, 309, 310, 311,\n",
       "       312, 313, 314, 315, 316, 317, 318, 319, 320, 321, 322, 323, 324,\n",
       "       325, 326, 327, 328, 329, 330, 331, 332, 333, 334, 335, 336, 337,\n",
       "       338, 339, 340, 341, 342, 343, 344, 345, 346, 347, 348, 349, 350,\n",
       "       351, 352, 353, 354, 355, 356, 357, 358, 359, 360, 361, 362, 363,\n",
       "       364, 365, 366, 367, 368, 369, 370, 371, 372, 373, 374, 375, 376,\n",
       "       377, 378, 379, 380, 381, 382, 383, 384, 385, 386, 387, 388, 389,\n",
       "       390, 391, 392, 393, 394, 395, 396, 397, 398, 399, 400, 401, 402,\n",
       "       403, 404, 405, 406, 407, 408, 409, 410, 411, 412, 413, 414, 415,\n",
       "       416, 417, 418, 419, 420, 421, 422, 423, 424, 425, 426, 427, 428,\n",
       "       429, 430, 431, 432, 433, 434, 435, 436, 437, 438, 439, 440, 441,\n",
       "       442, 443, 444, 445, 446, 447, 448, 449, 450, 451, 452, 453, 454,\n",
       "       455, 456, 457, 458, 459, 460, 461, 462, 463, 464, 465, 466, 467,\n",
       "       468, 469, 470, 471, 472, 473, 474, 475, 476, 477, 478, 479, 480,\n",
       "       481, 482, 483, 484, 485, 486, 487, 488, 489, 490, 491, 492, 493,\n",
       "       494, 495, 496, 497, 498, 499, 500, 501])"
      ]
     },
     "execution_count": 76,
     "metadata": {},
     "output_type": "execute_result"
    }
   ],
   "source": [
    "w_l"
   ]
  },
  {
   "cell_type": "code",
   "execution_count": 77,
   "metadata": {},
   "outputs": [
    {
     "ename": "KeyboardInterrupt",
     "evalue": "",
     "output_type": "error",
     "traceback": [
      "\u001b[0;31m---------------------------------------------------------------------------\u001b[0m",
      "\u001b[0;31mKeyboardInterrupt\u001b[0m                         Traceback (most recent call last)",
      "\u001b[0;32m<timed eval>\u001b[0m in \u001b[0;36m<module>\u001b[0;34m\u001b[0m\n",
      "\u001b[0;32m/usr/lib/python3.7/site-packages/dask/array/core.py\u001b[0m in \u001b[0;36mto_zarr\u001b[0;34m(self, *args, **kwargs)\u001b[0m\n\u001b[1;32m   2226\u001b[0m         \u001b[0mSee\u001b[0m \u001b[0mfunction\u001b[0m\u001b[0;31m \u001b[0m\u001b[0;31m`\u001b[0m\u001b[0;31m`\u001b[0m\u001b[0mto_zarr\u001b[0m\u001b[0;34m(\u001b[0m\u001b[0;34m)\u001b[0m\u001b[0;31m`\u001b[0m\u001b[0;31m`\u001b[0m \u001b[0;32mfor\u001b[0m \u001b[0mparameters\u001b[0m\u001b[0;34m.\u001b[0m\u001b[0;34m\u001b[0m\u001b[0;34m\u001b[0m\u001b[0m\n\u001b[1;32m   2227\u001b[0m         \"\"\"\n\u001b[0;32m-> 2228\u001b[0;31m         \u001b[0;32mreturn\u001b[0m \u001b[0mto_zarr\u001b[0m\u001b[0;34m(\u001b[0m\u001b[0mself\u001b[0m\u001b[0;34m,\u001b[0m \u001b[0;34m*\u001b[0m\u001b[0margs\u001b[0m\u001b[0;34m,\u001b[0m \u001b[0;34m**\u001b[0m\u001b[0mkwargs\u001b[0m\u001b[0;34m)\u001b[0m\u001b[0;34m\u001b[0m\u001b[0;34m\u001b[0m\u001b[0m\n\u001b[0m\u001b[1;32m   2229\u001b[0m \u001b[0;34m\u001b[0m\u001b[0m\n\u001b[1;32m   2230\u001b[0m     \u001b[0;32mdef\u001b[0m \u001b[0mto_tiledb\u001b[0m\u001b[0;34m(\u001b[0m\u001b[0mself\u001b[0m\u001b[0;34m,\u001b[0m \u001b[0muri\u001b[0m\u001b[0;34m,\u001b[0m \u001b[0;34m*\u001b[0m\u001b[0margs\u001b[0m\u001b[0;34m,\u001b[0m \u001b[0;34m**\u001b[0m\u001b[0mkwargs\u001b[0m\u001b[0;34m)\u001b[0m\u001b[0;34m:\u001b[0m\u001b[0;34m\u001b[0m\u001b[0;34m\u001b[0m\u001b[0m\n",
      "\u001b[0;32m/usr/lib/python3.7/site-packages/dask/array/core.py\u001b[0m in \u001b[0;36mto_zarr\u001b[0;34m(arr, url, component, storage_options, overwrite, compute, return_stored, **kwargs)\u001b[0m\n\u001b[1;32m   2808\u001b[0m         \u001b[0;34m**\u001b[0m\u001b[0mkwargs\u001b[0m\u001b[0;34m\u001b[0m\u001b[0;34m\u001b[0m\u001b[0m\n\u001b[1;32m   2809\u001b[0m     )\n\u001b[0;32m-> 2810\u001b[0;31m     \u001b[0;32mreturn\u001b[0m \u001b[0marr\u001b[0m\u001b[0;34m.\u001b[0m\u001b[0mstore\u001b[0m\u001b[0;34m(\u001b[0m\u001b[0mz\u001b[0m\u001b[0;34m,\u001b[0m \u001b[0mlock\u001b[0m\u001b[0;34m=\u001b[0m\u001b[0;32mFalse\u001b[0m\u001b[0;34m,\u001b[0m \u001b[0mcompute\u001b[0m\u001b[0;34m=\u001b[0m\u001b[0mcompute\u001b[0m\u001b[0;34m,\u001b[0m \u001b[0mreturn_stored\u001b[0m\u001b[0;34m=\u001b[0m\u001b[0mreturn_stored\u001b[0m\u001b[0;34m)\u001b[0m\u001b[0;34m\u001b[0m\u001b[0;34m\u001b[0m\u001b[0m\n\u001b[0m\u001b[1;32m   2811\u001b[0m \u001b[0;34m\u001b[0m\u001b[0m\n\u001b[1;32m   2812\u001b[0m \u001b[0;34m\u001b[0m\u001b[0m\n",
      "\u001b[0;32m/usr/lib/python3.7/site-packages/dask/array/core.py\u001b[0m in \u001b[0;36mstore\u001b[0;34m(self, target, **kwargs)\u001b[0m\n\u001b[1;32m   1292\u001b[0m     \u001b[0;34m@\u001b[0m\u001b[0mwraps\u001b[0m\u001b[0;34m(\u001b[0m\u001b[0mstore\u001b[0m\u001b[0;34m)\u001b[0m\u001b[0;34m\u001b[0m\u001b[0;34m\u001b[0m\u001b[0m\n\u001b[1;32m   1293\u001b[0m     \u001b[0;32mdef\u001b[0m \u001b[0mstore\u001b[0m\u001b[0;34m(\u001b[0m\u001b[0mself\u001b[0m\u001b[0;34m,\u001b[0m \u001b[0mtarget\u001b[0m\u001b[0;34m,\u001b[0m \u001b[0;34m**\u001b[0m\u001b[0mkwargs\u001b[0m\u001b[0;34m)\u001b[0m\u001b[0;34m:\u001b[0m\u001b[0;34m\u001b[0m\u001b[0;34m\u001b[0m\u001b[0m\n\u001b[0;32m-> 1294\u001b[0;31m         \u001b[0mr\u001b[0m \u001b[0;34m=\u001b[0m \u001b[0mstore\u001b[0m\u001b[0;34m(\u001b[0m\u001b[0;34m[\u001b[0m\u001b[0mself\u001b[0m\u001b[0;34m]\u001b[0m\u001b[0;34m,\u001b[0m \u001b[0;34m[\u001b[0m\u001b[0mtarget\u001b[0m\u001b[0;34m]\u001b[0m\u001b[0;34m,\u001b[0m \u001b[0;34m**\u001b[0m\u001b[0mkwargs\u001b[0m\u001b[0;34m)\u001b[0m\u001b[0;34m\u001b[0m\u001b[0;34m\u001b[0m\u001b[0m\n\u001b[0m\u001b[1;32m   1295\u001b[0m \u001b[0;34m\u001b[0m\u001b[0m\n\u001b[1;32m   1296\u001b[0m         \u001b[0;32mif\u001b[0m \u001b[0mkwargs\u001b[0m\u001b[0;34m.\u001b[0m\u001b[0mget\u001b[0m\u001b[0;34m(\u001b[0m\u001b[0;34m\"return_stored\"\u001b[0m\u001b[0;34m,\u001b[0m \u001b[0;32mFalse\u001b[0m\u001b[0;34m)\u001b[0m\u001b[0;34m:\u001b[0m\u001b[0;34m\u001b[0m\u001b[0;34m\u001b[0m\u001b[0m\n",
      "\u001b[0;32m/usr/lib/python3.7/site-packages/dask/array/core.py\u001b[0m in \u001b[0;36mstore\u001b[0;34m(sources, targets, lock, regions, compute, return_stored, **kwargs)\u001b[0m\n\u001b[1;32m    851\u001b[0m     \u001b[0msources_dsk\u001b[0m \u001b[0;34m=\u001b[0m \u001b[0mHighLevelGraph\u001b[0m\u001b[0;34m.\u001b[0m\u001b[0mmerge\u001b[0m\u001b[0;34m(\u001b[0m\u001b[0;34m*\u001b[0m\u001b[0;34m[\u001b[0m\u001b[0me\u001b[0m\u001b[0;34m.\u001b[0m\u001b[0m__dask_graph__\u001b[0m\u001b[0;34m(\u001b[0m\u001b[0;34m)\u001b[0m \u001b[0;32mfor\u001b[0m \u001b[0me\u001b[0m \u001b[0;32min\u001b[0m \u001b[0msources\u001b[0m\u001b[0;34m]\u001b[0m\u001b[0;34m)\u001b[0m\u001b[0;34m\u001b[0m\u001b[0;34m\u001b[0m\u001b[0m\n\u001b[1;32m    852\u001b[0m     sources_dsk = Array.__dask_optimize__(\n\u001b[0;32m--> 853\u001b[0;31m         \u001b[0msources_dsk\u001b[0m\u001b[0;34m,\u001b[0m \u001b[0mlist\u001b[0m\u001b[0;34m(\u001b[0m\u001b[0mcore\u001b[0m\u001b[0;34m.\u001b[0m\u001b[0mflatten\u001b[0m\u001b[0;34m(\u001b[0m\u001b[0;34m[\u001b[0m\u001b[0me\u001b[0m\u001b[0;34m.\u001b[0m\u001b[0m__dask_keys__\u001b[0m\u001b[0;34m(\u001b[0m\u001b[0;34m)\u001b[0m \u001b[0;32mfor\u001b[0m \u001b[0me\u001b[0m \u001b[0;32min\u001b[0m \u001b[0msources\u001b[0m\u001b[0;34m]\u001b[0m\u001b[0;34m)\u001b[0m\u001b[0;34m)\u001b[0m\u001b[0;34m\u001b[0m\u001b[0;34m\u001b[0m\u001b[0m\n\u001b[0m\u001b[1;32m    854\u001b[0m     )\n\u001b[1;32m    855\u001b[0m     \u001b[0msources2\u001b[0m \u001b[0;34m=\u001b[0m \u001b[0;34m[\u001b[0m\u001b[0mArray\u001b[0m\u001b[0;34m(\u001b[0m\u001b[0msources_dsk\u001b[0m\u001b[0;34m,\u001b[0m \u001b[0me\u001b[0m\u001b[0;34m.\u001b[0m\u001b[0mname\u001b[0m\u001b[0;34m,\u001b[0m \u001b[0me\u001b[0m\u001b[0;34m.\u001b[0m\u001b[0mchunks\u001b[0m\u001b[0;34m,\u001b[0m \u001b[0mmeta\u001b[0m\u001b[0;34m=\u001b[0m\u001b[0me\u001b[0m\u001b[0;34m)\u001b[0m \u001b[0;32mfor\u001b[0m \u001b[0me\u001b[0m \u001b[0;32min\u001b[0m \u001b[0msources\u001b[0m\u001b[0;34m]\u001b[0m\u001b[0;34m\u001b[0m\u001b[0;34m\u001b[0m\u001b[0m\n",
      "\u001b[0;32m/usr/lib/python3.7/site-packages/dask/array/optimization.py\u001b[0m in \u001b[0;36moptimize\u001b[0;34m(dsk, keys, fuse_keys, fast_functions, inline_functions_fast_functions, rename_fused_keys, **kwargs)\u001b[0m\n\u001b[1;32m     56\u001b[0m         \u001b[0mhold\u001b[0m \u001b[0;34m+\u001b[0m \u001b[0mkeys\u001b[0m \u001b[0;34m+\u001b[0m \u001b[0;34m(\u001b[0m\u001b[0mfuse_keys\u001b[0m \u001b[0;32mor\u001b[0m \u001b[0;34m[\u001b[0m\u001b[0;34m]\u001b[0m\u001b[0;34m)\u001b[0m\u001b[0;34m,\u001b[0m\u001b[0;34m\u001b[0m\u001b[0;34m\u001b[0m\u001b[0m\n\u001b[1;32m     57\u001b[0m         \u001b[0mdependencies\u001b[0m\u001b[0;34m,\u001b[0m\u001b[0;34m\u001b[0m\u001b[0;34m\u001b[0m\u001b[0m\n\u001b[0;32m---> 58\u001b[0;31m         \u001b[0mrename_keys\u001b[0m\u001b[0;34m=\u001b[0m\u001b[0mrename_fused_keys\u001b[0m\u001b[0;34m,\u001b[0m\u001b[0;34m\u001b[0m\u001b[0;34m\u001b[0m\u001b[0m\n\u001b[0m\u001b[1;32m     59\u001b[0m     )\n\u001b[1;32m     60\u001b[0m     \u001b[0;32mif\u001b[0m \u001b[0minline_functions_fast_functions\u001b[0m\u001b[0;34m:\u001b[0m\u001b[0;34m\u001b[0m\u001b[0;34m\u001b[0m\u001b[0m\n",
      "\u001b[0;32m/usr/lib/python3.7/site-packages/dask/optimization.py\u001b[0m in \u001b[0;36mfuse\u001b[0;34m(dsk, keys, dependencies, ave_width, max_width, max_height, max_depth_new_edges, rename_keys, fuse_subgraphs)\u001b[0m\n\u001b[1;32m    635\u001b[0m             \u001b[0;32mif\u001b[0m \u001b[0mchild\u001b[0m \u001b[0;34m!=\u001b[0m \u001b[0mparent\u001b[0m\u001b[0;34m:\u001b[0m\u001b[0;34m\u001b[0m\u001b[0;34m\u001b[0m\u001b[0m\n\u001b[1;32m    636\u001b[0m                 \u001b[0mchildren\u001b[0m \u001b[0;34m=\u001b[0m \u001b[0mreducible\u001b[0m \u001b[0;34m&\u001b[0m \u001b[0mdeps\u001b[0m\u001b[0;34m[\u001b[0m\u001b[0mchild\u001b[0m\u001b[0;34m]\u001b[0m\u001b[0;34m\u001b[0m\u001b[0;34m\u001b[0m\u001b[0m\n\u001b[0;32m--> 637\u001b[0;31m                 \u001b[0;32mwhile\u001b[0m \u001b[0mchildren\u001b[0m\u001b[0;34m:\u001b[0m\u001b[0;34m\u001b[0m\u001b[0;34m\u001b[0m\u001b[0m\n\u001b[0m\u001b[1;32m    638\u001b[0m                     \u001b[0;31m# Depth-first search\u001b[0m\u001b[0;34m\u001b[0m\u001b[0;34m\u001b[0m\u001b[0;34m\u001b[0m\u001b[0m\n\u001b[1;32m    639\u001b[0m                     \u001b[0mchildren_stack_extend\u001b[0m\u001b[0;34m(\u001b[0m\u001b[0mchildren\u001b[0m\u001b[0;34m)\u001b[0m\u001b[0;34m\u001b[0m\u001b[0;34m\u001b[0m\u001b[0m\n",
      "\u001b[0;31mKeyboardInterrupt\u001b[0m: "
     ]
    }
   ],
   "source": [
    "m1=0\n",
    "m2=0\n",
    "m3=0\n",
    "# arrs=[da.from_delayed(delayed(wig3j_map)(m1,m2,m3,l,l,np.atleast_1d(j3),asym_fact),shape=(lmax,lmax),dtype='float32') for j3 in w_l]\n",
    "\n",
    "arrs=[da.hstack([da.vstack([da.from_delayed(delayed(wig3j_map)(m1,m2,m3,l[lb[i]:lb[i+1]],l[lb[k]:lb[k+1]],\n",
    "                                                               np.atleast_1d(j3),asym_fact),\n",
    "                    shape=(lb[i+1]-lb[i],lb[k+1]-lb[k]),dtype='float32') \n",
    "                    for i in np.arange(len(lb)-1)]) \n",
    "                     for k in np.arange(len(lb)-1)])\n",
    "                      for j3 in w_l]\n",
    "arrs2=da.stack(arrs)\n",
    "arrs2=arrs2.rechunk(chunks=(1,1000,1000))\n",
    "\n",
    "%time arrs2.to_zarr(fname.format(i=0,lmax=lmax,wlmax=wlmax), overwrite=True)"
   ]
  },
  {
   "cell_type": "raw",
   "metadata": {},
   "source": [
    "m1=-2\n",
    "m2=2\n",
    "m3=0\n",
    "\n",
    "\n",
    "arr={}\n",
    "for i in np.arange(len(lb)-1):\n",
    "    arr[i]={}\n",
    "    for k in np.arange(len(lb)-1):\n",
    "        arr[i][k]={}\n",
    "        for j3 in w_l:\n",
    "            arr[i][k][j3]=da.from_delayed(delayed(wig3j_map)(m1,m2,m3,l[lb[i]:lb[i+1]],l[lb[k]:lb[k+1]],\n",
    "                                                               np.atleast_1d(j3),asym_fact),\n",
    "                    shape=(lb[i+1]-lb[i],lb[k+1]-lb[k]),dtype='float32')\n",
    "            arr[i][k][j3]=client.compute(arr[i][k][j3])"
   ]
  },
  {
   "cell_type": "code",
   "execution_count": 14,
   "metadata": {},
   "outputs": [],
   "source": [
    "def A_J(j,j2,j3,m2,m3):\n",
    "    out=j**2-(j2-j3)**2\n",
    "    out*=(j2+j3+1)**2-j**2\n",
    "    out*=j**2-(m2+m3)**2\n",
    "    x=out<0\n",
    "    out[x]=0\n",
    "    return out**0.5\n",
    "\n",
    "def B_J(j,j2,j3,m2,m3):\n",
    "    out=(m2+m3)*(j2*(j2+1)-j3*(j3+1)+j*0)-(m2-m3)*j*(j+1)\n",
    "    out*=2*j+1\n",
    "    return out\n",
    "\n",
    "def X_Np1(j,j2,j3,m2,m3): #X_n+1\n",
    "    return j*A_J(j+1,j2,j3,m2,m3)\n",
    "\n",
    "def X_N(j,j2,j3,m2,m3): #X_n+1\n",
    "    return B_J(j,j2,j3,m2,m3)\n",
    "\n",
    "def X_Nm1(j,j2,j3,m2,m3): #X_n+1\n",
    "    return (j+1)*A_J(j,j2,j3,m2,m3)\n",
    "\n",
    "\n",
    "def wig3j_recur_vec(j1b,j2b,m1,m2,m3,j3_outmax,step,jmax,z1=None):\n",
    "#     assert m3==-m1-m2\n",
    "    j1=np.arange(j1b,j1b+step)\n",
    "    j1=j1[j1<=lmax]\n",
    "    j2=np.arange(j2b,j2b+step)\n",
    "    j2=j2[j2<=lmax]\n",
    "\n",
    "    j1=j1.reshape(len(j1),1,1)\n",
    "    j2=j2.reshape(1,len(j2),1)\n",
    "\n",
    "    j3_min=np.absolute(j1-j2)\n",
    "    j3_max=(j1+j2+1) #j3_max is j1+j2, +1 for 0 indexing\n",
    "    \n",
    "    nj3=np.amax(j3_max)\n",
    "    \n",
    "    j3=np.arange(nj3).reshape(1,1,nj3)\n",
    "    print(j3_outmax)\n",
    "    if j3_outmax is None:\n",
    "        j3_outmax=np.amax(j3)\n",
    "\n",
    "    wig_out=np.zeros((j1.shape[0],j2.shape[1],max(j3_outmax,np.amax(j3_max))),dtype='float32')\n",
    "    \n",
    "    for i1 in np.arange(j1.shape[0]):\n",
    "        for i2 in np.arange(j2.shape[1]):\n",
    "            wig_out[i1,i2,j3_min[i1,i2,0]]=np.float32(wigner_3j_2(j1[i1,0,0],j2[0,i2,0],j3_min[i1,i2,0],m1,m2,m3))\n",
    "            wig_out[i1,i2,j3_min[i1,i2,0]+1]=np.float32(wigner_3j_2(j1[i1,0,0],j2[0,i2,0],j3_min[i1,i2,0]+1,m1,m2,m3))\n",
    "\n",
    "    x_Np1=X_Np1(j3,j2,j1,m1,m2)*-1 #j==j3\n",
    "    x_N=X_N(j3,j2,j1,m1,m2) #j==j3\n",
    "    x_Nm1=X_Nm1(j3,j2,j1,m1,m2) #j==j3\n",
    "    \n",
    "    for i in np.arange(nj3-1):        \n",
    "        x=j3[0,0,i+1]>j3_min+1\n",
    "        x*=j3[0,0,i+1]<j3_max\n",
    "        x=x[:,:,0]\n",
    "        x*=x_Np1[:,:,i]!=0\n",
    "        A=(x_Nm1[:,:,i]*wig_out[:,:,j3[0,0,i-1]]+x_N[:,:,i]*wig_out[:,:,j3[0,0,i]])/x_Np1[:,:,i]\n",
    "        A[~x]=0\n",
    "#         A=np.nan_to_num(A)\n",
    "        wig_out[:,:,j3[0,0,i+1]]+=A\n",
    "#         print(wig_out)\n",
    "\n",
    "    #norm??\n",
    "#     wig_out=np.nan_to_num(wig_out)\n",
    "    \n",
    "    wig_out=wig_out[:,:,:j3_outmax]\n",
    "    if z1 is not None:\n",
    "        z1[np.amin(j1):np.amax(j1)+1,np.amin(j2):np.amax(j2)+1,:]+=wig_out\n",
    "        z1[np.amin(j2):np.amax(j2)+1,np.amin(j1):np.amax(j1)+1,:]+=wig_out.transpose(1,0,2)\n",
    "    else:\n",
    "        return wig_out"
   ]
  },
  {
   "cell_type": "raw",
   "metadata": {},
   "source": [
    "j1=np.atleast_1d([4]).reshape(1,1,1)\n",
    "j2=np.atleast_1d([5]).reshape(1,1,1)\n",
    "m1=2\n",
    "m2=-2\n",
    "m3=0\n",
    "j3_outmax=15\n",
    "%time oo=wig3j_recur_vec(j1,j2,m1,m2,m3,j3_outmax)\n",
    "%time oo4=wig3j_recur(j1[0,0,0],j2[0,0,0],m1,m2,m3,j3_outmax=j3_outmax)\n",
    "# %time oo5=wig3j_recur(j1[1,0,0],j2[0,1,0],m1,m2,m3,j3_outmax=j3_outmax)\n",
    "# %time oo45=wig3j_recur(j1[1,0,0],j2[0,0,0],m1,m2,m3,j3_outmax=j3_outmax)"
   ]
  },
  {
   "cell_type": "code",
   "execution_count": 15,
   "metadata": {},
   "outputs": [],
   "source": [
    "from multiprocessing import Pool\n",
    "def wig3j_recur_1d(j2s,m1,m2,m3,j3_outmax,j1):\n",
    "    out_ij={}\n",
    "    x=j2s<=j1\n",
    "    for j2 in j2s[x]:\n",
    "#         print('doing ',j1,j2)\n",
    "        out_ij[j2]=wig3j_recur(j1,j2,m1,m2,m3,j3_outmax=j3_outmax)\n",
    "#         print('done ',j1,j2)\n",
    "    return out_ij\n",
    "\n",
    "def wig3j_recur_2d(j1b,j2b,m1,m2,m3,j3_outmax,step,z1_out):\n",
    "    try:\n",
    "        out= np.zeros((min(step,lmax-j1b),min(step,lmax-j2b),j3_outmax))\n",
    "    except Exception as err:\n",
    "        print(err, step,lmax, j1b,j2b)\n",
    "        crash \n",
    "    j1s=np.arange(j1b,min(lmax,j1b+step))\n",
    "    j2s=np.arange(j2b,min(lmax,j2b+step))\n",
    "    out_ij={}\n",
    "    t1=time.time()\n",
    "    funct=partial(wig3j_recur_1d, j2s,m1,m2,m3,j3_outmax)\n",
    "    pool=Pool(10)\n",
    "    out_ij=pool.map(funct,j1s)\n",
    "    pool.close()\n",
    "#     for j1 in np.arange(len(j1s)):\n",
    "# #         out_ij[j1]=client.submit(wig3j_recur_1d,j1s[j1],j2s,m1,m2,m3,j3_outmax)\n",
    "#         out_ij[j1]=wig3j_recur_1d(j1s[j1],j2s,m1,m2,m3,j3_outmax)\n",
    "        \n",
    "    t2=time.time()\n",
    "    for j1 in np.arange(len(j1s)):\n",
    "        for j2 in np.arange(len(j2s)):\n",
    "            if j2s[j2]<=j1s[j1]:\n",
    "                out[j1,j2,:]=out_ij[j1][j2s[j2]]\n",
    "#                 z1[j1s[j1],j2s[j2],:]=out_ij[j1][j2s[j2]][0,0,:]\n",
    "#                 z1[j2s[j2],j1s[j1],:]=out_ij[j1][j2s[j2]][0,0,:]\n",
    "\n",
    "    t3=time.time()\n",
    "    z1[j1b:j1b+step,j2b:j2b+step,:]+=out\n",
    "    \n",
    "    for j1 in np.arange(len(j1s)):\n",
    "        for j2 in np.arange(len(j2s)):\n",
    "            if j2s[j2]==j1s[j1]:\n",
    "                out[j1,j2,:]*=0\n",
    "                \n",
    "    z1[j2b:j2b+step,j1b:j1b+step,:]+=out.transpose(1,0,2)\n",
    "#     z1[j1b:j1b+step,j2b:j2b+step,:]=out\n",
    "#     print('done all ',j1b,j2b,t3-t2)\n",
    "#     except Exception as err:\n",
    "#         print(err,out.shape,j1s.shape,j2s.shape,j1b,j2b,j2,j2s[j2],step,lmax)\n",
    "    return 0\n"
   ]
  },
  {
   "cell_type": "code",
   "execution_count": 16,
   "metadata": {},
   "outputs": [],
   "source": [
    "step=10\n",
    "lb=np.arange(lmax,step=step)\n",
    "lb[-1]=lmax"
   ]
  },
  {
   "cell_type": "code",
   "execution_count": 17,
   "metadata": {},
   "outputs": [
    {
     "name": "stderr",
     "output_type": "stream",
     "text": [
      "/usr/lib/python3.7/site-packages/zarr/creation.py:197: UserWarning: ignoring keyword argument 'overwrite'\n",
      "  warn('ignoring keyword argument %r' % k)\n"
     ]
    }
   ],
   "source": [
    "z2 = zarr.open(fname.format(i=str(2)+'j3m2',lmax=lmax,wlmax=wlmax), mode='w', shape=(lmax,lmax,wlmax),\n",
    "...                chunks=(lmax/10, lmax/10,wlmax/10),\n",
    "               dtype='float32',overwrite=True)"
   ]
  },
  {
   "cell_type": "code",
   "execution_count": 18,
   "metadata": {},
   "outputs": [
    {
     "data": {
      "text/plain": [
       "(201, 201, 51)"
      ]
     },
     "execution_count": 18,
     "metadata": {},
     "output_type": "execute_result"
    }
   ],
   "source": [
    "z2."
   ]
  },
  {
   "cell_type": "code",
   "execution_count": 19,
   "metadata": {},
   "outputs": [],
   "source": [
    "z1 = zarr.open(fname.format(i=str(2)+'j3m',lmax=lmax,wlmax=wlmax), mode='w', shape=(lmax,lmax,wlmax),\n",
    "...                chunks=(lmax/10, lmax/10,wlmax/10),\n",
    "               dtype='float32',overwrite=True)"
   ]
  },
  {
   "cell_type": "raw",
   "metadata": {},
   "source": [
    "client.restart()"
   ]
  },
  {
   "cell_type": "code",
   "execution_count": 21,
   "metadata": {},
   "outputs": [],
   "source": [
    "m1=2\n",
    "m2=-2\n",
    "m3=0\n",
    "\n"
   ]
  },
  {
   "cell_type": "code",
   "execution_count": 31,
   "metadata": {},
   "outputs": [
    {
     "name": "stdout",
     "output_type": "stream",
     "text": [
      "CPU times: user 9.54 ms, sys: 59.5 ms, total: 69 ms\n",
      "Wall time: 175 ms\n"
     ]
    }
   ],
   "source": [
    "lb1=100\n",
    "lb2=100\n",
    "%time oo2=wig3j_recur_2d(lb1,lb2,m1,m2,m3,wlmax,step,z1)\n",
    "oo2=z1[:10,:10,:19]"
   ]
  },
  {
   "cell_type": "code",
   "execution_count": 32,
   "metadata": {},
   "outputs": [
    {
     "data": {
      "text/plain": [
       "True"
      ]
     },
     "execution_count": 32,
     "metadata": {},
     "output_type": "execute_result"
    }
   ],
   "source": [
    "np.all(oo2==oo2.transpose(1,0,2))"
   ]
  },
  {
   "cell_type": "code",
   "execution_count": 33,
   "metadata": {},
   "outputs": [],
   "source": [
    "d=oo2-oo2.transpose(1,0,2)"
   ]
  },
  {
   "cell_type": "code",
   "execution_count": 34,
   "metadata": {},
   "outputs": [
    {
     "name": "stdout",
     "output_type": "stream",
     "text": [
      "51\n",
      "CPU times: user 371 ms, sys: 3.6 ms, total: 375 ms\n",
      "Wall time: 374 ms\n"
     ]
    },
    {
     "name": "stderr",
     "output_type": "stream",
     "text": [
      "/usr/lib/python3.7/site-packages/ipykernel_launcher.py:60: RuntimeWarning: invalid value encountered in true_divide\n",
      "/usr/lib/python3.7/site-packages/ipykernel_launcher.py:60: RuntimeWarning: divide by zero encountered in true_divide\n"
     ]
    }
   ],
   "source": [
    "%time oo=wig3j_recur_vec(lb1,lb2,m1,m2,m3,wlmax,step,lmax,z2)\n",
    "oo=z2[:10,:10,:19]\n",
    "# %time oo2=wig3j_recur(j1[0,0,0],j2[0,0,0],m1,m2,m3,j3_outmax=j3_outmax)"
   ]
  },
  {
   "cell_type": "code",
   "execution_count": 43,
   "metadata": {},
   "outputs": [
    {
     "name": "stderr",
     "output_type": "stream",
     "text": [
      "/usr/lib/python3.7/site-packages/ipykernel_launcher.py:1: DeprecationWarning: elementwise comparison failed; this will raise an error in the future.\n",
      "  \"\"\"Entry point for launching an IPython kernel.\n"
     ]
    },
    {
     "data": {
      "text/plain": [
       "False"
      ]
     },
     "execution_count": 43,
     "metadata": {},
     "output_type": "execute_result"
    }
   ],
   "source": [
    "np.all(oo==z1[:10,:10,:wlmax])"
   ]
  },
  {
   "cell_type": "code",
   "execution_count": 44,
   "metadata": {},
   "outputs": [
    {
     "ename": "ValueError",
     "evalue": "operands could not be broadcast together with shapes (10,10,19) (10,10,51) ",
     "output_type": "error",
     "traceback": [
      "\u001b[0;31m---------------------------------------------------------------------------\u001b[0m",
      "\u001b[0;31mValueError\u001b[0m                                Traceback (most recent call last)",
      "\u001b[0;32m<ipython-input-44-aba94623b17a>\u001b[0m in \u001b[0;36m<module>\u001b[0;34m\u001b[0m\n\u001b[0;32m----> 1\u001b[0;31m \u001b[0md\u001b[0m\u001b[0;34m=\u001b[0m\u001b[0moo\u001b[0m\u001b[0;34m-\u001b[0m\u001b[0mz1\u001b[0m\u001b[0;34m[\u001b[0m\u001b[0;34m:\u001b[0m\u001b[0;36m10\u001b[0m\u001b[0;34m,\u001b[0m\u001b[0;34m:\u001b[0m\u001b[0;36m10\u001b[0m\u001b[0;34m,\u001b[0m\u001b[0;34m:\u001b[0m\u001b[0mwlmax\u001b[0m\u001b[0;34m]\u001b[0m\u001b[0;34m\u001b[0m\u001b[0;34m\u001b[0m\u001b[0m\n\u001b[0m",
      "\u001b[0;31mValueError\u001b[0m: operands could not be broadcast together with shapes (10,10,19) (10,10,51) "
     ]
    }
   ],
   "source": [
    "d=oo-z1[:10,:10,:wlmax]"
   ]
  },
  {
   "cell_type": "code",
   "execution_count": 45,
   "metadata": {},
   "outputs": [
    {
     "data": {
      "text/plain": [
       "(0.0, 0.0)"
      ]
     },
     "execution_count": 45,
     "metadata": {},
     "output_type": "execute_result"
    }
   ],
   "source": [
    "d.min(),d.max()"
   ]
  },
  {
   "cell_type": "code",
   "execution_count": 46,
   "metadata": {},
   "outputs": [
    {
     "data": {
      "text/plain": [
       "0.0"
      ]
     },
     "execution_count": 46,
     "metadata": {},
     "output_type": "execute_result"
    }
   ],
   "source": [
    "d[2,2,2]"
   ]
  },
  {
   "cell_type": "code",
   "execution_count": 47,
   "metadata": {},
   "outputs": [
    {
     "data": {
      "text/plain": [
       "1.9123658"
      ]
     },
     "execution_count": 47,
     "metadata": {},
     "output_type": "execute_result"
    }
   ],
   "source": [
    "oo[2,2,2]"
   ]
  },
  {
   "cell_type": "code",
   "execution_count": 48,
   "metadata": {},
   "outputs": [
    {
     "data": {
      "text/plain": [
       "0.23904572427272797"
      ]
     },
     "execution_count": 48,
     "metadata": {},
     "output_type": "execute_result"
    }
   ],
   "source": [
    "z1[2,2,2]/2"
   ]
  },
  {
   "cell_type": "code",
   "execution_count": null,
   "metadata": {},
   "outputs": [
    {
     "name": "stdout",
     "output_type": "stream",
     "text": [
      "doing 0 0\n",
      "doing 0 10\n",
      "doing 0 20\n",
      "doing 0 30\n",
      "doing 0 40\n",
      "doing 0 50\n",
      "doing 0 60\n",
      "doing 0 70\n",
      "doing 0 80\n",
      "doing 0 90\n",
      "doing 0 100\n",
      "doing 0 110\n",
      "doing 0 120\n",
      "doing 0 130\n",
      "doing 0 140\n",
      "doing 0 150\n",
      "doing 0 160\n",
      "doing 0 170\n",
      "doing 0 180\n",
      "doing 0 190\n",
      "doing 0 201\n",
      "done 0 0.152998685836792\n",
      "doing 10 0\n",
      "doing 10 10\n",
      "doing 10 20\n",
      "doing 10 30\n"
     ]
    }
   ],
   "source": [
    "m1=-2\n",
    "m2=2\n",
    "m3=0\n",
    "t0=time.time()\n",
    "for lb1 in lb:\n",
    "    ww_out={}\n",
    "    for lb2 in lb:\n",
    "        print('doing',lb1,lb2)\n",
    "        t1=time.time()\n",
    "        ww_out[lb2]=wig3j_recur_2d(lb1,lb2,m1,m2,m3,wlmax,step,z1)\n",
    "#     ww_out=client.compute(ww_out).result()\n",
    "#         ww_out[lb2]=client.submit(wig3j_recur_2d,lb1,lb2,m1,m2,m3,wlmax,step,z1)\n",
    "#         ww_out[lb2]=wig3j_recur_2d(lb1,lb2,m1,m2,m3,wlmax,step)\n",
    "#     for lb2 in lb:\n",
    "# #         z1[lb1:lb1+step,lb2:lb2+step,:]=ww_out[lb2].result()\n",
    "#         ww_out[lb2]=ww_out[lb2].result()\n",
    "#         t2=time.time()\n",
    "#         print('done',lb1,lb2,t2-t1)\n",
    "    del ww_out\n",
    "    t2=time.time()\n",
    "    print('done',lb1,t2-t1)\n",
    "print('done all',t2-t0)"
   ]
  },
  {
   "cell_type": "code",
   "execution_count": 54,
   "metadata": {},
   "outputs": [],
   "source": [
    "xx=z1[:,:,0]\n",
    "# xx.transpose(1,0,2).shape"
   ]
  },
  {
   "cell_type": "code",
   "execution_count": 55,
   "metadata": {},
   "outputs": [
    {
     "data": {
      "text/plain": [
       "(201, 201)"
      ]
     },
     "execution_count": 55,
     "metadata": {},
     "output_type": "execute_result"
    }
   ],
   "source": [
    "xx.shape"
   ]
  },
  {
   "cell_type": "code",
   "execution_count": 53,
   "metadata": {},
   "outputs": [
    {
     "data": {
      "text/plain": [
       "True"
      ]
     },
     "execution_count": 53,
     "metadata": {},
     "output_type": "execute_result"
    }
   ],
   "source": [
    "np.all(xx==xx.T)"
   ]
  },
  {
   "cell_type": "code",
   "execution_count": null,
   "metadata": {},
   "outputs": [],
   "source": [
    "crash"
   ]
  },
  {
   "cell_type": "code",
   "execution_count": null,
   "metadata": {},
   "outputs": [],
   "source": [
    "m1=-2\n",
    "m2=2\n",
    "m3=0\n",
    "\n",
    "arrs=[da.hstack([da.vstack([da.from_delayed(delayed(wig3j_recur_1d)(l[i],l[k],m1,m2,m3,\n",
    "                                                               wlmax),\n",
    "                    shape=(1,1,wlmax),dtype='float32') \n",
    "                    for i in np.arange(lmax+1)]) \n",
    "                     for k in np.arange(lmax+1)])\n",
    "                      ]\n",
    "arrs2=da.concatenate(arrs,axis=-1)\n",
    "# arrs2=arrs2.rechunk(chunks=(int(lmax/1),int(lmax/1),int(wlmax)))\n",
    "\n",
    "print(fname.format(i=str(2)+'j3m',lmax=lmax,wlmax=wlmax))\n",
    "%time arrs2.to_zarr(fname.format(i=str(2)+'j3m',lmax=lmax,wlmax=wlmax),overwrite=True)"
   ]
  },
  {
   "cell_type": "code",
   "execution_count": null,
   "metadata": {},
   "outputs": [],
   "source": [
    "arrs2.shape"
   ]
  },
  {
   "cell_type": "raw",
   "metadata": {},
   "source": [
    "dask.visualize(arrs2)"
   ]
  },
  {
   "cell_type": "code",
   "execution_count": null,
   "metadata": {},
   "outputs": [],
   "source": [
    "crash"
   ]
  },
  {
   "cell_type": "code",
   "execution_count": null,
   "metadata": {},
   "outputs": [],
   "source": [
    "l"
   ]
  },
  {
   "cell_type": "code",
   "execution_count": null,
   "metadata": {},
   "outputs": [],
   "source": [
    "arrs2.shape"
   ]
  },
  {
   "cell_type": "code",
   "execution_count": null,
   "metadata": {},
   "outputs": [],
   "source": [
    "m1=-2\n",
    "m2=2\n",
    "m3=0\n",
    "\n",
    "arrs=[da.hstack([da.vstack([da.from_delayed(delayed(wig3j_map)(m1,m2,m3,l[lb[i]:lb[i+1]],l[lb[k]:lb[k+1]],\n",
    "                                                               np.atleast_1d(w_l[j3_b[j3]:j3_b[j3+1] ]),asym_fact),\n",
    "                    shape=(lb[i+1]-lb[i],lb[k+1]-lb[k],j3_b[j3+1]-j3_b[j3]),\n",
    "                                            dtype='float32') \n",
    "                    for i in np.arange(len(lb)-1)]) \n",
    "                     for k in np.arange(len(lb)-1)])\n",
    "                      for j3 in np.arange(len(j3_b)-1)]\n",
    "arrs2=da.concatenate(arrs,axis=-1)\n",
    "arrs2=arrs2.rechunk(chunks=(lmax/10,lmax/10,wlmax/10))\n",
    "# print(fname.format(i=str(2)+'j3m',lmax=lmax,wlmax=wlmax))\n",
    "# %time arrs2.to_zarr(fname.format(i=str(2)+'j3m',lmax=lmax,wlmax=wlmax),overwrite=True)"
   ]
  },
  {
   "cell_type": "code",
   "execution_count": null,
   "metadata": {},
   "outputs": [],
   "source": [
    "arrs2.shape"
   ]
  },
  {
   "cell_type": "code",
   "execution_count": null,
   "metadata": {},
   "outputs": [],
   "source": []
  },
  {
   "cell_type": "raw",
   "metadata": {},
   "source": [
    "crash"
   ]
  },
  {
   "cell_type": "code",
   "execution_count": null,
   "metadata": {},
   "outputs": [],
   "source": [
    "client.restart()"
   ]
  },
  {
   "cell_type": "code",
   "execution_count": null,
   "metadata": {},
   "outputs": [],
   "source": [
    "m1=-2\n",
    "m2=2\n",
    "m3=0\n",
    "\n",
    "arrs=[da.hstack([da.vstack([da.from_delayed(delayed(wig3j_map)(m1,m2,m3,l[lb[i]:lb[i+1]],l[lb[k]:lb[k+1]],\n",
    "                                                               np.atleast_1d(j3),asym_fact),\n",
    "                    shape=(lb[i+1]-lb[i],lb[k+1]-lb[k],1),dtype='float32') \n",
    "                    for i in np.arange(len(lb)-1)]) \n",
    "                     for k in np.arange(len(lb)-1)])\n",
    "                      for j3 in w_l]\n",
    "# arrs2=da.stack(arrs)\n",
    "arrs2=da.concatenate(arrs,axis=-1)\n",
    "arrs2=arrs2.rechunk(chunks=(lmax/10,lmax/10,wlmax/10))\n",
    "%time arrs2.to_zarr(fname.format(i=2,lmax=lmax,wlmax=wlmax),overwrite=True)"
   ]
  },
  {
   "cell_type": "code",
   "execution_count": null,
   "metadata": {},
   "outputs": [],
   "source": [
    "crash"
   ]
  },
  {
   "cell_type": "raw",
   "metadata": {},
   "source": [
    "m1=-2\n",
    "m2=2\n",
    "m3=0\n",
    "\n",
    "arrs=[da.hstack([da.vstack([arr[i][k][j3]#.result()\n",
    "                    for i in np.arange(len(lb)-1)]) \n",
    "                     for k in np.arange(len(lb)-1)])\n",
    "                      for j3 in w_l]\n",
    "arrs2=da.stack(arrs)\n",
    "arrs2=arrs2.rechunk(chunks=(1,step,step))\n",
    "%time arrs2.to_zarr(fname.format(i=2,lmax=lmax,wlmax=wlmax),overwrite=True)"
   ]
  },
  {
   "cell_type": "code",
   "execution_count": null,
   "metadata": {},
   "outputs": [],
   "source": [
    "arrs2=zarr.open(fname.format(i=2,lmax=lmax,wlmax=wlmax))"
   ]
  },
  {
   "cell_type": "code",
   "execution_count": null,
   "metadata": {},
   "outputs": [],
   "source": [
    "arrs2.oindex[0,:,:].max()"
   ]
  },
  {
   "cell_type": "raw",
   "metadata": {},
   "source": [
    "lf=int(lmax/5)\n",
    "lf2=lf\n",
    "\n",
    "m1=-2\n",
    "m2=2\n",
    "m3=0\n",
    "\n",
    "arrs=[da.hstack([da.vstack([da.from_delayed(delayed(wig3j_map)(m1,m2,m3,l[i:i+lf],l[k:k+lf2],np.atleast_1d(j3),asym_fact),\n",
    "                    shape=(min([lmax,lf,lmax-i]),min([lmax,lf2,lmax-k])),dtype='float32') \n",
    "                    for i in np.arange(lmax,step=lf)]) \n",
    "                     for k in np.arange(lmax,step=lf2)])\n",
    "                      for j3 in w_l]\n",
    "arrs2=da.stack(arrs)\n",
    "%time arrs2.to_zarr(fname.format(i=2,lmax=lmax,wlmax=wlmax),overwrite=True)"
   ]
  },
  {
   "cell_type": "raw",
   "metadata": {},
   "source": [
    "m1=-2\n",
    "m2=2\n",
    "m3=0\n",
    "# arrs=[da.from_delayed(delayed(wig3j_map)(m1,m2,m3,l,l,np.atleast_1d(j3),asym_fact),shape=(lmax,lmax),dtype='float32') for j3 in w_l]\n",
    "lf=int(lmax/5)\n",
    "arrs=[da.vstack([da.from_delayed(delayed(wig3j_map)(m1,m2,m3,l[i:i+lf],l,np.atleast_1d(j3),asym_fact),\n",
    "                      shape=(min([lmax,lf,lmax-i]),lmax),dtype='float32') for i in np.arange(lmax,step=lf)]) \n",
    "                      for j3 in w_l]\n",
    "arrs2=da.stack(arrs)\n",
    "%time arrs2.to_zarr(fname.format(i=2,lmax=lmax,wlmax=wlmax),overwrite=True)"
   ]
  },
  {
   "cell_type": "code",
   "execution_count": null,
   "metadata": {},
   "outputs": [],
   "source": [
    "z1=zarr.open('./temp/dask_wig3j_l100_w30_0_asym50.zarr/')\n",
    "z2=np.array(zarr.open('./temp/dask_wig3j_l100_w30_0.zarr/'))"
   ]
  },
  {
   "cell_type": "code",
   "execution_count": null,
   "metadata": {},
   "outputs": [],
   "source": [
    "z1.reshape(1,3000,100)"
   ]
  },
  {
   "cell_type": "code",
   "execution_count": null,
   "metadata": {},
   "outputs": [],
   "source": [
    "crash"
   ]
  },
  {
   "cell_type": "code",
   "execution_count": null,
   "metadata": {},
   "outputs": [],
   "source": [
    "zaa_in=zarr.open('temp/dask_test0.zarr')"
   ]
  },
  {
   "cell_type": "code",
   "execution_count": null,
   "metadata": {},
   "outputs": [],
   "source": [
    "np.einsum('i,ijk->jk',w_l,zaa_in)"
   ]
  },
  {
   "cell_type": "code",
   "execution_count": null,
   "metadata": {},
   "outputs": [],
   "source": [
    "zaa_in.oindex[np.int32(w_l[:5]), [1, 3],[1,5]]"
   ]
  },
  {
   "cell_type": "code",
   "execution_count": null,
   "metadata": {},
   "outputs": [],
   "source": [
    "zaa_in"
   ]
  },
  {
   "cell_type": "raw",
   "metadata": {},
   "source": [
    "da.read_zarr('temp/dask_test.zarr')"
   ]
  },
  {
   "cell_type": "code",
   "execution_count": null,
   "metadata": {},
   "outputs": [],
   "source": [
    "aa2 = da.from_array(zaa_in, chunks=zaa_in.chunks)"
   ]
  },
  {
   "cell_type": "code",
   "execution_count": null,
   "metadata": {},
   "outputs": [],
   "source": [
    "aa2"
   ]
  },
  {
   "cell_type": "raw",
   "metadata": {},
   "source": [
    "f = h5py.File('temp/dask_test.hdf5')\n",
    "d = f.require_dataset('0', shape=arrs2.shape, dtype=arrs2.dtype)\n",
    "da.store(arrs2, d)\n"
   ]
  },
  {
   "cell_type": "raw",
   "metadata": {},
   "source": [
    "da.to_hdf5('temp/dask_test.hdf5', {'0': arrs2})"
   ]
  },
  {
   "cell_type": "code",
   "execution_count": null,
   "metadata": {},
   "outputs": [],
   "source": []
  },
  {
   "cell_type": "code",
   "execution_count": null,
   "metadata": {},
   "outputs": [],
   "source": [
    "m_1=0\n",
    "m_2=0\n",
    "m_3=0\n",
    "fname='temp/wigner_test_big.h5'\n",
    "\n",
    "with h5py.File(fname,'w') as f:\n",
    "    dst = f.create_dataset(\"0\", shape=(lmax,lmax,wlmax),\n",
    "                           dtype=np.float32)\n",
    "    lm=0\n",
    "    while lm<lmax:\n",
    "        l_t=np.arange(lm,lm+l_step)\n",
    "        lm2=0\n",
    "        while lm2<lmax:\n",
    "            if lm2>lm+l_step+wlmax or lm>lm2+l_step+wlmax:\n",
    "                print(lm2,lm)\n",
    "                lm2+=l_step\n",
    "                continue\n",
    "            l_t2=np.arange(lm2,lm2+l_step)\n",
    "            dst[lm:lm+l_step,lm2:lm2+l_step,:]=Wigner3j_parallel( m_1, m_2, m_3,l_t, l_t2 , w_l,ncpu=ncpu)\n",
    "            \n",
    "            lm2+=l_step\n",
    "            \n",
    "        lm+=l_step"
   ]
  },
  {
   "cell_type": "code",
   "execution_count": null,
   "metadata": {},
   "outputs": [],
   "source": [
    "f.close()"
   ]
  },
  {
   "cell_type": "code",
   "execution_count": null,
   "metadata": {},
   "outputs": [],
   "source": [
    "m_1=2\n",
    "m_2=-2\n",
    "m_3=0\n",
    "\n",
    "with h5py.File(fname,'a') as f:\n",
    "    dst = f.create_dataset(\"2\", shape=(lmax,lmax,wlmax),\n",
    "                           dtype=np.float32)\n",
    "    lm=0\n",
    "    while lm<lmax:\n",
    "        l_t=np.arange(lm,lm+l_step)\n",
    "        lm2=0\n",
    "        while lm2<lmax:\n",
    "            if lm2>lm+l_step+wlmax or lm>lm2+l_step+wlmax:\n",
    "                print(lm2,lm)\n",
    "                lm2+=l_step\n",
    "                continue\n",
    "            l_t2=np.arange(lm2,lm2+l_step)\n",
    "            dst[lm:lm+l_step,lm2:lm2+l_step,:]=Wigner3j_parallel( m_1, m_2, m_3,l_t, l_t2 , w_l,ncpu=ncpu)\n",
    "            lm2+=l_step\n",
    "        lm+=l_step"
   ]
  },
  {
   "cell_type": "code",
   "execution_count": null,
   "metadata": {},
   "outputs": [],
   "source": [
    "f.close()"
   ]
  },
  {
   "cell_type": "code",
   "execution_count": null,
   "metadata": {},
   "outputs": [],
   "source": [
    "fname='temp/wigner_test.h5'"
   ]
  },
  {
   "cell_type": "code",
   "execution_count": null,
   "metadata": {},
   "outputs": [],
   "source": [
    "f = h5py.File(fname, 'r')\n"
   ]
  },
  {
   "cell_type": "code",
   "execution_count": null,
   "metadata": {},
   "outputs": [],
   "source": [
    "d=f[\"0\"]"
   ]
  },
  {
   "cell_type": "code",
   "execution_count": null,
   "metadata": {},
   "outputs": [],
   "source": [
    "d.shape"
   ]
  },
  {
   "cell_type": "code",
   "execution_count": null,
   "metadata": {},
   "outputs": [],
   "source": [
    "w=np.ones_like(w_l)"
   ]
  },
  {
   "cell_type": "code",
   "execution_count": null,
   "metadata": {},
   "outputs": [],
   "source": [
    "M=np.zeros((500,500))\n",
    "M2=np.zeros((500,500))\n",
    "M[:,:]=np.dot(d,w)"
   ]
  },
  {
   "cell_type": "code",
   "execution_count": null,
   "metadata": {},
   "outputs": [],
   "source": [
    "x=d[w_l[3:5],:,:]#"
   ]
  },
  {
   "cell_type": "code",
   "execution_count": null,
   "metadata": {},
   "outputs": [],
   "source": [
    "x[:,np.int32(w_l[:5]),:]"
   ]
  },
  {
   "cell_type": "code",
   "execution_count": null,
   "metadata": {},
   "outputs": [],
   "source": [
    "lm=0\n",
    "while lm<lmax:\n",
    "    M2[lm:lm+l_step,:]=np.dot(d[lm:lm+l_step,:,:],w)\n",
    "    lm+=l_step"
   ]
  },
  {
   "cell_type": "code",
   "execution_count": null,
   "metadata": {},
   "outputs": [],
   "source": [
    "np.all(M2==M)"
   ]
  },
  {
   "cell_type": "code",
   "execution_count": null,
   "metadata": {},
   "outputs": [],
   "source": [
    "f.close()"
   ]
  },
  {
   "cell_type": "code",
   "execution_count": null,
   "metadata": {},
   "outputs": [],
   "source": [
    "coo_matrix((100,100))"
   ]
  },
  {
   "cell_type": "code",
   "execution_count": 1,
   "metadata": {},
   "outputs": [],
   "source": [
    "import zarr\n",
    "from wigner_functions import *"
   ]
  },
  {
   "cell_type": "code",
   "execution_count": 2,
   "metadata": {},
   "outputs": [],
   "source": [
    "fname= 'temp/dask_wig3j_l3000_w500_{m}_reorder.zarr'\n",
    "m=0\n",
    "wig_3j_0=zarr.open(fname.format(m=m))"
   ]
  },
  {
   "cell_type": "code",
   "execution_count": 3,
   "metadata": {},
   "outputs": [],
   "source": [
    "fname= 'temp/dask_wig3j_l5000_w500_{m}_asym50.zarr'\n",
    "m=0\n",
    "wig_3j_00=zarr.open(fname.format(m=m),mode='r')"
   ]
  },
  {
   "cell_type": "code",
   "execution_count": 4,
   "metadata": {},
   "outputs": [
    {
     "data": {
      "text/plain": [
       "(<zarr.core.Array (501, 3001, 3001) float32>,\n",
       " <zarr.core.Array (500, 5000, 5000) float32 read-only>)"
      ]
     },
     "execution_count": 4,
     "metadata": {},
     "output_type": "execute_result"
    }
   ],
   "source": [
    "wig_3j_0,wig_3j_00"
   ]
  },
  {
   "cell_type": "code",
   "execution_count": 5,
   "metadata": {},
   "outputs": [
    {
     "data": {
      "text/plain": [
       "((3001, 3001), True)"
      ]
     },
     "execution_count": 5,
     "metadata": {},
     "output_type": "execute_result"
    }
   ],
   "source": [
    "j1=400\n",
    "j2=400\n",
    "j3=10\n",
    "dd=wigner_3j(j1,j2,j3,-m,m,0)\n",
    "# dd0=wigner_3j_000(np.atleast_1d(j1),np.atleast_1d(j2),np.atleast_1d(j3),0,0,0)\n",
    "dd2=wig_3j_0[j3,j1,j2]\n",
    "dd22=wig_3j_00[j3,j1,j2]\n",
    "dd0=wig3j_recur(j1,j2,-m,m,0,j3_outmax=500)\n",
    "tt=wig_3j_0[j3,:,:]\n",
    "tt2=wig_3j_00[j3,:3001,:3001]\n",
    "tt.shape,np.all(tt==tt.T)"
   ]
  },
  {
   "cell_type": "code",
   "execution_count": 6,
   "metadata": {},
   "outputs": [
    {
     "data": {
      "text/plain": [
       "True"
      ]
     },
     "execution_count": 6,
     "metadata": {},
     "output_type": "execute_result"
    }
   ],
   "source": [
    "np.all(np.isclose(tt,tt2))"
   ]
  },
  {
   "cell_type": "code",
   "execution_count": 7,
   "metadata": {},
   "outputs": [],
   "source": [
    "dif=tt-tt2"
   ]
  },
  {
   "cell_type": "code",
   "execution_count": 8,
   "metadata": {},
   "outputs": [
    {
     "data": {
      "text/plain": [
       "0.0"
      ]
     },
     "execution_count": 8,
     "metadata": {},
     "output_type": "execute_result"
    }
   ],
   "source": [
    "dif.min()"
   ]
  },
  {
   "cell_type": "code",
   "execution_count": 9,
   "metadata": {},
   "outputs": [
    {
     "data": {
      "text/plain": [
       "array([], shape=(0, 2), dtype=int64)"
      ]
     },
     "execution_count": 9,
     "metadata": {},
     "output_type": "execute_result"
    }
   ],
   "source": [
    "x=dif!=0\n",
    "np.argwhere(x)"
   ]
  },
  {
   "cell_type": "code",
   "execution_count": 10,
   "metadata": {},
   "outputs": [
    {
     "data": {
      "text/plain": [
       "[]"
      ]
     },
     "execution_count": 10,
     "metadata": {},
     "output_type": "execute_result"
    },
    {
     "name": "stderr",
     "output_type": "stream",
     "text": [
      "/usr/lib/python3.7/site-packages/matplotlib/font_manager.py:1241: UserWarning: findfont: Font family ['serif'] not found. Falling back to DejaVu Sans.\n",
      "  (prop.get_family(), self.defaultFamily[fontext]))\n"
     ]
    },
    {
     "data": {
      "image/png": "[encoded data removed]",
      "text/plain": [
       "<Figure size 1500x1125 with 1 Axes>"
      ]
     },
     "metadata": {},
     "output_type": "display_data"
    }
   ],
   "source": [
    "plot(np.argwhere(x)[:,0],np.argwhere(x)[:,1],'bo')\n",
    "loglog()"
   ]
  },
  {
   "cell_type": "code",
   "execution_count": 11,
   "metadata": {},
   "outputs": [
    {
     "data": {
      "text/plain": [
       "(0.2182179, 0.2182179)"
      ]
     },
     "execution_count": 11,
     "metadata": {},
     "output_type": "execute_result"
    }
   ],
   "source": [
    "tt[0,10],tt2[0,10]"
   ]
  },
  {
   "cell_type": "code",
   "execution_count": 12,
   "metadata": {},
   "outputs": [],
   "source": [
    "RR=tt[np.argwhere(x)[:,0],np.argwhere(x)[:,1]]/tt2[np.argwhere(x)[:,0],np.argwhere(x)[:,1]]"
   ]
  },
  {
   "cell_type": "code",
   "execution_count": 13,
   "metadata": {},
   "outputs": [
    {
     "ename": "ValueError",
     "evalue": "zero-size array to reduction operation maximum which has no identity",
     "output_type": "error",
     "traceback": [
      "\u001b[0;31m---------------------------------------------------------------------------\u001b[0m",
      "\u001b[0;31mValueError\u001b[0m                                Traceback (most recent call last)",
      "\u001b[0;32m<ipython-input-13-fef5474f593a>\u001b[0m in \u001b[0;36m<module>\u001b[0;34m\u001b[0m\n\u001b[0;32m----> 1\u001b[0;31m \u001b[0mRR\u001b[0m\u001b[0;34m.\u001b[0m\u001b[0mmax\u001b[0m\u001b[0;34m(\u001b[0m\u001b[0;34m)\u001b[0m\u001b[0;34m\u001b[0m\u001b[0;34m\u001b[0m\u001b[0m\n\u001b[0m",
      "\u001b[0;32m/usr/lib/python3.7/site-packages/numpy/core/_methods.py\u001b[0m in \u001b[0;36m_amax\u001b[0;34m(a, axis, out, keepdims, initial)\u001b[0m\n\u001b[1;32m     26\u001b[0m def _amax(a, axis=None, out=None, keepdims=False,\n\u001b[1;32m     27\u001b[0m           initial=_NoValue):\n\u001b[0;32m---> 28\u001b[0;31m     \u001b[0;32mreturn\u001b[0m \u001b[0mumr_maximum\u001b[0m\u001b[0;34m(\u001b[0m\u001b[0ma\u001b[0m\u001b[0;34m,\u001b[0m \u001b[0maxis\u001b[0m\u001b[0;34m,\u001b[0m \u001b[0;32mNone\u001b[0m\u001b[0;34m,\u001b[0m \u001b[0mout\u001b[0m\u001b[0;34m,\u001b[0m \u001b[0mkeepdims\u001b[0m\u001b[0;34m,\u001b[0m \u001b[0minitial\u001b[0m\u001b[0;34m)\u001b[0m\u001b[0;34m\u001b[0m\u001b[0;34m\u001b[0m\u001b[0m\n\u001b[0m\u001b[1;32m     29\u001b[0m \u001b[0;34m\u001b[0m\u001b[0m\n\u001b[1;32m     30\u001b[0m def _amin(a, axis=None, out=None, keepdims=False,\n",
      "\u001b[0;31mValueError\u001b[0m: zero-size array to reduction operation maximum which has no identity"
     ]
    }
   ],
   "source": [
    "RR.max()"
   ]
  },
  {
   "cell_type": "code",
   "execution_count": 14,
   "metadata": {},
   "outputs": [
    {
     "data": {
      "text/plain": [
       "array([], dtype=float32)"
      ]
     },
     "execution_count": 14,
     "metadata": {},
     "output_type": "execute_result"
    }
   ],
   "source": [
    "tt2[np.argwhere(x)[:,0],np.argwhere(x)[:,1]]"
   ]
  },
  {
   "cell_type": "code",
   "execution_count": 15,
   "metadata": {},
   "outputs": [
    {
     "data": {
      "text/plain": [
       "(-324*sqrt(27115591265571340566539300506397985533305)/6135523267627915048422707,\n",
       " -0.008695668,\n",
       " -0.008695668,\n",
       " -0.008695667842722576)"
      ]
     },
     "execution_count": 15,
     "metadata": {},
     "output_type": "execute_result"
    }
   ],
   "source": [
    "dd,dd2,dd22,dd0[j3]"
   ]
  },
  {
   "cell_type": "code",
   "execution_count": 16,
   "metadata": {},
   "outputs": [
    {
     "data": {
      "text/plain": [
       "(1.00000002681222, 1.0, -0.008695667842722576)"
      ]
     },
     "execution_count": 16,
     "metadata": {},
     "output_type": "execute_result"
    }
   ],
   "source": [
    "dd.evalf()/dd2,dd22/dd2,dd0[j3]"
   ]
  },
  {
   "cell_type": "code",
   "execution_count": 17,
   "metadata": {},
   "outputs": [
    {
     "data": {
      "text/plain": [
       "-0.008695668"
      ]
     },
     "execution_count": 17,
     "metadata": {},
     "output_type": "execute_result"
    }
   ],
   "source": [
    "dd2"
   ]
  },
  {
   "cell_type": "code",
   "execution_count": 18,
   "metadata": {},
   "outputs": [],
   "source": [
    "??wigner_3j_2"
   ]
  },
  {
   "cell_type": "code",
   "execution_count": null,
   "metadata": {},
   "outputs": [],
   "source": []
  },
  {
   "cell_type": "code",
   "execution_count": null,
   "metadata": {},
   "outputs": [],
   "source": []
  }
 ],
 "metadata": {
  "kernelspec": {
   "display_name": "Python 3",
   "language": "python",
   "name": "python3"
  },
  "language_info": {
   "codemirror_mode": {
    "name": "ipython",
    "version": 3
   },
   "file_extension": ".py",
   "mimetype": "text/x-python",
   "name": "python",
   "nbconvert_exporter": "python",
   "pygments_lexer": "ipython3",
   "version": "3.7.2"
  }
 },
 "nbformat": 4,
 "nbformat_minor": 2
}
