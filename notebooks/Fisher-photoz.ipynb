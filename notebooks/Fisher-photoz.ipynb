{
 "cells": [
  {
   "cell_type": "code",
   "execution_count": 1,
   "metadata": {},
   "outputs": [],
   "source": [
    "import sys\n",
    "# import pyccl as ccl\n",
    "import pickle\n",
    "import camb\n",
    "sys.path.insert(0,'../skylens')\n",
    "from importlib import reload\n",
    "from astropy.cosmology import Planck15 as cosmo\n",
    "from astropy.cosmology import default_cosmology\n",
    "from astropy import units\n",
    "import astropy\n",
    "import time\n",
    "\n",
    "import psutil\n",
    "from distributed.utils import format_bytes\n",
    "\n",
    "#only for python3\n",
    "import importlib\n",
    "reload=importlib.reload"
   ]
  },
  {
   "cell_type": "code",
   "execution_count": 2,
   "metadata": {},
   "outputs": [],
   "source": [
    "from skylens import *\n",
    "# from fisher import *\n",
    "from PCA_shear import *"
   ]
  },
  {
   "cell_type": "code",
   "execution_count": 3,
   "metadata": {},
   "outputs": [],
   "source": [
    "import PCA_shear\n",
    "reload(PCA_shear)\n",
    "from PCA_shear import *"
   ]
  },
  {
   "cell_type": "code",
   "execution_count": 4,
   "metadata": {},
   "outputs": [],
   "source": [
    "import skylens\n",
    "reload(skylens)\n",
    "from skylens import *"
   ]
  },
  {
   "cell_type": "code",
   "execution_count": 5,
   "metadata": {},
   "outputs": [],
   "source": [
    "import survey_utils\n",
    "reload(survey_utils)\n",
    "from survey_utils import *"
   ]
  },
  {
   "cell_type": "code",
   "execution_count": 6,
   "metadata": {},
   "outputs": [],
   "source": [
    "fig_home='./figures/'\n",
    "fig_format='pdf'"
   ]
  },
  {
   "cell_type": "code",
   "execution_count": 7,
   "metadata": {},
   "outputs": [
    {
     "name": "stderr",
     "output_type": "stream",
     "text": [
      "/usr/local/lib/python3.8/dist-packages/distributed/node.py:151: UserWarning: Port 8787 is already in use.\n",
      "Perhaps you already have a cluster running?\n",
      "Hosting the HTTP server on port 34593 instead\n",
      "  warnings.warn(\n"
     ]
    }
   ],
   "source": [
    "from distributed import LocalCluster\n",
    "from dask.distributed import Client  # we already had this above\n",
    "#http://distributed.readthedocs.io/en/latest/_modules/distributed/worker.html\n",
    "LC=LocalCluster(n_workers=1,processes=False,memory_limit='60gb',threads_per_worker=8,memory_spill_fraction=.99,\n",
    "               memory_monitor_interval='2000ms')\n",
    "client=Client(LC)"
   ]
  },
  {
   "cell_type": "raw",
   "metadata": {},
   "source": [
    "client.restart()"
   ]
  },
  {
   "cell_type": "raw",
   "metadata": {},
   "source": [
    "\n",
    "dask.config.set(scheduler='synchronous')  # overwrite default with single-threaded scheduler"
   ]
  },
  {
   "cell_type": "code",
   "execution_count": 8,
   "metadata": {},
   "outputs": [
    {
     "data": {
      "text/plain": [
       "w0waCDM(H0=67.7 km / (Mpc s), Om0=0.307, Ode0=0.691, w0=-1, wa=0, Tcmb0=2.725 K, Neff=3.05, m_nu=[0.   0.   0.06] eV, Ob0=0.0486)"
      ]
     },
     "execution_count": 8,
     "metadata": {},
     "output_type": "execute_result"
    }
   ],
   "source": [
    "def cosmo_w0_wa(cosmo=None,w0=-1,wa=0):\n",
    "    attrs=['H0','Om0', 'Ode0','Tcmb0', 'Neff', 'm_nu', 'Ob0']\n",
    "    args={}\n",
    "    args['w0']=w0\n",
    "    args['wa']=wa\n",
    "    for a in attrs:\n",
    "        args[a]=getattr(cosmo,a)\n",
    "    cosmo_w=astropy.cosmology.w0waCDM(**args)\n",
    "    return cosmo_w\n",
    "cosmo_w0_wa(cosmo=cosmo)"
   ]
  },
  {
   "cell_type": "code",
   "execution_count": 9,
   "metadata": {},
   "outputs": [],
   "source": [
    "def cosmo_h_set(cosmo=None,cosmo_params={}):\n",
    "    if cosmo_params['wa']!=0:\n",
    "        cosmo=cosmo_w0_wa(cosmo=cosmo,w0=cosmo_params['w'],wa=cosmo_params['wa'])\n",
    "    cosmo2=cosmo.clone(H0=cosmo_params['h']*100,\n",
    "                        Om0=cosmo_params['Om'],\n",
    "                       Ob0=cosmo_params['Omb'],\n",
    "#                        Odm0=cosmo_params['Omd'],\n",
    "#                        Ok0=cosmo_params['Omk'],\n",
    "#                        w=cosmo_params['w'],\n",
    "                       m_nu=[0,0,cosmo_params['mnu']]*units.eV\n",
    "                    )"
   ]
  },
  {
   "cell_type": "code",
   "execution_count": 10,
   "metadata": {},
   "outputs": [],
   "source": [
    "def get_x_var(x0=None,dx_max=0.01,do_log=False,Nx=2):\n",
    "    Dx=np.linspace((1-dx_max),(1+dx_max),Nx)\n",
    "    if do_log:\n",
    "        x0=np.absolute(x0)\n",
    "        x_vars=x0**Dx\n",
    "        if x0==1:\n",
    "            x_vars=(2.**Dx)/2. # 1**x=1\n",
    "        if x0==0:\n",
    "            x_vars=np.logspace(-3,-2,Nx)\n",
    "        x_vars*=np.sign(cosmo_fid[p])\n",
    "        x_grad=np.gradient(np.log(x_vars))\n",
    "    else:\n",
    "        x_vars=x0*Dx #np.linspace(x0*(1-dx_max),x0*(1+dx_max),Nx)\n",
    "        if x0==0:\n",
    "            x_vars=Dx-1\n",
    "        x_grad=np.gradient(x_vars)\n",
    "    return x_vars,x_grad"
   ]
  },
  {
   "cell_type": "code",
   "execution_count": 11,
   "metadata": {},
   "outputs": [],
   "source": [
    "def fish_cosmo_model(p='As',Nx=2,dx_max=0.01,do_log=False,kappa_class=None,do_cov=False,z_bins_kwargs={}):\n",
    "    x0=cosmo_fid[p]\n",
    "\n",
    "    models={}\n",
    "    covs={}\n",
    "    x_vars,x_grad=get_x_var(x0=x0,dx_max=dx_max,do_log=do_log,Nx=Nx)\n",
    "    print(p,x_vars)\n",
    "    for i in np.arange(Nx):\n",
    "        cosmo_t=cosmo_fid.copy()\n",
    "\n",
    "        cosmo_t[p]=x_vars[i]\n",
    "\n",
    "        if p=='s8':\n",
    "            s80=cosmo_fid['s8']\n",
    "            cosmo_t['As']*=(cosmo_t['s8']/s80)**2\n",
    "            kappa_class.Ang_PS.PS.get_pk(z=[0],cosmo_params=cosmo_t,return_s8=True)\n",
    "            kappa_class.Ang_PS.PS.pk=None\n",
    "            x_vars[i]=kappa_class.Ang_PS.PS.s8\n",
    "#                 print(x_vars[p][i],s80,cosmo_t['s8'])\n",
    "        cosmo_h2=cosmo_h_set(cosmo=cosmo,cosmo_params=cosmo_t)\n",
    "        cl0G=kappa_class.cl_tomo(cosmo_params=cosmo_t,cosmo_h=cosmo_h2,stack_corr_indxs=z_bins_kwargs['corr_indxs'])\n",
    "        cl_t=cl0G['stack'].compute()\n",
    "        models[i]=cl_t['pcl_b']\n",
    "        covs[i]=cl_t['cov']\n",
    "        kappa_class.Ang_PS.reset()\n",
    "    return models,covs,x_vars,x_grad"
   ]
  },
  {
   "cell_type": "code",
   "execution_count": 12,
   "metadata": {},
   "outputs": [],
   "source": [
    "def pz_update(z_bins={},bin_indx=None,z_indx=None,pz_new=None):\n",
    "    z_bins[bin_indx]['pz'][z_indx]=pz_new\n",
    "    z_bins=zbin_pz_norm(zs_bins=z_bins,bin_indx=bin_indx,zs=z_bins[bin_indx]['z'],p_zs=z_bins[bin_indx]['pz'],ns=z_bins[bin_indx]['ns'])\n",
    "    return z_bins"
   ]
  },
  {
   "cell_type": "raw",
   "metadata": {},
   "source": [
    "%time f=fisher_calc(cosmo_params=cosmo_params,z_params=pz_params,galaxy_params=galaxy_params,kappa_class=kappa_class,clS=cl_L,z_bins_kwargs=z_bins_kwargs,priors=priors)"
   ]
  },
  {
   "cell_type": "code",
   "execution_count": 13,
   "metadata": {},
   "outputs": [],
   "source": [
    "def set_zbin_bias0(zs_bins={},bias=0):\n",
    "    bias0=np.copy(zs_bins['zp_bias'])\n",
    "    bias0=bias*(1+zs_bins['zp'])\n",
    "    return bias0\n",
    "\n",
    "def set_zbin_bias(zs_bins={},bias=0,bin_id=0):\n",
    "    bias0=np.copy(zs_bins['zp_bias'])\n",
    "    idx=np.digitize(zs_bins['zp'],zs_bins['z_bins'])-1\n",
    "    bias0[np.where(idx==bin_id)]=bias\n",
    "    return bias0\n",
    "\n",
    "def set_zbin_sigma(zs_bins={},zsigma_frac=1,bin_id=0):\n",
    "    zp_sigma=np.copy(zs_bins['zp_sigma'])\n",
    "    idx=np.digitize(zs_bins['zp'],zs_bins['z_bins'])-1\n",
    "    zp_sigma[np.where(idx==bin_id)]=zp_sigma[np.where(idx==bin_id)]*zsigma_frac\n",
    "    return zp_sigma\n",
    "    \n",
    "def fish_z_model(p='pz_b_s_1',Nx=2,dx_max=0.01,kappa_class=None,do_cov=False,do_log=False,z_bins_kwargs0={}):\n",
    "    z_bins_kwargs=z_bins_kwargs0.copy()\n",
    "    zs_bins=z_bins_kwargs['zs_bins']\n",
    "    zl_bins=z_bins_kwargs['zl_bins']\n",
    "    zlD_bins=z_bins_kwargs['zlD_bins']\n",
    "    if 'pz_b' in p:\n",
    "        x0=0\n",
    "    elif 'nz' in p:\n",
    "        pp=p.split('_')\n",
    "        bin_id=np.int(pp[-2])\n",
    "        z_id=np.int(pp[-1])\n",
    "        print(bin_id,z_id)\n",
    "        if 'nz_s' in p:\n",
    "            x0=zs_bins[bin_id]['pz'][z_id]\n",
    "        elif 'nz_l' in p:\n",
    "            x0=zl_bins[bin_id]['pz'][z_id]\n",
    "            \n",
    "        if x0<1.e-5:\n",
    "            x0=0\n",
    "    else:\n",
    "        x0=1\n",
    "        \n",
    "    x_vars,x_grad=get_x_var(x0=x0,dx_max=dx_max,do_log=do_log,Nx=Nx)\n",
    "    \n",
    "    models={}\n",
    "    covs={}\n",
    "    print(p,x_vars)\n",
    "    for i in np.arange(Nx):\n",
    "        zs_bins_i=zs_bins.copy()\n",
    "        zl_bins_i=zl_bins.copy()\n",
    "        if 'pz_B' in p:\n",
    "            bias=set_zbin_bias0(zs_bins=zs_bins,bias=x_vars[i])\n",
    "            zs_bins_kwargs['z_bias']=bias\n",
    "            zs_bins_i=lsst_source_tomo_bins(**zs_bins_kwargs)\n",
    "        elif 'pz_b_s' in p:\n",
    "            bin_id=np.int(p[-1])\n",
    "            bias=set_zbin_bias(zs_bins=zs_bins,bias=x_vars[i],bin_id=bin_id)\n",
    "#             zs_bins_kwargs['z_bias']=bias\n",
    "            zs_bins_i=lsst_source_tomo_bins(z_bias=bias, nbins=z_bins_kwargs['ns_bins'],ns0=z_bins_kwargs['nsource'],z_sigma=z_bins_kwargs['z_source_sigma'],\n",
    "                                            **z_bins_kwargs)\n",
    "        elif 'pz_b_l' in p:\n",
    "            bin_id=np.int(p[-1])#-zs_bins['n_bins']\n",
    "            bias=set_zbin_bias(zs_bins=zl_bins,bias=x_vars[i],bin_id=bin_id)\n",
    "\n",
    "            zl_bins_i=lsst_source_tomo_bins(z_bias=bias,nbins=z_bins_kwargs['n_lens_bins'],ns0=z_bins_kwargs['nlens'],z_sigma=z_bins_kwargs['z_lens_sigma'],\n",
    "                                            **z_bins_kwargs)\n",
    "        elif 'nz_s' in p:\n",
    "            zs_bins_i=pz_update(z_bins=zs_bins_i,bin_indx=bin_id,z_indx=z_id,pz_new=x_vars[i])\n",
    "        elif 'nz_l' in p:\n",
    "            zl_bins_i=pz_update(z_bins=zl_bins_i,bin_indx=bin_id,z_indx=z_id,pz_new=x_vars[i])\n",
    "\n",
    "        elif 'sig' in p:\n",
    "            bin_id=np.int(p[-1])\n",
    "            zp_sigma=set_zbin_sigma(zs_bins=zs_bins,zsigma_frac=x_vars[i],bin_id=0)\n",
    "            zs_bins_kwargs['z_sigma']=zp_sigma\n",
    "            zs_bins_i=lsst_source_tomo_bins(**zs_bins_kwargs)\n",
    "                \n",
    "        zl_bins_comb=combine_zbins(z_bins1=zl_bins_i,z_bins2=zlD_bins)\n",
    "        zl_bins_comb=combine_zbins(z_bins1=zs_bins_i,z_bins2=zl_bins_comb)\n",
    "        kappa_class.update_zbins(z_bins=zs_bins_i,tracer='shear')\n",
    "        kappa_class.update_zbins(z_bins=zl_bins_comb,tracer='galaxy')\n",
    "        cl0G=kappa_class.cl_tomo(stack_corr_indxs=z_bins_kwargs0['corr_indxs'])\n",
    "        cl_t=cl0G['stack'].compute()\n",
    "        models[i]=cl_t['pcl_b']\n",
    "        covs[i]=cl_t['cov']\n",
    "        kappa_class.Ang_PS.reset()\n",
    "    kappa_class.update_zbins(z_bins=zs_bins,tracer='shear')\n",
    "    return models,covs,x_vars,x_grad"
   ]
  },
  {
   "cell_type": "code",
   "execution_count": 14,
   "metadata": {},
   "outputs": [],
   "source": [
    "def fish_galaxy_model(p='g_b_l_11',Nx=2,dx_max=0.01,kappa_class=None,do_cov=False,do_log=False,z_bins_kwargs0={}):\n",
    "    \n",
    "    z_bins_kwargs=z_bins_kwargs0.copy()\n",
    "    zs_bins=z_bins_kwargs['zs_bins']\n",
    "    z_bins=kappa_class.z_bins['galaxy']\n",
    "    Dx=np.linspace((1-dx_max),(1+dx_max),Nx)\n",
    "\n",
    "    p_n='b'+p[-2]\n",
    "    if 'b' in p:\n",
    "        bin_indx=np.int(p[-1])\n",
    "        if 'l' in p:\n",
    "            bin_indx+=zs_bins['n_bins']\n",
    "        x0=kappa_class.z_bins['galaxy'][bin_indx][p_n]\n",
    "    else:\n",
    "        pass\n",
    "    x_vars,x_grad=get_x_var(x0=x0,dx_max=dx_max,do_log=do_log,Nx=Nx)    \n",
    "    \n",
    "    models={}\n",
    "    covs={}\n",
    "    print(p,x_vars)\n",
    "    for i in np.arange(Nx):\n",
    "        z_bins_t=z_bins.copy()\n",
    "        if 'b' in p:\n",
    "            z_bins_t[bin_indx][p_n]=x_vars[i]\n",
    "        \n",
    "        kappa_class.update_zbins(z_bins=z_bins_t,tracer='galaxy')\n",
    "        cl0G=kappa_class.cl_tomo(stack_corr_indxs=z_bins_kwargs0['corr_indxs'])\n",
    "        cl_t=cl0G['stack'].compute()\n",
    "        models[i]=cl_t['pcl_b']\n",
    "        covs[i]=cl_t['cov']\n",
    "        kappa_class.Ang_PS.reset()\n",
    "        z_bins_t[bin_indx][p[:-1]]=x0\n",
    "    kappa_class.update_zbins(z_bins=z_bins,tracer='galaxy')\n",
    "    return models,covs,x_vars,x_grad    "
   ]
  },
  {
   "cell_type": "code",
   "execution_count": 15,
   "metadata": {},
   "outputs": [],
   "source": [
    "def fish_baryon_model(p='Q1',Nx=2,dx_max=0.01,kappa_class=None,clS=None,cl0=None,do_cov=False,do_log=False,\n",
    "                      z_bins_kwargs0={},NmarQ=2):\n",
    "    Dx=np.linspace((1-dx_max),(1+dx_max),Nx)\n",
    "\n",
    "    if 'Q' in p:\n",
    "        Q_indx=np.int(p[-1])\n",
    "        x0=0\n",
    "    else:\n",
    "        pass\n",
    "    x_vars,x_grad=get_x_var(x0=x0,dx_max=dx_max,do_log=do_log,Nx=Nx)    \n",
    "    \n",
    "    models={}\n",
    "    covs={}\n",
    "    cov_F=1.#/np.median(np.diag(clS['cov']))\n",
    "    print(p,clS['cov'].shape,np.linalg.det(clS['cov']*cov_F))\n",
    "    \n",
    "    PCS=PCA_shear(kappa_class=kappa_class,NmarQ=NmarQ,clS=clS)\n",
    "    \n",
    "    for i in np.arange(Nx):\n",
    "        Q0=[0]*NmarQ\n",
    "        Q0[Q_indx]=x_vars[i]\n",
    "        \n",
    "        cl_t=PCS.compute_modelv_bary(cosmo_params=cosmo_fid,Q=Q0)\n",
    "        models[i]=np.zeros_like(cl0) #this is needed to keep everything in right shape. Baryon stuff is only for shear right now. \n",
    "        models[i][:len(cl_t)]+=cl_t #['cl_b']\n",
    "        models[i][len(cl_t):]+=cl0[len(cl_t):]\n",
    "        print(models[i].shape,PCS.COV.shape)\n",
    "        covs[i]=PCS.COV\n",
    "        kappa_class.Ang_PS.reset()\n",
    "    return models,covs,x_vars,x_grad    \n",
    "\n",
    "# PCS=PCA_shear(kappa_class=kappa_class,NmarQ=3)\n",
    "# cl_t1=PCS.compute_modelv_bary(cosmo_params=cosmo_fid,Q=[-10,-10,-10])\n",
    "# cl_t0=PCS.compute_modelv_bary(cosmo_params=cosmo_fid,Q=[0,0,0])"
   ]
  },
  {
   "cell_type": "raw",
   "metadata": {},
   "source": [
    "%time f=fisher_calc(cosmo_params=cosmo_params,z_params=pz_params[2:],galaxy_params=[],kappa_class=kappa_class,clS=cl_L,z_bins_kwargs=z_bins_kwargs,priors=priors)"
   ]
  },
  {
   "cell_type": "code",
   "execution_count": 16,
   "metadata": {},
   "outputs": [],
   "source": [
    "def fisher_calc(cosmo_params=['As'],z_params=[],galaxy_params=[],baryon_params=[],Nx=2,dx_max=0.01,do_log=False,\n",
    "                kappa_class=None,do_cov=False,baryon_PCA_nQ=2,clS=None,\n",
    "               Skylens_kwargs={},z_bins_kwargs={},ell_bin_kwargs={},cl0=None,priors=None):\n",
    "    t1=time.time()\n",
    "    if kappa_class is None:\n",
    "        zs_bins=lsst_source_tomo_bins(**zs_bins_kwargs)\n",
    "        l0,l_bins,l=get_cl_ells(**ell_bin_kwargs)\n",
    "        kappa_class=Skylens(l=l0,l_bins=l_bins,zs_bins=zs_bins,**Skylens_kwargs)\n",
    "        \n",
    "    do_cov0=np.copy(kappa_class.do_cov)\n",
    "    kappa_class.do_cov=do_cov\n",
    "    cl0G=kappa_class.cl_tomo()\n",
    "    \n",
    "    if clS is None:\n",
    "        kappa_class.do_cov=True #need covariance to start things.\n",
    "        cl0G=kappa_class.cl_tomo()\n",
    "    \n",
    "        clS=cl0G['stack'].compute()\n",
    "#     cl_t=client.submit(cl0G['stack'])\n",
    "    cl0=clS['pcl_b']\n",
    "    t2=time.time()\n",
    "    print(cl0G['cov'],t2-t1)\n",
    "    cl_shear=delayed(kappa_class.stack_dat)(dat={'cov':cl0G['cov'],'pcl_b':cl0G['pseudo_cl_b'],'est':'pcl_b'},corrs=[corr_ll],\n",
    "                                           corr_indxs=z_bins_kwargs['corr_indxs'])\n",
    "    cl_shear=cl_shear.compute()\n",
    "#     cl_t=client.submit(cl0G['stack'])\n",
    "    t3=time.time()\n",
    "    print('shear',t3-t1)\n",
    "    \n",
    "    cosmo_fid=kappa_class.Ang_PS.PS.cosmo_params.copy()\n",
    "    cosmo_h=kappa_class.Ang_PS.PS.cosmo_h.clone()\n",
    "    cov=clS['cov']\n",
    "    kappa_class.Ang_PS.reset()\n",
    "\n",
    "    ndim=len(cosmo_params)+len(z_params)+len(galaxy_params)+len(baryon_params)\n",
    "    params_all=np.append(np.append(cosmo_params,z_params),galaxy_params)\n",
    "    params_all=np.append(params_all,baryon_params)\n",
    "    \n",
    "    x_vars={}\n",
    "    models={}\n",
    "    model_derivs={}\n",
    "    covs={}\n",
    "    cov_derivs={}\n",
    "    x_grads={}\n",
    "    for p in cosmo_params:\n",
    "        models[p],covs[p],x_vars[p],x_grads[p]=fish_cosmo_model(p=p,Nx=Nx,dx_max=dx_max,do_log=do_log,\n",
    "                                                     kappa_class=kappa_class,do_cov=do_cov,z_bins_kwargs=z_bins_kwargs)\n",
    "    for p in z_params:\n",
    "        models[p],covs[p],x_vars[p],x_grads[p]=fish_z_model(p=p,Nx=Nx,dx_max=dx_max,\n",
    "                                                 kappa_class=kappa_class,\n",
    "                                                 do_cov=do_cov,z_bins_kwargs0=z_bins_kwargs)\n",
    "    \n",
    "    for p in galaxy_params:\n",
    "        models[p],covs[p],x_vars[p],x_grads[p]=fish_galaxy_model(p=p,Nx=Nx,dx_max=dx_max,\n",
    "                                                 kappa_class=kappa_class,\n",
    "                                                 do_cov=do_cov,z_bins_kwargs0=z_bins_kwargs)\n",
    "    \n",
    "    for p in baryon_params:\n",
    "        models[p],covs[p],x_vars[p],x_grads[p]=fish_baryon_model(p=p,Nx=Nx,dx_max=dx_max,\n",
    "                                                 kappa_class=kappa_class,clS=cl_shear,cl0=cl0,\n",
    "                                                 do_cov=do_cov,NmarQ=baryon_PCA_nQ)\n",
    "    \n",
    "    for p in params_all:\n",
    "        model_derivs[p]=np.gradient(np.array([models[p][i] for i in np.arange(Nx)]),axis=0).T\n",
    "        model_derivs[p]/=x_grads[p]\n",
    "        model_derivs[p]=model_derivs[p][:,np.int(Nx/2)]\n",
    "        \n",
    "        if do_cov:\n",
    "            cov_derivs[p]=np.gradient(np.array([covs[p][i] for i in np.arange(Nx)]),axis=0).T\n",
    "            cov_derivs[p]/=x_grads[p]\n",
    "#             print(cov_derivs[p].shape,x_grad.shape)\n",
    "            cov_derivs[p]=cov_derivs[p][:,:,np.int(Nx/2)]\n",
    "    \n",
    "    cov_inv=np.linalg.inv(cov)\n",
    "    cov_p_inv=np.zeros([ndim]*2)\n",
    "    i1=0\n",
    "    for p1 in params_all:\n",
    "        i2=0\n",
    "        for p2 in params_all:\n",
    "            cov_p_inv[i1,i2]=np.dot(model_derivs[p1],np.dot(cov_inv,model_derivs[p2]))\n",
    "            \n",
    "            if do_cov:\n",
    "#                 print(cov_p_inv[i1,i2],0.5*np.trace(cov_inv@cov_derivs[p1]@cov_inv@cov_derivs[p2]))\n",
    "                cov_p_inv[i1,i2]+=0.5*np.trace(cov_inv@cov_derivs[p1]@cov_inv@cov_derivs[p2])\n",
    "            i2+=1\n",
    "        i1+=1\n",
    "    out={}\n",
    "    out['cov_p_inv']=np.copy(cov_p_inv)\n",
    "    out['params_all']=params_all\n",
    "    if priors is not None:\n",
    "        out=fish_apply_priors(fish=out,priors=priors)\n",
    "#         i2=0\n",
    "#         for p1 in params_all:\n",
    "#             cov_p_inv[i2,i2]+=1./priors[p1]**2\n",
    "#             i2+=1\n",
    "    try:\n",
    "        out['cov_p']=np.linalg.inv(cov_p_inv)\n",
    "        out['error']=np.sqrt(np.diag(out['cov_p']))\n",
    "    except Exception as err:\n",
    "        print(err)\n",
    "\n",
    "    out['cov_deriv']=cov_derivs\n",
    "    out['model_deriv']=model_derivs\n",
    "    out['cov']=cov\n",
    "    out['cov_inv']=cov_inv\n",
    "    out['model']=models\n",
    "    out['x_vars']=x_vars\n",
    "    out['params']=params_all\n",
    "    kappa_class.do_cov=do_cov0\n",
    "    return out"
   ]
  },
  {
   "cell_type": "code",
   "execution_count": 17,
   "metadata": {},
   "outputs": [],
   "source": [
    "def fish_apply_priors(priors=None,fish=[]):\n",
    "#     ndim=len(cosmo_params)+len(z_params)+len(galaxy_params)+len(baryon_params)\n",
    "#     params_all=np.append(np.append(cosmo_params,z_params),galaxy_params)\n",
    "#     params_all=np.append(params_all,baryon_params)\n",
    "    params_all=fish['params_all']\n",
    "    ndim=len(params_all)\n",
    "    \n",
    "    cov_p_inv=np.copy(fish['cov_p_inv'])\n",
    "    fish['prior']={}\n",
    "    priors2={}\n",
    "    i2=0\n",
    "    for p1 in params_all:\n",
    "        priors2[p1]=priors[p1]\n",
    "        cov_p_inv[i2,i2]+=1./priors[p1]**2\n",
    "        i2+=1\n",
    "    fish['prior']['cov_p_inv']=cov_p_inv\n",
    "    fish['prior']['prior']=priors2\n",
    "    try:\n",
    "        fish['prior']['cov_p']=np.linalg.inv(cov_p_inv)\n",
    "        fish['prior']['error']=np.sqrt(np.diag(fish['prior']['cov_p']))\n",
    "    except Exception as err:\n",
    "        print(err)\n",
    "    return fish"
   ]
  },
  {
   "cell_type": "code",
   "execution_count": 18,
   "metadata": {},
   "outputs": [],
   "source": [
    "k='corrs3_zmin0_barynQ2_pkfclass_pk_SSVFalse'"
   ]
  },
  {
   "cell_type": "code",
   "execution_count": 19,
   "metadata": {},
   "outputs": [],
   "source": [
    "def get_cl_ells(lmax_cl=1000,lmin_cl=2,Nl_bins=10):\n",
    "    l0=np.arange(lmin_cl,lmax_cl)\n",
    "\n",
    "    lmin_cl_Bins=lmin_cl+10\n",
    "    lmax_cl_Bins=lmax_cl-10\n",
    "    l_bins=np.int64(np.logspace(np.log10(lmin_cl_Bins),np.log10(lmax_cl_Bins),Nl_bins))\n",
    "    l=np.unique(np.int64(np.logspace(np.log10(lmin_cl),np.log10(lmax_cl),Nl_bins*20))) #if we want to use fewer ell\n",
    "    if not bin_cl:\n",
    "        lb=np.int64(0.5*(l_bins[1:]+l_bins[:-1]))\n",
    "        l0=lb*1\n",
    "        l=lb*1\n",
    "        l_bins=None\n",
    "        print('no binning, l=',l)\n",
    "    return l0,l_bins,l\n"
   ]
  },
  {
   "cell_type": "code",
   "execution_count": 20,
   "metadata": {},
   "outputs": [],
   "source": [
    "corr_ggl=('galaxy','shear')\n",
    "corr_gg=('galaxy','galaxy')\n",
    "corr_ll=('shear','shear')\n",
    "# corrs=[corr_ll] #\n",
    "corrs=[corr_ggl,corr_gg,corr_ll]"
   ]
  },
  {
   "cell_type": "code",
   "execution_count": 21,
   "metadata": {},
   "outputs": [],
   "source": [
    "def combine_zbins(z_bins1={},z_bins2={}):\n",
    "    if z_bins1['n_bins']>0:\n",
    "        z_bins3=copy.deepcopy(z_bins1)\n",
    "    else:\n",
    "        z_bins3=copy.deepcopy(z_bins2)\n",
    "    if z_bins1['n_bins']==0 or z_bins2['n_bins']==0:\n",
    "        return z_bins3 \n",
    "    j=0\n",
    "    for i in np.arange(z_bins1['n_bins'],z_bins1['n_bins']+z_bins2['n_bins']):\n",
    "#         print(i,z_bins2.keys())\n",
    "        z_bins3[i]=copy.deepcopy(z_bins2[j])\n",
    "        j+=1\n",
    "    z_bins3['n_bins']+=z_bins2['n_bins']\n",
    "    nl=z_bins2['SN']['shear'].shape[0]\n",
    "    z_bins3['SN']={}\n",
    "    z_bins3['SN']['galaxy']=np.zeros((nl,z_bins3['n_bins'],z_bins3['n_bins']))\n",
    "    z_bins3['SN']['shear']=np.zeros((nl,z_bins3['n_bins'],z_bins3['n_bins']))\n",
    "    j=0\n",
    "    for i in np.arange(z_bins1['n_bins']):\n",
    "        z_bins3['SN']['galaxy'][:,j,j]+=z_bins1['SN']['galaxy'][:,i,i]\n",
    "        z_bins3['SN']['shear'][:,j,j]+=z_bins1['SN']['shear'][:,i,i]\n",
    "        j+=1\n",
    "    for i in np.arange(z_bins2['n_bins']):\n",
    "        z_bins3['SN']['galaxy'][:,j,j]+=z_bins2['SN']['galaxy'][:,i,i]\n",
    "        z_bins3['SN']['shear'][:,j,j]+=z_bins2['SN']['shear'][:,i,i]\n",
    "        j+=1\n",
    "    \n",
    "    return z_bins3"
   ]
  },
  {
   "cell_type": "code",
   "execution_count": 22,
   "metadata": {},
   "outputs": [],
   "source": [
    "z_min_iter=[0,0.3]\n",
    "z_max_iter=[3,2]\n",
    "corrs_iter=[[corr_ll],[corr_ll,corr_ggl,corr_gg]]\n",
    "pk_iter=['camb_pk_too_many_z','baryon_pk']\n",
    "SSV_iter=[False,True]\n",
    "nz_iter=[26,20,50]\n",
    "nbins_iter=[3,1,5]\n",
    "l_max_iter=[1000,2000,5000]\n",
    "bary_nQ_iter=[0,2,1,3,5]\n",
    "\n",
    "cosmo_params=np.atleast_1d(['As','Om','w','wa'])\n",
    "pz_iter=[[],'pzb']"
   ]
  },
  {
   "cell_type": "code",
   "execution_count": 23,
   "metadata": {},
   "outputs": [],
   "source": [
    "\n",
    "do_cov=True\n",
    "sparse_cov=True\n",
    "bin_cl=False #True\n",
    "SSV_cov=True\n",
    "tidal_SSV=False\n",
    "do_sample_variance=True\n",
    "use_window=False\n",
    "\n",
    "window_lmax=30\n",
    "nside=32\n",
    "sigma_gamma=0.26\n",
    "area=15000\n",
    "f_sky=area*d2r**2/4/np.pi\n",
    "\n",
    "n_source=26\n",
    "n_lens=1"
   ]
  },
  {
   "cell_type": "code",
   "execution_count": 24,
   "metadata": {},
   "outputs": [
    {
     "name": "stdout",
     "output_type": "stream",
     "text": [
      "no binning, l= [ 15  25  41  68 112 183 299 488 797]\n"
     ]
    }
   ],
   "source": [
    "#setup parameters\n",
    "l0,l_bins,l=get_cl_ells()\n",
    "lb=l*1\n",
    "if bin_cl:\n",
    "    lb=0.5*(l_bins[1:]+l_bins[:-1])\n",
    "bin_xi=True\n",
    "theta_bins=np.logspace(np.log10(1./60),1,20)\n"
   ]
  },
  {
   "cell_type": "code",
   "execution_count": 25,
   "metadata": {},
   "outputs": [],
   "source": [
    "zmin=0.3\n",
    "zmax=2\n",
    "# power_spectra_kwargs={'pk_func':'baryon_pk'}\n",
    "pk_params={'non_linear':1,'kmax':30,'kmin':3.e-4,'nk':2000,'scenario':'dmo','pk_func':'baryon_pk'}# 'pk_func':'camb_pk_too_many_z'}\n",
    "power_spectra_kwargs={'pk_params':pk_params}\n",
    "nbins=5\n",
    "n_lens_bins=5\n",
    "# n_lensD_bins=1 #5\n",
    "n_zs=50"
   ]
  },
  {
   "cell_type": "code",
   "execution_count": null,
   "metadata": {},
   "outputs": [],
   "source": []
  },
  {
   "cell_type": "code",
   "execution_count": 26,
   "metadata": {},
   "outputs": [],
   "source": [
    "n_lensD_bins={}\n",
    "n_lensD_bins['elg']=5\n",
    "n_lensD_bins['lrg']=3\n",
    "n_lensD_bins['BG']=2\n",
    "n_lensD_bins['qso']=3"
   ]
  },
  {
   "cell_type": "code",
   "execution_count": 27,
   "metadata": {},
   "outputs": [],
   "source": [
    "def get_z_bins(zmin,zmax,ns_bins,n_lens_bins,n_lensD_bins=None,nsource=n_source,nlens=n_lens,nDlens=5,use_window=use_window,\n",
    "               nside=nside,z_source_sigma=0.05,z_lens_sigma=0.01,area_overlap=0.24,z_max_lens=1.2,f_sky=f_sky,AI=0,AI_z=0,\n",
    "               mag_fact=0,**kwargs):\n",
    "    \n",
    "    zs_bins=lsst_source_tomo_bins(zmin=zmin,zmax=zmax,n_zs=n_zs,nside=nside,ns0=nsource,nbins=ns_bins,f_sky=f_sky,\n",
    "                                  z_sigma_power=1,z_sigma=z_source_sigma,ztrue_func=ztrue_given_pz_Gaussian,\n",
    "                                  use_window=use_window,AI=AI,AI_z=AI_z)\n",
    "    \n",
    "    zl_bins=lsst_source_tomo_bins(zmin=zmin,zmax=z_max_lens,n_zs=n_zs,ns0=nlens,nbins=n_lens_bins,nside=nside,f_sky=f_sky,\n",
    "                         ztrue_func=ztrue_given_pz_Gaussian,use_window=use_window,mag_fact=mag_fact,\n",
    "                        z_sigma=z_lens_sigma)\n",
    "    zlD_bins={}\n",
    "    zlD_bins['n_bins']=0\n",
    "    zlD_bins['n_binsF']=0\n",
    "    zlD_bins['n_binsF1']=0\n",
    "    zlD_bins['n_binsF2']=0\n",
    "    zlD_bins['area_overlap']=area_overlap\n",
    "    if n_lensD_bins is not None:\n",
    "        zlD_bins=DESI_z_bins(nside=nside,f_sky=f_sky,use_window=use_window,mag_fact=mag_fact,\n",
    "                             n_zs=n_zs,zmin=zmin,zmax=zmax,\n",
    "                             mask_start_pix=np.int32(hp.nside2npix(nside)*f_sky*(1-area_overlap)))\n",
    "        zlD_bins['n_binsF']=0\n",
    "        zlD_bins['n_binsF1']=0\n",
    "        zlD_bins['n_binsF2']=0\n",
    "        if Fmost:\n",
    "            zlD_bins2=DESI_z_bins(datasets=['lrg']#,'qso']\n",
    "                                  ,nside=nside,f_sky=f_sky4,use_window=use_window,mag_fact=mag_fact,\n",
    "                                  mask_start_pix=0)\n",
    "            zlD_bins3=DESI_z_bins(datasets=['elg'],nside=nside,f_sky=1000./40000,use_window=use_window,mag_fact=mag_fact,\n",
    "                                  mask_start_pix=0)\n",
    "            zlD_bins=combine_zbins(z_bins1=zlD_bins,z_bins2=zlD_bins2)\n",
    "            zlD_bins=combine_zbins(z_bins1=zlD_bins,z_bins2=zlD_bins3)\n",
    "            zlD_bins['n_binsF1']=zlD_bins2['n_bins']\n",
    "            zlD_bins['n_binsF2']=zlD_bins3['n_bins']\n",
    "            zlD_bins['n_binsF']=zlD_bins3['n_bins']+zlD_bins2['n_bins']\n",
    "    return zs_bins,zl_bins,zlD_bins"
   ]
  },
  {
   "cell_type": "code",
   "execution_count": 28,
   "metadata": {},
   "outputs": [],
   "source": [
    "def init_fish(z_min=z_min_iter[0],z_max=z_max_iter[0],corrs=corrs_iter[0],SSV=SSV_iter[0],\n",
    "              pk_func=pk_iter[0],nz=nz_iter[0],n_source_bins=nbins_iter[0],f_sky=0.3,\n",
    "              l_max=l_max_iter[0],l_min=2,Nl_bins=10,Win=None,store_win=True,mag_fact=0,\n",
    "             n_lens_bins=3,n_lensD_bins=None,nlens0=10):\n",
    "    \n",
    "    pk_params2=copy.deepcopy(pk_params)\n",
    "    pk_params2['pk_func']=pk_func\n",
    "    power_spectra_kwargs2={'pk_params':pk_params2}\n",
    "    \n",
    "    Skylens_kwargs={'do_cov':do_cov,'bin_cl':bin_cl, #'l':l0,'l_bins':l_bins,\n",
    "            'SSV_cov':SSV,'tidal_SSV_cov':SSV,'do_xi':False,'use_window':use_window,'window_lmax':window_lmax,\n",
    "            'f_sky':f_sky,'corrs':corrs,'store_win':store_win,'Win':Win, #'sigma_gamma':sigma_gamma\n",
    "            'do_sample_variance':do_sample_variance,'power_spectra_kwargs':power_spectra_kwargs2,'f_sky':f_sky,\n",
    "            'bin_xi':bin_xi,'sparse_cov':sparse_cov}\n",
    "    \n",
    "    z_bins_kwargs={'zmin':z_min,'zmax':z_max,'nsource':nz,'ns_bins':nbins,'nside':nside,'n_lens_bins':n_lens_bins,'n_lensD_bins':n_lensD_bins,\n",
    "                    'use_window':use_window,'nlens':nlens0,'nDlens':nlens0/2.,'area_overlap':0.2, 'f_sky':f_sky,'z_lens_sigma':0.01,\n",
    "                   'mag_fact':mag_fact,\n",
    "                   'z_source_sigma':0.05}\n",
    "    ell_bin_kwargs={'lmax_cl':l_max,'lmin_cl':l_min,'Nl_bins':Nl_bins}\n",
    "    \n",
    "    \n",
    "    zs_bins,zl_bins,zlD_bins=get_z_bins(**z_bins_kwargs)\n",
    "    \n",
    "    z_bins_kwargs['zs_bins']=zs_bins\n",
    "    z_bins_kwargs['zl_bins']=zl_bins\n",
    "    z_bins_kwargs['zlD_bins']=zlD_bins\n",
    "    \n",
    "    n_lensD_bins2=0\n",
    "    if n_lensD_bins is not None:\n",
    "        zl_bins_comb=combine_zbins(z_bins1=zl_bins,z_bins2=zlD_bins)\n",
    "        n_lensD_bins2=zlD_bins['n_bins']\n",
    "    else:\n",
    "        zl_bins_comb=zl_bins\n",
    "    zl_bins_comb=combine_zbins(z_bins1=zs_bins,z_bins2=zl_bins_comb)\n",
    "\n",
    "    print('nbins',zs_bins['n_bins'],zl_bins['n_bins'],zlD_bins['n_bins'],zl_bins_comb['n_bins'])\n",
    "    \n",
    "    ii_lens=np.arange(n_source_bins,n_source_bins+n_lens_bins+n_lensD_bins2)\n",
    "    ii_s=np.arange(n_source_bins)\n",
    "    z_bins_kwargs['gg_indxs']=[(i,j) for i in ii_s for j in ii_lens]+[(i,i) for i in ii_lens]\n",
    "#     for i in np.arange(zl_bins_comb['n_bins']):\n",
    "#         zl_bins_comb[i]['b1']=1\n",
    "        \n",
    "    Skylens_kwargs['zg_bins']=zl_bins_comb    \n",
    "    \n",
    "    l0,l_bins,l=get_cl_ells(**ell_bin_kwargs)\n",
    "    print('running Skylens',l0.max(),zl_bins_comb['n_bins'],Skylens_kwargs.keys())\n",
    "    kappa_class=Skylens(l=l0,l_bins=l_bins,zs_bins=zs_bins,corr_indxs={},**Skylens_kwargs)\n",
    "    \n",
    "#     if not use_window:\n",
    "#         for kk in kappa_class.corr_indxs.keys():\n",
    "#             indxs=kappa_class.corr_indxs[kk]\n",
    "\n",
    "#             for (i,j) in indxs:\n",
    "#                 if i<(n_source_bins+n_lens_bins) and j<(n_source_bins+n_lens_bins):\n",
    "#                     continue\n",
    "#                 if i>(n_source_bins+n_lens_bins) and j>(n_source_bins+n_lens_bins):\n",
    "#                     continue\n",
    "                    \n",
    "#                 kappa_class.f_sky[kk][(i,j)]=z_bins_kwargs['f_sky']*z_bins_kwargs['area_overlap']\n",
    "#                 kappa_class.f_sky[kk[::-1]][(j,i)]=z_bins_kwargs['f_sky']*z_bins_kwargs['area_overlap']\n",
    "    \n",
    "    z_bins_kwargs['corr_indxs']=kappa_class.corr_indxs.copy()\n",
    "    z_bins_kwargs['corr_indxs'][('galaxy','galaxy')]=z_bins_kwargs['gg_indxs']\n",
    "    return kappa_class,z_bins_kwargs"
   ]
  },
  {
   "cell_type": "code",
   "execution_count": 29,
   "metadata": {},
   "outputs": [],
   "source": [
    "def DESI_z_bins(datasets=['elg','lrg','BG','qso']\n",
    "                ,nbins=n_lensD_bins,**kwargs):\n",
    "    zbins={}\n",
    "    i=0\n",
    "    for d in datasets:\n",
    "        d_bins=DESI_lens_bins(dataset=d,nbins=nbins[d],**kwargs)\n",
    "        if i==0:\n",
    "            zbins=copy.deepcopy(d_bins)\n",
    "        else:\n",
    "            zbins=combine_zbins(z_bins1=zbins,z_bins2=d_bins)\n",
    "        i+=1\n",
    "        print(i,zbins['n_bins'],d_bins['n_bins'])\n",
    "    return zbins"
   ]
  },
  {
   "cell_type": "code",
   "execution_count": null,
   "metadata": {},
   "outputs": [],
   "source": []
  },
  {
   "cell_type": "code",
   "execution_count": 30,
   "metadata": {},
   "outputs": [],
   "source": [
    "# corrs=[corr_ll] #\n",
    "corrs=[corr_ggl,corr_gg,corr_ll]"
   ]
  },
  {
   "cell_type": "code",
   "execution_count": 31,
   "metadata": {},
   "outputs": [],
   "source": [
    "WIN=None\n",
    "store_win=False"
   ]
  },
  {
   "cell_type": "code",
   "execution_count": 32,
   "metadata": {},
   "outputs": [
    {
     "name": "stdout",
     "output_type": "stream",
     "text": [
      "264.42 MB\n"
     ]
    }
   ],
   "source": [
    "proc = psutil.Process()\n",
    "print(format_bytes(proc.memory_info().rss))"
   ]
  },
  {
   "cell_type": "code",
   "execution_count": 33,
   "metadata": {},
   "outputs": [],
   "source": [
    "fname='temp/win_D_{ns}{nl}{nlD}.pkl'.format(ns=nbins,nl=n_lens_bins,nlD=n_lensD_bins)\n",
    "if store_win:\n",
    "    try:\n",
    "        with open(fname,'rb') as of:\n",
    "            WIN=pickle.load(of)\n",
    "    except:\n",
    "        print('window not found. Will compute')"
   ]
  },
  {
   "cell_type": "code",
   "execution_count": 34,
   "metadata": {},
   "outputs": [],
   "source": [
    "import importlib\n",
    "reload=importlib.reload\n",
    "reload(survey_utils)\n",
    "from survey_utils import *"
   ]
  },
  {
   "cell_type": "code",
   "execution_count": 35,
   "metadata": {},
   "outputs": [],
   "source": [
    "Fmost=False"
   ]
  },
  {
   "cell_type": "code",
   "execution_count": 36,
   "metadata": {},
   "outputs": [
    {
     "name": "stdout",
     "output_type": "stream",
     "text": [
      "ns0:  10.0\n"
     ]
    }
   ],
   "source": [
    "zlD_bins=lsst_source_tomo_bins(ns0=10,nbins=25,nside=256,f_sky=f_sky,\n",
    "    ztrue_func=ztrue_given_pz_Gaussian,use_window=use_window,\n",
    "    z_sigma=0.001,mask_start_pix=0)"
   ]
  },
  {
   "cell_type": "raw",
   "metadata": {},
   "source": [
    "crash"
   ]
  },
  {
   "cell_type": "code",
   "execution_count": 37,
   "metadata": {},
   "outputs": [
    {
     "name": "stdout",
     "output_type": "stream",
     "text": [
      "ns0:  26.0\n",
      "ns0:  9.999999999999998\n",
      "desi, elg  n= 0.3553333169444444\n",
      "elg 0.6 1.7 [0.6  0.82 1.04 1.26 1.48 1.7 ]\n",
      "1 5 5\n",
      "desi, lrg  n= 0.08336111111111111\n",
      "lrg 0.5 1.2 [0.5        0.73333333 0.96666667 1.2       ]\n",
      "2 8 3\n",
      "desi, BG  n= 0.16194444444444445\n",
      "BG 0.0 0.5 [0.   0.25 0.5 ]\n",
      "3 10 2\n",
      "desi, qso  n= 0.04754444444444443\n",
      "qso 0.1 3.8 [0.1        0.73333333 1.36666667 2.        ]\n",
      "4 13 3\n",
      "nbins 5 5 13 23\n",
      "no binning, l= [ 15  25  41  68 112 183 299 488 797]\n",
      "running Skylens 797 23 dict_keys(['do_cov', 'bin_cl', 'SSV_cov', 'tidal_SSV_cov', 'do_xi', 'use_window', 'window_lmax', 'f_sky', 'corrs', 'store_win', 'Win', 'do_sample_variance', 'power_spectra_kwargs', 'bin_xi', 'sparse_cov', 'zg_bins'])\n",
      "indxs:  {} {}\n",
      "Win gen: step size 10 True\n",
      "Window done\n"
     ]
    },
    {
     "name": "stderr",
     "output_type": "stream",
     "text": [
      "../skylens/cov_utils.py:58: RuntimeWarning: invalid value encountered in true_divide\n",
      "  Win0=2*jn(1,l_th)/l_th\n"
     ]
    }
   ],
   "source": [
    "kappa_class,z_bins_kwargs=init_fish(n_source_bins=nbins,n_lens_bins=n_lens_bins,n_lensD_bins=n_lensD_bins,corrs=corrs,\n",
    "                                          Win=WIN,store_win=store_win)\n",
    "# cl0=cl0G['stack'].compute()"
   ]
  },
  {
   "cell_type": "code",
   "execution_count": 38,
   "metadata": {},
   "outputs": [
    {
     "data": {
      "text/plain": [
       "13"
      ]
     },
     "execution_count": 38,
     "metadata": {},
     "output_type": "execute_result"
    }
   ],
   "source": [
    "z_bins_kwargs['zlD_bins']['n_bins']"
   ]
  },
  {
   "cell_type": "code",
   "execution_count": 39,
   "metadata": {},
   "outputs": [
    {
     "name": "stdout",
     "output_type": "stream",
     "text": [
      "ns0:  26.0\n",
      "ns0:  9.999999999999998\n",
      "nbins 5 5 0 10\n",
      "no binning, l= [ 15  25  41  68 112 183 299 488 797]\n",
      "running Skylens 797 10 dict_keys(['do_cov', 'bin_cl', 'SSV_cov', 'tidal_SSV_cov', 'do_xi', 'use_window', 'window_lmax', 'f_sky', 'corrs', 'store_win', 'Win', 'do_sample_variance', 'power_spectra_kwargs', 'bin_xi', 'sparse_cov', 'zg_bins'])\n",
      "indxs:  {} {}\n",
      "Win gen: step size 10 True\n",
      "Window done\n"
     ]
    }
   ],
   "source": [
    "kappa_class_lsst,z_bins_lsst_kwargs=init_fish(n_source_bins=nbins,n_lens_bins=n_lens_bins,n_lensD_bins=None,corrs=corrs,\n",
    "                                          Win=WIN,store_win=store_win)"
   ]
  },
  {
   "cell_type": "raw",
   "metadata": {},
   "source": [
    "crash"
   ]
  },
  {
   "cell_type": "code",
   "execution_count": 40,
   "metadata": {},
   "outputs": [
    {
     "data": {
      "text/plain": [
       "{'non_linear': 1,\n",
       " 'kmax': 30,\n",
       " 'kmin': 0.0003,\n",
       " 'nk': 2000,\n",
       " 'scenario': 'dmo',\n",
       " 'pk_func': 'camb_pk_too_many_z'}"
      ]
     },
     "execution_count": 40,
     "metadata": {},
     "output_type": "execute_result"
    }
   ],
   "source": [
    "kappa_class.Ang_PS.PS.pk_params"
   ]
  },
  {
   "cell_type": "code",
   "execution_count": 41,
   "metadata": {
    "scrolled": true
   },
   "outputs": [
    {
     "name": "stderr",
     "output_type": "stream",
     "text": [
      "/usr/local/lib/python3.8/dist-packages/astropy/units/quantity.py:477: RuntimeWarning: divide by zero encountered in true_divide\n",
      "  result = super().__array_ufunc__(function, method, *arrays, **kwargs)\n"
     ]
    }
   ],
   "source": [
    "%time cl0G=kappa_class.cl_tomo(corrs=corrs,stack_corr_indxs=z_bins_kwargs['corr_indxs'])\n",
    "%time cl0G_lsst=kappa_class_lsst.cl_tomo(corrs=corrs,stack_corr_indxs=z_bins_lsst_kwargs['corr_indxs'])"
   ]
  },
  {
   "cell_type": "code",
   "execution_count": 42,
   "metadata": {},
   "outputs": [
    {
     "data": {
      "text/plain": [
       "(50,)"
      ]
     },
     "execution_count": 42,
     "metadata": {},
     "output_type": "execute_result"
    }
   ],
   "source": [
    "kappa_class.z_bins['shear'][4]['z'].shape"
   ]
  },
  {
   "cell_type": "code",
   "execution_count": 43,
   "metadata": {},
   "outputs": [
    {
     "data": {
      "text/plain": [
       "[<matplotlib.lines.Line2D at 0x7f652e572970>]"
      ]
     },
     "execution_count": 43,
     "metadata": {},
     "output_type": "execute_result"
    },
    {
     "name": "stderr",
     "output_type": "stream",
     "text": [
      "11:16:47 DEBUG:findfont: Matching serif:style=normal:variant=normal:weight=normal:stretch=normal:size=35.0.\n",
      "11:16:47 DEBUG:findfont: score(<Font 'cmmi10' (cmmi10.ttf) normal normal 400 normal>) = 10.05\n",
      "11:16:47 DEBUG:findfont: score(<Font 'STIXSizeTwoSym' (STIXSizTwoSymReg.ttf) normal normal 400 normal>) = 10.05\n",
      "11:16:47 DEBUG:findfont: score(<Font 'STIXGeneral' (STIXGeneralBol.ttf) normal normal 700 normal>) = 10.335\n",
      "11:16:47 DEBUG:findfont: score(<Font 'DejaVu Sans Display' (DejaVuSansDisplay.ttf) normal normal 400 normal>) = 10.05\n",
      "11:16:47 DEBUG:findfont: score(<Font 'DejaVu Serif Display' (DejaVuSerifDisplay.ttf) normal normal 400 normal>) = 10.05\n",
      "11:16:47 DEBUG:findfont: score(<Font 'STIXGeneral' (STIXGeneral.ttf) normal normal 400 normal>) = 10.05\n",
      "11:16:47 DEBUG:findfont: score(<Font 'cmex10' (cmex10.ttf) normal normal 400 normal>) = 10.05\n",
      "11:16:47 DEBUG:findfont: score(<Font 'cmss10' (cmss10.ttf) normal normal 400 normal>) = 10.05\n",
      "11:16:47 DEBUG:findfont: score(<Font 'DejaVu Sans Mono' (DejaVuSansMono.ttf) normal normal 400 normal>) = 10.05\n",
      "11:16:47 DEBUG:findfont: score(<Font 'cmr10' (cmr10.ttf) normal normal 400 normal>) = 10.05\n",
      "11:16:47 DEBUG:findfont: score(<Font 'cmtt10' (cmtt10.ttf) normal normal 400 normal>) = 10.05\n",
      "11:16:47 DEBUG:findfont: score(<Font 'DejaVu Sans' (DejaVuSans-Oblique.ttf) oblique normal 400 normal>) = 11.05\n",
      "11:16:47 DEBUG:findfont: score(<Font 'DejaVu Serif' (DejaVuSerif-Italic.ttf) italic normal 400 normal>) = 11.05\n",
      "11:16:47 DEBUG:findfont: score(<Font 'DejaVu Sans Mono' (DejaVuSansMono-Oblique.ttf) oblique normal 400 normal>) = 11.05\n",
      "11:16:47 DEBUG:findfont: score(<Font 'STIXSizeOneSym' (STIXSizOneSymReg.ttf) normal normal 400 normal>) = 10.05\n",
      "11:16:47 DEBUG:findfont: score(<Font 'STIXSizeFiveSym' (STIXSizFiveSymReg.ttf) normal normal 400 normal>) = 10.05\n",
      "11:16:47 DEBUG:findfont: score(<Font 'STIXNonUnicode' (STIXNonUniBolIta.ttf) italic normal 700 normal>) = 11.335\n",
      "11:16:47 DEBUG:findfont: score(<Font 'STIXSizeTwoSym' (STIXSizTwoSymBol.ttf) normal normal 700 normal>) = 10.335\n",
      "11:16:47 DEBUG:findfont: score(<Font 'STIXGeneral' (STIXGeneralBolIta.ttf) italic normal 700 normal>) = 11.335\n",
      "11:16:47 DEBUG:findfont: score(<Font 'STIXNonUnicode' (STIXNonUniBol.ttf) normal normal 700 normal>) = 10.335\n",
      "11:16:47 DEBUG:findfont: score(<Font 'cmb10' (cmb10.ttf) normal normal 400 normal>) = 10.05\n",
      "11:16:47 DEBUG:findfont: score(<Font 'cmsy10' (cmsy10.ttf) normal normal 400 normal>) = 10.05\n",
      "11:16:47 DEBUG:findfont: score(<Font 'DejaVu Serif' (DejaVuSerif-BoldItalic.ttf) italic normal 700 normal>) = 11.335\n",
      "11:16:47 DEBUG:findfont: score(<Font 'STIXSizeOneSym' (STIXSizOneSymBol.ttf) normal normal 700 normal>) = 10.335\n",
      "11:16:47 DEBUG:findfont: score(<Font 'DejaVu Sans Mono' (DejaVuSansMono-BoldOblique.ttf) oblique normal 700 normal>) = 11.335\n",
      "11:16:47 DEBUG:findfont: score(<Font 'STIXGeneral' (STIXGeneralItalic.ttf) italic normal 400 normal>) = 11.05\n",
      "11:16:47 DEBUG:findfont: score(<Font 'STIXSizeThreeSym' (STIXSizThreeSymReg.ttf) normal normal 400 normal>) = 10.05\n",
      "11:16:47 DEBUG:findfont: score(<Font 'DejaVu Serif' (DejaVuSerif-Bold.ttf) normal normal 700 normal>) = 10.335\n",
      "11:16:47 DEBUG:findfont: score(<Font 'STIXNonUnicode' (STIXNonUni.ttf) normal normal 400 normal>) = 10.05\n",
      "11:16:47 DEBUG:findfont: score(<Font 'STIXSizeFourSym' (STIXSizFourSymBol.ttf) normal normal 700 normal>) = 10.335\n",
      "11:16:47 DEBUG:findfont: score(<Font 'STIXSizeFourSym' (STIXSizFourSymReg.ttf) normal normal 400 normal>) = 10.05\n",
      "11:16:47 DEBUG:findfont: score(<Font 'DejaVu Sans' (DejaVuSans-BoldOblique.ttf) oblique normal 700 normal>) = 11.335\n",
      "11:16:47 DEBUG:findfont: score(<Font 'DejaVu Sans' (DejaVuSans-Bold.ttf) normal normal 700 normal>) = 10.335\n",
      "11:16:47 DEBUG:findfont: score(<Font 'DejaVu Sans Mono' (DejaVuSansMono-Bold.ttf) normal normal 700 normal>) = 10.335\n",
      "11:16:47 DEBUG:findfont: score(<Font 'STIXNonUnicode' (STIXNonUniIta.ttf) italic normal 400 normal>) = 11.05\n",
      "11:16:47 DEBUG:findfont: score(<Font 'DejaVu Sans' (DejaVuSans.ttf) normal normal 400 normal>) = 10.05\n",
      "11:16:47 DEBUG:findfont: score(<Font 'DejaVu Serif' (DejaVuSerif.ttf) normal normal 400 normal>) = 10.05\n",
      "11:16:47 DEBUG:findfont: score(<Font 'STIXSizeThreeSym' (STIXSizThreeSymBol.ttf) normal normal 700 normal>) = 10.335\n",
      "11:16:47 DEBUG:findfont: score(<Font 'Mitra Mono' (mitra.ttf) normal normal 400 normal>) = 10.05\n",
      "11:16:47 DEBUG:findfont: score(<Font 'Liberation Mono' (LiberationMono-Bold.ttf) normal normal 700 normal>) = 10.335\n",
      "11:16:47 DEBUG:findfont: score(<Font 'Gayathri' (Gayathri-Regular.otf) normal normal 400 normal>) = 10.05\n",
      "11:16:47 DEBUG:findfont: score(<Font 'FreeMono' (FreeMonoBoldOblique.ttf) oblique normal 700 normal>) = 11.335\n",
      "11:16:47 DEBUG:findfont: score(<Font 'Ubuntu' (Ubuntu-LI.ttf) italic normal 300 normal>) = 11.145\n",
      "11:16:47 DEBUG:findfont: score(<Font 'Padauk Book' (PadaukBook-Bold.ttf) normal normal 700 normal>) = 10.335\n",
      "11:16:47 DEBUG:findfont: score(<Font 'Nimbus Roman' (NimbusRoman-Regular.otf) normal normal 400 normal>) = 10.05\n",
      "11:16:47 DEBUG:findfont: score(<Font 'FreeSerif' (FreeSerifBold.ttf) normal normal 700 normal>) = 10.335\n",
      "11:16:47 DEBUG:findfont: score(<Font 'Sawasdee' (Sawasdee-Bold.ttf) normal normal 700 normal>) = 10.335\n",
      "11:16:47 DEBUG:findfont: score(<Font 'mry_KacstQurn' (mry_KacstQurn.ttf) normal normal 400 normal>) = 10.05\n",
      "11:16:47 DEBUG:findfont: score(<Font 'FreeMono' (FreeMonoBold.ttf) normal normal 700 normal>) = 10.335\n",
      "11:16:47 DEBUG:findfont: score(<Font 'Kinnari' (Kinnari-Oblique.ttf) oblique normal 400 normal>) = 11.05\n",
      "11:16:47 DEBUG:findfont: score(<Font 'C059' (C059-BdIta.otf) italic normal 700 normal>) = 11.335\n",
      "11:16:47 DEBUG:findfont: score(<Font 'MathJax_Caligraphic' (MathJax_Caligraphic-Bold.otf) normal normal 700 normal>) = 10.335\n",
      "11:16:47 DEBUG:findfont: score(<Font 'Lohit Devanagari' (Lohit-Devanagari.ttf) normal normal 400 normal>) = 10.05\n",
      "11:16:47 DEBUG:findfont: score(<Font 'Lato' (Lato-Regular.ttf) normal normal 400 normal>) = 10.05\n",
      "11:16:47 DEBUG:findfont: score(<Font 'Liberation Sans' (LiberationSans-Regular.ttf) normal normal 400 normal>) = 10.05\n",
      "11:16:47 DEBUG:findfont: score(<Font 'Vemana2000' (vemana2000.ttf) normal normal 400 normal>) = 10.05\n",
      "11:16:47 DEBUG:findfont: score(<Font 'Tlwg Typo' (TlwgTypo-Oblique.ttf) oblique normal 400 normal>) = 11.05\n",
      "11:16:47 DEBUG:findfont: score(<Font 'Gayathri' (Gayathri-Bold.otf) normal normal 700 normal>) = 10.335\n",
      "11:16:47 DEBUG:findfont: score(<Font 'RaghuMalayalamSans' (RaghuMalayalamSans-Regular.ttf) normal normal 400 normal>) = 10.05\n",
      "11:16:47 DEBUG:findfont: score(<Font 'Yrsa' (Yrsa-Regular.ttf) normal normal 400 normal>) = 10.05\n",
      "11:16:47 DEBUG:findfont: score(<Font 'Lato' (Lato-Hairline.ttf) normal normal 100 normal>) = 10.335\n",
      "11:16:47 DEBUG:findfont: score(<Font 'Tlwg Mono' (TlwgMono-Oblique.ttf) oblique normal 400 normal>) = 11.05\n",
      "11:16:47 DEBUG:findfont: score(<Font 'Kalapi' (Kalapi.ttf) normal normal 400 normal>) = 10.05\n",
      "11:16:47 DEBUG:findfont: score(<Font 'Nimbus Sans' (NimbusSans-BoldItalic.otf) italic normal 700 normal>) = 11.335\n",
      "11:16:47 DEBUG:findfont: score(<Font 'Loma' (Loma-Bold.ttf) normal normal 700 normal>) = 10.335\n",
      "11:16:47 DEBUG:findfont: score(<Font 'Liberation Serif' (LiberationSerif-BoldItalic.ttf) italic normal 700 normal>) = 11.335\n",
      "11:16:47 DEBUG:findfont: score(<Font 'Sahadeva' (sahadeva.ttf) normal normal 400 normal>) = 10.05\n",
      "11:16:47 DEBUG:findfont: score(<Font 'KacstFarsi' (KacstFarsi.ttf) normal normal 500 normal>) = 10.145\n",
      "11:16:47 DEBUG:findfont: score(<Font 'Yrsa' (Yrsa-Bold.ttf) normal normal 700 normal>) = 10.335\n",
      "11:16:47 DEBUG:findfont: score(<Font 'FreeSans' (FreeSansBold.ttf) normal normal 600 normal>) = 10.24\n",
      "11:16:47 DEBUG:findfont: score(<Font 'Umpush' (Umpush-LightOblique.ttf) oblique normal 300 normal>) = 11.145\n",
      "11:16:47 DEBUG:findfont: score(<Font 'Kinnari' (Kinnari-BoldItalic.ttf) italic normal 700 normal>) = 11.335\n",
      "11:16:47 DEBUG:findfont: score(<Font 'Tlwg Mono' (TlwgMono-BoldOblique.ttf) oblique normal 700 normal>) = 11.335\n",
      "11:16:47 DEBUG:findfont: score(<Font 'Ubuntu' (Ubuntu-M.ttf) normal normal 500 normal>) = 10.145\n",
      "11:16:47 DEBUG:findfont: score(<Font 'Samanata' (samanata.ttf) normal normal 400 normal>) = 10.05\n",
      "11:16:47 DEBUG:findfont: score(<Font 'Sawasdee' (Sawasdee-Oblique.ttf) oblique normal 400 normal>) = 11.05\n"
     ]
    },
    {
     "name": "stderr",
     "output_type": "stream",
     "text": [
      "11:16:47 DEBUG:findfont: score(<Font 'Purisa' (Purisa-Bold.ttf) normal normal 700 normal>) = 10.335\n",
      "11:16:47 DEBUG:findfont: score(<Font 'Keraleeyam' (Keraleeyam-Regular.ttf) normal normal 400 normal>) = 10.05\n",
      "11:16:47 DEBUG:findfont: score(<Font 'FreeSerif' (FreeSerifBoldItalic.ttf) italic normal 700 normal>) = 11.335\n",
      "11:16:47 DEBUG:findfont: score(<Font 'Ubuntu Mono' (UbuntuMono-R.ttf) normal normal 400 normal>) = 10.05\n",
      "11:16:47 DEBUG:findfont: score(<Font 'Ubuntu Mono' (UbuntuMono-B.ttf) normal normal 700 normal>) = 10.335\n",
      "11:16:47 DEBUG:findfont: score(<Font 'FreeMono' (FreeMono.ttf) normal normal 400 normal>) = 10.05\n",
      "11:16:47 DEBUG:findfont: score(<Font 'Laksaman' (Laksaman-Italic.ttf) italic normal 400 normal>) = 11.05\n",
      "11:16:47 DEBUG:findfont: score(<Font 'Tlwg Typewriter' (TlwgTypewriter-Oblique.ttf) oblique normal 400 normal>) = 11.05\n",
      "11:16:47 DEBUG:findfont: score(<Font 'Gubbi' (Gubbi.ttf) normal normal 400 normal>) = 10.05\n",
      "11:16:47 DEBUG:findfont: score(<Font 'Lato' (Lato-Semibold.ttf) normal normal 600 normal>) = 10.24\n",
      "11:16:47 DEBUG:findfont: score(<Font 'DejaVu Serif' (DejaVuSerif-Italic.ttf) italic normal 400 normal>) = 11.05\n",
      "11:16:47 DEBUG:findfont: score(<Font 'Laksaman' (Laksaman-BoldItalic.ttf) italic normal 700 normal>) = 11.335\n",
      "11:16:47 DEBUG:findfont: score(<Font 'D050000L' (D050000L.otf) normal normal 400 normal>) = 10.05\n",
      "11:16:47 DEBUG:findfont: score(<Font 'DejaVu Sans Mono' (DejaVuSansMono-Oblique.ttf) oblique normal 400 normal>) = 11.05\n",
      "11:16:47 DEBUG:findfont: score(<Font 'Umpush' (Umpush-Oblique.ttf) oblique normal 400 normal>) = 11.05\n",
      "11:16:47 DEBUG:findfont: score(<Font 'Liberation Mono' (LiberationMono-Bold.ttf) normal normal 700 normal>) = 10.335\n",
      "11:16:47 DEBUG:findfont: score(<Font 'Nakula' (nakula.ttf) normal normal 400 normal>) = 10.05\n",
      "11:16:47 DEBUG:findfont: score(<Font 'Samyak Devanagari' (Samyak-Devanagari.ttf) normal normal 500 normal>) = 10.145\n",
      "11:16:47 DEBUG:findfont: score(<Font 'padmaa' (padmaa-Medium-0.5.ttf) normal normal 500 normal>) = 10.145\n",
      "11:16:47 DEBUG:findfont: score(<Font 'Standard Symbols PS' (StandardSymbolsPS.otf) normal normal 400 normal>) = 10.05\n",
      "11:16:47 DEBUG:findfont: score(<Font 'Ubuntu' (Ubuntu-Th.ttf) normal normal 250 normal>) = 10.1925\n",
      "11:16:47 DEBUG:findfont: score(<Font 'Sawasdee' (Sawasdee.ttf) normal normal 400 normal>) = 10.05\n",
      "11:16:47 DEBUG:findfont: score(<Font 'Nimbus Mono PS' (NimbusMonoPS-Bold.otf) normal normal 700 normal>) = 10.335\n",
      "11:16:47 DEBUG:findfont: score(<Font 'Lato' (Lato-BoldItalic.ttf) italic normal 700 normal>) = 11.335\n",
      "11:16:47 DEBUG:findfont: score(<Font 'DejaVu Sans' (DejaVuSans-ExtraLight.ttf) normal normal 200 normal>) = 10.24\n",
      "11:16:47 DEBUG:findfont: score(<Font 'DejaVu Serif' (DejaVuSerif-BoldItalic.ttf) italic normal 700 normal>) = 11.335\n",
      "11:16:47 DEBUG:findfont: score(<Font 'MathJax_Size3' (MathJax_Size3-Regular.otf) normal normal 400 normal>) = 10.05\n",
      "11:16:47 DEBUG:findfont: score(<Font 'Samyak Gujarati' (Samyak-Gujarati.ttf) normal normal 500 normal>) = 10.145\n",
      "11:16:47 DEBUG:findfont: score(<Font 'URW Gothic' (URWGothic-BookOblique.otf) oblique normal 400 normal>) = 11.05\n",
      "11:16:47 DEBUG:findfont: score(<Font 'FreeMono' (FreeMonoOblique.ttf) oblique normal 400 normal>) = 11.05\n",
      "11:16:47 DEBUG:findfont: score(<Font 'DejaVu Sans Mono' (DejaVuSansMono-BoldOblique.ttf) oblique normal 700 normal>) = 11.335\n",
      "11:16:47 DEBUG:findfont: score(<Font 'Tlwg Typist' (TlwgTypist-Oblique.ttf) oblique normal 400 normal>) = 11.05\n",
      "11:16:47 DEBUG:findfont: score(<Font 'MathJax_Size1' (MathJax_Size1-Regular.otf) normal normal 400 normal>) = 10.05\n",
      "11:16:47 DEBUG:findfont: score(<Font 'Liberation Mono' (LiberationMono-BoldItalic.ttf) italic normal 700 normal>) = 11.335\n",
      "11:16:47 DEBUG:findfont: score(<Font 'Khmer OS System' (KhmerOSsys.ttf) normal normal 400 normal>) = 10.05\n",
      "11:16:47 DEBUG:findfont: score(<Font 'MathJax_SansSerif' (MathJax_SansSerif-Italic.otf) italic normal 400 normal>) = 11.05\n",
      "11:16:47 DEBUG:findfont: score(<Font 'Nimbus Mono PS' (NimbusMonoPS-BoldItalic.otf) italic normal 700 normal>) = 11.335\n",
      "11:16:47 DEBUG:findfont: score(<Font 'Lato' (Lato-LightItalic.ttf) italic normal 300 normal>) = 11.145\n",
      "11:16:47 DEBUG:findfont: score(<Font 'Kinnari' (Kinnari-BoldOblique.ttf) oblique normal 700 normal>) = 11.335\n",
      "11:16:47 DEBUG:findfont: score(<Font 'Waree' (Waree.ttf) normal normal 400 normal>) = 10.05\n",
      "11:16:47 DEBUG:findfont: score(<Font 'Padauk Book' (PadaukBook-Regular.ttf) normal normal 400 normal>) = 10.05\n",
      "11:16:47 DEBUG:findfont: score(<Font 'Noto Sans CJK JP' (NotoSansCJK-Regular.ttc) normal normal 400 normal>) = 10.05\n",
      "11:16:47 DEBUG:findfont: score(<Font 'Nimbus Sans' (NimbusSans-Bold.otf) normal normal 700 normal>) = 10.335\n",
      "11:16:47 DEBUG:findfont: score(<Font 'Kinnari' (Kinnari.ttf) normal normal 400 normal>) = 10.05\n",
      "11:16:47 DEBUG:findfont: score(<Font 'Tlwg Typewriter' (TlwgTypewriter.ttf) normal normal 400 normal>) = 10.05\n",
      "11:16:47 DEBUG:findfont: score(<Font 'Lohit Tamil Classical' (Lohit-Tamil-Classical.ttf) normal normal 400 normal>) = 10.05\n",
      "11:16:47 DEBUG:findfont: score(<Font 'Mukti Narrow' (MuktiNarrow.ttf) normal normal 400 normal>) = 10.05\n",
      "11:16:47 DEBUG:findfont: score(<Font 'Lohit Tamil' (Lohit-Tamil.ttf) normal normal 400 normal>) = 10.05\n",
      "11:16:47 DEBUG:findfont: score(<Font 'Liberation Sans Narrow' (LiberationSansNarrow-Bold.ttf) normal normal 700 condensed>) = 10.535\n",
      "11:16:47 DEBUG:findfont: score(<Font 'Liberation Sans Narrow' (LiberationSansNarrow-Italic.ttf) italic normal 400 condensed>) = 11.25\n",
      "11:16:47 DEBUG:findfont: score(<Font 'Loma' (Loma-Oblique.ttf) oblique normal 400 normal>) = 11.05\n",
      "11:16:47 DEBUG:findfont: score(<Font 'Umpush' (Umpush-Bold.ttf) normal normal 700 normal>) = 10.335\n",
      "11:16:47 DEBUG:findfont: score(<Font 'Ubuntu' (Ubuntu-BI.ttf) italic normal 700 normal>) = 11.335\n",
      "11:16:47 DEBUG:findfont: score(<Font 'Norasi' (Norasi-Bold.ttf) normal normal 700 normal>) = 10.335\n",
      "11:16:47 DEBUG:findfont: score(<Font 'MathJax_Fraktur' (MathJax_Fraktur-Regular.otf) normal normal 400 normal>) = 10.05\n",
      "11:16:47 DEBUG:findfont: score(<Font 'Tlwg Typist' (TlwgTypist.ttf) normal normal 400 normal>) = 10.05\n",
      "11:16:47 DEBUG:findfont: score(<Font 'Liberation Sans' (LiberationSans-Regular.ttf) normal normal 400 normal>) = 10.05\n",
      "11:16:47 DEBUG:findfont: score(<Font 'Sawasdee' (Sawasdee-BoldOblique.ttf) oblique normal 700 normal>) = 11.335\n",
      "11:16:47 DEBUG:findfont: score(<Font 'DejaVu Sans' (DejaVuSans-Bold.ttf) normal normal 700 normal>) = 10.335\n",
      "11:16:47 DEBUG:findfont: score(<Font 'Khmer OS' (KhmerOS.ttf) normal normal 400 normal>) = 10.05\n",
      "11:16:47 DEBUG:findfont: score(<Font 'Tlwg Typewriter' (TlwgTypewriter-Bold.ttf) normal normal 700 normal>) = 10.335\n",
      "11:16:47 DEBUG:findfont: score(<Font 'DejaVu Serif' (DejaVuSerif.ttf) normal normal 400 normal>) = 10.05\n",
      "11:16:47 DEBUG:findfont: score(<Font 'Saab' (Saab.ttf) normal normal 400 normal>) = 10.05\n",
      "11:16:47 DEBUG:findfont: score(<Font 'Kinnari' (Kinnari-Italic.ttf) italic normal 400 normal>) = 11.05\n",
      "11:16:47 DEBUG:findfont: score(<Font 'Waree' (Waree-BoldOblique.ttf) oblique normal 700 normal>) = 11.335\n",
      "11:16:47 DEBUG:findfont: score(<Font 'Nimbus Roman' (NimbusRoman-BoldItalic.otf) italic normal 700 normal>) = 11.335\n",
      "11:16:47 DEBUG:findfont: score(<Font 'URW Gothic' (URWGothic-Book.otf) normal normal 400 normal>) = 10.05\n",
      "11:16:47 DEBUG:findfont: score(<Font 'KacstPen' (KacstPen.ttf) normal normal 500 normal>) = 10.145\n",
      "11:16:47 DEBUG:findfont: score(<Font 'Nimbus Sans Narrow' (NimbusSansNarrow-Regular.otf) normal normal 400 condensed>) = 10.25\n",
      "11:16:47 DEBUG:findfont: score(<Font 'Rasa' (Rasa-SemiBold.ttf) normal normal 600 normal>) = 10.24\n",
      "11:16:47 DEBUG:findfont: score(<Font 'Lohit Gurmukhi' (Lohit-Gurmukhi.ttf) normal normal 400 normal>) = 10.05\n",
      "11:16:47 DEBUG:findfont: score(<Font 'Liberation Mono' (LiberationMono-Italic.ttf) italic normal 400 normal>) = 11.05\n",
      "11:16:47 DEBUG:findfont: score(<Font 'KacstOne' (KacstOne.ttf) normal normal 400 normal>) = 10.05\n",
      "11:16:47 DEBUG:findfont: score(<Font 'Liberation Sans' (LiberationSans-BoldItalic.ttf) italic normal 700 normal>) = 11.335\n",
      "11:16:47 DEBUG:findfont: score(<Font 'Lohit Odia' (Lohit-Odia.ttf) normal normal 400 normal>) = 10.05\n",
      "11:16:47 DEBUG:findfont: score(<Font 'Tlwg Typo' (TlwgTypo.ttf) normal normal 400 normal>) = 10.05\n"
     ]
    },
    {
     "name": "stderr",
     "output_type": "stream",
     "text": [
      "11:16:47 DEBUG:findfont: score(<Font 'DejaVu Sans' (DejaVuSans-Oblique.ttf) oblique normal 400 normal>) = 11.05\n",
      "11:16:47 DEBUG:findfont: score(<Font 'C059' (C059-Italic.otf) italic normal 400 normal>) = 11.05\n",
      "11:16:47 DEBUG:findfont: score(<Font 'Gargi' (Gargi.ttf) normal normal 400 normal>) = 10.05\n",
      "11:16:47 DEBUG:findfont: score(<Font 'FreeSans' (FreeSansBoldOblique.ttf) oblique normal 600 normal>) = 11.24\n",
      "11:16:47 DEBUG:findfont: score(<Font 'Noto Mono' (NotoMono-Regular.ttf) normal normal 400 normal>) = 10.05\n",
      "11:16:47 DEBUG:findfont: score(<Font 'Tlwg Mono' (TlwgMono.ttf) normal normal 400 normal>) = 10.05\n",
      "11:16:47 DEBUG:findfont: score(<Font 'Ubuntu' (Ubuntu-MI.ttf) italic normal 500 normal>) = 11.145\n",
      "11:16:47 DEBUG:findfont: score(<Font 'Norasi' (Norasi-BoldItalic.ttf) italic normal 700 normal>) = 11.335\n",
      "11:16:47 DEBUG:findfont: score(<Font 'Mukti Narrow' (MuktiNarrowBold.ttf) normal normal 700 normal>) = 10.335\n",
      "11:16:47 DEBUG:findfont: score(<Font 'Lato' (Lato-BlackItalic.ttf) italic normal 900 normal>) = 11.525\n",
      "11:16:47 DEBUG:findfont: score(<Font 'Liberation Sans' (LiberationSans-Italic.ttf) italic normal 400 normal>) = 11.05\n",
      "11:16:47 DEBUG:findfont: score(<Font 'URW Bookman' (URWBookman-Demi.otf) normal normal 600 normal>) = 10.24\n",
      "11:16:47 DEBUG:findfont: score(<Font 'Yrsa' (Yrsa-Light.ttf) normal normal 300 normal>) = 10.145\n",
      "11:16:47 DEBUG:findfont: score(<Font 'Tlwg Typo' (TlwgTypo-BoldOblique.ttf) oblique normal 700 normal>) = 11.335\n",
      "11:16:47 DEBUG:findfont: score(<Font 'Pagul' (Pagul.ttf) normal normal 400 normal>) = 10.05\n",
      "11:16:47 DEBUG:findfont: score(<Font 'DejaVu Sans' (DejaVuSansCondensed-Bold.ttf) normal normal 700 condensed>) = 10.535\n",
      "11:16:47 DEBUG:findfont: score(<Font 'Liberation Sans' (LiberationSans-Bold.ttf) normal normal 700 normal>) = 10.335\n",
      "11:16:47 DEBUG:findfont: score(<Font 'Garuda' (Garuda-Bold.ttf) normal normal 700 normal>) = 10.335\n",
      "11:16:47 DEBUG:findfont: score(<Font 'Manjari' (Manjari-Thin.otf) normal normal 100 normal>) = 10.335\n",
      "11:16:47 DEBUG:findfont: score(<Font 'MathJax_Typewriter' (MathJax_Typewriter-Regular.otf) normal normal 400 normal>) = 10.05\n",
      "11:16:47 DEBUG:findfont: score(<Font 'Ubuntu' (Ubuntu-RI.ttf) italic normal 400 normal>) = 11.05\n",
      "11:16:47 DEBUG:findfont: score(<Font 'Norasi' (Norasi-BoldOblique.ttf) oblique normal 700 normal>) = 11.335\n",
      "11:16:47 DEBUG:findfont: score(<Font 'aakar' (aakar-medium.ttf) normal normal 500 normal>) = 10.145\n",
      "11:16:47 DEBUG:findfont: score(<Font 'Kinnari' (Kinnari-Bold.ttf) normal normal 700 normal>) = 10.335\n",
      "11:16:47 DEBUG:findfont: score(<Font 'MathJax_Math' (MathJax_Math-Regular.otf) normal normal 400 normal>) = 10.05\n",
      "11:16:47 DEBUG:findfont: score(<Font 'P052' (P052-BoldItalic.otf) italic normal 700 normal>) = 11.335\n",
      "11:16:47 DEBUG:findfont: score(<Font 'Samyak Tamil' (Samyak-Tamil.ttf) normal normal 500 normal>) = 10.145\n",
      "11:16:47 DEBUG:findfont: score(<Font 'Navilu' (Navilu.ttf) normal normal 400 normal>) = 10.05\n",
      "11:16:47 DEBUG:findfont: score(<Font 'Suruma' (Suruma.ttf) normal normal 500 normal>) = 10.145\n",
      "11:16:47 DEBUG:findfont: score(<Font 'Nimbus Sans Narrow' (NimbusSansNarrow-BoldOblique.otf) oblique normal 700 condensed>) = 11.535\n",
      "11:16:47 DEBUG:findfont: score(<Font 'Lohit Malayalam' (Lohit-Malayalam.ttf) normal normal 400 normal>) = 10.05\n",
      "11:16:47 DEBUG:findfont: score(<Font 'Lato' (Lato-Light.ttf) normal normal 300 normal>) = 10.145\n",
      "11:16:47 DEBUG:findfont: score(<Font 'P052' (P052-Bold.otf) normal normal 700 normal>) = 10.335\n",
      "11:16:47 DEBUG:findfont: score(<Font 'Rasa' (Rasa-Regular.ttf) normal normal 400 normal>) = 10.05\n",
      "11:16:47 DEBUG:findfont: score(<Font 'Noto Serif CJK JP' (NotoSerifCJK-Bold.ttc) normal normal 700 normal>) = 10.335\n",
      "11:16:47 DEBUG:findfont: score(<Font 'Liberation Sans' (LiberationSans-BoldItalic.ttf) italic normal 700 normal>) = 11.335\n",
      "11:16:47 DEBUG:findfont: score(<Font 'Nimbus Mono PS' (NimbusMonoPS-Italic.otf) italic normal 400 normal>) = 11.05\n",
      "11:16:47 DEBUG:findfont: score(<Font 'Lato' (Lato-HeavyItalic.ttf) italic normal 800 normal>) = 11.43\n",
      "11:16:47 DEBUG:findfont: score(<Font 'Umpush' (Umpush-BoldOblique.ttf) oblique normal 700 normal>) = 11.335\n",
      "11:16:47 DEBUG:findfont: score(<Font 'Tlwg Typo' (TlwgTypo-Bold.ttf) normal normal 700 normal>) = 10.335\n",
      "11:16:47 DEBUG:findfont: score(<Font 'MathJax_SansSerif' (MathJax_SansSerif-Regular.otf) normal normal 400 normal>) = 10.05\n",
      "11:16:47 DEBUG:findfont: score(<Font 'MathJax_Main' (MathJax_Main-Bold.otf) normal normal 700 normal>) = 10.335\n",
      "11:16:47 DEBUG:findfont: score(<Font 'Rekha' (Rekha.ttf) normal normal 500 normal>) = 10.145\n",
      "11:16:47 DEBUG:findfont: score(<Font 'URW Bookman' (URWBookman-Light.otf) normal normal 300 normal>) = 10.145\n",
      "11:16:47 DEBUG:findfont: score(<Font 'URW Bookman' (URWBookman-LightItalic.otf) italic normal 300 normal>) = 11.145\n",
      "11:16:47 DEBUG:findfont: score(<Font 'URW Bookman' (URWBookman-DemiItalic.otf) italic normal 600 normal>) = 11.24\n",
      "11:16:47 DEBUG:findfont: score(<Font 'Abyssinica SIL' (AbyssinicaSIL-Regular.ttf) normal normal 400 normal>) = 10.05\n",
      "11:16:47 DEBUG:findfont: score(<Font 'Lato' (Lato-SemiboldItalic.ttf) italic normal 600 normal>) = 11.24\n",
      "11:16:47 DEBUG:findfont: score(<Font 'Liberation Sans Narrow' (LiberationSansNarrow-BoldItalic.ttf) italic normal 700 condensed>) = 11.535\n",
      "11:16:47 DEBUG:findfont: score(<Font 'DejaVu Sans Mono' (DejaVuSansMono-Bold.ttf) normal normal 700 normal>) = 10.335\n",
      "11:16:47 DEBUG:findfont: score(<Font 'Liberation Sans' (LiberationSans-Bold.ttf) normal normal 700 normal>) = 10.335\n",
      "11:16:47 DEBUG:findfont: score(<Font 'KacstQurn' (KacstQurn.ttf) normal normal 400 normal>) = 10.05\n",
      "11:16:47 DEBUG:findfont: score(<Font 'KacstDecorative' (KacstDecorative.ttf) normal normal 500 normal>) = 10.145\n",
      "11:16:47 DEBUG:findfont: score(<Font 'Laksaman' (Laksaman.ttf) normal normal 400 normal>) = 10.05\n",
      "11:16:47 DEBUG:findfont: score(<Font 'Tlwg Typewriter' (TlwgTypewriter-BoldOblique.ttf) oblique normal 700 normal>) = 11.335\n",
      "11:16:47 DEBUG:findfont: score(<Font 'DejaVu Sans' (DejaVuSansCondensed-BoldOblique.ttf) oblique normal 700 condensed>) = 11.535\n",
      "11:16:47 DEBUG:findfont: score(<Font 'Waree' (Waree-Bold.ttf) normal normal 700 normal>) = 10.335\n",
      "11:16:47 DEBUG:findfont: score(<Font 'DejaVu Sans' (DejaVuSansCondensed.ttf) normal normal 400 condensed>) = 10.25\n",
      "11:16:47 DEBUG:findfont: score(<Font 'KacstArt' (KacstArt.ttf) normal normal 500 normal>) = 10.145\n",
      "11:16:47 DEBUG:findfont: score(<Font 'FreeSerif' (FreeSerif.ttf) normal normal 400 normal>) = 10.05\n",
      "11:16:47 DEBUG:findfont: score(<Font 'LKLUG' (lklug.ttf) normal normal 400 normal>) = 10.05\n",
      "11:16:47 DEBUG:findfont: score(<Font 'Lato' (Lato-Black.ttf) normal normal 900 normal>) = 10.525\n",
      "11:16:47 DEBUG:findfont: score(<Font 'Tlwg Typist' (TlwgTypist-BoldOblique.ttf) oblique normal 700 normal>) = 11.335\n",
      "11:16:47 DEBUG:findfont: score(<Font 'Liberation Mono' (LiberationMono-Italic.ttf) italic normal 400 normal>) = 11.05\n",
      "11:16:47 DEBUG:findfont: score(<Font 'Phetsarath OT' (Phetsarath_OT.ttf) normal normal 400 normal>) = 10.05\n",
      "11:16:47 DEBUG:findfont: score(<Font 'Chandas' (chandas1-2.ttf) normal normal 400 normal>) = 10.05\n",
      "11:16:47 DEBUG:findfont: score(<Font 'Liberation Sans Narrow' (LiberationSansNarrow-Regular.ttf) normal normal 400 condensed>) = 10.25\n",
      "11:16:47 DEBUG:findfont: score(<Font 'DejaVu Serif' (DejaVuSerifCondensed-Bold.ttf) normal normal 700 condensed>) = 10.535\n",
      "11:16:47 DEBUG:findfont: score(<Font 'Z003' (Z003-MediumItalic.otf) italic normal 500 normal>) = 11.145\n",
      "11:16:47 DEBUG:findfont: score(<Font 'Padauk' (Padauk-Bold.ttf) normal normal 700 normal>) = 10.335\n",
      "11:16:47 DEBUG:findfont: score(<Font 'Nimbus Sans Narrow' (NimbusSansNarrow-Bold.otf) normal normal 700 condensed>) = 10.535\n",
      "11:16:47 DEBUG:findfont: score(<Font 'Liberation Mono' (LiberationMono-Regular.ttf) normal normal 400 normal>) = 10.05\n",
      "11:16:47 DEBUG:findfont: score(<Font 'Garuda' (Garuda-BoldOblique.ttf) oblique normal 700 normal>) = 11.335\n",
      "11:16:47 DEBUG:findfont: score(<Font 'Liberation Serif' (LiberationSerif-BoldItalic.ttf) italic normal 700 normal>) = 11.335\n",
      "11:16:47 DEBUG:findfont: score(<Font 'MathJax_Math' (MathJax_Math-BoldItalic.otf) italic normal 700 normal>) = 11.335\n",
      "11:16:47 DEBUG:findfont: score(<Font 'Jamrul' (JamrulNormal.ttf) normal normal 500 normal>) = 10.145\n"
     ]
    },
    {
     "name": "stderr",
     "output_type": "stream",
     "text": [
      "11:16:47 DEBUG:findfont: score(<Font 'Yrsa' (Yrsa-Medium.ttf) normal normal 500 normal>) = 10.145\n",
      "11:16:47 DEBUG:findfont: score(<Font 'Lato' (Lato-Bold.ttf) normal normal 700 normal>) = 10.335\n",
      "11:16:47 DEBUG:findfont: score(<Font 'Ani' (ani.ttf) normal normal 400 normal>) = 10.05\n",
      "11:16:47 DEBUG:findfont: score(<Font 'Liberation Sans' (LiberationSans-Italic.ttf) italic normal 400 normal>) = 11.05\n",
      "11:16:47 DEBUG:findfont: score(<Font 'AnjaliOldLipi' (AnjaliOldLipi-Regular.ttf) normal normal 400 normal>) = 10.05\n",
      "11:16:47 DEBUG:findfont: score(<Font 'OpenSymbol' (opens___.ttf) normal normal 400 normal>) = 10.05\n",
      "11:16:47 DEBUG:findfont: score(<Font 'Laksaman' (Laksaman-Bold.ttf) normal normal 700 normal>) = 10.335\n",
      "11:16:47 DEBUG:findfont: score(<Font 'Ubuntu Mono' (UbuntuMono-RI.ttf) italic normal 400 normal>) = 11.05\n",
      "11:16:47 DEBUG:findfont: score(<Font 'Ubuntu Mono' (UbuntuMono-BI.ttf) italic normal 700 normal>) = 11.335\n",
      "11:16:47 DEBUG:findfont: score(<Font 'Purisa' (Purisa-Oblique.ttf) oblique normal 400 normal>) = 11.05\n",
      "11:16:47 DEBUG:findfont: score(<Font 'Lato' (Lato-MediumItalic.ttf) italic normal 500 normal>) = 11.145\n",
      "11:16:47 DEBUG:findfont: score(<Font 'MathJax_AMS' (MathJax_AMS-Regular.otf) normal normal 400 normal>) = 10.05\n",
      "11:16:47 DEBUG:findfont: score(<Font 'DejaVu Sans' (DejaVuSans.ttf) normal normal 400 normal>) = 10.05\n",
      "11:16:47 DEBUG:findfont: score(<Font 'Yrsa' (Yrsa-SemiBold.ttf) normal normal 600 normal>) = 10.24\n",
      "11:16:47 DEBUG:findfont: score(<Font 'MathJax_Script' (MathJax_Script-Regular.otf) normal normal 400 normal>) = 10.05\n",
      "11:16:47 DEBUG:findfont: score(<Font 'Garuda' (Garuda-Oblique.ttf) oblique normal 400 normal>) = 11.05\n",
      "11:16:47 DEBUG:findfont: score(<Font 'KacstOne' (KacstOne-Bold.ttf) normal normal 700 normal>) = 10.335\n",
      "11:16:47 DEBUG:findfont: score(<Font 'Nimbus Roman' (NimbusRoman-Italic.otf) italic normal 400 normal>) = 11.05\n",
      "11:16:47 DEBUG:findfont: score(<Font 'Loma' (Loma-BoldOblique.ttf) oblique normal 700 normal>) = 11.335\n",
      "11:16:47 DEBUG:findfont: score(<Font 'Noto Sans CJK JP' (NotoSansCJK-Bold.ttc) normal normal 700 normal>) = 10.335\n",
      "11:16:47 DEBUG:findfont: score(<Font 'Liberation Serif' (LiberationSerif-Italic.ttf) italic normal 400 normal>) = 11.05\n",
      "11:16:47 DEBUG:findfont: score(<Font 'Ubuntu Condensed' (Ubuntu-C.ttf) normal normal 400 condensed>) = 10.25\n",
      "11:16:47 DEBUG:findfont: score(<Font 'Lato' (Lato-Heavy.ttf) normal normal 800 normal>) = 10.43\n",
      "11:16:47 DEBUG:findfont: score(<Font 'FreeSans' (FreeSans.ttf) normal normal 400 normal>) = 10.05\n",
      "11:16:47 DEBUG:findfont: score(<Font 'MathJax_SansSerif' (MathJax_SansSerif-Bold.otf) normal normal 700 normal>) = 10.335\n",
      "11:16:47 DEBUG:findfont: score(<Font 'FontAwesome' (fontawesome-webfont.ttf) normal normal 400 normal>) = 10.05\n",
      "11:16:47 DEBUG:findfont: score(<Font 'Umpush' (Umpush.ttf) normal normal 400 normal>) = 10.05\n",
      "11:16:47 DEBUG:findfont: score(<Font 'Rachana' (Rachana-Bold.ttf) normal normal 700 normal>) = 10.335\n",
      "11:16:47 DEBUG:findfont: score(<Font 'C059' (C059-Roman.otf) normal normal 400 normal>) = 10.05\n",
      "11:16:47 DEBUG:findfont: score(<Font 'Nimbus Roman' (NimbusRoman-Bold.otf) normal normal 700 normal>) = 10.335\n",
      "11:16:47 DEBUG:findfont: score(<Font 'URW Gothic' (URWGothic-Demi.otf) normal normal 600 normal>) = 10.24\n",
      "11:16:47 DEBUG:findfont: score(<Font 'DejaVu Math TeX Gyre' (DejaVuMathTeXGyre.ttf) normal normal 400 normal>) = 10.05\n",
      "11:16:47 DEBUG:findfont: score(<Font 'MathJax_Vector' (MathJax_Vector-Regular.otf) normal normal 500 normal>) = 10.145\n",
      "11:16:47 DEBUG:findfont: score(<Font 'Liberation Serif' (LiberationSerif-Regular.ttf) normal normal 400 normal>) = 10.05\n",
      "11:16:47 DEBUG:findfont: score(<Font 'DejaVu Sans Mono' (DejaVuSansMono.ttf) normal normal 400 normal>) = 10.05\n",
      "11:16:47 DEBUG:findfont: score(<Font 'C059' (C059-Bold.otf) normal normal 700 normal>) = 10.335\n",
      "11:16:47 DEBUG:findfont: score(<Font 'Karumbi' (Karumbi-Regular.ttf) normal normal 400 normal>) = 10.05\n",
      "11:16:47 DEBUG:findfont: score(<Font 'KacstBook' (KacstBook.ttf) normal normal 500 normal>) = 10.145\n",
      "11:16:47 DEBUG:findfont: score(<Font 'Padauk' (Padauk-Regular.ttf) normal normal 400 normal>) = 10.05\n",
      "11:16:47 DEBUG:findfont: score(<Font 'FreeSans' (FreeSansOblique.ttf) oblique normal 400 normal>) = 11.05\n",
      "11:16:47 DEBUG:findfont: score(<Font 'Ubuntu' (Ubuntu-R.ttf) normal normal 400 normal>) = 10.05\n",
      "11:16:47 DEBUG:findfont: score(<Font 'Meera' (Meera-Regular.ttf) normal normal 400 normal>) = 10.05\n",
      "11:16:47 DEBUG:findfont: score(<Font 'MathJax_Math' (MathJax_Math-Italic.otf) italic normal 400 normal>) = 11.05\n",
      "11:16:47 DEBUG:findfont: score(<Font 'Lato' (Lato-HairlineItalic.ttf) italic normal 100 normal>) = 11.335\n",
      "11:16:47 DEBUG:findfont: score(<Font 'Ubuntu' (Ubuntu-L.ttf) normal normal 300 normal>) = 10.145\n",
      "11:16:47 DEBUG:findfont: score(<Font 'URW Gothic' (URWGothic-DemiOblique.otf) oblique normal 600 normal>) = 11.24\n",
      "11:16:47 DEBUG:findfont: score(<Font 'Norasi' (Norasi.ttf) normal normal 400 normal>) = 10.05\n",
      "11:16:47 DEBUG:findfont: score(<Font 'DejaVu Serif' (DejaVuSerifCondensed.ttf) normal normal 400 condensed>) = 10.25\n",
      "11:16:47 DEBUG:findfont: score(<Font 'Garuda' (Garuda.ttf) normal normal 400 normal>) = 10.05\n",
      "11:16:47 DEBUG:findfont: score(<Font 'KacstOffice' (KacstOffice.ttf) normal normal 500 normal>) = 10.145\n",
      "11:16:47 DEBUG:findfont: score(<Font 'Kalimati' (kalimati.ttf) normal normal 400 normal>) = 10.05\n",
      "11:16:47 DEBUG:findfont: score(<Font 'DejaVu Serif' (DejaVuSerifCondensed-BoldItalic.ttf) italic normal 700 condensed>) = 11.535\n",
      "11:16:47 DEBUG:findfont: score(<Font 'Pothana2000' (Pothana2000.ttf) normal normal 400 normal>) = 10.05\n",
      "11:16:47 DEBUG:findfont: score(<Font 'Tlwg Mono' (TlwgMono-Bold.ttf) normal normal 700 normal>) = 10.335\n",
      "11:16:47 DEBUG:findfont: score(<Font 'Liberation Serif' (LiberationSerif-Italic.ttf) italic normal 400 normal>) = 11.05\n",
      "11:16:47 DEBUG:findfont: score(<Font 'Manjari' (Manjari-Bold.otf) normal normal 700 normal>) = 10.335\n",
      "11:16:47 DEBUG:findfont: score(<Font 'ori1Uni' (utkal.ttf) normal normal 500 normal>) = 10.145\n",
      "11:16:47 DEBUG:findfont: score(<Font 'Liberation Mono' (LiberationMono-Regular.ttf) normal normal 400 normal>) = 10.05\n",
      "11:16:47 DEBUG:findfont: score(<Font 'padmaa-Bold.1.1' (padmaa-Bold.1.1.ttf) normal normal 700 normal>) = 10.335\n",
      "11:16:47 DEBUG:findfont: score(<Font 'Lohit Gujarati' (Lohit-Gujarati.ttf) normal normal 400 normal>) = 10.05\n",
      "11:16:47 DEBUG:findfont: score(<Font 'Norasi' (Norasi-Oblique.ttf) oblique normal 400 normal>) = 11.05\n",
      "11:16:47 DEBUG:findfont: score(<Font 'Lato' (Lato-Italic.ttf) italic normal 400 normal>) = 11.05\n",
      "11:16:47 DEBUG:findfont: score(<Font 'Lato' (Lato-Thin.ttf) normal normal 200 normal>) = 10.24\n",
      "11:16:47 DEBUG:findfont: score(<Font 'Nimbus Sans' (NimbusSans-Italic.otf) italic normal 400 normal>) = 11.05\n",
      "11:16:47 DEBUG:findfont: score(<Font 'Sarai' (Sarai.ttf) normal normal 400 normal>) = 10.05\n",
      "11:16:47 DEBUG:findfont: score(<Font 'MathJax_Vector-Bold' (MathJax_Vector-Bold.otf) normal normal 500 normal>) = 10.145\n",
      "11:16:47 DEBUG:findfont: score(<Font 'Loma' (Loma.ttf) normal normal 400 normal>) = 10.05\n",
      "11:16:47 DEBUG:findfont: score(<Font 'Rachana' (Rachana-Regular.ttf) normal normal 400 normal>) = 10.05\n",
      "11:16:47 DEBUG:findfont: score(<Font 'Liberation Serif' (LiberationSerif-Regular.ttf) normal normal 400 normal>) = 10.05\n",
      "11:16:47 DEBUG:findfont: score(<Font 'Uroob' (Uroob-Regular.ttf) normal normal 400 normal>) = 10.05\n",
      "11:16:47 DEBUG:findfont: score(<Font 'KacstTitleL' (KacstTitleL.ttf) normal normal 400 normal>) = 10.05\n",
      "11:16:47 DEBUG:findfont: score(<Font 'Nimbus Sans Narrow' (NimbusSansNarrow-Oblique.otf) oblique normal 400 condensed>) = 11.25\n",
      "11:16:47 DEBUG:findfont: score(<Font 'Tlwg Typist' (TlwgTypist-Bold.ttf) normal normal 700 normal>) = 10.335\n",
      "11:16:47 DEBUG:findfont: score(<Font 'MathJax_Main' (MathJax_Main-Italic.otf) italic normal 400 normal>) = 11.05\n",
      "11:16:47 DEBUG:findfont: score(<Font 'MathJax_WinIE6' (MathJax_WinIE6-Regular.otf) normal normal 400 normal>) = 10.05\n",
      "11:16:47 DEBUG:findfont: score(<Font 'KacstLetter' (KacstLetter.ttf) normal normal 500 normal>) = 10.145\n",
      "11:16:47 DEBUG:findfont: score(<Font 'Lato' (Lato-Medium.ttf) normal normal 500 normal>) = 10.145\n"
     ]
    },
    {
     "name": "stderr",
     "output_type": "stream",
     "text": [
      "11:16:47 DEBUG:findfont: score(<Font 'Dyuthi' (Dyuthi-Regular.ttf) normal normal 400 normal>) = 10.05\n",
      "11:16:47 DEBUG:findfont: score(<Font 'Lohit Bengali' (Lohit-Bengali.ttf) normal normal 400 normal>) = 10.05\n",
      "11:16:47 DEBUG:findfont: score(<Font 'MathJax_Size4' (MathJax_Size4-Regular.otf) normal normal 400 normal>) = 10.05\n",
      "11:16:47 DEBUG:findfont: score(<Font 'KacstPoster' (KacstPoster.ttf) normal normal 500 normal>) = 10.145\n",
      "11:16:47 DEBUG:findfont: score(<Font 'padmaa' (padmaa.ttf) normal normal 500 normal>) = 10.145\n",
      "11:16:47 DEBUG:findfont: score(<Font 'Nimbus Sans' (NimbusSans-Regular.otf) normal normal 400 normal>) = 10.05\n",
      "11:16:47 DEBUG:findfont: score(<Font 'MathJax_Size2' (MathJax_Size2-Regular.otf) normal normal 400 normal>) = 10.05\n",
      "11:16:47 DEBUG:findfont: score(<Font 'Lohit Assamese' (Lohit-Assamese.ttf) normal normal 400 normal>) = 10.05\n",
      "11:16:47 DEBUG:findfont: score(<Font 'Noto Serif CJK JP' (NotoSerifCJK-Regular.ttc) normal normal 400 normal>) = 10.05\n",
      "11:16:47 DEBUG:findfont: score(<Font 'MathJax_Fraktur' (MathJax_Fraktur-Bold.otf) normal normal 700 normal>) = 10.335\n",
      "11:16:47 DEBUG:findfont: score(<Font 'FreeSerif' (FreeSerifItalic.ttf) italic normal 400 normal>) = 11.05\n",
      "11:16:47 DEBUG:findfont: score(<Font 'DejaVu Serif' (DejaVuSerifCondensed-Italic.ttf) italic normal 400 condensed>) = 11.25\n",
      "11:16:47 DEBUG:findfont: score(<Font 'Samyak Malayalam' (Samyak-Malayalam.ttf) normal normal 400 normal>) = 10.05\n",
      "11:16:47 DEBUG:findfont: score(<Font 'KacstTitle' (KacstTitle.ttf) normal normal 500 normal>) = 10.145\n",
      "11:16:47 DEBUG:findfont: score(<Font 'DejaVu Sans' (DejaVuSans-BoldOblique.ttf) oblique normal 700 normal>) = 11.335\n",
      "11:16:47 DEBUG:findfont: score(<Font 'Lohit Telugu' (Lohit-Telugu.ttf) normal normal 400 normal>) = 10.05\n",
      "11:16:47 DEBUG:findfont: score(<Font 'Norasi' (Norasi-Italic.ttf) italic normal 400 normal>) = 11.05\n",
      "11:16:47 DEBUG:findfont: score(<Font 'Liberation Serif' (LiberationSerif-Bold.ttf) normal normal 700 normal>) = 10.335\n",
      "11:16:47 DEBUG:findfont: score(<Font 'Manjari' (Manjari-Regular.otf) normal normal 400 normal>) = 10.05\n",
      "11:16:47 DEBUG:findfont: score(<Font 'DejaVu Serif' (DejaVuSerif-Bold.ttf) normal normal 700 normal>) = 10.335\n",
      "11:16:47 DEBUG:findfont: score(<Font 'FontAwesome' (FontAwesome.otf) normal normal 400 normal>) = 10.05\n",
      "11:16:47 DEBUG:findfont: score(<Font 'MathJax_Caligraphic' (MathJax_Caligraphic-Regular.otf) normal normal 400 normal>) = 10.05\n",
      "11:16:47 DEBUG:findfont: score(<Font 'Nimbus Mono PS' (NimbusMonoPS-Regular.otf) normal normal 400 normal>) = 10.05\n",
      "11:16:47 DEBUG:findfont: score(<Font 'Likhan' (LikhanNormal.ttf) normal normal 500 normal>) = 10.145\n",
      "11:16:47 DEBUG:findfont: score(<Font 'KacstNaskh' (KacstNaskh.ttf) normal normal 500 normal>) = 10.145\n",
      "11:16:47 DEBUG:findfont: score(<Font 'P052' (P052-Italic.otf) italic normal 400 normal>) = 11.05\n",
      "11:16:47 DEBUG:findfont: score(<Font 'Waree' (Waree-Oblique.ttf) oblique normal 400 normal>) = 11.05\n",
      "11:16:47 DEBUG:findfont: score(<Font 'KacstDigital' (KacstDigital.ttf) normal normal 500 normal>) = 10.145\n",
      "11:16:47 DEBUG:findfont: score(<Font 'Liberation Serif' (LiberationSerif-Bold.ttf) normal normal 700 normal>) = 10.335\n",
      "11:16:47 DEBUG:findfont: score(<Font 'Umpush' (Umpush-Light.ttf) normal normal 300 normal>) = 10.145\n",
      "11:16:47 DEBUG:findfont: score(<Font 'MathJax_WinChrome' (MathJax_WinChrome-Regular.otf) normal normal 400 normal>) = 10.05\n",
      "11:16:47 DEBUG:findfont: score(<Font 'Tibetan Machine Uni' (TibetanMachineUni.ttf) normal normal 400 normal>) = 10.05\n",
      "11:16:47 DEBUG:findfont: score(<Font 'Rasa' (Rasa-Medium.ttf) normal normal 500 normal>) = 10.145\n",
      "11:16:47 DEBUG:findfont: score(<Font 'Ubuntu' (Ubuntu-B.ttf) normal normal 700 normal>) = 10.335\n",
      "11:16:47 DEBUG:findfont: score(<Font 'Purisa' (Purisa.ttf) normal normal 400 normal>) = 10.05\n",
      "11:16:47 DEBUG:findfont: score(<Font 'KacstScreen' (KacstScreen.ttf) normal normal 500 normal>) = 10.145\n",
      "11:16:47 DEBUG:findfont: score(<Font 'Gayathri' (Gayathri-Thin.otf) normal normal 100 normal>) = 10.335\n",
      "11:16:47 DEBUG:findfont: score(<Font 'Rasa' (Rasa-Bold.ttf) normal normal 700 normal>) = 10.335\n",
      "11:16:47 DEBUG:findfont: score(<Font 'Liberation Mono' (LiberationMono-BoldItalic.ttf) italic normal 700 normal>) = 11.335\n",
      "11:16:47 DEBUG:findfont: score(<Font 'MathJax_Main' (MathJax_Main-Regular.otf) normal normal 400 normal>) = 10.05\n",
      "11:16:47 DEBUG:findfont: score(<Font 'Rasa' (Rasa-Light.ttf) normal normal 300 normal>) = 10.145\n",
      "11:16:47 DEBUG:findfont: score(<Font 'Chilanka' (Chilanka-Regular.otf) normal normal 400 normal>) = 10.05\n",
      "11:16:47 DEBUG:findfont: score(<Font 'Purisa' (Purisa-BoldOblique.ttf) oblique normal 700 normal>) = 11.335\n",
      "11:16:47 DEBUG:findfont: score(<Font 'DejaVu Sans' (DejaVuSansCondensed-Oblique.ttf) oblique normal 400 condensed>) = 11.25\n",
      "11:16:47 DEBUG:findfont: score(<Font 'P052' (P052-Roman.otf) normal normal 400 normal>) = 10.05\n",
      "11:16:47 DEBUG:findfont: score(<Font 'Droid Sans Fallback' (DroidSansFallbackFull.ttf) normal normal 400 normal>) = 10.05\n",
      "11:16:47 DEBUG:findfont: score(<Font 'Lato' (Lato-ThinItalic.ttf) italic normal 200 normal>) = 11.24\n",
      "11:16:47 DEBUG:findfont: score(<Font 'Lohit Kannada' (Lohit-Kannada.ttf) normal normal 400 normal>) = 10.05\n",
      "11:16:47 WARNING:findfont: Font family ['serif'] not found. Falling back to DejaVu Sans.\n",
      "11:16:47 DEBUG:findfont: Matching DejaVu Sans:style=normal:variant=normal:weight=normal:stretch=normal:size=35.0.\n",
      "11:16:47 DEBUG:findfont: score(<Font 'cmmi10' (cmmi10.ttf) normal normal 400 normal>) = 10.05\n",
      "11:16:47 DEBUG:findfont: score(<Font 'STIXSizeTwoSym' (STIXSizTwoSymReg.ttf) normal normal 400 normal>) = 10.05\n",
      "11:16:47 DEBUG:findfont: score(<Font 'STIXGeneral' (STIXGeneralBol.ttf) normal normal 700 normal>) = 10.335\n",
      "11:16:47 DEBUG:findfont: score(<Font 'DejaVu Sans Display' (DejaVuSansDisplay.ttf) normal normal 400 normal>) = 10.05\n",
      "11:16:47 DEBUG:findfont: score(<Font 'DejaVu Serif Display' (DejaVuSerifDisplay.ttf) normal normal 400 normal>) = 10.05\n",
      "11:16:47 DEBUG:findfont: score(<Font 'STIXGeneral' (STIXGeneral.ttf) normal normal 400 normal>) = 10.05\n",
      "11:16:47 DEBUG:findfont: score(<Font 'cmex10' (cmex10.ttf) normal normal 400 normal>) = 10.05\n",
      "11:16:47 DEBUG:findfont: score(<Font 'cmss10' (cmss10.ttf) normal normal 400 normal>) = 10.05\n",
      "11:16:47 DEBUG:findfont: score(<Font 'DejaVu Sans Mono' (DejaVuSansMono.ttf) normal normal 400 normal>) = 10.05\n",
      "11:16:47 DEBUG:findfont: score(<Font 'cmr10' (cmr10.ttf) normal normal 400 normal>) = 10.05\n",
      "11:16:47 DEBUG:findfont: score(<Font 'cmtt10' (cmtt10.ttf) normal normal 400 normal>) = 10.05\n",
      "11:16:47 DEBUG:findfont: score(<Font 'DejaVu Sans' (DejaVuSans-Oblique.ttf) oblique normal 400 normal>) = 1.05\n",
      "11:16:47 DEBUG:findfont: score(<Font 'DejaVu Serif' (DejaVuSerif-Italic.ttf) italic normal 400 normal>) = 11.05\n",
      "11:16:47 DEBUG:findfont: score(<Font 'DejaVu Sans Mono' (DejaVuSansMono-Oblique.ttf) oblique normal 400 normal>) = 11.05\n",
      "11:16:47 DEBUG:findfont: score(<Font 'STIXSizeOneSym' (STIXSizOneSymReg.ttf) normal normal 400 normal>) = 10.05\n",
      "11:16:47 DEBUG:findfont: score(<Font 'STIXSizeFiveSym' (STIXSizFiveSymReg.ttf) normal normal 400 normal>) = 10.05\n",
      "11:16:47 DEBUG:findfont: score(<Font 'STIXNonUnicode' (STIXNonUniBolIta.ttf) italic normal 700 normal>) = 11.335\n",
      "11:16:47 DEBUG:findfont: score(<Font 'STIXSizeTwoSym' (STIXSizTwoSymBol.ttf) normal normal 700 normal>) = 10.335\n",
      "11:16:47 DEBUG:findfont: score(<Font 'STIXGeneral' (STIXGeneralBolIta.ttf) italic normal 700 normal>) = 11.335\n",
      "11:16:47 DEBUG:findfont: score(<Font 'STIXNonUnicode' (STIXNonUniBol.ttf) normal normal 700 normal>) = 10.335\n",
      "11:16:47 DEBUG:findfont: score(<Font 'cmb10' (cmb10.ttf) normal normal 400 normal>) = 10.05\n",
      "11:16:47 DEBUG:findfont: score(<Font 'cmsy10' (cmsy10.ttf) normal normal 400 normal>) = 10.05\n",
      "11:16:47 DEBUG:findfont: score(<Font 'DejaVu Serif' (DejaVuSerif-BoldItalic.ttf) italic normal 700 normal>) = 11.335\n",
      "11:16:47 DEBUG:findfont: score(<Font 'STIXSizeOneSym' (STIXSizOneSymBol.ttf) normal normal 700 normal>) = 10.335\n",
      "11:16:47 DEBUG:findfont: score(<Font 'DejaVu Sans Mono' (DejaVuSansMono-BoldOblique.ttf) oblique normal 700 normal>) = 11.335\n",
      "11:16:47 DEBUG:findfont: score(<Font 'STIXGeneral' (STIXGeneralItalic.ttf) italic normal 400 normal>) = 11.05\n"
     ]
    },
    {
     "name": "stderr",
     "output_type": "stream",
     "text": [
      "11:16:47 DEBUG:findfont: score(<Font 'STIXSizeThreeSym' (STIXSizThreeSymReg.ttf) normal normal 400 normal>) = 10.05\n",
      "11:16:47 DEBUG:findfont: score(<Font 'DejaVu Serif' (DejaVuSerif-Bold.ttf) normal normal 700 normal>) = 10.335\n",
      "11:16:47 DEBUG:findfont: score(<Font 'STIXNonUnicode' (STIXNonUni.ttf) normal normal 400 normal>) = 10.05\n",
      "11:16:47 DEBUG:findfont: score(<Font 'STIXSizeFourSym' (STIXSizFourSymBol.ttf) normal normal 700 normal>) = 10.335\n",
      "11:16:47 DEBUG:findfont: score(<Font 'STIXSizeFourSym' (STIXSizFourSymReg.ttf) normal normal 400 normal>) = 10.05\n",
      "11:16:47 DEBUG:findfont: score(<Font 'DejaVu Sans' (DejaVuSans-BoldOblique.ttf) oblique normal 700 normal>) = 1.335\n",
      "11:16:47 DEBUG:findfont: score(<Font 'DejaVu Sans' (DejaVuSans-Bold.ttf) normal normal 700 normal>) = 0.33499999999999996\n",
      "11:16:47 DEBUG:findfont: score(<Font 'DejaVu Sans Mono' (DejaVuSansMono-Bold.ttf) normal normal 700 normal>) = 10.335\n",
      "11:16:47 DEBUG:findfont: score(<Font 'STIXNonUnicode' (STIXNonUniIta.ttf) italic normal 400 normal>) = 11.05\n",
      "11:16:47 DEBUG:findfont: score(<Font 'DejaVu Sans' (DejaVuSans.ttf) normal normal 400 normal>) = 0.05\n",
      "11:16:47 DEBUG:findfont: score(<Font 'DejaVu Serif' (DejaVuSerif.ttf) normal normal 400 normal>) = 10.05\n",
      "11:16:47 DEBUG:findfont: score(<Font 'STIXSizeThreeSym' (STIXSizThreeSymBol.ttf) normal normal 700 normal>) = 10.335\n",
      "11:16:47 DEBUG:findfont: score(<Font 'Mitra Mono' (mitra.ttf) normal normal 400 normal>) = 10.05\n",
      "11:16:47 DEBUG:findfont: score(<Font 'Liberation Mono' (LiberationMono-Bold.ttf) normal normal 700 normal>) = 10.335\n",
      "11:16:47 DEBUG:findfont: score(<Font 'Gayathri' (Gayathri-Regular.otf) normal normal 400 normal>) = 10.05\n",
      "11:16:47 DEBUG:findfont: score(<Font 'FreeMono' (FreeMonoBoldOblique.ttf) oblique normal 700 normal>) = 11.335\n",
      "11:16:47 DEBUG:findfont: score(<Font 'Ubuntu' (Ubuntu-LI.ttf) italic normal 300 normal>) = 11.145\n",
      "11:16:47 DEBUG:findfont: score(<Font 'Padauk Book' (PadaukBook-Bold.ttf) normal normal 700 normal>) = 10.335\n",
      "11:16:47 DEBUG:findfont: score(<Font 'Nimbus Roman' (NimbusRoman-Regular.otf) normal normal 400 normal>) = 10.05\n",
      "11:16:47 DEBUG:findfont: score(<Font 'FreeSerif' (FreeSerifBold.ttf) normal normal 700 normal>) = 10.335\n",
      "11:16:47 DEBUG:findfont: score(<Font 'Sawasdee' (Sawasdee-Bold.ttf) normal normal 700 normal>) = 10.335\n",
      "11:16:47 DEBUG:findfont: score(<Font 'mry_KacstQurn' (mry_KacstQurn.ttf) normal normal 400 normal>) = 10.05\n",
      "11:16:47 DEBUG:findfont: score(<Font 'FreeMono' (FreeMonoBold.ttf) normal normal 700 normal>) = 10.335\n",
      "11:16:47 DEBUG:findfont: score(<Font 'Kinnari' (Kinnari-Oblique.ttf) oblique normal 400 normal>) = 11.05\n",
      "11:16:47 DEBUG:findfont: score(<Font 'C059' (C059-BdIta.otf) italic normal 700 normal>) = 11.335\n",
      "11:16:47 DEBUG:findfont: score(<Font 'MathJax_Caligraphic' (MathJax_Caligraphic-Bold.otf) normal normal 700 normal>) = 10.335\n",
      "11:16:47 DEBUG:findfont: score(<Font 'Lohit Devanagari' (Lohit-Devanagari.ttf) normal normal 400 normal>) = 10.05\n",
      "11:16:47 DEBUG:findfont: score(<Font 'Lato' (Lato-Regular.ttf) normal normal 400 normal>) = 10.05\n",
      "11:16:47 DEBUG:findfont: score(<Font 'Liberation Sans' (LiberationSans-Regular.ttf) normal normal 400 normal>) = 10.05\n",
      "11:16:47 DEBUG:findfont: score(<Font 'Vemana2000' (vemana2000.ttf) normal normal 400 normal>) = 10.05\n",
      "11:16:47 DEBUG:findfont: score(<Font 'Tlwg Typo' (TlwgTypo-Oblique.ttf) oblique normal 400 normal>) = 11.05\n",
      "11:16:47 DEBUG:findfont: score(<Font 'Gayathri' (Gayathri-Bold.otf) normal normal 700 normal>) = 10.335\n",
      "11:16:47 DEBUG:findfont: score(<Font 'RaghuMalayalamSans' (RaghuMalayalamSans-Regular.ttf) normal normal 400 normal>) = 10.05\n",
      "11:16:47 DEBUG:findfont: score(<Font 'Yrsa' (Yrsa-Regular.ttf) normal normal 400 normal>) = 10.05\n",
      "11:16:47 DEBUG:findfont: score(<Font 'Lato' (Lato-Hairline.ttf) normal normal 100 normal>) = 10.335\n",
      "11:16:47 DEBUG:findfont: score(<Font 'Tlwg Mono' (TlwgMono-Oblique.ttf) oblique normal 400 normal>) = 11.05\n",
      "11:16:47 DEBUG:findfont: score(<Font 'Kalapi' (Kalapi.ttf) normal normal 400 normal>) = 10.05\n",
      "11:16:47 DEBUG:findfont: score(<Font 'Nimbus Sans' (NimbusSans-BoldItalic.otf) italic normal 700 normal>) = 11.335\n",
      "11:16:47 DEBUG:findfont: score(<Font 'Loma' (Loma-Bold.ttf) normal normal 700 normal>) = 10.335\n",
      "11:16:47 DEBUG:findfont: score(<Font 'Liberation Serif' (LiberationSerif-BoldItalic.ttf) italic normal 700 normal>) = 11.335\n",
      "11:16:47 DEBUG:findfont: score(<Font 'Sahadeva' (sahadeva.ttf) normal normal 400 normal>) = 10.05\n",
      "11:16:47 DEBUG:findfont: score(<Font 'KacstFarsi' (KacstFarsi.ttf) normal normal 500 normal>) = 10.145\n",
      "11:16:47 DEBUG:findfont: score(<Font 'Yrsa' (Yrsa-Bold.ttf) normal normal 700 normal>) = 10.335\n",
      "11:16:47 DEBUG:findfont: score(<Font 'FreeSans' (FreeSansBold.ttf) normal normal 600 normal>) = 10.24\n",
      "11:16:47 DEBUG:findfont: score(<Font 'Umpush' (Umpush-LightOblique.ttf) oblique normal 300 normal>) = 11.145\n",
      "11:16:47 DEBUG:findfont: score(<Font 'Kinnari' (Kinnari-BoldItalic.ttf) italic normal 700 normal>) = 11.335\n",
      "11:16:47 DEBUG:findfont: score(<Font 'Tlwg Mono' (TlwgMono-BoldOblique.ttf) oblique normal 700 normal>) = 11.335\n",
      "11:16:47 DEBUG:findfont: score(<Font 'Ubuntu' (Ubuntu-M.ttf) normal normal 500 normal>) = 10.145\n",
      "11:16:47 DEBUG:findfont: score(<Font 'Samanata' (samanata.ttf) normal normal 400 normal>) = 10.05\n",
      "11:16:47 DEBUG:findfont: score(<Font 'Sawasdee' (Sawasdee-Oblique.ttf) oblique normal 400 normal>) = 11.05\n",
      "11:16:47 DEBUG:findfont: score(<Font 'Purisa' (Purisa-Bold.ttf) normal normal 700 normal>) = 10.335\n",
      "11:16:47 DEBUG:findfont: score(<Font 'Keraleeyam' (Keraleeyam-Regular.ttf) normal normal 400 normal>) = 10.05\n",
      "11:16:47 DEBUG:findfont: score(<Font 'FreeSerif' (FreeSerifBoldItalic.ttf) italic normal 700 normal>) = 11.335\n",
      "11:16:47 DEBUG:findfont: score(<Font 'Ubuntu Mono' (UbuntuMono-R.ttf) normal normal 400 normal>) = 10.05\n",
      "11:16:47 DEBUG:findfont: score(<Font 'Ubuntu Mono' (UbuntuMono-B.ttf) normal normal 700 normal>) = 10.335\n",
      "11:16:47 DEBUG:findfont: score(<Font 'FreeMono' (FreeMono.ttf) normal normal 400 normal>) = 10.05\n",
      "11:16:47 DEBUG:findfont: score(<Font 'Laksaman' (Laksaman-Italic.ttf) italic normal 400 normal>) = 11.05\n",
      "11:16:47 DEBUG:findfont: score(<Font 'Tlwg Typewriter' (TlwgTypewriter-Oblique.ttf) oblique normal 400 normal>) = 11.05\n",
      "11:16:47 DEBUG:findfont: score(<Font 'Gubbi' (Gubbi.ttf) normal normal 400 normal>) = 10.05\n",
      "11:16:47 DEBUG:findfont: score(<Font 'Lato' (Lato-Semibold.ttf) normal normal 600 normal>) = 10.24\n",
      "11:16:47 DEBUG:findfont: score(<Font 'DejaVu Serif' (DejaVuSerif-Italic.ttf) italic normal 400 normal>) = 11.05\n",
      "11:16:47 DEBUG:findfont: score(<Font 'Laksaman' (Laksaman-BoldItalic.ttf) italic normal 700 normal>) = 11.335\n",
      "11:16:47 DEBUG:findfont: score(<Font 'D050000L' (D050000L.otf) normal normal 400 normal>) = 10.05\n",
      "11:16:47 DEBUG:findfont: score(<Font 'DejaVu Sans Mono' (DejaVuSansMono-Oblique.ttf) oblique normal 400 normal>) = 11.05\n",
      "11:16:47 DEBUG:findfont: score(<Font 'Umpush' (Umpush-Oblique.ttf) oblique normal 400 normal>) = 11.05\n",
      "11:16:47 DEBUG:findfont: score(<Font 'Liberation Mono' (LiberationMono-Bold.ttf) normal normal 700 normal>) = 10.335\n",
      "11:16:47 DEBUG:findfont: score(<Font 'Nakula' (nakula.ttf) normal normal 400 normal>) = 10.05\n",
      "11:16:47 DEBUG:findfont: score(<Font 'Samyak Devanagari' (Samyak-Devanagari.ttf) normal normal 500 normal>) = 10.145\n",
      "11:16:47 DEBUG:findfont: score(<Font 'padmaa' (padmaa-Medium-0.5.ttf) normal normal 500 normal>) = 10.145\n",
      "11:16:47 DEBUG:findfont: score(<Font 'Standard Symbols PS' (StandardSymbolsPS.otf) normal normal 400 normal>) = 10.05\n",
      "11:16:47 DEBUG:findfont: score(<Font 'Ubuntu' (Ubuntu-Th.ttf) normal normal 250 normal>) = 10.1925\n",
      "11:16:47 DEBUG:findfont: score(<Font 'Sawasdee' (Sawasdee.ttf) normal normal 400 normal>) = 10.05\n",
      "11:16:47 DEBUG:findfont: score(<Font 'Nimbus Mono PS' (NimbusMonoPS-Bold.otf) normal normal 700 normal>) = 10.335\n",
      "11:16:47 DEBUG:findfont: score(<Font 'Lato' (Lato-BoldItalic.ttf) italic normal 700 normal>) = 11.335\n",
      "11:16:47 DEBUG:findfont: score(<Font 'DejaVu Sans' (DejaVuSans-ExtraLight.ttf) normal normal 200 normal>) = 0.24\n",
      "11:16:47 DEBUG:findfont: score(<Font 'DejaVu Serif' (DejaVuSerif-BoldItalic.ttf) italic normal 700 normal>) = 11.335\n",
      "11:16:47 DEBUG:findfont: score(<Font 'MathJax_Size3' (MathJax_Size3-Regular.otf) normal normal 400 normal>) = 10.05\n"
     ]
    },
    {
     "name": "stderr",
     "output_type": "stream",
     "text": [
      "11:16:47 DEBUG:findfont: score(<Font 'Samyak Gujarati' (Samyak-Gujarati.ttf) normal normal 500 normal>) = 10.145\n",
      "11:16:47 DEBUG:findfont: score(<Font 'URW Gothic' (URWGothic-BookOblique.otf) oblique normal 400 normal>) = 11.05\n",
      "11:16:47 DEBUG:findfont: score(<Font 'FreeMono' (FreeMonoOblique.ttf) oblique normal 400 normal>) = 11.05\n",
      "11:16:47 DEBUG:findfont: score(<Font 'DejaVu Sans Mono' (DejaVuSansMono-BoldOblique.ttf) oblique normal 700 normal>) = 11.335\n",
      "11:16:47 DEBUG:findfont: score(<Font 'Tlwg Typist' (TlwgTypist-Oblique.ttf) oblique normal 400 normal>) = 11.05\n",
      "11:16:47 DEBUG:findfont: score(<Font 'MathJax_Size1' (MathJax_Size1-Regular.otf) normal normal 400 normal>) = 10.05\n",
      "11:16:47 DEBUG:findfont: score(<Font 'Liberation Mono' (LiberationMono-BoldItalic.ttf) italic normal 700 normal>) = 11.335\n",
      "11:16:47 DEBUG:findfont: score(<Font 'Khmer OS System' (KhmerOSsys.ttf) normal normal 400 normal>) = 10.05\n",
      "11:16:47 DEBUG:findfont: score(<Font 'MathJax_SansSerif' (MathJax_SansSerif-Italic.otf) italic normal 400 normal>) = 11.05\n",
      "11:16:47 DEBUG:findfont: score(<Font 'Nimbus Mono PS' (NimbusMonoPS-BoldItalic.otf) italic normal 700 normal>) = 11.335\n",
      "11:16:47 DEBUG:findfont: score(<Font 'Lato' (Lato-LightItalic.ttf) italic normal 300 normal>) = 11.145\n",
      "11:16:47 DEBUG:findfont: score(<Font 'Kinnari' (Kinnari-BoldOblique.ttf) oblique normal 700 normal>) = 11.335\n",
      "11:16:47 DEBUG:findfont: score(<Font 'Waree' (Waree.ttf) normal normal 400 normal>) = 10.05\n",
      "11:16:47 DEBUG:findfont: score(<Font 'Padauk Book' (PadaukBook-Regular.ttf) normal normal 400 normal>) = 10.05\n",
      "11:16:47 DEBUG:findfont: score(<Font 'Noto Sans CJK JP' (NotoSansCJK-Regular.ttc) normal normal 400 normal>) = 10.05\n",
      "11:16:47 DEBUG:findfont: score(<Font 'Nimbus Sans' (NimbusSans-Bold.otf) normal normal 700 normal>) = 10.335\n",
      "11:16:47 DEBUG:findfont: score(<Font 'Kinnari' (Kinnari.ttf) normal normal 400 normal>) = 10.05\n",
      "11:16:47 DEBUG:findfont: score(<Font 'Tlwg Typewriter' (TlwgTypewriter.ttf) normal normal 400 normal>) = 10.05\n",
      "11:16:47 DEBUG:findfont: score(<Font 'Lohit Tamil Classical' (Lohit-Tamil-Classical.ttf) normal normal 400 normal>) = 10.05\n",
      "11:16:47 DEBUG:findfont: score(<Font 'Mukti Narrow' (MuktiNarrow.ttf) normal normal 400 normal>) = 10.05\n",
      "11:16:47 DEBUG:findfont: score(<Font 'Lohit Tamil' (Lohit-Tamil.ttf) normal normal 400 normal>) = 10.05\n",
      "11:16:47 DEBUG:findfont: score(<Font 'Liberation Sans Narrow' (LiberationSansNarrow-Bold.ttf) normal normal 700 condensed>) = 10.535\n",
      "11:16:47 DEBUG:findfont: score(<Font 'Liberation Sans Narrow' (LiberationSansNarrow-Italic.ttf) italic normal 400 condensed>) = 11.25\n",
      "11:16:47 DEBUG:findfont: score(<Font 'Loma' (Loma-Oblique.ttf) oblique normal 400 normal>) = 11.05\n",
      "11:16:47 DEBUG:findfont: score(<Font 'Umpush' (Umpush-Bold.ttf) normal normal 700 normal>) = 10.335\n",
      "11:16:47 DEBUG:findfont: score(<Font 'Ubuntu' (Ubuntu-BI.ttf) italic normal 700 normal>) = 11.335\n",
      "11:16:47 DEBUG:findfont: score(<Font 'Norasi' (Norasi-Bold.ttf) normal normal 700 normal>) = 10.335\n",
      "11:16:47 DEBUG:findfont: score(<Font 'MathJax_Fraktur' (MathJax_Fraktur-Regular.otf) normal normal 400 normal>) = 10.05\n",
      "11:16:47 DEBUG:findfont: score(<Font 'Tlwg Typist' (TlwgTypist.ttf) normal normal 400 normal>) = 10.05\n",
      "11:16:47 DEBUG:findfont: score(<Font 'Liberation Sans' (LiberationSans-Regular.ttf) normal normal 400 normal>) = 10.05\n",
      "11:16:47 DEBUG:findfont: score(<Font 'Sawasdee' (Sawasdee-BoldOblique.ttf) oblique normal 700 normal>) = 11.335\n",
      "11:16:47 DEBUG:findfont: score(<Font 'DejaVu Sans' (DejaVuSans-Bold.ttf) normal normal 700 normal>) = 0.33499999999999996\n",
      "11:16:47 DEBUG:findfont: score(<Font 'Khmer OS' (KhmerOS.ttf) normal normal 400 normal>) = 10.05\n",
      "11:16:47 DEBUG:findfont: score(<Font 'Tlwg Typewriter' (TlwgTypewriter-Bold.ttf) normal normal 700 normal>) = 10.335\n",
      "11:16:47 DEBUG:findfont: score(<Font 'DejaVu Serif' (DejaVuSerif.ttf) normal normal 400 normal>) = 10.05\n",
      "11:16:47 DEBUG:findfont: score(<Font 'Saab' (Saab.ttf) normal normal 400 normal>) = 10.05\n",
      "11:16:47 DEBUG:findfont: score(<Font 'Kinnari' (Kinnari-Italic.ttf) italic normal 400 normal>) = 11.05\n",
      "11:16:47 DEBUG:findfont: score(<Font 'Waree' (Waree-BoldOblique.ttf) oblique normal 700 normal>) = 11.335\n",
      "11:16:47 DEBUG:findfont: score(<Font 'Nimbus Roman' (NimbusRoman-BoldItalic.otf) italic normal 700 normal>) = 11.335\n",
      "11:16:47 DEBUG:findfont: score(<Font 'URW Gothic' (URWGothic-Book.otf) normal normal 400 normal>) = 10.05\n",
      "11:16:47 DEBUG:findfont: score(<Font 'KacstPen' (KacstPen.ttf) normal normal 500 normal>) = 10.145\n",
      "11:16:47 DEBUG:findfont: score(<Font 'Nimbus Sans Narrow' (NimbusSansNarrow-Regular.otf) normal normal 400 condensed>) = 10.25\n",
      "11:16:47 DEBUG:findfont: score(<Font 'Rasa' (Rasa-SemiBold.ttf) normal normal 600 normal>) = 10.24\n",
      "11:16:47 DEBUG:findfont: score(<Font 'Lohit Gurmukhi' (Lohit-Gurmukhi.ttf) normal normal 400 normal>) = 10.05\n",
      "11:16:47 DEBUG:findfont: score(<Font 'Liberation Mono' (LiberationMono-Italic.ttf) italic normal 400 normal>) = 11.05\n",
      "11:16:47 DEBUG:findfont: score(<Font 'KacstOne' (KacstOne.ttf) normal normal 400 normal>) = 10.05\n",
      "11:16:47 DEBUG:findfont: score(<Font 'Liberation Sans' (LiberationSans-BoldItalic.ttf) italic normal 700 normal>) = 11.335\n",
      "11:16:47 DEBUG:findfont: score(<Font 'Lohit Odia' (Lohit-Odia.ttf) normal normal 400 normal>) = 10.05\n",
      "11:16:47 DEBUG:findfont: score(<Font 'Tlwg Typo' (TlwgTypo.ttf) normal normal 400 normal>) = 10.05\n",
      "11:16:47 DEBUG:findfont: score(<Font 'DejaVu Sans' (DejaVuSans-Oblique.ttf) oblique normal 400 normal>) = 1.05\n",
      "11:16:47 DEBUG:findfont: score(<Font 'C059' (C059-Italic.otf) italic normal 400 normal>) = 11.05\n",
      "11:16:47 DEBUG:findfont: score(<Font 'Gargi' (Gargi.ttf) normal normal 400 normal>) = 10.05\n",
      "11:16:47 DEBUG:findfont: score(<Font 'FreeSans' (FreeSansBoldOblique.ttf) oblique normal 600 normal>) = 11.24\n",
      "11:16:47 DEBUG:findfont: score(<Font 'Noto Mono' (NotoMono-Regular.ttf) normal normal 400 normal>) = 10.05\n",
      "11:16:47 DEBUG:findfont: score(<Font 'Tlwg Mono' (TlwgMono.ttf) normal normal 400 normal>) = 10.05\n",
      "11:16:47 DEBUG:findfont: score(<Font 'Ubuntu' (Ubuntu-MI.ttf) italic normal 500 normal>) = 11.145\n",
      "11:16:47 DEBUG:findfont: score(<Font 'Norasi' (Norasi-BoldItalic.ttf) italic normal 700 normal>) = 11.335\n",
      "11:16:47 DEBUG:findfont: score(<Font 'Mukti Narrow' (MuktiNarrowBold.ttf) normal normal 700 normal>) = 10.335\n",
      "11:16:47 DEBUG:findfont: score(<Font 'Lato' (Lato-BlackItalic.ttf) italic normal 900 normal>) = 11.525\n",
      "11:16:47 DEBUG:findfont: score(<Font 'Liberation Sans' (LiberationSans-Italic.ttf) italic normal 400 normal>) = 11.05\n",
      "11:16:47 DEBUG:findfont: score(<Font 'URW Bookman' (URWBookman-Demi.otf) normal normal 600 normal>) = 10.24\n",
      "11:16:47 DEBUG:findfont: score(<Font 'Yrsa' (Yrsa-Light.ttf) normal normal 300 normal>) = 10.145\n",
      "11:16:47 DEBUG:findfont: score(<Font 'Tlwg Typo' (TlwgTypo-BoldOblique.ttf) oblique normal 700 normal>) = 11.335\n",
      "11:16:47 DEBUG:findfont: score(<Font 'Pagul' (Pagul.ttf) normal normal 400 normal>) = 10.05\n",
      "11:16:47 DEBUG:findfont: score(<Font 'DejaVu Sans' (DejaVuSansCondensed-Bold.ttf) normal normal 700 condensed>) = 0.5349999999999999\n",
      "11:16:47 DEBUG:findfont: score(<Font 'Liberation Sans' (LiberationSans-Bold.ttf) normal normal 700 normal>) = 10.335\n",
      "11:16:47 DEBUG:findfont: score(<Font 'Garuda' (Garuda-Bold.ttf) normal normal 700 normal>) = 10.335\n",
      "11:16:47 DEBUG:findfont: score(<Font 'Manjari' (Manjari-Thin.otf) normal normal 100 normal>) = 10.335\n",
      "11:16:47 DEBUG:findfont: score(<Font 'MathJax_Typewriter' (MathJax_Typewriter-Regular.otf) normal normal 400 normal>) = 10.05\n",
      "11:16:47 DEBUG:findfont: score(<Font 'Ubuntu' (Ubuntu-RI.ttf) italic normal 400 normal>) = 11.05\n",
      "11:16:47 DEBUG:findfont: score(<Font 'Norasi' (Norasi-BoldOblique.ttf) oblique normal 700 normal>) = 11.335\n",
      "11:16:47 DEBUG:findfont: score(<Font 'aakar' (aakar-medium.ttf) normal normal 500 normal>) = 10.145\n",
      "11:16:47 DEBUG:findfont: score(<Font 'Kinnari' (Kinnari-Bold.ttf) normal normal 700 normal>) = 10.335\n",
      "11:16:47 DEBUG:findfont: score(<Font 'MathJax_Math' (MathJax_Math-Regular.otf) normal normal 400 normal>) = 10.05\n",
      "11:16:47 DEBUG:findfont: score(<Font 'P052' (P052-BoldItalic.otf) italic normal 700 normal>) = 11.335\n",
      "11:16:47 DEBUG:findfont: score(<Font 'Samyak Tamil' (Samyak-Tamil.ttf) normal normal 500 normal>) = 10.145\n"
     ]
    },
    {
     "name": "stderr",
     "output_type": "stream",
     "text": [
      "11:16:47 DEBUG:findfont: score(<Font 'Navilu' (Navilu.ttf) normal normal 400 normal>) = 10.05\n",
      "11:16:47 DEBUG:findfont: score(<Font 'Suruma' (Suruma.ttf) normal normal 500 normal>) = 10.145\n",
      "11:16:47 DEBUG:findfont: score(<Font 'Nimbus Sans Narrow' (NimbusSansNarrow-BoldOblique.otf) oblique normal 700 condensed>) = 11.535\n",
      "11:16:47 DEBUG:findfont: score(<Font 'Lohit Malayalam' (Lohit-Malayalam.ttf) normal normal 400 normal>) = 10.05\n",
      "11:16:47 DEBUG:findfont: score(<Font 'Lato' (Lato-Light.ttf) normal normal 300 normal>) = 10.145\n",
      "11:16:47 DEBUG:findfont: score(<Font 'P052' (P052-Bold.otf) normal normal 700 normal>) = 10.335\n",
      "11:16:47 DEBUG:findfont: score(<Font 'Rasa' (Rasa-Regular.ttf) normal normal 400 normal>) = 10.05\n",
      "11:16:47 DEBUG:findfont: score(<Font 'Noto Serif CJK JP' (NotoSerifCJK-Bold.ttc) normal normal 700 normal>) = 10.335\n",
      "11:16:47 DEBUG:findfont: score(<Font 'Liberation Sans' (LiberationSans-BoldItalic.ttf) italic normal 700 normal>) = 11.335\n",
      "11:16:47 DEBUG:findfont: score(<Font 'Nimbus Mono PS' (NimbusMonoPS-Italic.otf) italic normal 400 normal>) = 11.05\n",
      "11:16:47 DEBUG:findfont: score(<Font 'Lato' (Lato-HeavyItalic.ttf) italic normal 800 normal>) = 11.43\n",
      "11:16:47 DEBUG:findfont: score(<Font 'Umpush' (Umpush-BoldOblique.ttf) oblique normal 700 normal>) = 11.335\n",
      "11:16:47 DEBUG:findfont: score(<Font 'Tlwg Typo' (TlwgTypo-Bold.ttf) normal normal 700 normal>) = 10.335\n",
      "11:16:47 DEBUG:findfont: score(<Font 'MathJax_SansSerif' (MathJax_SansSerif-Regular.otf) normal normal 400 normal>) = 10.05\n",
      "11:16:47 DEBUG:findfont: score(<Font 'MathJax_Main' (MathJax_Main-Bold.otf) normal normal 700 normal>) = 10.335\n",
      "11:16:47 DEBUG:findfont: score(<Font 'Rekha' (Rekha.ttf) normal normal 500 normal>) = 10.145\n",
      "11:16:47 DEBUG:findfont: score(<Font 'URW Bookman' (URWBookman-Light.otf) normal normal 300 normal>) = 10.145\n",
      "11:16:47 DEBUG:findfont: score(<Font 'URW Bookman' (URWBookman-LightItalic.otf) italic normal 300 normal>) = 11.145\n",
      "11:16:47 DEBUG:findfont: score(<Font 'URW Bookman' (URWBookman-DemiItalic.otf) italic normal 600 normal>) = 11.24\n",
      "11:16:47 DEBUG:findfont: score(<Font 'Abyssinica SIL' (AbyssinicaSIL-Regular.ttf) normal normal 400 normal>) = 10.05\n",
      "11:16:47 DEBUG:findfont: score(<Font 'Lato' (Lato-SemiboldItalic.ttf) italic normal 600 normal>) = 11.24\n",
      "11:16:47 DEBUG:findfont: score(<Font 'Liberation Sans Narrow' (LiberationSansNarrow-BoldItalic.ttf) italic normal 700 condensed>) = 11.535\n",
      "11:16:47 DEBUG:findfont: score(<Font 'DejaVu Sans Mono' (DejaVuSansMono-Bold.ttf) normal normal 700 normal>) = 10.335\n",
      "11:16:47 DEBUG:findfont: score(<Font 'Liberation Sans' (LiberationSans-Bold.ttf) normal normal 700 normal>) = 10.335\n",
      "11:16:47 DEBUG:findfont: score(<Font 'KacstQurn' (KacstQurn.ttf) normal normal 400 normal>) = 10.05\n",
      "11:16:47 DEBUG:findfont: score(<Font 'KacstDecorative' (KacstDecorative.ttf) normal normal 500 normal>) = 10.145\n",
      "11:16:47 DEBUG:findfont: score(<Font 'Laksaman' (Laksaman.ttf) normal normal 400 normal>) = 10.05\n",
      "11:16:47 DEBUG:findfont: score(<Font 'Tlwg Typewriter' (TlwgTypewriter-BoldOblique.ttf) oblique normal 700 normal>) = 11.335\n",
      "11:16:47 DEBUG:findfont: score(<Font 'DejaVu Sans' (DejaVuSansCondensed-BoldOblique.ttf) oblique normal 700 condensed>) = 1.535\n",
      "11:16:47 DEBUG:findfont: score(<Font 'Waree' (Waree-Bold.ttf) normal normal 700 normal>) = 10.335\n",
      "11:16:47 DEBUG:findfont: score(<Font 'DejaVu Sans' (DejaVuSansCondensed.ttf) normal normal 400 condensed>) = 0.25\n",
      "11:16:47 DEBUG:findfont: score(<Font 'KacstArt' (KacstArt.ttf) normal normal 500 normal>) = 10.145\n",
      "11:16:47 DEBUG:findfont: score(<Font 'FreeSerif' (FreeSerif.ttf) normal normal 400 normal>) = 10.05\n",
      "11:16:47 DEBUG:findfont: score(<Font 'LKLUG' (lklug.ttf) normal normal 400 normal>) = 10.05\n",
      "11:16:47 DEBUG:findfont: score(<Font 'Lato' (Lato-Black.ttf) normal normal 900 normal>) = 10.525\n",
      "11:16:47 DEBUG:findfont: score(<Font 'Tlwg Typist' (TlwgTypist-BoldOblique.ttf) oblique normal 700 normal>) = 11.335\n",
      "11:16:47 DEBUG:findfont: score(<Font 'Liberation Mono' (LiberationMono-Italic.ttf) italic normal 400 normal>) = 11.05\n",
      "11:16:47 DEBUG:findfont: score(<Font 'Phetsarath OT' (Phetsarath_OT.ttf) normal normal 400 normal>) = 10.05\n",
      "11:16:47 DEBUG:findfont: score(<Font 'Chandas' (chandas1-2.ttf) normal normal 400 normal>) = 10.05\n",
      "11:16:47 DEBUG:findfont: score(<Font 'Liberation Sans Narrow' (LiberationSansNarrow-Regular.ttf) normal normal 400 condensed>) = 10.25\n",
      "11:16:47 DEBUG:findfont: score(<Font 'DejaVu Serif' (DejaVuSerifCondensed-Bold.ttf) normal normal 700 condensed>) = 10.535\n",
      "11:16:47 DEBUG:findfont: score(<Font 'Z003' (Z003-MediumItalic.otf) italic normal 500 normal>) = 11.145\n",
      "11:16:47 DEBUG:findfont: score(<Font 'Padauk' (Padauk-Bold.ttf) normal normal 700 normal>) = 10.335\n",
      "11:16:47 DEBUG:findfont: score(<Font 'Nimbus Sans Narrow' (NimbusSansNarrow-Bold.otf) normal normal 700 condensed>) = 10.535\n",
      "11:16:47 DEBUG:findfont: score(<Font 'Liberation Mono' (LiberationMono-Regular.ttf) normal normal 400 normal>) = 10.05\n",
      "11:16:47 DEBUG:findfont: score(<Font 'Garuda' (Garuda-BoldOblique.ttf) oblique normal 700 normal>) = 11.335\n",
      "11:16:47 DEBUG:findfont: score(<Font 'Liberation Serif' (LiberationSerif-BoldItalic.ttf) italic normal 700 normal>) = 11.335\n",
      "11:16:47 DEBUG:findfont: score(<Font 'MathJax_Math' (MathJax_Math-BoldItalic.otf) italic normal 700 normal>) = 11.335\n",
      "11:16:47 DEBUG:findfont: score(<Font 'Jamrul' (JamrulNormal.ttf) normal normal 500 normal>) = 10.145\n",
      "11:16:47 DEBUG:findfont: score(<Font 'Yrsa' (Yrsa-Medium.ttf) normal normal 500 normal>) = 10.145\n",
      "11:16:47 DEBUG:findfont: score(<Font 'Lato' (Lato-Bold.ttf) normal normal 700 normal>) = 10.335\n",
      "11:16:47 DEBUG:findfont: score(<Font 'Ani' (ani.ttf) normal normal 400 normal>) = 10.05\n",
      "11:16:47 DEBUG:findfont: score(<Font 'Liberation Sans' (LiberationSans-Italic.ttf) italic normal 400 normal>) = 11.05\n",
      "11:16:47 DEBUG:findfont: score(<Font 'AnjaliOldLipi' (AnjaliOldLipi-Regular.ttf) normal normal 400 normal>) = 10.05\n",
      "11:16:47 DEBUG:findfont: score(<Font 'OpenSymbol' (opens___.ttf) normal normal 400 normal>) = 10.05\n",
      "11:16:47 DEBUG:findfont: score(<Font 'Laksaman' (Laksaman-Bold.ttf) normal normal 700 normal>) = 10.335\n",
      "11:16:48 DEBUG:findfont: score(<Font 'Ubuntu Mono' (UbuntuMono-RI.ttf) italic normal 400 normal>) = 11.05\n",
      "11:16:48 DEBUG:findfont: score(<Font 'Ubuntu Mono' (UbuntuMono-BI.ttf) italic normal 700 normal>) = 11.335\n",
      "11:16:48 DEBUG:findfont: score(<Font 'Purisa' (Purisa-Oblique.ttf) oblique normal 400 normal>) = 11.05\n",
      "11:16:48 DEBUG:findfont: score(<Font 'Lato' (Lato-MediumItalic.ttf) italic normal 500 normal>) = 11.145\n",
      "11:16:48 DEBUG:findfont: score(<Font 'MathJax_AMS' (MathJax_AMS-Regular.otf) normal normal 400 normal>) = 10.05\n",
      "11:16:48 DEBUG:findfont: score(<Font 'DejaVu Sans' (DejaVuSans.ttf) normal normal 400 normal>) = 0.05\n",
      "11:16:48 DEBUG:findfont: score(<Font 'Yrsa' (Yrsa-SemiBold.ttf) normal normal 600 normal>) = 10.24\n",
      "11:16:48 DEBUG:findfont: score(<Font 'MathJax_Script' (MathJax_Script-Regular.otf) normal normal 400 normal>) = 10.05\n",
      "11:16:48 DEBUG:findfont: score(<Font 'Garuda' (Garuda-Oblique.ttf) oblique normal 400 normal>) = 11.05\n",
      "11:16:48 DEBUG:findfont: score(<Font 'KacstOne' (KacstOne-Bold.ttf) normal normal 700 normal>) = 10.335\n",
      "11:16:48 DEBUG:findfont: score(<Font 'Nimbus Roman' (NimbusRoman-Italic.otf) italic normal 400 normal>) = 11.05\n",
      "11:16:48 DEBUG:findfont: score(<Font 'Loma' (Loma-BoldOblique.ttf) oblique normal 700 normal>) = 11.335\n",
      "11:16:48 DEBUG:findfont: score(<Font 'Noto Sans CJK JP' (NotoSansCJK-Bold.ttc) normal normal 700 normal>) = 10.335\n",
      "11:16:48 DEBUG:findfont: score(<Font 'Liberation Serif' (LiberationSerif-Italic.ttf) italic normal 400 normal>) = 11.05\n",
      "11:16:48 DEBUG:findfont: score(<Font 'Ubuntu Condensed' (Ubuntu-C.ttf) normal normal 400 condensed>) = 10.25\n",
      "11:16:48 DEBUG:findfont: score(<Font 'Lato' (Lato-Heavy.ttf) normal normal 800 normal>) = 10.43\n",
      "11:16:48 DEBUG:findfont: score(<Font 'FreeSans' (FreeSans.ttf) normal normal 400 normal>) = 10.05\n",
      "11:16:48 DEBUG:findfont: score(<Font 'MathJax_SansSerif' (MathJax_SansSerif-Bold.otf) normal normal 700 normal>) = 10.335\n",
      "11:16:48 DEBUG:findfont: score(<Font 'FontAwesome' (fontawesome-webfont.ttf) normal normal 400 normal>) = 10.05\n",
      "11:16:48 DEBUG:findfont: score(<Font 'Umpush' (Umpush.ttf) normal normal 400 normal>) = 10.05\n"
     ]
    },
    {
     "name": "stderr",
     "output_type": "stream",
     "text": [
      "11:16:48 DEBUG:findfont: score(<Font 'Rachana' (Rachana-Bold.ttf) normal normal 700 normal>) = 10.335\n",
      "11:16:48 DEBUG:findfont: score(<Font 'C059' (C059-Roman.otf) normal normal 400 normal>) = 10.05\n",
      "11:16:48 DEBUG:findfont: score(<Font 'Nimbus Roman' (NimbusRoman-Bold.otf) normal normal 700 normal>) = 10.335\n",
      "11:16:48 DEBUG:findfont: score(<Font 'URW Gothic' (URWGothic-Demi.otf) normal normal 600 normal>) = 10.24\n",
      "11:16:48 DEBUG:findfont: score(<Font 'DejaVu Math TeX Gyre' (DejaVuMathTeXGyre.ttf) normal normal 400 normal>) = 10.05\n",
      "11:16:48 DEBUG:findfont: score(<Font 'MathJax_Vector' (MathJax_Vector-Regular.otf) normal normal 500 normal>) = 10.145\n",
      "11:16:48 DEBUG:findfont: score(<Font 'Liberation Serif' (LiberationSerif-Regular.ttf) normal normal 400 normal>) = 10.05\n",
      "11:16:48 DEBUG:findfont: score(<Font 'DejaVu Sans Mono' (DejaVuSansMono.ttf) normal normal 400 normal>) = 10.05\n",
      "11:16:48 DEBUG:findfont: score(<Font 'C059' (C059-Bold.otf) normal normal 700 normal>) = 10.335\n",
      "11:16:48 DEBUG:findfont: score(<Font 'Karumbi' (Karumbi-Regular.ttf) normal normal 400 normal>) = 10.05\n",
      "11:16:48 DEBUG:findfont: score(<Font 'KacstBook' (KacstBook.ttf) normal normal 500 normal>) = 10.145\n",
      "11:16:48 DEBUG:findfont: score(<Font 'Padauk' (Padauk-Regular.ttf) normal normal 400 normal>) = 10.05\n",
      "11:16:48 DEBUG:findfont: score(<Font 'FreeSans' (FreeSansOblique.ttf) oblique normal 400 normal>) = 11.05\n",
      "11:16:48 DEBUG:findfont: score(<Font 'Ubuntu' (Ubuntu-R.ttf) normal normal 400 normal>) = 10.05\n",
      "11:16:48 DEBUG:findfont: score(<Font 'Meera' (Meera-Regular.ttf) normal normal 400 normal>) = 10.05\n",
      "11:16:48 DEBUG:findfont: score(<Font 'MathJax_Math' (MathJax_Math-Italic.otf) italic normal 400 normal>) = 11.05\n",
      "11:16:48 DEBUG:findfont: score(<Font 'Lato' (Lato-HairlineItalic.ttf) italic normal 100 normal>) = 11.335\n",
      "11:16:48 DEBUG:findfont: score(<Font 'Ubuntu' (Ubuntu-L.ttf) normal normal 300 normal>) = 10.145\n",
      "11:16:48 DEBUG:findfont: score(<Font 'URW Gothic' (URWGothic-DemiOblique.otf) oblique normal 600 normal>) = 11.24\n",
      "11:16:48 DEBUG:findfont: score(<Font 'Norasi' (Norasi.ttf) normal normal 400 normal>) = 10.05\n",
      "11:16:48 DEBUG:findfont: score(<Font 'DejaVu Serif' (DejaVuSerifCondensed.ttf) normal normal 400 condensed>) = 10.25\n",
      "11:16:48 DEBUG:findfont: score(<Font 'Garuda' (Garuda.ttf) normal normal 400 normal>) = 10.05\n",
      "11:16:48 DEBUG:findfont: score(<Font 'KacstOffice' (KacstOffice.ttf) normal normal 500 normal>) = 10.145\n",
      "11:16:48 DEBUG:findfont: score(<Font 'Kalimati' (kalimati.ttf) normal normal 400 normal>) = 10.05\n",
      "11:16:48 DEBUG:findfont: score(<Font 'DejaVu Serif' (DejaVuSerifCondensed-BoldItalic.ttf) italic normal 700 condensed>) = 11.535\n",
      "11:16:48 DEBUG:findfont: score(<Font 'Pothana2000' (Pothana2000.ttf) normal normal 400 normal>) = 10.05\n",
      "11:16:48 DEBUG:findfont: score(<Font 'Tlwg Mono' (TlwgMono-Bold.ttf) normal normal 700 normal>) = 10.335\n",
      "11:16:48 DEBUG:findfont: score(<Font 'Liberation Serif' (LiberationSerif-Italic.ttf) italic normal 400 normal>) = 11.05\n",
      "11:16:48 DEBUG:findfont: score(<Font 'Manjari' (Manjari-Bold.otf) normal normal 700 normal>) = 10.335\n",
      "11:16:48 DEBUG:findfont: score(<Font 'ori1Uni' (utkal.ttf) normal normal 500 normal>) = 10.145\n",
      "11:16:48 DEBUG:findfont: score(<Font 'Liberation Mono' (LiberationMono-Regular.ttf) normal normal 400 normal>) = 10.05\n",
      "11:16:48 DEBUG:findfont: score(<Font 'padmaa-Bold.1.1' (padmaa-Bold.1.1.ttf) normal normal 700 normal>) = 10.335\n",
      "11:16:48 DEBUG:findfont: score(<Font 'Lohit Gujarati' (Lohit-Gujarati.ttf) normal normal 400 normal>) = 10.05\n",
      "11:16:48 DEBUG:findfont: score(<Font 'Norasi' (Norasi-Oblique.ttf) oblique normal 400 normal>) = 11.05\n",
      "11:16:48 DEBUG:findfont: score(<Font 'Lato' (Lato-Italic.ttf) italic normal 400 normal>) = 11.05\n",
      "11:16:48 DEBUG:findfont: score(<Font 'Lato' (Lato-Thin.ttf) normal normal 200 normal>) = 10.24\n",
      "11:16:48 DEBUG:findfont: score(<Font 'Nimbus Sans' (NimbusSans-Italic.otf) italic normal 400 normal>) = 11.05\n",
      "11:16:48 DEBUG:findfont: score(<Font 'Sarai' (Sarai.ttf) normal normal 400 normal>) = 10.05\n",
      "11:16:48 DEBUG:findfont: score(<Font 'MathJax_Vector-Bold' (MathJax_Vector-Bold.otf) normal normal 500 normal>) = 10.145\n",
      "11:16:48 DEBUG:findfont: score(<Font 'Loma' (Loma.ttf) normal normal 400 normal>) = 10.05\n",
      "11:16:48 DEBUG:findfont: score(<Font 'Rachana' (Rachana-Regular.ttf) normal normal 400 normal>) = 10.05\n",
      "11:16:48 DEBUG:findfont: score(<Font 'Liberation Serif' (LiberationSerif-Regular.ttf) normal normal 400 normal>) = 10.05\n",
      "11:16:48 DEBUG:findfont: score(<Font 'Uroob' (Uroob-Regular.ttf) normal normal 400 normal>) = 10.05\n",
      "11:16:48 DEBUG:findfont: score(<Font 'KacstTitleL' (KacstTitleL.ttf) normal normal 400 normal>) = 10.05\n",
      "11:16:48 DEBUG:findfont: score(<Font 'Nimbus Sans Narrow' (NimbusSansNarrow-Oblique.otf) oblique normal 400 condensed>) = 11.25\n",
      "11:16:48 DEBUG:findfont: score(<Font 'Tlwg Typist' (TlwgTypist-Bold.ttf) normal normal 700 normal>) = 10.335\n",
      "11:16:48 DEBUG:findfont: score(<Font 'MathJax_Main' (MathJax_Main-Italic.otf) italic normal 400 normal>) = 11.05\n",
      "11:16:48 DEBUG:findfont: score(<Font 'MathJax_WinIE6' (MathJax_WinIE6-Regular.otf) normal normal 400 normal>) = 10.05\n",
      "11:16:48 DEBUG:findfont: score(<Font 'KacstLetter' (KacstLetter.ttf) normal normal 500 normal>) = 10.145\n",
      "11:16:48 DEBUG:findfont: score(<Font 'Lato' (Lato-Medium.ttf) normal normal 500 normal>) = 10.145\n",
      "11:16:48 DEBUG:findfont: score(<Font 'Dyuthi' (Dyuthi-Regular.ttf) normal normal 400 normal>) = 10.05\n",
      "11:16:48 DEBUG:findfont: score(<Font 'Lohit Bengali' (Lohit-Bengali.ttf) normal normal 400 normal>) = 10.05\n",
      "11:16:48 DEBUG:findfont: score(<Font 'MathJax_Size4' (MathJax_Size4-Regular.otf) normal normal 400 normal>) = 10.05\n",
      "11:16:48 DEBUG:findfont: score(<Font 'KacstPoster' (KacstPoster.ttf) normal normal 500 normal>) = 10.145\n",
      "11:16:48 DEBUG:findfont: score(<Font 'padmaa' (padmaa.ttf) normal normal 500 normal>) = 10.145\n",
      "11:16:48 DEBUG:findfont: score(<Font 'Nimbus Sans' (NimbusSans-Regular.otf) normal normal 400 normal>) = 10.05\n",
      "11:16:48 DEBUG:findfont: score(<Font 'MathJax_Size2' (MathJax_Size2-Regular.otf) normal normal 400 normal>) = 10.05\n",
      "11:16:48 DEBUG:findfont: score(<Font 'Lohit Assamese' (Lohit-Assamese.ttf) normal normal 400 normal>) = 10.05\n",
      "11:16:48 DEBUG:findfont: score(<Font 'Noto Serif CJK JP' (NotoSerifCJK-Regular.ttc) normal normal 400 normal>) = 10.05\n",
      "11:16:48 DEBUG:findfont: score(<Font 'MathJax_Fraktur' (MathJax_Fraktur-Bold.otf) normal normal 700 normal>) = 10.335\n",
      "11:16:48 DEBUG:findfont: score(<Font 'FreeSerif' (FreeSerifItalic.ttf) italic normal 400 normal>) = 11.05\n",
      "11:16:48 DEBUG:findfont: score(<Font 'DejaVu Serif' (DejaVuSerifCondensed-Italic.ttf) italic normal 400 condensed>) = 11.25\n",
      "11:16:48 DEBUG:findfont: score(<Font 'Samyak Malayalam' (Samyak-Malayalam.ttf) normal normal 400 normal>) = 10.05\n",
      "11:16:48 DEBUG:findfont: score(<Font 'KacstTitle' (KacstTitle.ttf) normal normal 500 normal>) = 10.145\n",
      "11:16:48 DEBUG:findfont: score(<Font 'DejaVu Sans' (DejaVuSans-BoldOblique.ttf) oblique normal 700 normal>) = 1.335\n",
      "11:16:48 DEBUG:findfont: score(<Font 'Lohit Telugu' (Lohit-Telugu.ttf) normal normal 400 normal>) = 10.05\n",
      "11:16:48 DEBUG:findfont: score(<Font 'Norasi' (Norasi-Italic.ttf) italic normal 400 normal>) = 11.05\n",
      "11:16:48 DEBUG:findfont: score(<Font 'Liberation Serif' (LiberationSerif-Bold.ttf) normal normal 700 normal>) = 10.335\n",
      "11:16:48 DEBUG:findfont: score(<Font 'Manjari' (Manjari-Regular.otf) normal normal 400 normal>) = 10.05\n",
      "11:16:48 DEBUG:findfont: score(<Font 'DejaVu Serif' (DejaVuSerif-Bold.ttf) normal normal 700 normal>) = 10.335\n",
      "11:16:48 DEBUG:findfont: score(<Font 'FontAwesome' (FontAwesome.otf) normal normal 400 normal>) = 10.05\n",
      "11:16:48 DEBUG:findfont: score(<Font 'MathJax_Caligraphic' (MathJax_Caligraphic-Regular.otf) normal normal 400 normal>) = 10.05\n",
      "11:16:48 DEBUG:findfont: score(<Font 'Nimbus Mono PS' (NimbusMonoPS-Regular.otf) normal normal 400 normal>) = 10.05\n",
      "11:16:48 DEBUG:findfont: score(<Font 'Likhan' (LikhanNormal.ttf) normal normal 500 normal>) = 10.145\n",
      "11:16:48 DEBUG:findfont: score(<Font 'KacstNaskh' (KacstNaskh.ttf) normal normal 500 normal>) = 10.145\n",
      "11:16:48 DEBUG:findfont: score(<Font 'P052' (P052-Italic.otf) italic normal 400 normal>) = 11.05\n",
      "11:16:48 DEBUG:findfont: score(<Font 'Waree' (Waree-Oblique.ttf) oblique normal 400 normal>) = 11.05\n"
     ]
    },
    {
     "name": "stderr",
     "output_type": "stream",
     "text": [
      "11:16:48 DEBUG:findfont: score(<Font 'KacstDigital' (KacstDigital.ttf) normal normal 500 normal>) = 10.145\n",
      "11:16:48 DEBUG:findfont: score(<Font 'Liberation Serif' (LiberationSerif-Bold.ttf) normal normal 700 normal>) = 10.335\n",
      "11:16:48 DEBUG:findfont: score(<Font 'Umpush' (Umpush-Light.ttf) normal normal 300 normal>) = 10.145\n",
      "11:16:48 DEBUG:findfont: score(<Font 'MathJax_WinChrome' (MathJax_WinChrome-Regular.otf) normal normal 400 normal>) = 10.05\n",
      "11:16:48 DEBUG:findfont: score(<Font 'Tibetan Machine Uni' (TibetanMachineUni.ttf) normal normal 400 normal>) = 10.05\n",
      "11:16:48 DEBUG:findfont: score(<Font 'Rasa' (Rasa-Medium.ttf) normal normal 500 normal>) = 10.145\n",
      "11:16:48 DEBUG:findfont: score(<Font 'Ubuntu' (Ubuntu-B.ttf) normal normal 700 normal>) = 10.335\n",
      "11:16:48 DEBUG:findfont: score(<Font 'Purisa' (Purisa.ttf) normal normal 400 normal>) = 10.05\n",
      "11:16:48 DEBUG:findfont: score(<Font 'KacstScreen' (KacstScreen.ttf) normal normal 500 normal>) = 10.145\n",
      "11:16:48 DEBUG:findfont: score(<Font 'Gayathri' (Gayathri-Thin.otf) normal normal 100 normal>) = 10.335\n",
      "11:16:48 DEBUG:findfont: score(<Font 'Rasa' (Rasa-Bold.ttf) normal normal 700 normal>) = 10.335\n",
      "11:16:48 DEBUG:findfont: score(<Font 'Liberation Mono' (LiberationMono-BoldItalic.ttf) italic normal 700 normal>) = 11.335\n",
      "11:16:48 DEBUG:findfont: score(<Font 'MathJax_Main' (MathJax_Main-Regular.otf) normal normal 400 normal>) = 10.05\n",
      "11:16:48 DEBUG:findfont: score(<Font 'Rasa' (Rasa-Light.ttf) normal normal 300 normal>) = 10.145\n",
      "11:16:48 DEBUG:findfont: score(<Font 'Chilanka' (Chilanka-Regular.otf) normal normal 400 normal>) = 10.05\n",
      "11:16:48 DEBUG:findfont: score(<Font 'Purisa' (Purisa-BoldOblique.ttf) oblique normal 700 normal>) = 11.335\n",
      "11:16:48 DEBUG:findfont: score(<Font 'DejaVu Sans' (DejaVuSansCondensed-Oblique.ttf) oblique normal 400 condensed>) = 1.25\n",
      "11:16:48 DEBUG:findfont: score(<Font 'P052' (P052-Roman.otf) normal normal 400 normal>) = 10.05\n",
      "11:16:48 DEBUG:findfont: score(<Font 'Droid Sans Fallback' (DroidSansFallbackFull.ttf) normal normal 400 normal>) = 10.05\n",
      "11:16:48 DEBUG:findfont: score(<Font 'Lato' (Lato-ThinItalic.ttf) italic normal 200 normal>) = 11.24\n",
      "11:16:48 DEBUG:findfont: score(<Font 'Lohit Kannada' (Lohit-Kannada.ttf) normal normal 400 normal>) = 10.05\n",
      "11:16:48 DEBUG:findfont: Matching DejaVu Sans:style=normal:variant=normal:weight=normal:stretch=normal:size=35.0 to DejaVu Sans ('/usr/local/lib/python3.8/dist-packages/matplotlib/mpl-data/fonts/ttf/DejaVuSans.ttf') with score of 0.050000.\n"
     ]
    },
    {
     "data": {
      "image/png": "[encoded data removed]",
      "text/plain": [
       "<Figure size 1500x1125 with 1 Axes>"
      ]
     },
     "metadata": {},
     "output_type": "display_data"
    }
   ],
   "source": [
    "plot(kappa_class.z_bins['shear'][4]['z'],kappa_class.z_bins['shear'][4]['nz'])"
   ]
  },
  {
   "cell_type": "code",
   "execution_count": 44,
   "metadata": {
    "scrolled": true
   },
   "outputs": [],
   "source": [
    "proc = psutil.Process()\n",
    "print(format_bytes(proc.memory_info().rss))"
   ]
  },
  {
   "cell_type": "code",
   "execution_count": 45,
   "metadata": {},
   "outputs": [],
   "source": [
    "cl_L=None\n",
    "cl_L_lsst=None\n"
   ]
  },
  {
   "cell_type": "raw",
   "metadata": {},
   "source": [
    "fname_cl='temp/cl_cov_{ns}{nl}{nlD}.pkl'.format(ns=nbins,nl=n_lens_bins,nlD=n_lensD_bins)\n",
    "try:\n",
    "    with open(fname_cl,'rb') as of:\n",
    "        cl_L=pickle.load(of)\n",
    "except:\n",
    "    print('cl not found. Will compute',fname_cl)"
   ]
  },
  {
   "cell_type": "raw",
   "metadata": {},
   "source": [
    "if WIN is None and cl_L is None and kappa_class.Win.store_win:\n",
    "    WIN=kappa_class.Win.Win\n",
    "    with open(fname,'wb') as of:\n",
    "        pickle.dump(WIN,of)"
   ]
  },
  {
   "cell_type": "code",
   "execution_count": 46,
   "metadata": {},
   "outputs": [
    {
     "data": {
      "text/plain": [
       "10"
      ]
     },
     "execution_count": 46,
     "metadata": {},
     "output_type": "execute_result"
    }
   ],
   "source": [
    "kappa_class_lsst.z_bins['galaxy']['n_bins']"
   ]
  },
  {
   "cell_type": "code",
   "execution_count": 47,
   "metadata": {},
   "outputs": [
    {
     "data": {
      "text/plain": [
       "True"
      ]
     },
     "execution_count": 47,
     "metadata": {},
     "output_type": "execute_result"
    }
   ],
   "source": [
    "kappa_class.do_pseudo_cl"
   ]
  },
  {
   "cell_type": "code",
   "execution_count": 48,
   "metadata": {},
   "outputs": [
    {
     "data": {
      "text/plain": [
       "{'final': array([[7.44306523e-19, 0.00000000e+00, 0.00000000e+00, 0.00000000e+00,\n",
       "         0.00000000e+00, 0.00000000e+00, 0.00000000e+00, 0.00000000e+00,\n",
       "         0.00000000e+00],\n",
       "        [0.00000000e+00, 1.65977221e-19, 0.00000000e+00, 0.00000000e+00,\n",
       "         0.00000000e+00, 0.00000000e+00, 0.00000000e+00, 0.00000000e+00,\n",
       "         0.00000000e+00],\n",
       "        [0.00000000e+00, 0.00000000e+00, 3.07361968e-20, 0.00000000e+00,\n",
       "         0.00000000e+00, 0.00000000e+00, 0.00000000e+00, 0.00000000e+00,\n",
       "         0.00000000e+00],\n",
       "        [0.00000000e+00, 0.00000000e+00, 0.00000000e+00, 6.27549576e-21,\n",
       "         0.00000000e+00, 0.00000000e+00, 0.00000000e+00, 0.00000000e+00,\n",
       "         0.00000000e+00],\n",
       "        [0.00000000e+00, 0.00000000e+00, 0.00000000e+00, 0.00000000e+00,\n",
       "         1.60651404e-21, 0.00000000e+00, 0.00000000e+00, 0.00000000e+00,\n",
       "         0.00000000e+00],\n",
       "        [0.00000000e+00, 0.00000000e+00, 0.00000000e+00, 0.00000000e+00,\n",
       "         0.00000000e+00, 4.83543879e-22, 0.00000000e+00, 0.00000000e+00,\n",
       "         0.00000000e+00],\n",
       "        [0.00000000e+00, 0.00000000e+00, 0.00000000e+00, 0.00000000e+00,\n",
       "         0.00000000e+00, 0.00000000e+00, 1.58936520e-22, 0.00000000e+00,\n",
       "         0.00000000e+00],\n",
       "        [0.00000000e+00, 0.00000000e+00, 0.00000000e+00, 0.00000000e+00,\n",
       "         0.00000000e+00, 0.00000000e+00, 0.00000000e+00, 5.48485942e-23,\n",
       "         0.00000000e+00],\n",
       "        [0.00000000e+00, 0.00000000e+00, 0.00000000e+00, 0.00000000e+00,\n",
       "         0.00000000e+00, 0.00000000e+00, 0.00000000e+00, 0.00000000e+00,\n",
       "         2.56460372e-23]]),\n",
       " 'G': array([[7.44306523e-19, 0.00000000e+00, 0.00000000e+00, 0.00000000e+00,\n",
       "         0.00000000e+00, 0.00000000e+00, 0.00000000e+00, 0.00000000e+00,\n",
       "         0.00000000e+00],\n",
       "        [0.00000000e+00, 1.65977221e-19, 0.00000000e+00, 0.00000000e+00,\n",
       "         0.00000000e+00, 0.00000000e+00, 0.00000000e+00, 0.00000000e+00,\n",
       "         0.00000000e+00],\n",
       "        [0.00000000e+00, 0.00000000e+00, 3.07361968e-20, 0.00000000e+00,\n",
       "         0.00000000e+00, 0.00000000e+00, 0.00000000e+00, 0.00000000e+00,\n",
       "         0.00000000e+00],\n",
       "        [0.00000000e+00, 0.00000000e+00, 0.00000000e+00, 6.27549576e-21,\n",
       "         0.00000000e+00, 0.00000000e+00, 0.00000000e+00, 0.00000000e+00,\n",
       "         0.00000000e+00],\n",
       "        [0.00000000e+00, 0.00000000e+00, 0.00000000e+00, 0.00000000e+00,\n",
       "         1.60651404e-21, 0.00000000e+00, 0.00000000e+00, 0.00000000e+00,\n",
       "         0.00000000e+00],\n",
       "        [0.00000000e+00, 0.00000000e+00, 0.00000000e+00, 0.00000000e+00,\n",
       "         0.00000000e+00, 4.83543879e-22, 0.00000000e+00, 0.00000000e+00,\n",
       "         0.00000000e+00],\n",
       "        [0.00000000e+00, 0.00000000e+00, 0.00000000e+00, 0.00000000e+00,\n",
       "         0.00000000e+00, 0.00000000e+00, 1.58936520e-22, 0.00000000e+00,\n",
       "         0.00000000e+00],\n",
       "        [0.00000000e+00, 0.00000000e+00, 0.00000000e+00, 0.00000000e+00,\n",
       "         0.00000000e+00, 0.00000000e+00, 0.00000000e+00, 5.48485942e-23,\n",
       "         0.00000000e+00],\n",
       "        [0.00000000e+00, 0.00000000e+00, 0.00000000e+00, 0.00000000e+00,\n",
       "         0.00000000e+00, 0.00000000e+00, 0.00000000e+00, 0.00000000e+00,\n",
       "         2.56460372e-23]]),\n",
       " 'G1324_B': None,\n",
       " 'G1423_B': None,\n",
       " 'G1324': None,\n",
       " 'G1423': None,\n",
       " 'SSC': 0,\n",
       " 'Tri': 0,\n",
       " 'final_b': <COO: shape=(9, 9), dtype=float64, nnz=9, fill_value=0.0>,\n",
       " 'G_b': None,\n",
       " 'SSC_b': None,\n",
       " 'Tri_b': None}"
      ]
     },
     "execution_count": 48,
     "metadata": {},
     "output_type": "execute_result"
    }
   ],
   "source": [
    "bi=(0,0)\n",
    "cl0G['cov'][corr_ll+corr_ll][bi+bi].compute()"
   ]
  },
  {
   "cell_type": "code",
   "execution_count": null,
   "metadata": {},
   "outputs": [],
   "source": [
    "if cl_L is None:\n",
    "    %time cl_L=cl0G['stack'].compute()\n",
    "#     with open(fname_cl,'wb') as of:\n",
    "#         pickle.dump(cl_L,of)"
   ]
  },
  {
   "cell_type": "code",
   "execution_count": null,
   "metadata": {},
   "outputs": [],
   "source": [
    "if cl_L_lsst is None:\n",
    "    %time cl_L_lsst=cl0G_lsst['stack'].compute()"
   ]
  },
  {
   "cell_type": "code",
   "execution_count": null,
   "metadata": {},
   "outputs": [],
   "source": [
    "cl_L.keys()"
   ]
  },
  {
   "cell_type": "code",
   "execution_count": null,
   "metadata": {},
   "outputs": [],
   "source": [
    "cl_L['pcl_b'].shape"
   ]
  },
  {
   "cell_type": "code",
   "execution_count": null,
   "metadata": {},
   "outputs": [],
   "source": [
    "4524/lb.shape[0]"
   ]
  },
  {
   "cell_type": "raw",
   "metadata": {},
   "source": [
    "crash"
   ]
  },
  {
   "cell_type": "code",
   "execution_count": null,
   "metadata": {},
   "outputs": [],
   "source": [
    "proc = psutil.Process()\n",
    "print(format_bytes(proc.memory_info().rss))"
   ]
  },
  {
   "cell_type": "code",
   "execution_count": null,
   "metadata": {},
   "outputs": [],
   "source": [
    "if nbins<=2:\n",
    "    cc=kappa_class.cov_utils\n",
    "    corr_shear=cc.corr_matrix(cl_L['cov'])\n",
    "    pcolor(corr_shear,vmin=-1,vmax=1,cmap='seismic')"
   ]
  },
  {
   "cell_type": "code",
   "execution_count": null,
   "metadata": {},
   "outputs": [],
   "source": [
    "nt=len(lb)\n",
    "for i in np.arange(10):\n",
    "    plot(lb,lb*cl_L['pcl_b'][i*nt:(i+1)*nt],label=i)\n",
    "    legend()\n",
    "    show()\n",
    "# yscale('log')"
   ]
  },
  {
   "cell_type": "code",
   "execution_count": null,
   "metadata": {},
   "outputs": [],
   "source": [
    "kappa_class.z_bins['galaxy'].keys()"
   ]
  },
  {
   "cell_type": "code",
   "execution_count": null,
   "metadata": {},
   "outputs": [],
   "source": [
    "priors={}"
   ]
  },
  {
   "cell_type": "code",
   "execution_count": null,
   "metadata": {},
   "outputs": [],
   "source": [
    "priors['Ase9']=np.inf\n",
    "priors['Om']=np.inf\n",
    "priors['w']=np.inf\n",
    "priors['wa']=np.inf"
   ]
  },
  {
   "cell_type": "raw",
   "metadata": {},
   "source": [
    "sigma_68=-0.1(1+z) + 0.12(1+z)2 #https://arxiv.org/pdf/1708.01532.pdf"
   ]
  },
  {
   "cell_type": "code",
   "execution_count": null,
   "metadata": {},
   "outputs": [],
   "source": [
    "def sigma_photoz(z_bin={}):\n",
    "    zm=(z_bin['z']*z_bin['pzdz']).sum()\n",
    "    z=z_bin['z']\n",
    "    ddz=np.absolute(z-zm)\n",
    "    p=z_bin['nz']*(-0.1*(1+ddz) + 0.12*(1+ddz)**2+.3/np.sqrt(z_bin['ns']*z_bin['nz']))\n",
    "    x=np.isnan(p)\n",
    "    p[x]=z_bin['nz'].max()*0.01\n",
    "    return p"
   ]
  },
  {
   "cell_type": "code",
   "execution_count": null,
   "metadata": {},
   "outputs": [],
   "source": [
    "priors['pz_B_s']=0.001 #bias =B*(1+z) \n",
    "priors['pz_B_l']=0.0001 #bias =B*(1+z) \n",
    "for i in np.arange(10): #photo-z bias\n",
    "    priors['pz_b_s_'+str(i)]=0.001\n",
    "\n",
    "for i in np.arange(10): #photo-z bias\n",
    "    priors['pz_b_l_'+str(i)]=0.0001\n",
    "\n",
    "pp_s={}\n",
    "for i in np.arange(z_bins_kwargs['zs_bins']['n_bins']): #photo-z bias\n",
    "    pp_s[i]=sigma_photoz(z_bins_kwargs['zs_bins'][i])\n",
    "    for j in np.arange(n_zs): #photo-z bias\n",
    "#         priors['nz_s_'+str(i)+'_'+str(j)]=0.01\n",
    "        priors['nz_s_'+str(i)+'_'+str(j)]=pp_s[i][j]\n",
    "\n",
    "pp_l={}\n",
    "for i in np.arange(z_bins_kwargs['zl_bins']['n_bins']): #photo-z bias\n",
    "    pp_l[i]=sigma_photoz(z_bins_kwargs['zl_bins'][i])/10.\n",
    "    for j in np.arange(n_zs): #photo-z bias\n",
    "#         priors['nz_l_'+str(i)+'_'+str(j)]=0.01\n",
    "        priors['nz_l_'+str(i)+'_'+str(j)]=pp_l[i][j]\n",
    "\n",
    "        \n",
    "for i in np.arange(10):#galaxy bias\n",
    "    priors['g_b_s_1'+str(i)]=1\n",
    "for i in np.arange(10): #galaxy bias, b2\n",
    "    priors['g_b_s_2'+str(i)]=1\n",
    "\n",
    "for i in np.arange(10):#galaxy bias\n",
    "    priors['g_b_l_1'+str(i)]=1\n",
    "for i in np.arange(10): #galaxy bias, b2\n",
    "    priors['g_b_l_2'+str(i)]=1\n",
    "\n",
    "    \n",
    "for i in np.arange(10): #baryon PCA\n",
    "    priors['Q'+str(i)]=100"
   ]
  },
  {
   "cell_type": "code",
   "execution_count": null,
   "metadata": {},
   "outputs": [],
   "source": [
    "priors"
   ]
  },
  {
   "cell_type": "code",
   "execution_count": null,
   "metadata": {},
   "outputs": [],
   "source": [
    "for i in np.arange(5):\n",
    "# plot(z_bins_kwargs['zs_bins'][i]['z'],pp_s[i],'--')\n",
    "    plot(z_bins_kwargs['zs_bins'][i]['z'],z_bins_kwargs['zs_bins'][i]['nz'])\n",
    "    fill_between(z_bins_kwargs['zs_bins'][i]['z'],z_bins_kwargs['zs_bins'][i]['nz']-pp_s[i],z_bins_kwargs['zs_bins'][i]['nz']+pp_s[i],alpha=0.2)\n",
    "# yscale('log')\n",
    "xscale('log')"
   ]
  },
  {
   "cell_type": "code",
   "execution_count": null,
   "metadata": {},
   "outputs": [],
   "source": [
    "for i in np.arange(5):\n",
    "# plot(z_bins_kwargs['zs_bins'][i]['z'],pp_s[i],'--')\n",
    "    plot(z_bins_kwargs['zl_bins'][i]['z'],z_bins_kwargs['zl_bins'][i]['nz'])\n",
    "    fill_between(z_bins_kwargs['zl_bins'][i]['z'],z_bins_kwargs['zl_bins'][i]['nz']-pp_l[i],z_bins_kwargs['zl_bins'][i]['nz']+pp_l[i],alpha=0.2)\n",
    "# yscale('log')\n",
    "xscale('log')"
   ]
  },
  {
   "cell_type": "code",
   "execution_count": null,
   "metadata": {},
   "outputs": [],
   "source": [
    "z_bins_kwargs['use_window']=False"
   ]
  },
  {
   "cell_type": "code",
   "execution_count": null,
   "metadata": {},
   "outputs": [],
   "source": [
    "if use_window:\n",
    "    kappa_class.Win.store_win=True"
   ]
  },
  {
   "cell_type": "code",
   "execution_count": null,
   "metadata": {},
   "outputs": [],
   "source": [
    "cosmo_fid=kappa_class.Ang_PS.PS.cosmo_params.copy()"
   ]
  },
  {
   "cell_type": "code",
   "execution_count": null,
   "metadata": {},
   "outputs": [],
   "source": [
    "cosmo_fid.keys()"
   ]
  },
  {
   "cell_type": "code",
   "execution_count": null,
   "metadata": {},
   "outputs": [],
   "source": [
    "priors['pz_b_s_0']"
   ]
  },
  {
   "cell_type": "raw",
   "metadata": {},
   "source": [
    "pz_params=['pz_b_s_{j}'.format(j=i) for i in np.arange(kappa_class.z_bins['shear']['n_bins'])]\n",
    "# pz_params+=['pz_b_l_{j}'.format(j=i) for i in np.arange(2)]\n",
    "galaxy_params=[]#['g_b_s_1{j}'.format(j=i) for i in np.arange(kappa_class.z_bins['shear']['n_bins'])]\n",
    "# galaxy_params=['g_b_l_1{j}'.format(j=i) for i in np.arange(4)]\n",
    "\n",
    "cosmo_params=np.atleast_1d(['Ase9'])#,'Om','w','wa'])\n",
    "\n",
    "%time f0=fisher_calc(cosmo_params=cosmo_params,z_params=pz_params,galaxy_params=galaxy_params,kappa_class=kappa_class,clS=cl_L,z_bins_kwargs=z_bins_kwargs,priors=priors)"
   ]
  },
  {
   "cell_type": "raw",
   "metadata": {},
   "source": [
    "crash"
   ]
  },
  {
   "cell_type": "raw",
   "metadata": {},
   "source": [
    "pz_params=['nz_s_{j}_{k}'.format(j=i,k=k) for i in np.arange(kappa_class.z_bins['shear']['n_bins']) for k in np.arange(n_zs)]\n",
    "# pz_params+=['nz_l_{j}_8'.format(j=i) for i in np.arange(2)]\n",
    "# galaxy_params=['g_b_s_1{j}'.format(j=i) for i in np.arange(kappa_class.z_bins['shear']['n_bins'])]\n",
    "# galaxy_params=['g_b_l_1{j}'.format(j=i) for i in np.arange(4)]\n",
    "galaxy_params=[]\n",
    "# print(pz_params)\n",
    "cosmo_params=np.atleast_1d(['Ase9'])#,'Om','w','wa'])\n",
    "\n",
    "%time f_nz0=fisher_calc(cosmo_params=cosmo_params,z_params=pz_params,galaxy_params=galaxy_params,kappa_class=kappa_class,clS=cl_L,z_bins_kwargs=z_bins_kwargs,priors=priors)"
   ]
  },
  {
   "cell_type": "raw",
   "metadata": {},
   "source": [
    "f0['error'],f0['prior']['error']"
   ]
  },
  {
   "cell_type": "raw",
   "metadata": {},
   "source": [
    "f0['error'],f0['prior']['error']"
   ]
  },
  {
   "cell_type": "raw",
   "metadata": {},
   "source": [
    "f_nz0['error'],f_nz0['prior']['error']"
   ]
  },
  {
   "cell_type": "code",
   "execution_count": null,
   "metadata": {},
   "outputs": [],
   "source": [
    "pz_params=['pz_b_s_{j}'.format(j=i) for i in np.arange(kappa_class.z_bins['shear']['n_bins'])]\n",
    "pz_params+=['pz_b_l_{j}'.format(j=i) for i in np.arange(n_lens_bins)]\n",
    "galaxy_params=['g_b_s_1{j}'.format(j=i) for i in np.arange(kappa_class.z_bins['shear']['n_bins'])]\n",
    "galaxy_params+=['g_b_l_1{j}'.format(j=i) for i in np.arange(n_lens_bins+z_bins_kwargs['zlD_bins']['n_bins'])]\n",
    "\n",
    "cosmo_params=np.atleast_1d(['Ase9' ,'Om','w','wa'])\n",
    "\n",
    "%time f_all=fisher_calc(cosmo_params=cosmo_params,z_params=pz_params,galaxy_params=galaxy_params,kappa_class=kappa_class,clS=cl_L,z_bins_kwargs=z_bins_kwargs,priors=priors)"
   ]
  },
  {
   "cell_type": "code",
   "execution_count": null,
   "metadata": {},
   "outputs": [],
   "source": [
    "kappa_class.stack_indxs"
   ]
  },
  {
   "cell_type": "code",
   "execution_count": null,
   "metadata": {},
   "outputs": [],
   "source": [
    "cl0G.keys()"
   ]
  },
  {
   "cell_type": "code",
   "execution_count": null,
   "metadata": {},
   "outputs": [],
   "source": [
    "pz_params=['nz_s_{j}_{k}'.format(j=i,k=k) for i in np.arange(kappa_class.z_bins['shear']['n_bins']) for k in np.arange(n_zs)]\n",
    "pz_params+=['nz_l_{j}_{k}'.format(j=i,k=k) for i in np.arange(n_lens_bins) for k in np.arange(n_zs)]\n",
    "galaxy_params=['g_b_s_1{j}'.format(j=i) for i in np.arange(kappa_class.z_bins['shear']['n_bins'])]\n",
    "galaxy_params+=['g_b_l_1{j}'.format(j=i) for i in np.arange(n_lens_bins+z_bins_kwargs['zlD_bins']['n_bins'])]\n",
    "# galaxy_params=[]\n",
    "# print(pz_params)\n",
    "cosmo_params=np.atleast_1d(['Ase9','Om','w','wa'])\n",
    "\n",
    "# params_all=np.append(np.append(cosmo_params,pz_params),galaxy_params)\n",
    "# f_nz_all['params']=params_all\n",
    "%time f_nz_all=fisher_calc(cosmo_params=cosmo_params,z_params=pz_params,galaxy_params=galaxy_params,kappa_class=kappa_class,clS=cl_L,z_bins_kwargs=z_bins_kwargs,priors=priors)"
   ]
  },
  {
   "cell_type": "code",
   "execution_count": null,
   "metadata": {},
   "outputs": [],
   "source": [
    "f_nz_all=fish_apply_priors(fish=f_nz_all,priors=priors)"
   ]
  },
  {
   "cell_type": "code",
   "execution_count": null,
   "metadata": {},
   "outputs": [],
   "source": [
    "pz_params=['pz_b_s_{j}'.format(j=i) for i in np.arange(kappa_class_lsst.z_bins['shear']['n_bins'])]\n",
    "pz_params+=['pz_b_l_{j}'.format(j=i) for i in np.arange(n_lens_bins)]\n",
    "galaxy_params=['g_b_s_1{j}'.format(j=i) for i in np.arange(kappa_class_lsst.z_bins['shear']['n_bins'])]\n",
    "galaxy_params+=['g_b_l_1{j}'.format(j=i) for i in np.arange(n_lens_bins)]\n",
    "\n",
    "cosmo_params=np.atleast_1d(['Ase9' ,'Om','w','wa'])\n",
    "\n",
    "%time f_all_lsst=fisher_calc(cosmo_params=cosmo_params,z_params=pz_params,galaxy_params=galaxy_params,kappa_class=kappa_class_lsst,clS=cl_L_lsst,z_bins_kwargs=z_bins_lsst_kwargs,priors=priors)"
   ]
  },
  {
   "cell_type": "code",
   "execution_count": null,
   "metadata": {},
   "outputs": [],
   "source": [
    "z_bins_lsst_kwargs['zlD_bins']['n_bins']"
   ]
  },
  {
   "cell_type": "code",
   "execution_count": null,
   "metadata": {},
   "outputs": [],
   "source": [
    "pz_params=['nz_s_{j}_{k}'.format(j=i,k=k) for i in np.arange(kappa_class_lsst.z_bins['shear']['n_bins']) for k in np.arange(n_zs)]\n",
    "pz_params+=['nz_l_{j}_{k}'.format(j=i,k=k) for i in np.arange(n_lens_bins) for k in np.arange(n_zs)]\n",
    "galaxy_params=['g_b_s_1{j}'.format(j=i) for i in np.arange(kappa_class_lsst.z_bins['shear']['n_bins'])]\n",
    "galaxy_params+=['g_b_l_1{j}'.format(j=i) for i in np.arange(n_lens_bins)]\n",
    "# galaxy_params=[]\n",
    "# print(pz_params)\n",
    "cosmo_params=np.atleast_1d(['Ase9','Om','w','wa'])\n",
    "\n",
    "# params_all=np.append(np.append(cosmo_params,pz_params),galaxy_params)\n",
    "# f_nz_all_lsst['params']=params_all\n",
    "\n",
    "\n",
    "%time f_nz_all_lsst=fisher_calc(cosmo_params=cosmo_params,z_params=pz_params,galaxy_params=galaxy_params,kappa_class=kappa_class_lsst,clS=cl_L_lsst,z_bins_kwargs=z_bins_lsst_kwargs,priors=priors)"
   ]
  },
  {
   "cell_type": "code",
   "execution_count": null,
   "metadata": {},
   "outputs": [],
   "source": [
    "f_nz_all_lsst=fish_apply_priors(fish=f_nz_all_lsst,priors=priors)"
   ]
  },
  {
   "cell_type": "code",
   "execution_count": null,
   "metadata": {},
   "outputs": [],
   "source": [
    "f_all['error'],f_all['prior']['error']"
   ]
  },
  {
   "cell_type": "code",
   "execution_count": null,
   "metadata": {},
   "outputs": [],
   "source": [
    "f_nz_all['error'][:4],f_nz_all['prior']['error'][:4]"
   ]
  },
  {
   "cell_type": "code",
   "execution_count": null,
   "metadata": {},
   "outputs": [],
   "source": [
    "f_nz_all_lsst['error'][:4],f_nz_all_lsst['prior']['error'][:4]"
   ]
  },
  {
   "cell_type": "code",
   "execution_count": null,
   "metadata": {},
   "outputs": [],
   "source": [
    "f_nz_all['error'][:4]/f_all['error'][:4]"
   ]
  },
  {
   "cell_type": "code",
   "execution_count": null,
   "metadata": {},
   "outputs": [],
   "source": [
    "f_nz_all['prior']['error'][:4]/f_all['prior']['error'][:4]"
   ]
  },
  {
   "cell_type": "code",
   "execution_count": null,
   "metadata": {},
   "outputs": [],
   "source": [
    "f['error'][0]/f0['error'][0],f['prior']['error'][0]/f0['prior']['error'][0]"
   ]
  },
  {
   "cell_type": "raw",
   "metadata": {},
   "source": [
    "crash"
   ]
  },
  {
   "cell_type": "code",
   "execution_count": null,
   "metadata": {},
   "outputs": [],
   "source": [
    "import plot_fisher_tool\n",
    "reload(plot_fisher_tool)\n",
    "from plot_fisher_tool import *"
   ]
  },
  {
   "cell_type": "code",
   "execution_count": null,
   "metadata": {},
   "outputs": [],
   "source": [
    "f_nz_all_lsst['params'].shape, n_lens_bins,n_lensD_bins,n_bins"
   ]
  },
  {
   "cell_type": "code",
   "execution_count": null,
   "metadata": {},
   "outputs": [],
   "source": [
    "f_nz_all['params'].shape"
   ]
  },
  {
   "cell_type": "code",
   "execution_count": null,
   "metadata": {},
   "outputs": [],
   "source": [
    "fish1 = fisher_tool(Fishers={0:f_nz_all_lsst['cov_p_inv'],1:f_nz_all['cov_p_inv']},\n",
    "                    pars={0:f_nz_all_lsst['params'],1:f_nz_all['params']},\n",
    "                    par_cen=cosmo_fid#{'Om':0.28374511,'Ase9':0.80351633}\n",
    "                    ,fisher_titles={0:'LSST',1:'LSST+DESI'})\n",
    "f=fish1.plot_fish(pars=['Ase9','Om','w','wa'])"
   ]
  },
  {
   "cell_type": "code",
   "execution_count": null,
   "metadata": {
    "scrolled": false
   },
   "outputs": [],
   "source": [
    "fish1 = fisher_tool(Fishers={0:f_nz_all_lsst['prior']['cov_p_inv'],1:f_nz_all['prior']['cov_p_inv']},\n",
    "                    pars={0:f_nz_all_lsst['params'],1:f_nz_all['params']},\n",
    "                    par_cen=cosmo_fid#{'Om':0.28374511,'Ase9':0.80351633}\n",
    "                    ,fisher_titles={0:'LSST',1:'LSST+DESI'})\n",
    "f=fish1.plot_fish(pars=['Ase9','Om','w','wa'])"
   ]
  },
  {
   "cell_type": "code",
   "execution_count": null,
   "metadata": {},
   "outputs": [],
   "source": [
    "fish1 = fisher_tool(Fishers={0:f_nz_all_lsst['cov_p_inv'],1:f_nz_all['cov_p_inv'],\n",
    "                            2:f_nz_all_lsst['prior']['cov_p_inv'],3:f_nz_all['prior']['cov_p_inv']},\n",
    "                    pars={0:f_nz_all_lsst['params'],1:f_nz_all['params'],\n",
    "                         2:f_nz_all_lsst['params'],3:f_nz_all['params']},\n",
    "                    par_cen=cosmo_fid#{'Om':0.28374511,'Ase9':0.80351633}\n",
    "                    ,fisher_titles={0:'LSST',1:'LSST+DESI',\n",
    "                                   2:'LSST+p(z) prior',3:'LSST+DESI+p(z) prior'},\n",
    "                   print_par_error=False)\n",
    "f=fish1.plot_fish(pars=['Ase9','Om','w','wa'])"
   ]
  },
  {
   "cell_type": "code",
   "execution_count": null,
   "metadata": {},
   "outputs": [],
   "source": [
    "f_nz_all_lsst['model_deriv']['nz_s_0_17']"
   ]
  },
  {
   "cell_type": "code",
   "execution_count": null,
   "metadata": {},
   "outputs": [],
   "source": []
  }
 ],
 "metadata": {
  "kernelspec": {
   "display_name": "Python 3",
   "language": "python",
   "name": "python3"
  },
  "language_info": {
   "codemirror_mode": {
    "name": "ipython",
    "version": 3
   },
   "file_extension": ".py",
   "mimetype": "text/x-python",
   "name": "python",
   "nbconvert_exporter": "python",
   "pygments_lexer": "ipython3",
   "version": "3.8.2"
  }
 },
 "nbformat": 4,
 "nbformat_minor": 2
}
