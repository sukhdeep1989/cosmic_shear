{
 "cells": [
  {
   "cell_type": "code",
   "execution_count": 1,
   "metadata": {},
   "outputs": [
    {
     "name": "stderr",
     "output_type": "stream",
     "text": [
      "/usr/lib/python3.7/site-packages/distributed/config.py:20: YAMLLoadWarning: calling yaml.load() without Loader=... is deprecated, as the default Loader is unsafe. Please read https://msg.pyyaml.org/load for full details.\n",
      "  defaults = yaml.load(f)\n"
     ]
    }
   ],
   "source": [
    "import tracemalloc\n",
    "import pickle\n",
    "from cov_3X2 import *\n",
    "from lsst_utils import *\n",
    "from scipy.stats import norm,mode,skew,kurtosis,percentileofscore\n",
    "import seaborn as sns\n",
    "colors=sns.color_palette()\n",
    "markers=['o','s','^','>','v']"
   ]
  },
  {
   "cell_type": "code",
   "execution_count": 2,
   "metadata": {},
   "outputs": [],
   "source": [
    "import lsst_utils\n",
    "import cov_3X2\n",
    "import tracer_utils\n",
    "import window_utils\n",
    "import importlib\n",
    "reload=importlib.reload\n",
    "reload(lsst_utils)\n",
    "reload(window_utils)\n",
    "reload(tracer_utils)\n",
    "reload(cov_3X2)\n",
    "from lsst_utils import *\n",
    "from cov_3X2 import *"
   ]
  },
  {
   "cell_type": "code",
   "execution_count": 3,
   "metadata": {},
   "outputs": [],
   "source": [
    "from matplotlib import rc\n",
    "rc('font',**{'family':'sans-serif','sans-serif':['Helvetica']})\n",
    "## for Palatino and other serif fonts use:\n",
    "#rc('font',**{'family':'serif','serif':['Palatino']})\n",
    "rc('text', usetex=True)"
   ]
  },
  {
   "cell_type": "code",
   "execution_count": 4,
   "metadata": {},
   "outputs": [],
   "source": [
    "fig_home='./figures/'"
   ]
  },
  {
   "cell_type": "code",
   "execution_count": 5,
   "metadata": {},
   "outputs": [],
   "source": [
    "from distributed import LocalCluster\n",
    "from dask.distributed import Client  # we already had this above\n",
    "#http://distributed.readthedocs.io/en/latest/_modules/distributed/worker.html\n",
    "worker_kwargs={'memory_spill_fraction':.75,'memory_target_fraction':.99,'memory_pause_fraction':1}\n",
    "LC=LocalCluster(n_workers=1,processes=False,memory_limit='60gb',threads_per_worker=10,\n",
    "                local_dir='/home/deep/repos/cosmic_shear/temp/NGL-worker/',\n",
    "               **worker_kwargs,\n",
    "                #scheduler_port=12234,\n",
    "#                 dashboard_address=8801\n",
    "                diagnostics_port=8801,\n",
    "#                memory_monitor_interval='2000ms')\n",
    "               )\n",
    "client=Client(LC,diagnostics_port=8801,)\n",
    "\n",
    "#LC.close()\n",
    "#client.close()"
   ]
  },
  {
   "cell_type": "code",
   "execution_count": 6,
   "metadata": {
    "scrolled": true
   },
   "outputs": [
    {
     "data": {
      "text/html": [
       "<table style=\"border: 2px solid white;\">\n",
       "<tr>\n",
       "<td style=\"vertical-align: top; border: 0px solid white\">\n",
       "<h3>Client</h3>\n",
       "<ul>\n",
       "  <li><b>Scheduler: </b>inproc://136.152.250.206/8595/1\n",
       "  <li><b>Dashboard: </b><a href='http://localhost:8801/status' target='_blank'>http://localhost:8801/status</a>\n",
       "</ul>\n",
       "</td>\n",
       "<td style=\"vertical-align: top; border: 0px solid white\">\n",
       "<h3>Cluster</h3>\n",
       "<ul>\n",
       "  <li><b>Workers: </b>1</li>\n",
       "  <li><b>Cores: </b>10</li>\n",
       "  <li><b>Memory: </b>60.00 GB</li>\n",
       "</ul>\n",
       "</td>\n",
       "</tr>\n",
       "</table>"
      ],
      "text/plain": [
       "<Client: scheduler='inproc://136.152.250.206/8595/1' processes=1 cores=10>"
      ]
     },
     "execution_count": 6,
     "metadata": {},
     "output_type": "execute_result"
    }
   ],
   "source": [
    "client"
   ]
  },
  {
   "cell_type": "code",
   "execution_count": 7,
   "metadata": {},
   "outputs": [],
   "source": [
    "nside=1024\n",
    "l0w=np.arange(3*nside-1)"
   ]
  },
  {
   "cell_type": "code",
   "execution_count": 8,
   "metadata": {},
   "outputs": [],
   "source": [
    "#setup parameters\n",
    "# lmax_cl=1000\n",
    "lmax_cl=int(nside*2.9)\n",
    "lmin_cl=0\n",
    "l0=np.arange(lmin_cl,lmax_cl)\n",
    "\n",
    "lmin_cl_Bins=lmin_cl+10\n",
    "lmax_cl_Bins=lmax_cl-10\n",
    "Nl_bins=40\n",
    "l_bins=np.int64(np.logspace(np.log10(lmin_cl_Bins),np.log10(lmax_cl_Bins),Nl_bins))\n",
    "# l_bins=np.int64(np.linspace(lmin_cl_Bins,lmax_cl_Bins,Nl_bins))\n",
    "lb=(l_bins[1:]+l_bins[:-1])*.5\n",
    "\n",
    "l=l0 #np.unique(np.int64(np.logspace(np.log10(lmin_cl),np.log10(lmax_cl),Nl_bins*20))) #if we want to use fewer ell\n",
    "\n",
    "do_cov=True\n",
    "bin_cl=True\n",
    "\n",
    "SSV_cov=False\n",
    "tidal_SSV_cov=False\n",
    "\n",
    "do_xi=False"
   ]
  },
  {
   "cell_type": "code",
   "execution_count": 9,
   "metadata": {},
   "outputs": [],
   "source": [
    "use_shot_noise=True"
   ]
  },
  {
   "cell_type": "code",
   "execution_count": 10,
   "metadata": {},
   "outputs": [],
   "source": [
    "use_window=True\n",
    "f_sky=0.3\n",
    "n_source_bins=1\n",
    "sigma_gamma=0.3944/sqrt(2.)  #*2**0.25"
   ]
  },
  {
   "cell_type": "code",
   "execution_count": 11,
   "metadata": {},
   "outputs": [],
   "source": [
    "store_win=True\n",
    "unit_window=False\n",
    "smooth_window=True"
   ]
  },
  {
   "cell_type": "code",
   "execution_count": 12,
   "metadata": {},
   "outputs": [],
   "source": [
    "w_smooth_lmax=1.e7 #some large number\n",
    "if smooth_window:\n",
    "    w_smooth_lmax=1000\n",
    "window_cl_fact=np.cos(np.pi/2*(l0w/w_smooth_lmax)**10)\n",
    "x=window_cl_fact<0\n",
    "x+=l0w>w_smooth_lmax\n",
    "window_cl_fact[x]=0\n",
    "if unit_window:\n",
    "    window_cl_fact=0"
   ]
  },
  {
   "cell_type": "code",
   "execution_count": 13,
   "metadata": {},
   "outputs": [],
   "source": [
    "corr_ggl=('galaxy','shear')\n",
    "corr_gg=('galaxy','galaxy')\n",
    "corr_ll=('shear','shear')"
   ]
  },
  {
   "cell_type": "code",
   "execution_count": 14,
   "metadata": {},
   "outputs": [],
   "source": [
    "do_cov=True\n",
    "store_win=True"
   ]
  },
  {
   "cell_type": "code",
   "execution_count": 15,
   "metadata": {},
   "outputs": [],
   "source": [
    "wigner_files={}\n",
    "wigner_files[0]= 'temp/dask_wig3j_l6500_w2100_0_reorder.zarr'\n",
    "wigner_files[2]= 'temp/dask_wig3j_l3500_w2100_2_reorder.zarr'\n",
    "\n"
   ]
  },
  {
   "cell_type": "code",
   "execution_count": 16,
   "metadata": {},
   "outputs": [],
   "source": [
    "corrs=[corr_ll,corr_ggl,corr_gg]\n",
    "window_lmax=1500  #0.5 % difference between 100 and 400, for unit window, 2% for realistic window"
   ]
  },
  {
   "cell_type": "code",
   "execution_count": 17,
   "metadata": {},
   "outputs": [],
   "source": [
    "th_min=1./60\n",
    "th_max=600./60\n",
    "n_th_bins=20\n",
    "th_bins=np.logspace(np.log10(th_min),np.log10(th_max),n_th_bins+1)\n",
    "th=np.logspace(np.log10(th_min*0.98),np.log10(1),n_th_bins*30)\n",
    "th2=np.linspace(1,th_max*1.02,n_th_bins*30)\n",
    "# th2=np.logspace(np.log10(1),np.log10(th_max),60*6)\n",
    "th=np.unique(np.sort(np.append(th,th2)))\n",
    "thb=np.sqrt(th_bins[1:]*th_bins[:-1])\n",
    "\n",
    "bin_xi=True\n",
    "\n",
    "# HT_kwargs={'l_min':l_min,  'l_max':l_max,\n",
    "#                         'theta_min':th_min*d2r*.9, 'theta_max':th_max*d2r,\n",
    "#                         'n_zeros':40000, 'prune_theta':prune_theta, 'm1_m2':[(2,2),(2,-2),(0,2),(0,0)]}\n",
    "l0_win=np.arange(lmax_cl)\n",
    "WT_L_kwargs={'l': l0_win,'theta': th*d2r,'m1_m2':[(2,2),(2,-2),(0,2),(2,0),(0,0)]}\n",
    "WT_L=None\n",
    "if do_xi:\n",
    "    %time WT_L=wigner_transform(**WT_L_kwargs)"
   ]
  },
  {
   "cell_type": "code",
   "execution_count": 18,
   "metadata": {
    "scrolled": false
   },
   "outputs": [
    {
     "data": {
      "text/plain": [
       "(0.001, 1000.0)"
      ]
     },
     "execution_count": 18,
     "metadata": {},
     "output_type": "execute_result"
    },
    {
     "data": {
      "image/png": "[encoded data removed]",
      "text/plain": [
       "<Figure size 1500x1125 with 1 Axes>"
      ]
     },
     "metadata": {},
     "output_type": "display_data"
    }
   ],
   "source": [
    "# l0w=np.arange(512)+1\n",
    "mean=150\n",
    "sigma=50\n",
    "ww=1000*np.exp(-(l0w-mean)**2/sigma**2)\n",
    "x=ww<1\n",
    "ww[x]=1\n",
    "# x=l0w>mean+3*sigma\n",
    "# ww[x]=ww[l0w==mean+3*sigma]\n",
    "loglog(l0w,ww*window_cl_fact)\n",
    "ylim(1.e-3,1e3)"
   ]
  },
  {
   "cell_type": "code",
   "execution_count": null,
   "metadata": {},
   "outputs": [
    {
     "name": "stdout",
     "output_type": "stream",
     "text": [
      "ns0:  27.0\n",
      "corr_indxs {('shear', 'shear'): [], ('galaxy', 'galaxy'): [(0, 0)], ('kappa', 'kappa'): []}\n",
      "Win gen: step size 3072\n"
     ]
    },
    {
     "name": "stderr",
     "output_type": "stream",
     "text": [
      "./cov_utils.py:60: RuntimeWarning: invalid value encountered in true_divide\n",
      "  Win0=2*jn(1,l_th)/l_th\n",
      "./angular_power_spectra.py:23: RuntimeWarning: divide by zero encountered in true_divide\n",
      "  self.cl_f=(l+0.5)**2/(l*(l+1.)) # cl correction from Kilbinger+ 2017\n",
      "/usr/lib/python3.7/site-packages/astropy/units/quantity.py:639: RuntimeWarning: divide by zero encountered in true_divide\n",
      "  result = super().__array_ufunc__(function, method, *arrays, **kwargs)\n"
     ]
    },
    {
     "name": "stdout",
     "output_type": "stream",
     "text": [
      "cl dict done\n",
      "ns0:  27.0\n",
      "corr_indxs {('shear', 'shear'): [], ('galaxy', 'galaxy'): [(0, 0)], ('kappa', 'kappa'): []}\n",
      "Win gen: step size 3072\n",
      "cl dict done\n"
     ]
    },
    {
     "name": "stderr",
     "output_type": "stream",
     "text": [
      "/usr/lib/python3.7/site-packages/healpy/sphtfunc.py:402: FutureChangeWarning: The order of the input cl's will change in a future release.\n",
      "Use new=True keyword to start using the new order.\n",
      "See documentation of healpy.synalm.\n",
      "  category=FutureChangeWarning,\n"
     ]
    },
    {
     "name": "stdout",
     "output_type": "stream",
     "text": [
      "Sigma is 0.000000 arcmin (0.000000 rad) \n",
      "-> fwhm is 0.000000 arcmin\n"
     ]
    }
   ],
   "source": [
    "z0=0.5\n",
    "zl_bin1=lsst_source_tomo_bins(zp=np.array([z0]),p_zp=np.array([1]),ns=10,use_window=use_window,nbins=1,window_cl_fact=window_cl_fact,\n",
    "                         f_sky=f_sky,nside=nside,unit_win=True,use_shot_noise=True)\n",
    "zl_bin1w=lsst_source_tomo_bins(zp=np.array([z0]),p_zp=np.array([1]),ns=30,use_window=use_window,window_cl_fact=window_cl_fact*(1+ww),\n",
    "                              f_sky=f_sky,nbins=n_source_bins,nside=nside,use_shot_noise=True)"
   ]
  },
  {
   "cell_type": "code",
   "execution_count": null,
   "metadata": {},
   "outputs": [],
   "source": [
    "z0=1 #1087\n",
    "zs_bin1=lsst_source_tomo_bins(zp=np.array([z0]),p_zp=np.array([1]),ns=30,use_window=use_window,window_cl_fact=window_cl_fact,\n",
    "                              f_sky=f_sky,nbins=n_source_bins,nside=nside,unit_win=False,use_shot_noise=True)\n",
    "\n",
    "zs_bin1w=lsst_source_tomo_bins(zp=np.array([z0]),p_zp=np.array([1]),ns=30,use_window=use_window,window_cl_fact=(1+ww)*window_cl_fact,\n",
    "                              f_sky=f_sky,nbins=n_source_bins,nside=nside,use_shot_noise=True)"
   ]
  },
  {
   "cell_type": "raw",
   "metadata": {},
   "source": [
    "cl_t=hp.anafast(zs_bin1w[0]['window'])\n",
    "cl_t2=hp.anafast(zs_bin1[0]['window'])\n",
    "cl_t3=hp.anafast(zs_bin1[0]['window']-1)\n",
    "cl_t4=hp.anafast(zl_bin1[0]['window'])"
   ]
  },
  {
   "cell_type": "raw",
   "metadata": {},
   "source": [
    "# loglog(hp.alm2cl(zs_bin1[0]['window_alm'],lmax=512))\n",
    "# loglog(hp.alm2cl(zs_bin1w[0]['window_alm'],lmax=512))\n",
    "loglog(cl_t)\n",
    "loglog(cl_tt)\n",
    "loglog(cl_tt2)\n",
    "# loglog(cl_t2,'--')\n",
    "# loglog(cl_t3,':')\n",
    "loglog(cl_t4)\n",
    "# loglog(zs_bin1[0]['window_cl'])\n",
    "# xlim(500,2000)\n",
    "ylim(1.e-13,1.e-2)"
   ]
  },
  {
   "cell_type": "raw",
   "metadata": {},
   "source": [
    "np.sqrt(hp.nside2pixarea(nside,degrees=True))"
   ]
  },
  {
   "cell_type": "raw",
   "metadata": {},
   "source": [
    "win2=hp.sphtfunc.smoothing(zs_bin1w[0]['window'], fwhm=1*np.pi/180., sigma=None)\n",
    "hp.mollview(win2,title='window')\n",
    "cl_t_s=hp.anafast(win2)\n"
   ]
  },
  {
   "cell_type": "raw",
   "metadata": {},
   "source": [
    "lt=np.arange(len(cl_tt2))\n",
    "f=lt**3\n",
    "plot(lt,f*cl_tt2)\n",
    "plot(lt,f*cl_t)\n",
    "plot(lt,f*cl_t_s)\n",
    "\n",
    "plot(lt,f*cl_t2,'--')\n",
    "plot(lt,f*cl_t4,':')\n",
    "xscale('log')"
   ]
  },
  {
   "cell_type": "raw",
   "metadata": {},
   "source": [
    "win_tt.min()"
   ]
  },
  {
   "cell_type": "code",
   "execution_count": null,
   "metadata": {
    "scrolled": false
   },
   "outputs": [],
   "source": [
    "hp.mollview(zs_bin1[0]['window'],title='window')\n",
    "hp.mollview(zl_bin1[0]['window'],title='window')\n",
    "hp.mollview(zs_bin1w[0]['window'],title='window')\n",
    "hp.mollview(zl_bin1w[0]['window'],title='window')\n",
    "# hp.mollview(win_tt,title='window')"
   ]
  },
  {
   "cell_type": "code",
   "execution_count": null,
   "metadata": {},
   "outputs": [],
   "source": [
    "import window_utils\n",
    "reload(window_utils)\n",
    "from window_utils import *\n",
    "\n",
    "import tracer_utils\n",
    "reload(tracer_utils)\n",
    "from tracer_utils import *\n",
    "\n",
    "\n",
    "import cov_3X2\n",
    "reload(cov_3X2)\n",
    "from cov_3X2 import *"
   ]
  },
  {
   "cell_type": "code",
   "execution_count": null,
   "metadata": {
    "scrolled": true
   },
   "outputs": [],
   "source": [
    "client"
   ]
  },
  {
   "cell_type": "raw",
   "metadata": {
    "scrolled": false
   },
   "source": [
    "client.restart()"
   ]
  },
  {
   "cell_type": "code",
   "execution_count": null,
   "metadata": {
    "scrolled": false
   },
   "outputs": [],
   "source": [
    "tracemalloc.clear_traces()\n",
    "tracemalloc.start()\n",
    "\n",
    "\n",
    "t1=time.time()\n",
    "kappa_win=cov_3X2(zs_bins=zs_bin1,do_cov=do_cov,bin_cl=bin_cl,l_bins=l_bins,l=l0, zg_bins=zl_bin1,\n",
    "            use_window=use_window,store_win=store_win,window_lmax=window_lmax,corrs=corrs,\n",
    "            SSV_cov=SSV_cov,tidal_SSV_cov=tidal_SSV_cov,f_sky=f_sky,\n",
    "            HT=WT_L,bin_xi=bin_xi,theta_bins=th_bins,do_xi=do_xi,\n",
    "                  wigner_files=wigner_files\n",
    "                 #Win=kappa_win.Win.Win\n",
    "                 )\n",
    "\n",
    "t2=time.time()\n",
    "print('W done',t2-t1)\n",
    "%time clG_win=kappa_win.cl_tomo(corrs=corrs) \n",
    "%time cl0_win=clG_win['stack'].compute()\n",
    "\n",
    "if do_xi:\n",
    "    %time xiWG_L=kappa_win.xi_tomo()\n",
    "    %time xiW_L=xiWG_L['stack'].compute()"
   ]
  },
  {
   "cell_type": "code",
   "execution_count": null,
   "metadata": {},
   "outputs": [],
   "source": [
    "snapshot1 = tracemalloc.take_snapshot()"
   ]
  },
  {
   "cell_type": "code",
   "execution_count": null,
   "metadata": {},
   "outputs": [],
   "source": [
    "top_stats = snapshot1.statistics('lineno')\n",
    "top_stats"
   ]
  },
  {
   "cell_type": "code",
   "execution_count": null,
   "metadata": {},
   "outputs": [],
   "source": [
    "stat = top_stats[3]\n",
    "print(\"%s memory blocks: %.1f MiB\" % (stat.count, stat.size / 1024**2))\n",
    "for line in stat.traceback.format():\n",
    "    print(line)"
   ]
  },
  {
   "cell_type": "raw",
   "metadata": {},
   "source": [
    "dask.visualize(kappa_win.Win.Win_cl)"
   ]
  },
  {
   "cell_type": "raw",
   "metadata": {},
   "source": [
    "from pympler import tracker\n",
    "from operator import itemgetter\n",
    "\n",
    "mem = tracker.SummaryTracker()\n",
    "outp_t=np.array(sorted(mem.create_summary(), reverse=True, key=itemgetter(2))[:10])\n",
    "outp_t[:,2]/=1024*1024*1024\n",
    "print(outp_t)"
   ]
  },
  {
   "cell_type": "raw",
   "metadata": {},
   "source": [
    "import gc\n",
    "gc.collect()\n",
    "import sys\n",
    "bi=(0,0)\n",
    "# from memory_profiler import profile\n",
    "sys.getsizeof(kappa_win.Win.Win['cl'][corr_ll][bi]['M'])/1e6,sys.getsizeof(cl0_win['cov'])/1e6"
   ]
  },
  {
   "cell_type": "raw",
   "metadata": {},
   "source": [
    "crash"
   ]
  },
  {
   "cell_type": "code",
   "execution_count": null,
   "metadata": {},
   "outputs": [],
   "source": [
    "l=kappa_win.window_l\n",
    "Om_W=np.pi*4*f_sky\n",
    "theta_win=np.sqrt(Om_W/np.pi)\n",
    "l_th=l*theta_win\n",
    "Win0=2*jn(1,l_th)/l_th\n",
    "Win0=np.nan_to_num(Win0)"
   ]
  },
  {
   "cell_type": "raw",
   "metadata": {},
   "source": [
    "plot(cl_t3,'--')\n",
    "plot(cl_t)\n",
    "plot(kappa_win.cov_utils.Win0)\n",
    "# plot(Win0)\n",
    "# loglog()\n",
    "yscale('log')\n",
    "xlim(0,10)"
   ]
  },
  {
   "cell_type": "code",
   "execution_count": null,
   "metadata": {},
   "outputs": [],
   "source": [
    "kappa_win.z_bins.keys()"
   ]
  },
  {
   "cell_type": "code",
   "execution_count": null,
   "metadata": {},
   "outputs": [],
   "source": [
    "bi=(0,0)"
   ]
  },
  {
   "cell_type": "raw",
   "metadata": {},
   "source": [
    "dask.visualize(kappa_win.Win.Win_cl)"
   ]
  },
  {
   "cell_type": "raw",
   "metadata": {},
   "source": [
    "dask.visualize(kappa_win.Win.Win_cov)"
   ]
  },
  {
   "cell_type": "code",
   "execution_count": null,
   "metadata": {},
   "outputs": [],
   "source": [
    "R=kappa_win.Win.Win['cl'][corr_gg][bi]['M']/kappa_win.Win.Win['cl'][corr_ll][bi]['M']\n",
    "R=np.nan_to_num(R)\n",
    "x=R>0\n",
    "R[x].max()"
   ]
  },
  {
   "cell_type": "code",
   "execution_count": null,
   "metadata": {},
   "outputs": [],
   "source": [
    "kappa_win_w=cov_3X2(zs_bins=zs_bin1w,do_cov=do_cov,bin_cl=bin_cl,l_bins=l_bins,l=l0, zg_bins=zl_bin1w,\n",
    "            use_window=use_window,store_win=store_win,window_lmax=window_lmax,corrs=corrs,\n",
    "            SSV_cov=SSV_cov,tidal_SSV_cov=tidal_SSV_cov,f_sky=f_sky,\n",
    "            HT=WT_L,bin_xi=bin_xi,theta_bins=th_bins,do_xi=do_xi,\n",
    "                    wigner_files=wigner_files\n",
    "                   #Win=kappa_win_w.Win.Win\n",
    "                   )\n",
    "\n",
    "%time clG_win_w=kappa_win_w.cl_tomo(corrs=corrs) \n",
    "%time cl0_win_w=clG_win_w['stack'].compute()\n",
    "\n",
    "if do_xi:\n",
    "    %time xiWG_L_w=kappa_win_w.xi_tomo()\n",
    "    %time xiW_L_w=xiWG_L_w['stack'].compute()"
   ]
  },
  {
   "cell_type": "code",
   "execution_count": null,
   "metadata": {
    "scrolled": true
   },
   "outputs": [],
   "source": [
    "kappa0=cov_3X2(zs_bins=zs_bin1,do_cov=do_cov,bin_cl=bin_cl,l_bins=l_bins,l=l0, zg_bins=zl_bin1,\n",
    "            use_window=False,store_win=store_win,corrs=corrs,\n",
    "            SSV_cov=SSV_cov,tidal_SSV_cov=tidal_SSV_cov,f_sky=f_sky,\n",
    "            HT=WT_L,bin_xi=bin_xi,theta_bins=th_bins,do_xi=do_xi)\n",
    "\n",
    "%time clG0=kappa0.cl_tomo(corrs=corrs) \n",
    "%time cl0=clG0['stack'].compute()\n",
    "\n",
    "if do_xi:\n",
    "    %time xiG_L0=kappa0.xi_tomo()\n",
    "    %time xi_L0=xiG_L0['stack'].compute()"
   ]
  },
  {
   "cell_type": "code",
   "execution_count": null,
   "metadata": {},
   "outputs": [],
   "source": [
    "zl_bin1[0]['lm']"
   ]
  },
  {
   "cell_type": "code",
   "execution_count": null,
   "metadata": {},
   "outputs": [],
   "source": [
    "bi=(0,0)\n",
    "cl0={'cl_b':{},'cov':{},'cl':{}}\n",
    "cl0_win_w={'cl_b':{},'cov':{}}\n",
    "cl0_win={'cl_b':{},'cov':{}}\n",
    "for corr in corrs:\n",
    "    cl0['cl_b'][corr]=clG0['cl_b'][corr][bi].compute()\n",
    "    cl0['cl'][corr]=clG0['cl'][corr][bi].compute()\n",
    "    cl0['cov'][corr]=clG0['cov'][corr+corr][bi+bi].compute()\n",
    "    \n",
    "    cl0_win['cl_b'][corr]=clG_win['cl_b'][corr][bi].compute()\n",
    "    cl0_win['cov'][corr]=clG_win['cov'][corr+corr][bi+bi].compute()['final_b']\n",
    "    \n",
    "    cl0_win_w['cl_b'][corr]=clG_win_w['cl_b'][corr][bi].compute()\n",
    "    cl0_win_w['cov'][corr]=clG_win_w['cov'][corr+corr][bi+bi].compute()['final_b']"
   ]
  },
  {
   "cell_type": "code",
   "execution_count": null,
   "metadata": {},
   "outputs": [],
   "source": [
    "import binning\n",
    "reload(binning)\n",
    "from binning import *\n",
    "M_binnings={}\n",
    "M_binning_utils={}\n",
    "Mw_binning_utils={}\n",
    "for corr in corrs:\n",
    "    M_binnings[corr]=binning()\n",
    "    wt_b=1./cl0['cl_b'][corr]\n",
    "    wt0=cl0['cl'][corr]\n",
    "    M_binning_utils[corr]=M_binnings[corr].bin_utils(r=kappa0.l,r_bins=kappa0.l_bins,\n",
    "                                                r_dim=2,mat_dims=[1,2],wt_b=wt_b,wt0=wt0)\n",
    "    Mw_binning_utils[corr]=M_binnings[corr].bin_utils(r=kappa0.l,r_bins=kappa0.l_bins,\n",
    "                                                r_dim=2,mat_dims=[1,2],wt_b=wt_b,wt0=wt0)"
   ]
  },
  {
   "cell_type": "code",
   "execution_count": null,
   "metadata": {},
   "outputs": [],
   "source": [
    "plot(lb,cl0['cl_b'][corr_gg])\n",
    "plot(l0,cl0['cl'][corr_gg])\n",
    "loglog()"
   ]
  },
  {
   "cell_type": "raw",
   "metadata": {
    "scrolled": false
   },
   "source": [
    "\n",
    "plot(thb,np.diag(xiW_L['cov']/xi_L0['cov']),'bo')\n",
    "xlabel(r'$\\theta$ (degrees)')\n",
    "ylabel(r'$\\delta\\xi^2$ (window/fsky)')\n",
    "xscale('log')"
   ]
  },
  {
   "cell_type": "code",
   "execution_count": null,
   "metadata": {},
   "outputs": [],
   "source": [
    "mask=zs_bin1[0]['window']>-1.e-20"
   ]
  },
  {
   "cell_type": "code",
   "execution_count": null,
   "metadata": {},
   "outputs": [],
   "source": [
    "win2=zs_bin1[0]['window']/zs_bin1[0]['window']\n",
    "win2[~mask]=hp.UNSEEN\n",
    "win2[mask]=1.\n",
    "cl_t2=hp.anafast(win2)"
   ]
  },
  {
   "cell_type": "code",
   "execution_count": null,
   "metadata": {},
   "outputs": [],
   "source": [
    "np.arange(len(cl_t2))"
   ]
  },
  {
   "cell_type": "code",
   "execution_count": null,
   "metadata": {},
   "outputs": [],
   "source": [
    "def corr_matrix(cov_mat=[]): #correlation matrix\n",
    "    diag=np.diag(cov_mat)\n",
    "    return cov_mat/np.sqrt(np.outer(diag,diag))"
   ]
  },
  {
   "cell_type": "code",
   "execution_count": null,
   "metadata": {},
   "outputs": [],
   "source": [
    "def bin_coupling_M(kappa_class,coupling_M): #following https://arxiv.org/pdf/astro-ph/0105302.pdf \n",
    "#construct coupling matrix for the binned c_ell. This assumes that the C_ell within a bin follows powerlaw. \n",
    "#Without this assumption we cannot undo the effects of binning\n",
    "    l=kappa_class.l\n",
    "    bin_M=kappa_win.cl_bin_utils['binning_mat']\n",
    "    l2=l*(l+1)\n",
    "    x=l==0\n",
    "    l2[x]=1\n",
    "    Q=bin_M.T*np.pi*2/(l2)\n",
    "    P=bin_M.T*(l2)/(np.pi*2)\n",
    "    P=P.T/(kappa_class.l_bins[1:]-kappa_class.l_bins[:-1])\n",
    "    return P.T@coupling_M@Q.T"
   ]
  },
  {
   "cell_type": "code",
   "execution_count": null,
   "metadata": {},
   "outputs": [],
   "source": [
    "def bin_coupling_M2(kappa_class,coupling_M): #following https://arxiv.org/pdf/astro-ph/0105302.pdf \n",
    "#construct coupling matrix for the binned c_ell. This assumes that the C_ell within a bin follows powerlaw. \n",
    "#Without this assumption we cannot undo the effects of binning\n",
    "    l=kappa_class.l\n",
    "    bin_M=kappa_win.cl_bin_utils['binning_mat']\n",
    "    \n",
    "    l2=l*(l+1)\n",
    "    x=l==0\n",
    "    l2[x]=1\n",
    "    \n",
    "    Q=bin_M.T*np.pi*2/(l2)**2\n",
    "    P=bin_M.T*(l2)**2/(np.pi*2)\n",
    "    P=P.T/(kappa_class.l_bins[1:]-kappa_class.l_bins[:-1])\n",
    "    return P.T@coupling_M@Q.T"
   ]
  },
  {
   "cell_type": "code",
   "execution_count": null,
   "metadata": {},
   "outputs": [],
   "source": [
    "seed=12334\n",
    "def get_clsim2(clg0,window,mask,kappa_class,coupling_M,coupling_M_inv,ndim,i):\n",
    "    print(i)\n",
    "    local_state = np.random.RandomState(seed+i)\n",
    "    cl_map=hp.synfast(clg0,nside=nside,RNG=local_state,new=True,pol=True)\n",
    "\n",
    "    if ndim>1:\n",
    "        cl_map[0]*=window['galaxy']\n",
    "        cl_map[0][mask['galaxy']]=hp.UNSEEN\n",
    "        cl_map[1]*=window['shear'] #shear_1\n",
    "        cl_map[2]*=window['shear']#shear_2\n",
    "        cl_map[1][mask['shear']]=hp.UNSEEN\n",
    "        cl_map[2][mask['shear']]=hp.UNSEEN\n",
    "        clpi=hp.anafast(cl_map, lmax=max(l),pol=True) #TT, EE, BB, TE, EB, TB for polarized input map\n",
    "        clpi=clpi[:,l]\n",
    "        clpi=clpi[[0,1,3],:]\n",
    "#             for i in np.arange(6):\n",
    "\n",
    "    else:\n",
    "        cl_map*=window\n",
    "        cl_map[mask]=hp.UNSEEN\n",
    "        clpi=hp.anafast(cl_map, lmax=max(l),pol=True)[l]\n",
    "        \n",
    "    del cl_map\n",
    "\n",
    "    if ndim>1:\n",
    "        clpi[0]-=(np.ones_like(clpi[0])*kappa_class.SN[corr_gg][:,0,0])@coupling_M[corr_gg]*use_shot_noise\n",
    "        clpi[1]-=(np.ones_like(clpi[1])*kappa_class.SN[corr_ll][:,0,0])@coupling_M[corr_ll]*use_shot_noise\n",
    "        clpi[1]-=(np.ones_like(clpi[1])*kappa_class.SN[corr_ll][:,0,0])@coupling_M['shear_B']*use_shot_noise #remove B-mode leakage\n",
    "\n",
    "        clgi=[clpi[0]@coupling_M_inv[corr_gg],\n",
    "              clpi[1]@coupling_M_inv[corr_ll],\n",
    "              clpi[2]@coupling_M_inv[corr_ggl]]\n",
    "    else:\n",
    "        clpi-=(np.ones_like(clpi)*shot_noise)@coupling_M\n",
    "        clgi=clpi@coupling_M_inv\n",
    "    clgi=np.array(clgi)\n",
    "    return [clpi.T,clgi.T]"
   ]
  },
  {
   "cell_type": "code",
   "execution_count": null,
   "metadata": {},
   "outputs": [],
   "source": [
    "def calc_sim_stats(sim=[],sim_truth=[],PC=False):\n",
    "    sim_stats={}\n",
    "    sim_stats['std']=np.std(sim,axis=0)    \n",
    "    sim_stats['mean']=np.mean(sim,axis=0)\n",
    "    sim_stats['median']=np.median(sim,axis=0)\n",
    "    sim_stats['percentile']=np.percentile(sim,[16,84],axis=0)\n",
    "#     sim_stats['skew']=skew(sim,axis=0)\n",
    "#     sim_stats['kurt']=kurtosis(sim,axis=0)\n",
    "    sim_stats['cov']=np.cov(sim,rowvar=0)\n",
    "    \n",
    "#     if not PC:\n",
    "#         try:\n",
    "#             sim_stats['cov_ev'],sim_stats['cov_evec']=np.linalg.eig(sim_stats['cov'])\n",
    "#             sim_stats['PC']={}\n",
    "#             sim_stats['PC']['data']=(sim_stats['cov_evec'].T@sim.T).T\n",
    "#             sim_stats['PC']['stats']=calc_sim_stats(sim=sim_stats['PC']['data'],PC=True)\n",
    "#         except Exception as err:\n",
    "#             print(err)\n",
    "#             sim_stats['PC']=err\n",
    "#     else:\n",
    "#         sim_truth=sim_stats['mean']\n",
    "    \n",
    "    sim_stats['percetile_score']=np.zeros_like(sim_stats['std'])\n",
    "    if len(sim_stats['std'].shape)==1:\n",
    "        for i in np.arange(len(sim_stats['std'])):\n",
    "            sim_stats['percetile_score'][i]=percentileofscore(sim[:,i],sim_truth[i])\n",
    "    elif len(sim_stats['std'].shape)==2:\n",
    "        for i in np.arange(len(sim_stats['std'])):\n",
    "            for i_dim in np.arange(2):\n",
    "                for j_dim in np.arange(2):\n",
    "                    sim_stats['percetile_score'][i][i_dim,j_dim]=percentileofscore(sim[:,i,i_dim,j_dim],\n",
    "                                                                                   sim_truth[i,i_dim,j_dim])\n",
    "    else:\n",
    "        sim_stats['percetile_score']='not implemented for ndim>2'\n",
    "    return sim_stats\n",
    "    \n",
    "def sim_cl_xi(Rsize=150,do_norm=False,cl0=None,kappa_class=None,fsky=f_sky,zbins=None,use_shot_noise=True,\n",
    "             convolve_win=False,nside=nside,use_cosmo_power=True):\n",
    "    l=kappa_class.l\n",
    "    shear_lcut=l>=2\n",
    "    \n",
    "    l_bins=kappa_class.l_bins\n",
    "    dl=l_bins[1:]-l_bins[:-1]\n",
    "    nu=(2.*l+1.)*fsky\n",
    "    \n",
    "    coupling_M={}\n",
    "    coupling_M_N={}\n",
    "    coupling_M_binned={'Master':{},'nMaster':{},'iMaster':{}}    \n",
    "    coupling_M_inv={}\n",
    "    coupling_M_binned_inv={'Master':{},'nMaster':{},'iMaster':{}}\n",
    "    \n",
    "    coupling_M4={}\n",
    "    coupling_M4_binned={}\n",
    "    coupling_M4_binned2={}\n",
    "\n",
    "    mask={}\n",
    "    window={}\n",
    "    if convolve_win:\n",
    "        nu=2.*l+1.\n",
    "        for tracer in kappa_class.z_bins.keys():\n",
    "            window[tracer]=kappa_class.z_bins[tracer][0]['window']\n",
    "            mask[tracer]=window[tracer]==hp.UNSEEN\n",
    "        for corr in corrs:\n",
    "            coupling_M[corr]=kappa_class.Win.Win['cl'][corr][(0,0)]['M']\n",
    "            coupling_M_N[corr]=kappa_class.Win.Win['cl'][corr][(0,0)]['M_noise']\n",
    "            if corr==corr_ll:\n",
    "                coupling_M['shear_B']=kappa_class.Win.Win['cl'][corr][(0,0)]['M_B']\n",
    "                coupling_M_N['shear_B']=kappa_class.Win.Win['cl'][corr][(0,0)]['M_B_noise']\n",
    "            coupling_M_binned['Master'][corr]=bin_coupling_M(kappa_class,coupling_M[corr])\n",
    "            coupling_M_binned['nMaster'][corr]=kappa_class.binning.bin_2d(cov=coupling_M[corr],bin_utils=kappa_class.cl_bin_utils) \n",
    "            coupling_M_binned['nMaster'][corr]*=dl\n",
    "            \n",
    "            coupling_M_binned['iMaster'][corr]=M_binnings[corr].bin_2d_coupling(cov=coupling_M[corr].T,bin_utils=M_binning_utils[corr])\n",
    "            coupling_M_binned['iMaster'][corr]=coupling_M_binned['iMaster'][corr].T  #to keep the same order in dot product later. Remeber that the coupling matrix is not symmetric.\n",
    "            \n",
    "            if corr==corr_ll:\n",
    "                coupling_M_binned['iMaster']['shear_B']=M_binnings[corr].bin_2d_coupling(cov=coupling_M['shear_B'].T,bin_utils=M_binning_utils[corr])\n",
    "                coupling_M_binned['iMaster']['shear_B']=coupling_M_binned['iMaster']['shear_B'].T  #to keep the same order in dot product later. Remeber that the coupling matrix is not symmetric.\n",
    "\n",
    "            \n",
    "#             coupling_M4=kappa_win.Win.Win['cov'][corr+corr][(0,0,0,0)]['M1324'][s] #*2\n",
    "#             coupling_M4_binned[corr]=bin_coupling_M(kappa_class,coupling_M4[corr])\n",
    "#             coupling_M4_binned2[corr]=kappa_class.binning.bin_2d(cov=coupling_M4[corr],bin_utils=kappa_class.cl_bin_utils) \n",
    "#             coupling_M4_binned2[corr]*=dl\n",
    "#         kappa_class.binning.bin_2d(cov=coupling_M,bin_utils=kappa_win.cl_bin_utils)\n",
    "#             print(corr,coupling_M[corr])\n",
    "            \n",
    "            cut=l>0\n",
    "            if 'shear' in corr:\n",
    "                cut=shear_lcut \n",
    "            coupling_M_inv[corr]=np.zeros_like(coupling_M[corr])\n",
    "            coupling_M_inv[corr][:,cut][cut,:]=np.linalg.inv(coupling_M[corr][cut,:][:,cut]) #otherwise we get singular matrix since for shear l<2 is not defined.\n",
    "            \n",
    "            for k in coupling_M_binned.keys():\n",
    "                coupling_M_binned_inv[k][corr]=np.linalg.inv(coupling_M_binned[k][corr])\n",
    "            if corr==corr_ll:\n",
    "                coupling_M_inv['shear_B']=np.zeros_like(coupling_M['shear_B'])\n",
    "                coupling_M_inv['shear_B'][:,cut][cut,:]=np.linalg.inv(coupling_M['shear_B'][cut,:][:,cut]) #otherwise we get singular matrix since for shear l<2 is not defined.\n",
    "                coupling_M_binned_inv['iMaster']['shear_B']=np.linalg.inv(coupling_M_binned['iMaster']['shear_B'])\n",
    "#             print(coupling_M_inv.keys())\n",
    "    outp={}\n",
    "    win=0\n",
    "    clp_shear_B=None\n",
    "    if cl0 is None:\n",
    "        cl0={}\n",
    "        clp0={}\n",
    "        clG0=kappa_class.cl_tomo() \n",
    "        for corr in kappa_class.corrs:\n",
    "            cl0[corr]=clG0['cl'][corr][(0,0)].compute()\n",
    "            clp0[corr]=clG0['cl_b'][corr][(0,0)].compute()\n",
    "    clg0={}\n",
    "    clN0={}\n",
    "    for corr in kappa_class.corrs: #ordering: TT, EE, BB, TE if 4 cl as input.. use newbool=True\n",
    "        shot_noise=kappa_class.SN[corr_gg][:,0,0]*0\n",
    "        if corr[0]==corr[1]:\n",
    "            shot_noise=kappa_class.SN[corr][:,0,0]\n",
    "        shot_noise=shot_noise*use_shot_noise\n",
    "        clN0[corr]=shot_noise\n",
    "        clg0[corr]=cl0[corr]*use_cosmo_power#+shot_noise\n",
    "        if corr==corr_ll:\n",
    "            clg0['shear_B']=cl0[corr]*0\n",
    "            clN0['shear_B']=shot_noise\n",
    "            #clp_shear_B=shot_noise@coupling_M[corr_ll]+(cl0[corr_ll]+shot_noise)@coupling_M['shear_B']\n",
    "            clp_shear_B=cl0[corr_ll]@coupling_M['shear_B']\n",
    "    ndim=len(kappa_class.corrs)\n",
    "    print('ndim:',ndim)\n",
    "    outp['clg0_0']=clg0.copy()\n",
    "    outp['clN0_0']=clN0.copy()\n",
    "    outp['ndim']=ndim\n",
    "    if ndim>1:\n",
    "        clg0=(clg0[corr_gg],clg0[corr_ll],clg0['shear_B'],clg0[corr_ggl])#ordering: TT, EE, BB, TE if 4 cl as input.. use newbool=True\n",
    "        clN0=(clN0[corr_gg],clN0[corr_ll],clN0['shear_B'],clN0[corr_ggl])#ordering: TT, EE, BB, TE if 4 cl as input.. use newbool=True\n",
    "    else:\n",
    "        clg0=clg0[corr_gg]\n",
    "        clN0=clN0[corr_gg]\n",
    "    \n",
    "    SN=kappa_class.SN\n",
    "    sim_cl_shape=(Rsize,len(kappa_class.l),ndim)\n",
    "    \n",
    "    clp=np.zeros(sim_cl_shape,dtype='float32')\n",
    "    clg=np.zeros(sim_cl_shape,dtype='float32')\n",
    "    clpB=np.zeros(sim_cl_shape,dtype='float32')\n",
    "    clgB=np.zeros(sim_cl_shape,dtype='float32')\n",
    "    lmax=max(l)\n",
    "    lmin=min(l)\n",
    "    \n",
    "    \n",
    "    clg_b=None\n",
    "    clp_b=None\n",
    "    clpB_b=None\n",
    "    nu_b=None\n",
    "    if l_bins is not None:\n",
    "        clg0_b={corr: kappa_class.binning.bin_1d(xi=cl0[corr],bin_utils=kappa_class.cl_bin_utils) for corr in kappa_class.corrs} \n",
    "        ll=kappa_class.cl_bin_utils['bin_center']\n",
    "        sim_clb_shape=(Rsize,len(ll),ndim)\n",
    "        nu_b=(2.*ll+1.)*fsky*(l_bins[1:]-l_bins[:-1])\n",
    "        clg_b={'unbinned':np.zeros(sim_clb_shape,dtype='float32'),\n",
    "                'Master':np.zeros(sim_clb_shape,dtype='float32'),\n",
    "               'nMaster':np.zeros(sim_clb_shape,dtype='float32'),\n",
    "               'iMaster':np.zeros(sim_clb_shape,dtype='float32')}    \n",
    "        clgB_b={'iMaster':np.zeros(sim_clb_shape,dtype='float32')}\n",
    "#                'nMaster':np.zeros(sim_clb_shape,dtype='float32'),\n",
    "#                'Master':np.zeros(sim_clb_shape,dtype='float32')}    \n",
    "        clp_b=np.zeros(sim_clb_shape,dtype='float32')\n",
    "        \n",
    "        clpB_b=np.zeros(sim_clb_shape,dtype='float32')\n",
    "        \n",
    "        binning_func=kappa_class.binning.bin_1d\n",
    "        binning_utils=kappa_class.cl_bin_utils\n",
    "        \n",
    "        clp_shear_B_b=binning_func(xi=clp_shear_B,bin_utils=binning_utils)\n",
    "        \n",
    "    corr_t=[corr_gg,corr_ll,corr_ggl] #order in which sim corrs are output.\n",
    "    seed=12334\n",
    "    def get_clsim(i):\n",
    "        print('doing map: ',i)\n",
    "        local_state = np.random.RandomState(seed+i)\n",
    "        cl_map=hp.synfast(clg0,nside=nside,RNG=local_state,new=True,pol=True)\n",
    "        N_map=hp.synfast(clN0,nside=nside,RNG=local_state,new=True,pol=True)\n",
    "        \n",
    "        tracers=['galaxy','shear','shear']\n",
    "        if ndim>1:\n",
    "            for i in np.arange(3):\n",
    "                tracer=tracers[i]\n",
    "                cl_map[i]*=window[tracer]\n",
    "                N_map[i]*=np.sqrt(window[tracer])\n",
    "                cl_map[i]+=N_map[i]\n",
    "                cl_map[i][mask[tracer]]=hp.UNSEEN\n",
    "                N_map[i][mask[tracer]]=hp.UNSEEN\n",
    "            \n",
    "            clpi=hp.anafast(cl_map, lmax=max(l),pol=True) #TT, EE, BB, TE, EB, TB for polarized input map\n",
    "            clpi=clpi[:,l]\n",
    "            clpi_B=clpi[[2,4,5],:]\n",
    "            clpi=clpi[[0,1,3],:]\n",
    "            \n",
    "#             for i in np.arange(6):\n",
    "            \n",
    "            \n",
    "        else:\n",
    "            cl_map*=window\n",
    "            cl_map[mask]=hp.UNSEEN\n",
    "            clpi=hp.anafast(cl_map, lmax=max(l),pol=True)[l]\n",
    "\n",
    "        if ndim>1:\n",
    "            clpi[0]-=(np.ones_like(clpi[0])*SN[corr_gg][:,0,0])@coupling_M_N[corr_gg]*use_shot_noise\n",
    "            clpi[1]-=(np.ones_like(clpi[1])*SN[corr_ll][:,0,0])@coupling_M_N[corr_ll]*use_shot_noise\n",
    "            clpi[1]-= (np.ones_like(clpi[1])*SN[corr_ll][:,0,0])@coupling_M_N['shear_B']*use_shot_noise #remove B-mode \n",
    "            clpi_B[0]-=(np.ones_like(clpi[1])*SN[corr_ll][:,0,0])@coupling_M_N['shear_B']*use_shot_noise #remove B-mode \n",
    "            clpi_B[0]-=(np.ones_like(clpi[1])*SN[corr_ll][:,0,0])@coupling_M_N[corr_ll]*use_shot_noise\n",
    "            \n",
    "            clgi=[clpi[0]@coupling_M_inv[corr_gg],\n",
    "                  clpi[1]@coupling_M_inv[corr_ll],\n",
    "                  clpi[2]@coupling_M_inv[corr_ggl]]\n",
    "            clgBi=[clpi_B[0]@coupling_M_inv['shear_B'],\n",
    "                  clpi[1]*0,\n",
    "                  clpi[2]*0]\n",
    "            \n",
    "        else:\n",
    "            clpi-=(np.ones_like(clpi)*shot_noise)@coupling_M\n",
    "            clgi=clpi@coupling_M_inv\n",
    "        clgi=np.array(clgi)\n",
    "        if l_bins is not None:\n",
    "            corr_t=[corr_gg,corr_ll,corr_ggl]\n",
    "            sim_clb_shape=(len(ll),ndim)\n",
    "            \n",
    "            clg_b=np.zeros(sim_clb_shape,dtype='float32')\n",
    "            \n",
    "            clg_b={'unbinned':np.zeros(sim_clb_shape,dtype='float32'),\n",
    "                    'Master':np.zeros(sim_clb_shape,dtype='float32'),\n",
    "                   'nMaster':np.zeros(sim_clb_shape,dtype='float32'),\n",
    "                   'iMaster':np.zeros(sim_clb_shape,dtype='float32')}    \n",
    "            clgB_b={'iMaster':np.zeros(sim_clb_shape,dtype='float32')}                \n",
    "            \n",
    "            clp_b=np.zeros(sim_clb_shape,dtype='float32')\n",
    "            clpB_b=np.zeros(sim_clb_shape,dtype='float32')\n",
    "            for ii in np.arange(ndim):\n",
    "                clg_b['unbinned'][:,ii]=binning_func(xi=clgi[ii],bin_utils=binning_utils)\n",
    "                clp_b[:,ii]=binning_func(xi=clpi[ii],bin_utils=binning_utils)\n",
    "                clpB_b[:,ii]=binning_func(xi=clpi_B[ii],bin_utils=binning_utils)\n",
    "                for k in coupling_M_binned_inv.keys():\n",
    "                    clg_b[k][:,ii]=clp_b[:,ii]@coupling_M_binned_inv[k][corr_t[ii]] #be careful with ordering as coupling matrix is not symmetric\n",
    "                if corr_t[ii]==corr_ll:\n",
    "                    clgB_b['iMaster'][:,ii]=clpB_b[:,ii]@coupling_M_binned_inv['iMaster']['shear_B']\n",
    "            return clpi.T,clgi.T,clp_b,clpi_B.T,clg_b,clpB_b,clgB_b\n",
    "        else:\n",
    "            return clpi.T,clgi.T\n",
    "    \n",
    "    def comb_maps(futures):\n",
    "        for i in np.arange(Rsize):\n",
    "            x=futures[i]#.compute()\n",
    "            clp[i,:,:]+=x[0]\n",
    "            clg[i,:,:]+=x[1]\n",
    "        return clp,clg \n",
    "    \n",
    "    print('generating maps')\n",
    "    if convolve_win:\n",
    "        futures={}\n",
    "#         for i in np.arange(Rsize):\n",
    "#             futures[i]=dask.delayed(get_clsim)(i)  \n",
    "#         print(futures)\n",
    "#         clpg=dask.delayed(comb_maps)(futures)\n",
    "#         clpg.compute()\n",
    "        i=0\n",
    "        j=0\n",
    "        step=min(5,Rsize)\n",
    "        funct=partial(get_clsim2,clg0,window,mask,SN,coupling_M,coupling_M_inv,ndim)\n",
    "        while j<Rsize:\n",
    "            futures={}\n",
    "            for ii in np.arange(step):\n",
    "                futures[ii]=delayed(get_clsim)(i+ii)  \n",
    "            futures=client.compute(futures)\n",
    "            for ii in np.arange(step):\n",
    "                if l_bins is None:\n",
    "                    clp[i,:],clg[i,:]=futures.result()[ii]\n",
    "                else:\n",
    "                    clp[i,:],clg[i,:],clp_b[i,:],clpB[i,:],clg_b_i,clpB_b[i,:],clgB_b_i=futures.result()[ii]\n",
    "                    for k in clg_b_i.keys():\n",
    "                        clg_b[k][i,:]=clg_b_i[k]\n",
    "                    clgB_b['iMaster'][i,:]=clgB_b_i['iMaster']\n",
    "                        \n",
    "                i+=1\n",
    "            print('done map ',i)\n",
    "            del futures\n",
    "            client.restart()\n",
    "            j+=step\n",
    "        \n",
    "    print('done generating maps')\n",
    "    \n",
    "    outp['clg_b_stats']={}\n",
    "    outp['clgB_b_stats']={}\n",
    "    for k in clg_b.keys():\n",
    "        outp['clg_b_stats'][k]=client.compute({corr_t[ii]: delayed(calc_sim_stats)(sim=clg_b[k][:,:,ii],sim_truth=clg0_b[corr_t[ii]]) for ii in np.arange(ndim)})\n",
    "    k='iMaster'\n",
    "    outp['clgB_b_stats'][k]=client.compute({corr_t[ii]: delayed(calc_sim_stats)(sim=clgB_b[k][:,:,ii],sim_truth=clg0_b[corr_t[ii]]) for ii in np.arange(ndim)})\n",
    "    outp['clp_b_stats']=client.compute({corr_t[ii]: delayed(calc_sim_stats)(sim=clp_b[:,:,ii],sim_truth=clp_b[:,:,ii].mean(axis=0)) for ii in np.arange(ndim)})\n",
    "    outp['clpB_b_stats']=client.compute({corr_t[ii]: delayed(calc_sim_stats)(sim=clpB_b[:,:,ii],sim_truth=clpB_b[:,:,ii].mean(axis=0)) for ii in np.arange(ndim)})\n",
    "    \n",
    "    for k in clg_b.keys():\n",
    "        outp['clg_b_stats'][k]=outp['clg_b_stats'][k].result()\n",
    "    k='iMaster'\n",
    "    outp['clgB_b_stats'][k]=outp['clgB_b_stats'][k].result()\n",
    "    outp['clp_b_stats']=outp['clp_b_stats'].result()\n",
    "    outp['clpB_b_stats']=outp['clpB_b_stats'].result()\n",
    "        \n",
    "#         outp['clp_b_stats']=calc_sim_stats(sim=clp_b,sim_truth=clp_b.mean(axis=0))\n",
    "#     xiN=np.zeros((Rsize,len(xi)))\n",
    "#     xig=np.zeros((Rsize,len(xi)))\n",
    "#     xigB=np.zeros((Rsize,len(r_bins)-1))\n",
    "#     xiNB=np.zeros((Rsize,len(r_bins)-1))\n",
    "#     for i in np.arange(Rsize):\n",
    "#         r,xig[i,:]=HT.projected_correlation(k_pk=l,pk=clg[i,:],j_nu=0,taper=True,**taper_kw)\n",
    "#         rb,xigB[i,:]=HT.bin_mat(r=r,mat=xig[i,:],r_bins=r_bins)\n",
    "#         if do_clN:\n",
    "#             r,xiN[i,:]=HT.projected_correlation(k_pk=l,pk=clN[i,:],j_nu=0,taper=True,**taper_kw)\n",
    "#             rb,xiNB[i,:]=HT.bin_mat(r=r,mat=xiN[i,:],r_bins=r_bins)\n",
    "#     outp['xi_truth']=xi_truth\n",
    "#    outp['rb']=rb\n",
    "    outp['clg']=clg\n",
    "    outp['clp']=clp\n",
    "    outp['clpB']=clpB\n",
    "    outp['clg_b']=clg_b\n",
    "    outp['clgB_b']=clg_b\n",
    "    outp['clp_b']=clp_b\n",
    "    outp['clpB_b']=clpB_b\n",
    "    outp['clg0']=clg0\n",
    "    outp['clN0']=clN0\n",
    "    outp['cl0']=cl0\n",
    "    outp['clp0']=clp0\n",
    "    outp['clp_shear_B_b']=clp_shear_B_b\n",
    "    outp['clp_shear_B']=clp_shear_B\n",
    "#     outp['clN']=clN\n",
    "#     outp['xig']=xig\n",
    "#     outp['xigB']=xigB\n",
    "#     outp['xiNB']=xiNB\n",
    "#     outp['xiN']=xiN\n",
    "    clg0_2=np.array(clg0)[[0,1,3],:]\n",
    "    outp['clg_stats']={corr_t[ii]: calc_sim_stats(sim=clg[:,:,ii],sim_truth=clg0_2[ii]) for ii in np.arange(ndim)}#calc_sim_stats(sim=clg,sim_truth=clg0)\n",
    "    outp['clp_stats']={corr_t[ii]: calc_sim_stats(sim=clp[:,:,ii],sim_truth=clp[:,:,ii].mean(axis=0)) for ii in np.arange(ndim)}#     calc_sim_stats(sim=clp,sim_truth=clp.mean(axis=0))\n",
    "\n",
    "#     outp['xig_stats']=calc_sim_stats(sim=xig,sim_truth=xi)\n",
    "#     if convolve_win:\n",
    "#         outp['xig_stats0']=calc_sim_stats(sim=xig,sim_truth=xi0)\n",
    "#     rb,xiB=HT.bin_mat(r=r,mat=xi_truth,r_bins=r_bins)\n",
    "#     outp['xigB_stats']=calc_sim_stats(sim=xigB,sim_truth=xiB)\n",
    "#     if do_clN:\n",
    "#         outp['xiN_stats']=calc_sim_stats(sim=xiN,sim_truth=xi_truth)\n",
    "#         outp['xiNB_stats']=calc_sim_stats(sim=xiNB,sim_truth=xiB)\n",
    "\n",
    "    outp['size']=Rsize\n",
    "    outp['fsky']=fsky\n",
    "    outp['nu']=nu\n",
    "    outp['nu_b']=nu_b\n",
    "    outp['l_bins']=l_bins\n",
    "    \n",
    "    outp['coupling_M']=coupling_M\n",
    "    outp['coupling_M_binned']=coupling_M_binned\n",
    "#     outp['coupling_M_binned2']=coupling_M_binned2\n",
    "#     outp['coupling_M_binned2wt']=coupling_M_binned2wt\n",
    "    \n",
    "    outp['coupling_M_inv']=coupling_M_inv\n",
    "    outp['coupling_M_binned_inv']=coupling_M_binned_inv\n",
    "#     outp['coupling_M_binned2_inv']=coupling_M_binned2_inv\n",
    "#     outp['coupling_M_binned2wt_inv']=coupling_M_binned2wt_inv\n",
    "    outp['use_shot_noise']=use_shot_noise\n",
    "    \n",
    "    \n",
    "    return outp\n",
    "\n",
    "#cov=np.diag(cl**2/nu)"
   ]
  },
  {
   "cell_type": "code",
   "execution_count": null,
   "metadata": {},
   "outputs": [],
   "source": [
    "clg0=clG0['cl'][corrs[0]][(0,0)].compute()"
   ]
  },
  {
   "cell_type": "raw",
   "metadata": {},
   "source": [
    "x=[clg0]*int(7*6/2)"
   ]
  },
  {
   "cell_type": "raw",
   "metadata": {
    "scrolled": true
   },
   "source": [
    "# clst=(clg0,clg0,clg0/100,clg0/5,clg0,clg0,clg0/100,clg0/5)\n",
    "clst=tuple(x)\n",
    "mm=hp.synfast(cls=clst,nside=nside,pol=False)"
   ]
  },
  {
   "cell_type": "raw",
   "metadata": {},
   "source": [
    "mm.T.shape"
   ]
  },
  {
   "cell_type": "raw",
   "metadata": {},
   "source": [
    "cl11=hp.anafast(mm[0],lmax=lmax_cl-1)\n",
    "cl12=hp.anafast(mm[0],map2=mm[1],lmax=lmax_cl-1)"
   ]
  },
  {
   "cell_type": "raw",
   "metadata": {},
   "source": [
    "crash"
   ]
  },
  {
   "cell_type": "code",
   "execution_count": null,
   "metadata": {
    "scrolled": false
   },
   "outputs": [],
   "source": [
    "client.restart()"
   ]
  },
  {
   "cell_type": "raw",
   "metadata": {},
   "source": [
    "dask.config.set(scheduler='asynchronous')"
   ]
  },
  {
   "cell_type": "raw",
   "metadata": {},
   "source": [
    "x=np.array(kappa_win.l>2)\n",
    "kappa_win.Win.Win[corr_ll][(0,0)]['M'][:,x][x,:].shape"
   ]
  },
  {
   "cell_type": "code",
   "execution_count": null,
   "metadata": {},
   "outputs": [],
   "source": [
    "shot_noise=kappa_win.SN[corrs[0]][0,0,0]"
   ]
  },
  {
   "cell_type": "code",
   "execution_count": null,
   "metadata": {},
   "outputs": [],
   "source": [
    "nsim=1000"
   ]
  },
  {
   "cell_type": "code",
   "execution_count": null,
   "metadata": {},
   "outputs": [],
   "source": [
    "nsim,nside"
   ]
  },
  {
   "cell_type": "code",
   "execution_count": null,
   "metadata": {},
   "outputs": [],
   "source": [
    "use_shot_noise=True#use_shot_noise\n",
    "# use_shot_noise=True \n",
    "use_cosmo_power=True"
   ]
  },
  {
   "cell_type": "code",
   "execution_count": null,
   "metadata": {},
   "outputs": [],
   "source": [
    "fname='./tests/non_gaussian_likeli_sims_newN'+str(nsim)+'_ns'+str(nside)+'_lmax'+str(lmax_cl)+'_wlmax'+str(window_lmax)+'_fsky'+str(f_sky)\n",
    "if not use_shot_noise:\n",
    "    fname+='_noSN'\n",
    "if unit_window:\n",
    "    fname+='_unit_window'\n",
    "if smooth_window:\n",
    "    fname+='_smooth_window'\n",
    "fname+='.pkl'\n",
    "\n",
    "print(fname)"
   ]
  },
  {
   "cell_type": "code",
   "execution_count": null,
   "metadata": {
    "scrolled": true
   },
   "outputs": [],
   "source": [
    "tracemalloc.clear_traces()\n",
    "tracemalloc.start()\n",
    "cl_sim_W=sim_cl_xi(Rsize=nsim,do_norm=False,#cl0=clG0['cl'][corrs[0]][(0,0)].compute(),\n",
    "          kappa_class=kappa_win,fsky=f_sky,use_shot_noise=use_shot_noise,use_cosmo_power=use_cosmo_power,\n",
    "             convolve_win=True,nside=nside)\n",
    "snapshot1 = tracemalloc.take_snapshot()"
   ]
  },
  {
   "cell_type": "code",
   "execution_count": null,
   "metadata": {},
   "outputs": [],
   "source": [
    "snapshot1 = tracemalloc.take_snapshot()"
   ]
  },
  {
   "cell_type": "raw",
   "metadata": {},
   "source": [
    "top_stats = snapshot1.statistics('lineno')\n",
    "top_stats"
   ]
  },
  {
   "cell_type": "code",
   "execution_count": null,
   "metadata": {},
   "outputs": [],
   "source": [
    "stat = top_stats[0]\n",
    "print(\"%s memory blocks: %.1f MiB\" % (stat.count, stat.size / 1024**2))\n",
    "for line in stat.traceback.format():\n",
    "    print(line)"
   ]
  },
  {
   "cell_type": "code",
   "execution_count": null,
   "metadata": {},
   "outputs": [],
   "source": [
    "client.restart()"
   ]
  },
  {
   "cell_type": "code",
   "execution_count": null,
   "metadata": {},
   "outputs": [],
   "source": [
    "cl_sim_Ww=sim_cl_xi(Rsize=nsim,do_norm=False,#cl0=clG0['cl'][corrs[0]][(0,0)].compute(),\n",
    "          kappa_class=kappa_win_w,fsky=f_sky,use_shot_noise=use_shot_noise,\n",
    "             convolve_win=True,nside=nside)"
   ]
  },
  {
   "cell_type": "code",
   "execution_count": null,
   "metadata": {},
   "outputs": [],
   "source": [
    "outp={}\n",
    "outp['simW']=cl_sim_W\n",
    "outp['zs_bin1']=zs_bin1\n",
    "outp['zl_bin1']=zl_bin1\n",
    "outp['cl0']=cl0\n",
    "outp['cl0_win']=cl0_win\n",
    "\n",
    "outp['simWw']=cl_sim_Ww\n",
    "outp['zs_bin1w']=zs_bin1w\n",
    "outp['zl_bin1w']=zl_bin1w\n",
    "outp['cl0_win_w']=cl0_win_w\n",
    "\n",
    "\n",
    "with open(fname,'wb') as f:\n",
    "    pickle.dump(outp,f)\n",
    "written=True"
   ]
  },
  {
   "cell_type": "raw",
   "metadata": {},
   "source": [
    "with open(fname,'r') as f:\n",
    "    outp=pickle.load(f)\n",
    "\n",
    "cl_sim_W=outp['simW']=cl_sim_W\n",
    "cl_sim_Ww=outp['simWw']=cl_sim_Ww"
   ]
  },
  {
   "cell_type": "raw",
   "metadata": {},
   "source": [
    "# #fname='./tests/non_gaussian_likeli_sims_'+str(nside)+'.pkl'\n",
    "with open(fname, 'rb') as handle:\n",
    "    outp = pickle.load(handle)\n",
    "\n",
    "cl_sim_W=outp['simW']\n",
    "cl_sim_Ww=outp['simWw']\n",
    "zs_bin1=outp['zs_bin1']\n",
    "zs_bin1w=outp['zs_bin1w']\n",
    "zl_bin1=outp['zl_bin1']\n",
    "zl_bin1w=outp['zl_bin1w']\n",
    "cl0=outp['cl0']\n",
    "cl0_win_w=outp['cl0_win_w']\n",
    "cl0_win=outp['cl0_win']"
   ]
  },
  {
   "cell_type": "raw",
   "metadata": {},
   "source": [
    "cl_sim_Ww_test=sim_cl_xi(Rsize=10,do_norm=False,kappa_class=kappa_win_w,fsky=f_sky,use_shot_noise=True,\n",
    "                         convolve_win=True,nside=nside)"
   ]
  },
  {
   "cell_type": "raw",
   "metadata": {},
   "source": [
    "corr=corr_ll\n",
    "f=lb\n",
    "errorbar(lb,f*cl_sim_Ww_test['clp_b_stats'][corr]['mean'],f*cl_sim_Ww_test['clp_b_stats'][corr]['std'],fmt='o',c=color)\n",
    "#     plot(lb,f*cl_sim_W['clp0'][corr],label=labels[corr])\n",
    "plot(lb,f*cl0_win_w['cl_b'][corr],label=labels[corr],c=color)\n",
    "if corr==corr_ll:\n",
    "    errorbar(lb,f*cl_sim_Ww_test['clpB_b_stats'][corr_gg]['mean'],f*cl_sim_Ww_test['clpB_b_stats'][corr_gg]['std'],fmt='^',c=color)\n",
    "    plot(lb,f*cl_sim_Ww_test['clp_shear_B_b'],label=labels[corr]+'-BB',c=color)\n",
    "\n",
    "xscale('log')\n",
    "xlim(10,1000)"
   ]
  },
  {
   "cell_type": "raw",
   "metadata": {},
   "source": [
    "corr=corr_ll\n",
    "f=lb\n",
    "errorbar(lb,f*cl_sim_Ww_test['clg_bM2wt_stats'][corr]['mean'],f*cl_sim_Ww_test['clg_bM2wt_stats'][corr]['std'],fmt='o',c=color)\n",
    "#     plot(lb,f*cl_sim_W['clp0'][corr],label=labels[corr])\n",
    "plot(lb,f*cl0['cl_b'][corr],label=labels[corr],c=color)\n",
    "if corr==corr_ll:\n",
    "#     f=0\n",
    "    errorbar(lb*1.03,f*cl_sim_Ww_test['clgB_bM2wt_stats'][corr_ll]['mean'],f*cl_sim_Ww_test['clgB_bM2wt_stats'][corr_ll]['std'],fmt='^',c=color)\n",
    "#     plot(lb,f*cl_sim_Ww_test['clp_shear_B_b'],label=labels[corr]+'-BB',c=color)\n",
    "\n",
    "xscale('log')\n",
    "# yscale('log')\n",
    "xlim(10,1000)"
   ]
  },
  {
   "cell_type": "raw",
   "metadata": {},
   "source": [
    "cl_sim_Ww_test_N=sim_cl_xi(Rsize=10,do_norm=False,#cl0=clG0['cl'][corrs[0]][(0,0)].compute(),\n",
    "          kappa_class=kappa_win_w,fsky=f_sky,use_shot_noise=True,\n",
    "             convolve_win=True,nside=nside,use_cosmo_power=False)\n"
   ]
  },
  {
   "cell_type": "code",
   "execution_count": null,
   "metadata": {},
   "outputs": [],
   "source": [
    "labels={}\n",
    "labels[corr_gg]=r'$gg$'\n",
    "labels[corr_ll]=r'$\\gamma\\gamma$'\n",
    "labels[corr_ggl]=r'$g \\gamma$'"
   ]
  },
  {
   "cell_type": "raw",
   "metadata": {},
   "source": [
    "# errorbar(l,cl_sim_W['clp_stats']['mean'],cl_sim_W['clp_stats']['std'],fmt='ro')\n",
    "f=1#lb\n",
    "i=0\n",
    "for corr in corrs:\n",
    "    color=colors[i%len(colors)]\n",
    "    errorbar(lb*(1+i*0.03),cl_sim_Ww_test['clp_b_stats'][corr]['mean']/cl_sim_Ww_test['clp0'][corr],cl_sim_Ww_test['clp_b_stats'][corr]['std']/cl_sim_Ww_test['clp0'][corr]/sqrt(10)*0,\n",
    "             fmt='o-',c=color,label=labels[corr])\n",
    "    i+=1\n",
    "# plot(l,cl_sim_N['clg_stats']['mean'],'g--')\n",
    "xscale('log')\n",
    "# yscale('log')\n",
    "xlabel(r'$\\ell$')\n",
    "ylabel(r'p-$C_\\ell$ (W2)')\n",
    "legend()\n",
    "ylim(0.9,1.15)\n",
    "xlim(10,2000)"
   ]
  },
  {
   "cell_type": "code",
   "execution_count": null,
   "metadata": {},
   "outputs": [],
   "source": [
    "corr=corr_ll\n",
    "f=lb\n",
    "color=colors[0]\n",
    "errorbar(lb,f*cl_sim_Ww['clp_b_stats'][corr]['mean'],f*cl_sim_Ww['clp_b_stats'][corr]['std'],fmt='o',c=color)\n",
    "#     plot(lb,f*cl_sim_W['clp0'][corr],label=labels[corr])\n",
    "plot(lb,f*cl0_win_w['cl_b'][corr],label=labels[corr],c=color)\n",
    "if corr==corr_ll:\n",
    "    errorbar(lb*1.03,f*cl_sim_Ww['clpB_b_stats'][corr_gg]['mean'],f*cl_sim_Ww['clpB_b_stats'][corr_gg]['std'],fmt='^',c=color)\n",
    "    plot(lb*1.03,f*cl_sim_Ww['clp_shear_B_b'],label=labels[corr]+'-BB',c=color)\n",
    "\n",
    "xscale('log')\n",
    "yscale('log')\n",
    "ylim(1.e-11,1.e-8)\n",
    "xlim(10,1000)\n",
    "\n",
    "show()\n",
    "corr=corr_ll\n",
    "f=lb\n",
    "errorbar(lb,f*cl_sim_Ww['clg_bM2wt_stats'][corr]['mean'],f*cl_sim_Ww['clg_bM2wt_stats'][corr]['std']/np.sqrt(1000),fmt='o',c=color)\n",
    "#     plot(lb,f*cl_sim_W['clp0'][corr],label=labels[corr])\n",
    "plot(lb,f*cl0['cl_b'][corr],label=labels[corr],c=color)\n",
    "if corr==corr_ll:\n",
    "#     f=0\n",
    "    errorbar(lb*1.03,f*cl_sim_Ww['clgB_bM2wt_stats'][corr_ll]['mean'],f*cl_sim_Ww['clgB_bM2wt_stats'][corr_ll]['std']/np.sqrt(1000),fmt='^',c=color)\n",
    "#     plot(lb,f*cl_sim_Ww_test['clp_shear_B_b'],label=labels[corr]+'-BB',c=color)\n",
    "\n",
    "xscale('log')\n",
    "# yscale('log')\n",
    "xlim(10,1000)"
   ]
  },
  {
   "cell_type": "code",
   "execution_count": null,
   "metadata": {
    "scrolled": false
   },
   "outputs": [],
   "source": [
    "corr=corr_ll\n",
    "f=lb\n",
    "color=colors[0]\n",
    "f2=f/np.sqrt(10)\n",
    "errorbar(lb,f*cl_sim_W['clp_b_stats'][corr]['mean'],f2*cl_sim_W['clp_b_stats'][corr]['std'],fmt='o',c=color)\n",
    "#     plot(lb,f*cl_sim_W['clp0'][corr],label=labels[corr])\n",
    "plot(lb,f*cl0_win['cl_b'][corr],label=labels[corr],c=color)\n",
    "if corr==corr_ll:\n",
    "    errorbar(lb*1.03,f*cl_sim_W['clpB_b_stats'][corr_gg]['mean'],f2*cl_sim_W['clpB_b_stats'][corr_gg]['std'],fmt='^',c=color)\n",
    "    plot(lb*1.03,f*cl_sim_W['clp_shear_B_b'],label=labels[corr]+'-BB',c=color)\n",
    "\n",
    "xscale('log')\n",
    "yscale('log')\n",
    "ylim(5.e-10,1.e-7)\n",
    "xlim(10,1000)\n",
    "\n",
    "show()\n",
    "corr=corr_ll\n",
    "f=lb\n",
    "errorbar(lb,f*cl_sim_W['clg_b_stats']['iMaster'][corr]['mean'],f2*cl_sim_W['clg_b_stats']['iMaster'][corr]['std'],fmt='o',c=color)\n",
    "#     plot(lb,f*cl_sim_W['clp0'][corr],label=labels[corr])\n",
    "plot(lb,f*cl0['cl_b'][corr],label=labels[corr],c=color)\n",
    "if corr==corr_ll:\n",
    "#     f=0\n",
    "    errorbar(lb*1.03,f*cl_sim_W['clgB_b_stats']['iMaster'][corr_ll]['mean'],f2*cl_sim_W['clgB_b_stats']['iMaster'][corr_ll]['std'],fmt='^',c=color)\n",
    "#     plot(lb,f*cl_sim_Ww_test['clp_shear_B_b'],label=labels[corr]+'-BB',c=color)\n",
    "\n",
    "xscale('log')\n",
    "# yscale('log')\n",
    "xlim(10,1000)\n",
    "\n",
    "show()\n",
    "clt=cl0['cl'][corr_ll]#+kappa_win_w.SN[corr_ll][:,0,0]\n",
    "coupling_MB=cl_sim_Ww['coupling_M']['shear_B']#/(2*kappa0.l[:,None]+1)\n",
    "cl_shear=clt@cl_sim_Ww['coupling_M'][corr_ll]+kappa_win_w.SN[corr_ll][:,0,0]@coupling_MB*0.0001\n",
    "cl_shear_b=M_binnings[corr_ll].bin_1d(xi=cl_shear,bin_utils=M_binning_utils[corr_ll])\n",
    "\n",
    "errorbar(lb,cl_sim_Ww['clp_b_stats'][corr_ll]['mean']/cl_shear_b,cl_sim_Ww['clp_b_stats'][corr_ll]['std']/sqrt(nsim)/cl_shear_b,ls=':')\n",
    "errorbar(lb,cl_sim_Ww['clp_b_stats'][corr_ll]['mean']/cl_sim_Ww['clp0'][corr_ll],cl_sim_Ww['clp_b_stats'][corr_ll]['std']/sqrt(nsim)/cl_sim_Ww['clp0'][corr_ll])\n",
    "# plot(lb,cl_sim_Ww['clp_shear_B_b'],'--')\n",
    "# plot(lb,cl_shear_B_b,':')\n",
    "xscale('log')\n",
    "# yscale('log')\n",
    "ylim(0.99,1.15)\n",
    "xlim(10,2000)\n",
    "# hlines(1,10,1000)"
   ]
  },
  {
   "cell_type": "code",
   "execution_count": null,
   "metadata": {},
   "outputs": [],
   "source": [
    "corr_m=corr_matrix(cl_sim_Ww['clp_b_stats'][corr_ll]['cov'])\n",
    "pcolor(lb,lb,corr_m,vmin=-1,vmax=1,cmap='seismic')\n",
    "loglog()"
   ]
  },
  {
   "cell_type": "code",
   "execution_count": null,
   "metadata": {},
   "outputs": [],
   "source": [
    "corr=corr_ll\n",
    "bi=(0,0)"
   ]
  },
  {
   "cell_type": "code",
   "execution_count": null,
   "metadata": {},
   "outputs": [],
   "source": [
    "# errorbar(l,cl_sim_W['clp_stats']['mean'],cl_sim_W['clp_stats']['std'],fmt='ro')\n",
    "f=lb\n",
    "i=0\n",
    "for corr in corrs:\n",
    "    color=colors[i%len(colors)]\n",
    "    errorbar(lb,f*cl_sim_W['clp_b_stats'][corr]['mean'],f*cl_sim_W['clp_b_stats'][corr]['std'],fmt='o',c=color)\n",
    "#     plot(lb,f*cl_sim_W['clp0'][corr],label=labels[corr])\n",
    "    plot(lb,f*cl0_win['cl_b'][corr],label=labels[corr])\n",
    "    if corr==corr_ll:\n",
    "        errorbar(lb,f*cl_sim_W['clpB_b_stats'][corr_gg]['mean'],f*cl_sim_W['clpB_b_stats'][corr_gg]['std'],fmt='^',mfc='white',mew=3,c=color)\n",
    "        plot(lb,f*cl_sim_W['clp_shear_B_b'],label=labels[corr]+'$^{BB}$',c=color)\n",
    "    \n",
    "    i+=1\n",
    "# plot(l,cl_sim_N['clg_stats']['mean'],'g--')\n",
    "xscale('log')\n",
    "yscale('log')\n",
    "xlabel(r'$\\ell$')\n",
    "ylabel(r'p-$C_\\ell$ (W1)')\n",
    "legend(ncol=4)\n",
    "ylim(1.e-8,1.e-3)\n",
    "xlim(10,nside)"
   ]
  },
  {
   "cell_type": "code",
   "execution_count": null,
   "metadata": {},
   "outputs": [],
   "source": [
    "cov_t=cl_sim_W['clpB_b_stats'][corr_gg]['cov']\n",
    "SN2B=cl_sim_W['clpB_b_stats'][corr_gg]['mean']@np.linalg.inv(cov_t)@cl_sim_W['clpB_b_stats'][corr_gg]['mean']\n",
    "cov_t=cl_sim_W['clp_b_stats'][corr_ll]['cov']\n",
    "SN2=cl_sim_W['clp_b_stats'][corr_ll]['mean']@np.linalg.inv(cov_t)@cl_sim_W['clp_b_stats'][corr_ll]['mean']\n",
    "np.sqrt(SN2),np.sqrt(SN2B)"
   ]
  },
  {
   "cell_type": "code",
   "execution_count": null,
   "metadata": {
    "scrolled": false
   },
   "outputs": [],
   "source": [
    "# errorbar(l,cl_sim_W['clp_stats']['mean'],cl_sim_W['clp_stats']['std'],fmt='ro')\n",
    "f=lb\n",
    "i=0\n",
    "for corr in corrs:\n",
    "    color=colors[i%len(colors)]\n",
    "    errorbar(lb,f*cl_sim_W['clp_b_stats'][corr]['mean'],f*cl_sim_W['clp_b_stats'][corr]['std'],fmt='o',c=color)\n",
    "#     plot(lb,f*cl_sim_W['clp0'][corr],label=labels[corr])\n",
    "    plot(lb,f*cl0_win['cl_b'][corr],label=labels[corr],c=color)\n",
    "    if corr==corr_ll:\n",
    "        errorbar(lb,f*cl_sim_W['clpB_b_stats'][corr_gg]['mean'],f*cl_sim_W['clpB_b_stats'][corr_gg]['std'],fmt='^',c=color)\n",
    "        plot(lb,f*cl_sim_W['clp_shear_B_b'],label=labels[corr]+'-BB',c=color)\n",
    "    \n",
    "    i+=1\n",
    "    # plot(l,cl_sim_N['clg_stats']['mean'],'g--')\n",
    "    xscale('log')\n",
    "#     yscale('log')\n",
    "    xlabel(r'$\\ell$')\n",
    "    ylabel(r'p-$C_\\ell$ (W1)')\n",
    "    legend()\n",
    "    if corr==corr_ll:\n",
    "        ylim(.8e-9,1.e-7)\n",
    "        yscale('log')\n",
    "    xlim(10,nside)\n",
    "    show()"
   ]
  },
  {
   "cell_type": "code",
   "execution_count": null,
   "metadata": {},
   "outputs": [],
   "source": [
    "cl_shear_B=kappa_win.SN[corr_ll][:,0,0]@cl_sim_W['coupling_M'][corr_ll]\n",
    "cl_shear_B_b=M_binnings[corr_ll].bin_1d(xi=cl_shear_B,bin_utils=M_binning_utils[corr_ll])"
   ]
  },
  {
   "cell_type": "code",
   "execution_count": null,
   "metadata": {},
   "outputs": [],
   "source": [
    "corr=corr_ll\n",
    "cl_sim_W['coupling_M_binned2wt']['shear_B']=M_binnings[corr].bin_2d_coupling(cov=cl_sim_W['coupling_M']['shear_B'].T,bin_utils=M_binning_utils[corr])\n",
    "cl_sim_W['coupling_M_binned2wt']['shear_B']=cl_sim_W['coupling_M_binned2wt']['shear_B'].T  #t\n",
    "\n",
    "cl_sim_W['coupling_M_binned2wt_inv']['shear_B']=np.linalg.inv(cl_sim_W['coupling_M_binned2wt']['shear_B'])\n",
    "\n",
    "cl_sim_Ww['coupling_M_binned2wt']['shear_B']=M_binnings[corr].bin_2d_coupling(cov=cl_sim_Ww['coupling_M']['shear_B'].T,bin_utils=M_binning_utils[corr])\n",
    "cl_sim_Ww['coupling_M_binned2wt']['shear_B']=cl_sim_Ww['coupling_M_binned2wt']['shear_B'].T\n",
    "cl_sim_Ww['coupling_M_binned2wt_inv']['shear_B']=np.linalg.inv(cl_sim_Ww['coupling_M_binned2wt']['shear_B'])\n",
    "\n"
   ]
  },
  {
   "cell_type": "code",
   "execution_count": null,
   "metadata": {},
   "outputs": [],
   "source": [
    "cl_shear_B_b@cl_sim_W['coupling_M_binned2wt_inv']['shear_B']"
   ]
  },
  {
   "cell_type": "code",
   "execution_count": null,
   "metadata": {},
   "outputs": [],
   "source": [
    "clt=cl0['cl'][corr_ll]+kappa_win_w.SN[corr_ll][:,0,0]\n",
    "corr=corr_gg\n",
    "# cl_shear_B=kappa_win.SN[corr_ll][:,0,0]@cl_sim_W['coupling_M'][corr_ll]+clt@cl_sim_W['coupling_M']['shear_B']\n",
    "# cl_shear_B_b=M_binnings[corr_ll].bin_1d(xi=cl_shear_B,bin_utils=M_binning_utils[corr_ll])\n",
    "errorbar(lb,cl_sim_W['clpB_b_stats'][corr]['mean']/cl_sim_W['clp_shear_B_b'],cl_sim_W['clpB_b_stats'][corr]['std']/cl_sim_W['clp_shear_B_b']/sqrt(nsim))\n",
    "errorbar(lb,cl_sim_Ww['clpB_b_stats'][corr]['mean']/cl_sim_Ww['clp_shear_B_b'],cl_sim_Ww['clpB_b_stats'][corr]['std']/cl_sim_Ww['clp_shear_B_b']/sqrt(nsim))\n",
    "# plot(lb,cl_shear_B_b/cl_sim_W['clp_shear_B_b'])\n",
    "xscale('log')\n",
    "# yscale('log')\n",
    "ylim(0.99,1.05)\n",
    "xlim(10,1000)\n",
    "hlines(1,10,2000)"
   ]
  },
  {
   "cell_type": "code",
   "execution_count": null,
   "metadata": {},
   "outputs": [],
   "source": [
    "corr_m=corr_matrix(cl_sim_W['clpB_b_stats'][corr_gg]['cov'])\n",
    "pcolor(lb,lb,corr_m,vmin=-1,vmax=1,cmap='seismic')\n",
    "loglog()"
   ]
  },
  {
   "cell_type": "code",
   "execution_count": null,
   "metadata": {},
   "outputs": [],
   "source": [
    "# errorbar(l,cl_sim_W['clp_stats']['mean'],cl_sim_W['clp_stats']['std'],fmt='ro')\n",
    "f=1#lb\n",
    "i=0\n",
    "for corr in corrs:\n",
    "    color=colors[i%len(colors)]\n",
    "#     errorbar(lb*(1+i*0.03),cl_sim_W['clp_b_stats'][corr]['mean']/cl_sim_W['clp0'][corr],cl_sim_W['clp_b_stats'][corr]['std']/cl_sim_W['clp0'][corr]/30,\n",
    "#              fmt='o-',c=color,label=labels[corr])\n",
    "    errorbar(lb*(1+i*0.03),cl_sim_W['clp_b_stats'][corr]['mean']/cl0_win['cl_b'][corr],cl_sim_W['clp_b_stats'][corr]['std']/cl0_win['cl_b'][corr]/sqrt(nsim),\n",
    "             fmt='o-',c=color,label=labels[corr])\n",
    "    i+=1\n",
    "# plot(l,cl_sim_N['clg_stats']['mean'],'g--')\n",
    "xscale('log')\n",
    "# yscale('log')\n",
    "xlabel(r'$\\ell$')\n",
    "ylabel(r'p-$C_\\ell$ (W1)')\n",
    "hlines(1,10,3000)\n",
    "hlines(1.01,10,3000,ls=':')\n",
    "hlines(.99,10,3000,ls=':')\n",
    "legend(ncol=3)\n",
    "ylim(0.95,1.05)\n",
    "xlim(10,nside*1)"
   ]
  },
  {
   "cell_type": "code",
   "execution_count": null,
   "metadata": {
    "scrolled": false
   },
   "outputs": [],
   "source": [
    "# errorbar(l,cl_sim_W['clp_stats']['mean'],cl_sim_W['clp_stats']['std'],fmt='ro')\n",
    "f=lb\n",
    "i=0\n",
    "for corr in corrs:\n",
    "    color=colors[i%len(colors)]\n",
    "    errorbar(lb,f*cl_sim_Ww['clp_b_stats'][corr]['mean'],f*cl_sim_Ww['clp_b_stats'][corr]['std'],fmt='o',c=color)\n",
    "    errorbar(lb,f*cl_sim_Ww['clp0'][corr],c=color,label=labels[corr])\n",
    "    i+=1\n",
    "    # plot(lb,f*cl0_win_w['cl_b'][:39])\n",
    "    # plot(lb,f*cl0_win['cl_b'])\n",
    "    # plot(lb,f*coupling_Mw_binned@cl0['cl_b'])\n",
    "    # plot(l,cl_sim_N['clg_stats']['mean'],'g--')\n",
    "    xscale('log')\n",
    "#     yscale('log')\n",
    "    xlabel(r'$\\ell$')\n",
    "    ylabel(r'p-$C_\\ell$ (W2)')\n",
    "    xlim(10,2000)\n",
    "    if corr==corr_ll:\n",
    "        ylim(0,1.e-8)\n",
    "    legend()\n",
    "    show()"
   ]
  },
  {
   "cell_type": "code",
   "execution_count": null,
   "metadata": {},
   "outputs": [],
   "source": [
    "# errorbar(l,cl_sim_W['clp_stats']['mean'],cl_sim_W['clp_stats']['std'],fmt='ro')\n",
    "f=1#lb\n",
    "i=0\n",
    "for corr in corrs:\n",
    "    color=colors[i%len(colors)]\n",
    "    errorbar(lb*(1+i*0.03),cl_sim_Ww['clp_b_stats'][corr]['mean']/cl_sim_Ww['clp0'][corr],cl_sim_Ww['clp_b_stats'][corr]['std']/cl_sim_Ww['clp0'][corr]/sqrt(1000),\n",
    "             fmt='o-',c=color,label=labels[corr])\n",
    "    i+=1\n",
    "# plot(l,cl_sim_N['clg_stats']['mean'],'g--')\n",
    "xscale('log')\n",
    "# yscale('log')\n",
    "xlabel(r'$\\ell$')\n",
    "ylabel(r'p-$C_\\ell$ (W2)')\n",
    "legend()\n",
    "ylim(0.95,1.061)\n",
    "xlim(10,1000)"
   ]
  },
  {
   "cell_type": "code",
   "execution_count": null,
   "metadata": {},
   "outputs": [],
   "source": [
    "# errorbar(l,cl_sim_W['clp_stats']['mean'],cl_sim_W['clp_stats']['std'],fmt='ro')\n",
    "f=1\n",
    "i=0\n",
    "for corr in corrs:\n",
    "    color=colors[i%len(colors)]\n",
    "    errorbar(lb*(1+i*0.03),f*cl_sim_Ww['clg_bM_stats'][corr]['mean'],f*cl_sim_Ww['clg_bM_stats'][corr]['std'],fmt='o',c=color)\n",
    "    plot(lb*(1+i*0.03),f*cl0['cl_b'][corr],c=color,label=labels[corr])\n",
    "    i+=1\n",
    "# plot(lb,f*cl0_win_w['cl_b'][:39])\n",
    "# plot(lb,f*cl0_win['cl_b'])\n",
    "# plot(lb,f*coupling_Mw_binned@cl0['cl_b'])\n",
    "# plot(l,cl_sim_N['clg_stats']['mean'],'g--')\n",
    "xscale('log')\n",
    "yscale('log')\n",
    "xlabel(r'$\\ell$')\n",
    "ylabel(r'$C_\\ell$ (W2)')\n",
    "# xlim(10,1000)\n",
    "legend()"
   ]
  },
  {
   "cell_type": "code",
   "execution_count": null,
   "metadata": {
    "scrolled": false
   },
   "outputs": [],
   "source": [
    "# errorbar(l,cl_sim_W['clp_stats']['mean'],cl_sim_W['clp_stats']['std'],fmt='ro')\n",
    "f=1\n",
    "i=0\n",
    "for corr in corrs:\n",
    "    color=colors[i%len(colors)]\n",
    "    errorbar(lb*(1+i*0.03),f*cl_sim_W['clg_bM_stats'][corr]['mean'],f*cl_sim_W['clg_bM_stats'][corr]['std'],fmt='o',c=color)\n",
    "    plot(lb*(1+i*0.03),f*cl0['cl_b'][corr],c=color,label=labels[corr])\n",
    "    i+=1\n",
    "# plot(lb,f*cl0_win_w['cl_b'][:39])\n",
    "# plot(lb,f*cl0_win['cl_b'])\n",
    "# plot(lb,f*coupling_Mw_binned@cl0['cl_b'])\n",
    "# plot(l,cl_sim_N['clg_stats']['mean'],'g--')\n",
    "xscale('log')\n",
    "yscale('log')\n",
    "xlabel(r'$\\ell$')\n",
    "ylabel(r'$C_\\ell$ (W1)')\n",
    "# xlim(10,1000)\n",
    "legend()\n",
    "ylim(1.e-10,1.e-4)"
   ]
  },
  {
   "cell_type": "code",
   "execution_count": null,
   "metadata": {},
   "outputs": [],
   "source": [
    "# errorbar(l,cl_sim_W['clg_stats']['mean'],cl_sim_W['clg_stats']['std'],fmt='ro')\n",
    "errorbar(lb,cl_sim_Ww['clg_bM2_stats'][corr]['mean'],cl_sim_Ww['clg_bM2_stats'][corr]['std'],fmt='co')\n",
    "errorbar(lb,cl_sim_Ww['clg_bM2wt_stats'][corr]['mean'],cl_sim_Ww['clg_bM2wt_stats'][corr]['std'],fmt='bo')\n",
    "errorbar(lb*1.03,cl_sim_Ww['clg_bM_stats'][corr]['mean'],cl_sim_Ww['clg_bM_stats'][corr]['std'],fmt='ro')\n",
    "# plot(lb,cl_sim_Ww['clp_b_stats']['mean']@coupling_Mw_binned2_inv)\n",
    "plot(lb,cl0['cl_b'][corr])\n",
    "# plot(l,cl_sim_N['clg_stats']['mean'],'g--')\n",
    "xscale('log')\n",
    "yscale('log')"
   ]
  },
  {
   "cell_type": "code",
   "execution_count": null,
   "metadata": {},
   "outputs": [],
   "source": [
    "corr=corr_ggl\n",
    "bb=M_binning_utils[corr]['binning_mat']\n",
    "bb2=cl0['cl'][corr][:,None]*bb/cl0['cl_b'][corr]\n",
    "\n",
    "coupling_M_binned2wt2=M_binnings[corr].bin_2d_coupling(cov=cl_sim_W['coupling_M'][corr],bin_utils=M_binning_utils[corr],wt_b=1./cl0['cl_b'][corr],wt0=cl0['cl'][corr])"
   ]
  },
  {
   "cell_type": "code",
   "execution_count": null,
   "metadata": {},
   "outputs": [],
   "source": [
    "# plot(l0,bb2[:,10])\n",
    "plot(l0,bb2@cl0['cl_b'][corr])\n",
    "plot(l0,cl0['cl'][corr])\n",
    "loglog()"
   ]
  },
  {
   "cell_type": "code",
   "execution_count": null,
   "metadata": {
    "scrolled": false
   },
   "outputs": [],
   "source": [
    "f=lb\n",
    "for corr in corrs:\n",
    "    plot(lb,f*(cl0_win['cl_b'][corr]),ls='-',c=colors[0])\n",
    "    \n",
    "    coupling_M_binned2wt=M_binnings[corr].bin_2d_coupling(cov=cl_sim_W['coupling_M'][corr].T, bin_utils=M_binning_utils[corr],wt_b=1./cl0['cl_b'][corr],wt0=cl0['cl'][corr])\n",
    "    plot(lb,f*(coupling_M_binned2wt@cl0['cl_b'][corr]),c=colors[0],ls=':')\n",
    "    plot(lb,f*(cl0['cl_b'][corr]@cl_sim_W['coupling_M_binned'][corr]),c=colors[0],ls='--')\n",
    "    \n",
    "    bb=M_binning_utils[corr]['binning_mat']\n",
    "    bb2=cl0['cl'][corr][:,None]*bb/cl0['cl_b'][corr]\n",
    "    \n",
    "#     clt=(bb2@cl0['cl_b'][corr])\n",
    "# #     clt=clt@cl_sim_W['coupling_M'][corr]\n",
    "#     clt=cl_sim_W['coupling_M'][corr].T@clt\n",
    "#     clt=M_binnings[corr].bin_1d(xi=clt,bin_utils=M_binning_utils[corr],)\n",
    "\n",
    "#     clt=cl_sim_W['coupling_M'][corr].T@bb2@cl0['cl_b'][corr]\n",
    "#     clt=bb.T@((cl_sim_W['coupling_M'][corr].T@bb2@cl0['cl_b'][corr])*M_binning_utils[corr]['r_dr'])\n",
    "#     clt/=M_binning_utils[corr]['norm']\n",
    "\n",
    "    bb3=bb*M_binning_utils[corr]['r_dr'][:,None]/M_binning_utils[corr]['norm'][None,:]\n",
    "    clt=bb3.T@((cl_sim_W['coupling_M'][corr].T@bb2@cl0['cl_b'][corr]))\n",
    "\n",
    "    plot(lb,f*clt,c=colors[1])\n",
    "\n",
    "\n",
    "#     coupling_M_binned2wt=M_binnings[corr].bin_2d_2(cov=cl_sim_Ww['coupling_M'][corr],bin_utils=M_binning_utils[corr],wt2=1./cl0['cl_b'][corr],wt1=cl0['cl'][corr])\n",
    "#     plot(lb,f*(cl0_win_w['cl_b'][corr]),ls='-',c=colors[2])\n",
    "#     plot(lb,f*(cl0['cl_b'][corr]@coupling_M_binned2wt),ls=':',c=colors[2],zorder=10)\n",
    "    xscale('log')\n",
    "    legend()\n",
    "    show()"
   ]
  },
  {
   "cell_type": "code",
   "execution_count": null,
   "metadata": {},
   "outputs": [],
   "source": [
    "corr=corr_ll\n",
    "shear_lcut=kappa_win.l>=2\n",
    "cut=kappa_win.l>0\n",
    "s=0\n",
    "if 'shear' in corr:\n",
    "    cut=shear_lcut\n",
    "    s=2\n",
    "coupling_M=kappa_win.Win.Win['cl'][corr][(0,0)]['M']\n",
    "coupling_M4=kappa_win.Win.Win['cov'][corr+corr][(0,0,0,0)]['M1324'][s] #*2\n",
    "# coupling_M_inv=np.linalg.inv(coupling_M)\n",
    "coupling_M_inv=np.zeros_like(coupling_M)\n",
    "coupling_M_inv[:,cut][cut,:]=np.linalg.inv(coupling_M[cut,:][:,cut]) #otherwise we get singular matrix since for shear l<2 is not defined.\n",
    "\n",
    "coupling_M_binned2=kappa_win.binning.bin_2d(cov=coupling_M,bin_utils=kappa_win.cl_bin_utils)\n",
    "coupling_M_binned2*=dl\n",
    "\n",
    "coupling_M_binned2wt=M_binnings[corr].bin_2d(cov=coupling_M,bin_utils=M_binning_utils[corr])\n",
    "coupling_M_binned2wt*=dl\n",
    "coupling_M_binned2wt2=M_binnings[corr].bin_2d_coupling(cov=coupling_M,bin_utils=M_binning_utils[corr])\n",
    "\n",
    "\n",
    "coupling_M_binned=bin_coupling_M(kappa_win,coupling_M)\n",
    "coupling_M_binned_inv=np.linalg.inv(coupling_M_binned)\n",
    "coupling_M_binned2_inv=np.linalg.inv(coupling_M_binned2)\n",
    "coupling_M_binned2wt_inv=np.linalg.inv(coupling_M_binned2wt)\n",
    "coupling_M_binned2wt2_inv=np.linalg.inv(coupling_M_binned2wt2)\n",
    "coupling_M4_binned=bin_coupling_M(kappa_win,coupling_M4)\n",
    "coupling_M4_binned2=kappa_win.binning.bin_2d(cov=coupling_M4,bin_utils=kappa_win.cl_bin_utils) \n",
    "coupling_M4_binned_inv=np.linalg.inv(coupling_M4_binned)\n",
    "\n",
    "coupling_M_binned_inv2=kappa_win.binning.bin_2d(cov=coupling_M_inv,bin_utils=kappa_win.cl_bin_utils)"
   ]
  },
  {
   "cell_type": "code",
   "execution_count": null,
   "metadata": {
    "scrolled": false
   },
   "outputs": [],
   "source": [
    "f=lb\n",
    "for corr in corrs:\n",
    "    plot(lb,f*cl0['cl_b'][corr],c=colors[0])\n",
    "#     plot(lb,f*(cl0_win['cl_b'][corr]@cl_sim_W['coupling_M_binned2_inv'][corr]),label=corr,c=colors[1])\n",
    "    plot(lb,f*(cl0_win['cl_b'][corr]@cl_sim_W['coupling_M_binned_inv'][corr]),ls='--',c=colors[1])\n",
    "    \n",
    "    coupling_M_binned2wt=M_binnings[corr].bin_2d_coupling(cov=cl_sim_W['coupling_M'][corr].T,bin_utils=M_binning_utils[corr])\n",
    "#     coupling_M_binned2wt*=dl\n",
    "    coupling_M_binned2wt_inv=np.linalg.inv(coupling_M_binned2wt)\n",
    "#     coupling_M_binned2wt_inv=M_binnings[corr].bin_2d(cov=cl_sim_W['coupling_M_inv'][corr],bin_utils=M_binning_utils[corr])*dl\n",
    "    plot(lb,f*(coupling_M_binned2wt_inv@cl0_win['cl_b'][corr]),ls=':',c=colors[1])\n",
    "\n",
    "    \n",
    "#     plot(lb,f*(cl0_win_w['cl_b'][corr]@cl_sim_Ww['coupling_M_binned2_inv'][corr]),c=colors[2])\n",
    "#     plot(lb,f*(cl0_win_w['cl_b'][corr]@cl_sim_Ww['coupling_M_binned_inv'][corr]),ls='--',c=colors[2])\n",
    "#     coupling_M_binned2wt=M_binnings[corr].bin_2d(cov=cl_sim_Ww['coupling_M'][corr],bin_utils=M_binning_utils[corr])\n",
    "    wt=cl0['cl'][corr]\n",
    "#     wt[:2]=0\n",
    "    coupling_M_binned2wt=M_binnings[corr].bin_2d_coupling(cov=cl_sim_Ww['coupling_M'][corr].T,bin_utils=M_binning_utils[corr])\n",
    "#     coupling_M_binned2wt*=dl\n",
    "    coupling_M_binned2wt_inv=np.linalg.inv(coupling_M_binned2wt)\n",
    "    print(coupling_M_binned2wt_inv)\n",
    "#     plot(lb,f*(coupling_M_binned2wt_inv@cl0_win_w['cl_b'][corr]),ls=':',c=colors[2],zorder=10)\n",
    "    plot(lb,f*(cl0_win_w['cl_b'][corr]@coupling_M_binned2wt_inv.T),ls=':',c=colors[2],zorder=10)\n",
    "    xscale('log')\n",
    "    legend()\n",
    "    show()"
   ]
  },
  {
   "cell_type": "code",
   "execution_count": null,
   "metadata": {},
   "outputs": [],
   "source": [
    "import copy\n",
    "\n",
    "corr=corr_ll\n",
    "\n",
    "shear_lcut=kappa_win.l>=2\n",
    "cut=kappa_win.l>0\n",
    "s=0\n",
    "if 'shear' in corr:\n",
    "    cut=shear_lcut\n",
    "    s=2\n",
    "\n",
    "coupling_Mw=kappa_win_w.Win.Win['cl'][corr][(0,0)]['M']\n",
    "coupling_M4w=kappa_win_w.Win.Win['cov'][corr+corr][(0,0,0,0)]['M1324'][s] #*2\n",
    "# coupling_Mw_inv=np.linalg.inv(coupling_Mw)\n",
    "coupling_Mw_inv=np.zeros_like(coupling_Mw)\n",
    "coupling_Mw_inv[:,cut][cut,:]=np.linalg.inv(coupling_Mw[cut,:][:,cut]) #otherwise we get singular matrix since for shear l<2 is not defined.\n",
    "\n",
    "coupling_Mw_binned2=kappa_win_w.binning.bin_2d(cov=coupling_Mw,bin_utils=kappa_win_w.cl_bin_utils) #this doesnot work... difference of bin size\n",
    "coupling_Mw_binned2*=dl\n",
    "\n",
    "coupling_Mw_binned2wt=M_binnings[corr].bin_2d(cov=coupling_Mw,bin_utils=Mw_binning_utils[corr])\n",
    "coupling_Mw_binned2wt*=dl\n",
    "coupling_Mw_binned2wt2=M_binnings[corr].bin_2d_coupling(cov=coupling_Mw,bin_utils=Mw_binning_utils[corr])\n",
    "\n",
    "#loglog(lb,np.diag(coupling_M_binned2)/np.diag(coupling_M_binned)*np.gradient(lb))\n",
    "coupling_Mw_binned=bin_coupling_M(kappa_win_w,coupling_Mw)\n",
    "coupling_Mw_binned_inv=np.linalg.inv(coupling_Mw_binned)\n",
    "coupling_Mw_binned2_inv=np.linalg.inv(coupling_Mw_binned2)\n",
    "coupling_Mw_binned2wt_inv=np.linalg.inv(coupling_Mw_binned2wt)\n",
    "coupling_Mw_binned2wt2_inv=np.linalg.inv(coupling_Mw_binned2wt2)\n",
    "\n",
    "\n",
    "coupling_M4w_binned=bin_coupling_M(kappa_win_w,coupling_M4w)\n",
    "coupling_M4w_binned2=kappa_win.binning.bin_2d(cov=coupling_M4w,bin_utils=kappa_win.cl_bin_utils) \n",
    "coupling_M4w_binned_inv=np.linalg.inv(coupling_M4w_binned)\n",
    "\n",
    "coupling_Mw_binned_inv2=kappa_win.binning.bin_2d(cov=coupling_Mw_inv,bin_utils=kappa_win.cl_bin_utils)"
   ]
  },
  {
   "cell_type": "raw",
   "metadata": {
    "scrolled": false
   },
   "source": [
    "pcolor(coupling_M_binned2_inv,norm=LogNorm())\n",
    "show()\n",
    "pcolor(coupling_M_binned2wt_inv,norm=LogNorm())\n",
    "show()\n",
    "pcolor(coupling_M_binned2wt2_inv,norm=LogNorm())"
   ]
  },
  {
   "cell_type": "raw",
   "metadata": {
    "scrolled": false
   },
   "source": [
    "ct=copy.deepcopy(kappa_win_w.Win.Win['cl'][corrs[0]][(0,0)]['M'])\n",
    "pcolor(ct[700:820,700:820],norm=LogNorm())\n",
    "colorbar()\n",
    "show()\n",
    "ct=copy.deepcopy(kappa_win_w.Win.Win['cl'][corrs[1]][(0,0)]['M'])\n",
    "pcolor(ct[700:820,700:820],norm=LogNorm())\n",
    "colorbar()\n",
    "show()\n",
    "ct=copy.deepcopy(kappa_win_w.Win.Win['cl'][corrs[2]][(0,0)]['M'])\n",
    "pcolor(ct[700:820,700:820],norm=LogNorm())\n",
    "colorbar()"
   ]
  },
  {
   "cell_type": "raw",
   "metadata": {},
   "source": [
    "pcolor(coupling_Mw_binned2*np.gradient(lb),norm=LogNorm())"
   ]
  },
  {
   "cell_type": "code",
   "execution_count": null,
   "metadata": {},
   "outputs": [],
   "source": [
    "corr_labels={}\n",
    "corr_labels[corr_ll]=r'$\\gamma\\gamma^{EE}$'\n",
    "corr_labels[corr_gg]=r'$gg$'\n",
    "corr_labels[corr_ggl]=r'$g\\gamma$'\n",
    "\n",
    "corr_fnames={}\n",
    "corr_fnames[corr_ll]='ll'\n",
    "corr_fnames[corr_gg]='gg'\n",
    "corr_fnames[corr_ggl]='ggl'\n",
    "\n"
   ]
  },
  {
   "cell_type": "code",
   "execution_count": null,
   "metadata": {
    "scrolled": false
   },
   "outputs": [],
   "source": [
    "f=1\n",
    "for corr in kappa0.corrs:\n",
    "    fig, ax =subplots(2,2,figsize=(20,15),sharex='col',sharey='row')\n",
    "    for simj in np.arange(2):\n",
    "        if simj==0:\n",
    "            cl_simi=cl_sim_W\n",
    "        else:\n",
    "            cl_simi=cl_sim_Ww\n",
    "        pS=ax[0,simj]\n",
    "        pR=ax[1,simj]\n",
    "        f=lb\n",
    "        f2=f/sqrt(nsim)\n",
    "        i=0\n",
    "        pS.plot(lb,f*cl0['cl_b'][corr],c=colors[i],label='Theory')\n",
    "        pS.errorbar(lb,f*cl_simi['clg_bM2wt_stats'][corr]['mean'],f2*cl_simi['clg_bM2wt_stats'][corr]['std'],fmt='o',c=colors[3],mfc='white',mew=3,label=r'$\\it i$MASTER',zorder=10)    \n",
    "        pS.errorbar(lb*1.0,f*cl_simi['clg_bM_stats'][corr]['mean'],f2*cl_simi['clg_bM_stats'][corr]['std'],fmt='s',c=colors[2],mfc='white',mew=3,label=r'MASTER')\n",
    "        pS.errorbar(lb,f*cl_simi['clg_bM2_stats'][corr]['mean'],f2*cl_simi['clg_bM2_stats'][corr]['std'],fmt='^',c=colors[1],mfc='white',mew=3,label=r'$\\it n$MASTER')\n",
    "\n",
    "        f=1./cl0['cl_b'][corr]\n",
    "        f2=f/sqrt(nsim)\n",
    "        pR.errorbar(lb*1.03,f*cl_simi['clg_bM2wt_stats'][corr]['mean'],f2*cl_simi['clg_bM2wt_stats'][corr]['std'],fmt='o-',c=colors[3],mfc=None,mew=3,label=r'$\\it i$MASTER',zorder=10)\n",
    "        pR.errorbar(lb*1.06,f*cl_simi['clg_bM_stats'][corr]['mean'],f2*cl_simi['clg_bM_stats'][corr]['std'],fmt='s--',c=colors[2],mfc='white',mew=3,label=r'MASTER')\n",
    "        pR.errorbar(lb,f*cl_simi['clg_bM2_stats'][corr]['mean'],f2*cl_simi['clg_bM2_stats'][corr]['std'],fmt='^--',c=colors[1],mfc='white',mew=3,label=r'$\\it n$MASTER')\n",
    "\n",
    "        # plot(lb,f*(coupling_M_binned_inv@cl_sim_W['clp_b'][0,:]))\n",
    "        # plot(l,cl_sim_N['clg_stats']['mean'],'g--')\n",
    "        pR.set_xscale('log')\n",
    "        # yscale('log')\n",
    "        pR.set_ylim(.95,1.05)\n",
    "        pR.hlines(1,10,3000)\n",
    "        pR.hlines(1.01,10,3000,ls='--',alpha=0.5,zorder=-1)\n",
    "        pR.hlines(.99,10,3000,ls='--',alpha=0.5,zorder=-1)\n",
    "        \n",
    "        pS.set_ylim((lb*cl0['cl_b'][corr]).min()*.9,(lb*cl0['cl_b'][corr]).max()*1.1)\n",
    "        tf=.9\n",
    "        if corr==corr_ll:\n",
    "            pS.set_ylim(3.e-7,1.e-6)\n",
    "            pR.set_ylim(.9,1.11)\n",
    "            tf=1\n",
    "        pR.set_xlim(20,1000)\n",
    "        pR.set_xlabel(r'$\\ell$')\n",
    "        if simj==0:\n",
    "            pR.set_ylabel(r'$\\widehat C_\\ell/C_\\ell$')\n",
    "            pS.set_ylabel(r'$\\widehat C_\\ell$ ')#+corr_labels[corr])\n",
    "        pS.text(x=500,y=(lb*cl0['cl_b'][corr]).max()*tf,s=r'$W_'+str(simj+1)+'$',fontsize=50)\n",
    "    ax[0,0].legend(ncol=2)\n",
    "    ax[1,0].text(x=200,y=1.03,s=corr_labels[corr],fontsize=50)\n",
    "    \n",
    "    fname=fig_home+'/'+corr_fnames[corr]+'_master_cl_comp_sims'+str(nsim)+'_ns'+str(nside)+'_lmax'+str(lmax_cl)+'_wlmax'+str(window_lmax)+'_fsky'+str(f_sky)\n",
    "    fname+='.pdf'\n",
    "    fig.savefig(fname,format='pdf')\n",
    "    print('saved to ',fname)\n",
    "    show()"
   ]
  },
  {
   "cell_type": "code",
   "execution_count": null,
   "metadata": {
    "scrolled": false
   },
   "outputs": [],
   "source": [
    "f=1\n",
    "corr_i=0\n",
    "fig, ax =subplots(2,2,figsize=(20,15),sharex='col',sharey='row')\n",
    "for corr in kappa0.corrs:\n",
    "    color=colors[corr_i]\n",
    "    marker=markers[corr_i]\n",
    "    print(corr,corr_i)\n",
    "    for simj in np.arange(2):\n",
    "        if simj==0:\n",
    "            cl_simi=cl_sim_W\n",
    "        else:\n",
    "            cl_simi=cl_sim_Ww\n",
    "        pS=ax[0,simj]\n",
    "        pR=ax[1,simj]\n",
    "        f=lb\n",
    "        f2=f/sqrt(nsim)\n",
    "        i=0\n",
    "        pS.errorbar(lb,f*cl_simi['clp_b_stats'][corr]['mean'],f*cl_sim_Ww['clp_b_stats'][corr]['std'],fmt=marker,c=color,label=corr_labels[corr])\n",
    "        pS.plot(lb,f*cl_simi['clp0'][corr],c=color)\n",
    "\n",
    "        f=1./cl_simi['clp0'][corr]\n",
    "        f2=f/sqrt(nsim)\n",
    "        pR.errorbar(lb*1.0,f*cl_simi['clp_b_stats'][corr]['mean'],f2*cl_simi['clp_b_stats'][corr]['std'],fmt=marker+'-',c=color,mfc=None,mew=3,zorder=10)\n",
    "        if corr==corr_ll:\n",
    "            f=lb\n",
    "            pS.errorbar(lb*1.0,f*cl_simi['clpB_b_stats'][corr_gg]['mean'],f*cl_simi['clpB_b_stats'][corr_gg]['std'],fmt=marker,mfc='white',mew=3,c=colors[5],label=labels[corr]+'$^{BB}$')\n",
    "            pS.plot(lb,f*cl_simi['clp_shear_B_b'],c=colors[5])\n",
    "\n",
    "        pR.set_xscale('log')\n",
    "        # yscale('log')\n",
    "        pR.set_ylim(.97,1.03)\n",
    "        pR.hlines(1,10,3000)\n",
    "        pR.hlines(1.01,10,3000,ls='--',alpha=0.5,zorder=-1)\n",
    "        pR.hlines(.99,10,3000,ls='--',alpha=0.5,zorder=-1)\n",
    "        \n",
    "        pS.set_yscale('log')\n",
    "        pS.set_ylim(1.e-10,3.e-4)\n",
    "#         tf=.9\n",
    "#         if corr==corr_ll:\n",
    "#             pS.set_ylim(3.e-7,1.e-6)\n",
    "#             pR.set_ylim(.9,1.11)\n",
    "#             tf=1\n",
    "        pR.set_xlim(20,1050)\n",
    "        pR.set_xlabel(r'$\\ell$')\n",
    "        if simj==0:\n",
    "            pR.set_ylabel(r'$p-\\widehat C_\\ell/p-C_\\ell$')\n",
    "            pS.set_ylabel(r'$p-\\widehat C_\\ell$ ')\n",
    "        if corr==corr_ll:\n",
    "            if simj==0:\n",
    "                pS.text(x=200,y=1.e-5,s=r'$W_'+str(simj+1)+'$',fontsize=50)\n",
    "            if simj==1:\n",
    "                pS.text(x=200,y=1.e-6,s=r'$W_'+str(simj+1)+'$',fontsize=50)\n",
    "    corr_i+=1\n",
    "ax[0,1].legend(ncol=4,loc='upper left')#,bbox_to_anchor=(.1,1))\n",
    "ax[0,0].set_yticks(np.logspace(-10,-4,7))\n",
    "fname=fig_home+'/'+corr_fnames[corr]+'_pseudo_cl_comp_sims'+str(nsim)+'_ns'+str(nside)+'_lmax'+str(lmax_cl)+'_wlmax'+str(window_lmax)+'_fsky'+str(f_sky)\n",
    "fname+='.pdf'\n",
    "fig.savefig(fname,format='pdf')\n",
    "print('saved to ',fname)    \n",
    "show()"
   ]
  },
  {
   "cell_type": "code",
   "execution_count": null,
   "metadata": {
    "scrolled": false
   },
   "outputs": [],
   "source": [
    "# errorbar(l,cl_sim_W['clg_stats']['mean'],cl_sim_W['clg_stats']['std'],fmt='ro')\n",
    "f=1\n",
    "for corr in kappa0.corrs:\n",
    "    f=1./cl0['cl_b'][corr]\n",
    "    f2=f/sqrt(nsim)\n",
    "    errorbar(lb,f*cl_sim_Ww['clg_bM2_stats'][corr]['mean'],f2*cl_sim_Ww['clg_bM2_stats'][corr]['std'],fmt='co-',mfc='white',mew=3,label=r'$\\it n$MASTER')\n",
    "    errorbar(lb,f*cl_sim_Ww['clg_bM2wt_stats'][corr]['mean'],f2*cl_sim_Ww['clg_bM2wt_stats'][corr]['std'],fmt='ro-',mfc='white',mew=3,label=r'$\\it i$MASTER')\n",
    "    errorbar(lb*1.05,f*cl_sim_Ww['clg_bM_stats'][corr]['mean'],f2*cl_sim_Ww['clg_bM_stats'][corr]['std'],fmt='bo-',mfc='white',mew=3,label=r'MASTER')\n",
    "    legend()\n",
    "    text(y=1.1,x=100,s=corr)\n",
    "    # plot(lb,f*(coupling_M_binned_inv@cl_sim_W['clp_b'][0,:]))\n",
    "    # plot(l,cl_sim_N['clg_stats']['mean'],'g--')\n",
    "    xscale('log')\n",
    "    # yscale('log')\n",
    "    ylim(0.9,1.1)\n",
    "    if corr==corr_ll:\n",
    "        ylim(0,1.25)\n",
    "    xlim(10,1000)\n",
    "    hlines(1,10,3000)\n",
    "    show()"
   ]
  },
  {
   "cell_type": "code",
   "execution_count": null,
   "metadata": {},
   "outputs": [],
   "source": [
    "from scipy.stats import gaussian_kde\n",
    "from scipy.interpolate import interp1d\n",
    "from scipy import ndimage\n",
    "from scipy.optimize import curve_fit\n"
   ]
  },
  {
   "cell_type": "code",
   "execution_count": null,
   "metadata": {},
   "outputs": [],
   "source": [
    "def funct(lb,A,B=None,Bmax=1000):\n",
    "    if B is None:\n",
    "        B=100\n",
    "    if B<0:\n",
    "        return lb+np.inf\n",
    "    if B>Bmax:\n",
    "        return lb+np.inf\n",
    "    return A+(1.-A)/(1+np.exp(-lb/B))\n",
    "xx=curve_fit(funct,xdata=lb,ydata=yy,p0=[0.8,100])\n",
    "\n"
   ]
  },
  {
   "cell_type": "raw",
   "metadata": {},
   "source": [
    "corr=corr_ll\n",
    "cct=cl_sim_Ww['clp_b_stats'][corr]['cov']/cl0_win_w['cov'][corr]\n",
    "clpt=cl_sim_Ww['clp_b_stats'][corr]['mean']/cl0_win_w['cl_b'][corr]\n",
    "yy=np.diag(cct)\n",
    "xx=curve_fit(funct,xdata=lb,ydata=yy,p0=[0.8,100])\n",
    "yy_s=funct(lb,*xx[0])\n",
    "\n",
    "correct=np.outer(np.sqrt(yy_s),np.sqrt(yy_s))\n",
    "yy_c=np.diag(cct/correct)\n",
    "\n",
    "yy_gs = ndimage.gaussian_filter1d(yy, 4)\n",
    "correctG=np.outer(np.sqrt(yy_gs),np.sqrt(yy_gs))\n",
    "yy_gc=np.diag(cct/correctG)\n",
    "\n"
   ]
  },
  {
   "cell_type": "raw",
   "metadata": {},
   "source": [
    "plot(lb,yy,label='pcl-sim/pcl',ls=':')\n",
    "plot(lb,yy_c,ls='--')\n",
    "plot(lb,yy_gc,ls='--')\n",
    "plot(lb,yy_s)\n",
    "plot(lb,yy_gs)\n",
    "\n",
    "plot(lb,clpt,'bo')\n",
    "\n",
    "xscale('log')\n",
    "ylim(0.4,1.2)\n",
    "# loglog()"
   ]
  },
  {
   "cell_type": "raw",
   "metadata": {},
   "source": [
    "corr=corr_gg\n",
    "s=0\n",
    "coupling_M4w=kappa_win_w.Win.Win['cov'][corr+corr][(0,0,0,0)]['M1324'][s] #*2\n",
    "\n",
    "cc=np.diag(cl_sim_Ww['clp_stats'][corr]['cov'])\n",
    "clt=cl0['cl'][corr]+kappa0.SN[corr][:,0,0]\n",
    "cc2=cc/clt**2/2\n",
    "plot(kappa0.l,cc2/np.diag(coupling_M4w))\n",
    "\n",
    "\n",
    "f=1\n",
    "plot(lb,f*np.diag(cl_sim_Ww['clp_b_stats'][corr]['cov']/cl0_win_w['cov'][corr]),label='pcl-sim/pcl',ls='--')\n",
    "\n",
    "\n",
    "cov2=np.outer(clt,clt)\n",
    "# cov2=(coupling_Mw/(2*kappa0.l[:,None]+1))*cov2\n",
    "cov2=(coupling_M4w)*cov2\n",
    "cov2*=2\n",
    "cov2=kappa0.binning.bin_2d(cov=cov2,bin_utils=kappa0.cl_bin_utils)\n",
    "plot(lb,f*np.diag(cl_sim_Ww['clp_b_stats'][corr]['cov']/cov2),label='pcl-sim/pcl',ls=':')\n",
    "\n",
    "# plot(win_w_cl*10000)\n",
    "\n",
    "# loglog()\n",
    "xscale('log')\n",
    "ylim(0.8,1.2)"
   ]
  },
  {
   "cell_type": "code",
   "execution_count": null,
   "metadata": {
    "scrolled": false
   },
   "outputs": [],
   "source": [
    "for corr in corrs:\n",
    "    cov2=cl_sim_W['coupling_M_binned_inv'][corr].T@cl0_win['cov'][corr]@cl_sim_W['coupling_M_binned_inv'][corr]\n",
    "    cm=corr_matrix(cov_mat=cov2[:500,:500])\n",
    "    pcolor(lb,lb,cm,vmin=-1,vmax=1,cmap='seismic')\n",
    "    xscale('log')\n",
    "    yscale('log')\n",
    "    title(str(corr)+', MASTER')\n",
    "    show()\n",
    "\n",
    "    cov2wt=cl_sim_W['coupling_M_binned2wt_inv'][corr].T@cl0_win['cov'][corr]@cl_sim_W['coupling_M_binned2wt_inv'][corr]\n",
    "    cm2wt=corr_matrix(cov_mat=cov2[:500,:500])\n",
    "    pcolor(lb,lb,cm,vmin=-1,vmax=1,cmap='seismic')\n",
    "    xscale('log')\n",
    "    yscale('log')\n",
    "    title(str(corr)+r', $i$MASTER')\n",
    "    show()\n",
    "    pcolor(lb,lb,cm-cm2wt,vmin=-1,vmax=1,cmap='seismic')\n",
    "    xscale('log')\n",
    "    yscale('log')\n",
    "    title(str(corr)+r', MASTER-$i$MASTER')\n",
    "    show()\n",
    "    plot(lb,np.diag(cov2/cov2wt),label='MASTER/$i$MASTER')\n",
    "    xscale('log')\n",
    "    hlines(1,10,1000)\n",
    "    legend()\n",
    "    show()\n",
    "    cm2=corr_matrix(cov_mat=np.real(cl_sim_W['clg_bM_stats'][corr]['cov']))\n",
    "    pcolor(lb,lb,cm2,vmin=-1,vmax=1,cmap='seismic')\n",
    "    xscale('log')\n",
    "    yscale('log')\n",
    "    title(str(corr)+', Sim-MASTER')\n",
    "    show()\n",
    "    pcolor(lb,lb,cm-cm2,vmin=-1,vmax=1,cmap='seismic')\n",
    "    xscale('log')\n",
    "    yscale('log')\n",
    "    title(str(corr)+', MASTER-Sim-Master')\n",
    "    show()\n",
    "    cm2wtS=corr_matrix(cov_mat=np.real(cl_sim_W['clg_bM2wt_stats'][corr]['cov']))\n",
    "    pcolor(lb,lb,cm2wtS,vmin=-1,vmax=1,cmap='seismic')\n",
    "    xscale('log')\n",
    "    yscale('log')\n",
    "    title(str(corr)+', Sim-$i$MASTER')\n",
    "    show()\n",
    "    pcolor(lb,lb,cm2wt-cm2wtS,vmin=-1,vmax=1,cmap='seismic')\n",
    "    xscale('log')\n",
    "    yscale('log')\n",
    "    title(str(corr)+', $i$MASTER-Sim-$i$MASTER')\n",
    "    show()\n",
    "    plot(lb,np.diag(cl_sim_W['clg_bM_stats'][corr]['cov']/cov2),label='MASTER-sim/MASTER')\n",
    "    xscale('log')\n",
    "    hlines(1,10,1000)\n",
    "    legend()\n",
    "#     show()\n",
    "    plot(lb,np.diag(cl_sim_W['clg_bM2wt_stats'][corr]['cov']/cov2wt),label='iMASTER-sim/iMASTER',ls='--')\n",
    "#     plot(lb,np.diag(cl_sim_W['clg_bM2wt_stats'][corr]['cov']/cl0['cov'][corr]['final_b']),label='iMASTER-sim/mode count',ls=':')\n",
    "    plot(lb,np.diag(cl_sim_W['clp_b_stats'][corr]['cov']/cl0_win['cov'][corr]),label='pcl-sim/pcl',ls=':')\n",
    "    \n",
    "    xscale('log')\n",
    "    hlines(1,10,1000)\n",
    "    ylim(0.7,1.5)\n",
    "    legend()\n",
    "    show()"
   ]
  },
  {
   "cell_type": "code",
   "execution_count": null,
   "metadata": {},
   "outputs": [],
   "source": [
    "def matrix_cut(mat=[],x=[]):\n",
    "    m=mat[x]\n",
    "    N=sum(x)\n",
    "    m2=np.zeros((N,N))\n",
    "    j=0\n",
    "    for i in m:\n",
    "        m2[j]=i[x]\n",
    "        j=j+1\n",
    "    return m2\n",
    "\n",
    "def SN_cum(cov=[],lb=[],cl=[],diag=False,lmin=2,use_hartlap=False,nsim=1000):\n",
    "    sni=np.zeros_like(lb)\n",
    "    for i in np.arange(len(lb)):\n",
    "        if lb[i]<lmin:\n",
    "            continue\n",
    "        x=lb<=lb[i]\n",
    "        x*=lb>lmin\n",
    "        cov2_cut=matrix_cut(mat=cov,x=x)\n",
    "        if diag:\n",
    "            cov2_cut=np.diag(np.diag(cov2_cut))\n",
    "        cov2_cut_inv=np.linalg.inv(cov2_cut)\n",
    "        \n",
    "        cl_i=cl[x]\n",
    "        SN2=cl_i@cov2_cut_inv@cl_i\n",
    "        if use_hartlap:\n",
    "            SN2*=(nsim-2-x.sum())/(nsim-1)\n",
    "        sni[i]=SN2\n",
    "    return sni"
   ]
  },
  {
   "cell_type": "code",
   "execution_count": null,
   "metadata": {},
   "outputs": [],
   "source": [
    "def funct(lb,A,B=None,Bmax=500):\n",
    "    if B is None:\n",
    "        B=100\n",
    "    if B<0:\n",
    "        return lb+np.inf\n",
    "    if B>Bmax:\n",
    "        return lb+np.inf\n",
    "    return A+(1.-A)/(1+np.exp(-lb/B))"
   ]
  },
  {
   "cell_type": "code",
   "execution_count": null,
   "metadata": {},
   "outputs": [],
   "source": [
    "def cov_correct_sim(sim_cov=[],th_cov=[],smooth_scale=4,R_cut=None):\n",
    "    cov_R=sim_cov/th_cov\n",
    "    R_diag=np.diag(cov_R)\n",
    "    xx=curve_fit(funct,xdata=lb,ydata=R_diag,p0=[0.8,100])\n",
    "    R_smooth=funct(lb,*xx[0])\n",
    "#     R_smooth=ndimage.gaussian_filter1d(R_diag, smooth_scale)\n",
    "    \n",
    "#     x=R_smooth>1.05\n",
    "#     x[:2]=False\n",
    "#     if R_cut is None:\n",
    "#         if x.sum()==0:\n",
    "#             R_cut=-1\n",
    "#             print(R_cut)\n",
    "#         else:\n",
    "#             R_cut=np.min(np.where(x))\n",
    "#     R_smooth[R_cut:]=1\n",
    "    if R_cut is not None:\n",
    "        R_smooth[R_cut:]=1\n",
    "    correctG=np.outer(np.sqrt(R_smooth),np.sqrt(R_smooth))\n",
    "    th_cov2=th_cov*correctG\n",
    "    return th_cov2"
   ]
  },
  {
   "cell_type": "code",
   "execution_count": null,
   "metadata": {},
   "outputs": [],
   "source": [
    "def cov_correct_sim_eig(sim_cov=[],th_cov=[],smooth_scale=4,R_cut=None): #this works well, but very sensitive to noise of sim matrix.\n",
    "    ev,evec=np.linalg.eig(th_cov)\n",
    "#     ev2,evec2=np.linalg.eig(sim_cov)\n",
    "    \n",
    "    \n",
    "    vv=evec\n",
    "    D=np.linalg.inv(vv)@sim_cov@vv\n",
    "    ev2=np.diag(D)\n",
    "    \n",
    "    ev2R=ev2/ev\n",
    "    print(ev2R)\n",
    "#     ev2R=ndimage.gaussian_filter1d(ev2/ev, smooth_scale)\n",
    "#     x=ev2R>1.02\n",
    "#     x[:2]=False\n",
    "#     if R_cut is None:\n",
    "#         if x.sum()==0:\n",
    "#             R_cut=-1\n",
    "#             print(R_cut,ev2R)\n",
    "#         else:\n",
    "#             R_cut=np.min(np.where(x))\n",
    "#     print(R_cut)\n",
    "    if R_cut is not None:\n",
    "        ev2R[R_cut:]=1\n",
    "    ev2=ev*ev2R\n",
    "    D=np.diag(ev2)\n",
    "\n",
    "#     n=smooth_scale\n",
    "#     ev[:n]=ev2[:n]\n",
    "#     D=np.diag(ev)\n",
    "    \n",
    "    vv2=vv@D@np.linalg.inv(vv)\n",
    "    return vv2,ev2R,ev"
   ]
  },
  {
   "cell_type": "code",
   "execution_count": null,
   "metadata": {},
   "outputs": [],
   "source": [
    "def cov_correct_sim_eig_diff(sim_cov=[],th_cov=[],smooth_scale=0,R_cut=1): #this works well, but very sensitive to noise of sim matrix.\n",
    "    cm_th=corr_matrix(cov_mat=th_cov)\n",
    "    cm_sim=corr_matrix(cov_mat=sim_cov)\n",
    "    cm_D=cm_th-cm_sim\n",
    "    ev,evec=np.linalg.eig(cm_D)\n",
    "    \n",
    "    if smooth_scale!=0:\n",
    "        if 'complex' in str(ev.dtype):\n",
    "            ev=np.real(ev)\n",
    "            print('complex ev, using real only')\n",
    "        ev=ndimage.gaussian_filter1d(ev, smooth_scale)\n",
    "    if R_cut is not None:\n",
    "        ev[R_cut:]=0\n",
    "    cm_th2=cm_th-evec@np.diag(ev)@np.linalg.inv(evec)\n",
    "    \n",
    "#     cov_R=sim_cov/th_cov\n",
    "#     R_diag=np.diag(cov_R)\n",
    "#     xx=curve_fit(funct,xdata=lb,ydata=R_diag,p0=[0.8,100])\n",
    "#     R_smooth=funct(lb,*xx[0])\n",
    "    \n",
    "#     R_smooth*=np.diag(th_cov)\n",
    "    R_smooth=np.diag(sim_cov)\n",
    "\n",
    "    return cm_th2*np.outer(np.sqrt(R_smooth),np.sqrt(R_smooth))\n",
    "    \n",
    "#     D=th_cov-sim_cov\n",
    "#     ev,evec=np.linalg.eig(D)\n",
    "#     ev=ndimage.gaussian_filter1d(ev, smooth_scale)\n",
    "#     vv=evec\n",
    "#     D2=np.linalg.inv(vv)@D@vv\n",
    "#     ev=np.array(np.diag(D2))\n",
    "    \n",
    "#     if R_cut is not None:\n",
    "#         ev[R_cut:]=0\n",
    "#     D2=vv@np.diag(ev)@np.linalg.inv(vv)\n",
    "#     return th_cov-D2"
   ]
  },
  {
   "cell_type": "code",
   "execution_count": null,
   "metadata": {},
   "outputs": [],
   "source": [
    "def sim_mean(sims={}):\n",
    "    vv=np.array(list(sims.values()))\n",
    "    sims['mean']=np.mean(vv,axis=0)\n",
    "    sims['std']=np.std(vv,axis=0)\n",
    "    sims['cov']=np.cov(vv,rowvar=0)\n",
    "    return  sims"
   ]
  },
  {
   "cell_type": "code",
   "execution_count": null,
   "metadata": {
    "scrolled": false
   },
   "outputs": [],
   "source": [
    "corr=corr_gg\n",
    "cov2=cl_sim_Ww['coupling_M_binned2wt_inv'][corr].T@cl0_win_w['cov'][corr]@cl_sim_Ww['coupling_M_binned2wt_inv'][corr]\n",
    "sn_Ww[corr]['M2wt']=SN_cum(cov=cov2,lb=lb,cl=cl_sim_Ww['clg_bM2wt_stats'][corr]['mean'])\n",
    "\n",
    "sim_cov=cl_sim_Ww['clg_bM2wt_stats'][corr]['cov']\n",
    "cov2_cG=cov_correct_sim_eig_diff(sim_cov=sim_cov,th_cov=cov2,smooth_scale=0,R_cut=2)\n",
    "cov2_cGs=cov_correct_sim_eig_diff(sim_cov=sim_cov,th_cov=cov2,smooth_scale=3,R_cut=3)\n",
    "sn_Ww[corr]['M2wt_cG']=SN_cum(cov=cov2_cG,lb=lb,cl=cl_sim_Ww['clg_bM2wt_stats'][corr]['mean'])\n",
    "\n",
    "# plot(lb,ev)\n",
    "# plot(lb,evs)\n",
    "# xscale('log')\n",
    "\n",
    "cm=corr_matrix(cov_mat=sim_cov)\n",
    "pcolor(lb,lb,cm,vmin=-1,vmax=1,cmap='seismic')\n",
    "xscale('log')\n",
    "yscale('log')\n",
    "title(corr)\n",
    "show()\n",
    "cm0=corr_matrix(cov_mat=cov2)\n",
    "cm2=corr_matrix(cov_mat=cov2_cG)\n",
    "pcolor(lb,lb,cm-cm0,vmin=-1,vmax=1,cmap='seismic')\n",
    "xscale('log')\n",
    "yscale('log')\n",
    "title(corr)\n",
    "show()\n",
    "pcolor(lb,lb,cm2-cm0,vmin=-1,vmax=1,cmap='seismic')\n",
    "xscale('log')\n",
    "yscale('log')\n",
    "title(corr)\n",
    "show()\n",
    "pcolor(lb,lb,cm2-cm,vmin=-1,vmax=1,cmap='seismic')\n",
    "xscale('log')\n",
    "yscale('log')\n",
    "title(corr)\n",
    "show()"
   ]
  },
  {
   "cell_type": "code",
   "execution_count": null,
   "metadata": {},
   "outputs": [],
   "source": [
    "corr=corr_gg\n",
    "plot(lb,sn_Ww[corr]['M_sim']/sn_Ww[corr]['M'],'--',c=colors[1],label='Master')\n",
    "plot(lb,sn_Ww[corr]['M2wt_sim']/sn_Ww[corr]['M2wt'],'--',c=colors[2],label='iMaster')\n",
    "plot(lb,sn_Ww[corr]['clp_sim']/sn_Ww[corr]['clp'],'--',c=colors[3],label='p-cl')\n",
    "\n",
    "plot(lb*1.03,sn_Ww[corr]['M_sim']/sn_Ww[corr]['M_cG'],'-',c=colors[1])\n",
    "plot(lb*1.03,sn_Ww[corr]['M2wt_sim']/sn_Ww[corr]['M2wt_cG'],'-',c=colors[2])\n",
    "plot(lb*1.03,sn_Ww[corr]['clp_sim']/sn_Ww[corr]['clp_cG'],'-',c=colors[3])\n",
    "\n",
    "\n",
    "text(x=500,y=2,s=labels[corr])\n",
    "xlim(10,1000)\n",
    "xscale('log')\n",
    "hlines(1,10,1000)\n",
    "hlines(1-0.05,10,1000,ls=':',zorder=-10,alpha=0.5)\n",
    "hlines(1+0.05,10,1000,ls=':',zorder=-10,alpha=0.5)\n",
    "hlines(1-0.1,10,1000,ls=':',zorder=-10,alpha=0.5)\n",
    "hlines(1+0.1,10,1000,ls=':',zorder=-10,alpha=0.5)\n",
    "ylabel('Sim/theory')\n",
    "legend()\n",
    "#     yscale('log')\n",
    "#     ylim(0.8,1.1)\n",
    "show()"
   ]
  },
  {
   "cell_type": "code",
   "execution_count": null,
   "metadata": {},
   "outputs": [],
   "source": [
    "corr_t=[corr_gg,corr_ll,corr_ggl] #order in which sim corrs are output.\n",
    "sn_W={}\n",
    "sn_Ww={}\n",
    "corr_i=0\n",
    "use_hartlap=True\n",
    "smooth_scale=0\n",
    "R_cut=2\n",
    "for corr in corr_t: #corrs:\n",
    "    nsim=1000\n",
    "    sn_W[corr]={}\n",
    "    sn_Ww[corr]={}\n",
    "    cov2=cl_sim_Ww['coupling_M_binned_inv'][corr].T@cl0_win_w['cov'][corr]@cl_sim_Ww['coupling_M_binned_inv'][corr]\n",
    "    sn_Ww[corr]['M']=SN_cum(cov=cov2,lb=lb,cl=cl_sim_Ww['clg_bM_stats'][corr]['mean'])\n",
    "    \n",
    "    sim_cov=cl_sim_Ww['clg_bM_stats'][corr]['cov']\n",
    "    cov2_cG=cov_correct_sim_eig_diff(sim_cov=sim_cov,th_cov=cov2,smooth_scale=smooth_scale,R_cut=R_cut)\n",
    "    sn_Ww[corr]['M_cG']=SN_cum(cov=cov2_cG,lb=lb,cl=cl_sim_Ww['clg_bM_stats'][corr]['mean'])\n",
    "\n",
    "    cov2=cl_sim_Ww['coupling_M_binned2wt_inv'][corr].T@cl0_win_w['cov'][corr]@cl_sim_Ww['coupling_M_binned2wt_inv'][corr]\n",
    "    sn_Ww[corr]['M2wt']=SN_cum(cov=cov2,lb=lb,cl=cl_sim_Ww['clg_bM2wt_stats'][corr]['mean'])\n",
    "    \n",
    "    sim_cov=cl_sim_Ww['clg_bM2wt_stats'][corr]['cov']\n",
    "    cov2_cG=cov_correct_sim_eig_diff(sim_cov=sim_cov,th_cov=cov2,smooth_scale=smooth_scale,R_cut=R_cut)\n",
    "    sn_Ww[corr]['M2wt_cG']=SN_cum(cov=cov2_cG,lb=lb,cl=cl_sim_Ww['clg_bM2wt_stats'][corr]['mean'])\n",
    "\n",
    "    cov2=cl0_win_w['cov'][corr]\n",
    "    sn_Ww[corr]['clp']=SN_cum(cov=cov2,lb=lb,cl=cl_sim_Ww['clp_b_stats'][corr]['mean'])\n",
    "    \n",
    "    cov2=cl_sim_Ww['coupling_M_binned'][corr].T@cl0['cov'][corr]['final_b']@cl_sim_Ww['coupling_M_binned'][corr]\n",
    "    sn_Ww[corr]['clp_M']=SN_cum(cov=cov2,lb=lb,cl=cl_sim_Ww['clp_b_stats'][corr]['mean'])\n",
    "    \n",
    "       \n",
    "    cov2=cl_sim_Ww['clg_bM_stats'][corr]['cov']\n",
    "    sn_Ww[corr]['M_sim']=SN_cum(cov=cov2,lb=lb,cl=cl_sim_Ww['clg_bM_stats'][corr]['mean'],use_hartlap=use_hartlap,nsim=nsim)\n",
    "\n",
    "    cov2=cl_sim_Ww['clg_bM2wt_stats'][corr]['cov']\n",
    "    sn_Ww[corr]['M2wt_sim']=SN_cum(cov=cov2,lb=lb,cl=cl_sim_Ww['clg_bM2wt_stats'][corr]['mean'],use_hartlap=use_hartlap,nsim=nsim)\n",
    "\n",
    "    cov2=cl_sim_Ww['clp_b_stats'][corr]['cov']\n",
    "    sn_Ww[corr]['clp_sim']=SN_cum(cov=cov2,lb=lb,cl=cl_sim_Ww['clp_b_stats'][corr]['mean'],use_hartlap=use_hartlap,nsim=nsim)\n",
    "    \n",
    "    if corr==corr_ll:\n",
    "        cov2=cl_sim_Ww['clpB_b_stats'][corr_gg]['cov']\n",
    "        sn_Ww[corr]['clpB_sim']=SN_cum(cov=cov2,lb=lb,cl=cl_sim_Ww['clpB_b_stats'][corr_gg]['mean'],use_hartlap=use_hartlap,nsim=nsim)\n",
    "\n",
    "    \n",
    "#     clp_simWw_100=cl_sim_Ww['clp_b'][:100,:,:]\n",
    "#     sim_cov100=np.cov(clp_simWw_100[:,:,corr_i],rowvar=0)\n",
    "    sim_cov=cl_sim_Ww['clp_b_stats'][corr]['cov']\n",
    "    cov2_cG=cov_correct_sim_eig_diff(sim_cov=sim_cov,th_cov=cl0_win_w['cov'][corr],smooth_scale=smooth_scale,R_cut=R_cut)\n",
    "    sn_Ww[corr]['clp_cG']=SN_cum(cov=cov2_cG,lb=lb,cl=cl_sim_Ww['clp_b_stats'][corr]['mean'])\n",
    "    \n",
    "    \n",
    "    nsim=1000\n",
    "    cov2=cl_sim_W['coupling_M_binned_inv'][corr].T@cl0_win['cov'][corr]@cl_sim_W['coupling_M_binned_inv'][corr]\n",
    "    sn_W[corr]['M']=SN_cum(cov=cov2,lb=lb,cl=cl_sim_W['clg_bM_stats'][corr]['mean'])\n",
    "    \n",
    "    sim_cov=cl_sim_W['clg_bM_stats'][corr]['cov']\n",
    "    cov2_cG=cov_correct_sim_eig_diff(sim_cov=sim_cov,th_cov=cov2,smooth_scale=smooth_scale,R_cut=R_cut)\n",
    "    sn_W[corr]['M_cG']=SN_cum(cov=cov2_cG,lb=lb,cl=cl_sim_W['clg_bM_stats'][corr]['mean'])\n",
    "\n",
    "    cov2=cl_sim_W['coupling_M_binned2wt_inv'][corr].T@cl0_win['cov'][corr]@cl_sim_W['coupling_M_binned2wt_inv'][corr]\n",
    "    sn_W[corr]['M2wt']=SN_cum(cov=cov2,lb=lb,cl=cl_sim_W['clg_bM2wt_stats'][corr]['mean'])\n",
    "    \n",
    "    sim_cov=cl_sim_W['clg_bM2wt_stats'][corr]['cov']\n",
    "    cov2_cG=cov_correct_sim_eig_diff(sim_cov=sim_cov,th_cov=cov2,smooth_scale=smooth_scale,R_cut=R_cut)\n",
    "    sn_W[corr]['M2wt_cG']=SN_cum(cov=cov2_cG,lb=lb,cl=cl_sim_W['clg_bM2wt_stats'][corr]['mean'])\n",
    "\n",
    "    cov2=cl0_win['cov'][corr]\n",
    "    sn_W[corr]['clp']=SN_cum(cov=cov2,lb=lb,cl=cl_sim_W['clp_b_stats'][corr]['mean'])\n",
    "    \n",
    "#     clp_simW_100=cl_sim_W['clp_b'][:100,:,:]\n",
    "#     sim_cov100=np.cov(clp_simW_100[:,:,corr_i],rowvar=0)\n",
    "    sim_cov=cl_sim_W['clp_b_stats'][corr]['cov']\n",
    "    cov2_cG=cov_correct_sim_eig_diff(sim_cov=sim_cov,th_cov=cl0_win['cov'][corr],smooth_scale=smooth_scale,R_cut=R_cut)\n",
    "    sn_W[corr]['clp_cG']=SN_cum(cov=cov2_cG,lb=lb,cl=cl_sim_W['clp_b_stats'][corr]['mean'],use_hartlap=use_hartlap,nsim=nsim)\n",
    "    \n",
    "    cov2=cl_sim_W['clg_bM_stats'][corr]['cov']\n",
    "    sn_W[corr]['M_sim']=SN_cum(cov=cov2,lb=lb,cl=cl_sim_W['clg_bM_stats'][corr]['mean'],use_hartlap=use_hartlap,nsim=nsim)\n",
    "\n",
    "    cov2=cl_sim_W['clg_bM2wt_stats'][corr]['cov']\n",
    "    sn_W[corr]['M2wt_sim']=SN_cum(cov=cov2,lb=lb,cl=cl_sim_W['clg_bM2wt_stats'][corr]['mean'],use_hartlap=use_hartlap,nsim=nsim)\n",
    "\n",
    "    cov2=cl_sim_W['clp_b_stats'][corr]['cov']\n",
    "    sn_W[corr]['clp_sim']=SN_cum(cov=cov2,lb=lb,cl=cl_sim_W['clp_b_stats'][corr]['mean'],use_hartlap=use_hartlap,nsim=nsim)\n",
    "    \n",
    "    if corr==corr_ll:\n",
    "        cov2=cl_sim_W['clpB_b_stats'][corr_gg]['cov']\n",
    "        sn_W[corr]['clpB_sim']=SN_cum(cov=cov2,lb=lb,cl=cl_sim_W['clpB_b_stats'][corr_gg]['mean'],use_hartlap=use_hartlap,nsim=nsim)\n",
    "\n",
    "\n",
    "    \n",
    "    cov2=cl0['cov'][corr]['final_b']\n",
    "    sn_W[corr]['cl0']=SN_cum(cov=cov2,lb=lb,cl=cl0['cl_b'][corr])\n",
    "    \n",
    "    corr_i+=1"
   ]
  },
  {
   "cell_type": "code",
   "execution_count": null,
   "metadata": {},
   "outputs": [],
   "source": [
    "nsim_sub=100\n",
    "corr_i=0\n",
    "use_hartlap=True\n",
    "for corr in corr_t: #corrs:\n",
    "    sn_Ww[corr]['M_sim100']={}\n",
    "    sn_Ww[corr]['M2wt_sim100']={}\n",
    "    sn_Ww[corr]['clp_sim100']={}\n",
    "    sn_Ww[corr]['clp_cG100']={}\n",
    "    \n",
    "    sn_W[corr]['M_sim100']={}\n",
    "    sn_W[corr]['M2wt_sim100']={}\n",
    "    sn_W[corr]['clp_sim100']={}\n",
    "    sn_W[corr]['clp_cG100']={}\n",
    "\n",
    "\n",
    "    for i in np.arange(1000/nsim_sub,dtype='int'):\n",
    "        start_i=i*nsim_sub\n",
    "        end_i=start_i+nsim_sub\n",
    "        \n",
    "        clp_simWw_100=cl_sim_Ww['clg_bM'][start_i:end_i,:,:]\n",
    "        cov2=np.cov(clp_simWw_100[:, : ,corr_i],rowvar=0)\n",
    "        sn_Ww[corr]['M_sim100'][i]=SN_cum(cov=cov2,lb=lb,cl=cl_sim_Ww['clg_bM_stats'][corr]['mean'],use_hartlap=use_hartlap,nsim=nsim_sub)\n",
    "\n",
    "\n",
    "        clp_simWw_100=cl_sim_Ww['clg_bM2wt'][start_i:end_i,:,:]\n",
    "        cov2=np.cov(clp_simWw_100[:, : ,corr_i],rowvar=0)\n",
    "        sn_Ww[corr]['M2wt_sim100'][i]=SN_cum(cov=cov2,lb=lb,cl=cl_sim_Ww['clg_bM2wt_stats'][corr]['mean'],use_hartlap=use_hartlap,nsim=nsim_sub)\n",
    "\n",
    "#         cov2=cl_sim_Ww['clp_b_stats'][corr]['cov']\n",
    "        clp_simWw_100=cl_sim_Ww['clp_b'][start_i:end_i,:,:]\n",
    "        cov2=np.cov(clp_simWw_100[:, : ,corr_i],rowvar=0)\n",
    "        sn_Ww[corr]['clp_sim100'][i]=SN_cum(cov=cov2,lb=lb,cl=cl_sim_Ww['clp_b_stats'][corr]['mean'],use_hartlap=use_hartlap,nsim=nsim_sub)\n",
    "\n",
    "\n",
    "        clp_simWw_100=cl_sim_Ww['clp_b'][start_i:end_i,:,:]\n",
    "        cov2=np.cov(clp_simWw_100[:, : ,corr_i],rowvar=0)\n",
    "        cov2_cG=cov_correct_sim_eig_diff(sim_cov=cov2,th_cov=cl0_win_w['cov'][corr],smooth_scale=smooth_scale,R_cut=R_cut)\n",
    "        sn_Ww[corr]['clp_cG100'][i]=SN_cum(cov=cov2_cG,lb=lb,cl=cl_sim_Ww['clp_b_stats'][corr]['mean'],use_hartlap=use_hartlap,nsim=nsim_sub)\n",
    "        \n",
    "        \n",
    "        clp_simW_100=cl_sim_W['clg_bM'][start_i:end_i,:,:]\n",
    "        cov2=np.cov(clp_simW_100[:, : ,corr_i],rowvar=0)\n",
    "        sn_W[corr]['M_sim100'][i]=SN_cum(cov=cov2,lb=lb,cl=cl_sim_W['clg_bM_stats'][corr]['mean'],use_hartlap=use_hartlap,nsim=nsim_sub)\n",
    "\n",
    "\n",
    "#         cov2=cl_sim_Ww['clg_bM2wt_stats'][corr]['cov']\n",
    "        clp_simW_100=cl_sim_W['clg_bM2wt'][start_i:end_i,:,:]\n",
    "        cov2=np.cov(clp_simW_100[:, : ,corr_i],rowvar=0)\n",
    "        sn_W[corr]['M2wt_sim100'][i]=SN_cum(cov=cov2,lb=lb,cl=cl_sim_W['clg_bM2wt_stats'][corr]['mean'],use_hartlap=use_hartlap,nsim=nsim_sub)\n",
    "\n",
    "#         cov2=cl_sim_Ww['clp_b_stats'][corr]['cov']\n",
    "        clp_simW_100=cl_sim_W['clp_b'][start_i:end_i,:,:]\n",
    "        cov2=np.cov(clp_simW_100[:, : ,corr_i],rowvar=0)\n",
    "        sn_W[corr]['clp_sim100'][i]=SN_cum(cov=cov2,lb=lb,cl=cl_sim_W['clp_b_stats'][corr]['mean'],use_hartlap=use_hartlap,nsim=nsim_sub)\n",
    "\n",
    "\n",
    "        clp_simW_100=cl_sim_W['clp_b'][start_i:end_i,:,:]\n",
    "        cov2=np.cov(clp_simW_100[:, : ,corr_i],rowvar=0)\n",
    "        #     cl_sim_Ww['clp_b_stats'][corr]['cov']\n",
    "        cov2_cG=cov_correct_sim_eig_diff(sim_cov=cov2,th_cov=cl0_win['cov'][corr],smooth_scale=smooth_scale,R_cut=R_cut)\n",
    "        sn_W[corr]['clp_cG100'][i]=SN_cum(cov=cov2_cG,lb=lb,cl=cl_sim_W['clp_b_stats'][corr]['mean'],use_hartlap=use_hartlap,nsim=nsim_sub)\n",
    "    \n",
    "    sn_Ww[corr]['M_sim100']=sim_mean(sn_Ww[corr]['M_sim100'])\n",
    "    sn_Ww[corr]['M2wt_sim100']=sim_mean(sn_Ww[corr]['M2wt_sim100'])\n",
    "    sn_Ww[corr]['clp_sim100']=sim_mean(sn_Ww[corr]['clp_sim100'])\n",
    "    sn_Ww[corr]['clp_cG100']=sim_mean(sn_Ww[corr]['clp_cG100'])\n",
    "    \n",
    "    sn_W[corr]['M_sim100']=sim_mean(sn_W[corr]['M_sim100'])\n",
    "    sn_W[corr]['M2wt_sim100']=sim_mean(sn_W[corr]['M2wt_sim100'])\n",
    "    sn_W[corr]['clp_sim100']=sim_mean(sn_W[corr]['clp_sim100'])\n",
    "    sn_W[corr]['clp_cG100']=sim_mean(sn_W[corr]['clp_cG100'])\n",
    "    \n",
    "    print(corr,corr_i)\n",
    "    corr_i+=1\n",
    "    "
   ]
  },
  {
   "cell_type": "code",
   "execution_count": null,
   "metadata": {
    "scrolled": false
   },
   "outputs": [],
   "source": [
    "for corr in corrs:\n",
    "    plot(lb,sn_Ww[corr]['M_sim']/sn_Ww[corr]['M'],'--',c=colors[1])\n",
    "    plot(lb,sn_Ww[corr]['M2wt_sim']/sn_Ww[corr]['M2wt'],'--',c=colors[2])\n",
    "    plot(lb,sn_Ww[corr]['clp_sim']/sn_Ww[corr]['clp'],'--',c=colors[3])\n",
    "    \n",
    "    plot(lb*1.03,sn_Ww[corr]['M_sim']/sn_Ww[corr]['M_cG'],'-',c=colors[1])\n",
    "    plot(lb*1.03,sn_Ww[corr]['M2wt_sim']/sn_Ww[corr]['M2wt_cG'],'-',c=colors[2])\n",
    "    plot(lb*1.03,sn_Ww[corr]['clp_sim']/sn_Ww[corr]['clp_cG'],'-',c=colors[3])\n",
    "    \n",
    "    errorbar(lb,sn_Ww[corr]['M_sim100']['mean']/sn_Ww[corr]['M'],sn_Ww[corr]['M_sim100']['std']/sn_Ww[corr]['M'],fmt=markers[1],c=colors[1],mfc='white',mew=3,label='Master')\n",
    "    errorbar(lb,sn_Ww[corr]['M2wt_sim100']['mean']/sn_Ww[corr]['M2wt'],sn_Ww[corr]['M2wt_sim100']['std']/sn_Ww[corr]['M2wt'],fmt=markers[2],mfc='white',mew=3,c=colors[2],label='iMaster')\n",
    "    errorbar(lb,sn_Ww[corr]['clp_sim100']['mean']/sn_Ww[corr]['clp'],sn_Ww[corr]['clp_sim100']['std']/sn_Ww[corr]['clp'],fmt=markers[3],c=colors[3],mfc='white',mew=3,label='p-cl')\n",
    "    \n",
    "    errorbar(lb*1.03,sn_Ww[corr]['clp_sim100']['mean']/sn_Ww[corr]['clp_cG'],sn_Ww[corr]['clp_sim100']['std']/sn_Ww[corr]['clp_cG'],fmt=markers[3],\n",
    "             mfc=None,mew=3,c=colors[3])#,label='p-cl, corrected')\n",
    "    \n",
    "    errorbar(lb*1.03,sn_Ww[corr]['M_sim100']['mean']/sn_Ww[corr]['M_cG'],sn_Ww[corr]['M_sim100']['std']/sn_Ww[corr]['M_cG'],fmt=markers[1],c=colors[1],mfc=None,mew=3)\n",
    "    errorbar(lb*1.03,sn_Ww[corr]['M2wt_sim100']['mean']/sn_Ww[corr]['M2wt_cG'],sn_Ww[corr]['M2wt_sim100']['std']/sn_Ww[corr]['M2wt_cG'],fmt=markers[2],mfc=None,mew=3,c=colors[2])\n",
    "    errorbar(lb*1.03,sn_Ww[corr]['clp_sim100']['mean']/sn_Ww[corr]['clp_cG'],sn_Ww[corr]['clp_sim100']['std']/sn_Ww[corr]['clp_cG'],fmt=markers[3],c=colors[3],mfc=None,mew=3)\n",
    "\n",
    "    text(x=500,y=2,s=labels[corr])\n",
    "    xlim(10,1000)\n",
    "    xscale('log')\n",
    "    hlines(1,10,1000)\n",
    "    hlines(1-0.05,10,1000,ls=':',zorder=-10,alpha=0.5)\n",
    "    hlines(1+0.05,10,1000,ls=':',zorder=-10,alpha=0.5)\n",
    "    hlines(1-0.1,10,1000,ls=':',zorder=-10,alpha=0.5)\n",
    "    hlines(1+0.1,10,1000,ls=':',zorder=-10,alpha=0.5)\n",
    "    ylabel('Sim/theory')\n",
    "    legend()\n",
    "#     yscale('log')\n",
    "#     ylim(0.8,1.1)\n",
    "    show()"
   ]
  },
  {
   "cell_type": "code",
   "execution_count": null,
   "metadata": {
    "scrolled": false
   },
   "outputs": [],
   "source": [
    "for corr in corrs:\n",
    "    plot(lb,sn_W[corr]['M_sim']/sn_W[corr]['M'],'--',c=colors[1])\n",
    "    plot(lb,sn_W[corr]['M2wt_sim']/sn_W[corr]['M2wt'],'--',c=colors[2])\n",
    "    plot(lb,sn_W[corr]['clp_sim']/sn_W[corr]['clp'],'--',c=colors[3])\n",
    "    \n",
    "    plot(lb*1.03,sn_W[corr]['M_sim']/sn_W[corr]['M_cG'],'-',c=colors[1])\n",
    "    plot(lb*1.03,sn_W[corr]['M2wt_sim']/sn_W[corr]['M2wt_cG'],'-',c=colors[2])\n",
    "    plot(lb*1.03,sn_W[corr]['clp_sim']/sn_W[corr]['clp_cG'],'-',c=colors[3])\n",
    "    \n",
    "    errorbar(lb,sn_W[corr]['M_sim100']['mean']/sn_W[corr]['M'],sn_W[corr]['M_sim100']['std']/sn_W[corr]['M']*0,fmt=markers[1],c=colors[1],mfc='white',mew=3,label='Master')\n",
    "    errorbar(lb,sn_W[corr]['M2wt_sim100']['mean']/sn_W[corr]['M2wt'],sn_W[corr]['M2wt_sim100']['std']/sn_W[corr]['M2wt']*0,fmt=markers[2],mfc='white',mew=3,c=colors[2],label='iMaster')\n",
    "    errorbar(lb,sn_W[corr]['clp_sim100']['mean']/sn_W[corr]['clp'],sn_W[corr]['clp_sim100']['std']/sn_W[corr]['clp']*0,fmt=markers[3],c=colors[3],mfc='white',mew=3,label='p-cl')\n",
    "    \n",
    "    errorbar(lb*1.03,sn_W[corr]['clp_sim100']['mean']/sn_W[corr]['clp_cG'],sn_W[corr]['clp_sim100']['std']/sn_W[corr]['clp_cG'],fmt=markers[3],\n",
    "             mfc=None,mew=3,c=colors[3])#,label='p-cl, corrected')\n",
    "    \n",
    "    errorbar(lb*1.03,sn_W[corr]['M_sim100']['mean']/sn_W[corr]['M_cG'],sn_W[corr]['M_sim100']['std']/sn_W[corr]['M_cG'],fmt=markers[1],c=colors[1],mfc=None,mew=3)\n",
    "#     errorbar(lb*1.03,sn_Ww[corr]['M2wt_sim100']['mean']/sn_Ww[corr]['M2wt_cG'],sn_Ww[corr]['M2wt_sim100']['std']/sn_Ww[corr]['M2wt_cG'],fmt=markers[2],mfc=None,mew=3,c=colors[2])\n",
    "    errorbar(lb*1.03,sn_W[corr]['clp_sim100']['mean']/sn_W[corr]['clp_cG'],sn_W[corr]['clp_sim100']['std']/sn_W[corr]['clp_cG'],fmt=markers[3],c=colors[3],mfc=None,mew=3)\n",
    "\n",
    "    text(x=30,y=1.35,s=labels[corr])\n",
    "    xlim(10,1000)\n",
    "    xscale('log')\n",
    "    hlines(1,10,1000)\n",
    "    hlines(1-0.05,10,1000,ls=':',zorder=-10,alpha=0.5)\n",
    "    hlines(1+0.05,10,1000,ls=':',zorder=-10,alpha=0.5)\n",
    "    hlines(1-0.1,10,1000,ls=':',zorder=-10,alpha=0.5)\n",
    "    hlines(1+0.1,10,1000,ls=':',zorder=-10,alpha=0.5)\n",
    "    ylabel('Sim/theory')\n",
    "    legend()\n",
    "#     yscale('log')\n",
    "#     ylim(0.8,1.1)\n",
    "    show()"
   ]
  },
  {
   "cell_type": "code",
   "execution_count": null,
   "metadata": {
    "scrolled": false
   },
   "outputs": [],
   "source": [
    "for corr in corrs:\n",
    "    plot(lb,sn_W[corr]['M'],c=colors[1])\n",
    "    plot(lb,sn_W[corr]['M2wt'],c=colors[2])\n",
    "    plot(lb,sn_W[corr]['clp'],c=colors[3])\n",
    "    \n",
    "    plot(lb,sn_Ww[corr]['clp_cG'],'--',c='k')\n",
    "    \n",
    "    plot(lb,sn_W[corr]['M_sim'],'o',c=colors[1])\n",
    "    plot(lb,sn_W[corr]['M2wt_sim'],'o',c=colors[2])\n",
    "    plot(lb,sn_W[corr]['clp_sim'],'o',c=colors[3])\n",
    "    if corr==corr_ll:\n",
    "        plot(lb,sn_W[corr]['clpB_sim'],'o',c=colors[4])\n",
    "    \n",
    "    plot(lb,sn_Ww[corr]['M'],'--',c=colors[1])\n",
    "    plot(lb,sn_Ww[corr]['M2wt'],'--',c=colors[2])\n",
    "    plot(lb,sn_Ww[corr]['clp'],'--',c=colors[3])\n",
    "    plot(lb,sn_Ww[corr]['clp_cG'],'--',c='k')\n",
    "#     plot(lb,sn_Ww[corr]['clp_M'],'--',c=colors[3])\n",
    "    \n",
    "    plot(lb,sn_Ww[corr]['M_sim'],'o',c=colors[1])\n",
    "    plot(lb,sn_Ww[corr]['M2wt_sim'],'o',c=colors[2])\n",
    "    plot(lb,sn_Ww[corr]['clp_sim'],'o',c=colors[3])\n",
    "    \n",
    "    plot(lb,sn_W[corr]['cl0'],':',c=colors[4])\n",
    "    xlim(10,1000)\n",
    "    xscale('log')\n",
    "    yscale('log')\n",
    "    show()"
   ]
  },
  {
   "cell_type": "code",
   "execution_count": null,
   "metadata": {},
   "outputs": [],
   "source": [
    "cm=corr_matrix(cov_mat=sn_W[corr]['M_sim100']['cov'])\n",
    "pcolor(lb,lb,cm,vmin=-1,vmax=1,cmap='seismic')\n",
    "xscale('log')\n",
    "yscale('log')\n",
    "title(corr)"
   ]
  },
  {
   "cell_type": "code",
   "execution_count": null,
   "metadata": {
    "scrolled": false
   },
   "outputs": [],
   "source": [
    "for corr in corrs:\n",
    "    plot(lb,sn_W[corr]['M']-sn_W[corr]['M_sim'],'-',c=colors[1])\n",
    "    plot(lb,sn_W[corr]['M2wt']-sn_W[corr]['M2wt_sim'],'--',c=colors[2])\n",
    "    plot(lb,sn_W[corr]['clp']-sn_W[corr]['clp_sim'],':',c=colors[3])\n",
    "    \n",
    "    plot(lb,sn_Ww[corr]['M']-sn_Ww[corr]['M_sim'],'-',c=colors[1])\n",
    "    plot(lb,sn_Ww[corr]['M2wt']-sn_Ww[corr]['M2wt_sim'],'--',c=colors[2])\n",
    "    plot(lb,sn_Ww[corr]['clp']-sn_Ww[corr]['clp_sim'],':',c=colors[3])\n",
    "    \n",
    "    xlim(10,1000)\n",
    "    xscale('log')\n",
    "#     yscale('log')\n",
    "#     ylim(0.8,1.1)\n",
    "    show()"
   ]
  },
  {
   "cell_type": "code",
   "execution_count": null,
   "metadata": {
    "scrolled": false
   },
   "outputs": [],
   "source": [
    "for corr in corrs:\n",
    "    plot(lb,sn_W[corr]['M']/sn_W[corr]['cl0'],'-',c=colors[1])\n",
    "    plot(lb,sn_W[corr]['M2wt']/sn_W[corr]['cl0'],'--',c=colors[2])\n",
    "    plot(lb,sn_W[corr]['clp']/sn_W[corr]['cl0'],':',c=colors[3])\n",
    "    \n",
    "    plot(lb,sn_W[corr]['M_sim']/sn_W[corr]['cl0'],'o',c=colors[1])\n",
    "    plot(lb,sn_W[corr]['M2wt_sim']/sn_W[corr]['cl0'],'o',c=colors[2])\n",
    "    plot(lb,sn_W[corr]['clp_sim']/sn_W[corr]['cl0'],'o',c=colors[3])\n",
    "    \n",
    "    plot(lb,sn_Ww[corr]['M']/sn_W[corr]['cl0'],'-',c=colors[1])\n",
    "    plot(lb,sn_Ww[corr]['M2wt']/sn_W[corr]['cl0'],'--',c=colors[2])\n",
    "    plot(lb,sn_Ww[corr]['clp']/sn_W[corr]['cl0'],':',c=colors[3])\n",
    "    \n",
    "    plot(lb,sn_Ww[corr]['M_sim']/sn_W[corr]['cl0'],'o',c=colors[1])\n",
    "    plot(lb,sn_Ww[corr]['M2wt_sim']/sn_W[corr]['cl0'],'o',c=colors[2])\n",
    "    plot(lb,sn_Ww[corr]['clp_sim']/sn_W[corr]['cl0'],'o',c=colors[3])\n",
    "    \n",
    "    xlim(10,1000)\n",
    "    xscale('log')\n",
    "#     yscale('log')\n",
    "#     ylim(0.8,1.1)\n",
    "    show()"
   ]
  },
  {
   "cell_type": "code",
   "execution_count": null,
   "metadata": {
    "scrolled": false
   },
   "outputs": [],
   "source": [
    "for corr in corrs:\n",
    "    cov2=cl_sim_Ww['coupling_M_binned_inv'][corr].T@cl0_win_w['cov'][corr]@cl_sim_Ww['coupling_M_binned_inv'][corr]\n",
    "    cm=corr_matrix(cov_mat=cov2[:500,:500])\n",
    "    pcolor(lb,lb,cm,vmin=-1,vmax=1,cmap='seismic')\n",
    "    xscale('log')\n",
    "    yscale('log')\n",
    "    title(corr)\n",
    "    show()\n",
    "\n",
    "    cov2wt=cl_sim_Ww['coupling_M_binned2wt_inv'][corr].T@cl0_win_w['cov'][corr]@cl_sim_Ww['coupling_M_binned2wt_inv'][corr]\n",
    "    cm2wt=corr_matrix(cov_mat=cov2[:500,:500])\n",
    "    pcolor(lb,lb,cm,vmin=-1,vmax=1,cmap='seismic')\n",
    "    xscale('log')\n",
    "    yscale('log')\n",
    "    title(corr)\n",
    "    show()\n",
    "    pcolor(lb,lb,cm-cm2wt,vmin=-1,vmax=1,cmap='seismic')\n",
    "    xscale('log')\n",
    "    yscale('log')\n",
    "    title(corr)\n",
    "    show()\n",
    "    plot(lb,np.diag(cov2/cov2wt),label='M/Mwt')\n",
    "    xscale('log')\n",
    "    hlines(1,10,1000)\n",
    "    legend()\n",
    "    show()\n",
    "    cm2=corr_matrix(cov_mat=np.real(cl_sim_Ww['clg_bM_stats'][corr]['cov']))\n",
    "    pcolor(lb,lb,cm2,vmin=-1,vmax=1,cmap='seismic')\n",
    "    xscale('log')\n",
    "    yscale('log')\n",
    "    title(corr)\n",
    "    show()\n",
    "    pcolor(lb,lb,cm-cm2,vmin=-1,vmax=1,cmap='seismic')\n",
    "    xscale('log')\n",
    "    yscale('log')\n",
    "    title(corr)\n",
    "    show()\n",
    "    cm2wtS=corr_matrix(cov_mat=np.real(cl_sim_Ww['clg_bM2wt_stats'][corr]['cov']))\n",
    "    pcolor(lb,lb,cm2wtS,vmin=-1,vmax=1,cmap='seismic')\n",
    "    xscale('log')\n",
    "    yscale('log')\n",
    "    title(corr)\n",
    "    show()\n",
    "    pcolor(lb,lb,cm2wt-cm2wtS,vmin=-1,vmax=1,cmap='seismic')\n",
    "    xscale('log')\n",
    "    yscale('log')\n",
    "    title(corr)\n",
    "    show()\n",
    "    plot(lb,np.diag(cl_sim_Ww['clg_bM_stats'][corr]['cov']/cov2),label='MASTER-sim/MASTER')\n",
    "    xscale('log')\n",
    "    hlines(1,10,1000)\n",
    "    legend()\n",
    "#     show()\n",
    "    plot(lb,np.diag(cl_sim_Ww['clg_bM2wt_stats'][corr]['cov']/cov2wt),label='iMASTER-sim/iMASTER',ls='--')\n",
    "    fs=1\n",
    "    if corr==corr_ll:\n",
    "        fs=.3/.13\n",
    "#     plot(lb,np.diag(cl_sim_Ww['clg_bM2wt_stats'][corr]['cov']/cl0['cov'][corr]['final_b'])/fs,label='iMASTER-sim/mode count',ls=':')\n",
    "    plot(lb,np.diag(cl_sim_Ww['clp_b_stats'][corr]['cov']/cl0_win_w['cov'][corr]),label='pcl-sim/pcl',ls=':')\n",
    "    \n",
    "    xscale('log')\n",
    "    hlines(1,10,1000)\n",
    "    ylim(0.7,1.5)\n",
    "    legend()\n",
    "    show()\n",
    "\n"
   ]
  },
  {
   "cell_type": "code",
   "execution_count": null,
   "metadata": {
    "scrolled": false
   },
   "outputs": [],
   "source": [
    "cm=corr_matrix(cov_mat=np.real(cl_sim_W['clp_b_stats'][corr]['cov']))\n",
    "pcolor(lb,lb,cm,vmin=-1,vmax=1,cmap='seismic')\n",
    "xscale('log')\n",
    "yscale('log')\n",
    "title('p-$C_\\ell$ correlation- sims')\n",
    "show()\n",
    "cm2=corr_matrix(cov_mat=cl0_win['cov'][corr])\n",
    "pcolor(lb,lb,cm2,vmin=-1,vmax=1,cmap='seismic')\n",
    "xscale('log')\n",
    "yscale('log')\n",
    "title('p-$C_\\ell$ correlation- theory')\n",
    "show()\n",
    "pcolor(lb,lb,cm-cm2,vmin=-1,vmax=1,cmap='seismic')\n",
    "xscale('log')\n",
    "yscale('log')\n",
    "\n"
   ]
  },
  {
   "cell_type": "code",
   "execution_count": null,
   "metadata": {
    "scrolled": false
   },
   "outputs": [],
   "source": [
    "cm=corr_matrix(cov_mat=np.real(cl_sim_Ww['clp_b_stats'][corr]['cov']))\n",
    "pcolor(lb,lb,cm,vmin=-1,vmax=1,cmap='seismic')\n",
    "xscale('log')\n",
    "yscale('log')\n",
    "title('p-$C_\\ell$ correlation- sims')\n",
    "show()\n",
    "cm2=corr_matrix(cov_mat=cl0_win_w['cov'][corr])\n",
    "pcolor(lb,lb,cm2,vmin=-1,vmax=1,cmap='seismic')\n",
    "xscale('log')\n",
    "yscale('log')\n",
    "title('p-$C_\\ell$ correlation- theory')\n",
    "show()\n",
    "pcolor(lb,lb,cm-cm2,vmin=-1,vmax=1,cmap='seismic')\n",
    "xscale('log')\n",
    "yscale('log')\n",
    "\n",
    "\n"
   ]
  },
  {
   "cell_type": "code",
   "execution_count": null,
   "metadata": {},
   "outputs": [],
   "source": [
    "cm=corr_matrix(cov_mat=np.real(cl_sim_W['clp_stats'][corr]['cov'])[:500,:500])\n",
    "pcolor(cm,vmin=-1,vmax=1,cmap='seismic')\n",
    "show()"
   ]
  },
  {
   "cell_type": "code",
   "execution_count": null,
   "metadata": {
    "scrolled": false
   },
   "outputs": [],
   "source": [
    "i=0\n",
    "for corr in corrs:\n",
    "    lbl=''\n",
    "    color=colors[i]\n",
    "    lbl=labels[corr]+' theory'\n",
    "    plot(lb,np.diag(cl0_win['cov'][corr]),'--',label=lbl,color=color)\n",
    "    lbl=labels[corr]+' sim'\n",
    "    plot(lb,np.diag(np.real(cl_sim_W['clp_b_stats'][corr]['cov'])),label=lbl,color=color)\n",
    "    i+=1\n",
    "legend()\n",
    "xscale('log')\n",
    "yscale('log')\n",
    "xlabel(r'$\\ell$')\n",
    "ylabel(r'$\\delta p-C_\\ell^2$')\n",
    "show()\n",
    "i=0\n",
    "for corr in corrs:\n",
    "    lbl=''\n",
    "    color=colors[i]\n",
    "    lbl=labels[corr]+'theory'\n",
    "    plot(lb,np.diag(cl0['cov'][corr]['final_b']),'--',label=lbl,color=color)\n",
    "    \n",
    "    lbl=labels[corr]+'simM'\n",
    "    plot(lb,np.diag(np.real(cl_sim_W['clg_bM_stats'][corr]['cov'])),label=lbl,color=color)\n",
    "    lbl=labels[corr]+'simMwt'\n",
    "    plot(lb,np.diag(np.real(cl_sim_W['clg_bM2wt_stats'][corr]['cov'])),':',label=lbl,color=color)\n",
    "    i+=1\n",
    "xscale('log')\n",
    "yscale('log')\n",
    "legend()\n",
    "xlabel(r'$\\ell$')\n",
    "ylabel(r'$\\delta C_\\ell^2$')"
   ]
  },
  {
   "cell_type": "code",
   "execution_count": null,
   "metadata": {
    "scrolled": false
   },
   "outputs": [],
   "source": [
    "i=0\n",
    "for corr in corrs:\n",
    "    lbl=''\n",
    "    color=colors[i]\n",
    "    lbl=labels[corr]+' theory'\n",
    "    plot(lb,np.diag(np.real(cl_sim_W['clp_b_stats'][corr]['cov']))/np.diag(cl0_win['cov'][corr]),label=lbl,color=color)\n",
    "    i+=1\n",
    "legend()\n",
    "xscale('log')\n",
    "hlines(1,10,2000)\n",
    "# yscale('log')\n",
    "xlabel(r'$\\ell$')\n",
    "ylabel(r'$\\delta p-C_\\ell^2$')\n",
    "show()\n",
    "\n",
    "\n",
    "i=0\n",
    "for corr in corrs:\n",
    "    lbl=''\n",
    "    color=colors[i]\n",
    "    lbl=labels[corr]\n",
    "    plot(lb,np.diag(np.real(cl_sim_W['clg_bM_stats'][corr]['cov']))/np.diag(cl0_win['cov'][corr]),label=lbl,color=color)\n",
    "    plot(lb,np.diag(np.real(cl_sim_W['clg_bM2wt_stats'][corr]['cov']))/np.diag(cl0_win['cov'][corr]),label=lbl,color=color,ls='--')\n",
    "    i+=1\n",
    "xscale('log')\n",
    "hlines(1,10,2000)\n",
    "ylim(0.5,1.5)\n",
    "# yscale('log')\n",
    "legend()\n",
    "xlabel(r'$\\ell$')\n",
    "ylabel(r'$\\delta C_\\ell^2$')\n",
    "show()\n",
    "\n",
    "\n",
    "i=0\n",
    "for corr in corrs:\n",
    "    lbl=''\n",
    "    color=colors[i]\n",
    "    lbl=labels[corr]\n",
    "    plot(lb,np.diag(np.real(cl_sim_W['clg_bM_stats'][corr]['cov']))/np.diag(cl0['cov'][corr]['final_b']),label=lbl,color=color)\n",
    "    plot(lb,np.diag(np.real(cl_sim_W['clg_bM2wt_stats'][corr]['cov']))/np.diag(cl0['cov'][corr]['final_b']),label=lbl,color=color,ls='--')\n",
    "    i+=1\n",
    "xscale('log')\n",
    "hlines(1,10,2000)\n",
    "ylim(0.5,1.5)\n",
    "# yscale('log')\n",
    "legend()\n",
    "xlabel(r'$\\ell$')\n",
    "ylabel(r'$\\delta C_\\ell^2$')"
   ]
  },
  {
   "cell_type": "code",
   "execution_count": null,
   "metadata": {
    "scrolled": false
   },
   "outputs": [],
   "source": [
    "plot(lb,np.diag(cl0_win_w['cov'][corr]),'--')\n",
    "plot(lb,np.diag(np.real(cl_sim_Ww['clp_b_stats'][corr]['cov'])),'-')\n",
    "xscale('log')\n",
    "yscale('log')\n",
    "show()\n",
    "plot(lb,np.diag(cl0['cov'][corr]['final_b']),'--')\n",
    "plot(lb,np.diag(np.real(cl_sim_Ww['clg_bM2wt_stats'][corr]['cov'])))\n",
    "plot(lb,np.diag(np.real(cl_sim_Ww['clg_bM_stats'][corr]['cov'])))\n",
    "xscale('log')\n",
    "yscale('log')\n",
    "\n",
    "show()\n",
    "\n",
    "plot(lb,np.diag(np.real(cl_sim_Ww['clp_b_stats'][corr]['cov']))/np.diag(cl0_win_w['cov'][corr]),'--')\n",
    "xscale('log')\n",
    "# yscale('log')\n",
    "hlines(1,10,1000)\n",
    "show()\n",
    "plot(lb,np.diag(np.real(cl_sim_Ww['clg_bM2wt_stats'][corr]['cov']))/np.diag(cl0['cov'][corr]['final_b']))\n",
    "plot(lb,np.diag(np.real(cl_sim_Ww['clg_bM_stats'][corr]['cov']))/np.diag(cl0['cov'][corr]['final_b']))\n",
    "xscale('log')\n",
    "hlines(1,10,1000)\n",
    "# yscale('log')"
   ]
  },
  {
   "cell_type": "code",
   "execution_count": null,
   "metadata": {},
   "outputs": [],
   "source": [
    "plot(lb,cl_sim_W['clg_b_stats'][corr]['percetile_score'],':')\n",
    "plot(lb,cl_sim_W['clg_bM_stats'][corr]['percetile_score'],'--')\n",
    "plot(lb,cl_sim_W['clg_bM2wt_stats'][corr]['percetile_score'],)\n",
    "xscale('log')\n",
    "hlines(50,10,1000)"
   ]
  },
  {
   "cell_type": "code",
   "execution_count": null,
   "metadata": {},
   "outputs": [],
   "source": [
    "plot(lb,cl_sim_Ww['clg_b_stats'][corr]['percetile_score'])\n",
    "plot(lb,cl_sim_Ww['clg_bM_stats'][corr]['percetile_score'],'--')\n",
    "xscale('log')\n",
    "hlines(50,10,1000)"
   ]
  },
  {
   "cell_type": "code",
   "execution_count": null,
   "metadata": {},
   "outputs": [],
   "source": [
    "from scipy.stats import wishart,norm,multivariate_normal\n",
    "from scipy.optimize import minimize\n",
    "from scipy.stats import entropy,chi2\n",
    "from scipy.optimize import minimize\n",
    "def wishart_entropy(df,d):\n",
    "    if df<1 or not np.isfinite(df):\n",
    "        return np.inf\n",
    "    df=df[0]\n",
    "    m=d.mean()\n",
    "    \n",
    "    d=d\n",
    "    lim=(d.min()*0.9,d.max()*1.1)\n",
    "    count,edges=np.histogram(d,bins=100,range=lim,normed=1)\n",
    "    edges_m=0.5*(edges[1:]+edges[:-1])\n",
    "    x=edges_m>0\n",
    "    pW=np.zeros_like(edges_m)\n",
    "    pW[x]=wishart.pdf(edges_m[x],scale=m/df,df=df)\n",
    "    pW*=count.max()/pW.max()\n",
    "#     print(entropy(count,pW),df)\n",
    "#     crash\n",
    "    return entropy(count,pW)"
   ]
  },
  {
   "cell_type": "code",
   "execution_count": null,
   "metadata": {},
   "outputs": [],
   "source": [
    "corr=corr_gg\n",
    "corr_indx=0"
   ]
  },
  {
   "cell_type": "code",
   "execution_count": null,
   "metadata": {},
   "outputs": [],
   "source": [
    "shear_lcut=kappa_win.l>=2\n",
    "cut=kappa_win.l>0\n",
    "s=0\n",
    "if 'shear' in corr:\n",
    "    cut=shear_lcut\n",
    "    s=2\n",
    "coupling_M=kappa_win.Win.Win['cl'][corr][(0,0)]['M']\n",
    "coupling_M4=kappa_win.Win.Win['cov'][corr+corr][(0,0,0,0)]['M1324'][s] #*2\n",
    "# coupling_M_inv=np.linalg.inv(coupling_M)\n",
    "coupling_M_inv=np.zeros_like(coupling_M)\n",
    "coupling_M_inv[:,cut][cut,:]=np.linalg.inv(coupling_M[cut,:][:,cut]) #otherwise we get singular matrix since for shear l<2 is not defined.\n",
    "coupling_M_binned2=kappa_win.binning.bin_2d(cov=coupling_M,bin_utils=kappa_win.cl_bin_utils) #this doesnot work... difference of bin size\n",
    "#loglog(lb,np.diag(coupling_M_binned2)/np.diag(coupling_M_binned)*np.gradient(lb))\n",
    "coupling_M_binned2*=dl\n",
    "coupling_M_binned=bin_coupling_M(kappa_win,coupling_M)\n",
    "coupling_M_binned_inv=np.linalg.inv(coupling_M_binned)\n",
    "coupling_M_binned2_inv=np.linalg.inv(coupling_M_binned2)\n",
    "coupling_M4_binned=bin_coupling_M(kappa_win,coupling_M4)\n",
    "coupling_M4_binned2=kappa_win.binning.bin_2d(cov=coupling_M4,bin_utils=kappa_win.cl_bin_utils) \n",
    "coupling_M4_binned_inv=np.linalg.inv(coupling_M4_binned)\n",
    "\n",
    "coupling_M_binned_inv2=kappa_win.binning.bin_2d(cov=coupling_M_inv,bin_utils=kappa_win.cl_bin_utils)\n",
    "\n",
    "coupling_Mw=kappa_win_w.Win.Win['cl'][corr][(0,0)]['M']\n",
    "coupling_M4w=kappa_win_w.Win.Win['cov'][corr+corr][(0,0,0,0)]['M1324'][s] #*2\n",
    "# coupling_Mw_inv=np.linalg.inv(coupling_Mw)\n",
    "coupling_Mw_inv=np.zeros_like(coupling_Mw)\n",
    "coupling_Mw_inv[:,cut][cut,:]=np.linalg.inv(coupling_Mw[cut,:][:,cut]) #otherwise we get singular matrix since for shear l<2 is not defined.\n",
    "\n",
    "coupling_Mw_binned2=kappa_win_w.binning.bin_2d(cov=coupling_Mw,bin_utils=kappa_win_w.cl_bin_utils) #this doesnot work... difference of bin size\n",
    "coupling_Mw_binned2*=dl\n",
    "#loglog(lb,np.diag(coupling_M_binned2)/np.diag(coupling_M_binned)*np.gradient(lb))\n",
    "coupling_Mw_binned=bin_coupling_M(kappa_win_w,coupling_Mw)\n",
    "coupling_Mw_binned_inv=np.linalg.inv(coupling_Mw_binned)\n",
    "coupling_Mw_binned2_inv=np.linalg.inv(coupling_Mw_binned2)\n",
    "coupling_M4w_binned=bin_coupling_M(kappa_win_w,coupling_M4w)\n",
    "coupling_M4w_binned2=kappa_win.binning.bin_2d(cov=coupling_M4w,bin_utils=kappa_win.cl_bin_utils) \n",
    "coupling_M4w_binned_inv=np.linalg.inv(coupling_M4w_binned)\n",
    "\n",
    "coupling_Mw_binned_inv2=kappa_win.binning.bin_2d(cov=coupling_Mw_inv,bin_utils=kappa_win.cl_bin_utils)"
   ]
  },
  {
   "cell_type": "code",
   "execution_count": null,
   "metadata": {},
   "outputs": [],
   "source": [
    "kappa_win.SN[corr].shape"
   ]
  },
  {
   "cell_type": "code",
   "execution_count": null,
   "metadata": {
    "scrolled": false
   },
   "outputs": [],
   "source": [
    "df_fit=np.zeros_like(lb)\n",
    "coupling_M_binned=cl_sim_W['coupling_M_binned'][corr]\n",
    "# coupling_M4_binned2=cl_sim_W['coupling_M4_binned2'][corr]\n",
    "for l_i in np.arange(len(lb)):\n",
    "#     l_i=1\n",
    "    shot_noise=kappa_win.SN[corr][0,0,0]\n",
    "#     noise_f=(cl0_win['cl_b'][corr][l_i]+shot_noise)/cl0_win['cl_b'][corr][l_i]\n",
    "    noise_f=1#(cl0['cl_b'][corr][l_i]+shot_noise)/cl0['cl_b'][corr][l_i] #this should be cl, not p-cl\n",
    "    df=cl_sim_W['nu_b'][l_i]/noise_f**2\n",
    "    df2=df*np.diag(coupling_M_binned)[l_i]/f_sky\n",
    "    df3=np.diag(coupling_M_binned)**2/np.diag(coupling_M4_binned2) #* np.gradient(lb)\n",
    "    df3/=noise_f**2\n",
    "    df3=df3[l_i]\n",
    "    df=max(1,df)\n",
    "    df2=max(1,df2)\n",
    "    df3=max(1,df3)\n",
    "    \n",
    "    print(df)\n",
    "\n",
    "    d=cl_sim_W['clg_bM2wt'][:,l_i,corr_indx]\n",
    "#     m=cl_sim_W['clg_b'][:,l_i].mean()\n",
    "    m=d.mean()#cl0['cl_b'][l_i]\n",
    "    s=1\n",
    "    if m<0:\n",
    "        s=-1 \n",
    "    d=d*s\n",
    "    m=d.mean()\n",
    "\n",
    "    xx=minimize(wishart_entropy,x0=df3,args=(d),method='Powell',options={'maxiter':1000})\n",
    "    print(xx.success)\n",
    "    df_xx=np.float32(xx.x)\n",
    "    df_fit[l_i]=df_xx\n",
    "    lim=(d.min()*0.9,d.max()*1.1)\n",
    "    count,edges=np.histogram(d,bins=100,range=lim,normed=1)\n",
    "    edges_m=0.5*(edges[1:]+edges[:-1])\n",
    "    x=edges_m>0\n",
    "    pW=np.zeros_like(edges_m)\n",
    "    pW2=np.zeros_like(edges_m)\n",
    "    pW3=np.zeros_like(edges_m)\n",
    "    pWF=np.zeros_like(edges_m)\n",
    "#     edges_m=np.absolute(edges_m)\n",
    "    pW[x]=wishart.pdf(edges_m[x],scale=m/df,df=df)\n",
    "    pW2[x]=wishart.pdf(edges_m[x],scale=m/df2,df=df2)\n",
    "    pW3[x]=wishart.pdf(edges_m[x],scale=m/df3,df=df3)\n",
    "#     pW=chi2.pdf(edges_m,df,scale=m*s/df)\n",
    "    print(df_xx)\n",
    "    pWF[x]=wishart.pdf(edges_m[x],scale=m/df_xx,df=df_xx)\n",
    "    \n",
    "    plot(edges_m,count,label=r'$\\ell$'+str(np.around(lb[l_i],decimals=2)))\n",
    "    plot(edges_m,pW,':',label=np.around(df,decimals=2))\n",
    "    plot(edges_m,pW2,'--',label=np.around(df2,decimals=2))\n",
    "    plot(edges_m,pW3,'-.',label=np.around(df3,decimals=2))\n",
    "    plot(edges_m,pWF,label=np.around(df_xx,decimals=2))\n",
    "    vlines(m,0,pW.max())\n",
    "    vlines(cl0['cl_b'][corr][l_i],0,pW.max(),linestyles='--')\n",
    "    \n",
    "    legend()\n",
    "    show()\n",
    "    i+=1\n",
    "#     crash\n"
   ]
  },
  {
   "cell_type": "code",
   "execution_count": null,
   "metadata": {},
   "outputs": [],
   "source": [
    "noise_f=(cl0['cl_b']+shot_noise)/cl0['cl_b']\n",
    "df=cl_sim_W['nu_b']/noise_f**2\n",
    "df2=df*np.diag(coupling_M_binned)/f_sky\n",
    "df3=np.diag(coupling_M_binned)**2/np.diag(coupling_M4_binned2)# * np.gradient(lb)\n",
    "# df3*=2\n",
    "df3/=noise_f**2\n",
    "f=1./lb**2\n",
    "plot(lb,df_fit*f,label='fit')\n",
    "plot(lb,df*f,label='fsky')\n",
    "plot(lb,df2*f,label='F2')\n",
    "plot(lb,df3*f,label='F4')\n",
    "xscale('log')\n",
    "# yscale('log')\n",
    "ylim(0.,0.1)\n",
    "legend()"
   ]
  },
  {
   "cell_type": "code",
   "execution_count": null,
   "metadata": {
    "scrolled": false
   },
   "outputs": [],
   "source": [
    "df_fitw=np.zeros_like(lb)\n",
    "for l_i in np.arange(len(lb)):\n",
    "#     l_i=1\n",
    "    noise_f=(cl0['cl_b'][l_i]+shot_noise)/cl0['cl_b'][l_i]\n",
    "    df=cl_sim_Ww['nu_b'][l_i]/noise_f**2\n",
    "    df2=df*np.diag(coupling_Mw_binned)[l_i]/f_sky\n",
    "    df3=np.diag(coupling_Mw_binned)**2/np.diag(coupling_M4w_binned2) #* np.gradient(lb)\n",
    "    df3/=noise_f**2\n",
    "    df3=df3[l_i]\n",
    "    if df3<1:\n",
    "        print(df3,df)\n",
    "        df3=1\n",
    "#     df=df3[l_i]\n",
    "    d=cl_sim_Ww['clg_b2'][:,l_i]\n",
    "#     m=cl_sim_W['clg_b'][:,l_i].mean()\n",
    "    m=d.mean()#cl0['cl_b'][l_i]\n",
    "    s=1\n",
    "    if m<0:\n",
    "        s=-1 \n",
    "    d=d*s\n",
    "    m=d.mean()\n",
    "\n",
    "    xx=minimize(wishart_entropy,x0=df3,args=(d),method='Powell')\n",
    "    df_xx=np.float32(xx.x)\n",
    "    df_fitw[l_i]=df_xx\n",
    "    lim=(d.min()*0.9,d.max()*1.1)\n",
    "    count,edges=np.histogram(d,bins=100,range=lim,normed=1)\n",
    "    edges_m=0.5*(edges[1:]+edges[:-1])\n",
    "    x=edges_m>0\n",
    "    pW=np.zeros_like(edges_m)\n",
    "    pW2=np.zeros_like(edges_m)\n",
    "    pW3=np.zeros_like(edges_m)\n",
    "    pWF=np.zeros_like(edges_m)\n",
    "#     edges_m=np.absolute(edges_m)\n",
    "    pW[x]=wishart.pdf(edges_m[x],scale=m/df,df=df)\n",
    "    pW2[x]=wishart.pdf(edges_m[x],scale=m/df2,df=df2)\n",
    "    pW3[x]=wishart.pdf(edges_m[x],scale=m/df3,df=df3)\n",
    "#     pW=chi2.pdf(edges_m,df,scale=m*s/df)\n",
    "    pWF[x]=wishart.pdf(edges_m[x],scale=m/df_xx,df=df_xx)\n",
    "    \n",
    "    plot(edges_m,count,label=r'$\\ell=$'+str(np.around(lb[l_i],decimals=2)))\n",
    "    plot(edges_m,pW,':',label=r'$\\nu_{(2\\ell+1)f_{sky}}=$'+str(np.around(df,decimals=2)))\n",
    "#     plot(edges_m,pW2,'--',label=np.around(df2,decimals=2))\n",
    "    plot(edges_m,pW3,'-.',label=r'$\\nu_{win}=$'+str(np.around(df3,decimals=2)))\n",
    "    plot(edges_m,pWF,label=r'$\\nu_{fit}=$'+str(np.around(df_xx,decimals=2)))\n",
    "#     vlines(m,0,pW.max())\n",
    "#     vlines(cl0['cl_b'][l_i],0,pW.max(),linestyles='--')\n",
    "    xlabel(r'$C_{\\ell}$')\n",
    "    legend()\n",
    "    show()\n",
    "#     crash"
   ]
  },
  {
   "cell_type": "code",
   "execution_count": null,
   "metadata": {},
   "outputs": [],
   "source": [
    "noise_f=(cl0['cl_b']+shot_noise)/cl0['cl_b']\n",
    "df=cl_sim_Ww['nu_b']/noise_f**2\n",
    "df2=df*np.diag(coupling_Mw_binned)/f_sky\n",
    "df3=np.diag(coupling_Mw_binned)**2/np.diag(coupling_M4w_binned2)# * np.gradient(lb)\n",
    "# df3*=2\n",
    "df3/=noise_f**2\n",
    "f=1./lb**2\n",
    "plot(lb,df_fitw*f,label='fit')\n",
    "plot(lb,df*f,label='fsky')\n",
    "plot(lb,df2*f,label='F2')\n",
    "plot(lb,df3*f,label='F4')\n",
    "xscale('log')\n",
    "# yscale('log')\n",
    "ylim(0.,0.1)\n",
    "legend()"
   ]
  },
  {
   "cell_type": "code",
   "execution_count": null,
   "metadata": {
    "scrolled": false
   },
   "outputs": [],
   "source": [
    "for l_i in np.arange(len(lb)):\n",
    "#     l_i=1\n",
    "    df=cl_sim_W['nu_b'][l_i]/f_sky\n",
    "    df2=df/np.diag(coupling_M_binned_inv)[l_i]#/f_sky\n",
    "    d=cl_sim_W['clp_b'][:,l_i]\n",
    "#     m=cl_sim_W['clg_b'][:,l_i].mean()\n",
    "    m=d.mean()#cl0['cl_b'][l_i]\n",
    "    s=1\n",
    "    if m<0:\n",
    "        s=-1 \n",
    "    d=d*s\n",
    "    m=d.mean()\n",
    "\n",
    "    xx=minimize(wishart_entropy,x0=1,args=(d),method='Powell')\n",
    "    df_xx=np.float32(xx.x)\n",
    "    lim=(d.min()*0.9,d.max()*1.1)\n",
    "    count,edges=np.histogram(d,bins=100,range=lim,normed=1)\n",
    "    edges_m=0.5*(edges[1:]+edges[:-1])\n",
    "    x=edges_m>0\n",
    "    pW=np.zeros_like(edges_m)\n",
    "    pW2=np.zeros_like(edges_m)\n",
    "    pWF=np.zeros_like(edges_m)\n",
    "#     edges_m=np.absolute(edges_m)\n",
    "    pW[x]=wishart.pdf(edges_m[x],scale=m/df,df=df)\n",
    "    pW2[x]=wishart.pdf(edges_m[x],scale=m/df2,df=df2)\n",
    "#     pW=chi2.pdf(edges_m,df,scale=m*s/df)\n",
    "    pWF[x]=wishart.pdf(edges_m[x],scale=m/df_xx,df=df_xx)\n",
    "    \n",
    "    plot(edges_m,count,label=r'$\\ell$'+str(np.around(lb[l_i],decimals=2)))\n",
    "    plot(edges_m,pW,':',label=np.around(df,decimals=2))\n",
    "    plot(edges_m,pW2,'--',label=np.around(df2,decimals=2))\n",
    "    plot(edges_m,pWF,label=np.around(df_xx,decimals=2))\n",
    "    vlines(m,0,pW.max())\n",
    "    vlines(cl0_win['cl_b'][l_i],0,pW.max(),linestyles='--')\n",
    "    \n",
    "    legend()\n",
    "    show()\n",
    "#     crash"
   ]
  },
  {
   "cell_type": "raw",
   "metadata": {
    "scrolled": false
   },
   "source": [
    "for l_i in np.arange(19):\n",
    "#     l_i=1\n",
    "    df=cl_sim_W['nu_b'][l_i]\n",
    "    d=cl_sim_W['clp_b'][:,l_i]\n",
    "#     m=cl_sim_W['clg_b'][:,l_i].mean()\n",
    "    m=cl0_win['cl_b'][l_i]\n",
    "    s=1\n",
    "    if m<0:\n",
    "        s=-1 \n",
    "    d=d*s\n",
    "\n",
    "#     xx=minimize(wishart_entropy,x0=df,args=(d))\n",
    "    lim=(d.min()*0.9,d.max()*1.1)\n",
    "    count,edges=np.histogram(d,bins=100,range=lim,normed=1)\n",
    "    edges_m=0.5*(edges[1:]+edges[:-1])\n",
    "#     edges_m=np.absolute(edges_m)\n",
    "#     pW=wishart.pdf(edges_m,scale=m*s/df,df=df)\n",
    "    pW=chi2.pdf(edges_m,df,scale=m*s/df)\n",
    "#     pW2=wishart.pdf(edges_m,scale=m*s/xx.x[0],df=xx.x[0])\n",
    "    \n",
    "    plot(edges_m,count)\n",
    "    plot(edges_m,pW,label=np.around(df,decimals=2))\n",
    "    vlines(m,0,pW.max())\n",
    "#     plot(edges_m,pW2,'--',label=np.around(xx.x[0],decimals=2))\n",
    "    legend()\n",
    "    show()"
   ]
  },
  {
   "cell_type": "code",
   "execution_count": null,
   "metadata": {},
   "outputs": [],
   "source": [
    "import jk_utils\n",
    "reload(jk_utils)\n",
    "from jk_utils import *"
   ]
  },
  {
   "cell_type": "code",
   "execution_count": null,
   "metadata": {},
   "outputs": [],
   "source": [
    "mask=zs_bin1[0]['window']>-1000\n",
    "mask=mask.astype('bool')\n",
    "jkmap=jk_map(mask=mask,nside=nside)"
   ]
  },
  {
   "cell_type": "code",
   "execution_count": null,
   "metadata": {},
   "outputs": [],
   "source": [
    "njk=100"
   ]
  },
  {
   "cell_type": "code",
   "execution_count": null,
   "metadata": {},
   "outputs": [],
   "source": [
    "zs_bin1[0].keys()"
   ]
  },
  {
   "cell_type": "code",
   "execution_count": null,
   "metadata": {},
   "outputs": [],
   "source": [
    "zs_binjk={}\n",
    "\n",
    "for k in zs_bin1.keys():\n",
    "    if k==0:\n",
    "        continue\n",
    "    zs_binjk[k]=zs_bin1[k]\n",
    "    \n",
    "for i in np.arange(njk):\n",
    "    zs_binjk[i]=copy.deepcopy(zs_bin1[0])\n",
    "    x=jkmap==i\n",
    "    zs_binjk[i]['window'][x]=hp.UNSEEN\n",
    "    zs_binjk[i]['window_alm']=hp.map2alm(zs_binjk[i]['window'])\n",
    "    zs_binjk[i]['window']=None\n",
    "    zs_binjk[i]['window_cl']=None"
   ]
  },
  {
   "cell_type": "code",
   "execution_count": null,
   "metadata": {},
   "outputs": [],
   "source": [
    "corr=corr_gg"
   ]
  },
  {
   "cell_type": "code",
   "execution_count": null,
   "metadata": {},
   "outputs": [],
   "source": [
    "jk_corr_indxs={}\n",
    "jk_corr_indxs[corr]=[(i,i) for i in np.arange(njk)]"
   ]
  },
  {
   "cell_type": "code",
   "execution_count": null,
   "metadata": {},
   "outputs": [],
   "source": [
    "import cov_3X2\n",
    "reload(cov_3X2)\n",
    "from cov_3X2 import *"
   ]
  },
  {
   "cell_type": "code",
   "execution_count": null,
   "metadata": {},
   "outputs": [],
   "source": [
    "l0,l_bins,window_lmax"
   ]
  },
  {
   "cell_type": "code",
   "execution_count": null,
   "metadata": {},
   "outputs": [],
   "source": [
    "kappa_win_jk=cov_3X2(zs_bins=zs_binjk,do_cov=False,bin_cl=bin_cl,l_bins=l_bins,l=l0, zg_bins=zs_binjk,\n",
    "                    use_window=use_window,store_win=store_win,window_lmax=window_lmax,corrs=[corr],\n",
    "                    SSV_cov=SSV_cov,tidal_SSV_cov=tidal_SSV_cov,f_sky=f_sky,\n",
    "                    HT=WT_L,bin_xi=bin_xi,theta_bins=th_bins,do_xi=do_xi,\n",
    "                    wigner_files=wigner_files,corr_indxs=jk_corr_indxs\n",
    "                 #Win=kappa_win.Win.Win\n",
    "                 )"
   ]
  },
  {
   "cell_type": "code",
   "execution_count": null,
   "metadata": {},
   "outputs": [],
   "source": [
    "client.restart()"
   ]
  },
  {
   "cell_type": "code",
   "execution_count": null,
   "metadata": {},
   "outputs": [],
   "source": [
    "np.any(zs_bin1[0]['window'].mask)"
   ]
  },
  {
   "cell_type": "code",
   "execution_count": null,
   "metadata": {},
   "outputs": [],
   "source": [
    "hp.mollview(mask,min=0,max=1)"
   ]
  },
  {
   "cell_type": "code",
   "execution_count": null,
   "metadata": {
    "scrolled": false
   },
   "outputs": [],
   "source": [
    "hp.mollview(jkmap,min=0,max=100,cmap='flag')"
   ]
  },
  {
   "cell_type": "code",
   "execution_count": null,
   "metadata": {},
   "outputs": [],
   "source": [
    "ang=hp.pix2ang(nside=nside,ipix=np.where(~zs_bin1[0]['window'].mask))"
   ]
  },
  {
   "cell_type": "code",
   "execution_count": null,
   "metadata": {},
   "outputs": [],
   "source": [
    "ang"
   ]
  },
  {
   "cell_type": "code",
   "execution_count": null,
   "metadata": {},
   "outputs": [],
   "source": [
    "mask=zs_bin1[0]['window']>-1000"
   ]
  },
  {
   "cell_type": "code",
   "execution_count": null,
   "metadata": {},
   "outputs": [],
   "source": [
    "mask"
   ]
  },
  {
   "cell_type": "code",
   "execution_count": null,
   "metadata": {},
   "outputs": [],
   "source": []
  }
 ],
 "metadata": {
  "kernelspec": {
   "display_name": "Python 3",
   "language": "python",
   "name": "python3"
  },
  "language_info": {
   "codemirror_mode": {
    "name": "ipython",
    "version": 3
   },
   "file_extension": ".py",
   "mimetype": "text/x-python",
   "name": "python",
   "nbconvert_exporter": "python",
   "pygments_lexer": "ipython3",
   "version": "3.7.3"
  }
 },
 "nbformat": 4,
 "nbformat_minor": 2
}
