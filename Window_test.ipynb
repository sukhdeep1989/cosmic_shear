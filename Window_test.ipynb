{
 "cells": [
  {
   "cell_type": "code",
   "execution_count": 1,
   "metadata": {},
   "outputs": [],
   "source": [
    "import sys\n",
    "import pickle\n",
    "sys.path.insert(0,'./')\n",
    "import pyccl as ccl\n",
    "import tracemalloc\n",
    "from jk_utils import *\n",
    "\n",
    "# from importlib import reload"
   ]
  },
  {
   "cell_type": "code",
   "execution_count": 2,
   "metadata": {},
   "outputs": [
    {
     "name": "stderr",
     "output_type": "stream",
     "text": [
      "/usr/lib/python3.7/site-packages/distributed/config.py:20: YAMLLoadWarning: calling yaml.load() without Loader=... is deprecated, as the default Loader is unsafe. Please read https://msg.pyyaml.org/load for full details.\n",
      "  defaults = yaml.load(f)\n"
     ]
    }
   ],
   "source": [
    "import dask\n",
    "from distributed import LocalCluster\n",
    "from dask.distributed import Client  # we already had this above\n",
    "#http://distributed.readthedocs.io/en/latest/_modules/distributed/worker.html\n",
    "LC=LocalCluster(n_workers=10,processes=False,memory_limit='50gb',threads_per_worker=1,memory_spill_fraction=.99,)\n",
    "#                memory_monitor_interval='2000ms',worker_memory_limit='50gb')\n",
    "client=Client(LC)\n",
    "# dask.config.set(scheduler='single-threaded')"
   ]
  },
  {
   "cell_type": "code",
   "execution_count": 3,
   "metadata": {},
   "outputs": [
    {
     "data": {
      "text/html": [
       "<table style=\"border: 2px solid white;\">\n",
       "<tr>\n",
       "<td style=\"vertical-align: top; border: 0px solid white\">\n",
       "<h3>Client</h3>\n",
       "<ul>\n",
       "  <li><b>Scheduler: </b>inproc://136.152.250.206/16202/1\n",
       "  <li><b>Dashboard: </b><a href='http://localhost:8787/status' target='_blank'>http://localhost:8787/status</a>\n",
       "</ul>\n",
       "</td>\n",
       "<td style=\"vertical-align: top; border: 0px solid white\">\n",
       "<h3>Cluster</h3>\n",
       "<ul>\n",
       "  <li><b>Workers: </b>10</li>\n",
       "  <li><b>Cores: </b>10</li>\n",
       "  <li><b>Memory: </b>500.00 GB</li>\n",
       "</ul>\n",
       "</td>\n",
       "</tr>\n",
       "</table>"
      ],
      "text/plain": [
       "<Client: scheduler='inproc://136.152.250.206/16202/1' processes=10 cores=10>"
      ]
     },
     "execution_count": 3,
     "metadata": {},
     "output_type": "execute_result"
    }
   ],
   "source": [
    "client"
   ]
  },
  {
   "cell_type": "code",
   "execution_count": 4,
   "metadata": {},
   "outputs": [
    {
     "data": {
      "text/html": [
       "<table style=\"border: 2px solid white;\">\n",
       "<tr>\n",
       "<td style=\"vertical-align: top; border: 0px solid white\">\n",
       "<h3>Client</h3>\n",
       "<ul>\n",
       "  <li><b>Scheduler: </b>inproc://136.152.250.206/16202/1\n",
       "  <li><b>Dashboard: </b><a href='http://localhost:8787/status' target='_blank'>http://localhost:8787/status</a>\n",
       "</ul>\n",
       "</td>\n",
       "<td style=\"vertical-align: top; border: 0px solid white\">\n",
       "<h3>Cluster</h3>\n",
       "<ul>\n",
       "  <li><b>Workers: </b>10</li>\n",
       "  <li><b>Cores: </b>10</li>\n",
       "  <li><b>Memory: </b>500.00 GB</li>\n",
       "</ul>\n",
       "</td>\n",
       "</tr>\n",
       "</table>"
      ],
      "text/plain": [
       "<Client: scheduler='inproc://136.152.250.206/16202/1' processes=10 cores=10>"
      ]
     },
     "execution_count": 4,
     "metadata": {},
     "output_type": "execute_result"
    }
   ],
   "source": [
    "client.restart()"
   ]
  },
  {
   "cell_type": "code",
   "execution_count": 5,
   "metadata": {},
   "outputs": [],
   "source": [
    "from cov_3X2 import *\n",
    "# from fisher import *"
   ]
  },
  {
   "cell_type": "code",
   "execution_count": 6,
   "metadata": {},
   "outputs": [],
   "source": [
    "#only for python3\n",
    "import importlib\n",
    "reload=importlib.reload"
   ]
  },
  {
   "cell_type": "markdown",
   "metadata": {},
   "source": [
    "# Lensing X Lensing Correlation function covariance"
   ]
  },
  {
   "cell_type": "markdown",
   "metadata": {},
   "source": [
    "## Multiple redshift bins (Tomography)"
   ]
  },
  {
   "cell_type": "code",
   "execution_count": 7,
   "metadata": {},
   "outputs": [],
   "source": [
    "from lsst_utils import *"
   ]
  },
  {
   "cell_type": "code",
   "execution_count": 8,
   "metadata": {},
   "outputs": [],
   "source": [
    "import cov_utils\n",
    "reload(cov_utils)\n",
    "from cov_utils import *"
   ]
  },
  {
   "cell_type": "code",
   "execution_count": 9,
   "metadata": {},
   "outputs": [],
   "source": [
    "import window_utils\n",
    "reload(window_utils)\n",
    "from window_utils import *"
   ]
  },
  {
   "cell_type": "code",
   "execution_count": 10,
   "metadata": {},
   "outputs": [],
   "source": [
    "import cov_3X2\n",
    "reload(cov_3X2)\n",
    "from cov_3X2 import *\n",
    "from wigner_transform import *"
   ]
  },
  {
   "cell_type": "code",
   "execution_count": 11,
   "metadata": {},
   "outputs": [],
   "source": [
    "import hankel_transform\n",
    "from astropy.io import fits\n",
    "reload(hankel_transform)\n",
    "from hankel_transform import *\n"
   ]
  },
  {
   "cell_type": "raw",
   "metadata": {},
   "source": [
    "Omega_m : 0.2837\n",
    "Omega_v : 0.7163\n",
    "sigma_8 : 0.795431\n",
    "n_spec : 0.96859\n",
    "w0 : -1.0\n",
    "wa : 0.0\n",
    "omb : 0.062\n",
    "h0 : 0.8433"
   ]
  },
  {
   "cell_type": "code",
   "execution_count": 12,
   "metadata": {},
   "outputs": [
    {
     "data": {
      "text/plain": [
       "0.7971166457654738"
      ]
     },
     "execution_count": 12,
     "metadata": {},
     "output_type": "execute_result"
    }
   ],
   "source": [
    "cosmo_params={'h': 0.8433,\n",
    " 'Omb': 0.062,\n",
    " 'Omd': 0.2837-0.062,\n",
    " 's8': 0.795431,\n",
    " 'Om': 0.2837,\n",
    " 'As': 1.685e-09,\n",
    " 'Ase9': 1.685,\n",
    " 'mnu': 0.0,\n",
    " 'Omk': 0.0,\n",
    " 'tau': 0.06,\n",
    " 'ns': 0.96859,\n",
    " 'w': -1,\n",
    " 'wa': 0,\n",
    " 'Oml': 1.-0.2837}\n",
    "PS=Power_Spectra(cosmo_params=cosmo_params)\n",
    "k,pk,s8=PS.camb_pk(z=[0],cosmo_params=cosmo_params,return_s8=True)\n",
    "s8"
   ]
  },
  {
   "cell_type": "code",
   "execution_count": 13,
   "metadata": {},
   "outputs": [],
   "source": [
    "mnu=cosmo_h.m_nu*0\n",
    "cosmo=cosmo.clone(m_nu=mnu,Ob0=cosmo_params['Omb'],Om0=cosmo_params['Om'])\n",
    "cosmo_h=cosmo.clone(H0=100) #,m_nu=mnu,Ob0=cosmo_params['Omb'],Om0=cosmo_params['Om'])\n",
    "ccl_cosmo = ccl.Cosmology(Omega_c=cosmo_params['Omd'], Omega_b=cosmo_params['Omb'], \n",
    "                      h=cosmo_params['h'], A_s=cosmo_params['As'], n_s=cosmo_params['ns'],)#m_nu=[0,0,0.06])"
   ]
  },
  {
   "cell_type": "code",
   "execution_count": 14,
   "metadata": {},
   "outputs": [],
   "source": [
    "use_window=True\n",
    "do_sample_variance=True\n",
    "SSV_cov=False\n",
    "tidal_SSV=True\n",
    "Tri_cov=False\n",
    "sigma_gamma=0.3944/sqrt(2.)  #*2**0.25"
   ]
  },
  {
   "cell_type": "code",
   "execution_count": 15,
   "metadata": {},
   "outputs": [],
   "source": [
    "f_sky=.3 #3000./(4*np.pi/d2r**2)\n",
    "f_sky\n",
    "\n",
    "nside=512"
   ]
  },
  {
   "cell_type": "code",
   "execution_count": 16,
   "metadata": {},
   "outputs": [
    {
     "data": {
      "text/plain": [
       "0.3"
      ]
     },
     "execution_count": 16,
     "metadata": {},
     "output_type": "execute_result"
    }
   ],
   "source": [
    "f_sky"
   ]
  },
  {
   "cell_type": "code",
   "execution_count": 17,
   "metadata": {},
   "outputs": [
    {
     "name": "stderr",
     "output_type": "stream",
     "text": [
      "./cov_utils.py:60: RuntimeWarning: invalid value encountered in true_divide\n",
      "  Win0=2*jn(1,l_th)/l_th\n",
      "./angular_power_spectra.py:23: RuntimeWarning: divide by zero encountered in true_divide\n",
      "  self.cl_f=(l+0.5)**2/(l*(l+1.)) # cl correction from Kilbinger+ 2017\n",
      "/usr/lib/python3.7/site-packages/astropy/units/quantity.py:639: RuntimeWarning: divide by zero encountered in true_divide\n",
      "  result = super().__array_ufunc__(function, method, *arrays, **kwargs)\n"
     ]
    },
    {
     "name": "stdout",
     "output_type": "stream",
     "text": [
      "corr_indxs {('shear', 'shear'): [], ('galaxy', 'galaxy'): [(0, 0)], ('kappa', 'kappa'): []}\n",
      "Win gen: step size 1536\n",
      "cl dict done\n"
     ]
    },
    {
     "name": "stderr",
     "output_type": "stream",
     "text": [
      "/usr/lib/python3.7/site-packages/healpy/sphtfunc.py:402: FutureChangeWarning: The order of the input cl's will change in a future release.\n",
      "Use new=True keyword to start using the new order.\n",
      "See documentation of healpy.synalm.\n",
      "  category=FutureChangeWarning,\n"
     ]
    },
    {
     "name": "stdout",
     "output_type": "stream",
     "text": [
      "Sigma is 0.000000 arcmin (0.000000 rad) \n",
      "-> fwhm is 0.000000 arcmin\n",
      "corr_indxs {('shear', 'shear'): [], ('galaxy', 'galaxy'): [(0, 0)], ('kappa', 'kappa'): []}\n",
      "Win gen: step size 1536\n",
      "cl dict done\n",
      "Sigma is 0.000000 arcmin (0.000000 rad) \n",
      "-> fwhm is 0.000000 arcmin\n"
     ]
    }
   ],
   "source": [
    "zmin=0.3\n",
    "zmax=2\n",
    "\n",
    "z=np.linspace(0,5,200)\n",
    "pzs=lsst_pz_source(z=z)\n",
    "x=z<zmax\n",
    "x*=z>zmin\n",
    "z=z[x]\n",
    "pzs=pzs[x]\n",
    "\n",
    "ns0=26 #26+np.inf #ns=inf means shape noise is zero\n",
    "nbins=1  # Number of tomographic bins\n",
    "z_sigma=0.03\n",
    "zs_bins=source_tomo_bins(zp=z,p_zp=pzs,ns=ns0,nz_bins=nbins,use_window=use_window,f_sky=f_sky,window_cl_fact=1,\n",
    "                         ztrue_func=ztrue_given_pz_Gaussian,zp_bias=np.zeros_like(z),sigma_gamma=sigma_gamma,\n",
    "                        zp_sigma=z_sigma*np.ones_like(z),nside=nside,)\n",
    "\n",
    "ng0=10 #26+np.inf #ns=inf means shape noise is zero\n",
    "nlbins=1 # Number of tomographic bins\n",
    "z_sigma=0.005\n",
    "zl_bins=source_tomo_bins(zp=z,p_zp=pzs,ns=ng0,nz_bins=nlbins,use_window=use_window,f_sky=f_sky,\n",
    "                         ztrue_func=ztrue_given_pz_Gaussian,zp_bias=np.zeros_like(z),window_cl_fact=1,\n",
    "                        zp_sigma=z_sigma*np.ones_like(z),k_max=1.e6,nside=nside,)\n",
    "for i in np.arange(nlbins):\n",
    "    zl_bins[i]['b1']=1"
   ]
  },
  {
   "cell_type": "code",
   "execution_count": 18,
   "metadata": {},
   "outputs": [
    {
     "name": "stdout",
     "output_type": "stream",
     "text": [
      "X\n"
     ]
    }
   ],
   "source": [
    "for a in ()+(\"X\",):\n",
    "    print (a)"
   ]
  },
  {
   "cell_type": "code",
   "execution_count": 19,
   "metadata": {},
   "outputs": [],
   "source": [
    "do_cov=True"
   ]
  },
  {
   "cell_type": "code",
   "execution_count": 20,
   "metadata": {},
   "outputs": [],
   "source": [
    "do_xi=True\n",
    "bin_xi=True\n",
    "bin_cl=True\n",
    "th_min=2.5/60\n",
    "th_max=250./60\n",
    "n_th_bins=20\n",
    "th_bins=np.logspace(np.log10(th_min),np.log10(th_max),n_th_bins+1)\n",
    "th=np.logspace(np.log10(th_min*0.98),np.log10(1),n_th_bins*30)\n",
    "th2=np.linspace(1,th_max*1.02,n_th_bins*30)\n",
    "# th2=np.logspace(np.log10(1),np.log10(th_max),60*6)\n",
    "th=np.unique(np.sort(np.append(th,th2)))\n",
    "thb=np.sqrt(th_bins[1:]*th_bins[:-1])"
   ]
  },
  {
   "cell_type": "code",
   "execution_count": 21,
   "metadata": {},
   "outputs": [],
   "source": [
    "#Hankel Transform setup\n",
    "l_max=1e3\n",
    "l_maxW=1e3\n",
    "l_min=0\n",
    "# nl=1e2\n",
    "# nl_bins=np.int(nl/10)\n",
    "# l0=np.logspace(np.log10(l_min),np.log10(l_maxW),nl)\n",
    "# l0=np.append([0,1],l0)\n",
    "# l0=np.unique(np.int32(l0))\n",
    "# l0_HT=l0\n",
    "l0=np.arange(l_min,l_max)\n",
    "l0_HT=np.arange(l_max)\n",
    "nl_bins=20\n",
    "  #np.arange(l_min,l_max)\n",
    "# l0=np.unique(np.int32(np.logspace(np.log10(l_min),np.log10(l_maxW),4.e3)))   #np.arange(l_min,l_max)\n",
    "# l_bins=np.unique(np.int32(np.logspace(np.log10(l_min),np.log10(l_max),50)))\n",
    "l_bins=np.unique(np.int32(np.linspace(l_min,l_max,nl_bins)))\n",
    "lb=0.5*(l_bins[1:]+l_bins[:-1])\n",
    "prune_theta=0\n",
    "HT_kwargs={'l_min':l_min,  'l_max':l_max,\n",
    "                        'theta_min':th_min*d2r*.9, 'theta_max':th_max*d2r,\n",
    "                        'n_zeros':40000, 'prune_theta':prune_theta, 'm1_m2':[(2,2),(2,-2),(0,2),(0,0)]}\n",
    "# %time HT=hankel_transform(**HT_kwargs)\n",
    "# HT_kwargs2={'l_min':l_min,  'l_max':l_max,\n",
    "#                         'theta_min':th_min*d2r*.9, 'theta_max':th_max*d2r,\n",
    "#                         'n_zeros':40000, 'prune_theta':2, 'm1_m2':[(2,-2)]}#,(2,-2)]}"
   ]
  },
  {
   "cell_type": "code",
   "execution_count": 22,
   "metadata": {},
   "outputs": [],
   "source": [
    "power_spectra_kwargs={'cosmo':cosmo,'cosmo_params':cosmo_params,'pk_func':'camb_pk_too_many_z'}"
   ]
  },
  {
   "cell_type": "code",
   "execution_count": 23,
   "metadata": {},
   "outputs": [],
   "source": [
    "corr_ggl=('shear','galaxy')\n",
    "corr_ggk=('kappa','galaxy')\n",
    "corr_gg=('galaxy','galaxy')\n",
    "corr_ll=('shear','shear')\n",
    "corr_kk=('kappa','kappa')\n",
    "m1m2=(0,2)\n",
    "m1m2_gg=(0,0)"
   ]
  },
  {
   "cell_type": "code",
   "execution_count": 24,
   "metadata": {},
   "outputs": [
    {
     "name": "stderr",
     "output_type": "stream",
     "text": [
      "./wigner_functions.py:38: RuntimeWarning: invalid value encountered in true_divide\n",
      "  d_mat/=np.sqrt(binom(k+b,b))\n",
      "./wigner_functions.py:38: RuntimeWarning: divide by zero encountered in true_divide\n",
      "  d_mat/=np.sqrt(binom(k+b,b))\n",
      "./wigner_functions.py:38: RuntimeWarning: divide by zero encountered in true_divide\n",
      "  d_mat/=np.sqrt(binom(k+b,b))\n"
     ]
    },
    {
     "name": "stdout",
     "output_type": "stream",
     "text": [
      "CPU times: user 384 ms, sys: 997 ms, total: 1.38 s\n",
      "Wall time: 2.22 s\n"
     ]
    }
   ],
   "source": [
    "#### Wigner Transform setup... Using high ell to test convergence\n",
    "WT_L_kwargs={'l': l0_HT,'theta': th*d2r,'m1_m2':[(2,2),(2,-2),(0,2),(2,0),(0,0)]}\n",
    "%time WT_L=wigner_transform(**WT_L_kwargs)"
   ]
  },
  {
   "cell_type": "code",
   "execution_count": 25,
   "metadata": {},
   "outputs": [],
   "source": [
    "window_lmax=100\n",
    "bi=(0,0)\n",
    "\n"
   ]
  },
  {
   "cell_type": "code",
   "execution_count": 26,
   "metadata": {},
   "outputs": [],
   "source": [
    "import window_utils\n",
    "reload(window_utils)\n",
    "from window_utils import *\n",
    "\n",
    "import cov_utils\n",
    "reload(cov_utils)\n",
    "from cov_utils import *\n",
    "\n",
    "import cov_3X2\n",
    "reload(cov_3X2)\n",
    "from cov_3X2 import *"
   ]
  },
  {
   "cell_type": "code",
   "execution_count": 27,
   "metadata": {},
   "outputs": [],
   "source": [
    "do_cov=True\n",
    "use_window=True"
   ]
  },
  {
   "cell_type": "code",
   "execution_count": 28,
   "metadata": {},
   "outputs": [],
   "source": [
    "wigner_files={}\n",
    "wigner_files[0]= 'temp/dask_wig3j_l6500_w2100_0_reorder.zarr'\n",
    "wigner_files[2]= 'temp/dask_wig3j_l3500_w2100_2_reorder.zarr'"
   ]
  },
  {
   "cell_type": "raw",
   "metadata": {},
   "source": [
    "hp.mollview(zs_bins[0]['window'],title='W1')"
   ]
  },
  {
   "cell_type": "code",
   "execution_count": 29,
   "metadata": {
    "scrolled": false
   },
   "outputs": [
    {
     "name": "stdout",
     "output_type": "stream",
     "text": [
      "corr_indxs {('shear', 'shear'): [(0, 0)], ('galaxy', 'galaxy'): [(0, 0)], ('kappa', 'kappa'): [], ('shear', 'galaxy'): [(0, 0)], ('galaxy', 'shear'): [(0, 0)]}\n",
      "Win gen: step size 1001\n",
      "Warning: window for xi is different from cl. Only one of xi or cl is supported. Hence cl window will be wrong.\n",
      "wigner_files: {0: 'temp/dask_wig3j_l6500_w2100_0_reorder.zarr', 2: 'temp/dask_wig3j_l3500_w2100_2_reorder.zarr'}\n",
      "wigner done dict_keys([0, 2])\n",
      "setting windows <Client: scheduler='inproc://136.152.250.206/16202/1' processes=10 cores=10>\n",
      "got window cls, now to coupling matrices.\n",
      "done coupling submatrix  0 7.348049640655518 1.6323349475860596 4.922874927520752\n",
      "W done 17.01065683364868\n"
     ]
    }
   ],
   "source": [
    "tracemalloc.clear_traces()\n",
    "tracemalloc.start()\n",
    "\n",
    "t1=time.time()\n",
    "try:\n",
    "    Win=XI_W_L.Win.Win\n",
    "except:\n",
    "    Win=None\n",
    "XI_W_L= cov_3X2(zs_bins=zs_bins,l=l0,do_cov=do_cov,bin_cl=bin_cl,l_bins=l_bins,zg_bins=zl_bins,\n",
    "                do_sample_variance=do_sample_variance,use_window=use_window,window_lmax=window_lmax,\n",
    "                power_spectra_kwargs=power_spectra_kwargs,corrs=[corr_ll,corr_gg,corr_ggl]\n",
    "                ,store_win=True,#Win=Win,\n",
    "               SSV_cov=SSV_cov,tidal_SSV_cov=tidal_SSV,do_xi=True,HT=WT_L,f_sky=f_sky,\n",
    "               bin_xi=bin_xi,theta_bins=th_bins,\n",
    "               wigner_files=wigner_files)#ns=np.inf)\n",
    "t2=time.time()\n",
    "snapshot1 = tracemalloc.take_snapshot()\n",
    "print('W done',t2-t1)\n",
    "top_stats = snapshot1.statistics('lineno')"
   ]
  },
  {
   "cell_type": "code",
   "execution_count": 30,
   "metadata": {},
   "outputs": [
    {
     "name": "stdout",
     "output_type": "stream",
     "text": [
      "corr_indxs {('shear', 'shear'): [(0, 0)], ('galaxy', 'galaxy'): [(0, 0)], ('kappa', 'kappa'): [], ('shear', 'galaxy'): [(0, 0)], ('galaxy', 'shear'): [(0, 0)]}\n",
      "Win gen: step size 1001\n",
      "NW done\n",
      "added extra corr calc for covariance [('shear', 'shear'), ('shear', 'galaxy'), ('galaxy', 'galaxy'), ('galaxy', 'shear')]\n",
      "Note: redshifts have been re-sorted (earliest first)\n",
      "cl dict done\n",
      "CPU times: user 3.33 s, sys: 14.7 ms, total: 3.34 s\n",
      "Wall time: 671 ms\n"
     ]
    }
   ],
   "source": [
    "XI_W_L_NW= cov_3X2(zs_bins=zs_bins,l=l0,do_cov=do_cov,bin_cl=bin_cl,l_bins=l_bins,zg_bins=zl_bins, #no window\n",
    "                do_sample_variance=do_sample_variance,use_window=False,window_lmax=30,\n",
    "                power_spectra_kwargs=power_spectra_kwargs,corrs=[corr_ll,corr_ggl,corr_gg],store_win=True,\n",
    "               SSV_cov=SSV_cov,tidal_SSV_cov=tidal_SSV,do_xi=True,HT=WT_L,f_sky=f_sky,\n",
    "               bin_xi=bin_xi,theta_bins=th_bins)#ns=np.inf)\n",
    "print('NW done')\n",
    "%time clG_nw=XI_W_L_NW.cl_tomo()"
   ]
  },
  {
   "cell_type": "code",
   "execution_count": 31,
   "metadata": {},
   "outputs": [
    {
     "name": "stdout",
     "output_type": "stream",
     "text": [
      "added extra corr calc for covariance [('shear', 'shear'), ('galaxy', 'galaxy'), ('shear', 'galaxy'), ('galaxy', 'shear')]\n",
      "Note: redshifts have been re-sorted (earliest first)\n",
      "cl dict done\n",
      "CPU times: user 3.62 s, sys: 41.6 ms, total: 3.66 s\n",
      "Wall time: 948 ms\n",
      "added extra corr calc for covariance [('shear', 'shear'), ('shear', 'galaxy'), ('galaxy', 'galaxy'), ('galaxy', 'shear')]\n",
      "Note: redshifts have been re-sorted (earliest first)\n",
      "cl dict done\n",
      "CPU times: user 3.3 s, sys: 7.05 ms, total: 3.31 s\n",
      "Wall time: 668 ms\n"
     ]
    }
   ],
   "source": [
    "%time xiWG_L=XI_W_L.xi_tomo()\n",
    "%time xiWG_L_nw=XI_W_L_NW.xi_tomo()"
   ]
  },
  {
   "cell_type": "code",
   "execution_count": 32,
   "metadata": {},
   "outputs": [
    {
     "data": {
      "text/plain": [
       "dict_keys(['corr1', 'corr2', 'indxs1', 'indxs2', 1324, 1423, 'f_sky12', 'f_sky34', 'mask_comb_cl', 'Om_w12', 'Om_w34', 'M', 'xi', 'xi_b', 'W_pm', 'm1m2'])"
      ]
     },
     "execution_count": 32,
     "metadata": {},
     "output_type": "execute_result"
    }
   ],
   "source": [
    "XI_W_L.Win.Win['cov'][corr_ll+corr_ll][bi+bi].keys()"
   ]
  },
  {
   "cell_type": "code",
   "execution_count": 33,
   "metadata": {},
   "outputs": [
    {
     "name": "stdout",
     "output_type": "stream",
     "text": [
      "CPU times: user 28.3 s, sys: 165 ms, total: 28.5 s\n",
      "Wall time: 4.04 s\n",
      "CPU times: user 28 s, sys: 116 ms, total: 28.2 s\n",
      "Wall time: 3.43 s\n"
     ]
    }
   ],
   "source": [
    "%time xiW_L=xiWG_L['stack'].compute()\n",
    "%time xiW_L_nw=xiWG_L_nw['stack'].compute()"
   ]
  },
  {
   "cell_type": "code",
   "execution_count": 34,
   "metadata": {
    "scrolled": true
   },
   "outputs": [
    {
     "name": "stdout",
     "output_type": "stream",
     "text": [
      "added extra corr calc for covariance [('shear', 'shear'), ('galaxy', 'galaxy'), ('shear', 'galaxy'), ('galaxy', 'shear')]\n",
      "Note: redshifts have been re-sorted (earliest first)\n",
      "cl dict done\n",
      "CPU times: user 3.62 s, sys: 11.6 ms, total: 3.63 s\n",
      "Wall time: 935 ms\n"
     ]
    }
   ],
   "source": [
    "%time clG=XI_W_L.cl_tomo()\n",
    "# %time cl_L=clG['stack'].compute()"
   ]
  },
  {
   "cell_type": "code",
   "execution_count": 35,
   "metadata": {},
   "outputs": [
    {
     "data": {
      "text/plain": [
       "array([0])"
      ]
     },
     "execution_count": 35,
     "metadata": {},
     "output_type": "execute_result"
    }
   ],
   "source": [
    "np.arange(1)"
   ]
  },
  {
   "cell_type": "code",
   "execution_count": 36,
   "metadata": {},
   "outputs": [
    {
     "ename": "NameError",
     "evalue": "name 'crash' is not defined",
     "output_type": "error",
     "traceback": [
      "\u001b[0;31m---------------------------------------------------------------------------\u001b[0m",
      "\u001b[0;31mNameError\u001b[0m                                 Traceback (most recent call last)",
      "\u001b[0;32m<ipython-input-36-2a418ad8f387>\u001b[0m in \u001b[0;36m<module>\u001b[0;34m\u001b[0m\n\u001b[0;32m----> 1\u001b[0;31m \u001b[0mcrash\u001b[0m\u001b[0;34m\u001b[0m\u001b[0;34m\u001b[0m\u001b[0m\n\u001b[0m",
      "\u001b[0;31mNameError\u001b[0m: name 'crash' is not defined"
     ]
    }
   ],
   "source": [
    "crash"
   ]
  },
  {
   "cell_type": "code",
   "execution_count": null,
   "metadata": {},
   "outputs": [],
   "source": [
    "corr=corr_gg"
   ]
  },
  {
   "cell_type": "code",
   "execution_count": null,
   "metadata": {},
   "outputs": [],
   "source": [
    "cl0={'cl':{},'cl_b':{}}\n",
    "cl0['cl'][corr]=clG_nw['cl'][corr][bi].compute()\n",
    "cl0['cl_b'][corr]=clG_nw['cl_b'][corr][bi].compute()\n",
    "\n",
    "cl0_win={'cl':{},'cl_b':{}}\n",
    "cl0_win['cl'][corr]=clG['cl'][corr][bi].compute()\n",
    "cl0_win['cl_b'][corr]=clG['cl_b'][corr][bi].compute()\n",
    "\n"
   ]
  },
  {
   "cell_type": "code",
   "execution_count": null,
   "metadata": {},
   "outputs": [],
   "source": [
    "XI_W_L.SN[corr][bi]"
   ]
  },
  {
   "cell_type": "code",
   "execution_count": null,
   "metadata": {},
   "outputs": [],
   "source": [
    "bi=(0,0)\n",
    "local_state = np.random.RandomState(12312)\n",
    "clg0=clG['cl'][corr][bi].compute()#[:512]\n",
    "clN0=XI_W_L.SN[corr][bi]*np.ones_like(clg0)#[:256]\n",
    "cl_map=hp.synfast(clg0,nside=nside,RNG=local_state)#new=True,pol=False)\n",
    "N_map=hp.synfast(clN0,nside=nside,RNG=local_state)#new=True,pol=False)"
   ]
  },
  {
   "cell_type": "code",
   "execution_count": null,
   "metadata": {},
   "outputs": [],
   "source": [
    "plot(l0,hp.anafast(N_map,lmax=np.int(l0.max())))\n",
    "plot(l0,hp.anafast(cl_map,lmax=np.int(l0.max())))\n",
    "plot(l0,clN0)\n",
    "plot(l0,clg0)\n",
    "loglog()\n",
    "xlim(1,1000)"
   ]
  },
  {
   "cell_type": "code",
   "execution_count": null,
   "metadata": {},
   "outputs": [],
   "source": [
    "kappa0=XI_W_L"
   ]
  },
  {
   "cell_type": "code",
   "execution_count": null,
   "metadata": {},
   "outputs": [],
   "source": [
    "import binning\n",
    "reload(binning)\n",
    "from binning import *\n",
    "M_binnings={}\n",
    "M_binning_utils={}\n",
    "\n",
    "for corr in [corr_gg]:\n",
    "    M_binnings[corr]=binning()\n",
    "    wt_b=1./cl0['cl_b'][corr]\n",
    "    wt0=cl0['cl'][corr]\n",
    "    M_binning_utils[corr]=M_binnings[corr].bin_utils(r=kappa0.l,r_bins=kappa0.l_bins,\n",
    "                                                r_dim=2,mat_dims=[1,2],wt_b=wt_b,wt0=wt0)\n"
   ]
  },
  {
   "cell_type": "code",
   "execution_count": null,
   "metadata": {},
   "outputs": [],
   "source": [
    "def corr_matrix(cov_mat=[]): #correlation matrix\n",
    "    diag=np.diag(cov_mat)\n",
    "    return cov_mat/np.sqrt(np.outer(diag,diag))\n",
    "def get_cljk(cl_map,N_map,jk_win):\n",
    "    x=jk_win>-100\n",
    "    print(x.mean())\n",
    "    cl_map_jk=cl_map*jk_win\n",
    "    N_map_jk=N_map*np.sqrt(jk_win)\n",
    "    jk_map=cl_map_jk+N_map_jk\n",
    "    clp=hp.anafast(jk_map,lmax=np.int(l0.max()))\n",
    "    return clp\n",
    "#     if ndim>1:\n",
    "#         for i in np.arange(3):\n",
    "#             tracer=tracers[i]\n",
    "#             cl_map[i]*=window[tracer]\n",
    "#             N_map[i]*=np.sqrt(window[tracer])\n",
    "#             cl_map[i]+=N_map[i]\n",
    "#             cl_map[i][mask[tracer]]=hp.UNSEEN\n",
    "#             N_map[i][mask[tracer]]=hp.UNSEEN\n",
    "\n",
    "#         clpi=hp.anafast(cl_map, lmax=max(l),pol=True) #TT, EE, BB, TE, EB, TB for polarized input map\n",
    "#         clpi=clpi[:,l]\n",
    "#         clpi_B=clpi[[2,4,5],:]\n",
    "#         clpi=clpi[[0,1,3],:]\n",
    "\n"
   ]
  },
  {
   "cell_type": "code",
   "execution_count": null,
   "metadata": {},
   "outputs": [],
   "source": [
    "njk1=12\n",
    "njk2=njk1\n",
    "njk=njk1*njk2\n",
    "\n",
    "mask=zs_bins[0]['window']>-1000\n",
    "mask=mask.astype('bool')\n",
    "jkmap=jk_map(mask=mask,nside=nside,njk1=njk1,njk2=njk2)"
   ]
  },
  {
   "cell_type": "raw",
   "metadata": {},
   "source": [
    "njk1=8\n",
    "njk2=8"
   ]
  },
  {
   "cell_type": "code",
   "execution_count": null,
   "metadata": {},
   "outputs": [],
   "source": [
    "jk_corr_indxs={}\n",
    "jk_corr_indxs[corr]=[(i,i) for i in np.arange(njk2)]"
   ]
  },
  {
   "cell_type": "code",
   "execution_count": null,
   "metadata": {},
   "outputs": [],
   "source": [
    "clp_jk={}\n",
    "clg_jk={}\n",
    "Mcl_jk={}\n",
    "MN_jk={}\n",
    "for i1 in np.arange(njk1):\n",
    "    zs_binjk={}\n",
    "\n",
    "    for k in zs_bins.keys():\n",
    "        if k==0:\n",
    "            continue\n",
    "        zs_binjk[k]=zs_bins[k]\n",
    "\n",
    "    for i2 in np.arange(njk2):\n",
    "        ijk=i1*njk2+i2\n",
    "        zs_binjk[i2]=copy.deepcopy(zs_bins[0])\n",
    "        x=jkmap==ijk\n",
    "        zs_binjk[i2]['window'][x]=hp.UNSEEN\n",
    "#         zs_binjk[i2]['window']=hp.ud_grade(zs_binjk[i2]['window'],nside_out=512,pess=True,power=-2)\n",
    "        zs_binjk[i2]['window_alm']=hp.map2alm(zs_binjk[i2]['window'])\n",
    "        clp_jk[ijk]=get_cljk(cl_map,N_map,zs_binjk[i2]['window'])\n",
    "#         zs_binjk[ijk]['window']=None\n",
    "        zs_binjk[i2]['window_cl']=None\n",
    "          \n",
    "    kappa_win_jk= cov_3X2(zs_bins=zs_binjk,l=l0,do_cov=False,bin_cl=bin_cl,l_bins=l_bins,zg_bins=zs_binjk,\n",
    "                do_sample_variance=do_sample_variance,use_window=use_window,window_lmax=window_lmax,\n",
    "                power_spectra_kwargs=power_spectra_kwargs,corrs=[corr]\n",
    "                ,store_win=True,#Win=Win,\n",
    "               SSV_cov=SSV_cov,tidal_SSV_cov=tidal_SSV,do_xi=True,HT=WT_L,f_sky=f_sky,\n",
    "               bin_xi=bin_xi,theta_bins=th_bins,\n",
    "               wigner_files=wigner_files,\n",
    "               corr_indxs=jk_corr_indxs)#ns=np.inf)\n",
    "    for i2 in np.arange(njk2):\n",
    "        ijk=i1*njk2+i2\n",
    "        Mcl_jk[ijk]=kappa_win_jk.Win.Win['cl'][corr][bi]['M']\n",
    "        MN_jk[ijk]=kappa_win_jk.Win.Win['cl'][corr][bi]['M_noise']\n",
    "        clp_jk[ijk]-=clN0@MN_jk[ijk]\n",
    "        clp_jk[ijk]=M_binnings[corr].bin_1d(xi=clp_jk[ijk],bin_utils=kappa0.cl_bin_utils)\n",
    "        Mcl_jk[ijk]=M_binnings[corr].bin_2d_coupling(cov=Mcl_jk[ijk].T,bin_utils=M_binning_utils[corr])\n",
    "        Mcl_jk[ijk]=Mcl_jk[ijk].T  #to keep the same order in dot product later. Remeber that the coupling matrix is not symmetric.\n",
    "        \n",
    "        clg_jk[ijk]=clp_jk[ijk]@np.linalg.inv(Mcl_jk[ijk])\n",
    "    del kappa_win_jk\n",
    "    del zs_binjk"
   ]
  },
  {
   "cell_type": "code",
   "execution_count": null,
   "metadata": {},
   "outputs": [],
   "source": [
    "clg_sim0={}\n",
    "clp_sim0={}\n",
    "\n",
    "MN_sim0=kappa0.Win.Win['cl'][corr][bi]['M_noise']\n",
    "Mcl_sim0=kappa0.Win.Win['cl'][corr][bi]['M']\n",
    "Mcl_sim0=M_binnings[corr].bin_2d_coupling(cov=Mcl_sim0.T,bin_utils=M_binning_utils[corr])\n",
    "Mcl_sim0=Mcl_sim0.T  #to keep the same order in dot product later. Remeber that the coupling matrix is not symmetric.\n",
    "for i in np.arange(njk):\n",
    "    local_state = np.random.RandomState(12312+i)\n",
    "    cl_map_i=hp.synfast(clg0,nside=nside,RNG=local_state)#new=True,pol=False)\n",
    "    N_map_i=hp.synfast(clN0,nside=nside,RNG=local_state)#new=True,pol=False)\n",
    "    \n",
    "    clp_sim0[i]=get_cljk(cl_map_i,N_map_i,zs_bins[0]['window'])\n",
    "    \n",
    "    clp_sim0[i]-=clN0@MN_sim0\n",
    "    clp_sim0[i]=M_binnings[corr].bin_1d(xi=clp_sim0[i],bin_utils=kappa0.cl_bin_utils)\n",
    "    clg_sim0[i]=clp_sim0[i]@np.linalg.inv(Mcl_sim0)"
   ]
  },
  {
   "cell_type": "code",
   "execution_count": null,
   "metadata": {},
   "outputs": [],
   "source": [
    "vv=np.array(list(clp_jk.values()))\n",
    "clp_jk_mean=np.mean(vv,axis=0)\n",
    "clp_jk_cov=np.cov(vv,rowvar=0)*(njk-1)\n",
    "clp_jk_std=np.sqrt(np.diag(clp_jk_cov))"
   ]
  },
  {
   "cell_type": "code",
   "execution_count": null,
   "metadata": {},
   "outputs": [],
   "source": [
    "vv=np.array(list(clg_jk.values()))\n",
    "clg_jk_mean=np.mean(vv,axis=0)\n",
    "clg_jk_cov=np.cov(vv,rowvar=0)*(njk-1)\n",
    "clg_jk_std=np.sqrt(np.diag(clg_jk_cov))"
   ]
  },
  {
   "cell_type": "code",
   "execution_count": null,
   "metadata": {},
   "outputs": [],
   "source": [
    "vv0=np.array(list(clg_sim0.values()))\n",
    "clg_sim0_mean=np.mean(vv0,axis=0)\n",
    "clg_sim0_cov=np.cov(vv0,rowvar=0)\n",
    "clg_sim0_std=np.sqrt(np.diag(clg_sim0_cov))"
   ]
  },
  {
   "cell_type": "code",
   "execution_count": null,
   "metadata": {},
   "outputs": [],
   "source": [
    "vv0=np.array(list(clp_sim0.values()))\n",
    "clp_sim0_mean=np.mean(vv0,axis=0)\n",
    "clp_sim0_cov=np.cov(vv0,rowvar=0)\n",
    "clp_sim0_std=np.sqrt(np.diag(clp_sim0_cov))"
   ]
  },
  {
   "cell_type": "code",
   "execution_count": null,
   "metadata": {},
   "outputs": [],
   "source": [
    "plot(lb,clg_jk_mean)\n",
    "plot(lb,clg_sim0_mean,'--')\n",
    "plot(lb,cl0['cl_b'][corr])\n",
    "loglog()"
   ]
  },
  {
   "cell_type": "code",
   "execution_count": null,
   "metadata": {},
   "outputs": [],
   "source": [
    "plot(lb,clg_jk_mean/cl0['cl_b'][corr])\n",
    "plot(lb,clg_sim0_mean/cl0['cl_b'][corr],'--')\n",
    "loglog()"
   ]
  },
  {
   "cell_type": "code",
   "execution_count": null,
   "metadata": {},
   "outputs": [],
   "source": [
    "plot(lb,clp_jk_mean/cl0_win['cl_b'][corr])\n",
    "plot(lb,clp_sim0_mean/cl0_win['cl_b'][corr],'--')\n",
    "loglog()"
   ]
  },
  {
   "cell_type": "code",
   "execution_count": null,
   "metadata": {},
   "outputs": [],
   "source": [
    "plot(lb,clg_jk_mean/cl0['cl_b'][corr])"
   ]
  },
  {
   "cell_type": "code",
   "execution_count": null,
   "metadata": {},
   "outputs": [],
   "source": [
    "plot(lb,clg_jk_std)\n",
    "plot(lb,clg_sim0_std,'--')\n",
    "loglog()"
   ]
  },
  {
   "cell_type": "code",
   "execution_count": null,
   "metadata": {},
   "outputs": [],
   "source": [
    "plot(lb,clp_jk_std)\n",
    "plot(lb,clp_sim0_std,'--')\n",
    "loglog()"
   ]
  },
  {
   "cell_type": "code",
   "execution_count": null,
   "metadata": {},
   "outputs": [],
   "source": [
    "plot(lb,clg_jk_std/clg_sim0_std)\n",
    "plot(lb,clp_jk_std/clp_sim0_std,'--')\n",
    "hlines(1.1,20,1000,alpha=0.5)\n",
    "hlines(1.15,20,1000,alpha=0.5)\n",
    "xscale('log')"
   ]
  },
  {
   "cell_type": "code",
   "execution_count": null,
   "metadata": {},
   "outputs": [],
   "source": [
    "cc_jk=corr_matrix(clg_jk_cov)\n",
    "cc_sim=corr_matrix(clg_sim0_cov)"
   ]
  },
  {
   "cell_type": "code",
   "execution_count": null,
   "metadata": {},
   "outputs": [],
   "source": [
    "pcolor(lb,lb,cc_jk-cc_sim,vmin=-1,vmax=1,cmap='seismic')\n",
    "# xscale('log')\n",
    "# yscale('log')"
   ]
  },
  {
   "cell_type": "code",
   "execution_count": null,
   "metadata": {},
   "outputs": [],
   "source": [
    "pcolor(lb,lb,cc_jk,vmin=-1,vmax=1,cmap='seismic')"
   ]
  },
  {
   "cell_type": "code",
   "execution_count": null,
   "metadata": {},
   "outputs": [],
   "source": [
    "pcolor(cc_sim,vmin=-1,vmax=1,cmap='seismic')"
   ]
  },
  {
   "cell_type": "code",
   "execution_count": null,
   "metadata": {},
   "outputs": [],
   "source": [
    "def matrix_cut(mat=[],x=[]):\n",
    "    m=mat[x]\n",
    "    N=sum(x)\n",
    "    m2=np.zeros((N,N))\n",
    "    j=0\n",
    "    for i in m:\n",
    "        m2[j]=i[x]\n",
    "        j=j+1\n",
    "    return m2\n",
    "\n",
    "def SN_cum(cov=[],lb=[],cl=[],diag=False,lmin=2,use_hartlap=False,nsim=1000):\n",
    "    sni=np.zeros_like(lb)\n",
    "    for i in np.arange(len(lb)):\n",
    "        if lb[i]<lmin:\n",
    "            continue\n",
    "        x=lb<=lb[i]\n",
    "        x*=lb>lmin\n",
    "        cov2_cut=matrix_cut(mat=cov,x=x)\n",
    "        if diag:\n",
    "            cov2_cut=np.diag(np.diag(cov2_cut))\n",
    "        cov2_cut_inv=np.linalg.inv(cov2_cut)\n",
    "        \n",
    "        cl_i=cl[x]\n",
    "        SN2=cl_i@cov2_cut_inv@cl_i\n",
    "        if use_hartlap:\n",
    "            SN2*=(nsim-2-x.sum())/(nsim-1)\n",
    "        sni[i]=SN2\n",
    "    return sni"
   ]
  },
  {
   "cell_type": "code",
   "execution_count": null,
   "metadata": {},
   "outputs": [],
   "source": [
    "use_hartlap=True\n",
    "sn={corr:{}}\n",
    "sn[corr]['jk']=SN_cum(cov=clg_jk_cov,lb=lb,cl=clg_jk_mean,use_hartlap=use_hartlap,nsim=njk)\n",
    "sn[corr]['sim']=SN_cum(cov=clg_sim0_cov,lb=lb,cl=clg_sim0_mean,use_hartlap=use_hartlap,nsim=njk)\n",
    "\n",
    "sn[corr]['jk0']=SN_cum(cov=clg_jk_cov,lb=lb,cl=cl0['cl_b'][corr],use_hartlap=use_hartlap,nsim=njk)\n",
    "sn[corr]['sim0']=SN_cum(cov=clg_sim0_cov,lb=lb,cl=cl0['cl_b'][corr],use_hartlap=use_hartlap,nsim=njk)"
   ]
  },
  {
   "cell_type": "code",
   "execution_count": null,
   "metadata": {},
   "outputs": [],
   "source": [
    "sn[corr]['jk_p']=SN_cum(cov=clp_jk_cov,lb=lb,cl=clp_jk_mean,use_hartlap=use_hartlap,nsim=njk)\n",
    "sn[corr]['sim_p']=SN_cum(cov=clp_sim0_cov,lb=lb,cl=clp_sim0_mean,use_hartlap=use_hartlap,nsim=njk)\n",
    "\n",
    "sn[corr]['jk_p0']=SN_cum(cov=clp_jk_cov,lb=lb,cl=cl0_win['cl_b'][corr],use_hartlap=use_hartlap,nsim=njk)\n",
    "sn[corr]['sim_p0']=SN_cum(cov=clp_sim0_cov,lb=lb,cl=cl0_win['cl_b'][corr],use_hartlap=use_hartlap,nsim=njk)"
   ]
  },
  {
   "cell_type": "code",
   "execution_count": null,
   "metadata": {},
   "outputs": [],
   "source": [
    "plot(lb,sn[corr]['jk'])\n",
    "plot(lb,sn[corr]['sim'],'--')\n",
    "plot(lb,sn[corr]['jk_p'],'-.')\n",
    "plot(lb,sn[corr]['sim_p'],':')\n",
    "loglog()\n",
    "show()\n",
    "plot(lb,sn[corr]['jk0'])\n",
    "plot(lb,sn[corr]['sim0'],'--')\n",
    "plot(lb,sn[corr]['jk_p0'])\n",
    "plot(lb,sn[corr]['sim_p0'],'--')\n",
    "loglog()"
   ]
  },
  {
   "cell_type": "code",
   "execution_count": null,
   "metadata": {},
   "outputs": [],
   "source": [
    "plot(lb,sn[corr]['jk_p0'])\n",
    "plot(lb,sn[corr]['sim_p0'],'--')\n",
    "loglog()"
   ]
  },
  {
   "cell_type": "code",
   "execution_count": null,
   "metadata": {},
   "outputs": [],
   "source": [
    "crash"
   ]
  },
  {
   "cell_type": "code",
   "execution_count": null,
   "metadata": {},
   "outputs": [],
   "source": [
    "plot(lb,clg_sim[0])\n",
    "plot(lb,cl0['cl_b'][corr])"
   ]
  },
  {
   "cell_type": "code",
   "execution_count": null,
   "metadata": {},
   "outputs": [],
   "source": [
    "top_stats = snapshot1.statistics('traceback')"
   ]
  },
  {
   "cell_type": "code",
   "execution_count": null,
   "metadata": {},
   "outputs": [],
   "source": [
    "tracemalloc.get_traced_memory()"
   ]
  },
  {
   "cell_type": "code",
   "execution_count": null,
   "metadata": {},
   "outputs": [],
   "source": [
    "stat = top_stats[0]\n",
    "print(\"%s memory blocks: %.1f MiB\" % (stat.count, stat.size / 1024**2))\n",
    "for line in stat.traceback.format():\n",
    "    print(line)"
   ]
  },
  {
   "cell_type": "raw",
   "metadata": {},
   "source": [
    "top_stats"
   ]
  },
  {
   "cell_type": "code",
   "execution_count": null,
   "metadata": {},
   "outputs": [],
   "source": [
    "dask.visualize(XI_W_L.Win.Win_cl)"
   ]
  },
  {
   "cell_type": "code",
   "execution_count": null,
   "metadata": {},
   "outputs": [],
   "source": [
    "dask.visualize(XI_W_L.Win.Win_cov)"
   ]
  },
  {
   "cell_type": "raw",
   "metadata": {},
   "source": [
    "XI_W_L.Win.wig_3j_2"
   ]
  },
  {
   "cell_type": "code",
   "execution_count": null,
   "metadata": {},
   "outputs": [],
   "source": [
    "crash"
   ]
  },
  {
   "cell_type": "code",
   "execution_count": null,
   "metadata": {},
   "outputs": [],
   "source": [
    "clG['stack'].visualize()"
   ]
  },
  {
   "cell_type": "code",
   "execution_count": null,
   "metadata": {},
   "outputs": [],
   "source": []
  },
  {
   "cell_type": "code",
   "execution_count": null,
   "metadata": {},
   "outputs": [],
   "source": [
    "cl=clG['cl'][corr_ll][bi].compute()\n",
    "pcl=clG['cl_b'][corr_ll][bi].compute()"
   ]
  },
  {
   "cell_type": "code",
   "execution_count": null,
   "metadata": {},
   "outputs": [],
   "source": [
    "lb=0.5*(XI_W_L.l_bins[1:]+XI_W_L.l_bins[:-1])"
   ]
  },
  {
   "cell_type": "code",
   "execution_count": null,
   "metadata": {},
   "outputs": [],
   "source": [
    "plot(XI_W_L.l,cl)\n",
    "plot(lb,pcl)\n",
    "loglog()"
   ]
  },
  {
   "cell_type": "raw",
   "metadata": {},
   "source": [
    "crash"
   ]
  },
  {
   "cell_type": "code",
   "execution_count": null,
   "metadata": {},
   "outputs": [],
   "source": [
    "A=np.int8(np.eye(1000))\n",
    "X=np.float32(np.eye(1000))"
   ]
  },
  {
   "cell_type": "code",
   "execution_count": null,
   "metadata": {},
   "outputs": [],
   "source": [
    "A"
   ]
  },
  {
   "cell_type": "code",
   "execution_count": null,
   "metadata": {},
   "outputs": [],
   "source": [
    "B=A.astype('bool')"
   ]
  },
  {
   "cell_type": "code",
   "execution_count": null,
   "metadata": {},
   "outputs": [],
   "source": [
    "%time x1=X*A\n",
    "%time x2=X*B"
   ]
  },
  {
   "cell_type": "code",
   "execution_count": null,
   "metadata": {},
   "outputs": [],
   "source": [
    "np.all(x1==x2)"
   ]
  },
  {
   "cell_type": "code",
   "execution_count": null,
   "metadata": {},
   "outputs": [],
   "source": [
    "dask.visualize(clG['stack'])"
   ]
  },
  {
   "cell_type": "code",
   "execution_count": null,
   "metadata": {},
   "outputs": [],
   "source": [
    "np.arange(1000,step=300)"
   ]
  },
  {
   "cell_type": "code",
   "execution_count": null,
   "metadata": {},
   "outputs": [],
   "source": [
    "XI_W_L.Win.Win['cl'][corr_ll][bi]"
   ]
  },
  {
   "cell_type": "code",
   "execution_count": null,
   "metadata": {},
   "outputs": [],
   "source": [
    "XI_W_L.Win.Win['cl'][corr_ll][bi]['M_B_noise']"
   ]
  },
  {
   "cell_type": "code",
   "execution_count": null,
   "metadata": {},
   "outputs": [],
   "source": [
    "# M2=XI_W_L.Win.Win['cov'][corr_ll+corr_ll][bi+bi]['M1324'][2].compute()\n",
    "try:\n",
    "    M2n=XI_W_L.Win.Win['cl'][corr_ll][bi]['M_B'].compute()\n",
    "except:\n",
    "    M2n=XI_W_L.Win.Win['cl'][corr_ll][bi]['M_B']\n",
    "XI_W_L.SN[corr_ll][:,0,0]@M2n"
   ]
  },
  {
   "cell_type": "code",
   "execution_count": null,
   "metadata": {},
   "outputs": [],
   "source": [
    "bi=(0,0)\n",
    "f=1#XI_W_L.l**2\n",
    "# plot(XI_W_L.l,f*(XI_W_L.SN[corr_ll][:,0,0]@XI_W_L.Win.Win['cov'][corr_ll+corr_ll][bi+bi]['M1324'][2]))\n",
    "plot(XI_W_L.l,f*(XI_W_L.SN[corr_ll][:,0,0]@M2n))\n",
    "loglog()"
   ]
  },
  {
   "cell_type": "raw",
   "metadata": {},
   "source": [
    "zs_bins['SN']['kappa']=zs_bins['SN']['shear']\n",
    "t1=time.time()\n",
    "\n",
    "\n",
    "XI_W_K= cov_3X2(zk_bins=zs_bins,l=l0,do_cov=do_cov,bin_cl=bin_cl,l_bins=l_bins,zg_bins=zl_bins,\n",
    "                do_sample_variance=do_sample_variance,use_window=use_window,window_lmax=window_lmax,\n",
    "                power_spectra_kwargs=power_spectra_kwargs,corrs=[corr_kk,corr_ggk,corr_gg],store_win=True,\n",
    "               SSV_cov=SSV_cov,tidal_SSV_cov=tidal_SSV,Tri_cov=Tri_cov,do_xi=True,HT=WT_L,f_sky=f_sky,\n",
    "               bin_xi=bin_xi,theta_bins=th_bins)#ns=np.inf)\n",
    "t2=time.time()\n",
    "print('W done',t2-t1)"
   ]
  },
  {
   "cell_type": "code",
   "execution_count": null,
   "metadata": {},
   "outputs": [],
   "source": [
    "xx=np.random.uniform(0,1,size=(1000,100,3000,)).astype('float64')\n",
    "xx2=xx.reshape(100,3000,1000)\n",
    "xx3=xx2.astype('int8')\n",
    "A=np.ones(1000)"
   ]
  },
  {
   "cell_type": "code",
   "execution_count": null,
   "metadata": {},
   "outputs": [],
   "source": [
    "A2=np.int32(A)"
   ]
  },
  {
   "cell_type": "raw",
   "metadata": {},
   "source": [
    "%timeit A*A2\n",
    "%timeit A*A\n",
    "%timeit x=A2*A2"
   ]
  },
  {
   "cell_type": "raw",
   "metadata": {},
   "source": [
    "%time xx2*xx3.astype('float64')\n",
    "%time xx2*xx2\n",
    "%time yy2=xx2@A\n",
    "%time yy2/=4.1\n",
    "# %time yy=np.tensordot(xx,A,axes=1)"
   ]
  },
  {
   "cell_type": "code",
   "execution_count": null,
   "metadata": {},
   "outputs": [],
   "source": []
  },
  {
   "cell_type": "code",
   "execution_count": null,
   "metadata": {},
   "outputs": [],
   "source": [
    "# %time clG=XI_W_L.cl_tomo()\n",
    "%time clG_nw=XI_W_L_NW.cl_tomo()\n",
    "#%time clH=XI_H.cl_tomo()"
   ]
  },
  {
   "cell_type": "code",
   "execution_count": null,
   "metadata": {},
   "outputs": [],
   "source": [
    "clG_nw['stack'].visualize()"
   ]
  },
  {
   "cell_type": "code",
   "execution_count": null,
   "metadata": {},
   "outputs": [],
   "source": [
    "%time cl_L_nw=clG_nw['stack'].compute()"
   ]
  },
  {
   "cell_type": "code",
   "execution_count": null,
   "metadata": {},
   "outputs": [],
   "source": [
    "clG['cl'].keys()"
   ]
  },
  {
   "cell_type": "raw",
   "metadata": {},
   "source": [
    "Win={corr:{(i,j): corr+(i,j) for (i,j) in XI_W_L.corr_indxs[corr]} for corr in XI_W_L.corrs}\n",
    "Win2={corr[::-1]:{(i,j): corr+(i,j) for (j,i) in XI_W_L.corr_indxs[corr]} for corr in XI_W_L.corrs}\n",
    "\n",
    "#         self.Win.update({corr[::-1]:{(i,j): delayed(self.get_window_power_cl)(corr[::-1],(i,j)) for (j,i) in corr_indxs[corr]} for corr in corrs})"
   ]
  },
  {
   "cell_type": "raw",
   "metadata": {},
   "source": [
    "tr='galaxy'\n",
    "tr2='shear'\n",
    "corr_t=(tr, tr)\n",
    "corrs_t=(tr,tr,tr,tr)\n",
    "indxs_t=(0,0,0,0)\n",
    "indx_t=(0,0)"
   ]
  },
  {
   "cell_type": "raw",
   "metadata": {},
   "source": [
    "from dask.threaded import get"
   ]
  },
  {
   "cell_type": "raw",
   "metadata": {},
   "source": [
    "def return_dict(result):\n",
    "    dic={}\n",
    "    i=0\n",
    "    print(result)\n",
    "    for corr in [(tr,tr),(tr2,tr2)]:\n",
    "        dic[corr]={}\n",
    "        for (i,j) in [(0,0),(1,1)]:\n",
    "            dic[corr][(i,j)]=result[i]\n",
    "            dic[corr[::-1]][(j,i)]=result[i]\n",
    "            i+=1\n",
    "    return dic\n",
    "\n",
    "def return_dict2(result):\n",
    "    dic={}\n",
    "    i=0\n",
    "    print(result)\n",
    "    for corr in [(tr,tr),(tr2,tr2)]:\n",
    "        dic[corr]={}\n",
    "        for (i,j) in [(0,0),(1,1)]:\n",
    "            dic[corr][(i,j)]=result[corr][(i,j)]\n",
    "            dic[corr[::-1]][(j,i)]=result[corr][(i,j)]\n",
    "            i+=1\n",
    "    return dic"
   ]
  },
  {
   "cell_type": "raw",
   "metadata": {},
   "source": [
    "dsk2={corr+indx: delayed(XI_W_L.Win.get_window_power_cl)(corr,indx) for indx in [(0,0),(1,1)] for corr in [(tr,tr),(tr2,tr2)]}\n",
    "      \n",
    "# dsk22= {'W1': (return_dict2, {corr:{indx:corr+indx for indx in [(0,0),(1,1)]} for corr in [(tr,tr),(tr2,tr2)]}) }\n",
    "dsk22= {'W1': (return_dict, [corr+indx for corr in [(tr,tr),(tr2,tr2)] for indx in [(0,0),(1,1)]]) }"
   ]
  },
  {
   "cell_type": "raw",
   "metadata": {},
   "source": [
    "[corr+indx for corr in [(tr,tr),(tr2,tr2)] for indx in [(0,0),(1,1)] ]"
   ]
  },
  {
   "cell_type": "raw",
   "metadata": {},
   "source": [
    "dsk2.update(dsk22)"
   ]
  },
  {
   "cell_type": "raw",
   "metadata": {},
   "source": [
    "dsk2['W1']"
   ]
  },
  {
   "cell_type": "raw",
   "metadata": {},
   "source": [
    "%time ww=get(dsk2,'W1')"
   ]
  },
  {
   "cell_type": "raw",
   "metadata": {},
   "source": [
    "ww"
   ]
  },
  {
   "cell_type": "raw",
   "metadata": {},
   "source": [
    "dask.__version__"
   ]
  },
  {
   "cell_type": "raw",
   "metadata": {},
   "source": [
    "dask.visualize(dsk2)"
   ]
  },
  {
   "cell_type": "raw",
   "metadata": {},
   "source": [
    "x=get(dsk2,(tr,tr,0,0))"
   ]
  },
  {
   "cell_type": "raw",
   "metadata": {},
   "source": [
    "x"
   ]
  },
  {
   "cell_type": "raw",
   "metadata": {},
   "source": [
    "XI_W_L.Win.Win_cov"
   ]
  },
  {
   "cell_type": "raw",
   "metadata": {},
   "source": [
    "dask.visualize(XI_W_L.Win.Win_cov)"
   ]
  },
  {
   "cell_type": "raw",
   "metadata": {},
   "source": [
    "crash"
   ]
  },
  {
   "cell_type": "raw",
   "metadata": {},
   "source": [
    "XI_W_L.l_bins=l_bins\n",
    "XI_W_L_NW.l_bins=l_bins\n",
    "XI_W_L.set_HT(HT=WT_L,HT_kwargs=None)\n",
    "XI_W_L_NW.set_HT(HT=WT_L,HT_kwargs=None)\n",
    "XI_W_L.set_bin_params()\n",
    "XI_W_L_NW.set_bin_params()"
   ]
  },
  {
   "cell_type": "raw",
   "metadata": {},
   "source": [
    "corr=('shear','shear')"
   ]
  },
  {
   "cell_type": "raw",
   "metadata": {},
   "source": [
    "gg_i=[(i,i) for i in np.arange(zl_bins['n_bins'])]\n",
    "XI_W_L.stack_indxs[corr_gg]=gg_i\n"
   ]
  },
  {
   "cell_type": "raw",
   "metadata": {},
   "source": [
    "# %time xiHG=XI_H.xi_tomo()\n",
    "# %time xiHG2=XI_H2.xi_tomo()"
   ]
  },
  {
   "cell_type": "code",
   "execution_count": null,
   "metadata": {},
   "outputs": [],
   "source": [
    "bi=(0,0)\n",
    "corr=corr_ggl\n",
    "cov_t=clG['cov'][corr+corr][(0,0,0,0)].compute()\n",
    "cl_bt=clG['cl_b'][corr][(0,0)].compute()\n",
    "cl_btnw=clG_nw['cl_b'][corr][(0,0)].compute()\n",
    "cov_tnw=clG_nw['cov'][corr+corr][(0,0,0,0)].compute()"
   ]
  },
  {
   "cell_type": "raw",
   "metadata": {},
   "source": [
    "np.sqrt(cov_tnw['SSC_b']/cov_t['SSC_b'])"
   ]
  },
  {
   "cell_type": "code",
   "execution_count": null,
   "metadata": {},
   "outputs": [],
   "source": [
    "nn='G1324'\n",
    "plot(np.diag(cov_t[nn])/np.diag(cov_tnw[nn]))\n",
    "loglog()"
   ]
  },
  {
   "cell_type": "code",
   "execution_count": null,
   "metadata": {},
   "outputs": [],
   "source": [
    "plot(np.diag(cov_t['final_b'])/np.diag(cov_tnw['final_b']))\n",
    "# loglog()"
   ]
  },
  {
   "cell_type": "code",
   "execution_count": null,
   "metadata": {},
   "outputs": [],
   "source": [
    "crash"
   ]
  },
  {
   "cell_type": "code",
   "execution_count": null,
   "metadata": {},
   "outputs": [],
   "source": [
    "plot(np.diag(cov_t['final_b']))\n",
    "plot(cl_bt**2)\n",
    "plot(np.diag(cov_tnw['final_b']),':')\n",
    "plot(cl_btnw**2,':')\n",
    "loglog()"
   ]
  },
  {
   "cell_type": "code",
   "execution_count": null,
   "metadata": {},
   "outputs": [],
   "source": [
    "cc=XI_W_L.cov_utils\n",
    "corrW=cc.corr_matrix(cov_t['final_b'])\n",
    "corrW-=np.diag(np.diag(corrW))\n",
    "pcolor(corrW,vmin=-.1,vmax=.1,cmap='seismic')\n",
    "xticks([])\n",
    "yticks([])\n",
    "colorbar()\n",
    "show()\n",
    "\n"
   ]
  },
  {
   "cell_type": "code",
   "execution_count": null,
   "metadata": {
    "scrolled": false
   },
   "outputs": [],
   "source": [
    "cc=XI_W_L.cov_utils\n",
    "corrW=cc.corr_matrix(cl_L_nw['cov'])\n",
    "pcolor(corrW,vmin=-1,vmax=1,cmap='seismic')\n",
    "xticks([])\n",
    "yticks([])\n",
    "colorbar()\n",
    "show()\n"
   ]
  },
  {
   "cell_type": "code",
   "execution_count": null,
   "metadata": {},
   "outputs": [],
   "source": [
    "XI_W_L.Win.Win['cov'][(corr_ll+corr_ll)][bi+bi]['Om_w'],XI_W_L_NW.cov_utils.Om_W"
   ]
  },
  {
   "cell_type": "code",
   "execution_count": null,
   "metadata": {},
   "outputs": [],
   "source": [
    "plot(XI_W_L.Win.Win['cov'][(corr_ll+corr_ll)][bi+bi]['mask_comb_cl'])\n",
    "plot(XI_W_L_NW.cov_utils.Win)\n",
    "yscale('log')"
   ]
  },
  {
   "cell_type": "code",
   "execution_count": null,
   "metadata": {},
   "outputs": [],
   "source": [
    "XI_W_L.Win.Win['cov'][corr_ll+corr_ll][bi+bi]['mask_comb_cl']"
   ]
  },
  {
   "cell_type": "code",
   "execution_count": null,
   "metadata": {},
   "outputs": [],
   "source": [
    "XI_W_L_NW.f_sky"
   ]
  },
  {
   "cell_type": "code",
   "execution_count": null,
   "metadata": {},
   "outputs": [],
   "source": [
    "XI_W_L_NW.cov_utils.Win"
   ]
  },
  {
   "cell_type": "code",
   "execution_count": null,
   "metadata": {},
   "outputs": [],
   "source": [
    "cc=XI_W_L.cov_utils\n",
    "corrW=cc.corr_matrix(cl_L['cov'])\n",
    "pcolor(corrW,vmin=-1,vmax=1,cmap='seismic')\n",
    "# xlabel(r'$\\theta$ (degrees)')\n",
    "# ylabel(r'$\\theta$ (degrees)')\n",
    "title('Wigner')\n",
    "# hlines(60,0,120)\n",
    "# vlines(60,0,120)\n",
    "xticks([])\n",
    "yticks([])\n",
    "\n",
    "\n",
    "colorbar()\n",
    "show()\n",
    "# corrL=cc.corr_matrix(clL['cov'])\n",
    "# pcolor(corrL,vmin=-1,vmax=1,cmap='seismic')"
   ]
  },
  {
   "cell_type": "code",
   "execution_count": null,
   "metadata": {
    "scrolled": true
   },
   "outputs": [],
   "source": [
    "linalg.cond(cl_L['cov']) #< 1/sys.float_info.epsilon"
   ]
  },
  {
   "cell_type": "code",
   "execution_count": null,
   "metadata": {},
   "outputs": [],
   "source": [
    "N=np.linalg.norm(cl_L['cov'])\n",
    "np.linalg.det(cl_L['cov']*5.e20)"
   ]
  },
  {
   "cell_type": "code",
   "execution_count": null,
   "metadata": {
    "scrolled": true
   },
   "outputs": [],
   "source": [
    "cov_inv=np.linalg.inv(cl_L['cov'])\n",
    "cov_nw_inv=np.linalg.inv(cl_L_nw['cov'])\n",
    "SN=cl_L['cl_b']@cov_inv@cl_L['cl_b']\n",
    "SN_nw=cl_L_nw['cl_b']@cov_nw_inv@cl_L_nw['cl_b']\n",
    "SN,SN_nw,SN/SN_nw"
   ]
  },
  {
   "cell_type": "raw",
   "metadata": {},
   "source": [
    "%time xiH=xiHG['stack'].compute()\n",
    "#%time xiH2=xiHG2['stack'].compute()\n",
    "# %time xiH2=xiHG2['stack'].compute()"
   ]
  },
  {
   "cell_type": "raw",
   "metadata": {},
   "source": [
    "tr='galaxy'\n",
    "corr_t=(tr, tr)\n",
    "corrs_t=(tr,tr,tr,tr)\n",
    "indxs_t=(0,0,0,0)\n",
    "indx_t=(0,0)\n",
    "win_t=XI_W_L.Win.Win['cov'][corrs_t][indxs_t]['M1423'].compute()\n",
    "win0_t=XI_W_L.Win.Win[corr_t][indx_t]['M'].compute()\n",
    "cl_t=clG['cl_b'][corr_t].compute()[corr_t][indx_t]\n",
    "cl_t_nw=clG_nw['cl_b'][corr_t].compute()[corr_t][indx_t]\n",
    "cov_t=clG['cov'][corrs_t][indxs_t].compute()\n",
    "cov_t_nw=clG_nw['cov'][corrs_t][indxs_t].compute()\n",
    "l=XI_W_L.l\n",
    "\n",
    "cov_inv=np.linalg.inv(cov_t['final_b'])\n",
    "cov_nw_inv=np.linalg.inv(cov_t_nw['final_b'])\n",
    "SN=cl_t@cov_inv@cl_t\n",
    "SN_nw=cl_t_nw@cov_nw_inv@cl_t_nw\n",
    "SN,SN_nw,SN/SN_nw"
   ]
  },
  {
   "cell_type": "raw",
   "metadata": {},
   "source": [
    "M_inv=np.linalg.inv(win0_t)\n",
    "cvv=M_inv@cov_t['final']@M_inv.T\n",
    "# np.diag(cov_t['final'])/np.diag(cov_t_nw['final']),np.diag(cvv)/np.diag(cov_t_nw['final'])"
   ]
  },
  {
   "cell_type": "code",
   "execution_count": null,
   "metadata": {},
   "outputs": [],
   "source": [
    "%time xiWG_L=XI_W_L.xi_tomo()\n",
    "%time xiWG_L_nw=XI_W_L_NW.xi_tomo()\n",
    "\n",
    "%time xiW_L=xiWG_L['stack'].compute()\n",
    "%time xiW_L_nw=xiWG_L_nw['stack'].compute()"
   ]
  },
  {
   "cell_type": "code",
   "execution_count": null,
   "metadata": {
    "scrolled": false
   },
   "outputs": [],
   "source": [
    "%time xiW_L=xiWG_L['stack'].compute()\n",
    "%time xiW_L_nw=xiWG_L_nw['stack'].compute()"
   ]
  },
  {
   "cell_type": "code",
   "execution_count": null,
   "metadata": {},
   "outputs": [],
   "source": [
    "XI_W_L.corrs"
   ]
  },
  {
   "cell_type": "code",
   "execution_count": null,
   "metadata": {},
   "outputs": [],
   "source": [
    "XI_W_L.Win.Win.keys()"
   ]
  },
  {
   "cell_type": "raw",
   "metadata": {},
   "source": [
    "#crash\n",
    "fname='cosmolike_covariance_test_wigner_3x2.pkl'\n",
    "with open(fname,\"wb\") as of:\n",
    "    pickle.dump(xiW_L,of)"
   ]
  },
  {
   "cell_type": "code",
   "execution_count": null,
   "metadata": {},
   "outputs": [],
   "source": [
    "f=1\n",
    "xiW_L_nw_inv=np.linalg.inv(xiW_L_nw['cov']*f)\n",
    "print ((np.dot(xiW_L_nw['xi'],np.dot(xiW_L_nw_inv,xiW_L_nw['xi']))))\n",
    "\n",
    "cov_xiWL_inv=np.linalg.inv(xiW_L['cov']*f)\n",
    "print ((np.dot(xiW_L['xi'],np.dot(cov_xiWL_inv,xiW_L['xi']))))"
   ]
  },
  {
   "cell_type": "code",
   "execution_count": null,
   "metadata": {},
   "outputs": [],
   "source": [
    "pcolor(xiW_L_nw['cov']/xiW_L['cov'])\n",
    "colorbar()"
   ]
  },
  {
   "cell_type": "code",
   "execution_count": null,
   "metadata": {},
   "outputs": [],
   "source": [
    "pcolor(xiW_L_nw_inv/cov_xiWL_inv)\n",
    "colorbar()"
   ]
  },
  {
   "cell_type": "raw",
   "metadata": {},
   "source": [
    "cc=XI_H.cov_utils\n",
    "corrH=cc.corr_matrix(xiH['cov'])\n",
    "pcolor(corrH,vmin=-1,vmax=1,cmap='seismic')\n",
    "# xlabel(r'$\\theta$ (degrees)')\n",
    "# ylabel(r'$\\theta$ (degrees)')\n",
    "title('Hankel')\n",
    "# hlines(60,0,120)\n",
    "# vlines(60,0,120)\n",
    "xticks([])\n",
    "yticks([])\n",
    "\n",
    "\n",
    "colorbar()\n",
    "show()\n",
    "# corrL=cc.corr_matrix(clL['cov'])\n",
    "# pcolor(corrL,vmin=-1,vmax=1,cmap='seismic')"
   ]
  },
  {
   "cell_type": "code",
   "execution_count": null,
   "metadata": {},
   "outputs": [],
   "source": [
    "cc=XI_W_L.cov_utils\n",
    "corrW=cc.corr_matrix(cl_L['cov'])\n",
    "pcolor(corrW,vmin=-1,vmax=1,cmap='seismic')\n",
    "# xlabel(r'$\\theta$ (degrees)')\n",
    "# ylabel(r'$\\theta$ (degrees)')\n",
    "title('$C_\\ell$')\n",
    "# hlines(60,0,120)\n",
    "# vlines(60,0,120)\n",
    "xticks([])\n",
    "yticks([])\n",
    "\n",
    "\n",
    "colorbar()\n",
    "show()\n",
    "# corrL=cc.corr_matrix(clL['cov'])\n",
    "# pcolor(corrL,vmin=-1,vmax=1,cmap='seismic')"
   ]
  },
  {
   "cell_type": "code",
   "execution_count": null,
   "metadata": {},
   "outputs": [],
   "source": [
    "cc=XI_W_L.cov_utils\n",
    "corrW=cc.corr_matrix(cl_L_nw['cov'])\n",
    "pcolor(corrW,vmin=-1,vmax=1,cmap='seismic')\n",
    "# xlabel(r'$\\theta$ (degrees)')\n",
    "# ylabel(r'$\\theta$ (degrees)')\n",
    "title('$C_\\ell$-NW')\n",
    "# hlines(60,0,120)\n",
    "# vlines(60,0,120)\n",
    "xticks([])\n",
    "yticks([])\n",
    "\n",
    "\n",
    "colorbar()\n",
    "show()\n",
    "# corrL=cc.corr_matrix(clL['cov'])\n",
    "# pcolor(corrL,vmin=-1,vmax=1,cmap='seismic')"
   ]
  },
  {
   "cell_type": "code",
   "execution_count": null,
   "metadata": {},
   "outputs": [],
   "source": [
    "R=np.diag(cl_L_nw['cov']/cl_L['cov'])\n",
    "plot(R)"
   ]
  },
  {
   "cell_type": "code",
   "execution_count": null,
   "metadata": {},
   "outputs": [],
   "source": [
    "cc=XI_W_L.cov_utils\n",
    "corrW=cc.corr_matrix(xiW_L['cov'])\n",
    "pcolor(corrW,vmin=-1,vmax=1,cmap='seismic')\n",
    "# xlabel(r'$\\theta$ (degrees)')\n",
    "# ylabel(r'$\\theta$ (degrees)')\n",
    "title('Wigner-W')\n",
    "# hlines(60,0,120)\n",
    "# vlines(60,0,120)\n",
    "xticks([])\n",
    "yticks([])\n",
    "\n",
    "\n",
    "colorbar()\n",
    "show()\n",
    "# corrL=cc.corr_matrix(clL['cov'])\n",
    "# pcolor(corrL,vmin=-1,vmax=1,cmap='seismic')"
   ]
  },
  {
   "cell_type": "code",
   "execution_count": null,
   "metadata": {},
   "outputs": [],
   "source": [
    "cc=XI_W_L.cov_utils\n",
    "corrNW=cc.corr_matrix(xiW_L_nw['cov'])\n",
    "pcolor(corrNW,vmin=-1,vmax=1,cmap='seismic')\n",
    "# xlabel(r'$\\theta$ (degrees)')\n",
    "# ylabel(r'$\\theta$ (degrees)')\n",
    "title('Wigner-NW')\n",
    "# hlines(60,0,120)\n",
    "# vlines(60,0,120)\n",
    "xticks([])\n",
    "yticks([])\n",
    "\n",
    "\n",
    "colorbar()\n",
    "show()\n",
    "# corrL=cc.corr_matrix(clL['cov'])\n",
    "# pcolor(corrL,vmin=-1,vmax=1,cmap='seismic')"
   ]
  },
  {
   "cell_type": "code",
   "execution_count": null,
   "metadata": {},
   "outputs": [],
   "source": [
    "pcolor(corrW/corrNW-1,vmin=-1,vmax=1,cmap='seismic')\n",
    "# xlabel(r'$\\theta$ (degrees)')\n",
    "# ylabel(r'$\\theta$ (degrees)')\n",
    "title('Wigner')\n",
    "# hlines(60,0,120)\n",
    "# vlines(60,0,120)\n",
    "xticks([])\n",
    "yticks([])\n",
    "\n",
    "\n",
    "colorbar()\n",
    "show()\n",
    "# corrL=cc.corr_matrix(clL['cov'])\n",
    "# pcolor(corrL,vmin=-1,vmax=1,cmap='seismic')"
   ]
  },
  {
   "cell_type": "code",
   "execution_count": null,
   "metadata": {},
   "outputs": [],
   "source": [
    "XI_W_L.cov_utils.gaussian_cov_norm_2D"
   ]
  },
  {
   "cell_type": "code",
   "execution_count": null,
   "metadata": {},
   "outputs": [],
   "source": [
    "np.diag(xiW_L_nw['cov'])/np.diag(xiW_L['cov'])"
   ]
  },
  {
   "cell_type": "code",
   "execution_count": null,
   "metadata": {},
   "outputs": [],
   "source": [
    "5.25/1.93"
   ]
  },
  {
   "cell_type": "code",
   "execution_count": null,
   "metadata": {},
   "outputs": [],
   "source": [
    "x=np.array([1,0.5,0.1,0.3,0.7])\n",
    "plot(x,[1,1.93,5.25,2.85,1.37],'bo')\n",
    "plot(x,1./x,'ro')\n",
    "yscale('log')\n",
    "xscale('log')"
   ]
  },
  {
   "cell_type": "code",
   "execution_count": null,
   "metadata": {},
   "outputs": [],
   "source": [
    "xiW_L_nw['cov']/xiW_L['cov']"
   ]
  },
  {
   "cell_type": "code",
   "execution_count": null,
   "metadata": {},
   "outputs": [],
   "source": [
    "xiW_L_nw['xi']/xiW_L['xi']"
   ]
  },
  {
   "cell_type": "code",
   "execution_count": null,
   "metadata": {},
   "outputs": [],
   "source": []
  }
 ],
 "metadata": {
  "hide_input": false,
  "kernelspec": {
   "display_name": "Python 3",
   "language": "python",
   "name": "python3"
  },
  "language_info": {
   "codemirror_mode": {
    "name": "ipython",
    "version": 3
   },
   "file_extension": ".py",
   "mimetype": "text/x-python",
   "name": "python",
   "nbconvert_exporter": "python",
   "pygments_lexer": "ipython3",
   "version": "3.7.3"
  }
 },
 "nbformat": 4,
 "nbformat_minor": 2
}
