{
 "cells": [
  {
   "cell_type": "code",
   "execution_count": 1,
   "metadata": {},
   "outputs": [],
   "source": [
    "import sys\n",
    "import pyccl as ccl\n",
    "import pickle\n",
    "import camb\n",
    "sys.path.insert(0,'./')\n",
    "from importlib import reload\n",
    "from astropy.cosmology import Planck15 as cosmo\n",
    "from astropy.cosmology import default_cosmology\n",
    "from astropy import units\n",
    "import astropy\n",
    "import time\n",
    "\n",
    "import psutil\n",
    "from distributed.utils import format_bytes\n",
    "\n",
    "#only for python3\n",
    "import importlib\n",
    "reload=importlib.reload"
   ]
  },
  {
   "cell_type": "code",
   "execution_count": 2,
   "metadata": {},
   "outputs": [],
   "source": [
    "from cov_3X2 import *\n",
    "# from fisher import *\n",
    "from PCA_shear import *"
   ]
  },
  {
   "cell_type": "code",
   "execution_count": 3,
   "metadata": {},
   "outputs": [],
   "source": [
    "import PCA_shear\n",
    "reload(PCA_shear)\n",
    "from PCA_shear import *"
   ]
  },
  {
   "cell_type": "code",
   "execution_count": 4,
   "metadata": {},
   "outputs": [],
   "source": [
    "import cov_3X2\n",
    "reload(cov_3X2)\n",
    "from cov_3X2 import *"
   ]
  },
  {
   "cell_type": "code",
   "execution_count": 5,
   "metadata": {},
   "outputs": [],
   "source": [
    "import lsst_utils\n",
    "reload(lsst_utils)\n",
    "from lsst_utils import *"
   ]
  },
  {
   "cell_type": "code",
   "execution_count": 6,
   "metadata": {},
   "outputs": [],
   "source": [
    "fig_home='./figures/'\n",
    "fig_format='pdf'"
   ]
  },
  {
   "cell_type": "code",
   "execution_count": 7,
   "metadata": {},
   "outputs": [],
   "source": [
    "from distributed import LocalCluster\n",
    "from dask.distributed import Client  # we already had this above\n",
    "#http://distributed.readthedocs.io/en/latest/_modules/distributed/worker.html\n",
    "LC=LocalCluster(n_workers=1,processes=False,memory_limit='60gb',threads_per_worker=8,memory_spill_fraction=.99,\n",
    "               memory_monitor_interval='2000ms')\n",
    "client=Client(LC)"
   ]
  },
  {
   "cell_type": "code",
   "execution_count": 8,
   "metadata": {},
   "outputs": [
    {
     "data": {
      "text/html": [
       "<table style=\"border: 2px solid white;\">\n",
       "<tr>\n",
       "<td style=\"vertical-align: top; border: 0px solid white\">\n",
       "<h3>Client</h3>\n",
       "<ul>\n",
       "  <li><b>Scheduler: </b>inproc://136.152.250.183/10207/1\n",
       "  <li><b>Dashboard: </b><a href='http://localhost:8787/status' target='_blank'>http://localhost:8787/status</a>\n",
       "</ul>\n",
       "</td>\n",
       "<td style=\"vertical-align: top; border: 0px solid white\">\n",
       "<h3>Cluster</h3>\n",
       "<ul>\n",
       "  <li><b>Workers: </b>1</li>\n",
       "  <li><b>Cores: </b>8</li>\n",
       "  <li><b>Memory: </b>60.00 GB</li>\n",
       "</ul>\n",
       "</td>\n",
       "</tr>\n",
       "</table>"
      ],
      "text/plain": [
       "<Client: scheduler='inproc://136.152.250.183/10207/1' processes=1 cores=8>"
      ]
     },
     "execution_count": 8,
     "metadata": {},
     "output_type": "execute_result"
    }
   ],
   "source": [
    "client.restart()"
   ]
  },
  {
   "cell_type": "raw",
   "metadata": {},
   "source": [
    "\n",
    "dask.config.set(scheduler='synchronous')  # overwrite default with single-threaded scheduler"
   ]
  },
  {
   "cell_type": "code",
   "execution_count": 9,
   "metadata": {},
   "outputs": [
    {
     "data": {
      "text/plain": [
       "w0waCDM(H0=67.7 km / (Mpc s), Om0=0.307, Ode0=0.691, w0=-1, wa=0, Tcmb0=2.725 K, Neff=3.05, m_nu=[0.   0.   0.06] eV, Ob0=0.0486)"
      ]
     },
     "execution_count": 9,
     "metadata": {},
     "output_type": "execute_result"
    }
   ],
   "source": [
    "def cosmo_w0_wa(cosmo=None,w0=-1,wa=0):\n",
    "    attrs=['H0','Om0', 'Ode0','Tcmb0', 'Neff', 'm_nu', 'Ob0']\n",
    "    args={}\n",
    "    args['w0']=w0\n",
    "    args['wa']=wa\n",
    "    for a in attrs:\n",
    "        args[a]=getattr(cosmo,a)\n",
    "    cosmo_w=astropy.cosmology.w0waCDM(**args)\n",
    "    return cosmo_w\n",
    "cosmo_w0_wa(cosmo=cosmo)"
   ]
  },
  {
   "cell_type": "code",
   "execution_count": 10,
   "metadata": {},
   "outputs": [],
   "source": [
    "def cosmo_h_set(cosmo=None,cosmo_params={}):\n",
    "    if cosmo_params['wa']!=0:\n",
    "        cosmo=cosmo_w0_wa(cosmo=cosmo,w0=cosmo_params['w'],wa=cosmo_params['wa'])\n",
    "    cosmo2=cosmo.clone(H0=cosmo_params['h']*100,\n",
    "                        Om0=cosmo_params['Om'],\n",
    "                       Ob0=cosmo_params['Omb'],\n",
    "#                        Odm0=cosmo_params['Omd'],\n",
    "#                        Ok0=cosmo_params['Omk'],\n",
    "#                        w=cosmo_params['w'],\n",
    "                       m_nu=[0,0,cosmo_params['mnu']]*units.eV\n",
    "                    )"
   ]
  },
  {
   "cell_type": "code",
   "execution_count": 11,
   "metadata": {},
   "outputs": [],
   "source": [
    "def get_x_var(x0=None,dx_max=0.01,do_log=False,Nx=2):\n",
    "    Dx=np.linspace((1-dx_max),(1+dx_max),Nx)\n",
    "    if do_log:\n",
    "        x0=np.absolute(x0)\n",
    "        x_vars=x0**Dx\n",
    "        if x0==1:\n",
    "            x_vars=(2.**Dx)/2. # 1**x=1\n",
    "        if x0==0:\n",
    "            x_vars=np.logspace(-3,-2,Nx)\n",
    "        x_vars*=np.sign(cosmo_fid[p])\n",
    "        x_grad=np.gradient(np.log(x_vars))\n",
    "    else:\n",
    "        x_vars=x0*Dx #np.linspace(x0*(1-dx_max),x0*(1+dx_max),Nx)\n",
    "        if x0==0:\n",
    "            x_vars=Dx-1\n",
    "        x_grad=np.gradient(x_vars)\n",
    "    return x_vars,x_grad"
   ]
  },
  {
   "cell_type": "code",
   "execution_count": 12,
   "metadata": {},
   "outputs": [],
   "source": [
    "def fish_cosmo_model(p='As',Nx=2,dx_max=0.01,do_log=False,kappa_class=None,do_cov=False,z_bins_kwargs={}):\n",
    "    x0=cosmo_fid[p]\n",
    "\n",
    "    models={}\n",
    "    covs={}\n",
    "    x_vars,x_grad=get_x_var(x0=x0,dx_max=dx_max,do_log=do_log,Nx=Nx)\n",
    "    print(p,x_vars)\n",
    "    for i in np.arange(Nx):\n",
    "        cosmo_t=cosmo_fid.copy()\n",
    "\n",
    "        cosmo_t[p]=x_vars[i]\n",
    "\n",
    "        if p=='s8':\n",
    "            s80=cosmo_fid['s8']\n",
    "            cosmo_t['As']*=(cosmo_t['s8']/s80)**2\n",
    "            kappa_class.Ang_PS.PS.get_pk(z=[0],cosmo_params=cosmo_t,return_s8=True)\n",
    "            kappa_class.Ang_PS.PS.pk=None\n",
    "            x_vars[i]=kappa_class.Ang_PS.PS.s8\n",
    "#                 print(x_vars[p][i],s80,cosmo_t['s8'])\n",
    "        cosmo_h2=cosmo_h_set(cosmo=cosmo,cosmo_params=cosmo_t)\n",
    "        cl0G=kappa_class.cl_tomo(cosmo_params=cosmo_t,cosmo_h=cosmo_h2,stack_corr_indxs=z_bins_kwargs['corr_indxs'])\n",
    "        cl_t=cl0G['stack'].compute()\n",
    "        models[i]=cl_t['cl_b']\n",
    "        covs[i]=cl_t['cov']\n",
    "        kappa_class.Ang_PS.reset()\n",
    "    return models,covs,x_vars,x_grad"
   ]
  },
  {
   "cell_type": "code",
   "execution_count": 13,
   "metadata": {},
   "outputs": [],
   "source": [
    "def pz_update(z_bins={},bin_indx=None,z_indx=None,pz_new=None):\n",
    "    z_bins[bin_indx]['pz'][z_indx]=pz_new\n",
    "    z_bins=zbin_pz_norm(zs_bins=z_bins,bin_indx=bin_indx,zs=z_bins[bin_indx]['z'],p_zs=z_bins[bin_indx]['pz'],ns=z_bins[bin_indx]['ns'])\n",
    "    return z_bins"
   ]
  },
  {
   "cell_type": "raw",
   "metadata": {},
   "source": [
    "%time f=fisher_calc(cosmo_params=cosmo_params,z_params=pz_params,galaxy_params=galaxy_params,kappa_class=kappa_class,clS=cl_L,z_bins_kwargs=z_bins_kwargs,priors=priors)"
   ]
  },
  {
   "cell_type": "code",
   "execution_count": 14,
   "metadata": {},
   "outputs": [],
   "source": [
    "def set_zbin_bias0(zs_bins={},bias=0):\n",
    "    bias0=np.copy(zs_bins['zp_bias'])\n",
    "    bias0=bias*(1+zs_bins['zp'])\n",
    "    return bias0\n",
    "\n",
    "def set_zbin_bias(zs_bins={},bias=0,bin_id=0):\n",
    "    bias0=np.copy(zs_bins['zp_bias'])\n",
    "    idx=np.digitize(zs_bins['zp'],zs_bins['z_bins'])-1\n",
    "    bias0[np.where(idx==bin_id)]=bias\n",
    "    return bias0\n",
    "\n",
    "def set_zbin_sigma(zs_bins={},zsigma_frac=1,bin_id=0):\n",
    "    zp_sigma=np.copy(zs_bins['zp_sigma'])\n",
    "    idx=np.digitize(zs_bins['zp'],zs_bins['z_bins'])-1\n",
    "    zp_sigma[np.where(idx==bin_id)]=zp_sigma[np.where(idx==bin_id)]*zsigma_frac\n",
    "    return zp_sigma\n",
    "    \n",
    "def fish_z_model(p='pz_b_s_1',Nx=2,dx_max=0.01,kappa_class=None,do_cov=False,do_log=False,z_bins_kwargs0={}):\n",
    "    z_bins_kwargs=z_bins_kwargs0.copy()\n",
    "    zs_bins=z_bins_kwargs['zs_bins']\n",
    "    zl_bins=z_bins_kwargs['zl_bins']\n",
    "    zlD_bins=z_bins_kwargs['zlD_bins']\n",
    "    if 'pz_b' in p:\n",
    "        x0=0\n",
    "    elif 'nz' in p:\n",
    "        pp=p.split('_')\n",
    "        bin_id=np.int(pp[-2])\n",
    "        z_id=np.int(pp[-1])\n",
    "        print(bin_id,z_id)\n",
    "        if 'nz_s' in p:\n",
    "            x0=zs_bins[bin_id]['pz'][z_id]\n",
    "        elif 'nz_l' in p:\n",
    "            x0=zl_bins[bin_id]['pz'][z_id]\n",
    "            \n",
    "        if x0<1.e-5:\n",
    "            x0=0\n",
    "    else:\n",
    "        x0=1\n",
    "        \n",
    "    x_vars,x_grad=get_x_var(x0=x0,dx_max=dx_max,do_log=do_log,Nx=Nx)\n",
    "    \n",
    "    models={}\n",
    "    covs={}\n",
    "    print(p,x_vars)\n",
    "    for i in np.arange(Nx):\n",
    "        zs_bins_i=zs_bins.copy()\n",
    "        zl_bins_i=zl_bins.copy()\n",
    "        if 'pz_B' in p:\n",
    "            bias=set_zbin_bias0(zs_bins=zs_bins,bias=x_vars[i])\n",
    "            zs_bins_kwargs['z_bias']=bias\n",
    "            zs_bins_i=lsst_source_tomo_bins(**zs_bins_kwargs)\n",
    "        elif 'pz_b_s' in p:\n",
    "            bin_id=np.int(p[-1])\n",
    "            bias=set_zbin_bias(zs_bins=zs_bins,bias=x_vars[i],bin_id=bin_id)\n",
    "#             zs_bins_kwargs['z_bias']=bias\n",
    "            zs_bins_i=lsst_source_tomo_bins(z_bias=bias, nbins=z_bins_kwargs['ns_bins'],ns0=z_bins_kwargs['nsource'],z_sigma=z_bins_kwargs['z_source_sigma'],\n",
    "                                            **z_bins_kwargs)\n",
    "        elif 'pz_b_l' in p:\n",
    "            bin_id=np.int(p[-1])#-zs_bins['n_bins']\n",
    "            bias=set_zbin_bias(zs_bins=zl_bins,bias=x_vars[i],bin_id=bin_id)\n",
    "\n",
    "            zl_bins_i=lsst_source_tomo_bins(z_bias=bias,nbins=z_bins_kwargs['n_lens_bins'],ns0=z_bins_kwargs['nlens'],z_sigma=z_bins_kwargs['z_lens_sigma'],\n",
    "                                            **z_bins_kwargs)\n",
    "        elif 'nz_s' in p:\n",
    "            zs_bins_i=pz_update(z_bins=zs_bins_i,bin_indx=bin_id,z_indx=z_id,pz_new=x_vars[i])\n",
    "        elif 'nz_l' in p:\n",
    "            zl_bins_i=pz_update(z_bins=zl_bins_i,bin_indx=bin_id,z_indx=z_id,pz_new=x_vars[i])\n",
    "\n",
    "        elif 'sig' in p:\n",
    "            bin_id=np.int(p[-1])\n",
    "            zp_sigma=set_zbin_sigma(zs_bins=zs_bins,zsigma_frac=x_vars[i],bin_id=0)\n",
    "            zs_bins_kwargs['z_sigma']=zp_sigma\n",
    "            zs_bins_i=lsst_source_tomo_bins(**zs_bins_kwargs)\n",
    "                \n",
    "        zl_bins_comb=combine_zbins(z_bins1=zl_bins_i,z_bins2=zlD_bins)\n",
    "        zl_bins_comb=combine_zbins(z_bins1=zs_bins_i,z_bins2=zl_bins_comb)\n",
    "        kappa_class.update_zbins(z_bins=zs_bins_i,probe='shear')\n",
    "        kappa_class.update_zbins(z_bins=zl_bins_comb,probe='galaxy')\n",
    "        cl0G=kappa_class.cl_tomo(stack_corr_indxs=z_bins_kwargs0['corr_indxs'])\n",
    "        cl_t=cl0G['stack'].compute()\n",
    "        models[i]=cl_t['cl_b']\n",
    "        covs[i]=cl_t['cov']\n",
    "        kappa_class.Ang_PS.reset()\n",
    "    kappa_class.update_zbins(z_bins=zs_bins,probe='shear')\n",
    "    return models,covs,x_vars,x_grad"
   ]
  },
  {
   "cell_type": "code",
   "execution_count": 15,
   "metadata": {},
   "outputs": [],
   "source": [
    "def fish_galaxy_model(p='g_b_l_11',Nx=2,dx_max=0.01,kappa_class=None,do_cov=False,do_log=False,z_bins_kwargs0={}):\n",
    "    \n",
    "    z_bins_kwargs=z_bins_kwargs0.copy()\n",
    "    zs_bins=z_bins_kwargs['zs_bins']\n",
    "    z_bins=kappa_class.z_bins['galaxy']\n",
    "    Dx=np.linspace((1-dx_max),(1+dx_max),Nx)\n",
    "\n",
    "    p_n='b'+p[-2]\n",
    "    if 'b' in p:\n",
    "        bin_indx=np.int(p[-1])\n",
    "        if 'l' in p:\n",
    "            bin_indx+=zs_bins['n_bins']\n",
    "        x0=kappa_class.z_bins['galaxy'][bin_indx][p_n]\n",
    "    else:\n",
    "        pass\n",
    "    x_vars,x_grad=get_x_var(x0=x0,dx_max=dx_max,do_log=do_log,Nx=Nx)    \n",
    "    \n",
    "    models={}\n",
    "    covs={}\n",
    "    print(p,x_vars)\n",
    "    for i in np.arange(Nx):\n",
    "        z_bins_t=z_bins.copy()\n",
    "        if 'b' in p:\n",
    "            z_bins_t[bin_indx][p_n]=x_vars[i]\n",
    "        \n",
    "        kappa_class.update_zbins(z_bins=z_bins_t,probe='galaxy')\n",
    "        cl0G=kappa_class.cl_tomo(stack_corr_indxs=z_bins_kwargs0['corr_indxs'])\n",
    "        cl_t=cl0G['stack'].compute()\n",
    "        models[i]=cl_t['cl_b']\n",
    "        covs[i]=cl_t['cov']\n",
    "        kappa_class.Ang_PS.reset()\n",
    "        z_bins_t[bin_indx][p[:-1]]=x0\n",
    "    kappa_class.update_zbins(z_bins=z_bins,probe='galaxy')\n",
    "    return models,covs,x_vars,x_grad    "
   ]
  },
  {
   "cell_type": "code",
   "execution_count": 16,
   "metadata": {},
   "outputs": [],
   "source": [
    "def fish_baryon_model(p='Q1',Nx=2,dx_max=0.01,kappa_class=None,clS=None,cl0=None,do_cov=False,do_log=False,\n",
    "                      z_bins_kwargs0={},NmarQ=2):\n",
    "    Dx=np.linspace((1-dx_max),(1+dx_max),Nx)\n",
    "\n",
    "    if 'Q' in p:\n",
    "        Q_indx=np.int(p[-1])\n",
    "        x0=0\n",
    "    else:\n",
    "        pass\n",
    "    x_vars,x_grad=get_x_var(x0=x0,dx_max=dx_max,do_log=do_log,Nx=Nx)    \n",
    "    \n",
    "    models={}\n",
    "    covs={}\n",
    "    cov_F=1.#/np.median(np.diag(clS['cov']))\n",
    "    print(p,clS['cov'].shape,np.linalg.det(clS['cov']*cov_F))\n",
    "    \n",
    "    PCS=PCA_shear(kappa_class=kappa_class,NmarQ=NmarQ,clS=clS)\n",
    "    \n",
    "    for i in np.arange(Nx):\n",
    "        Q0=[0]*NmarQ\n",
    "        Q0[Q_indx]=x_vars[i]\n",
    "        \n",
    "        cl_t=PCS.compute_modelv_bary(cosmo_params=cosmo_fid,Q=Q0)\n",
    "        models[i]=np.zeros_like(cl0) #this is needed to keep everything in right shape. Baryon stuff is only for shear right now. \n",
    "        models[i][:len(cl_t)]+=cl_t #['cl_b']\n",
    "        models[i][len(cl_t):]+=cl0[len(cl_t):]\n",
    "        print(models[i].shape,PCS.COV.shape)\n",
    "        covs[i]=PCS.COV\n",
    "        kappa_class.Ang_PS.reset()\n",
    "    return models,covs,x_vars,x_grad    \n",
    "\n",
    "# PCS=PCA_shear(kappa_class=kappa_class,NmarQ=3)\n",
    "# cl_t1=PCS.compute_modelv_bary(cosmo_params=cosmo_fid,Q=[-10,-10,-10])\n",
    "# cl_t0=PCS.compute_modelv_bary(cosmo_params=cosmo_fid,Q=[0,0,0])"
   ]
  },
  {
   "cell_type": "raw",
   "metadata": {},
   "source": [
    "%time f=fisher_calc(cosmo_params=cosmo_params,z_params=pz_params[2:],galaxy_params=[],kappa_class=kappa_class,clS=cl_L,z_bins_kwargs=z_bins_kwargs,priors=priors)"
   ]
  },
  {
   "cell_type": "code",
   "execution_count": 17,
   "metadata": {},
   "outputs": [],
   "source": [
    "def fisher_calc(cosmo_params=['As'],z_params=[],galaxy_params=[],baryon_params=[],Nx=2,dx_max=0.01,do_log=False,\n",
    "                kappa_class=None,do_cov=False,baryon_PCA_nQ=2,clS=None,\n",
    "               cov_3X2_kwargs={},z_bins_kwargs={},ell_bin_kwargs={},cl0=None,priors=None):\n",
    "    t1=time.time()\n",
    "    if kappa_class is None:\n",
    "        zs_bins=lsst_source_tomo_bins(**zs_bins_kwargs)\n",
    "        l0,l_bins,l=get_cl_ells(**ell_bin_kwargs)\n",
    "        kappa_class=cov_3X2(l=l0,l_bins=l_bins,zs_bins=zs_bins,**cov_3X2_kwargs)\n",
    "        \n",
    "    do_cov0=np.copy(kappa_class.do_cov)\n",
    "    kappa_class.do_cov=do_cov\n",
    "    cl0G=kappa_class.cl_tomo()\n",
    "    \n",
    "    if clS is None:\n",
    "        kappa_class.do_cov=True #need covariance to start things.\n",
    "        cl0G=kappa_class.cl_tomo()\n",
    "    \n",
    "        clS=cl0G['stack'].compute()\n",
    "#     cl_t=client.submit(cl0G['stack'])\n",
    "    cl0=clS['cl_b']\n",
    "    t2=time.time()\n",
    "    print(cl0G['cov'],t2-t1)\n",
    "    cl_shear=delayed(kappa_class.stack_dat)(dat={'cov':cl0G['cov'],'cl_b':cl0G['cl_b'],'est':'cl_b'},corrs=[corr_ll])\n",
    "    cl_shear=cl_shear.compute()\n",
    "#     cl_t=client.submit(cl0G['stack'])\n",
    "    t3=time.time()\n",
    "    print('shear',t3-t1)\n",
    "    \n",
    "    cosmo_fid=kappa_class.Ang_PS.PS.cosmo_params.copy()\n",
    "    cosmo_h=kappa_class.Ang_PS.PS.cosmo_h.clone()\n",
    "    cov=clS['cov']\n",
    "    kappa_class.Ang_PS.reset()\n",
    "\n",
    "    ndim=len(cosmo_params)+len(z_params)+len(galaxy_params)+len(baryon_params)\n",
    "    params_all=np.append(np.append(cosmo_params,z_params),galaxy_params)\n",
    "    params_all=np.append(params_all,baryon_params)\n",
    "    \n",
    "    x_vars={}\n",
    "    models={}\n",
    "    model_derivs={}\n",
    "    covs={}\n",
    "    cov_derivs={}\n",
    "    x_grads={}\n",
    "    for p in cosmo_params:\n",
    "        models[p],covs[p],x_vars[p],x_grads[p]=fish_cosmo_model(p=p,Nx=Nx,dx_max=dx_max,do_log=do_log,\n",
    "                                                     kappa_class=kappa_class,do_cov=do_cov,z_bins_kwargs=z_bins_kwargs)\n",
    "    for p in z_params:\n",
    "        models[p],covs[p],x_vars[p],x_grads[p]=fish_z_model(p=p,Nx=Nx,dx_max=dx_max,\n",
    "                                                 kappa_class=kappa_class,\n",
    "                                                 do_cov=do_cov,z_bins_kwargs0=z_bins_kwargs)\n",
    "    \n",
    "    for p in galaxy_params:\n",
    "        models[p],covs[p],x_vars[p],x_grads[p]=fish_galaxy_model(p=p,Nx=Nx,dx_max=dx_max,\n",
    "                                                 kappa_class=kappa_class,\n",
    "                                                 do_cov=do_cov,z_bins_kwargs0=z_bins_kwargs)\n",
    "    \n",
    "    for p in baryon_params:\n",
    "        models[p],covs[p],x_vars[p],x_grads[p]=fish_baryon_model(p=p,Nx=Nx,dx_max=dx_max,\n",
    "                                                 kappa_class=kappa_class,clS=cl_shear,cl0=cl0,\n",
    "                                                 do_cov=do_cov,NmarQ=baryon_PCA_nQ)\n",
    "    \n",
    "    for p in params_all:\n",
    "        model_derivs[p]=np.gradient(np.array([models[p][i] for i in np.arange(Nx)]),axis=0).T\n",
    "        model_derivs[p]/=x_grads[p]\n",
    "        model_derivs[p]=model_derivs[p][:,np.int(Nx/2)]\n",
    "        \n",
    "        if do_cov:\n",
    "            cov_derivs[p]=np.gradient(np.array([covs[p][i] for i in np.arange(Nx)]),axis=0).T\n",
    "            cov_derivs[p]/=x_grads[p]\n",
    "#             print(cov_derivs[p].shape,x_grad.shape)\n",
    "            cov_derivs[p]=cov_derivs[p][:,:,np.int(Nx/2)]\n",
    "    \n",
    "    cov_inv=np.linalg.inv(cov)\n",
    "    cov_p_inv=np.zeros([ndim]*2)\n",
    "    i1=0\n",
    "    for p1 in params_all:\n",
    "        i2=0\n",
    "        for p2 in params_all:\n",
    "            cov_p_inv[i1,i2]=np.dot(model_derivs[p1],np.dot(cov_inv,model_derivs[p2]))\n",
    "            \n",
    "            if do_cov:\n",
    "#                 print(cov_p_inv[i1,i2],0.5*np.trace(cov_inv@cov_derivs[p1]@cov_inv@cov_derivs[p2]))\n",
    "                cov_p_inv[i1,i2]+=0.5*np.trace(cov_inv@cov_derivs[p1]@cov_inv@cov_derivs[p2])\n",
    "            i2+=1\n",
    "        i1+=1\n",
    "    out={}\n",
    "    out['cov_p_inv']=np.copy(cov_p_inv)\n",
    "    out['params_all']=params_all\n",
    "    if priors is not None:\n",
    "        out=fish_apply_priors(fish=out,priors=priors)\n",
    "#         i2=0\n",
    "#         for p1 in params_all:\n",
    "#             cov_p_inv[i2,i2]+=1./priors[p1]**2\n",
    "#             i2+=1\n",
    "    try:\n",
    "        out['cov_p']=np.linalg.inv(cov_p_inv)\n",
    "        out['error']=np.sqrt(np.diag(out['cov_p']))\n",
    "    except Exception as err:\n",
    "        print(err)\n",
    "\n",
    "    out['cov_deriv']=cov_derivs\n",
    "    out['model_deriv']=model_derivs\n",
    "    out['cov']=cov\n",
    "    out['cov_inv']=cov_inv\n",
    "    out['model']=models\n",
    "    out['x_vars']=x_vars\n",
    "    \n",
    "    kappa_class.do_cov=do_cov0\n",
    "    return out"
   ]
  },
  {
   "cell_type": "code",
   "execution_count": 18,
   "metadata": {},
   "outputs": [],
   "source": [
    "def fish_apply_priors(priors=None,fish=[]):\n",
    "#     ndim=len(cosmo_params)+len(z_params)+len(galaxy_params)+len(baryon_params)\n",
    "#     params_all=np.append(np.append(cosmo_params,z_params),galaxy_params)\n",
    "#     params_all=np.append(params_all,baryon_params)\n",
    "    params_all=fish['params_all']\n",
    "    ndim=len(params_all)\n",
    "    \n",
    "    cov_p_inv=np.copy(fish['cov_p_inv'])\n",
    "    fish['prior']={}\n",
    "    priors2={}\n",
    "    i2=0\n",
    "    for p1 in params_all:\n",
    "        priors2[p1]=priors[p1]\n",
    "        cov_p_inv[i2,i2]+=1./priors[p1]**2\n",
    "        i2+=1\n",
    "    fish['prior']['cov_p_inv']=cov_p_inv\n",
    "    fish['prior']['prior']=priors2\n",
    "    try:\n",
    "        fish['prior']['cov_p']=np.linalg.inv(cov_p_inv)\n",
    "        fish['prior']['error']=np.sqrt(np.diag(fish['prior']['cov_p']))\n",
    "    except Exception as err:\n",
    "        print(err)\n",
    "    return fish"
   ]
  },
  {
   "cell_type": "code",
   "execution_count": 19,
   "metadata": {},
   "outputs": [],
   "source": [
    "k='corrs3_zmin0_barynQ2_pkfclass_pk_SSVFalse'"
   ]
  },
  {
   "cell_type": "code",
   "execution_count": 20,
   "metadata": {},
   "outputs": [],
   "source": [
    "def get_cl_ells(lmax_cl=1000,lmin_cl=2,Nl_bins=40):\n",
    "    l0=np.arange(lmin_cl,lmax_cl)\n",
    "\n",
    "    lmin_cl_Bins=lmin_cl+10\n",
    "    lmax_cl_Bins=lmax_cl-10\n",
    "    l_bins=np.int64(np.logspace(np.log10(lmin_cl_Bins),np.log10(lmax_cl_Bins),Nl_bins))\n",
    "    \n",
    "\n",
    "    l=np.unique(np.int64(np.logspace(np.log10(lmin_cl),np.log10(lmax_cl),Nl_bins*20))) #if we want to use fewer ell\n",
    "    return l0,l_bins,l\n"
   ]
  },
  {
   "cell_type": "code",
   "execution_count": 21,
   "metadata": {},
   "outputs": [],
   "source": [
    "corr_ggl=('galaxy','shear')\n",
    "corr_gg=('galaxy','galaxy')\n",
    "corr_ll=('shear','shear')\n",
    "# corrs=[corr_ll] #\n",
    "corrs=[corr_ggl,corr_gg,corr_ll]"
   ]
  },
  {
   "cell_type": "code",
   "execution_count": 22,
   "metadata": {},
   "outputs": [],
   "source": [
    "def combine_zbins(z_bins1={},z_bins2={}):\n",
    "    z_bins3=copy.deepcopy(z_bins1)\n",
    "    j=0\n",
    "    for i in np.arange(z_bins1['n_bins'],z_bins1['n_bins']+z_bins2['n_bins']):\n",
    "#         print(i,z_bins2.keys())\n",
    "        z_bins3[i]=copy.deepcopy(z_bins2[j])\n",
    "        j+=1\n",
    "    z_bins3['n_bins']+=z_bins2['n_bins']\n",
    "    nl=z_bins2['SN']['shear'].shape[0]\n",
    "    z_bins3['SN']={}\n",
    "    z_bins3['SN']['galaxy']=np.zeros((nl,z_bins3['n_bins'],z_bins3['n_bins']))\n",
    "    z_bins3['SN']['shear']=np.zeros((nl,z_bins3['n_bins'],z_bins3['n_bins']))\n",
    "    j=0\n",
    "    for i in np.arange(z_bins1['n_bins']):\n",
    "        z_bins3['SN']['galaxy'][:,j,j]+=z_bins1['SN']['galaxy'][:,i,i]\n",
    "        z_bins3['SN']['shear'][:,j,j]+=z_bins1['SN']['shear'][:,i,i]\n",
    "        j+=1\n",
    "    for i in np.arange(z_bins2['n_bins']):\n",
    "        z_bins3['SN']['galaxy'][:,j,j]+=z_bins2['SN']['galaxy'][:,i,i]\n",
    "        z_bins3['SN']['shear'][:,j,j]+=z_bins2['SN']['shear'][:,i,i]\n",
    "        j+=1\n",
    "    \n",
    "    return z_bins3"
   ]
  },
  {
   "cell_type": "code",
   "execution_count": 23,
   "metadata": {},
   "outputs": [],
   "source": [
    "z_min_iter=[0,0.3]\n",
    "z_max_iter=[3,2]\n",
    "corrs_iter=[[corr_ll],[corr_ll,corr_ggl,corr_gg]]\n",
    "pk_iter=['class_pk','baryon_pk']\n",
    "SSV_iter=[False,True]\n",
    "nz_iter=[26,20,50]\n",
    "nbins_iter=[3,1,5]\n",
    "l_max_iter=[1000,2000,5000]\n",
    "bary_nQ_iter=[0,2,1,3,5]\n",
    "\n",
    "cosmo_params=np.atleast_1d(['As','Om','w','wa'])\n",
    "pz_iter=[[],'pzb']"
   ]
  },
  {
   "cell_type": "code",
   "execution_count": 24,
   "metadata": {},
   "outputs": [],
   "source": [
    "\n",
    "do_cov=True\n",
    "bin_cl=True\n",
    "SSV_cov=True\n",
    "tidal_SSV=False\n",
    "do_sample_variance=True\n",
    "use_window=False\n",
    "\n",
    "window_lmax=30\n",
    "nside=32\n",
    "\n",
    "sigma_gamma=0.26\n",
    "area=15000\n",
    "f_sky=area*d2r**2/4/np.pi"
   ]
  },
  {
   "cell_type": "code",
   "execution_count": 25,
   "metadata": {},
   "outputs": [],
   "source": [
    "zmin=0.3\n",
    "zmax=2\n",
    "power_spectra_kwargs={'pk_func':'baryon_pk'}\n",
    "\n",
    "nbins=5\n",
    "n_lens_bins=5\n",
    "n_lensD_bins=10 #5"
   ]
  },
  {
   "cell_type": "code",
   "execution_count": 50,
   "metadata": {},
   "outputs": [
    {
     "ename": "NameError",
     "evalue": "name 'n_source' is not defined",
     "output_type": "error",
     "traceback": [
      "\u001b[0;31m---------------------------------------------------------------------------\u001b[0m",
      "\u001b[0;31mNameError\u001b[0m                                 Traceback (most recent call last)",
      "\u001b[0;32m<ipython-input-50-6a24bab0ae02>\u001b[0m in \u001b[0;36m<module>\u001b[0;34m\u001b[0m\n\u001b[0;32m----> 1\u001b[0;31m def get_z_bins(zmin,zmax,ns_bins,n_lens_bins,n_lensD_bins,nsource=n_source,nlens=n_lens,nDlens=5,use_window=use_window,\n\u001b[0m\u001b[1;32m      2\u001b[0m                \u001b[0mnside\u001b[0m\u001b[0;34m=\u001b[0m\u001b[0mnside\u001b[0m\u001b[0;34m,\u001b[0m\u001b[0mz_source_sigma\u001b[0m\u001b[0;34m=\u001b[0m\u001b[0;36m0.05\u001b[0m\u001b[0;34m,\u001b[0m\u001b[0mz_lens_sigma\u001b[0m\u001b[0;34m=\u001b[0m\u001b[0;36m0.01\u001b[0m\u001b[0;34m,\u001b[0m\u001b[0marea_overlap\u001b[0m\u001b[0;34m=\u001b[0m\u001b[0;36m0.24\u001b[0m\u001b[0;34m,\u001b[0m\u001b[0mz_max_lens\u001b[0m\u001b[0;34m=\u001b[0m\u001b[0;36m1.2\u001b[0m\u001b[0;34m,\u001b[0m\u001b[0mf_sky\u001b[0m\u001b[0;34m=\u001b[0m\u001b[0mf_sky\u001b[0m\u001b[0;34m,\u001b[0m\u001b[0mAI\u001b[0m\u001b[0;34m=\u001b[0m\u001b[0;36m0\u001b[0m\u001b[0;34m,\u001b[0m\u001b[0mAI_z\u001b[0m\u001b[0;34m=\u001b[0m\u001b[0;36m0\u001b[0m\u001b[0;34m,\u001b[0m\u001b[0;34m\u001b[0m\u001b[0;34m\u001b[0m\u001b[0m\n\u001b[1;32m      3\u001b[0m                mag_fact=0,**kwargs):\n\u001b[1;32m      4\u001b[0m \u001b[0;34m\u001b[0m\u001b[0m\n\u001b[1;32m      5\u001b[0m     zs_bins=lsst_source_tomo_bins(zmin=zmin,zmax=zmax,nside=nside,ns0=nsource,nbins=ns_bins,f_sky=f_sky,\n",
      "\u001b[0;31mNameError\u001b[0m: name 'n_source' is not defined"
     ]
    }
   ],
   "source": [
    "def get_z_bins(zmin,zmax,ns_bins,n_lens_bins,n_lensD_bins,nsource=n_source,nlens=n_lens,nDlens=5,use_window=use_window,\n",
    "               nside=nside,z_source_sigma=0.05,z_lens_sigma=0.01,area_overlap=0.24,z_max_lens=1.2,f_sky=f_sky,AI=0,AI_z=0,\n",
    "               mag_fact=0,**kwargs):\n",
    "    \n",
    "    zs_bins=lsst_source_tomo_bins(zmin=zmin,zmax=zmax,nside=nside,ns0=nsource,nbins=ns_bins,f_sky=f_sky,\n",
    "                                  z_sigma_power=1,z_sigma=z_source_sigma,ztrue_func=ztrue_given_pz_Gaussian,\n",
    "                                  use_window=use_window,AI=AI,AI_z=AI_z)\n",
    "    \n",
    "    zl_bins=lsst_source_tomo_bins(zmin=zmin,zmax=z_max_lens,ns0=nlens,nbins=n_lens_bins,nside=nside,f_sky=f_sky,\n",
    "                         ztrue_func=ztrue_given_pz_Gaussian,use_window=use_window,mag_fact=mag_fact,\n",
    "                        z_sigma=z_lens_sigma)\n",
    "    zlD_bins={}\n",
    "    zlD_bins['n_bins']=0\n",
    "    zlD_bins['n_binsF']=0\n",
    "    zlD_bins['n_binsF1']=0\n",
    "    zlD_bins['n_binsF2']=0\n",
    "    zlD_bins['area_overlap']=area_overlap\n",
    "    if n_lensD_bins>0:\n",
    "        zlD_bins=DESI_z_bins(nside=nside,f_sky=f_sky,use_window=use_window,mag_fact=mag_fact,\n",
    "                             mask_start_pix=np.int32(hp.nside2npix(nside)*f_sky*(1-area_overlap)))\n",
    "        zlD_bins['n_binsF']=0\n",
    "        zlD_bins['n_binsF1']=0\n",
    "        zlD_bins['n_binsF2']=0\n",
    "        if Fmost:\n",
    "            zlD_bins2=DESI_z_bins(datasets=['lrg','qso'],nside=nside,f_sky=f_sky4,use_window=use_window,mag_fact=mag_fact,\n",
    "                                  mask_start_pix=0)\n",
    "            zlD_bins3=DESI_z_bins(datasets=['elg'],nside=nside,f_sky=1000./40000,use_window=use_window,mag_fact=mag_fact,\n",
    "                                  mask_start_pix=0)\n",
    "            zlD_bins=combine_zbins(z_bins1=zlD_bins,z_bins2=zlD_bins2)\n",
    "            zlD_bins=combine_zbins(z_bins1=zlD_bins,z_bins2=zlD_bins3)\n",
    "            zlD_bins['n_binsF1']=zlD_bins2['n_bins']\n",
    "            zlD_bins['n_binsF2']=zlD_bins3['n_bins']\n",
    "            zlD_bins['n_binsF']=zlD_bins3['n_bins']+zlD_bins2['n_bins']\n",
    "    return zs_bins,zl_bins,zlD_bins"
   ]
  },
  {
   "cell_type": "code",
   "execution_count": 40,
   "metadata": {},
   "outputs": [],
   "source": [
    "def init_fish(z_min=z_min_iter[0],z_max=z_max_iter[0],corrs=corrs_iter[0],SSV=SSV_iter[0],\n",
    "              pk_func=pk_iter[0],nz=nz_iter[0],n_source_bins=nbins_iter[0],f_sky=0.3,\n",
    "              l_max=l_max_iter[0],l_min=2,Nl_bins=40,Win=None,store_win=True,mag_fact=0,\n",
    "             n_lens_bins=3,n_lensD_bins=0,nlens0=10):\n",
    "    \n",
    "    power_spectra_kwargs2=power_spectra_kwargs.copy()\n",
    "    power_spectra_kwargs2['pk_func']=pk_func\n",
    "    \n",
    "    cov_3X2_kwargs={'do_cov':do_cov,'bin_cl':bin_cl, #'l':l0,'l_bins':l_bins,\n",
    "            'SSV_cov':SSV,'tidal_SSV_cov':SSV,'do_xi':False,'use_window':use_window,'window_lmax':window_lmax,\n",
    "            'f_sky':f_sky,'corrs':corrs,'store_win':store_win,'Win':Win, #'sigma_gamma':sigma_gamma\n",
    "            'do_sample_variance':do_sample_variance,'power_spectra_kwargs':power_spectra_kwargs2,'f_sky':f_sky,\n",
    "            'bin_xi':bin_xi}\n",
    "    \n",
    "    z_bins_kwargs={'zmin':z_min,'zmax':z_max,'nsource':nz,'ns_bins':nbins,'nside':nside,'n_lens_bins':n_lens_bins,'n_lensD_bins':n_lensD_bins,\n",
    "                    'use_window':use_window,'nlens':nlens0,'nDlens':nlens0/2.,'area_overlap':0.2, 'f_sky':f_sky,'z_lens_sigma':0.01,\n",
    "                   'mag_fact':mag_fact,\n",
    "                   'z_source_sigma':0.05}\n",
    "    ell_bin_kwargs={'lmax_cl':l_max,'lmin_cl':l_min,'Nl_bins':Nl_bins}\n",
    "    \n",
    "    \n",
    "    zs_bins,zl_bins,zlD_bins=get_z_bins(**z_bins_kwargs)\n",
    "    \n",
    "    z_bins_kwargs['zs_bins']=zs_bins\n",
    "    z_bins_kwargs['zl_bins']=zl_bins\n",
    "    z_bins_kwargs['zlD_bins']=zlD_bins\n",
    "    \n",
    "    zl_bins_comb=combine_zbins(z_bins1=zl_bins,z_bins2=zlD_bins)\n",
    "    zl_bins_comb=combine_zbins(z_bins1=zs_bins,z_bins2=zl_bins_comb)\n",
    "\n",
    "    ii_lens=np.arange(n_source_bins,n_source_bins+n_lens_bins+n_lensD_bins)\n",
    "    ii_s=np.arange(n_source_bins)\n",
    "    z_bins_kwargs['gg_indxs']=[(i,j) for i in ii_s for j in ii_lens]+[(i,i) for i in ii_lens]\n",
    "#     for i in np.arange(zl_bins_comb['n_bins']):\n",
    "#         zl_bins_comb[i]['b1']=1\n",
    "        \n",
    "    cov_3X2_kwargs['zg_bins']=zl_bins_comb    \n",
    "    \n",
    "    l0,l_bins,l=get_cl_ells(**ell_bin_kwargs)\n",
    "    print(l0.max(),zl_bins_comb['n_bins'])\n",
    "    kappa_class=cov_3X2(l=l0,l_bins=l_bins,zs_bins=zs_bins,**cov_3X2_kwargs)\n",
    "    \n",
    "#     if not use_window:\n",
    "#         for kk in kappa_class.corr_indxs.keys():\n",
    "#             indxs=kappa_class.corr_indxs[kk]\n",
    "\n",
    "#             for (i,j) in indxs:\n",
    "#                 if i<(n_source_bins+n_lens_bins) and j<(n_source_bins+n_lens_bins):\n",
    "#                     continue\n",
    "#                 if i>(n_source_bins+n_lens_bins) and j>(n_source_bins+n_lens_bins):\n",
    "#                     continue\n",
    "                    \n",
    "#                 kappa_class.f_sky[kk][(i,j)]=z_bins_kwargs['f_sky']*z_bins_kwargs['area_overlap']\n",
    "#                 kappa_class.f_sky[kk[::-1]][(j,i)]=z_bins_kwargs['f_sky']*z_bins_kwargs['area_overlap']\n",
    "    \n",
    "    z_bins_kwargs['corr_indxs']=kappa_class.corr_indxs.copy()\n",
    "    z_bins_kwargs['corr_indxs'][('galaxy','galaxy')]=z_bins_kwargs['gg_indxs']\n",
    "    return kappa_class,z_bins_kwargs"
   ]
  },
  {
   "cell_type": "code",
   "execution_count": 41,
   "metadata": {},
   "outputs": [],
   "source": [
    "def DESI_z_bins(datasets=['elg','lrg','BG','qso'],nbins=n_lensD_bins,**kwargs):\n",
    "    zbins={}\n",
    "    i=0\n",
    "    for d in datasets:\n",
    "        d_bins=DESI_lens_bins(dataset=d,nbins=nbins,**kwargs)\n",
    "        if i==0:\n",
    "            zbins=copy.deepcopy(d_bins)\n",
    "        else:\n",
    "            zbins=combine_zbins(z_bins1=zbins,z_bins2=d_bins)\n",
    "        i+=1\n",
    "        print(i,zbins['n_bins'],d_bins['n_bins'])\n",
    "    return zbins"
   ]
  },
  {
   "cell_type": "code",
   "execution_count": 42,
   "metadata": {},
   "outputs": [],
   "source": [
    "#setup parameters\n",
    "l0,l_bins,l=get_cl_ells()\n",
    "lb=0.5*(l_bins[1:]+l_bins[:-1])\n",
    "\n",
    "do_cov=True\n",
    "bin_cl=True\n",
    "\n",
    "SSV_cov=False\n",
    "tidal_SSV_cov=False\n",
    "\n",
    "bin_xi=True\n",
    "theta_bins=np.logspace(np.log10(1./60),1,20)"
   ]
  },
  {
   "cell_type": "code",
   "execution_count": 43,
   "metadata": {},
   "outputs": [],
   "source": [
    "# corrs=[corr_ll] #\n",
    "corrs=[corr_ggl,corr_gg,corr_ll]"
   ]
  },
  {
   "cell_type": "code",
   "execution_count": 44,
   "metadata": {},
   "outputs": [],
   "source": [
    "WIN=None\n",
    "store_win=False"
   ]
  },
  {
   "cell_type": "code",
   "execution_count": 45,
   "metadata": {},
   "outputs": [
    {
     "name": "stdout",
     "output_type": "stream",
     "text": [
      "208.77 MB\n"
     ]
    }
   ],
   "source": [
    "proc = psutil.Process()\n",
    "print(format_bytes(proc.memory_info().rss))"
   ]
  },
  {
   "cell_type": "code",
   "execution_count": 46,
   "metadata": {},
   "outputs": [],
   "source": [
    "fname='temp/win_D_{ns}{nl}{nlD}.pkl'.format(ns=nbins,nl=n_lens_bins,nlD=n_lensD_bins)\n",
    "if store_win:\n",
    "    try:\n",
    "        with open(fname,'rb') as of:\n",
    "            WIN=pickle.load(of)\n",
    "    except:\n",
    "        print('window not found. Will compute')"
   ]
  },
  {
   "cell_type": "code",
   "execution_count": 47,
   "metadata": {},
   "outputs": [],
   "source": [
    "import importlib\n",
    "reload=importlib.reload\n",
    "reload(lsst_utils)\n",
    "from lsst_utils import *"
   ]
  },
  {
   "cell_type": "code",
   "execution_count": 48,
   "metadata": {},
   "outputs": [
    {
     "name": "stdout",
     "output_type": "stream",
     "text": [
      "ns0:  10.0\n"
     ]
    }
   ],
   "source": [
    "zlD_bins=lsst_source_tomo_bins(ns0=10,nbins=25,nside=256,f_sky=f_sky,\n",
    "    ztrue_func=ztrue_given_pz_Gaussian,use_window=use_window,\n",
    "    z_sigma=0.001,mask_start_pix=0)"
   ]
  },
  {
   "cell_type": "code",
   "execution_count": 49,
   "metadata": {},
   "outputs": [
    {
     "name": "stdout",
     "output_type": "stream",
     "text": [
      "ns0:  26.0\n",
      "ns0:  10.0\n"
     ]
    },
    {
     "name": "stderr",
     "output_type": "stream",
     "text": [
      "./lsst_utils.py:117: RuntimeWarning: invalid value encountered in true_divide\n",
      "  p_zs=p_zs/np.sum(p_zs*dzs)\n",
      "./lsst_utils.py:121: RuntimeWarning: invalid value encountered in greater\n",
      "  x= p_zs>-1 #1.e-10\n",
      "./lsst_utils.py:135: RuntimeWarning: invalid value encountered in double_scalars\n",
      "  zm=np.sum(zs_bins[i]['z']*zs_bins[i]['pzdz'])/zs_bins[i]['Norm']\n"
     ]
    },
    {
     "ename": "ValueError",
     "evalue": "max() arg is an empty sequence",
     "output_type": "error",
     "traceback": [
      "\u001b[0;31m---------------------------------------------------------------------------\u001b[0m",
      "\u001b[0;31mValueError\u001b[0m                                Traceback (most recent call last)",
      "\u001b[0;32m<ipython-input-49-328fd5b53389>\u001b[0m in \u001b[0;36m<module>\u001b[0;34m\u001b[0m\n\u001b[1;32m      1\u001b[0m kappa_class,z_bins_kwargs=init_fish(n_source_bins=nbins,n_lens_bins=n_lens_bins,n_lensD_bins=n_lensD_bins,corrs=corrs,\n\u001b[0;32m----> 2\u001b[0;31m                                           Win=WIN,store_win=store_win)\n\u001b[0m\u001b[1;32m      3\u001b[0m \u001b[0mget_ipython\u001b[0m\u001b[0;34m(\u001b[0m\u001b[0;34m)\u001b[0m\u001b[0;34m.\u001b[0m\u001b[0mrun_line_magic\u001b[0m\u001b[0;34m(\u001b[0m\u001b[0;34m'time'\u001b[0m\u001b[0;34m,\u001b[0m \u001b[0;34m\"cl0G=kappa_class.cl_tomo(corrs=corrs,stack_corr_indxs=z_bins_kwargs['corr_indxs'])\"\u001b[0m\u001b[0;34m)\u001b[0m\u001b[0;34m\u001b[0m\u001b[0;34m\u001b[0m\u001b[0m\n\u001b[1;32m      4\u001b[0m \u001b[0mlb\u001b[0m\u001b[0;34m=\u001b[0m\u001b[0;36m0.5\u001b[0m\u001b[0;34m*\u001b[0m\u001b[0;34m(\u001b[0m\u001b[0ml_bins\u001b[0m\u001b[0;34m[\u001b[0m\u001b[0;36m1\u001b[0m\u001b[0;34m:\u001b[0m\u001b[0;34m]\u001b[0m\u001b[0;34m+\u001b[0m\u001b[0ml_bins\u001b[0m\u001b[0;34m[\u001b[0m\u001b[0;34m:\u001b[0m\u001b[0;34m-\u001b[0m\u001b[0;36m1\u001b[0m\u001b[0;34m]\u001b[0m\u001b[0;34m)\u001b[0m\u001b[0;34m\u001b[0m\u001b[0;34m\u001b[0m\u001b[0m\n\u001b[1;32m      5\u001b[0m \u001b[0;31m# cl0=cl0G['stack'].compute()\u001b[0m\u001b[0;34m\u001b[0m\u001b[0;34m\u001b[0m\u001b[0;34m\u001b[0m\u001b[0m\n",
      "\u001b[0;32m<ipython-input-40-600fd9c596fb>\u001b[0m in \u001b[0;36minit_fish\u001b[0;34m(z_min, z_max, corrs, SSV, pk_func, nz, n_source_bins, f_sky, l_max, l_min, Nl_bins, Win, store_win, mag_fact, n_lens_bins, n_lensD_bins, nlens0)\u001b[0m\n\u001b[1;32m     20\u001b[0m \u001b[0;34m\u001b[0m\u001b[0m\n\u001b[1;32m     21\u001b[0m \u001b[0;34m\u001b[0m\u001b[0m\n\u001b[0;32m---> 22\u001b[0;31m     \u001b[0mzs_bins\u001b[0m\u001b[0;34m,\u001b[0m\u001b[0mzl_bins\u001b[0m\u001b[0;34m,\u001b[0m\u001b[0mzlD_bins\u001b[0m\u001b[0;34m=\u001b[0m\u001b[0mget_z_bins\u001b[0m\u001b[0;34m(\u001b[0m\u001b[0;34m**\u001b[0m\u001b[0mz_bins_kwargs\u001b[0m\u001b[0;34m)\u001b[0m\u001b[0;34m\u001b[0m\u001b[0;34m\u001b[0m\u001b[0m\n\u001b[0m\u001b[1;32m     23\u001b[0m \u001b[0;34m\u001b[0m\u001b[0m\n\u001b[1;32m     24\u001b[0m     \u001b[0mz_bins_kwargs\u001b[0m\u001b[0;34m[\u001b[0m\u001b[0;34m'zs_bins'\u001b[0m\u001b[0;34m]\u001b[0m\u001b[0;34m=\u001b[0m\u001b[0mzs_bins\u001b[0m\u001b[0;34m\u001b[0m\u001b[0;34m\u001b[0m\u001b[0m\n",
      "\u001b[0;32m<ipython-input-39-ff8c22e3506f>\u001b[0m in \u001b[0;36mget_z_bins\u001b[0;34m(zmin, zmax, ns_bins, n_lens_bins, n_lensD_bins, nsource, nlens, nDlens, use_window, nside, z_source_sigma, z_lens_sigma, area_overlap, f_sky, mag_fact, **kwargs)\u001b[0m\n\u001b[1;32m     21\u001b[0m     \u001b[0;32mif\u001b[0m \u001b[0mn_lensD_bins\u001b[0m\u001b[0;34m>\u001b[0m\u001b[0;36m0\u001b[0m\u001b[0;34m:\u001b[0m\u001b[0;34m\u001b[0m\u001b[0;34m\u001b[0m\u001b[0m\n\u001b[1;32m     22\u001b[0m         zlD_bins=DESI_z_bins(nside=nside,f_sky=f_sky,use_window=use_window,mag_fact=mag_fact,\n\u001b[0;32m---> 23\u001b[0;31m                              mask_start_pix=np.int32(hp.nside2npix(nside)*f_sky*(1-area_overlap)))\n\u001b[0m\u001b[1;32m     24\u001b[0m         \u001b[0mzlD_bins\u001b[0m\u001b[0;34m[\u001b[0m\u001b[0;34m'n_binsF'\u001b[0m\u001b[0;34m]\u001b[0m\u001b[0;34m=\u001b[0m\u001b[0;36m0\u001b[0m\u001b[0;34m\u001b[0m\u001b[0;34m\u001b[0m\u001b[0m\n\u001b[1;32m     25\u001b[0m         \u001b[0mzlD_bins\u001b[0m\u001b[0;34m[\u001b[0m\u001b[0;34m'n_binsF1'\u001b[0m\u001b[0;34m]\u001b[0m\u001b[0;34m=\u001b[0m\u001b[0;36m0\u001b[0m\u001b[0;34m\u001b[0m\u001b[0;34m\u001b[0m\u001b[0m\n",
      "\u001b[0;32m<ipython-input-41-81091141334a>\u001b[0m in \u001b[0;36mDESI_z_bins\u001b[0;34m(datasets, nbins, **kwargs)\u001b[0m\n\u001b[1;32m      3\u001b[0m     \u001b[0mi\u001b[0m\u001b[0;34m=\u001b[0m\u001b[0;36m0\u001b[0m\u001b[0;34m\u001b[0m\u001b[0;34m\u001b[0m\u001b[0m\n\u001b[1;32m      4\u001b[0m     \u001b[0;32mfor\u001b[0m \u001b[0md\u001b[0m \u001b[0;32min\u001b[0m \u001b[0mdatasets\u001b[0m\u001b[0;34m:\u001b[0m\u001b[0;34m\u001b[0m\u001b[0;34m\u001b[0m\u001b[0m\n\u001b[0;32m----> 5\u001b[0;31m         \u001b[0md_bins\u001b[0m\u001b[0;34m=\u001b[0m\u001b[0mDESI_lens_bins\u001b[0m\u001b[0;34m(\u001b[0m\u001b[0mdataset\u001b[0m\u001b[0;34m=\u001b[0m\u001b[0md\u001b[0m\u001b[0;34m,\u001b[0m\u001b[0mnbins\u001b[0m\u001b[0;34m=\u001b[0m\u001b[0mnbins\u001b[0m\u001b[0;34m,\u001b[0m\u001b[0;34m**\u001b[0m\u001b[0mkwargs\u001b[0m\u001b[0;34m)\u001b[0m\u001b[0;34m\u001b[0m\u001b[0;34m\u001b[0m\u001b[0m\n\u001b[0m\u001b[1;32m      6\u001b[0m         \u001b[0;32mif\u001b[0m \u001b[0mi\u001b[0m\u001b[0;34m==\u001b[0m\u001b[0;36m0\u001b[0m\u001b[0;34m:\u001b[0m\u001b[0;34m\u001b[0m\u001b[0;34m\u001b[0m\u001b[0m\n\u001b[1;32m      7\u001b[0m             \u001b[0mzbins\u001b[0m\u001b[0;34m=\u001b[0m\u001b[0mcopy\u001b[0m\u001b[0;34m.\u001b[0m\u001b[0mdeepcopy\u001b[0m\u001b[0;34m(\u001b[0m\u001b[0md_bins\u001b[0m\u001b[0;34m)\u001b[0m\u001b[0;34m\u001b[0m\u001b[0;34m\u001b[0m\u001b[0m\n",
      "\u001b[0;32m~/repos/cosmic_shear/lsst_utils.py\u001b[0m in \u001b[0;36mDESI_lens_bins\u001b[0;34m(dataset, nbins, window_cl_fact, z_bins, f_sky, nside, use_window, mask_start_pix, bg1, l, sigma_gamma, mag_fact, **kwargs)\u001b[0m\n\u001b[1;32m    415\u001b[0m                         \u001b[0mzp_sigma\u001b[0m\u001b[0;34m=\u001b[0m\u001b[0;36m0\u001b[0m\u001b[0;34m,\u001b[0m\u001b[0mz_bins\u001b[0m\u001b[0;34m=\u001b[0m\u001b[0mz_bins\u001b[0m\u001b[0;34m,\u001b[0m\u001b[0mf_sky\u001b[0m\u001b[0;34m=\u001b[0m\u001b[0mf_sky\u001b[0m\u001b[0;34m,\u001b[0m\u001b[0mnside\u001b[0m\u001b[0;34m=\u001b[0m\u001b[0mnside\u001b[0m\u001b[0;34m,\u001b[0m\u001b[0;34m\u001b[0m\u001b[0;34m\u001b[0m\u001b[0m\n\u001b[1;32m    416\u001b[0m                            \u001b[0muse_window\u001b[0m\u001b[0;34m=\u001b[0m\u001b[0muse_window\u001b[0m\u001b[0;34m,\u001b[0m\u001b[0mmask_start_pix\u001b[0m\u001b[0;34m=\u001b[0m\u001b[0mmask_start_pix\u001b[0m\u001b[0;34m,\u001b[0m\u001b[0mbg1\u001b[0m\u001b[0;34m=\u001b[0m\u001b[0mbg1\u001b[0m\u001b[0;34m,\u001b[0m\u001b[0;34m\u001b[0m\u001b[0;34m\u001b[0m\u001b[0m\n\u001b[0;32m--> 417\u001b[0;31m                            l=l,sigma_gamma=sigma_gamma)\n\u001b[0m\u001b[1;32m    418\u001b[0m \u001b[0;34m\u001b[0m\u001b[0m\n\u001b[1;32m    419\u001b[0m \u001b[0;34m\u001b[0m\u001b[0m\n",
      "\u001b[0;32m~/repos/cosmic_shear/lsst_utils.py\u001b[0m in \u001b[0;36msource_tomo_bins\u001b[0;34m(zp, p_zp, nz_bins, ns, ztrue_func, zp_bias, zp_sigma, zs, z_bins, f_sky, nside, use_window, mask_start_pix, window_cl_fact, bg1, AI, AI_z, l, mag_fact, sigma_gamma, k_max, unit_win)\u001b[0m\n\u001b[1;32m    200\u001b[0m         \u001b[0;31m#zs_bins[i]['lens_kernel']=np.dot(zs_bins[i]['pzdz'],sc)\u001b[0m\u001b[0;34m\u001b[0m\u001b[0;34m\u001b[0m\u001b[0;34m\u001b[0m\u001b[0m\n\u001b[1;32m    201\u001b[0m \u001b[0;34m\u001b[0m\u001b[0m\n\u001b[0;32m--> 202\u001b[0;31m         \u001b[0mzmax\u001b[0m\u001b[0;34m=\u001b[0m\u001b[0mmax\u001b[0m\u001b[0;34m(\u001b[0m\u001b[0;34m[\u001b[0m\u001b[0mzmax\u001b[0m\u001b[0;34m,\u001b[0m\u001b[0mmax\u001b[0m\u001b[0;34m(\u001b[0m\u001b[0mzs_bins\u001b[0m\u001b[0;34m[\u001b[0m\u001b[0mi\u001b[0m\u001b[0;34m]\u001b[0m\u001b[0;34m[\u001b[0m\u001b[0;34m'z'\u001b[0m\u001b[0;34m]\u001b[0m\u001b[0;34m)\u001b[0m\u001b[0;34m]\u001b[0m\u001b[0;34m)\u001b[0m\u001b[0;34m\u001b[0m\u001b[0;34m\u001b[0m\u001b[0m\n\u001b[0m\u001b[1;32m    203\u001b[0m \u001b[0;34m\u001b[0m\u001b[0m\n\u001b[1;32m    204\u001b[0m         \u001b[0mzs_bins\u001b[0m\u001b[0;34m[\u001b[0m\u001b[0;34m'SN'\u001b[0m\u001b[0;34m]\u001b[0m\u001b[0;34m[\u001b[0m\u001b[0;34m'galaxy'\u001b[0m\u001b[0;34m]\u001b[0m\u001b[0;34m[\u001b[0m\u001b[0;34m:\u001b[0m\u001b[0;34m,\u001b[0m\u001b[0mi\u001b[0m\u001b[0;34m,\u001b[0m\u001b[0mi\u001b[0m\u001b[0;34m]\u001b[0m\u001b[0;34m=\u001b[0m\u001b[0mgalaxy_shot_noise_calc\u001b[0m\u001b[0;34m(\u001b[0m\u001b[0mzg1\u001b[0m\u001b[0;34m=\u001b[0m\u001b[0mzs_bins\u001b[0m\u001b[0;34m[\u001b[0m\u001b[0mi\u001b[0m\u001b[0;34m]\u001b[0m\u001b[0;34m,\u001b[0m\u001b[0mzg2\u001b[0m\u001b[0;34m=\u001b[0m\u001b[0mzs_bins\u001b[0m\u001b[0;34m[\u001b[0m\u001b[0mi\u001b[0m\u001b[0;34m]\u001b[0m\u001b[0;34m)\u001b[0m\u001b[0;34m\u001b[0m\u001b[0;34m\u001b[0m\u001b[0m\n",
      "\u001b[0;31mValueError\u001b[0m: max() arg is an empty sequence"
     ]
    }
   ],
   "source": [
    "kappa_class,z_bins_kwargs=init_fish(n_source_bins=nbins,n_lens_bins=n_lens_bins,n_lensD_bins=n_lensD_bins,corrs=corrs,\n",
    "                                          Win=WIN,store_win=store_win)\n",
    "%time cl0G=kappa_class.cl_tomo(corrs=corrs,stack_corr_indxs=z_bins_kwargs['corr_indxs'])\n",
    "lb=0.5*(l_bins[1:]+l_bins[:-1])\n",
    "# cl0=cl0G['stack'].compute()"
   ]
  },
  {
   "cell_type": "code",
   "execution_count": null,
   "metadata": {},
   "outputs": [],
   "source": [
    "proc = psutil.Process()\n",
    "print(format_bytes(proc.memory_info().rss))"
   ]
  },
  {
   "cell_type": "code",
   "execution_count": null,
   "metadata": {},
   "outputs": [],
   "source": [
    "cl_L=None"
   ]
  },
  {
   "cell_type": "raw",
   "metadata": {},
   "source": [
    "fname_cl='temp/cl_cov_{ns}{nl}{nlD}.pkl'.format(ns=nbins,nl=n_lens_bins,nlD=n_lensD_bins)\n",
    "try:\n",
    "    with open(fname_cl,'rb') as of:\n",
    "        cl_L=pickle.load(of)\n",
    "except:\n",
    "    print('cl not found. Will compute',fname_cl)"
   ]
  },
  {
   "cell_type": "raw",
   "metadata": {},
   "source": [
    "if WIN is None and cl_L is None and kappa_class.Win.store_win:\n",
    "    WIN=kappa_class.Win.Win\n",
    "    with open(fname,'wb') as of:\n",
    "        pickle.dump(WIN,of)"
   ]
  },
  {
   "cell_type": "code",
   "execution_count": null,
   "metadata": {},
   "outputs": [],
   "source": [
    "kappa_class.z_bins['galaxy']['n_bins']"
   ]
  },
  {
   "cell_type": "code",
   "execution_count": null,
   "metadata": {},
   "outputs": [],
   "source": [
    "kappa_class.Win"
   ]
  },
  {
   "cell_type": "code",
   "execution_count": null,
   "metadata": {},
   "outputs": [],
   "source": [
    "if cl_L is None:\n",
    "    %time cl_L=cl0G['stack'].compute()\n",
    "#     with open(fname_cl,'wb') as of:\n",
    "#         pickle.dump(cl_L,of)"
   ]
  },
  {
   "cell_type": "code",
   "execution_count": null,
   "metadata": {},
   "outputs": [],
   "source": [
    "cl_L['cl_b'].shape"
   ]
  },
  {
   "cell_type": "code",
   "execution_count": null,
   "metadata": {},
   "outputs": [],
   "source": [
    "crash"
   ]
  },
  {
   "cell_type": "code",
   "execution_count": null,
   "metadata": {},
   "outputs": [],
   "source": [
    "proc = psutil.Process()\n",
    "print(format_bytes(proc.memory_info().rss))"
   ]
  },
  {
   "cell_type": "code",
   "execution_count": null,
   "metadata": {},
   "outputs": [],
   "source": [
    "if nbins<=2:\n",
    "    cc=kappa_class.cov_utils\n",
    "    corr_shear=cc.corr_matrix(cl_L['cov'])\n",
    "    pcolor(corr_shear,vmin=-1,vmax=1,cmap='seismic')"
   ]
  },
  {
   "cell_type": "code",
   "execution_count": null,
   "metadata": {},
   "outputs": [],
   "source": [
    "nt=len(lb)\n",
    "for i in np.arange(10):\n",
    "    plot(lb,lb*cl_L['cl_b'][i*nt:(i+1)*nt],label=i)\n",
    "    legend()\n",
    "    show()\n",
    "# yscale('log')"
   ]
  },
  {
   "cell_type": "code",
   "execution_count": null,
   "metadata": {},
   "outputs": [],
   "source": [
    "kappa_class.z_bins['galaxy'].keys()"
   ]
  },
  {
   "cell_type": "code",
   "execution_count": null,
   "metadata": {},
   "outputs": [],
   "source": [
    "priors={}\n",
    "priors['As']=np.inf\n",
    "priors['Om']=np.inf\n",
    "priors['w']=np.inf\n",
    "priors['wa']=np.inf"
   ]
  },
  {
   "cell_type": "code",
   "execution_count": null,
   "metadata": {},
   "outputs": [],
   "source": [
    "priors['pz_B_s']=0.001 #bias =B*(1+z) \n",
    "priors['pz_B_l']=0.0001 #bias =B*(1+z) \n",
    "for i in np.arange(10): #photo-z bias\n",
    "    priors['pz_b_s_'+str(i)]=0.001\n",
    "\n",
    "for i in np.arange(10): #photo-z bias\n",
    "    priors['pz_b_l_'+str(i)]=0.0001\n",
    "\n",
    "for i in np.arange(10): #photo-z bias\n",
    "    for j in np.arange(100): #photo-z bias\n",
    "        priors['nz_s_'+str(i)+'_'+str(j)]=0.01\n",
    "\n",
    "for i in np.arange(10): #photo-z bias\n",
    "    for j in np.arange(100): #photo-z bias\n",
    "        priors['nz_l_'+str(i)+'_'+str(j)]=0.01\n",
    "\n",
    "        \n",
    "for i in np.arange(10):#galaxy bias\n",
    "    priors['g_b_s_1'+str(i)]=1\n",
    "for i in np.arange(10): #galaxy bias, b2\n",
    "    priors['g_b_s_2'+str(i)]=1\n",
    "\n",
    "for i in np.arange(10):#galaxy bias\n",
    "    priors['g_b_l_1'+str(i)]=1\n",
    "for i in np.arange(10): #galaxy bias, b2\n",
    "    priors['g_b_l_2'+str(i)]=1\n",
    "\n",
    "    \n",
    "for i in np.arange(10): #baryon PCA\n",
    "    priors['Q'+str(i)]=100"
   ]
  },
  {
   "cell_type": "code",
   "execution_count": null,
   "metadata": {},
   "outputs": [],
   "source": [
    "z_bins_kwargs['use_window']=False"
   ]
  },
  {
   "cell_type": "code",
   "execution_count": null,
   "metadata": {},
   "outputs": [],
   "source": [
    "if use_window:\n",
    "    kappa_class.Win.store_win=True"
   ]
  },
  {
   "cell_type": "code",
   "execution_count": null,
   "metadata": {},
   "outputs": [],
   "source": [
    "pz_params=['pz_b_s_{j}'.format(j=i) for i in np.arange(kappa_class.z_bins['shear']['n_bins'])]\n",
    "# pz_params+=['pz_b_l_{j}'.format(j=i) for i in np.arange(2)]\n",
    "galaxy_params=[]#['g_b_s_1{j}'.format(j=i) for i in np.arange(kappa_class.z_bins['shear']['n_bins'])]\n",
    "# galaxy_params=['g_b_l_1{j}'.format(j=i) for i in np.arange(4)]\n",
    "\n",
    "cosmo_params=np.atleast_1d(['As'])#,'Om','w','wa'])\n",
    "\n",
    "%time f0=fisher_calc(cosmo_params=cosmo_params,z_params=pz_params,galaxy_params=galaxy_params,kappa_class=kappa_class,clS=cl_L,z_bins_kwargs=z_bins_kwargs,priors=priors)"
   ]
  },
  {
   "cell_type": "code",
   "execution_count": null,
   "metadata": {},
   "outputs": [],
   "source": [
    "crash"
   ]
  },
  {
   "cell_type": "code",
   "execution_count": null,
   "metadata": {},
   "outputs": [],
   "source": [
    "pz_params=['nz_s_{j}_{k}'.format(j=i,k=k) for i in np.arange(kappa_class.z_bins['shear']['n_bins']) for k in np.arange(100)]\n",
    "# pz_params+=['nz_l_{j}_8'.format(j=i) for i in np.arange(2)]\n",
    "# galaxy_params=['g_b_s_1{j}'.format(j=i) for i in np.arange(kappa_class.z_bins['shear']['n_bins'])]\n",
    "# galaxy_params=['g_b_l_1{j}'.format(j=i) for i in np.arange(4)]\n",
    "galaxy_params=[]\n",
    "print(pz_params)\n",
    "cosmo_params=np.atleast_1d(['As'])#,'Om','w','wa'])\n",
    "\n",
    "%time f_nz0=fisher_calc(cosmo_params=cosmo_params,z_params=pz_params,galaxy_params=galaxy_params,kappa_class=kappa_class,clS=cl_L,z_bins_kwargs=z_bins_kwargs,priors=priors)"
   ]
  },
  {
   "cell_type": "code",
   "execution_count": null,
   "metadata": {},
   "outputs": [],
   "source": [
    "f0['error'],f0['prior']['error']"
   ]
  },
  {
   "cell_type": "code",
   "execution_count": null,
   "metadata": {},
   "outputs": [],
   "source": [
    "f_nz0['error'],f_nz0['prior']['error']"
   ]
  },
  {
   "cell_type": "code",
   "execution_count": null,
   "metadata": {},
   "outputs": [],
   "source": [
    "f0['error'],f0['prior']['error']"
   ]
  },
  {
   "cell_type": "code",
   "execution_count": null,
   "metadata": {},
   "outputs": [],
   "source": [
    "f_nz0['error'],f_nz0['prior']['error']"
   ]
  },
  {
   "cell_type": "code",
   "execution_count": null,
   "metadata": {},
   "outputs": [],
   "source": [
    "pz_params=['pz_b_s_{j}'.format(j=i) for i in np.arange(kappa_class.z_bins['shear']['n_bins'])]\n",
    "pz_params+=['pz_b_l_{j}'.format(j=i) for i in np.arange(2)]\n",
    "galaxy_params=['g_b_s_1{j}'.format(j=i) for i in np.arange(kappa_class.z_bins['shear']['n_bins'])]\n",
    "galaxy_params+=['g_b_l_1{j}'.format(j=i) for i in np.arange(4)]\n",
    "\n",
    "cosmo_params=np.atleast_1d(['As']) #,'Om','w','wa'])\n",
    "\n",
    "%time f_all=fisher_calc(cosmo_params=cosmo_params,z_params=pz_params,galaxy_params=galaxy_params,kappa_class=kappa_class,clS=cl_L,z_bins_kwargs=z_bins_kwargs,priors=priors)"
   ]
  },
  {
   "cell_type": "code",
   "execution_count": null,
   "metadata": {},
   "outputs": [],
   "source": [
    "pz_params=['nz_s_{j}_{k}'.format(j=i,k=k) for i in np.arange(kappa_class.z_bins['shear']['n_bins']) for k in np.arange(100)]\n",
    "pz_params+=['nz_l_{j}_8'.format(j=i) for i in np.arange(2)]\n",
    "galaxy_params=['g_b_s_1{j}'.format(j=i) for i in np.arange(kappa_class.z_bins['shear']['n_bins'])]\n",
    "galaxy_params+=['g_b_l_1{j}'.format(j=i) for i in np.arange(4)]\n",
    "# galaxy_params=[]\n",
    "# print(pz_params)\n",
    "cosmo_params=np.atleast_1d(['As'])#,'Om','w','wa'])\n",
    "\n",
    "%time f_nz_all=fisher_calc(cosmo_params=cosmo_params,z_params=pz_params,galaxy_params=galaxy_params,kappa_class=kappa_class,clS=cl_L,z_bins_kwargs=z_bins_kwargs,priors=priors)"
   ]
  },
  {
   "cell_type": "code",
   "execution_count": null,
   "metadata": {},
   "outputs": [],
   "source": [
    "f_all['error'],f_all['prior']['error']"
   ]
  },
  {
   "cell_type": "code",
   "execution_count": null,
   "metadata": {},
   "outputs": [],
   "source": [
    "f_nz_all['error'][:4],f_nz_all['prior']['error'][:4]"
   ]
  },
  {
   "cell_type": "code",
   "execution_count": null,
   "metadata": {},
   "outputs": [],
   "source": [
    "f_nz_all['error'][:4]/f_all['error'][:4]"
   ]
  },
  {
   "cell_type": "code",
   "execution_count": null,
   "metadata": {},
   "outputs": [],
   "source": [
    "f_nz_all['prior']['error'][:4]/f_all['prior']['error'][:4]"
   ]
  },
  {
   "cell_type": "code",
   "execution_count": null,
   "metadata": {},
   "outputs": [],
   "source": [
    "f['error'][0]/f0['error'][0],f['prior']['error'][0]/f0['prior']['error'][0]"
   ]
  },
  {
   "cell_type": "raw",
   "metadata": {},
   "source": [
    "crash"
   ]
  },
  {
   "cell_type": "code",
   "execution_count": null,
   "metadata": {},
   "outputs": [],
   "source": []
  }
 ],
 "metadata": {
  "kernelspec": {
   "display_name": "Python 3",
   "language": "python",
   "name": "python3"
  },
  "language_info": {
   "codemirror_mode": {
    "name": "ipython",
    "version": 3
   },
   "file_extension": ".py",
   "mimetype": "text/x-python",
   "name": "python",
   "nbconvert_exporter": "python",
   "pygments_lexer": "ipython3",
   "version": "3.7.3"
  }
 },
 "nbformat": 4,
 "nbformat_minor": 2
}
