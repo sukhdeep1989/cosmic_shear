{
 "cells": [
  {
   "cell_type": "code",
   "execution_count": 32,
   "metadata": {},
   "outputs": [],
   "source": [
    "import sys\n",
    "import pyccl as ccl\n",
    "import pickle\n",
    "import camb\n",
    "sys.path.insert(0,'./')\n",
    "# from importlib import reload"
   ]
  },
  {
   "cell_type": "code",
   "execution_count": 33,
   "metadata": {},
   "outputs": [
    {
     "name": "stderr",
     "output_type": "stream",
     "text": [
      "02:45:29 DEBUG:Using selector: KqueueSelector\n",
      "02:45:29 DEBUG:Using selector: KqueueSelector\n",
      "/Users/Deep/anaconda/envs/py36/lib/python3.6/site-packages/distributed/dashboard/core.py:79: UserWarning: \n",
      "Port 8787 is already in use. \n",
      "Perhaps you already have a cluster running?\n",
      "Hosting the diagnostics dashboard on a random port instead.\n",
      "  warnings.warn(\"\\n\" + msg)\n"
     ]
    }
   ],
   "source": [
    "from distributed import LocalCluster\n",
    "from dask.distributed import Client  # we already had this above\n",
    "#http://distributed.readthedocs.io/en/latest/_modules/distributed/worker.html\n",
    "c=LocalCluster(n_workers=1,processes=False,memory_limit='25gb',threads_per_worker=14,memory_spill_fraction=.99,\n",
    "               memory_monitor_interval='2000ms')\n",
    "client=Client(c)"
   ]
  },
  {
   "cell_type": "code",
   "execution_count": 3,
   "metadata": {},
   "outputs": [],
   "source": [
    "from cov_3X2 import *\n",
    "from lsst_utils import *"
   ]
  },
  {
   "cell_type": "code",
   "execution_count": 4,
   "metadata": {},
   "outputs": [],
   "source": [
    "#only for python3\n",
    "import importlib\n",
    "reload=importlib.reload"
   ]
  },
  {
   "cell_type": "code",
   "execution_count": 5,
   "metadata": {},
   "outputs": [
    {
     "name": "stdout",
     "output_type": "stream",
     "text": [
      "ns0:  27.0\n"
     ]
    }
   ],
   "source": [
    "zs=lsst_source_tomo_bins()\n",
    "corr_ll=('shear', 'shear')"
   ]
  },
  {
   "cell_type": "code",
   "execution_count": 6,
   "metadata": {},
   "outputs": [],
   "source": [
    "wigner_files={}\n",
    "wigner_files[0]= '/Users/Deep/dask_temp/dask_wig3j_l3500_w2100_0_reorder.zarr'\n",
    "wigner_files[2]= '/Users/Deep/dask_temp/dask_wig3j_l3500_w2100_2_reorder.zarr'\n",
    "\n"
   ]
  },
  {
   "cell_type": "markdown",
   "metadata": {},
   "source": [
    "# Power Spectrum covariance"
   ]
  },
  {
   "cell_type": "code",
   "execution_count": 7,
   "metadata": {},
   "outputs": [],
   "source": [
    "#setup parameters\n",
    "lmax_cl=1000\n",
    "lmin_cl=2\n",
    "l0=np.arange(lmin_cl,lmax_cl)\n",
    "\n",
    "lmin_cl_Bins=lmin_cl+10\n",
    "lmax_cl_Bins=lmax_cl-10\n",
    "Nl_bins=20\n",
    "l_bins=np.int64(np.logspace(np.log10(lmin_cl_Bins),np.log10(lmax_cl_Bins),Nl_bins))\n",
    "lb=np.sqrt(l_bins[1:]*l_bins[:-1])\n",
    "\n",
    "l=np.unique(np.int64(np.logspace(np.log10(lmin_cl),np.log10(lmax_cl),Nl_bins*20))) #if we want to use fewer ell\n",
    "\n",
    "do_cov=True\n",
    "bin_cl=True\n",
    "\n",
    "SSV_cov=True\n",
    "tidal_SSV_cov=False\n",
    "Tri_cov=True\n",
    "\n",
    "bin_xi=True\n",
    "theta_bins=np.logspace(np.log10(1./60),1,20)"
   ]
  },
  {
   "cell_type": "markdown",
   "metadata": {},
   "source": [
    "##  Test with 1 redshift bin"
   ]
  },
  {
   "cell_type": "code",
   "execution_count": 8,
   "metadata": {},
   "outputs": [],
   "source": [
    "store_win=True\n",
    "window_lmax=2000"
   ]
  },
  {
   "cell_type": "code",
   "execution_count": 9,
   "metadata": {},
   "outputs": [],
   "source": [
    "use_window=False\n",
    "do_cov=False"
   ]
  },
  {
   "cell_type": "code",
   "execution_count": 10,
   "metadata": {
    "scrolled": true
   },
   "outputs": [],
   "source": [
    "z0=1 #1087\n",
    "zs_bin1=source_tomo_bins(zp=[z0],p_zp=np.array([1]),ns=30,use_window=use_window,nside=1024)"
   ]
  },
  {
   "cell_type": "code",
   "execution_count": 11,
   "metadata": {},
   "outputs": [],
   "source": [
    "use_binned_l=True"
   ]
  },
  {
   "cell_type": "code",
   "execution_count": 12,
   "metadata": {},
   "outputs": [
    {
     "name": "stdout",
     "output_type": "stream",
     "text": [
      "{('shear', 'shear'): [(0, 0)]} {'shear': 1, 'galaxy': 0, 'kappa': 0}\n",
      "Win gen: step size 313\n",
      "Window done\n",
      "{('shear', 'shear'): [(0, 0)]} {'shear': 1, 'galaxy': 0, 'kappa': 0}\n",
      "Win gen: step size 20\n",
      "Window done\n"
     ]
    },
    {
     "name": "stderr",
     "output_type": "stream",
     "text": [
      "./cov_utils.py:60: RuntimeWarning: invalid value encountered in true_divide\n",
      "  Win0=2*jn(1,l_th)/l_th\n"
     ]
    },
    {
     "name": "stdout",
     "output_type": "stream",
     "text": [
      "cl dict done dict_keys([('shear', 'shear')])\n",
      "cl dict done dict_keys([('shear', 'shear')])\n",
      "{('shear', 'shear'): [(0, 0)]} {'shear': 1, 'galaxy': 0, 'kappa': 0}\n",
      "Win gen: step size 313\n",
      "cl dict done dict_keys([('shear', 'shear')])\n",
      "cl dict done dict_keys([('shear', 'shear')])\n",
      "Window done\n"
     ]
    }
   ],
   "source": [
    "#use all ell\n",
    "kappa0=cov_3X2(zs_bins=zs_bin1,do_cov=do_cov,bin_cl=bin_cl,l_bins=l_bins,l=l0, zg_bins=None,\n",
    "                                       use_window=use_window,Tri_cov=Tri_cov,\n",
    "                                       use_binned_l=use_binned_l,wigner_files=wigner_files,\n",
    "                                       SSV_cov=SSV_cov,tidal_SSV_cov=tidal_SSV_cov,f_sky=0.35,\n",
    "                                       store_win=store_win,window_lmax=window_lmax\n",
    "                                       )"
   ]
  },
  {
   "cell_type": "code",
   "execution_count": 13,
   "metadata": {},
   "outputs": [
    {
     "name": "stdout",
     "output_type": "stream",
     "text": [
      "cl dict done dict_keys([('shear', 'shear')])\n",
      "CPU times: user 19.2 s, sys: 488 ms, total: 19.7 s\n",
      "Wall time: 13.3 s\n"
     ]
    }
   ],
   "source": [
    "%time cl0G=kappa0.cl_tomo() "
   ]
  },
  {
   "cell_type": "code",
   "execution_count": 14,
   "metadata": {},
   "outputs": [
    {
     "data": {
      "text/plain": [
       "(19,)"
      ]
     },
     "execution_count": 14,
     "metadata": {},
     "output_type": "execute_result"
    }
   ],
   "source": [
    "kappa0.l.shape"
   ]
  },
  {
   "cell_type": "code",
   "execution_count": 15,
   "metadata": {},
   "outputs": [
    {
     "data": {
      "text/plain": [
       "dict_keys([('shear', 'shear')])"
      ]
     },
     "execution_count": 15,
     "metadata": {},
     "output_type": "execute_result"
    }
   ],
   "source": [
    "cl0G['cl'].keys()"
   ]
  },
  {
   "cell_type": "code",
   "execution_count": 16,
   "metadata": {},
   "outputs": [
    {
     "name": "stdout",
     "output_type": "stream",
     "text": [
      "CPU times: user 122 ms, sys: 3.37 ms, total: 125 ms\n",
      "Wall time: 16.6 ms\n"
     ]
    }
   ],
   "source": [
    "%time cl0=cl0G['stack'].compute()"
   ]
  },
  {
   "cell_type": "code",
   "execution_count": 17,
   "metadata": {},
   "outputs": [],
   "source": [
    "do_xi=True\n",
    "bin_xi=True\n",
    "do_cov=False\n",
    "bin_cl=True\n",
    "th_min=2.5/60\n",
    "th_max=250./60\n",
    "n_th_bins=20\n",
    "th_bins=np.logspace(np.log10(th_min),np.log10(th_max),n_th_bins+1)\n",
    "th=np.logspace(np.log10(th_min),np.log10(th_max),n_th_bins*40)\n",
    "thb=np.sqrt(th_bins[1:]*th_bins[:-1])"
   ]
  },
  {
   "cell_type": "code",
   "execution_count": 18,
   "metadata": {},
   "outputs": [],
   "source": [
    "# import wigner_transform \n",
    "# reload(wigner_transform)\n",
    "# from wigner_transform import *\n",
    "\n",
    "import binning\n",
    "reload(binning)\n",
    "from binning import *"
   ]
  },
  {
   "cell_type": "code",
   "execution_count": 19,
   "metadata": {},
   "outputs": [],
   "source": [
    "#Hankel Transform setup\n",
    "HT_kwargs={'l':l0,'theta':th,'m1_m2':[(2,2),(2,-2)]}\n",
    "WT=wigner_transform(**HT_kwargs)"
   ]
  },
  {
   "cell_type": "code",
   "execution_count": 20,
   "metadata": {},
   "outputs": [],
   "source": [
    "import cov_3X2\n",
    "reload(cov_3X2)\n",
    "from cov_3X2 import *"
   ]
  },
  {
   "cell_type": "code",
   "execution_count": 21,
   "metadata": {},
   "outputs": [],
   "source": [
    "use_binned_theta=True"
   ]
  },
  {
   "cell_type": "code",
   "execution_count": 22,
   "metadata": {},
   "outputs": [
    {
     "name": "stdout",
     "output_type": "stream",
     "text": [
      "{('shear', 'shear'): [(0, 0)]} {'shear': 1, 'galaxy': 0, 'kappa': 0}\n",
      "Win gen: step size 313\n",
      "Window done\n"
     ]
    }
   ],
   "source": [
    "kappa_xi0=cov_3X2(zs_bins=zs_bin1,do_cov=do_cov,bin_cl=bin_cl,l_bins=l_bins,l=l0, zg_bins=None,\n",
    "                                       use_window=use_window,Tri_cov=Tri_cov,\n",
    "                                       wigner_files=wigner_files,\n",
    "                                       SSV_cov=SSV_cov,tidal_SSV_cov=tidal_SSV_cov,f_sky=0.35,\n",
    "                                       store_win=store_win,window_lmax=window_lmax,\n",
    "                                      do_xi=do_xi,bin_xi=bin_xi,theta_bins=th_bins,HT=WT,\n",
    "                                      use_binned_l=False,use_binned_theta=False\n",
    "                                       )"
   ]
  },
  {
   "cell_type": "code",
   "execution_count": 23,
   "metadata": {
    "scrolled": false
   },
   "outputs": [
    {
     "name": "stdout",
     "output_type": "stream",
     "text": [
      "{('shear', 'shear'): [(0, 0)]} {'shear': 1, 'galaxy': 0, 'kappa': 0}\n",
      "Win gen: step size 313\n",
      "Window done\n",
      "{('shear', 'shear'): [(0, 0)]} {'shear': 1, 'galaxy': 0, 'kappa': 0}\n",
      "Win gen: step size 20\n",
      "Window done\n",
      "{('shear', 'shear'): [(0, 0)]} {'shear': 1, 'galaxy': 0, 'kappa': 0}\n",
      "Win gen: step size 313\n",
      "Window done\n",
      "cl dict done dict_keys([('shear', 'shear')])\n",
      "cl dict done dict_keys([('shear', 'shear')])\n",
      "cl dict done dict_keys([('shear', 'shear')])\n",
      "cl dict done dict_keys([('shear', 'shear')])\n",
      "{('shear', 'shear'): [(0, 0)]} {'shear': 1, 'galaxy': 0, 'kappa': 0}\n",
      "Win gen: step size 313\n",
      "cl dict done dict_keys([('shear', 'shear')])\n",
      "cl dict done dict_keys([('shear', 'shear')])\n",
      "Window done\n"
     ]
    }
   ],
   "source": [
    "kappa_xib=cov_3X2(zs_bins=zs_bin1,do_cov=do_cov,bin_cl=bin_cl,l_bins=l_bins,l=l0, zg_bins=None,\n",
    "                                       use_window=use_window,Tri_cov=Tri_cov,\n",
    "                                       wigner_files=wigner_files,\n",
    "                                       SSV_cov=SSV_cov,tidal_SSV_cov=tidal_SSV_cov,f_sky=0.35,\n",
    "                                       store_win=store_win,window_lmax=window_lmax,\n",
    "                                      do_xi=do_xi,bin_xi=bin_xi,theta_bins=th_bins,HT=WT,\n",
    "                                      use_binned_l=use_binned_l,use_binned_theta=use_binned_theta\n",
    "                                       )"
   ]
  },
  {
   "cell_type": "code",
   "execution_count": 24,
   "metadata": {},
   "outputs": [
    {
     "name": "stdout",
     "output_type": "stream",
     "text": [
      "cl dict done dict_keys([('shear', 'shear')])\n",
      "CPU times: user 16.9 s, sys: 2.62 s, total: 19.5 s\n",
      "Wall time: 13 s\n"
     ]
    }
   ],
   "source": [
    "%time xiHG_b=kappa_xib.xi_tomo()"
   ]
  },
  {
   "cell_type": "code",
   "execution_count": 27,
   "metadata": {},
   "outputs": [
    {
     "name": "stdout",
     "output_type": "stream",
     "text": [
      "CPU times: user 6.71 ms, sys: 1.3 ms, total: 8.01 ms\n",
      "Wall time: 15.3 ms\n"
     ]
    }
   ],
   "source": [
    "%time xiH_b=xiHG_b['stack'].compute()"
   ]
  },
  {
   "cell_type": "code",
   "execution_count": 29,
   "metadata": {},
   "outputs": [
    {
     "name": "stdout",
     "output_type": "stream",
     "text": [
      "cl dict done dict_keys([('shear', 'shear')])\n",
      "CPU times: user 17.8 s, sys: 1.7 s, total: 19.5 s\n",
      "Wall time: 12.9 s\n",
      "CPU times: user 176 ms, sys: 162 ms, total: 338 ms\n",
      "Wall time: 23.4 ms\n"
     ]
    }
   ],
   "source": [
    "%time xiHG0=kappa_xi0.xi_tomo()\n",
    "%time xiH0=xiHG0['stack'].compute()"
   ]
  },
  {
   "cell_type": "code",
   "execution_count": 30,
   "metadata": {},
   "outputs": [
    {
     "data": {
      "text/plain": [
       "array([0.00000000e+00, 0.00000000e+00, 0.00000000e+00, 0.00000000e+00,\n",
       "       0.00000000e+00, 0.00000000e+00, 0.00000000e+00, 0.00000000e+00,\n",
       "       0.00000000e+00, 0.00000000e+00, 0.00000000e+00, 0.00000000e+00,\n",
       "       0.00000000e+00, 0.00000000e+00, 0.00000000e+00, 0.00000000e+00,\n",
       "       0.00000000e+00, 1.55128358e-06, 1.08317907e-06, 6.46518955e-07,\n",
       "       0.00000000e+00, 0.00000000e+00, 0.00000000e+00, 0.00000000e+00,\n",
       "       0.00000000e+00, 0.00000000e+00, 0.00000000e+00, 0.00000000e+00,\n",
       "       0.00000000e+00, 0.00000000e+00, 0.00000000e+00, 0.00000000e+00,\n",
       "       0.00000000e+00, 0.00000000e+00, 0.00000000e+00, 0.00000000e+00,\n",
       "       0.00000000e+00, 3.00315782e-06, 2.63244521e-06, 2.16202467e-06])"
      ]
     },
     "execution_count": 30,
     "metadata": {},
     "output_type": "execute_result"
    }
   ],
   "source": [
    "xiH0['xi']"
   ]
  },
  {
   "cell_type": "code",
   "execution_count": 31,
   "metadata": {},
   "outputs": [
    {
     "data": {
      "text/plain": [
       "array([0.00000000e+00, 0.00000000e+00, 0.00000000e+00, 0.00000000e+00,\n",
       "       0.00000000e+00, 0.00000000e+00, 0.00000000e+00, 0.00000000e+00,\n",
       "       0.00000000e+00, 0.00000000e+00, 0.00000000e+00, 0.00000000e+00,\n",
       "       0.00000000e+00, 0.00000000e+00, 0.00000000e+00, 0.00000000e+00,\n",
       "       0.00000000e+00, 1.14106370e-06, 6.59476871e-07, 2.27708561e-07,\n",
       "       0.00000000e+00, 0.00000000e+00, 0.00000000e+00, 0.00000000e+00,\n",
       "       0.00000000e+00, 0.00000000e+00, 0.00000000e+00, 0.00000000e+00,\n",
       "       0.00000000e+00, 0.00000000e+00, 0.00000000e+00, 0.00000000e+00,\n",
       "       0.00000000e+00, 0.00000000e+00, 0.00000000e+00, 0.00000000e+00,\n",
       "       0.00000000e+00, 3.02490036e-06, 2.63685408e-06, 2.16015253e-06])"
      ]
     },
     "execution_count": 31,
     "metadata": {},
     "output_type": "execute_result"
    }
   ],
   "source": [
    "xiH_b['xi']"
   ]
  },
  {
   "cell_type": "code",
   "execution_count": null,
   "metadata": {},
   "outputs": [],
   "source": []
  }
 ],
 "metadata": {
  "hide_input": false,
  "kernelspec": {
   "display_name": "Python36",
   "language": "python",
   "name": "py36"
  },
  "language_info": {
   "codemirror_mode": {
    "name": "ipython",
    "version": 3
   },
   "file_extension": ".py",
   "mimetype": "text/x-python",
   "name": "python",
   "nbconvert_exporter": "python",
   "pygments_lexer": "ipython3",
   "version": "3.6.8"
  }
 },
 "nbformat": 4,
 "nbformat_minor": 2
}
