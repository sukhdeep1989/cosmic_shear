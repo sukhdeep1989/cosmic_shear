{
 "cells": [
  {
   "cell_type": "code",
   "execution_count": 1,
   "metadata": {},
   "outputs": [],
   "source": [
    "import sys\n",
    "import pyccl as ccl\n",
    "import pickle\n",
    "import camb\n",
    "sys.path.insert(0,'./')\n",
    "# from importlib import reload"
   ]
  },
  {
   "cell_type": "code",
   "execution_count": 2,
   "metadata": {},
   "outputs": [],
   "source": [
    "from distributed import LocalCluster\n",
    "from dask.distributed import Client  # we already had this above\n",
    "#http://distributed.readthedocs.io/en/latest/_modules/distributed/worker.html\n",
    "c=LocalCluster(n_workers=1,processes=False,memory_limit='25gb',threads_per_worker=14,memory_spill_fraction=.99,\n",
    "               memory_monitor_interval='2000ms')\n",
    "client=Client(c)"
   ]
  },
  {
   "cell_type": "code",
   "execution_count": 3,
   "metadata": {},
   "outputs": [],
   "source": [
    "from skylens import *\n",
    "from survey_utils import *"
   ]
  },
  {
   "cell_type": "code",
   "execution_count": 4,
   "metadata": {},
   "outputs": [],
   "source": [
    "#only for python3\n",
    "import importlib\n",
    "reload=importlib.reload"
   ]
  },
  {
   "cell_type": "code",
   "execution_count": 5,
   "metadata": {},
   "outputs": [
    {
     "name": "stdout",
     "output_type": "stream",
     "text": [
      "ns0:  27.0\n"
     ]
    }
   ],
   "source": [
    "zs=lsst_source_tomo_bins()\n",
    "corr_ll=('shear', 'shear')"
   ]
  },
  {
   "cell_type": "code",
   "execution_count": 6,
   "metadata": {},
   "outputs": [],
   "source": [
    "wigner_files={}\n",
    "wigner_files[0]= '/Users/Deep/dask_temp/dask_wig3j_l3500_w2100_0_reorder.zarr'\n",
    "wigner_files[2]= '/Users/Deep/dask_temp/dask_wig3j_l3500_w2100_2_reorder.zarr'\n",
    "\n"
   ]
  },
  {
   "cell_type": "markdown",
   "metadata": {},
   "source": [
    "# Power Spectrum covariance"
   ]
  },
  {
   "cell_type": "code",
   "execution_count": 7,
   "metadata": {},
   "outputs": [],
   "source": [
    "#setup parameters\n",
    "lmax_cl=200\n",
    "lmin_cl=2\n",
    "l0=np.arange(lmin_cl,lmax_cl)\n",
    "\n",
    "lmin_cl_Bins=lmin_cl+10\n",
    "lmax_cl_Bins=lmax_cl-10\n",
    "Nl_bins=20\n",
    "l_bins=np.int64(np.logspace(np.log10(lmin_cl_Bins),np.log10(lmax_cl_Bins),Nl_bins))\n",
    "lb=np.sqrt(l_bins[1:]*l_bins[:-1])\n",
    "\n",
    "l=np.unique(np.int64(np.logspace(np.log10(lmin_cl),np.log10(lmax_cl),Nl_bins*20))) #if we want to use fewer ell\n",
    "\n",
    "do_cov=True\n",
    "bin_cl=True\n",
    "\n",
    "SSV_cov=True\n",
    "tidal_SSV_cov=False\n",
    "Tri_cov=True\n",
    "\n",
    "bin_xi=True\n",
    "theta_bins=np.logspace(np.log10(1./60),1,20)"
   ]
  },
  {
   "cell_type": "markdown",
   "metadata": {},
   "source": [
    "##  Test with 1 redshift bin"
   ]
  },
  {
   "cell_type": "code",
   "execution_count": 8,
   "metadata": {},
   "outputs": [],
   "source": [
    "store_win=True\n",
    "window_lmax=200"
   ]
  },
  {
   "cell_type": "code",
   "execution_count": 9,
   "metadata": {},
   "outputs": [],
   "source": [
    "use_window=True\n",
    "do_cov=True"
   ]
  },
  {
   "cell_type": "code",
   "execution_count": 10,
   "metadata": {
    "scrolled": true
   },
   "outputs": [
    {
     "name": "stdout",
     "output_type": "stream",
     "text": [
      "Win gen: step size 2137\n",
      "Window done\n"
     ]
    },
    {
     "name": "stderr",
     "output_type": "stream",
     "text": [
      "./cov_utils.py:54: RuntimeWarning: invalid value encountered in true_divide\n",
      "  Win0=2*jn(1,l_th)/l_th\n",
      "./angular_power_spectra.py:23: RuntimeWarning: divide by zero encountered in true_divide\n",
      "  self.cl_f=(l+0.5)**2/(l*(l+1.)) # cl correction from Kilbinger+ 2017\n"
     ]
    },
    {
     "name": "stdout",
     "output_type": "stream",
     "text": [
      "cl dict done dict_keys([('galaxy', 'galaxy')])\n"
     ]
    },
    {
     "name": "stderr",
     "output_type": "stream",
     "text": [
      "/Users/Deep/anaconda/envs/py36/lib/python3.6/site-packages/healpy/sphtfunc.py:401: FutureChangeWarning: The order of the input cl's will change in a future release.\n",
      "Use new=True keyword to start using the new order.\n",
      "See documentation of healpy.synalm.\n",
      "  category=FutureChangeWarning,\n"
     ]
    },
    {
     "name": "stdout",
     "output_type": "stream",
     "text": [
      "Sigma is 0.000000 arcmin (0.000000 rad) \n",
      "-> fwhm is 0.000000 arcmin\n"
     ]
    }
   ],
   "source": [
    "z0=1 #1087\n",
    "zs_bin1=source_tomo_bins(zp=[z0],p_zp=np.array([1]),ns=30,use_window=use_window,nside=1024)"
   ]
  },
  {
   "cell_type": "code",
   "execution_count": 11,
   "metadata": {},
   "outputs": [],
   "source": [
    "use_binned_l=False"
   ]
  },
  {
   "cell_type": "code",
   "execution_count": 12,
   "metadata": {},
   "outputs": [],
   "source": [
    "a={'a':1,'b':2}"
   ]
  },
  {
   "cell_type": "code",
   "execution_count": 13,
   "metadata": {},
   "outputs": [],
   "source": [
    "kk=list(a.keys())\n",
    "ii=len(kk)"
   ]
  },
  {
   "cell_type": "code",
   "execution_count": 14,
   "metadata": {},
   "outputs": [
    {
     "data": {
      "text/plain": [
       "[('a', 'a'), ('a', 'b'), ('b', 'b')]"
      ]
     },
     "execution_count": 14,
     "metadata": {},
     "output_type": "execute_result"
    }
   ],
   "source": [
    "[(kk[i],kk[j]) for i in np.arange(ii) for j in np.arange(i,ii)]"
   ]
  },
  {
   "cell_type": "code",
   "execution_count": 15,
   "metadata": {},
   "outputs": [],
   "source": [
    "import skylens\n",
    "reload(skylens)\n",
    "from skylens import *"
   ]
  },
  {
   "cell_type": "code",
   "execution_count": 16,
   "metadata": {},
   "outputs": [],
   "source": [
    "store_win=True"
   ]
  },
  {
   "cell_type": "code",
   "execution_count": 17,
   "metadata": {},
   "outputs": [
    {
     "name": "stdout",
     "output_type": "stream",
     "text": [
      "Win gen: step size 199\n",
      "wigner_files: {0: '/Users/Deep/dask_temp/dask_wig3j_l3500_w2100_0_reorder.zarr', 2: '/Users/Deep/dask_temp/dask_wig3j_l3500_w2100_2_reorder.zarr'}\n",
      "wigner done dict_keys([0, 2])\n",
      "setting windows <Client: 'inproc://192.168.86.48/50174/1' processes=1 threads=14, memory=25.00 GB>\n",
      "got window cls, now to coupling matrices.\n",
      "done coupling submatrix  0 2.540329933166504 1.7447459697723389 0.795583963394165\n",
      "Window done\n"
     ]
    }
   ],
   "source": [
    "#use all ell\n",
    "kappa0=Skylens(zs_bins=zs_bin1,do_cov=do_cov,bin_cl=bin_cl,l_bins=l_bins,l=l0, zg_bins=None,\n",
    "                                       use_window=use_window,Tri_cov=Tri_cov,\n",
    "                                       use_binned_l=use_binned_l,wigner_files=wigner_files,\n",
    "                                       SSV_cov=SSV_cov,tidal_SSV_cov=tidal_SSV_cov,f_sky=0.35,\n",
    "                                       store_win=store_win,window_lmax=window_lmax\n",
    "                                       )"
   ]
  },
  {
   "cell_type": "code",
   "execution_count": 18,
   "metadata": {},
   "outputs": [
    {
     "data": {
      "image/png": "[encoded data removed]",
      "text/plain": [
       "<IPython.core.display.Image object>"
      ]
     },
     "execution_count": 18,
     "metadata": {},
     "output_type": "execute_result"
    }
   ],
   "source": [
    "dask.visualize(kappa0.Win.Win)"
   ]
  },
  {
   "cell_type": "code",
   "execution_count": 19,
   "metadata": {},
   "outputs": [
    {
     "name": "stdout",
     "output_type": "stream",
     "text": [
      "cl dict done dict_keys([('shear', 'shear')])\n",
      "CPU times: user 17.4 s, sys: 3.86 s, total: 21.2 s\n",
      "Wall time: 14.8 s\n"
     ]
    }
   ],
   "source": [
    "%time cl0G=kappa0.cl_tomo() "
   ]
  },
  {
   "cell_type": "code",
   "execution_count": 20,
   "metadata": {},
   "outputs": [
    {
     "data": {
      "text/plain": [
       "(198,)"
      ]
     },
     "execution_count": 20,
     "metadata": {},
     "output_type": "execute_result"
    }
   ],
   "source": [
    "kappa0.l.shape"
   ]
  },
  {
   "cell_type": "code",
   "execution_count": 21,
   "metadata": {},
   "outputs": [
    {
     "name": "stdout",
     "output_type": "stream",
     "text": [
      "CPU times: user 111 ms, sys: 348 ms, total: 459 ms\n",
      "Wall time: 34.9 ms\n"
     ]
    }
   ],
   "source": [
    "%time cl0=cl0G['stack'].compute()"
   ]
  },
  {
   "cell_type": "code",
   "execution_count": 22,
   "metadata": {},
   "outputs": [],
   "source": [
    "do_xi=True\n",
    "bin_xi=True\n",
    "do_cov=False\n",
    "bin_cl=True\n",
    "th_min=2.5/60\n",
    "th_max=250./60\n",
    "n_th_bins=20\n",
    "th_bins=np.logspace(np.log10(th_min),np.log10(th_max),n_th_bins+1)\n",
    "th=np.logspace(np.log10(th_min),np.log10(th_max),n_th_bins*40)\n",
    "thb=np.sqrt(th_bins[1:]*th_bins[:-1])"
   ]
  },
  {
   "cell_type": "code",
   "execution_count": 23,
   "metadata": {},
   "outputs": [],
   "source": [
    "# import wigner_transform \n",
    "# reload(wigner_transform)\n",
    "# from wigner_transform import *\n",
    "\n",
    "import binning\n",
    "reload(binning)\n",
    "from binning import *"
   ]
  },
  {
   "cell_type": "code",
   "execution_count": 24,
   "metadata": {},
   "outputs": [],
   "source": [
    "#Hankel Transform setup\n",
    "HT_kwargs={'l':l0,'theta':th,'m1_m2':[(2,2),(2,-2)]}\n",
    "WT=wigner_transform(**HT_kwargs)"
   ]
  },
  {
   "cell_type": "code",
   "execution_count": 25,
   "metadata": {},
   "outputs": [],
   "source": [
    "import skylens\n",
    "reload(skylens)\n",
    "from skylens import *"
   ]
  },
  {
   "cell_type": "code",
   "execution_count": 26,
   "metadata": {},
   "outputs": [],
   "source": [
    "use_binned_theta=True"
   ]
  },
  {
   "cell_type": "code",
   "execution_count": 27,
   "metadata": {},
   "outputs": [
    {
     "name": "stderr",
     "output_type": "stream",
     "text": [
      "./cov_utils.py:54: RuntimeWarning: invalid value encountered in true_divide\n",
      "  Win0=2*jn(1,l_th)/l_th\n"
     ]
    },
    {
     "name": "stdout",
     "output_type": "stream",
     "text": [
      "Win gen: step size 199\n",
      "Warning: window for xi is different from cl. Only one of xi or cl is supported. Hence cl window will be wrong.\n",
      "wigner_files: {0: '/Users/Deep/dask_temp/dask_wig3j_l3500_w2100_0_reorder.zarr', 2: '/Users/Deep/dask_temp/dask_wig3j_l3500_w2100_2_reorder.zarr'}\n",
      "wigner done dict_keys([0, 2])\n",
      "setting windows <Client: 'inproc://192.168.86.48/50174/1' processes=1 threads=14, memory=25.00 GB>\n",
      "got window cls, now to coupling matrices.\n",
      "done coupling submatrix  0 2.825939893722534 2.2820489406585693 0.5438909530639648\n",
      "Window done\n"
     ]
    }
   ],
   "source": [
    "kappa_xi0=Skylens(zs_bins=zs_bin1,do_cov=do_cov,bin_cl=bin_cl,l_bins=l_bins,l=l0, zg_bins=None,\n",
    "                                       use_window=use_window,Tri_cov=Tri_cov,\n",
    "                                       wigner_files=wigner_files,\n",
    "                                       SSV_cov=SSV_cov,tidal_SSV_cov=tidal_SSV_cov,f_sky=0.35,\n",
    "                                       store_win=store_win,window_lmax=window_lmax,\n",
    "                                      do_xi=do_xi,bin_xi=bin_xi,theta_bins=th_bins,WT=WT,\n",
    "                                      use_binned_l=False,use_binned_theta=False\n",
    "                                       )"
   ]
  },
  {
   "cell_type": "code",
   "execution_count": null,
   "metadata": {},
   "outputs": [],
   "source": [
    "%time xiHG0=kappa_xi0.xi_tomo()\n",
    "%time xiH0=xiHG0['stack'].compute()"
   ]
  },
  {
   "cell_type": "code",
   "execution_count": 28,
   "metadata": {
    "scrolled": false
   },
   "outputs": [
    {
     "name": "stdout",
     "output_type": "stream",
     "text": [
      "not setting corr_indxs False True\n",
      "Win gen: step size 199\n",
      "Window done\n",
      "not setting corr_indxs False True\n",
      "Win gen: step size 20\n",
      "Window done\n",
      "not setting corr_indxs False True\n",
      "Win gen: step size 199\n",
      "Window done\n",
      "cl dict done dict_keys([('shear', 'shear')])\n",
      "cl dict done dict_keys([('shear', 'shear')])\n",
      "cl dict done dict_keys([('shear', 'shear')])\n",
      "cl dict done dict_keys([('shear', 'shear')])\n",
      "not setting corr_indxs False True\n"
     ]
    },
    {
     "ename": "KeyError",
     "evalue": "(2, 2)",
     "output_type": "error",
     "traceback": [
      "\u001b[0;31m---------------------------------------------------------------------------\u001b[0m",
      "\u001b[0;31mKeyError\u001b[0m                                  Traceback (most recent call last)",
      "\u001b[0;32m<ipython-input-28-3fcb5ded17f1>\u001b[0m in \u001b[0;36m<module>\u001b[0;34m\u001b[0m\n\u001b[1;32m      5\u001b[0m                                        \u001b[0mstore_win\u001b[0m\u001b[0;34m=\u001b[0m\u001b[0mstore_win\u001b[0m\u001b[0;34m,\u001b[0m\u001b[0mwindow_lmax\u001b[0m\u001b[0;34m=\u001b[0m\u001b[0mwindow_lmax\u001b[0m\u001b[0;34m,\u001b[0m\u001b[0;34m\u001b[0m\u001b[0;34m\u001b[0m\u001b[0m\n\u001b[1;32m      6\u001b[0m                                       \u001b[0mdo_xi\u001b[0m\u001b[0;34m=\u001b[0m\u001b[0mdo_xi\u001b[0m\u001b[0;34m,\u001b[0m\u001b[0mbin_xi\u001b[0m\u001b[0;34m=\u001b[0m\u001b[0mbin_xi\u001b[0m\u001b[0;34m,\u001b[0m\u001b[0mtheta_bins\u001b[0m\u001b[0;34m=\u001b[0m\u001b[0mth_bins\u001b[0m\u001b[0;34m,\u001b[0m\u001b[0mWT\u001b[0m\u001b[0;34m=\u001b[0m\u001b[0mWT\u001b[0m\u001b[0;34m,\u001b[0m\u001b[0;34m\u001b[0m\u001b[0;34m\u001b[0m\u001b[0m\n\u001b[0;32m----> 7\u001b[0;31m                                       \u001b[0muse_binned_l\u001b[0m\u001b[0;34m=\u001b[0m\u001b[0muse_binned_l\u001b[0m\u001b[0;34m,\u001b[0m\u001b[0muse_binned_theta\u001b[0m\u001b[0;34m=\u001b[0m\u001b[0muse_binned_theta\u001b[0m\u001b[0;34m\u001b[0m\u001b[0;34m\u001b[0m\u001b[0m\n\u001b[0m\u001b[1;32m      8\u001b[0m                                        )\n",
      "\u001b[0;32m~/BOX/Box Sync/repos/cosmic_shear/skylens.py\u001b[0m in \u001b[0;36m__init__\u001b[0;34m(self, l, WT, Ang_PS, cov_utils, logger, tracer_utils, zs_bins, zk_bins, zg_bins, galaxy_bias_func, power_spectra_kwargs, WT_kwargs, z_PS, nz_PS, log_z_PS, do_cov, SSV_cov, tidal_SSV_cov, do_sample_variance, Tri_cov, use_window, window_lmax, store_win, Win, f_sky, l_bins, bin_cl, use_binned_l, stack_data, bin_xi, do_xi, theta_bins, use_binned_theta, xi_win_approx, corrs, corr_indxs, wigner_files, name)\u001b[0m\n\u001b[1;32m     61\u001b[0m \u001b[0;34m\u001b[0m\u001b[0m\n\u001b[1;32m     62\u001b[0m         \u001b[0mself\u001b[0m\u001b[0;34m.\u001b[0m\u001b[0mset_WT_spins\u001b[0m\u001b[0;34m(\u001b[0m\u001b[0;34m)\u001b[0m\u001b[0;34m\u001b[0m\u001b[0;34m\u001b[0m\u001b[0m\n\u001b[0;32m---> 63\u001b[0;31m         \u001b[0mself\u001b[0m\u001b[0;34m.\u001b[0m\u001b[0mset_WT_binned\u001b[0m\u001b[0;34m(\u001b[0m\u001b[0;34m)\u001b[0m\u001b[0;34m\u001b[0m\u001b[0;34m\u001b[0m\u001b[0m\n\u001b[0m\u001b[1;32m     64\u001b[0m \u001b[0;34m\u001b[0m\u001b[0m\n\u001b[1;32m     65\u001b[0m         \u001b[0mself\u001b[0m\u001b[0;34m.\u001b[0m\u001b[0mz_bins\u001b[0m\u001b[0;34m=\u001b[0m\u001b[0mself\u001b[0m\u001b[0;34m.\u001b[0m\u001b[0mtracer_utils\u001b[0m\u001b[0;34m.\u001b[0m\u001b[0mz_bins\u001b[0m\u001b[0;34m\u001b[0m\u001b[0;34m\u001b[0m\u001b[0m\n",
      "\u001b[0;32m~/BOX/Box Sync/repos/cosmic_shear/skylens.py\u001b[0m in \u001b[0;36mset_WT_binned\u001b[0;34m(self)\u001b[0m\n\u001b[1;32m    239\u001b[0m                         \u001b[0ms1_s2\u001b[0m\u001b[0;34m=\u001b[0m\u001b[0ms1_s2s\u001b[0m\u001b[0;34m[\u001b[0m\u001b[0mim\u001b[0m\u001b[0;34m]\u001b[0m\u001b[0;34m\u001b[0m\u001b[0;34m\u001b[0m\u001b[0m\n\u001b[1;32m    240\u001b[0m                         self.WT_binned[corr][s1_s2][indxs]=self.binning.bin_2d_WT(\n\u001b[0;32m--> 241\u001b[0;31m                                                             \u001b[0mwig_mat\u001b[0m\u001b[0;34m=\u001b[0m\u001b[0mself\u001b[0m\u001b[0;34m.\u001b[0m\u001b[0mWT\u001b[0m\u001b[0;34m.\u001b[0m\u001b[0mwig_d\u001b[0m\u001b[0;34m[\u001b[0m\u001b[0ms1_s2\u001b[0m\u001b[0;34m]\u001b[0m\u001b[0;34m*\u001b[0m\u001b[0mself\u001b[0m\u001b[0;34m.\u001b[0m\u001b[0mWT\u001b[0m\u001b[0;34m.\u001b[0m\u001b[0mgrad_l\u001b[0m\u001b[0;34m*\u001b[0m\u001b[0mself\u001b[0m\u001b[0;34m.\u001b[0m\u001b[0mWT\u001b[0m\u001b[0;34m.\u001b[0m\u001b[0mnorm\u001b[0m\u001b[0;34m,\u001b[0m\u001b[0;34m\u001b[0m\u001b[0;34m\u001b[0m\u001b[0m\n\u001b[0m\u001b[1;32m    242\u001b[0m                                                                 \u001b[0mwt0\u001b[0m\u001b[0;34m=\u001b[0m\u001b[0mcl0\u001b[0m\u001b[0;34m,\u001b[0m\u001b[0mwt_b\u001b[0m\u001b[0;34m=\u001b[0m\u001b[0;36m1.\u001b[0m\u001b[0;34m/\u001b[0m\u001b[0mcl_b\u001b[0m\u001b[0;34m,\u001b[0m\u001b[0mbin_utils_cl\u001b[0m\u001b[0;34m=\u001b[0m\u001b[0mself\u001b[0m\u001b[0;34m.\u001b[0m\u001b[0mcl_bin_utils\u001b[0m\u001b[0;34m,\u001b[0m\u001b[0;34m\u001b[0m\u001b[0;34m\u001b[0m\u001b[0m\n\u001b[1;32m    243\u001b[0m                                                                 bin_utils_xi=self.xi_bin_utils[s1_s2])\n",
      "\u001b[0;31mKeyError\u001b[0m: (2, 2)"
     ]
    }
   ],
   "source": [
    "kappa_xib=Skylens(zs_bins=zs_bin1,do_cov=do_cov,bin_cl=bin_cl,l_bins=l_bins,l=l0, zg_bins=None,\n",
    "                                       use_window=use_window,Tri_cov=Tri_cov,\n",
    "                                       wigner_files=wigner_files,\n",
    "                                       SSV_cov=SSV_cov,tidal_SSV_cov=tidal_SSV_cov,f_sky=0.35,\n",
    "                                       store_win=store_win,window_lmax=window_lmax,\n",
    "                                      do_xi=do_xi,bin_xi=bin_xi,theta_bins=th_bins,WT=WT,\n",
    "                                      use_binned_l=use_binned_l,use_binned_theta=use_binned_theta\n",
    "                                       )"
   ]
  },
  {
   "cell_type": "code",
   "execution_count": null,
   "metadata": {},
   "outputs": [],
   "source": [
    "%time xiHG_b=kappa_xib.xi_tomo()"
   ]
  },
  {
   "cell_type": "code",
   "execution_count": null,
   "metadata": {},
   "outputs": [],
   "source": [
    "%time xiH_b=xiHG_b['stack'].compute()"
   ]
  },
  {
   "cell_type": "code",
   "execution_count": null,
   "metadata": {},
   "outputs": [],
   "source": [
    "%time xiHG0=kappa_xi0.xi_tomo()\n",
    "%time xiH0=xiHG0['stack'].compute()"
   ]
  },
  {
   "cell_type": "code",
   "execution_count": null,
   "metadata": {},
   "outputs": [],
   "source": [
    "xiH0['xi']"
   ]
  },
  {
   "cell_type": "code",
   "execution_count": null,
   "metadata": {},
   "outputs": [],
   "source": [
    "xiH_b['xi']"
   ]
  },
  {
   "cell_type": "code",
   "execution_count": null,
   "metadata": {},
   "outputs": [],
   "source": []
  },
  {
   "cell_type": "code",
   "execution_count": null,
   "metadata": {},
   "outputs": [],
   "source": []
  }
 ],
 "metadata": {
  "hide_input": false,
  "kernelspec": {
   "display_name": "Python36",
   "language": "python",
   "name": "py36"
  },
  "language_info": {
   "codemirror_mode": {
    "name": "ipython",
    "version": 3
   },
   "file_extension": ".py",
   "mimetype": "text/x-python",
   "name": "python",
   "nbconvert_exporter": "python",
   "pygments_lexer": "ipython3",
   "version": "3.6.8"
  }
 },
 "nbformat": 4,
 "nbformat_minor": 2
}
